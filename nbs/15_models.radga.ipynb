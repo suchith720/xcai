{
 "cells": [
  {
   "cell_type": "code",
   "execution_count": null,
   "id": "7dd48060",
   "metadata": {},
   "outputs": [],
   "source": [
    "#| default_exp models.radga"
   ]
  },
  {
   "cell_type": "code",
   "execution_count": null,
   "id": "9d95873c",
   "metadata": {},
   "outputs": [],
   "source": [
    "%load_ext autoreload\n",
    "%autoreload 2"
   ]
  },
  {
   "cell_type": "code",
   "execution_count": null,
   "id": "e2fc4a5d",
   "metadata": {},
   "outputs": [
    {
     "name": "stderr",
     "output_type": "stream",
     "text": [
      "comet_ml is installed but `COMET_API_KEY` is not set.\n"
     ]
    }
   ],
   "source": [
    "#| export\n",
    "import torch, re, inspect, pickle, os, torch.nn as nn, math\n",
    "import torch.nn.functional as F\n",
    "from dataclasses import dataclass\n",
    "from typing import Optional, List, Tuple, Mapping, Any, Union\n",
    "from transformers import (\n",
    "    PretrainedConfig,\n",
    "    DistilBertForMaskedLM,\n",
    "    DistilBertModel,\n",
    "    DistilBertPreTrainedModel,\n",
    ")\n",
    "from transformers.utils.generic import ModelOutput\n",
    "from transformers.activations import get_activation\n",
    "\n",
    "from fastcore.meta import *\n",
    "from fastcore.utils import *\n",
    "\n",
    "from xcai.losses import *\n",
    "from xcai.core import store_attr\n",
    "from xcai.learner import XCDataParallel"
   ]
  },
  {
   "cell_type": "code",
   "execution_count": null,
   "id": "4ee9b3d6",
   "metadata": {},
   "outputs": [],
   "source": [
    "from nbdev.showdoc import *\n",
    "import nbdev; nbdev.nbdev_export()"
   ]
  },
  {
   "cell_type": "code",
   "execution_count": null,
   "id": "26c00009",
   "metadata": {},
   "outputs": [],
   "source": [
    "from transformers import AutoConfig\n",
    "from xcai.block import *"
   ]
  },
  {
   "cell_type": "markdown",
   "id": "432ede14",
   "metadata": {},
   "source": [
    "## Setup"
   ]
  },
  {
   "cell_type": "code",
   "execution_count": null,
   "id": "1ff9c458",
   "metadata": {},
   "outputs": [],
   "source": [
    "os.environ['CUDA_VISIBLE_DEVICES'] = \"0,1\""
   ]
  },
  {
   "cell_type": "code",
   "execution_count": null,
   "id": "4cc269b8",
   "metadata": {},
   "outputs": [],
   "source": [
    "data_dir = '/home/scai/phd/aiz218323/Projects/XC/data/'"
   ]
  },
  {
   "cell_type": "code",
   "execution_count": null,
   "id": "8bb671af",
   "metadata": {},
   "outputs": [
    {
     "name": "stderr",
     "output_type": "stream",
     "text": [
      "/home/scai/phd/aiz218323/.local/lib/python3.9/site-packages/xclib-0.97-py3.9-linux-x86_64.egg/xclib/data/data_utils.py:263: UserWarning: Header mis-match from inferred shape!\n",
      "  warnings.warn(\"Header mis-match from inferred shape!\")\n"
     ]
    }
   ],
   "source": [
    "block = XCBlock.from_cfg(data_dir, 'data_metas', tfm='rm', tokenizer='distilbert-base-uncased', \n",
    "                         smp_features=[('lbl2data|cat2lbl2data',1,(1,3)), ('cat2data',1,3)])"
   ]
  },
  {
   "cell_type": "code",
   "execution_count": null,
   "id": "36f3da90-d45a-40eb-bfeb-de65aa6cde4e",
   "metadata": {},
   "outputs": [],
   "source": []
  },
  {
   "cell_type": "code",
   "execution_count": null,
   "id": "9a6e9a21",
   "metadata": {},
   "outputs": [],
   "source": [
    "data_dir = '/home/scai/phd/aiz218323/scratch/datasets/'\n",
    "pkl_file = f'{data_dir}/processed/wikiseealso_data-metas_distilbert-base-uncased_rm_radga-final.pkl'"
   ]
  },
  {
   "cell_type": "code",
   "execution_count": null,
   "id": "17bbab5c-d0c8-4deb-932f-c142403bbbee",
   "metadata": {},
   "outputs": [
    {
     "name": "stdout",
     "output_type": "stream",
     "text": [
      "wikiseealso_data_distilbert-base-uncased_rm_ngame.pkl\n",
      "wikiseealso_data_distilbert-base-uncased_xcnlg_ngame.pkl\n",
      "wikiseealso_data-meta_distilbert-base-uncased_rm_ramen-cat.pkl\n",
      "wikiseealso_data-metas_distilbert-base-uncased_rm_radga-aug-cat-block-032.pkl\n",
      "wikiseealso_data-metas_distilbert-base-uncased_rm_radga-aug-cat-hlk-block-032.pkl\n",
      "wikiseealso_data-metas_distilbert-base-uncased_rm_radga-cat-final.pkl\n",
      "wikiseealso_data-metas_distilbert-base-uncased_rm_radga-final-aug-cat.pkl\n",
      "wikiseealso_data-metas_distilbert-base-uncased_rm_radga-final-aug-hlk.pkl\n",
      "wikiseealso_data-metas_distilbert-base-uncased_rm_radga-final.pkl\n"
     ]
    }
   ],
   "source": [
    "!ls {data_dir}/processed"
   ]
  },
  {
   "cell_type": "code",
   "execution_count": null,
   "id": "1c94ab04-6be6-4d48-ad22-194adfa0315e",
   "metadata": {},
   "outputs": [],
   "source": [
    "pkl_file = f'{data_dir}/processed/wikiseealso_data-metas_distilbert-base-uncased_rm_radga-cat-final.pkl'"
   ]
  },
  {
   "cell_type": "code",
   "execution_count": null,
   "id": "04c1d105-6978-44b6-a9c9-851220d03e09",
   "metadata": {},
   "outputs": [],
   "source": [
    "pkl_dir = '/home/scai/phd/aiz218323/scratch/datasets'\n",
    "pkl_file = f'{pkl_dir}/processed/wikiseealso_data-meta_distilbert-base-uncased_rm_ramen-cat.pkl'"
   ]
  },
  {
   "cell_type": "code",
   "execution_count": null,
   "id": "f843bd7a-d18c-4f44-bd4b-c56064ee937f",
   "metadata": {},
   "outputs": [],
   "source": [
    "with open(pkl_file, 'wb') as file: pickle.dump(block, file)"
   ]
  },
  {
   "cell_type": "code",
   "execution_count": null,
   "id": "9e9f4c9b",
   "metadata": {},
   "outputs": [],
   "source": [
    "with open(pkl_file, 'rb') as file: block = pickle.load(file)"
   ]
  },
  {
   "cell_type": "code",
   "execution_count": null,
   "id": "52d2a696-63d9-4ba2-b80f-4744442ce058",
   "metadata": {},
   "outputs": [],
   "source": []
  },
  {
   "cell_type": "code",
   "execution_count": null,
   "id": "c50e879f",
   "metadata": {},
   "outputs": [],
   "source": [
    "batch = block.train.one_batch(5)\n",
    "for i,batch in enumerate(block.train.dl):\n",
    "    if i > 2: break"
   ]
  },
  {
   "cell_type": "markdown",
   "id": "a63666b5",
   "metadata": {},
   "source": [
    "## Helper"
   ]
  },
  {
   "cell_type": "code",
   "execution_count": null,
   "id": "9802846f",
   "metadata": {},
   "outputs": [],
   "source": [
    "#| export\n",
    "@dataclass\n",
    "class RADOutput(ModelOutput):\n",
    "    loss: Optional[torch.FloatTensor] = None\n",
    "    logits: Optional[torch.FloatTensor] = None\n",
    "    data_repr: Optional[torch.FloatTensor] = None\n",
    "    data_fused_repr: Optional[torch.FloatTensor] = None\n",
    "    lbl2data_repr: Optional[torch.FloatTensor] = None\n",
    "    lbl2data_fused_repr: Optional[torch.FloatTensor] = None\n",
    "        "
   ]
  },
  {
   "cell_type": "code",
   "execution_count": null,
   "id": "5fc40c8e",
   "metadata": {},
   "outputs": [],
   "source": [
    "#| export\n",
    "@dataclass\n",
    "class EncoderOutput(ModelOutput):\n",
    "    rep: Optional[torch.FloatTensor] = None\n",
    "    fused_rep: Optional[torch.FloatTensor] = None\n",
    "    logits: Optional[torch.FloatTensor] = None\n",
    "    fusion_weights: Optional[torch.FloatTensor] = None\n",
    "    meta_repr: Optional[torch.FloatTensor] = None\n",
    "        "
   ]
  },
  {
   "cell_type": "code",
   "execution_count": null,
   "id": "0ed3c1c9",
   "metadata": {},
   "outputs": [],
   "source": [
    "#| export\n",
    "class Pooling:\n",
    "\n",
    "    @staticmethod\n",
    "    def mean_pooling(data_embeds:torch.FloatTensor, data_attention_mask:torch.LongTensor):\n",
    "        data_attention_mask = data_attention_mask.unsqueeze(2).expand(data_embeds.size()).float()\n",
    "        return torch.sum(data_embeds * data_attention_mask, 1) / torch.clamp(data_attention_mask.sum(1), min=1e-9)\n"
   ]
  },
  {
   "cell_type": "markdown",
   "id": "0f97b11c",
   "metadata": {},
   "source": [
    "## CrossAttention"
   ]
  },
  {
   "cell_type": "code",
   "execution_count": null,
   "id": "3a92acab",
   "metadata": {},
   "outputs": [],
   "source": [
    "#| export\n",
    "class CrossAttention(nn.Module):\n",
    "    \n",
    "    def __init__(self, config: PretrainedConfig):\n",
    "        super().__init__()\n",
    "        self.config, self.n_h, self.dim = config, config.n_heads, config.dim\n",
    "        self.dropout = nn.Dropout(p=config.attention_dropout)\n",
    "\n",
    "        if self.dim % self.n_h != 0:\n",
    "            raise ValueError(f\"self.n_heads: {self.n_h} must divide self.dim: {self.dim} evenly.\")\n",
    "            \n",
    "        self.q = nn.Linear(in_features=config.dim, out_features=config.dim)\n",
    "        self.k = nn.Linear(in_features=config.dim, out_features=config.dim)\n",
    "        self.v = nn.Linear(in_features=config.dim, out_features=config.dim)\n",
    "        self.o = nn.Linear(in_features=config.dim, out_features=config.dim)\n",
    "\n",
    "    def post_init(self):\n",
    "        self.q.weight.data = torch.eye(self.q.out_features, self.q.in_features, dtype=self.q.weight.dtype)\n",
    "        self.k.weight.data = torch.eye(self.k.out_features, self.k.in_features, dtype=self.k.weight.dtype)\n",
    "        self.v.weight.data = torch.eye(self.v.out_features, self.v.in_features, dtype=self.v.weight.dtype)\n",
    "        self.o.weight.data = torch.eye(self.o.out_features, self.o.in_features, dtype=self.o.weight.dtype)\n",
    "\n",
    "    def forward(\n",
    "        self, \n",
    "        q: torch.Tensor,\n",
    "        q_m: torch.Tensor,\n",
    "        k: torch.Tensor, \n",
    "        k_m: torch.Tensor,\n",
    "        output_attentions:Optional[bool] = False,\n",
    "    ):\n",
    "        bs, q_len, dim = q.size()\n",
    "        v, k_len = k, k.size(1) \n",
    "\n",
    "        h_dim = self.dim//self.n_h\n",
    "\n",
    "        def shape(x: torch.Tensor): return x.view(bs, -1, self.n_h, h_dim).transpose(1, 2)\n",
    "\n",
    "        def unshape(x: torch.Tensor): return x.transpose(1, 2).contiguous().view(bs, -1, self.n_h * h_dim)\n",
    "\n",
    "        q = shape(self.q(q))  # (bs, n_h, q_len, h_dim)\n",
    "        k = shape(self.k(k))  # (bs, n_h, k_len, h_dim)\n",
    "        v = shape(self.v(v))  # (bs, n_h, k_len, h_dim)\n",
    "\n",
    "        q = q / math.sqrt(h_dim)  # (bs, n_h, q_len, h_dim)\n",
    "        sc = torch.matmul(q, k.transpose(2, 3))  # (bs, n_h, q_len, k_len)\n",
    "        \n",
    "        q_m, k_m = q_m.view(bs, 1, -1, 1).to(q.dtype), k_m.view(bs, 1, 1, -1).to(q.dtype)\n",
    "        mask = torch.matmul(q_m, k_m).expand_as(sc)  # (bs, n_h, q_len, k_len)\n",
    "        \n",
    "        sc = sc.masked_fill(mask == 0, torch.tensor(torch.finfo(sc.dtype).min))  # (bs, n_h, q_len, k_len)\n",
    "\n",
    "        w = nn.functional.softmax(sc, dim=-1)  # (bs, n_h, q_len, k_len)\n",
    "        w = self.dropout(w)  # (bs, n_h, q_len, k_len)\n",
    "\n",
    "        o = self.o(unshape(torch.matmul(w, v))) # (bs, q_len, dim)\n",
    "        \n",
    "        if output_attentions: return (o, w)\n",
    "        else: return (o,)\n",
    "        "
   ]
  },
  {
   "cell_type": "markdown",
   "id": "8258a231",
   "metadata": {},
   "source": [
    "### Example"
   ]
  },
  {
   "cell_type": "code",
   "execution_count": null,
   "id": "6361ebd1",
   "metadata": {},
   "outputs": [
    {
     "name": "stderr",
     "output_type": "stream",
     "text": [
      "/opt/conda/envs/ptca/lib/python3.9/site-packages/huggingface_hub/file_download.py:1132: FutureWarning: `resume_download` is deprecated and will be removed in version 1.0.0. Downloads always resume when possible. If you want to force a new download, use `force_download=True`.\n",
      "  warnings.warn(\n"
     ]
    }
   ],
   "source": [
    "config = AutoConfig.from_pretrained('distilbert-base-uncased')\n",
    "fuser = CrossAttention(config)"
   ]
  },
  {
   "cell_type": "code",
   "execution_count": null,
   "id": "7ec047a1",
   "metadata": {},
   "outputs": [],
   "source": [
    "bsz, data_seq_len, meta_seq_len, dim, dtype = 10, 14, 17, config.dim, torch.float32\n",
    "data, meta = torch.randn(bsz, data_seq_len, dim, dtype=dtype), torch.randn(bsz, meta_seq_len, dim, dtype=dtype)\n",
    "data_mask = torch.randint(0, 2, size=(bsz,data_seq_len), dtype=dtype)\n",
    "meta_mask = torch.randint(0, 2, size=(bsz,meta_seq_len), dtype=dtype)"
   ]
  },
  {
   "cell_type": "code",
   "execution_count": null,
   "id": "aa41c03b",
   "metadata": {},
   "outputs": [],
   "source": [
    "o = fuser(data, data_mask, meta, meta_mask)"
   ]
  },
  {
   "cell_type": "code",
   "execution_count": null,
   "id": "30d426e0",
   "metadata": {},
   "outputs": [
    {
     "data": {
      "text/plain": [
       "torch.Size([10, 14, 768])"
      ]
     },
     "execution_count": null,
     "metadata": {},
     "output_type": "execute_result"
    }
   ],
   "source": [
    "o[0].shape"
   ]
  },
  {
   "cell_type": "markdown",
   "id": "a46f75c9",
   "metadata": {},
   "source": [
    "## Blocks"
   ]
  },
  {
   "cell_type": "code",
   "execution_count": null,
   "id": "60e25a1a",
   "metadata": {},
   "outputs": [],
   "source": [
    "#| export\n",
    "class RepresentationHead(nn.Module):\n",
    "    \n",
    "    def __init__(self, config):\n",
    "        super().__init__()\n",
    "        self.transform = nn.Linear(config.dim, config.dim)\n",
    "        self.layer_norm = nn.LayerNorm(config.dim, eps=1e-12)\n",
    "        self.projector = nn.Linear(config.dim, config.dim)\n",
    "        \n",
    "        self.post_init()\n",
    "        \n",
    "    def post_init(self):\n",
    "        self.transform.weight.data = torch.eye(self.transform.out_features, self.transform.in_features, \n",
    "                                               dtype=self.transform.weight.dtype)\n",
    "        self.projector.weight.data = torch.eye(self.projector.out_features, self.projector.in_features, \n",
    "                                               dtype=self.projector.weight.dtype)\n",
    "        \n",
    "    def forward(self, x:torch.Tensor):\n",
    "        x = self.transform(x)\n",
    "        x = self.layer_norm(x)\n",
    "        x = self.projector(x)\n",
    "        return x\n",
    "    "
   ]
  },
  {
   "cell_type": "code",
   "execution_count": null,
   "id": "974d52ea",
   "metadata": {},
   "outputs": [],
   "source": [
    "#| export\n",
    "class GenerationHead(nn.Module):\n",
    "    \n",
    "    def __init__(self, config):\n",
    "        super().__init__()\n",
    "        self.transform = nn.Linear(config.dim, config.dim)\n",
    "        self.layer_norm = nn.LayerNorm(config.dim, eps=1e-12)\n",
    "        self.projector = nn.Linear(config.dim, config.vocab_size)\n",
    "        self.activation = get_activation(config.activation)\n",
    "        \n",
    "    def forward(self, x:torch.Tensor):\n",
    "        x = self.transform(x)\n",
    "        x = self.activation(x)\n",
    "        x = self.layer_norm(x)\n",
    "        x = self.projector(x)\n",
    "        return x\n",
    "    "
   ]
  },
  {
   "cell_type": "markdown",
   "id": "aa14f380",
   "metadata": {},
   "source": [
    "### Example"
   ]
  },
  {
   "cell_type": "code",
   "execution_count": null,
   "id": "92bd2d9e",
   "metadata": {},
   "outputs": [],
   "source": [
    "config = AutoConfig.from_pretrained('distilbert-base-uncased')\n",
    "x = torch.randn(10, 20, config.dim)"
   ]
  },
  {
   "cell_type": "code",
   "execution_count": null,
   "id": "76321c54",
   "metadata": {},
   "outputs": [],
   "source": [
    "m = RepresentationHead(config)"
   ]
  },
  {
   "cell_type": "code",
   "execution_count": null,
   "id": "161ea52a",
   "metadata": {},
   "outputs": [],
   "source": [
    "m = GenerationHead(config)"
   ]
  },
  {
   "cell_type": "markdown",
   "id": "b9224630",
   "metadata": {},
   "source": [
    "## Parameters"
   ]
  },
  {
   "cell_type": "code",
   "execution_count": null,
   "id": "813ca951",
   "metadata": {},
   "outputs": [],
   "source": [
    "#| export\n",
    "class Parameters:\n",
    "    \n",
    "    @staticmethod\n",
    "    def from_meta_aug_prefix(prefix:str, **kwargs):\n",
    "        inputs = {}\n",
    "        args = [arg for arg in kwargs if prefix is not None and re.match(f'^{prefix}.*_(input_ids|attention_mask|data2ptr|meta_repr)$', arg)]\n",
    "        for arg in args:\n",
    "            meta,param = arg.split('_', maxsplit=1)\n",
    "            inputs.setdefault(meta, {})[param] = kwargs[arg]\n",
    "        return inputs\n",
    "    \n",
    "    @staticmethod\n",
    "    def from_feat_meta_aug_prefix(feat:str, prefix:str, **kwargs):\n",
    "        keys = ['attention_mask', 'input_ids', 'meta_repr']\n",
    "        \n",
    "        inputs = {f'{prefix}_{k}': kwargs[f'{prefix}_{k}'] for k in keys if f'{prefix}_{k}' in kwargs}\n",
    "        if prefix is not None and f'{prefix}_{feat}2ptr' in kwargs:\n",
    "            inputs.update({f'{prefix}_data2ptr': kwargs[f'{prefix}_{feat}2ptr']})\n",
    "        return inputs\n",
    "    \n",
    "    @staticmethod\n",
    "    def from_meta_pred_prefix(prefix:str, **kwargs):\n",
    "        inputs = {}\n",
    "        args = [arg for arg in kwargs if prefix is not None and re.match(f'^[p]?{prefix}.*', arg)]\n",
    "        for arg in args:\n",
    "            meta,param = arg.split('_', maxsplit=1)\n",
    "            if arg[0] == 'p': \n",
    "                inputs.setdefault(meta[1:], {})[f'p{param}'] = kwargs[arg]\n",
    "            else: \n",
    "                inputs.setdefault(meta, {})[param] = kwargs[arg]\n",
    "        return inputs\n",
    "\n",
    "    @staticmethod\n",
    "    def get_meta_loss_weights(lw:Union[float,List], n_meta:int):\n",
    "        if isinstance(lw, float):\n",
    "            lw = lw/n_meta if n_meta else None\n",
    "            return [lw] * n_meta\n",
    "        else:\n",
    "            if len(lw) != n_meta: raise ValueError(f'length of `lw` should be equal to number of metadata.')\n",
    "            return lw\n",
    "        "
   ]
  },
  {
   "cell_type": "markdown",
   "id": "63a8737b",
   "metadata": {},
   "source": [
    "## Encoder"
   ]
  },
  {
   "cell_type": "code",
   "execution_count": null,
   "id": "f5ed7d03",
   "metadata": {},
   "outputs": [],
   "source": [
    "#| export\n",
    "class Encoder(DistilBertPreTrainedModel):\n",
    "    \n",
    "    def __init__(self, config:PretrainedConfig, use_noise:Optional[bool]=True, resize_length:Optional[int]=None):\n",
    "        super().__init__(config)\n",
    "        store_attr('use_noise')\n",
    "        \n",
    "        self.dr_head = RepresentationHead(config)\n",
    "        self.meta_head = RepresentationHead(config)\n",
    "        self.gen_head = GenerationHead(config)\n",
    "        self.cross_head = CrossAttention(config)\n",
    "        \n",
    "        self.layer_norm = nn.LayerNorm(config.dim, eps=1e-12)\n",
    "         \n",
    "        self.ones = torch.ones(resize_length, dtype=torch.long, device=self.device) if resize_length is not None else None\n",
    "        self.post_init()\n",
    "        \n",
    "    def get_position_embeddings(self) -> nn.Embedding:\n",
    "        return self.distilbert.get_position_embeddings()\n",
    "    \n",
    "    def resize_position_embeddings(self, new_num_position_embeddings: int):\n",
    "        self.distilbert.resize_position_embeddings(new_num_position_embeddings)\n",
    "        \n",
    "    def get_output_embeddings(self) -> nn.Module:\n",
    "        return self.gen_head.projector\n",
    "\n",
    "    def set_output_embeddings(self, new_embeddings: nn.Module):\n",
    "        self.gen_head.projector = new_embeddings\n",
    "        \n",
    "    def resize(self, inputs:torch.Tensor, mask:torch.Tensor, num_inputs:torch.Tensor):\n",
    "        if torch.any(num_inputs == 0): raise ValueError(\"`num_inputs` should be non-zero positive integer.\")\n",
    "        bsz, dim, total_num_inputs = num_inputs.shape[0], inputs.shape[-1], inputs.shape[0]\n",
    "        \n",
    "        self.ones = self.ones.to(inputs.device)\n",
    "        ones = (\n",
    "            torch.ones(total_num_inputs, dtype=torch.long, device=inputs.device) \n",
    "            if self.ones is None or self.ones.shape[0] < total_num_inputs else self.ones[:total_num_inputs]\n",
    "        )\n",
    "\n",
    "        max_num_inputs = num_inputs.max()\n",
    "        xnum_inputs = max_num_inputs-num_inputs+1\n",
    "\n",
    "        inputs_ptr = num_inputs.cumsum(dim=0)-1\n",
    "        repeat_inputs = ones.scatter(0, inputs_ptr, xnum_inputs)\n",
    "        \n",
    "        resized_inputs = inputs.repeat_interleave(repeat_inputs, dim=0)\n",
    "        resized_mask = mask.repeat_interleave(repeat_inputs, dim=0)\n",
    "        \n",
    "        ignore_mask_idx = ones.scatter(0, inputs_ptr, 0).repeat_interleave(repeat_inputs, dim=0).view(bsz, -1)\n",
    "        ignore_mask_idx[:, -1] = 1; ignore_mask_idx = ignore_mask_idx.view(-1, 1)\n",
    "        \n",
    "        resized_mask *= ignore_mask_idx\n",
    "\n",
    "        return resized_inputs,resized_mask\n",
    "    \n",
    "    def get_noise(self, inputs:torch.Tensor, mask:torch.Tensor, num_inputs:torch.Tensor):\n",
    "        if torch.any(num_inputs == 0): raise ValueError(\"`num_inputs` should be non-zero positive integer.\")\n",
    "        rnd_idx = torch.randperm(len(num_inputs))\n",
    "        last_idx = num_inputs.cumsum(dim=0) - 1\n",
    "        return inputs[last_idx][rnd_idx], mask[last_idx][rnd_idx]\n",
    "    \n",
    "    def add_noise(self, inputs:torch.Tensor, mask:torch.Tensor, noise_inputs:torch.Tensor, noise_mask:torch.Tensor):\n",
    "        bsz, seq_len = noise_inputs.shape[0], inputs.shape[-1]\n",
    "        \n",
    "        inputs = torch.concat([inputs.view(bsz,-1,seq_len), noise_inputs.view(bsz,1,-1)], dim=1)\n",
    "        mask = torch.concat([mask.view(bsz,-1,seq_len), noise_mask.view(bsz,1,-1)], dim=1)\n",
    "        \n",
    "        return inputs.view(-1, seq_len), mask.view(-1, seq_len)\n",
    "        \n",
    "        \n",
    "    \n",
    "        \n",
    "        \n",
    "        \n",
    "    def encode(self, input_ids:torch.Tensor, attention_mask:torch.Tensor, **kwargs):\n",
    "        return self.distilbert(\n",
    "            input_ids=input_ids,\n",
    "            attention_mask=attention_mask,\n",
    "            **kwargs\n",
    "        )\n",
    "    \n",
    "    def dr(self, embed:torch.Tensor, attention_mask:torch.Tensor):\n",
    "        embed = self.dr_head(embed)\n",
    "        return F.normalize(Pooling.mean_pooling(embed, attention_mask), dim=1)\n",
    "\n",
    "    def meta(self, embed:torch.Tensor, attention_mask:torch.Tensor):\n",
    "        embed = self.meta_head(embed)\n",
    "        return F.normalize(Pooling.mean_pooling(embed, attention_mask), dim=1)\n",
    "    \n",
    "    def meta_unnormalized(self, embed:torch.Tensor, attention_mask:torch.Tensor):\n",
    "        embed = self.meta_head(embed)\n",
    "        return Pooling.mean_pooling(embed, attention_mask)\n",
    "    \n",
    "    def gen(self, x:torch.Tensor):\n",
    "        return self.gen_head(x)\n",
    "    \n",
    "    \n",
    "\n",
    "\n",
    "    \n",
    "    def fuse_meta_into_embeddings(self, embed:torch.Tensor, attention_mask:torch.Tensor, prefix:str, **kwargs):\n",
    "        meta_kwargs = Parameters.from_meta_aug_prefix(prefix, **kwargs)\n",
    "        meta_repr, weights, performed_fusion = {}, [], False\n",
    "        \n",
    "        for m_key, m_args in meta_kwargs.items():\n",
    "            idx = torch.where(m_args['data2ptr'] > 0)[0]\n",
    "            meta_repr[m_key] = torch.empty(0, self.config.dim).to(embed)\n",
    "            if len(idx):\n",
    "                performed_fusion = True\n",
    "                if 'meta_repr' in m_args:\n",
    "                    m_repr,m_repr_mask = m_args['meta_repr'],torch.any(m_args['attention_mask'], dim=1).long().view(-1,1)\n",
    "                    m_repr,m_repr_mask = self.resize(m_repr, m_repr_mask, m_args['data2ptr'][idx])\n",
    "                    m_repr_mask = m_repr_mask.bool()\n",
    "                else:\n",
    "                    m_input_ids, m_attention_mask = self.resize(m_args['input_ids'], m_args['attention_mask'], \n",
    "                                                                m_args['data2ptr'][idx])\n",
    "\n",
    "                    if self.use_noise:\n",
    "                        n_input_ids, n_attention_mask = self.get_noise(m_args['input_ids'], m_args['attention_mask'], \n",
    "                                                                       m_args['data2ptr'][idx])\n",
    "                        m_input_ids, m_attention_mask = self.add_noise(m_input_ids, m_attention_mask, \n",
    "                                                                       n_input_ids, n_attention_mask)\n",
    "\n",
    "                    m_embed = self.encode(m_input_ids, m_attention_mask)[0]\n",
    "\n",
    "                    m_repr = self.meta_unnormalized(m_embed, m_attention_mask)\n",
    "                    m_repr_mask = torch.any(m_attention_mask, dim=1)\n",
    "                    \n",
    "                m_repr, m_repr_mask = m_repr.view(len(idx), -1, self.config.dim), m_repr_mask.view(len(idx), -1)\n",
    "                \n",
    "                meta_repr[m_key] = m_repr[:, :-1][m_repr_mask[:, :-1]] if self.use_noise else m_repr[m_repr_mask]\n",
    "                meta_repr[m_key] = F.normalize(meta_repr[m_key], dim=1)\n",
    "                \n",
    "                fused_embed, w = self.cross_head(embed[idx], attention_mask[idx], m_repr, m_repr_mask, output_attentions=True)\n",
    "                embed[idx] += fused_embed\n",
    "                weights.append(w)\n",
    "        \n",
    "        if performed_fusion: embed = self.layer_norm(embed)        \n",
    "        return embed, weights, meta_repr\n",
    "    \n",
    "    def forward(\n",
    "        self, \n",
    "        data_input_ids: torch.Tensor, \n",
    "        data_attention_mask: torch.Tensor,\n",
    "        data_aug_meta_prefix: Optional[str]=None,\n",
    "        data_gen_idx:Optional[torch.Tensor]=None,\n",
    "        data_type:Optional[str]=None,\n",
    "        data_unnormalized:Optional[bool]=False,\n",
    "        **kwargs\n",
    "    ):\n",
    "        data_o = self.encode(data_input_ids, data_attention_mask)\n",
    "        \n",
    "        if data_type is not None and data_type == \"meta\":\n",
    "            data_repr = self.meta_unnormalized(data_o[0], data_attention_mask) if data_unnormalized else self.meta(data_o[0], data_attention_mask)\n",
    "        else: \n",
    "            data_repr = self.dr(data_o[0], data_attention_mask)\n",
    "        \n",
    "        data_fused_repr = data_fused_logits = fusion_weights = meta_repr = None\n",
    "        if data_aug_meta_prefix is not None:\n",
    "            data_fused_embed, fusion_weights, meta_repr = self.fuse_meta_into_embeddings(data_o[0], \n",
    "                                                                                         data_attention_mask, \n",
    "                                                                                         data_aug_meta_prefix, \n",
    "                                                                                         **kwargs)\n",
    "            data_fused_repr = self.dr(data_fused_embed, data_attention_mask)\n",
    "            data_fused_logits = self.gen(data_fused_embed if data_gen_idx is None else data_fused_embed[data_gen_idx])\n",
    "        \n",
    "        return EncoderOutput(\n",
    "            rep=data_repr,\n",
    "            fused_rep=data_fused_repr,\n",
    "            logits=data_fused_logits,\n",
    "            \n",
    "            meta_repr=meta_repr,\n",
    "        )\n",
    "        "
   ]
  },
  {
   "cell_type": "markdown",
   "id": "c613ba79",
   "metadata": {},
   "source": [
    "## `RAD001`"
   ]
  },
  {
   "cell_type": "code",
   "execution_count": null,
   "id": "f9073dd2",
   "metadata": {},
   "outputs": [],
   "source": [
    "#| export\n",
    "class RAD001(DistilBertForMaskedLM):\n",
    "    use_generation,use_representation = True,True\n",
    "    _tied_weights_keys = [\"encoder.distilbert\", \"encoder.gen_head.transform\", \"encoder.gen_head.layer_norm\", \n",
    "                          \"encoder.gen_head.projector\"]\n",
    "    \n",
    "    def __init__(\n",
    "        self, config,\n",
    "        \n",
    "        num_batch_labels:Optional[int]=None, \n",
    "        ignore_token:Optional[int]=0,\n",
    "        batch_size:Optional[int]=None,\n",
    "        margin:Optional[int]=0.3,\n",
    "        num_negatives:Optional[int]=5,\n",
    "        tau:Optional[float]=0.1,\n",
    "        apply_softmax:Optional[bool]=True,\n",
    "        \n",
    "        data_aug_meta_prefix:Optional[List]=None, \n",
    "        lbl2data_aug_meta_prefix:Optional[List]=None, \n",
    "        resize_length:Optional[int]=None,\n",
    "        \n",
    "        gen_loss_weight:Optional[float]=0.01,\n",
    "        meta_loss_weight:Optional[Union[List,float]]=0.3, \n",
    "        pred_meta_prefix:Optional[List]=None,\n",
    "        \n",
    "        fusion_loss_weight:Optional[int]=0.1,\n",
    "        use_fusion_loss:Optional[bool]=True,\n",
    "        use_noise:Optional[bool]=True,\n",
    "        \n",
    "        use_encoder_parallel:Optional[bool]=True,\n",
    "    ):\n",
    "        super().__init__(config)\n",
    "        self.lw, self.m_lw, self.f_lw = gen_loss_weight, meta_loss_weight, fusion_loss_weight\n",
    "        store_attr('pred_meta_prefix,data_aug_meta_prefix,lbl2data_aug_meta_prefix,use_fusion_loss,use_encoder_parallel')\n",
    "        \n",
    "        self.encoder = Encoder(config, use_noise=use_noise, resize_length=resize_length)\n",
    "        \n",
    "        self.post_init()\n",
    "        \n",
    "        self.gen_loss_fn = MultiCrossEntropy(tn_targ=num_batch_labels, ig_tok=ignore_token, reduce='mean')\n",
    "        self.rep_loss_fn = MultiTriplet(bsz=batch_size, tn_targ=num_batch_labels, margin=margin, \n",
    "                                        n_negatives=num_negatives, tau=tau, apply_softmax=apply_softmax, \n",
    "                                        reduce='mean')\n",
    "        \n",
    "        self.remap_post_init()\n",
    "        self.init_retrieval_head()\n",
    "        \n",
    "    def init_retrieval_head(self):\n",
    "        self.encoder.dr_head.post_init()\n",
    "        self.encoder.meta_head.post_init()\n",
    "            \n",
    "    def init_generation_head(self):\n",
    "        self.encoder.gen_head.projector.weight.data = self.get_input_embeddings().weight.data.clone()\n",
    "        \n",
    "    def remap_post_init(self):\n",
    "        self.encoder.distilbert = self.distilbert \n",
    "        self.encoder.gen_head.transform = self.vocab_transform\n",
    "        self.encoder.gen_head.layer_norm = self.vocab_layer_norm\n",
    "        self.encoder.gen_head.projector = self.vocab_projector\n",
    "        \n",
    "        \n",
    "        \n",
    "        \n",
    "    def compute_loss(self, inp_logits, inp_repr, targ_logits, targ_repr, \n",
    "                     inp_input_ids, targ_input_ids, targ_ptr, targ_idx, ptarg_ptr, ptarg_idx):\n",
    "        \n",
    "        gen_loss = self.gen_loss_fn(inp_logits, targ_input_ids, targ_ptr) + self.gen_loss_fn(targ_logits, inp_input_ids)\n",
    "        \n",
    "        rep_loss = self.rep_loss_fn(inp_repr, targ_repr, targ_ptr, targ_idx, ptarg_ptr, ptarg_idx)\n",
    "        \n",
    "        return rep_loss + self.lw * gen_loss\n",
    "    \n",
    "    def compute_meta_loss(self, data_repr, lbl2data_repr, **kwargs):\n",
    "        if self.use_encoder_parallel: \n",
    "            encoder = XCDataParallel(module=self.encoder)\n",
    "        else: encoder = self.encoder\n",
    "            \n",
    "        meta_inputs = Parameters.from_meta_pred_prefix(self.pred_meta_prefix, **kwargs)\n",
    "        m_lw = Parameters.get_meta_loss_weights(self.m_lw, len(meta_inputs))\n",
    "        \n",
    "        loss = 0.0\n",
    "        for inputs,lw in zip(meta_inputs.values(), m_lw):\n",
    "            if 'lbl2data2ptr' in inputs:\n",
    "                idx = torch.where(inputs['lbl2data2ptr'])[0]\n",
    "                if len(idx) > 0:\n",
    "                    inputs_o = encoder(data_input_ids=inputs['input_ids'],\n",
    "                                       data_attention_mask=inputs['attention_mask'], data_type=\"meta\")\n",
    "                    m_loss = self.rep_loss_fn(lbl2data_repr[idx], inputs_o.rep, inputs['data2ptr'][idx],\n",
    "                                              inputs['idx'], inputs['pdata2ptr'][idx], inputs['pidx'])\n",
    "                    loss += lw * m_loss\n",
    "\n",
    "            elif 'data2ptr' in inputs:\n",
    "                idx = torch.where(inputs['data2ptr'])[0]\n",
    "                if len(idx) > 0:\n",
    "                    inputs_o = encoder(data_input_ids=inputs['input_ids'], \n",
    "                                       data_attention_mask=inputs['attention_mask'], data_type=\"meta\")\n",
    "                    m_loss = self.rep_loss_fn(data_repr[idx], inputs_o.rep, inputs['data2ptr'][idx], inputs['idx'], \n",
    "                                              inputs['pdata2ptr'][idx], inputs['pidx'])\n",
    "                    loss += lw * m_loss       \n",
    "\n",
    "            else: raise ValueError('Invalid metadata input arguments.')\n",
    "        return loss\n",
    "    \n",
    "    def compute_fusion_loss(self, data_repr, meta_repr:Dict, prefix:str, **kwargs):\n",
    "        meta_inputs = Parameters.from_meta_pred_prefix(prefix, **kwargs)\n",
    "        \n",
    "        loss = 0.0\n",
    "        for key,input_repr in meta_repr.items():\n",
    "            inputs = meta_inputs[key]\n",
    "            if 'lbl2data2ptr' in inputs:\n",
    "                idx = torch.where(inputs['lbl2data2ptr'])[0]\n",
    "                if len(idx) > 0:\n",
    "                    m_loss = self.rep_loss_fn(data_repr[idx], input_repr, inputs['data2ptr'][idx],\n",
    "                                              inputs['idx'], inputs['pdata2ptr'][idx], inputs['pidx'])\n",
    "                    loss += self.f_lw * m_loss\n",
    "\n",
    "            elif 'data2ptr' in inputs:\n",
    "                idx = torch.where(inputs['data2ptr'])[0]\n",
    "                if len(idx) > 0:\n",
    "                    m_loss = self.rep_loss_fn(data_repr[idx], input_repr, inputs['data2ptr'][idx], inputs['idx'], \n",
    "                                              inputs['pdata2ptr'][idx], inputs['pidx'])\n",
    "                    loss += self.f_lw * m_loss       \n",
    "\n",
    "            else: raise ValueError('Invalid metadata input arguments.')\n",
    "        return loss\n",
    "    \n",
    "        \n",
    "\n",
    "    def disable_noise(self):\n",
    "        use_noise = self.encoder.module.use_noise if isinstance(self.encoder, XCDataParallel) else self.encoder.use_noise\n",
    "        if isinstance(self.encoder, XCDataParallel): self.encoder.module.use_noise = False\n",
    "        else: self.encoder.use_noise = False\n",
    "        return use_noise\n",
    "    \n",
    "    def set_noise(self, use_noise):\n",
    "        if isinstance(self.encoder, XCDataParallel): self.encoder.module.use_noise = use_noise\n",
    "        else: self.encoder.use_noise = use_noise\n",
    "            \n",
    "    def get_noise(self):\n",
    "        return self.encoder.module.use_noise if isinstance(self.encoder, XCDataParallel) else self.encoder.use_noise\n",
    "\n",
    "    def get_meta_representation(\n",
    "        self,\n",
    "        data_input_ids:Optional[torch.Tensor]=None,\n",
    "        data_attention_mask:Optional[torch.Tensor]=None,\n",
    "        **kwargs\n",
    "    ):\n",
    "        if self.use_encoder_parallel: \n",
    "            encoder = XCDataParallel(module=self.encoder)\n",
    "        else: encoder = self.encoder\n",
    "            \n",
    "        data_o = encoder(data_input_ids=data_input_ids, data_attention_mask=data_attention_mask, \n",
    "                         data_unnormalized=True, data_type=\"meta\")\n",
    "        return RADOutput(\n",
    "            logits=data_o.logits,\n",
    "            data_repr=data_o.rep,\n",
    "            data_fused_repr=data_o.fused_rep,\n",
    "        )\n",
    "        \n",
    "        \n",
    "    def get_last_item_mask(self, num_input:torch.Tensor, input_sz:int):\n",
    "        idx = torch.where(num_input > 0)[0]\n",
    "        input_ptr = num_input[idx].cumsum(dim=0)-1\n",
    "        return torch.zeros(input_sz, dtype=torch.bool, device=num_input.device).scatter(0, input_ptr, 1)\n",
    "\n",
    "\n",
    "    def forward(\n",
    "        self,\n",
    "        data_input_ids:Optional[torch.Tensor]=None,\n",
    "        data_attention_mask:Optional[torch.Tensor]=None,\n",
    "        lbl2data_data2ptr:Optional[torch.Tensor]=None,\n",
    "        lbl2data_idx:Optional[torch.Tensor]=None,\n",
    "        lbl2data_input_ids:Optional[torch.Tensor]=None,\n",
    "        lbl2data_attention_mask:Optional[torch.Tensor]=None,\n",
    "        plbl2data_data2ptr:Optional[torch.Tensor]=None,\n",
    "        plbl2data_idx:Optional[torch.Tensor]=None,\n",
    "        output_attentions: Optional[bool] = None,\n",
    "        output_hidden_states: Optional[bool] = None,\n",
    "        return_dict: Optional[bool] = None,\n",
    "        **kwargs\n",
    "    ):  \n",
    "        return_dict = return_dict if return_dict is not None else self.config.use_return_dict\n",
    "        \n",
    "        if self.use_encoder_parallel: \n",
    "            encoder = XCDataParallel(module=self.encoder)\n",
    "        else: encoder = self.encoder\n",
    "        \n",
    "        data_meta_kwargs = Parameters.from_feat_meta_aug_prefix('data', self.data_aug_meta_prefix, **kwargs)\n",
    "        data_o = encoder(data_input_ids=data_input_ids, data_attention_mask=data_attention_mask, \n",
    "                         data_aug_meta_prefix=self.data_aug_meta_prefix, **data_meta_kwargs)\n",
    "        \n",
    "        \n",
    "        loss = None; lbl2data_o = EncoderOutput()\n",
    "        if lbl2data_input_ids is not None:\n",
    "            lbl2data_gen_idx = self.get_last_item_mask(lbl2data_data2ptr, len(lbl2data_idx))\n",
    "            lbl2data_meta_kwargs = Parameters.from_feat_meta_aug_prefix('lbl2data', self.lbl2data_aug_meta_prefix, **kwargs)\n",
    "            \n",
    "            lbl2data_o = encoder(data_input_ids=lbl2data_input_ids, data_attention_mask=lbl2data_attention_mask, \n",
    "                                 data_aug_meta_prefix=self.lbl2data_aug_meta_prefix, data_gen_idx=lbl2data_gen_idx,\n",
    "                                 **lbl2data_meta_kwargs)\n",
    "            \n",
    "            loss = self.compute_loss(data_o.logits, data_o.fused_rep, lbl2data_o.logits, lbl2data_o.fused_rep, \n",
    "                                     data_input_ids,lbl2data_input_ids,lbl2data_data2ptr,lbl2data_idx,\n",
    "                                     plbl2data_data2ptr,plbl2data_idx)\n",
    "            \n",
    "            loss += self.compute_meta_loss(data_o.fused_rep, lbl2data_o.fused_rep, **kwargs)\n",
    "            \n",
    "            if self.use_fusion_loss:\n",
    "                loss += self.compute_fusion_loss(data_o.fused_rep, data_o.meta_repr, self.data_aug_meta_prefix, **kwargs)\n",
    "                loss += self.compute_fusion_loss(lbl2data_o.fused_rep, lbl2data_o.meta_repr, self.lbl2data_aug_meta_prefix, **kwargs)\n",
    "            \n",
    "        if not return_dict:\n",
    "            o = (data_o.logits,data_o.rep,data_o.fused_rep,lbl2data_o.logits,lbl2data_o.rep,lbl2data_o.fused_rep)\n",
    "            return ((loss,) + o) if loss is not None else o\n",
    "        \n",
    "        \n",
    "        return RADOutput(\n",
    "            loss=loss,\n",
    "            \n",
    "            logits=data_o.logits,\n",
    "            data_repr=data_o.rep,\n",
    "            data_fused_repr=data_o.fused_rep,\n",
    "            \n",
    "            lbl2data_repr=lbl2data_o.rep,\n",
    "            lbl2data_fused_repr=lbl2data_o.fused_rep,\n",
    "        )\n",
    "        "
   ]
  },
  {
   "cell_type": "markdown",
   "id": "6473ad96",
   "metadata": {},
   "source": [
    "### Example"
   ]
  },
  {
   "cell_type": "code",
   "execution_count": null,
   "id": "918c8fc7",
   "metadata": {},
   "outputs": [
    {
     "name": "stderr",
     "output_type": "stream",
     "text": [
      "Some weights of RAD001 were not initialized from the model checkpoint at distilbert-base-uncased and are newly initialized: ['encoder.cross_head.k.bias', 'encoder.cross_head.k.weight', 'encoder.cross_head.o.bias', 'encoder.cross_head.o.weight', 'encoder.cross_head.q.bias', 'encoder.cross_head.q.weight', 'encoder.cross_head.v.bias', 'encoder.cross_head.v.weight', 'encoder.dr_head.layer_norm.bias', 'encoder.dr_head.layer_norm.weight', 'encoder.dr_head.projector.bias', 'encoder.dr_head.projector.weight', 'encoder.dr_head.transform.bias', 'encoder.dr_head.transform.weight', 'encoder.gen_head.projector.weight', 'encoder.linear_layer.bias', 'encoder.linear_layer.weight', 'encoder.meta_head.layer_norm.bias', 'encoder.meta_head.layer_norm.weight', 'encoder.meta_head.projector.bias', 'encoder.meta_head.projector.weight', 'encoder.meta_head.transform.bias', 'encoder.meta_head.transform.weight', 'vocab_projector.weight']\n",
      "You should probably TRAIN this model on a down-stream task to be able to use it for predictions and inference.\n"
     ]
    }
   ],
   "source": [
    "model = RAD001.from_pretrained('distilbert-base-uncased', num_batch_labels=5000, ignore_token=0, batch_size=100,\n",
    "                               margin=0.3, num_negatives=5, tau=0.1, apply_softmax=True,\n",
    "                               \n",
    "                               data_aug_meta_prefix='hlk2data', lbl2data_aug_meta_prefix='hlk2lbl', \n",
    "                               resize_length=5000,\n",
    "                               \n",
    "                               gen_loss_weight=0.001, meta_loss_weight=0.3, pred_meta_prefix='cat', \n",
    "                               \n",
    "                               fusion_loss_weight=0.05, tie_word_embeddings=False,\n",
    "                               \n",
    "                               use_fusion_loss=True, use_noise=True, use_encoder_parallel=False)"
   ]
  },
  {
   "cell_type": "code",
   "execution_count": null,
   "id": "19e3e72b",
   "metadata": {},
   "outputs": [],
   "source": [
    "model.init_retrieval_head()\n",
    "model.init_generation_head()"
   ]
  },
  {
   "cell_type": "code",
   "execution_count": null,
   "id": "816aa8bb",
   "metadata": {},
   "outputs": [],
   "source": [
    "model = model.to('cuda')"
   ]
  },
  {
   "cell_type": "code",
   "execution_count": null,
   "id": "49343f4f",
   "metadata": {},
   "outputs": [],
   "source": [
    "b = prepare_batch(model, batch, m_args=[\n",
    "    'pcat2data_idx', 'pcat2data_data2ptr', 'cat2data_idx', 'cat2data_input_ids', 'cat2data_attention_mask', \n",
    "    'cat2data_data2ptr',\n",
    "    'pcat2lbl_idx', 'pcat2lbl_lbl2data2ptr', 'pcat2lbl_data2ptr', 'cat2lbl_idx', 'cat2lbl_input_ids', \n",
    "    'cat2lbl_attention_mask', 'cat2lbl_lbl2data2ptr', 'cat2lbl_data2ptr',\n",
    "    \n",
    "    'phlk2data_idx', 'phlk2data_data2ptr', 'hlk2data_idx', 'hlk2data_input_ids', 'hlk2data_attention_mask', \n",
    "    'hlk2data_data2ptr',\n",
    "    'phlk2lbl_idx', 'phlk2lbl_lbl2data2ptr', 'phlk2lbl_data2ptr', 'hlk2lbl_idx', 'hlk2lbl_input_ids', \n",
    "    'hlk2lbl_attention_mask', 'hlk2lbl_lbl2data2ptr', 'hlk2lbl_data2ptr',\n",
    "])"
   ]
  },
  {
   "cell_type": "code",
   "execution_count": null,
   "id": "61a5bdf2",
   "metadata": {},
   "outputs": [],
   "source": [
    "o = model(**b.to(model.device))"
   ]
  },
  {
   "cell_type": "code",
   "execution_count": null,
   "id": "a25867c0",
   "metadata": {},
   "outputs": [
    {
     "data": {
      "text/plain": [
       "tensor(0.0928, device='cuda:0', grad_fn=<AddBackward0>)"
      ]
     },
     "execution_count": null,
     "metadata": {},
     "output_type": "execute_result"
    }
   ],
   "source": [
    "o.loss"
   ]
  },
  {
   "cell_type": "markdown",
   "id": "77498614-dc2c-4502-810c-7ec4d89d9447",
   "metadata": {},
   "source": [
    "## `RAD002`"
   ]
  },
  {
   "cell_type": "code",
   "execution_count": null,
   "id": "c637ef11-0b09-417d-bbb0-0d7898f48ba8",
   "metadata": {},
   "outputs": [],
   "source": [
    "#| export\n",
    "class Encoder002(DistilBertPreTrainedModel):\n",
    "    \n",
    "    def __init__(self, config:PretrainedConfig, use_noise:Optional[bool]=True, resize_length:Optional[int]=None):\n",
    "        super().__init__(config)\n",
    "        store_attr('use_noise')\n",
    "        self.distilbert = DistilBertModel(config)\n",
    "        \n",
    "        self.dr_head = RepresentationHead(config)\n",
    "        self.meta_head = RepresentationHead(config)\n",
    "        self.cross_head = CrossAttention(config)\n",
    "         \n",
    "        self.ones = torch.ones(resize_length, dtype=torch.long, device=self.device) if resize_length is not None else None\n",
    "        self.post_init()\n",
    "        \n",
    "    def get_position_embeddings(self) -> nn.Embedding:\n",
    "        return self.distilbert.get_position_embeddings()\n",
    "    \n",
    "    def resize_position_embeddings(self, new_num_position_embeddings: int):\n",
    "        self.distilbert.resize_position_embeddings(new_num_position_embeddings)\n",
    "        \n",
    "    def resize(self, inputs:torch.Tensor, mask:torch.Tensor, num_inputs:torch.Tensor):\n",
    "        if torch.any(num_inputs == 0): raise ValueError(\"`num_inputs` should be non-zero positive integer.\")\n",
    "        bsz, dim, total_num_inputs = num_inputs.shape[0], inputs.shape[-1], inputs.shape[0]\n",
    "        \n",
    "        self.ones = self.ones.to(inputs.device)\n",
    "        ones = (\n",
    "            torch.ones(total_num_inputs, dtype=torch.long, device=inputs.device) \n",
    "            if self.ones is None or self.ones.shape[0] < total_num_inputs else self.ones[:total_num_inputs]\n",
    "        )\n",
    "\n",
    "        max_num_inputs = num_inputs.max()\n",
    "        xnum_inputs = max_num_inputs-num_inputs+1\n",
    "\n",
    "        inputs_ptr = num_inputs.cumsum(dim=0)-1\n",
    "        repeat_inputs = ones.scatter(0, inputs_ptr, xnum_inputs)\n",
    "        \n",
    "        resized_inputs = inputs.repeat_interleave(repeat_inputs, dim=0)\n",
    "        resized_mask = mask.repeat_interleave(repeat_inputs, dim=0)\n",
    "        \n",
    "        ignore_mask_idx = ones.scatter(0, inputs_ptr, 0).repeat_interleave(repeat_inputs, dim=0).view(bsz, -1)\n",
    "        ignore_mask_idx[:, -1] = 1; ignore_mask_idx = ignore_mask_idx.view(-1, 1)\n",
    "        \n",
    "        resized_mask *= ignore_mask_idx\n",
    "\n",
    "        return resized_inputs,resized_mask\n",
    "    \n",
    "    def get_noise(self, inputs:torch.Tensor, mask:torch.Tensor, num_inputs:torch.Tensor):\n",
    "        if torch.any(num_inputs == 0): raise ValueError(\"`num_inputs` should be non-zero positive integer.\")\n",
    "        rnd_idx = torch.randperm(len(num_inputs))\n",
    "        last_idx = num_inputs.cumsum(dim=0) - 1\n",
    "        return inputs[last_idx][rnd_idx], mask[last_idx][rnd_idx]\n",
    "    \n",
    "    def add_noise(self, inputs:torch.Tensor, mask:torch.Tensor, noise_inputs:torch.Tensor, noise_mask:torch.Tensor):\n",
    "        bsz, seq_len = noise_inputs.shape[0], inputs.shape[-1]\n",
    "        \n",
    "        inputs = torch.concat([inputs.view(bsz,-1,seq_len), noise_inputs.view(bsz,1,-1)], dim=1)\n",
    "        mask = torch.concat([mask.view(bsz,-1,seq_len), noise_mask.view(bsz,1,-1)], dim=1)\n",
    "        \n",
    "        return inputs.view(-1, seq_len), mask.view(-1, seq_len)\n",
    "        \n",
    "        \n",
    "    \n",
    "        \n",
    "    def encode(self, input_ids:torch.Tensor, attention_mask:torch.Tensor, **kwargs):\n",
    "        return self.distilbert(\n",
    "            input_ids=input_ids,\n",
    "            attention_mask=attention_mask,\n",
    "            **kwargs\n",
    "        )\n",
    "    \n",
    "    def dr(self, embed:torch.Tensor, attention_mask:torch.Tensor):\n",
    "        embed = self.dr_head(embed)\n",
    "        return F.normalize(Pooling.mean_pooling(embed, attention_mask), dim=1)\n",
    "\n",
    "    def meta(self, embed:torch.Tensor, attention_mask:torch.Tensor):\n",
    "        embed = self.meta_head(embed)\n",
    "        return F.normalize(Pooling.mean_pooling(embed, attention_mask), dim=1)\n",
    "    \n",
    "    def meta_unnormalized(self, embed:torch.Tensor, attention_mask:torch.Tensor):\n",
    "        embed = self.meta_head(embed)\n",
    "        return Pooling.mean_pooling(embed, attention_mask)\n",
    "    \n",
    "\n",
    "\n",
    "    \n",
    "    def fuse_meta_into_embeddings(self, embed:torch.Tensor, attention_mask:torch.Tensor, prefix:str, **kwargs):\n",
    "        meta_kwargs = Parameters.from_meta_aug_prefix(prefix, **kwargs)\n",
    "        meta_repr, weights = {}, []\n",
    "        \n",
    "        for m_key, m_args in meta_kwargs.items():\n",
    "            idx = torch.where(m_args['data2ptr'] > 0)[0]\n",
    "            meta_repr[m_key] = torch.empty(0, self.config.dim).to(embed)\n",
    "            \n",
    "            if len(idx):\n",
    "                if 'meta_repr' in m_args:\n",
    "                    m_repr,m_repr_mask = m_args['meta_repr'],torch.any(m_args['attention_mask'], dim=1).long().view(-1,1)\n",
    "                    m_repr,m_repr_mask = self.resize(m_repr, m_repr_mask, m_args['data2ptr'][idx])\n",
    "                    m_repr_mask = m_repr_mask.bool()\n",
    "                else:\n",
    "                    m_input_ids, m_attention_mask = self.resize(m_args['input_ids'], m_args['attention_mask'], \n",
    "                                                                m_args['data2ptr'][idx])\n",
    "\n",
    "                    if self.use_noise:\n",
    "                        n_input_ids, n_attention_mask = self.get_noise(m_args['input_ids'], m_args['attention_mask'], \n",
    "                                                                       m_args['data2ptr'][idx])\n",
    "                        m_input_ids, m_attention_mask = self.add_noise(m_input_ids, m_attention_mask, \n",
    "                                                                       n_input_ids, n_attention_mask)\n",
    "\n",
    "                    m_embed = self.encode(m_input_ids, m_attention_mask)[0]\n",
    "\n",
    "                    m_repr = self.meta_unnormalized(m_embed, m_attention_mask)\n",
    "                    m_repr_mask = torch.any(m_attention_mask, dim=1)\n",
    "                    \n",
    "                m_repr, m_repr_mask = m_repr.view(len(idx), -1, self.config.dim), m_repr_mask.view(len(idx), -1)\n",
    "                \n",
    "                meta_repr[m_key] = m_repr[:, :-1][m_repr_mask[:, :-1]] if self.use_noise else m_repr[m_repr_mask]\n",
    "                meta_repr[m_key] = F.normalize(meta_repr[m_key], dim=1)\n",
    "                \n",
    "                fused_embed, w = self.cross_head(embed[idx], attention_mask[idx], m_repr, m_repr_mask, output_attentions=True)\n",
    "                embed[idx] += fused_embed\n",
    "                weights.append(w)\n",
    "               \n",
    "        return embed, weights, meta_repr\n",
    "        \n",
    "    \n",
    "    def forward(\n",
    "        self, \n",
    "        data_input_ids: torch.Tensor, \n",
    "        data_attention_mask: torch.Tensor,\n",
    "        data_aug_meta_prefix: Optional[str]=None,\n",
    "        data_type:Optional[str]=None,\n",
    "        data_unnormalized:Optional[bool]=False,\n",
    "        **kwargs\n",
    "    ):\n",
    "        data_o = self.encode(data_input_ids, data_attention_mask)\n",
    "        \n",
    "        if data_type is not None and data_type == \"meta\":\n",
    "            data_repr = self.meta_unnormalized(data_o[0], data_attention_mask) if data_unnormalized else self.meta(data_o[0], data_attention_mask)\n",
    "        else: \n",
    "            data_repr = self.dr(data_o[0], data_attention_mask)\n",
    "        \n",
    "        data_fused_repr = data_fused_logits = fusion_weights = meta_repr = None\n",
    "        if data_aug_meta_prefix is not None:\n",
    "            data_fused_embed, fusion_weights, meta_repr = self.fuse_meta_into_embeddings(data_o[0], \n",
    "                                                                                         data_attention_mask, \n",
    "                                                                                         data_aug_meta_prefix, \n",
    "                                                                                         **kwargs)\n",
    "            data_fused_repr = self.dr(data_fused_embed, data_attention_mask)\n",
    "        \n",
    "        return EncoderOutput(\n",
    "            rep=data_repr,\n",
    "            fused_rep=data_fused_repr,\n",
    "            meta_repr=meta_repr,\n",
    "        )\n",
    "        "
   ]
  },
  {
   "cell_type": "code",
   "execution_count": null,
   "id": "ca974424-8b53-4c3c-94f0-53bca3373924",
   "metadata": {},
   "outputs": [],
   "source": [
    "#| export\n",
    "class RAD002(DistilBertPreTrainedModel):\n",
    "    use_generation,use_representation = False,True\n",
    "    _tied_weights_keys = [\"encoder.distilbert\"]\n",
    "    \n",
    "    def __init__(\n",
    "        self, config,\n",
    "        \n",
    "        num_batch_labels:Optional[int]=None, \n",
    "        batch_size:Optional[int]=None,\n",
    "        margin:Optional[int]=0.3,\n",
    "        num_negatives:Optional[int]=5,\n",
    "        tau:Optional[float]=0.1,\n",
    "        apply_softmax:Optional[bool]=True,\n",
    "        \n",
    "        data_aug_meta_prefix:Optional[List]=None, \n",
    "        lbl2data_aug_meta_prefix:Optional[List]=None, \n",
    "        resize_length:Optional[int]=None,\n",
    "        \n",
    "        gen_loss_weight:Optional[float]=0.01,\n",
    "        meta_loss_weight:Optional[Union[List,float]]=0.3, \n",
    "        pred_meta_prefix:Optional[List]=None,\n",
    "        \n",
    "        fusion_loss_weight:Optional[int]=0.1,\n",
    "        use_fusion_loss:Optional[bool]=True,\n",
    "        use_noise:Optional[bool]=True,\n",
    "        \n",
    "        use_encoder_parallel:Optional[bool]=True,\n",
    "    ):\n",
    "        super().__init__(config)\n",
    "        self.lw, self.m_lw, self.f_lw = gen_loss_weight, meta_loss_weight, fusion_loss_weight\n",
    "        store_attr('pred_meta_prefix,data_aug_meta_prefix,lbl2data_aug_meta_prefix,use_fusion_loss,use_encoder_parallel')\n",
    "        \n",
    "        self.encoder = Encoder002(config, use_noise=use_noise, resize_length=resize_length)\n",
    "        \n",
    "        self.post_init()\n",
    "        self.rep_loss_fn = MultiTriplet(bsz=batch_size, tn_targ=num_batch_labels, margin=margin, n_negatives=num_negatives, \n",
    "                                        tau=tau, apply_softmax=apply_softmax, reduce='mean')\n",
    "        self.remap_post_init()\n",
    "        self.init_retrieval_head()\n",
    "        self.init_cross_head()\n",
    "        \n",
    "    def init_retrieval_head(self):\n",
    "        self.encoder.dr_head.post_init()\n",
    "        self.encoder.meta_head.post_init()\n",
    "\n",
    "    def init_cross_head(self):\n",
    "        self.encoder.cross_head.post_init()\n",
    "            \n",
    "    def remap_post_init(self):\n",
    "         self.distilbert = self.encoder.distilbert\n",
    "        \n",
    "    def compute_loss(self, inp_repr, targ_repr, targ_ptr, targ_idx, ptarg_ptr, ptarg_idx):\n",
    "        rep_loss = self.rep_loss_fn(inp_repr, targ_repr, targ_ptr, targ_idx, ptarg_ptr, ptarg_idx)\n",
    "        return rep_loss\n",
    "    \n",
    "    def compute_meta_loss(self, data_repr, lbl2data_repr, **kwargs):\n",
    "        if self.use_encoder_parallel: \n",
    "            encoder = XCDataParallel(module=self.encoder)\n",
    "        else: encoder = self.encoder\n",
    "            \n",
    "        meta_inputs = Parameters.from_meta_pred_prefix(self.pred_meta_prefix, **kwargs)\n",
    "        m_lw = Parameters.get_meta_loss_weights(self.m_lw, len(meta_inputs))\n",
    "        \n",
    "        loss = 0.0\n",
    "        for inputs,lw in zip(meta_inputs.values(), m_lw):\n",
    "            if 'lbl2data2ptr' in inputs:\n",
    "                idx = torch.where(inputs['lbl2data2ptr'])[0]\n",
    "                if len(idx) > 0:\n",
    "                    inputs_o = encoder(data_input_ids=inputs['input_ids'],\n",
    "                                       data_attention_mask=inputs['attention_mask'], data_type=\"meta\")\n",
    "                    m_loss = self.rep_loss_fn(lbl2data_repr[idx], inputs_o.rep, inputs['data2ptr'][idx],\n",
    "                                              inputs['idx'], inputs['pdata2ptr'][idx], inputs['pidx'])\n",
    "                    loss += lw * m_loss\n",
    "\n",
    "            elif 'data2ptr' in inputs:\n",
    "                idx = torch.where(inputs['data2ptr'])[0]\n",
    "                if len(idx) > 0:\n",
    "                    inputs_o = encoder(data_input_ids=inputs['input_ids'], \n",
    "                                       data_attention_mask=inputs['attention_mask'], data_type=\"meta\")\n",
    "                    m_loss = self.rep_loss_fn(data_repr[idx], inputs_o.rep, inputs['data2ptr'][idx], inputs['idx'], \n",
    "                                              inputs['pdata2ptr'][idx], inputs['pidx'])\n",
    "                    loss += lw * m_loss       \n",
    "\n",
    "            else: raise ValueError('Invalid metadata input arguments.')\n",
    "        return loss\n",
    "    \n",
    "    def compute_fusion_loss(self, data_repr, meta_repr:Dict, prefix:str, **kwargs):\n",
    "        meta_inputs = Parameters.from_meta_pred_prefix(prefix, **kwargs)\n",
    "        \n",
    "        loss = 0.0\n",
    "        for key,input_repr in meta_repr.items():\n",
    "            inputs = meta_inputs[key]\n",
    "            if 'lbl2data2ptr' in inputs:\n",
    "                idx = torch.where(inputs['lbl2data2ptr'])[0]\n",
    "                if len(idx) > 0:\n",
    "                    m_loss = self.rep_loss_fn(data_repr[idx], input_repr, inputs['data2ptr'][idx],\n",
    "                                              inputs['idx'], inputs['pdata2ptr'][idx], inputs['pidx'])\n",
    "                    loss += self.f_lw * m_loss\n",
    "\n",
    "            elif 'data2ptr' in inputs:\n",
    "                idx = torch.where(inputs['data2ptr'])[0]\n",
    "                if len(idx) > 0:\n",
    "                    m_loss = self.rep_loss_fn(data_repr[idx], input_repr, inputs['data2ptr'][idx], inputs['idx'], \n",
    "                                              inputs['pdata2ptr'][idx], inputs['pidx'])\n",
    "                    loss += self.f_lw * m_loss       \n",
    "\n",
    "            else: raise ValueError('Invalid metadata input arguments.')\n",
    "        return loss\n",
    "    \n",
    "        \n",
    "\n",
    "    def disable_noise(self):\n",
    "        use_noise = self.encoder.module.use_noise if isinstance(self.encoder, XCDataParallel) else self.encoder.use_noise\n",
    "        if isinstance(self.encoder, XCDataParallel): self.encoder.module.use_noise = False\n",
    "        else: self.encoder.use_noise = False\n",
    "        return use_noise\n",
    "    \n",
    "    def set_noise(self, use_noise):\n",
    "        if isinstance(self.encoder, XCDataParallel): self.encoder.module.use_noise = use_noise\n",
    "        else: self.encoder.use_noise = use_noise\n",
    "            \n",
    "    def get_noise(self):\n",
    "        return self.encoder.module.use_noise if isinstance(self.encoder, XCDataParallel) else self.encoder.use_noise\n",
    "\n",
    "    def get_meta_representation(\n",
    "        self,\n",
    "        data_input_ids:Optional[torch.Tensor]=None,\n",
    "        data_attention_mask:Optional[torch.Tensor]=None,\n",
    "        **kwargs\n",
    "    ):\n",
    "        if self.use_encoder_parallel: \n",
    "            encoder = XCDataParallel(module=self.encoder)\n",
    "        else: encoder = self.encoder\n",
    "            \n",
    "        data_o = encoder(data_input_ids=data_input_ids, data_attention_mask=data_attention_mask, \n",
    "                         data_unnormalized=True, data_type=\"meta\")\n",
    "        return RADOutput(\n",
    "            logits=data_o.logits,\n",
    "            data_repr=data_o.rep,\n",
    "            data_fused_repr=data_o.fused_rep,\n",
    "        )\n",
    "        \n",
    "        \n",
    "    def get_last_item_mask(self, num_input:torch.Tensor, input_sz:int):\n",
    "        idx = torch.where(num_input > 0)[0]\n",
    "        input_ptr = num_input[idx].cumsum(dim=0)-1\n",
    "        return torch.zeros(input_sz, dtype=torch.bool, device=num_input.device).scatter(0, input_ptr, 1)\n",
    "\n",
    "\n",
    "    def forward(\n",
    "        self,\n",
    "        data_input_ids:Optional[torch.Tensor]=None,\n",
    "        data_attention_mask:Optional[torch.Tensor]=None,\n",
    "        lbl2data_data2ptr:Optional[torch.Tensor]=None,\n",
    "        lbl2data_idx:Optional[torch.Tensor]=None,\n",
    "        lbl2data_input_ids:Optional[torch.Tensor]=None,\n",
    "        lbl2data_attention_mask:Optional[torch.Tensor]=None,\n",
    "        plbl2data_data2ptr:Optional[torch.Tensor]=None,\n",
    "        plbl2data_idx:Optional[torch.Tensor]=None,\n",
    "        output_attentions: Optional[bool] = None,\n",
    "        output_hidden_states: Optional[bool] = None,\n",
    "        return_dict: Optional[bool] = None,\n",
    "        **kwargs\n",
    "    ): \n",
    "        return_dict = return_dict if return_dict is not None else self.config.use_return_dict\n",
    "        \n",
    "        if self.use_encoder_parallel: \n",
    "            encoder = XCDataParallel(module=self.encoder)\n",
    "        else: encoder = self.encoder\n",
    "        \n",
    "        data_meta_kwargs = Parameters.from_feat_meta_aug_prefix('data', self.data_aug_meta_prefix, **kwargs)\n",
    "        data_o = encoder(data_input_ids=data_input_ids, data_attention_mask=data_attention_mask, \n",
    "                         data_aug_meta_prefix=self.data_aug_meta_prefix, **data_meta_kwargs)\n",
    "        \n",
    "        \n",
    "        loss = None; lbl2data_o = EncoderOutput()\n",
    "        if lbl2data_input_ids is not None:\n",
    "            lbl2data_meta_kwargs = Parameters.from_feat_meta_aug_prefix('lbl2data', self.lbl2data_aug_meta_prefix, **kwargs)\n",
    "            \n",
    "            lbl2data_o = encoder(data_input_ids=lbl2data_input_ids, data_attention_mask=lbl2data_attention_mask, \n",
    "                                 data_aug_meta_prefix=self.lbl2data_aug_meta_prefix, **lbl2data_meta_kwargs)\n",
    "            \n",
    "            loss = self.compute_loss(data_o.fused_rep, lbl2data_o.fused_rep,lbl2data_data2ptr,lbl2data_idx,\n",
    "                                     plbl2data_data2ptr,plbl2data_idx)\n",
    "            \n",
    "            loss += self.compute_meta_loss(data_o.fused_rep, lbl2data_o.fused_rep, **kwargs)\n",
    "            \n",
    "            if self.use_fusion_loss:\n",
    "                loss += self.compute_fusion_loss(data_o.fused_rep, data_o.meta_repr, self.data_aug_meta_prefix, **kwargs)\n",
    "                loss += self.compute_fusion_loss(lbl2data_o.fused_rep, lbl2data_o.meta_repr, self.lbl2data_aug_meta_prefix, **kwargs)\n",
    "            \n",
    "        if not return_dict:\n",
    "            o = (data_o.logits,data_o.rep,data_o.fused_rep,lbl2data_o.logits,lbl2data_o.rep,lbl2data_o.fused_rep)\n",
    "            return ((loss,) + o) if loss is not None else o\n",
    "        \n",
    "        \n",
    "        return RADOutput(\n",
    "            loss=loss,\n",
    "            \n",
    "            data_repr=data_o.rep,\n",
    "            data_fused_repr=data_o.fused_rep,\n",
    "            \n",
    "            lbl2data_repr=lbl2data_o.rep,\n",
    "            lbl2data_fused_repr=lbl2data_o.fused_rep,\n",
    "        )\n",
    "        "
   ]
  },
  {
   "cell_type": "markdown",
   "id": "7ad29670-b8a1-4c4a-9ed1-688cf1688942",
   "metadata": {},
   "source": [
    "### Example"
   ]
  },
  {
   "cell_type": "code",
   "execution_count": null,
   "id": "ac6c3368-2fa0-4de1-9f08-af5457072ac5",
   "metadata": {},
   "outputs": [
    {
     "name": "stderr",
     "output_type": "stream",
     "text": [
      "Some weights of RAD002 were not initialized from the model checkpoint at distilbert-base-uncased and are newly initialized: ['encoder.cross_head.k.bias', 'encoder.cross_head.k.weight', 'encoder.cross_head.o.bias', 'encoder.cross_head.o.weight', 'encoder.cross_head.q.bias', 'encoder.cross_head.q.weight', 'encoder.cross_head.v.bias', 'encoder.cross_head.v.weight', 'encoder.dr_head.layer_norm.bias', 'encoder.dr_head.layer_norm.weight', 'encoder.dr_head.projector.bias', 'encoder.dr_head.projector.weight', 'encoder.dr_head.transform.bias', 'encoder.dr_head.transform.weight', 'encoder.meta_head.layer_norm.bias', 'encoder.meta_head.layer_norm.weight', 'encoder.meta_head.projector.bias', 'encoder.meta_head.projector.weight', 'encoder.meta_head.transform.bias', 'encoder.meta_head.transform.weight']\n",
      "You should probably TRAIN this model on a down-stream task to be able to use it for predictions and inference.\n"
     ]
    }
   ],
   "source": [
    "model = RAD002.from_pretrained('distilbert-base-uncased', num_batch_labels=5000, batch_size=100,\n",
    "                               margin=0.3, num_negatives=5, tau=0.1, apply_softmax=True,\n",
    "                               \n",
    "                               data_aug_meta_prefix='cat2data', lbl2data_aug_meta_prefix='cat2lbl', \n",
    "                               resize_length=5000,\n",
    "                               \n",
    "                               meta_loss_weight=0.3, pred_meta_prefix='hlk', \n",
    "                               \n",
    "                               fusion_loss_weight=0.05, use_fusion_loss=True, use_noise=True, use_encoder_parallel=False)\n",
    "model.init_retrieval_head()\n",
    "model.init_cross_head()"
   ]
  },
  {
   "cell_type": "code",
   "execution_count": null,
   "id": "a7597bab-4125-48b5-8c7e-411ec4b8af77",
   "metadata": {},
   "outputs": [],
   "source": [
    "model = model.to('cuda')"
   ]
  },
  {
   "cell_type": "code",
   "execution_count": null,
   "id": "d67ccf90-490a-484c-b163-92094f37632e",
   "metadata": {},
   "outputs": [],
   "source": [
    "b = prepare_batch(model, batch, m_args=[\n",
    "    'pcat2data_idx', 'pcat2data_data2ptr', 'cat2data_idx', 'cat2data_input_ids', 'cat2data_attention_mask', \n",
    "    'cat2data_data2ptr',\n",
    "    'pcat2lbl_idx', 'pcat2lbl_lbl2data2ptr', 'pcat2lbl_data2ptr', 'cat2lbl_idx', 'cat2lbl_input_ids', \n",
    "    'cat2lbl_attention_mask', 'cat2lbl_lbl2data2ptr', 'cat2lbl_data2ptr',\n",
    "    \n",
    "    'phlk2data_idx', 'phlk2data_data2ptr', 'hlk2data_idx', 'hlk2data_input_ids', 'hlk2data_attention_mask', \n",
    "    'hlk2data_data2ptr',\n",
    "    'phlk2lbl_idx', 'phlk2lbl_lbl2data2ptr', 'phlk2lbl_data2ptr', 'hlk2lbl_idx', 'hlk2lbl_input_ids', \n",
    "    'hlk2lbl_attention_mask', 'hlk2lbl_lbl2data2ptr', 'hlk2lbl_data2ptr',\n",
    "])"
   ]
  },
  {
   "cell_type": "code",
   "execution_count": null,
   "id": "b7739b8c-6990-46e8-92a7-3e798638f272",
   "metadata": {},
   "outputs": [],
   "source": [
    "b = prepare_batch(model, batch, m_args=[\n",
    "    'pcat2data_idx', 'pcat2data_data2ptr', 'cat2data_idx', 'cat2data_input_ids', 'cat2data_attention_mask', \n",
    "    'cat2data_data2ptr',\n",
    "    'pcat2lbl_idx', 'pcat2lbl_lbl2data2ptr', 'pcat2lbl_data2ptr', 'cat2lbl_idx', 'cat2lbl_input_ids', \n",
    "    'cat2lbl_attention_mask', 'cat2lbl_lbl2data2ptr', 'cat2lbl_data2ptr',\n",
    "])"
   ]
  },
  {
   "cell_type": "code",
   "execution_count": null,
   "id": "46be5291-396b-461a-ba4a-31b02a2dd394",
   "metadata": {},
   "outputs": [
    {
     "name": "stdout",
     "output_type": "stream",
     "text": [
      "> /tmp/ipykernel_13391/170928568.py(168)forward()\n",
      "    166         import pdb; pdb.set_trace()\n",
      "    167 \n",
      "--> 168         return_dict = return_dict if return_dict is not None else self.config.use_return_dict\n",
      "    169 \n",
      "    170         if self.use_encoder_parallel:\n",
      "\n"
     ]
    },
    {
     "name": "stdin",
     "output_type": "stream",
     "text": [
      "ipdb>  n\n"
     ]
    },
    {
     "name": "stdout",
     "output_type": "stream",
     "text": [
      "> /tmp/ipykernel_13391/170928568.py(170)forward()\n",
      "    168         return_dict = return_dict if return_dict is not None else self.config.use_return_dict\n",
      "    169 \n",
      "--> 170         if self.use_encoder_parallel:\n",
      "    171             encoder = XCDataParallel(module=self.encoder)\n",
      "    172         else: encoder = self.encoder\n",
      "\n"
     ]
    },
    {
     "name": "stdin",
     "output_type": "stream",
     "text": [
      "ipdb>  \n"
     ]
    },
    {
     "name": "stdout",
     "output_type": "stream",
     "text": [
      "> /tmp/ipykernel_13391/170928568.py(172)forward()\n",
      "    170         if self.use_encoder_parallel:\n",
      "    171             encoder = XCDataParallel(module=self.encoder)\n",
      "--> 172         else: encoder = self.encoder\n",
      "    173 \n",
      "    174         data_meta_kwargs = Parameters.from_feat_meta_aug_prefix('data', self.data_aug_meta_prefix, **kwargs)\n",
      "\n"
     ]
    },
    {
     "name": "stdin",
     "output_type": "stream",
     "text": [
      "ipdb>  c\n"
     ]
    },
    {
     "name": "stdout",
     "output_type": "stream",
     "text": [
      "> /tmp/ipykernel_13391/1766686128.py(137)forward()\n",
      "    135     ):\n",
      "    136         import pdb; pdb.set_trace()\n",
      "--> 137         data_o = self.encode(data_input_ids, data_attention_mask)\n",
      "    138 \n",
      "    139         if data_type is not None and data_type == \"meta\":\n",
      "\n"
     ]
    },
    {
     "name": "stdin",
     "output_type": "stream",
     "text": [
      "ipdb>  n\n"
     ]
    },
    {
     "name": "stdout",
     "output_type": "stream",
     "text": [
      "> /tmp/ipykernel_13391/1766686128.py(139)forward()\n",
      "    137         data_o = self.encode(data_input_ids, data_attention_mask)\n",
      "    138 \n",
      "--> 139         if data_type is not None and data_type == \"meta\":\n",
      "    140             data_repr = self.meta_unnormalized(data_o[0], data_attention_mask) if data_unnormalized else self.meta(data_o[0], data_attention_mask)\n",
      "    141         else:\n",
      "\n"
     ]
    },
    {
     "name": "stdin",
     "output_type": "stream",
     "text": [
      "ipdb>  \n"
     ]
    },
    {
     "name": "stdout",
     "output_type": "stream",
     "text": [
      "> /tmp/ipykernel_13391/1766686128.py(142)forward()\n",
      "    140             data_repr = self.meta_unnormalized(data_o[0], data_attention_mask) if data_unnormalized else self.meta(data_o[0], data_attention_mask)\n",
      "    141         else:\n",
      "--> 142             data_repr = self.dr(data_o[0], data_attention_mask)\n",
      "    143 \n",
      "    144         data_fused_repr = data_fused_logits = fusion_weights = meta_repr = None\n",
      "\n"
     ]
    },
    {
     "name": "stdin",
     "output_type": "stream",
     "text": [
      "ipdb>  \n"
     ]
    },
    {
     "name": "stdout",
     "output_type": "stream",
     "text": [
      "> /tmp/ipykernel_13391/1766686128.py(144)forward()\n",
      "    142             data_repr = self.dr(data_o[0], data_attention_mask)\n",
      "    143 \n",
      "--> 144         data_fused_repr = data_fused_logits = fusion_weights = meta_repr = None\n",
      "    145         if data_aug_meta_prefix is not None:\n",
      "    146             data_fused_embed, fusion_weights, meta_repr = self.fuse_meta_into_embeddings(data_o[0], \n",
      "\n"
     ]
    },
    {
     "name": "stdin",
     "output_type": "stream",
     "text": [
      "ipdb>  \n"
     ]
    },
    {
     "name": "stdout",
     "output_type": "stream",
     "text": [
      "> /tmp/ipykernel_13391/1766686128.py(145)forward()\n",
      "    143 \n",
      "    144         data_fused_repr = data_fused_logits = fusion_weights = meta_repr = None\n",
      "--> 145         if data_aug_meta_prefix is not None:\n",
      "    146             data_fused_embed, fusion_weights, meta_repr = self.fuse_meta_into_embeddings(data_o[0], \n",
      "    147                                                                                          data_attention_mask,\n",
      "\n"
     ]
    },
    {
     "name": "stdin",
     "output_type": "stream",
     "text": [
      "ipdb>  \n"
     ]
    },
    {
     "name": "stdout",
     "output_type": "stream",
     "text": [
      "> /tmp/ipykernel_13391/1766686128.py(146)forward()\n",
      "    144         data_fused_repr = data_fused_logits = fusion_weights = meta_repr = None\n",
      "    145         if data_aug_meta_prefix is not None:\n",
      "--> 146             data_fused_embed, fusion_weights, meta_repr = self.fuse_meta_into_embeddings(data_o[0], \n",
      "    147                                                                                          data_attention_mask,\n",
      "    148                                                                                          data_aug_meta_prefix,\n",
      "\n"
     ]
    },
    {
     "name": "stdin",
     "output_type": "stream",
     "text": [
      "ipdb>  \n"
     ]
    },
    {
     "name": "stdout",
     "output_type": "stream",
     "text": [
      "> /tmp/ipykernel_13391/1766686128.py(147)forward()\n",
      "    145         if data_aug_meta_prefix is not None:\n",
      "    146             data_fused_embed, fusion_weights, meta_repr = self.fuse_meta_into_embeddings(data_o[0], \n",
      "--> 147                                                                                          data_attention_mask,\n",
      "    148                                                                                          data_aug_meta_prefix,\n",
      "    149                                                                                          **kwargs)\n",
      "\n"
     ]
    },
    {
     "name": "stdin",
     "output_type": "stream",
     "text": [
      "ipdb>  \n"
     ]
    },
    {
     "name": "stdout",
     "output_type": "stream",
     "text": [
      "> /tmp/ipykernel_13391/1766686128.py(148)forward()\n",
      "    146             data_fused_embed, fusion_weights, meta_repr = self.fuse_meta_into_embeddings(data_o[0], \n",
      "    147                                                                                          data_attention_mask,\n",
      "--> 148                                                                                          data_aug_meta_prefix,\n",
      "    149                                                                                          **kwargs)\n",
      "    150             data_fused_repr = self.dr(data_fused_embed, data_attention_mask)\n",
      "\n"
     ]
    },
    {
     "name": "stdin",
     "output_type": "stream",
     "text": [
      "ipdb>  \n"
     ]
    },
    {
     "name": "stdout",
     "output_type": "stream",
     "text": [
      "> /tmp/ipykernel_13391/1766686128.py(146)forward()\n",
      "    144         data_fused_repr = data_fused_logits = fusion_weights = meta_repr = None\n",
      "    145         if data_aug_meta_prefix is not None:\n",
      "--> 146             data_fused_embed, fusion_weights, meta_repr = self.fuse_meta_into_embeddings(data_o[0], \n",
      "    147                                                                                          data_attention_mask,\n",
      "    148                                                                                          data_aug_meta_prefix,\n",
      "\n"
     ]
    },
    {
     "name": "stdin",
     "output_type": "stream",
     "text": [
      "ipdb>  \n"
     ]
    },
    {
     "name": "stdout",
     "output_type": "stream",
     "text": [
      "> /tmp/ipykernel_13391/1766686128.py(149)forward()\n",
      "    147                                                                                          data_attention_mask,\n",
      "    148                                                                                          data_aug_meta_prefix,\n",
      "--> 149                                                                                          **kwargs)\n",
      "    150             data_fused_repr = self.dr(data_fused_embed, data_attention_mask)\n",
      "    151 \n",
      "\n"
     ]
    },
    {
     "name": "stdin",
     "output_type": "stream",
     "text": [
      "ipdb>  \n"
     ]
    },
    {
     "name": "stdout",
     "output_type": "stream",
     "text": [
      "> /tmp/ipykernel_13391/1766686128.py(146)forward()\n",
      "    144         data_fused_repr = data_fused_logits = fusion_weights = meta_repr = None\n",
      "    145         if data_aug_meta_prefix is not None:\n",
      "--> 146             data_fused_embed, fusion_weights, meta_repr = self.fuse_meta_into_embeddings(data_o[0], \n",
      "    147                                                                                          data_attention_mask,\n",
      "    148                                                                                          data_aug_meta_prefix,\n",
      "\n"
     ]
    },
    {
     "name": "stdin",
     "output_type": "stream",
     "text": [
      "ipdb>  s\n"
     ]
    },
    {
     "name": "stdout",
     "output_type": "stream",
     "text": [
      "--Call--\n",
      "> /tmp/ipykernel_13391/1766686128.py(87)fuse_meta_into_embeddings()\n",
      "     85 \n",
      "     86 \n",
      "---> 87     def fuse_meta_into_embeddings(self, embed:torch.Tensor, attention_mask:torch.Tensor, prefix:str, **kwargs):\n",
      "     88         meta_kwargs = Parameters.from_meta_aug_prefix(prefix, **kwargs)\n",
      "     89         meta_repr, weights = {}, []\n",
      "\n"
     ]
    },
    {
     "name": "stdin",
     "output_type": "stream",
     "text": [
      "ipdb>  n\n"
     ]
    },
    {
     "name": "stdout",
     "output_type": "stream",
     "text": [
      "> /tmp/ipykernel_13391/1766686128.py(88)fuse_meta_into_embeddings()\n",
      "     86 \n",
      "     87     def fuse_meta_into_embeddings(self, embed:torch.Tensor, attention_mask:torch.Tensor, prefix:str, **kwargs):\n",
      "---> 88         meta_kwargs = Parameters.from_meta_aug_prefix(prefix, **kwargs)\n",
      "     89         meta_repr, weights = {}, []\n",
      "     90 \n",
      "\n"
     ]
    },
    {
     "name": "stdin",
     "output_type": "stream",
     "text": [
      "ipdb>  \n"
     ]
    },
    {
     "name": "stdout",
     "output_type": "stream",
     "text": [
      "> /tmp/ipykernel_13391/1766686128.py(89)fuse_meta_into_embeddings()\n",
      "     87     def fuse_meta_into_embeddings(self, embed:torch.Tensor, attention_mask:torch.Tensor, prefix:str, **kwargs):\n",
      "     88         meta_kwargs = Parameters.from_meta_aug_prefix(prefix, **kwargs)\n",
      "---> 89         meta_repr, weights = {}, []\n",
      "     90 \n",
      "     91         for m_key, m_args in meta_kwargs.items():\n",
      "\n"
     ]
    },
    {
     "name": "stdin",
     "output_type": "stream",
     "text": [
      "ipdb>  \n"
     ]
    },
    {
     "name": "stdout",
     "output_type": "stream",
     "text": [
      "> /tmp/ipykernel_13391/1766686128.py(91)fuse_meta_into_embeddings()\n",
      "     89         meta_repr, weights = {}, []\n",
      "     90 \n",
      "---> 91         for m_key, m_args in meta_kwargs.items():\n",
      "     92             idx = torch.where(m_args['data2ptr'] > 0)[0]\n",
      "     93             meta_repr[m_key] = torch.empty(0, self.config.dim).to(embed)\n",
      "\n"
     ]
    },
    {
     "name": "stdin",
     "output_type": "stream",
     "text": [
      "ipdb>  \n"
     ]
    },
    {
     "name": "stdout",
     "output_type": "stream",
     "text": [
      "> /tmp/ipykernel_13391/1766686128.py(92)fuse_meta_into_embeddings()\n",
      "     90 \n",
      "     91         for m_key, m_args in meta_kwargs.items():\n",
      "---> 92             idx = torch.where(m_args['data2ptr'] > 0)[0]\n",
      "     93             meta_repr[m_key] = torch.empty(0, self.config.dim).to(embed)\n",
      "     94 \n",
      "\n"
     ]
    },
    {
     "name": "stdin",
     "output_type": "stream",
     "text": [
      "ipdb>  \n"
     ]
    },
    {
     "name": "stdout",
     "output_type": "stream",
     "text": [
      "> /tmp/ipykernel_13391/1766686128.py(93)fuse_meta_into_embeddings()\n",
      "     91         for m_key, m_args in meta_kwargs.items():\n",
      "     92             idx = torch.where(m_args['data2ptr'] > 0)[0]\n",
      "---> 93             meta_repr[m_key] = torch.empty(0, self.config.dim).to(embed)\n",
      "     94 \n",
      "     95             if len(idx):\n",
      "\n"
     ]
    },
    {
     "name": "stdin",
     "output_type": "stream",
     "text": [
      "ipdb>  \n"
     ]
    },
    {
     "name": "stdout",
     "output_type": "stream",
     "text": [
      "> /tmp/ipykernel_13391/1766686128.py(95)fuse_meta_into_embeddings()\n",
      "     93             meta_repr[m_key] = torch.empty(0, self.config.dim).to(embed)\n",
      "     94 \n",
      "---> 95             if len(idx):\n",
      "     96                 if 'meta_repr' in m_args:\n",
      "     97                     m_repr,m_repr_mask = m_args['meta_repr'],torch.any(m_args['attention_mask'], dim=1).long().view(-1,1)\n",
      "\n"
     ]
    },
    {
     "name": "stdin",
     "output_type": "stream",
     "text": [
      "ipdb>  \n"
     ]
    },
    {
     "name": "stdout",
     "output_type": "stream",
     "text": [
      "> /tmp/ipykernel_13391/1766686128.py(96)fuse_meta_into_embeddings()\n",
      "     94 \n",
      "     95             if len(idx):\n",
      "---> 96                 if 'meta_repr' in m_args:\n",
      "     97                     m_repr,m_repr_mask = m_args['meta_repr'],torch.any(m_args['attention_mask'], dim=1).long().view(-1,1)\n",
      "     98                     m_repr,m_repr_mask = self.resize(m_repr, m_repr_mask, m_args['data2ptr'][idx])\n",
      "\n"
     ]
    },
    {
     "name": "stdin",
     "output_type": "stream",
     "text": [
      "ipdb>  \n"
     ]
    },
    {
     "name": "stdout",
     "output_type": "stream",
     "text": [
      "> /tmp/ipykernel_13391/1766686128.py(101)fuse_meta_into_embeddings()\n",
      "     99                     m_repr_mask = m_repr_mask.bool()\n",
      "    100                 else:\n",
      "--> 101                     m_input_ids, m_attention_mask = self.resize(m_args['input_ids'], m_args['attention_mask'], \n",
      "    102                                                                 m_args['data2ptr'][idx])\n",
      "    103 \n",
      "\n"
     ]
    },
    {
     "name": "stdin",
     "output_type": "stream",
     "text": [
      "ipdb>  \n"
     ]
    },
    {
     "name": "stdout",
     "output_type": "stream",
     "text": [
      "> /tmp/ipykernel_13391/1766686128.py(102)fuse_meta_into_embeddings()\n",
      "    100                 else:\n",
      "    101                     m_input_ids, m_attention_mask = self.resize(m_args['input_ids'], m_args['attention_mask'], \n",
      "--> 102                                                                 m_args['data2ptr'][idx])\n",
      "    103 \n",
      "    104                     if self.use_noise:\n",
      "\n"
     ]
    },
    {
     "name": "stdin",
     "output_type": "stream",
     "text": [
      "ipdb>  \n"
     ]
    },
    {
     "name": "stdout",
     "output_type": "stream",
     "text": [
      "> /tmp/ipykernel_13391/1766686128.py(101)fuse_meta_into_embeddings()\n",
      "     99                     m_repr_mask = m_repr_mask.bool()\n",
      "    100                 else:\n",
      "--> 101                     m_input_ids, m_attention_mask = self.resize(m_args['input_ids'], m_args['attention_mask'], \n",
      "    102                                                                 m_args['data2ptr'][idx])\n",
      "    103 \n",
      "\n"
     ]
    },
    {
     "name": "stdin",
     "output_type": "stream",
     "text": [
      "ipdb>  \n"
     ]
    },
    {
     "name": "stdout",
     "output_type": "stream",
     "text": [
      "> /tmp/ipykernel_13391/1766686128.py(104)fuse_meta_into_embeddings()\n",
      "    102                                                                 m_args['data2ptr'][idx])\n",
      "    103 \n",
      "--> 104                     if self.use_noise:\n",
      "    105                         n_input_ids, n_attention_mask = self.get_noise(m_args['input_ids'], m_args['attention_mask'], \n",
      "    106                                                                        m_args['data2ptr'][idx])\n",
      "\n"
     ]
    },
    {
     "name": "stdin",
     "output_type": "stream",
     "text": [
      "ipdb>  \n"
     ]
    },
    {
     "name": "stdout",
     "output_type": "stream",
     "text": [
      "> /tmp/ipykernel_13391/1766686128.py(105)fuse_meta_into_embeddings()\n",
      "    103 \n",
      "    104                     if self.use_noise:\n",
      "--> 105                         n_input_ids, n_attention_mask = self.get_noise(m_args['input_ids'], m_args['attention_mask'], \n",
      "    106                                                                        m_args['data2ptr'][idx])\n",
      "    107                         m_input_ids, m_attention_mask = self.add_noise(m_input_ids, m_attention_mask, \n",
      "\n"
     ]
    },
    {
     "name": "stdin",
     "output_type": "stream",
     "text": [
      "ipdb>  \n"
     ]
    },
    {
     "name": "stdout",
     "output_type": "stream",
     "text": [
      "> /tmp/ipykernel_13391/1766686128.py(106)fuse_meta_into_embeddings()\n",
      "    104                     if self.use_noise:\n",
      "    105                         n_input_ids, n_attention_mask = self.get_noise(m_args['input_ids'], m_args['attention_mask'], \n",
      "--> 106                                                                        m_args['data2ptr'][idx])\n",
      "    107                         m_input_ids, m_attention_mask = self.add_noise(m_input_ids, m_attention_mask, \n",
      "    108                                                                        n_input_ids, n_attention_mask)\n",
      "\n"
     ]
    },
    {
     "name": "stdin",
     "output_type": "stream",
     "text": [
      "ipdb>  \n"
     ]
    },
    {
     "name": "stdout",
     "output_type": "stream",
     "text": [
      "> /tmp/ipykernel_13391/1766686128.py(105)fuse_meta_into_embeddings()\n",
      "    103 \n",
      "    104                     if self.use_noise:\n",
      "--> 105                         n_input_ids, n_attention_mask = self.get_noise(m_args['input_ids'], m_args['attention_mask'], \n",
      "    106                                                                        m_args['data2ptr'][idx])\n",
      "    107                         m_input_ids, m_attention_mask = self.add_noise(m_input_ids, m_attention_mask, \n",
      "\n"
     ]
    },
    {
     "name": "stdin",
     "output_type": "stream",
     "text": [
      "ipdb>  \n"
     ]
    },
    {
     "name": "stdout",
     "output_type": "stream",
     "text": [
      "> /tmp/ipykernel_13391/1766686128.py(107)fuse_meta_into_embeddings()\n",
      "    105                         n_input_ids, n_attention_mask = self.get_noise(m_args['input_ids'], m_args['attention_mask'], \n",
      "    106                                                                        m_args['data2ptr'][idx])\n",
      "--> 107                         m_input_ids, m_attention_mask = self.add_noise(m_input_ids, m_attention_mask, \n",
      "    108                                                                        n_input_ids, n_attention_mask)\n",
      "    109 \n",
      "\n"
     ]
    },
    {
     "name": "stdin",
     "output_type": "stream",
     "text": [
      "ipdb>  \n"
     ]
    },
    {
     "name": "stdout",
     "output_type": "stream",
     "text": [
      "> /tmp/ipykernel_13391/1766686128.py(108)fuse_meta_into_embeddings()\n",
      "    106                                                                        m_args['data2ptr'][idx])\n",
      "    107                         m_input_ids, m_attention_mask = self.add_noise(m_input_ids, m_attention_mask, \n",
      "--> 108                                                                        n_input_ids, n_attention_mask)\n",
      "    109 \n",
      "    110                     m_embed = self.encode(m_input_ids, m_attention_mask)[0]\n",
      "\n"
     ]
    },
    {
     "name": "stdin",
     "output_type": "stream",
     "text": [
      "ipdb>  n\n"
     ]
    },
    {
     "name": "stdout",
     "output_type": "stream",
     "text": [
      "> /tmp/ipykernel_13391/1766686128.py(107)fuse_meta_into_embeddings()\n",
      "    105                         n_input_ids, n_attention_mask = self.get_noise(m_args['input_ids'], m_args['attention_mask'], \n",
      "    106                                                                        m_args['data2ptr'][idx])\n",
      "--> 107                         m_input_ids, m_attention_mask = self.add_noise(m_input_ids, m_attention_mask, \n",
      "    108                                                                        n_input_ids, n_attention_mask)\n",
      "    109 \n",
      "\n"
     ]
    },
    {
     "name": "stdin",
     "output_type": "stream",
     "text": [
      "ipdb>  \n"
     ]
    },
    {
     "name": "stdout",
     "output_type": "stream",
     "text": [
      "> /tmp/ipykernel_13391/1766686128.py(110)fuse_meta_into_embeddings()\n",
      "    108                                                                        n_input_ids, n_attention_mask)\n",
      "    109 \n",
      "--> 110                     m_embed = self.encode(m_input_ids, m_attention_mask)[0]\n",
      "    111 \n",
      "    112                     m_repr = self.meta_unnormalized(m_embed, m_attention_mask)\n",
      "\n"
     ]
    },
    {
     "name": "stdin",
     "output_type": "stream",
     "text": [
      "ipdb>  \n"
     ]
    },
    {
     "name": "stdout",
     "output_type": "stream",
     "text": [
      "> /tmp/ipykernel_13391/1766686128.py(112)fuse_meta_into_embeddings()\n",
      "    110                     m_embed = self.encode(m_input_ids, m_attention_mask)[0]\n",
      "    111 \n",
      "--> 112                     m_repr = self.meta_unnormalized(m_embed, m_attention_mask)\n",
      "    113                     m_repr_mask = torch.any(m_attention_mask, dim=1)\n",
      "    114 \n",
      "\n"
     ]
    },
    {
     "name": "stdin",
     "output_type": "stream",
     "text": [
      "ipdb>  \n"
     ]
    },
    {
     "name": "stdout",
     "output_type": "stream",
     "text": [
      "> /tmp/ipykernel_13391/1766686128.py(113)fuse_meta_into_embeddings()\n",
      "    111 \n",
      "    112                     m_repr = self.meta_unnormalized(m_embed, m_attention_mask)\n",
      "--> 113                     m_repr_mask = torch.any(m_attention_mask, dim=1)\n",
      "    114 \n",
      "    115                 m_repr, m_repr_mask = m_repr.view(len(idx), -1, self.config.dim), m_repr_mask.view(len(idx), -1)\n",
      "\n"
     ]
    },
    {
     "name": "stdin",
     "output_type": "stream",
     "text": [
      "ipdb>  \n"
     ]
    },
    {
     "name": "stdout",
     "output_type": "stream",
     "text": [
      "> /tmp/ipykernel_13391/1766686128.py(115)fuse_meta_into_embeddings()\n",
      "    113                     m_repr_mask = torch.any(m_attention_mask, dim=1)\n",
      "    114 \n",
      "--> 115                 m_repr, m_repr_mask = m_repr.view(len(idx), -1, self.config.dim), m_repr_mask.view(len(idx), -1)\n",
      "    116 \n",
      "    117                 meta_repr[m_key] = m_repr[:, :-1][m_repr_mask[:, :-1]] if self.use_noise else m_repr[m_repr_mask]\n",
      "\n"
     ]
    },
    {
     "name": "stdin",
     "output_type": "stream",
     "text": [
      "ipdb>  \n"
     ]
    },
    {
     "name": "stdout",
     "output_type": "stream",
     "text": [
      "> /tmp/ipykernel_13391/1766686128.py(117)fuse_meta_into_embeddings()\n",
      "    115                 m_repr, m_repr_mask = m_repr.view(len(idx), -1, self.config.dim), m_repr_mask.view(len(idx), -1)\n",
      "    116 \n",
      "--> 117                 meta_repr[m_key] = m_repr[:, :-1][m_repr_mask[:, :-1]] if self.use_noise else m_repr[m_repr_mask]\n",
      "    118                 meta_repr[m_key] = F.normalize(meta_repr[m_key], dim=1)\n",
      "    119 \n",
      "\n"
     ]
    },
    {
     "name": "stdin",
     "output_type": "stream",
     "text": [
      "ipdb>  n\n"
     ]
    },
    {
     "name": "stdout",
     "output_type": "stream",
     "text": [
      "> /tmp/ipykernel_13391/1766686128.py(118)fuse_meta_into_embeddings()\n",
      "    116 \n",
      "    117                 meta_repr[m_key] = m_repr[:, :-1][m_repr_mask[:, :-1]] if self.use_noise else m_repr[m_repr_mask]\n",
      "--> 118                 meta_repr[m_key] = F.normalize(meta_repr[m_key], dim=1)\n",
      "    119 \n",
      "    120                 fused_embed, w = self.cross_head(embed[idx], attention_mask[idx], m_repr, m_repr_mask, output_attentions=True)\n",
      "\n"
     ]
    },
    {
     "name": "stdin",
     "output_type": "stream",
     "text": [
      "ipdb>  \n"
     ]
    },
    {
     "name": "stdout",
     "output_type": "stream",
     "text": [
      "> /tmp/ipykernel_13391/1766686128.py(120)fuse_meta_into_embeddings()\n",
      "    118                 meta_repr[m_key] = F.normalize(meta_repr[m_key], dim=1)\n",
      "    119 \n",
      "--> 120                 fused_embed, w = self.cross_head(embed[idx], attention_mask[idx], m_repr, m_repr_mask, output_attentions=True)\n",
      "    121                 embed[idx] += fused_embed\n",
      "    122                 weights.append(w)\n",
      "\n"
     ]
    },
    {
     "name": "stdin",
     "output_type": "stream",
     "text": [
      "ipdb>  s\n"
     ]
    },
    {
     "name": "stdout",
     "output_type": "stream",
     "text": [
      "--Call--\n",
      "> /scratch/scai/phd/aiz218323/anaconda3/envs/xc_nlg/lib/python3.9/site-packages/torch/nn/modules/module.py(1675)__getattr__()\n",
      "   1673     # See full discussion on the problems with returning `Union` here\n",
      "   1674     # https://github.com/microsoft/pyright/issues/4213\n",
      "-> 1675     def __getattr__(self, name: str) -> Any:\n",
      "   1676         if '_parameters' in self.__dict__:\n",
      "   1677             _parameters = self.__dict__['_parameters']\n",
      "\n"
     ]
    },
    {
     "name": "stdin",
     "output_type": "stream",
     "text": [
      "ipdb>  n\n"
     ]
    },
    {
     "name": "stdout",
     "output_type": "stream",
     "text": [
      "> /scratch/scai/phd/aiz218323/anaconda3/envs/xc_nlg/lib/python3.9/site-packages/torch/nn/modules/module.py(1676)__getattr__()\n",
      "   1674     # https://github.com/microsoft/pyright/issues/4213\n",
      "   1675     def __getattr__(self, name: str) -> Any:\n",
      "-> 1676         if '_parameters' in self.__dict__:\n",
      "   1677             _parameters = self.__dict__['_parameters']\n",
      "   1678             if name in _parameters:\n",
      "\n"
     ]
    },
    {
     "name": "stdin",
     "output_type": "stream",
     "text": [
      "ipdb>  \n"
     ]
    },
    {
     "name": "stdout",
     "output_type": "stream",
     "text": [
      "> /scratch/scai/phd/aiz218323/anaconda3/envs/xc_nlg/lib/python3.9/site-packages/torch/nn/modules/module.py(1677)__getattr__()\n",
      "   1675     def __getattr__(self, name: str) -> Any:\n",
      "   1676         if '_parameters' in self.__dict__:\n",
      "-> 1677             _parameters = self.__dict__['_parameters']\n",
      "   1678             if name in _parameters:\n",
      "   1679                 return _parameters[name]\n",
      "\n"
     ]
    },
    {
     "name": "stdin",
     "output_type": "stream",
     "text": [
      "ipdb>  \n"
     ]
    },
    {
     "name": "stdout",
     "output_type": "stream",
     "text": [
      "> /scratch/scai/phd/aiz218323/anaconda3/envs/xc_nlg/lib/python3.9/site-packages/torch/nn/modules/module.py(1678)__getattr__()\n",
      "   1676         if '_parameters' in self.__dict__:\n",
      "   1677             _parameters = self.__dict__['_parameters']\n",
      "-> 1678             if name in _parameters:\n",
      "   1679                 return _parameters[name]\n",
      "   1680         if '_buffers' in self.__dict__:\n",
      "\n"
     ]
    },
    {
     "name": "stdin",
     "output_type": "stream",
     "text": [
      "ipdb>  \n"
     ]
    },
    {
     "name": "stdout",
     "output_type": "stream",
     "text": [
      "> /scratch/scai/phd/aiz218323/anaconda3/envs/xc_nlg/lib/python3.9/site-packages/torch/nn/modules/module.py(1680)__getattr__()\n",
      "   1678             if name in _parameters:\n",
      "   1679                 return _parameters[name]\n",
      "-> 1680         if '_buffers' in self.__dict__:\n",
      "   1681             _buffers = self.__dict__['_buffers']\n",
      "   1682             if name in _buffers:\n",
      "\n"
     ]
    },
    {
     "name": "stdin",
     "output_type": "stream",
     "text": [
      "ipdb>  \n"
     ]
    },
    {
     "name": "stdout",
     "output_type": "stream",
     "text": [
      "> /scratch/scai/phd/aiz218323/anaconda3/envs/xc_nlg/lib/python3.9/site-packages/torch/nn/modules/module.py(1681)__getattr__()\n",
      "   1679                 return _parameters[name]\n",
      "   1680         if '_buffers' in self.__dict__:\n",
      "-> 1681             _buffers = self.__dict__['_buffers']\n",
      "   1682             if name in _buffers:\n",
      "   1683                 return _buffers[name]\n",
      "\n"
     ]
    },
    {
     "name": "stdin",
     "output_type": "stream",
     "text": [
      "ipdb>  \n"
     ]
    },
    {
     "name": "stdout",
     "output_type": "stream",
     "text": [
      "> /scratch/scai/phd/aiz218323/anaconda3/envs/xc_nlg/lib/python3.9/site-packages/torch/nn/modules/module.py(1682)__getattr__()\n",
      "   1680         if '_buffers' in self.__dict__:\n",
      "   1681             _buffers = self.__dict__['_buffers']\n",
      "-> 1682             if name in _buffers:\n",
      "   1683                 return _buffers[name]\n",
      "   1684         if '_modules' in self.__dict__:\n",
      "\n"
     ]
    },
    {
     "name": "stdin",
     "output_type": "stream",
     "text": [
      "ipdb>  \n"
     ]
    },
    {
     "name": "stdout",
     "output_type": "stream",
     "text": [
      "> /scratch/scai/phd/aiz218323/anaconda3/envs/xc_nlg/lib/python3.9/site-packages/torch/nn/modules/module.py(1684)__getattr__()\n",
      "   1682             if name in _buffers:\n",
      "   1683                 return _buffers[name]\n",
      "-> 1684         if '_modules' in self.__dict__:\n",
      "   1685             modules = self.__dict__['_modules']\n",
      "   1686             if name in modules:\n",
      "\n"
     ]
    },
    {
     "name": "stdin",
     "output_type": "stream",
     "text": [
      "ipdb>  \n"
     ]
    },
    {
     "name": "stdout",
     "output_type": "stream",
     "text": [
      "> /scratch/scai/phd/aiz218323/anaconda3/envs/xc_nlg/lib/python3.9/site-packages/torch/nn/modules/module.py(1685)__getattr__()\n",
      "   1683                 return _buffers[name]\n",
      "   1684         if '_modules' in self.__dict__:\n",
      "-> 1685             modules = self.__dict__['_modules']\n",
      "   1686             if name in modules:\n",
      "   1687                 return modules[name]\n",
      "\n"
     ]
    },
    {
     "name": "stdin",
     "output_type": "stream",
     "text": [
      "ipdb>  \n"
     ]
    },
    {
     "name": "stdout",
     "output_type": "stream",
     "text": [
      "> /scratch/scai/phd/aiz218323/anaconda3/envs/xc_nlg/lib/python3.9/site-packages/torch/nn/modules/module.py(1686)__getattr__()\n",
      "   1684         if '_modules' in self.__dict__:\n",
      "   1685             modules = self.__dict__['_modules']\n",
      "-> 1686             if name in modules:\n",
      "   1687                 return modules[name]\n",
      "   1688         raise AttributeError(f\"'{type(self).__name__}' object has no attribute '{name}'\")\n",
      "\n"
     ]
    },
    {
     "name": "stdin",
     "output_type": "stream",
     "text": [
      "ipdb>  \n"
     ]
    },
    {
     "name": "stdout",
     "output_type": "stream",
     "text": [
      "> /scratch/scai/phd/aiz218323/anaconda3/envs/xc_nlg/lib/python3.9/site-packages/torch/nn/modules/module.py(1687)__getattr__()\n",
      "   1685             modules = self.__dict__['_modules']\n",
      "   1686             if name in modules:\n",
      "-> 1687                 return modules[name]\n",
      "   1688         raise AttributeError(f\"'{type(self).__name__}' object has no attribute '{name}'\")\n",
      "   1689 \n",
      "\n"
     ]
    },
    {
     "name": "stdin",
     "output_type": "stream",
     "text": [
      "ipdb>  \n"
     ]
    },
    {
     "name": "stdout",
     "output_type": "stream",
     "text": [
      "--Return--\n",
      "CrossAttentio..., bias=True)\n",
      ")\n",
      "> /scratch/scai/phd/aiz218323/anaconda3/envs/xc_nlg/lib/python3.9/site-packages/torch/nn/modules/module.py(1687)__getattr__()\n",
      "   1685             modules = self.__dict__['_modules']\n",
      "   1686             if name in modules:\n",
      "-> 1687                 return modules[name]\n",
      "   1688         raise AttributeError(f\"'{type(self).__name__}' object has no attribute '{name}'\")\n",
      "   1689 \n",
      "\n"
     ]
    },
    {
     "name": "stdin",
     "output_type": "stream",
     "text": [
      "ipdb>  \n"
     ]
    },
    {
     "name": "stdout",
     "output_type": "stream",
     "text": [
      "--Call--\n",
      "> /scratch/scai/phd/aiz218323/anaconda3/envs/xc_nlg/lib/python3.9/site-packages/torch/nn/modules/module.py(1507)_wrapped_call_impl()\n",
      "   1505         return result\n",
      "   1506 \n",
      "-> 1507     def _wrapped_call_impl(self, *args, **kwargs):\n",
      "   1508         if self._compiled_call_impl is not None:\n",
      "   1509             return self._compiled_call_impl(*args, **kwargs)  # type: ignore[misc]\n",
      "\n"
     ]
    },
    {
     "name": "stdin",
     "output_type": "stream",
     "text": [
      "ipdb>  \n"
     ]
    },
    {
     "name": "stdout",
     "output_type": "stream",
     "text": [
      "> /scratch/scai/phd/aiz218323/anaconda3/envs/xc_nlg/lib/python3.9/site-packages/torch/nn/modules/module.py(1508)_wrapped_call_impl()\n",
      "   1506 \n",
      "   1507     def _wrapped_call_impl(self, *args, **kwargs):\n",
      "-> 1508         if self._compiled_call_impl is not None:\n",
      "   1509             return self._compiled_call_impl(*args, **kwargs)  # type: ignore[misc]\n",
      "   1510         else:\n",
      "\n"
     ]
    },
    {
     "name": "stdin",
     "output_type": "stream",
     "text": [
      "ipdb>  \n"
     ]
    },
    {
     "name": "stdout",
     "output_type": "stream",
     "text": [
      "> /scratch/scai/phd/aiz218323/anaconda3/envs/xc_nlg/lib/python3.9/site-packages/torch/nn/modules/module.py(1511)_wrapped_call_impl()\n",
      "   1509             return self._compiled_call_impl(*args, **kwargs)  # type: ignore[misc]\n",
      "   1510         else:\n",
      "-> 1511             return self._call_impl(*args, **kwargs)\n",
      "   1512 \n",
      "   1513     def _call_impl(self, *args, **kwargs):\n",
      "\n"
     ]
    },
    {
     "name": "stdin",
     "output_type": "stream",
     "text": [
      "ipdb>  s\n"
     ]
    },
    {
     "name": "stdout",
     "output_type": "stream",
     "text": [
      "--Call--\n",
      "> /scratch/scai/phd/aiz218323/anaconda3/envs/xc_nlg/lib/python3.9/site-packages/torch/nn/modules/module.py(1513)_call_impl()\n",
      "   1511             return self._call_impl(*args, **kwargs)\n",
      "   1512 \n",
      "-> 1513     def _call_impl(self, *args, **kwargs):\n",
      "   1514         forward_call = (self._slow_forward if torch._C._get_tracing_state() else self.forward)\n",
      "   1515         # If we don't have any hooks, we want to skip the rest of the logic in\n",
      "\n"
     ]
    },
    {
     "name": "stdin",
     "output_type": "stream",
     "text": [
      "ipdb>  n\n"
     ]
    },
    {
     "name": "stdout",
     "output_type": "stream",
     "text": [
      "> /scratch/scai/phd/aiz218323/anaconda3/envs/xc_nlg/lib/python3.9/site-packages/torch/nn/modules/module.py(1514)_call_impl()\n",
      "   1512 \n",
      "   1513     def _call_impl(self, *args, **kwargs):\n",
      "-> 1514         forward_call = (self._slow_forward if torch._C._get_tracing_state() else self.forward)\n",
      "   1515         # If we don't have any hooks, we want to skip the rest of the logic in\n",
      "   1516         # this function, and just call forward.\n",
      "\n"
     ]
    },
    {
     "name": "stdin",
     "output_type": "stream",
     "text": [
      "ipdb>  \n"
     ]
    },
    {
     "name": "stdout",
     "output_type": "stream",
     "text": [
      "> /scratch/scai/phd/aiz218323/anaconda3/envs/xc_nlg/lib/python3.9/site-packages/torch/nn/modules/module.py(1517)_call_impl()\n",
      "   1515         # If we don't have any hooks, we want to skip the rest of the logic in\n",
      "   1516         # this function, and just call forward.\n",
      "-> 1517         if not (self._backward_hooks or self._backward_pre_hooks or self._forward_hooks or self._forward_pre_hooks\n",
      "   1518                 or _global_backward_pre_hooks or _global_backward_hooks\n",
      "   1519                 or _global_forward_hooks or _global_forward_pre_hooks):\n",
      "\n"
     ]
    },
    {
     "name": "stdin",
     "output_type": "stream",
     "text": [
      "ipdb>  \n"
     ]
    },
    {
     "name": "stdout",
     "output_type": "stream",
     "text": [
      "> /scratch/scai/phd/aiz218323/anaconda3/envs/xc_nlg/lib/python3.9/site-packages/torch/nn/modules/module.py(1518)_call_impl()\n",
      "   1516         # this function, and just call forward.\n",
      "   1517         if not (self._backward_hooks or self._backward_pre_hooks or self._forward_hooks or self._forward_pre_hooks\n",
      "-> 1518                 or _global_backward_pre_hooks or _global_backward_hooks\n",
      "   1519                 or _global_forward_hooks or _global_forward_pre_hooks):\n",
      "   1520             return forward_call(*args, **kwargs)\n",
      "\n"
     ]
    },
    {
     "name": "stdin",
     "output_type": "stream",
     "text": [
      "ipdb>  \n"
     ]
    },
    {
     "name": "stdout",
     "output_type": "stream",
     "text": [
      "> /scratch/scai/phd/aiz218323/anaconda3/envs/xc_nlg/lib/python3.9/site-packages/torch/nn/modules/module.py(1517)_call_impl()\n",
      "   1515         # If we don't have any hooks, we want to skip the rest of the logic in\n",
      "   1516         # this function, and just call forward.\n",
      "-> 1517         if not (self._backward_hooks or self._backward_pre_hooks or self._forward_hooks or self._forward_pre_hooks\n",
      "   1518                 or _global_backward_pre_hooks or _global_backward_hooks\n",
      "   1519                 or _global_forward_hooks or _global_forward_pre_hooks):\n",
      "\n"
     ]
    },
    {
     "name": "stdin",
     "output_type": "stream",
     "text": [
      "ipdb>  \n"
     ]
    },
    {
     "name": "stdout",
     "output_type": "stream",
     "text": [
      "> /scratch/scai/phd/aiz218323/anaconda3/envs/xc_nlg/lib/python3.9/site-packages/torch/nn/modules/module.py(1518)_call_impl()\n",
      "   1516         # this function, and just call forward.\n",
      "   1517         if not (self._backward_hooks or self._backward_pre_hooks or self._forward_hooks or self._forward_pre_hooks\n",
      "-> 1518                 or _global_backward_pre_hooks or _global_backward_hooks\n",
      "   1519                 or _global_forward_hooks or _global_forward_pre_hooks):\n",
      "   1520             return forward_call(*args, **kwargs)\n",
      "\n"
     ]
    },
    {
     "name": "stdin",
     "output_type": "stream",
     "text": [
      "ipdb>  \n"
     ]
    },
    {
     "name": "stdout",
     "output_type": "stream",
     "text": [
      "> /scratch/scai/phd/aiz218323/anaconda3/envs/xc_nlg/lib/python3.9/site-packages/torch/nn/modules/module.py(1517)_call_impl()\n",
      "   1515         # If we don't have any hooks, we want to skip the rest of the logic in\n",
      "   1516         # this function, and just call forward.\n",
      "-> 1517         if not (self._backward_hooks or self._backward_pre_hooks or self._forward_hooks or self._forward_pre_hooks\n",
      "   1518                 or _global_backward_pre_hooks or _global_backward_hooks\n",
      "   1519                 or _global_forward_hooks or _global_forward_pre_hooks):\n",
      "\n"
     ]
    },
    {
     "name": "stdin",
     "output_type": "stream",
     "text": [
      "ipdb>  \n"
     ]
    },
    {
     "name": "stdout",
     "output_type": "stream",
     "text": [
      "> /scratch/scai/phd/aiz218323/anaconda3/envs/xc_nlg/lib/python3.9/site-packages/torch/nn/modules/module.py(1519)_call_impl()\n",
      "   1517         if not (self._backward_hooks or self._backward_pre_hooks or self._forward_hooks or self._forward_pre_hooks\n",
      "   1518                 or _global_backward_pre_hooks or _global_backward_hooks\n",
      "-> 1519                 or _global_forward_hooks or _global_forward_pre_hooks):\n",
      "   1520             return forward_call(*args, **kwargs)\n",
      "   1521 \n",
      "\n"
     ]
    },
    {
     "name": "stdin",
     "output_type": "stream",
     "text": [
      "ipdb>  \n"
     ]
    },
    {
     "name": "stdout",
     "output_type": "stream",
     "text": [
      "> /scratch/scai/phd/aiz218323/anaconda3/envs/xc_nlg/lib/python3.9/site-packages/torch/nn/modules/module.py(1517)_call_impl()\n",
      "   1515         # If we don't have any hooks, we want to skip the rest of the logic in\n",
      "   1516         # this function, and just call forward.\n",
      "-> 1517         if not (self._backward_hooks or self._backward_pre_hooks or self._forward_hooks or self._forward_pre_hooks\n",
      "   1518                 or _global_backward_pre_hooks or _global_backward_hooks\n",
      "   1519                 or _global_forward_hooks or _global_forward_pre_hooks):\n",
      "\n"
     ]
    },
    {
     "name": "stdin",
     "output_type": "stream",
     "text": [
      "ipdb>  \n"
     ]
    },
    {
     "name": "stdout",
     "output_type": "stream",
     "text": [
      "> /scratch/scai/phd/aiz218323/anaconda3/envs/xc_nlg/lib/python3.9/site-packages/torch/nn/modules/module.py(1519)_call_impl()\n",
      "   1517         if not (self._backward_hooks or self._backward_pre_hooks or self._forward_hooks or self._forward_pre_hooks\n",
      "   1518                 or _global_backward_pre_hooks or _global_backward_hooks\n",
      "-> 1519                 or _global_forward_hooks or _global_forward_pre_hooks):\n",
      "   1520             return forward_call(*args, **kwargs)\n",
      "   1521 \n",
      "\n"
     ]
    },
    {
     "name": "stdin",
     "output_type": "stream",
     "text": [
      "ipdb>  \n"
     ]
    },
    {
     "name": "stdout",
     "output_type": "stream",
     "text": [
      "> /scratch/scai/phd/aiz218323/anaconda3/envs/xc_nlg/lib/python3.9/site-packages/torch/nn/modules/module.py(1517)_call_impl()\n",
      "   1515         # If we don't have any hooks, we want to skip the rest of the logic in\n",
      "   1516         # this function, and just call forward.\n",
      "-> 1517         if not (self._backward_hooks or self._backward_pre_hooks or self._forward_hooks or self._forward_pre_hooks\n",
      "   1518                 or _global_backward_pre_hooks or _global_backward_hooks\n",
      "   1519                 or _global_forward_hooks or _global_forward_pre_hooks):\n",
      "\n"
     ]
    },
    {
     "name": "stdin",
     "output_type": "stream",
     "text": [
      "ipdb>  \n"
     ]
    },
    {
     "name": "stdout",
     "output_type": "stream",
     "text": [
      "> /scratch/scai/phd/aiz218323/anaconda3/envs/xc_nlg/lib/python3.9/site-packages/torch/nn/modules/module.py(1520)_call_impl()\n",
      "   1518                 or _global_backward_pre_hooks or _global_backward_hooks\n",
      "   1519                 or _global_forward_hooks or _global_forward_pre_hooks):\n",
      "-> 1520             return forward_call(*args, **kwargs)\n",
      "   1521 \n",
      "   1522         try:\n",
      "\n"
     ]
    },
    {
     "name": "stdin",
     "output_type": "stream",
     "text": [
      "ipdb>  s\n"
     ]
    },
    {
     "name": "stdout",
     "output_type": "stream",
     "text": [
      "--Call--\n",
      "> /tmp/ipykernel_13391/1521922107.py(23)forward()\n",
      "     21         self.o.weight.data = torch.eye(self.o.out_features, self.o.in_features, dtype=self.o.weight.dtype)\n",
      "     22 \n",
      "---> 23     def forward(\n",
      "     24         self,\n",
      "     25         q: torch.Tensor,\n",
      "\n"
     ]
    },
    {
     "name": "stdin",
     "output_type": "stream",
     "text": [
      "ipdb>  n\n"
     ]
    },
    {
     "name": "stdout",
     "output_type": "stream",
     "text": [
      "> /tmp/ipykernel_13391/1521922107.py(31)forward()\n",
      "     29         output_attentions:Optional[bool] = False,\n",
      "     30     ):\n",
      "---> 31         bs, q_len, dim = q.size()\n",
      "     32         v, k_len = k, k.size(1)\n",
      "     33 \n",
      "\n"
     ]
    },
    {
     "name": "stdin",
     "output_type": "stream",
     "text": [
      "ipdb>  \n"
     ]
    },
    {
     "name": "stdout",
     "output_type": "stream",
     "text": [
      "> /tmp/ipykernel_13391/1521922107.py(32)forward()\n",
      "     30     ):\n",
      "     31         bs, q_len, dim = q.size()\n",
      "---> 32         v, k_len = k, k.size(1)\n",
      "     33 \n",
      "     34         h_dim = self.dim//self.n_h\n",
      "\n"
     ]
    },
    {
     "name": "stdin",
     "output_type": "stream",
     "text": [
      "ipdb>  \n"
     ]
    },
    {
     "name": "stdout",
     "output_type": "stream",
     "text": [
      "> /tmp/ipykernel_13391/1521922107.py(34)forward()\n",
      "     32         v, k_len = k, k.size(1)\n",
      "     33 \n",
      "---> 34         h_dim = self.dim//self.n_h\n",
      "     35 \n",
      "     36         def shape(x: torch.Tensor): return x.view(bs, -1, self.n_h, h_dim).transpose(1, 2)\n",
      "\n"
     ]
    },
    {
     "name": "stdin",
     "output_type": "stream",
     "text": [
      "ipdb>  \n"
     ]
    },
    {
     "name": "stdout",
     "output_type": "stream",
     "text": [
      "> /tmp/ipykernel_13391/1521922107.py(36)forward()\n",
      "     34         h_dim = self.dim//self.n_h\n",
      "     35 \n",
      "---> 36         def shape(x: torch.Tensor): return x.view(bs, -1, self.n_h, h_dim).transpose(1, 2)\n",
      "     37 \n",
      "     38         def unshape(x: torch.Tensor): return x.transpose(1, 2).contiguous().view(bs, -1, self.n_h * h_dim)\n",
      "\n"
     ]
    },
    {
     "name": "stdin",
     "output_type": "stream",
     "text": [
      "ipdb>  \n"
     ]
    },
    {
     "name": "stdout",
     "output_type": "stream",
     "text": [
      "> /tmp/ipykernel_13391/1521922107.py(38)forward()\n",
      "     36         def shape(x: torch.Tensor): return x.view(bs, -1, self.n_h, h_dim).transpose(1, 2)\n",
      "     37 \n",
      "---> 38         def unshape(x: torch.Tensor): return x.transpose(1, 2).contiguous().view(bs, -1, self.n_h * h_dim)\n",
      "     39 \n",
      "     40         q = shape(self.q(q))  # (bs, n_h, q_len, h_dim)\n",
      "\n"
     ]
    },
    {
     "name": "stdin",
     "output_type": "stream",
     "text": [
      "ipdb>  \n"
     ]
    },
    {
     "name": "stdout",
     "output_type": "stream",
     "text": [
      "> /tmp/ipykernel_13391/1521922107.py(40)forward()\n",
      "     38         def unshape(x: torch.Tensor): return x.transpose(1, 2).contiguous().view(bs, -1, self.n_h * h_dim)\n",
      "     39 \n",
      "---> 40         q = shape(self.q(q))  # (bs, n_h, q_len, h_dim)\n",
      "     41         k = shape(self.k(k))  # (bs, n_h, k_len, h_dim)\n",
      "     42         v = shape(self.v(v))  # (bs, n_h, k_len, h_dim)\n",
      "\n"
     ]
    },
    {
     "name": "stdin",
     "output_type": "stream",
     "text": [
      "ipdb>  \n"
     ]
    },
    {
     "name": "stdout",
     "output_type": "stream",
     "text": [
      "> /tmp/ipykernel_13391/1521922107.py(41)forward()\n",
      "     39 \n",
      "     40         q = shape(self.q(q))  # (bs, n_h, q_len, h_dim)\n",
      "---> 41         k = shape(self.k(k))  # (bs, n_h, k_len, h_dim)\n",
      "     42         v = shape(self.v(v))  # (bs, n_h, k_len, h_dim)\n",
      "     43 \n",
      "\n"
     ]
    },
    {
     "name": "stdin",
     "output_type": "stream",
     "text": [
      "ipdb>  \n"
     ]
    },
    {
     "name": "stdout",
     "output_type": "stream",
     "text": [
      "> /tmp/ipykernel_13391/1521922107.py(42)forward()\n",
      "     40         q = shape(self.q(q))  # (bs, n_h, q_len, h_dim)\n",
      "     41         k = shape(self.k(k))  # (bs, n_h, k_len, h_dim)\n",
      "---> 42         v = shape(self.v(v))  # (bs, n_h, k_len, h_dim)\n",
      "     43 \n",
      "     44         q = q / math.sqrt(h_dim)  # (bs, n_h, q_len, h_dim)\n",
      "\n"
     ]
    },
    {
     "name": "stdin",
     "output_type": "stream",
     "text": [
      "ipdb>  \n"
     ]
    },
    {
     "name": "stdout",
     "output_type": "stream",
     "text": [
      "> /tmp/ipykernel_13391/1521922107.py(44)forward()\n",
      "     42         v = shape(self.v(v))  # (bs, n_h, k_len, h_dim)\n",
      "     43 \n",
      "---> 44         q = q / math.sqrt(h_dim)  # (bs, n_h, q_len, h_dim)\n",
      "     45         sc = torch.matmul(q, k.transpose(2, 3))  # (bs, n_h, q_len, k_len)\n",
      "     46 \n",
      "\n"
     ]
    },
    {
     "name": "stdin",
     "output_type": "stream",
     "text": [
      "ipdb>  \n"
     ]
    },
    {
     "name": "stdout",
     "output_type": "stream",
     "text": [
      "> /tmp/ipykernel_13391/1521922107.py(45)forward()\n",
      "     43 \n",
      "     44         q = q / math.sqrt(h_dim)  # (bs, n_h, q_len, h_dim)\n",
      "---> 45         sc = torch.matmul(q, k.transpose(2, 3))  # (bs, n_h, q_len, k_len)\n",
      "     46 \n",
      "     47         q_m, k_m = q_m.view(bs, 1, -1, 1).to(q.dtype), k_m.view(bs, 1, 1, -1).to(q.dtype)\n",
      "\n"
     ]
    },
    {
     "name": "stdin",
     "output_type": "stream",
     "text": [
      "ipdb>  \n"
     ]
    },
    {
     "name": "stdout",
     "output_type": "stream",
     "text": [
      "> /tmp/ipykernel_13391/1521922107.py(47)forward()\n",
      "     45         sc = torch.matmul(q, k.transpose(2, 3))  # (bs, n_h, q_len, k_len)\n",
      "     46 \n",
      "---> 47         q_m, k_m = q_m.view(bs, 1, -1, 1).to(q.dtype), k_m.view(bs, 1, 1, -1).to(q.dtype)\n",
      "     48         mask = torch.matmul(q_m, k_m).expand_as(sc)  # (bs, n_h, q_len, k_len)\n",
      "     49 \n",
      "\n"
     ]
    },
    {
     "name": "stdin",
     "output_type": "stream",
     "text": [
      "ipdb>  sc\n"
     ]
    },
    {
     "name": "stdout",
     "output_type": "stream",
     "text": [
      "tensor([[[[ 1.8268e-01,  1.8268e-01],\n",
      "          [ 5.9527e-01,  5.9527e-01],\n",
      "          [ 4.3468e-01,  4.3468e-01],\n",
      "          [ 5.1153e-01,  5.1153e-01],\n",
      "          [ 1.6265e-01,  1.6265e-01]],\n",
      "\n",
      "         [[ 5.9844e-01,  5.9844e-01],\n",
      "          [ 1.1384e+00,  1.1384e+00],\n",
      "          [ 1.0414e+00,  1.0414e+00],\n",
      "          [ 2.6099e-01,  2.6099e-01],\n",
      "          [ 1.4462e-01,  1.4462e-01]],\n",
      "\n",
      "         [[ 8.1546e-01,  8.1546e-01],\n",
      "          [ 1.3916e+00,  1.3916e+00],\n",
      "          [ 8.9154e-01,  8.9154e-01],\n",
      "          [ 4.4412e+00,  4.4412e+00],\n",
      "          [ 3.3912e-01,  3.3912e-01]],\n",
      "\n",
      "         [[ 1.0399e+00,  1.0399e+00],\n",
      "          [ 1.5793e+00,  1.5793e+00],\n",
      "          [ 1.2283e+00,  1.2283e+00],\n",
      "          [ 3.6053e-01,  3.6053e-01],\n",
      "          [ 5.6553e-01,  5.6553e-01]],\n",
      "\n",
      "         [[ 2.2051e+00,  2.2051e+00],\n",
      "          [ 3.3573e+00,  3.3573e+00],\n",
      "          [ 2.7159e+00,  2.7159e+00],\n",
      "          [-7.9278e-01, -7.9278e-01],\n",
      "          [ 3.2102e+00,  3.2102e+00]],\n",
      "\n",
      "         [[ 7.2204e-01,  7.2204e-01],\n",
      "          [ 8.4958e-01,  8.4958e-01],\n",
      "          [ 1.2288e+00,  1.2288e+00],\n",
      "          [ 9.0989e-01,  9.0989e-01],\n",
      "          [ 4.3664e-01,  4.3664e-01]],\n",
      "\n",
      "         [[ 4.8112e-01,  4.8112e-01],\n",
      "          [ 7.9386e-01,  7.9386e-01],\n",
      "          [ 1.2038e+00,  1.2038e+00],\n",
      "          [ 8.9183e-01,  8.9183e-01],\n",
      "          [ 5.5441e-01,  5.5441e-01]],\n",
      "\n",
      "         [[ 2.1515e-01,  2.1515e-01],\n",
      "          [ 9.2141e-01,  9.2141e-01],\n",
      "          [ 9.6801e-01,  9.6801e-01],\n",
      "          [ 4.5077e-01,  4.5077e-01],\n",
      "          [ 2.3231e-01,  2.3231e-01]],\n",
      "\n",
      "         [[ 5.4807e-01,  5.4807e-01],\n",
      "          [ 7.2376e-01,  7.2376e-01],\n",
      "          [ 5.1189e-01,  5.1189e-01],\n",
      "          [ 4.6202e-01,  4.6202e-01],\n",
      "          [ 3.5835e-01,  3.5835e-01]],\n",
      "\n",
      "         [[ 6.1472e-01,  6.1472e-01],\n",
      "          [ 1.2161e+00,  1.2161e+00],\n",
      "          [ 1.7705e+00,  1.7705e+00],\n",
      "          [ 1.5579e+00,  1.5579e+00],\n",
      "          [ 9.7891e-01,  9.7891e-01]],\n",
      "\n",
      "         [[ 6.4801e-01,  6.4801e-01],\n",
      "          [ 8.8401e-01,  8.8401e-01],\n",
      "          [ 7.7430e-01,  7.7430e-01],\n",
      "          [ 4.7294e-01,  4.7294e-01],\n",
      "          [-6.2361e-03, -6.2361e-03]],\n",
      "\n",
      "         [[ 4.3840e+00,  4.3840e+00],\n",
      "          [ 2.0358e+00,  2.0358e+00],\n",
      "          [ 1.4022e+00,  1.4022e+00],\n",
      "          [ 6.3676e-01,  6.3676e-01],\n",
      "          [ 1.0502e-01,  1.0502e-01]]],\n",
      "\n",
      "\n",
      "        [[[ 6.6679e-01,  6.6679e-01],\n",
      "          [ 1.4307e+00,  1.4307e+00],\n",
      "          [ 2.2407e+00,  2.2407e+00],\n",
      "          [ 1.2878e+00,  1.2878e+00],\n",
      "          [ 7.1212e-01,  7.1212e-01]],\n",
      "\n",
      "         [[ 1.0848e+00,  1.0848e+00],\n",
      "          [ 9.9823e-01,  9.9823e-01],\n",
      "          [ 1.8228e+00,  1.8228e+00],\n",
      "          [ 1.3483e+00,  1.3483e+00],\n",
      "          [ 5.7164e-01,  5.7164e-01]],\n",
      "\n",
      "         [[ 1.0582e+00,  1.0582e+00],\n",
      "          [ 1.2643e+00,  1.2643e+00],\n",
      "          [ 1.3892e+00,  1.3892e+00],\n",
      "          [ 1.2869e+00,  1.2869e+00],\n",
      "          [ 4.8301e+00,  4.8301e+00]],\n",
      "\n",
      "         [[ 1.1809e+00,  1.1809e+00],\n",
      "          [ 1.1211e+00,  1.1211e+00],\n",
      "          [ 2.0737e+00,  2.0737e+00],\n",
      "          [ 1.1791e+00,  1.1791e+00],\n",
      "          [ 5.9505e-01,  5.9505e-01]],\n",
      "\n",
      "         [[ 2.8447e+00,  2.8447e+00],\n",
      "          [ 3.7859e+00,  3.7859e+00],\n",
      "          [ 3.1641e+00,  3.1641e+00],\n",
      "          [ 3.7692e+00,  3.7692e+00],\n",
      "          [-2.2627e-01, -2.2627e-01]],\n",
      "\n",
      "         [[ 1.3894e+00,  1.3894e+00],\n",
      "          [ 1.6771e+00,  1.6771e+00],\n",
      "          [ 2.2103e+00,  2.2103e+00],\n",
      "          [ 2.1765e+00,  2.1765e+00],\n",
      "          [ 7.4250e-01,  7.4250e-01]],\n",
      "\n",
      "         [[ 9.9729e-01,  9.9729e-01],\n",
      "          [ 1.2507e+00,  1.2507e+00],\n",
      "          [ 2.2902e+00,  2.2902e+00],\n",
      "          [ 1.4583e+00,  1.4583e+00],\n",
      "          [ 8.5480e-01,  8.5480e-01]],\n",
      "\n",
      "         [[ 8.1991e-01,  8.1991e-01],\n",
      "          [ 1.3272e+00,  1.3272e+00],\n",
      "          [ 1.4067e+00,  1.4067e+00],\n",
      "          [ 1.1190e+00,  1.1190e+00],\n",
      "          [ 5.1566e-01,  5.1566e-01]],\n",
      "\n",
      "         [[ 1.0184e+00,  1.0184e+00],\n",
      "          [ 1.5712e+00,  1.5712e+00],\n",
      "          [ 2.2462e+00,  2.2462e+00],\n",
      "          [ 1.5151e+00,  1.5151e+00],\n",
      "          [ 8.6229e-01,  8.6229e-01]],\n",
      "\n",
      "         [[ 1.2231e+00,  1.2231e+00],\n",
      "          [ 1.8117e+00,  1.8117e+00],\n",
      "          [ 2.2846e+00,  2.2846e+00],\n",
      "          [ 1.4738e+00,  1.4738e+00],\n",
      "          [ 1.4083e+00,  1.4083e+00]],\n",
      "\n",
      "         [[ 1.1000e+00,  1.1000e+00],\n",
      "          [ 1.3172e+00,  1.3172e+00],\n",
      "          [ 1.7379e+00,  1.7379e+00],\n",
      "          [ 1.0009e+00,  1.0009e+00],\n",
      "          [ 5.9425e-01,  5.9425e-01]],\n",
      "\n",
      "         [[ 4.4107e+00,  4.4107e+00],\n",
      "          [ 2.7473e+00,  2.7473e+00],\n",
      "          [ 2.8921e+00,  2.8921e+00],\n",
      "          [ 1.4787e+00,  1.4787e+00],\n",
      "          [ 1.3482e+00,  1.3482e+00]]],\n",
      "\n",
      "\n",
      "        [[[ 1.6257e-01,  3.2382e-01],\n",
      "          [ 1.0139e+00,  2.4241e-01],\n",
      "          [ 1.3542e+00,  3.0138e-01],\n",
      "          [ 1.0998e+00,  1.4497e-01],\n",
      "          [ 3.5026e-01,  6.5060e-01]],\n",
      "\n",
      "         [[ 5.7451e-01,  8.1452e-01],\n",
      "          [ 9.3411e-01,  7.9546e-01],\n",
      "          [ 1.0555e+00,  5.7822e-01],\n",
      "          [ 4.0663e-01,  1.8619e-01],\n",
      "          [ 7.1806e-01,  4.8357e-01]],\n",
      "\n",
      "         [[ 5.6778e-01,  1.1149e+00],\n",
      "          [ 1.1807e+00,  1.3736e+00],\n",
      "          [ 1.1491e+00,  1.0952e+00],\n",
      "          [ 6.5574e-01,  8.1434e-01],\n",
      "          [ 3.2300e+00,  7.6160e+00]],\n",
      "\n",
      "         [[ 8.0512e-01,  1.6051e+00],\n",
      "          [ 1.1552e+00,  7.6349e-01],\n",
      "          [ 1.0407e+00,  3.6158e-01],\n",
      "          [ 7.3641e-01,  3.6913e-01],\n",
      "          [ 2.9178e-01,  5.1848e-01]],\n",
      "\n",
      "         [[ 2.0693e+00,  3.1027e+00],\n",
      "          [ 4.1518e+00,  3.0832e+00],\n",
      "          [ 4.4719e+00,  2.6704e+00],\n",
      "          [ 4.3811e+00,  3.1099e+00],\n",
      "          [-1.1916e+00,  5.5708e-02]],\n",
      "\n",
      "         [[ 3.9305e-01,  6.0877e-01],\n",
      "          [ 1.2032e+00,  6.9151e-01],\n",
      "          [ 1.3681e+00,  5.2539e-01],\n",
      "          [ 1.2517e+00,  5.9116e-01],\n",
      "          [ 3.1590e-01,  7.0219e-01]],\n",
      "\n",
      "         [[ 2.7483e-01,  4.0236e-01],\n",
      "          [ 1.0298e+00,  7.5848e-01],\n",
      "          [ 1.2155e+00,  5.4833e-01],\n",
      "          [ 9.6867e-01,  4.9459e-01],\n",
      "          [ 8.5344e-01,  9.3795e-01]],\n",
      "\n",
      "         [[ 2.1072e-01,  5.0232e-01],\n",
      "          [ 8.2327e-01,  9.3101e-01],\n",
      "          [ 8.0524e-01,  3.7699e-01],\n",
      "          [ 4.2580e-01,  5.0957e-01],\n",
      "          [ 9.1860e-01,  1.1308e+00]],\n",
      "\n",
      "         [[ 3.2202e-01,  2.5035e-01],\n",
      "          [ 7.9197e-01,  5.7862e-01],\n",
      "          [ 5.5211e-01,  2.4865e-01],\n",
      "          [ 7.2991e-01,  5.7125e-01],\n",
      "          [ 4.7925e-01,  8.1080e-01]],\n",
      "\n",
      "         [[ 4.7372e-01,  9.0093e-01],\n",
      "          [ 9.9385e-01,  9.5926e-01],\n",
      "          [ 1.3789e+00,  8.4074e-01],\n",
      "          [ 9.8694e-01,  6.7407e-01],\n",
      "          [ 1.0565e+00,  1.1905e+00]],\n",
      "\n",
      "         [[ 1.0049e+00,  1.3469e+00],\n",
      "          [ 1.6640e+00,  1.2667e+00],\n",
      "          [ 1.7336e+00,  1.0012e+00],\n",
      "          [ 7.3173e-01,  2.9639e-01],\n",
      "          [ 6.9564e-01,  6.7820e-01]],\n",
      "\n",
      "         [[ 1.8353e+00,  6.9302e+00],\n",
      "          [ 1.1757e+00,  1.5859e+00],\n",
      "          [ 5.3748e-01,  1.3368e-01],\n",
      "          [ 9.9186e-01,  5.3509e-01],\n",
      "          [ 1.5238e+00,  1.1696e+00]]],\n",
      "\n",
      "\n",
      "        [[[ 5.3872e-01,  5.3872e-01],\n",
      "          [ 8.3490e-01,  8.3490e-01],\n",
      "          [ 4.2047e-01,  4.2047e-01],\n",
      "          [ 3.8759e-01,  3.8759e-01],\n",
      "          [ 4.9664e-01,  4.9664e-01]],\n",
      "\n",
      "         [[ 7.2373e-01,  7.2373e-01],\n",
      "          [ 5.8077e-01,  5.8077e-01],\n",
      "          [ 8.8301e-01,  8.8301e-01],\n",
      "          [ 2.2801e-01,  2.2801e-01],\n",
      "          [ 4.1456e-01,  4.1456e-01]],\n",
      "\n",
      "         [[ 4.8134e-01,  4.8134e-01],\n",
      "          [ 9.1308e-01,  9.1308e-01],\n",
      "          [ 4.1196e+00,  4.1196e+00],\n",
      "          [ 3.2286e-01,  3.2286e-01],\n",
      "          [ 4.5181e-01,  4.5181e-01]],\n",
      "\n",
      "         [[ 7.9467e-01,  7.9467e-01],\n",
      "          [ 7.4137e-01,  7.4137e-01],\n",
      "          [ 4.7820e-01,  4.7820e-01],\n",
      "          [ 4.1144e-01,  4.1144e-01],\n",
      "          [ 5.1023e-01,  5.1023e-01]],\n",
      "\n",
      "         [[ 3.2977e+00,  3.2977e+00],\n",
      "          [ 5.3917e+00,  5.3917e+00],\n",
      "          [-8.8404e-01, -8.8404e-01],\n",
      "          [ 5.9198e+00,  5.9198e+00],\n",
      "          [ 5.8395e+00,  5.8395e+00]],\n",
      "\n",
      "         [[ 5.3643e-01,  5.3643e-01],\n",
      "          [ 1.4150e+00,  1.4150e+00],\n",
      "          [ 6.6792e-01,  6.6792e-01],\n",
      "          [ 4.0907e-01,  4.0907e-01],\n",
      "          [ 6.5322e-01,  6.5322e-01]],\n",
      "\n",
      "         [[ 6.4639e-01,  6.4639e-01],\n",
      "          [ 9.1595e-01,  9.1595e-01],\n",
      "          [ 8.5435e-01,  8.5435e-01],\n",
      "          [ 4.7148e-01,  4.7148e-01],\n",
      "          [ 4.8320e-01,  4.8320e-01]],\n",
      "\n",
      "         [[ 3.5044e-01,  3.5044e-01],\n",
      "          [ 7.3302e-01,  7.3302e-01],\n",
      "          [ 7.0575e-01,  7.0575e-01],\n",
      "          [ 4.5824e-01,  4.5824e-01],\n",
      "          [ 4.3659e-01,  4.3659e-01]],\n",
      "\n",
      "         [[ 4.8327e-01,  4.8327e-01],\n",
      "          [ 5.6695e-01,  5.6695e-01],\n",
      "          [ 6.1562e-01,  6.1562e-01],\n",
      "          [ 4.9781e-01,  4.9781e-01],\n",
      "          [ 5.9587e-01,  5.9587e-01]],\n",
      "\n",
      "         [[ 6.9449e-01,  6.9449e-01],\n",
      "          [ 1.1862e+00,  1.1862e+00],\n",
      "          [ 1.0692e+00,  1.0692e+00],\n",
      "          [ 7.0343e-01,  7.0343e-01],\n",
      "          [ 8.9995e-01,  8.9995e-01]],\n",
      "\n",
      "         [[ 8.1700e-01,  8.1700e-01],\n",
      "          [ 8.2118e-01,  8.2118e-01],\n",
      "          [ 4.6622e-01,  4.6622e-01],\n",
      "          [ 4.0363e-01,  4.0363e-01],\n",
      "          [ 3.3106e-01,  3.3106e-01]],\n",
      "\n",
      "         [[ 2.5789e+00,  2.5789e+00],\n",
      "          [ 9.9461e-01,  9.9461e-01],\n",
      "          [ 1.4303e+00,  1.4303e+00],\n",
      "          [ 4.8258e-01,  4.8258e-01],\n",
      "          [ 4.0191e-01,  4.0191e-01]]],\n",
      "\n",
      "\n",
      "        [[[ 5.2770e-01,  2.4833e-01],\n",
      "          [ 9.0924e-01,  6.6967e-01],\n",
      "          [ 7.2933e-01,  3.2230e-01],\n",
      "          [ 3.3957e-01,  3.6909e-01],\n",
      "          [ 3.4712e-01,  4.0480e-01]],\n",
      "\n",
      "         [[ 9.0831e-01,  6.2743e-01],\n",
      "          [ 1.0302e+00,  2.6974e-01],\n",
      "          [ 4.9815e-01,  7.4448e-01],\n",
      "          [ 2.2674e-01,  4.0119e-01],\n",
      "          [ 2.9021e-01,  5.0239e-01]],\n",
      "\n",
      "         [[ 1.1283e+00,  4.8084e-01],\n",
      "          [ 1.5809e+00,  6.6775e-01],\n",
      "          [ 7.8173e+00,  3.2880e+00],\n",
      "          [ 3.4725e-01,  2.1312e-01],\n",
      "          [ 3.2261e-01,  2.1261e-01]],\n",
      "\n",
      "         [[ 1.6267e+00,  7.2603e-01],\n",
      "          [ 1.1552e+00,  8.2807e-01],\n",
      "          [ 5.5020e-01,  3.1797e-01],\n",
      "          [ 2.5042e-01,  3.8471e-01],\n",
      "          [ 2.8025e-01,  3.8685e-01]],\n",
      "\n",
      "         [[ 3.2768e+00,  2.3902e+00],\n",
      "          [ 3.7330e+00,  4.0202e+00],\n",
      "          [ 1.3752e-01, -1.0868e+00],\n",
      "          [ 3.0418e+00,  4.3032e+00],\n",
      "          [ 2.9818e+00,  4.2220e+00]],\n",
      "\n",
      "         [[ 7.7352e-01,  3.7810e-01],\n",
      "          [ 1.2024e+00,  6.5145e-01],\n",
      "          [ 8.7742e-01,  3.9192e-01],\n",
      "          [ 5.0512e-01,  5.2962e-01],\n",
      "          [ 4.9707e-01,  5.7150e-01]],\n",
      "\n",
      "         [[ 5.0922e-01,  2.7472e-01],\n",
      "          [ 1.1740e+00,  8.1180e-01],\n",
      "          [ 9.4568e-01,  8.6325e-01],\n",
      "          [ 3.9522e-01,  4.0339e-01],\n",
      "          [ 4.2224e-01,  4.9570e-01]],\n",
      "\n",
      "         [[ 8.0271e-01,  2.4806e-01],\n",
      "          [ 1.6242e+00,  6.4672e-01],\n",
      "          [ 1.3837e+00,  1.0574e+00],\n",
      "          [ 5.5947e-01,  1.7334e-01],\n",
      "          [ 5.5652e-01,  1.4213e-01]],\n",
      "\n",
      "         [[ 4.3653e-01,  3.3106e-01],\n",
      "          [ 1.0874e+00,  5.1924e-01],\n",
      "          [ 8.4531e-01,  4.3719e-01],\n",
      "          [ 5.0727e-01,  3.3013e-01],\n",
      "          [ 5.2936e-01,  3.3664e-01]],\n",
      "\n",
      "         [[ 9.1376e-01,  4.7919e-01],\n",
      "          [ 1.4568e+00,  7.4221e-01],\n",
      "          [ 1.2956e+00,  1.1612e+00],\n",
      "          [ 5.4518e-01,  7.6624e-01],\n",
      "          [ 6.3365e-01,  8.8342e-01]],\n",
      "\n",
      "         [[ 1.4316e+00,  9.1979e-01],\n",
      "          [ 1.3379e+00,  9.3551e-01],\n",
      "          [ 6.6258e-01,  6.1930e-01],\n",
      "          [ 2.9192e-01,  2.0491e-01],\n",
      "          [ 2.8048e-01,  2.0769e-01]],\n",
      "\n",
      "         [[ 6.8932e+00,  1.8651e+00],\n",
      "          [ 2.3042e+00,  1.1524e+00],\n",
      "          [ 1.3619e+00,  1.5361e+00],\n",
      "          [ 1.8824e-01,  4.0821e-01],\n",
      "          [ 1.1479e-01,  4.2519e-01]]]], device='cuda:0',\n",
      "       grad_fn=<UnsafeViewBackward0>)\n"
     ]
    },
    {
     "name": "stdin",
     "output_type": "stream",
     "text": [
      "ipdb>  sc.shape\n"
     ]
    },
    {
     "name": "stdout",
     "output_type": "stream",
     "text": [
      "torch.Size([5, 12, 5, 2])\n"
     ]
    },
    {
     "name": "stdin",
     "output_type": "stream",
     "text": [
      "ipdb>  l\n"
     ]
    },
    {
     "name": "stdout",
     "output_type": "stream",
     "text": [
      "     42         v = shape(self.v(v))  # (bs, n_h, k_len, h_dim)\n",
      "     43 \n",
      "     44         q = q / math.sqrt(h_dim)  # (bs, n_h, q_len, h_dim)\n",
      "     45         sc = torch.matmul(q, k.transpose(2, 3))  # (bs, n_h, q_len, k_len)\n",
      "     46 \n",
      "---> 47         q_m, k_m = q_m.view(bs, 1, -1, 1).to(q.dtype), k_m.view(bs, 1, 1, -1).to(q.dtype)\n",
      "     48         mask = torch.matmul(q_m, k_m).expand_as(sc)  # (bs, n_h, q_len, k_len)\n",
      "     49 \n",
      "     50         sc = sc.masked_fill(mask.bool(), torch.tensor(torch.finfo(sc.dtype).min))  # (bs, n_h, q_len, k_len)\n",
      "     51 \n",
      "     52         w = nn.functional.softmax(sc, dim=-1)  # (bs, n_h, q_len, k_len)\n",
      "\n"
     ]
    },
    {
     "name": "stdin",
     "output_type": "stream",
     "text": [
      "ipdb>  q_m.shape\n"
     ]
    },
    {
     "name": "stdout",
     "output_type": "stream",
     "text": [
      "torch.Size([5, 5])\n"
     ]
    },
    {
     "name": "stdin",
     "output_type": "stream",
     "text": [
      "ipdb>  k_m.shape\n"
     ]
    },
    {
     "name": "stdout",
     "output_type": "stream",
     "text": [
      "torch.Size([5, 2])\n"
     ]
    },
    {
     "name": "stdin",
     "output_type": "stream",
     "text": [
      "ipdb>  q_m\n"
     ]
    },
    {
     "name": "stdout",
     "output_type": "stream",
     "text": [
      "tensor([[1, 1, 1, 1, 0],\n",
      "        [1, 1, 1, 1, 1],\n",
      "        [1, 1, 1, 1, 1],\n",
      "        [1, 1, 1, 0, 0],\n",
      "        [1, 1, 1, 0, 0]], device='cuda:0')\n"
     ]
    },
    {
     "name": "stdin",
     "output_type": "stream",
     "text": [
      "ipdb>  k_m\n"
     ]
    },
    {
     "name": "stdout",
     "output_type": "stream",
     "text": [
      "tensor([[True, True],\n",
      "        [True, True],\n",
      "        [True, True],\n",
      "        [True, True],\n",
      "        [True, True]], device='cuda:0')\n"
     ]
    },
    {
     "name": "stdin",
     "output_type": "stream",
     "text": [
      "ipdb>  n\n"
     ]
    },
    {
     "name": "stdout",
     "output_type": "stream",
     "text": [
      "> /tmp/ipykernel_13391/1521922107.py(48)forward()\n",
      "     46 \n",
      "     47         q_m, k_m = q_m.view(bs, 1, -1, 1).to(q.dtype), k_m.view(bs, 1, 1, -1).to(q.dtype)\n",
      "---> 48         mask = torch.matmul(q_m, k_m).expand_as(sc)  # (bs, n_h, q_len, k_len)\n",
      "     49 \n",
      "     50         sc = sc.masked_fill(mask.bool(), torch.tensor(torch.finfo(sc.dtype).min))  # (bs, n_h, q_len, k_len)\n",
      "\n"
     ]
    },
    {
     "name": "stdin",
     "output_type": "stream",
     "text": [
      "ipdb>  q_m.shape\n"
     ]
    },
    {
     "name": "stdout",
     "output_type": "stream",
     "text": [
      "torch.Size([5, 1, 5, 1])\n"
     ]
    },
    {
     "name": "stdin",
     "output_type": "stream",
     "text": [
      "ipdb>  k_m.shape\n"
     ]
    },
    {
     "name": "stdout",
     "output_type": "stream",
     "text": [
      "torch.Size([5, 1, 1, 2])\n"
     ]
    },
    {
     "name": "stdin",
     "output_type": "stream",
     "text": [
      "ipdb>  n\n"
     ]
    },
    {
     "name": "stdout",
     "output_type": "stream",
     "text": [
      "> /tmp/ipykernel_13391/1521922107.py(50)forward()\n",
      "     48         mask = torch.matmul(q_m, k_m).expand_as(sc)  # (bs, n_h, q_len, k_len)\n",
      "     49 \n",
      "---> 50         sc = sc.masked_fill(mask.bool(), torch.tensor(torch.finfo(sc.dtype).min))  # (bs, n_h, q_len, k_len)\n",
      "     51 \n",
      "     52         w = nn.functional.softmax(sc, dim=-1)  # (bs, n_h, q_len, k_len)\n",
      "\n"
     ]
    },
    {
     "name": "stdin",
     "output_type": "stream",
     "text": [
      "ipdb>  mask\n"
     ]
    },
    {
     "name": "stdout",
     "output_type": "stream",
     "text": [
      "tensor([[[[1., 1.],\n",
      "          [1., 1.],\n",
      "          [1., 1.],\n",
      "          [1., 1.],\n",
      "          [0., 0.]],\n",
      "\n",
      "         [[1., 1.],\n",
      "          [1., 1.],\n",
      "          [1., 1.],\n",
      "          [1., 1.],\n",
      "          [0., 0.]],\n",
      "\n",
      "         [[1., 1.],\n",
      "          [1., 1.],\n",
      "          [1., 1.],\n",
      "          [1., 1.],\n",
      "          [0., 0.]],\n",
      "\n",
      "         [[1., 1.],\n",
      "          [1., 1.],\n",
      "          [1., 1.],\n",
      "          [1., 1.],\n",
      "          [0., 0.]],\n",
      "\n",
      "         [[1., 1.],\n",
      "          [1., 1.],\n",
      "          [1., 1.],\n",
      "          [1., 1.],\n",
      "          [0., 0.]],\n",
      "\n",
      "         [[1., 1.],\n",
      "          [1., 1.],\n",
      "          [1., 1.],\n",
      "          [1., 1.],\n",
      "          [0., 0.]],\n",
      "\n",
      "         [[1., 1.],\n",
      "          [1., 1.],\n",
      "          [1., 1.],\n",
      "          [1., 1.],\n",
      "          [0., 0.]],\n",
      "\n",
      "         [[1., 1.],\n",
      "          [1., 1.],\n",
      "          [1., 1.],\n",
      "          [1., 1.],\n",
      "          [0., 0.]],\n",
      "\n",
      "         [[1., 1.],\n",
      "          [1., 1.],\n",
      "          [1., 1.],\n",
      "          [1., 1.],\n",
      "          [0., 0.]],\n",
      "\n",
      "         [[1., 1.],\n",
      "          [1., 1.],\n",
      "          [1., 1.],\n",
      "          [1., 1.],\n",
      "          [0., 0.]],\n",
      "\n",
      "         [[1., 1.],\n",
      "          [1., 1.],\n",
      "          [1., 1.],\n",
      "          [1., 1.],\n",
      "          [0., 0.]],\n",
      "\n",
      "         [[1., 1.],\n",
      "          [1., 1.],\n",
      "          [1., 1.],\n",
      "          [1., 1.],\n",
      "          [0., 0.]]],\n",
      "\n",
      "\n",
      "        [[[1., 1.],\n",
      "          [1., 1.],\n",
      "          [1., 1.],\n",
      "          [1., 1.],\n",
      "          [1., 1.]],\n",
      "\n",
      "         [[1., 1.],\n",
      "          [1., 1.],\n",
      "          [1., 1.],\n",
      "          [1., 1.],\n",
      "          [1., 1.]],\n",
      "\n",
      "         [[1., 1.],\n",
      "          [1., 1.],\n",
      "          [1., 1.],\n",
      "          [1., 1.],\n",
      "          [1., 1.]],\n",
      "\n",
      "         [[1., 1.],\n",
      "          [1., 1.],\n",
      "          [1., 1.],\n",
      "          [1., 1.],\n",
      "          [1., 1.]],\n",
      "\n",
      "         [[1., 1.],\n",
      "          [1., 1.],\n",
      "          [1., 1.],\n",
      "          [1., 1.],\n",
      "          [1., 1.]],\n",
      "\n",
      "         [[1., 1.],\n",
      "          [1., 1.],\n",
      "          [1., 1.],\n",
      "          [1., 1.],\n",
      "          [1., 1.]],\n",
      "\n",
      "         [[1., 1.],\n",
      "          [1., 1.],\n",
      "          [1., 1.],\n",
      "          [1., 1.],\n",
      "          [1., 1.]],\n",
      "\n",
      "         [[1., 1.],\n",
      "          [1., 1.],\n",
      "          [1., 1.],\n",
      "          [1., 1.],\n",
      "          [1., 1.]],\n",
      "\n",
      "         [[1., 1.],\n",
      "          [1., 1.],\n",
      "          [1., 1.],\n",
      "          [1., 1.],\n",
      "          [1., 1.]],\n",
      "\n",
      "         [[1., 1.],\n",
      "          [1., 1.],\n",
      "          [1., 1.],\n",
      "          [1., 1.],\n",
      "          [1., 1.]],\n",
      "\n",
      "         [[1., 1.],\n",
      "          [1., 1.],\n",
      "          [1., 1.],\n",
      "          [1., 1.],\n",
      "          [1., 1.]],\n",
      "\n",
      "         [[1., 1.],\n",
      "          [1., 1.],\n",
      "          [1., 1.],\n",
      "          [1., 1.],\n",
      "          [1., 1.]]],\n",
      "\n",
      "\n",
      "        [[[1., 1.],\n",
      "          [1., 1.],\n",
      "          [1., 1.],\n",
      "          [1., 1.],\n",
      "          [1., 1.]],\n",
      "\n",
      "         [[1., 1.],\n",
      "          [1., 1.],\n",
      "          [1., 1.],\n",
      "          [1., 1.],\n",
      "          [1., 1.]],\n",
      "\n",
      "         [[1., 1.],\n",
      "          [1., 1.],\n",
      "          [1., 1.],\n",
      "          [1., 1.],\n",
      "          [1., 1.]],\n",
      "\n",
      "         [[1., 1.],\n",
      "          [1., 1.],\n",
      "          [1., 1.],\n",
      "          [1., 1.],\n",
      "          [1., 1.]],\n",
      "\n",
      "         [[1., 1.],\n",
      "          [1., 1.],\n",
      "          [1., 1.],\n",
      "          [1., 1.],\n",
      "          [1., 1.]],\n",
      "\n",
      "         [[1., 1.],\n",
      "          [1., 1.],\n",
      "          [1., 1.],\n",
      "          [1., 1.],\n",
      "          [1., 1.]],\n",
      "\n",
      "         [[1., 1.],\n",
      "          [1., 1.],\n",
      "          [1., 1.],\n",
      "          [1., 1.],\n",
      "          [1., 1.]],\n",
      "\n",
      "         [[1., 1.],\n",
      "          [1., 1.],\n",
      "          [1., 1.],\n",
      "          [1., 1.],\n",
      "          [1., 1.]],\n",
      "\n",
      "         [[1., 1.],\n",
      "          [1., 1.],\n",
      "          [1., 1.],\n",
      "          [1., 1.],\n",
      "          [1., 1.]],\n",
      "\n",
      "         [[1., 1.],\n",
      "          [1., 1.],\n",
      "          [1., 1.],\n",
      "          [1., 1.],\n",
      "          [1., 1.]],\n",
      "\n",
      "         [[1., 1.],\n",
      "          [1., 1.],\n",
      "          [1., 1.],\n",
      "          [1., 1.],\n",
      "          [1., 1.]],\n",
      "\n",
      "         [[1., 1.],\n",
      "          [1., 1.],\n",
      "          [1., 1.],\n",
      "          [1., 1.],\n",
      "          [1., 1.]]],\n",
      "\n",
      "\n",
      "        [[[1., 1.],\n",
      "          [1., 1.],\n",
      "          [1., 1.],\n",
      "          [0., 0.],\n",
      "          [0., 0.]],\n",
      "\n",
      "         [[1., 1.],\n",
      "          [1., 1.],\n",
      "          [1., 1.],\n",
      "          [0., 0.],\n",
      "          [0., 0.]],\n",
      "\n",
      "         [[1., 1.],\n",
      "          [1., 1.],\n",
      "          [1., 1.],\n",
      "          [0., 0.],\n",
      "          [0., 0.]],\n",
      "\n",
      "         [[1., 1.],\n",
      "          [1., 1.],\n",
      "          [1., 1.],\n",
      "          [0., 0.],\n",
      "          [0., 0.]],\n",
      "\n",
      "         [[1., 1.],\n",
      "          [1., 1.],\n",
      "          [1., 1.],\n",
      "          [0., 0.],\n",
      "          [0., 0.]],\n",
      "\n",
      "         [[1., 1.],\n",
      "          [1., 1.],\n",
      "          [1., 1.],\n",
      "          [0., 0.],\n",
      "          [0., 0.]],\n",
      "\n",
      "         [[1., 1.],\n",
      "          [1., 1.],\n",
      "          [1., 1.],\n",
      "          [0., 0.],\n",
      "          [0., 0.]],\n",
      "\n",
      "         [[1., 1.],\n",
      "          [1., 1.],\n",
      "          [1., 1.],\n",
      "          [0., 0.],\n",
      "          [0., 0.]],\n",
      "\n",
      "         [[1., 1.],\n",
      "          [1., 1.],\n",
      "          [1., 1.],\n",
      "          [0., 0.],\n",
      "          [0., 0.]],\n",
      "\n",
      "         [[1., 1.],\n",
      "          [1., 1.],\n",
      "          [1., 1.],\n",
      "          [0., 0.],\n",
      "          [0., 0.]],\n",
      "\n",
      "         [[1., 1.],\n",
      "          [1., 1.],\n",
      "          [1., 1.],\n",
      "          [0., 0.],\n",
      "          [0., 0.]],\n",
      "\n",
      "         [[1., 1.],\n",
      "          [1., 1.],\n",
      "          [1., 1.],\n",
      "          [0., 0.],\n",
      "          [0., 0.]]],\n",
      "\n",
      "\n",
      "        [[[1., 1.],\n",
      "          [1., 1.],\n",
      "          [1., 1.],\n",
      "          [0., 0.],\n",
      "          [0., 0.]],\n",
      "\n",
      "         [[1., 1.],\n",
      "          [1., 1.],\n",
      "          [1., 1.],\n",
      "          [0., 0.],\n",
      "          [0., 0.]],\n",
      "\n",
      "         [[1., 1.],\n",
      "          [1., 1.],\n",
      "          [1., 1.],\n",
      "          [0., 0.],\n",
      "          [0., 0.]],\n",
      "\n",
      "         [[1., 1.],\n",
      "          [1., 1.],\n",
      "          [1., 1.],\n",
      "          [0., 0.],\n",
      "          [0., 0.]],\n",
      "\n",
      "         [[1., 1.],\n",
      "          [1., 1.],\n",
      "          [1., 1.],\n",
      "          [0., 0.],\n",
      "          [0., 0.]],\n",
      "\n",
      "         [[1., 1.],\n",
      "          [1., 1.],\n",
      "          [1., 1.],\n",
      "          [0., 0.],\n",
      "          [0., 0.]],\n",
      "\n",
      "         [[1., 1.],\n",
      "          [1., 1.],\n",
      "          [1., 1.],\n",
      "          [0., 0.],\n",
      "          [0., 0.]],\n",
      "\n",
      "         [[1., 1.],\n",
      "          [1., 1.],\n",
      "          [1., 1.],\n",
      "          [0., 0.],\n",
      "          [0., 0.]],\n",
      "\n",
      "         [[1., 1.],\n",
      "          [1., 1.],\n",
      "          [1., 1.],\n",
      "          [0., 0.],\n",
      "          [0., 0.]],\n",
      "\n",
      "         [[1., 1.],\n",
      "          [1., 1.],\n",
      "          [1., 1.],\n",
      "          [0., 0.],\n",
      "          [0., 0.]],\n",
      "\n",
      "         [[1., 1.],\n",
      "          [1., 1.],\n",
      "          [1., 1.],\n",
      "          [0., 0.],\n",
      "          [0., 0.]],\n",
      "\n",
      "         [[1., 1.],\n",
      "          [1., 1.],\n",
      "          [1., 1.],\n",
      "          [0., 0.],\n",
      "          [0., 0.]]]], device='cuda:0')\n"
     ]
    },
    {
     "name": "stdin",
     "output_type": "stream",
     "text": [
      "ipdb>  mask.shape\n"
     ]
    },
    {
     "name": "stdout",
     "output_type": "stream",
     "text": [
      "torch.Size([5, 12, 5, 2])\n"
     ]
    },
    {
     "name": "stdin",
     "output_type": "stream",
     "text": [
      "ipdb>  mask[0]\n"
     ]
    },
    {
     "name": "stdout",
     "output_type": "stream",
     "text": [
      "tensor([[[1., 1.],\n",
      "         [1., 1.],\n",
      "         [1., 1.],\n",
      "         [1., 1.],\n",
      "         [0., 0.]],\n",
      "\n",
      "        [[1., 1.],\n",
      "         [1., 1.],\n",
      "         [1., 1.],\n",
      "         [1., 1.],\n",
      "         [0., 0.]],\n",
      "\n",
      "        [[1., 1.],\n",
      "         [1., 1.],\n",
      "         [1., 1.],\n",
      "         [1., 1.],\n",
      "         [0., 0.]],\n",
      "\n",
      "        [[1., 1.],\n",
      "         [1., 1.],\n",
      "         [1., 1.],\n",
      "         [1., 1.],\n",
      "         [0., 0.]],\n",
      "\n",
      "        [[1., 1.],\n",
      "         [1., 1.],\n",
      "         [1., 1.],\n",
      "         [1., 1.],\n",
      "         [0., 0.]],\n",
      "\n",
      "        [[1., 1.],\n",
      "         [1., 1.],\n",
      "         [1., 1.],\n",
      "         [1., 1.],\n",
      "         [0., 0.]],\n",
      "\n",
      "        [[1., 1.],\n",
      "         [1., 1.],\n",
      "         [1., 1.],\n",
      "         [1., 1.],\n",
      "         [0., 0.]],\n",
      "\n",
      "        [[1., 1.],\n",
      "         [1., 1.],\n",
      "         [1., 1.],\n",
      "         [1., 1.],\n",
      "         [0., 0.]],\n",
      "\n",
      "        [[1., 1.],\n",
      "         [1., 1.],\n",
      "         [1., 1.],\n",
      "         [1., 1.],\n",
      "         [0., 0.]],\n",
      "\n",
      "        [[1., 1.],\n",
      "         [1., 1.],\n",
      "         [1., 1.],\n",
      "         [1., 1.],\n",
      "         [0., 0.]],\n",
      "\n",
      "        [[1., 1.],\n",
      "         [1., 1.],\n",
      "         [1., 1.],\n",
      "         [1., 1.],\n",
      "         [0., 0.]],\n",
      "\n",
      "        [[1., 1.],\n",
      "         [1., 1.],\n",
      "         [1., 1.],\n",
      "         [1., 1.],\n",
      "         [0., 0.]]], device='cuda:0')\n"
     ]
    },
    {
     "name": "stdin",
     "output_type": "stream",
     "text": [
      "ipdb>  mask[0].shape\n"
     ]
    },
    {
     "name": "stdout",
     "output_type": "stream",
     "text": [
      "torch.Size([12, 5, 2])\n"
     ]
    },
    {
     "name": "stdin",
     "output_type": "stream",
     "text": [
      "ipdb>  n\n"
     ]
    },
    {
     "name": "stdout",
     "output_type": "stream",
     "text": [
      "> /tmp/ipykernel_13391/1521922107.py(52)forward()\n",
      "     50         sc = sc.masked_fill(mask.bool(), torch.tensor(torch.finfo(sc.dtype).min))  # (bs, n_h, q_len, k_len)\n",
      "     51 \n",
      "---> 52         w = nn.functional.softmax(sc, dim=-1)  # (bs, n_h, q_len, k_len)\n",
      "     53         w = self.dropout(w)  # (bs, n_h, q_len, k_len)\n",
      "     54 \n",
      "\n"
     ]
    },
    {
     "name": "stdin",
     "output_type": "stream",
     "text": [
      "ipdb>  sc[0]\n"
     ]
    },
    {
     "name": "stdout",
     "output_type": "stream",
     "text": [
      "tensor([[[-3.4028e+38, -3.4028e+38],\n",
      "         [-3.4028e+38, -3.4028e+38],\n",
      "         [-3.4028e+38, -3.4028e+38],\n",
      "         [-3.4028e+38, -3.4028e+38],\n",
      "         [ 1.6265e-01,  1.6265e-01]],\n",
      "\n",
      "        [[-3.4028e+38, -3.4028e+38],\n",
      "         [-3.4028e+38, -3.4028e+38],\n",
      "         [-3.4028e+38, -3.4028e+38],\n",
      "         [-3.4028e+38, -3.4028e+38],\n",
      "         [ 1.4462e-01,  1.4462e-01]],\n",
      "\n",
      "        [[-3.4028e+38, -3.4028e+38],\n",
      "         [-3.4028e+38, -3.4028e+38],\n",
      "         [-3.4028e+38, -3.4028e+38],\n",
      "         [-3.4028e+38, -3.4028e+38],\n",
      "         [ 3.3912e-01,  3.3912e-01]],\n",
      "\n",
      "        [[-3.4028e+38, -3.4028e+38],\n",
      "         [-3.4028e+38, -3.4028e+38],\n",
      "         [-3.4028e+38, -3.4028e+38],\n",
      "         [-3.4028e+38, -3.4028e+38],\n",
      "         [ 5.6553e-01,  5.6553e-01]],\n",
      "\n",
      "        [[-3.4028e+38, -3.4028e+38],\n",
      "         [-3.4028e+38, -3.4028e+38],\n",
      "         [-3.4028e+38, -3.4028e+38],\n",
      "         [-3.4028e+38, -3.4028e+38],\n",
      "         [ 3.2102e+00,  3.2102e+00]],\n",
      "\n",
      "        [[-3.4028e+38, -3.4028e+38],\n",
      "         [-3.4028e+38, -3.4028e+38],\n",
      "         [-3.4028e+38, -3.4028e+38],\n",
      "         [-3.4028e+38, -3.4028e+38],\n",
      "         [ 4.3664e-01,  4.3664e-01]],\n",
      "\n",
      "        [[-3.4028e+38, -3.4028e+38],\n",
      "         [-3.4028e+38, -3.4028e+38],\n",
      "         [-3.4028e+38, -3.4028e+38],\n",
      "         [-3.4028e+38, -3.4028e+38],\n",
      "         [ 5.5441e-01,  5.5441e-01]],\n",
      "\n",
      "        [[-3.4028e+38, -3.4028e+38],\n",
      "         [-3.4028e+38, -3.4028e+38],\n",
      "         [-3.4028e+38, -3.4028e+38],\n",
      "         [-3.4028e+38, -3.4028e+38],\n",
      "         [ 2.3231e-01,  2.3231e-01]],\n",
      "\n",
      "        [[-3.4028e+38, -3.4028e+38],\n",
      "         [-3.4028e+38, -3.4028e+38],\n",
      "         [-3.4028e+38, -3.4028e+38],\n",
      "         [-3.4028e+38, -3.4028e+38],\n",
      "         [ 3.5835e-01,  3.5835e-01]],\n",
      "\n",
      "        [[-3.4028e+38, -3.4028e+38],\n",
      "         [-3.4028e+38, -3.4028e+38],\n",
      "         [-3.4028e+38, -3.4028e+38],\n",
      "         [-3.4028e+38, -3.4028e+38],\n",
      "         [ 9.7891e-01,  9.7891e-01]],\n",
      "\n",
      "        [[-3.4028e+38, -3.4028e+38],\n",
      "         [-3.4028e+38, -3.4028e+38],\n",
      "         [-3.4028e+38, -3.4028e+38],\n",
      "         [-3.4028e+38, -3.4028e+38],\n",
      "         [-6.2361e-03, -6.2361e-03]],\n",
      "\n",
      "        [[-3.4028e+38, -3.4028e+38],\n",
      "         [-3.4028e+38, -3.4028e+38],\n",
      "         [-3.4028e+38, -3.4028e+38],\n",
      "         [-3.4028e+38, -3.4028e+38],\n",
      "         [ 1.0502e-01,  1.0502e-01]]], device='cuda:0',\n",
      "       grad_fn=<SelectBackward0>)\n"
     ]
    },
    {
     "name": "stdin",
     "output_type": "stream",
     "text": [
      "ipdb>  q\n"
     ]
    }
   ],
   "source": [
    "o = model(**b.to(model.device))"
   ]
  },
  {
   "cell_type": "code",
   "execution_count": null,
   "id": "423d0c0c-3fde-4f03-b714-a1c4582abab2",
   "metadata": {},
   "outputs": [
    {
     "data": {
      "text/plain": [
       "tensor(0.0776, grad_fn=<AddBackward0>)"
      ]
     },
     "execution_count": null,
     "metadata": {},
     "output_type": "execute_result"
    }
   ],
   "source": [
    "o.loss"
   ]
  },
  {
   "cell_type": "markdown",
   "id": "75a78666-19fe-4f96-9470-8d9784f9f9a6",
   "metadata": {},
   "source": [
    "## `RAD003`"
   ]
  },
  {
   "cell_type": "code",
   "execution_count": null,
   "id": "795bd728-b5d5-4a50-9052-8f2348422dd3",
   "metadata": {},
   "outputs": [],
   "source": [
    "#| export\n",
    "class Encoder003(DistilBertPreTrainedModel):\n",
    "    \n",
    "    def __init__(self, config:PretrainedConfig):\n",
    "        super().__init__(config)\n",
    "        self.distilbert = DistilBertModel(config)\n",
    "        \n",
    "        self.dr_head = RepresentationHead(config)\n",
    "        self.meta_head = RepresentationHead(config)\n",
    "        self.fused_dr_head = RepresentationHead(config)\n",
    "        self.cross_head = CrossAttention(config)\n",
    "        self.cross_gate = nn.Parameter(torch.zeros(1))\n",
    "         \n",
    "        self.post_init()\n",
    "        \n",
    "    def get_position_embeddings(self) -> nn.Embedding:\n",
    "        return self.distilbert.get_position_embeddings()\n",
    "    \n",
    "    def resize_position_embeddings(self, new_num_position_embeddings: int):\n",
    "        self.distilbert.resize_position_embeddings(new_num_position_embeddings)\n",
    "    \n",
    "    def encode(self, input_ids:torch.Tensor, attention_mask:torch.Tensor, **kwargs):\n",
    "        return self.distilbert(\n",
    "            input_ids=input_ids,\n",
    "            attention_mask=attention_mask,\n",
    "            **kwargs\n",
    "        )\n",
    "        \n",
    "    \n",
    "    def dr(self, embed:torch.Tensor, attention_mask:torch.Tensor):\n",
    "        embed = self.dr_head(embed)\n",
    "        return F.normalize(Pooling.mean_pooling(embed, attention_mask), dim=1)\n",
    "        \n",
    "    def fused_dr(self, embed:torch.Tensor, attention_mask:torch.Tensor):\n",
    "        embed = self.fused_dr_head(embed)\n",
    "        return F.normalize(Pooling.mean_pooling(embed, attention_mask), dim=1)\n",
    "        \n",
    "    def meta(self, embed:torch.Tensor, attention_mask:torch.Tensor):\n",
    "        embed = self.meta_head(embed)\n",
    "        return F.normalize(Pooling.mean_pooling(embed, attention_mask), dim=1)\n",
    "        \n",
    "    def meta_unnormalized(self, embed:torch.Tensor, attention_mask:torch.Tensor):\n",
    "        embed = self.meta_head(embed)\n",
    "        return Pooling.mean_pooling(embed, attention_mask)\n",
    "        \n",
    "    \n",
    "    def fuse_meta_into_embeddings(self, embed:torch.Tensor, attention_mask:torch.Tensor, meta_kwargs:Dict):\n",
    "        meta_repr, weights = {}, []\n",
    "        \n",
    "        for m_key, m_args in meta_kwargs.items():\n",
    "            idx = torch.where(m_args['data2ptr'] > 0)[0]\n",
    "            meta_repr[m_key] = torch.empty(0, self.config.dim).to(embed)\n",
    "            \n",
    "            if len(idx):\n",
    "                if not torch.all(m_args['data2ptr'][idx] == m_args['data2ptr'].max()): \n",
    "                    raise ValueError(f'All datapoints should have same number of metadata.')\n",
    "                    \n",
    "                if 'meta_repr' in m_args:\n",
    "                    m_repr,m_repr_mask = m_args['meta_repr'],torch.any(m_args['attention_mask'], dim=1).long().view(-1,1)\n",
    "                    m_repr_mask = m_repr_mask.bool()\n",
    "                else:\n",
    "                    m_input_ids, m_attention_mask = m_args['input_ids'], m_args['attention_mask']\n",
    "                    m_embed = self.encode(m_input_ids, m_attention_mask)[0]\n",
    "    \n",
    "                    m_repr = self.meta_unnormalized(m_embed, m_attention_mask)\n",
    "                    m_repr_mask = torch.any(m_attention_mask, dim=1)\n",
    "                    \n",
    "                m_repr, m_repr_mask = m_repr.view(len(idx), -1, self.config.dim), m_repr_mask.view(len(idx), -1)\n",
    "                \n",
    "                meta_repr[m_key] = m_repr[m_repr_mask]\n",
    "                meta_repr[m_key] = F.normalize(meta_repr[m_key], dim=1)\n",
    "                \n",
    "                fused_embed, w = self.cross_head(embed[idx], attention_mask[idx], m_repr, m_repr_mask, output_attentions=True)\n",
    "                embed[idx] += self.cross_gate * fused_embed\n",
    "                weights.append(w)\n",
    "               \n",
    "        return embed, weights, meta_repr\n",
    "        \n",
    "    \n",
    "    def forward(\n",
    "        self, \n",
    "        data_input_ids: torch.Tensor, \n",
    "        data_attention_mask: torch.Tensor,\n",
    "        data_aug_meta_prefix: Optional[str]=None,\n",
    "        data_type:Optional[str]=None,\n",
    "        data_unnormalized:Optional[bool]=False,\n",
    "        **kwargs\n",
    "    ):\n",
    "        data_o = self.encode(data_input_ids, data_attention_mask)\n",
    "        \n",
    "        if data_type is not None and data_type == \"meta\":\n",
    "            data_repr = self.meta_unnormalized(data_o[0], data_attention_mask) if data_unnormalized else self.meta(data_o[0], data_attention_mask)\n",
    "        else: \n",
    "            data_repr = self.dr(data_o[0], data_attention_mask)\n",
    "        \n",
    "        data_fused_repr = data_fused_logits = fusion_weights = meta_repr = None\n",
    "        if data_aug_meta_prefix is not None:\n",
    "            meta_kwargs = Parameters.from_meta_aug_prefix(data_aug_meta_prefix, **kwargs)\n",
    "            if len(meta_kwargs):\n",
    "                data_fused_embed, fusion_weights, meta_repr = self.fuse_meta_into_embeddings(data_o[0], \n",
    "                                                                                             data_attention_mask, \n",
    "                                                                                             meta_kwargs)\n",
    "                data_fused_repr = self.fused_dr(data_fused_embed, data_attention_mask)\n",
    "        \n",
    "        return EncoderOutput(\n",
    "            rep=data_repr,\n",
    "            fused_rep=data_fused_repr,\n",
    "            meta_repr=meta_repr,\n",
    "        )\n",
    "        "
   ]
  },
  {
   "cell_type": "code",
   "execution_count": null,
   "id": "e49ca4ca-c7d2-43af-864e-f197d951fecf",
   "metadata": {},
   "outputs": [],
   "source": [
    "#| export\n",
    "class RAD003(DistilBertPreTrainedModel):\n",
    "    use_generation,use_representation = False,True\n",
    "    _tied_weights_keys = [\"encoder.distilbert\"]\n",
    "    \n",
    "    def __init__(\n",
    "        self, config,\n",
    "        \n",
    "        num_batch_labels:Optional[int]=None, \n",
    "        batch_size:Optional[int]=None,\n",
    "        margin:Optional[float]=0.3,\n",
    "        num_negatives:Optional[int]=5,\n",
    "        tau:Optional[float]=0.1,\n",
    "        apply_softmax:Optional[bool]=True,\n",
    "\n",
    "        calib_margin:Optional[float]=0.3,\n",
    "        calib_num_negatives:Optional[int]=5,\n",
    "        calib_tau:Optional[float]=0.1,\n",
    "        calib_apply_softmax:Optional[bool]=True,\n",
    "        \n",
    "        \n",
    "        data_aug_meta_prefix:Optional[List]=None, \n",
    "        lbl2data_aug_meta_prefix:Optional[List]=None, \n",
    "\n",
    "        pred_meta_prefix:Optional[List]=None,\n",
    "        \n",
    "        meta_loss_weight:Optional[Union[List,float]]=0.3, \n",
    "        calib_loss_weight:Optional[float]=0.3,\n",
    "        \n",
    "        use_encoder_parallel:Optional[bool]=True,\n",
    "    ):\n",
    "        super().__init__(config)\n",
    "        self.m_lw,self.c_lw = meta_loss_weight,calib_loss_weight\n",
    "        store_attr('pred_meta_prefix,data_aug_meta_prefix,lbl2data_aug_meta_prefix,use_encoder_parallel')\n",
    "        \n",
    "        self.encoder = Encoder003(config)\n",
    "        \n",
    "        self.post_init()\n",
    "        self.rep_loss_fn = MultiTriplet(bsz=batch_size, tn_targ=num_batch_labels, margin=margin, n_negatives=num_negatives, \n",
    "                                        tau=tau, apply_softmax=apply_softmax, reduce='mean')\n",
    "        self.cab_loss_fn = Calibration(margin=calib_margin, tau=calib_tau, n_negatives=calib_num_negatives, \n",
    "                                       apply_softmax=calib_apply_softmax, reduce='mean')\n",
    "        \n",
    "        self.remap_post_init()\n",
    "        self.init_retrieval_head()\n",
    "        self.init_cross_head()\n",
    "        \n",
    "    def init_retrieval_head(self):\n",
    "        self.encoder.dr_head.post_init()\n",
    "        self.encoder.meta_head.post_init()\n",
    "        self.encoder.fused_dr_head.post_init()\n",
    "\n",
    "    def init_cross_head(self):\n",
    "        self.encoder.cross_head.post_init()\n",
    "\n",
    "    def init_cross_gate(self):\n",
    "        self.encoder.cross_gate.data = torch.zeros(1)\n",
    "            \n",
    "    def remap_post_init(self):\n",
    "         self.distilbert = self.encoder.distilbert\n",
    "        \n",
    "    def compute_loss(self, inp_repr, targ_repr, targ_ptr, targ_idx, ptarg_ptr, ptarg_idx):\n",
    "        return self.rep_loss_fn(inp_repr, targ_repr, targ_ptr, targ_idx, ptarg_ptr, ptarg_idx)\n",
    "\n",
    "    def calibration_loss(self, einp_repr, inp_repr, targ_repr, targ_ptr, targ_idx, ptarg_ptr, ptarg_idx):\n",
    "        return self.c_lw * self.cab_loss_fn(einp_repr, inp_repr, targ_repr, targ_ptr, targ_idx, ptarg_ptr, ptarg_idx)\n",
    "    \n",
    "    def compute_meta_loss(self, data_repr, lbl2data_repr, **kwargs):\n",
    "        if self.use_encoder_parallel: \n",
    "            encoder = XCDataParallel(module=self.encoder)\n",
    "        else: encoder = self.encoder\n",
    "            \n",
    "        meta_inputs = Parameters.from_meta_pred_prefix(self.pred_meta_prefix, **kwargs)\n",
    "        m_lw = Parameters.get_meta_loss_weights(self.m_lw, len(meta_inputs))\n",
    "        \n",
    "        loss = 0.0\n",
    "        for inputs,lw in zip(meta_inputs.values(), m_lw):\n",
    "            if 'lbl2data2ptr' in inputs:\n",
    "                idx = torch.where(inputs['lbl2data2ptr'])[0]\n",
    "                if len(idx) > 0:\n",
    "                    inputs_o = encoder(data_input_ids=inputs['input_ids'], data_attention_mask=inputs['attention_mask'], \n",
    "                                       data_type=\"meta\")\n",
    "                    m_loss = self.rep_loss_fn(lbl2data_repr[idx], inputs_o.rep, inputs['data2ptr'][idx],\n",
    "                                              inputs['idx'], inputs['pdata2ptr'][idx], inputs['pidx'])\n",
    "                    loss += lw * m_loss\n",
    "\n",
    "            elif 'data2ptr' in inputs:\n",
    "                idx = torch.where(inputs['data2ptr'])[0]\n",
    "                if len(idx) > 0:\n",
    "                    inputs_o = encoder(data_input_ids=inputs['input_ids'], data_attention_mask=inputs['attention_mask'], \n",
    "                                       data_type=\"meta\")\n",
    "                    m_loss = self.rep_loss_fn(data_repr[idx], inputs_o.rep, inputs['data2ptr'][idx], inputs['idx'], \n",
    "                                              inputs['pdata2ptr'][idx], inputs['pidx'])\n",
    "                    loss += lw * m_loss       \n",
    "\n",
    "            else: raise ValueError('Invalid metadata input arguments.')\n",
    "        return loss\n",
    "\n",
    "    def get_meta_representation(\n",
    "        self,\n",
    "        data_input_ids:Optional[torch.Tensor]=None,\n",
    "        data_attention_mask:Optional[torch.Tensor]=None,\n",
    "        **kwargs\n",
    "    ):\n",
    "        if self.use_encoder_parallel: \n",
    "            encoder = XCDataParallel(module=self.encoder)\n",
    "        else: encoder = self.encoder\n",
    "            \n",
    "        data_o = encoder(data_input_ids=data_input_ids, data_attention_mask=data_attention_mask, \n",
    "                         data_unnormalized=True, data_type=\"meta\")\n",
    "        return RADOutput(\n",
    "            logits=data_o.logits,\n",
    "            data_repr=data_o.rep,\n",
    "            data_fused_repr=data_o.fused_rep,\n",
    "        )\n",
    "        \n",
    "    def forward(\n",
    "        self,\n",
    "        data_input_ids:Optional[torch.Tensor]=None,\n",
    "        data_attention_mask:Optional[torch.Tensor]=None,\n",
    "        lbl2data_data2ptr:Optional[torch.Tensor]=None,\n",
    "        lbl2data_idx:Optional[torch.Tensor]=None,\n",
    "        lbl2data_input_ids:Optional[torch.Tensor]=None,\n",
    "        lbl2data_attention_mask:Optional[torch.Tensor]=None,\n",
    "        plbl2data_data2ptr:Optional[torch.Tensor]=None,\n",
    "        plbl2data_idx:Optional[torch.Tensor]=None,\n",
    "        output_attentions: Optional[bool] = None,\n",
    "        output_hidden_states: Optional[bool] = None,\n",
    "        return_dict: Optional[bool] = None,\n",
    "        **kwargs\n",
    "    ):  \n",
    "        return_dict = return_dict if return_dict is not None else self.config.use_return_dict\n",
    "        \n",
    "        if self.use_encoder_parallel: \n",
    "            encoder = XCDataParallel(module=self.encoder)\n",
    "        else: encoder = self.encoder\n",
    "        \n",
    "        data_meta_kwargs = Parameters.from_feat_meta_aug_prefix('data', self.data_aug_meta_prefix, **kwargs)\n",
    "        data_o = encoder(data_input_ids=data_input_ids, data_attention_mask=data_attention_mask, \n",
    "                         data_aug_meta_prefix=self.data_aug_meta_prefix, **data_meta_kwargs)\n",
    "        \n",
    "        \n",
    "        loss = None; lbl2data_o = EncoderOutput()\n",
    "        if lbl2data_input_ids is not None:\n",
    "            lbl2data_meta_kwargs = Parameters.from_feat_meta_aug_prefix('lbl2data', self.lbl2data_aug_meta_prefix, **kwargs)\n",
    "            \n",
    "            lbl2data_o = encoder(data_input_ids=lbl2data_input_ids, data_attention_mask=lbl2data_attention_mask, \n",
    "                                 data_aug_meta_prefix=self.lbl2data_aug_meta_prefix, **lbl2data_meta_kwargs)\n",
    "\n",
    "            loss = self.compute_loss(data_o.rep, lbl2data_o.rep,lbl2data_data2ptr,lbl2data_idx,\n",
    "                                     plbl2data_data2ptr,plbl2data_idx)\n",
    "            \n",
    "            if data_o.fused_rep is not None:\n",
    "                loss += self.compute_loss(data_o.fused_rep, lbl2data_o.rep,lbl2data_data2ptr,lbl2data_idx,\n",
    "                                          plbl2data_data2ptr,plbl2data_idx)\n",
    "                \n",
    "                loss += self.calibration_loss(data_o.fused_rep, data_o.rep, lbl2data_o.rep,lbl2data_data2ptr,lbl2data_idx,\n",
    "                                              plbl2data_data2ptr,plbl2data_idx)\n",
    "            \n",
    "            loss += self.compute_meta_loss(data_o.rep, lbl2data_o.rep, **kwargs)\n",
    "            \n",
    "        if not return_dict:\n",
    "            o = (data_o.logits,data_o.rep,data_o.fused_rep,lbl2data_o.logits,lbl2data_o.rep,lbl2data_o.fused_rep)\n",
    "            return ((loss,) + o) if loss is not None else o\n",
    "        \n",
    "        \n",
    "        return RADOutput(\n",
    "            loss=loss,\n",
    "            \n",
    "            data_repr=data_o.rep,\n",
    "            data_fused_repr=data_o.fused_rep,\n",
    "            \n",
    "            lbl2data_repr=lbl2data_o.rep,\n",
    "            lbl2data_fused_repr=lbl2data_o.fused_rep,\n",
    "        )\n",
    "        "
   ]
  },
  {
   "cell_type": "markdown",
   "id": "ea78ec3e-dd38-407e-b1ae-9024ba8eabbf",
   "metadata": {},
   "source": [
    "### Example"
   ]
  },
  {
   "cell_type": "code",
   "execution_count": null,
   "id": "2030f5b8-0be5-4b8a-b041-4323849faad1",
   "metadata": {},
   "outputs": [
    {
     "name": "stderr",
     "output_type": "stream",
     "text": [
      "Some weights of RAD003 were not initialized from the model checkpoint at distilbert-base-uncased and are newly initialized: ['encoder.cross_gate', 'encoder.cross_head.k.bias', 'encoder.cross_head.k.weight', 'encoder.cross_head.o.bias', 'encoder.cross_head.o.weight', 'encoder.cross_head.q.bias', 'encoder.cross_head.q.weight', 'encoder.cross_head.v.bias', 'encoder.cross_head.v.weight', 'encoder.dr_head.layer_norm.bias', 'encoder.dr_head.layer_norm.weight', 'encoder.dr_head.projector.bias', 'encoder.dr_head.projector.weight', 'encoder.dr_head.transform.bias', 'encoder.dr_head.transform.weight', 'encoder.fused_dr_head.layer_norm.bias', 'encoder.fused_dr_head.layer_norm.weight', 'encoder.fused_dr_head.projector.bias', 'encoder.fused_dr_head.projector.weight', 'encoder.fused_dr_head.transform.bias', 'encoder.fused_dr_head.transform.weight', 'encoder.meta_head.layer_norm.bias', 'encoder.meta_head.layer_norm.weight', 'encoder.meta_head.projector.bias', 'encoder.meta_head.projector.weight', 'encoder.meta_head.transform.bias', 'encoder.meta_head.transform.weight']\n",
      "You should probably TRAIN this model on a down-stream task to be able to use it for predictions and inference.\n"
     ]
    }
   ],
   "source": [
    "model = RAD003.from_pretrained('distilbert-base-uncased', num_batch_labels=5000, batch_size=100,\n",
    "                               margin=0.3, num_negatives=5, tau=0.1, apply_softmax=True,\n",
    "                               \n",
    "                               calib_margin=0.3, calib_num_negatives=5, calib_tau=0.1, calib_apply_softmax=True,\n",
    "                               \n",
    "                               data_aug_meta_prefix='aug2data', lbl2data_aug_meta_prefix='aug2lbl', pred_meta_prefix='cat',\n",
    "                               meta_loss_weight=[0.1, 0.1], calib_loss_weight=0.3,  \n",
    "                               use_encoder_parallel=False)\n",
    "model.init_retrieval_head()\n",
    "model.init_cross_head()"
   ]
  },
  {
   "cell_type": "code",
   "execution_count": null,
   "id": "a6ca78be-c4c0-4435-99b8-45c779ee25ce",
   "metadata": {},
   "outputs": [],
   "source": []
  },
  {
   "cell_type": "code",
   "execution_count": null,
   "id": "b93689ea-2cb9-4b55-a44a-e747d1eba305",
   "metadata": {},
   "outputs": [],
   "source": [
    "b = prepare_batch(model, batch, m_args=[\n",
    "    'pcat2data_idx', 'pcat2data_data2ptr', 'cat2data_idx', 'cat2data_input_ids', 'cat2data_attention_mask', \n",
    "    'cat2data_data2ptr',\n",
    "    'pcat2lbl_idx', 'pcat2lbl_lbl2data2ptr', 'pcat2lbl_data2ptr', 'cat2lbl_idx', 'cat2lbl_input_ids', \n",
    "    'cat2lbl_attention_mask', 'cat2lbl_lbl2data2ptr', 'cat2lbl_data2ptr',\n",
    "])"
   ]
  },
  {
   "cell_type": "code",
   "execution_count": null,
   "id": "1efd8eb8-5ed3-4a82-93d1-298c0322cfbc",
   "metadata": {},
   "outputs": [
    {
     "data": {
      "text/plain": [
       "dict_keys(['plbl2data_idx', 'plbl2data_data2ptr', 'lbl2data_idx', 'lbl2data_input_ids', 'lbl2data_attention_mask', 'lbl2data_data2ptr', 'pcat2lbl_idx', 'pcat2lbl_lbl2data2ptr', 'pcat2lbl_data2ptr', 'cat2lbl_idx', 'cat2lbl_input_ids', 'cat2lbl_attention_mask', 'cat2lbl_lbl2data2ptr', 'cat2lbl_data2ptr', 'pcat2data_idx', 'pcat2data_data2ptr', 'cat2data_idx', 'cat2data_input_ids', 'cat2data_attention_mask', 'cat2data_data2ptr', 'data_input_ids', 'data_attention_mask'])"
      ]
     },
     "execution_count": null,
     "metadata": {},
     "output_type": "execute_result"
    }
   ],
   "source": [
    "b.keys()"
   ]
  },
  {
   "cell_type": "code",
   "execution_count": null,
   "id": "1ad618fe-d767-4c48-9d56-a3a68afa3b9d",
   "metadata": {},
   "outputs": [
    {
     "name": "stderr",
     "output_type": "stream",
     "text": [
      "/scratch/scai/phd/aiz218323/Projects/xcai/xcai/losses.py:22: UserWarning: Sparse CSR tensor support is in beta state. If you miss a functionality in the sparse tensor support, please submit a feature request to https://github.com/pytorch/pytorch/issues. (Triggered internally at ../aten/src/ATen/SparseCsrTensorImpl.cpp:53.)\n",
      "  return torch.sparse_csr_tensor(data_ptr, data_idx, scores, device=data_ptr.device)\n"
     ]
    }
   ],
   "source": [
    "o = model(**b.to(model.device))"
   ]
  },
  {
   "cell_type": "markdown",
   "id": "933bfe5e-133d-4f31-be17-e23e18272fa5",
   "metadata": {},
   "source": [
    "## GatedCrossAttention"
   ]
  },
  {
   "cell_type": "code",
   "execution_count": null,
   "id": "ef8691b3-0fdd-4e04-a1f7-a9442fcc3b87",
   "metadata": {},
   "outputs": [],
   "source": [
    "#| export\n",
    "class GatedCrossAttention(nn.Module):\n",
    "    \n",
    "    def __init__(self, config: PretrainedConfig, margin:Optional[float]=0.3, tau:Optional[float]=0.1):\n",
    "        super().__init__()\n",
    "        store_attr('margin,tau')\n",
    "        self.config, self.n_h, self.dim = config, config.n_heads, config.dim\n",
    "        self.dropout = nn.Dropout(p=config.attention_dropout)\n",
    "\n",
    "        if self.dim % self.n_h != 0:\n",
    "            raise ValueError(f\"self.n_heads: {self.n_h} must divide self.dim: {self.dim} evenly.\")\n",
    "            \n",
    "        self.q = nn.Linear(in_features=config.dim, out_features=config.dim)\n",
    "        self.k = nn.Linear(in_features=config.dim, out_features=config.dim)\n",
    "        self.v = nn.Linear(in_features=config.dim, out_features=config.dim)\n",
    "        self.o = nn.Linear(in_features=config.dim, out_features=config.dim)\n",
    "\n",
    "    def post_init(self):\n",
    "        self.q.weight.data = torch.eye(self.q.out_features, self.q.in_features, dtype=self.q.weight.dtype)\n",
    "        self.k.weight.data = torch.eye(self.k.out_features, self.k.in_features, dtype=self.k.weight.dtype)\n",
    "        self.v.weight.data = torch.eye(self.v.out_features, self.v.in_features, dtype=self.v.weight.dtype)\n",
    "        self.o.weight.data = torch.eye(self.o.out_features, self.o.in_features, dtype=self.o.weight.dtype)\n",
    "\n",
    "    def forward(\n",
    "        self, \n",
    "        q: torch.Tensor,\n",
    "        q_m: torch.Tensor,\n",
    "        k: torch.Tensor, \n",
    "        k_m: torch.Tensor,\n",
    "        output_attentions:Optional[bool] = False,\n",
    "    ):\n",
    "        bs, q_len, dim = q.size()\n",
    "        v, k_len = k, k.size(1) \n",
    "\n",
    "        h_dim = self.dim//self.n_h\n",
    "\n",
    "        def shape(x: torch.Tensor): return x.view(bs, -1, self.n_h, h_dim).transpose(1, 2)\n",
    "\n",
    "        def unshape(x: torch.Tensor): return x.transpose(1, 2).contiguous().view(bs, -1, self.n_h * h_dim)\n",
    "\n",
    "        q = shape(self.q(q))  # (bs, n_h, q_len, h_dim)\n",
    "        k = shape(self.k(k))  # (bs, n_h, k_len, h_dim)\n",
    "        v = shape(self.v(v))  # (bs, n_h, k_len, h_dim)\n",
    "\n",
    "        q = q / math.sqrt(h_dim)  # (bs, n_h, q_len, h_dim)\n",
    "        sc = torch.matmul(q, k.transpose(2, 3))  # (bs, n_h, q_len, k_len)\n",
    "        sc = sc / self.tau\n",
    "\n",
    "        q_m, k_m = q_m.view(bs, 1, -1, 1).to(q.dtype), k_m.view(bs, 1, 1, -1).to(q.dtype)\n",
    "        mask = torch.matmul(q_m, k_m).expand_as(sc)  # (bs, n_h, q_len, k_len)\n",
    "        sc = sc.masked_fill(mask == 0, torch.tensor(torch.finfo(sc.dtype).min))  # (bs, n_h, q_len, k_len)\n",
    "\n",
    "        q_norm, k_norm = F.normalize(q, dim=-1), F.normalize(k, dim=-1)\n",
    "        gated_sc = torch.matmul(q_norm, k_norm.transpose(2, 3))\n",
    "        gated_sc = F.relu(gated_sc - self.margin)\n",
    "        sc = sc.masked_fill(gated_sc == 0, torch.tensor(torch.finfo(sc.dtype).min))\n",
    "\n",
    "        w = nn.functional.softmax(sc, dim=-1)  # (bs, n_h, q_len, k_len)\n",
    "        w = self.dropout(w)  # (bs, n_h, q_len, k_len)\n",
    "\n",
    "        o = self.o(unshape(torch.matmul(w, v))) # (bs, q_len, dim)\n",
    "        \n",
    "        if output_attentions: return (o, w)\n",
    "        else: return (o,)\n",
    "        "
   ]
  },
  {
   "cell_type": "markdown",
   "id": "d7877ecb-1682-432e-87a1-bf74efa2b135",
   "metadata": {},
   "source": [
    "## `RAD004`"
   ]
  },
  {
   "cell_type": "code",
   "execution_count": null,
   "id": "85414319-e6d0-41ce-b275-13231e60f746",
   "metadata": {},
   "outputs": [],
   "source": [
    "#| export\n",
    "class Encoder004(DistilBertPreTrainedModel):\n",
    "    \n",
    "    def __init__(self, config:PretrainedConfig, use_noise:Optional[bool]=True, noise_pct:Optional[float]=0.7,\n",
    "                 resize_length:Optional[int]=None):\n",
    "        \n",
    "        super().__init__(config)\n",
    "        store_attr('use_noise,noise_pct')\n",
    "        self.distilbert = DistilBertModel(config)\n",
    "        \n",
    "        self.dr_head = RepresentationHead(config)\n",
    "        self.meta_head = RepresentationHead(config)\n",
    "        self.cross_head = GatedCrossAttention(config)\n",
    "        self.cross_gate = nn.Parameter(torch.ones(1))\n",
    "\n",
    "        self.ones = torch.ones(resize_length, dtype=torch.long, device=self.device) if resize_length is not None else None\n",
    "        self.post_init()\n",
    "        \n",
    "    def get_position_embeddings(self) -> nn.Embedding:\n",
    "        return self.distilbert.get_position_embeddings()\n",
    "    \n",
    "    def resize_position_embeddings(self, new_num_position_embeddings: int):\n",
    "        self.distilbert.resize_position_embeddings(new_num_position_embeddings)\n",
    "        \n",
    "\n",
    "    \n",
    "    def encode(self, input_ids:torch.Tensor, attention_mask:torch.Tensor, **kwargs):\n",
    "        return self.distilbert(\n",
    "            input_ids=input_ids,\n",
    "            attention_mask=attention_mask,\n",
    "            **kwargs\n",
    "        )\n",
    "        \n",
    "    def dr(self, embed:torch.Tensor, attention_mask:torch.Tensor):\n",
    "        embed = self.dr_head(embed)\n",
    "        return F.normalize(Pooling.mean_pooling(embed, attention_mask), dim=1)\n",
    "        \n",
    "    def meta(self, embed:torch.Tensor, attention_mask:torch.Tensor):\n",
    "        embed = self.meta_head(embed)\n",
    "        return F.normalize(Pooling.mean_pooling(embed, attention_mask), dim=1)\n",
    "        \n",
    "    def meta_unnormalized(self, embed:torch.Tensor, attention_mask:torch.Tensor):\n",
    "        embed = self.meta_head(embed)\n",
    "        return Pooling.mean_pooling(embed, attention_mask)\n",
    "        \n",
    "\n",
    "\n",
    "    def resize(self, inputs:torch.Tensor, mask:torch.Tensor, num_inputs:torch.Tensor):\n",
    "        if torch.any(num_inputs == 0): raise ValueError(\"`num_inputs` should be non-zero positive integer.\")\n",
    "        bsz, dim, total_num_inputs = num_inputs.shape[0], inputs.shape[-1], inputs.shape[0]\n",
    "        \n",
    "        self.ones = self.ones.to(inputs.device)\n",
    "        ones = (\n",
    "            torch.ones(total_num_inputs, dtype=torch.long, device=inputs.device) \n",
    "            if self.ones is None or self.ones.shape[0] < total_num_inputs else self.ones[:total_num_inputs]\n",
    "        )\n",
    "\n",
    "        max_num_inputs = num_inputs.max()\n",
    "        xnum_inputs = max_num_inputs-num_inputs+1\n",
    "\n",
    "        inputs_ptr = num_inputs.cumsum(dim=0)-1\n",
    "        repeat_inputs = ones.scatter(0, inputs_ptr, xnum_inputs)\n",
    "        \n",
    "        resized_inputs = inputs.repeat_interleave(repeat_inputs, dim=0)\n",
    "        resized_mask = mask.repeat_interleave(repeat_inputs, dim=0)\n",
    "        \n",
    "        ignore_mask_idx = ones.scatter(0, inputs_ptr, 0).repeat_interleave(repeat_inputs, dim=0).view(bsz, -1)\n",
    "        ignore_mask_idx[:, -1] = 1; ignore_mask_idx = ignore_mask_idx.view(-1, 1)\n",
    "        \n",
    "        resized_mask *= ignore_mask_idx\n",
    "\n",
    "        return resized_inputs,resized_mask\n",
    "        \n",
    "    def add_noise(self, input_ids:torch.Tensor, attention_mask:torch.Tensor, n_meta:int):\n",
    "        n_data = input_ids.shape[0]//n_meta\n",
    "        noise_mask = torch.rand(n_meta, n_data, device=input_ids.device) < 0.1\n",
    "        for i,mask in enumerate(noise_mask):\n",
    "            rnd_idx = torch.randperm(mask.sum())\n",
    "            input_ids[:,i][mask] = input_ids[:,i][mask][rnd_idx]\n",
    "            attention_mask[:,i][mask] = attention_mask[:,i][mask][rnd_idx]\n",
    "        return input_ids, attention_mask\n",
    "\n",
    "    \n",
    "    def fuse_meta_into_embeddings(self, embed:torch.Tensor, attention_mask:torch.Tensor, meta_kwargs:Dict):\n",
    "        meta_repr = {}\n",
    "        \n",
    "        for m_key, m_args in meta_kwargs.items():\n",
    "            idx = torch.where(m_args['data2ptr'] > 0)[0]\n",
    "            meta_repr[m_key] = torch.empty(0, self.config.dim).to(embed)\n",
    "            \n",
    "            if len(idx):\n",
    "                if 'meta_repr' in m_args:\n",
    "                    m_repr,m_repr_mask = m_args['meta_repr'],torch.any(m_args['attention_mask'], dim=1).long().view(-1,1)\n",
    "                    m_repr,m_repr_mask = self.resize(m_repr, m_repr_mask, m_args['data2ptr'][idx])\n",
    "                    m_repr_mask = m_repr_mask.bool()\n",
    "                else:\n",
    "                    m_input_ids, m_attention_mask = self.resize(m_args['input_ids'], m_args['attention_mask'], \n",
    "                                                                m_args['data2ptr'][idx])\n",
    "                    n_meta = m_args['data2ptr'].max()\n",
    "                    \n",
    "                    if self.use_noise:\n",
    "                        m_input_ids, m_attention_mask = self.add_noise(m_input_ids, m_attention_mask, n_meta)\n",
    "\n",
    "                    m_embed = self.encode(m_input_ids, m_attention_mask)[0]\n",
    "\n",
    "                    m_repr = self.meta_unnormalized(m_embed, m_attention_mask)\n",
    "                    m_repr_mask = torch.any(m_attention_mask, dim=1)\n",
    "                    \n",
    "                m_repr, m_repr_mask = m_repr.view(len(idx), -1, self.config.dim), m_repr_mask.view(len(idx), -1)\n",
    "                \n",
    "                meta_repr[m_key] = m_repr[:, :-1][m_repr_mask[:, :-1]] if self.use_noise else m_repr[m_repr_mask]\n",
    "                meta_repr[m_key] = F.normalize(meta_repr[m_key], dim=1)\n",
    "                \n",
    "                fused_embed = self.cross_head(embed[idx], attention_mask[idx], m_repr, m_repr_mask)[0]\n",
    "                embed[idx] += self.cross_gate * fused_embed\n",
    "                \n",
    "        return embed, meta_repr\n",
    "        \n",
    "    \n",
    "    def forward(\n",
    "        self, \n",
    "        data_input_ids: torch.Tensor, \n",
    "        data_attention_mask: torch.Tensor,\n",
    "        data_aug_meta_prefix: Optional[str]=None,\n",
    "        data_type:Optional[str]=None,\n",
    "        data_unnormalized:Optional[bool]=False,\n",
    "        **kwargs\n",
    "    ):\n",
    "        data_o = self.encode(data_input_ids, data_attention_mask)\n",
    "        \n",
    "        if data_type is not None and data_type == \"meta\":\n",
    "            data_repr = self.meta_unnormalized(data_o[0], data_attention_mask) if data_unnormalized else self.meta(data_o[0], data_attention_mask)\n",
    "        else: \n",
    "            data_repr = self.dr(data_o[0], data_attention_mask)\n",
    "        \n",
    "        data_fused_repr = data_fused_logits = fusion_weights = meta_repr = None\n",
    "        if data_aug_meta_prefix is not None:\n",
    "            meta_kwargs = Parameters.from_meta_aug_prefix(data_aug_meta_prefix, **kwargs)\n",
    "            if len(meta_kwargs):\n",
    "                data_fused_embed, meta_repr = self.fuse_meta_into_embeddings(data_o[0], \n",
    "                                                                             data_attention_mask, \n",
    "                                                                             meta_kwargs)\n",
    "                data_fused_repr = self.dr(data_fused_embed, data_attention_mask)\n",
    "        \n",
    "        return EncoderOutput(\n",
    "            rep=data_repr,\n",
    "            fused_rep=data_fused_repr,\n",
    "            meta_repr=meta_repr,\n",
    "        )\n",
    "        "
   ]
  },
  {
   "cell_type": "code",
   "execution_count": null,
   "id": "e3e8a8df-444a-4782-901e-dc01f2472d1f",
   "metadata": {},
   "outputs": [],
   "source": [
    "#| export\n",
    "class RAD004(DistilBertPreTrainedModel):\n",
    "    use_generation,use_representation = False,True\n",
    "    _tied_weights_keys = [\"encoder.distilbert\"]\n",
    "    \n",
    "    def __init__(\n",
    "        self, config,\n",
    "        \n",
    "        num_batch_labels:Optional[int]=None, \n",
    "        batch_size:Optional[int]=None,\n",
    "        margin:Optional[float]=0.3,\n",
    "        num_negatives:Optional[int]=5,\n",
    "        tau:Optional[float]=0.1,\n",
    "        apply_softmax:Optional[bool]=True,\n",
    "        \n",
    "        data_aug_meta_prefix:Optional[str]=None, \n",
    "        lbl2data_aug_meta_prefix:Optional[str]=None, \n",
    "\n",
    "        data_pred_meta_prefix:Optional[str]=None,\n",
    "        lbl2data_pred_meta_prefix:Optional[str]=None,\n",
    "\n",
    "        resize_length:Optional[int]=None,\n",
    "        use_noise:Optional[bool]=True,\n",
    "        noise_percent:Optional[float]=0.7,\n",
    "        \n",
    "        meta_loss_weight:Optional[Union[List,float]]=0.3, \n",
    "        use_encoder_parallel:Optional[bool]=True,\n",
    "    ):\n",
    "        super().__init__(config)\n",
    "        self.m_lw = meta_loss_weight\n",
    "        store_attr('data_pred_meta_prefix,lbl2data_pred_meta_prefix')\n",
    "        store_attr('data_aug_meta_prefix,lbl2data_aug_meta_prefix')\n",
    "        store_attr('use_encoder_parallel')\n",
    "        \n",
    "        self.encoder = Encoder004(config, use_noise=use_noise, noise_pct=noise_percent, resize_length=resize_length)\n",
    "        \n",
    "        self.post_init()\n",
    "        self.rep_loss_fn = MultiTriplet(bsz=batch_size, tn_targ=num_batch_labels, margin=margin, n_negatives=num_negatives, \n",
    "                                        tau=tau, apply_softmax=apply_softmax, reduce='mean')\n",
    "        \n",
    "        self.remap_post_init()\n",
    "        self.init_retrieval_head()\n",
    "        self.init_cross_head()\n",
    "        self.init_cross_gate()\n",
    "        \n",
    "    def init_retrieval_head(self):\n",
    "        self.encoder.dr_head.post_init()\n",
    "        self.encoder.meta_head.post_init()\n",
    "\n",
    "    def init_cross_head(self):\n",
    "        self.encoder.cross_head.post_init()\n",
    "\n",
    "    def init_cross_gate(self):\n",
    "        self.encoder.cross_gate.data = torch.ones(1)\n",
    "            \n",
    "    def remap_post_init(self):\n",
    "         self.distilbert = self.encoder.distilbert\n",
    "        \n",
    "    \n",
    "    \n",
    "    def disable_noise(self):\n",
    "        use_noise = self.encoder.module.use_noise if isinstance(self.encoder, XCDataParallel) else self.encoder.use_noise\n",
    "        if isinstance(self.encoder, XCDataParallel): self.encoder.module.use_noise = False\n",
    "        else: self.encoder.use_noise = False\n",
    "        return use_noise\n",
    "    \n",
    "    def set_noise(self, use_noise):\n",
    "        if isinstance(self.encoder, XCDataParallel): self.encoder.module.use_noise = use_noise\n",
    "        else: self.encoder.use_noise = use_noise\n",
    "            \n",
    "    def get_noise(self):\n",
    "        return self.encoder.module.use_noise if isinstance(self.encoder, XCDataParallel) else self.encoder.use_noise\n",
    "\n",
    "    \n",
    "\n",
    "    def compute_loss(self, inp_repr, targ_repr, targ_ptr, targ_idx, ptarg_ptr, ptarg_idx):\n",
    "        return self.rep_loss_fn(inp_repr, targ_repr, targ_ptr, targ_idx, ptarg_ptr, ptarg_idx)\n",
    "    \n",
    "    def compute_meta_loss(self, data_repr, lbl2data_repr, **kwargs):\n",
    "        if self.use_encoder_parallel: \n",
    "            encoder = XCDataParallel(module=self.encoder)\n",
    "        else: encoder = self.encoder\n",
    "            \n",
    "        data_meta_inputs = Parameters.from_meta_pred_prefix(self.data_pred_meta_prefix, **kwargs)\n",
    "        lbl2data_meta_inputs = Parameters.from_meta_pred_prefix(self.lbl2data_pred_meta_prefix, **kwargs)\n",
    "        meta_inputs = {**data_meta_inputs, **lbl2data_meta_inputs}\n",
    "\n",
    "        m_lw = Parameters.get_meta_loss_weights(self.m_lw, len(meta_inputs)) if len(meta_inputs) else []\n",
    "        \n",
    "        loss = 0.0\n",
    "        for inputs,lw in zip(meta_inputs.values(), m_lw):\n",
    "            if 'lbl2data2ptr' in inputs:\n",
    "                idx = torch.where(inputs['lbl2data2ptr'])[0]\n",
    "                if len(idx) > 0:\n",
    "                    inputs_o = encoder(data_input_ids=inputs['input_ids'], data_attention_mask=inputs['attention_mask'], \n",
    "                                       data_type=\"meta\")\n",
    "                    m_loss = self.rep_loss_fn(lbl2data_repr[idx], inputs_o.rep, inputs['data2ptr'][idx],\n",
    "                                              inputs['idx'], inputs['pdata2ptr'][idx], inputs['pidx'])\n",
    "                    loss += lw * m_loss\n",
    "\n",
    "            elif 'data2ptr' in inputs:\n",
    "                idx = torch.where(inputs['data2ptr'])[0]\n",
    "                if len(idx) > 0:\n",
    "                    inputs_o = encoder(data_input_ids=inputs['input_ids'], data_attention_mask=inputs['attention_mask'], \n",
    "                                       data_type=\"meta\")\n",
    "                    m_loss = self.rep_loss_fn(data_repr[idx], inputs_o.rep, inputs['data2ptr'][idx], inputs['idx'], \n",
    "                                              inputs['pdata2ptr'][idx], inputs['pidx'])\n",
    "                    loss += lw * m_loss       \n",
    "\n",
    "            else: raise ValueError('Invalid metadata input arguments.')\n",
    "        return loss\n",
    "\n",
    "    def get_meta_representation(\n",
    "        self,\n",
    "        data_input_ids:Optional[torch.Tensor]=None,\n",
    "        data_attention_mask:Optional[torch.Tensor]=None,\n",
    "        **kwargs\n",
    "    ):\n",
    "        if self.use_encoder_parallel: \n",
    "            encoder = XCDataParallel(module=self.encoder)\n",
    "        else: encoder = self.encoder\n",
    "            \n",
    "        data_o = encoder(data_input_ids=data_input_ids, data_attention_mask=data_attention_mask, \n",
    "                         data_unnormalized=True, data_type=\"meta\")\n",
    "        return RADOutput(\n",
    "            data_repr=data_o.rep,\n",
    "            data_fused_repr=data_o.fused_rep,\n",
    "        )\n",
    "        \n",
    "    def forward(\n",
    "        self,\n",
    "        data_input_ids:Optional[torch.Tensor]=None,\n",
    "        data_attention_mask:Optional[torch.Tensor]=None,\n",
    "        lbl2data_data2ptr:Optional[torch.Tensor]=None,\n",
    "        lbl2data_idx:Optional[torch.Tensor]=None,\n",
    "        lbl2data_input_ids:Optional[torch.Tensor]=None,\n",
    "        lbl2data_attention_mask:Optional[torch.Tensor]=None,\n",
    "        plbl2data_data2ptr:Optional[torch.Tensor]=None,\n",
    "        plbl2data_idx:Optional[torch.Tensor]=None,\n",
    "        output_attentions: Optional[bool] = None,\n",
    "        output_hidden_states: Optional[bool] = None,\n",
    "        return_dict: Optional[bool] = None,\n",
    "        **kwargs\n",
    "    ):  \n",
    "        return_dict = return_dict if return_dict is not None else self.config.use_return_dict\n",
    "        \n",
    "        if self.use_encoder_parallel: \n",
    "            encoder = XCDataParallel(module=self.encoder)\n",
    "        else: encoder = self.encoder\n",
    "        \n",
    "        data_meta_kwargs = Parameters.from_feat_meta_aug_prefix('data', self.data_aug_meta_prefix, **kwargs)\n",
    "        data_o = encoder(data_input_ids=data_input_ids, data_attention_mask=data_attention_mask, \n",
    "                         data_aug_meta_prefix=self.data_aug_meta_prefix, **data_meta_kwargs)\n",
    "        \n",
    "        \n",
    "        loss = None; lbl2data_o = EncoderOutput()\n",
    "        if lbl2data_input_ids is not None:\n",
    "            lbl2data_meta_kwargs = Parameters.from_feat_meta_aug_prefix('lbl2data', self.lbl2data_aug_meta_prefix, **kwargs)\n",
    "            \n",
    "            lbl2data_o = encoder(data_input_ids=lbl2data_input_ids, data_attention_mask=lbl2data_attention_mask, \n",
    "                                 data_aug_meta_prefix=self.lbl2data_aug_meta_prefix, **lbl2data_meta_kwargs)\n",
    "            \n",
    "            loss = self.compute_loss(data_o.fused_rep, lbl2data_o.rep,lbl2data_data2ptr,lbl2data_idx,\n",
    "                                     plbl2data_data2ptr,plbl2data_idx)\n",
    "            loss += self.compute_meta_loss(data_o.fused_rep, lbl2data_o.rep, **kwargs)\n",
    "            \n",
    "        if not return_dict:\n",
    "            o = (data_o.logits,data_o.rep,data_o.fused_rep,lbl2data_o.logits,lbl2data_o.rep,lbl2data_o.fused_rep)\n",
    "            return ((loss,) + o) if loss is not None else o\n",
    "        \n",
    "        \n",
    "        return RADOutput(\n",
    "            loss=loss,\n",
    "            \n",
    "            data_repr=data_o.rep,\n",
    "            data_fused_repr=data_o.fused_rep,\n",
    "            \n",
    "            lbl2data_repr=lbl2data_o.rep,\n",
    "            lbl2data_fused_repr=lbl2data_o.fused_rep,\n",
    "        )\n",
    "        "
   ]
  },
  {
   "cell_type": "markdown",
   "id": "ff960a8d-df76-4f99-9502-f3a7f52440bd",
   "metadata": {},
   "source": [
    "### Example"
   ]
  },
  {
   "cell_type": "code",
   "execution_count": null,
   "id": "8c35445b-61f7-44da-af64-380ab364b3fc",
   "metadata": {},
   "outputs": [
    {
     "name": "stderr",
     "output_type": "stream",
     "text": [
      "Some weights of RAD004 were not initialized from the model checkpoint at distilbert-base-uncased and are newly initialized: ['encoder.cross_gate', 'encoder.cross_head.k.bias', 'encoder.cross_head.k.weight', 'encoder.cross_head.o.bias', 'encoder.cross_head.o.weight', 'encoder.cross_head.q.bias', 'encoder.cross_head.q.weight', 'encoder.cross_head.v.bias', 'encoder.cross_head.v.weight', 'encoder.dr_head.layer_norm.bias', 'encoder.dr_head.layer_norm.weight', 'encoder.dr_head.projector.bias', 'encoder.dr_head.projector.weight', 'encoder.dr_head.transform.bias', 'encoder.dr_head.transform.weight', 'encoder.meta_head.layer_norm.bias', 'encoder.meta_head.layer_norm.weight', 'encoder.meta_head.projector.bias', 'encoder.meta_head.projector.weight', 'encoder.meta_head.transform.bias', 'encoder.meta_head.transform.weight']\n",
      "You should probably TRAIN this model on a down-stream task to be able to use it for predictions and inference.\n"
     ]
    }
   ],
   "source": [
    "model = RAD004.from_pretrained('distilbert-base-uncased', num_batch_labels=5000, batch_size=100,\n",
    "                               margin=0.3, num_negatives=5, tau=0.1, apply_softmax=True,\n",
    "                               \n",
    "                               data_aug_meta_prefix='cat2data', lbl2data_aug_meta_prefix='cat2lbl', \n",
    "                               data_pred_meta_prefix=None, lbl2data_pred_meta_prefix=None,\n",
    "\n",
    "                               use_noise=True, noise_percent=0.5, resize_length=5000,\n",
    "                               \n",
    "                               meta_loss_weight=None,  \n",
    "                               use_encoder_parallel=False)\n",
    "model.init_retrieval_head()\n",
    "model.init_cross_head()\n",
    "model.init_cross_gate()"
   ]
  },
  {
   "cell_type": "code",
   "execution_count": null,
   "id": "6f5bab78-e58b-42a4-9f27-42e42ffeabdf",
   "metadata": {},
   "outputs": [],
   "source": []
  },
  {
   "cell_type": "code",
   "execution_count": null,
   "id": "f8df99e3-14f7-447d-bae8-12b7b3a7d5ac",
   "metadata": {},
   "outputs": [],
   "source": [
    "b = prepare_batch(model, batch, m_args=[\n",
    "    'pcat2data_idx', 'pcat2data_data2ptr', 'cat2data_idx', 'cat2data_input_ids', 'cat2data_attention_mask', \n",
    "    'cat2data_data2ptr',\n",
    "    'pcat2lbl_idx', 'pcat2lbl_lbl2data2ptr', 'pcat2lbl_data2ptr', 'cat2lbl_idx', 'cat2lbl_input_ids', \n",
    "    'cat2lbl_attention_mask', 'cat2lbl_lbl2data2ptr', 'cat2lbl_data2ptr',\n",
    "])"
   ]
  },
  {
   "cell_type": "code",
   "execution_count": null,
   "id": "6ad2ceb2-90f9-456d-9a88-bf9cb08962a9",
   "metadata": {},
   "outputs": [
    {
     "data": {
      "text/plain": [
       "dict_keys(['plbl2data_idx', 'plbl2data_data2ptr', 'lbl2data_idx', 'lbl2data_input_ids', 'lbl2data_attention_mask', 'lbl2data_data2ptr', 'pcat2lbl_idx', 'pcat2lbl_lbl2data2ptr', 'pcat2lbl_data2ptr', 'cat2lbl_idx', 'cat2lbl_input_ids', 'cat2lbl_attention_mask', 'cat2lbl_lbl2data2ptr', 'cat2lbl_data2ptr', 'pcat2data_idx', 'pcat2data_data2ptr', 'cat2data_idx', 'cat2data_input_ids', 'cat2data_attention_mask', 'cat2data_data2ptr', 'data_input_ids', 'data_attention_mask'])"
      ]
     },
     "execution_count": null,
     "metadata": {},
     "output_type": "execute_result"
    }
   ],
   "source": [
    "b.keys()"
   ]
  },
  {
   "cell_type": "code",
   "execution_count": null,
   "id": "98be19e7-25ce-411f-a434-4aadb132e432",
   "metadata": {},
   "outputs": [],
   "source": [
    "o = model(**b.to(model.device))"
   ]
  },
  {
   "cell_type": "code",
   "execution_count": null,
   "id": "2aeb3e40-1cac-4682-b366-e3b1b326a82c",
   "metadata": {},
   "outputs": [],
   "source": []
  }
 ],
 "metadata": {
  "kernelspec": {
   "display_name": "python3",
   "language": "python",
   "name": "python3"
  }
 },
 "nbformat": 4,
 "nbformat_minor": 5
}
