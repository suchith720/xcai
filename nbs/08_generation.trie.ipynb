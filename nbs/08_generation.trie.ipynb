{
 "cells": [
  {
   "cell_type": "code",
   "execution_count": null,
   "id": "e1e891fa-314e-4833-b64d-3bee4b5d292d",
   "metadata": {},
   "outputs": [],
   "source": [
    "#| default_exp generation.trie"
   ]
  },
  {
   "cell_type": "code",
   "execution_count": null,
   "id": "04853354-37ba-44ee-a935-7cf030b90fdc",
   "metadata": {},
   "outputs": [
    {
     "name": "stdout",
     "output_type": "stream",
     "text": [
      "The autoreload extension is already loaded. To reload it, use:\n",
      "  %reload_ext autoreload\n"
     ]
    }
   ],
   "source": [
    "#| hide\n",
    "%load_ext autoreload\n",
    "%autoreload 2"
   ]
  },
  {
   "cell_type": "code",
   "execution_count": null,
   "id": "be58ee82-72ee-48d5-9fe5-6ebed5a0a713",
   "metadata": {},
   "outputs": [],
   "source": [
    "#| export\n",
    "from tqdm.auto import tqdm\n",
    "from fastcore.dispatch import *\n",
    "from xcai.data import XCDataBlock\n",
    "from dataclasses import dataclass\n",
    "from typing import Optional, List, Any, Union"
   ]
  },
  {
   "cell_type": "code",
   "execution_count": null,
   "id": "1b455ae0-c27b-4c46-9a89-818f74b1d03c",
   "metadata": {},
   "outputs": [],
   "source": [
    "#| hide\n",
    "from nbdev.showdoc import *\n",
    "import nbdev; nbdev.nbdev_export()"
   ]
  },
  {
   "cell_type": "markdown",
   "id": "1ca0870c-f779-4a8b-9b5b-333c656fc770",
   "metadata": {},
   "source": [
    "## Setup"
   ]
  },
  {
   "cell_type": "code",
   "execution_count": null,
   "id": "55462e5c-1692-4377-ad42-4786aaec3a32",
   "metadata": {},
   "outputs": [],
   "source": [
    "from xcai.test_utils import *"
   ]
  },
  {
   "cell_type": "code",
   "execution_count": null,
   "id": "27507d4e-ae21-4de0-b3e5-1aefc4d64076",
   "metadata": {},
   "outputs": [],
   "source": [
    "block = Test.from_cfg('train')"
   ]
  },
  {
   "cell_type": "markdown",
   "id": "da180297-9863-456c-98a4-9fd2226bdd84",
   "metadata": {},
   "source": [
    "## Trie"
   ]
  },
  {
   "cell_type": "code",
   "execution_count": null,
   "id": "c118bcc7-04cf-42ed-af5a-7398d76ff9b2",
   "metadata": {},
   "outputs": [],
   "source": [
    "#| export\n",
    "class TrieNode:\n",
    "    def __init__(self, tok:int):\n",
    "        self.tok, self.nxt_toks = tok, {}\n",
    "        self.is_end, self.cnt, self.info = False, 0, None\n",
    "\n",
    "    @property\n",
    "    def data(self):\n",
    "        return self.tok, self.nxt_toks, self.is_end, self.cnt, self.info\n",
    "\n",
    "    @data.setter\n",
    "    def data(self, x):\n",
    "        self.tok, self.nxt_toks, self.is_end, self.cnt, self.info = x\n"
   ]
  },
  {
   "cell_type": "code",
   "execution_count": null,
   "id": "62a01d06-9c14-4757-b8eb-3db09bd932bb",
   "metadata": {},
   "outputs": [],
   "source": [
    "#| export\n",
    "@dataclass\n",
    "class TrieOutput:\n",
    "    s:Optional[List]=None\n",
    "    cnt:Optional[int]=None\n",
    "    info:Optional[Any]=None\n",
    "    "
   ]
  },
  {
   "cell_type": "code",
   "execution_count": null,
   "id": "96a92d78-d5b5-471b-948c-df5a00a19325",
   "metadata": {},
   "outputs": [],
   "source": [
    "#| export\n",
    "class Trie(object):\n",
    "    def __init__(self):\n",
    "        self.root, self.depth = None, 0\n",
    "\n",
    "    @staticmethod\n",
    "    def _add_info(node:TrieNode, info:Any):\n",
    "        if node.info is None: \n",
    "            node.info = info if isinstance(info, list) else [info]\n",
    "        else: \n",
    "            if isinstance(info, list): node.info.extend(info)\n",
    "            else: node.info.append(info)\n",
    "        \n",
    "    def insert(self, toks:Optional[List], info:Optional[Any]=None):\n",
    "        if len(toks) > self.depth: self.depth = len(toks)\n",
    "        if self.root is None: self.root=TrieNode(toks[0])\n",
    "        if self.root.tok != toks[0]: raise ValueError(f'Expected `bos_tok` to be `{self.root.tok}` but got `{toks[0]}`.')\n",
    "        node = self.root\n",
    "        for tok in toks[1:]:\n",
    "            node.cnt += 1\n",
    "            if tok in node.nxt_toks: node = node.nxt_toks[tok]\n",
    "            else: node.nxt_toks[tok]=node=TrieNode(tok)\n",
    "        node.is_end = True\n",
    "        if info is not None: Trie._add_info(node, info)\n",
    "        node.cnt += 1\n",
    "        \n",
    "    @staticmethod\n",
    "    def _search(node:TrieNode, p:List, o:List):\n",
    "        if node.is_end: o.append(TrieOutput(p, node.cnt, node.info)); return\n",
    "        for tok, n in node.nxt_toks.items(): Trie._search(n, p+[tok], o)\n",
    "\n",
    "    def suffixes(self, x:Union[int,List]):\n",
    "        x = [x] if isinstance(x, int) else x\n",
    "        node, o = self.root, []\n",
    "        if node.tok != x[0]: return []\n",
    "        for tok in x[1:]:\n",
    "            if tok in node.nxt_toks: node = node.nxt_toks[tok]\n",
    "            else: return\n",
    "        Trie._search(node, x, o)\n",
    "        return sorted(o, key=lambda x: x.cnt, reverse=True)\n",
    "\n",
    "    @staticmethod\n",
    "    def _prune(node):\n",
    "        for t,n in node.nxt_toks.items():\n",
    "            Trie._prune(n)\n",
    "            if len(node.nxt_toks) == 1 and len(n.nxt_toks) == 1 and next(iter(n.nxt_toks.values())).is_end:\n",
    "                node.nxt_toks = n.nxt_toks\n",
    "        \n",
    "    def prune(self):\n",
    "        self._prune(self.root)\n",
    "\n",
    "    def prefix(self, x:List):\n",
    "        node, o = self.root, [x[0]]\n",
    "        if node.tok != x[0]: raise ValueError(f'`bos_tok`({x[0]}) cannot be \"{node.tok}\".')\n",
    "        for tok in x[1:-1]:\n",
    "            if tok in node.nxt_toks: node=node.nxt_toks[tok]; o.append(tok)\n",
    "        if x[-1] in node.nxt_toks and node.nxt_toks[x[-1]].is_end: return o+x[-1:]\n",
    "\n",
    "    def __contains__(self, x:List):\n",
    "        node = self.root\n",
    "        if node.tok != x[0]: raise ValueError(f'`bos_tok`({x[0]}) cannot be \"{node.tok}\".')\n",
    "        for tok in x[1:]: \n",
    "            if tok in node.nxt_toks: node = node.nxt_toks[tok]\n",
    "            else: return False\n",
    "        return node.is_end\n",
    "\n",
    "    @property\n",
    "    def bos_tok(self):\n",
    "        return self.root.tok\n",
    "\n",
    "    @typedispatch\n",
    "    def update(self, x:List):\n",
    "        for o in tqdm(x): self.insert(o)\n",
    "\n",
    "    @typedispatch\n",
    "    def update(self, x:List, y:List):\n",
    "        for p,q in tqdm(zip(x,y), total=len(x)): self.insert(p,q)\n",
    "\n",
    "    @classmethod\n",
    "    @typedispatch\n",
    "    def from_list(cls, x:List):\n",
    "        self = cls()\n",
    "        for o in tqdm(x): self.insert(o)\n",
    "        return self\n",
    "\n",
    "    @classmethod\n",
    "    @typedispatch\n",
    "    def from_list(cls, x:List, y:List):\n",
    "        self = cls()\n",
    "        for p,q in tqdm(zip(x,y), total=len(x)): self.insert(p,q)\n",
    "        return self\n"
   ]
  },
  {
   "cell_type": "markdown",
   "id": "4df82ebb-5b8a-4c36-b124-a80328a21eed",
   "metadata": {},
   "source": [
    "### Example 1"
   ]
  },
  {
   "cell_type": "code",
   "execution_count": null,
   "id": "dd5f5f86-59da-4282-9e5f-b3729fa0954b",
   "metadata": {},
   "outputs": [
    {
     "data": {
      "application/vnd.jupyter.widget-view+json": {
       "model_id": "717d3ae8bf6d4b6780575fecbc56cec2",
       "version_major": 2,
       "version_minor": 0
      },
      "text/plain": [
       "  0%|          | 0/6 [00:00<?, ?it/s]"
      ]
     },
     "metadata": {},
     "output_type": "display_data"
    }
   ],
   "source": [
    "arr = [[101, 100, 200, 300, 102], \n",
    "       [101, 200, 100, 100, 109, 102],\n",
    "       [101, 200, 100, 100, 301, 102],\n",
    "       [101, 300, 301, 102],\n",
    "       [101, 300, 301, 102],\n",
    "       [101, 200, 100, 222, 301, 401, 501, 444, 102]]\n",
    "\n",
    "info = ['aa', 'bb', 'dd', 'ee', 'hh', 'ii']\n",
    "\n",
    "t = Trie.from_list(arr, info)"
   ]
  },
  {
   "cell_type": "code",
   "execution_count": null,
   "id": "ee814cf4-38c8-473a-ba75-857e81aeafe4",
   "metadata": {},
   "outputs": [
    {
     "data": {
      "application/vnd.jupyter.widget-view+json": {
       "model_id": "cdb56d073dce41c081e482f19dd29bd6",
       "version_major": 2,
       "version_minor": 0
      },
      "text/plain": [
       "  0%|          | 0/6 [00:00<?, ?it/s]"
      ]
     },
     "metadata": {},
     "output_type": "display_data"
    }
   ],
   "source": [
    "info = [['a'], ['b','c'], ['d'], ['e','f','g'], ['h'], ['i','j']]\n",
    "t.update(arr, info)"
   ]
  },
  {
   "cell_type": "code",
   "execution_count": null,
   "id": "0acdafaf-06be-4552-9f05-406f354b51c8",
   "metadata": {},
   "outputs": [
    {
     "data": {
      "text/plain": [
       "[TrieOutput(s=[101, 300, 301, 102], cnt=4, info=['ee', 'hh', 'e', 'f', 'g', 'h']),\n",
       " TrieOutput(s=[101, 100, 200, 300, 102], cnt=2, info=['aa', 'a']),\n",
       " TrieOutput(s=[101, 200, 100, 100, 109, 102], cnt=2, info=['bb', 'b', 'c']),\n",
       " TrieOutput(s=[101, 200, 100, 100, 301, 102], cnt=2, info=['dd', 'd']),\n",
       " TrieOutput(s=[101, 200, 100, 222, 301, 401, 501, 444, 102], cnt=2, info=['ii', 'i', 'j'])]"
      ]
     },
     "execution_count": null,
     "metadata": {},
     "output_type": "execute_result"
    }
   ],
   "source": [
    "t.suffixes(101)"
   ]
  },
  {
   "cell_type": "code",
   "execution_count": null,
   "id": "5da67733-1e3c-4b51-8035-de5166a0a34b",
   "metadata": {},
   "outputs": [],
   "source": [
    "t.prune()"
   ]
  },
  {
   "cell_type": "code",
   "execution_count": null,
   "id": "33883a47-49ad-49f3-8711-bd7835827b42",
   "metadata": {},
   "outputs": [
    {
     "data": {
      "text/plain": [
       "[TrieOutput(s=[101, 300, 102], cnt=2, info=['h']),\n",
       " TrieOutput(s=[101, 100, 102], cnt=1, info=['a']),\n",
       " TrieOutput(s=[101, 200, 100, 100, 109, 102], cnt=1, info=['b', 'c']),\n",
       " TrieOutput(s=[101, 200, 100, 100, 301, 102], cnt=1, info=['d']),\n",
       " TrieOutput(s=[101, 200, 100, 222, 102], cnt=1, info=['i', 'j'])]"
      ]
     },
     "execution_count": null,
     "metadata": {},
     "output_type": "execute_result"
    }
   ],
   "source": [
    "t.suffixes(101)"
   ]
  },
  {
   "cell_type": "code",
   "execution_count": null,
   "id": "5d04e5b7-79a5-4037-a314-2584d57c6262",
   "metadata": {},
   "outputs": [
    {
     "data": {
      "text/plain": [
       "[101, 200, 100, 222, 102]"
      ]
     },
     "execution_count": null,
     "metadata": {},
     "output_type": "execute_result"
    }
   ],
   "source": [
    "t.prefix([101, 200, 100, 222, 301, 401, 501, 444, 102])"
   ]
  },
  {
   "cell_type": "markdown",
   "id": "1b66bba8-486a-4f72-815a-090227c89665",
   "metadata": {},
   "source": [
    "### Example 2"
   ]
  },
  {
   "cell_type": "code",
   "execution_count": null,
   "id": "aae5216a-c425-4864-8288-3f48a336abe8",
   "metadata": {},
   "outputs": [
    {
     "data": {
      "text/plain": [
       "dict_keys(['identifier', 'input_text', 'input_ids', 'token_type_ids', 'attention_mask'])"
      ]
     },
     "execution_count": null,
     "metadata": {},
     "output_type": "execute_result"
    }
   ],
   "source": [
    "block.lbl_info.keys()"
   ]
  },
  {
   "cell_type": "code",
   "execution_count": null,
   "id": "ce418eec-d64b-483c-a208-e39934c961c1",
   "metadata": {},
   "outputs": [
    {
     "data": {
      "application/vnd.jupyter.widget-view+json": {
       "model_id": "6a9b363603cf4609a803724a1aef43af",
       "version_major": 2,
       "version_minor": 0
      },
      "text/plain": [
       "  0%|          | 0/312330 [00:00<?, ?it/s]"
      ]
     },
     "metadata": {},
     "output_type": "display_data"
    }
   ],
   "source": [
    "toks = block.lbl_info['input_ids']\n",
    "info = [[i] for i in range(len(toks))]\n",
    "t = Trie.from_list(toks, info)"
   ]
  },
  {
   "cell_type": "markdown",
   "id": "12432ea4-c329-4cec-9760-764cddc62eb8",
   "metadata": {},
   "source": [
    "## XCTrie"
   ]
  },
  {
   "cell_type": "code",
   "execution_count": null,
   "id": "4e7155cf-ab9a-4c0e-924a-5ac3b0cb817a",
   "metadata": {},
   "outputs": [],
   "source": [
    "#| export\n",
    "class XCTrie:\n",
    "    \n",
    "    @classmethod\n",
    "    def from_block(cls, block:XCDataBlock, meta:Optional[List]=None):\n",
    "        lbl_toks = block.lbl_info['input_ids']\n",
    "        lbl_info = [[i] for i in range(len(lbl_toks))]\n",
    "        \n",
    "        trie = Trie.from_list(lbl_toks, lbl_info)\n",
    "\n",
    "        if meta is not None:\n",
    "            meta_dset = block.train.dset.meta\n",
    "            for o in meta:\n",
    "                if f'{o}_meta' not in meta_dset: raise ValueError(f'`{o}_meta` does not exist.')\n",
    "                meta_toks = meta_dset[f'{o}_meta'].meta_info['input_ids']\n",
    "                lbl_meta = meta_dset[f'{o}_meta'].lbl_meta.T.tocsr()\n",
    "                meta_info = [o.indices.tolist() for o in lbl_meta]\n",
    "                if len(meta_toks) != len(meta_info): raise ValueError(f'`meta_toks` and `meta_info` should have equal length.')\n",
    "                trie.update(meta_toks, meta_info)\n",
    "                \n",
    "        return trie\n",
    "        "
   ]
  },
  {
   "cell_type": "code",
   "execution_count": null,
   "id": "704dd517-7ad2-46d5-a62b-842aa0e41332",
   "metadata": {},
   "outputs": [],
   "source": []
  }
 ],
 "metadata": {
  "kernelspec": {
   "display_name": "python3",
   "language": "python",
   "name": "python3"
  }
 },
 "nbformat": 4,
 "nbformat_minor": 5
}
