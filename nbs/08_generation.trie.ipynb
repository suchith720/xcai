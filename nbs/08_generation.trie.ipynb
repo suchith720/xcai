{
 "cells": [
  {
   "cell_type": "code",
   "execution_count": 1,
   "id": "e1e891fa-314e-4833-b64d-3bee4b5d292d",
   "metadata": {},
   "outputs": [],
   "source": [
    "#| default_exp generation.trie"
   ]
  },
  {
   "cell_type": "code",
   "execution_count": 2,
   "id": "04853354-37ba-44ee-a935-7cf030b90fdc",
   "metadata": {},
   "outputs": [],
   "source": [
    "#| hide\n",
    "%load_ext autoreload\n",
    "%autoreload 2"
   ]
  },
  {
   "cell_type": "code",
   "execution_count": 3,
   "id": "be58ee82-72ee-48d5-9fe5-6ebed5a0a713",
   "metadata": {},
   "outputs": [],
   "source": [
    "#| export\n",
    "import numpy as np\n",
    "from tqdm.auto import tqdm\n",
    "from dataclasses import dataclass\n",
    "from typing import Optional, List, Any, Union\n",
    "\n",
    "from xcai.data import XCDataBlock\n",
    "from fastcore.dispatch import *"
   ]
  },
  {
   "cell_type": "code",
   "execution_count": 4,
   "id": "1b455ae0-c27b-4c46-9a89-818f74b1d03c",
   "metadata": {},
   "outputs": [],
   "source": [
    "#| hide\n",
    "from nbdev.showdoc import *\n",
    "import nbdev; nbdev.nbdev_export()"
   ]
  },
  {
   "cell_type": "markdown",
   "id": "1ca0870c-f779-4a8b-9b5b-333c656fc770",
   "metadata": {},
   "source": [
    "## Setup"
   ]
  },
  {
   "cell_type": "code",
   "execution_count": 5,
   "id": "55462e5c-1692-4377-ad42-4786aaec3a32",
   "metadata": {},
   "outputs": [],
   "source": [
    "from xcai.block import *"
   ]
  },
  {
   "cell_type": "code",
   "execution_count": 7,
   "id": "27507d4e-ae21-4de0-b3e5-1aefc4d64076",
   "metadata": {},
   "outputs": [
    {
     "name": "stderr",
     "output_type": "stream",
     "text": [
      "/opt/conda/envs/ptca/lib/python3.9/site-packages/huggingface_hub/file_download.py:1132: FutureWarning: `resume_download` is deprecated and will be removed in version 1.0.0. Downloads always resume when possible. If you want to force a new download, use `force_download=True`.\n",
      "  warnings.warn(\n",
      "/opt/conda/envs/ptca/lib/python3.9/site-packages/scipy/sparse/_index.py:146: SparseEfficiencyWarning: Changing the sparsity structure of a csr_matrix is expensive. lil_matrix is more efficient.\n",
      "  self._set_arrayXarray(i, j, x)\n"
     ]
    }
   ],
   "source": [
    "block = XCBlock.from_cfg('/home/aiscuser/scratch/datasets', 'train', tfm='xc', tokenizer='distilbert-base-uncased')"
   ]
  },
  {
   "cell_type": "markdown",
   "id": "da180297-9863-456c-98a4-9fd2226bdd84",
   "metadata": {},
   "source": [
    "## Trie"
   ]
  },
  {
   "cell_type": "code",
   "execution_count": 8,
   "id": "c118bcc7-04cf-42ed-af5a-7398d76ff9b2",
   "metadata": {},
   "outputs": [],
   "source": [
    "#| export\n",
    "class TrieNode:\n",
    "    def __init__(self, tok:int):\n",
    "        self.tok, self.nxt_toks = tok, {}\n",
    "        self.is_end, self.cnt, self.info = False, 0, None\n",
    "\n",
    "    @property\n",
    "    def data(self):\n",
    "        return self.tok, self.nxt_toks, self.is_end, self.cnt, self.info\n",
    "\n",
    "    @data.setter\n",
    "    def data(self, x):\n",
    "        self.tok, self.nxt_toks, self.is_end, self.cnt, self.info = x\n"
   ]
  },
  {
   "cell_type": "code",
   "execution_count": 9,
   "id": "62a01d06-9c14-4757-b8eb-3db09bd932bb",
   "metadata": {},
   "outputs": [],
   "source": [
    "#| export\n",
    "@dataclass\n",
    "class TrieOutput:\n",
    "    s:Optional[List]=None\n",
    "    cnt:Optional[int]=None\n",
    "    info:Optional[Any]=None\n",
    "    "
   ]
  },
  {
   "cell_type": "code",
   "execution_count": 18,
   "id": "96a92d78-d5b5-471b-948c-df5a00a19325",
   "metadata": {},
   "outputs": [],
   "source": [
    "#| export\n",
    "class Trie(object):\n",
    "    def __init__(self, max_info:Optional[int]=None):\n",
    "        self.root, self.depth, self.max_info = None, 0, max_info\n",
    "\n",
    "    @staticmethod\n",
    "    def _add_info(node:TrieNode, info:Any):\n",
    "        if node.info is None: \n",
    "            node.info = set(info) if isinstance(info, list) else set([info])\n",
    "        else: \n",
    "            if isinstance(info, list): node.info.update(info)\n",
    "            else: node.info.add(info)\n",
    "        \n",
    "    def insert(self, toks:Optional[List], info:Optional[Any]=None):\n",
    "        if len(toks) > self.depth: self.depth = len(toks)\n",
    "        if self.root is None: self.root=TrieNode(toks[0])\n",
    "        if self.root.tok != toks[0]: raise ValueError(f'Expected `bos_tok` to be `{self.root.tok}` but got `{toks[0]}`.')\n",
    "        node = self.root\n",
    "        for tok in toks[1:]:\n",
    "            node.cnt += 1\n",
    "            if tok in node.nxt_toks: node = node.nxt_toks[tok]\n",
    "            else: node.nxt_toks[tok]=node=TrieNode(tok)\n",
    "        node.is_end = True\n",
    "        if info is not None: Trie._add_info(node, info)\n",
    "        node.cnt += 1\n",
    "        \n",
    "    @staticmethod\n",
    "    def _search(node:TrieNode, p:List, o:List, max_info:Optional[int]=None):\n",
    "        if node.is_end:\n",
    "            info = list(node.info) if max_info is None else list(node.info)[:max_info]\n",
    "            o.append(TrieOutput(p, node.cnt, info)); return\n",
    "        for tok, n in node.nxt_toks.items(): Trie._search(n, p+[tok], o, max_info)\n",
    "\n",
    "    def suffixes(self, x:Union[int,List]):\n",
    "        x = [x] if isinstance(x, int) else x\n",
    "        node, o = self.root, []\n",
    "        if node.tok != x[0]: return []\n",
    "        for tok in x[1:]:\n",
    "            if tok in node.nxt_toks: node = node.nxt_toks[tok]\n",
    "            else: return\n",
    "        Trie._search(node, x, o, self.max_info)\n",
    "        return sorted(o, key=lambda x: x.cnt, reverse=True)\n",
    "\n",
    "    @staticmethod\n",
    "    def _prune(node):\n",
    "        for t,n in node.nxt_toks.items():\n",
    "            Trie._prune(n)\n",
    "            if len(node.nxt_toks) == 1 and len(n.nxt_toks) == 1 and next(iter(n.nxt_toks.values())).is_end:\n",
    "                node.nxt_toks = n.nxt_toks\n",
    "        \n",
    "    def prune(self):\n",
    "        self._prune(self.root)\n",
    "\n",
    "    def prefix(self, x:List):\n",
    "        node, o = self.root, [x[0]]\n",
    "        if node.tok != x[0]: raise ValueError(f'`bos_tok`({x[0]}) cannot be \"{node.tok}\".')\n",
    "        for tok in x[1:-1]:\n",
    "            if tok in node.nxt_toks: node=node.nxt_toks[tok]; o.append(tok)\n",
    "            else: break\n",
    "        if x[-1] in node.nxt_toks and node.nxt_toks[x[-1]].is_end: return o+x[-1:]\n",
    "\n",
    "    def __contains__(self, x:List):\n",
    "        node = self.root\n",
    "        if node.tok != x[0]: raise ValueError(f'`bos_tok`({x[0]}) cannot be \"{node.tok}\".')\n",
    "        for tok in x[1:]: \n",
    "            if tok in node.nxt_toks: node = node.nxt_toks[tok]\n",
    "            else: return False\n",
    "        return node.is_end\n",
    "\n",
    "    @property\n",
    "    def bos_tok(self):\n",
    "        return self.root.tok\n",
    "\n",
    "    @typedispatch\n",
    "    def update(self, x:List):\n",
    "        for o in tqdm(x): self.insert(o)\n",
    "\n",
    "    @typedispatch\n",
    "    def update(self, x:List, y:List):\n",
    "        for p,q in tqdm(zip(x,y), total=len(x)): self.insert(p,q)\n",
    "\n",
    "    @classmethod\n",
    "    @typedispatch\n",
    "    def from_list(cls, x:List, max_info:Optional[int]=None):\n",
    "        self = cls(max_info)\n",
    "        for o in tqdm(x): self.insert(o)\n",
    "        return self\n",
    "\n",
    "    @classmethod\n",
    "    @typedispatch\n",
    "    def from_list(cls, x:List, y:List, max_info:Optional[int]=None):\n",
    "        self = cls(max_info)\n",
    "        for p,q in tqdm(zip(x,y), total=len(x)): self.insert(p,q)\n",
    "        return self\n"
   ]
  },
  {
   "cell_type": "markdown",
   "id": "4df82ebb-5b8a-4c36-b124-a80328a21eed",
   "metadata": {},
   "source": [
    "#### Example 1"
   ]
  },
  {
   "cell_type": "code",
   "execution_count": 19,
   "id": "b8cf450b",
   "metadata": {},
   "outputs": [
    {
     "data": {
      "application/vnd.jupyter.widget-view+json": {
       "model_id": "6886bf0a0ba149148bb1cdfe00db3616",
       "version_major": 2,
       "version_minor": 0
      },
      "text/plain": [
       "  0%|          | 0/6 [00:00<?, ?it/s]"
      ]
     },
     "metadata": {},
     "output_type": "display_data"
    }
   ],
   "source": [
    "arr = [[101, 100, 200, 300, 102], \n",
    "       [101, 200, 100, 100, 109, 102],\n",
    "       [101, 200, 100, 100, 301, 102],\n",
    "       [101, 300, 301, 102],\n",
    "       [101, 300, 301, 102],\n",
    "       [101, 200, 100, 222, 301, 401, 501, 444, 102]]\n",
    "\n",
    "t = Trie.from_list(arr, None)"
   ]
  },
  {
   "cell_type": "code",
   "execution_count": null,
   "id": "4ccbdc3a",
   "metadata": {},
   "outputs": [],
   "source": []
  },
  {
   "cell_type": "code",
   "execution_count": 15,
   "id": "dd5f5f86-59da-4282-9e5f-b3729fa0954b",
   "metadata": {},
   "outputs": [
    {
     "data": {
      "application/vnd.jupyter.widget-view+json": {
       "model_id": "318afa2bd40b4eb3bde2205683d1db32",
       "version_major": 2,
       "version_minor": 0
      },
      "text/plain": [
       "  0%|          | 0/6 [00:00<?, ?it/s]"
      ]
     },
     "metadata": {},
     "output_type": "display_data"
    }
   ],
   "source": [
    "arr = [[101, 100, 200, 300, 102], \n",
    "       [101, 200, 100, 100, 109, 102],\n",
    "       [101, 200, 100, 100, 301, 102],\n",
    "       [101, 300, 301, 102],\n",
    "       [101, 300, 301, 102],\n",
    "       [101, 200, 100, 222, 301, 401, 501, 444, 102]]\n",
    "\n",
    "info = ['aa', 'bb', 'dd', 'ee', 'hh', 'ii']\n",
    "\n",
    "t = Trie.from_list(arr, info)"
   ]
  },
  {
   "cell_type": "code",
   "execution_count": null,
   "id": "ee814cf4-38c8-473a-ba75-857e81aeafe4",
   "metadata": {},
   "outputs": [
    {
     "data": {
      "application/vnd.jupyter.widget-view+json": {
       "model_id": "f5447e3d544142988ea1a0ca7de39ad9",
       "version_major": 2,
       "version_minor": 0
      },
      "text/plain": [
       "  0%|          | 0/6 [00:00<?, ?it/s]"
      ]
     },
     "metadata": {},
     "output_type": "display_data"
    }
   ],
   "source": [
    "info = [['a'], ['b','c'], ['d'], ['e','f','g', 'e'], ['h'], ['i','j']]\n",
    "t.update(arr, info)"
   ]
  },
  {
   "cell_type": "code",
   "execution_count": null,
   "id": "0acdafaf-06be-4552-9f05-406f354b51c8",
   "metadata": {},
   "outputs": [
    {
     "data": {
      "text/plain": [
       "[TrieOutput(s=[101, 300, 301, 102], cnt=4, info=['f', 'e', 'ee', 'hh', 'h', 'g']),\n",
       " TrieOutput(s=[101, 100, 200, 300, 102], cnt=2, info=['aa', 'a']),\n",
       " TrieOutput(s=[101, 200, 100, 100, 109, 102], cnt=2, info=['bb', 'c', 'b']),\n",
       " TrieOutput(s=[101, 200, 100, 100, 301, 102], cnt=2, info=['dd', 'd']),\n",
       " TrieOutput(s=[101, 200, 100, 222, 301, 401, 501, 444, 102], cnt=2, info=['ii', 'i', 'j'])]"
      ]
     },
     "execution_count": null,
     "metadata": {},
     "output_type": "execute_result"
    }
   ],
   "source": [
    "t.suffixes(101)"
   ]
  },
  {
   "cell_type": "code",
   "execution_count": null,
   "id": "5da67733-1e3c-4b51-8035-de5166a0a34b",
   "metadata": {},
   "outputs": [],
   "source": [
    "t.prune()"
   ]
  },
  {
   "cell_type": "code",
   "execution_count": null,
   "id": "33883a47-49ad-49f3-8711-bd7835827b42",
   "metadata": {},
   "outputs": [
    {
     "data": {
      "text/plain": [
       "[TrieOutput(s=[101, 300, 102], cnt=4, info=['f', 'e', 'ee', 'hh', 'h', 'g']),\n",
       " TrieOutput(s=[101, 100, 102], cnt=2, info=['aa', 'a']),\n",
       " TrieOutput(s=[101, 200, 100, 100, 109, 102], cnt=2, info=['bb', 'c', 'b']),\n",
       " TrieOutput(s=[101, 200, 100, 100, 301, 102], cnt=2, info=['dd', 'd']),\n",
       " TrieOutput(s=[101, 200, 100, 222, 102], cnt=2, info=['ii', 'i', 'j'])]"
      ]
     },
     "execution_count": null,
     "metadata": {},
     "output_type": "execute_result"
    }
   ],
   "source": [
    "t.suffixes(101)"
   ]
  },
  {
   "cell_type": "code",
   "execution_count": null,
   "id": "5d04e5b7-79a5-4037-a314-2584d57c6262",
   "metadata": {},
   "outputs": [
    {
     "data": {
      "text/plain": [
       "[101, 200, 100, 222, 102]"
      ]
     },
     "execution_count": null,
     "metadata": {},
     "output_type": "execute_result"
    }
   ],
   "source": [
    "t.prefix([101, 200, 100, 222, 301, 401, 501, 444, 102])"
   ]
  },
  {
   "cell_type": "markdown",
   "id": "1b66bba8-486a-4f72-815a-090227c89665",
   "metadata": {},
   "source": [
    "#### Example 2"
   ]
  },
  {
   "cell_type": "code",
   "execution_count": null,
   "id": "aae5216a-c425-4864-8288-3f48a336abe8",
   "metadata": {},
   "outputs": [
    {
     "data": {
      "text/plain": [
       "dict_keys(['identifier', 'input_text', 'input_ids', 'token_type_ids', 'attention_mask'])"
      ]
     },
     "execution_count": null,
     "metadata": {},
     "output_type": "execute_result"
    }
   ],
   "source": [
    "block.lbl_info.keys()"
   ]
  },
  {
   "cell_type": "code",
   "execution_count": null,
   "id": "ce418eec-d64b-483c-a208-e39934c961c1",
   "metadata": {},
   "outputs": [
    {
     "data": {
      "application/vnd.jupyter.widget-view+json": {
       "model_id": "4e6e4cade6de4a21af76377fa1590439",
       "version_major": 2,
       "version_minor": 0
      },
      "text/plain": [
       "  0%|          | 0/312330 [00:00<?, ?it/s]"
      ]
     },
     "metadata": {},
     "output_type": "display_data"
    }
   ],
   "source": [
    "toks = block.lbl_info['input_ids']\n",
    "info = [[i] for i in range(len(toks))]\n",
    "t = Trie.from_list(toks, info)"
   ]
  },
  {
   "cell_type": "markdown",
   "id": "12432ea4-c329-4cec-9760-764cddc62eb8",
   "metadata": {},
   "source": [
    "## XCTrie"
   ]
  },
  {
   "cell_type": "code",
   "execution_count": null,
   "id": "4e7155cf-ab9a-4c0e-924a-5ac3b0cb817a",
   "metadata": {},
   "outputs": [],
   "source": [
    "#| export\n",
    "class XCTrie:\n",
    "    \n",
    "    @classmethod\n",
    "    def from_block(cls, block:XCDataBlock, meta:Optional[List]=None, max_info:Optional[int]=None,\n",
    "                   min_n_lbl:Optional[int]=1, max_n_lbl:Optional[int]=100):\n",
    "        lbl_toks = block.lbl_info['input_ids']\n",
    "        lbl_info = [[i] for i in range(len(lbl_toks))]\n",
    "        \n",
    "        trie = Trie.from_list(lbl_toks, lbl_info, max_info)\n",
    "\n",
    "        if meta is not None:\n",
    "            meta_dset = block.train.dset.meta\n",
    "            for o in meta:\n",
    "                if f'{o}_meta' not in meta_dset: raise ValueError(f'`{o}_meta` does not exist.')\n",
    "                meta_lbl = meta_dset[f'{o}_meta'].lbl_meta.T.tocsr()\n",
    "                n_lbl = meta_lbl.getnnz(axis=1)\n",
    "                valid_meta_idx = np.where(np.logical_and(n_lbl>min_n_lbl, n_lbl<max_n_lbl))[0]\n",
    "                \n",
    "                meta_toks = [meta_dset[f'{o}_meta'].meta_info['input_ids'][i] for i in valid_meta_idx]\n",
    "                meta_info = [o.indices.tolist() for o in tqdm(meta_lbl[valid_meta_idx], total=len(valid_meta_idx))]\n",
    "                \n",
    "                if len(meta_toks) != len(meta_info): raise ValueError(f'`meta_toks` and `meta_info` should have equal length.')\n",
    "                trie.update(meta_toks, meta_info)\n",
    "        return trie\n",
    "        "
   ]
  },
  {
   "cell_type": "code",
   "execution_count": null,
   "id": "704dd517-7ad2-46d5-a62b-842aa0e41332",
   "metadata": {},
   "outputs": [],
   "source": []
  }
 ],
 "metadata": {
  "kernelspec": {
   "display_name": "Python 3 (ipykernel)",
   "language": "python",
   "name": "python3"
  },
  "language_info": {
   "codemirror_mode": {
    "name": "ipython",
    "version": 3
   },
   "file_extension": ".py",
   "mimetype": "text/x-python",
   "name": "python",
   "nbconvert_exporter": "python",
   "pygments_lexer": "ipython3",
   "version": "3.9.18"
  }
 },
 "nbformat": 4,
 "nbformat_minor": 5
}
