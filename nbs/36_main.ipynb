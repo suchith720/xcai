{
 "cells": [
  {
   "cell_type": "code",
   "execution_count": 2,
   "id": "aa699db4-a4b7-430e-8aef-1944f185fcb9",
   "metadata": {},
   "outputs": [],
   "source": [
    "#| default_exp main"
   ]
  },
  {
   "cell_type": "code",
   "execution_count": 15,
   "id": "97f01b50-cb84-4bfc-aa47-c0655db43642",
   "metadata": {},
   "outputs": [],
   "source": [
    "#| export\n",
    "import os, torch, scipy.sparse as sp, pickle, argparse\n",
    "from xcai.block import SXCBlock, XCBlock\n",
    "from xcai.core import get_best_model\n",
    "from typing import Optional, Dict, Callable"
   ]
  },
  {
   "cell_type": "code",
   "execution_count": 16,
   "id": "5d402020-9db0-4fc9-97dc-301109edd3b5",
   "metadata": {},
   "outputs": [
    {
     "name": "stdout",
     "output_type": "stream",
     "text": [
      "The autoreload extension is already loaded. To reload it, use:\n",
      "  %reload_ext autoreload\n"
     ]
    }
   ],
   "source": [
    "#| hide\n",
    "%load_ext autoreload\n",
    "%autoreload 2"
   ]
  },
  {
   "cell_type": "code",
   "execution_count": 17,
   "id": "2725be79-e4fc-418d-9798-61009ab95eef",
   "metadata": {},
   "outputs": [],
   "source": [
    "#| export\n",
    "def parse_args():\n",
    "    parser = argparse.ArgumentParser()\n",
    "    parser.add_argument('--build_block', action='store_true')\n",
    "    parser.add_argument('--do_train_inference', action='store_true')\n",
    "    parser.add_argument('--do_test_inference', action='store_true')\n",
    "    parser.add_argument('--save_train_inference', action='store_true')\n",
    "    parser.add_argument('--save_test_inference', action='store_true')\n",
    "    parser.add_argument('--save_repr', action='store_true')\n",
    "    parser.add_argument('--use_sxc', action='store_true')\n",
    "\n",
    "    parser.add_argument('--pkl_dir', type=str, required=True)\n",
    "    return parser.parse_args()"
   ]
  },
  {
   "cell_type": "code",
   "execution_count": 12,
   "id": "8d9b5a44-cb8b-4339-bee8-3481d8269285",
   "metadata": {},
   "outputs": [],
   "source": [
    "#| export\n",
    "def main_build_block(pkl_file, config, use_sxc:Optional[bool], config_key:Optional[str]=None, **kwargs):\n",
    "    if os.path.exists(config): config = load_config(config, config_key)\n",
    "\n",
    "    if use_sxc: block = SXCBlock.from_cfg(config, padding=True, return_tensors='pt', **kwargs)\n",
    "    else: block = XCBlock.from_cfg(config, transform_type='xcs')\n",
    "    with open(pkl_file, 'wb') as file: pickle.dump(block, file)"
   ]
  },
  {
   "cell_type": "code",
   "execution_count": 13,
   "id": "05311055-f92b-4d0f-a258-427858530fac",
   "metadata": {},
   "outputs": [],
   "source": [
    "#| export\n",
    "def main_load_model(output_dir:str, model_fn:Callable, model_args:Dict, init_fn:Callable,\n",
    "        init_args:Optional[Dict]=dict(), do_inference:Optional[bool]=False):\n",
    "    if do_inference:\n",
    "        os.environ['WANDB_MODE'] = 'disabled'\n",
    "        mname = os.path.basename(get_best_model(output_dir))\n",
    "        model_args.mname = f'{output_dir}/{mname}'\n",
    "\n",
    "    model = model_fn(**model_args)\n",
    "    if do_inference: init_fn(model, **init_args)\n",
    "\n",
    "    return model"
   ]
  },
  {
   "cell_type": "code",
   "execution_count": 7,
   "id": "b4f07db6-41b4-4f32-9baf-0d1fc66423e6",
   "metadata": {},
   "outputs": [],
   "source": [
    "#| export\n",
    "def get_output(pred_idx:torch.Tensor, pred_ptr:torch.Tensor, pred_score:torch.Tensor, n_lbl:int, **kwargs):\n",
    "    n_data = pred_ptr.shape[0]\n",
    "    pred_ptr = torch.cat([torch.zeros((1,), dtype=torch.long), pred_ptr.cumsum(dim=0)])\n",
    "    pred = sp.csr_matrix((pred_score,pred_idx,pred_ptr), shape=(n_data, n_lbl))\n",
    "    return pred"
   ]
  },
  {
   "cell_type": "code",
   "execution_count": 11,
   "id": "d1739a08-11b9-469e-b63d-c41f9952c1e1",
   "metadata": {},
   "outputs": [],
   "source": [
    "#| export\n",
    "def main_run(learn, parse_args, n_lbl:int):\n",
    "    do_inference = parse_args.do_train_inference or parse_args.do_test_inference or parse_args.save_train_inference \\\n",
    "            or parse_args.save_test_inference or parse_args.save_repr\n",
    "    if do_inference:\n",
    "        pred_dir = f'{learn.args.output_dir}/predictions'\n",
    "        os.makedirs(pred_dir, exist_ok=True)\n",
    "\n",
    "        if parse_args.save_repr:\n",
    "            trn_repr, lbl_repr = learn.get_data_and_lbl_representation(block.train.dset)\n",
    "            tst_repr = learn._get_data_representation(block.test.dset)\n",
    "\n",
    "            torch.save(trn_repr, f'{pred_dir}/train_repr.pth')\n",
    "            torch.save(tst_repr, f'{pred_dir}/test_repr.pth')\n",
    "            torch.save(lbl_repr, f'{pred_dir}/label_repr.pth')\n",
    "\n",
    "        if parse_args.do_test_inference:\n",
    "            o = learn.predict(block.test.dset)\n",
    "            print(o.metrics)\n",
    "\n",
    "            if parse_args.save_test_inference:\n",
    "                with open(f'{pred_dir}/test_predictions.pkl', 'wb') as file:\n",
    "                    pickle.dump(o, file)\n",
    "\n",
    "                pred = get_output(o.pred_idx, o.pred_ptr, o.pred_score, n_lbl=n_lbl)\n",
    "                sp.save_npz(f'{pred_dir}/test_predictions.npz', pred)\n",
    "\n",
    "        if parse_args.do_train_inference:\n",
    "            o = learn.predict(block.train.dset)\n",
    "            print(o.metrics)\n",
    "\n",
    "            if parse_args.save_train_inference:\n",
    "                with open(f'{pred_dir}/train_predictions.pkl', 'wb') as file:\n",
    "                    pickle.dump(o, file)\n",
    "\n",
    "                pred = get_output(o.pred_idx, o.pred_ptr, o.pred_score, n_lbl=n_lbl)\n",
    "                sp.save_npz(f'{pred_dir}/train_predictions.npz', pred)\n",
    "    else:\n",
    "        learn.train()"
   ]
  },
  {
   "cell_type": "code",
   "execution_count": null,
   "id": "f16d8678-23be-47ae-b264-16b84afe7669",
   "metadata": {},
   "outputs": [],
   "source": []
  }
 ],
 "metadata": {
  "kernelspec": {
   "display_name": "Python 3 (ipykernel)",
   "language": "python",
   "name": "python3"
  },
  "language_info": {
   "codemirror_mode": {
    "name": "ipython",
    "version": 3
   },
   "file_extension": ".py",
   "mimetype": "text/x-python",
   "name": "python",
   "nbconvert_exporter": "python",
   "pygments_lexer": "ipython3",
   "version": "3.9.19"
  }
 },
 "nbformat": 4,
 "nbformat_minor": 5
}
