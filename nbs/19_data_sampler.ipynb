{
 "cells": [
  {
   "cell_type": "markdown",
   "id": "a6a91108-d71b-40a0-8458-33efa73854a2",
   "metadata": {},
   "source": [
    "# data sampler"
   ]
  },
  {
   "cell_type": "code",
   "execution_count": null,
   "id": "327b0718-198e-40b7-9910-7106459dc382",
   "metadata": {},
   "outputs": [],
   "source": [
    "#| default_exp data_sampler"
   ]
  },
  {
   "cell_type": "code",
   "execution_count": null,
   "id": "54ecf885-bfa1-4413-8a90-71949be38f68",
   "metadata": {},
   "outputs": [],
   "source": [
    "%load_ext autoreload\n",
    "%autoreload 2"
   ]
  },
  {
   "cell_type": "code",
   "execution_count": null,
   "id": "a66b2865-35df-4f1b-9341-9530f1cbecbc",
   "metadata": {},
   "outputs": [],
   "source": [
    "#| export\n",
    "import os,pickle,torch,re\n",
    "\n",
    "from xcai.transform import PadFeatTfm,CollapseTfm"
   ]
  },
  {
   "cell_type": "markdown",
   "id": "e81edfd1-cda7-4a66-87e6-5687a5912de7",
   "metadata": {},
   "source": [
    "## Setup"
   ]
  },
  {
   "cell_type": "code",
   "execution_count": null,
   "id": "a4fe65ac-18ae-45a2-85fa-0c95a40f08e5",
   "metadata": {},
   "outputs": [],
   "source": [
    "os.environ['CUDA_VISIBLE_DEVICES'] = \"0,1\""
   ]
  },
  {
   "cell_type": "code",
   "execution_count": null,
   "id": "30ab99da-14d6-4397-ae3f-e66ab9fb9bd0",
   "metadata": {},
   "outputs": [],
   "source": [
    "pkl_dir = '/home/scai/phd/aiz218323/scratch/datasets'\n",
    "pkl_file = f'{pkl_dir}/processed/wikiseealso_data-meta_distilbert-base-uncased_rm_ramen-cat.pkl'"
   ]
  },
  {
   "cell_type": "code",
   "execution_count": null,
   "id": "24b02e0c-0b1a-46a7-9cfe-97e50bd0c585",
   "metadata": {},
   "outputs": [],
   "source": [
    "with open(pkl_file, 'rb') as file: block = pickle.load(file)"
   ]
  },
  {
   "cell_type": "code",
   "execution_count": null,
   "id": "3dcf16db-c855-4203-af79-2b1cb9884e61",
   "metadata": {},
   "outputs": [],
   "source": [
    "batch = block.train.dset.one_batch(bsz=5, seed=10)"
   ]
  },
  {
   "cell_type": "markdown",
   "id": "da3872cc-049d-4aae-925a-e1099d47e10a",
   "metadata": {},
   "source": [
    "## Sampler"
   ]
  },
  {
   "cell_type": "code",
   "execution_count": null,
   "id": "ac3beb75-ad3c-4e58-b0be-7aa057c3c594",
   "metadata": {},
   "outputs": [],
   "source": [
    "pad_proc = PadFeatTfm(pad_tok=0, in_place=False, drop=False)\n",
    "col_proc = CollapseTfm()"
   ]
  },
  {
   "cell_type": "code",
   "execution_count": null,
   "id": "8fda0117-88b5-4fa1-b141-22787eb2c843",
   "metadata": {},
   "outputs": [],
   "source": []
  },
  {
   "cell_type": "code",
   "execution_count": null,
   "id": "ab9bdcc7-90fe-4542-b710-6eda5b14e9d1",
   "metadata": {},
   "outputs": [],
   "source": [
    "prefix = 'lbl2data,cat2lbl2data'\n",
    "n_samples = 1\n",
    "\n",
    "prefixes = prefix.split(',')\n",
    "base_prefix, prefixes = prefixes[0], prefixes[1:]\n",
    "\n",
    "for p in prefixes:\n",
    "    if not p.endswith(base_prefix): \n",
    "        raise ValueError(f'{p} does not end with the base prefix `{base_prefix}`.')\n",
    "        "
   ]
  },
  {
   "cell_type": "code",
   "execution_count": null,
   "id": "e1cf3a75-eaf2-4f2c-8e6f-b29b7a116cca",
   "metadata": {},
   "outputs": [],
   "source": [
    "if isinstance(n_samples, int): \n",
    "    n_samples = (n_samples,)*len(prefixes)\n",
    "\n",
    "if len(prefixes) != len(n_samples):\n",
    "    raise ValueError(f'`prefixes` and `n_samples` should have same length.')\n",
    "    "
   ]
  },
  {
   "cell_type": "code",
   "execution_count": null,
   "id": "79f941b9-2cd9-4cc5-8a81-3ec15449ebd3",
   "metadata": {},
   "outputs": [],
   "source": [
    "def rename_idx_ptr(x, prefix, smp_prefix=None):\n",
    "    prefixes = prefix.split('2')\n",
    "    for i,n in enumerate(range(len(prefixes)-1,0,-1)):\n",
    "        p,s = '2'.join(prefixes[:n+1]), '2'.join(prefixes[n:])\n",
    "        p = p if smp_prefix is None else smp_prefix\n",
    "        x[f'{p}_{s}2ptr'] = x[f'{prefix}_idx_ptr-{i+1}']\n",
    "        del x[f'{prefix}_idx_ptr-{i+1}']\n",
    "    return x\n",
    "    "
   ]
  },
  {
   "cell_type": "code",
   "execution_count": null,
   "id": "bf1a8f40-b230-453b-bad8-2a4cecf03651",
   "metadata": {},
   "outputs": [],
   "source": [
    "def collate_feature_idx(x, prefix, smp_prefix=None):\n",
    "    level = prefix.count('2')\n",
    "    o = pad_proc(x, prefix=f'{prefix}_idx', lev=level)\n",
    "    \n",
    "    if smp_prefix is not None:\n",
    "        o[f'{smp_prefix}_idx'] = o[f'{prefix}_idx']\n",
    "        del o[f'{prefix}_idx']\n",
    "        \n",
    "    o = rename_idx_ptr(o, prefix, smp_prefix)\n",
    "    return {f'p{k}':v for k,v in o.items()}\n",
    "    "
   ]
  },
  {
   "cell_type": "code",
   "execution_count": null,
   "id": "0b8bc57c-a04f-4d9e-ac43-669fec47f383",
   "metadata": {},
   "outputs": [],
   "source": [
    "def get_rnd_idx(x):\n",
    "    return torch.cat([torch.randint(i, size=(1,)) if i>0 else torch.tensor([-1]) for i in x])\n",
    "    "
   ]
  },
  {
   "cell_type": "code",
   "execution_count": null,
   "id": "55716511-2765-4387-a63e-8edfc459ae34",
   "metadata": {},
   "outputs": [],
   "source": [
    "smp_feat, base_feat = base_prefix.split('2', maxsplit=1)\n",
    "o = collate_feature_idx(batch, base_prefix)"
   ]
  },
  {
   "cell_type": "code",
   "execution_count": null,
   "id": "1ae89b87-7d1b-4d5e-a3be-48e339c67b84",
   "metadata": {},
   "outputs": [],
   "source": [
    "sampled_batch = {}"
   ]
  },
  {
   "cell_type": "code",
   "execution_count": null,
   "id": "a0e8053d-f7e1-413d-97d7-311535667ead",
   "metadata": {},
   "outputs": [],
   "source": [
    "sampled_batch.update(o)"
   ]
  },
  {
   "cell_type": "code",
   "execution_count": null,
   "id": "b566f2bb-f885-401d-9c20-f61f48bb9e63",
   "metadata": {},
   "outputs": [
    {
     "data": {
      "text/plain": [
       "{'plbl2data_idx': tensor([ 97475,   8095,  14241,  53207,  85334,  87177,  87553, 134705, 150807,\n",
       "         153681, 168326, 186062, 188361, 221141, 252304, 196033,  26569, 195049]),\n",
       " 'plbl2data_data2ptr': tensor([ 1, 14,  1,  1,  1])}"
      ]
     },
     "execution_count": null,
     "metadata": {},
     "output_type": "execute_result"
    }
   ],
   "source": [
    "o"
   ]
  },
  {
   "cell_type": "code",
   "execution_count": null,
   "id": "896fae60-e9bc-4610-a95f-a742a4270671",
   "metadata": {},
   "outputs": [
    {
     "data": {
      "text/plain": [
       "tensor([0, 3, 0, 0, 0])"
      ]
     },
     "execution_count": null,
     "metadata": {},
     "output_type": "execute_result"
    }
   ],
   "source": [
    "smp_idx = get_rnd_idx(o[f'p{base_prefix}_{base_feat}2ptr']); smp_idx"
   ]
  },
  {
   "cell_type": "code",
   "execution_count": null,
   "id": "76816cd3-b6c3-4018-a1c0-65deb11f37be",
   "metadata": {},
   "outputs": [],
   "source": [
    "def get_features(x, prefix:str):\n",
    "    pat = f'^({prefix.replace(\",\",\"|\")})_.*'\n",
    "    return [o for o in x if re.match(pat, o)]\n",
    "\n",
    "def sample_batch(x, feat, idx):\n",
    "    return [{f: [] if i<0 else [o[f][i]] for f in feat} for i,o in zip(idx, x)]\n"
   ]
  },
  {
   "cell_type": "code",
   "execution_count": null,
   "id": "505e606f-2fe6-482d-8d1d-cc22f5dd5300",
   "metadata": {},
   "outputs": [],
   "source": [
    "feats = get_features(batch[0], prefix)\n",
    "smp_batch = sample_batch(batch, feats, smp_idx)"
   ]
  },
  {
   "cell_type": "code",
   "execution_count": null,
   "id": "48317d30-9509-44b0-991c-7dc88b837e9d",
   "metadata": {},
   "outputs": [],
   "source": [
    "def remove_unwanted_ptr(x):\n",
    "    return {k:v for k,v in x.items() if not re.match('.*_ptr-[0-9]+$', k)}\n",
    "\n",
    "def rename_keys(x, prefix):\n",
    "    keys = list(x.keys())\n",
    "    for k in keys:\n",
    "        nk = k.split('_', maxsplit=1)[1]\n",
    "        nk = f'{prefix}_{nk}'\n",
    "        if nk not in x:\n",
    "            x[nk] = x[k]\n",
    "            del x[k]\n",
    "    return x\n",
    "    \n",
    "def collate_feat(x, prefix, smp_prefix=None):\n",
    "    level = prefix.count('2')\n",
    "    o = pad_proc(x, prefix=prefix, lev=level)\n",
    "    o = rename_idx_ptr(o, prefix, smp_prefix)\n",
    "    o = remove_unwanted_ptr(o)\n",
    "    if smp_prefix is not None: \n",
    "        o = rename_keys(o, smp_prefix)\n",
    "    return o\n",
    "    "
   ]
  },
  {
   "cell_type": "code",
   "execution_count": null,
   "id": "4ecbcb50-5ebb-4aa3-91c4-77ad5ba661ca",
   "metadata": {},
   "outputs": [],
   "source": [
    "o = collate_feat(smp_batch, prefix=base_prefix)"
   ]
  },
  {
   "cell_type": "code",
   "execution_count": null,
   "id": "c1bf210e-c394-412c-b776-9697e49b820b",
   "metadata": {},
   "outputs": [],
   "source": [
    "sampled_batch.update(o)"
   ]
  },
  {
   "cell_type": "code",
   "execution_count": null,
   "id": "75101257-06e5-4310-b98c-5f5eedb03f7c",
   "metadata": {},
   "outputs": [
    {
     "data": {
      "text/plain": [
       "{'plbl2data_idx': tensor([ 97475,   8095,  14241,  53207,  85334,  87177,  87553, 134705, 150807,\n",
       "         153681, 168326, 186062, 188361, 221141, 252304, 196033,  26569, 195049]),\n",
       " 'plbl2data_data2ptr': tensor([ 1, 14,  1,  1,  1]),\n",
       " 'lbl2data_idx': tensor([ 97475,  85334, 196033,  26569, 195049]),\n",
       " 'lbl2data_identifier': ['List_of_Test_cricket_umpires',\n",
       "  'Triage',\n",
       "  'List_of_rivers_of_Mexico',\n",
       "  'List_of_New_South_Wales_representative_cricketers',\n",
       "  'List_of_antarctic_and_sub-antarctic_islands'],\n",
       " 'lbl2data_input_text': ['List of Test cricket umpires',\n",
       "  'Triage',\n",
       "  'List of rivers of Mexico',\n",
       "  'List of New South Wales representative cricketers',\n",
       "  'List of antarctic and sub-antarctic islands'],\n",
       " 'lbl2data_input_ids': tensor([[  101,  2862,  1997,  3231,  4533, 20887,  2015,   102,     0,     0],\n",
       "         [  101, 13012,  4270,   102,     0,     0,     0,     0,     0,     0],\n",
       "         [  101,  2862,  1997,  5485,  1997,  3290,   102,     0,     0,     0],\n",
       "         [  101,  2862,  1997,  2047,  2148,  3575,  4387,  9490,  2015,   102],\n",
       "         [  101,  2862,  1997, 10227,  1998,  4942,  1011, 10227,  3470,   102]]),\n",
       " 'lbl2data_attention_mask': tensor([[1, 1, 1, 1, 1, 1, 1, 1, 0, 0],\n",
       "         [1, 1, 1, 1, 0, 0, 0, 0, 0, 0],\n",
       "         [1, 1, 1, 1, 1, 1, 1, 0, 0, 0],\n",
       "         [1, 1, 1, 1, 1, 1, 1, 1, 1, 1],\n",
       "         [1, 1, 1, 1, 1, 1, 1, 1, 1, 1]]),\n",
       " 'lbl2data_data2ptr': tensor([1, 1, 1, 1, 1])}"
      ]
     },
     "execution_count": null,
     "metadata": {},
     "output_type": "execute_result"
    }
   ],
   "source": [
    "sampled_batch"
   ]
  },
  {
   "cell_type": "code",
   "execution_count": null,
   "id": "fe1ef0ab-231d-40a4-8793-c3c33db00475",
   "metadata": {},
   "outputs": [],
   "source": []
  },
  {
   "cell_type": "code",
   "execution_count": null,
   "id": "6d87ebec-2a5d-4b4b-8e27-f33a71c143ca",
   "metadata": {},
   "outputs": [],
   "source": []
  },
  {
   "cell_type": "code",
   "execution_count": null,
   "id": "3666bb02-6657-47c6-9bb6-3adf725f194b",
   "metadata": {},
   "outputs": [],
   "source": []
  },
  {
   "cell_type": "code",
   "execution_count": null,
   "id": "27f99a5e-9522-4f42-88be-9f6b254c8c3f",
   "metadata": {},
   "outputs": [],
   "source": []
  },
  {
   "cell_type": "code",
   "execution_count": null,
   "id": "4856f2ec-ea75-48f0-a58d-e8b70f948d22",
   "metadata": {},
   "outputs": [],
   "source": []
  },
  {
   "cell_type": "code",
   "execution_count": null,
   "id": "2c3ff6da-f20e-4bfd-add6-88dfb6488aa8",
   "metadata": {},
   "outputs": [],
   "source": [
    "def get_sample_prefix(prefix, smp_feat):\n",
    "    prefixes = prefix.split('2')\n",
    "    return '2'.join(prefixes[:prefixes.index(smp_feat)+1])\n",
    "\n",
    "def sample_smp_batch(x, feat, idx, smp_prefix=None):\n",
    "    smp_batch = []\n",
    "    for i,o in zip(idx,x):\n",
    "        point = {}\n",
    "        for f in feat:\n",
    "            k = f\n",
    "            if smp_prefix is not None:\n",
    "                suffix = f.split('_', maxsplit=1)[1]\n",
    "                k = f'{smp_prefix}_{suffix}'\n",
    "            point[k] = [[]] if i<0 else [[o[f][0][i]]]\n",
    "        smp_batch.append(point)\n",
    "    return smp_batch\n",
    "    "
   ]
  },
  {
   "cell_type": "code",
   "execution_count": null,
   "id": "d16b8f3d-71c6-4c11-9e08-58e8e60d15ea",
   "metadata": {},
   "outputs": [
    {
     "data": {
      "text/plain": [
       "['cat2lbl2data']"
      ]
     },
     "execution_count": null,
     "metadata": {},
     "output_type": "execute_result"
    }
   ],
   "source": [
    "prefixes"
   ]
  },
  {
   "cell_type": "code",
   "execution_count": null,
   "id": "95f05d75-5747-461f-9f7d-038cc9b940f3",
   "metadata": {},
   "outputs": [],
   "source": [
    "p = prefixes[0]"
   ]
  },
  {
   "cell_type": "code",
   "execution_count": null,
   "id": "b9f955ac-0709-4fb2-a7ca-7fdd93e51af1",
   "metadata": {},
   "outputs": [
    {
     "data": {
      "text/plain": [
       "{'pcat2lbl_idx': tensor([402688, 495564, 497116, 497117,  55311,  57683,  74600, 381870, 464092,\n",
       "          72163, 499473, 504533,  62743, 426229, 490629]),\n",
       " 'pcat2lbl_data2ptr': tensor([4, 5, 3, 3, 0]),\n",
       " 'pcat2lbl_lbl2data2ptr': tensor([4, 5, 3, 3, 0])}"
      ]
     },
     "execution_count": null,
     "metadata": {},
     "output_type": "execute_result"
    }
   ],
   "source": [
    "smp_prefix = get_sample_prefix(p, smp_feat)\n",
    "o = collate_feature_idx(smp_batch, prefix=p, smp_prefix=smp_prefix); o"
   ]
  },
  {
   "cell_type": "code",
   "execution_count": null,
   "id": "bca34449-b54f-47eb-a70a-320c7d87eac3",
   "metadata": {},
   "outputs": [
    {
     "data": {
      "text/plain": [
       "tensor([ 1,  1,  1,  2, -1])"
      ]
     },
     "execution_count": null,
     "metadata": {},
     "output_type": "execute_result"
    }
   ],
   "source": [
    "smp_idx = get_rnd_idx(o[f'p{smp_prefix}_{base_prefix}2ptr']); smp_idx"
   ]
  },
  {
   "cell_type": "code",
   "execution_count": null,
   "id": "aea0b2ce-e47e-4968-b15e-cdc4b78635d1",
   "metadata": {},
   "outputs": [],
   "source": [
    "feats = get_features(smp_batch[0], p)\n",
    "o = sample_smp_batch(smp_batch, feats, smp_idx)\n",
    "o = collate_feat(o, prefix=p, smp_prefix=smp_prefix)"
   ]
  },
  {
   "cell_type": "code",
   "execution_count": null,
   "id": "c2ce596e-91a9-4d1a-985c-a7d37e76ea1c",
   "metadata": {},
   "outputs": [
    {
     "data": {
      "text/plain": [
       "{'cat2lbl_data2ptr': tensor([1, 1, 1, 1, 0]),\n",
       " 'cat2lbl_lbl2data2ptr': tensor([1, 1, 1, 1, 0]),\n",
       " 'cat2lbl_idx': tensor([495564,  57683, 499473, 490629]),\n",
       " 'cat2lbl_identifier': ['Category:International_cricket_umpires',\n",
       "  'Category:Intensive_care_medicine',\n",
       "  'Category:Lists_of_landforms_of_Mexico',\n",
       "  'Category:Lists_of_Australian_cricketers'],\n",
       " 'cat2lbl_input_text': ['International cricket umpires',\n",
       "  'Intensive care medicine',\n",
       "  'Lists of landforms of Mexico',\n",
       "  'Lists of Australian cricketers'],\n",
       " 'cat2lbl_input_ids': tensor([[  101,  2248,  4533, 20887,  2015,   102,     0,     0],\n",
       "         [  101, 11806,  2729,  4200,   102,     0,     0,     0],\n",
       "         [  101,  7201,  1997,  2455, 22694,  1997,  3290,   102],\n",
       "         [  101,  7201,  1997,  2827,  9490,  2015,   102,     0]]),\n",
       " 'cat2lbl_attention_mask': tensor([[1, 1, 1, 1, 1, 1, 0, 0],\n",
       "         [1, 1, 1, 1, 1, 0, 0, 0],\n",
       "         [1, 1, 1, 1, 1, 1, 1, 1],\n",
       "         [1, 1, 1, 1, 1, 1, 1, 0]])}"
      ]
     },
     "execution_count": null,
     "metadata": {},
     "output_type": "execute_result"
    }
   ],
   "source": [
    "o"
   ]
  },
  {
   "cell_type": "code",
   "execution_count": null,
   "id": "11d7d91d-9bad-486b-b323-b76d7129b452",
   "metadata": {},
   "outputs": [],
   "source": []
  },
  {
   "cell_type": "code",
   "execution_count": null,
   "id": "68a1840a-0d69-4f39-b907-1e8ee4a5fe61",
   "metadata": {},
   "outputs": [],
   "source": []
  },
  {
   "cell_type": "code",
   "execution_count": null,
   "id": "7e2147b4-5bad-437b-af52-7caf06a6edde",
   "metadata": {},
   "outputs": [],
   "source": []
  },
  {
   "cell_type": "code",
   "execution_count": null,
   "id": "80f5f9ff-fe8f-4b70-a330-c4e276ee9144",
   "metadata": {},
   "outputs": [],
   "source": []
  },
  {
   "cell_type": "code",
   "execution_count": null,
   "id": "9c962364-65c2-4e4c-85a9-c2944f5d1009",
   "metadata": {},
   "outputs": [],
   "source": []
  },
  {
   "cell_type": "code",
   "execution_count": null,
   "id": "d361911c-ff80-4570-b589-d9ff1f23142b",
   "metadata": {},
   "outputs": [],
   "source": []
  },
  {
   "cell_type": "code",
   "execution_count": null,
   "id": "b5483d0b-872a-43f8-98cf-7d049753ba77",
   "metadata": {},
   "outputs": [],
   "source": []
  }
 ],
 "metadata": {
  "kernelspec": {
   "display_name": "python3",
   "language": "python",
   "name": "python3"
  }
 },
 "nbformat": 4,
 "nbformat_minor": 5
}
