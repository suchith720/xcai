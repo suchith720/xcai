{
 "cells": [
  {
   "cell_type": "markdown",
   "id": "a6a91108-d71b-40a0-8458-33efa73854a2",
   "metadata": {},
   "source": [
    "# data sampler"
   ]
  },
  {
   "cell_type": "code",
   "execution_count": null,
   "id": "327b0718-198e-40b7-9910-7106459dc382",
   "metadata": {},
   "outputs": [],
   "source": [
    "#| default_exp data_sampler"
   ]
  },
  {
   "cell_type": "code",
   "execution_count": null,
   "id": "54ecf885-bfa1-4413-8a90-71949be38f68",
   "metadata": {},
   "outputs": [],
   "source": [
    "%load_ext autoreload\n",
    "%autoreload 2"
   ]
  },
  {
   "cell_type": "code",
   "execution_count": null,
   "id": "a66b2865-35df-4f1b-9341-9530f1cbecbc",
   "metadata": {},
   "outputs": [],
   "source": [
    "#| export\n",
    "import os,pickle"
   ]
  },
  {
   "cell_type": "markdown",
   "id": "e81edfd1-cda7-4a66-87e6-5687a5912de7",
   "metadata": {},
   "source": [
    "## Setup"
   ]
  },
  {
   "cell_type": "code",
   "execution_count": null,
   "id": "a4fe65ac-18ae-45a2-85fa-0c95a40f08e5",
   "metadata": {},
   "outputs": [],
   "source": [
    "os.environ['CUDA_VISIBLE_DEVICES'] = \"0,1\""
   ]
  },
  {
   "cell_type": "code",
   "execution_count": null,
   "id": "30ab99da-14d6-4397-ae3f-e66ab9fb9bd0",
   "metadata": {},
   "outputs": [],
   "source": [
    "pkl_dir = '/home/scai/phd/aiz218323/scratch/datasets'\n",
    "pkl_file = f'{pkl_dir}/processed/wikiseealso_data-meta_distilbert-base-uncased_rm_ramen-cat.pkl'"
   ]
  },
  {
   "cell_type": "code",
   "execution_count": null,
   "id": "24b02e0c-0b1a-46a7-9cfe-97e50bd0c585",
   "metadata": {},
   "outputs": [],
   "source": [
    "with open(pkl_file, 'rb') as file: block = pickle.load(file)"
   ]
  },
  {
   "cell_type": "code",
   "execution_count": null,
   "id": "3dcf16db-c855-4203-af79-2b1cb9884e61",
   "metadata": {},
   "outputs": [],
   "source": []
  },
  {
   "cell_type": "code",
   "execution_count": null,
   "id": "ba61d547-3ee5-41f8-8323-62289a8f7820",
   "metadata": {},
   "outputs": [],
   "source": []
  }
 ],
 "metadata": {
  "kernelspec": {
   "display_name": "python3",
   "language": "python",
   "name": "python3"
  }
 },
 "nbformat": 4,
 "nbformat_minor": 5
}
