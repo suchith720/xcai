{
 "cells": [
  {
   "cell_type": "code",
   "execution_count": 1,
   "id": "d5f8c456-5339-43aa-baed-b9eb2114b14d",
   "metadata": {},
   "outputs": [],
   "source": [
    "#| default_exp models.PPP0XX"
   ]
  },
  {
   "cell_type": "code",
   "execution_count": 2,
   "id": "43f76551-93c3-40cf-915f-5a4d3c04cd9b",
   "metadata": {},
   "outputs": [],
   "source": [
    "#| hide\n",
    "%load_ext autoreload\n",
    "%autoreload 2"
   ]
  },
  {
   "cell_type": "code",
   "execution_count": 4,
   "id": "311dc422-47c6-4c49-a719-e83d23acf0c5",
   "metadata": {},
   "outputs": [],
   "source": [
    "#| export\n",
    "import torch, re, inspect, pickle, os, torch.nn as nn\n",
    "import torch.nn.functional as F\n",
    "from dataclasses import dataclass\n",
    "from typing import Optional, List, Tuple, Mapping, Any, Union\n",
    "from transformers import (\n",
    "    PretrainedConfig,\n",
    "    BertPreTrainedModel,\n",
    "    BertLMHeadModel, \n",
    "    BatchEncoding, \n",
    "    BertPreTrainedModel, \n",
    "    BertModel, \n",
    "    RobertaForCausalLM, \n",
    "    DistilBertForMaskedLM,\n",
    "    DistilBertModel,\n",
    "    DistilBertPreTrainedModel,\n",
    ")\n",
    "from transformers.utils.generic import ModelOutput\n",
    "\n",
    "from fastcore.meta import *\n",
    "\n",
    "from xcai.losses import *\n",
    "from xcai.core import store_attr\n",
    "from xcai.learner import XCDataParallel"
   ]
  },
  {
   "cell_type": "code",
   "execution_count": 4,
   "id": "0ae88304-b2a5-4988-b6e8-d30a2bd79f48",
   "metadata": {},
   "outputs": [],
   "source": [
    "from nbdev.showdoc import *\n",
    "import nbdev; nbdev.nbdev_export()"
   ]
  },
  {
   "cell_type": "code",
   "execution_count": 5,
   "id": "0408d329",
   "metadata": {},
   "outputs": [],
   "source": [
    "from xcai.block import *"
   ]
  },
  {
   "cell_type": "code",
   "execution_count": 6,
   "id": "15780f36",
   "metadata": {},
   "outputs": [],
   "source": [
    "os.environ['CUDA_VISIBLE_DEVICES'] = \"1\""
   ]
  },
  {
   "cell_type": "markdown",
   "id": "7ff3b726-0f16-46f1-ae48-b34febc784b0",
   "metadata": {
    "jp-MarkdownHeadingCollapsed": true
   },
   "source": [
    "## Setup"
   ]
  },
  {
   "cell_type": "code",
   "execution_count": 8,
   "id": "aca93e25-a352-43ab-bd45-b698c19ca301",
   "metadata": {},
   "outputs": [],
   "source": [
    "data_dir = '/home/scai/phd/aiz218323/Projects/XC_NLG/data'"
   ]
  },
  {
   "cell_type": "code",
   "execution_count": null,
   "id": "8f118491-1eb9-4e38-a63f-395612689d32",
   "metadata": {},
   "outputs": [
    {
     "data": {
      "application/vnd.jupyter.widget-view+json": {
       "model_id": "bfc974b6a28e4bbc9e4bcf3198e4dcd3",
       "version_major": 2,
       "version_minor": 0
      },
      "text/plain": [
       "tokenizer_config.json:   0%|          | 0.00/48.0 [00:00<?, ?B/s]"
      ]
     },
     "metadata": {},
     "output_type": "display_data"
    },
    {
     "name": "stderr",
     "output_type": "stream",
     "text": [
      "/scratch/scai/phd/aiz218323/anaconda3/envs/xc_nlg/lib/python3.9/site-packages/scipy/sparse/_index.py:145: SparseEfficiencyWarning: Changing the sparsity structure of a csr_matrix is expensive. lil_matrix is more efficient.\n",
      "  self._set_arrayXarray(i, j, x)\n"
     ]
    }
   ],
   "source": [
    "block = XCBlock.from_cfg(data_dir, 'data', tfm='xcnlg', tokenizer='distilbert-base-uncased', smp_features=[('lbl2data',1,1)])"
   ]
  },
  {
   "cell_type": "code",
   "execution_count": null,
   "id": "2df26c94-7622-420b-9e79-15072710dd9f",
   "metadata": {},
   "outputs": [
    {
     "name": "stderr",
     "output_type": "stream",
     "text": [
      "/home/scai/phd/aiz218323/.local/lib/python3.9/site-packages/xclib-0.97-py3.9-linux-x86_64.egg/xclib/data/data_utils.py:263: UserWarning: Header mis-match from inferred shape!\n",
      "  warnings.warn(\"Header mis-match from inferred shape!\")\n",
      "/scratch/scai/phd/aiz218323/anaconda3/envs/xc_nlg/lib/python3.9/site-packages/scipy/sparse/_index.py:145: SparseEfficiencyWarning: Changing the sparsity structure of a csr_matrix is expensive. lil_matrix is more efficient.\n",
      "  self._set_arrayXarray(i, j, x)\n"
     ]
    }
   ],
   "source": [
    "block = XCBlock.from_cfg(data_dir, 'data_meta', valid_pct=0.001, tfm='rm', tokenizer='distilbert-base-uncased', \n",
    "                         smp_features=[('lbl2data|cat2lbl2data', 1, 1), ('cat2data', 1, 1)],\n",
    "                         n_data_meta_samples=50, n_lbl_meta_samples=50)"
   ]
  },
  {
   "cell_type": "code",
   "execution_count": 9,
   "id": "480b05c2",
   "metadata": {},
   "outputs": [],
   "source": [
    "data_dir = '/home/scai/phd/aiz218323/scratch/datasets'\n",
    "pkl_dir = f'{data_dir}/processed'"
   ]
  },
  {
   "cell_type": "code",
   "execution_count": 10,
   "id": "b2e829b6",
   "metadata": {},
   "outputs": [],
   "source": [
    "fname = f'{pkl_dir}/wikiseealso_data-meta_distilbert-base-uncased_rm_ramen-cat.pkl'"
   ]
  },
  {
   "cell_type": "code",
   "execution_count": null,
   "id": "8bb47f92",
   "metadata": {},
   "outputs": [],
   "source": [
    "with open(fname, 'wb') as file: pickle.dump(block, file)"
   ]
  },
  {
   "cell_type": "code",
   "execution_count": 11,
   "id": "ff2bc075",
   "metadata": {},
   "outputs": [],
   "source": [
    "with open(fname, 'rb') as file: block = pickle.load(file)"
   ]
  },
  {
   "cell_type": "code",
   "execution_count": 3,
   "id": "7afdcb2b",
   "metadata": {},
   "outputs": [],
   "source": [
    "batch = block.train.one_batch(5)\n",
    "for i,batch in enumerate(block.train.dl):\n",
    "    if i > 3: break"
   ]
  },
  {
   "cell_type": "code",
   "execution_count": null,
   "id": "43543023-11a9-44a7-89eb-2873e4527adc",
   "metadata": {},
   "outputs": [],
   "source": [
    "batch.keys()"
   ]
  },
  {
   "cell_type": "markdown",
   "id": "f2ace8df-a4bb-4f06-9f12-eb703f3cab3b",
   "metadata": {
    "jp-MarkdownHeadingCollapsed": true
   },
   "source": [
    "## Output"
   ]
  },
  {
   "cell_type": "code",
   "execution_count": null,
   "id": "b7d52e6c-596d-4b1e-9ffc-497fd58fc838",
   "metadata": {},
   "outputs": [],
   "source": [
    "#| export\n",
    "@dataclass\n",
    "class XCModelOutput(ModelOutput):\n",
    "    loss: Optional[torch.FloatTensor] = None\n",
    "    logits: Optional[torch.FloatTensor] = None\n",
    "    lm_loss: Optional[torch.FloatTensor] = None\n",
    "    dr_loss: Optional[torch.FloatTensor] = None\n",
    "    data_repr: Optional[torch.FloatTensor] = None\n",
    "    lbl2data_repr: Optional[torch.FloatTensor] = None\n",
    "    data_embed: Optional[torch.FloatTensor] = None\n",
    "    lbl2data_embed: Optional[torch.FloatTensor] = None\n",
    "    data_hidden_states: Optional[Tuple[torch.FloatTensor, ...]] = None\n",
    "    data_attentions: Optional[Tuple[torch.FloatTensor, ...]] = None\n",
    "    data_cross_attentions: Optional[Tuple[torch.FloatTensor, ...]] = None\n",
    "    lbl2data_hidden_states: Optional[Tuple[torch.FloatTensor, ...]] = None\n",
    "    lbl2data_attentions: Optional[Tuple[torch.FloatTensor, ...]] = None\n",
    "    lbl2data_cross_attentions: Optional[Tuple[torch.FloatTensor, ...]] = None\n",
    "    "
   ]
  },
  {
   "cell_type": "markdown",
   "id": "74690ee7-2bd5-469a-9b1e-547a5399c1d3",
   "metadata": {},
   "source": [
    "## Pooling"
   ]
  },
  {
   "cell_type": "code",
   "execution_count": null,
   "id": "61ab186b-0be7-45d0-a10e-762f41fb46c9",
   "metadata": {},
   "outputs": [],
   "source": [
    "#| export\n",
    "class Pooling:\n",
    "\n",
    "    @staticmethod\n",
    "    def mean_pooling(data_embeds:torch.FloatTensor, data_attention_mask:torch.LongTensor):\n",
    "        data_attention_mask = data_attention_mask.unsqueeze(2).expand(data_embeds.size()).float()\n",
    "        return torch.sum(data_embeds * data_attention_mask, 1) / torch.clamp(data_attention_mask.sum(1), min=1e-9)\n"
   ]
  },
  {
   "cell_type": "markdown",
   "id": "94731a98-20f1-4174-a257-65d8ceff067a",
   "metadata": {
    "jp-MarkdownHeadingCollapsed": true
   },
   "source": [
    "## DBT007"
   ]
  },
  {
   "cell_type": "code",
   "execution_count": null,
   "id": "8702a513",
   "metadata": {},
   "outputs": [],
   "source": [
    "#| export\n",
    "class DBT007Encoder(DistilBertForMaskedLM):\n",
    "    \n",
    "    def __init__(self, config):\n",
    "        super().__init__(config)\n",
    "    \n",
    "    def forward(\n",
    "        self,\n",
    "        input_ids:Optional[torch.Tensor]=None,\n",
    "        attention_mask:Optional[torch.Tensor]=None,\n",
    "        output_attentions: Optional[bool] = None,\n",
    "        output_hidden_states: Optional[bool] = None,\n",
    "        return_dict: Optional[bool] = None,\n",
    "        **kwargs\n",
    "    ):  \n",
    "        data_o = self.distilbert(\n",
    "            input_ids=input_ids,\n",
    "            attention_mask=attention_mask,\n",
    "            output_attentions=output_attentions,\n",
    "            output_hidden_states=output_hidden_states,\n",
    "            return_dict=return_dict,\n",
    "        )\n",
    "        \n",
    "        data_logits = self.vocab_transform(data_o[0])\n",
    "        data_logits = self.activation(data_logits)\n",
    "        data_logits = self.vocab_layer_norm(data_logits)\n",
    "        data_logits = self.vocab_projector(data_logits)\n",
    "        \n",
    "        return data_o, data_logits\n"
   ]
  },
  {
   "cell_type": "code",
   "execution_count": null,
   "id": "454d6e93-0608-44a8-82e3-d502ff5d93c6",
   "metadata": {},
   "outputs": [],
   "source": [
    "#| export\n",
    "class DBT007(DistilBertForMaskedLM):\n",
    "    use_generation,use_representation = True,False\n",
    "    _tied_weights_keys = [\"encoder.module.distilbert\", \"encoder.module.activation\", \"encoder.module.vocab_transform\",\n",
    "                          \"encoder.module.vocab_layer_norm\", \"encoder.module.vocab_projector\"]\n",
    "    \n",
    "    def __init__(self, \n",
    "                 config,\n",
    "                 tn_targ:Optional[int]=None, \n",
    "                 ig_tok:Optional[int]=0,\n",
    "                 vocab_weights:Optional[torch.Tensor]=None,\n",
    "                 reduction:Optional[str]='mean',\n",
    "                ):\n",
    "        super().__init__(config)\n",
    "        self.encoder = nn.DataParallel(DBT007Encoder(config))\n",
    "        self.loss_fn = MultiCrossEntropy(tn_targ=tn_targ, ig_tok=ig_tok, vocab_weights=vocab_weights, \n",
    "                                         reduce=reduction)\n",
    "        self.remap_post_init()\n",
    "    \n",
    "    def remap_post_init(self):\n",
    "        self.encoder.module.activation = self.activation \n",
    "        self.encoder.module.distilbert= self.distilbert\n",
    "        self.encoder.module.vocab_transform = self.vocab_transform\n",
    "        self.encoder.module.vocab_layer_norm = self.vocab_layer_norm\n",
    "        self.encoder.module.vocab_projector = self.vocab_projector \n",
    "\n",
    "    @delegates(DBT007Encoder.forward)\n",
    "    def forward(\n",
    "        self, \n",
    "        data_input_ids:Optional[torch.Tensor]=None,\n",
    "        data_attention_mask:Optional[torch.Tensor]=None,\n",
    "        lbl2data_data2ptr:Optional[torch.Tensor]=None,\n",
    "        lbl2data_input_ids:Optional[torch.Tensor]=None,\n",
    "        lbl2data_attention_mask:Optional[torch.Tensor]=None,\n",
    "        output_attentions: Optional[bool] = None,\n",
    "        output_hidden_states: Optional[bool] = None,\n",
    "        return_dict: Optional[bool] = None,\n",
    "        **kwargs\n",
    "    ):\n",
    "        return_dict = return_dict if return_dict is not None else self.config.use_return_dict\n",
    "        \n",
    "        data_o, data_logits = self.encoder(data_input_ids, data_attention_mask, output_attentions,\n",
    "                                           output_hidden_states, return_dict, **kwargs)\n",
    "        \n",
    "        loss = None\n",
    "        if lbl2data_input_ids is not None:\n",
    "            loss = self.loss_fn(data_logits, lbl2data_input_ids, lbl2data_data2ptr, **kwargs)\n",
    "            \n",
    "        if not return_dict:\n",
    "            o = (data_logits,) + data_o[2:]\n",
    "            return ((loss,) + o) if loss is not None else o\n",
    "\n",
    "        return XCModelOutput(\n",
    "            loss=loss,\n",
    "            logits=data_logits,\n",
    "            data_hidden_states=data_o.hidden_states,\n",
    "            data_attentions=data_o.attentions,\n",
    "        )\n"
   ]
  },
  {
   "cell_type": "markdown",
   "id": "0d243fbd-894b-4728-a822-125364de7f40",
   "metadata": {},
   "source": [
    "### Example"
   ]
  },
  {
   "cell_type": "code",
   "execution_count": null,
   "id": "09538455-b52b-434c-9603-3c450881597a",
   "metadata": {},
   "outputs": [],
   "source": [
    "m = DBT007.from_pretrained('distilbert-base-uncased', ig_tok=0)"
   ]
  },
  {
   "cell_type": "code",
   "execution_count": null,
   "id": "5938e939-4d6b-4cbd-ad01-9d9d0d1cf364",
   "metadata": {},
   "outputs": [],
   "source": [
    "o = m(**batch)"
   ]
  },
  {
   "cell_type": "code",
   "execution_count": null,
   "id": "629afdde-6d2b-43ea-944c-f13c77d94d94",
   "metadata": {},
   "outputs": [
    {
     "data": {
      "text/plain": [
       "tensor(15.7426, grad_fn=<SumBackward0>)"
      ]
     },
     "execution_count": null,
     "metadata": {},
     "output_type": "execute_result"
    }
   ],
   "source": [
    "o.loss"
   ]
  },
  {
   "cell_type": "markdown",
   "id": "69838806-7d60-4ad0-a9f4-38191419e7f8",
   "metadata": {},
   "source": [
    "## DBT009"
   ]
  },
  {
   "cell_type": "code",
   "execution_count": null,
   "id": "361fad09",
   "metadata": {},
   "outputs": [],
   "source": [
    "#| export\n",
    "class DBT009Encoder(DistilBertPreTrainedModel):\n",
    "    \n",
    "    def __init__(self, config, *args, **kwargs):\n",
    "        super().__init__(config, *args, **kwargs)\n",
    "        self.distilbert = DistilBertModel(config)\n",
    "        self.dr_transform = nn.Linear(config.dim, config.dim)\n",
    "        self.dr_layer_norm = nn.LayerNorm(config.dim, eps=1e-12)\n",
    "        self.dr_projector = nn.Linear(config.dim, config.dim)\n",
    "        \n",
    "    def init_dr_head(self):\n",
    "        self.dr_transform.weight.data = torch.eye(self.dr_transform.out_features, self.dr_transform.in_features, \n",
    "                                                  dtype=self.dr_transform.weight.dtype)\n",
    "        self.dr_projector.weight.data = torch.eye(self.dr_projector.out_features, self.dr_projector.in_features, \n",
    "                                                  dtype=self.dr_projector.weight.dtype)\n",
    "        \n",
    "    @delegates(BertModel.__call__)\n",
    "    def forward(\n",
    "        self, \n",
    "        input_ids:Optional[torch.Tensor]=None, \n",
    "        attention_mask:Optional[torch.Tensor]=None,\n",
    "        **kwargs\n",
    "    ):\n",
    "        o = self.distilbert(\n",
    "            input_ids=input_ids,\n",
    "            attention_mask=attention_mask,\n",
    "            **kwargs\n",
    "        )\n",
    "        rep = self.dr_transform(o[0])\n",
    "        rep = self.dr_layer_norm(rep)\n",
    "        rep = self.dr_projector(rep)\n",
    "        return o, F.normalize(Pooling.mean_pooling(rep, attention_mask), dim=1)\n",
    "    "
   ]
  },
  {
   "cell_type": "code",
   "execution_count": null,
   "id": "1ad9d017-71e1-4b2a-8d3b-345a7bf3f1e3",
   "metadata": {},
   "outputs": [],
   "source": [
    "#| export\n",
    "class DBT009(DistilBertPreTrainedModel):\n",
    "    use_generation,use_representation = False,True\n",
    "    _tied_weights_keys = [\"encoder.distilbert\"]\n",
    "    \n",
    "    def __init__(self,\n",
    "                 config,\n",
    "                 bsz:Optional[int]=None,\n",
    "                 tn_targ:Optional[int]=None,\n",
    "                 margin:Optional[float]=0.3,\n",
    "                 tau:Optional[float]=0.1,\n",
    "                 apply_softmax:Optional[bool]=False,\n",
    "                 n_negatives:Optional[int]=5,\n",
    "                 use_encoder_parallel:Optional[bool]=True,\n",
    "                 *args, **kwargs):\n",
    "        super().__init__(config, *args, **kwargs)\n",
    "        store_attr('use_encoder_parallel')\n",
    "        self.encoder = DBT009Encoder(config)\n",
    "        self.loss_fn = MultiTriplet(bsz=bsz, tn_targ=tn_targ, margin=margin, n_negatives=n_negatives, tau=tau, \n",
    "                                    apply_softmax=apply_softmax, reduce='mean')\n",
    "        self.post_init()\n",
    "        self.remap_post_init()\n",
    "        \n",
    "    def init_dr_head(self):\n",
    "        self.encoder.init_dr_head()\n",
    "        \n",
    "    def remap_post_init(self):\n",
    "        self.distilbert = self.encoder.distilbert\n",
    "        \n",
    "    \n",
    "    def forward(\n",
    "        self,\n",
    "        data_input_ids:Optional[torch.Tensor]=None,\n",
    "        data_attention_mask:Optional[torch.Tensor]=None,\n",
    "        lbl2data_data2ptr:Optional[torch.Tensor]=None,\n",
    "        lbl2data_idx:Optional[torch.Tensor]=None,\n",
    "        lbl2data_input_ids:Optional[torch.Tensor]=None,\n",
    "        lbl2data_attention_mask:Optional[torch.Tensor]=None,\n",
    "        plbl2data_data2ptr:Optional[torch.Tensor]=None,\n",
    "        plbl2data_idx:Optional[torch.Tensor]=None,\n",
    "        output_attentions: Optional[bool] = None,\n",
    "        output_hidden_states: Optional[bool] = None,\n",
    "        return_dict: Optional[bool] = None,\n",
    "        **kwargs\n",
    "    ):\n",
    "        return_dict = return_dict if return_dict is not None else self.config.use_return_dict\n",
    "        \n",
    "        if self.use_encoder_parallel: \n",
    "            encoder = nn.DataParallel(module=self.encoder)\n",
    "        else: encoder = self.encoder\n",
    "        \n",
    "        data_o, data_repr = encoder(data_input_ids, data_attention_mask, \n",
    "                                    output_attentions=output_attentions, \n",
    "                                    output_hidden_states=output_hidden_states,\n",
    "                                    return_dict=return_dict)\n",
    "        \n",
    "        loss, lbl2data_repr = None, None\n",
    "        if lbl2data_input_ids is not None:\n",
    "            lbl2data_o, lbl2data_repr = encoder(lbl2data_input_ids, lbl2data_attention_mask,  \n",
    "                                                output_attentions=output_attentions, \n",
    "                                                output_hidden_states=output_hidden_states,\n",
    "                                                return_dict=return_dict)\n",
    "            \n",
    "            loss = self.loss_fn(data_repr, lbl2data_repr, lbl2data_data2ptr, lbl2data_idx, \n",
    "                                plbl2data_data2ptr, plbl2data_idx, **kwargs)\n",
    "\n",
    "        if not return_dict:\n",
    "            o = (data_repr, lbl2data_repr)\n",
    "            return ((loss,) + o) if loss is not None else o\n",
    "\n",
    "        return XCModelOutput(\n",
    "            loss=loss,\n",
    "            data_repr=data_repr,\n",
    "            lbl2data_repr=lbl2data_repr,\n",
    "        )\n",
    "        "
   ]
  },
  {
   "cell_type": "markdown",
   "id": "951a6d96-4040-45db-99c0-435815d47717",
   "metadata": {},
   "source": [
    "### Example"
   ]
  },
  {
   "cell_type": "code",
   "execution_count": null,
   "id": "55f128af-39d0-46b3-a116-c33bc7a0f437",
   "metadata": {},
   "outputs": [
    {
     "name": "stderr",
     "output_type": "stream",
     "text": [
      "Some weights of DBT009 were not initialized from the model checkpoint at distilbert-base-uncased and are newly initialized: ['encoder.dr_layer_norm.bias', 'encoder.dr_layer_norm.weight', 'encoder.dr_projector.bias', 'encoder.dr_projector.weight', 'encoder.dr_transform.bias', 'encoder.dr_transform.weight']\n",
      "You should probably TRAIN this model on a down-stream task to be able to use it for predictions and inference.\n"
     ]
    }
   ],
   "source": [
    "m = DBT009.from_pretrained('distilbert-base-uncased', bsz=1024, margin=0.3, tau=0.1, n_negatives=5, apply_softmax=True, use_encoder_parallel=False)"
   ]
  },
  {
   "cell_type": "code",
   "execution_count": null,
   "id": "076b98bb",
   "metadata": {},
   "outputs": [],
   "source": [
    "m.init_dr_head()"
   ]
  },
  {
   "cell_type": "code",
   "execution_count": null,
   "id": "db4d2071-17de-478d-b6be-54de07f5d7aa",
   "metadata": {},
   "outputs": [
    {
     "name": "stderr",
     "output_type": "stream",
     "text": [
      "/scratch/scai/phd/aiz218323/Projects/xcai/xcai/losses.py:21: UserWarning: Sparse CSR tensor support is in beta state. If you miss a functionality in the sparse tensor support, please submit a feature request to https://github.com/pytorch/pytorch/issues. (Triggered internally at ../aten/src/ATen/SparseCsrTensorImpl.cpp:53.)\n",
      "  return torch.sparse_csr_tensor(data_ptr, data_idx, scores, device=data_ptr.device)\n"
     ]
    }
   ],
   "source": [
    "o = m(**batch)"
   ]
  },
  {
   "cell_type": "code",
   "execution_count": null,
   "id": "87afdfeb-524a-475f-a758-2b881eb5cd80",
   "metadata": {},
   "outputs": [
    {
     "data": {
      "text/plain": [
       "(tensor(0.0550, grad_fn=<DivBackward0>),\n",
       " torch.Size([5, 768]),\n",
       " torch.Size([5, 768]))"
      ]
     },
     "execution_count": null,
     "metadata": {},
     "output_type": "execute_result"
    }
   ],
   "source": [
    "o.loss, o.data_repr.shape, o.lbl2data_repr.shape"
   ]
  },
  {
   "cell_type": "code",
   "execution_count": null,
   "id": "6a29db4d",
   "metadata": {},
   "outputs": [
    {
     "data": {
      "text/plain": [
       "tensor(0.0550, grad_fn=<DivBackward0>)"
      ]
     },
     "execution_count": null,
     "metadata": {},
     "output_type": "execute_result"
    }
   ],
   "source": [
    "o.loss"
   ]
  },
  {
   "cell_type": "markdown",
   "id": "af64f855-371b-462c-8953-64eb1f85b322",
   "metadata": {
    "jp-MarkdownHeadingCollapsed": true
   },
   "source": [
    "## DBT010"
   ]
  },
  {
   "cell_type": "code",
   "execution_count": null,
   "id": "3447086f-c7ab-4e93-adb4-ce3dd082925b",
   "metadata": {},
   "outputs": [],
   "source": [
    "#| export\n",
    "class DBT010Encoder(DBT009Encoder):\n",
    "    \n",
    "    def __init__(self, config, repr_type:Optional[str]='pool', *args, **kwargs):\n",
    "        super().__init__(config, *args, **kwargs)\n",
    "        store_attr('repr_type')\n",
    "\n",
    "    @delegates(BertModel.__call__)\n",
    "    def forward(\n",
    "        self, \n",
    "        input_ids:Optional[torch.Tensor]=None, \n",
    "        attention_mask:Optional[torch.Tensor]=None,\n",
    "        repr_type:Optional[str]=None,\n",
    "        **kwargs\n",
    "    ):\n",
    "        if repr_type is None: repr_type = self.repr_type\n",
    "        \n",
    "        o = self.distilbert(\n",
    "            input_ids=input_ids,\n",
    "            attention_mask=attention_mask,\n",
    "            **kwargs\n",
    "        )\n",
    "        \n",
    "        if repr_type == 'pool': rep = o[0]\n",
    "        elif repr_type == 'cls': rep, attention_mask = o[0][:,0:1], attention_mask[:,0:1]\n",
    "        elif repr_type == 'tok': rep, attention_mask = o[0][:,1:], attention_mask[:,1:]\n",
    "        else: raise ValueError(f'Invalid representation type `repr_type`({repr_type}).')\n",
    "        \n",
    "        rep = self.dr_transform(rep)\n",
    "        rep = self.dr_layer_norm(rep)\n",
    "        rep = self.dr_projector(rep)\n",
    "\n",
    "        return o, F.normalize(Pooling.mean_pooling(rep, attention_mask), dim=1)\n",
    "        "
   ]
  },
  {
   "cell_type": "code",
   "execution_count": null,
   "id": "55c2c7af-2b6f-4898-b958-9ad2b451fa56",
   "metadata": {},
   "outputs": [],
   "source": [
    "#| export\n",
    "class DBT010(DBT009):\n",
    "    \n",
    "    def __init__(self, config, repr_type:Optional['str']='pool', *args, **kwargs):\n",
    "        super().__init__(config, *args, **kwargs)\n",
    "        self.encoder = DBT010Encoder(config, repr_type)\n",
    "        self.post_init()\n",
    "        self.remap_post_init()\n",
    "\n",
    "    def forward(\n",
    "        self,\n",
    "        data_input_ids:Optional[torch.Tensor]=None,\n",
    "        data_attention_mask:Optional[torch.Tensor]=None,\n",
    "        lbl2data_data2ptr:Optional[torch.Tensor]=None,\n",
    "        lbl2data_idx:Optional[torch.Tensor]=None,\n",
    "        lbl2data_input_ids:Optional[torch.Tensor]=None,\n",
    "        lbl2data_attention_mask:Optional[torch.Tensor]=None,\n",
    "        plbl2data_data2ptr:Optional[torch.Tensor]=None,\n",
    "        plbl2data_idx:Optional[torch.Tensor]=None,\n",
    "        output_attentions: Optional[bool] = None,\n",
    "        output_hidden_states: Optional[bool] = None,\n",
    "        return_dict: Optional[bool] = None,\n",
    "        **kwargs\n",
    "    ):\n",
    "        return_dict = return_dict if return_dict is not None else self.config.use_return_dict\n",
    "        \n",
    "        if self.use_encoder_parallel: \n",
    "            encoder = nn.DataParallel(module=self.encoder)\n",
    "        else: encoder = self.encoder\n",
    "        \n",
    "        data_o, data_repr = encoder(data_input_ids, data_attention_mask,\n",
    "                                    output_attentions=output_attentions, \n",
    "                                    output_hidden_states=output_hidden_states,\n",
    "                                    return_dict=return_dict)\n",
    "        \n",
    "        loss, lbl2data_repr, lbl2data_o = None, None, None\n",
    "        if lbl2data_input_ids is not None:\n",
    "            lbl2data_o, lbl2data_repr = encoder(lbl2data_input_ids, lbl2data_attention_mask, \n",
    "                                                output_attentions=output_attentions, \n",
    "                                                output_hidden_states=output_hidden_states,\n",
    "                                                return_dict=return_dict)\n",
    "            \n",
    "            loss = self.loss_fn(data_repr, lbl2data_repr, lbl2data_data2ptr, lbl2data_idx, \n",
    "                                plbl2data_data2ptr, plbl2data_idx, **kwargs)\n",
    "            \n",
    "        if not return_dict:\n",
    "            o = (data_repr, lbl2data_repr)\n",
    "            return ((loss,) + o) if loss is not None else o\n",
    "\n",
    "        return XCModelOutput(\n",
    "            loss=loss,\n",
    "            data_repr=data_repr,\n",
    "            lbl2data_repr=lbl2data_repr,\n",
    "            data_embed=data_o.last_hidden_state,\n",
    "            lbl2data_embed=None if lbl2data_o is None else lbl2data_o.last_hidden_state,\n",
    "        )\n",
    "            "
   ]
  },
  {
   "cell_type": "markdown",
   "id": "35c4e980-9b0b-4cf4-84f2-117c324cc459",
   "metadata": {},
   "source": [
    "### Example"
   ]
  },
  {
   "cell_type": "code",
   "execution_count": null,
   "id": "a68fa60f-e79d-4766-801a-1723f6deb00d",
   "metadata": {},
   "outputs": [
    {
     "name": "stderr",
     "output_type": "stream",
     "text": [
      "Some weights of DBT010 were not initialized from the model checkpoint at distilbert-base-uncased and are newly initialized: ['encoder.dr_layer_norm.bias', 'encoder.dr_layer_norm.weight', 'encoder.dr_projector.bias', 'encoder.dr_projector.weight', 'encoder.dr_transform.bias', 'encoder.dr_transform.weight']\n",
      "You should probably TRAIN this model on a down-stream task to be able to use it for predictions and inference.\n"
     ]
    }
   ],
   "source": [
    "m = DBT010.from_pretrained('distilbert-base-uncased', bsz=1024, margin=0.3, tau=0.1, n_negatives=5, apply_softmax=True, \n",
    "                           repr_type='tok', use_encoder_parallel=False)\n",
    "m.init_dr_head()"
   ]
  },
  {
   "cell_type": "code",
   "execution_count": null,
   "id": "078fcad0-1741-4aa6-af4f-5393b31640e9",
   "metadata": {},
   "outputs": [],
   "source": [
    "b = prepare_batch(m, batch)"
   ]
  },
  {
   "cell_type": "code",
   "execution_count": null,
   "id": "f6d9e716-02a6-4036-adc6-34def63a6d31",
   "metadata": {},
   "outputs": [],
   "source": [
    "o = m(**b)"
   ]
  },
  {
   "cell_type": "code",
   "execution_count": null,
   "id": "7f70e2f2-5a74-4b15-aa5b-3246c3ee35b0",
   "metadata": {},
   "outputs": [
    {
     "data": {
      "text/plain": [
       "(tensor(0.0539, grad_fn=<DivBackward0>),\n",
       " torch.Size([5, 768]),\n",
       " torch.Size([5, 768]))"
      ]
     },
     "execution_count": null,
     "metadata": {},
     "output_type": "execute_result"
    }
   ],
   "source": [
    "o.loss, o.data_repr.shape, o.lbl2data_repr.shape"
   ]
  },
  {
   "cell_type": "code",
   "execution_count": null,
   "id": "a774a26f-39f5-4c33-8699-162a6b23ada7",
   "metadata": {},
   "outputs": [
    {
     "data": {
      "text/plain": [
       "tensor(0.0539, grad_fn=<DivBackward0>)"
      ]
     },
     "execution_count": null,
     "metadata": {},
     "output_type": "execute_result"
    }
   ],
   "source": [
    "o.loss"
   ]
  },
  {
   "cell_type": "markdown",
   "id": "ffc23a06-91da-472e-a020-5adf5235fe51",
   "metadata": {
    "jp-MarkdownHeadingCollapsed": true
   },
   "source": [
    "## DBT011"
   ]
  },
  {
   "cell_type": "code",
   "execution_count": null,
   "id": "ba2e5659-206f-470c-ae1f-480944f2c8e9",
   "metadata": {},
   "outputs": [],
   "source": [
    "#| export\n",
    "class DBT011(DistilBertPreTrainedModel):\n",
    "    use_generation,use_representation = False,True\n",
    "    _tied_weights_keys = [\"encoder.distilbert\"]\n",
    "    \n",
    "    def __init__(self,\n",
    "                 config,\n",
    "                 margin:Optional[float]=0.3,\n",
    "                 tau:Optional[float]=0.1,\n",
    "                 apply_softmax:Optional[bool]=False,\n",
    "                 n_negatives:Optional[int]=5,\n",
    "                 use_encoder_parallel:Optional[bool]=True,\n",
    "                 *args, **kwargs):\n",
    "        super().__init__(config, *args, **kwargs)\n",
    "        store_attr('use_encoder_parallel')\n",
    "        self.encoder = DBT009Encoder(config)\n",
    "        self.loss_fn = Triplet(margin=margin, n_negatives=n_negatives, tau=tau, apply_softmax=apply_softmax, reduce='mean')\n",
    "        self.post_init()\n",
    "        self.remap_post_init()\n",
    "        \n",
    "    def init_dr_head(self):\n",
    "        self.encoder.init_dr_head()\n",
    "        \n",
    "    def remap_post_init(self):\n",
    "        self.distilbert = self.encoder.distilbert\n",
    "        \n",
    "    \n",
    "    def forward(\n",
    "        self,\n",
    "        data_input_ids:Optional[torch.Tensor]=None,\n",
    "        data_attention_mask:Optional[torch.Tensor]=None,\n",
    "        lbl2data_data2ptr:Optional[torch.Tensor]=None,\n",
    "        lbl2data_idx:Optional[torch.Tensor]=None,\n",
    "        lbl2data_input_ids:Optional[torch.Tensor]=None,\n",
    "        lbl2data_attention_mask:Optional[torch.Tensor]=None,\n",
    "        plbl2data_data2ptr:Optional[torch.Tensor]=None,\n",
    "        plbl2data_idx:Optional[torch.Tensor]=None,\n",
    "        output_attentions: Optional[bool] = None,\n",
    "        output_hidden_states: Optional[bool] = None,\n",
    "        return_dict: Optional[bool] = None,\n",
    "        **kwargs\n",
    "    ):\n",
    "        return_dict = return_dict if return_dict is not None else self.config.use_return_dict\n",
    "        \n",
    "        if self.use_encoder_parallel: \n",
    "            encoder = nn.DataParallel(module=self.encoder)\n",
    "        else: encoder = self.encoder\n",
    "        \n",
    "        data_o, data_repr = encoder(data_input_ids, data_attention_mask, \n",
    "                                    output_attentions=output_attentions, \n",
    "                                    output_hidden_states=output_hidden_states,\n",
    "                                    return_dict=return_dict)\n",
    "        \n",
    "        loss, lbl2data_repr = None, None\n",
    "        if lbl2data_input_ids is not None:\n",
    "            lbl2data_o, lbl2data_repr = encoder(lbl2data_input_ids, lbl2data_attention_mask,  \n",
    "                                                output_attentions=output_attentions, \n",
    "                                                output_hidden_states=output_hidden_states,\n",
    "                                                return_dict=return_dict)\n",
    "            \n",
    "            loss = self.loss_fn(data_repr, lbl2data_repr, lbl2data_idx, plbl2data_data2ptr, plbl2data_idx, **kwargs)\n",
    "\n",
    "        if not return_dict:\n",
    "            o = (data_repr, lbl2data_repr)\n",
    "            return ((loss,) + o) if loss is not None else o\n",
    "\n",
    "        return XCModelOutput(\n",
    "            loss=loss,\n",
    "            data_repr=data_repr,\n",
    "            lbl2data_repr=lbl2data_repr,\n",
    "        )\n",
    "        "
   ]
  },
  {
   "cell_type": "markdown",
   "id": "9074a203-effa-4d7e-9492-00704f2b8910",
   "metadata": {},
   "source": [
    "### Example"
   ]
  },
  {
   "cell_type": "code",
   "execution_count": null,
   "id": "0c991e6d-ef32-40ac-8828-3492c33491af",
   "metadata": {},
   "outputs": [
    {
     "name": "stderr",
     "output_type": "stream",
     "text": [
      "Some weights of DBT011 were not initialized from the model checkpoint at distilbert-base-uncased and are newly initialized: ['encoder.dr_layer_norm.bias', 'encoder.dr_layer_norm.weight', 'encoder.dr_projector.bias', 'encoder.dr_projector.weight', 'encoder.dr_transform.bias', 'encoder.dr_transform.weight']\n",
      "You should probably TRAIN this model on a down-stream task to be able to use it for predictions and inference.\n"
     ]
    }
   ],
   "source": [
    "m = DBT011.from_pretrained('distilbert-base-uncased', margin=0.3, tau=0.1, n_negatives=5, apply_softmax=True, use_encoder_parallel=False)\n",
    "m.init_dr_head()"
   ]
  },
  {
   "cell_type": "code",
   "execution_count": null,
   "id": "6e2e6423-ab8d-4d41-88b0-b0f4ba138dbb",
   "metadata": {},
   "outputs": [],
   "source": [
    "o = m(**batch)"
   ]
  },
  {
   "cell_type": "code",
   "execution_count": null,
   "id": "96011797-c266-4e18-8e2f-c56e2ad34cee",
   "metadata": {},
   "outputs": [
    {
     "data": {
      "text/plain": [
       "tensor(0.0537, grad_fn=<MeanBackward0>)"
      ]
     },
     "execution_count": null,
     "metadata": {},
     "output_type": "execute_result"
    }
   ],
   "source": [
    "o.loss"
   ]
  },
  {
   "cell_type": "markdown",
   "id": "c3252cba-430a-4430-9776-8b9dfa5507dc",
   "metadata": {
    "jp-MarkdownHeadingCollapsed": true
   },
   "source": [
    "## DBT012"
   ]
  },
  {
   "cell_type": "code",
   "execution_count": null,
   "id": "14e7a92d-572c-40b6-9422-512e7f6e0e39",
   "metadata": {},
   "outputs": [],
   "source": [
    "#| export\n",
    "class DBT012Encoder(DBT009Encoder):\n",
    "\n",
    "    @delegates(BertModel.__call__)\n",
    "    def forward(\n",
    "        self, \n",
    "        input_ids:Optional[torch.Tensor]=None, \n",
    "        attention_mask:Optional[torch.Tensor]=None,\n",
    "        **kwargs\n",
    "    ):\n",
    "        o = self.distilbert(\n",
    "            input_ids=input_ids,\n",
    "            attention_mask=attention_mask,\n",
    "            **kwargs\n",
    "        )\n",
    "        rep = self.dr_transform(o[0])\n",
    "        rep = self.dr_layer_norm(rep)\n",
    "        rep = self.dr_projector(rep)\n",
    "        return o, F.log_softmax(Pooling.mean_pooling(rep, attention_mask), dim=-1)\n",
    "        "
   ]
  },
  {
   "cell_type": "code",
   "execution_count": null,
   "id": "49e5c278-2fea-4add-b8bd-1a9e6f3de887",
   "metadata": {},
   "outputs": [],
   "source": [
    "#| export\n",
    "class DBT012(DistilBertPreTrainedModel):\n",
    "    use_generation,use_representation = False,True\n",
    "    _tied_weights_keys = [\"encoder.distilbert\"]\n",
    "    \n",
    "    def __init__(self,\n",
    "                 config,\n",
    "                 margin:Optional[float]=0.3,\n",
    "                 tau:Optional[float]=0.1,\n",
    "                 psi:Optional[float]=1.0,\n",
    "                 apply_softmax:Optional[bool]=False,\n",
    "                 n_negatives:Optional[int]=5,\n",
    "                 use_encoder_parallel:Optional[bool]=True,\n",
    "                 *args, **kwargs):\n",
    "        super().__init__(config, *args, **kwargs)\n",
    "        store_attr('use_encoder_parallel')\n",
    "        self.encoder = DBT012Encoder(config)\n",
    "        self.loss_fn = Entropy(margin=margin, n_negatives=n_negatives, tau=tau, psi=psi, apply_softmax=apply_softmax, reduce='mean')\n",
    "        self.post_init()\n",
    "        self.remap_post_init()\n",
    "        \n",
    "    def init_dr_head(self):\n",
    "        self.encoder.init_dr_head()\n",
    "        \n",
    "    def remap_post_init(self):\n",
    "        self.distilbert = self.encoder.distilbert\n",
    "\n",
    "    def forward(\n",
    "        self,\n",
    "        data_input_ids:Optional[torch.Tensor]=None,\n",
    "        data_attention_mask:Optional[torch.Tensor]=None,\n",
    "        lbl2data_data2ptr:Optional[torch.Tensor]=None,\n",
    "        lbl2data_idx:Optional[torch.Tensor]=None,\n",
    "        lbl2data_input_ids:Optional[torch.Tensor]=None,\n",
    "        lbl2data_attention_mask:Optional[torch.Tensor]=None,\n",
    "        plbl2data_data2ptr:Optional[torch.Tensor]=None,\n",
    "        plbl2data_idx:Optional[torch.Tensor]=None,\n",
    "        output_attentions: Optional[bool] = None,\n",
    "        output_hidden_states: Optional[bool] = None,\n",
    "        return_dict: Optional[bool] = None,\n",
    "        **kwargs\n",
    "    ):\n",
    "        return_dict = return_dict if return_dict is not None else self.config.use_return_dict\n",
    "        \n",
    "        if self.use_encoder_parallel: \n",
    "            encoder = nn.DataParallel(module=self.encoder)\n",
    "        else: encoder = self.encoder\n",
    "        \n",
    "        data_o, data_repr = encoder(data_input_ids, data_attention_mask, \n",
    "                                    output_attentions=output_attentions, \n",
    "                                    output_hidden_states=output_hidden_states,\n",
    "                                    return_dict=return_dict)\n",
    "        \n",
    "        loss, lbl2data_repr = None, None\n",
    "        if lbl2data_input_ids is not None:\n",
    "            lbl2data_o, lbl2data_repr = encoder(lbl2data_input_ids, lbl2data_attention_mask,  \n",
    "                                                output_attentions=output_attentions, \n",
    "                                                output_hidden_states=output_hidden_states,\n",
    "                                                return_dict=return_dict)\n",
    "            \n",
    "            loss = self.loss_fn(data_repr, lbl2data_repr, lbl2data_idx, plbl2data_data2ptr, plbl2data_idx)\n",
    "            \n",
    "        if not return_dict:\n",
    "            o = (data_repr, lbl2data_repr)\n",
    "            return ((loss,) + o) if loss is not None else o\n",
    "\n",
    "        return XCModelOutput(\n",
    "            loss=loss,\n",
    "            data_repr=data_repr,\n",
    "            lbl2data_repr=lbl2data_repr,\n",
    "        )\n",
    "        "
   ]
  },
  {
   "cell_type": "markdown",
   "id": "44698bea-53d0-41c7-8683-055783274204",
   "metadata": {},
   "source": [
    "### Examples"
   ]
  },
  {
   "cell_type": "code",
   "execution_count": null,
   "id": "0e2bd4fc-4d54-44f2-82b7-fa45833c476b",
   "metadata": {},
   "outputs": [
    {
     "name": "stderr",
     "output_type": "stream",
     "text": [
      "Some weights of DBT012 were not initialized from the model checkpoint at distilbert-base-uncased and are newly initialized: ['encoder.dr_layer_norm.bias', 'encoder.dr_layer_norm.weight', 'encoder.dr_projector.bias', 'encoder.dr_projector.weight', 'encoder.dr_transform.bias', 'encoder.dr_transform.weight']\n",
      "You should probably TRAIN this model on a down-stream task to be able to use it for predictions and inference.\n"
     ]
    }
   ],
   "source": [
    "m = DBT012.from_pretrained('distilbert-base-uncased', margin=0.01, tau=10, n_negatives=10, apply_softmax=True, use_encoder_parallel=False)\n",
    "m.init_dr_head()"
   ]
  },
  {
   "cell_type": "code",
   "execution_count": null,
   "id": "0d8dcc83-03b0-45b2-8ea3-3f29f0a37b61",
   "metadata": {},
   "outputs": [],
   "source": [
    "o = m(**batch)"
   ]
  },
  {
   "cell_type": "code",
   "execution_count": null,
   "id": "9bd3afed-e287-4fbd-8557-ee8ac1111742",
   "metadata": {},
   "outputs": [
    {
     "data": {
      "text/plain": [
       "tensor(0.0013, grad_fn=<MeanBackward0>)"
      ]
     },
     "execution_count": null,
     "metadata": {},
     "output_type": "execute_result"
    }
   ],
   "source": [
    "o.loss"
   ]
  },
  {
   "cell_type": "markdown",
   "id": "194df254-ca11-441c-b4e1-5fa4fe50d606",
   "metadata": {},
   "source": [
    "## DBT022"
   ]
  },
  {
   "cell_type": "code",
   "execution_count": null,
   "id": "83384278-aed3-4362-b311-80f4335b54a7",
   "metadata": {},
   "outputs": [],
   "source": [
    "#| export\n",
    "class DBT022(DBT009):\n",
    "    \n",
    "    def __init__(self, config, c_lw:Optional[float]=0.1, *args, **kwargs):\n",
    "        super().__init__(config, *args, **kwargs)\n",
    "        self.embed_loss, self.c_lw = Cosine(reduce='mean'), c_lw\n",
    "\n",
    "    def forward(\n",
    "        self,\n",
    "        data_input_ids:Optional[torch.Tensor]=None,\n",
    "        data_attention_mask:Optional[torch.Tensor]=None,\n",
    "        lbl2data_data2ptr:Optional[torch.Tensor]=None,\n",
    "        lbl2data_idx:Optional[torch.Tensor]=None,\n",
    "        lbl2data_input_ids:Optional[torch.Tensor]=None,\n",
    "        lbl2data_attention_mask:Optional[torch.Tensor]=None,\n",
    "        plbl2data_data2ptr:Optional[torch.Tensor]=None,\n",
    "        plbl2data_idx:Optional[torch.Tensor]=None,\n",
    "        output_attentions: Optional[bool] = None,\n",
    "        output_hidden_states: Optional[bool] = None,\n",
    "        return_dict: Optional[bool] = None,\n",
    "        **kwargs\n",
    "    ):\n",
    "        return_dict = return_dict if return_dict is not None else self.config.use_return_dict\n",
    "        \n",
    "        if self.use_encoder_parallel: \n",
    "            encoder = nn.DataParallel(module=self.encoder)\n",
    "        else: encoder = self.encoder\n",
    "        \n",
    "        data_o, data_repr = encoder(data_input_ids, data_attention_mask,\n",
    "                                    output_attentions=output_attentions, \n",
    "                                    output_hidden_states=output_hidden_states,\n",
    "                                    return_dict=return_dict)\n",
    "        \n",
    "        loss, lbl2data_repr = None, None\n",
    "        if lbl2data_input_ids is not None:\n",
    "            lbl2data_o, lbl2data_repr = encoder(lbl2data_input_ids, lbl2data_attention_mask, \n",
    "                                                output_attentions=output_attentions, \n",
    "                                                output_hidden_states=output_hidden_states,\n",
    "                                                return_dict=return_dict)\n",
    "            \n",
    "            loss = self.loss_fn(data_repr, lbl2data_repr, lbl2data_data2ptr, lbl2data_idx, \n",
    "                                plbl2data_data2ptr, plbl2data_idx, **kwargs)\n",
    "            loss += self.c_lw * self.embed_loss(data_o[0], data_attention_mask, lbl2data_o[0], lbl2data_attention_mask)\n",
    "            \n",
    "        if not return_dict:\n",
    "            o = (data_repr, lbl2data_repr)\n",
    "            return ((loss,) + o) if loss is not None else o\n",
    "\n",
    "        return XCModelOutput(\n",
    "            loss=loss,\n",
    "            data_repr=data_repr,\n",
    "            lbl2data_repr=lbl2data_repr,\n",
    "        )"
   ]
  },
  {
   "cell_type": "markdown",
   "id": "694cf01c-c53c-49e1-aaef-0b9f2228a3e2",
   "metadata": {},
   "source": [
    "### Example"
   ]
  },
  {
   "cell_type": "code",
   "execution_count": null,
   "id": "6b82b01c-a262-47be-9e8e-90436753fdd6",
   "metadata": {},
   "outputs": [
    {
     "name": "stderr",
     "output_type": "stream",
     "text": [
      "Some weights of DBT022 were not initialized from the model checkpoint at distilbert-base-uncased and are newly initialized: ['encoder.dr_layer_norm.bias', 'encoder.dr_layer_norm.weight', 'encoder.dr_projector.bias', 'encoder.dr_projector.weight', 'encoder.dr_transform.bias', 'encoder.dr_transform.weight']\n",
      "You should probably TRAIN this model on a down-stream task to be able to use it for predictions and inference.\n"
     ]
    }
   ],
   "source": [
    "m = DBT022.from_pretrained('distilbert-base-uncased', bsz=1024, margin=0.3, tau=0.1, n_negatives=5, apply_softmax=True, use_encoder_parallel=False)\n",
    "m.init_dr_head()"
   ]
  },
  {
   "cell_type": "code",
   "execution_count": null,
   "id": "c21691b0-e365-47a5-a6ce-321e48b4c788",
   "metadata": {},
   "outputs": [],
   "source": [
    "b = prepare_batch(m, batch)"
   ]
  },
  {
   "cell_type": "code",
   "execution_count": null,
   "id": "83e9cd54-c182-4a64-93b5-53a4302bbdb7",
   "metadata": {},
   "outputs": [],
   "source": [
    "o = m(**b)"
   ]
  },
  {
   "cell_type": "code",
   "execution_count": null,
   "id": "d0b703f6-bfb2-43e3-9b36-db9813c01343",
   "metadata": {},
   "outputs": [
    {
     "data": {
      "text/plain": [
       "(tensor(0.1189, grad_fn=<AddBackward0>),\n",
       " torch.Size([5, 768]),\n",
       " torch.Size([5, 768]))"
      ]
     },
     "execution_count": null,
     "metadata": {},
     "output_type": "execute_result"
    }
   ],
   "source": [
    "o.loss, o.data_repr.shape, o.lbl2data_repr.shape"
   ]
  },
  {
   "cell_type": "code",
   "execution_count": null,
   "id": "e5a7510b-eaaa-4c1a-850f-7f811c5d7500",
   "metadata": {},
   "outputs": [
    {
     "data": {
      "text/plain": [
       "tensor(0.1189, grad_fn=<AddBackward0>)"
      ]
     },
     "execution_count": null,
     "metadata": {},
     "output_type": "execute_result"
    }
   ],
   "source": [
    "o.loss"
   ]
  },
  {
   "cell_type": "markdown",
   "id": "5b599620",
   "metadata": {},
   "source": [
    "## DBT013"
   ]
  },
  {
   "cell_type": "code",
   "execution_count": null,
   "id": "dcc8b103",
   "metadata": {},
   "outputs": [],
   "source": [
    "#| export\n",
    "class DBT013Encoder(DistilBertForMaskedLM):\n",
    "    \n",
    "    def __init__(self, config):\n",
    "        super().__init__(config)\n",
    "        self.dr_transform = nn.Linear(config.dim, config.dim)\n",
    "        self.dr_layer_norm = nn.LayerNorm(config.dim, eps=1e-12)\n",
    "        self.dr_projector = nn.Linear(config.dim, config.dim)\n",
    "        \n",
    "    def init_dr_head(self):\n",
    "        self.dr_transform.weight.data = torch.eye(self.dr_transform.out_features, self.dr_transform.in_features, \n",
    "                                                  dtype=self.dr_transform.weight.dtype)\n",
    "        self.dr_projector.weight.data = torch.eye(self.dr_projector.out_features, self.dr_projector.in_features, \n",
    "                                                  dtype=self.dr_projector.weight.dtype)\n",
    "        \n",
    "    def forward(\n",
    "        self, \n",
    "        input_ids:Optional[torch.Tensor]=None, \n",
    "        attention_mask:Optional[torch.Tensor]=None, \n",
    "        **kwargs\n",
    "    ):    \n",
    "        o = self.distilbert(\n",
    "            input_ids=input_ids,\n",
    "            attention_mask=attention_mask,\n",
    "            **kwargs\n",
    "        )\n",
    "        rep = self.dr_transform(o[0])\n",
    "        rep = self.dr_layer_norm(rep)\n",
    "        rep = self.dr_projector(rep)\n",
    "        rep = F.normalize(Pooling.mean_pooling(rep, attention_mask), dim=1)\n",
    "        \n",
    "        logits = self.vocab_transform(o[0])\n",
    "        logits = self.activation(logits)\n",
    "        logits = self.vocab_layer_norm(logits)\n",
    "        logits = self.vocab_projector(logits)\n",
    "        \n",
    "        return o,logits,rep\n",
    "        "
   ]
  },
  {
   "cell_type": "code",
   "execution_count": null,
   "id": "f35d178e",
   "metadata": {},
   "outputs": [],
   "source": [
    "#| export\n",
    "class DBT013(DistilBertForMaskedLM):\n",
    "    use_generation,use_representation = True,True\n",
    "    _tied_weights_keys = [\"encoder.distilbert\", \"encoder.vocab_transform\", \"encoder.vocab_layer_norm\", \"encoder.vocab_projector\"]\n",
    "    \n",
    "    def __init__(\n",
    "        self, config,\n",
    "        tn_targ:Optional[int]=None, \n",
    "        ig_tok:Optional[int]=0,\n",
    "        bsz:Optional[int]=None,\n",
    "        margin:Optional[int]=0.3,\n",
    "        n_negatives:Optional[int]=5,\n",
    "        tau:Optional[float]=0.1,\n",
    "        apply_softmax:Optional[bool]=True,\n",
    "        use_encoder_parallel:Optional[bool]=True,\n",
    "        lw:Optional[float]=0.8,\n",
    "    ):\n",
    "        super().__init__(config)\n",
    "        store_attr('lw,use_encoder_parallel')\n",
    "        self.encoder = DBT013Encoder(config)\n",
    "        self.gen_lfn = MultiCrossEntropy(tn_targ=tn_targ, ig_tok=ig_tok, reduce='mean')\n",
    "        self.rep_lfn = MultiTriplet(bsz=bsz, tn_targ=tn_targ, margin=margin, n_negatives=n_negatives, tau=tau,\n",
    "                                    apply_softmax=apply_softmax, reduce='mean')\n",
    "        \n",
    "        self.remap_post_init()\n",
    "        \n",
    "    def init_dr_head(self):\n",
    "        self.encoder.init_dr_head()\n",
    "        \n",
    "    def remap_post_init(self): \n",
    "        self.encoder.distilbert= self.distilbert\n",
    "        self.encoder.vocab_transform = self.vocab_transform\n",
    "        self.encoder.vocab_layer_norm = self.vocab_layer_norm\n",
    "        self.encoder.vocab_projector = self.vocab_projector\n",
    "        \n",
    "    def forward(\n",
    "        self,\n",
    "        data_input_ids:Optional[torch.Tensor]=None,\n",
    "        data_attention_mask:Optional[torch.Tensor]=None,\n",
    "        lbl2data_data2ptr:Optional[torch.Tensor]=None,\n",
    "        lbl2data_idx:Optional[torch.Tensor]=None,\n",
    "        lbl2data_input_ids:Optional[torch.Tensor]=None,\n",
    "        lbl2data_attention_mask:Optional[torch.Tensor]=None,\n",
    "        plbl2data_data2ptr:Optional[torch.Tensor]=None,\n",
    "        plbl2data_idx:Optional[torch.Tensor]=None,\n",
    "        output_attentions: Optional[bool] = None,\n",
    "        output_hidden_states: Optional[bool] = None,\n",
    "        return_dict: Optional[bool] = None,\n",
    "        **kwargs\n",
    "    ):\n",
    "        return_dict = return_dict if return_dict is not None else self.config.use_return_dict\n",
    "\n",
    "        if self.use_encoder_parallel: \n",
    "            encoder = nn.DataParallel(module=self.encoder)\n",
    "        else: encoder = self.encoder\n",
    "        \n",
    "        data_o, data_logits, data_repr = encoder(data_input_ids, data_attention_mask)\n",
    "        \n",
    "        loss = lm_loss = dr_loss = lbl2data_repr = None\n",
    "        if lbl2data_input_ids is not None:\n",
    "            lbl2data_o, lbl2data_logits, lbl2data_repr = encoder(lbl2data_input_ids, lbl2data_attention_mask)\n",
    "            \n",
    "            lm_loss = 0.5 * (self.gen_lfn(data_logits, lbl2data_input_ids, lbl2data_data2ptr) + self.gen_lfn(lbl2data_logits, data_input_ids))\n",
    "            dr_loss = self.rep_lfn(data_repr, lbl2data_repr, lbl2data_data2ptr, lbl2data_idx, \n",
    "                                   plbl2data_data2ptr, plbl2data_idx)\n",
    "            loss = dr_loss + self.lw*lm_loss\n",
    "            \n",
    "        if not return_dict:\n",
    "            o = (data_logits,data_repr,lbl2data_repr) + data_o[2:]\n",
    "            return ((loss,lm_loss,dr_loss) + o) if loss is not None else o\n",
    "        \n",
    "        return XCModelOutput(\n",
    "            loss=loss,\n",
    "            lm_loss=lm_loss,\n",
    "            dr_loss=dr_loss,\n",
    "            logits=data_logits,\n",
    "            data_repr=data_repr,\n",
    "            lbl2data_repr=lbl2data_repr,\n",
    "            data_hidden_states=data_o.hidden_states,\n",
    "            data_attentions=data_o.attentions,\n",
    "        )\n",
    "    "
   ]
  },
  {
   "cell_type": "markdown",
   "id": "c4a3e7ad",
   "metadata": {},
   "source": [
    "### Example"
   ]
  },
  {
   "cell_type": "code",
   "execution_count": null,
   "id": "f6fd2c2e",
   "metadata": {},
   "outputs": [
    {
     "name": "stderr",
     "output_type": "stream",
     "text": [
      "Some weights of DBT013 were not initialized from the model checkpoint at distilbert-base-uncased and are newly initialized: ['encoder.dr_layer_norm.bias', 'encoder.dr_layer_norm.weight', 'encoder.dr_projector.bias', 'encoder.dr_projector.weight', 'encoder.dr_transform.bias', 'encoder.dr_transform.weight']\n",
      "You should probably TRAIN this model on a down-stream task to be able to use it for predictions and inference.\n"
     ]
    }
   ],
   "source": [
    "m = DBT013.from_pretrained('distilbert-base-uncased', tn_targ=10_000, ig_tok=0, margin=0.4, tau=0.7, apply_softmax=True, \n",
    "                           n_negatives=5, lw=0.8, use_encoder_parallel=False)\n",
    "m.init_dr_head()\n",
    "\n",
    "b = prepare_batch(m, batch, m_args='lbl2data_idx')"
   ]
  },
  {
   "cell_type": "code",
   "execution_count": null,
   "id": "70cd8c06",
   "metadata": {},
   "outputs": [],
   "source": [
    "o = m(**b)"
   ]
  },
  {
   "cell_type": "code",
   "execution_count": null,
   "id": "2e2e1066",
   "metadata": {},
   "outputs": [
    {
     "data": {
      "text/plain": [
       "tensor(13.6458, grad_fn=<AddBackward0>)"
      ]
     },
     "execution_count": null,
     "metadata": {},
     "output_type": "execute_result"
    }
   ],
   "source": [
    "o.loss"
   ]
  },
  {
   "cell_type": "markdown",
   "id": "1917520d-111a-43f9-8456-cc3749f365b4",
   "metadata": {},
   "source": [
    "## DBT014"
   ]
  },
  {
   "cell_type": "code",
   "execution_count": null,
   "id": "71fa1b6f-4c55-4810-bfee-e7b0c061a7ce",
   "metadata": {},
   "outputs": [],
   "source": [
    "#| export\n",
    "class DBT014Encoder(DBT013Encoder):\n",
    "    \n",
    "    def __init__(self, config, *args, **kwargs):\n",
    "        super().__init__(config, *args, **kwargs)\n",
    "        \n",
    "    def forward(\n",
    "        self, \n",
    "        input_ids:Optional[torch.Tensor]=None, \n",
    "        attention_mask:Optional[torch.Tensor]=None, \n",
    "        **kwargs\n",
    "    ):    \n",
    "        o = self.distilbert(\n",
    "            input_ids=input_ids,\n",
    "            attention_mask=attention_mask,\n",
    "            **kwargs\n",
    "        )\n",
    "        rep = self.dr_transform(o[0][:,0])\n",
    "        rep = self.dr_layer_norm(rep)\n",
    "        rep = self.dr_projector(rep)\n",
    "        rep = F.normalize(rep, dim=1)\n",
    "        \n",
    "        logits = self.vocab_transform(o[0][:, 1:])\n",
    "        logits = self.activation(logits)\n",
    "        logits = self.vocab_layer_norm(logits)\n",
    "        logits = self.vocab_projector(logits)\n",
    "        \n",
    "        return o,logits,rep\n",
    "        "
   ]
  },
  {
   "cell_type": "code",
   "execution_count": null,
   "id": "1c286492-e0ca-479e-9bbf-fc8710f334d0",
   "metadata": {},
   "outputs": [],
   "source": [
    "#| export\n",
    "class DBT014(DBT013):\n",
    "    \n",
    "    def __init__(self, config, *args, **kwargs):\n",
    "        super().__init__(config, *args, **kwargs)\n",
    "        self.encoder = DBT014Encoder(config)\n",
    "        self.post_init()\n",
    "        self.remap_post_init()\n",
    "\n",
    "    def forward(\n",
    "        self,\n",
    "        data_input_ids:Optional[torch.Tensor]=None,\n",
    "        data_attention_mask:Optional[torch.Tensor]=None,\n",
    "        lbl2data_data2ptr:Optional[torch.Tensor]=None,\n",
    "        lbl2data_idx:Optional[torch.Tensor]=None,\n",
    "        lbl2data_input_ids:Optional[torch.Tensor]=None,\n",
    "        lbl2data_attention_mask:Optional[torch.Tensor]=None,\n",
    "        plbl2data_data2ptr:Optional[torch.Tensor]=None,\n",
    "        plbl2data_idx:Optional[torch.Tensor]=None,\n",
    "        output_attentions: Optional[bool] = None,\n",
    "        output_hidden_states: Optional[bool] = None,\n",
    "        return_dict: Optional[bool] = None,\n",
    "        **kwargs\n",
    "    ):\n",
    "        return_dict = return_dict if return_dict is not None else self.config.use_return_dict\n",
    "\n",
    "        if self.use_encoder_parallel: \n",
    "            encoder = nn.DataParallel(module=self.encoder)\n",
    "        else: encoder = self.encoder\n",
    "        \n",
    "        data_o, data_logits, data_repr = encoder(data_input_ids, data_attention_mask)\n",
    "        \n",
    "        loss = lm_loss = dr_loss = lbl2data_repr = None\n",
    "        if lbl2data_input_ids is not None:\n",
    "            lbl2data_o, lbl2data_logits, lbl2data_repr = encoder(lbl2data_input_ids, lbl2data_attention_mask)\n",
    "            \n",
    "            lm_loss = 0.5 * (self.gen_lfn(data_logits, lbl2data_input_ids[:, 1:], lbl2data_data2ptr) + self.gen_lfn(lbl2data_logits, data_input_ids[:, 1:]))\n",
    "            dr_loss = self.rep_lfn(data_repr, lbl2data_repr, lbl2data_data2ptr, lbl2data_idx, \n",
    "                                   plbl2data_data2ptr, plbl2data_idx)\n",
    "            loss = dr_loss + self.lw*lm_loss\n",
    "            \n",
    "        if not return_dict:\n",
    "            o = (data_logits,data_repr,lbl2data_repr) + data_o[2:]\n",
    "            return ((loss,lm_loss,dr_loss) + o) if loss is not None else o\n",
    "        \n",
    "        return XCModelOutput(\n",
    "            loss=loss,\n",
    "            lm_loss=lm_loss,\n",
    "            dr_loss=dr_loss,\n",
    "            logits=data_logits,\n",
    "            data_repr=data_repr,\n",
    "            lbl2data_repr=lbl2data_repr,\n",
    "            data_hidden_states=data_o.hidden_states,\n",
    "            data_attentions=data_o.attentions,\n",
    "        )\n",
    "        "
   ]
  },
  {
   "cell_type": "markdown",
   "id": "ecf383b8-2f35-4ba3-b4ce-353344c08506",
   "metadata": {},
   "source": [
    "### Example"
   ]
  },
  {
   "cell_type": "code",
   "execution_count": null,
   "id": "983409f8-03fd-4abc-ad38-55bf914c46eb",
   "metadata": {},
   "outputs": [
    {
     "name": "stderr",
     "output_type": "stream",
     "text": [
      "Some weights of DBT014 were not initialized from the model checkpoint at distilbert-base-uncased and are newly initialized: ['encoder.dr_layer_norm.bias', 'encoder.dr_layer_norm.weight', 'encoder.dr_projector.bias', 'encoder.dr_projector.weight', 'encoder.dr_transform.bias', 'encoder.dr_transform.weight']\n",
      "You should probably TRAIN this model on a down-stream task to be able to use it for predictions and inference.\n"
     ]
    }
   ],
   "source": [
    "m = DBT014.from_pretrained('distilbert-base-uncased', tn_targ=10_000, ig_tok=0, margin=0.4, tau=0.7, apply_softmax=True, \n",
    "                           n_negatives=5, lw=0.8, use_encoder_parallel=False)\n",
    "m.init_dr_head()\n",
    "\n",
    "b = prepare_batch(m, batch, m_args='lbl2data_idx')"
   ]
  },
  {
   "cell_type": "code",
   "execution_count": null,
   "id": "cdd36e91-b8ff-4e51-93ed-f928e76e4053",
   "metadata": {},
   "outputs": [],
   "source": [
    "o = m(**b)"
   ]
  },
  {
   "cell_type": "code",
   "execution_count": null,
   "id": "c66c3020-bfb6-4db8-9498-a861185df9d1",
   "metadata": {},
   "outputs": [
    {
     "data": {
      "text/plain": [
       "tensor(14.0373, grad_fn=<AddBackward0>)"
      ]
     },
     "execution_count": null,
     "metadata": {},
     "output_type": "execute_result"
    }
   ],
   "source": [
    "o.loss"
   ]
  },
  {
   "cell_type": "markdown",
   "id": "e93e5a6d",
   "metadata": {},
   "source": [
    "## DBT017"
   ]
  },
  {
   "cell_type": "code",
   "execution_count": null,
   "id": "dba4e560",
   "metadata": {},
   "outputs": [],
   "source": [
    "#| export\n",
    "class DBT017(DBT013):\n",
    "    \n",
    "    @delegates(DBT013.__init__)\n",
    "    def __init__(self, config, m_lw:Optional[Union[float,List]]=0.2, meta_prefix:Optional[str]=None, *args, **kwargs):\n",
    "        super().__init__(config, *args, **kwargs)\n",
    "        self.m_lw, self.meta_prefix = m_lw, meta_prefix\n",
    "        \n",
    "    def _get_meta_inputs(self, **kwargs):\n",
    "        inputs = {}\n",
    "        for t in [o for o in kwargs if self.meta_prefix is not None and re.match(f'^[p]?{self.meta_prefix}.*', o)]:\n",
    "            p,q = t.split('_', maxsplit=1)\n",
    "            if t[0] == 'p': inputs.setdefault(p[1:], {})[f'p{q}'] = kwargs[t]\n",
    "            else: inputs.setdefault(p, {})[q] = kwargs[t]\n",
    "        return inputs\n",
    "\n",
    "    def forward(\n",
    "        self,\n",
    "        data_input_ids:Optional[torch.Tensor]=None,\n",
    "        data_attention_mask:Optional[torch.Tensor]=None,\n",
    "        lbl2data_data2ptr:Optional[torch.Tensor]=None,\n",
    "        lbl2data_idx:Optional[torch.Tensor]=None,\n",
    "        lbl2data_input_ids:Optional[torch.Tensor]=None,\n",
    "        lbl2data_attention_mask:Optional[torch.Tensor]=None,\n",
    "        plbl2data_data2ptr:Optional[torch.Tensor]=None,\n",
    "        plbl2data_idx:Optional[torch.Tensor]=None,\n",
    "        output_attentions: Optional[bool] = None,\n",
    "        output_hidden_states: Optional[bool] = None,\n",
    "        return_dict: Optional[bool] = None,\n",
    "        **kwargs\n",
    "    ):\n",
    "        return_dict = return_dict if return_dict is not None else self.config.use_return_dict\n",
    "\n",
    "        if self.use_encoder_parallel: \n",
    "            encoder = nn.DataParallel(module=self.encoder)\n",
    "        else: encoder = self.encoder\n",
    "            \n",
    "        data_o, data_logits, data_repr = encoder(data_input_ids, data_attention_mask)\n",
    "        \n",
    "        loss = lm_loss = dr_loss = lbl2data_repr = None\n",
    "        if lbl2data_input_ids is not None:\n",
    "            lbl2data_o, lbl2data_logits, lbl2data_repr = encoder(lbl2data_input_ids, lbl2data_attention_mask)\n",
    "            \n",
    "            lm_loss = self.gen_lfn(data_logits, lbl2data_input_ids, lbl2data_data2ptr, **kwargs)\n",
    "            dr_loss = self.rep_lfn(data_repr, lbl2data_repr, lbl2data_data2ptr, lbl2data_idx, \n",
    "                                   plbl2data_data2ptr, plbl2data_idx, **kwargs)\n",
    "            loss = dr_loss + self.lw*lm_loss\n",
    "            \n",
    "            meta_inputs = self._get_meta_inputs(**kwargs)\n",
    "            if isinstance(self.m_lw, float):\n",
    "                meta_lw = self.m_lw/len(meta_inputs) if len(meta_inputs) else None\n",
    "                meta_lw = [meta_lw]*len(meta_inputs)\n",
    "            else:\n",
    "                if len(self.m_lw) != len(meta_inputs): raise ValueError(f'length of `m_lw` should be equal to number of metadata.')\n",
    "                meta_lw = self.m_lw\n",
    "                \n",
    "            for m,m_lw in zip(meta_inputs.values(), meta_lw):\n",
    "                if 'lbl2data2ptr' in m:\n",
    "                    valid_idx = torch.where(m['lbl2data2ptr'])[0]\n",
    "                    if len(valid_idx) > 0:\n",
    "                        o, logits, rep = encoder(m['input_ids'], m['attention_mask'])\n",
    "                        m_lml = self.gen_lfn(lbl2data_logits[valid_idx], m['input_ids'], m['lbl2data2ptr'][valid_idx], **kwargs)\n",
    "                        m_drl = self.rep_lfn(lbl2data_repr[valid_idx], rep, m['lbl2data2ptr'][valid_idx], m['idx'], \n",
    "                                             m['plbl2data2ptr'][valid_idx], m['pidx'], **kwargs)\n",
    "                        loss += m_lw * (m_drl + self.lw* m_lml)\n",
    "                        \n",
    "                elif 'data2ptr' in m:\n",
    "                    valid_idx = torch.where(m['data2ptr'])[0]\n",
    "                    if len(valid_idx) > 0:\n",
    "                        o, logits, rep = encoder(m['input_ids'], m['attention_mask'])\n",
    "                        m_lml = self.gen_lfn(data_logits[valid_idx], m['input_ids'], m['data2ptr'][valid_idx], **kwargs)\n",
    "                        m_drl = self.rep_lfn(data_repr[valid_idx], rep, m['data2ptr'][valid_idx], m['idx'], \n",
    "                                             m['pdata2ptr'][valid_idx], m['pidx'], **kwargs)\n",
    "                        loss += m_lw * (m_drl + self.lw*m_lml) \n",
    "                        \n",
    "                else: raise ValueError('Invalid metadata input arguments.')\n",
    "            \n",
    "        if not return_dict:\n",
    "            o = (data_logits,data_repr,lbl2data_repr) + data_o[2:]\n",
    "            return ((loss,lm_loss,dr_loss) + o) if loss is not None else o\n",
    "        \n",
    "        return XCModelOutput(\n",
    "            loss=loss,\n",
    "            lm_loss=lm_loss,\n",
    "            dr_loss=dr_loss,\n",
    "            logits=data_logits,\n",
    "            data_repr=data_repr,\n",
    "            lbl2data_repr=lbl2data_repr,\n",
    "            data_hidden_states=data_o.hidden_states,\n",
    "            data_attentions=data_o.attentions,\n",
    "        )\n",
    "    "
   ]
  },
  {
   "cell_type": "markdown",
   "id": "cc4754ea",
   "metadata": {},
   "source": [
    "### Example"
   ]
  },
  {
   "cell_type": "code",
   "execution_count": null,
   "id": "013fa2b0",
   "metadata": {},
   "outputs": [
    {
     "name": "stderr",
     "output_type": "stream",
     "text": [
      "Some weights of DBT017 were not initialized from the model checkpoint at distilbert-base-uncased and are newly initialized: ['encoder.dr_layer_norm.bias', 'encoder.dr_layer_norm.weight', 'encoder.dr_projector.bias', 'encoder.dr_projector.weight', 'encoder.dr_transform.bias', 'encoder.dr_transform.weight']\n",
      "You should probably TRAIN this model on a down-stream task to be able to use it for predictions and inference.\n"
     ]
    }
   ],
   "source": [
    "m = DBT017.from_pretrained('distilbert-base-uncased', tn_targ=1000, ig_tok=0, margin=0.4, tau=0.7, apply_softmax=True, n_negatives=5, \n",
    "                           lw=0.8, m_lw=[0.1], meta_prefix='cat', use_encoder_parallel=False)\n",
    "\n",
    "b = prepare_batch(m, batch, m_args=['pcat2data_idx', 'pcat2data_data2ptr', 'cat2data_idx', 'cat2data_input_ids', \n",
    "                                    'cat2data_attention_mask', 'cat2data_data2ptr'])"
   ]
  },
  {
   "cell_type": "code",
   "execution_count": null,
   "id": "ea348aae",
   "metadata": {},
   "outputs": [],
   "source": [
    "o = m(**b)"
   ]
  },
  {
   "cell_type": "code",
   "execution_count": null,
   "id": "f8d3e469",
   "metadata": {},
   "outputs": [
    {
     "data": {
      "text/plain": [
       "tensor(11.4427, grad_fn=<AddBackward0>)"
      ]
     },
     "execution_count": null,
     "metadata": {},
     "output_type": "execute_result"
    }
   ],
   "source": [
    "o.loss"
   ]
  },
  {
   "cell_type": "code",
   "execution_count": null,
   "id": "5ba1809d",
   "metadata": {},
   "outputs": [
    {
     "data": {
      "text/plain": [
       "dict_keys(['plbl2data_idx', 'plbl2data_data2ptr', 'lbl2data_idx', 'lbl2data_input_ids', 'lbl2data_attention_mask', 'lbl2data_data2ptr', 'pcat2data_idx', 'pcat2data_data2ptr', 'cat2data_idx', 'cat2data_input_ids', 'cat2data_attention_mask', 'cat2data_data2ptr', 'data_input_ids', 'data_attention_mask'])"
      ]
     },
     "execution_count": null,
     "metadata": {},
     "output_type": "execute_result"
    }
   ],
   "source": [
    "b.keys()"
   ]
  },
  {
   "cell_type": "markdown",
   "id": "bcd59dcb-1439-4d43-aeae-c43f15fba36a",
   "metadata": {},
   "source": [
    "## DBT021"
   ]
  },
  {
   "cell_type": "code",
   "execution_count": null,
   "id": "88bed9e8-dbce-4436-86da-0141a2ac2663",
   "metadata": {},
   "outputs": [],
   "source": [
    "#| export\n",
    "class DBT021Encoder(DistilBertPreTrainedModel):\n",
    "    \n",
    "    def __init__(self, \n",
    "                 config, \n",
    "                 repr_type:Optional[str]='pool', \n",
    "                 *args, **kwargs):\n",
    "        super().__init__(config, *args, **kwargs)\n",
    "        self.distilbert = DistilBertModel(config)\n",
    "        \n",
    "        self.dr_transform = nn.Linear(config.dim, config.dim)\n",
    "        self.dr_layer_norm = nn.LayerNorm(config.dim, eps=1e-12)\n",
    "        self.dr_projector = nn.Linear(config.dim, config.dim)\n",
    "\n",
    "        self.meta_transform = nn.Linear(config.dim, config.dim)\n",
    "        self.meta_layer_norm = nn.LayerNorm(config.dim, eps=1e-12)\n",
    "        self.meta_projector = nn.Linear(config.dim, config.dim)\n",
    "        \n",
    "    def init_dr_head(self):\n",
    "        self.dr_transform.weight.data = torch.eye(self.dr_transform.out_features, self.dr_transform.in_features, \n",
    "                                                  dtype=self.dr_transform.weight.dtype)\n",
    "        self.dr_projector.weight.data = torch.eye(self.dr_projector.out_features, self.dr_projector.in_features, \n",
    "                                                  dtype=self.dr_projector.weight.dtype)\n",
    "\n",
    "        self.meta_transform.weight.data = torch.eye(self.meta_transform.out_features, self.meta_transform.in_features, \n",
    "                                                  dtype=self.meta_transform.weight.dtype)\n",
    "        self.meta_projector.weight.data = torch.eye(self.meta_projector.out_features, self.meta_projector.in_features, \n",
    "                                                    dtype=self.meta_projector.weight.dtype)\n",
    "        \n",
    "    def dr(self, x):\n",
    "        x = self.dr_transform(x)\n",
    "        x = self.dr_layer_norm(x)\n",
    "        x = self.dr_projector(x)\n",
    "        return x\n",
    "\n",
    "    def meta(self, x):\n",
    "        x = self.meta_transform(x)\n",
    "        x = self.meta_layer_norm(x)\n",
    "        x = self.meta_projector(x)\n",
    "        return x\n",
    "        \n",
    "    @delegates(BertModel.__call__)\n",
    "    def forward(\n",
    "        self, \n",
    "        input_ids:Optional[torch.Tensor]=None, \n",
    "        attention_mask:Optional[torch.Tensor]=None,\n",
    "        repr_type:Optional[str]='pool',\n",
    "        input_type:Optional[str]='data',\n",
    "        **kwargs\n",
    "    ):\n",
    "        if repr_type is None: repr_type = self.repr_type\n",
    "            \n",
    "        o = self.distilbert(\n",
    "            input_ids=input_ids,\n",
    "            attention_mask=attention_mask,\n",
    "            **kwargs\n",
    "        )\n",
    "        \n",
    "        if repr_type == 'pool': rep = o[0]\n",
    "        elif repr_type == 'cls': rep, attention_mask = o[0][:,0:1], attention_mask[:,0:1]\n",
    "        elif repr_type == 'tok': rep, attention_mask = o[0][:,1:], attention_mask[:,1:]\n",
    "        else: raise ValueError(f'Invalid representation type `repr_type`({repr_type}).')\n",
    "\n",
    "        if input_type == 'data': rep = self.dr(rep)\n",
    "        elif input_type == 'meta': rep = self.meta(rep)\n",
    "        else: raise ValueError(f'Invalid `input_type`({input_type})')\n",
    "        \n",
    "        return o, F.normalize(Pooling.mean_pooling(rep, attention_mask), dim=1)\n",
    "        "
   ]
  },
  {
   "cell_type": "code",
   "execution_count": null,
   "id": "d29943bd-010a-47ec-a427-b3696c653852",
   "metadata": {},
   "outputs": [],
   "source": [
    "#| export\n",
    "class DBT021(DBT010):\n",
    "\n",
    "    @delegates(DBT010.__init__)\n",
    "    def __init__(self, \n",
    "                 config, \n",
    "                 m_lw:Optional[Union[float,List]]=0.2, \n",
    "                 data_meta_prefix:Optional[str]=None,\n",
    "                 lbl2data_meta_prefix:Optional[str]=None,\n",
    "                 task_repr_type:Optional[str]='pool',\n",
    "                 meta_repr_type:Optional[str]='pool',\n",
    "                 *args, **kwargs):\n",
    "        super().__init__(config, *args, **kwargs)\n",
    "        self.m_lw, self.data_meta_prefix, self.lbl2data_meta_prefix = m_lw, data_meta_prefix, lbl2data_meta_prefix\n",
    "        self.task_repr_type, self.meta_repr_type = task_repr_type, meta_repr_type\n",
    "        \n",
    "        self.encoder = DBT021Encoder(config)\n",
    "        self.post_init()\n",
    "        self.remap_post_init()\n",
    "        \n",
    "    def _get_meta_inputs(self, meta_prefix, **kwargs):\n",
    "        inputs = {}\n",
    "        for t in [o for o in kwargs if meta_prefix is not None and re.match(f'^[p]?{meta_prefix}.*', o)]:\n",
    "            p,q = t.split('_', maxsplit=1)\n",
    "            if t[0] == 'p': inputs.setdefault(p[1:], {})[f'p{q}'] = kwargs[t]\n",
    "            else: inputs.setdefault(p, {})[q] = kwargs[t]\n",
    "        return inputs\n",
    "\n",
    "    def _get_meta_loss_weights(self, m_lw, n_meta_inputs):\n",
    "        if isinstance(m_lw, float):\n",
    "            meta_lw = m_lw/n_meta_inputs if n_meta_inputs else None\n",
    "            meta_lw = [meta_lw]*n_meta_inputs\n",
    "        else:\n",
    "            if len(m_lw) != n_meta_inputs: raise ValueError(f'length of `m_lw` should be equal to number of metadata.')\n",
    "            meta_lw = m_lw\n",
    "        return meta_lw\n",
    "\n",
    "    def compute_meta_loss(self, data_repr, lbl2data_repr, **kwargs):\n",
    "        if self.use_encoder_parallel: \n",
    "            encoder = nn.DataParallel(module=self.encoder)\n",
    "        else: encoder = self.encoder\n",
    "\n",
    "        data_meta_inputs = self._get_meta_inputs(self.data_meta_prefix, **kwargs)\n",
    "        lbl2data_meta_inputs = self._get_meta_inputs(self.lbl2data_meta_prefix, **kwargs)\n",
    "        meta_inputs = {**data_meta_inputs, **lbl2data_meta_inputs}\n",
    "        \n",
    "        m_lw = self._get_meta_loss_weights(self.m_lw, len(meta_inputs))\n",
    "        \n",
    "        loss = 0.0\n",
    "        for inputs,lw in zip(meta_inputs.values(), m_lw):\n",
    "            if 'lbl2data2ptr' in inputs:\n",
    "                idx = torch.where(inputs['lbl2data2ptr'])[0]\n",
    "                if len(idx) > 0:\n",
    "                    inputs_o = encoder(input_ids=inputs['input_ids'],\n",
    "                                       attention_mask=inputs['attention_mask'], \n",
    "                                       input_type=\"meta\", repr_type=self.meta_repr_type)\n",
    "                    m_loss = self.loss_fn(lbl2data_repr[idx], inputs_o[1], inputs['lbl2data2ptr'][idx],\n",
    "                                          inputs['idx'], inputs['plbl2data2ptr'][idx], inputs['pidx'])\n",
    "                    loss += lw * m_loss\n",
    "\n",
    "            elif 'data2ptr' in inputs:\n",
    "                idx = torch.where(inputs['data2ptr'])[0]\n",
    "                if len(idx) > 0:\n",
    "                    inputs_o = encoder(input_ids=inputs['input_ids'], \n",
    "                                       attention_mask=inputs['attention_mask'], \n",
    "                                       input_type=\"meta\", repr_type=self.meta_repr_type)\n",
    "                    m_loss = self.loss_fn(data_repr[idx], inputs_o[1], inputs['data2ptr'][idx], inputs['idx'], \n",
    "                                          inputs['pdata2ptr'][idx], inputs['pidx'])\n",
    "                    loss += lw * m_loss       \n",
    "\n",
    "            else: raise ValueError('Invalid metadata input arguments.')\n",
    "        return loss\n",
    "        \n",
    "    def forward(\n",
    "        self,\n",
    "        data_input_ids:Optional[torch.Tensor]=None,\n",
    "        data_attention_mask:Optional[torch.Tensor]=None,\n",
    "        lbl2data_data2ptr:Optional[torch.Tensor]=None,\n",
    "        lbl2data_idx:Optional[torch.Tensor]=None,\n",
    "        lbl2data_input_ids:Optional[torch.Tensor]=None,\n",
    "        lbl2data_attention_mask:Optional[torch.Tensor]=None,\n",
    "        plbl2data_data2ptr:Optional[torch.Tensor]=None,\n",
    "        plbl2data_idx:Optional[torch.Tensor]=None,\n",
    "        output_attentions: Optional[bool] = None,\n",
    "        output_hidden_states: Optional[bool] = None,\n",
    "        return_dict: Optional[bool] = None,\n",
    "        **kwargs\n",
    "    ):  \n",
    "        return_dict = return_dict if return_dict is not None else self.config.use_return_dict\n",
    "\n",
    "        if self.use_encoder_parallel: \n",
    "            encoder = nn.DataParallel(module=self.encoder)\n",
    "        else: encoder = self.encoder\n",
    "\n",
    "        data_o, data_repr = encoder(data_input_ids, data_attention_mask, repr_type=self.task_repr_type)\n",
    "        \n",
    "        loss = lbl2data_repr = None\n",
    "        if lbl2data_input_ids is not None:\n",
    "            lbl2data_o, lbl2data_repr = encoder(lbl2data_input_ids, lbl2data_attention_mask, repr_type=self.task_repr_type)\n",
    "            loss = self.loss_fn(data_repr, lbl2data_repr, lbl2data_data2ptr, lbl2data_idx, plbl2data_data2ptr, plbl2data_idx)\n",
    "            loss += self.compute_meta_loss(data_repr, lbl2data_repr, **kwargs)\n",
    "            \n",
    "        if not return_dict:\n",
    "            o = (data_logits,data_repr,lbl2data_repr) + data_o[2:]\n",
    "            return ((loss,lm_loss,dr_loss) + o) if loss is not None else o\n",
    "        \n",
    "        return XCModelOutput(\n",
    "            loss=loss,\n",
    "            dr_loss=loss,\n",
    "            data_repr=data_repr,\n",
    "            lbl2data_repr=lbl2data_repr,\n",
    "            data_hidden_states=data_o.hidden_states,\n",
    "            data_attentions=data_o.attentions,\n",
    "        )\n",
    "    "
   ]
  },
  {
   "cell_type": "markdown",
   "id": "df5609d6-4608-49f9-9cb8-22be787fa65e",
   "metadata": {},
   "source": [
    "### Example"
   ]
  },
  {
   "cell_type": "code",
   "execution_count": null,
   "id": "5aa78b8e-77ed-4616-9e37-d5f7d9410614",
   "metadata": {},
   "outputs": [
    {
     "name": "stderr",
     "output_type": "stream",
     "text": [
      "Some weights of DBT021 were not initialized from the model checkpoint at distilbert-base-uncased and are newly initialized: ['encoder.dr_layer_norm.bias', 'encoder.dr_layer_norm.weight', 'encoder.dr_projector.bias', 'encoder.dr_projector.weight', 'encoder.dr_transform.bias', 'encoder.dr_transform.weight', 'encoder.meta_layer_norm.bias', 'encoder.meta_layer_norm.weight', 'encoder.meta_projector.bias', 'encoder.meta_projector.weight', 'encoder.meta_transform.bias', 'encoder.meta_transform.weight']\n",
      "You should probably TRAIN this model on a down-stream task to be able to use it for predictions and inference.\n"
     ]
    }
   ],
   "source": [
    "m = DBT021.from_pretrained('distilbert-base-uncased', tn_targ=1000, margin=0.3, tau=0.1, apply_softmax=True, n_negatives=5, \n",
    "                           m_lw=[0.1, 0.1], data_meta_prefix='cat2data', lbl2data_meta_prefix='cat2lbl', use_encoder_parallel=False, \n",
    "                           task_repr_type='tok', meta_repr_type='cls')\n",
    "\n",
    "b = prepare_batch(m, batch, m_args=['pcat2data_idx', 'pcat2data_data2ptr', 'cat2data_idx', 'cat2data_input_ids', \n",
    "                                    'cat2data_attention_mask', 'cat2data_data2ptr', \n",
    "                                    'pcat2lbl_idx', 'pcat2lbl_lbl2data2ptr', 'pcat2lbl_data2ptr', 'cat2lbl_idx', 'cat2lbl_input_ids', \n",
    "                                    'cat2lbl_attention_mask', 'cat2lbl_lbl2data2ptr', 'cat2lbl_data2ptr'])"
   ]
  },
  {
   "cell_type": "code",
   "execution_count": null,
   "id": "34c2d6d8-4c2e-4335-9f78-afd0b52bc0b5",
   "metadata": {},
   "outputs": [
    {
     "name": "stderr",
     "output_type": "stream",
     "text": [
      "/scratch/scai/phd/aiz218323/Projects/xcai/xcai/losses.py:22: UserWarning: Sparse CSR tensor support is in beta state. If you miss a functionality in the sparse tensor support, please submit a feature request to https://github.com/pytorch/pytorch/issues. (Triggered internally at ../aten/src/ATen/SparseCsrTensorImpl.cpp:53.)\n",
      "  return torch.sparse_csr_tensor(data_ptr, data_idx, scores, device=data_ptr.device)\n"
     ]
    }
   ],
   "source": [
    "o = m(**b)"
   ]
  },
  {
   "cell_type": "code",
   "execution_count": null,
   "id": "4b52afdc-7066-4442-9980-48536c3c436b",
   "metadata": {},
   "outputs": [
    {
     "data": {
      "text/plain": [
       "tensor(0.0532, grad_fn=<AddBackward0>)"
      ]
     },
     "execution_count": null,
     "metadata": {},
     "output_type": "execute_result"
    }
   ],
   "source": [
    "o.loss"
   ]
  },
  {
   "cell_type": "markdown",
   "id": "3b164f34",
   "metadata": {},
   "source": [
    "## Fuser"
   ]
  },
  {
   "cell_type": "code",
   "execution_count": null,
   "id": "006bfc8c",
   "metadata": {},
   "outputs": [],
   "source": [
    "#| export\n",
    "import math"
   ]
  },
  {
   "cell_type": "code",
   "execution_count": null,
   "id": "7c9b788e",
   "metadata": {},
   "outputs": [],
   "source": [
    "#| export\n",
    "class Fuser(nn.Module):\n",
    "    \n",
    "    def __init__(self, config: PretrainedConfig):\n",
    "        super().__init__()\n",
    "        self.config, self.n_h, self.dim = config, config.n_heads, config.dim\n",
    "        self.dropout = nn.Dropout(p=config.attention_dropout)\n",
    "\n",
    "        if self.dim % self.n_h != 0:\n",
    "            raise ValueError(f\"self.n_heads: {self.n_h} must divide self.dim: {self.dim} evenly.\")\n",
    "            \n",
    "        self.q = nn.Linear(in_features=config.dim, out_features=config.dim)\n",
    "        self.k = nn.Linear(in_features=config.dim, out_features=config.dim)\n",
    "        self.v = nn.Linear(in_features=config.dim, out_features=config.dim)\n",
    "        self.o = nn.Linear(in_features=config.dim, out_features=config.dim)\n",
    "\n",
    "    def forward(\n",
    "        self, \n",
    "        data: torch.Tensor,\n",
    "        data_mask: torch.Tensor,\n",
    "        meta: torch.Tensor, \n",
    "        meta_mask: torch.Tensor,\n",
    "        output_attentions:Optional[bool] = False,\n",
    "    ):\n",
    "        q, k, v, q_m, k_m = data, meta, meta, data_mask, meta_mask\n",
    "        \n",
    "        bs, q_len, dim = q.size()\n",
    "        k_len = k.size(1)\n",
    "\n",
    "        h_dim = self.dim//self.n_h\n",
    "\n",
    "        def shape(x: torch.Tensor): return x.view(bs, -1, self.n_h, h_dim).transpose(1, 2)\n",
    "\n",
    "        def unshape(x: torch.Tensor): return x.transpose(1, 2).contiguous().view(bs, -1, self.n_h * h_dim)\n",
    "\n",
    "        q = shape(self.q(q))  # (bs, n_h, q_len, h_dim)\n",
    "        k = shape(self.k(k))  # (bs, n_h, k_len, h_dim)\n",
    "        v = shape(self.v(v))  # (bs, n_h, k_len, h_dim)\n",
    "\n",
    "        q = q / math.sqrt(h_dim)  # (bs, n_h, q_len, h_dim)\n",
    "        sc = torch.matmul(q, k.transpose(2, 3))  # (bs, n_h, q_len, k_len)\n",
    "        \n",
    "        q_m, k_m = q_m.view(bs, 1, -1, 1).to(q.dtype), k_m.view(bs, 1, 1, -1).to(q.dtype)\n",
    "        mask = torch.matmul(q_m, k_m).expand_as(sc)  # (bs, n_h, q_len, k_len)\n",
    "        \n",
    "        sc = sc.masked_fill(mask.bool(), torch.tensor(torch.finfo(sc.dtype).min))  # (bs, n_h, q_len, k_len)\n",
    "\n",
    "        w = nn.functional.softmax(sc, dim=-1)  # (bs, n_h, q_len, k_len)\n",
    "        w = self.dropout(w)  # (bs, n_h, q_len, k_len)\n",
    "\n",
    "        o = self.o(unshape(torch.matmul(w, v))) # (bs, q_len, dim)\n",
    "        \n",
    "        if output_attentions: return (o, w)\n",
    "        else: return (o,)\n",
    "        "
   ]
  },
  {
   "cell_type": "markdown",
   "id": "053bc68c",
   "metadata": {},
   "source": [
    "### Example"
   ]
  },
  {
   "cell_type": "code",
   "execution_count": null,
   "id": "2d845823",
   "metadata": {},
   "outputs": [],
   "source": [
    "from transformers import AutoConfig"
   ]
  },
  {
   "cell_type": "code",
   "execution_count": null,
   "id": "15eb4958",
   "metadata": {},
   "outputs": [
    {
     "name": "stderr",
     "output_type": "stream",
     "text": [
      "/opt/conda/envs/ptca/lib/python3.9/site-packages/huggingface_hub/file_download.py:1132: FutureWarning: `resume_download` is deprecated and will be removed in version 1.0.0. Downloads always resume when possible. If you want to force a new download, use `force_download=True`.\n",
      "  warnings.warn(\n"
     ]
    }
   ],
   "source": [
    "config = AutoConfig.from_pretrained('distilbert-base-uncased')"
   ]
  },
  {
   "cell_type": "code",
   "execution_count": null,
   "id": "7c4c179b",
   "metadata": {},
   "outputs": [],
   "source": [
    "fuser = Fuser(config)"
   ]
  },
  {
   "cell_type": "code",
   "execution_count": null,
   "id": "738d220b",
   "metadata": {},
   "outputs": [],
   "source": [
    "bsz, data_seq_len, meta_seq_len, dim, dtype = 10, 14, 17, config.dim, torch.float32\n",
    "data, meta = torch.randn(bsz, data_seq_len, dim, dtype=dtype), torch.randn(bsz, meta_seq_len, dim, dtype=dtype)\n",
    "data_mask = torch.randint(0, 2, size=(bsz,data_seq_len), dtype=dtype)\n",
    "meta_mask = torch.randint(0, 2, size=(bsz,meta_seq_len), dtype=dtype)"
   ]
  },
  {
   "cell_type": "code",
   "execution_count": null,
   "id": "482cd37f",
   "metadata": {},
   "outputs": [],
   "source": [
    "o = fuser(data, data_mask, meta, meta_mask)"
   ]
  },
  {
   "cell_type": "code",
   "execution_count": null,
   "id": "46b102d1",
   "metadata": {},
   "outputs": [
    {
     "data": {
      "text/plain": [
       "torch.Size([10, 14, 768])"
      ]
     },
     "execution_count": null,
     "metadata": {},
     "output_type": "execute_result"
    }
   ],
   "source": [
    "o[0].shape"
   ]
  },
  {
   "cell_type": "markdown",
   "id": "cdbdc20f",
   "metadata": {},
   "source": [
    "## DBT018"
   ]
  },
  {
   "cell_type": "code",
   "execution_count": null,
   "id": "19b0687c",
   "metadata": {},
   "outputs": [],
   "source": [
    "#| export\n",
    "from fastcore.utils import *"
   ]
  },
  {
   "cell_type": "code",
   "execution_count": null,
   "id": "c5d33e71",
   "metadata": {},
   "outputs": [],
   "source": [
    "#| export\n",
    "class DBT018Encoder(DBT013Encoder):\n",
    "    \n",
    "    def __init__(self, config, tn_meta:Optional[int]=None):\n",
    "        super().__init__(config)\n",
    "        self.fuser, self.ln = Fuser(config), nn.LayerNorm(config.dim, eps=1e-12)\n",
    "        self.o = torch.ones(tn_meta, dtype=torch.long, device=self.device) if tn_meta is not None else None\n",
    "        \n",
    "        \n",
    "    def _get_meta_inputs(self, meta_prefix:Optional[str]=None, **kwargs):\n",
    "        inputs = {}\n",
    "        for t in [o for o in kwargs if meta_prefix is not None and re.match(f'^[p]?{meta_prefix}.*', o)]:\n",
    "            p,q = t.split('_', maxsplit=1)\n",
    "            if t[0] == 'p': inputs.setdefault(p[1:], {})[f'p{q}'] = kwargs[t]\n",
    "            else: inputs.setdefault(p, {})[q] = kwargs[t]\n",
    "        return inputs\n",
    "    \n",
    "    \n",
    "    def get_output(self, input_ids:Optional[torch.Tensor]=None, attention_mask:Optional[torch.Tensor]=None, \n",
    "                   **kwargs):\n",
    "        return self.distilbert(input_ids=input_ids, attention_mask=attention_mask, **kwargs)\n",
    "    \n",
    "    \n",
    "    def resize_meta(self, meta:torch.Tensor, mask:torch.Tensor, n_data2meta:torch.Tensor):\n",
    "        bsz, dim, tn_data2meta = n_data2meta.shape[0], meta.shape[-1], meta.shape[0]\n",
    "        self.o = self.o.to(meta.device)\n",
    "        o = (\n",
    "            torch.ones(tn_data2meta, dtype=torch.long, device=meta.device) \n",
    "            if self.o is None or len(self.o) < tn_data2meta else self.o[:tn_data2meta]\n",
    "        )\n",
    "\n",
    "        max_n_data2meta = n_data2meta.max()\n",
    "        xn_data2meta = max_n_data2meta-n_data2meta+1\n",
    "\n",
    "        data2meta_ptr = n_data2meta.cumsum(dim=0)-1\n",
    "        r_data2meta = o.scatter(0, data2meta_ptr, xn_data2meta)\n",
    "\n",
    "        xmeta,xmask = meta.repeat_interleave(r_data2meta, dim=0),mask.repeat_interleave(r_data2meta, dim=0)\n",
    "        m = o.scatter(0, data2meta_ptr, 0).repeat_interleave(r_data2meta, dim=0).view(bsz, -1)\n",
    "        m[:, -1] = 1; m = m.view(-1, 1)\n",
    "        xmask *= m\n",
    "\n",
    "        return xmeta,xmask\n",
    "    \n",
    "\n",
    "    def get_meta_fused_output(self, input_ids:Optional[torch.Tensor]=None, attention_mask:Optional[torch.Tensor]=None, \n",
    "                              aug_meta_prefix:Optional[str]=None, **kwargs):\n",
    "        data_h = self.get_output(input_ids, attention_mask)[0]\n",
    "\n",
    "        meta_inputs = self._get_meta_inputs(aug_meta_prefix, **kwargs)\n",
    "        for m in meta_inputs.values():\n",
    "            valid_idx = torch.where(m['data2ptr'] > 0)[0]\n",
    "            if len(valid_idx):\n",
    "                bsz = len(valid_idx)\n",
    "                meta_input_ids, meta_attention_mask = self.resize_meta(m['input_ids'], m['attention_mask'], \n",
    "                                                                       m['data2ptr'][valid_idx])\n",
    "                meta_h = self.get_output(meta_input_ids, meta_attention_mask)[0]\n",
    "\n",
    "                meta_h,meta_attention_mask = meta_h.view(bsz, -1, self.config.dim), meta_attention_mask.view(bsz, -1)\n",
    "\n",
    "                data_h[valid_idx] += self.fuser(data_h[valid_idx], attention_mask[valid_idx], \n",
    "                                                meta_h, meta_attention_mask)[0]\n",
    "\n",
    "        data_h = self.ln(data_h)\n",
    "        return (data_h,)\n",
    "    \n",
    "    \n",
    "    def forward(\n",
    "        self, \n",
    "        data_input_ids:Optional[torch.Tensor]=None, \n",
    "        data_attention_mask:Optional[torch.Tensor]=None, \n",
    "        data_aug_meta_prefix:Optional[str]=None,\n",
    "        **kwargs\n",
    "    ):  \n",
    "        o = self.get_meta_fused_output(\n",
    "            input_ids=data_input_ids,\n",
    "            attention_mask=data_attention_mask,\n",
    "            aug_meta_prefix=data_aug_meta_prefix,\n",
    "            **kwargs\n",
    "        )\n",
    "        torch.cuda.empty_cache()\n",
    "\n",
    "        rep = self.dr_transform(o[0])\n",
    "        rep = self.dr_layer_norm(rep)\n",
    "        rep = self.dr_projector(rep)\n",
    "        rep = F.normalize(Pooling.mean_pooling(rep, data_attention_mask), dim=1)\n",
    "\n",
    "        logits = self.vocab_transform(o[0])\n",
    "        logits = self.activation(logits)\n",
    "        logits = self.vocab_layer_norm(logits)\n",
    "        logits = self.vocab_projector(logits)\n",
    "        \n",
    "        return o,logits,rep\n",
    "    "
   ]
  },
  {
   "cell_type": "code",
   "execution_count": null,
   "id": "9fae7f19",
   "metadata": {},
   "outputs": [],
   "source": [
    "#| export\n",
    "class DBT018(DBT013):\n",
    "    \n",
    "    @delegates(DBT013.__init__)\n",
    "    def __init__(\n",
    "        self, \n",
    "        config, \n",
    "        data_aug_meta_prefix:Optional[List]=None, \n",
    "        lbl2data_aug_meta_prefix:Optional[List]=None, \n",
    "        tn_meta:Optional[int]=None, \n",
    "        **kwargs\n",
    "    ):\n",
    "        super().__init__(config, **kwargs)\n",
    "        store_attr('data_aug_meta_prefix,lbl2data_aug_meta_prefix')\n",
    "        self.encoder = XCDataParallel(module=DBT018Encoder(config, tn_meta))\n",
    "        self.remap_post_init()\n",
    "        \n",
    "    def _get_meta_kwargs(self, feat:str, meta_prefix:Optional[str]=None, **kwargs):\n",
    "        keys = ['attention_mask', 'input_ids']\n",
    "        o = {f'{meta_prefix}_{k}': kwargs[f'{meta_prefix}_{k}'] for k in keys if f'{meta_prefix}_{k}' in kwargs}\n",
    "        if meta_prefix is not None and f'{meta_prefix}_{feat}2ptr' in kwargs:\n",
    "            o.update({f'{meta_prefix}_data2ptr': kwargs[f'{meta_prefix}_{feat}2ptr']})\n",
    "        return o\n",
    "        \n",
    "    def forward(\n",
    "        self,\n",
    "        data_input_ids:Optional[torch.Tensor]=None,\n",
    "        data_attention_mask:Optional[torch.Tensor]=None,\n",
    "        lbl2data_data2ptr:Optional[torch.Tensor]=None,\n",
    "        lbl2data_idx:Optional[torch.Tensor]=None,\n",
    "        lbl2data_input_ids:Optional[torch.Tensor]=None,\n",
    "        lbl2data_attention_mask:Optional[torch.Tensor]=None,\n",
    "        plbl2data_data2ptr:Optional[torch.Tensor]=None,\n",
    "        plbl2data_idx:Optional[torch.Tensor]=None,\n",
    "        output_attentions: Optional[bool] = None,\n",
    "        output_hidden_states: Optional[bool] = None,\n",
    "        return_dict: Optional[bool] = None,\n",
    "        **kwargs\n",
    "    ):  \n",
    "        return_dict = return_dict if return_dict is not None else self.config.use_return_dict\n",
    "        \n",
    "        data_o, data_logits, data_repr = self.encoder(data_input_ids=data_input_ids, \n",
    "                                                      data_attention_mask=data_attention_mask, \n",
    "                                                      data_aug_meta_prefix=self.data_aug_meta_prefix,\n",
    "                                                      **self._get_meta_kwargs('data', self.data_aug_meta_prefix, \n",
    "                                                                              **kwargs))\n",
    "        \n",
    "        loss = lm_loss = dr_loss = lbl2data_repr = None\n",
    "        if lbl2data_input_ids is not None:\n",
    "            lbl2data_o, lbl2data_logits, lbl2data_repr = self.encoder(data_input_ids=lbl2data_input_ids, \n",
    "                                                                      data_attention_mask=lbl2data_attention_mask, \n",
    "                                                                      data_aug_meta_prefix=self.lbl2data_aug_meta_prefix,\n",
    "                                                                      **self._get_meta_kwargs('lbl2data', \n",
    "                                                                                              self.lbl2data_aug_meta_prefix, \n",
    "                                                                                              **kwargs))\n",
    "            \n",
    "            lm_loss = self.gen_lfn(data_logits, lbl2data_input_ids, lbl2data_data2ptr, **kwargs)\n",
    "            dr_loss = self.rep_lfn(data_repr, lbl2data_repr, lbl2data_data2ptr, lbl2data_idx, \n",
    "                                   plbl2data_data2ptr, plbl2data_idx, **kwargs)\n",
    "            loss = dr_loss + self.lw*lm_loss\n",
    "            \n",
    "        if not return_dict:\n",
    "            o = (data_logits,data_repr,lbl2data_repr) + data_o[2:]\n",
    "            return ((loss,lm_loss,dr_loss) + o) if loss is not None else o\n",
    "        \n",
    "        return XCModelOutput(\n",
    "            loss=loss,\n",
    "            lm_loss=lm_loss,\n",
    "            dr_loss=dr_loss,\n",
    "            logits=data_logits,\n",
    "            data_repr=data_repr,\n",
    "            lbl2data_repr=lbl2data_repr,\n",
    "            data_hidden_states=data_o[0],\n",
    "        )\n",
    "    "
   ]
  },
  {
   "cell_type": "markdown",
   "id": "71a9db29",
   "metadata": {},
   "source": [
    "### Example"
   ]
  },
  {
   "cell_type": "code",
   "execution_count": null,
   "id": "7826ff01",
   "metadata": {},
   "outputs": [
    {
     "name": "stderr",
     "output_type": "stream",
     "text": [
      "Some weights of DBT018 were not initialized from the model checkpoint at distilbert-base-uncased and are newly initialized: ['encoder.module.dr_layer_norm.bias', 'encoder.module.dr_layer_norm.weight', 'encoder.module.dr_projector.bias', 'encoder.module.dr_projector.weight', 'encoder.module.dr_transform.bias', 'encoder.module.dr_transform.weight', 'encoder.module.fuser.k.bias', 'encoder.module.fuser.k.weight', 'encoder.module.fuser.o.bias', 'encoder.module.fuser.o.weight', 'encoder.module.fuser.q.bias', 'encoder.module.fuser.q.weight', 'encoder.module.fuser.v.bias', 'encoder.module.fuser.v.weight', 'encoder.module.ln.bias', 'encoder.module.ln.weight']\n",
      "You should probably TRAIN this model on a down-stream task to be able to use it for predictions and inference.\n"
     ]
    }
   ],
   "source": [
    "torch.manual_seed(100)\n",
    "\n",
    "model = DBT018.from_pretrained('distilbert-base-uncased', ig_tok=0, tn_targ=1000, tn_meta=1000, \n",
    "                               margin=0.3, tau=0.1, n_negatives=5, apply_softmax=True, lw=0.01,\n",
    "                               data_aug_meta_prefix='hlk2data', lbl2data_aug_meta_prefix='hlk2lbl')"
   ]
  },
  {
   "cell_type": "code",
   "execution_count": null,
   "id": "c5293525",
   "metadata": {},
   "outputs": [],
   "source": [
    "b = prepare_batch(model, batch, m_args=[\n",
    "    'hlk2data_input_ids', 'hlk2data_attention_mask', 'hlk2data_data2ptr',\n",
    "    'hlk2lbl_input_ids', 'hlk2lbl_attention_mask', 'hlk2lbl_lbl2data2ptr'\n",
    "])"
   ]
  },
  {
   "cell_type": "code",
   "execution_count": null,
   "id": "a06a6927",
   "metadata": {},
   "outputs": [],
   "source": [
    "model = model.to('cuda')"
   ]
  },
  {
   "cell_type": "code",
   "execution_count": null,
   "id": "e515b915",
   "metadata": {},
   "outputs": [],
   "source": [
    "o = model(**b.to(model.device))"
   ]
  },
  {
   "cell_type": "code",
   "execution_count": null,
   "id": "41cc221b",
   "metadata": {},
   "outputs": [
    {
     "data": {
      "text/plain": [
       "tensor(0.1960, device='cuda:0', grad_fn=<AddBackward0>)"
      ]
     },
     "execution_count": null,
     "metadata": {},
     "output_type": "execute_result"
    }
   ],
   "source": [
    "o.loss"
   ]
  },
  {
   "cell_type": "markdown",
   "id": "bbe61e01",
   "metadata": {},
   "source": [
    "## DBT020"
   ]
  },
  {
   "cell_type": "code",
   "execution_count": null,
   "id": "9699a1bb",
   "metadata": {},
   "outputs": [],
   "source": [
    "#| export\n",
    "class DBT020(DBT018):\n",
    "    \n",
    "    @delegates(DBT018.__init__)\n",
    "    def __init__(\n",
    "        self, \n",
    "        config, \n",
    "        m_lw:Optional[Union[List,float]]=0.2, \n",
    "        pred_meta_prefix:Optional[List]=None, \n",
    "        **kwargs\n",
    "    ):\n",
    "        super().__init__(config, **kwargs)\n",
    "        store_attr('m_lw,pred_meta_prefix')\n",
    "        \n",
    "        \n",
    "    def _get_meta_inputs(self, meta_prefix:Optional[str]=None, **kwargs):\n",
    "        inputs = {}\n",
    "        for t in [o for o in kwargs if meta_prefix is not None and re.match(f'^[p]?{meta_prefix}.*', o)]:\n",
    "            p,q = t.split('_', maxsplit=1)\n",
    "            if t[0] == 'p': inputs.setdefault(p[1:], {})[f'p{q}'] = kwargs[t]\n",
    "            else: inputs.setdefault(p, {})[q] = kwargs[t]\n",
    "        return inputs\n",
    "    \n",
    "    \n",
    "    def forward(\n",
    "        self,\n",
    "        data_input_ids:Optional[torch.Tensor]=None,\n",
    "        data_attention_mask:Optional[torch.Tensor]=None,\n",
    "        lbl2data_data2ptr:Optional[torch.Tensor]=None,\n",
    "        lbl2data_idx:Optional[torch.Tensor]=None,\n",
    "        lbl2data_input_ids:Optional[torch.Tensor]=None,\n",
    "        lbl2data_attention_mask:Optional[torch.Tensor]=None,\n",
    "        plbl2data_data2ptr:Optional[torch.Tensor]=None,\n",
    "        plbl2data_idx:Optional[torch.Tensor]=None,\n",
    "        output_attentions: Optional[bool] = None,\n",
    "        output_hidden_states: Optional[bool] = None,\n",
    "        return_dict: Optional[bool] = None,\n",
    "        **kwargs\n",
    "    ):  \n",
    "        return_dict = return_dict if return_dict is not None else self.config.use_return_dict\n",
    "        \n",
    "        data_o, data_logits, data_repr = self.encoder(data_input_ids=data_input_ids, \n",
    "                                                      data_attention_mask=data_attention_mask, \n",
    "                                                      data_aug_meta_prefix=self.data_aug_meta_prefix,\n",
    "                                                      **self._get_meta_kwargs('data', self.data_aug_meta_prefix, \n",
    "                                                                              **kwargs))\n",
    "        \n",
    "        loss = lm_loss = dr_loss = lbl2data_repr = None\n",
    "        if lbl2data_input_ids is not None:\n",
    "            lbl2data_o, lbl2data_logits, lbl2data_repr = self.encoder(data_input_ids=lbl2data_input_ids, \n",
    "                                                                      data_attention_mask=lbl2data_attention_mask, \n",
    "                                                                      data_aug_meta_prefix=self.lbl2data_aug_meta_prefix,\n",
    "                                                                      **self._get_meta_kwargs('lbl2data', \n",
    "                                                                                              self.lbl2data_aug_meta_prefix, \n",
    "                                                                                              **kwargs))\n",
    "            \n",
    "            lm_loss = self.gen_lfn(data_logits, lbl2data_input_ids, lbl2data_data2ptr, **kwargs)\n",
    "            dr_loss = self.rep_lfn(data_repr, lbl2data_repr, lbl2data_data2ptr, lbl2data_idx, \n",
    "                                   plbl2data_data2ptr, plbl2data_idx, **kwargs)\n",
    "            loss = dr_loss + self.lw*lm_loss\n",
    "            \n",
    "            meta_inputs = self._get_meta_inputs(self.pred_meta_prefix, **kwargs)\n",
    "            if isinstance(self.m_lw, float):\n",
    "                meta_lw = self.m_lw/len(meta_inputs) if len(meta_inputs) else None\n",
    "                meta_lw = [meta_lw]*len(meta_inputs)\n",
    "            else:\n",
    "                if len(self.m_lw) != len(meta_inputs): raise ValueError(f'length of `m_lw` should be equal to number of metadata.')\n",
    "                meta_lw = self.m_lw\n",
    "            \n",
    "            for m,m_lw in zip(meta_inputs.values(),meta_lw):\n",
    "                if 'lbl2data2ptr' in m:\n",
    "                    valid_idx = torch.where(m['lbl2data2ptr'])[0]\n",
    "                    if len(valid_idx) > 0:\n",
    "                        o, logits, rep = self.encoder(data_input_ids=m['input_ids'], data_attention_mask=m['attention_mask'])\n",
    "                        m_lml = self.gen_lfn(lbl2data_logits[valid_idx], m['input_ids'], m['lbl2data2ptr'][valid_idx], **kwargs)\n",
    "                        m_drl = self.rep_lfn(lbl2data_repr[valid_idx], rep, m['lbl2data2ptr'][valid_idx], m['idx'], \n",
    "                                             m['plbl2data2ptr'][valid_idx], m['pidx'], **kwargs)\n",
    "                        loss += m_lw * (m_drl + self.lw* m_lml)\n",
    "                        \n",
    "                elif 'data2ptr' in m:\n",
    "                    valid_idx = torch.where(m['data2ptr'])[0]\n",
    "                    if len(valid_idx) > 0:\n",
    "                        o, logits, rep = self.encoder(data_input_ids=m['input_ids'], data_attention_mask=m['attention_mask'])\n",
    "                        m_lml = self.gen_lfn(data_logits[valid_idx], m['input_ids'], m['data2ptr'][valid_idx], **kwargs)\n",
    "                        m_drl = self.rep_lfn(data_repr[valid_idx], rep, m['data2ptr'][valid_idx], m['idx'], \n",
    "                                             m['pdata2ptr'][valid_idx], m['pidx'], **kwargs)\n",
    "                        loss += m_lw * (m_drl + self.lw*m_lml)       \n",
    "                \n",
    "                else: raise ValueError('Invalid metadata input arguments.')\n",
    "            \n",
    "        if not return_dict:\n",
    "            o = (data_logits,data_repr,lbl2data_repr) + data_o[2:]\n",
    "            return ((loss,lm_loss,dr_loss) + o) if loss is not None else o\n",
    "        \n",
    "        return XCModelOutput(\n",
    "            loss=loss,\n",
    "            lm_loss=lm_loss,\n",
    "            dr_loss=dr_loss,\n",
    "            logits=data_logits,\n",
    "            data_repr=data_repr,\n",
    "            lbl2data_repr=lbl2data_repr,\n",
    "            data_hidden_states=data_o[0],\n",
    "        )\n",
    "    "
   ]
  },
  {
   "cell_type": "markdown",
   "id": "cf0ac047",
   "metadata": {},
   "source": [
    "### Example"
   ]
  },
  {
   "cell_type": "code",
   "execution_count": null,
   "id": "83878fdd",
   "metadata": {},
   "outputs": [
    {
     "name": "stderr",
     "output_type": "stream",
     "text": [
      "Some weights of DBT020 were not initialized from the model checkpoint at distilbert-base-uncased and are newly initialized: ['encoder.module.dr_layer_norm.bias', 'encoder.module.dr_layer_norm.weight', 'encoder.module.dr_projector.bias', 'encoder.module.dr_projector.weight', 'encoder.module.dr_transform.bias', 'encoder.module.dr_transform.weight', 'encoder.module.fuser.k.bias', 'encoder.module.fuser.k.weight', 'encoder.module.fuser.o.bias', 'encoder.module.fuser.o.weight', 'encoder.module.fuser.q.bias', 'encoder.module.fuser.q.weight', 'encoder.module.fuser.v.bias', 'encoder.module.fuser.v.weight', 'encoder.module.ln.bias', 'encoder.module.ln.weight']\n",
      "You should probably TRAIN this model on a down-stream task to be able to use it for predictions and inference.\n"
     ]
    }
   ],
   "source": [
    "model = DBT020.from_pretrained('distilbert-base-uncased', ig_tok=0, tn_targ=10_000, tn_meta=10_000, \n",
    "                               margin=0.3, tau=0.1, n_negatives=5, apply_softmax=True, lw=0.01,\n",
    "                               pred_meta_prefix='cat', data_aug_meta_prefix='hlk2data', \n",
    "                               lbl2data_aug_meta_prefix='hlk2lbl', m_lw=0.3)"
   ]
  },
  {
   "cell_type": "code",
   "execution_count": null,
   "id": "82bb8e3d",
   "metadata": {},
   "outputs": [],
   "source": [
    "model = model.to('cuda')"
   ]
  },
  {
   "cell_type": "code",
   "execution_count": null,
   "id": "1836d5d3",
   "metadata": {},
   "outputs": [],
   "source": [
    "b = prepare_batch(model, batch, m_args=[\n",
    "    'pcat2data_idx', 'pcat2data_data2ptr', 'cat2data_idx', 'cat2data_input_ids', 'cat2data_attention_mask', \n",
    "    'cat2data_data2ptr',\n",
    "    'pcat2lbl_idx', 'pcat2lbl_lbl2data2ptr', 'pcat2lbl_data2ptr', 'cat2lbl_idx', 'cat2lbl_input_ids', \n",
    "    'cat2lbl_attention_mask', 'cat2lbl_lbl2data2ptr',\n",
    "    \n",
    "    'hlk2data_input_ids', 'hlk2data_attention_mask', 'hlk2data_data2ptr',\n",
    "    'hlk2lbl_input_ids', 'hlk2lbl_attention_mask', 'hlk2lbl_lbl2data2ptr'\n",
    "])"
   ]
  },
  {
   "cell_type": "code",
   "execution_count": null,
   "id": "dc59dc30",
   "metadata": {},
   "outputs": [],
   "source": [
    "o = model(**b.to(model.device))"
   ]
  },
  {
   "cell_type": "code",
   "execution_count": null,
   "id": "92473f4c",
   "metadata": {},
   "outputs": [
    {
     "data": {
      "text/plain": [
       "tensor(0.2606, device='cuda:0', grad_fn=<AddBackward0>)"
      ]
     },
     "execution_count": null,
     "metadata": {},
     "output_type": "execute_result"
    }
   ],
   "source": [
    "o.loss"
   ]
  },
  {
   "cell_type": "code",
   "execution_count": null,
   "id": "7eea0f97",
   "metadata": {},
   "outputs": [
    {
     "data": {
      "text/plain": [
       "True"
      ]
     },
     "execution_count": null,
     "metadata": {},
     "output_type": "execute_result"
    }
   ],
   "source": [
    "hasattr(model, 'encoder')"
   ]
  },
  {
   "cell_type": "code",
   "execution_count": null,
   "id": "45ebfd24",
   "metadata": {},
   "outputs": [],
   "source": []
  }
 ],
 "metadata": {
  "kernelspec": {
   "display_name": "Python 3 (ipykernel)",
   "language": "python",
   "name": "python3"
  },
  "language_info": {
   "codemirror_mode": {
    "name": "ipython",
    "version": 3
   },
   "file_extension": ".py",
   "mimetype": "text/x-python",
   "name": "python",
   "nbconvert_exporter": "python",
   "pygments_lexer": "ipython3",
   "version": "3.10.16"
  }
 },
 "nbformat": 4,
 "nbformat_minor": 5
}
