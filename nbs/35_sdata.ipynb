{
 "cells": [
  {
   "cell_type": "markdown",
   "id": "646426c7-93f9-4c40-adeb-7b04b74501a2",
   "metadata": {},
   "source": [
    "# SData"
   ]
  },
  {
   "cell_type": "code",
   "execution_count": 1,
   "id": "89d09450-d08f-4b8c-988c-547430250692",
   "metadata": {},
   "outputs": [],
   "source": [
    "#| default_exp sdata"
   ]
  },
  {
   "cell_type": "code",
   "execution_count": 2,
   "id": "b0d26b05-a557-4b6f-9500-f668a8d57b01",
   "metadata": {},
   "outputs": [],
   "source": [
    "#| hide\n",
    "%load_ext autoreload \n",
    "%autoreload 2"
   ]
  },
  {
   "cell_type": "code",
   "execution_count": 17,
   "id": "a57087ab-f73b-47e5-bf51-494691acb16f",
   "metadata": {},
   "outputs": [],
   "source": [
    "#| export\n",
    "import torch\n",
    "\n",
    "from xcai.data import MainXCData, MetaXCData\n",
    "from xcai.data import BaseXCDataset, MainXCDataset, MetaXCDataset, MetaXCDatasets\n",
    "\n",
    "from fastcore.utils import *\n",
    "from fastcore.meta import *"
   ]
  },
  {
   "cell_type": "code",
   "execution_count": 4,
   "id": "752b92f9-98ac-4b2c-9c35-cc889d59b44b",
   "metadata": {},
   "outputs": [],
   "source": [
    "#| hide\n",
    "from nbdev.showdoc import *\n",
    "import nbdev; nbdev.nbdev_export()"
   ]
  },
  {
   "cell_type": "markdown",
   "id": "e5dc7eb4-9022-4c05-abb9-3c056fb00cc6",
   "metadata": {},
   "source": [
    "## Data"
   ]
  },
  {
   "cell_type": "code",
   "execution_count": 39,
   "id": "ef80bda6-674a-4597-9dfd-fafa01f330ef",
   "metadata": {},
   "outputs": [],
   "source": [
    "dset_dir = f'/home/scai/phd/aiz218323/Projects/XC/data/(mapped)LF-WikiSeeAlsoTitles-320K'\n",
    "data_cfg = {\n",
    "    'info_column_names': ['identifier', 'input_text'],\n",
    "    'use_tokenizer': True,\n",
    "    'tokenizer': 'bert-base-uncased',\n",
    "    'tokenization_column': 'input_text',\n",
    "    'max_sequence_length': 32,\n",
    "    'padding': True,\n",
    "    'return_tensors': 'pt',\n",
    "}"
   ]
  },
  {
   "cell_type": "code",
   "execution_count": null,
   "id": "065e4bbf-0c93-4c30-9d96-e27a10822624",
   "metadata": {},
   "outputs": [],
   "source": [
    "train_cfg = {\n",
    "    'data_lbl': f'{dset_dir}/trn_X_Y.txt',\n",
    "    'data_info': f'{dset_dir}/raw_data/train.raw.txt',\n",
    "    'lbl_info': f'{dset_dir}/raw_data/label.raw.txt',\n",
    "    'data_lbl_filterer': f'{dset_dir}/filter_labels_train.txt',\n",
    "}\n",
    "train_data = MainXCData.from_file(**train_cfg, **data_cfg)"
   ]
  },
  {
   "cell_type": "code",
   "execution_count": null,
   "id": "3a79c584-be9a-48bc-a740-242d6168bb47",
   "metadata": {},
   "outputs": [],
   "source": [
    "meta_cfg = {\n",
    "    'prefix': 'hlk',\n",
    "    'data_meta': f'{dset_dir}/hyper_link_trn_X_Y.txt',\n",
    "    'lbl_meta': f'{dset_dir}/hyper_link_lbl_X_Y.txt',\n",
    "    'meta_info': f'{dset_dir}/raw_data/hyper_link.raw.txt',\n",
    "}\n",
    "meta_data = MetaXCData.from_file(**meta_cfg, **data_cfg)"
   ]
  },
  {
   "cell_type": "code",
   "execution_count": 40,
   "id": "c7bd28b7-d91c-4c41-bafa-9bcec00ff6f2",
   "metadata": {},
   "outputs": [],
   "source": [
    "#| export\n",
    "def identity_collate_fn(batch): return batch"
   ]
  },
  {
   "cell_type": "markdown",
   "id": "78df2464-461a-4389-99d6-23abf6d6eafa",
   "metadata": {},
   "source": [
    "## SDataset"
   ]
  },
  {
   "cell_type": "markdown",
   "id": "26266ee9-e981-41e3-b485-69ddd17d60af",
   "metadata": {
    "jp-MarkdownHeadingCollapsed": true
   },
   "source": [
    "### `SMainXCDataset`"
   ]
  },
  {
   "cell_type": "code",
   "execution_count": 7,
   "id": "9a0d1d23-3b05-4516-b48d-bd81ef6299b6",
   "metadata": {},
   "outputs": [],
   "source": [
    "#| export\n",
    "class SMainXCDataset(MainXCDataset):\n",
    "\n",
    "    def __init__(\n",
    "        self,\n",
    "        n_slbl_samples:Optional[int]=1,\n",
    "        main_oversample:Optional[bool]=False,\n",
    "        **kwargs\n",
    "    ):\n",
    "        super().__init__(**kwargs)\n",
    "        store_attr('n_slbl_samples,main_oversample')\n",
    "\n",
    "    def __getitems__(self, idxs:List):\n",
    "        x = {'data_idx': torch.tensor(idxs, dtype=torch.int64)}\n",
    "        x.update(self.get_info('data', idxs, self.data_info, self.data_info_keys))\n",
    "        if self.n_lbl is not None:\n",
    "            prefix = 'lbl2data'\n",
    "            o = self.extract_items(prefix, self.curr_data_lbl, idxs, self.n_lbl_samples, self.n_slbl_samples, self.main_oversample, \n",
    "                                   self.lbl_info, self.lbl_info_keys)\n",
    "            x.update(o)\n",
    "        return x\n",
    "\n",
    "    @classmethod\n",
    "    @delegates(MainXCData.from_file)\n",
    "    def from_file(\n",
    "        cls, \n",
    "        n_lbl_samples:Optional[int]=None,\n",
    "        data_info_keys:Optional[List]=None,\n",
    "        lbl_info_keys:Optional[List]=None,\n",
    "        n_slbl_samples:Optional[int]=1,\n",
    "        main_oversample:Optional[bool]=False,\n",
    "        **kwargs\n",
    "    ):\n",
    "        return cls(**MainXCData.from_file(**kwargs), n_lbl_samples=n_lbl_samples, data_info_keys=data_info_keys, \n",
    "                   lbl_info_keys=lbl_info_keys, n_slbl_samples=n_slbl_samples, main_oversample=main_oversample)\n",
    "    "
   ]
  },
  {
   "cell_type": "code",
   "execution_count": 37,
   "id": "6d419592-0300-469b-96e6-ef5f6ea61806",
   "metadata": {},
   "outputs": [],
   "source": [
    "#| export\n",
    "@patch\n",
    "def _getitems(cls:MainXCDataset, idxs:List):\n",
    "    return MainXCDataset(\n",
    "        {k:[v[idx] for idx in idxs] for k,v in cls.data_info.items()}, \n",
    "        data_lbl=cls.data_lbl[idxs] if cls.data_lbl is not None else None, \n",
    "        lbl_info=cls.lbl_info, \n",
    "        data_lbl_filterer=Filterer.sample(cls.data_lbl_filterer, sz=cls.data_lbl.shape, idx=idxs) if cls.data_lbl_filterer is not None else None,\n",
    "        n_lbl_samples=cls.n_lbl_samples,\n",
    "        data_info_keys=cls.data_info_keys,\n",
    "        lbl_info_keys=cls.lbl_info_keys,\n",
    "        n_slbl_samples=cls.n_slbl_samples,\n",
    "        main_oversample=cls.main_oversample,\n",
    "    )\n",
    "    "
   ]
  },
  {
   "cell_type": "markdown",
   "id": "0bf32d6c-ecb1-4af8-a070-ebb82b5c11d6",
   "metadata": {
    "jp-MarkdownHeadingCollapsed": true
   },
   "source": [
    "#### Example"
   ]
  },
  {
   "cell_type": "code",
   "execution_count": null,
   "id": "8d1d1a90-f3ae-44b2-bd20-1866331886ef",
   "metadata": {},
   "outputs": [],
   "source": [
    "train_main = SMainXCDataset(**train_data, n_slbl_samples=2)"
   ]
  },
  {
   "cell_type": "code",
   "execution_count": null,
   "id": "2a3dba53-bb5d-4494-a123-3a3b38a71532",
   "metadata": {},
   "outputs": [],
   "source": [
    "train_main.__getitems__([100, 200])"
   ]
  },
  {
   "cell_type": "code",
   "execution_count": null,
   "id": "e6a8ce8c-3933-4bdf-834c-cb38acfc615c",
   "metadata": {},
   "outputs": [],
   "source": [
    "train_main.oversample = True\n",
    "train_main.n_slbl_samples = 3"
   ]
  },
  {
   "cell_type": "code",
   "execution_count": null,
   "id": "dd63c977-2561-4b86-b0bb-8b88339fce6e",
   "metadata": {},
   "outputs": [],
   "source": [
    "def func():\n",
    "    import pdb; pdb.set_trace()\n",
    "    train_main.__getitems__([1,2,3,4])\n",
    "    "
   ]
  },
  {
   "cell_type": "code",
   "execution_count": null,
   "id": "8db7cbd3-cd4e-4f08-b4f6-4e26db6185ab",
   "metadata": {},
   "outputs": [],
   "source": [
    "train_dl = DataLoader(train_main, batch_size=10, collate_fn=identity_collate_fn)\n",
    "batch = next(iter(train_dl))"
   ]
  },
  {
   "cell_type": "code",
   "execution_count": null,
   "id": "138603c1-ccec-4fc9-91d5-4470d4ff8bb9",
   "metadata": {},
   "outputs": [],
   "source": [
    "tokz = AutoTokenizer.from_pretrained(data_cfg['tokenizer'])"
   ]
  },
  {
   "cell_type": "code",
   "execution_count": null,
   "id": "11fc2eef-e8f7-47ad-becc-30e910f9bd9e",
   "metadata": {},
   "outputs": [],
   "source": [
    "batch['plbl2data_data2ptr']"
   ]
  },
  {
   "cell_type": "code",
   "execution_count": null,
   "id": "57589218-fc9d-44c3-aea3-60992791b52e",
   "metadata": {},
   "outputs": [],
   "source": [
    "tokz.batch_decode(batch['data_input_ids'])"
   ]
  },
  {
   "cell_type": "markdown",
   "id": "e63ff3e2-a50b-41e3-a53f-be9cb818a402",
   "metadata": {
    "jp-MarkdownHeadingCollapsed": true
   },
   "source": [
    "### `SMetaXCDataset`"
   ]
  },
  {
   "cell_type": "code",
   "execution_count": 13,
   "id": "f4215992-e99e-4fc3-b20c-4b639f547517",
   "metadata": {},
   "outputs": [],
   "source": [
    "#| export\n",
    "class SMetaXCDataset(MetaXCDataset):\n",
    "\n",
    "    def __init__(\n",
    "        self,\n",
    "        n_sdata_meta_samples:Optional[int]=1,\n",
    "        n_slbl_meta_samples:Optional[int]=1,\n",
    "        meta_oversample:Optional[bool]=False,\n",
    "        **kwargs\n",
    "    ):\n",
    "        super().__init__(**kwargs)\n",
    "        store_attr('n_sdata_meta_samples,n_slbl_meta_samples,meta_oversample')\n",
    "\n",
    "    def _getitems(self, idxs:List):\n",
    "        return SMetaXCDataset(prefix=self.prefix, data_meta=self.data_meta[idxs], lbl_meta=self.lbl_meta, meta_info=self.meta_info, \n",
    "                              n_data_meta_samples=self.n_data_meta_samples, n_lbl_meta_samples=self.n_lbl_meta_samples, \n",
    "                              meta_info_keys=self.meta_info_keys, n_sdata_meta_samples=self.n_sdata_meta_samples, \n",
    "                              n_slbl_meta_samples=self.n_slbl_meta_samples, meta_oversample=self.meta_oversample)\n",
    "\n",
    "    def _sample_meta_items(self, idxs:List):\n",
    "        assert max(idxs) < self.n_meta, f\"indices should be less than {self.n_meta}\"\n",
    "        meta_info = {k: [v[i] for i in idxs] for k,v in self.meta_info.items()}\n",
    "        return SMetaXCDataset(prefix=self.prefix, data_meta=self.data_meta[:, idxs], lbl_meta=self.lbl_meta[:, idxs], meta_info=meta_info, \n",
    "                              n_data_meta_samples=self.n_data_meta_samples, n_lbl_meta_samples=self.n_lbl_meta_samples,\n",
    "                              meta_info_keys=self.meta_info_keys, n_sdata_meta_samples=self.n_sdata_meta_samples, \n",
    "                              n_slbl_meta_samples=self.n_slbl_meta_samples, meta_oversample=self.meta_oversample)\n",
    "        \n",
    "    @classmethod\n",
    "    @delegates(MetaXCData.from_file)\n",
    "    def from_file(\n",
    "        cls, \n",
    "        n_data_meta_samples:Optional[int]=None, \n",
    "        n_lbl_meta_samples:Optional[int]=None, \n",
    "        meta_info_keys:Optional[List]=None,\n",
    "        n_sdata_meta_samples:Optional[int]=1,\n",
    "        n_slbl_meta_samples:Optional[int]=1,\n",
    "        meta_oversample:Optional[bool]=False,\n",
    "        **kwargs\n",
    "    ):\n",
    "        return cls(**MetaXCData.from_file(**kwargs), n_data_meta_samples=n_data_meta_samples, n_lbl_meta_samples=n_lbl_meta_samples, \n",
    "                   meta_info_keys=meta_info_keys, n_sdata_meta_samples=n_sdata_meta_samples, n_slbl_meta_samples=n_slbl_meta_samples,\n",
    "                   meta_oversample=meta_oversample)\n",
    "\n",
    "    def get_data_meta(self, idxs:List):\n",
    "        x, prefix = dict(), f'{self.prefix}2data'\n",
    "        o = self.extract_items(prefix, self.curr_data_meta, idxs, self.n_data_meta_samples, self.n_sdata_meta_samples, \n",
    "                               self.meta_oversample, self.meta_info, self.meta_info_keys)\n",
    "        x.update(o)\n",
    "        return x\n",
    "        \n",
    "    def get_lbl_meta(self, idxs:List):\n",
    "        x, prefix = dict(), f'{self.prefix}2lbl'\n",
    "        o = self.extract_items(prefix, self.curr_lbl_meta, idxs, self.n_lbl_meta_samples, self.n_slbl_meta_samples, \n",
    "                               self.meta_oversample, self.meta_info, self.meta_info_keys)\n",
    "        x.update(o)\n",
    "        return x\n",
    "        "
   ]
  },
  {
   "cell_type": "markdown",
   "id": "96b40080-e07e-4d00-929f-77247cf2f1d2",
   "metadata": {
    "jp-MarkdownHeadingCollapsed": true
   },
   "source": [
    "#### Example"
   ]
  },
  {
   "cell_type": "code",
   "execution_count": null,
   "id": "f456f40c-89f4-445f-b3c2-1f74ed54b9f7",
   "metadata": {},
   "outputs": [],
   "source": [
    "train_meta = SMetaXCDataset(**meta_data, n_sdata_meta_samples=2, n_slbl_meta_samples=2)"
   ]
  },
  {
   "cell_type": "code",
   "execution_count": null,
   "id": "182a9b58-8edd-4dd6-b78b-5d0df121bd19",
   "metadata": {},
   "outputs": [],
   "source": [
    "train_meta.meta_oversample = True\n",
    "train_meta.n_sdata_meta_samples = 3\n",
    "train_meta.n_slbl_meta_samples = 3"
   ]
  },
  {
   "cell_type": "code",
   "execution_count": null,
   "id": "d418f48e-3278-4f39-9f6d-62c4f408c00f",
   "metadata": {},
   "outputs": [],
   "source": [
    "train_meta.get_data_meta([100, 200])"
   ]
  },
  {
   "cell_type": "code",
   "execution_count": null,
   "id": "73b58370-cc74-4605-9932-acc737beea93",
   "metadata": {},
   "outputs": [],
   "source": [
    "train_meta.get_lbl_meta([101, 201])"
   ]
  },
  {
   "cell_type": "markdown",
   "id": "47c371b7-6fd2-4561-be7a-790ce4695f59",
   "metadata": {},
   "source": [
    "### `SXCDataset`"
   ]
  },
  {
   "cell_type": "code",
   "execution_count": 38,
   "id": "e0e4cf79-14dc-4228-b00b-b1d0f22be966",
   "metadata": {},
   "outputs": [],
   "source": [
    "#| export\n",
    "class SXCDataset(BaseXCDataset):\n",
    "\n",
    "    def __init__(self, data:SMainXCDataset, **kwargs):\n",
    "        super().__init__()\n",
    "        self.data, self.meta = data, MetaXCDatasets({k:kwargs[k] for k in self.get_meta_args(**kwargs) if isinstance(kwargs[k], SMetaXCDataset)})\n",
    "        self._verify_inputs()\n",
    "\n",
    "    def _getitems(self, idxs:List):\n",
    "        return SXCDataset(self.data._getitems(idxs), **{k:meta._getitems(idxs) for k,meta in self.meta.items()})\n",
    "        \n",
    "    @classmethod\n",
    "    @delegates(SMainXCDataset.from_file)\n",
    "    def from_file(cls, **kwargs):\n",
    "        data = SMainXCDataset.from_file(**kwargs)\n",
    "        meta_kwargs = {o:kwargs.pop(o) for o in cls.get_meta_args(**kwargs)}\n",
    "        meta = {k:SMetaXCDataset.from_file(**v, **kwargs) for k,v in meta_kwargs.items()}\n",
    "        return cls(data, **meta)\n",
    "\n",
    "    @staticmethod\n",
    "    def get_meta_args(**kwargs):\n",
    "        return [k for k in kwargs if re.match(r'.*_meta$', k)]\n",
    "\n",
    "    def _verify_inputs(self):\n",
    "        self.n_data, self.n_lbl = self.data.n_data, self.data.n_lbl\n",
    "        if len(self.meta):\n",
    "            self.n_meta = len(self.meta)\n",
    "            for meta in self.meta.values():\n",
    "                if meta.n_data != self.n_data: \n",
    "                    raise ValueError(f'`meta`({meta.n_data}) and `data`({self.n_data}) should have the same number of datapoints.')\n",
    "                if self.n_lbl is not None and meta.n_lbl != self.n_lbl: \n",
    "                    raise ValueError(f'`meta`({meta.n_lbl}) and `data`({self.n_lbl}) should have the same number of labels.')\n",
    "\n",
    "    def __getitems__(self, idxs:List):\n",
    "        x = self.data.__getitems__(idxs)\n",
    "        if self.n_meta:\n",
    "            for meta in self.meta.values():\n",
    "                x.update(meta.get_data_meta(idxs))\n",
    "                if self.n_lbl:\n",
    "                    z = meta.get_lbl_meta(x['lbl2data_idx'])\n",
    "                    z[f'{meta.prefix}2lbl_data2ptr'] = torch.tensor([o.sum() for o in z[f'{meta.prefix}2lbl_lbl2ptr'].split_with_sizes(z[f'lbl2data_data2ptr'].tolist())])\n",
    "        return x\n",
    "\n",
    "    @property\n",
    "    def lbl_info(self): return self.data.lbl_info\n",
    "\n",
    "    @property\n",
    "    def lbl_dset(self): return SMainXCDataset(self.data.lbl_info)\n",
    "\n",
    "    @property\n",
    "    def data_info(self): return self.data.data_info\n",
    "\n",
    "    @property\n",
    "    def data_dset(self): return SMainXCDataset(self.data.data_info) \n",
    "\n",
    "    def one_batch(self, bsz:Optional[int]=10, seed:Optional[int]=None):\n",
    "        if seed is not None: torch.manual_seed(seed)\n",
    "        idxs = list(torch.randperm(len(self)).numpy())[:bsz]\n",
    "        return [self[idx] for idx in idxs]\n",
    "       "
   ]
  },
  {
   "cell_type": "code",
   "execution_count": null,
   "id": "843f7b30-5711-4893-95af-d60ae28431dc",
   "metadata": {},
   "outputs": [],
   "source": []
  },
  {
   "cell_type": "code",
   "execution_count": null,
   "id": "bc7f4e65-ec24-4ccd-b549-b294710f355d",
   "metadata": {},
   "outputs": [],
   "source": []
  },
  {
   "cell_type": "code",
   "execution_count": null,
   "id": "34af6a17-4677-4432-b1e1-5b20ea85bf98",
   "metadata": {},
   "outputs": [],
   "source": []
  },
  {
   "cell_type": "code",
   "execution_count": null,
   "id": "0ebfa06c-8951-4807-b596-274c7a7ca2fc",
   "metadata": {},
   "outputs": [],
   "source": []
  },
  {
   "cell_type": "code",
   "execution_count": null,
   "id": "a2698e0e-046a-495b-b33f-0537a16f8af0",
   "metadata": {},
   "outputs": [],
   "source": []
  },
  {
   "cell_type": "code",
   "execution_count": null,
   "id": "f62edaf2-0481-45b8-aa9b-8b9d36521382",
   "metadata": {},
   "outputs": [],
   "source": []
  }
 ],
 "metadata": {
  "kernelspec": {
   "display_name": "Python 3 (ipykernel)",
   "language": "python",
   "name": "python3"
  },
  "language_info": {
   "codemirror_mode": {
    "name": "ipython",
    "version": 3
   },
   "file_extension": ".py",
   "mimetype": "text/x-python",
   "name": "python",
   "nbconvert_exporter": "python",
   "pygments_lexer": "ipython3",
   "version": "3.9.19"
  }
 },
 "nbformat": 4,
 "nbformat_minor": 5
}
