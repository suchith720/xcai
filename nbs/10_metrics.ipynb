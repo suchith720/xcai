{
 "cells": [
  {
   "cell_type": "code",
   "execution_count": 1,
   "id": "ef25bd2f-eee4-42a0-a3e3-86ad8b1259c3",
   "metadata": {},
   "outputs": [],
   "source": [
    "#| default_exp metrics"
   ]
  },
  {
   "cell_type": "code",
   "execution_count": 2,
   "id": "d3ba035d-ff42-4069-b063-12f5945aaf48",
   "metadata": {},
   "outputs": [],
   "source": [
    "#| hide\n",
    "%load_ext autoreload\n",
    "%autoreload 2"
   ]
  },
  {
   "cell_type": "code",
   "execution_count": 2,
   "id": "6b9b155c-5dd0-4930-9e19-e9d56ded67f6",
   "metadata": {},
   "outputs": [],
   "source": [
    "#| hide\n",
    "from nbdev.showdoc import *\n",
    "import nbdev; nbdev.nbdev_export()"
   ]
  },
  {
   "cell_type": "code",
   "execution_count": 17,
   "id": "22807816-bf26-455d-b9e7-214289c51aad",
   "metadata": {},
   "outputs": [],
   "source": [
    "#| export\n",
    "import torch, numpy as np, scipy.sparse as sp\n",
    "from collections import OrderedDict\n",
    "\n",
    "from fastcore.utils import *\n",
    "from fastcore.meta import *\n",
    "\n",
    "import xclib.evaluation.xc_metrics as xm\n",
    "from xclib.utils.sparse import rank, binarize"
   ]
  },
  {
   "cell_type": "markdown",
   "id": "a3f6be53-e456-4f46-ad93-c6fa47b9881f",
   "metadata": {},
   "source": [
    "## XCMetric"
   ]
  },
  {
   "cell_type": "code",
   "execution_count": 8,
   "id": "886e3bab-54f8-4543-8b89-fe41f7166bb6",
   "metadata": {},
   "outputs": [],
   "source": [
    "#| export\n",
    "class XCMetric:\n",
    "\n",
    "    def __init__(self, func, n_lbl:int, filterer:Optional[Union[np.array,sp.csr_matrix]]=None, **kwargs):\n",
    "        self.func, self.n_lbl, self.filterer, self.kwargs = func, n_lbl, filterer, kwargs\n",
    "\n",
    "    def reset(self):\n",
    "        self.output = []\n",
    "\n",
    "    def accumulate(self, **kwargs):\n",
    "        self.output.append(kwargs)\n",
    "\n",
    "    def __call__(self, **kwargs):\n",
    "        self.reset()\n",
    "        self.accumulate(**kwargs)\n",
    "        return self.value\n",
    "\n",
    "    def apply_filter(self, data):\n",
    "        if self.filterer is not None:\n",
    "            data[self.filterer[:,0], self.filterer[:,1]] = 0\n",
    "            data.eliminate_zeros()\n",
    "        return data\n",
    "\n",
    "    def get_pred(self, output):\n",
    "        data = (output['pred_score'], output['pred_idx'], output['pred_ptr'])\n",
    "        pred = sp.csr_matrix(data, shape=(len(data[2])-1, self.n_lbl))\n",
    "        pred.sum_duplicates()\n",
    "        return self.apply_filter(pred)\n",
    "\n",
    "    def get_targ(self, output):\n",
    "        data = (torch.full((len(output['targ_idx']),), 1), output['targ_idx'], output['targ_ptr'])\n",
    "        targ = sp.csr_matrix(data, shape=(len(data[2])-1, self.n_lbl))\n",
    "        targ.sum_duplicates()\n",
    "        return self.apply_filter(targ)\n",
    "    \n",
    "    @property\n",
    "    def value(self):\n",
    "        if len(self.output) == 0: return\n",
    "        output = {k:torch.cat([o[k] for o in self.output]) for k in self.output[0]}\n",
    "        output['targ_ptr'] = torch.cat([torch.tensor([0]), output['targ_ptr'].cumsum(dim=0)])\n",
    "        output['pred_ptr'] = torch.cat([torch.tensor([0]), output['pred_ptr'].cumsum(dim=0)])\n",
    "        \n",
    "        pred, targ = self.get_pred(output), self.get_targ(output)\n",
    "        return self.func(pred, targ, **self.kwargs)\n"
   ]
  },
  {
   "cell_type": "code",
   "execution_count": 9,
   "id": "0bc0a46b-146a-4e9f-bd93-590617b5fcf3",
   "metadata": {},
   "outputs": [],
   "source": [
    "#| export\n",
    "def precision(inp:sp.csr_matrix, \n",
    "              targ:sp.csr_matrix, \n",
    "              prop:sp.csr_matrix=None, \n",
    "              k:Optional[int]=5, \n",
    "              pa:Optional[float]=0.55, \n",
    "              pb:Optional[float]=1.5, \n",
    "              repk:Optional[List]=None):\n",
    "    \n",
    "    name = ['P', 'N'] if prop is None else ['P', 'N', 'PSP', 'PSN']\n",
    "    repk = [k] if repk is None else set(repk+[k])\n",
    "    prop = None if prop is None else xm.compute_inv_propesity(prop, A=pa, B=pb)\n",
    "    \n",
    "    metric = xm.Metrics(true_labels=targ, inv_psp=prop)\n",
    "    prec = metric.eval(inp, k)\n",
    "    return {f'{n}@{r}': prec[i][r-1] for i,n in enumerate(name) for r in repk if r <= k}\n",
    "    "
   ]
  },
  {
   "cell_type": "code",
   "execution_count": 10,
   "id": "daea0911-4bf2-4146-a80c-294a6dabbcdc",
   "metadata": {},
   "outputs": [],
   "source": [
    "#| export\n",
    "@delegates(precision)\n",
    "def Precision(n_lbl, filterer=None, **kwargs):\n",
    "    return XCMetric(precision, n_lbl, filterer, **kwargs)\n",
    "    "
   ]
  },
  {
   "cell_type": "code",
   "execution_count": 11,
   "id": "8e6d8183-bf88-46a4-a80a-32c0c2decc65",
   "metadata": {},
   "outputs": [],
   "source": [
    "#| export\n",
    "def recall(inp:sp.csr_matrix, \n",
    "           targ:sp.csr_matrix, \n",
    "           k:Optional[int]=5, \n",
    "           repk:Optional[List]=None):\n",
    "    \n",
    "    repk = [k] if repk is None else set(repk+[k])\n",
    "    recl = xm.recall(inp, targ, k=k)\n",
    "    return {f'R@{o}':recl[o-1] for o in repk if o <= k}\n",
    "    "
   ]
  },
  {
   "cell_type": "code",
   "execution_count": 12,
   "id": "a58bd01b-da7c-42ab-bc45-9080adcdb060",
   "metadata": {},
   "outputs": [],
   "source": [
    "#| export\n",
    "@delegates(precision)\n",
    "def Recall(n_lbl, filterer=None, **kwargs):\n",
    "    return XCMetric(recall, n_lbl, filterer, **kwargs)\n",
    "    "
   ]
  },
  {
   "cell_type": "code",
   "execution_count": 13,
   "id": "fdebb469-a1ef-4dcb-a1ab-66e8ef2525e5",
   "metadata": {},
   "outputs": [],
   "source": [
    "#| export\n",
    "def prec_recl(inp:sp.csr_matrix, \n",
    "              targ:sp.csr_matrix,\n",
    "              prop:sp.csr_matrix=None,\n",
    "              pa:Optional[float]=0.55,\n",
    "              pb:Optional[float]=1.5,\n",
    "              pk:Optional[int]=5,\n",
    "              rep_pk:Optional[List]=None,\n",
    "              rk:Optional[int]=5,\n",
    "              rep_rk:Optional[List]=None):\n",
    "    metric = precision(inp, targ, prop, k=pk, pa=pa, pb=pb, repk=rep_pk)\n",
    "    metric.update(recall(inp, targ, k=rk, repk=rep_rk))\n",
    "    return metric\n",
    "    "
   ]
  },
  {
   "cell_type": "code",
   "execution_count": 37,
   "id": "a0e1ed65-a11b-4b00-8923-bc0683e1afc0",
   "metadata": {},
   "outputs": [],
   "source": [
    "#| export\n",
    "@delegates(prec_recl)\n",
    "def PrecRecl(n_lbl, filterer=None, **kwargs):\n",
    "    return XCMetric(prec_recl, n_lbl, filterer, **kwargs)\n",
    "    "
   ]
  },
  {
   "cell_type": "code",
   "execution_count": 38,
   "id": "706c052f-2ba1-4f6c-84f5-02190b4363f5",
   "metadata": {},
   "outputs": [],
   "source": [
    "def mrr_bier(\n",
    "    qrels: dict[str, dict[str, int]],\n",
    "    results: dict[str, dict[str, float]],\n",
    "    k_values: list[int],\n",
    "    output_type: str = \"mean\",\n",
    ") -> tuple[dict[str, float]]:\n",
    "    MRR = {}\n",
    "\n",
    "    for k in k_values:\n",
    "        MRR[f\"MRR@{k}\"] = []\n",
    "\n",
    "    k_max, top_hits = max(k_values), {}\n",
    "\n",
    "    for query_id, doc_scores in results.items():\n",
    "        top_hits[query_id] = sorted(\n",
    "            doc_scores.items(), key=lambda item: item[1], reverse=True\n",
    "        )[0:k_max]\n",
    "\n",
    "    for query_id in top_hits:\n",
    "        query_relevant_docs = {\n",
    "            doc_id for doc_id in qrels[query_id] if qrels[query_id][doc_id] > 0\n",
    "        }\n",
    "        for k in k_values:\n",
    "            rr = 0\n",
    "            for rank, hit in enumerate(top_hits[query_id][0:k]):\n",
    "                if hit[0] in query_relevant_docs:\n",
    "                    rr = 1.0 / (rank + 1)\n",
    "                    break\n",
    "            MRR[f\"MRR@{k}\"].append(rr)\n",
    "\n",
    "    if output_type == \"mean\":\n",
    "        for k in k_values:\n",
    "            MRR[f\"MRR@{k}\"] = round(sum(MRR[f\"MRR@{k}\"]) / len(qrels), 5)\n",
    "\n",
    "    elif output_type == \"all\":\n",
    "        pass\n",
    "\n",
    "    return MRR\n",
    "\n",
    "def mrr(inp:sp.csr_matrix,\n",
    "        targ:sp.csr_matrix,\n",
    "        k:Optional[List]=[10]):\n",
    "    assert inp.shape[0] == targ.shape[0]\n",
    "    assert inp.shape[1] == targ.shape[1]\n",
    "\n",
    "    qrels, results = dict(), dict()\n",
    "\n",
    "    for i in range(inp.shape[0]):\n",
    "        results[i] = {k:v for k,v in zip(inp[i].indices, inp[i].data)}\n",
    "        qrels[i] = {i:1.0 for i in targ[i].indices}\n",
    "\n",
    "    return mrr_bier(qrels, results, k_values=k)\n",
    "    "
   ]
  },
  {
   "cell_type": "code",
   "execution_count": 39,
   "id": "2e8a0392-260a-4747-86d4-d43b8c3987f5",
   "metadata": {},
   "outputs": [],
   "source": [
    "#| export\n",
    "def mrr(inp:sp.csr_matrix,\n",
    "        targ:sp.csr_matrix,\n",
    "        k:Optional[List]=[10]):\n",
    "    ranks, targ = rank(inp), binarize(targ)\n",
    "    metric = dict()\n",
    "    for i in sorted(k, reverse=True):\n",
    "        rs = ranks.copy()\n",
    "        rs.data[rs.data > i] = 0.0\n",
    "        rs.eliminate_zeros()\n",
    "        rs = rs.multiply(targ)\n",
    "        rs.data = 1.0/rs.data\n",
    "        metric[f'MRR@{i}'] = rs.max(axis=1).mean()\n",
    "    return metric\n",
    "\n",
    "@delegates(mrr)\n",
    "def Mrr(n_lbl, filterer=None, **kwargs):\n",
    "    return XCMetric(mrr, n_lbl, filterer, **kwargs)\n",
    "    "
   ]
  },
  {
   "cell_type": "code",
   "execution_count": 40,
   "id": "55f2ca77-f37d-4e8c-b871-41f6a1f1cd41",
   "metadata": {},
   "outputs": [],
   "source": [
    "#| export\n",
    "def prec_recl_mrr(inp:sp.csr_matrix,\n",
    "        targ:sp.csr_matrix,\n",
    "        prop:sp.csr_matrix=None,\n",
    "        pa:Optional[float]=0.55,\n",
    "        pb:Optional[float]=1.5,\n",
    "        pk:Optional[int]=5,\n",
    "        rep_pk:Optional[List]=None,\n",
    "        rk:Optional[int]=5,\n",
    "        rep_rk:Optional[List]=None,\n",
    "        mk:Optional[List]=[10]):\n",
    "    metric = prec_recl(inp, targ, prop=prop, pa=pa, pb=pb, pk=pk, rep_pk=rep_pk,\n",
    "            rk=rk, rep_rk=rep_rk)\n",
    "    metric.update(mrr(inp, targ, k=mk))\n",
    "    return metric\n",
    "\n",
    "@delegates(prec_recl_mrr)\n",
    "def PrecReclMrr(n_lbl, filterer=None, **kwargs):\n",
    "    return XCMetric(prec_recl_mrr, n_lbl, filterer, **kwargs)\n"
   ]
  },
  {
   "cell_type": "code",
   "execution_count": 42,
   "id": "f5d3f0e1-0375-4677-b720-6fac2367ddcb",
   "metadata": {},
   "outputs": [],
   "source": [
    "#| export\n",
    "def sort_xc_metrics(metric):\n",
    "    order = {'P':1, 'N':2, 'PSP':3, 'PSN':4, 'R':5, 'PSR':6}\n",
    "    def get_key(a,b): return (order.get(a,7), int(b)) \n",
    "    def sort_fn(k): return get_key(*k.split('@'))\n",
    "    \n",
    "    ord_metric = OrderedDict()\n",
    "    for k in sorted(metric, key=sort_fn): metric[k] = ord_metric[k]\n",
    "    return ord_metric\n",
    "    "
   ]
  },
  {
   "cell_type": "markdown",
   "id": "d148e0ca-643d-42fd-a3cb-7cd96ae42289",
   "metadata": {},
   "source": [
    "### Example"
   ]
  },
  {
   "cell_type": "code",
   "execution_count": 43,
   "id": "eb4b4d9b-220a-4706-8b48-e52354cb6147",
   "metadata": {},
   "outputs": [],
   "source": [
    "output = {}\n",
    "output['targ_idx'] = torch.tensor([1, 3, 5, 6, 9])\n",
    "output['targ_ptr'] = torch.tensor([2, 2, 1])\n",
    "\n",
    "output['pred_idx'] = torch.tensor([1, 2, 5, 5, 6, 9])\n",
    "output['pred_score'] = torch.tensor([0.5, 0.4, 0.2, 0.3, 0.1, 0.6])\n",
    "output['pred_ptr'] = torch.tensor([3, 2, 1])\n",
    "\n",
    "filterer = np.array([[0, 3]])"
   ]
  },
  {
   "cell_type": "code",
   "execution_count": 44,
   "id": "dea958f7-9903-4377-acf0-a71da4d2e76f",
   "metadata": {},
   "outputs": [],
   "source": [
    "m = PrecRecl(10, filterer, pk=10, rk=20, rep_pk=[1, 3, 5, 10], rep_rk=[10, 15, 20])"
   ]
  },
  {
   "cell_type": "code",
   "execution_count": 49,
   "id": "202f2c87-0fd6-442d-a16e-3e1c32851033",
   "metadata": {},
   "outputs": [],
   "source": [
    "m = PrecReclMrr(10, filterer, pk=10, rk=20, rep_pk=[1, 3, 5, 10], rep_rk=[10, 15, 20], mk=[5, 10])"
   ]
  },
  {
   "cell_type": "code",
   "execution_count": 50,
   "id": "0532a897-289c-42fd-badc-41741255ce44",
   "metadata": {},
   "outputs": [
    {
     "data": {
      "text/plain": [
       "{'P@1': 1.0,\n",
       " 'P@10': 0.13333333333333333,\n",
       " 'P@3': 0.4444444444444444,\n",
       " 'P@5': 0.26666666666666666,\n",
       " 'N@1': 1.0,\n",
       " 'N@10': 1.0,\n",
       " 'N@3': 1.0,\n",
       " 'N@5': 1.0,\n",
       " 'R@10': 1.0,\n",
       " 'R@20': 1.0,\n",
       " 'R@15': 1.0,\n",
       " 'MRR@10': 1.0,\n",
       " 'MRR@5': 1.0}"
      ]
     },
     "execution_count": 50,
     "metadata": {},
     "output_type": "execute_result"
    }
   ],
   "source": [
    "m(**output)"
   ]
  },
  {
   "cell_type": "code",
   "execution_count": null,
   "id": "a15f1a7d-6f35-4b2c-8eb8-bcb1c25b8559",
   "metadata": {},
   "outputs": [],
   "source": []
  }
 ],
 "metadata": {
  "kernelspec": {
   "display_name": "Python 3 (ipykernel)",
   "language": "python",
   "name": "python3"
  },
  "language_info": {
   "codemirror_mode": {
    "name": "ipython",
    "version": 3
   },
   "file_extension": ".py",
   "mimetype": "text/x-python",
   "name": "python",
   "nbconvert_exporter": "python",
   "pygments_lexer": "ipython3",
   "version": "3.9.19"
  }
 },
 "nbformat": 4,
 "nbformat_minor": 5
}
