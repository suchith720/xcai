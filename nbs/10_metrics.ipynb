{
 "cells": [
  {
   "cell_type": "code",
   "execution_count": null,
   "id": "ef25bd2f-eee4-42a0-a3e3-86ad8b1259c3",
   "metadata": {},
   "outputs": [],
   "source": [
    "#| default_exp metrics"
   ]
  },
  {
   "cell_type": "code",
   "execution_count": null,
   "id": "d3ba035d-ff42-4069-b063-12f5945aaf48",
   "metadata": {},
   "outputs": [],
   "source": [
    "#| hide\n",
    "%load_ext autoreload\n",
    "%autoreload 2"
   ]
  },
  {
   "cell_type": "code",
   "execution_count": null,
   "id": "6b9b155c-5dd0-4930-9e19-e9d56ded67f6",
   "metadata": {},
   "outputs": [],
   "source": [
    "#| hide\n",
    "from nbdev.showdoc import *\n",
    "import nbdev; nbdev.nbdev_export()"
   ]
  },
  {
   "cell_type": "code",
   "execution_count": null,
   "id": "22807816-bf26-455d-b9e7-214289c51aad",
   "metadata": {},
   "outputs": [],
   "source": [
    "#| export\n",
    "import torch, numpy as np\n",
    "from collections import OrderedDict\n",
    "from scipy import sparse\n",
    "from fastcore.utils import *\n",
    "from fastcore.meta import *\n",
    "from fastai.metrics import AccumMetric\n",
    "import xclib.evaluation.xc_metrics as xm"
   ]
  },
  {
   "cell_type": "markdown",
   "id": "a3f6be53-e456-4f46-ad93-c6fa47b9881f",
   "metadata": {},
   "source": [
    "## XCMetric"
   ]
  },
  {
   "cell_type": "code",
   "execution_count": null,
   "id": "886e3bab-54f8-4543-8b89-fe41f7166bb6",
   "metadata": {},
   "outputs": [],
   "source": [
    "#| export\n",
    "class XCMetric:\n",
    "\n",
    "    def __init__(self, func, n_lbl:int, filterer:Optional[Union[np.array,sparse.csr_matrix]]=None, **kwargs):\n",
    "        self.func, self.n_lbl, self.filterer, self.kwargs = func, n_lbl, filterer, kwargs\n",
    "\n",
    "    def reset(self):\n",
    "        self.output = []\n",
    "\n",
    "    def accumulate(self, **kwargs):\n",
    "        self.output.append(kwargs)\n",
    "\n",
    "    def __call__(self, **kwargs):\n",
    "        self.reset()\n",
    "        self.accumulate(**kwargs)\n",
    "        return self.value\n",
    "\n",
    "    def apply_filter(self, data):\n",
    "        if self.filterer is not None:\n",
    "            data[self.filterer[:,0], self.filterer[:,1]] = 0\n",
    "            data.eliminate_zeros()\n",
    "        return data\n",
    "\n",
    "    def get_pred(self, output):\n",
    "        data = (output['pred_score'], output['pred_idx'], output['pred_ptr'])\n",
    "        pred = sparse.csr_matrix(data, shape=(len(data[2])-1, self.n_lbl))\n",
    "        pred.sum_duplicates()\n",
    "        return self.apply_filter(pred)\n",
    "\n",
    "    def get_targ(self, output):\n",
    "        data = (torch.full((len(output['targ_idx']),), 1), output['targ_idx'], output['targ_ptr'])\n",
    "        targ = sparse.csr_matrix(data, shape=(len(data[2])-1, self.n_lbl))\n",
    "        targ.sum_duplicates()\n",
    "        return self.apply_filter(targ)\n",
    "    \n",
    "    @property\n",
    "    def value(self):\n",
    "        if len(self.output) == 0: return\n",
    "        output = {k:torch.cat([o[k] for o in self.output]) for k in self.output[0]}\n",
    "        output['targ_ptr'] = torch.cat([torch.tensor([0]), output['targ_ptr'].cumsum(dim=0)])\n",
    "        output['pred_ptr'] = torch.cat([torch.tensor([0]), output['pred_ptr'].cumsum(dim=0)])\n",
    "        \n",
    "        pred, targ = self.get_pred(output), self.get_targ(output)\n",
    "        return self.func(pred, targ, **self.kwargs)\n"
   ]
  },
  {
   "cell_type": "code",
   "execution_count": null,
   "id": "0bc0a46b-146a-4e9f-bd93-590617b5fcf3",
   "metadata": {},
   "outputs": [],
   "source": [
    "#| export\n",
    "def precision(inp:sparse.csr_matrix, \n",
    "              targ:sparse.csr_matrix, \n",
    "              prop:sparse.csr_matrix=None, \n",
    "              k:Optional[int]=5, \n",
    "              pa:Optional[float]=0.55, \n",
    "              pb:Optional[float]=1.5, \n",
    "              repk:Optional[List]=None):\n",
    "    \n",
    "    name = ['P', 'N'] if prop is None else ['P', 'N', 'PSP', 'PSN']\n",
    "    repk = [k] if repk is None else set(repk+[k])\n",
    "    prop = None if prop is None else xm.compute_inv_propesity(prop, A=pa, B=pb)\n",
    "    \n",
    "    metric = xm.Metrics(true_labels=targ, inv_psp=prop)\n",
    "    prec = metric.eval(inp, k)\n",
    "    return {f'{n}@{r}': prec[i][r-1] for i,n in enumerate(name) for r in repk if r <= k}\n",
    "    "
   ]
  },
  {
   "cell_type": "code",
   "execution_count": null,
   "id": "daea0911-4bf2-4146-a80c-294a6dabbcdc",
   "metadata": {},
   "outputs": [],
   "source": [
    "#| export\n",
    "@delegates(precision)\n",
    "def Precision(n_lbl, filterer=None, **kwargs):\n",
    "    return XCMetric(precision, n_lbl, filterer, **kwargs)\n",
    "    "
   ]
  },
  {
   "cell_type": "code",
   "execution_count": null,
   "id": "8e6d8183-bf88-46a4-a80a-32c0c2decc65",
   "metadata": {},
   "outputs": [],
   "source": [
    "#| export\n",
    "def recall(inp:sparse.csr_matrix, \n",
    "           targ:sparse.csr_matrix, \n",
    "           k:Optional[int]=5, \n",
    "           repk:Optional[List]=None):\n",
    "    \n",
    "    repk = [k] if repk is None else set(repk+[k])\n",
    "    recl = xm.recall(inp, targ, k=k)\n",
    "    return {f'R@{o}':recl[o-1] for o in repk if o <= k}\n",
    "    "
   ]
  },
  {
   "cell_type": "code",
   "execution_count": null,
   "id": "a58bd01b-da7c-42ab-bc45-9080adcdb060",
   "metadata": {},
   "outputs": [],
   "source": [
    "#| export\n",
    "@delegates(precision)\n",
    "def Recall(n_lbl, filterer=None, **kwargs):\n",
    "    return XCMetric(recall, n_lbl, filterer, **kwargs)\n",
    "    "
   ]
  },
  {
   "cell_type": "code",
   "execution_count": null,
   "id": "fdebb469-a1ef-4dcb-a1ab-66e8ef2525e5",
   "metadata": {},
   "outputs": [],
   "source": [
    "#| export\n",
    "def prec_recl(inp:sparse.csr_matrix, \n",
    "              targ:sparse.csr_matrix,\n",
    "              prop:sparse.csr_matrix=None,\n",
    "              pa:Optional[float]=0.55,\n",
    "              pb:Optional[float]=1.5,\n",
    "              pk:Optional[int]=5,\n",
    "              rep_pk:Optional[List]=None,\n",
    "              rk:Optional[int]=5,\n",
    "              rep_rk:Optional[List]=None):\n",
    "    metric = precision(inp, targ, prop, k=pk, pa=pa, pb=pb, repk=rep_pk)\n",
    "    metric.update(recall(inp, targ, k=rk, repk=rep_rk))\n",
    "    return metric\n",
    "    "
   ]
  },
  {
   "cell_type": "code",
   "execution_count": null,
   "id": "a0e1ed65-a11b-4b00-8923-bc0683e1afc0",
   "metadata": {},
   "outputs": [],
   "source": [
    "#| export\n",
    "@delegates(prec_recl)\n",
    "def PrecRecl(n_lbl, filterer=None, **kwargs):\n",
    "    return XCMetric(prec_recl, n_lbl, filterer, **kwargs)\n",
    "    "
   ]
  },
  {
   "cell_type": "code",
   "execution_count": null,
   "id": "f5d3f0e1-0375-4677-b720-6fac2367ddcb",
   "metadata": {},
   "outputs": [],
   "source": [
    "#| export\n",
    "def sort_xm(xm):\n",
    "    _ord = {'P':1, 'N':2, 'PSP':3, 'PSN':4, 'R':5, 'PSR':6}\n",
    "    def _map(a,b): return (_ord.get(a,7), int(b)) \n",
    "    def sort_fn(k): return _map(*k.split('@'))\n",
    "    \n",
    "    m = OrderedDict()\n",
    "    for k in sorted(xm, key=sort_fn): m[k] = xm[k]\n",
    "    return m\n",
    "    "
   ]
  },
  {
   "cell_type": "markdown",
   "id": "d148e0ca-643d-42fd-a3cb-7cd96ae42289",
   "metadata": {},
   "source": [
    "### Example"
   ]
  },
  {
   "cell_type": "code",
   "execution_count": null,
   "id": "eb4b4d9b-220a-4706-8b48-e52354cb6147",
   "metadata": {},
   "outputs": [],
   "source": [
    "output = {}\n",
    "output['targ_idx'] = torch.tensor([1, 3, 5, 6, 9])\n",
    "output['targ_ptr'] = torch.tensor([2, 2, 1])\n",
    "\n",
    "output['pred_idx'] = torch.tensor([1, 2, 5, 5, 6, 9])\n",
    "output['pred_score'] = torch.tensor([0.5, 0.4, 0.2, 0.3, 0.1, 0.6])\n",
    "output['pred_ptr'] = torch.tensor([3, 2, 1])\n",
    "\n",
    "filterer = np.array([[0, 3]])"
   ]
  },
  {
   "cell_type": "code",
   "execution_count": null,
   "id": "dea958f7-9903-4377-acf0-a71da4d2e76f",
   "metadata": {},
   "outputs": [],
   "source": [
    "m = PrecRecl(10, filterer, pk=10, rk=20, rep_pk=[1, 3, 5, 10], rep_rk=[10, 15, 20])"
   ]
  },
  {
   "cell_type": "code",
   "execution_count": null,
   "id": "0532a897-289c-42fd-badc-41741255ce44",
   "metadata": {},
   "outputs": [
    {
     "name": "stderr",
     "output_type": "stream",
     "text": [
      "/scratch/scai/phd/aiz218323/anaconda3/envs/xc_nlg/lib/python3.9/site-packages/scipy/sparse/_index.py:145: SparseEfficiencyWarning: Changing the sparsity structure of a csr_matrix is expensive. lil_matrix is more efficient.\n",
      "  self._set_arrayXarray(i, j, x)\n"
     ]
    },
    {
     "data": {
      "text/plain": [
       "{'P@1': 1.0,\n",
       " 'P@10': 0.13333333333333333,\n",
       " 'P@3': 0.4444444444444444,\n",
       " 'P@5': 0.26666666666666666,\n",
       " 'N@1': 1.0,\n",
       " 'N@10': 1.0,\n",
       " 'N@3': 1.0,\n",
       " 'N@5': 1.0,\n",
       " 'R@10': 1.0,\n",
       " 'R@20': 1.0,\n",
       " 'R@15': 1.0}"
      ]
     },
     "execution_count": null,
     "metadata": {},
     "output_type": "execute_result"
    }
   ],
   "source": [
    "m(**output)"
   ]
  },
  {
   "cell_type": "code",
   "execution_count": null,
   "id": "a15f1a7d-6f35-4b2c-8eb8-bcb1c25b8559",
   "metadata": {},
   "outputs": [],
   "source": []
  }
 ],
 "metadata": {
  "kernelspec": {
   "display_name": "python3",
   "language": "python",
   "name": "python3"
  }
 },
 "nbformat": 4,
 "nbformat_minor": 5
}
