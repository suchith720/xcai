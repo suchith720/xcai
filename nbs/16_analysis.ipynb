{
 "cells": [
  {
   "cell_type": "markdown",
   "id": "b2941ced-d510-44a9-9fe6-51fd14a7a026",
   "metadata": {},
   "source": [
    "# analysis"
   ]
  },
  {
   "cell_type": "code",
   "execution_count": null,
   "id": "85b8e731-bfa1-4333-8e64-ed97ea853102",
   "metadata": {},
   "outputs": [],
   "source": [
    "#| default_exp analysis"
   ]
  },
  {
   "cell_type": "code",
   "execution_count": null,
   "id": "2ea5ff9e-0fe2-4a17-ae40-b23139ed212b",
   "metadata": {},
   "outputs": [],
   "source": []
  },
  {
   "cell_type": "code",
   "execution_count": null,
   "id": "735b2680-c11b-4080-a004-527dee3b6d6b",
   "metadata": {},
   "outputs": [
    {
     "name": "stderr",
     "output_type": "stream",
     "text": [
      "comet_ml is installed but `COMET_API_KEY` is not set.\n"
     ]
    }
   ],
   "source": [
    "#| export\n",
    "import os,torch, torch.multiprocessing as mp, pickle, numpy as np, re\n",
    "from typing import Optional, Dict, List, Tuple\n",
    "from torch.utils.data import Dataset\n",
    "from scipy import sparse\n",
    "import matplotlib.pyplot as plt\n",
    "\n",
    "from fastcore.dispatch import *\n",
    "\n",
    "from xcai.basics import *\n",
    "from xcai.data import *\n",
    "\n",
    "import xclib.utils.sparse as xc_sparse\n",
    "import xclib.evaluation.xc_metrics as xc_metrics\n",
    "import xclib.data.data_utils as du \n",
    "\n",
    "from IPython.display import HTML"
   ]
  },
  {
   "cell_type": "code",
   "execution_count": null,
   "id": "adcfc5ef-762f-427f-93b3-8569a8696ace",
   "metadata": {},
   "outputs": [],
   "source": [
    "#| hide\n",
    "from nbdev.showdoc import *\n",
    "import nbdev; nbdev.nbdev_export()"
   ]
  },
  {
   "cell_type": "markdown",
   "id": "656cd55c-608c-4671-8884-9ae504fd30c1",
   "metadata": {},
   "source": [
    "## Metric"
   ]
  },
  {
   "cell_type": "code",
   "execution_count": null,
   "id": "5a8b9e15-69bd-47d1-b398-e73963e97d89",
   "metadata": {},
   "outputs": [],
   "source": [
    "#| export\n",
    "def pointwise_eval(pred_lbl:sparse.csr_matrix, data_lbl:sparse.csr_matrix, data_lbl_filterer:Optional[np.ndarray]=None,\n",
    "                   topk:Optional[int]=5, metric:Optional[str]='P', return_type:Optional[str]='M'):\n",
    "    \n",
    "    if data_lbl_filterer is not None:\n",
    "        pred_lbl = Filterer.apply(pred_lbl, data_lbl_filterer)\n",
    "        data_lbl = Filterer.apply(data_lbl, data_lbl_filterer)\n",
    "        \n",
    "    pred_lbl = xc_sparse.retain_topk(pred_lbl, k=topk)\n",
    "        \n",
    "    scores = pred_lbl.multiply(data_lbl)\n",
    "    scores.data[:] = 1\n",
    "        \n",
    "    if metric == 'P':\n",
    "        scores = scores.multiply(1/(topk * data_lbl.shape[0]))\n",
    "    elif metric == 'R':\n",
    "        d = data_lbl.getnnz(axis=1) * data_lbl.shape[0]\n",
    "        scores = scores.multiply(1/d.reshape(-1,1))\n",
    "    elif metric == 'FN':\n",
    "        scores = data_lbl - scores\n",
    "        scores.eliminate_zeros()\n",
    "        lbl_cnt = data_lbl.getnnz(axis=0)\n",
    "        scores = scores.multiply(1/(lbl_cnt * data_lbl.shape[1]))\n",
    "\n",
    "    if return_type == 'M': return scores\n",
    "    elif return_type == 'L': return np.ravel(scores.sum(axis=0))\n",
    "    else: return np.ravel(scores.sum(axis=1))\n",
    "    "
   ]
  },
  {
   "cell_type": "markdown",
   "id": "b9323a96-126c-4a13-8579-f962bc89177a",
   "metadata": {},
   "source": [
    "## Decile plot"
   ]
  },
  {
   "cell_type": "code",
   "execution_count": null,
   "id": "8a7e03c4-6d5a-4127-9ec4-377edfcd9a2f",
   "metadata": {},
   "outputs": [],
   "source": [
    "#| export\n",
    "def equal_volume_split(data_lbl:sparse.csr_matrix, n_split:int):\n",
    "    lbl_cnt = data_lbl.getnnz(axis=0)\n",
    "    lbl_idx = np.argsort(-lbl_cnt)\n",
    "    thresh = lbl_cnt.sum()/n_split\n",
    "    \n",
    "    splits,split,cnt = [],[],0\n",
    "    for idx in lbl_idx:\n",
    "        cnt += lbl_cnt[idx]\n",
    "        split.append(idx)\n",
    "\n",
    "        if cnt > thresh: \n",
    "            splits.append(split)\n",
    "            split,cnt = [],0\n",
    "\n",
    "    if len(split): splits.append(split)\n",
    "    \n",
    "    if len(splits) != n_split: raise ValueError(f'Number of splits created less than {n_split}.')\n",
    "    splits.append(lbl_idx.tolist())\n",
    "    \n",
    "    lbl_cnt = lbl_cnt.astype(np.float32)\n",
    "    lbl_cnt[lbl_cnt == 0] = np.nan\n",
    "    info = [f'{i+1}\\n{len(split)//1000}K\\n{np.nanmean(lbl_cnt[split]):.2f}' for i,split in enumerate(splits)]\n",
    "    return splits,info\n",
    "    "
   ]
  },
  {
   "cell_type": "code",
   "execution_count": null,
   "id": "87db99ae-0da7-4ce3-a9cf-e6752edd37d3",
   "metadata": {},
   "outputs": [],
   "source": [
    "#| export\n",
    "def get_decile_stats(pred_lbl:sparse.csr_matrix, data_lbl:sparse.csr_matrix, data_lbl_filterer:np.ndarray, \n",
    "                     n_split:Optional[int]=5, topk:Optional[int]=5, metric:Optional[str]='P'):\n",
    "    \n",
    "    evals = pointwise_eval(pred_lbl, data_lbl, data_lbl_filterer, topk=topk, metric=metric)\n",
    "    splits, info = equal_volume_split(data_lbl, n_split)\n",
    "    values = [evals[:, split].sum()*100 for split in splits]\n",
    "    return info, values\n"
   ]
  },
  {
   "cell_type": "code",
   "execution_count": null,
   "id": "562c7610-9afd-4e1d-aadc-ea4b90ccbaba",
   "metadata": {},
   "outputs": [],
   "source": [
    "#| export\n",
    "def barplot(scores:Dict, title:Optional[str]='', ylabel:Optional[str]='', figsize:Optional[Tuple]=(15,10)):\n",
    "    n_proc,n_split = len(scores),len(list(scores.values())[0][0])\n",
    "    idx, width = np.arange(n_split), 0.8/n_proc\n",
    "    \n",
    "    fig, ax = plt.subplots(figsize=figsize)\n",
    "\n",
    "    shift = 0\n",
    "    for proc,(info,values) in scores.items(): \n",
    "        x = idx + shift\n",
    "        ax.bar(x=x, height=values, width=width, alpha=1, label=proc)\n",
    "        shift += width\n",
    "\n",
    "    shift = (n_proc//2)*width if n_proc%2 else width/2 + ((n_proc-1)//2)*width\n",
    "\n",
    "    ax.set_title(title, fontsize=22)\n",
    "\n",
    "    ax.set_xlabel('Quantiles \\n (Increasing Freq.)', fontsize=18)\n",
    "    ax.set_ylabel(ylabel, fontsize=18)\n",
    "\n",
    "    ax.set_xticks(idx + shift, info, fontsize=14)\n",
    "    for o in ax.get_yticklabels(): o.set_fontsize(14)\n",
    "\n",
    "    ax.legend(fontsize=14)\n",
    "    "
   ]
  },
  {
   "cell_type": "code",
   "execution_count": null,
   "id": "ed35af6a-a3aa-4792-bc47-fea776c4e634",
   "metadata": {},
   "outputs": [],
   "source": [
    "#| export\n",
    "def decile_plot(preds:Dict, n_split:Optional[int]=5, topk:Optional[int]=5, metric:Optional[str]='P', \n",
    "                figsize:Optional[Tuple]=(15,10), title:Optional[str]=''):\n",
    "    scores = {}\n",
    "\n",
    "    for method, pred in preds.items():\n",
    "        info, values = get_decile_stats(pred, block.test.dset.data.data_lbl, block.test.data_lbl_filterer, \n",
    "                                        n_split=5, topk=5, metric='P')\n",
    "        scores[method] = (info,values)\n",
    "    \n",
    "    barplot(scores, title, f'{metric}@{topk}', figsize)\n",
    "    "
   ]
  },
  {
   "cell_type": "markdown",
   "id": "d0828e7c-9eba-482b-ba9c-572acbb720b6",
   "metadata": {},
   "source": [
    "## Text display"
   ]
  },
  {
   "cell_type": "code",
   "execution_count": null,
   "id": "f9c34d65-1972-4dd6-8d4d-afdc12eec28e",
   "metadata": {},
   "outputs": [],
   "source": [
    "#| export\n",
    "def html(text:str, c='green'): return f'<text style=color:{c}>{text}</text>'\n",
    "\n",
    "def get_pred_dset(pred:sparse.csr_matrix, block:XCDataBlock):\n",
    "    data = MainXCDataset(block.test.dset.data.data_info, pred, block.test.dset.data.lbl_info, \n",
    "                         block.test.dset.data.data_lbl_filterer)\n",
    "    return XCDataset(data, **block.test.dset.meta)\n"
   ]
  },
  {
   "cell_type": "code",
   "execution_count": null,
   "id": "ba67b1f7-26a7-4242-946c-5cf31e1ca584",
   "metadata": {},
   "outputs": [],
   "source": [
    "#| export\n",
    "class TextColumns(Dataset):\n",
    "    \n",
    "    def __init__(self, x):\n",
    "        self.x = x\n",
    "    \n",
    "    def __getitem__(self, idx):\n",
    "        o = self.x[idx]\n",
    "        return {k:v for k,v in o.items() if re.match('.*_text$', k)}\n",
    "    "
   ]
  },
  {
   "cell_type": "code",
   "execution_count": null,
   "id": "40ab09b8-9008-4941-a021-ebb94e166e69",
   "metadata": {},
   "outputs": [],
   "source": [
    "#| export\n",
    "@typedispatch\n",
    "def display_text(pred_dset:Dataset, data_dset:Dataset, idxs:List):\n",
    "    color = [('red','green'), ('black','blue')]\n",
    "    text = []\n",
    "    for i,idx in enumerate(idxs):\n",
    "        c = color[i%len(color)]\n",
    "        pred_text = \"<br>\".join([f'{html(k,color[0][0])}: {html(v,color[0][1])}' for k,v in pred_dset[idx].items()])\n",
    "        data_text = \"<br>\".join([f'{html(k,color[1][0])}: {html(v,color[1][1])}' for k,v in test_dset[idx].items()])\n",
    "        text.append(\"<br>\".join([pred_text,data_text]))\n",
    "    return \"<br><br>\".join(text)\n",
    "\n",
    "@typedispatch\n",
    "def display_text(pred1_dset:Dataset, pred2_dset:Dataset, data_dset:Dataset, idxs:List):\n",
    "    color = [('red','green'), ('black','blue'), ('orange', 'brown')]\n",
    "    text = []\n",
    "    for i,idx in enumerate(idxs):\n",
    "        c = color[i%len(color)]\n",
    "        pred1_text = \"<br>\".join([f'{html(k,color[0][0])}: {html(v,color[0][1])}' for k,v in pred1_dset[idx].items()])\n",
    "        pred2_text = \"<br>\".join([f'{html(k,color[1][0])}: {html(v,color[1][1])}' for k,v in pred2_dset[idx].items()])\n",
    "        data_text = \"<br>\".join([f'{html(k,color[2][0])}: {html(v,color[2][1])}' for k,v in test_dset[idx].items()])\n",
    "        text.append(\"<br>\".join([pred1_text,pred2_text,data_text]))\n",
    "    return \"<br><br>\".join(text)\n",
    "    "
   ]
  },
  {
   "cell_type": "code",
   "execution_count": null,
   "id": "27876623-218f-41c1-9535-c038624ccb2a",
   "metadata": {},
   "outputs": [],
   "source": []
  },
  {
   "cell_type": "code",
   "execution_count": null,
   "id": "51afcc90-f005-42f9-ae8d-7c0abb4c8987",
   "metadata": {},
   "outputs": [],
   "source": []
  }
 ],
 "metadata": {
  "kernelspec": {
   "display_name": "python3",
   "language": "python",
   "name": "python3"
  }
 },
 "nbformat": 4,
 "nbformat_minor": 5
}
