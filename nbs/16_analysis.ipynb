{
 "cells": [
  {
   "cell_type": "markdown",
   "id": "b2941ced-d510-44a9-9fe6-51fd14a7a026",
   "metadata": {},
   "source": [
    "# Analysis"
   ]
  },
  {
   "cell_type": "code",
   "execution_count": 1,
   "id": "85b8e731-bfa1-4333-8e64-ed97ea853102",
   "metadata": {},
   "outputs": [],
   "source": [
    "#| default_exp analysis"
   ]
  },
  {
   "cell_type": "code",
   "execution_count": 2,
   "id": "735b2680-c11b-4080-a004-527dee3b6d6b",
   "metadata": {},
   "outputs": [],
   "source": [
    "#| export\n",
    "import os,torch, torch.multiprocessing as mp, pickle, numpy as np, re\n",
    "from typing import Optional, Dict, List, Tuple, Union\n",
    "from torch.utils.data import Dataset\n",
    "from scipy import sparse\n",
    "from termcolor import colored, COLORS\n",
    "import matplotlib.pyplot as plt\n",
    "\n",
    "from plum import dispatch\n",
    "\n",
    "from xcai.basics import *\n",
    "from xcai.data import *\n",
    "from xcai.sdata import *\n",
    "from xcai.learner import XCPredictionOutput\n",
    "\n",
    "import xclib.utils.sparse as xc_sparse\n",
    "import xclib.evaluation.xc_metrics as xc_metrics\n",
    "import xclib.data.data_utils as du \n",
    "\n",
    "from IPython.display import HTML"
   ]
  },
  {
   "cell_type": "code",
   "execution_count": 3,
   "id": "adcfc5ef-762f-427f-93b3-8569a8696ace",
   "metadata": {},
   "outputs": [],
   "source": [
    "#| hide\n",
    "from nbdev.showdoc import *\n",
    "import nbdev; nbdev.nbdev_export()"
   ]
  },
  {
   "cell_type": "markdown",
   "id": "33986d41-bbe3-463b-8b7c-40b8bf2f5c6e",
   "metadata": {},
   "source": [
    "## Setup"
   ]
  },
  {
   "cell_type": "code",
   "execution_count": null,
   "id": "b86c430c-4195-4e9d-97cb-1c32ec8e1711",
   "metadata": {},
   "outputs": [],
   "source": [
    "pkl_dir = '/home/scai/phd/aiz218323/scratch/datasets/processed/'\n",
    "pkl_file = f'{pkl_dir}/wikiseealsotitles_data-lnk_distilbert-base-uncased_xcs.pkl'"
   ]
  },
  {
   "cell_type": "code",
   "execution_count": null,
   "id": "ab711df6-7f95-4797-b1bf-213a4df5ee9c",
   "metadata": {},
   "outputs": [],
   "source": [
    "with open(pkl_file, 'rb') as file: block = pickle.load(file)"
   ]
  },
  {
   "cell_type": "markdown",
   "id": "656cd55c-608c-4671-8884-9ae504fd30c1",
   "metadata": {
    "jp-MarkdownHeadingCollapsed": true
   },
   "source": [
    "## Metric"
   ]
  },
  {
   "cell_type": "code",
   "execution_count": 4,
   "id": "5a8b9e15-69bd-47d1-b398-e73963e97d89",
   "metadata": {},
   "outputs": [],
   "source": [
    "#| export\n",
    "def pointwise_eval(pred_lbl:sparse.csr_matrix, data_lbl:sparse.csr_matrix, data_lbl_filterer:Optional[np.ndarray]=None,\n",
    "                   topk:Optional[int]=5, metric:Optional[str]='P', return_type:Optional[str]='M'):\n",
    "    \n",
    "    if data_lbl_filterer is not None:\n",
    "        pred_lbl = Filterer.apply(pred_lbl, data_lbl_filterer)\n",
    "        data_lbl = Filterer.apply(data_lbl, data_lbl_filterer)\n",
    "        \n",
    "    pred_lbl = xc_sparse.retain_topk(pred_lbl, k=topk)\n",
    "        \n",
    "    scores = pred_lbl.multiply(data_lbl)\n",
    "    scores.data[:] = 1\n",
    "        \n",
    "    if metric == 'P':\n",
    "        scores = scores.multiply(1/(topk * data_lbl.shape[0]))\n",
    "    elif metric == 'R':\n",
    "        d = data_lbl.getnnz(axis=1) * data_lbl.shape[0]\n",
    "        scores = scores.multiply(1/d.reshape(-1,1))\n",
    "    elif metric == 'FN':\n",
    "        scores = data_lbl - scores\n",
    "        scores.eliminate_zeros()\n",
    "        lbl_cnt = data_lbl.getnnz(axis=0)\n",
    "        scores = scores.multiply(1/(lbl_cnt * data_lbl.shape[1]))\n",
    "\n",
    "    if return_type == 'M': return scores\n",
    "    elif return_type == 'L': return np.ravel(scores.sum(axis=0))\n",
    "    else: return np.ravel(scores.sum(axis=1))\n",
    "    "
   ]
  },
  {
   "cell_type": "markdown",
   "id": "b9323a96-126c-4a13-8579-f962bc89177a",
   "metadata": {
    "jp-MarkdownHeadingCollapsed": true
   },
   "source": [
    "## Decile plot"
   ]
  },
  {
   "cell_type": "code",
   "execution_count": 5,
   "id": "8a7e03c4-6d5a-4127-9ec4-377edfcd9a2f",
   "metadata": {},
   "outputs": [],
   "source": [
    "#| export\n",
    "def equal_volume_split(data_lbl:sparse.csr_matrix, n_split:int):\n",
    "    lbl_cnt = data_lbl.getnnz(axis=0)\n",
    "    lbl_idx = np.argsort(-lbl_cnt)\n",
    "    thresh = lbl_cnt.sum()/n_split\n",
    "    \n",
    "    splits,split,cnt = [],[],0\n",
    "    for idx in lbl_idx:\n",
    "        cnt += lbl_cnt[idx]\n",
    "        split.append(idx)\n",
    "\n",
    "        if cnt > thresh: \n",
    "            splits.append(split)\n",
    "            split,cnt = [],0\n",
    "\n",
    "    if len(split): splits.append(split)\n",
    "    \n",
    "    if len(splits) != n_split: raise ValueError(f'Number of splits created less than {n_split}.')\n",
    "    splits.append(lbl_idx.tolist())\n",
    "    \n",
    "    lbl_cnt = lbl_cnt.astype(np.float32)\n",
    "    lbl_cnt[lbl_cnt == 0] = np.nan\n",
    "    info = [f'{i+1}\\n{len(split)//1000}K\\n{np.nanmean(lbl_cnt[split]):.2f}' for i,split in enumerate(splits)]\n",
    "    return splits,info\n",
    "    "
   ]
  },
  {
   "cell_type": "code",
   "execution_count": 6,
   "id": "87db99ae-0da7-4ce3-a9cf-e6752edd37d3",
   "metadata": {},
   "outputs": [],
   "source": [
    "#| export\n",
    "def get_decile_stats(pred_lbl:sparse.csr_matrix, data_lbl:sparse.csr_matrix, data_lbl_filterer:np.ndarray, \n",
    "                     n_split:Optional[int]=5, topk:Optional[int]=5, metric:Optional[str]='P'):\n",
    "    \n",
    "    evals = pointwise_eval(pred_lbl, data_lbl, data_lbl_filterer, topk=topk, metric=metric)\n",
    "    splits, info = equal_volume_split(data_lbl, n_split)\n",
    "    values = [evals[:, split].sum()*100 for split in splits]\n",
    "    return info, values\n"
   ]
  },
  {
   "cell_type": "code",
   "execution_count": 7,
   "id": "562c7610-9afd-4e1d-aadc-ea4b90ccbaba",
   "metadata": {},
   "outputs": [],
   "source": [
    "#| export\n",
    "def barplot(scores:Dict, title:Optional[str]='', ylabel:Optional[str]='', figsize:Optional[Tuple]=(15,10), fname:Optional[str]=None):\n",
    "    n_proc,n_split = len(scores),len(list(scores.values())[0][0])\n",
    "    idx, width = np.arange(n_split), 0.8/n_proc\n",
    "    \n",
    "    fig, ax = plt.subplots(figsize=figsize)\n",
    "    ax.grid()\n",
    "\n",
    "    shift = 0\n",
    "    for proc,(info,values) in scores.items(): \n",
    "        x = idx + shift\n",
    "        ax.bar(x=x, height=values, width=width, alpha=1, label=proc)\n",
    "        shift += width\n",
    "\n",
    "    shift = (n_proc//2)*width if n_proc%2 else width/2 + ((n_proc-1)//2)*width\n",
    "\n",
    "    ax.set_title(title, fontsize=22)\n",
    "\n",
    "    ax.set_xlabel('Quantiles \\n (Increasing Freq.)', fontsize=18)\n",
    "    ax.set_ylabel(ylabel, fontsize=18)\n",
    "\n",
    "    ax.set_xticks(idx + shift, info, fontsize=14)\n",
    "    for o in ax.get_yticklabels(): o.set_fontsize(14)\n",
    "\n",
    "    ax.legend(fontsize=14)\n",
    "    \n",
    "    if fname is not None: plt.savefig(fname)\n",
    "    "
   ]
  },
  {
   "cell_type": "code",
   "execution_count": 8,
   "id": "ed35af6a-a3aa-4792-bc47-fea776c4e634",
   "metadata": {},
   "outputs": [],
   "source": [
    "#| export\n",
    "def decile_plot(preds:Dict, data_lbl:sparse.csr_matrix, data_lbl_filterer:Optional[np.array]=None, \n",
    "                n_split:Optional[int]=5, topk:Optional[int]=5, metric:Optional[str]='P', figsize:Optional[Tuple]=(15,10), \n",
    "                title:Optional[str]='', fname:Optional[str]=None):\n",
    "    scores = {}\n",
    "\n",
    "    for method, pred in preds.items():\n",
    "        info, values = get_decile_stats(pred, data_lbl, data_lbl_filterer, n_split=5, topk=5, metric='P')\n",
    "        scores[method] = (info,values)\n",
    "    \n",
    "    barplot(scores, title, f'{metric}@{topk}', figsize, fname)\n",
    "    "
   ]
  },
  {
   "cell_type": "markdown",
   "id": "7e0fead4-0d6e-4195-adb3-5b975a095027",
   "metadata": {
    "jp-MarkdownHeadingCollapsed": true
   },
   "source": [
    "### Example"
   ]
  },
  {
   "cell_type": "code",
   "execution_count": null,
   "id": "f989257c-c01d-45da-a5a0-8d302454f7ee",
   "metadata": {},
   "outputs": [],
   "source": [
    "pred_dir = '/home/scai/phd/aiz218323/scratch/momos_predictions/'\n",
    "\n",
    "fnames = {\n",
    "    'MOMOs (OAK)': f'{pred_dir}/momos.npz',\n",
    "    'OAK': f'{pred_dir}/oak.npz',\n",
    "    'NGAME': f'{pred_dir}/ngame.npz'\n",
    "}\n",
    "\n",
    "preds = {k: sparse.load_npz(v) for k,v in fnames.items()}"
   ]
  },
  {
   "cell_type": "code",
   "execution_count": null,
   "id": "536e4b8b-1a56-4675-9017-dbed27441674",
   "metadata": {},
   "outputs": [
    {
     "data": {
      "text/plain": [
       "{'MOMOs (OAK)': <177515x312330 sparse matrix of type '<class 'numpy.float32'>'\n",
       " \twith 35503000 stored elements in Compressed Sparse Row format>,\n",
       " 'OAK': <177515x312330 sparse matrix of type '<class 'numpy.float32'>'\n",
       " \twith 55431028 stored elements in Compressed Sparse Row format>,\n",
       " 'NGAME': <177515x312330 sparse matrix of type '<class 'numpy.float32'>'\n",
       " \twith 79245202 stored elements in Compressed Sparse Row format>}"
      ]
     },
     "execution_count": null,
     "metadata": {},
     "output_type": "execute_result"
    }
   ],
   "source": [
    "preds"
   ]
  },
  {
   "cell_type": "code",
   "execution_count": null,
   "id": "734d4673-1835-4312-b262-14c695c732be",
   "metadata": {},
   "outputs": [],
   "source": [
    "plt.style.use(['default'])"
   ]
  },
  {
   "cell_type": "code",
   "execution_count": null,
   "id": "b86a3d27-2d19-402a-b767-52c972f993e9",
   "metadata": {},
   "outputs": [
    {
     "name": "stderr",
     "output_type": "stream",
     "text": [
      "/scratch/scai/phd/aiz218323/anaconda3/envs/xc_nlg_2/lib/python3.9/site-packages/scipy/sparse/_index.py:151: SparseEfficiencyWarning: Changing the sparsity structure of a csr_matrix is expensive. lil_matrix is more efficient.\n",
      "  self._set_arrayXarray(i, j, x)\n"
     ]
    },
    {
     "data": {
      "image/png": "[encoded data removed]",
      "text/plain": [
       "<Figure size 1500x1000 with 1 Axes>"
      ]
     },
     "metadata": {},
     "output_type": "display_data"
    }
   ],
   "source": [
    "decile_plot(preds, block.test.dset.data.data_lbl, block.test.dset.data.data_lbl_filterer, title='Quantile Plot', topk=5, \n",
    "            fname=f'{pred_dir}/quantile_plot.png')"
   ]
  },
  {
   "cell_type": "markdown",
   "id": "d0828e7c-9eba-482b-ba9c-572acbb720b6",
   "metadata": {},
   "source": [
    "## Dataset"
   ]
  },
  {
   "cell_type": "markdown",
   "id": "aaa6f1d8-8af9-4c4b-9349-79c37aa7ce85",
   "metadata": {},
   "source": [
    "### Load predictions"
   ]
  },
  {
   "cell_type": "code",
   "execution_count": null,
   "id": "f9c34d65-1972-4dd6-8d4d-afdc12eec28e",
   "metadata": {},
   "outputs": [],
   "source": [
    "#| export\n",
    "@dispatch\n",
    "def get_pred_dset(pred:sparse.csr_matrix, block:Union[XCDataBlock,SXCDataBlock]):\n",
    "    data = MainXCDataset(block.test.dset.data.data_info, pred, block.test.dset.data.lbl_info, \n",
    "                         block.test.dset.data.data_lbl_filterer)\n",
    "    return XCDataset(data, **block.test.dset.meta)\n",
    "\n",
    "\n",
    "@dispatch\n",
    "def get_pred_dset(pred:sparse.csr_matrix, dset:Union[XCDataset,SXCDataset]):\n",
    "    data = MainXCDataset(dset.data.data_info, pred, dset.data.lbl_info, dset.data.data_lbl_filterer)\n",
    "    return XCDataset(data, **dset.meta)\n",
    "\n",
    "@dispatch\n",
    "def get_pred_dset(pred:sparse.csr_matrix, dset:[MainXCDataset,SMainXCDataset]):\n",
    "    return MainXCDataset(dset.data_info, pred, dset.lbl_info, dset.data_lbl_filterer)\n",
    "    "
   ]
  },
  {
   "cell_type": "code",
   "execution_count": null,
   "id": "a803b3a7-64f5-4803-8c03-9e2dc87f2e17",
   "metadata": {},
   "outputs": [],
   "source": [
    "#| export\n",
    "@dispatch\n",
    "def get_pred_sparse(out:XCPredictionOutput, n_lbl:int):\n",
    "    pred_ptr = torch.concat([torch.zeros((1,), dtype=torch.long), out.pred_ptr.cumsum(dim=0)])\n",
    "    return sparse.csr_matrix((out.pred_score, out.pred_idx, pred_ptr), shape=(len(out.pred_ptr), n_lbl))\n",
    "\n",
    "@dispatch\n",
    "def get_pred_sparse(fname:str, n_lbl:int):\n",
    "    with open(fname, 'rb') as f: out = pickle.load(f)\n",
    "    pred_ptr = torch.concat([torch.zeros((1,), dtype=torch.long), out.pred_ptr.cumsum(dim=0)])\n",
    "    return sparse.csr_matrix((out.pred_score, out.pred_idx, pred_ptr), shape=(len(out.pred_ptr), n_lbl))\n",
    "\n",
    "@dispatch\n",
    "def load_pred_sparse(fname:str):\n",
    "    o = np.load(fname)\n",
    "    return sparse.csr_matrix((o['data'], o['indices'], o['indptr']), dtype=float, shape=o['shape'])\n",
    "\n",
    "def get_output(fname:str, n_lbl:int, pred_type:Optional[str]='repr_output'):\n",
    "    with open(pname, 'rb') as f: out = pickle.load(f)\n",
    "    preds,targ = get_output_sparse(**getattr(out,pred_type), n_lbl=n_lbl)\n",
    "    return preds, targ\n",
    "    "
   ]
  },
  {
   "cell_type": "code",
   "execution_count": null,
   "id": "0af2fe83-ab1d-4672-a04b-90895ec74bee",
   "metadata": {},
   "outputs": [],
   "source": [
    "#| export\n",
    "def load_prediction_and_block(pkl_file:str, config_file:str, config_key:str, pred_file:str, use_sxc_sampler=True):\n",
    "    block = build_block(pkl_file, config_file, use_sxc_sampler, config_key)\n",
    "    pred = sparse.load_npz(pred_file)\n",
    "    return pred, block\n",
    "    "
   ]
  },
  {
   "cell_type": "code",
   "execution_count": null,
   "id": "da0b8b9d-760f-4edb-93fc-74be6f5bfa9e",
   "metadata": {},
   "outputs": [],
   "source": [
    "#| export\n",
    "class PredictionBlock:\n",
    "\n",
    "    def __init__(self, dset, pred, num_preds=10, pattern=r'.*_text'):\n",
    "        self.dset, self.pred = dset, pred\n",
    "        self.num_preds, self.pattern = num_preds, pattern\n",
    "        if isinstance( self.dset, SXCDataset): self.dset = XCDataset._initialize(self.dset)\n",
    "\n",
    "    @property\n",
    "    def n_data(self): return self.dset.n_data\n",
    "        \n",
    "    @property\n",
    "    def n_lbl(self): return self.dset.n_lbl\n",
    "\n",
    "    def __getitem__(self, idx):\n",
    "        prefix = 'pred2data'\n",
    "        x = self.dset[idx]\n",
    "        sort_idx = np.argsort(self.pred[idx].data)[:-self.num_preds-1:-1]\n",
    "        x[f'{prefix}_idx'] = self.pred[idx].indices[sort_idx]\n",
    "        if self.dset.data.lbl_info is not None:\n",
    "            x.update({f'{prefix}_{k}':[v[i] for i in x[f'{prefix}_idx']] for k,v in self.dset.data.lbl_info.items() if k in self.dset.data.lbl_info_keys})\n",
    "        return {k:v for k,v in x.items() if re.match(self.pattern, k)}\n",
    "        "
   ]
  },
  {
   "cell_type": "markdown",
   "id": "9e6a3a44-0390-4da9-987f-dfb48f814dfb",
   "metadata": {},
   "source": [
    "### Display"
   ]
  },
  {
   "cell_type": "code",
   "execution_count": null,
   "id": "e6eb008d-0e91-4312-a1cc-cdea2ed84ce2",
   "metadata": {},
   "outputs": [],
   "source": [
    "#| export\n",
    "class TextDataset:\n",
    "    \n",
    "    def __init__(self, dset, pattern='.*_text$'):\n",
    "        self.dset, self.pattern = dset, pattern\n",
    "        colors = list(COLORS.keys())\n",
    "        self.colors = [colors[i] for i in np.random.permutation(len(colors))]\n",
    "    \n",
    "    def __getitem__(self, idx):\n",
    "        o = self.dset[idx]\n",
    "        return {k:v for k,v in o.items() if re.match(self.pattern, k)}\n",
    "\n",
    "    @property\n",
    "    def n_data(self): return self.dset.n_data\n",
    "        \n",
    "    @property\n",
    "    def n_lbl(self): return self.dset.n_lbl\n",
    "\n",
    "    def show(self, idxs=None, k=10):\n",
    "        if idxs is None: idxs = np.random.permutation(self.dset.n_data)[:k]\n",
    "        for idx in idxs:\n",
    "            for i,(k,v) in enumerate(self[idx].items()):\n",
    "                key = colored(k, self.colors[i % len(self.colors)], attrs=[\"reverse\", \"blink\"])\n",
    "                value = colored(f': {v}', self.colors[i % len(self.colors)])\n",
    "                print(key, value)\n",
    "            print()\n",
    "\n",
    "    def dump_txt(self, fname, idxs):\n",
    "        with open(fname, 'w') as file:\n",
    "            for idx in idxs:\n",
    "                for i,(k,v) in enumerate(self[idx].items()):\n",
    "                    file.write(f'{k}: {v}\\n')\n",
    "                file.write('\\n')\n",
    "            \n",
    "    def dump_csv(self, fname, idxs):\n",
    "        df = pd.DataFrame([self[idx] for idx in idxs])\n",
    "        df.to_csv(fname, index=False)\n",
    "\n",
    "    def dump(self, fname, idxs):\n",
    "        if fname.endswith('.txt'): \n",
    "            self.dump_txt(fname, idxs)\n",
    "        elif fname.endswith('.csv'): \n",
    "            self.dump_csv(fname, idxs)\n",
    "        else: \n",
    "            raise ValueError(f'Invalid file extension: {fname}')\n",
    "            "
   ]
  },
  {
   "cell_type": "code",
   "execution_count": null,
   "id": "c0b9940b-8bb1-47e3-90fc-2ff83ccc41a9",
   "metadata": {},
   "outputs": [],
   "source": [
    "#| export\n",
    "class CompareDataset:\n",
    "\n",
    "    def __init__(self, dset1, dset2, dset1_prefix='1.', dset2_prefix='2.', pattern=r'.*_text'):\n",
    "        self.dset1, self.dset2 = dset1, dset2\n",
    "        self.dset1_prefix, self.dset2_prefix, self.pattern = dset1_prefix, dset2_prefix, pattern\n",
    "        \n",
    "        colors = list(COLORS.keys())\n",
    "        self.colors = [colors[i] for i in np.random.permutation(len(colors))]\n",
    "\n",
    "    def show(self, idxs=None, k=10):\n",
    "        assert self.dset1.n_data == self.dset2.n_data, f'Different number of datapoints, dset1({self.dset1.n_data}) and dset2({self.dset2.n_data})'\n",
    "        if idxs is None: idxs = np.random.permutation(self.dset1.n_data)[:k]\n",
    "\n",
    "        for idx in idxs:\n",
    "            items1, items2 = self.dset1[idx], self.dset2[idx]\n",
    "            ctr = 0\n",
    "            for k in items1.keys():\n",
    "                if re.match(self.pattern, k):\n",
    "                    color = self.colors[ctr % len(self.colors)]\n",
    "                    \n",
    "                    key = colored(f\"{self.dset1_prefix} {k}\", color, attrs=[\"reverse\", \"blink\"])\n",
    "                    value = colored(f': {items1[k]}', color)\n",
    "                    print(key, value)\n",
    "        \n",
    "                    key = colored(f\"{self.dset2_prefix} {k}\", color, attrs=[\"reverse\", \"blink\"])\n",
    "                    value = colored(f': {items2[k]}', color)\n",
    "                    print(key, value)\n",
    "\n",
    "                    ctr += 1\n",
    "            print()\n",
    "\n",
    "    def dump_txt(self, fname, idxs=None, k=10):\n",
    "        assert self.dset1.n_data == self.dset2.n_data, f'Different number of datapoints, dset1({self.dset1.n_data}) and dset2({self.dset2.n_data})'\n",
    "        if idxs is None: idxs = np.random.permutation(self.dset1.n_data)[:k]\n",
    "            \n",
    "        with open(fname, 'w') as file:\n",
    "            for idx in idxs:\n",
    "                items1, items2 = self.dset1[idx], self.dset2[idx]\n",
    "                for k in items1.keys():\n",
    "                    if re.match(self.pattern, k):\n",
    "                        file.write(f\"{self.dset1_prefix} {k}: {items1[k]}\\n\")\n",
    "                        file.write(f\"{self.dset2_prefix} {k}: {items2[k]}\\n\")\n",
    "                file.write('\\n')\n",
    "            "
   ]
  },
  {
   "cell_type": "code",
   "execution_count": null,
   "id": "913d2375-23a6-4bc9-85ce-38a6cbf20288",
   "metadata": {},
   "outputs": [],
   "source": [
    "#| export\n",
    "class Indices:\n",
    "\n",
    "    def __init__(self, topk=10):\n",
    "        self.topk = topk\n",
    "\n",
    "    @staticmethod\n",
    "    def head_data(dset, topk=10):\n",
    "        return np.argsort(dset.data.data_lbl.getnnz(axis=1))[:-topk:-1]\n",
    "\n",
    "    @staticmethod\n",
    "    def tail_data(dset, topk=10):\n",
    "        num = dset.data.data_lbl.getnnz(axis=1)\n",
    "        idx = np.argsort(num)\n",
    "        valid = (num > 0)[idx]\n",
    "        return idx[valid][:topk]\n",
    "\n",
    "    @staticmethod\n",
    "    def metric(dset1, dset2, topk=10):\n",
    "        prec_1 = pointwise_eval(dset1.pred, dset1.dset.data.data_lbl, dset1.dset.data.data_lbl_filterer)\n",
    "        prec_2 = pointwise_eval(dset2.pred, dset2.dset.data.data_lbl, dset2.dset.data.data_lbl_filterer)\n",
    "        \n",
    "        scores = np.array(prec_1.sum(axis=1) - prec_2.sum(axis=1)).reshape(-1)\n",
    "        idxs = np.argsort(scores)[:-topk-1:-1]\n",
    "        return idxs\n",
    "        "
   ]
  },
  {
   "cell_type": "code",
   "execution_count": null,
   "id": "cc6274b4-2818-4853-bdd4-1459984e9a72",
   "metadata": {},
   "outputs": [],
   "source": []
  }
 ],
 "metadata": {
  "kernelspec": {
   "display_name": "Python 3 (ipykernel)",
   "language": "python",
   "name": "python3"
  },
  "language_info": {
   "codemirror_mode": {
    "name": "ipython",
    "version": 3
   },
   "file_extension": ".py",
   "mimetype": "text/x-python",
   "name": "python",
   "nbconvert_exporter": "python",
   "pygments_lexer": "ipython3",
   "version": "3.13.2"
  }
 },
 "nbformat": 4,
 "nbformat_minor": 5
}
