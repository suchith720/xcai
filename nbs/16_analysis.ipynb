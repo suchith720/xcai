{
 "cells": [
  {
   "cell_type": "markdown",
   "id": "b2941ced-d510-44a9-9fe6-51fd14a7a026",
   "metadata": {},
   "source": [
    "# analysis"
   ]
  },
  {
   "cell_type": "code",
   "execution_count": 1,
   "id": "85b8e731-bfa1-4333-8e64-ed97ea853102",
   "metadata": {},
   "outputs": [],
   "source": [
    "#| default_exp analysis"
   ]
  },
  {
   "cell_type": "code",
   "execution_count": 2,
   "id": "735b2680-c11b-4080-a004-527dee3b6d6b",
   "metadata": {},
   "outputs": [
    {
     "name": "stderr",
     "output_type": "stream",
     "text": [
      "comet_ml is installed but `COMET_API_KEY` is not set.\n"
     ]
    }
   ],
   "source": [
    "#| export\n",
    "import os,torch, torch.multiprocessing as mp, pickle, numpy as np, re\n",
    "from typing import Optional, Dict, List, Tuple\n",
    "from torch.utils.data import Dataset\n",
    "from scipy import sparse\n",
    "import matplotlib.pyplot as plt\n",
    "\n",
    "from fastcore.dispatch import *\n",
    "\n",
    "from xcai.basics import *\n",
    "from xcai.data import *\n",
    "from xcai.learner import XCPredictionOutput\n",
    "\n",
    "import xclib.utils.sparse as xc_sparse\n",
    "import xclib.evaluation.xc_metrics as xc_metrics\n",
    "import xclib.data.data_utils as du \n",
    "\n",
    "from IPython.display import HTML"
   ]
  },
  {
   "cell_type": "code",
   "execution_count": 3,
   "id": "adcfc5ef-762f-427f-93b3-8569a8696ace",
   "metadata": {},
   "outputs": [],
   "source": [
    "#| hide\n",
    "from nbdev.showdoc import *\n",
    "import nbdev; nbdev.nbdev_export()"
   ]
  },
  {
   "cell_type": "markdown",
   "id": "33986d41-bbe3-463b-8b7c-40b8bf2f5c6e",
   "metadata": {},
   "source": [
    "## Setup"
   ]
  },
  {
   "cell_type": "code",
   "execution_count": 79,
   "id": "b86c430c-4195-4e9d-97cb-1c32ec8e1711",
   "metadata": {},
   "outputs": [],
   "source": [
    "pkl_dir = '/home/scai/phd/aiz218323/scratch/datasets/processed/'\n",
    "pkl_file = f'{pkl_dir}/wikiseealsotitles_data-lnk_distilbert-base-uncased_xcs.pkl'"
   ]
  },
  {
   "cell_type": "code",
   "execution_count": 80,
   "id": "ab711df6-7f95-4797-b1bf-213a4df5ee9c",
   "metadata": {},
   "outputs": [],
   "source": [
    "with open(pkl_file, 'rb') as file: block = pickle.load(file)"
   ]
  },
  {
   "cell_type": "markdown",
   "id": "656cd55c-608c-4671-8884-9ae504fd30c1",
   "metadata": {
    "jp-MarkdownHeadingCollapsed": true
   },
   "source": [
    "## Metric"
   ]
  },
  {
   "cell_type": "code",
   "execution_count": 6,
   "id": "5a8b9e15-69bd-47d1-b398-e73963e97d89",
   "metadata": {},
   "outputs": [],
   "source": [
    "#| export\n",
    "def pointwise_eval(pred_lbl:sparse.csr_matrix, data_lbl:sparse.csr_matrix, data_lbl_filterer:Optional[np.ndarray]=None,\n",
    "                   topk:Optional[int]=5, metric:Optional[str]='P', return_type:Optional[str]='M'):\n",
    "    \n",
    "    if data_lbl_filterer is not None:\n",
    "        pred_lbl = Filterer.apply(pred_lbl, data_lbl_filterer)\n",
    "        data_lbl = Filterer.apply(data_lbl, data_lbl_filterer)\n",
    "        \n",
    "    pred_lbl = xc_sparse.retain_topk(pred_lbl, k=topk)\n",
    "        \n",
    "    scores = pred_lbl.multiply(data_lbl)\n",
    "    scores.data[:] = 1\n",
    "        \n",
    "    if metric == 'P':\n",
    "        scores = scores.multiply(1/(topk * data_lbl.shape[0]))\n",
    "    elif metric == 'R':\n",
    "        d = data_lbl.getnnz(axis=1) * data_lbl.shape[0]\n",
    "        scores = scores.multiply(1/d.reshape(-1,1))\n",
    "    elif metric == 'FN':\n",
    "        scores = data_lbl - scores\n",
    "        scores.eliminate_zeros()\n",
    "        lbl_cnt = data_lbl.getnnz(axis=0)\n",
    "        scores = scores.multiply(1/(lbl_cnt * data_lbl.shape[1]))\n",
    "\n",
    "    if return_type == 'M': return scores\n",
    "    elif return_type == 'L': return np.ravel(scores.sum(axis=0))\n",
    "    else: return np.ravel(scores.sum(axis=1))\n",
    "    "
   ]
  },
  {
   "cell_type": "markdown",
   "id": "b9323a96-126c-4a13-8579-f962bc89177a",
   "metadata": {
    "jp-MarkdownHeadingCollapsed": true
   },
   "source": [
    "## Decile plot"
   ]
  },
  {
   "cell_type": "code",
   "execution_count": 7,
   "id": "8a7e03c4-6d5a-4127-9ec4-377edfcd9a2f",
   "metadata": {},
   "outputs": [],
   "source": [
    "#| export\n",
    "def equal_volume_split(data_lbl:sparse.csr_matrix, n_split:int):\n",
    "    lbl_cnt = data_lbl.getnnz(axis=0)\n",
    "    lbl_idx = np.argsort(-lbl_cnt)\n",
    "    thresh = lbl_cnt.sum()/n_split\n",
    "    \n",
    "    splits,split,cnt = [],[],0\n",
    "    for idx in lbl_idx:\n",
    "        cnt += lbl_cnt[idx]\n",
    "        split.append(idx)\n",
    "\n",
    "        if cnt > thresh: \n",
    "            splits.append(split)\n",
    "            split,cnt = [],0\n",
    "\n",
    "    if len(split): splits.append(split)\n",
    "    \n",
    "    if len(splits) != n_split: raise ValueError(f'Number of splits created less than {n_split}.')\n",
    "    splits.append(lbl_idx.tolist())\n",
    "    \n",
    "    lbl_cnt = lbl_cnt.astype(np.float32)\n",
    "    lbl_cnt[lbl_cnt == 0] = np.nan\n",
    "    info = [f'{i+1}\\n{len(split)//1000}K\\n{np.nanmean(lbl_cnt[split]):.2f}' for i,split in enumerate(splits)]\n",
    "    return splits,info\n",
    "    "
   ]
  },
  {
   "cell_type": "code",
   "execution_count": 8,
   "id": "87db99ae-0da7-4ce3-a9cf-e6752edd37d3",
   "metadata": {},
   "outputs": [],
   "source": [
    "#| export\n",
    "def get_decile_stats(pred_lbl:sparse.csr_matrix, data_lbl:sparse.csr_matrix, data_lbl_filterer:np.ndarray, \n",
    "                     n_split:Optional[int]=5, topk:Optional[int]=5, metric:Optional[str]='P'):\n",
    "    \n",
    "    evals = pointwise_eval(pred_lbl, data_lbl, data_lbl_filterer, topk=topk, metric=metric)\n",
    "    splits, info = equal_volume_split(data_lbl, n_split)\n",
    "    values = [evals[:, split].sum()*100 for split in splits]\n",
    "    return info, values\n"
   ]
  },
  {
   "cell_type": "code",
   "execution_count": 9,
   "id": "562c7610-9afd-4e1d-aadc-ea4b90ccbaba",
   "metadata": {},
   "outputs": [],
   "source": [
    "#| export\n",
    "def barplot(scores:Dict, title:Optional[str]='', ylabel:Optional[str]='', figsize:Optional[Tuple]=(15,10)):\n",
    "    n_proc,n_split = len(scores),len(list(scores.values())[0][0])\n",
    "    idx, width = np.arange(n_split), 0.8/n_proc\n",
    "    \n",
    "    fig, ax = plt.subplots(figsize=figsize)\n",
    "\n",
    "    shift = 0\n",
    "    for proc,(info,values) in scores.items(): \n",
    "        x = idx + shift\n",
    "        ax.bar(x=x, height=values, width=width, alpha=1, label=proc)\n",
    "        shift += width\n",
    "\n",
    "    shift = (n_proc//2)*width if n_proc%2 else width/2 + ((n_proc-1)//2)*width\n",
    "\n",
    "    ax.set_title(title, fontsize=22)\n",
    "\n",
    "    ax.set_xlabel('Quantiles \\n (Increasing Freq.)', fontsize=18)\n",
    "    ax.set_ylabel(ylabel, fontsize=18)\n",
    "\n",
    "    ax.set_xticks(idx + shift, info, fontsize=14)\n",
    "    for o in ax.get_yticklabels(): o.set_fontsize(14)\n",
    "\n",
    "    ax.legend(fontsize=14)\n",
    "    "
   ]
  },
  {
   "cell_type": "code",
   "execution_count": 10,
   "id": "ed35af6a-a3aa-4792-bc47-fea776c4e634",
   "metadata": {},
   "outputs": [],
   "source": [
    "#| export\n",
    "def decile_plot(preds:Dict, n_split:Optional[int]=5, topk:Optional[int]=5, metric:Optional[str]='P', \n",
    "                figsize:Optional[Tuple]=(15,10), title:Optional[str]=''):\n",
    "    scores = {}\n",
    "\n",
    "    for method, pred in preds.items():\n",
    "        info, values = get_decile_stats(pred, block.test.dset.data.data_lbl, block.test.data_lbl_filterer, \n",
    "                                        n_split=5, topk=5, metric='P')\n",
    "        scores[method] = (info,values)\n",
    "    \n",
    "    barplot(scores, title, f'{metric}@{topk}', figsize)\n",
    "    "
   ]
  },
  {
   "cell_type": "markdown",
   "id": "d0828e7c-9eba-482b-ba9c-572acbb720b6",
   "metadata": {},
   "source": [
    "## Display text"
   ]
  },
  {
   "cell_type": "markdown",
   "id": "aaa6f1d8-8af9-4c4b-9349-79c37aa7ce85",
   "metadata": {
    "jp-MarkdownHeadingCollapsed": true
   },
   "source": [
    "### Dataset"
   ]
  },
  {
   "cell_type": "code",
   "execution_count": 11,
   "id": "f9c34d65-1972-4dd6-8d4d-afdc12eec28e",
   "metadata": {},
   "outputs": [],
   "source": [
    "#| export\n",
    "@typedispatch\n",
    "def get_pred_dset(pred:sparse.csr_matrix, block:XCDataBlock):\n",
    "    data = MainXCDataset(block.test.dset.data.data_info, pred, block.test.dset.data.lbl_info, \n",
    "                         block.test.dset.data.data_lbl_filterer)\n",
    "    return XCDataset(data, **block.test.dset.meta)\n",
    "\n",
    "\n",
    "@typedispatch\n",
    "def get_pred_dset(pred:sparse.csr_matrix, dset:XCDataset):\n",
    "    data = MainXCDataset(dset.data.data_info, pred, dset.data.lbl_info, dset.data.data_lbl_filterer)\n",
    "    return XCDataset(data, **dset.meta)\n",
    "\n",
    "@typedispatch\n",
    "def get_pred_dset(pred:sparse.csr_matrix, dset:MainXCDataset):\n",
    "    return MainXCDataset(dset.data_info, pred, dset.lbl_info, dset.data_lbl_filterer)\n",
    "    "
   ]
  },
  {
   "cell_type": "markdown",
   "id": "98fdc9d3-a0bf-4a88-ad2b-e67f0b289528",
   "metadata": {
    "jp-MarkdownHeadingCollapsed": true
   },
   "source": [
    "#### Example"
   ]
  },
  {
   "cell_type": "code",
   "execution_count": null,
   "id": "e51d5b87-7b51-492f-b9ec-e3ef8a9b4d20",
   "metadata": {},
   "outputs": [],
   "source": [
    "pred = sparse.csr_matrix((block.test.dset.n_data, block.train.dset.n_lbl))"
   ]
  },
  {
   "cell_type": "code",
   "execution_count": null,
   "id": "bc3f6a05-b693-4566-a828-d51915c652be",
   "metadata": {},
   "outputs": [],
   "source": [
    "o = get_pred_dset(pred, block.test.dset)"
   ]
  },
  {
   "cell_type": "code",
   "execution_count": null,
   "id": "65a3a218-410d-4398-839f-92cda370ca80",
   "metadata": {},
   "outputs": [
    {
     "data": {
      "text/plain": [
       "{'data_identifier': 'Abraham_Lincoln',\n",
       " 'data_input_text': 'Abraham Lincoln',\n",
       " 'data_input_ids': [101, 8181, 5367, 102],\n",
       " 'data_attention_mask': [1, 1, 1, 1],\n",
       " 'lbl2data_idx': [],\n",
       " 'lbl2data_identifier': [],\n",
       " 'lbl2data_input_text': [],\n",
       " 'lbl2data_input_ids': [],\n",
       " 'lbl2data_attention_mask': [],\n",
       " 'cat2data_idx': [19377,\n",
       "  54316,\n",
       "  54419,\n",
       "  62824,\n",
       "  63173,\n",
       "  63174,\n",
       "  63175,\n",
       "  68208,\n",
       "  68209,\n",
       "  69192,\n",
       "  69193,\n",
       "  69194,\n",
       "  69195,\n",
       "  69196,\n",
       "  69197,\n",
       "  69198,\n",
       "  69199,\n",
       "  69200,\n",
       "  69201,\n",
       "  69202,\n",
       "  69203,\n",
       "  69204,\n",
       "  69205,\n",
       "  69206,\n",
       "  69207,\n",
       "  69208,\n",
       "  69209,\n",
       "  69210,\n",
       "  69211,\n",
       "  69212,\n",
       "  69213,\n",
       "  69214,\n",
       "  69215,\n",
       "  69216,\n",
       "  69217,\n",
       "  69218,\n",
       "  69219,\n",
       "  69220,\n",
       "  69221],\n",
       " 'cat2data_identifier': ['Category:Deaths_by_firearm_in_Washington,_D.C.',\n",
       "  'Category:American_people_of_English_descent',\n",
       "  'Category:1865_deaths',\n",
       "  'Category:19th-century_American_politicians',\n",
       "  'Category:Illinois_Republicans',\n",
       "  'Category:Members_of_the_Illinois_House_of_Representatives',\n",
       "  'Category:Members_of_the_United_States_House_of_Representatives_from_Illinois',\n",
       "  'Category:People_of_Illinois_in_the_American_Civil_War',\n",
       "  'Category:Illinois_lawyers',\n",
       "  'Category:Abraham_Lincoln',\n",
       "  'Category:1809_births',\n",
       "  'Category:19th-century_Presidents_of_the_United_States',\n",
       "  'Category:American_lawyers_admitted_to_the_practice_of_law_by_reading_law',\n",
       "  'Category:American_postmasters',\n",
       "  'Category:American_surveyors',\n",
       "  'Category:Assassinated_Presidents_of_the_United_States',\n",
       "  'Category:Burials_at_Oak_Ridge_Cemetery',\n",
       "  'Category:Hall_of_Fame_for_Great_Americans_inductees',\n",
       "  'Category:Illinois_Central_Railroad_people',\n",
       "  'Category:Illinois_Whigs',\n",
       "  'Category:Lincoln_family',\n",
       "  'Category:Murdered_lawyers',\n",
       "  'Category:People_associated_with_the_assassination_of_Abraham_Lincoln',\n",
       "  'Category:People_from_Coles_County,_Illinois',\n",
       "  'Category:People_from_LaRue_County,_Kentucky',\n",
       "  'Category:People_from_Macon_County,_Illinois',\n",
       "  'Category:People_from_Spencer_County,_Indiana',\n",
       "  'Category:People_murdered_in_Washington,_D.C.',\n",
       "  'Category:People_with_mood_disorders',\n",
       "  'Category:Political_party_founders',\n",
       "  'Category:Politicians_from_Springfield,_Illinois',\n",
       "  'Category:Presidents_of_the_United_States',\n",
       "  'Category:Republican_Party_(United_States)_presidential_nominees',\n",
       "  'Category:Republican_Party_Presidents_of_the_United_States',\n",
       "  'Category:Union_political_leaders',\n",
       "  'Category:1860_United_States_presidential_candidates',\n",
       "  'Category:1864_United_States_presidential_candidates',\n",
       "  'Category:Whig_Party_members_of_the_United_States_House_of_Representatives',\n",
       "  'Category:American_colonization_movement'],\n",
       " 'cat2data_input_text': ['Deaths by firearm in Washington, D.C.',\n",
       "  'American people of English descent',\n",
       "  '1865 deaths',\n",
       "  '19th-century American politicians',\n",
       "  'Illinois Republicans',\n",
       "  'Members of the Illinois House of Representatives',\n",
       "  'Members of the United States House of Representatives from Illinois',\n",
       "  'People of Illinois in the American Civil War',\n",
       "  'Illinois lawyers',\n",
       "  'Abraham Lincoln',\n",
       "  '1809 births',\n",
       "  '19th-century Presidents of the United States',\n",
       "  'American lawyers admitted to the practice of law by reading law',\n",
       "  'American postmasters',\n",
       "  'American surveyors',\n",
       "  'Assassinated Presidents of the United States',\n",
       "  'Burials at Oak Ridge Cemetery',\n",
       "  'Hall of Fame for Great Americans inductees',\n",
       "  'Illinois Central Railroad people',\n",
       "  'Illinois Whigs',\n",
       "  'Lincoln family',\n",
       "  'Murdered lawyers',\n",
       "  'People associated with the assassination of Abraham Lincoln',\n",
       "  'People from Coles County, Illinois',\n",
       "  'People from LaRue County, Kentucky',\n",
       "  'People from Macon County, Illinois',\n",
       "  'People from Spencer County, Indiana',\n",
       "  'People murdered in Washington, D.C.',\n",
       "  'People with mood disorders',\n",
       "  'Political party founders',\n",
       "  'Politicians from Springfield, Illinois',\n",
       "  'Presidents of the United States',\n",
       "  'Republican Party (United States) presidential nominees',\n",
       "  'Republican Party Presidents of the United States',\n",
       "  'Union political leaders',\n",
       "  '1860 United States presidential candidates',\n",
       "  '1864 United States presidential candidates',\n",
       "  'Whig Party members of the United States House of Representatives',\n",
       "  'American colonization movement'],\n",
       " 'cat2data_input_ids': [[101,\n",
       "   6677,\n",
       "   2011,\n",
       "   23646,\n",
       "   1999,\n",
       "   2899,\n",
       "   1010,\n",
       "   1040,\n",
       "   1012,\n",
       "   1039,\n",
       "   1012,\n",
       "   102],\n",
       "  [101, 2137, 2111, 1997, 2394, 6934, 102],\n",
       "  [101, 6725, 6677, 102],\n",
       "  [101, 3708, 1011, 2301, 2137, 8801, 102],\n",
       "  [101, 4307, 10643, 102],\n",
       "  [101, 2372, 1997, 1996, 4307, 2160, 1997, 4505, 102],\n",
       "  [101, 2372, 1997, 1996, 2142, 2163, 2160, 1997, 4505, 2013, 4307, 102],\n",
       "  [101, 2111, 1997, 4307, 1999, 1996, 2137, 2942, 2162, 102],\n",
       "  [101, 4307, 9559, 102],\n",
       "  [101, 8181, 5367, 102],\n",
       "  [101, 12861, 18250, 102],\n",
       "  [101, 3708, 1011, 2301, 11274, 1997, 1996, 2142, 2163, 102],\n",
       "  [101, 2137, 9559, 4914, 2000, 1996, 3218, 1997, 2375, 2011, 3752, 2375, 102],\n",
       "  [101, 2137, 20707, 2015, 102],\n",
       "  [101, 2137, 17169, 2015, 102],\n",
       "  [101, 16370, 11274, 1997, 1996, 2142, 2163, 102],\n",
       "  [101, 23109, 2012, 6116, 5526, 4528, 102],\n",
       "  [101, 2534, 1997, 4476, 2005, 2307, 4841, 27427, 14194, 28313, 102],\n",
       "  [101, 4307, 2430, 4296, 2111, 102],\n",
       "  [101, 4307, 21632, 2015, 102],\n",
       "  [101, 5367, 2155, 102],\n",
       "  [101, 7129, 9559, 102],\n",
       "  [101, 2111, 3378, 2007, 1996, 10102, 1997, 8181, 5367, 102],\n",
       "  [101, 2111, 2013, 5624, 2015, 2221, 1010, 4307, 102],\n",
       "  [101, 2111, 2013, 2474, 6820, 2063, 2221, 1010, 5612, 102],\n",
       "  [101, 2111, 2013, 20025, 2221, 1010, 4307, 102],\n",
       "  [101, 2111, 2013, 7084, 2221, 1010, 5242, 102],\n",
       "  [101, 2111, 7129, 1999, 2899, 1010, 1040, 1012, 1039, 1012, 102],\n",
       "  [101, 2111, 2007, 6888, 10840, 102],\n",
       "  [101, 2576, 2283, 8759, 102],\n",
       "  [101, 8801, 2013, 10493, 1010, 4307, 102],\n",
       "  [101, 11274, 1997, 1996, 2142, 2163, 102],\n",
       "  [101, 3951, 2283, 1006, 2142, 2163, 1007, 4883, 17853, 102],\n",
       "  [101, 3951, 2283, 11274, 1997, 1996, 2142, 2163, 102],\n",
       "  [101, 2586, 2576, 4177, 102],\n",
       "  [101, 7313, 2142, 2163, 4883, 5347, 102],\n",
       "  [101, 6717, 2142, 2163, 4883, 5347, 102],\n",
       "  [101, 21632, 2283, 2372, 1997, 1996, 2142, 2163, 2160, 1997, 4505, 102],\n",
       "  [101, 2137, 18962, 2929, 102]],\n",
       " 'cat2data_attention_mask': [[1, 1, 1, 1, 1, 1, 1, 1, 1, 1, 1, 1],\n",
       "  [1, 1, 1, 1, 1, 1, 1],\n",
       "  [1, 1, 1, 1],\n",
       "  [1, 1, 1, 1, 1, 1, 1],\n",
       "  [1, 1, 1, 1],\n",
       "  [1, 1, 1, 1, 1, 1, 1, 1, 1],\n",
       "  [1, 1, 1, 1, 1, 1, 1, 1, 1, 1, 1, 1],\n",
       "  [1, 1, 1, 1, 1, 1, 1, 1, 1, 1],\n",
       "  [1, 1, 1, 1],\n",
       "  [1, 1, 1, 1],\n",
       "  [1, 1, 1, 1],\n",
       "  [1, 1, 1, 1, 1, 1, 1, 1, 1, 1],\n",
       "  [1, 1, 1, 1, 1, 1, 1, 1, 1, 1, 1, 1, 1],\n",
       "  [1, 1, 1, 1, 1],\n",
       "  [1, 1, 1, 1, 1],\n",
       "  [1, 1, 1, 1, 1, 1, 1, 1],\n",
       "  [1, 1, 1, 1, 1, 1, 1],\n",
       "  [1, 1, 1, 1, 1, 1, 1, 1, 1, 1, 1],\n",
       "  [1, 1, 1, 1, 1, 1],\n",
       "  [1, 1, 1, 1, 1],\n",
       "  [1, 1, 1, 1],\n",
       "  [1, 1, 1, 1],\n",
       "  [1, 1, 1, 1, 1, 1, 1, 1, 1, 1],\n",
       "  [1, 1, 1, 1, 1, 1, 1, 1, 1],\n",
       "  [1, 1, 1, 1, 1, 1, 1, 1, 1, 1],\n",
       "  [1, 1, 1, 1, 1, 1, 1, 1],\n",
       "  [1, 1, 1, 1, 1, 1, 1, 1],\n",
       "  [1, 1, 1, 1, 1, 1, 1, 1, 1, 1, 1],\n",
       "  [1, 1, 1, 1, 1, 1],\n",
       "  [1, 1, 1, 1, 1],\n",
       "  [1, 1, 1, 1, 1, 1, 1],\n",
       "  [1, 1, 1, 1, 1, 1, 1],\n",
       "  [1, 1, 1, 1, 1, 1, 1, 1, 1, 1],\n",
       "  [1, 1, 1, 1, 1, 1, 1, 1, 1],\n",
       "  [1, 1, 1, 1, 1],\n",
       "  [1, 1, 1, 1, 1, 1, 1],\n",
       "  [1, 1, 1, 1, 1, 1, 1],\n",
       "  [1, 1, 1, 1, 1, 1, 1, 1, 1, 1, 1, 1],\n",
       "  [1, 1, 1, 1, 1]],\n",
       " 'cat2lbl2data_idx': [],\n",
       " 'cat2lbl2data_identifier': [],\n",
       " 'cat2lbl2data_input_text': [],\n",
       " 'cat2lbl2data_input_ids': [],\n",
       " 'cat2lbl2data_attention_mask': []}"
      ]
     },
     "execution_count": null,
     "metadata": {},
     "output_type": "execute_result"
    }
   ],
   "source": [
    "o[0]"
   ]
  },
  {
   "cell_type": "markdown",
   "id": "712b0676-1ba4-4171-babc-050340fbb64b",
   "metadata": {
    "jp-MarkdownHeadingCollapsed": true
   },
   "source": [
    "### Load"
   ]
  },
  {
   "cell_type": "code",
   "execution_count": 12,
   "id": "a803b3a7-64f5-4803-8c03-9e2dc87f2e17",
   "metadata": {},
   "outputs": [],
   "source": [
    "#| export\n",
    "@typedispatch\n",
    "def get_pred_sparse(out:XCPredictionOutput, n_lbl:int):\n",
    "    pred_ptr = torch.concat([torch.zeros((1,), dtype=torch.long), out.pred_ptr.cumsum(dim=0)])\n",
    "    return sparse.csr_matrix((out.pred_score, out.pred_idx, pred_ptr), shape=(len(out.pred_ptr), n_lbl))\n",
    "\n",
    "@typedispatch\n",
    "def get_pred_sparse(fname:str, n_lbl:int):\n",
    "    with open(fname, 'rb') as f: out = pickle.load(f)\n",
    "    pred_ptr = torch.concat([torch.zeros((1,), dtype=torch.long), out.pred_ptr.cumsum(dim=0)])\n",
    "    return sparse.csr_matrix((out.pred_score, out.pred_idx, pred_ptr), shape=(len(out.pred_ptr), n_lbl))\n",
    "\n",
    "@typedispatch\n",
    "def load_pred_sparse(fname:str):\n",
    "    o = np.load(fname)\n",
    "    return sparse.csr_matrix((o['data'], o['indices'], o['indptr']), dtype=float, shape=o['shape'])\n",
    "\n",
    "def get_output(fname:str, n_lbl:int, pred_type:Optional[str]='repr_output'):\n",
    "    with open(pname, 'rb') as f: out = pickle.load(f)\n",
    "    preds,targ = get_output_sparse(**getattr(out,pred_type), n_lbl=n_lbl)\n",
    "    return preds, targ\n",
    "    "
   ]
  },
  {
   "cell_type": "code",
   "execution_count": null,
   "id": "fc769a69-6083-4a1f-818e-66531e9d28b0",
   "metadata": {},
   "outputs": [],
   "source": []
  },
  {
   "cell_type": "markdown",
   "id": "ebe5c3b4-9531-4bfa-8188-3c63a2e02dba",
   "metadata": {
    "jp-MarkdownHeadingCollapsed": true
   },
   "source": [
    "#### Example"
   ]
  },
  {
   "cell_type": "code",
   "execution_count": 18,
   "id": "89cbf9fd-d609-4e1a-bc26-aa02da05700d",
   "metadata": {},
   "outputs": [],
   "source": [
    "import pickle\n",
    "\n",
    "mname = '/home/scai/phd/aiz218323/scratch/outputs/67-ngame-ep-for-wikiseealso-with-input-concatenation-1-2/checkpoint-130000/'\n",
    "fname = f'{mname}/predictions/test_predictions.pkl'\n",
    "\n",
    "with open(fname, 'rb') as file: out = pickle.load(file)"
   ]
  },
  {
   "cell_type": "code",
   "execution_count": 19,
   "id": "e2e63530-8e70-4436-b37a-1d759f590dfb",
   "metadata": {},
   "outputs": [],
   "source": [
    "pred = get_pred_sparse(fname, block.n_lbl)"
   ]
  },
  {
   "cell_type": "code",
   "execution_count": 20,
   "id": "02a6e146-a4e0-41a1-ad7d-fdc5fdad420d",
   "metadata": {},
   "outputs": [],
   "source": [
    "pred = get_pred_sparse(out, block.n_lbl)"
   ]
  },
  {
   "cell_type": "code",
   "execution_count": 21,
   "id": "ae1cdbfb-2d3c-4055-b16b-8257f252c393",
   "metadata": {},
   "outputs": [
    {
     "data": {
      "text/plain": [
       "<177515x312330 sparse matrix of type '<class 'numpy.float32'>'\n",
       "\twith 35503000 stored elements in Compressed Sparse Row format>"
      ]
     },
     "execution_count": 21,
     "metadata": {},
     "output_type": "execute_result"
    }
   ],
   "source": [
    "pred"
   ]
  },
  {
   "cell_type": "markdown",
   "id": "9e6a3a44-0390-4da9-987f-dfb48f814dfb",
   "metadata": {},
   "source": [
    "### Formatter"
   ]
  },
  {
   "cell_type": "code",
   "execution_count": 13,
   "id": "c6b4be4e-2551-428c-ae5e-3a30f734389b",
   "metadata": {},
   "outputs": [],
   "source": [
    "#| export\n",
    "def html(text:str, c='green'): return f'<text style=color:{c}>{text}</text>'"
   ]
  },
  {
   "cell_type": "code",
   "execution_count": 14,
   "id": "ba67b1f7-26a7-4242-946c-5cf31e1ca584",
   "metadata": {},
   "outputs": [],
   "source": [
    "#| export\n",
    "class TextColumns(Dataset):\n",
    "    \n",
    "    def __init__(self, x, pat='.*_text$'):\n",
    "        self.x, self.pat = x, pat\n",
    "    \n",
    "    def __getitem__(self, idx):\n",
    "        o = self.x[idx]\n",
    "        return {k:v for k,v in o.items() if re.match(self.pat, k)}\n",
    "    "
   ]
  },
  {
   "cell_type": "code",
   "execution_count": 15,
   "id": "40ab09b8-9008-4941-a021-ebb94e166e69",
   "metadata": {},
   "outputs": [],
   "source": [
    "#| export\n",
    "def display_text(pred_dset:Dataset, data_dset:Dataset, idxs:List):\n",
    "    color = [('red','green'), ('black','blue')]\n",
    "    text = []\n",
    "    for i,idx in enumerate(idxs):\n",
    "        c = color[i%len(color)]\n",
    "        pred_text = \"<br>\".join([f'{html(k,color[0][0])}: {html(v,color[0][1])}' for k,v in pred_dset[idx].items()])\n",
    "        data_text = \"<br>\".join([f'{html(k,color[1][0])}: {html(v,color[1][1])}' for k,v in data_dset[idx].items()])\n",
    "        text.append(\"<br>\".join([pred_text,data_text]))\n",
    "    return \"<br><br>\".join(text)\n",
    "\n",
    "\n",
    "def compare_text(pred1_dset:Dataset, pred2_dset:Dataset, data_dset:Dataset, idxs:List):\n",
    "    color = [('red','green'), ('black','blue'), ('orange', 'brown')]\n",
    "    text = []\n",
    "    for i,idx in enumerate(idxs):\n",
    "        c = color[i%len(color)]\n",
    "        pred1_text = \"<br>\".join([f'{html(k,color[0][0])}: {html(v,color[0][1])}' for k,v in pred1_dset[idx].items()])\n",
    "        pred2_text = \"<br>\".join([f'{html(k,color[1][0])}: {html(v,color[1][1])}' for k,v in pred2_dset[idx].items()])\n",
    "        data_text = \"<br>\".join([f'{html(k,color[2][0])}: {html(v,color[2][1])}' for k,v in data_dset[idx].items()])\n",
    "        text.append(\"<br>\".join([pred1_text,pred2_text,data_text]))\n",
    "    return \"<br><br>\".join(text)\n",
    "    "
   ]
  },
  {
   "cell_type": "markdown",
   "id": "449f6899-2717-4401-953f-4c5ca3c1aac4",
   "metadata": {},
   "source": [
    "#### Example"
   ]
  },
  {
   "cell_type": "code",
   "execution_count": 52,
   "id": "a5b400e9-191f-4120-92f6-033585acc883",
   "metadata": {},
   "outputs": [],
   "source": [
    "from IPython.display import HTML\n",
    "import pandas as pd\n",
    "from xclib.utils.sparse import retain_topk"
   ]
  },
  {
   "cell_type": "code",
   "execution_count": 82,
   "id": "51afcc90-f005-42f9-ae8d-7c0abb4c8987",
   "metadata": {},
   "outputs": [],
   "source": [
    "pattern = r'^(data|lbl2data|cat2data)_input_text$'\n",
    "\n",
    "pred_dset = TextColumns(get_pred_dset(retain_topk(pred, k=5), block), pat=pattern)\n",
    "test_dset = TextColumns(block.test.dset, pat=pattern)"
   ]
  },
  {
   "cell_type": "code",
   "execution_count": 68,
   "id": "ca7d1183-310b-4c6c-8c77-5e6d41563fea",
   "metadata": {},
   "outputs": [
    {
     "name": "stderr",
     "output_type": "stream",
     "text": [
      "/scratch/scai/phd/aiz218323/anaconda3/envs/xc_nlg_2/lib/python3.9/site-packages/scipy/sparse/_index.py:151: SparseEfficiencyWarning: Changing the sparsity structure of a csr_matrix is expensive. lil_matrix is more efficient.\n",
      "  self._set_arrayXarray(i, j, x)\n"
     ]
    }
   ],
   "source": [
    "prec = pointwise_eval(pred, block.test.dset.data.data_lbl, block.test.dset.data.data_lbl_filterer)\n",
    "idxs = np.argsort(-np.array(prec.sum(axis=1)).squeeze())"
   ]
  },
  {
   "cell_type": "code",
   "execution_count": null,
   "id": "e3db66ee-70ec-4434-a91e-6546043b2ca0",
   "metadata": {},
   "outputs": [],
   "source": [
    "HTML(display_text(pred_dset, test_dset, idxs=idxs[:5]))"
   ]
  },
  {
   "cell_type": "code",
   "execution_count": null,
   "id": "63f35132-6756-49d4-a0c5-4a2ec07fd105",
   "metadata": {},
   "outputs": [],
   "source": []
  },
  {
   "cell_type": "code",
   "execution_count": null,
   "id": "2c465936-d673-4540-94b2-312eb997fa6a",
   "metadata": {},
   "outputs": [],
   "source": []
  },
  {
   "cell_type": "code",
   "execution_count": null,
   "id": "00ee3609-cf39-446a-a2f4-9eb5732a8ffb",
   "metadata": {},
   "outputs": [],
   "source": []
  },
  {
   "cell_type": "code",
   "execution_count": 93,
   "id": "26d1c5e8-6380-45b6-a00f-de93fe3e17a9",
   "metadata": {},
   "outputs": [],
   "source": [
    "data_meta = retain_topk(block.test.dset.meta.lnk_meta.data_meta, k=3)\n",
    "lbl_meta = block.test.dset.meta.lnk_meta.lbl_meta\n",
    "block.test.dset.meta.lnk_meta.update_meta_matrix(data_meta, lbl_meta)"
   ]
  },
  {
   "cell_type": "code",
   "execution_count": 83,
   "id": "fc54f607-fa8f-4a97-868a-c3ba3f6a710b",
   "metadata": {},
   "outputs": [],
   "source": [
    "pattern = r'^(data|lbl2data|lnk2data)_input_text$'\n",
    "\n",
    "momos_dset = TextColumns(get_pred_dset(retain_topk(pred, k=5), block), pat=pattern)\n",
    "oak_dset = TextColumns(get_pred_dset(retain_topk(pred, k=5), block), pat=pattern)\n",
    "test_dset = TextColumns(block.test.dset, pat=pattern)"
   ]
  },
  {
   "cell_type": "code",
   "execution_count": 87,
   "id": "0edf202a-26e8-48bf-ac0f-c8bdd5098d6e",
   "metadata": {},
   "outputs": [],
   "source": [
    "momos_eval = pointwise_eval(pred, block.test.dset.data.data_lbl, block.test.dset.data.data_lbl_filterer)\n",
    "oak_eval = pointwise_eval(pred, block.test.dset.data.data_lbl, block.test.dset.data.data_lbl_filterer)\n",
    "\n",
    "momos_eval = np.array(momos_eval.sum(axis=1)).squeeze()\n",
    "oak_eval = np.array(oak_eval.sum(axis=1)).squeeze()"
   ]
  },
  {
   "cell_type": "code",
   "execution_count": 88,
   "id": "be33de1d-ca87-42c8-b6be-0e07262e6ac1",
   "metadata": {},
   "outputs": [],
   "source": [
    "idxs = np.argsort(oak_eval - momos_eval)[:10]"
   ]
  },
  {
   "cell_type": "code",
   "execution_count": null,
   "id": "b0dbe082-3190-46b8-a5c7-9ffe5fb06867",
   "metadata": {},
   "outputs": [],
   "source": []
  },
  {
   "cell_type": "code",
   "execution_count": 127,
   "id": "ce7dd3a6-fdaf-48bc-ae1b-b880bd99f715",
   "metadata": {},
   "outputs": [],
   "source": [
    "def display_momos(momos_dset:Dataset, oak_dset:Dataset, test_dset:Dataset, idxs:List):\n",
    "    df = pd.DataFrame([test_dset[i] for i in idxs])\n",
    "\n",
    "    df = df.rename({'data_input_text':'Document', 'lbl2data_input_text': 'Ground truth labels', 'lnk2data_input_text':'Predicted metadata'}, axis=1)\n",
    "    momos_df = pd.DataFrame({'MOMOS predictions': [momos_dset[i]['lbl2data_input_text'] for i in idxs]})\n",
    "    oak_df = pd.DataFrame({'OAK predictions': [oak_dset[i]['lbl2data_input_text'] for i in idxs]})\n",
    "    \n",
    "    df = pd.concat([df, momos_df, oak_df], axis=1)\n",
    "    return df\n",
    "    "
   ]
  },
  {
   "cell_type": "code",
   "execution_count": 128,
   "id": "125502b2-e6ff-40fc-b182-67e22fe09da9",
   "metadata": {
    "scrolled": true
   },
   "outputs": [
    {
     "data": {
      "text/html": [
       "<div>\n",
       "<style scoped>\n",
       "    .dataframe tbody tr th:only-of-type {\n",
       "        vertical-align: middle;\n",
       "    }\n",
       "\n",
       "    .dataframe tbody tr th {\n",
       "        vertical-align: top;\n",
       "    }\n",
       "\n",
       "    .dataframe thead th {\n",
       "        text-align: right;\n",
       "    }\n",
       "</style>\n",
       "<table border=\"1\" class=\"dataframe\">\n",
       "  <thead>\n",
       "    <tr style=\"text-align: right;\">\n",
       "      <th></th>\n",
       "      <th>Document</th>\n",
       "      <th>Ground truth labels</th>\n",
       "      <th>Predicted metadata</th>\n",
       "      <th>MOMOS predictions</th>\n",
       "      <th>OAK predictions</th>\n",
       "    </tr>\n",
       "  </thead>\n",
       "  <tbody>\n",
       "    <tr>\n",
       "      <th>0</th>\n",
       "      <td>Outline of Korean language</td>\n",
       "      <td>[Outline of Esperanto, Outline of German language]</td>\n",
       "      <td>[Korea-related lists, Korean language, Wikipedia outlines]</td>\n",
       "      <td>[Sino-Korean vocabulary, Korean mixed script, New Korean Orthography, Korean language, History of the Korean language]</td>\n",
       "      <td>[Sino-Korean vocabulary, Korean mixed script, New Korean Orthography, Korean language, History of the Korean language]</td>\n",
       "    </tr>\n",
       "    <tr>\n",
       "      <th>1</th>\n",
       "      <td>Schooners Sports and Entertainment</td>\n",
       "      <td>[Touchdown Atlantic, CFL Expansion]</td>\n",
       "      <td>[Sports marketing, Culture ministries, Sports ministries]</td>\n",
       "      <td>[List of schooners, Sea shanty, CFL Expansion, Great Old One, Double Dribble]</td>\n",
       "      <td>[List of schooners, Sea shanty, CFL Expansion, Great Old One, Double Dribble]</td>\n",
       "    </tr>\n",
       "    <tr>\n",
       "      <th>2</th>\n",
       "      <td>Abu Ishaq al-Saffar al-Bukhari</td>\n",
       "      <td>[List of Ash'aris and Maturidis, Abu Hanifa, Abu al-Mu'in al-Nasafi, Abu al-Yusr al-Bazdawi, Abu Mansur al-Maturidi]</td>\n",
       "      <td>[Year of birth unknown, Medieval Persian physicians, 8th-century Iranian people]</td>\n",
       "      <td>[List of Shi'a Muslims, Muhammad al-KulaynÃÂ«, Shaykh al-Hur al-ÃÂmilÃÂ«, Shaykh al-SadÃ",
       "Â«q, Abu Bakr Shibli]</td>\n",
       "      <td>[List of Shi'a Muslims, Muhammad al-KulaynÃÂ«, Shaykh al-Hur al-ÃÂmilÃÂ«, Shaykh al-SadÃ",
       "Â«q, Abu Bakr Shibli]</td>\n",
       "    </tr>\n",
       "    <tr>\n",
       "      <th>3</th>\n",
       "      <td>Sunchales Aeroclub Airport</td>\n",
       "      <td>[Aviation, Argentina, Transport in Argentina, List of airports in Argentina]</td>\n",
       "      <td>[Airports in Chile, Airports in Argentina, Buenos Aires Province]</td>\n",
       "      <td>[List of airports in the Czech Republic, List of airports in Brazil, List of airports in Argentina, List of airports in Uruguay, Altiport]</td>\n",
       "      <td>[List of airports in the Czech Republic, List of airports in Brazil, List of airports in Argentina, List of airports in Uruguay, Altiport]</td>\n",
       "    </tr>\n",
       "    <tr>\n",
       "      <th>4</th>\n",
       "      <td>Template:KMDb person/doc</td>\n",
       "      <td>[KMDb documentary]</td>\n",
       "      <td>[People and person external link templates, External link templates using Wikidata, Templates that add a tracking category]</td>\n",
       "      <td>[MongoDB, Comparison of structured storage software, RocksDB, KMDb documentary, KMDb person]</td>\n",
       "      <td>[MongoDB, Comparison of structured storage software, RocksDB, KMDb documentary, KMDb person]</td>\n",
       "    </tr>\n",
       "    <tr>\n",
       "      <th>5</th>\n",
       "      <td>Belgian Office for Intellectual Property</td>\n",
       "      <td>[European patent law, European Patent Office, Patent offices in Europe]</td>\n",
       "      <td>[Intellectual property organizations, Patent offices, Science and technology in Belgium]</td>\n",
       "      <td>[Copyright law of the European Union, Directive on the enforcement of intellectual property rights, European Union Intellectual Property Office, Directive on criminal measures aimed at ensuring the enforcement of intellectual property rights, European patent law]</td>\n",
       "      <td>[Copyright law of the European Union, Directive on the enforcement of intellectual property rights, European Union Intellectual Property Office, Directive on criminal measures aimed at ensuring the enforcement of intellectual property rights, European patent law]</td>\n",
       "    </tr>\n",
       "    <tr>\n",
       "      <th>6</th>\n",
       "      <td>Clean Needle Technique</td>\n",
       "      <td>[Regulation of acupuncture]</td>\n",
       "      <td>[Human positions, Dance technique, Ballroom dance technique]</td>\n",
       "      <td>[Microbiological culture, Toeprinting assay, Blood culture, Ultrasonic cleaning, Sharps waste]</td>\n",
       "      <td>[Microbiological culture, Toeprinting assay, Blood culture, Ultrasonic cleaning, Sharps waste]</td>\n",
       "    </tr>\n",
       "    <tr>\n",
       "      <th>7</th>\n",
       "      <td>Miguel Arribas</td>\n",
       "      <td>[List of Puerto Ricans, List of mayors of Ponce, Puerto Rico]</td>\n",
       "      <td>[Living people, Puerto Rican independence activists, Presidents of Venezuela]</td>\n",
       "      <td>[Martyrs of the Spanish Civil War, Roman Catholic Diocese of Antipolo, List of Filipino Saints, Blesseds, and Servants of God, Fifteen Martyrs of Bicol, Roman Catholic Archdiocese of Manila]</td>\n",
       "      <td>[Martyrs of the Spanish Civil War, Roman Catholic Diocese of Antipolo, List of Filipino Saints, Blesseds, and Servants of God, Fifteen Martyrs of Bicol, Roman Catholic Archdiocese of Manila]</td>\n",
       "    </tr>\n",
       "    <tr>\n",
       "      <th>8</th>\n",
       "      <td>Hopen (municipality)</td>\n",
       "      <td>[List of former municipalities of Norway]</td>\n",
       "      <td>[1838 establishments in Norway, Former municipalities of Norway, 1964 disestablishments in Norway]</td>\n",
       "      <td>[List of former municipalities of Norway, Runde Bridge, lists of villages in Norway, List of churches in HelsingÃÂ¸r Municipality, List of protected areas of HillerÃÂ¸d Municipality]</td>\n",
       "      <td>[List of former municipalities of Norway, Runde Bridge, lists of villages in Norway, List of churches in HelsingÃÂ¸r Municipality, List of protected areas of HillerÃÂ¸d Municipality]</td>\n",
       "    </tr>\n",
       "    <tr>\n",
       "      <th>9</th>\n",
       "      <td>Witch Story</td>\n",
       "      <td>[List of Italian films of 1989, List of horror films of 1989]</td>\n",
       "      <td>[1987 horror films, Films about witchcraft, Supernatural horror films]</td>\n",
       "      <td>[Witch trials in the early modern period, North Berwick witch trials, Witch trial, Witchcraft accusations against children, Modern witch-hunts]</td>\n",
       "      <td>[Witch trials in the early modern period, North Berwick witch trials, Witch trial, Witchcraft accusations against children, Modern witch-hunts]</td>\n",
       "    </tr>\n",
       "  </tbody>\n",
       "</table>\n",
       "</div>"
      ],
      "text/plain": [
       "                                   Document  \\\n",
       "0                Outline of Korean language   \n",
       "1        Schooners Sports and Entertainment   \n",
       "2            Abu Ishaq al-Saffar al-Bukhari   \n",
       "3                Sunchales Aeroclub Airport   \n",
       "4                  Template:KMDb person/doc   \n",
       "5  Belgian Office for Intellectual Property   \n",
       "6                    Clean Needle Technique   \n",
       "7                            Miguel Arribas   \n",
       "8                      Hopen (municipality)   \n",
       "9                               Witch Story   \n",
       "\n",
       "                                                                                                    Ground truth labels  \\\n",
       "0                                                                    [Outline of Esperanto, Outline of German language]   \n",
       "1                                                                                   [Touchdown Atlantic, CFL Expansion]   \n",
       "2  [List of Ash'aris and Maturidis, Abu Hanifa, Abu al-Mu'in al-Nasafi, Abu al-Yusr al-Bazdawi, Abu Mansur al-Maturidi]   \n",
       "3                                          [Aviation, Argentina, Transport in Argentina, List of airports in Argentina]   \n",
       "4                                                                                                    [KMDb documentary]   \n",
       "5                                               [European patent law, European Patent Office, Patent offices in Europe]   \n",
       "6                                                                                           [Regulation of acupuncture]   \n",
       "7                                                         [List of Puerto Ricans, List of mayors of Ponce, Puerto Rico]   \n",
       "8                                                                             [List of former municipalities of Norway]   \n",
       "9                                                         [List of Italian films of 1989, List of horror films of 1989]   \n",
       "\n",
       "                                                                                                            Predicted metadata  \\\n",
       "0                                                                   [Korea-related lists, Korean language, Wikipedia outlines]   \n",
       "1                                                                    [Sports marketing, Culture ministries, Sports ministries]   \n",
       "2                                             [Year of birth unknown, Medieval Persian physicians, 8th-century Iranian people]   \n",
       "3                                                            [Airports in Chile, Airports in Argentina, Buenos Aires Province]   \n",
       "4  [People and person external link templates, External link templates using Wikidata, Templates that add a tracking category]   \n",
       "5                                     [Intellectual property organizations, Patent offices, Science and technology in Belgium]   \n",
       "6                                                                 [Human positions, Dance technique, Ballroom dance technique]   \n",
       "7                                                [Living people, Puerto Rican independence activists, Presidents of Venezuela]   \n",
       "8                           [1838 establishments in Norway, Former municipalities of Norway, 1964 disestablishments in Norway]   \n",
       "9                                                       [1987 horror films, Films about witchcraft, Supernatural horror films]   \n",
       "\n",
       "                                                                                                                                                                                                                                                         MOMOS predictions  \\\n",
       "0                                                                                                                                                   [Sino-Korean vocabulary, Korean mixed script, New Korean Orthography, Korean language, History of the Korean language]   \n",
       "1                                                                                                                                                                                            [List of schooners, Sea shanty, CFL Expansion, Great Old One, Double Dribble]   \n",
       "2                                                                                                                                                       [List of Shi'a Muslims, Muhammad al-KulaynÃÂ«, Shaykh al-Hur al-ÃÂmilÃÂ«, Shaykh al-SadÃ\n",
       "Â«q, Abu Bakr Shibli]   \n",
       "3                                                                                                                               [List of airports in the Czech Republic, List of airports in Brazil, List of airports in Argentina, List of airports in Uruguay, Altiport]   \n",
       "4                                                                                                                                                                             [MongoDB, Comparison of structured storage software, RocksDB, KMDb documentary, KMDb person]   \n",
       "5  [Copyright law of the European Union, Directive on the enforcement of intellectual property rights, European Union Intellectual Property Office, Directive on criminal measures aimed at ensuring the enforcement of intellectual property rights, European patent law]   \n",
       "6                                                                                                                                                                           [Microbiological culture, Toeprinting assay, Blood culture, Ultrasonic cleaning, Sharps waste]   \n",
       "7                                                                           [Martyrs of the Spanish Civil War, Roman Catholic Diocese of Antipolo, List of Filipino Saints, Blesseds, and Servants of God, Fifteen Martyrs of Bicol, Roman Catholic Archdiocese of Manila]   \n",
       "8                                                                                 [List of former municipalities of Norway, Runde Bridge, lists of villages in Norway, List of churches in HelsingÃÂ¸r Municipality, List of protected areas of HillerÃÂ¸d Municipality]   \n",
       "9                                                                                                                          [Witch trials in the early modern period, North Berwick witch trials, Witch trial, Witchcraft accusations against children, Modern witch-hunts]   \n",
       "\n",
       "                                                                                                                                                                                                                                                           OAK predictions  \n",
       "0                                                                                                                                                   [Sino-Korean vocabulary, Korean mixed script, New Korean Orthography, Korean language, History of the Korean language]  \n",
       "1                                                                                                                                                                                            [List of schooners, Sea shanty, CFL Expansion, Great Old One, Double Dribble]  \n",
       "2                                                                                                                                                       [List of Shi'a Muslims, Muhammad al-KulaynÃÂ«, Shaykh al-Hur al-ÃÂmilÃÂ«, Shaykh al-SadÃ\n",
       "Â«q, Abu Bakr Shibli]  \n",
       "3                                                                                                                               [List of airports in the Czech Republic, List of airports in Brazil, List of airports in Argentina, List of airports in Uruguay, Altiport]  \n",
       "4                                                                                                                                                                             [MongoDB, Comparison of structured storage software, RocksDB, KMDb documentary, KMDb person]  \n",
       "5  [Copyright law of the European Union, Directive on the enforcement of intellectual property rights, European Union Intellectual Property Office, Directive on criminal measures aimed at ensuring the enforcement of intellectual property rights, European patent law]  \n",
       "6                                                                                                                                                                           [Microbiological culture, Toeprinting assay, Blood culture, Ultrasonic cleaning, Sharps waste]  \n",
       "7                                                                           [Martyrs of the Spanish Civil War, Roman Catholic Diocese of Antipolo, List of Filipino Saints, Blesseds, and Servants of God, Fifteen Martyrs of Bicol, Roman Catholic Archdiocese of Manila]  \n",
       "8                                                                                 [List of former municipalities of Norway, Runde Bridge, lists of villages in Norway, List of churches in HelsingÃÂ¸r Municipality, List of protected areas of HillerÃÂ¸d Municipality]  \n",
       "9                                                                                                                          [Witch trials in the early modern period, North Berwick witch trials, Witch trial, Witchcraft accusations against children, Modern witch-hunts]  "
      ]
     },
     "execution_count": 128,
     "metadata": {},
     "output_type": "execute_result"
    }
   ],
   "source": [
    "display_momos(momos_dset, oak_dset, test_dset, idxs[:10])"
   ]
  },
  {
   "cell_type": "code",
   "execution_count": null,
   "id": "e6eb008d-0e91-4312-a1cc-cdea2ed84ce2",
   "metadata": {},
   "outputs": [],
   "source": []
  }
 ],
 "metadata": {
  "kernelspec": {
   "display_name": "Python 3 (ipykernel)",
   "language": "python",
   "name": "python3"
  },
  "language_info": {
   "codemirror_mode": {
    "name": "ipython",
    "version": 3
   },
   "file_extension": ".py",
   "mimetype": "text/x-python",
   "name": "python",
   "nbconvert_exporter": "python",
   "pygments_lexer": "ipython3",
   "version": "3.9.19"
  }
 },
 "nbformat": 4,
 "nbformat_minor": 5
}
