{
 "cells": [
  {
   "cell_type": "markdown",
   "id": "b2941ced-d510-44a9-9fe6-51fd14a7a026",
   "metadata": {},
   "source": [
    "# analysis"
   ]
  },
  {
   "cell_type": "code",
   "execution_count": null,
   "id": "85b8e731-bfa1-4333-8e64-ed97ea853102",
   "metadata": {},
   "outputs": [],
   "source": [
    "#| default_exp analysis"
   ]
  },
  {
   "cell_type": "code",
   "execution_count": null,
   "id": "735b2680-c11b-4080-a004-527dee3b6d6b",
   "metadata": {},
   "outputs": [],
   "source": [
    "#| export\n",
    "import os,torch, torch.multiprocessing as mp, pickle, numpy as np, re\n",
    "from typing import Optional, Dict, List, Tuple\n",
    "from torch.utils.data import Dataset\n",
    "from scipy import sparse\n",
    "import matplotlib.pyplot as plt\n",
    "\n",
    "from fastcore.dispatch import *\n",
    "\n",
    "from xcai.basics import *\n",
    "from xcai.data import *\n",
    "from xcai.learner import XCPredictionOutput\n",
    "\n",
    "import xclib.utils.sparse as xc_sparse\n",
    "import xclib.evaluation.xc_metrics as xc_metrics\n",
    "import xclib.data.data_utils as du \n",
    "\n",
    "from IPython.display import HTML"
   ]
  },
  {
   "cell_type": "code",
   "execution_count": null,
   "id": "adcfc5ef-762f-427f-93b3-8569a8696ace",
   "metadata": {},
   "outputs": [],
   "source": [
    "#| hide\n",
    "from nbdev.showdoc import *\n",
    "import nbdev; nbdev.nbdev_export()"
   ]
  },
  {
   "cell_type": "markdown",
   "id": "33986d41-bbe3-463b-8b7c-40b8bf2f5c6e",
   "metadata": {},
   "source": [
    "## Setup"
   ]
  },
  {
   "cell_type": "code",
   "execution_count": null,
   "id": "b86c430c-4195-4e9d-97cb-1c32ec8e1711",
   "metadata": {},
   "outputs": [],
   "source": [
    "pkl_dir = '/home/scai/phd/aiz218323/scratch/datasets/processed/'\n",
    "pkl_file = f'{pkl_dir}/wikiseealso_data-meta_distilbert-base-uncased_rm_ramen-cat.pkl'"
   ]
  },
  {
   "cell_type": "code",
   "execution_count": null,
   "id": "ab711df6-7f95-4797-b1bf-213a4df5ee9c",
   "metadata": {},
   "outputs": [],
   "source": [
    "with open(pkl_file, 'rb') as file: block = pickle.load(file)"
   ]
  },
  {
   "cell_type": "markdown",
   "id": "656cd55c-608c-4671-8884-9ae504fd30c1",
   "metadata": {},
   "source": [
    "## Metric"
   ]
  },
  {
   "cell_type": "code",
   "execution_count": null,
   "id": "5a8b9e15-69bd-47d1-b398-e73963e97d89",
   "metadata": {},
   "outputs": [],
   "source": [
    "#| export\n",
    "def pointwise_eval(pred_lbl:sparse.csr_matrix, data_lbl:sparse.csr_matrix, data_lbl_filterer:Optional[np.ndarray]=None,\n",
    "                   topk:Optional[int]=5, metric:Optional[str]='P', return_type:Optional[str]='M'):\n",
    "    \n",
    "    if data_lbl_filterer is not None:\n",
    "        pred_lbl = Filterer.apply(pred_lbl, data_lbl_filterer)\n",
    "        data_lbl = Filterer.apply(data_lbl, data_lbl_filterer)\n",
    "        \n",
    "    pred_lbl = xc_sparse.retain_topk(pred_lbl, k=topk)\n",
    "        \n",
    "    scores = pred_lbl.multiply(data_lbl)\n",
    "    scores.data[:] = 1\n",
    "        \n",
    "    if metric == 'P':\n",
    "        scores = scores.multiply(1/(topk * data_lbl.shape[0]))\n",
    "    elif metric == 'R':\n",
    "        d = data_lbl.getnnz(axis=1) * data_lbl.shape[0]\n",
    "        scores = scores.multiply(1/d.reshape(-1,1))\n",
    "    elif metric == 'FN':\n",
    "        scores = data_lbl - scores\n",
    "        scores.eliminate_zeros()\n",
    "        lbl_cnt = data_lbl.getnnz(axis=0)\n",
    "        scores = scores.multiply(1/(lbl_cnt * data_lbl.shape[1]))\n",
    "\n",
    "    if return_type == 'M': return scores\n",
    "    elif return_type == 'L': return np.ravel(scores.sum(axis=0))\n",
    "    else: return np.ravel(scores.sum(axis=1))\n",
    "    "
   ]
  },
  {
   "cell_type": "markdown",
   "id": "b9323a96-126c-4a13-8579-f962bc89177a",
   "metadata": {},
   "source": [
    "## Decile plot"
   ]
  },
  {
   "cell_type": "code",
   "execution_count": null,
   "id": "8a7e03c4-6d5a-4127-9ec4-377edfcd9a2f",
   "metadata": {},
   "outputs": [],
   "source": [
    "#| export\n",
    "def equal_volume_split(data_lbl:sparse.csr_matrix, n_split:int):\n",
    "    lbl_cnt = data_lbl.getnnz(axis=0)\n",
    "    lbl_idx = np.argsort(-lbl_cnt)\n",
    "    thresh = lbl_cnt.sum()/n_split\n",
    "    \n",
    "    splits,split,cnt = [],[],0\n",
    "    for idx in lbl_idx:\n",
    "        cnt += lbl_cnt[idx]\n",
    "        split.append(idx)\n",
    "\n",
    "        if cnt > thresh: \n",
    "            splits.append(split)\n",
    "            split,cnt = [],0\n",
    "\n",
    "    if len(split): splits.append(split)\n",
    "    \n",
    "    if len(splits) != n_split: raise ValueError(f'Number of splits created less than {n_split}.')\n",
    "    splits.append(lbl_idx.tolist())\n",
    "    \n",
    "    lbl_cnt = lbl_cnt.astype(np.float32)\n",
    "    lbl_cnt[lbl_cnt == 0] = np.nan\n",
    "    info = [f'{i+1}\\n{len(split)//1000}K\\n{np.nanmean(lbl_cnt[split]):.2f}' for i,split in enumerate(splits)]\n",
    "    return splits,info\n",
    "    "
   ]
  },
  {
   "cell_type": "code",
   "execution_count": null,
   "id": "87db99ae-0da7-4ce3-a9cf-e6752edd37d3",
   "metadata": {},
   "outputs": [],
   "source": [
    "#| export\n",
    "def get_decile_stats(pred_lbl:sparse.csr_matrix, data_lbl:sparse.csr_matrix, data_lbl_filterer:np.ndarray, \n",
    "                     n_split:Optional[int]=5, topk:Optional[int]=5, metric:Optional[str]='P'):\n",
    "    \n",
    "    evals = pointwise_eval(pred_lbl, data_lbl, data_lbl_filterer, topk=topk, metric=metric)\n",
    "    splits, info = equal_volume_split(data_lbl, n_split)\n",
    "    values = [evals[:, split].sum()*100 for split in splits]\n",
    "    return info, values\n"
   ]
  },
  {
   "cell_type": "code",
   "execution_count": null,
   "id": "562c7610-9afd-4e1d-aadc-ea4b90ccbaba",
   "metadata": {},
   "outputs": [],
   "source": [
    "#| export\n",
    "def barplot(scores:Dict, title:Optional[str]='', ylabel:Optional[str]='', figsize:Optional[Tuple]=(15,10)):\n",
    "    n_proc,n_split = len(scores),len(list(scores.values())[0][0])\n",
    "    idx, width = np.arange(n_split), 0.8/n_proc\n",
    "    \n",
    "    fig, ax = plt.subplots(figsize=figsize)\n",
    "\n",
    "    shift = 0\n",
    "    for proc,(info,values) in scores.items(): \n",
    "        x = idx + shift\n",
    "        ax.bar(x=x, height=values, width=width, alpha=1, label=proc)\n",
    "        shift += width\n",
    "\n",
    "    shift = (n_proc//2)*width if n_proc%2 else width/2 + ((n_proc-1)//2)*width\n",
    "\n",
    "    ax.set_title(title, fontsize=22)\n",
    "\n",
    "    ax.set_xlabel('Quantiles \\n (Increasing Freq.)', fontsize=18)\n",
    "    ax.set_ylabel(ylabel, fontsize=18)\n",
    "\n",
    "    ax.set_xticks(idx + shift, info, fontsize=14)\n",
    "    for o in ax.get_yticklabels(): o.set_fontsize(14)\n",
    "\n",
    "    ax.legend(fontsize=14)\n",
    "    "
   ]
  },
  {
   "cell_type": "code",
   "execution_count": null,
   "id": "ed35af6a-a3aa-4792-bc47-fea776c4e634",
   "metadata": {},
   "outputs": [],
   "source": [
    "#| export\n",
    "def decile_plot(preds:Dict, n_split:Optional[int]=5, topk:Optional[int]=5, metric:Optional[str]='P', \n",
    "                figsize:Optional[Tuple]=(15,10), title:Optional[str]=''):\n",
    "    scores = {}\n",
    "\n",
    "    for method, pred in preds.items():\n",
    "        info, values = get_decile_stats(pred, block.test.dset.data.data_lbl, block.test.data_lbl_filterer, \n",
    "                                        n_split=5, topk=5, metric='P')\n",
    "        scores[method] = (info,values)\n",
    "    \n",
    "    barplot(scores, title, f'{metric}@{topk}', figsize)\n",
    "    "
   ]
  },
  {
   "cell_type": "markdown",
   "id": "d0828e7c-9eba-482b-ba9c-572acbb720b6",
   "metadata": {},
   "source": [
    "## Display text"
   ]
  },
  {
   "cell_type": "markdown",
   "id": "aaa6f1d8-8af9-4c4b-9349-79c37aa7ce85",
   "metadata": {},
   "source": [
    "### Dataset"
   ]
  },
  {
   "cell_type": "code",
   "execution_count": null,
   "id": "f9c34d65-1972-4dd6-8d4d-afdc12eec28e",
   "metadata": {},
   "outputs": [],
   "source": [
    "#| export\n",
    "@typedispatch\n",
    "def get_pred_dset(pred:sparse.csr_matrix, block:XCDataBlock):\n",
    "    data = MainXCDataset(block.test.dset.data.data_info, pred, block.test.dset.data.lbl_info, \n",
    "                         block.test.dset.data.data_lbl_filterer)\n",
    "    return XCDataset(data, **block.test.dset.meta)\n",
    "\n",
    "\n",
    "@typedispatch\n",
    "def get_pred_dset(pred:sparse.csr_matrix, dset:XCDataset):\n",
    "    data = MainXCDataset(dset.data.data_info, pred, dset.data.lbl_info, dset.data.data_lbl_filterer)\n",
    "    return XCDataset(data, **dset.meta)\n",
    "\n",
    "@typedispatch\n",
    "def get_pred_dset(pred:sparse.csr_matrix, dset:MainXCDataset):\n",
    "    return MainXCDataset(dset.data_info, pred, dset.lbl_info, dset.data_lbl_filterer)\n",
    "    "
   ]
  },
  {
   "cell_type": "markdown",
   "id": "98fdc9d3-a0bf-4a88-ad2b-e67f0b289528",
   "metadata": {},
   "source": [
    "#### Example"
   ]
  },
  {
   "cell_type": "code",
   "execution_count": null,
   "id": "e51d5b87-7b51-492f-b9ec-e3ef8a9b4d20",
   "metadata": {},
   "outputs": [],
   "source": [
    "pred = sparse.csr_matrix((block.test.dset.n_data, block.train.dset.n_lbl))"
   ]
  },
  {
   "cell_type": "code",
   "execution_count": null,
   "id": "bc3f6a05-b693-4566-a828-d51915c652be",
   "metadata": {},
   "outputs": [],
   "source": [
    "o = get_pred_dset(pred, block.test.dset)"
   ]
  },
  {
   "cell_type": "code",
   "execution_count": null,
   "id": "65a3a218-410d-4398-839f-92cda370ca80",
   "metadata": {},
   "outputs": [
    {
     "data": {
      "text/plain": [
       "{'data_identifier': 'Abraham_Lincoln',\n",
       " 'data_input_text': 'Abraham Lincoln',\n",
       " 'data_input_ids': [101, 8181, 5367, 102],\n",
       " 'data_attention_mask': [1, 1, 1, 1],\n",
       " 'lbl2data_idx': [],\n",
       " 'lbl2data_identifier': [],\n",
       " 'lbl2data_input_text': [],\n",
       " 'lbl2data_input_ids': [],\n",
       " 'lbl2data_attention_mask': [],\n",
       " 'cat2data_idx': [19377,\n",
       "  54316,\n",
       "  54419,\n",
       "  62824,\n",
       "  63173,\n",
       "  63174,\n",
       "  63175,\n",
       "  68208,\n",
       "  68209,\n",
       "  69192,\n",
       "  69193,\n",
       "  69194,\n",
       "  69195,\n",
       "  69196,\n",
       "  69197,\n",
       "  69198,\n",
       "  69199,\n",
       "  69200,\n",
       "  69201,\n",
       "  69202,\n",
       "  69203,\n",
       "  69204,\n",
       "  69205,\n",
       "  69206,\n",
       "  69207,\n",
       "  69208,\n",
       "  69209,\n",
       "  69210,\n",
       "  69211,\n",
       "  69212,\n",
       "  69213,\n",
       "  69214,\n",
       "  69215,\n",
       "  69216,\n",
       "  69217,\n",
       "  69218,\n",
       "  69219,\n",
       "  69220,\n",
       "  69221],\n",
       " 'cat2data_identifier': ['Category:Deaths_by_firearm_in_Washington,_D.C.',\n",
       "  'Category:American_people_of_English_descent',\n",
       "  'Category:1865_deaths',\n",
       "  'Category:19th-century_American_politicians',\n",
       "  'Category:Illinois_Republicans',\n",
       "  'Category:Members_of_the_Illinois_House_of_Representatives',\n",
       "  'Category:Members_of_the_United_States_House_of_Representatives_from_Illinois',\n",
       "  'Category:People_of_Illinois_in_the_American_Civil_War',\n",
       "  'Category:Illinois_lawyers',\n",
       "  'Category:Abraham_Lincoln',\n",
       "  'Category:1809_births',\n",
       "  'Category:19th-century_Presidents_of_the_United_States',\n",
       "  'Category:American_lawyers_admitted_to_the_practice_of_law_by_reading_law',\n",
       "  'Category:American_postmasters',\n",
       "  'Category:American_surveyors',\n",
       "  'Category:Assassinated_Presidents_of_the_United_States',\n",
       "  'Category:Burials_at_Oak_Ridge_Cemetery',\n",
       "  'Category:Hall_of_Fame_for_Great_Americans_inductees',\n",
       "  'Category:Illinois_Central_Railroad_people',\n",
       "  'Category:Illinois_Whigs',\n",
       "  'Category:Lincoln_family',\n",
       "  'Category:Murdered_lawyers',\n",
       "  'Category:People_associated_with_the_assassination_of_Abraham_Lincoln',\n",
       "  'Category:People_from_Coles_County,_Illinois',\n",
       "  'Category:People_from_LaRue_County,_Kentucky',\n",
       "  'Category:People_from_Macon_County,_Illinois',\n",
       "  'Category:People_from_Spencer_County,_Indiana',\n",
       "  'Category:People_murdered_in_Washington,_D.C.',\n",
       "  'Category:People_with_mood_disorders',\n",
       "  'Category:Political_party_founders',\n",
       "  'Category:Politicians_from_Springfield,_Illinois',\n",
       "  'Category:Presidents_of_the_United_States',\n",
       "  'Category:Republican_Party_(United_States)_presidential_nominees',\n",
       "  'Category:Republican_Party_Presidents_of_the_United_States',\n",
       "  'Category:Union_political_leaders',\n",
       "  'Category:1860_United_States_presidential_candidates',\n",
       "  'Category:1864_United_States_presidential_candidates',\n",
       "  'Category:Whig_Party_members_of_the_United_States_House_of_Representatives',\n",
       "  'Category:American_colonization_movement'],\n",
       " 'cat2data_input_text': ['Deaths by firearm in Washington, D.C.',\n",
       "  'American people of English descent',\n",
       "  '1865 deaths',\n",
       "  '19th-century American politicians',\n",
       "  'Illinois Republicans',\n",
       "  'Members of the Illinois House of Representatives',\n",
       "  'Members of the United States House of Representatives from Illinois',\n",
       "  'People of Illinois in the American Civil War',\n",
       "  'Illinois lawyers',\n",
       "  'Abraham Lincoln',\n",
       "  '1809 births',\n",
       "  '19th-century Presidents of the United States',\n",
       "  'American lawyers admitted to the practice of law by reading law',\n",
       "  'American postmasters',\n",
       "  'American surveyors',\n",
       "  'Assassinated Presidents of the United States',\n",
       "  'Burials at Oak Ridge Cemetery',\n",
       "  'Hall of Fame for Great Americans inductees',\n",
       "  'Illinois Central Railroad people',\n",
       "  'Illinois Whigs',\n",
       "  'Lincoln family',\n",
       "  'Murdered lawyers',\n",
       "  'People associated with the assassination of Abraham Lincoln',\n",
       "  'People from Coles County, Illinois',\n",
       "  'People from LaRue County, Kentucky',\n",
       "  'People from Macon County, Illinois',\n",
       "  'People from Spencer County, Indiana',\n",
       "  'People murdered in Washington, D.C.',\n",
       "  'People with mood disorders',\n",
       "  'Political party founders',\n",
       "  'Politicians from Springfield, Illinois',\n",
       "  'Presidents of the United States',\n",
       "  'Republican Party (United States) presidential nominees',\n",
       "  'Republican Party Presidents of the United States',\n",
       "  'Union political leaders',\n",
       "  '1860 United States presidential candidates',\n",
       "  '1864 United States presidential candidates',\n",
       "  'Whig Party members of the United States House of Representatives',\n",
       "  'American colonization movement'],\n",
       " 'cat2data_input_ids': [[101,\n",
       "   6677,\n",
       "   2011,\n",
       "   23646,\n",
       "   1999,\n",
       "   2899,\n",
       "   1010,\n",
       "   1040,\n",
       "   1012,\n",
       "   1039,\n",
       "   1012,\n",
       "   102],\n",
       "  [101, 2137, 2111, 1997, 2394, 6934, 102],\n",
       "  [101, 6725, 6677, 102],\n",
       "  [101, 3708, 1011, 2301, 2137, 8801, 102],\n",
       "  [101, 4307, 10643, 102],\n",
       "  [101, 2372, 1997, 1996, 4307, 2160, 1997, 4505, 102],\n",
       "  [101, 2372, 1997, 1996, 2142, 2163, 2160, 1997, 4505, 2013, 4307, 102],\n",
       "  [101, 2111, 1997, 4307, 1999, 1996, 2137, 2942, 2162, 102],\n",
       "  [101, 4307, 9559, 102],\n",
       "  [101, 8181, 5367, 102],\n",
       "  [101, 12861, 18250, 102],\n",
       "  [101, 3708, 1011, 2301, 11274, 1997, 1996, 2142, 2163, 102],\n",
       "  [101, 2137, 9559, 4914, 2000, 1996, 3218, 1997, 2375, 2011, 3752, 2375, 102],\n",
       "  [101, 2137, 20707, 2015, 102],\n",
       "  [101, 2137, 17169, 2015, 102],\n",
       "  [101, 16370, 11274, 1997, 1996, 2142, 2163, 102],\n",
       "  [101, 23109, 2012, 6116, 5526, 4528, 102],\n",
       "  [101, 2534, 1997, 4476, 2005, 2307, 4841, 27427, 14194, 28313, 102],\n",
       "  [101, 4307, 2430, 4296, 2111, 102],\n",
       "  [101, 4307, 21632, 2015, 102],\n",
       "  [101, 5367, 2155, 102],\n",
       "  [101, 7129, 9559, 102],\n",
       "  [101, 2111, 3378, 2007, 1996, 10102, 1997, 8181, 5367, 102],\n",
       "  [101, 2111, 2013, 5624, 2015, 2221, 1010, 4307, 102],\n",
       "  [101, 2111, 2013, 2474, 6820, 2063, 2221, 1010, 5612, 102],\n",
       "  [101, 2111, 2013, 20025, 2221, 1010, 4307, 102],\n",
       "  [101, 2111, 2013, 7084, 2221, 1010, 5242, 102],\n",
       "  [101, 2111, 7129, 1999, 2899, 1010, 1040, 1012, 1039, 1012, 102],\n",
       "  [101, 2111, 2007, 6888, 10840, 102],\n",
       "  [101, 2576, 2283, 8759, 102],\n",
       "  [101, 8801, 2013, 10493, 1010, 4307, 102],\n",
       "  [101, 11274, 1997, 1996, 2142, 2163, 102],\n",
       "  [101, 3951, 2283, 1006, 2142, 2163, 1007, 4883, 17853, 102],\n",
       "  [101, 3951, 2283, 11274, 1997, 1996, 2142, 2163, 102],\n",
       "  [101, 2586, 2576, 4177, 102],\n",
       "  [101, 7313, 2142, 2163, 4883, 5347, 102],\n",
       "  [101, 6717, 2142, 2163, 4883, 5347, 102],\n",
       "  [101, 21632, 2283, 2372, 1997, 1996, 2142, 2163, 2160, 1997, 4505, 102],\n",
       "  [101, 2137, 18962, 2929, 102]],\n",
       " 'cat2data_attention_mask': [[1, 1, 1, 1, 1, 1, 1, 1, 1, 1, 1, 1],\n",
       "  [1, 1, 1, 1, 1, 1, 1],\n",
       "  [1, 1, 1, 1],\n",
       "  [1, 1, 1, 1, 1, 1, 1],\n",
       "  [1, 1, 1, 1],\n",
       "  [1, 1, 1, 1, 1, 1, 1, 1, 1],\n",
       "  [1, 1, 1, 1, 1, 1, 1, 1, 1, 1, 1, 1],\n",
       "  [1, 1, 1, 1, 1, 1, 1, 1, 1, 1],\n",
       "  [1, 1, 1, 1],\n",
       "  [1, 1, 1, 1],\n",
       "  [1, 1, 1, 1],\n",
       "  [1, 1, 1, 1, 1, 1, 1, 1, 1, 1],\n",
       "  [1, 1, 1, 1, 1, 1, 1, 1, 1, 1, 1, 1, 1],\n",
       "  [1, 1, 1, 1, 1],\n",
       "  [1, 1, 1, 1, 1],\n",
       "  [1, 1, 1, 1, 1, 1, 1, 1],\n",
       "  [1, 1, 1, 1, 1, 1, 1],\n",
       "  [1, 1, 1, 1, 1, 1, 1, 1, 1, 1, 1],\n",
       "  [1, 1, 1, 1, 1, 1],\n",
       "  [1, 1, 1, 1, 1],\n",
       "  [1, 1, 1, 1],\n",
       "  [1, 1, 1, 1],\n",
       "  [1, 1, 1, 1, 1, 1, 1, 1, 1, 1],\n",
       "  [1, 1, 1, 1, 1, 1, 1, 1, 1],\n",
       "  [1, 1, 1, 1, 1, 1, 1, 1, 1, 1],\n",
       "  [1, 1, 1, 1, 1, 1, 1, 1],\n",
       "  [1, 1, 1, 1, 1, 1, 1, 1],\n",
       "  [1, 1, 1, 1, 1, 1, 1, 1, 1, 1, 1],\n",
       "  [1, 1, 1, 1, 1, 1],\n",
       "  [1, 1, 1, 1, 1],\n",
       "  [1, 1, 1, 1, 1, 1, 1],\n",
       "  [1, 1, 1, 1, 1, 1, 1],\n",
       "  [1, 1, 1, 1, 1, 1, 1, 1, 1, 1],\n",
       "  [1, 1, 1, 1, 1, 1, 1, 1, 1],\n",
       "  [1, 1, 1, 1, 1],\n",
       "  [1, 1, 1, 1, 1, 1, 1],\n",
       "  [1, 1, 1, 1, 1, 1, 1],\n",
       "  [1, 1, 1, 1, 1, 1, 1, 1, 1, 1, 1, 1],\n",
       "  [1, 1, 1, 1, 1]],\n",
       " 'cat2lbl2data_idx': [],\n",
       " 'cat2lbl2data_identifier': [],\n",
       " 'cat2lbl2data_input_text': [],\n",
       " 'cat2lbl2data_input_ids': [],\n",
       " 'cat2lbl2data_attention_mask': []}"
      ]
     },
     "execution_count": null,
     "metadata": {},
     "output_type": "execute_result"
    }
   ],
   "source": [
    "o[0]"
   ]
  },
  {
   "cell_type": "markdown",
   "id": "712b0676-1ba4-4171-babc-050340fbb64b",
   "metadata": {},
   "source": [
    "### Load"
   ]
  },
  {
   "cell_type": "code",
   "execution_count": null,
   "id": "a803b3a7-64f5-4803-8c03-9e2dc87f2e17",
   "metadata": {},
   "outputs": [],
   "source": [
    "#| export\n",
    "@typedispatch\n",
    "def get_pred_sparse(out:XCPredictionOutput, n_lbl:int):\n",
    "    pred_ptr = torch.concat([torch.zeros((1,), dtype=torch.long), out.pred_ptr.cumsum(dim=0)])\n",
    "    return sparse.csr_matrix((out.pred_score, out.pred_idx, pred_ptr), shape=(len(out.pred_ptr), n_lbl))\n",
    "\n",
    "@typedispatch\n",
    "def get_pred_sparse(fname:str, n_lbl:int):\n",
    "    with open(fname, 'rb') as f: out = pickle.load(f)\n",
    "    pred_ptr = torch.concat([torch.zeros((1,), dtype=torch.long), out.pred_ptr.cumsum(dim=0)])\n",
    "    return sparse.csr_matrix((out.pred_score, out.pred_idx, pred_ptr), shape=(len(out.pred_ptr), n_lbl))\n",
    "\n",
    "@typedispatch\n",
    "def load_pred_sparse(fname:str):\n",
    "    o = np.load(fname)\n",
    "    return sparse.csr_matrix((o['data'], o['indices'], o['indptr']), dtype=float, shape=o['shape'])\n",
    "\n",
    "def get_output(fname:str, n_lbl:int, pred_type:Optional[str]='repr_output'):\n",
    "    with open(pname, 'rb') as f: out = pickle.load(f)\n",
    "    preds,targ = get_output_sparse(**getattr(out,pred_type), n_lbl=n_lbl)\n",
    "    return preds, targ\n",
    "    "
   ]
  },
  {
   "cell_type": "markdown",
   "id": "ebe5c3b4-9531-4bfa-8188-3c63a2e02dba",
   "metadata": {},
   "source": [
    "#### Example"
   ]
  },
  {
   "cell_type": "code",
   "execution_count": null,
   "id": "89cbf9fd-d609-4e1a-bc26-aa02da05700d",
   "metadata": {},
   "outputs": [],
   "source": [
    "import pickle\n",
    "\n",
    "mname = '/home/scai/phd/aiz218323/scratch/outputs/67-ngame-ep-for-wikiseealso-with-input-concatenation-1-2/checkpoint-130000/'\n",
    "fname = f'{mname}/predictions/test_predictions.pkl'\n",
    "\n",
    "with open(fname, 'rb') as file: out = pickle.load(file)"
   ]
  },
  {
   "cell_type": "code",
   "execution_count": null,
   "id": "e2e63530-8e70-4436-b37a-1d759f590dfb",
   "metadata": {},
   "outputs": [],
   "source": [
    "pred = get_pred_sparse(fname, block.n_lbl)"
   ]
  },
  {
   "cell_type": "code",
   "execution_count": null,
   "id": "02a6e146-a4e0-41a1-ad7d-fdc5fdad420d",
   "metadata": {},
   "outputs": [],
   "source": [
    "pred = get_pred_sparse(out, block.n_lbl)"
   ]
  },
  {
   "cell_type": "code",
   "execution_count": null,
   "id": "ae1cdbfb-2d3c-4055-b16b-8257f252c393",
   "metadata": {},
   "outputs": [
    {
     "data": {
      "text/plain": [
       "<177515x312330 sparse matrix of type '<class 'numpy.float32'>'\n",
       "\twith 35503000 stored elements in Compressed Sparse Row format>"
      ]
     },
     "execution_count": null,
     "metadata": {},
     "output_type": "execute_result"
    }
   ],
   "source": [
    "pred"
   ]
  },
  {
   "cell_type": "markdown",
   "id": "9e6a3a44-0390-4da9-987f-dfb48f814dfb",
   "metadata": {},
   "source": [
    "### Formatter"
   ]
  },
  {
   "cell_type": "code",
   "execution_count": null,
   "id": "c6b4be4e-2551-428c-ae5e-3a30f734389b",
   "metadata": {},
   "outputs": [],
   "source": [
    "#| export\n",
    "def html(text:str, c='green'): return f'<text style=color:{c}>{text}</text>'"
   ]
  },
  {
   "cell_type": "code",
   "execution_count": null,
   "id": "ba67b1f7-26a7-4242-946c-5cf31e1ca584",
   "metadata": {},
   "outputs": [],
   "source": [
    "#| export\n",
    "class TextColumns(Dataset):\n",
    "    \n",
    "    def __init__(self, x, pat='.*_text$'):\n",
    "        self.x, self.pat = x, pat\n",
    "    \n",
    "    def __getitem__(self, idx):\n",
    "        o = self.x[idx]\n",
    "        return {k:v for k,v in o.items() if re.match(self.pat, k)}\n",
    "    "
   ]
  },
  {
   "cell_type": "code",
   "execution_count": null,
   "id": "40ab09b8-9008-4941-a021-ebb94e166e69",
   "metadata": {},
   "outputs": [],
   "source": [
    "#| export\n",
    "def display_text(pred_dset:Dataset, data_dset:Dataset, idxs:List):\n",
    "    color = [('red','green'), ('black','blue')]\n",
    "    text = []\n",
    "    for i,idx in enumerate(idxs):\n",
    "        c = color[i%len(color)]\n",
    "        pred_text = \"<br>\".join([f'{html(k,color[0][0])}: {html(v,color[0][1])}' for k,v in pred_dset[idx].items()])\n",
    "        data_text = \"<br>\".join([f'{html(k,color[1][0])}: {html(v,color[1][1])}' for k,v in data_dset[idx].items()])\n",
    "        text.append(\"<br>\".join([pred_text,data_text]))\n",
    "    return \"<br><br>\".join(text)\n",
    "\n",
    "\n",
    "def compare_text(pred1_dset:Dataset, pred2_dset:Dataset, data_dset:Dataset, idxs:List):\n",
    "    color = [('red','green'), ('black','blue'), ('orange', 'brown')]\n",
    "    text = []\n",
    "    for i,idx in enumerate(idxs):\n",
    "        c = color[i%len(color)]\n",
    "        pred1_text = \"<br>\".join([f'{html(k,color[0][0])}: {html(v,color[0][1])}' for k,v in pred1_dset[idx].items()])\n",
    "        pred2_text = \"<br>\".join([f'{html(k,color[1][0])}: {html(v,color[1][1])}' for k,v in pred2_dset[idx].items()])\n",
    "        data_text = \"<br>\".join([f'{html(k,color[2][0])}: {html(v,color[2][1])}' for k,v in data_dset[idx].items()])\n",
    "        text.append(\"<br>\".join([pred1_text,pred2_text,data_text]))\n",
    "    return \"<br><br>\".join(text)\n",
    "    "
   ]
  },
  {
   "cell_type": "markdown",
   "id": "449f6899-2717-4401-953f-4c5ca3c1aac4",
   "metadata": {},
   "source": [
    "#### Example"
   ]
  },
  {
   "cell_type": "code",
   "execution_count": null,
   "id": "a5b400e9-191f-4120-92f6-033585acc883",
   "metadata": {},
   "outputs": [],
   "source": [
    "from IPython.display import HTML"
   ]
  },
  {
   "cell_type": "code",
   "execution_count": null,
   "id": "51afcc90-f005-42f9-ae8d-7c0abb4c8987",
   "metadata": {},
   "outputs": [],
   "source": [
    "pattern = r'^(data|lbl2data|lbl2data_aug_cat)_input_text$'\n",
    "\n",
    "pred_dset = TextColumns(get_pred_dset(pred, block), pat=pattern)\n",
    "test_dset = TextColumns(block.test.dset, pat=pattern)"
   ]
  },
  {
   "cell_type": "code",
   "execution_count": null,
   "id": "125502b2-e6ff-40fc-b182-67e22fe09da9",
   "metadata": {},
   "outputs": [
    {
     "data": {
      "text/html": [
       "<text style=color:red>data_input_text</text>: <text style=color:green>Aquaculture</text><br><text style=color:red>lbl2data_input_text</text>: <text style=color:green>['Aquaculture', 'Fish farming', 'List of harvested aquatic animals by weight', 'Integrated multi-trophic aquaculture', 'Corf', 'Stew pond', 'Wild fisheries', 'Oyster farming', 'Aquaculture in Chile', 'Aquaculture of salmonids', 'Fishery', 'Aquaponics', 'Integrated Multi-Trophic Aquaculture', 'Fisheries science', 'World fish production', 'Commercial fishing', 'Fish hatchery', 'Fishing by country', 'Oystering machinery', 'Aquascaping', 'Fish market', 'Algae culture', 'Freshwater fish', 'Aquaculture of salmon', 'Sea Fish Industry Authority', 'Lake Pohjalampi', 'Aquaculture in Australia', 'List of seafood companies', 'Community-supported fishery', 'Aquarium fish feeder', 'Raceway (aquaculture)', 'Fish as food', 'Phycology', 'Copper alloys in aquaculture', 'Reef aquarium', 'Extensive farming', 'Oceans', 'Drillship', 'Marine life', 'List of goldfish varieties', 'Aquatic ecosystem', 'Marine ecosystem', 'Fishing vessel', 'Cannery Row', 'Gulf of Georgia Cannery', 'Fish processing', 'Edible seaweed', 'Artificial reef', 'Bacterial culture', 'Well smack', 'Mount Whitney Fish Hatchery', 'Aquaculture in New Zealand', 'Marine Stewardship Council', 'History of phycology', 'Marine park', 'Central Marine Fisheries Research Institute', 'Aquaculture in Papua New Guinea', 'Spawning bed', 'Census of Marine Life', 'Microalgae', 'Algae fuel', 'Marine habitats', 'Fish welfare at slaughter', 'Kelp forest', 'Fishing industry in Scotland', 'Deep sea mining', 'Fishing in India', 'Shrimp fishery', 'Yacht charter broker', 'List of canneries', 'Specialty foods', 'Agribusiness', 'Marine protected area', 'Sailboat design and manufacturing', 'Surf fishing', 'Industrial agriculture', 'Shell growth in estuaries', 'Rigs-to-Reefs', 'Ichthyoplankton', 'Artisanal fishing', 'Sustainable fisheries', 'In vitro meat', 'Bioculture', 'Seaweed farming', 'Specialty coffee', 'Goldfish', 'Aquatic ecology', 'Biorock', 'Salmon cannery', 'Sustainable seafood', 'Plasticulture', 'Population dynamics of fisheries', 'Traditional fishing boat', 'Future of Marine Animal Populations', 'Network of Aquaculture Centres in Asia-Pacific', 'List of marine aquarium plant species', 'Marine mammals as food', 'Forest Stewardship Council', 'Bioneers', 'Seafood restaurant', 'Animal slaughter', 'Gathering seafood by hand', 'Canned fish', 'Hydroponics', 'Row boat', 'Fish food', 'Factory ship', 'Agriculture in ancient Greece', 'Fishing industry of South Korea', 'Boat Building', 'Marine debris', 'Seafood in Australia', 'List of types of seafood', 'Seafood', 'Monoculture', 'Shoaling and schooling', 'History of fishing', 'Aquaculture in China', 'Hydrobiology', 'Aquamarine Power', 'Raceway pond', 'Corporate farming', 'Fisheries College and Research Institute', 'Eating live seafood', 'Age of accountability', 'Fish aggregating device', 'Kelp', 'Aquanaut', 'Algaculture', 'Ocean', 'Intertidal ecology', 'Industry in Finland', 'Multi-purpose reef', 'Intensive farming', 'Tailrace fishing', 'Acoustic tag', 'Ecosystem based fisheries', 'Lateen rig', 'Sewage treatment', 'Industry in ancient Tamil country', 'Kiwifruit industry in New Zealand', 'Agriculture ministry', 'Seaweed', 'Lobster trap', 'Balfour v Balfour', 'Skippered charter', 'Commercial fish of Sri Lanka', 'Life settlement', 'Live food', 'List of marine aquarium invertebrate species', 'Agriculture, forestry, and fishing in Japan', 'Global Ocean Ecosystem Dynamics', 'The End of the Line: How Overfishing Is Changing the World and What We Eat', 'Historical hydroculture', 'International Potato Center', 'Jackup rig', 'Meat industry', 'Bottom trawling', 'Ocean Biogeographic Information System', 'Crab trap', 'Tilapia in aquaculture', 'Pain in fish', 'Ocean energy', 'Blue carbon', 'Temple Reef', 'Filter (aquarium)', 'Blast fishing', 'Inbound marketing', 'Aquarium', 'Fishing industry', 'Agriculture', 'Community supported fishery', 'Marine Conservation', 'Zero Budget Farming', 'GIS and aquatic science', 'List of shipyards of Argentina', 'Barbara K. Sullivan', 'List of commercially important fish species', 'Tropical agriculture', 'Seabed', 'Fish preservation', 'Red tide', 'Fisheries Research and Training Institute', 'Chilean wheat cycle', 'Casting (fishing)', 'Marine conservation', 'Water Keeper', 'Agriculture and Agronomy', 'Syringe Tide', 'Fisheries Law', 'List of seaweeds of South Africa', 'Fishkeeping', 'Fishing vessels', 'Expo 2017', 'Non-timber forest product', 'Microbiofuels', 'Institute of Food and Agricultural Sciences', 'Marine architecture', 'Forest farming', 'Floating dock']</text><br><text style=color:black>data_input_text</text>: <text style=color:blue>Aquaculture</text><br><text style=color:black>lbl2data_input_text</text>: <text style=color:blue>['Alligator farm', 'Aquaponics', 'Copper alloys in aquaculture', 'Fish hatchery', 'List of commercially important fish species', 'Aquaculture in Australia', 'Aquaculture in Chile', 'Aquaculture in China', 'Aquaculture in New Zealand', 'Aquaculture in Papua New Guinea', 'Aquaculture in Vanuatu']</text><br><br><text style=color:red>data_input_text</text>: <text style=color:green>Aegeus</text><br><text style=color:red>lbl2data_input_text</text>: <text style=color:green>['Idaea', 'List of Thracian tribes', 'Triquetra', 'Triple deity', 'Thracian kings', 'Dumnorix', 'Fates', 'Greek primordial deities', 'Sol (mythology)', 'Quod licet Iovi, non licet bovi', 'Roman polytheistic reconstructionism', 'Phaleristics', 'Harmonia', 'Phanes (mythology)', 'Erebus', 'Religion in Romania', 'Metrosideros excelsa', 'Polytheistic myth as psychology', 'Ahura Mazda', 'Trichotomy (philosophy)', 'UÃ\\x83Â\\xad Fidgenti', 'Eros and Psyche', 'Triple Goddess', 'Pangu', 'Eiresione', 'Thracian religion', 'Narcissus (mythology)', 'Aphroditus', 'Great Spirit', 'Black Sun (occult symbol)', 'Arbelos', 'Architecture of Portugal', 'List of settlements in the Euboea regional unit', 'Anacyclosis', 'Sabellius', 'List of rulers of Thrace', 'Tritheism', 'Sif', 'List of Greek phrases', 'Castles in Portugal', 'List of rulers of Thrace and Dacia', 'Greek religion', 'List of castles in Albania', 'Adonis', 'Fascia iliaca block', 'Seteais Palace', 'Hades in Christianity', 'Destrudo', 'List of Dacian kings', 'Traditional African religions', 'Greek gods', 'Lashkar-e-Taiba', 'Matthew Boulton', 'Winged Victory of Samothrace', 'Plus Ultra', 'List of Greek mythological figures', 'Metaphor of the sun', '1998 United States embassy bombings', 'List of rulers in Thrace and Dacia', 'Pygmalion (mythology)', 'Apocatastasis', 'Primum movens', 'Moirai', 'List of Kings of Tyre', 'Holy Spirit in Christianity', 'Greek colonies in Thrace', 'Egyptian mythology', \"Archimedes' quadruplets\", 'Angel of the North', 'Borremose Bodies', 'EU-Russia Common Spaces', 'Incommensurable magnitudes', 'Problem of Hell', 'List of legendary kings of Scotland', 'Totenkopf', 'Triple Goddess (Neopaganism)', 'Eris', 'Anima and animus', 'Cult of the Holy Spirit', 'Sol Invictus', 'Demiurge', 'Pelorus', 'Spartan hegemony', 'Metrosideros robusta', 'List of Dacian tribes', 'Football in Djibouti', 'List of ancient cities in Thrace', 'List of mountains in Albania', 'Pygmalion of Tyre', 'Auspice', \"List of college women's ice hockey coaches with 250 wins\", 'Oneness Pentecostalism', 'Hendiatris', 'Max Scheler', 'Wellington Statue, Aldershot', 'Praenomen', 'Anti-king', 'Unmoved mover', 'List of Roman deities', 'Seven Spirits of God', 'Index of Egyptian mythology articles', '2001 Indian Parliament attack', 'Hesperus', 'Bee (mythology)', 'Eros', \"4'-Methoxy-Ã\\x8eÂ±-pyrrolidinopropiophenone\", 'Religious perspectives on Jesus', 'Parcae', 'Basileus', \"Eastern Collegiate Women's Hockey League\", 'Thracian mythology', 'List of mountains in Greece', 'Media of France', 'Tuscan order', 'Leutogi', 'Joseph Smith Hypocephalus', 'Assassination of Julius Caesar', 'Paroxytone', 'Military Order of Italy', 'Typhoon Fitow', 'Eubulus', 'List of castles in Romania', 'Terence MacManus', 'Regional Plan Association', 'Twelfth root of two', 'Composite order', 'Temple of Ellesyia', 'Crowley County, Colorado', 'Shrew (archetype)', 'Anadiplosis', 'Monotheism', 'Star and crescent', 'Angel of the Lord', 'Barytone', 'Special Constabulary Long Service Medal', 'Christian views on Hades', 'Zorya', 'Triskelion', 'Aeneid', 'Agrippa I', 'Regional Cooperation Council', 'Jesus in the Christian Bible', 'Trinitarian Universalism', 'Aristaeus', 'Bankoff circle', \"Hot d'Or\", 'History of lions in Europe', 'List of Governors of the Duchy of Milan', 'Terence', 'Tetractys', 'Order of Saints Maurice and Lazarus', 'Parousia', 'History of Albania', 'Christian views on Hell', 'Insurgency in Aceh', 'Opera in Romania', 'Star of Caledonia', 'Architecture of Kosovo', 'Foreign aid to Nepal', 'Family tree of the Greek gods', 'Local federation', 'Purusha', 'Ancient Greek units of measurement', 'Historical background of the New Testament', 'Erotic target location errors', 'Aneris', 'Algeria national under-20 football team', 'Adikia', 'List of magazines in Romania', 'Djiboutian Football Federation', 'Pangea Day', 'List of Speakers of the Tamil Nadu Legislative Assembly', 'Raven FACs', 'VolturnUS', 'Protestantism in Albania', 'List of Ukrainian rulers', 'Wakan Tanka', 'Website governance', 'Wind power', 'God the Father', 'Cryptorchidism', 'Tages', 'Problem of hell', 'Celtic polytheism', 'Theatre of Kosovo', 'Elongated gyrobifastigium', 'Chloris', 'Persephone', 'Aspect of Venus', 'Deutscher Squash Verband', 'Danzer set', 'Eos', 'Sabellianism', '1993 Japanese general election', 'Tonantius Ferreolus (prefect)', 'ItsurÃ\\x85Â\\x8d Sakisaka', 'List of Italian orders of knighthood', 'Trifunctional hypothesis', 'Portuguese First Republic', 'Apollonian circles']</text><br><text style=color:black>data_input_text</text>: <text style=color:blue>Aegeus</text><br><text style=color:black>lbl2data_input_text</text>: <text style=color:blue>['Catullus', 'Plutarch']</text><br><br><text style=color:red>data_input_text</text>: <text style=color:green>Braille</text><br><text style=color:red>lbl2data_input_text</text>: <text style=color:green>['Braille', 'English Braille', 'Moon type', 'American Braille', 'Braille music', 'Perkins Brailler', 'Braille translator', 'Nemeth Braille', 'Mountbatten Brailler', 'Gardner Salinas braille', 'Tajik Braille', 'Philippine Braille', 'Unified English Braille', 'Faroese Braille', 'Urdu Braille', 'Estonian Braille', 'Hungarian braille', 'Bharati braille', 'Russian Braille', 'Refreshable Braille display', 'Tactile graphic', 'Books for the Blind', 'Written language', 'Yugoslav Braille', 'Tangible symbol systems', 'Blindness and education', 'Book', 'Korean manual alphabet', 'Pangram', 'Assistive technology', 'Hangul', 'Graph paper', 'Hangul orthography', 'Basal reader', 'Manual communication', 'Language and gender', 'E-book', 'ThÃ\\x83Â©rÃ\\x83Â¨se-AdÃ\\x83Â¨le Husson', 'West German Audio Book Library for the Blind', 'Shavian alphabet', 'Language', 'Ruled paper', 'Paper model', 'Blindness', 'Calligraphy', 'Pangrammatic window', 'Bunkobon', 'Book size', 'Ukrainian Braille', 'History of the alphabet', 'Slate and stylus', 'Tactile imaging', 'Vytynanky (Wycinanki)', 'Exercise book', 'Ganguro', 'Sign language', 'Centre for Studies on Inclusive Education', 'Paper size', 'Russian manual alphabet', 'Mathematics of paper folding', 'Alphabet book', 'Writing', 'Paper', 'History of paper', 'Manga', 'English medium education', 'Helen Keller Services for the Blind', 'Thai numerals', 'Chilean manual alphabet', 'Loose leaf', 'Blissymbols', 'Gurmukhi numerals', \"Writer's block\", 'Baby sign language', \"''Nico'' (also known as ''Nicholas'')\", 'Gender neutrality in languages with grammatical gender', 'Silhouette', 'Spelling', 'Unit block', 'Balinese numerals', 'Sign language in infants and toddlers', 'Origami', 'Elkonin boxes', 'Chironomia', 'Octavo', 'Accessible publishing', 'Tadoma', 'Book folding', 'List of desk forms and types', 'Listed buildings in Beckbury', 'Acalculia', 'Breeching (boys)', 'Beoseon', 'Same language subtitling', 'Iroha', 'Deaf Education', 'Inkstick', 'Russian', 'Posture', 'List of stationery topics', 'Dzongkha Braille', 'Korean calligraphy', 'Punjabi Braille', 'Virtue word', 'Orthographies and dyslexia', 'Cognitive orthotics', 'Assistive cane', 'Sailor dress', 'Arm folding', 'Sinhala numerals', 'Seinen manga', 'History of Western typography', 'Pointing', 'Crayon', \"HanunÃ\\x83Â³'o script\", 'Hypergraphia', 'Typography', 'Zettai ryÃ\\x85Â\\x8diki', 'Spelling bee', 'Gender-neutral language', 'Palm leaf manuscript', 'Quarto', 'PÃ\\x84Â\\x81dodaka', 'Religion in Iceland', 'Dysgraphia', 'Obsolete Russian units of measurement', 'Chapbook', 'Writing system', 'Alchemical symbols', 'Cued Speech', 'French manual alphabet', 'Singur Tata Nano controversy', 'Bookbinding', 'Alphabet', 'Origamic architecture', 'Spanish manual alphabet', 'Cardboard modeling', 'Persian alphabet', 'Multigraph (orthography)', 'Grivna', 'Electronic devices', 'Cognitive advantages to bilingualism', 'Dolch Word List', 'White cane', 'Hand gestures', 'Sand table', 'Bilingual education', 'Papercutting', 'Template:Cite French arrÃ\\x83ÂªtÃ\\x83Â©', 'Metacommunicative competence', 'Bulwer-Lytton Fiction Contest', 'Somatosensory system', 'Korean numerals', 'Fudoshin', 'Row-major order', 'Swedish language', 'E-book readers', 'Inclusive school', 'Design for All (in ICT)', 'Paper fortune teller', 'Phytoglobin', 'Gender role in language', 'Head bobble', 'Russian orthography', 'Kogal', 'History of writing', 'Microwriter', 'Literary language', 'Word count', 'Faber-Castell', 'Typewriter', 'Toilet seat cover', 'Blind musicians', 'Cube (arithmetic)', 'Heterography', 'Facial', 'Writing in space', 'Alphabetical order', 'Picture dictionary', 'Pansori gosu', 'Cant', 'Emoticon', 'Gekiga', 'Gait (dog)', 'Doll', 'Slide library', 'Swedish Americans', 'Gender-neutral language in English', 'Reading education', 'Four Square Writing Method', 'Eighth United States Congress', 'Hoko doll', 'Table setting', 'History of sentence spacing', 'Himalayan Cataract Project', 'Digitizing', 'Handwriting movement analysis', 'Banana paper', 'Filipino orthography', 'Japanese numerals']</text><br><text style=color:black>data_input_text</text>: <text style=color:blue>Braille</text><br><text style=color:black>lbl2data_input_text</text>: <text style=color:blue>['Accessible publishing', 'Braille music', 'Braille translator', 'English Braille', 'List of binary codes', 'List of international common standards', 'Moon type', 'Nemeth Braille', 'Refreshable Braille display', 'Tactile graphic', 'Tangible symbol systems', 'Unified English Braille']</text>"
      ],
      "text/plain": [
       "<IPython.core.display.HTML object>"
      ]
     },
     "execution_count": null,
     "metadata": {},
     "output_type": "execute_result"
    }
   ],
   "source": [
    "HTML(display_text(pred_dset, test_dset, [100, 200, 300]))"
   ]
  },
  {
   "cell_type": "code",
   "execution_count": null,
   "id": "e6eb008d-0e91-4312-a1cc-cdea2ed84ce2",
   "metadata": {},
   "outputs": [],
   "source": []
  }
 ],
 "metadata": {
  "kernelspec": {
   "display_name": "python3",
   "language": "python",
   "name": "python3"
  }
 },
 "nbformat": 4,
 "nbformat_minor": 5
}
