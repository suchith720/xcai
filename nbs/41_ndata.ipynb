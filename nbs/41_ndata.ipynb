{
 "cells": [
  {
   "cell_type": "markdown",
   "id": "9210a1b2-d1cc-41a7-8067-a8b9090198c4",
   "metadata": {},
   "source": [
    "# NData"
   ]
  },
  {
   "cell_type": "code",
   "execution_count": 1,
   "id": "850b98cc-4a9d-4797-996c-61e3ecfdc0d5",
   "metadata": {},
   "outputs": [],
   "source": [
    "#| default_exp ndata"
   ]
  },
  {
   "cell_type": "code",
   "execution_count": 2,
   "id": "e75ed5fc-72a5-4443-88a1-53a80782323f",
   "metadata": {},
   "outputs": [],
   "source": [
    "#| hide\n",
    "%load_ext autoreload\n",
    "%autoreload 2"
   ]
  },
  {
   "cell_type": "code",
   "execution_count": 21,
   "id": "3ff3617f-3c42-4302-bbf7-7fb6ade1b838",
   "metadata": {},
   "outputs": [],
   "source": [
    "#| export\n",
    "import torch, inspect, numpy as np, scipy.sparse as sp\n",
    "from typing import Callable, Optional, Union, Dict\n",
    "from torch.utils.data import DataLoader\n",
    "from transformers import BatchEncoding\n",
    "\n",
    "from xcai.core import Filterer, Info\n",
    "from xcai.data import _read_sparse_file\n",
    "from xcai.sdata import identity_collate_fn\n",
    "from xcai.sdata import SMainXCDataset, SXCDataset\n",
    "from xcai.sdata import SBaseXCDataBlock, SXCDataBlock\n",
    "\n",
    "from fastcore.utils import *\n",
    "from fastcore.meta import *\n",
    "from plum import dispatch"
   ]
  },
  {
   "cell_type": "code",
   "execution_count": 4,
   "id": "973ec7a4-af26-46da-b3df-1f2b013db1b0",
   "metadata": {},
   "outputs": [],
   "source": [
    "#| hide\n",
    "from nbdev.showdoc import *\n",
    "import nbdev; nbdev.nbdev_export()"
   ]
  },
  {
   "cell_type": "markdown",
   "id": "4958fd31-77c0-429f-b32a-c7d10780d753",
   "metadata": {},
   "source": [
    "## Setup"
   ]
  },
  {
   "cell_type": "code",
   "execution_count": 22,
   "id": "8dcef4a8-09e7-4879-b9bb-b60bf626cccb",
   "metadata": {},
   "outputs": [],
   "source": [
    "from xcai.main import *"
   ]
  },
  {
   "cell_type": "code",
   "execution_count": 26,
   "id": "20111c0d-892f-4757-b8cd-b4ed9295bef2",
   "metadata": {},
   "outputs": [],
   "source": [
    "pkl_dir = '/Users/suchith720/Projects/data/processed/mogicX'\n",
    "pkl_file = f'{pkl_dir}/wikiseealsotitles_data_distilbert-base-uncased_sxc.joblib'\n",
    "\n",
    "data_dir = '/home/scai/phd/aiz218323/scratch/datasets/benchmarks/'\n",
    "config_file = 'wikiseealsotitles'\n",
    "config_key = 'data_meta'"
   ]
  },
  {
   "cell_type": "code",
   "execution_count": 27,
   "id": "e6cfc0e7-421d-4382-a08d-32e3c6ccd87b",
   "metadata": {},
   "outputs": [],
   "source": [
    "block = build_block(pkl_file, config_file, True, config_key, data_dir=data_dir, n_slbl_samples=2, do_build=False, \n",
    "                    main_oversample=True, meta_oversample=True, return_scores=True)"
   ]
  },
  {
   "cell_type": "markdown",
   "id": "7dd4430d-cec8-42af-a40f-492af3c40431",
   "metadata": {},
   "source": [
    "## Data"
   ]
  },
  {
   "cell_type": "code",
   "execution_count": 6,
   "id": "93d095fb-abcd-43f9-8929-b27fa697acd5",
   "metadata": {},
   "outputs": [],
   "source": [
    "#| export\n",
    "class NMainXCData:\n",
    "    \n",
    "    @classmethod\n",
    "    def from_file(cls, data_info:str, lbl_info:str, data_lbl:Optional[str]=None, data_neg:Optional[str]=None, \n",
    "                  data_lbl_filterer:Optional[str]=None, main_max_data_sequence_length:Optional[int]=None, \n",
    "                  main_max_lbl_sequence_length:Optional[int]=None, **kwargs):\n",
    "        return {\n",
    "            'data_lbl': _read_sparse_file(data_lbl),\n",
    "            'data_neg': _read_sparse_file(data_neg),\n",
    "            'data_info': Info.from_txt(data_info, max_sequence_length=main_max_data_sequence_length, **kwargs),\n",
    "            'lbl_info': Info.from_txt(lbl_info, max_sequence_length=main_max_lbl_sequence_length, **kwargs),\n",
    "            'data_lbl_filterer': Filterer.load_filter(data_lbl_filterer),\n",
    "        }"
   ]
  },
  {
   "cell_type": "markdown",
   "id": "6f6b61b8-6211-4b35-9a99-82a18176fb72",
   "metadata": {},
   "source": [
    "## NDataset"
   ]
  },
  {
   "cell_type": "markdown",
   "id": "e5c14617-b016-4735-8267-99917e04933b",
   "metadata": {},
   "source": [
    "### `SMainWithNegativesXCDataset`"
   ]
  },
  {
   "cell_type": "code",
   "execution_count": 8,
   "id": "2fdf818c-9599-4426-bb04-73ce3ff9e4f6",
   "metadata": {},
   "outputs": [],
   "source": [
    "#| export\n",
    "class NMainXCDataset(SMainXCDataset):\n",
    "\n",
    "    def __init__(\n",
    "        self,\n",
    "        data_neg:Optional[sp.csr_matrix]=None,\n",
    "        **kwargs\n",
    "    ):\n",
    "        store_attr('data_neg')\n",
    "        self.curr_data_neg, self.data_neg_scores = None, None\n",
    "        super().__init__(**kwargs)\n",
    "\n",
    "    def _store_indices(self):\n",
    "        super()._store_indices()\n",
    "        if self.data_neg is not None: self.curr_data_neg = [o.indices.tolist() for o in self.data_neg]\n",
    "\n",
    "    def _verify_inputs(self):\n",
    "        super()._verify_inputs()\n",
    "        if self.data_neg is not None and self.data_lbl is not None:\n",
    "            if self.data_neg.shape != self.data_lbl.shape:\n",
    "                raise ValueError(f\"Shape mismatch: `self.data_lbl`({self.data_lbl.shape}) and `self.data_neg`({self.data_neg.shape})\")\n",
    "\n",
    "    def _store_scores(self):\n",
    "        super()._store_scores()\n",
    "        if self.data_neg is not None:\n",
    "            if self.use_main_distribution:\n",
    "                data_neg = self.data_neg / (self.data_neg.sum(axis=1) + 1e-9)\n",
    "                data_neg = data_neg.tocsr()\n",
    "            else:\n",
    "                data_neg = self.data_neg\n",
    "            self.data_neg_scores = [o.data.tolist() for o in data_neg]\n",
    "            \n",
    "    def __getitems__(self, idxs:List):\n",
    "        x = {'data_idx': torch.tensor(idxs, dtype=torch.int64)}\n",
    "        x.update(self.get_info('data', idxs, self.data_info, self.data_info_keys))\n",
    "        if self.data_lbl is not None:\n",
    "            prefix = 'lbl2data'\n",
    "            o = self.extract_items(prefix, self.curr_data_lbl, idxs, self.n_lbl_samples, self.n_slbl_samples, self.main_oversample, \n",
    "                                   self.lbl_info, self.lbl_info_keys, self.use_main_distribution, self.data_lbl_scores, \n",
    "                                   return_scores=self.return_scores)\n",
    "            x.update(o)\n",
    "            \n",
    "        if self.data_neg is not None:\n",
    "            prefix = 'neg2data'\n",
    "            o = self.extract_items(prefix, self.curr_data_neg, idxs, self.n_lbl_samples, self.n_slbl_samples, self.main_oversample, \n",
    "                                   self.lbl_info, self.lbl_info_keys, self.use_main_distribution, self.data_neg_scores, \n",
    "                                   return_scores=self.return_scores)\n",
    "            x.update(o)\n",
    "            \n",
    "        return x\n",
    "\n",
    "    @classmethod\n",
    "    @delegates(NMainXCData.from_file)\n",
    "    def from_file(\n",
    "        cls, \n",
    "        n_lbl_samples:Optional[int]=None,\n",
    "        data_info_keys:Optional[List]=None,\n",
    "        lbl_info_keys:Optional[List]=None,\n",
    "        n_slbl_samples:Optional[int]=1,\n",
    "        main_oversample:Optional[bool]=False,\n",
    "        use_main_distribution:Optional[bool]=False,\n",
    "        return_scores:Optional[bool]=False,\n",
    "        **kwargs\n",
    "    ):\n",
    "        return cls(**NMainXCData.from_file(**kwargs), n_lbl_samples=n_lbl_samples, data_info_keys=data_info_keys,\n",
    "                   lbl_info_keys=lbl_info_keys, n_slbl_samples=n_slbl_samples, main_oversample=main_oversample, \n",
    "                   use_main_distribution=use_main_distribution, return_scores=return_scores)\n",
    "\n",
    "    def _getitems(cls, idxs:List):\n",
    "        raise NotImplementedError('Function should be implemented in the subclass.')\n",
    "    "
   ]
  },
  {
   "cell_type": "markdown",
   "id": "720bb509-7468-4750-a1aa-0b5fdfbf1ae4",
   "metadata": {},
   "source": [
    "### `NXCDataset`"
   ]
  },
  {
   "cell_type": "code",
   "execution_count": 13,
   "id": "aff04cf5-090d-44b2-8c97-811e4b26099b",
   "metadata": {},
   "outputs": [],
   "source": [
    "#| export\n",
    "class NXCDataset(SXCDataset):\n",
    "\n",
    "    def __init__(self, data:NMainXCDataset, **kwargs):\n",
    "        super().__init__()\n",
    "        self.data, self.meta = data, MetaXCDatasets({k:kwargs[k] for k in self.get_meta_args(**kwargs) if isinstance(kwargs[k], SMetaXCDataset)})\n",
    "        self._verify_inputs()\n",
    "\n",
    "    @classmethod\n",
    "    @delegates(SMainXCDataset.from_file)\n",
    "    def from_file(cls, **kwargs):\n",
    "        data = NMainXCDataset.from_file(**kwargs)\n",
    "        meta_kwargs = {o:kwargs.pop(o) for o in cls.get_meta_args(**kwargs)}\n",
    "        meta = {k:SMetaXCDataset.from_file(**v, **kwargs) for k,v in meta_kwargs.items()}\n",
    "        return cls(data, **meta)\n",
    "        "
   ]
  },
  {
   "cell_type": "markdown",
   "id": "e1276856-555f-48dc-b33e-f6dc2c8e3078",
   "metadata": {},
   "source": [
    "### `SBaseXCDataBlock`"
   ]
  },
  {
   "cell_type": "code",
   "execution_count": 19,
   "id": "1c4fe897-b306-486b-a83f-71532ef20768",
   "metadata": {},
   "outputs": [],
   "source": [
    "#| export\n",
    "class NBaseXCDataBlock(SBaseXCDataBlock):\n",
    "\n",
    "    @delegates(DataLoader.__init__)\n",
    "    def __init__(\n",
    "        self, \n",
    "        dset:NXCDataset, \n",
    "        collate_fn:Optional[Callable]=identity_collate_fn,\n",
    "        **kwargs\n",
    "    ):\n",
    "        self.dset, self.dl_kwargs, self.collate_fn = dset, self._get_dl_kwargs(**kwargs), collate_fn\n",
    "        self.dl = DataLoader(dset, collate_fn=collate_fn, **self.dl_kwargs) if collate_fn is not None else None\n",
    "\n",
    "    @classmethod\n",
    "    @delegates(NXCDataset.from_file)\n",
    "    def from_file(cls, collate_fn:Callable=identity_collate_fn, **kwargs):\n",
    "        return NBaseXCDataBlock(NXCDataset.from_file(**kwargs), collate_fn, **kwargs)\n",
    "        "
   ]
  },
  {
   "cell_type": "markdown",
   "id": "4393cb71-6335-49e4-a8ca-2ad49d9ff40b",
   "metadata": {},
   "source": [
    "### `NXCDataBlock`"
   ]
  },
  {
   "cell_type": "code",
   "execution_count": 22,
   "id": "1279c494-5a05-41ad-97db-94e15abb3996",
   "metadata": {},
   "outputs": [],
   "source": [
    "#| export\n",
    "class NXCDataBlock(SXCDataBlock):\n",
    "\n",
    "    @classmethod\n",
    "    def from_cfg(\n",
    "        cls, \n",
    "        cfg:Union[str,Dict],\n",
    "        collate_fn:Optional[Callable]=identity_collate_fn,\n",
    "        valid_pct:Optional[float]=0.2,\n",
    "        seed=None,\n",
    "        **kwargs,\n",
    "    ):\n",
    "        if isinstance(cfg, str): cfg = cls.load_cfg(cfg)\n",
    "\n",
    "        blocks = dict()\n",
    "        for o in ['train', 'valid', 'test']:\n",
    "            if o in cfg['path']:\n",
    "                params = cfg['parameters'].copy()\n",
    "                params.update(kwargs)\n",
    "                if o != 'train': \n",
    "                    params['meta_dropout_remove'], params['meta_dropout_replace'] = None, None\n",
    "                blocks[o] = NBaseXCDataBlock.from_file(**cfg['path'][o], **params, collate_fn=collate_fn)\n",
    "                \n",
    "        return cls(**blocks)\n",
    "        "
   ]
  },
  {
   "cell_type": "code",
   "execution_count": null,
   "id": "baf895f9-76d5-4225-8a2e-00719588c20f",
   "metadata": {},
   "outputs": [],
   "source": []
  }
 ],
 "metadata": {
  "kernelspec": {
   "display_name": "Python 3 (ipykernel)",
   "language": "python",
   "name": "python3"
  },
  "language_info": {
   "codemirror_mode": {
    "name": "ipython",
    "version": 3
   },
   "file_extension": ".py",
   "mimetype": "text/x-python",
   "name": "python",
   "nbconvert_exporter": "python",
   "pygments_lexer": "ipython3",
   "version": "3.13.2"
  }
 },
 "nbformat": 4,
 "nbformat_minor": 5
}
