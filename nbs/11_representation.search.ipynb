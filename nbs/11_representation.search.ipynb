{
 "cells": [
  {
   "cell_type": "code",
   "execution_count": 1,
   "id": "24f1b526-ecd1-4492-a82d-dd179163bc17",
   "metadata": {},
   "outputs": [],
   "source": [
    "#| default_exp representation.search"
   ]
  },
  {
   "cell_type": "code",
   "execution_count": 2,
   "id": "08631d5d-cb2e-4cf2-a7a3-08a92fde9f9e",
   "metadata": {},
   "outputs": [],
   "source": [
    "#| hide\n",
    "%load_ext autoreload\n",
    "%autoreload 2"
   ]
  },
  {
   "cell_type": "code",
   "execution_count": 3,
   "id": "f2a66ba3-8bb5-4731-bf45-d56170fd564f",
   "metadata": {},
   "outputs": [],
   "source": [
    "#| export\n",
    "import torch, hnswlib, numpy as np, torch.nn.functional as F\n",
    "from typing import Optional, Union\n",
    "\n",
    "from xcai.core import *"
   ]
  },
  {
   "cell_type": "markdown",
   "id": "36d57660-e305-4be2-8d9f-7f4600c3bb88",
   "metadata": {},
   "source": [
    "## IndexSearch"
   ]
  },
  {
   "cell_type": "code",
   "execution_count": 7,
   "id": "36711602-4847-4a21-942b-143e3b6d26f9",
   "metadata": {},
   "outputs": [],
   "source": [
    "#| export\n",
    "class IndexSearch:\n",
    "\n",
    "    def __init__(self, \n",
    "                 index:Optional[hnswlib.Index]=None, \n",
    "                 space:Optional[str]='cosine', \n",
    "                 efc:Optional[int]=200, \n",
    "                 m:Optional[int]=16, \n",
    "                 efs:Optional[int]=50, \n",
    "                 n_bm:Optional[int]=50, \n",
    "                 n_threads:Optional[int]=84):\n",
    "        store_attr('index,space,efc,m,efs,n_bm,n_threads')\n",
    "        self.data,self.info = None,None\n",
    "\n",
    "    def build(self, data:Optional[Union[torch.Tensor,np.array]], info:Optional[Union[torch.Tensor,np.array]]=None):\n",
    "        if info is None: info = np.arange(data.shape[0])\n",
    "        if data.shape[0] != info.shape[0]: \n",
    "            raise ValueError(f'`data`({data.shape[0]}) and `info`({info.shape[0]}) should have same size.')\n",
    "            \n",
    "        if isinstance(data, torch.Tensor): data = data.cpu()\n",
    "        if isinstance(info, torch.Tensor): info = info.cpu()\n",
    "        \n",
    "        self.index = hnswlib.Index(space=self.space, dim=data.shape[1])\n",
    "        self.index.init_index(max_elements=data.shape[0], ef_construction=self.efc, M=self.m)\n",
    "        self.index.add_items(data, info, num_threads=self.n_threads)\n",
    "        self.data,self.info = data,info\n",
    "        self.index.set_ef(self.efs)\n",
    "\n",
    "    def get_items(self, idx:Optional[Union[torch.Tensor,np.array]]):\n",
    "        if isinstance(idx, torch.Tensor): idx = idx.cpu()\n",
    "        return self.data[idx]\n",
    "\n",
    "    def proc(self, inputs:Optional[Union[torch.Tensor,np.array]], n_bm:Optional[int]=None):\n",
    "        n_bm = self.n_bm if n_bm is None else n_bm\n",
    "        n_bm = self.efs if n_bm > self.efs else n_bm\n",
    "        if isinstance(inputs, torch.Tensor): inputs = inputs.cpu()\n",
    "        info, sc = self.index.knn_query(inputs, k=n_bm)\n",
    "        info, sc, ptr = torch.tensor(info.reshape(-1).astype(np.int64)), torch.tensor(sc.reshape(-1)), torch.full((inputs.shape[0],), n_bm)\n",
    "        return {'info2data_idx':info, 'info2data_score':1.0-sc, 'info2data_data2ptr':ptr}\n",
    "        "
   ]
  },
  {
   "cell_type": "markdown",
   "id": "db63ed40-447b-41d8-81d8-fb4215d7c3ab",
   "metadata": {
    "jp-MarkdownHeadingCollapsed": true
   },
   "source": [
    "#### Example"
   ]
  },
  {
   "cell_type": "code",
   "execution_count": null,
   "id": "23cc7649-ae29-4fd1-86bb-b2cb2482c9fc",
   "metadata": {},
   "outputs": [],
   "source": [
    "n,dim = 10000,128\n",
    "data, info = np.float32(np.random.random((n, dim))), torch.arange(n)\n",
    "\n",
    "data = torch.rand((n, dim)).to('cuda')"
   ]
  },
  {
   "cell_type": "code",
   "execution_count": null,
   "id": "8038eef1-6fac-4632-bac6-8dd0398242bc",
   "metadata": {},
   "outputs": [],
   "source": [
    "index = IndexSearch()\n",
    "index.build(data, info)"
   ]
  },
  {
   "cell_type": "code",
   "execution_count": null,
   "id": "024ecb86-b86c-4ba3-8a04-0d84329a1a07",
   "metadata": {},
   "outputs": [],
   "source": [
    "output = index.proc(data)"
   ]
  },
  {
   "cell_type": "code",
   "execution_count": null,
   "id": "692ad804-07a2-4aa7-9f8e-9446e42a6d7a",
   "metadata": {},
   "outputs": [
    {
     "data": {
      "text/plain": [
       "(torch.Size([500000]), torch.Size([500000]), torch.Size([10000]))"
      ]
     },
     "execution_count": null,
     "metadata": {},
     "output_type": "execute_result"
    }
   ],
   "source": [
    "output['info2data_idx'].shape, output['info2data_score'].shape, output['info2data_data2ptr'].shape"
   ]
  },
  {
   "cell_type": "code",
   "execution_count": null,
   "id": "9a368b29-24bc-473c-a695-db0d79c308e9",
   "metadata": {},
   "outputs": [
    {
     "data": {
      "text/plain": [
       "tensor([1.0000, 0.8515, 0.8511, 0.8475, 0.8436, 0.8381, 0.8370, 0.8361, 0.8355,\n",
       "        0.8354])"
      ]
     },
     "execution_count": null,
     "metadata": {},
     "output_type": "execute_result"
    }
   ],
   "source": [
    "output['info2data_score'][:10]"
   ]
  },
  {
   "cell_type": "code",
   "execution_count": null,
   "id": "e7b02b6f-0497-40b1-93a9-23555d11e8f5",
   "metadata": {},
   "outputs": [
    {
     "data": {
      "text/plain": [
       "tensor([6.7123, 6.5139, 6.7348,  ..., 6.4729, 6.6765, 6.2345], device='cuda:0')"
      ]
     },
     "execution_count": null,
     "metadata": {},
     "output_type": "execute_result"
    }
   ],
   "source": [
    "torch.norm(data, dim=1)"
   ]
  },
  {
   "cell_type": "markdown",
   "id": "5bcf35f9",
   "metadata": {},
   "source": [
    "## BruteForceSearch"
   ]
  },
  {
   "cell_type": "code",
   "execution_count": 8,
   "id": "10d910cf-8b81-436f-9ea7-d4526e05100d",
   "metadata": {},
   "outputs": [],
   "source": [
    "#| export\n",
    "class BruteForceSearch:\n",
    "    \n",
    "    def __init__(\n",
    "        self, \n",
    "        index:Optional[torch.Tensor]=None, \n",
    "        n_bm:Optional[int]=50,\n",
    "        normalize:Optional[bool]=True,\n",
    "    ):\n",
    "        store_attr('index,n_bm,normalize')\n",
    "        \n",
    "    def build(self, data:Optional[torch.Tensor], info:Optional[torch.Tensor]=None):\n",
    "        if info is not None and data.shape[0] != info.shape[0]: \n",
    "            raise ValueError(f'`data`({data.shape[0]}) and `info`({info.shape[0]}) should have same size.')\n",
    "        self.index = (data, info)\n",
    "\n",
    "    def get_items(self, idx:Optional[Union[torch.Tensor,np.array]]):\n",
    "        return self.index[0][idx]\n",
    "    \n",
    "    def proc(self, inputs:Optional[torch.Tensor], n_bm:Optional[int]=None):\n",
    "        store_attr('n_bm', is_none=False)\n",
    "        index, info = self.index\n",
    "        \n",
    "        inputs = F.normalize(inputs, dim=1) if self.normalize else inputs\n",
    "        inputs = inputs.to(index.device)\n",
    "        \n",
    "        n_bm = min(index.shape[0], self.n_bm)\n",
    "        index = F.normalize(index, dim=1) if self.normalize else index\n",
    "        \n",
    "        sc, idx = torch.topk(inputs@index.T, n_bm, dim=1, largest=True)\n",
    "        if info is None: info = idx\n",
    "        else: info = info.unsqueeze(0).expand((idx.shape[0],-1)).gather(1, idx)\n",
    "            \n",
    "        info, sc, ptr = info.reshape(-1), sc.reshape(-1), torch.full((inputs.shape[0],), n_bm, device=inputs.device)\n",
    "        return {'info2data_idx':info, 'info2data_score':sc, 'info2data_data2ptr':ptr}\n",
    "        "
   ]
  },
  {
   "cell_type": "markdown",
   "id": "bb3fde71",
   "metadata": {},
   "source": [
    "### Example"
   ]
  },
  {
   "cell_type": "code",
   "execution_count": null,
   "id": "8db15296",
   "metadata": {},
   "outputs": [],
   "source": [
    "n,dim = 10000,128\n",
    "data = torch.rand((n, dim)).to('cuda')"
   ]
  },
  {
   "cell_type": "code",
   "execution_count": null,
   "id": "682174dc",
   "metadata": {},
   "outputs": [],
   "source": [
    "index = BruteForceSearch()\n",
    "index.build(data)"
   ]
  },
  {
   "cell_type": "code",
   "execution_count": null,
   "id": "c3f0b133",
   "metadata": {},
   "outputs": [],
   "source": [
    "output = index.proc(data)"
   ]
  },
  {
   "cell_type": "code",
   "execution_count": null,
   "id": "b9895d29",
   "metadata": {},
   "outputs": [
    {
     "data": {
      "text/plain": [
       "tensor([1.0000, 0.8101, 0.8094, 0.8083, 0.8072, 0.8072, 0.8036, 0.8028, 0.8021,\n",
       "        0.8014], device='cuda:0')"
      ]
     },
     "execution_count": null,
     "metadata": {},
     "output_type": "execute_result"
    }
   ],
   "source": [
    "output['info2data_score'][:10]"
   ]
  },
  {
   "cell_type": "code",
   "execution_count": null,
   "id": "9c578f44",
   "metadata": {},
   "outputs": [
    {
     "data": {
      "text/plain": [
       "tensor([5.6306, 6.3279], device='cuda:0')"
      ]
     },
     "execution_count": null,
     "metadata": {},
     "output_type": "execute_result"
    }
   ],
   "source": [
    "index.get_items(torch.tensor([10,20])).norm(dim=1)"
   ]
  },
  {
   "cell_type": "code",
   "execution_count": null,
   "id": "95e89892-203a-483d-9e23-51f583332676",
   "metadata": {},
   "outputs": [],
   "source": []
  }
 ],
 "metadata": {
  "kernelspec": {
   "display_name": "Python 3 (ipykernel)",
   "language": "python",
   "name": "python3"
  },
  "language_info": {
   "codemirror_mode": {
    "name": "ipython",
    "version": 3
   },
   "file_extension": ".py",
   "mimetype": "text/x-python",
   "name": "python",
   "nbconvert_exporter": "python",
   "pygments_lexer": "ipython3",
   "version": "3.13.2"
  }
 },
 "nbformat": 4,
 "nbformat_minor": 5
}
