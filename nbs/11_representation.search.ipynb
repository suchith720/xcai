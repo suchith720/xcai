{
 "cells": [
  {
   "cell_type": "code",
   "execution_count": null,
   "id": "24f1b526-ecd1-4492-a82d-dd179163bc17",
   "metadata": {},
   "outputs": [],
   "source": [
    "#| default_exp representation.search"
   ]
  },
  {
   "cell_type": "code",
   "execution_count": null,
   "id": "08631d5d-cb2e-4cf2-a7a3-08a92fde9f9e",
   "metadata": {},
   "outputs": [],
   "source": [
    "#| hide\n",
    "%load_ext autoreload\n",
    "%autoreload 2"
   ]
  },
  {
   "cell_type": "code",
   "execution_count": null,
   "id": "f2a66ba3-8bb5-4731-bf45-d56170fd564f",
   "metadata": {},
   "outputs": [],
   "source": [
    "#| export\n",
    "import torch, hnswlib, numpy as np, torch.nn.functional as F\n",
    "from typing import Optional, Union\n",
    "\n",
    "from xcai.core import *"
   ]
  },
  {
   "cell_type": "markdown",
   "id": "36d57660-e305-4be2-8d9f-7f4600c3bb88",
   "metadata": {},
   "source": [
    "## IndexSearch"
   ]
  },
  {
   "cell_type": "code",
   "execution_count": null,
   "id": "36711602-4847-4a21-942b-143e3b6d26f9",
   "metadata": {},
   "outputs": [],
   "source": [
    "#| export\n",
    "class IndexSearch:\n",
    "\n",
    "    def __init__(self, \n",
    "                 index:Optional[hnswlib.Index]=None, \n",
    "                 space:Optional[str]='cosine', \n",
    "                 efc:Optional[int]=200, \n",
    "                 m:Optional[int]=16, \n",
    "                 efs:Optional[int]=50, \n",
    "                 n_bm:Optional[int]=50, \n",
    "                 n_threads:Optional[int]=84):\n",
    "        store_attr('index,space,efc,m,efs,n_bm,n_threads')\n",
    "\n",
    "    def build(self, data:Optional[Union[torch.Tensor,np.array]], info:Optional[Union[torch.Tensor,np.array]]=None):\n",
    "        if info is None: info = np.arange(data.shape[0])\n",
    "        if data.shape[0] != info.shape[0]: \n",
    "            raise ValueError(f'`data`({data.shape[0]}) and `info`({info.shape[0]}) should have same size.')\n",
    "            \n",
    "        if isinstance(data, torch.Tensor): data = data.cpu()\n",
    "        if isinstance(info, torch.Tensor): info = info.cpu()\n",
    "            \n",
    "        self.index = hnswlib.Index(space=self.space, dim=data.shape[1])\n",
    "        self.index.init_index(max_elements=data.shape[0], ef_construction=self.efc, M=self.m)\n",
    "        self.index.add_items(data, info, num_threads=self.n_threads)\n",
    "        self.index.set_ef(self.efs)\n",
    "\n",
    "    def proc(self, inputs:Optional[Union[torch.Tensor,np.array]], n_bm:Optional[int]=None):\n",
    "        n_bm = self.n_bm if n_bm is None else n_bm\n",
    "        n_bm = self.efs if n_bm > self.efs else n_bm\n",
    "        if isinstance(inputs, torch.Tensor): inputs = inputs.cpu()\n",
    "        info, sc = self.index.knn_query(inputs, k=n_bm)\n",
    "        info, sc, ptr = torch.tensor(info.reshape(-1).astype(np.int64)), torch.tensor(sc.reshape(-1)), torch.full((inputs.shape[0],), n_bm)\n",
    "        return {'info2data_idx':info, 'info2data_score':1.0-sc, 'info2data_data2ptr':ptr}\n",
    "        "
   ]
  },
  {
   "cell_type": "markdown",
   "id": "db63ed40-447b-41d8-81d8-fb4215d7c3ab",
   "metadata": {},
   "source": [
    "#### Example"
   ]
  },
  {
   "cell_type": "code",
   "execution_count": null,
   "id": "23cc7649-ae29-4fd1-86bb-b2cb2482c9fc",
   "metadata": {},
   "outputs": [],
   "source": [
    "n,dim = 10000,128\n",
    "data, info = np.float32(np.random.random((n, dim))), torch.arange(n)\n",
    "\n",
    "data = torch.rand((n, dim)).to('cuda')"
   ]
  },
  {
   "cell_type": "code",
   "execution_count": null,
   "id": "8038eef1-6fac-4632-bac6-8dd0398242bc",
   "metadata": {},
   "outputs": [],
   "source": [
    "index = IndexSearch()\n",
    "index.build(data, info)"
   ]
  },
  {
   "cell_type": "code",
   "execution_count": null,
   "id": "024ecb86-b86c-4ba3-8a04-0d84329a1a07",
   "metadata": {},
   "outputs": [],
   "source": [
    "output = index.proc(data)"
   ]
  },
  {
   "cell_type": "code",
   "execution_count": null,
   "id": "692ad804-07a2-4aa7-9f8e-9446e42a6d7a",
   "metadata": {},
   "outputs": [
    {
     "data": {
      "text/plain": [
       "(torch.Size([500000]), torch.Size([500000]), torch.Size([10000]))"
      ]
     },
     "execution_count": null,
     "metadata": {},
     "output_type": "execute_result"
    }
   ],
   "source": [
    "output['info2data_idx'].shape, output['info2data_score'].shape, output['info2data_data2ptr'].shape"
   ]
  },
  {
   "cell_type": "code",
   "execution_count": null,
   "id": "9a368b29-24bc-473c-a695-db0d79c308e9",
   "metadata": {},
   "outputs": [
    {
     "data": {
      "text/plain": [
       "tensor([1.0000, 0.8246, 0.8245, 0.8227, 0.8227, 0.8207, 0.8207, 0.8206, 0.8205,\n",
       "        0.8205])"
      ]
     },
     "execution_count": null,
     "metadata": {},
     "output_type": "execute_result"
    }
   ],
   "source": [
    "output['info2data_score'][:10]"
   ]
  },
  {
   "cell_type": "markdown",
   "id": "5bcf35f9",
   "metadata": {},
   "source": [
    "## BruteForceSearch"
   ]
  },
  {
   "cell_type": "code",
   "execution_count": null,
   "id": "10d910cf-8b81-436f-9ea7-d4526e05100d",
   "metadata": {},
   "outputs": [],
   "source": [
    "#| export\n",
    "class BruteForceSearch:\n",
    "    \n",
    "    def __init__(self, \n",
    "                 index:Optional[torch.Tensor]=None, \n",
    "                 n_bm:Optional[int]=50):\n",
    "        store_attr('index,n_bm')\n",
    "        \n",
    "    def build(self, data:Optional[torch.Tensor], info:Optional[torch.Tensor]=None):\n",
    "        if info is not None and data.shape[0] != info.shape[0]: \n",
    "            raise ValueError(f'`data`({data.shape[0]}) and `info`({info.shape[0]}) should have same size.')\n",
    "        self.index = (F.normalize(data, dim=1), info)\n",
    "    \n",
    "    def proc(self, inputs:Optional[torch.Tensor], n_bm:Optional[int]=None):\n",
    "        store_attr('n_bm', is_none=False)\n",
    "        index, info = self.index\n",
    "        inputs, n_bm = F.normalize(inputs, dim=1), min(index.shape[0], self.n_bm)\n",
    "        \n",
    "        sc, idx = torch.topk(inputs@index.T, n_bm, dim=1, largest=True)\n",
    "        if info is None: info = idx\n",
    "        else: info = info.unsqueeze(0).expand((idx.shape[0],-1)).gather(1, idx)\n",
    "            \n",
    "        info, sc, ptr = info.reshape(-1), sc.reshape(-1), torch.full((inputs.shape[0],), n_bm, device=inputs.device)\n",
    "        return {'info2data_idx':info, 'info2data_score':sc, 'info2data_data2ptr':ptr}\n",
    "        "
   ]
  },
  {
   "cell_type": "markdown",
   "id": "bb3fde71",
   "metadata": {},
   "source": [
    "### Example"
   ]
  },
  {
   "cell_type": "code",
   "execution_count": null,
   "id": "8db15296",
   "metadata": {},
   "outputs": [],
   "source": [
    "n,dim = 10000,128\n",
    "data = torch.rand((n, dim)).to('cuda')"
   ]
  },
  {
   "cell_type": "code",
   "execution_count": null,
   "id": "682174dc",
   "metadata": {},
   "outputs": [],
   "source": [
    "index = BruteForceSearch()\n",
    "index.build(data)"
   ]
  },
  {
   "cell_type": "code",
   "execution_count": null,
   "id": "c3f0b133",
   "metadata": {},
   "outputs": [],
   "source": [
    "output = index.proc(data)"
   ]
  },
  {
   "cell_type": "code",
   "execution_count": null,
   "id": "b9895d29",
   "metadata": {},
   "outputs": [
    {
     "data": {
      "text/plain": [
       "tensor([1.0000, 0.8248, 0.8246, 0.8245, 0.8227, 0.8227, 0.8222, 0.8221, 0.8213,\n",
       "        0.8207], device='cuda:0')"
      ]
     },
     "execution_count": null,
     "metadata": {},
     "output_type": "execute_result"
    }
   ],
   "source": [
    "output['info2data_score'][:10]"
   ]
  },
  {
   "cell_type": "code",
   "execution_count": null,
   "id": "9c578f44",
   "metadata": {},
   "outputs": [],
   "source": []
  }
 ],
 "metadata": {
  "kernelspec": {
   "display_name": "python3",
   "language": "python",
   "name": "python3"
  }
 },
 "nbformat": 4,
 "nbformat_minor": 5
}
