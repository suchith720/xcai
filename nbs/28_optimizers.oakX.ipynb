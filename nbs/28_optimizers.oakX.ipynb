{
 "cells": [
  {
   "cell_type": "code",
   "execution_count": null,
   "id": "2f74afb7-4df8-4609-ad32-dc039794e005",
   "metadata": {},
   "outputs": [],
   "source": [
    "#| default_exp optimizers.oakX"
   ]
  },
  {
   "cell_type": "code",
   "execution_count": null,
   "id": "b7966d7f-e4c0-4377-9167-954571fd358e",
   "metadata": {},
   "outputs": [],
   "source": [
    "%load_ext autoreload\n",
    "%autoreload 2"
   ]
  },
  {
   "cell_type": "code",
   "execution_count": null,
   "id": "0c8fe437-04b2-441d-b544-9cebcaa1fab8",
   "metadata": {},
   "outputs": [],
   "source": [
    "#| export\n",
    "import torch\n",
    "from itertools import chain\n",
    "from collections import defaultdict"
   ]
  },
  {
   "cell_type": "code",
   "execution_count": null,
   "id": "7843d13d-b6db-47aa-a30a-0a5362cad750",
   "metadata": {},
   "outputs": [],
   "source": [
    "#| export\n",
    "class MultipleOptimizer(torch.optim.Optimizer):\n",
    "    # Wrapper around multiple optimizers that should be executed at the same time\n",
    "    def __init__(self, optimizers):\n",
    "        self.optimizers = optimizers\n",
    "\n",
    "    @property\n",
    "    def state(self):\n",
    "        state = defaultdict(dict)\n",
    "        for optimizer in self.optimizers:\n",
    "            state = {**state, **optimizer.state}\n",
    "        return state\n",
    "\n",
    "    @property\n",
    "    def param_groups(self):\n",
    "        param_groups = []\n",
    "        for optimizer in self.optimizers:\n",
    "            param_groups = param_groups + optimizer.param_groups\n",
    "        return param_groups\n",
    "\n",
    "    def __getstate__(self):\n",
    "        return [optimizer.__getstate__() for optimizer in self.optimizers]\n",
    "\n",
    "    def __setstate__(self, state):\n",
    "        for opt_state, optimizer in zip(self.optimizers, state):\n",
    "            optimizer.__setstate__(opt_state)\n",
    "\n",
    "    def __repr__(self):\n",
    "        format_string = self.__class__.__name__ + ' ('\n",
    "        for optimizer in self.optimizers:\n",
    "            format_string += '\\n'\n",
    "            format_string += optimizer.__repr__()\n",
    "        format_string += ')'\n",
    "        return format_string\n",
    "\n",
    "    def _hook_for_profile(self):\n",
    "        for optimizer in self.optimizers:\n",
    "            optimizer._hook_for_profile()\n",
    "\n",
    "    def state_dict(self):\n",
    "        return [optimizer.state_dict() for optimizer in self.optimizers]\n",
    "\n",
    "    def load_state_dict(self, state_dict):\n",
    "        for state, optimizer in zip(state_dict, self.optimizers):\n",
    "            optimizer.load_state_dict(state)\n",
    "\n",
    "    def zero_grad(self, set_to_none: bool = False):\n",
    "        for optimizer in self.optimizers:\n",
    "            optimizer.zero_grad(set_to_none=set_to_none)\n",
    "\n",
    "    def add_param_group(self, param_group):\n",
    "        raise NotImplementedError()\n",
    "\n",
    "    def step(self, closure=None):\n",
    "        loss = None\n",
    "        if closure is not None:\n",
    "            with torch.enable_grad():\n",
    "                loss = closure()\n",
    "\n",
    "        for optimizer in self.optimizers:\n",
    "            optimizer.step()\n",
    "\n",
    "        return loss\n"
   ]
  },
  {
   "cell_type": "code",
   "execution_count": null,
   "id": "8b7a000e-8d0d-428b-a42f-2bcda389133d",
   "metadata": {},
   "outputs": [],
   "source": [
    "#| export\n",
    "class MultipleScheduler(object):\n",
    "\n",
    "    def __init__(self, sched):\n",
    "        self.schedulers = sched\n",
    "\n",
    "    def step(self, *args, **kwargs):\n",
    "        for sched in self.schedulers: sched.step(*args, **kwargs)\n",
    "\n",
    "    def get_last_lr(self):\n",
    "        return list(chain(*[s.get_last_lr() for s in self.schedulers]))\n",
    "\n",
    "    def state_dict(self):\n",
    "        return [sched.state_dict() for sched in self.schedulers]\n",
    "\n",
    "    def load_state_dict(self, state_dict):\n",
    "        for sched,state in zip(self.schedulers, state_dict):\n",
    "            sched.load_state_dict(state)"
   ]
  },
  {
   "cell_type": "code",
   "execution_count": null,
   "id": "b7fc2f24-be01-459e-9afd-7f1ca087ec53",
   "metadata": {},
   "outputs": [],
   "source": []
  }
 ],
 "metadata": {
  "kernelspec": {
   "display_name": "python3",
   "language": "python",
   "name": "python3"
  }
 },
 "nbformat": 4,
 "nbformat_minor": 5
}
