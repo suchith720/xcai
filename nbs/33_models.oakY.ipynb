{
 "cells": [
  {
   "cell_type": "code",
   "execution_count": 1,
   "id": "7dd48060",
   "metadata": {},
   "outputs": [],
   "source": [
    "#| default_exp models.oakY"
   ]
  },
  {
   "cell_type": "code",
   "execution_count": 2,
   "id": "9d95873c",
   "metadata": {},
   "outputs": [],
   "source": [
    "%load_ext autoreload\n",
    "%autoreload 2"
   ]
  },
  {
   "cell_type": "code",
   "execution_count": 3,
   "id": "e2fc4a5d",
   "metadata": {},
   "outputs": [],
   "source": [
    "#| export\n",
    "import torch, re, inspect, pickle, os, torch.nn as nn, math\n",
    "import torch.nn.functional as F\n",
    "from dataclasses import dataclass\n",
    "from typing import Optional, List, Tuple, Mapping, Any, Union\n",
    "from transformers import (\n",
    "    PretrainedConfig,\n",
    "    DistilBertForMaskedLM,\n",
    "    DistilBertModel,\n",
    "    DistilBertPreTrainedModel,\n",
    "    DistilBertConfig,\n",
    ")\n",
    "from transformers.utils.generic import ModelOutput\n",
    "from transformers.activations import get_activation\n",
    "\n",
    "from fastcore.meta import *\n",
    "from fastcore.utils import *\n",
    "\n",
    "from xcai.losses import *\n",
    "from xcai.core import store_attr\n",
    "from xcai.learner import XCDataParallel\n",
    "from xcai.models.modeling_utils import *"
   ]
  },
  {
   "cell_type": "code",
   "execution_count": 4,
   "id": "4ee9b3d6",
   "metadata": {},
   "outputs": [],
   "source": [
    "from nbdev.showdoc import *\n",
    "import nbdev; nbdev.nbdev_export()"
   ]
  },
  {
   "cell_type": "code",
   "execution_count": 5,
   "id": "26c00009",
   "metadata": {},
   "outputs": [],
   "source": [
    "from transformers import AutoConfig\n",
    "from xcai.block import *"
   ]
  },
  {
   "cell_type": "markdown",
   "id": "432ede14",
   "metadata": {},
   "source": [
    "## Setup"
   ]
  },
  {
   "cell_type": "code",
   "execution_count": 67,
   "id": "78bbe577-ddb3-4e4d-97a2-9e26db631d13",
   "metadata": {},
   "outputs": [],
   "source": [
    "from xcai.main import *"
   ]
  },
  {
   "cell_type": "code",
   "execution_count": 6,
   "id": "1ff9c458",
   "metadata": {},
   "outputs": [],
   "source": [
    "os.environ['CUDA_VISIBLE_DEVICES'] = \"0,1\""
   ]
  },
  {
   "cell_type": "code",
   "execution_count": 64,
   "id": "9e9f4c9b",
   "metadata": {},
   "outputs": [],
   "source": [
    "data_dir = '/home/scai/phd/aiz218323/scratch/datasets/benchmarks/'\n",
    "config_file = 'wikiseealsotitles'\n",
    "config_key = 'data_lnk'\n",
    "\n",
    "mname = 'sentence-transformers/msmarco-distilbert-base-v4'"
   ]
  },
  {
   "cell_type": "code",
   "execution_count": 65,
   "id": "5905f5a9-40bb-4a21-b8ed-a1cf648d9c32",
   "metadata": {},
   "outputs": [],
   "source": [
    "pkl_dir = '/home/scai/phd/aiz218323/scratch/datasets/processed/'\n",
    "pkl_file = f'{pkl_dir}/wikiseealsotitles_data-meta_distilbert-base-uncased_sxc.joblib'"
   ]
  },
  {
   "cell_type": "code",
   "execution_count": null,
   "id": "c1448922-d338-4387-8a95-50fa208dcff5",
   "metadata": {},
   "outputs": [],
   "source": []
  },
  {
   "cell_type": "code",
   "execution_count": 68,
   "id": "f413ffae-40b9-4cb0-b403-5648dee424be",
   "metadata": {},
   "outputs": [
    {
     "name": "stderr",
     "output_type": "stream",
     "text": [
      "/home/scai/phd/aiz218323/.local/lib/python3.10/site-packages/xclib-0.97-py3.10-linux-x86_64.egg/xclib/data/data_utils.py:263: UserWarning: Header mis-match from inferred shape!\n",
      "  warnings.warn(\"Header mis-match from inferred shape!\")\n"
     ]
    }
   ],
   "source": [
    "block = build_block(pkl_file, config_file, True, config_key, data_dir=data_dir, n_sdata_meta_samples=3, do_build=False)"
   ]
  },
  {
   "cell_type": "code",
   "execution_count": null,
   "id": "1e591a74-bb3e-4842-8014-916a2e01ef7a",
   "metadata": {},
   "outputs": [],
   "source": []
  },
  {
   "cell_type": "code",
   "execution_count": 69,
   "id": "c50e879f",
   "metadata": {},
   "outputs": [],
   "source": [
    "batch = block.train.one_batch(5)\n",
    "for i,batch in enumerate(block.train.dl):\n",
    "    if i > 2: break\n",
    "    "
   ]
  },
  {
   "cell_type": "code",
   "execution_count": 70,
   "id": "b5f9f36e-bf56-4af0-8a38-89860721f191",
   "metadata": {},
   "outputs": [
    {
     "data": {
      "text/plain": [
       "dict_keys(['data_idx', 'data_identifier', 'data_input_text', 'data_input_ids', 'data_attention_mask', 'plbl2data_idx', 'plbl2data_data2ptr', 'lbl2data_idx', 'lbl2data_data2ptr', 'lbl2data_identifier', 'lbl2data_input_text', 'lbl2data_input_ids', 'lbl2data_attention_mask', 'plnk2data_idx', 'plnk2data_data2ptr', 'lnk2data_idx', 'lnk2data_data2ptr', 'lnk2data_identifier', 'lnk2data_input_text', 'lnk2data_input_ids', 'lnk2data_attention_mask', 'plnk2lbl_idx', 'plnk2lbl_lbl2ptr', 'lnk2lbl_idx', 'lnk2lbl_lbl2ptr', 'lnk2lbl_identifier', 'lnk2lbl_input_text', 'lnk2lbl_input_ids', 'lnk2lbl_attention_mask', 'lnk2lbl_data2ptr', 'plnk2lbl_data2ptr'])"
      ]
     },
     "execution_count": 70,
     "metadata": {},
     "output_type": "execute_result"
    }
   ],
   "source": [
    "batch.keys()"
   ]
  },
  {
   "cell_type": "markdown",
   "id": "63a8737b",
   "metadata": {
    "jp-MarkdownHeadingCollapsed": true
   },
   "source": [
    "## Encoder"
   ]
  },
  {
   "cell_type": "code",
   "execution_count": 71,
   "id": "f5ed7d03",
   "metadata": {},
   "outputs": [],
   "source": [
    "#| export\n",
    "class Encoder(DistilBertPreTrainedModel):\n",
    "    \n",
    "    def __init__(\n",
    "        self, \n",
    "        config:PretrainedConfig, \n",
    "    ):\n",
    "        super().__init__(config)\n",
    "        self.distilbert = DistilBertModel(config)\n",
    "        \n",
    "        self.dr_head = RepresentationHead(config)\n",
    "        self.dr_fused_head = RepresentationHead(config)\n",
    "        self.meta_head = RepresentationHead(config)\n",
    "        self.cross_head = CrossAttention(config)\n",
    "        self.meta_embeddings = nn.Embedding(config.vocab_size, config.dim)\n",
    "        \n",
    "        self.post_init()\n",
    "\n",
    "    def freeze_meta_embeddings(self):\n",
    "        self.meta_embeddings.requires_grad_(False)\n",
    "\n",
    "    def unfreeze_meta_embeddings(self):\n",
    "        self.meta_embeddings.requires_grad_(True)\n",
    "\n",
    "    def set_meta_embeddings(self, embed:torch.Tensor):\n",
    "        with torch.no_grad():\n",
    "            self.meta_embeddings.weight.copy_(embed)\n",
    "        \n",
    "    def get_position_embeddings(self) -> nn.Embedding:\n",
    "        return self.distilbert.get_position_embeddings()\n",
    "    \n",
    "    def resize_position_embeddings(self, new_num_position_embeddings: int):\n",
    "        self.distilbert.resize_position_embeddings(new_num_position_embeddings)\n",
    "    \n",
    "    def encode(self, input_ids:torch.Tensor, attention_mask:torch.Tensor, **kwargs):\n",
    "        return self.distilbert(\n",
    "            input_ids=input_ids,\n",
    "            attention_mask=attention_mask,\n",
    "            **kwargs\n",
    "        )\n",
    "    \n",
    "    def dr(self, embed:torch.Tensor, attention_mask:torch.Tensor):\n",
    "        embed = self.dr_head(embed)\n",
    "        return F.normalize(Pooling.mean_pooling(embed, attention_mask), dim=1)\n",
    "\n",
    "    def dr_fused(self, embed:torch.Tensor, attention_mask:torch.Tensor):\n",
    "        embed = self.dr_fused_head(embed)\n",
    "        return F.normalize(Pooling.mean_pooling(embed, attention_mask), dim=1)\n",
    "\n",
    "    def meta(self, embed:torch.Tensor, attention_mask:torch.Tensor):\n",
    "        embed = self.meta_head(embed)\n",
    "        return F.normalize(Pooling.mean_pooling(embed, attention_mask), dim=1)\n",
    "    \n",
    "    def meta_unnormalized(self, embed:torch.Tensor, attention_mask:torch.Tensor):\n",
    "        embed = self.meta_head(embed)\n",
    "        return Pooling.mean_pooling(embed, attention_mask)\n",
    "\n",
    "    def fuse_meta_into_embeddings(self, embed:torch.Tensor, attention_mask:torch.Tensor, meta_kwargs:Dict):\n",
    "        meta_repr = {}\n",
    "        \n",
    "        for m_key, m_args in meta_kwargs.items():\n",
    "            idx = torch.where(m_args['data2ptr'] > 0)[0]\n",
    "            meta_repr[m_key] = torch.empty(0, self.config.dim).to(embed)\n",
    "            \n",
    "            if len(idx):\n",
    "                assert torch.all(m_args['data2ptr'][idx] == m_args['data2ptr'].max()), f'All datapoints should have same number of metadata.'\n",
    "                \n",
    "                if 'meta_repr' in m_args:\n",
    "                    m_repr,m_repr_mask = m_args['meta_repr'],torch.any(m_args['attention_mask'], dim=1).long().view(-1,1)\n",
    "                    m_repr_mask = m_repr_mask.bool()\n",
    "                else:\n",
    "                    m_input_ids, m_attention_mask = m_args['input_ids'], m_args['attention_mask']\n",
    "                    m_embed = self.meta_embeddings(m_input_ids)\n",
    "    \n",
    "                    m_repr = self.meta_unnormalized(m_embed, m_attention_mask)\n",
    "                    m_repr_mask = torch.any(m_attention_mask, dim=1)\n",
    "                    \n",
    "                m_repr, m_repr_mask = m_repr.view(len(idx), -1, self.config.dim), m_repr_mask.view(len(idx), -1)\n",
    "                \n",
    "                meta_repr[m_key] = m_repr[m_repr_mask]\n",
    "                meta_repr[m_key] = F.normalize(meta_repr[m_key], dim=1)\n",
    "                \n",
    "                fused_embed, w = self.cross_head(embed[idx], attention_mask[idx], m_repr, m_repr_mask, output_attentions=True)\n",
    "                embed[idx] += fused_embed\n",
    "               \n",
    "        return embed, meta_repr\n",
    "\n",
    "    def forward(\n",
    "        self, \n",
    "        data_input_ids: torch.Tensor, \n",
    "        data_attention_mask: torch.Tensor,\n",
    "        data_aug_meta_prefix: Optional[str]=None,\n",
    "        data_type:Optional[str]=None,\n",
    "        data_unnormalized:Optional[bool]=False,\n",
    "        **kwargs\n",
    "    ):  \n",
    "        data_o = self.encode(data_input_ids, data_attention_mask)\n",
    "        \n",
    "        if data_type is not None and data_type == \"meta\":\n",
    "            data_repr = self.meta_unnormalized(data_o[0], data_attention_mask) if data_unnormalized else self.meta(data_o[0], data_attention_mask)\n",
    "        else: \n",
    "            data_repr = self.dr(data_o[0], data_attention_mask)\n",
    "        \n",
    "        data_fused_repr = meta_repr = None\n",
    "        if data_aug_meta_prefix is not None:\n",
    "            meta_kwargs = Parameters.from_meta_aug_prefix(data_aug_meta_prefix, **kwargs)\n",
    "            if len(meta_kwargs):\n",
    "                data_fused_embed, meta_repr = self.fuse_meta_into_embeddings(data_o[0], \n",
    "                                                                            data_attention_mask, \n",
    "                                                                            meta_kwargs)\n",
    "                data_fused_repr = self.dr_fused(data_fused_embed, data_attention_mask)\n",
    "                \n",
    "        return EncoderOutput(\n",
    "            rep=data_repr,\n",
    "            fused_rep=data_fused_repr,\n",
    "            meta_repr=meta_repr,\n",
    "        )\n",
    "        "
   ]
  },
  {
   "cell_type": "markdown",
   "id": "ba618800-3966-4b2a-b887-96faa1cda5b5",
   "metadata": {
    "jp-MarkdownHeadingCollapsed": true
   },
   "source": [
    "## `OAK000`"
   ]
  },
  {
   "cell_type": "code",
   "execution_count": 72,
   "id": "bf51c610-41c8-4752-b2e6-5ac4cd5492ef",
   "metadata": {},
   "outputs": [],
   "source": [
    "#| export\n",
    "class OAK000(nn.Module):\n",
    "    \n",
    "    def __init__(\n",
    "        self, config,\n",
    "\n",
    "        data_aug_meta_prefix:Optional[str]=None, \n",
    "        lbl2data_aug_meta_prefix:Optional[str]=None, \n",
    "\n",
    "        data_pred_meta_prefix:Optional[str]=None,\n",
    "        lbl2data_pred_meta_prefix:Optional[str]=None,\n",
    "        \n",
    "        num_batch_labels:Optional[int]=None, \n",
    "        batch_size:Optional[int]=None,\n",
    "        margin:Optional[float]=0.3,\n",
    "        num_negatives:Optional[int]=5,\n",
    "        tau:Optional[float]=0.1,\n",
    "        apply_softmax:Optional[bool]=True,\n",
    "\n",
    "        calib_margin:Optional[float]=0.3,\n",
    "        calib_num_negatives:Optional[int]=10,\n",
    "        calib_tau:Optional[float]=0.1,\n",
    "        calib_apply_softmax:Optional[bool]=False,\n",
    "        calib_loss_weight:Optional[float]=0.1,\n",
    "        use_calib_loss:Optional[float]=False,\n",
    "        \n",
    "        meta_loss_weight:Optional[Union[List,float]]=0.3,\n",
    "        \n",
    "        use_fusion_loss:Optional[bool]=False,\n",
    "        fusion_loss_weight:Optional[float]=0.15,\n",
    "\n",
    "        use_query_loss:Optional[float]=True,\n",
    "        \n",
    "        use_encoder_parallel:Optional[bool]=True,\n",
    "    ):\n",
    "        super().__init__(config)\n",
    "        store_attr('meta_loss_weight,fusion_loss_weight,calib_loss_weight')\n",
    "        store_attr('data_pred_meta_prefix,lbl2data_pred_meta_prefix')\n",
    "        store_attr('data_aug_meta_prefix,lbl2data_aug_meta_prefix')\n",
    "        store_attr('use_fusion_loss,use_query_loss,use_calib_loss,use_encoder_parallel')\n",
    "        \n",
    "        self.encoder = None\n",
    "        self.rep_loss_fn = MultiTriplet(bsz=batch_size, tn_targ=num_batch_labels, margin=margin, n_negatives=num_negatives, \n",
    "                                        tau=tau, apply_softmax=apply_softmax, reduce='mean')\n",
    "        self.cab_loss_fn = Calibration(margin=calib_margin, tau=calib_tau, n_negatives=calib_num_negatives, \n",
    "                                       apply_softmax=calib_apply_softmax, reduce='mean')\n",
    "        \n",
    "    def init_retrieval_head(self):\n",
    "        assert self.encoder is not None, 'Encoder is not initialized.'\n",
    "        self.encoder.dr_head.post_init()\n",
    "        self.encoder.meta_head.post_init()\n",
    "        self.encoder.dr_fused_head.post_init()\n",
    "\n",
    "    def init_cross_head(self):\n",
    "        assert self.encoder is not None, 'Encoder is not initialized.'\n",
    "        self.encoder.cross_head.post_init()\n",
    "        \n",
    "    def compute_loss(self, inp_repr, targ_repr, targ_ptr, targ_idx, ptarg_ptr, ptarg_idx):\n",
    "        return self.rep_loss_fn(inp_repr, targ_repr, targ_ptr, targ_idx, ptarg_ptr, ptarg_idx)\n",
    "\n",
    "    def calibration_loss(self, einp_repr, inp_repr, targ_repr, targ_ptr, targ_idx, ptarg_ptr, ptarg_idx):\n",
    "        return self.calib_loss_weight * self.cab_loss_fn(einp_repr, inp_repr, targ_repr, targ_ptr, targ_idx, ptarg_ptr, ptarg_idx)\n",
    "    \n",
    "    def compute_meta_loss(self, data_repr, lbl2data_repr, **kwargs):\n",
    "        if self.use_encoder_parallel: \n",
    "            encoder = XCDataParallel(module=self.encoder)\n",
    "        else: encoder = self.encoder\n",
    "            \n",
    "        data_meta_inputs = Parameters.from_meta_pred_prefix(self.data_pred_meta_prefix, **kwargs)\n",
    "        lbl2data_meta_inputs = Parameters.from_meta_pred_prefix(self.lbl2data_pred_meta_prefix, **kwargs)\n",
    "        meta_inputs = {**data_meta_inputs, **lbl2data_meta_inputs}\n",
    "\n",
    "        m_lw = Parameters.get_meta_loss_weights(self.meta_loss_weight, len(meta_inputs)) if len(meta_inputs) else []\n",
    "        \n",
    "        loss = 0.0\n",
    "        for inputs,lw in zip(meta_inputs.values(), m_lw):\n",
    "            if 'lbl2data2ptr' in inputs:\n",
    "                idx = torch.where(inputs['lbl2data2ptr'])[0]\n",
    "                if len(idx) > 0:\n",
    "                    inputs_o = encoder(data_input_ids=inputs['input_ids'], data_attention_mask=inputs['attention_mask'], \n",
    "                                       data_type=\"meta\")\n",
    "                    m_loss = self.rep_loss_fn(lbl2data_repr[idx], inputs_o.rep, inputs['lbl2data2ptr'][idx],\n",
    "                                              inputs['idx'], inputs['plbl2data2ptr'][idx], inputs['pidx'])\n",
    "                    loss += lw * m_loss\n",
    "\n",
    "            elif 'data2ptr' in inputs:\n",
    "                idx = torch.where(inputs['data2ptr'])[0]\n",
    "                if len(idx) > 0:\n",
    "                    inputs_o = encoder(data_input_ids=inputs['input_ids'], data_attention_mask=inputs['attention_mask'], \n",
    "                                       data_type=\"meta\")\n",
    "                    m_loss = self.rep_loss_fn(data_repr[idx], inputs_o.rep, inputs['data2ptr'][idx], inputs['idx'], \n",
    "                                              inputs['pdata2ptr'][idx], inputs['pidx'])\n",
    "                    loss += lw * m_loss       \n",
    "\n",
    "            else: raise ValueError('Invalid metadata input arguments.')\n",
    "        return loss\n",
    "\n",
    "    def compute_fusion_loss(self, data_repr, meta_repr:Dict, prefix:str, **kwargs):\n",
    "        meta_inputs = Parameters.from_meta_pred_prefix(prefix, **kwargs)\n",
    "        \n",
    "        loss = 0.0\n",
    "        if meta_repr is not None:\n",
    "            for key,input_repr in meta_repr.items():\n",
    "                inputs = meta_inputs[key]\n",
    "                if 'lbl2data2ptr' in inputs:\n",
    "                    idx = torch.where(inputs['lbl2data2ptr'])[0]\n",
    "                    if len(idx) > 0:\n",
    "                        m_loss = self.rep_loss_fn(data_repr[idx], input_repr, inputs['lbl2data2ptr'][idx],\n",
    "                                                  inputs['idx'], inputs['plbl2data2ptr'][idx], inputs['pidx'])\n",
    "                        loss += self.fusion_loss_weight * m_loss\n",
    "    \n",
    "                elif 'data2ptr' in inputs:\n",
    "                    idx = torch.where(inputs['data2ptr'])[0]\n",
    "                    if len(idx) > 0:\n",
    "                        m_loss = self.rep_loss_fn(data_repr[idx], input_repr, inputs['data2ptr'][idx], inputs['idx'], \n",
    "                                                  inputs['pdata2ptr'][idx], inputs['pidx'])\n",
    "                        loss += self.fusion_loss_weight * m_loss       \n",
    "    \n",
    "                else: raise ValueError('Invalid metadata input arguments.')\n",
    "        return loss\n",
    "\n",
    "\n",
    "    def get_meta_representation(\n",
    "        self,\n",
    "        data_input_ids:Optional[torch.Tensor]=None,\n",
    "        data_attention_mask:Optional[torch.Tensor]=None,\n",
    "        **kwargs\n",
    "    ):\n",
    "        if self.use_encoder_parallel: \n",
    "            encoder = XCDataParallel(module=self.encoder)\n",
    "        else: encoder = self.encoder\n",
    "            \n",
    "        data_o = encoder(data_input_ids=data_input_ids, data_attention_mask=data_attention_mask, \n",
    "                         data_unnormalized=True, data_type=\"meta\")\n",
    "        return XCModelOutput(\n",
    "            data_repr=data_o.rep,\n",
    "            data_fused_repr=data_o.fused_rep,\n",
    "        )\n",
    "\n",
    "    def forward(\n",
    "        self,\n",
    "        data_input_ids:Optional[torch.Tensor]=None,\n",
    "        data_attention_mask:Optional[torch.Tensor]=None,\n",
    "        lbl2data_data2ptr:Optional[torch.Tensor]=None,\n",
    "        lbl2data_idx:Optional[torch.Tensor]=None,\n",
    "        lbl2data_input_ids:Optional[torch.Tensor]=None,\n",
    "        lbl2data_attention_mask:Optional[torch.Tensor]=None,\n",
    "        plbl2data_data2ptr:Optional[torch.Tensor]=None,\n",
    "        plbl2data_idx:Optional[torch.Tensor]=None,\n",
    "        output_attentions: Optional[bool] = None,\n",
    "        output_hidden_states: Optional[bool] = None,\n",
    "        return_dict: Optional[bool] = None,\n",
    "        **kwargs\n",
    "    ):  \n",
    "        return_dict = return_dict if return_dict is not None else self.config.use_return_dict\n",
    "        \n",
    "        if self.use_encoder_parallel: \n",
    "            encoder = XCDataParallel(module=self.encoder)\n",
    "        else: encoder = self.encoder\n",
    "        \n",
    "        data_meta_kwargs = Parameters.from_feat_meta_aug_prefix('data', self.data_aug_meta_prefix, **kwargs)\n",
    "        data_o = encoder(data_input_ids=data_input_ids, data_attention_mask=data_attention_mask, \n",
    "                         data_aug_meta_prefix=self.data_aug_meta_prefix, **data_meta_kwargs)\n",
    "        \n",
    "        \n",
    "        loss = None; lbl2data_o = EncoderOutput()\n",
    "        if lbl2data_input_ids is not None:\n",
    "            lbl2data_meta_kwargs = Parameters.from_feat_meta_aug_prefix('lbl2data', self.lbl2data_aug_meta_prefix, **kwargs)\n",
    "            lbl2data_o = encoder(data_input_ids=lbl2data_input_ids, data_attention_mask=lbl2data_attention_mask, \n",
    "                                 data_aug_meta_prefix=self.lbl2data_aug_meta_prefix, **lbl2data_meta_kwargs)\n",
    "            \n",
    "            loss = self.compute_loss(data_o.fused_rep, lbl2data_o.rep,lbl2data_data2ptr,lbl2data_idx,\n",
    "                                     plbl2data_data2ptr,plbl2data_idx)\n",
    "\n",
    "            if self.use_query_loss:\n",
    "                loss += self.compute_loss(data_o.rep, lbl2data_o.rep,lbl2data_data2ptr,lbl2data_idx,\n",
    "                                          plbl2data_data2ptr,plbl2data_idx)\n",
    "\n",
    "            if self.use_calib_loss:\n",
    "                loss += self.calibration_loss(data_o.fused_rep, data_o.rep, lbl2data_o.rep,lbl2data_data2ptr,lbl2data_idx,\n",
    "                                              plbl2data_data2ptr,plbl2data_idx)\n",
    "            \n",
    "            # loss += self.compute_meta_loss(data_o.fused_rep, lbl2data_o.rep, **kwargs)\n",
    "            \n",
    "            # if self.use_fusion_loss:\n",
    "            #    loss += self.compute_fusion_loss(data_o.fused_rep, data_o.meta_repr, self.data_aug_meta_prefix, **kwargs)\n",
    "            #    loss += self.compute_fusion_loss(lbl2data_o.rep, lbl2data_o.meta_repr, self.lbl2data_aug_meta_prefix, **kwargs)\n",
    "            \n",
    "            \n",
    "        if not return_dict:\n",
    "            o = (data_o.logits,data_o.rep,data_o.fused_rep,lbl2data_o.logits,lbl2data_o.rep,lbl2data_o.fused_rep)\n",
    "            return ((loss,) + o) if loss is not None else o\n",
    "        \n",
    "        \n",
    "        return XCModelOutput(\n",
    "            loss=loss,\n",
    "            \n",
    "            data_repr=data_o.rep,\n",
    "            data_fused_repr=data_o.fused_rep,\n",
    "            \n",
    "            lbl2data_repr=lbl2data_o.rep,\n",
    "            lbl2data_fused_repr=lbl2data_o.fused_rep,\n",
    "        )\n",
    "        "
   ]
  },
  {
   "cell_type": "markdown",
   "id": "c613ba79",
   "metadata": {
    "jp-MarkdownHeadingCollapsed": true
   },
   "source": [
    "## `OAK001`"
   ]
  },
  {
   "cell_type": "code",
   "execution_count": null,
   "id": "ca974424-8b53-4c3c-94f0-53bca3373924",
   "metadata": {},
   "outputs": [],
   "source": [
    "#| export\n",
    "class OAK001(OAK000, DistilBertPreTrainedModel):\n",
    "    use_generation,use_representation = False,True\n",
    "    _tied_weights_keys = [\"encoder.distilbert\"]\n",
    "\n",
    "    @delegates(OAK000.__init__)\n",
    "    def __init__(self, config, **kwargs):\n",
    "        super().__init__(config, **kwargs)\n",
    "        self.encoder = Encoder(config)\n",
    "        self.post_init(); self.remap_post_init();\n",
    "\n",
    "    def remap_post_init(self):\n",
    "        self.distilbert = self.encoder.distilbert\n",
    "        "
   ]
  },
  {
   "cell_type": "markdown",
   "id": "7ad29670-b8a1-4c4a-9ed1-688cf1688942",
   "metadata": {
    "jp-MarkdownHeadingCollapsed": true
   },
   "source": [
    "### Example"
   ]
  },
  {
   "cell_type": "code",
   "execution_count": null,
   "id": "ac6c3368-2fa0-4de1-9f08-af5457072ac5",
   "metadata": {},
   "outputs": [
    {
     "name": "stderr",
     "output_type": "stream",
     "text": [
      "Some weights of OAK001 were not initialized from the model checkpoint at sentence-transformers/msmarco-distilbert-base-v4 and are newly initialized: ['encoder.cross_head.k.bias', 'encoder.cross_head.k.weight', 'encoder.cross_head.o.bias', 'encoder.cross_head.o.weight', 'encoder.cross_head.q.bias', 'encoder.cross_head.q.weight', 'encoder.cross_head.v.bias', 'encoder.cross_head.v.weight', 'encoder.dr_fused_head.layer_norm.bias', 'encoder.dr_fused_head.layer_norm.weight', 'encoder.dr_fused_head.projector.bias', 'encoder.dr_fused_head.projector.weight', 'encoder.dr_fused_head.transform.bias', 'encoder.dr_fused_head.transform.weight', 'encoder.dr_head.layer_norm.bias', 'encoder.dr_head.layer_norm.weight', 'encoder.dr_head.projector.bias', 'encoder.dr_head.projector.weight', 'encoder.dr_head.transform.bias', 'encoder.dr_head.transform.weight', 'encoder.meta_embeddings.weight', 'encoder.meta_head.layer_norm.bias', 'encoder.meta_head.layer_norm.weight', 'encoder.meta_head.projector.bias', 'encoder.meta_head.projector.weight', 'encoder.meta_head.transform.bias', 'encoder.meta_head.transform.weight']\n",
      "You should probably TRAIN this model on a down-stream task to be able to use it for predictions and inference.\n"
     ]
    }
   ],
   "source": [
    "model = OAK001.from_pretrained('sentence-transformers/msmarco-distilbert-base-v4', batch_size=100, num_batch_labels=5000, \n",
    "                               margin=0.3, num_negatives=5, tau=0.1, apply_softmax=True,\n",
    "                               \n",
    "                               data_aug_meta_prefix='lnk2data', lbl2data_aug_meta_prefix=None, \n",
    "                               data_pred_meta_prefix=None, lbl2data_pred_meta_prefix=None,\n",
    "                               \n",
    "                               calib_margin=0.3, calib_num_negatives=10, calib_tau=0.1, calib_apply_softmax=True, \n",
    "                               calib_loss_weight=0.1, use_calib_loss=False,\n",
    "\n",
    "                               use_query_loss=True,\n",
    "\n",
    "                               meta_loss_weight=0.3, \n",
    "                               \n",
    "                               fusion_loss_weight=0.1, use_fusion_loss=False,\n",
    "                               \n",
    "                               use_encoder_parallel=False)\n",
    "model.init_retrieval_head()\n",
    "model.init_cross_head()\n",
    "model.encoder.set_meta_embeddings(model.distilbert.embeddings.word_embeddings.weight)"
   ]
  },
  {
   "cell_type": "code",
   "execution_count": null,
   "id": "81a579f5-3283-4d1e-82fe-b32b8a0937ff",
   "metadata": {},
   "outputs": [],
   "source": [
    "model = model.to('cuda')"
   ]
  },
  {
   "cell_type": "code",
   "execution_count": null,
   "id": "b7739b8c-6990-46e8-92a7-3e798638f272",
   "metadata": {},
   "outputs": [],
   "source": [
    "b = prepare_batch(model, batch, m_args=[\n",
    "    'plnk2data_idx', 'plnk2data_data2ptr', 'lnk2data_idx', 'lnk2data_input_ids', 'lnk2data_attention_mask', \n",
    "    'lnk2data_data2ptr',\n",
    "])"
   ]
  },
  {
   "cell_type": "code",
   "execution_count": null,
   "id": "00488a20-35c2-4e22-a1d7-582bd218d266",
   "metadata": {},
   "outputs": [
    {
     "data": {
      "text/plain": [
       "dict_keys(['plbl2data_idx', 'plbl2data_data2ptr', 'lbl2data_idx', 'lbl2data_identifier', 'lbl2data_input_text', 'lbl2data_input_ids', 'lbl2data_attention_mask', 'lbl2data_data2ptr', 'plnk2data_idx', 'plnk2data_data2ptr', 'lnk2data_idx', 'lnk2data_identifier', 'lnk2data_input_text', 'lnk2data_input_ids', 'lnk2data_attention_mask', 'lnk2data_data2ptr', 'data_identifier', 'data_input_text', 'data_input_ids', 'data_attention_mask', 'data_idx', 'lnk2lbl2data_idx', 'lnk2lbl2data_identifier', 'lnk2lbl2data_input_text', 'lnk2lbl2data_input_ids', 'lnk2lbl2data_attention_mask', 'lnk2lbl2data_data2ptr', 'lnk2lbl2data_lbl2data2ptr'])"
      ]
     },
     "execution_count": null,
     "metadata": {},
     "output_type": "execute_result"
    }
   ],
   "source": [
    "batch.keys()"
   ]
  },
  {
   "cell_type": "code",
   "execution_count": null,
   "id": "e63c12e8-f39c-4011-a7ca-da0ee84e07af",
   "metadata": {},
   "outputs": [
    {
     "name": "stderr",
     "output_type": "stream",
     "text": [
      "/scratch/scai/phd/aiz218323/Projects/xcai/xcai/losses.py:22: UserWarning: Sparse CSR tensor support is in beta state. If you miss a functionality in the sparse tensor support, please submit a feature request to https://github.com/pytorch/pytorch/issues. (Triggered internally at ../aten/src/ATen/SparseCsrTensorImpl.cpp:53.)\n",
      "  return torch.sparse_csr_tensor(data_ptr, data_idx, scores, device=data_ptr.device)\n"
     ]
    }
   ],
   "source": [
    "o = model(**b.to(model.device))"
   ]
  },
  {
   "cell_type": "code",
   "execution_count": null,
   "id": "3ba8afc8-e3da-4924-a535-d086629f88cf",
   "metadata": {},
   "outputs": [
    {
     "data": {
      "text/plain": [
       "tensor(0.0289, device='cuda:0', grad_fn=<AddBackward0>)"
      ]
     },
     "execution_count": null,
     "metadata": {},
     "output_type": "execute_result"
    }
   ],
   "source": [
    "o.loss"
   ]
  },
  {
   "cell_type": "code",
   "execution_count": null,
   "id": "c820b86e-ff77-44bd-8afd-57f3465e888f",
   "metadata": {},
   "outputs": [],
   "source": []
  },
  {
   "cell_type": "code",
   "execution_count": null,
   "id": "1532b1a3-2907-4b68-978a-e726b26ec553",
   "metadata": {},
   "outputs": [],
   "source": [
    "def func():\n",
    "    import pdb; pdb.set_trace()\n",
    "    return model(**b.to(model.device))\n",
    "    "
   ]
  },
  {
   "cell_type": "code",
   "execution_count": null,
   "id": "4c95b39d-540a-4394-a293-8bc3fcaa4d60",
   "metadata": {
    "scrolled": true
   },
   "outputs": [
    {
     "name": "stdout",
     "output_type": "stream",
     "text": [
      "> /tmp/ipykernel_28793/3657616883.py(3)func()\n",
      "      1 def func():\n",
      "      2     import pdb; pdb.set_trace()\n",
      "----> 3     return model(**b.to(model.device))\n",
      "      4 \n",
      "\n"
     ]
    },
    {
     "name": "stdin",
     "output_type": "stream",
     "text": [
      "ipdb>  b model.encoder.cross_head.forward\n"
     ]
    },
    {
     "name": "stdout",
     "output_type": "stream",
     "text": [
      "Breakpoint 5 at /scratch/scai/phd/aiz218323/Projects/xcai/xcai/models/modeling_utils.py:75\n"
     ]
    },
    {
     "name": "stdin",
     "output_type": "stream",
     "text": [
      "ipdb>  c\n"
     ]
    },
    {
     "name": "stdout",
     "output_type": "stream",
     "text": [
      "> /scratch/scai/phd/aiz218323/Projects/xcai/xcai/models/modeling_utils.py(83)forward()\n",
      "     81         output_attentions:Optional[bool] = False,\n",
      "     82     ):\n",
      "---> 83         bs, q_len, dim = q.size()\n",
      "     84         v, k_len = k, k.size(1)\n",
      "     85 \n",
      "\n"
     ]
    },
    {
     "name": "stdin",
     "output_type": "stream",
     "text": [
      "ipdb>  !q\n"
     ]
    },
    {
     "name": "stdout",
     "output_type": "stream",
     "text": [
      "tensor([[[-0.6077, -1.4566, -1.2658,  ...,  0.4173,  0.4841, -0.4502],\n",
      "         [-0.6280, -0.1254, -0.2795,  ...,  0.7303,  0.4780, -0.8035],\n",
      "         [-0.5878,  0.2601, -0.8291,  ...,  0.7271, -0.0244, -0.1744],\n",
      "         [-0.3885, -0.0131, -0.3512,  ...,  0.8768, -0.2073, -0.3525],\n",
      "         [-0.2144, -1.0242, -1.2639,  ...,  1.1083,  0.2689,  0.1441]],\n",
      "\n",
      "        [[-0.0116, -0.6070, -1.0937,  ...,  0.4919, -0.6339,  0.3495],\n",
      "         [-0.4328, -0.5217, -0.7185,  ...,  0.3906, -0.9542,  0.9589],\n",
      "         [-0.6673, -0.8967, -1.2427,  ...,  0.3123, -0.9577, -0.1136],\n",
      "         [-0.2185,  0.0981, -0.4987,  ...,  0.7605, -0.7738,  0.0544],\n",
      "         [ 0.1080,  0.3637, -0.7733,  ...,  0.7831, -0.8321,  0.0020]],\n",
      "\n",
      "        [[-0.1806,  0.5675, -1.1267,  ...,  1.1764,  0.0713,  0.6914],\n",
      "         [ 0.0746,  0.4647, -1.5286,  ...,  0.7264,  0.2030,  0.5578],\n",
      "         [-0.2783,  0.2235, -0.8286,  ...,  0.4618,  0.0872, -0.2953],\n",
      "         [ 0.7958, -0.2424, -1.0187,  ...,  0.6092, -0.0145,  0.7918],\n",
      "         [ 0.6207,  0.0371, -0.9531,  ...,  0.8225, -0.6611,  0.1072]],\n",
      "\n",
      "        [[ 0.5336, -0.4709,  0.1039,  ...,  0.3853, -0.0933,  0.5370],\n",
      "         [ 1.0290,  0.8542,  0.0529,  ...,  0.4663,  0.4411,  0.5200],\n",
      "         [ 0.9370,  0.2671,  0.4589,  ...,  0.7556, -0.0405,  0.4426],\n",
      "         [ 0.8371, -0.3583,  0.2014,  ...,  0.7148,  0.2214,  0.3790],\n",
      "         [ 1.0329, -0.3276,  0.0614,  ...,  0.7897,  0.3368,  0.5574]],\n",
      "\n",
      "        [[-0.3118, -1.0130, -1.7808,  ...,  0.2968, -0.2475, -0.8826],\n",
      "         [ 0.3580, -0.0703, -0.8850,  ...,  0.1883,  0.1436, -0.2383],\n",
      "         [-0.5002,  0.0114, -1.2645,  ...,  0.7783, -0.3319, -0.9346],\n",
      "         [-0.4279, -0.4987, -1.3819,  ...,  0.4856, -0.0039, -0.7706],\n",
      "         [-0.2209, -0.5125, -1.2878,  ...,  0.6324,  0.1830, -0.4737]]],\n",
      "       device='cuda:0', grad_fn=<IndexBackward0>)\n"
     ]
    },
    {
     "name": "stdin",
     "output_type": "stream",
     "text": [
      "ipdb>  !q_m\n"
     ]
    },
    {
     "name": "stdout",
     "output_type": "stream",
     "text": [
      "tensor([[1, 1, 1, 1, 0],\n",
      "        [1, 1, 1, 1, 1],\n",
      "        [1, 1, 1, 1, 1],\n",
      "        [1, 1, 1, 0, 0],\n",
      "        [1, 1, 1, 0, 0]], device='cuda:0')\n"
     ]
    },
    {
     "name": "stdin",
     "output_type": "stream",
     "text": [
      "ipdb>  n\n"
     ]
    },
    {
     "name": "stdout",
     "output_type": "stream",
     "text": [
      "> /scratch/scai/phd/aiz218323/Projects/xcai/xcai/models/modeling_utils.py(84)forward()\n",
      "     82     ):\n",
      "     83         bs, q_len, dim = q.size()\n",
      "---> 84         v, k_len = k, k.size(1)\n",
      "     85 \n",
      "     86         h_dim = self.dim//self.n_h\n",
      "\n"
     ]
    },
    {
     "name": "stdin",
     "output_type": "stream",
     "text": [
      "ipdb>  \n"
     ]
    },
    {
     "name": "stdout",
     "output_type": "stream",
     "text": [
      "> /scratch/scai/phd/aiz218323/Projects/xcai/xcai/models/modeling_utils.py(86)forward()\n",
      "     84         v, k_len = k, k.size(1)\n",
      "     85 \n",
      "---> 86         h_dim = self.dim//self.n_h\n",
      "     87 \n",
      "     88         def shape(x: torch.Tensor): return x.view(bs, -1, self.n_h, h_dim).transpose(1, 2)\n",
      "\n"
     ]
    },
    {
     "name": "stdin",
     "output_type": "stream",
     "text": [
      "ipdb>  \n"
     ]
    },
    {
     "name": "stdout",
     "output_type": "stream",
     "text": [
      "> /scratch/scai/phd/aiz218323/Projects/xcai/xcai/models/modeling_utils.py(88)forward()\n",
      "     86         h_dim = self.dim//self.n_h\n",
      "     87 \n",
      "---> 88         def shape(x: torch.Tensor): return x.view(bs, -1, self.n_h, h_dim).transpose(1, 2)\n",
      "     89 \n",
      "     90         def unshape(x: torch.Tensor): return x.transpose(1, 2).contiguous().view(bs, -1, self.n_h * h_dim)\n",
      "\n"
     ]
    },
    {
     "name": "stdin",
     "output_type": "stream",
     "text": [
      "ipdb>  \n"
     ]
    },
    {
     "name": "stdout",
     "output_type": "stream",
     "text": [
      "> /scratch/scai/phd/aiz218323/Projects/xcai/xcai/models/modeling_utils.py(90)forward()\n",
      "     88         def shape(x: torch.Tensor): return x.view(bs, -1, self.n_h, h_dim).transpose(1, 2)\n",
      "     89 \n",
      "---> 90         def unshape(x: torch.Tensor): return x.transpose(1, 2).contiguous().view(bs, -1, self.n_h * h_dim)\n",
      "     91 \n",
      "     92         q = shape(self.q(q))  # (bs, n_h, q_len, h_dim)\n",
      "\n"
     ]
    },
    {
     "name": "stdin",
     "output_type": "stream",
     "text": [
      "ipdb>  \n"
     ]
    },
    {
     "name": "stdout",
     "output_type": "stream",
     "text": [
      "> /scratch/scai/phd/aiz218323/Projects/xcai/xcai/models/modeling_utils.py(92)forward()\n",
      "     90         def unshape(x: torch.Tensor): return x.transpose(1, 2).contiguous().view(bs, -1, self.n_h * h_dim)\n",
      "     91 \n",
      "---> 92         q = shape(self.q(q))  # (bs, n_h, q_len, h_dim)\n",
      "     93         k = shape(self.k(k))  # (bs, n_h, k_len, h_dim)\n",
      "     94         v = shape(self.v(v))  # (bs, n_h, k_len, h_dim)\n",
      "\n"
     ]
    },
    {
     "name": "stdin",
     "output_type": "stream",
     "text": [
      "ipdb>  \n"
     ]
    },
    {
     "name": "stdout",
     "output_type": "stream",
     "text": [
      "> /scratch/scai/phd/aiz218323/Projects/xcai/xcai/models/modeling_utils.py(93)forward()\n",
      "     91 \n",
      "     92         q = shape(self.q(q))  # (bs, n_h, q_len, h_dim)\n",
      "---> 93         k = shape(self.k(k))  # (bs, n_h, k_len, h_dim)\n",
      "     94         v = shape(self.v(v))  # (bs, n_h, k_len, h_dim)\n",
      "     95 \n",
      "\n"
     ]
    },
    {
     "name": "stdin",
     "output_type": "stream",
     "text": [
      "ipdb>  \n"
     ]
    },
    {
     "name": "stdout",
     "output_type": "stream",
     "text": [
      "> /scratch/scai/phd/aiz218323/Projects/xcai/xcai/models/modeling_utils.py(94)forward()\n",
      "     92         q = shape(self.q(q))  # (bs, n_h, q_len, h_dim)\n",
      "     93         k = shape(self.k(k))  # (bs, n_h, k_len, h_dim)\n",
      "---> 94         v = shape(self.v(v))  # (bs, n_h, k_len, h_dim)\n",
      "     95 \n",
      "     96         q = q / math.sqrt(h_dim)  # (bs, n_h, q_len, h_dim)\n",
      "\n"
     ]
    },
    {
     "name": "stdin",
     "output_type": "stream",
     "text": [
      "ipdb>  \n"
     ]
    },
    {
     "name": "stdout",
     "output_type": "stream",
     "text": [
      "> /scratch/scai/phd/aiz218323/Projects/xcai/xcai/models/modeling_utils.py(96)forward()\n",
      "     94         v = shape(self.v(v))  # (bs, n_h, k_len, h_dim)\n",
      "     95 \n",
      "---> 96         q = q / math.sqrt(h_dim)  # (bs, n_h, q_len, h_dim)\n",
      "     97         sc = torch.matmul(q, k.transpose(2, 3))  # (bs, n_h, q_len, k_len)\n",
      "     98 \n",
      "\n"
     ]
    },
    {
     "name": "stdin",
     "output_type": "stream",
     "text": [
      "ipdb>  \n"
     ]
    },
    {
     "name": "stdout",
     "output_type": "stream",
     "text": [
      "> /scratch/scai/phd/aiz218323/Projects/xcai/xcai/models/modeling_utils.py(97)forward()\n",
      "     95 \n",
      "     96         q = q / math.sqrt(h_dim)  # (bs, n_h, q_len, h_dim)\n",
      "---> 97         sc = torch.matmul(q, k.transpose(2, 3))  # (bs, n_h, q_len, k_len)\n",
      "     98 \n",
      "     99         q_m, k_m = q_m.view(bs, 1, -1, 1).to(q.dtype), k_m.view(bs, 1, 1, -1).to(q.dtype)\n",
      "\n"
     ]
    },
    {
     "name": "stdin",
     "output_type": "stream",
     "text": [
      "ipdb>  \n"
     ]
    },
    {
     "name": "stdout",
     "output_type": "stream",
     "text": [
      "> /scratch/scai/phd/aiz218323/Projects/xcai/xcai/models/modeling_utils.py(99)forward()\n",
      "     97         sc = torch.matmul(q, k.transpose(2, 3))  # (bs, n_h, q_len, k_len)\n",
      "     98 \n",
      "---> 99         q_m, k_m = q_m.view(bs, 1, -1, 1).to(q.dtype), k_m.view(bs, 1, 1, -1).to(q.dtype)\n",
      "    100         mask = torch.matmul(q_m, k_m).expand_as(sc)  # (bs, n_h, q_len, k_len)\n",
      "    101 \n",
      "\n"
     ]
    },
    {
     "name": "stdin",
     "output_type": "stream",
     "text": [
      "ipdb>  \n"
     ]
    },
    {
     "name": "stdout",
     "output_type": "stream",
     "text": [
      "> /scratch/scai/phd/aiz218323/Projects/xcai/xcai/models/modeling_utils.py(100)forward()\n",
      "     98 \n",
      "     99         q_m, k_m = q_m.view(bs, 1, -1, 1).to(q.dtype), k_m.view(bs, 1, 1, -1).to(q.dtype)\n",
      "--> 100         mask = torch.matmul(q_m, k_m).expand_as(sc)  # (bs, n_h, q_len, k_len)\n",
      "    101 \n",
      "    102         sc = sc.masked_fill(mask == 0, torch.tensor(torch.finfo(sc.dtype).min))  # (bs, n_h, q_len, k_len)\n",
      "\n"
     ]
    },
    {
     "name": "stdin",
     "output_type": "stream",
     "text": [
      "ipdb>  \n"
     ]
    },
    {
     "name": "stdout",
     "output_type": "stream",
     "text": [
      "> /scratch/scai/phd/aiz218323/Projects/xcai/xcai/models/modeling_utils.py(102)forward()\n",
      "    100         mask = torch.matmul(q_m, k_m).expand_as(sc)  # (bs, n_h, q_len, k_len)\n",
      "    101 \n",
      "--> 102         sc = sc.masked_fill(mask == 0, torch.tensor(torch.finfo(sc.dtype).min))  # (bs, n_h, q_len, k_len)\n",
      "    103 \n",
      "    104         w = nn.functional.softmax(sc, dim=-1)  # (bs, n_h, q_len, k_len)\n",
      "\n"
     ]
    },
    {
     "name": "stdin",
     "output_type": "stream",
     "text": [
      "ipdb>  mask.shape\n"
     ]
    },
    {
     "name": "stdout",
     "output_type": "stream",
     "text": [
      "torch.Size([5, 12, 5, 3])\n"
     ]
    },
    {
     "name": "stdin",
     "output_type": "stream",
     "text": [
      "ipdb>  mask[0][0]\n"
     ]
    },
    {
     "name": "stdout",
     "output_type": "stream",
     "text": [
      "tensor([[1., 1., 1.],\n",
      "        [1., 1., 1.],\n",
      "        [1., 1., 1.],\n",
      "        [1., 1., 1.],\n",
      "        [0., 0., 0.]], device='cuda:0')\n"
     ]
    },
    {
     "name": "stdin",
     "output_type": "stream",
     "text": [
      "ipdb>  mask[1][0]\n"
     ]
    },
    {
     "name": "stdout",
     "output_type": "stream",
     "text": [
      "tensor([[1., 1., 1.],\n",
      "        [1., 1., 1.],\n",
      "        [1., 1., 1.],\n",
      "        [1., 1., 1.],\n",
      "        [1., 1., 1.]], device='cuda:0')\n"
     ]
    },
    {
     "name": "stdin",
     "output_type": "stream",
     "text": [
      "ipdb>  mask[2][0]\n"
     ]
    },
    {
     "name": "stdout",
     "output_type": "stream",
     "text": [
      "tensor([[1., 1., 1.],\n",
      "        [1., 1., 1.],\n",
      "        [1., 1., 1.],\n",
      "        [1., 1., 1.],\n",
      "        [1., 1., 1.]], device='cuda:0')\n"
     ]
    },
    {
     "name": "stdin",
     "output_type": "stream",
     "text": [
      "ipdb>  mask[3][0]\n"
     ]
    },
    {
     "name": "stdout",
     "output_type": "stream",
     "text": [
      "tensor([[1., 1., 1.],\n",
      "        [1., 1., 1.],\n",
      "        [1., 1., 1.],\n",
      "        [0., 0., 0.],\n",
      "        [0., 0., 0.]], device='cuda:0')\n"
     ]
    },
    {
     "name": "stdin",
     "output_type": "stream",
     "text": [
      "ipdb>  mask[4][0]\n"
     ]
    },
    {
     "name": "stdout",
     "output_type": "stream",
     "text": [
      "tensor([[1., 1., 1.],\n",
      "        [1., 1., 1.],\n",
      "        [1., 1., 1.],\n",
      "        [0., 0., 0.],\n",
      "        [0., 0., 0.]], device='cuda:0')\n"
     ]
    },
    {
     "name": "stdin",
     "output_type": "stream",
     "text": [
      "ipdb>  mask[5][0]\n"
     ]
    },
    {
     "name": "stdout",
     "output_type": "stream",
     "text": [
      "*** IndexError: index 5 is out of bounds for dimension 0 with size 5\n"
     ]
    },
    {
     "name": "stdin",
     "output_type": "stream",
     "text": [
      "ipdb>  n\n"
     ]
    },
    {
     "name": "stdout",
     "output_type": "stream",
     "text": [
      "> /scratch/scai/phd/aiz218323/Projects/xcai/xcai/models/modeling_utils.py(104)forward()\n",
      "    102         sc = sc.masked_fill(mask == 0, torch.tensor(torch.finfo(sc.dtype).min))  # (bs, n_h, q_len, k_len)\n",
      "    103 \n",
      "--> 104         w = nn.functional.softmax(sc, dim=-1)  # (bs, n_h, q_len, k_len)\n",
      "    105         w = self.dropout(w)  # (bs, n_h, q_len, k_len)\n",
      "    106 \n",
      "\n"
     ]
    },
    {
     "name": "stdin",
     "output_type": "stream",
     "text": [
      "ipdb>  \n"
     ]
    },
    {
     "name": "stdout",
     "output_type": "stream",
     "text": [
      "> /scratch/scai/phd/aiz218323/Projects/xcai/xcai/models/modeling_utils.py(105)forward()\n",
      "    103 \n",
      "    104         w = nn.functional.softmax(sc, dim=-1)  # (bs, n_h, q_len, k_len)\n",
      "--> 105         w = self.dropout(w)  # (bs, n_h, q_len, k_len)\n",
      "    106 \n",
      "    107         o = self.o(unshape(torch.matmul(w, v))) # (bs, q_len, dim)\n",
      "\n"
     ]
    },
    {
     "name": "stdin",
     "output_type": "stream",
     "text": [
      "ipdb>  \n"
     ]
    },
    {
     "name": "stdout",
     "output_type": "stream",
     "text": [
      "> /scratch/scai/phd/aiz218323/Projects/xcai/xcai/models/modeling_utils.py(107)forward()\n",
      "    105         w = self.dropout(w)  # (bs, n_h, q_len, k_len)\n",
      "    106 \n",
      "--> 107         o = self.o(unshape(torch.matmul(w, v))) # (bs, q_len, dim)\n",
      "    108 \n",
      "    109         if output_attentions: return (o, w)\n",
      "\n"
     ]
    },
    {
     "name": "stdin",
     "output_type": "stream",
     "text": [
      "ipdb>  \n"
     ]
    },
    {
     "name": "stdout",
     "output_type": "stream",
     "text": [
      "> /scratch/scai/phd/aiz218323/Projects/xcai/xcai/models/modeling_utils.py(109)forward()\n",
      "    107         o = self.o(unshape(torch.matmul(w, v))) # (bs, q_len, dim)\n",
      "    108 \n",
      "--> 109         if output_attentions: return (o, w)\n",
      "    110         else: return (o,)\n",
      "    111 \n",
      "\n"
     ]
    },
    {
     "name": "stdin",
     "output_type": "stream",
     "text": [
      "ipdb>  \n"
     ]
    },
    {
     "name": "stdout",
     "output_type": "stream",
     "text": [
      "--Return--\n",
      "(tensor([[[ 4....iewBackward0>), tensor([[[[0....maxBackward0>))\n",
      "> /scratch/scai/phd/aiz218323/Projects/xcai/xcai/models/modeling_utils.py(109)forward()\n",
      "    107         o = self.o(unshape(torch.matmul(w, v))) # (bs, q_len, dim)\n",
      "    108 \n",
      "--> 109         if output_attentions: return (o, w)\n",
      "    110         else: return (o,)\n",
      "    111 \n",
      "\n"
     ]
    },
    {
     "name": "stdin",
     "output_type": "stream",
     "text": [
      "ipdb>  \n"
     ]
    },
    {
     "name": "stdout",
     "output_type": "stream",
     "text": [
      "--Call--\n",
      "> /tmp/ipykernel_28793/505101603.py(46)dr_fused()\n",
      "     44         return F.normalize(Pooling.mean_pooling(embed, attention_mask), dim=1)\n",
      "     45 \n",
      "---> 46     def dr_fused(self, embed:torch.Tensor, attention_mask:torch.Tensor):\n",
      "     47         embed = self.dr_fused_head(embed)\n",
      "     48         return F.normalize(Pooling.mean_pooling(embed, attention_mask), dim=1)\n",
      "\n"
     ]
    },
    {
     "name": "stdin",
     "output_type": "stream",
     "text": [
      "ipdb>  c\n"
     ]
    },
    {
     "name": "stdout",
     "output_type": "stream",
     "text": [
      "    [... skipped 1 hidden frame]\n",
      "\n",
      "    [... skipped 1 hidden frame]\n",
      "\n",
      "    [... skipped 1 hidden frame]\n",
      "\n",
      "    [... skipped 1 hidden frame]\n",
      "\n"
     ]
    }
   ],
   "source": [
    "o = func()"
   ]
  },
  {
   "cell_type": "markdown",
   "id": "797edd65-28f9-4d94-a5a6-7453729715d6",
   "metadata": {
    "jp-MarkdownHeadingCollapsed": true
   },
   "source": [
    "## `OAK002`"
   ]
  },
  {
   "cell_type": "code",
   "execution_count": null,
   "id": "bb73847d-4b68-4e58-b4d8-0fb05db8dce1",
   "metadata": {},
   "outputs": [],
   "source": [
    "#| export\n",
    "class Encoder002(Encoder):\n",
    "    \n",
    "    def __init__(\n",
    "        self, \n",
    "        config:PretrainedConfig, \n",
    "    ):\n",
    "        super().__init__(config)\n",
    "        self.post_init()\n",
    "\n",
    "    def fuse_meta_into_embeddings(self, embed:torch.Tensor, attention_mask:torch.Tensor, meta_kwargs:Dict):\n",
    "        meta_repr = {}\n",
    "        \n",
    "        for m_key, m_args in meta_kwargs.items():\n",
    "            idx = torch.where(m_args['data2ptr'] > 0)[0]\n",
    "            meta_repr[m_key] = torch.empty(0, self.config.dim).to(embed)\n",
    "            \n",
    "            if len(idx):\n",
    "                assert torch.all(m_args['data2ptr'][idx] == m_args['data2ptr'].max()), f'All datapoints should have same number of metadata.'\n",
    "                \n",
    "                if 'meta_repr' in m_args:\n",
    "                    m_repr,m_repr_mask = m_args['meta_repr'],torch.any(m_args['attention_mask'], dim=1).long().view(-1,1)\n",
    "                    m_repr_mask = m_repr_mask.bool()\n",
    "                else:\n",
    "                    m_input_ids, m_attention_mask = m_args['input_ids'], m_args['attention_mask']\n",
    "                    m_embed = self.meta_embeddings(m_input_ids)\n",
    "\n",
    "                m_repr, m_repr_mask = m_embed.view(len(idx), -1, self.config.dim), m_attention_mask.view(len(idx), -1)\n",
    "                meta_repr[m_key] = self.meta(m_embed, m_attention_mask)\n",
    "                \n",
    "                fused_embed, w = self.cross_head(embed[idx], attention_mask[idx], m_repr, m_repr_mask, output_attentions=True)\n",
    "                embed[idx] += fused_embed\n",
    "               \n",
    "        return embed, meta_repr\n",
    "        "
   ]
  },
  {
   "cell_type": "code",
   "execution_count": null,
   "id": "83759f42-33be-4595-86ca-db3af01a57de",
   "metadata": {},
   "outputs": [],
   "source": [
    "#| export\n",
    "class OAK002(OAK000, DistilBertPreTrainedModel):\n",
    "    use_generation,use_representation = False,True\n",
    "    _tied_weights_keys = [\"encoder.distilbert\"]\n",
    "\n",
    "    @delegates(OAK000.__init__)\n",
    "    def __init__(self, config, **kwargs):\n",
    "        super().__init__(config, **kwargs)\n",
    "        self.encoder = Encoder002(config)\n",
    "        self.post_init(); self.remap_post_init();\n",
    "\n",
    "    def remap_post_init(self):\n",
    "        self.distilbert = self.encoder.distilbert\n",
    "        "
   ]
  },
  {
   "cell_type": "markdown",
   "id": "ce579391-ef5f-4efb-ba13-577884a3dd81",
   "metadata": {
    "jp-MarkdownHeadingCollapsed": true
   },
   "source": [
    "### Example"
   ]
  },
  {
   "cell_type": "code",
   "execution_count": null,
   "id": "e1bc7e99-f02c-40de-82bc-d5378f489de8",
   "metadata": {},
   "outputs": [
    {
     "name": "stderr",
     "output_type": "stream",
     "text": [
      "Some weights of OAK002 were not initialized from the model checkpoint at sentence-transformers/msmarco-distilbert-base-v4 and are newly initialized: ['encoder.cross_head.k.bias', 'encoder.cross_head.k.weight', 'encoder.cross_head.o.bias', 'encoder.cross_head.o.weight', 'encoder.cross_head.q.bias', 'encoder.cross_head.q.weight', 'encoder.cross_head.v.bias', 'encoder.cross_head.v.weight', 'encoder.dr_fused_head.layer_norm.bias', 'encoder.dr_fused_head.layer_norm.weight', 'encoder.dr_fused_head.projector.bias', 'encoder.dr_fused_head.projector.weight', 'encoder.dr_fused_head.transform.bias', 'encoder.dr_fused_head.transform.weight', 'encoder.dr_head.layer_norm.bias', 'encoder.dr_head.layer_norm.weight', 'encoder.dr_head.projector.bias', 'encoder.dr_head.projector.weight', 'encoder.dr_head.transform.bias', 'encoder.dr_head.transform.weight', 'encoder.meta_embeddings.weight', 'encoder.meta_head.layer_norm.bias', 'encoder.meta_head.layer_norm.weight', 'encoder.meta_head.projector.bias', 'encoder.meta_head.projector.weight', 'encoder.meta_head.transform.bias', 'encoder.meta_head.transform.weight']\n",
      "You should probably TRAIN this model on a down-stream task to be able to use it for predictions and inference.\n"
     ]
    }
   ],
   "source": [
    "model = OAK002.from_pretrained('sentence-transformers/msmarco-distilbert-base-v4', batch_size=100, num_batch_labels=5000, \n",
    "                               margin=0.3, num_negatives=10, tau=0.1, apply_softmax=True,\n",
    "                               \n",
    "                               data_aug_meta_prefix='lnk2data', lbl2data_aug_meta_prefix=None, \n",
    "                               data_pred_meta_prefix=None, lbl2data_pred_meta_prefix=None,\n",
    "                               \n",
    "                               calib_margin=0.3, calib_num_negatives=10, calib_tau=0.1, calib_apply_softmax=True, \n",
    "                               calib_loss_weight=0.1, use_calib_loss=False,\n",
    "\n",
    "                               use_query_loss=True,\n",
    "\n",
    "                               meta_loss_weight=0.3, \n",
    "                               \n",
    "                               fusion_loss_weight=0.1, use_fusion_loss=False,\n",
    "                               \n",
    "                               use_encoder_parallel=False)\n",
    "model.init_retrieval_head()\n",
    "model.init_cross_head()\n",
    "model.encoder.set_meta_embeddings(model.distilbert.embeddings.word_embeddings.weight)"
   ]
  },
  {
   "cell_type": "code",
   "execution_count": null,
   "id": "8b5178a4-cc9d-4dde-b1a1-7a8b6ed5aa1e",
   "metadata": {},
   "outputs": [],
   "source": [
    "model = model.to('cuda')"
   ]
  },
  {
   "cell_type": "code",
   "execution_count": null,
   "id": "506f4e96-d47a-4cdc-9672-56005ec35f2d",
   "metadata": {},
   "outputs": [],
   "source": [
    "b = prepare_batch(model, batch, m_args=[\n",
    "    'plnk2data_idx', 'plnk2data_data2ptr', 'lnk2data_idx', 'lnk2data_input_ids', 'lnk2data_attention_mask', \n",
    "    'lnk2data_data2ptr',\n",
    "])"
   ]
  },
  {
   "cell_type": "code",
   "execution_count": null,
   "id": "9781f4a5-5e16-4ccf-90a9-d242889621a7",
   "metadata": {},
   "outputs": [
    {
     "data": {
      "text/plain": [
       "dict_keys(['plbl2data_idx', 'plbl2data_data2ptr', 'lbl2data_idx', 'lbl2data_identifier', 'lbl2data_input_text', 'lbl2data_input_ids', 'lbl2data_attention_mask', 'lbl2data_data2ptr', 'plnk2data_idx', 'plnk2data_data2ptr', 'lnk2data_idx', 'lnk2data_identifier', 'lnk2data_input_text', 'lnk2data_input_ids', 'lnk2data_attention_mask', 'lnk2data_data2ptr', 'data_identifier', 'data_input_text', 'data_input_ids', 'data_attention_mask', 'data_idx', 'lnk2lbl2data_idx', 'lnk2lbl2data_identifier', 'lnk2lbl2data_input_text', 'lnk2lbl2data_input_ids', 'lnk2lbl2data_attention_mask', 'lnk2lbl2data_data2ptr', 'lnk2lbl2data_lbl2data2ptr'])"
      ]
     },
     "execution_count": null,
     "metadata": {},
     "output_type": "execute_result"
    }
   ],
   "source": [
    "batch.keys()"
   ]
  },
  {
   "cell_type": "code",
   "execution_count": null,
   "id": "26904222-f97d-4f22-ae58-22e2d3422cb7",
   "metadata": {},
   "outputs": [
    {
     "name": "stdout",
     "output_type": "stream",
     "text": [
      "> /scratch/scai/phd/aiz218323/Projects/xcai/xcai/models/modeling_utils.py(83)forward()\n",
      "     81         output_attentions:Optional[bool] = False,\n",
      "     82     ):\n",
      "---> 83         bs, q_len, dim = q.size()\n",
      "     84         v, k_len = k, k.size(1)\n",
      "     85 \n",
      "\n"
     ]
    },
    {
     "name": "stdin",
     "output_type": "stream",
     "text": [
      "ipdb>  c\n"
     ]
    }
   ],
   "source": [
    "o = model(**b.to(model.device))"
   ]
  },
  {
   "cell_type": "code",
   "execution_count": null,
   "id": "850882ae-f436-4b16-8bfd-e395e83ef1ac",
   "metadata": {},
   "outputs": [
    {
     "data": {
      "text/plain": [
       "tensor(0.0132, device='cuda:0', grad_fn=<AddBackward0>)"
      ]
     },
     "execution_count": null,
     "metadata": {},
     "output_type": "execute_result"
    }
   ],
   "source": [
    "o.loss"
   ]
  },
  {
   "cell_type": "code",
   "execution_count": null,
   "id": "73831be5-a99b-4081-9154-3cb26aa1295f",
   "metadata": {},
   "outputs": [],
   "source": []
  },
  {
   "cell_type": "code",
   "execution_count": null,
   "id": "d793af28-7150-476e-af5e-de063b47c133",
   "metadata": {},
   "outputs": [],
   "source": [
    "def func():\n",
    "    import pdb; pdb.set_trace()\n",
    "    return model(**b.to(model.device))"
   ]
  },
  {
   "cell_type": "code",
   "execution_count": null,
   "id": "f57374fb-9902-4ae9-8d83-9d7b37e42245",
   "metadata": {
    "scrolled": true
   },
   "outputs": [
    {
     "name": "stdout",
     "output_type": "stream",
     "text": [
      "> /tmp/ipykernel_28793/1795951242.py(3)func()\n",
      "      1 def func():\n",
      "      2     import pdb; pdb.set_trace()\n",
      "----> 3     return model(**b.to(model.device))\n",
      "\n"
     ]
    },
    {
     "name": "stdin",
     "output_type": "stream",
     "text": [
      "ipdb>  b model.encoder.forward\n"
     ]
    },
    {
     "name": "stdout",
     "output_type": "stream",
     "text": [
      "Breakpoint 8 at /tmp/ipykernel_28793/505101603.py:88\n"
     ]
    },
    {
     "name": "stdin",
     "output_type": "stream",
     "text": [
      "ipdb>  c\n"
     ]
    },
    {
     "name": "stdout",
     "output_type": "stream",
     "text": [
      "> /tmp/ipykernel_28793/505101603.py(97)forward()\n",
      "     95         **kwargs\n",
      "     96     ):  \n",
      "---> 97         data_o = self.encode(data_input_ids, data_attention_mask)\n",
      "     98 \n",
      "     99         if data_type is not None and data_type == \"meta\":\n",
      "\n"
     ]
    },
    {
     "name": "stdin",
     "output_type": "stream",
     "text": [
      "ipdb>  n\n"
     ]
    },
    {
     "name": "stdout",
     "output_type": "stream",
     "text": [
      "> /tmp/ipykernel_28793/505101603.py(99)forward()\n",
      "     97         data_o = self.encode(data_input_ids, data_attention_mask)\n",
      "     98 \n",
      "---> 99         if data_type is not None and data_type == \"meta\":\n",
      "    100             data_repr = self.meta_unnormalized(data_o[0], data_attention_mask) if data_unnormalized else self.meta(data_o[0], data_attention_mask)\n",
      "    101         else:\n",
      "\n"
     ]
    },
    {
     "name": "stdin",
     "output_type": "stream",
     "text": [
      "ipdb>  \n"
     ]
    },
    {
     "name": "stdout",
     "output_type": "stream",
     "text": [
      "> /tmp/ipykernel_28793/505101603.py(102)forward()\n",
      "    100             data_repr = self.meta_unnormalized(data_o[0], data_attention_mask) if data_unnormalized else self.meta(data_o[0], data_attention_mask)\n",
      "    101         else:\n",
      "--> 102             data_repr = self.dr(data_o[0], data_attention_mask)\n",
      "    103 \n",
      "    104         data_fused_repr = meta_repr = None\n",
      "\n"
     ]
    },
    {
     "name": "stdin",
     "output_type": "stream",
     "text": [
      "ipdb>  \n"
     ]
    },
    {
     "name": "stdout",
     "output_type": "stream",
     "text": [
      "> /tmp/ipykernel_28793/505101603.py(104)forward()\n",
      "    102             data_repr = self.dr(data_o[0], data_attention_mask)\n",
      "    103 \n",
      "--> 104         data_fused_repr = meta_repr = None\n",
      "    105         if data_aug_meta_prefix is not None:\n",
      "    106             meta_kwargs = Parameters.from_meta_aug_prefix(data_aug_meta_prefix, **kwargs)\n",
      "\n"
     ]
    },
    {
     "name": "stdin",
     "output_type": "stream",
     "text": [
      "ipdb>  \n"
     ]
    },
    {
     "name": "stdout",
     "output_type": "stream",
     "text": [
      "> /tmp/ipykernel_28793/505101603.py(105)forward()\n",
      "    103 \n",
      "    104         data_fused_repr = meta_repr = None\n",
      "--> 105         if data_aug_meta_prefix is not None:\n",
      "    106             meta_kwargs = Parameters.from_meta_aug_prefix(data_aug_meta_prefix, **kwargs)\n",
      "    107             if len(meta_kwargs):\n",
      "\n"
     ]
    },
    {
     "name": "stdin",
     "output_type": "stream",
     "text": [
      "ipdb>  \n"
     ]
    },
    {
     "name": "stdout",
     "output_type": "stream",
     "text": [
      "> /tmp/ipykernel_28793/505101603.py(106)forward()\n",
      "    104         data_fused_repr = meta_repr = None\n",
      "    105         if data_aug_meta_prefix is not None:\n",
      "--> 106             meta_kwargs = Parameters.from_meta_aug_prefix(data_aug_meta_prefix, **kwargs)\n",
      "    107             if len(meta_kwargs):\n",
      "    108                 data_fused_embed, meta_repr = self.fuse_meta_into_embeddings(data_o[0], \n",
      "\n"
     ]
    },
    {
     "name": "stdin",
     "output_type": "stream",
     "text": [
      "ipdb>  n\n"
     ]
    },
    {
     "name": "stdout",
     "output_type": "stream",
     "text": [
      "> /tmp/ipykernel_28793/505101603.py(107)forward()\n",
      "    105         if data_aug_meta_prefix is not None:\n",
      "    106             meta_kwargs = Parameters.from_meta_aug_prefix(data_aug_meta_prefix, **kwargs)\n",
      "--> 107             if len(meta_kwargs):\n",
      "    108                 data_fused_embed, meta_repr = self.fuse_meta_into_embeddings(data_o[0], \n",
      "    109                                                                             data_attention_mask,\n",
      "\n"
     ]
    },
    {
     "name": "stdin",
     "output_type": "stream",
     "text": [
      "ipdb>  n\n"
     ]
    },
    {
     "name": "stdout",
     "output_type": "stream",
     "text": [
      "> /tmp/ipykernel_28793/505101603.py(108)forward()\n",
      "    106             meta_kwargs = Parameters.from_meta_aug_prefix(data_aug_meta_prefix, **kwargs)\n",
      "    107             if len(meta_kwargs):\n",
      "--> 108                 data_fused_embed, meta_repr = self.fuse_meta_into_embeddings(data_o[0], \n",
      "    109                                                                             data_attention_mask,\n",
      "    110                                                                             meta_kwargs)\n",
      "\n"
     ]
    },
    {
     "name": "stdin",
     "output_type": "stream",
     "text": [
      "ipdb>  \n"
     ]
    },
    {
     "name": "stdout",
     "output_type": "stream",
     "text": [
      "> /tmp/ipykernel_28793/505101603.py(109)forward()\n",
      "    107             if len(meta_kwargs):\n",
      "    108                 data_fused_embed, meta_repr = self.fuse_meta_into_embeddings(data_o[0], \n",
      "--> 109                                                                             data_attention_mask,\n",
      "    110                                                                             meta_kwargs)\n",
      "    111                 data_fused_repr = self.dr_fused(data_fused_embed, data_attention_mask)\n",
      "\n"
     ]
    },
    {
     "name": "stdin",
     "output_type": "stream",
     "text": [
      "ipdb>  \n"
     ]
    },
    {
     "name": "stdout",
     "output_type": "stream",
     "text": [
      "> /tmp/ipykernel_28793/505101603.py(110)forward()\n",
      "    108                 data_fused_embed, meta_repr = self.fuse_meta_into_embeddings(data_o[0], \n",
      "    109                                                                             data_attention_mask,\n",
      "--> 110                                                                             meta_kwargs)\n",
      "    111                 data_fused_repr = self.dr_fused(data_fused_embed, data_attention_mask)\n",
      "    112 \n",
      "\n"
     ]
    },
    {
     "name": "stdin",
     "output_type": "stream",
     "text": [
      "ipdb>  \n"
     ]
    },
    {
     "name": "stdout",
     "output_type": "stream",
     "text": [
      "> /tmp/ipykernel_28793/505101603.py(108)forward()\n",
      "    106             meta_kwargs = Parameters.from_meta_aug_prefix(data_aug_meta_prefix, **kwargs)\n",
      "    107             if len(meta_kwargs):\n",
      "--> 108                 data_fused_embed, meta_repr = self.fuse_meta_into_embeddings(data_o[0], \n",
      "    109                                                                             data_attention_mask,\n",
      "    110                                                                             meta_kwargs)\n",
      "\n"
     ]
    },
    {
     "name": "stdin",
     "output_type": "stream",
     "text": [
      "ipdb>  s\n"
     ]
    },
    {
     "name": "stdout",
     "output_type": "stream",
     "text": [
      "--Call--\n",
      "> /tmp/ipykernel_28793/219820846.py(11)fuse_meta_into_embeddings()\n",
      "      9         self.post_init()\n",
      "     10 \n",
      "---> 11     def fuse_meta_into_embeddings(self, embed:torch.Tensor, attention_mask:torch.Tensor, meta_kwargs:Dict):\n",
      "     12         meta_repr = {}\n",
      "     13 \n",
      "\n"
     ]
    },
    {
     "name": "stdin",
     "output_type": "stream",
     "text": [
      "ipdb>  n\n"
     ]
    },
    {
     "name": "stdout",
     "output_type": "stream",
     "text": [
      "> /tmp/ipykernel_28793/219820846.py(12)fuse_meta_into_embeddings()\n",
      "     10 \n",
      "     11     def fuse_meta_into_embeddings(self, embed:torch.Tensor, attention_mask:torch.Tensor, meta_kwargs:Dict):\n",
      "---> 12         meta_repr = {}\n",
      "     13 \n",
      "     14         for m_key, m_args in meta_kwargs.items():\n",
      "\n"
     ]
    },
    {
     "name": "stdin",
     "output_type": "stream",
     "text": [
      "ipdb>  \n"
     ]
    },
    {
     "name": "stdout",
     "output_type": "stream",
     "text": [
      "> /tmp/ipykernel_28793/219820846.py(14)fuse_meta_into_embeddings()\n",
      "     12         meta_repr = {}\n",
      "     13 \n",
      "---> 14         for m_key, m_args in meta_kwargs.items():\n",
      "     15             idx = torch.where(m_args['data2ptr'] > 0)[0]\n",
      "     16             meta_repr[m_key] = torch.empty(0, self.config.dim).to(embed)\n",
      "\n"
     ]
    },
    {
     "name": "stdin",
     "output_type": "stream",
     "text": [
      "ipdb>  \n"
     ]
    },
    {
     "name": "stdout",
     "output_type": "stream",
     "text": [
      "> /tmp/ipykernel_28793/219820846.py(15)fuse_meta_into_embeddings()\n",
      "     13 \n",
      "     14         for m_key, m_args in meta_kwargs.items():\n",
      "---> 15             idx = torch.where(m_args['data2ptr'] > 0)[0]\n",
      "     16             meta_repr[m_key] = torch.empty(0, self.config.dim).to(embed)\n",
      "     17 \n",
      "\n"
     ]
    },
    {
     "name": "stdin",
     "output_type": "stream",
     "text": [
      "ipdb>  \n"
     ]
    },
    {
     "name": "stdout",
     "output_type": "stream",
     "text": [
      "> /tmp/ipykernel_28793/219820846.py(16)fuse_meta_into_embeddings()\n",
      "     14         for m_key, m_args in meta_kwargs.items():\n",
      "     15             idx = torch.where(m_args['data2ptr'] > 0)[0]\n",
      "---> 16             meta_repr[m_key] = torch.empty(0, self.config.dim).to(embed)\n",
      "     17 \n",
      "     18             if len(idx):\n",
      "\n"
     ]
    },
    {
     "name": "stdin",
     "output_type": "stream",
     "text": [
      "ipdb>  \n"
     ]
    },
    {
     "name": "stdout",
     "output_type": "stream",
     "text": [
      "> /tmp/ipykernel_28793/219820846.py(18)fuse_meta_into_embeddings()\n",
      "     16             meta_repr[m_key] = torch.empty(0, self.config.dim).to(embed)\n",
      "     17 \n",
      "---> 18             if len(idx):\n",
      "     19                 assert torch.all(m_args['data2ptr'][idx] == m_args['data2ptr'].max()), f'All datapoints should have same number of metadata.'\n",
      "     20 \n",
      "\n"
     ]
    },
    {
     "name": "stdin",
     "output_type": "stream",
     "text": [
      "ipdb>  \n"
     ]
    },
    {
     "name": "stdout",
     "output_type": "stream",
     "text": [
      "> /tmp/ipykernel_28793/219820846.py(19)fuse_meta_into_embeddings()\n",
      "     17 \n",
      "     18             if len(idx):\n",
      "---> 19                 assert torch.all(m_args['data2ptr'][idx] == m_args['data2ptr'].max()), f'All datapoints should have same number of metadata.'\n",
      "     20 \n",
      "     21                 if 'meta_repr' in m_args:\n",
      "\n"
     ]
    },
    {
     "name": "stdin",
     "output_type": "stream",
     "text": [
      "ipdb>  \n"
     ]
    },
    {
     "name": "stdout",
     "output_type": "stream",
     "text": [
      "> /tmp/ipykernel_28793/219820846.py(21)fuse_meta_into_embeddings()\n",
      "     19                 assert torch.all(m_args['data2ptr'][idx] == m_args['data2ptr'].max()), f'All datapoints should have same number of metadata.'\n",
      "     20 \n",
      "---> 21                 if 'meta_repr' in m_args:\n",
      "     22                     m_repr,m_repr_mask = m_args['meta_repr'],torch.any(m_args['attention_mask'], dim=1).long().view(-1,1)\n",
      "     23                     m_repr_mask = m_repr_mask.bool()\n",
      "\n"
     ]
    },
    {
     "name": "stdin",
     "output_type": "stream",
     "text": [
      "ipdb>  \n"
     ]
    },
    {
     "name": "stdout",
     "output_type": "stream",
     "text": [
      "> /tmp/ipykernel_28793/219820846.py(25)fuse_meta_into_embeddings()\n",
      "     23                     m_repr_mask = m_repr_mask.bool()\n",
      "     24                 else:\n",
      "---> 25                     m_input_ids, m_attention_mask = m_args['input_ids'], m_args['attention_mask']\n",
      "     26                     m_embed = self.meta_embeddings(m_input_ids)\n",
      "     27 \n",
      "\n"
     ]
    },
    {
     "name": "stdin",
     "output_type": "stream",
     "text": [
      "ipdb>  \n"
     ]
    },
    {
     "name": "stdout",
     "output_type": "stream",
     "text": [
      "> /tmp/ipykernel_28793/219820846.py(26)fuse_meta_into_embeddings()\n",
      "     24                 else:\n",
      "     25                     m_input_ids, m_attention_mask = m_args['input_ids'], m_args['attention_mask']\n",
      "---> 26                     m_embed = self.meta_embeddings(m_input_ids)\n",
      "     27 \n",
      "     28                 m_repr, m_repr_mask = m_embed.view(len(idx), -1, self.config.dim), m_attention_mask.view(len(idx), -1)\n",
      "\n"
     ]
    },
    {
     "name": "stdin",
     "output_type": "stream",
     "text": [
      "ipdb>  \n"
     ]
    },
    {
     "name": "stdout",
     "output_type": "stream",
     "text": [
      "> /tmp/ipykernel_28793/219820846.py(28)fuse_meta_into_embeddings()\n",
      "     26                     m_embed = self.meta_embeddings(m_input_ids)\n",
      "     27 \n",
      "---> 28                 m_repr, m_repr_mask = m_embed.view(len(idx), -1, self.config.dim), m_attention_mask.view(len(idx), -1)\n",
      "     29                 meta_repr[m_key] = self.meta(m_embed, m_attention_mask)\n",
      "     30 \n",
      "\n"
     ]
    },
    {
     "name": "stdin",
     "output_type": "stream",
     "text": [
      "ipdb>  m_embed.shape\n"
     ]
    },
    {
     "name": "stdout",
     "output_type": "stream",
     "text": [
      "torch.Size([15, 14, 768])\n"
     ]
    },
    {
     "name": "stdin",
     "output_type": "stream",
     "text": [
      "ipdb>  n\n"
     ]
    },
    {
     "name": "stdout",
     "output_type": "stream",
     "text": [
      "> /tmp/ipykernel_28793/219820846.py(29)fuse_meta_into_embeddings()\n",
      "     27 \n",
      "     28                 m_repr, m_repr_mask = m_embed.view(len(idx), -1, self.config.dim), m_attention_mask.view(len(idx), -1)\n",
      "---> 29                 meta_repr[m_key] = self.meta(m_embed, m_attention_mask)\n",
      "     30 \n",
      "     31                 fused_embed, w = self.cross_head(embed[idx], attention_mask[idx], m_repr, m_repr_mask, output_attentions=True)\n",
      "\n"
     ]
    },
    {
     "name": "stdin",
     "output_type": "stream",
     "text": [
      "ipdb>  m_repr.shape\n"
     ]
    },
    {
     "name": "stdout",
     "output_type": "stream",
     "text": [
      "torch.Size([5, 42, 768])\n"
     ]
    },
    {
     "name": "stdin",
     "output_type": "stream",
     "text": [
      "ipdb>  m_repr_mask.shape\n"
     ]
    },
    {
     "name": "stdout",
     "output_type": "stream",
     "text": [
      "torch.Size([5, 42])\n"
     ]
    },
    {
     "name": "stdin",
     "output_type": "stream",
     "text": [
      "ipdb>  m_repr_mask\n"
     ]
    },
    {
     "name": "stdout",
     "output_type": "stream",
     "text": [
      "tensor([[1, 1, 1, 1, 1, 1, 1, 0, 0, 0, 0, 0, 0, 0, 1, 1, 1, 1, 1, 1, 1, 1, 1, 1,\n",
      "         1, 1, 1, 1, 1, 1, 1, 1, 1, 1, 1, 1, 0, 0, 0, 0, 0, 0],\n",
      "        [1, 1, 1, 1, 1, 1, 0, 0, 0, 0, 0, 0, 0, 0, 1, 1, 1, 1, 1, 0, 0, 0, 0, 0,\n",
      "         0, 0, 0, 0, 1, 1, 1, 1, 1, 0, 0, 0, 0, 0, 0, 0, 0, 0],\n",
      "        [1, 1, 1, 1, 1, 1, 1, 1, 1, 0, 0, 0, 0, 0, 1, 1, 1, 1, 1, 1, 0, 0, 0, 0,\n",
      "         0, 0, 0, 0, 1, 1, 1, 1, 1, 1, 1, 0, 0, 0, 0, 0, 0, 0],\n",
      "        [1, 1, 1, 1, 1, 1, 1, 1, 0, 0, 0, 0, 0, 0, 1, 1, 1, 1, 1, 1, 1, 1, 0, 0,\n",
      "         0, 0, 0, 0, 1, 1, 1, 1, 0, 0, 0, 0, 0, 0, 0, 0, 0, 0],\n",
      "        [1, 1, 1, 1, 1, 0, 0, 0, 0, 0, 0, 0, 0, 0, 1, 1, 1, 1, 1, 1, 0, 0, 0, 0,\n",
      "         0, 0, 0, 0, 1, 1, 1, 1, 1, 1, 0, 0, 0, 0, 0, 0, 0, 0]])\n"
     ]
    },
    {
     "name": "stdin",
     "output_type": "stream",
     "text": [
      "ipdb>  n\n"
     ]
    },
    {
     "name": "stdout",
     "output_type": "stream",
     "text": [
      "> /tmp/ipykernel_28793/219820846.py(31)fuse_meta_into_embeddings()\n",
      "     29                 meta_repr[m_key] = self.meta(m_embed, m_attention_mask)\n",
      "     30 \n",
      "---> 31                 fused_embed, w = self.cross_head(embed[idx], attention_mask[idx], m_repr, m_repr_mask, output_attentions=True)\n",
      "     32                 embed[idx] += fused_embed\n",
      "     33 \n",
      "\n"
     ]
    },
    {
     "name": "stdin",
     "output_type": "stream",
     "text": [
      "ipdb>  meta_repr[m_key].shape\n"
     ]
    },
    {
     "name": "stdout",
     "output_type": "stream",
     "text": [
      "torch.Size([15, 768])\n"
     ]
    },
    {
     "name": "stdin",
     "output_type": "stream",
     "text": [
      "ipdb>  m_attention_mask.shape\n"
     ]
    },
    {
     "name": "stdout",
     "output_type": "stream",
     "text": [
      "torch.Size([15, 14])\n"
     ]
    },
    {
     "name": "stdin",
     "output_type": "stream",
     "text": [
      "ipdb>  m_repr_mask.shape\n"
     ]
    },
    {
     "name": "stdout",
     "output_type": "stream",
     "text": [
      "torch.Size([5, 42])\n"
     ]
    },
    {
     "name": "stdin",
     "output_type": "stream",
     "text": [
      "ipdb>  m_repr.shape\n"
     ]
    },
    {
     "name": "stdout",
     "output_type": "stream",
     "text": [
      "torch.Size([5, 42, 768])\n"
     ]
    },
    {
     "name": "stdin",
     "output_type": "stream",
     "text": [
      "ipdb>  embed.shape\n"
     ]
    },
    {
     "name": "stdout",
     "output_type": "stream",
     "text": [
      "torch.Size([5, 5, 768])\n"
     ]
    },
    {
     "name": "stdin",
     "output_type": "stream",
     "text": [
      "ipdb>  n\n"
     ]
    },
    {
     "name": "stdout",
     "output_type": "stream",
     "text": [
      "> /tmp/ipykernel_28793/219820846.py(32)fuse_meta_into_embeddings()\n",
      "     30 \n",
      "     31                 fused_embed, w = self.cross_head(embed[idx], attention_mask[idx], m_repr, m_repr_mask, output_attentions=True)\n",
      "---> 32                 embed[idx] += fused_embed\n",
      "     33 \n",
      "     34         return embed, meta_repr\n",
      "\n"
     ]
    },
    {
     "name": "stdin",
     "output_type": "stream",
     "text": [
      "ipdb>  fused_embed.shape\n"
     ]
    },
    {
     "name": "stdout",
     "output_type": "stream",
     "text": [
      "torch.Size([5, 5, 768])\n"
     ]
    },
    {
     "name": "stdin",
     "output_type": "stream",
     "text": [
      "ipdb>  n\n"
     ]
    },
    {
     "name": "stdout",
     "output_type": "stream",
     "text": [
      "> /tmp/ipykernel_28793/219820846.py(14)fuse_meta_into_embeddings()\n",
      "     12         meta_repr = {}\n",
      "     13 \n",
      "---> 14         for m_key, m_args in meta_kwargs.items():\n",
      "     15             idx = torch.where(m_args['data2ptr'] > 0)[0]\n",
      "     16             meta_repr[m_key] = torch.empty(0, self.config.dim).to(embed)\n",
      "\n"
     ]
    },
    {
     "name": "stdin",
     "output_type": "stream",
     "text": [
      "ipdb>  \n"
     ]
    },
    {
     "name": "stdout",
     "output_type": "stream",
     "text": [
      "> /tmp/ipykernel_28793/219820846.py(34)fuse_meta_into_embeddings()\n",
      "     31                 fused_embed, w = self.cross_head(embed[idx], attention_mask[idx], m_repr, m_repr_mask, output_attentions=True)\n",
      "     32                 embed[idx] += fused_embed\n",
      "     33 \n",
      "---> 34         return embed, meta_repr\n",
      "     35 \n",
      "\n"
     ]
    },
    {
     "name": "stdin",
     "output_type": "stream",
     "text": [
      "ipdb>  \n"
     ]
    },
    {
     "name": "stdout",
     "output_type": "stream",
     "text": [
      "--Return--\n",
      "(tensor([[[-6....PutBackward0>), {'lnk2data': tensor([[-0.0...DivBackward0>)})\n",
      "> /tmp/ipykernel_28793/219820846.py(34)fuse_meta_into_embeddings()\n",
      "     31                 fused_embed, w = self.cross_head(embed[idx], attention_mask[idx], m_repr, m_repr_mask, output_attentions=True)\n",
      "     32                 embed[idx] += fused_embed\n",
      "     33 \n",
      "---> 34         return embed, meta_repr\n",
      "     35 \n",
      "\n"
     ]
    },
    {
     "name": "stdin",
     "output_type": "stream",
     "text": [
      "ipdb>  \n"
     ]
    },
    {
     "name": "stdout",
     "output_type": "stream",
     "text": [
      "> /tmp/ipykernel_28793/505101603.py(111)forward()\n",
      "    109                                                                             data_attention_mask,\n",
      "    110                                                                             meta_kwargs)\n",
      "--> 111                 data_fused_repr = self.dr_fused(data_fused_embed, data_attention_mask)\n",
      "    112 \n",
      "    113         return EncoderOutput(\n",
      "\n"
     ]
    },
    {
     "name": "stdin",
     "output_type": "stream",
     "text": [
      "ipdb>  c\n"
     ]
    },
    {
     "name": "stdout",
     "output_type": "stream",
     "text": [
      "> /tmp/ipykernel_28793/505101603.py(113)forward()\n",
      "    111                 data_fused_repr = self.dr_fused(data_fused_embed, data_attention_mask)\n",
      "    112 \n",
      "--> 113         return EncoderOutput(\n",
      "    114             rep=data_repr,\n",
      "    115             fused_rep=data_fused_repr,\n",
      "\n"
     ]
    },
    {
     "name": "stdin",
     "output_type": "stream",
     "text": [
      "ipdb>  c\n"
     ]
    },
    {
     "name": "stdout",
     "output_type": "stream",
     "text": [
      "> /tmp/ipykernel_28793/505101603.py(114)forward()\n",
      "    112 \n",
      "    113         return EncoderOutput(\n",
      "--> 114             rep=data_repr,\n",
      "    115             fused_rep=data_fused_repr,\n",
      "    116             meta_repr=meta_repr,\n",
      "\n"
     ]
    },
    {
     "name": "stdin",
     "output_type": "stream",
     "text": [
      "ipdb>  c\n"
     ]
    },
    {
     "name": "stdout",
     "output_type": "stream",
     "text": [
      "> /tmp/ipykernel_28793/505101603.py(115)forward()\n",
      "    113         return EncoderOutput(\n",
      "    114             rep=data_repr,\n",
      "--> 115             fused_rep=data_fused_repr,\n",
      "    116             meta_repr=meta_repr,\n",
      "    117         )\n",
      "\n"
     ]
    },
    {
     "name": "stdin",
     "output_type": "stream",
     "text": [
      "ipdb>  n\n"
     ]
    },
    {
     "name": "stdout",
     "output_type": "stream",
     "text": [
      "> /tmp/ipykernel_28793/505101603.py(116)forward()\n",
      "    114             rep=data_repr,\n",
      "    115             fused_rep=data_fused_repr,\n",
      "--> 116             meta_repr=meta_repr,\n",
      "    117         )\n",
      "    118 \n",
      "\n"
     ]
    },
    {
     "name": "stdin",
     "output_type": "stream",
     "text": [
      "ipdb>  \n"
     ]
    },
    {
     "name": "stdout",
     "output_type": "stream",
     "text": [
      "> /tmp/ipykernel_28793/505101603.py(113)forward()\n",
      "    111                 data_fused_repr = self.dr_fused(data_fused_embed, data_attention_mask)\n",
      "    112 \n",
      "--> 113         return EncoderOutput(\n",
      "    114             rep=data_repr,\n",
      "    115             fused_rep=data_fused_repr,\n",
      "\n"
     ]
    },
    {
     "name": "stdin",
     "output_type": "stream",
     "text": [
      "ipdb>  \n"
     ]
    },
    {
     "name": "stdout",
     "output_type": "stream",
     "text": [
      "--Return--\n",
      "EncoderOutput...vBackward0>)})\n",
      "> /tmp/ipykernel_28793/505101603.py(113)forward()\n",
      "    111                 data_fused_repr = self.dr_fused(data_fused_embed, data_attention_mask)\n",
      "    112 \n",
      "--> 113         return EncoderOutput(\n",
      "    114             rep=data_repr,\n",
      "    115             fused_rep=data_fused_repr,\n",
      "\n"
     ]
    },
    {
     "name": "stdin",
     "output_type": "stream",
     "text": [
      "ipdb>  \n"
     ]
    },
    {
     "name": "stdout",
     "output_type": "stream",
     "text": [
      "--Call--\n",
      "> <string>(2)__init__()\n",
      "\n"
     ]
    },
    {
     "name": "stdin",
     "output_type": "stream",
     "text": [
      "ipdb>  \n"
     ]
    },
    {
     "name": "stdout",
     "output_type": "stream",
     "text": [
      "> <string>(3)__init__()\n",
      "\n"
     ]
    },
    {
     "name": "stdin",
     "output_type": "stream",
     "text": [
      "ipdb>  \n"
     ]
    },
    {
     "name": "stdout",
     "output_type": "stream",
     "text": [
      "> <string>(4)__init__()\n",
      "\n"
     ]
    },
    {
     "name": "stdin",
     "output_type": "stream",
     "text": [
      "ipdb>  \n"
     ]
    },
    {
     "name": "stdout",
     "output_type": "stream",
     "text": [
      "> <string>(5)__init__()\n",
      "\n"
     ]
    },
    {
     "name": "stdin",
     "output_type": "stream",
     "text": [
      "ipdb>  \n"
     ]
    },
    {
     "name": "stdout",
     "output_type": "stream",
     "text": [
      "> <string>(6)__init__()\n",
      "\n"
     ]
    },
    {
     "name": "stdin",
     "output_type": "stream",
     "text": [
      "ipdb>  c\n"
     ]
    },
    {
     "name": "stdout",
     "output_type": "stream",
     "text": [
      "> /tmp/ipykernel_28793/505101603.py(97)forward()\n",
      "     95         **kwargs\n",
      "     96     ):  \n",
      "---> 97         data_o = self.encode(data_input_ids, data_attention_mask)\n",
      "     98 \n",
      "     99         if data_type is not None and data_type == \"meta\":\n",
      "\n"
     ]
    },
    {
     "name": "stdin",
     "output_type": "stream",
     "text": [
      "ipdb>  \n"
     ]
    },
    {
     "name": "stdout",
     "output_type": "stream",
     "text": [
      "> /tmp/ipykernel_28793/505101603.py(113)forward()\n",
      "    111                 data_fused_repr = self.dr_fused(data_fused_embed, data_attention_mask)\n",
      "    112 \n",
      "--> 113         return EncoderOutput(\n",
      "    114             rep=data_repr,\n",
      "    115             fused_rep=data_fused_repr,\n",
      "\n"
     ]
    },
    {
     "name": "stdin",
     "output_type": "stream",
     "text": [
      "ipdb>  \n"
     ]
    },
    {
     "name": "stdout",
     "output_type": "stream",
     "text": [
      "> /tmp/ipykernel_28793/505101603.py(114)forward()\n",
      "    112 \n",
      "    113         return EncoderOutput(\n",
      "--> 114             rep=data_repr,\n",
      "    115             fused_rep=data_fused_repr,\n",
      "    116             meta_repr=meta_repr,\n",
      "\n"
     ]
    },
    {
     "name": "stdin",
     "output_type": "stream",
     "text": [
      "ipdb>  \n"
     ]
    },
    {
     "name": "stdout",
     "output_type": "stream",
     "text": [
      "> /tmp/ipykernel_28793/505101603.py(115)forward()\n",
      "    113         return EncoderOutput(\n",
      "    114             rep=data_repr,\n",
      "--> 115             fused_rep=data_fused_repr,\n",
      "    116             meta_repr=meta_repr,\n",
      "    117         )\n",
      "\n"
     ]
    },
    {
     "name": "stdin",
     "output_type": "stream",
     "text": [
      "ipdb>  \n"
     ]
    },
    {
     "name": "stdout",
     "output_type": "stream",
     "text": [
      "> /tmp/ipykernel_28793/505101603.py(113)forward()\n",
      "    111                 data_fused_repr = self.dr_fused(data_fused_embed, data_attention_mask)\n",
      "    112 \n",
      "--> 113         return EncoderOutput(\n",
      "    114             rep=data_repr,\n",
      "    115             fused_rep=data_fused_repr,\n",
      "\n"
     ]
    },
    {
     "name": "stdin",
     "output_type": "stream",
     "text": [
      "ipdb>  \n"
     ]
    },
    {
     "name": "stdout",
     "output_type": "stream",
     "text": [
      "    [... skipped 1 hidden frame]\n",
      "\n",
      "    [... skipped 1 hidden frame]\n",
      "\n",
      "    [... skipped 1 hidden frame]\n",
      "\n",
      "    [... skipped 1 hidden frame]\n",
      "\n"
     ]
    }
   ],
   "source": [
    "o = func()"
   ]
  },
  {
   "cell_type": "code",
   "execution_count": null,
   "id": "87481928-d822-4ca6-98d1-b334ebfa9770",
   "metadata": {},
   "outputs": [
    {
     "data": {
      "text/plain": [
       "tensor(0.0134, grad_fn=<AddBackward0>)"
      ]
     },
     "execution_count": null,
     "metadata": {},
     "output_type": "execute_result"
    }
   ],
   "source": [
    "o.loss"
   ]
  },
  {
   "cell_type": "markdown",
   "id": "83dafe5a-dbb1-4581-a992-3d81bd30e22b",
   "metadata": {
    "jp-MarkdownHeadingCollapsed": true
   },
   "source": [
    "## `OAK003`"
   ]
  },
  {
   "cell_type": "code",
   "execution_count": 24,
   "id": "ec6bc09f-ddf6-49c4-a06b-ae7259d23413",
   "metadata": {},
   "outputs": [],
   "source": [
    "#| export\n",
    "class CrossAttention003(nn.Module):\n",
    "    \n",
    "    def __init__(self, config: PretrainedConfig):\n",
    "        super().__init__()\n",
    "        self.config, self.n_h, self.dim = config, config.n_heads, config.dim\n",
    "        self.dropout = nn.Dropout(p=config.attention_dropout)\n",
    "\n",
    "        if self.dim % self.n_h != 0:\n",
    "            raise ValueError(f\"self.n_heads: {self.n_h} must divide self.dim: {self.dim} evenly.\")\n",
    "            \n",
    "        self.q = nn.Linear(in_features=config.dim, out_features=config.dim)\n",
    "        self.k = nn.Linear(in_features=config.dim, out_features=config.dim)\n",
    "        self.v = nn.Linear(in_features=config.dim, out_features=config.dim)\n",
    "        self.o = nn.Linear(in_features=config.dim, out_features=config.dim)\n",
    "\n",
    "    def post_init(self):\n",
    "        torch.nn.init.eye_(self.q.weight)\n",
    "        torch.nn.init.eye_(self.k.weight)\n",
    "        torch.nn.init.eye_(self.v.weight)\n",
    "        torch.nn.init.eye_(self.o.weight)\n",
    "\n",
    "    def forward(\n",
    "        self, \n",
    "        q: torch.Tensor,\n",
    "        k: torch.Tensor, \n",
    "        output_attentions:Optional[bool] = False,\n",
    "    ):  \n",
    "        bsz, dim, v = q.size(0), q.size(1), k\n",
    "        h_dim = self.dim//self.n_h\n",
    "\n",
    "        def shape(x: torch.Tensor): return x.view(bsz, -1, self.n_h, h_dim).transpose(1, 2)\n",
    "        def unshape(x: torch.Tensor): return x.transpose(1, 2).contiguous().view(bsz, -1, self.n_h * h_dim)\n",
    "\n",
    "        q = shape(self.q(q))  # (bs, n_h, q_len, h_dim)\n",
    "        k = shape(self.k(k))  # (bs, n_h, k_len, h_dim)\n",
    "        v = shape(self.v(v))  # (bs, n_h, k_len, h_dim)\n",
    "\n",
    "        y = F.scaled_dot_product_attention(q, k, v, is_causal=False)\n",
    "        o = unshape(y)\n",
    "\n",
    "        return o.squeeze(1)\n",
    "        "
   ]
  },
  {
   "cell_type": "code",
   "execution_count": 25,
   "id": "f120a844-bac3-4d98-a611-df84399030a2",
   "metadata": {},
   "outputs": [],
   "source": [
    "#| export\n",
    "class Encoder003(DistilBertPreTrainedModel):\n",
    "    \n",
    "    def __init__(\n",
    "        self, \n",
    "        config:PretrainedConfig, \n",
    "    ):\n",
    "        super().__init__(config)\n",
    "        self.dr_distilbert = DistilBertModel(config)\n",
    "        self.meta_distilbert = DistilBertModel(config)\n",
    "        \n",
    "        self.dr_head = RepresentationHead(config)\n",
    "        self.cross_head = CrossAttention003(config)\n",
    "        \n",
    "        self.post_init()\n",
    "    \n",
    "    def dr_encode(self, input_ids:torch.Tensor, attention_mask:torch.Tensor, **kwargs):\n",
    "        o = self.dr_distilbert(\n",
    "            input_ids=input_ids,\n",
    "            attention_mask=attention_mask,\n",
    "            **kwargs\n",
    "        )\n",
    "        return Pooling.mean_pooling(o[0], attention_mask)\n",
    "\n",
    "    def meta_encode(self, input_ids:torch.Tensor, attention_mask:torch.Tensor, **kwargs):\n",
    "        o = self.meta_distilbert(\n",
    "            input_ids=input_ids,\n",
    "            attention_mask=attention_mask,\n",
    "            **kwargs\n",
    "        )\n",
    "        return Pooling.mean_pooling(o[0], attention_mask)\n",
    "\n",
    "    def dr(self, embed:torch.Tensor):\n",
    "        return F.normalize(self.dr_head(embed), dim=1)\n",
    "\n",
    "    def init_meta_encoder(self):\n",
    "        sd_meta, sd_dr = self.meta_distilbert.state_dict(), self.dr_distilbert.state_dict()\n",
    "        for k in sd_dr:\n",
    "            assert sd_meta[k].shape == sd_dr[k].shape\n",
    "            with torch.no_grad():\n",
    "                sd_meta[k].copy_(sd_dr[k])\n",
    "\n",
    "    def fuse_meta_into_embeddings(self, embed:torch.Tensor, meta_kwargs:Dict):\n",
    "        meta_repr, bsz = {}, embed.size(0)\n",
    "        \n",
    "        for m_key, m_args in meta_kwargs.items():\n",
    "            n_meta, valid_meta_idx = m_args['data2ptr'].max(), torch.where(m_args['data2ptr'] > 0)[0]\n",
    "            assert torch.all(m_args['data2ptr'][valid_meta_idx] == n_meta), f'All datapoints should have same number of metadata.'\n",
    "            \n",
    "            m_input_ids, m_attention_mask = m_args['input_ids'], m_args['attention_mask']    \n",
    "            if m_input_ids.shape[0] > 0: m_embed = self.meta_encode(input_ids=m_input_ids, attention_mask=m_attention_mask)\n",
    "            else: m_embed = torch.zeros(size=(0,self.config.dim)).to(m_input_ids.device)\n",
    "            meta_repr[m_key] = m_embed\n",
    "                            \n",
    "            m_embed = m_embed.view(len(valid_meta_idx), -1, self.config.dim)  \n",
    "            fused_embed = self.cross_head(embed[valid_meta_idx], m_embed)\n",
    "            embed[valid_meta_idx] = embed[valid_meta_idx] + fused_embed\n",
    "               \n",
    "        return embed, meta_repr\n",
    "\n",
    "    def forward(\n",
    "        self, \n",
    "        data_input_ids: torch.Tensor, \n",
    "        data_attention_mask: torch.Tensor,\n",
    "        data_aug_meta_prefix: Optional[str]=None,\n",
    "        data_type:Optional[str]=None,\n",
    "        data_unnormalized:Optional[bool]=False,\n",
    "        **kwargs\n",
    "    ):  \n",
    "        data_repr = self.dr_encode(data_input_ids, data_attention_mask)\n",
    "        \n",
    "        data_fused_repr = meta_repr = None\n",
    "        if data_aug_meta_prefix is not None:\n",
    "            meta_kwargs = Parameters.from_meta_aug_prefix(data_aug_meta_prefix, **kwargs)\n",
    "            if len(meta_kwargs):\n",
    "                data_fused_repr, meta_repr = self.fuse_meta_into_embeddings(data_repr, meta_kwargs)\n",
    "                data_fused_repr = self.dr(data_fused_repr)\n",
    "\n",
    "        data_repr = F.normalize(data_repr, dim=1)\n",
    "                \n",
    "        return EncoderOutput(\n",
    "            rep=data_repr,\n",
    "            fused_rep=data_fused_repr,\n",
    "            meta_repr=meta_repr,\n",
    "        )\n",
    "        "
   ]
  },
  {
   "cell_type": "code",
   "execution_count": 26,
   "id": "5d087893-4e39-4897-bb48-7a1ab2d5a247",
   "metadata": {},
   "outputs": [],
   "source": [
    "#| export\n",
    "class OAK003(OAK000, DistilBertPreTrainedModel):\n",
    "    use_generation,use_representation = False,True\n",
    "    _tied_weights_keys = [\"encoder.dr_distilbert\"]\n",
    "    _keys_to_ignore_on_load_missing = [\"encoder.meta_distilbert\"]\n",
    "\n",
    "    @delegates(OAK000.__init__)\n",
    "    def __init__(self, config, **kwargs):\n",
    "        super().__init__(config, **kwargs)\n",
    "        self.encoder = Encoder003(config)\n",
    "        self.post_init(); self.remap_post_init();\n",
    "\n",
    "    def init_retrieval_head(self):\n",
    "        self.encoder.dr_head.post_init()\n",
    "\n",
    "    def init_meta_encoder(self):\n",
    "        self.encoder.init_meta_encoder()\n",
    "\n",
    "    def remap_post_init(self):\n",
    "        self.distilbert = self.encoder.dr_distilbert\n",
    "        "
   ]
  },
  {
   "cell_type": "markdown",
   "id": "3310906f-384e-4566-9ba6-9990cf606133",
   "metadata": {
    "jp-MarkdownHeadingCollapsed": true
   },
   "source": [
    "### Example"
   ]
  },
  {
   "cell_type": "code",
   "execution_count": null,
   "id": "afcb34ea-1faf-4760-b731-55267d56ad8f",
   "metadata": {},
   "outputs": [
    {
     "name": "stderr",
     "output_type": "stream",
     "text": [
      "Some weights of OAK003 were not initialized from the model checkpoint at sentence-transformers/msmarco-distilbert-base-v4 and are newly initialized: ['encoder.cross_head.k.bias', 'encoder.cross_head.k.weight', 'encoder.cross_head.o.bias', 'encoder.cross_head.o.weight', 'encoder.cross_head.q.bias', 'encoder.cross_head.q.weight', 'encoder.cross_head.v.bias', 'encoder.cross_head.v.weight', 'encoder.dr_head.layer_norm.bias', 'encoder.dr_head.layer_norm.weight', 'encoder.dr_head.projector.bias', 'encoder.dr_head.projector.weight', 'encoder.dr_head.transform.bias', 'encoder.dr_head.transform.weight']\n",
      "You should probably TRAIN this model on a down-stream task to be able to use it for predictions and inference.\n"
     ]
    }
   ],
   "source": [
    "model = OAK003.from_pretrained('sentence-transformers/msmarco-distilbert-base-v4', batch_size=100, num_batch_labels=5000, \n",
    "                               margin=0.3, num_negatives=10, tau=0.1, apply_softmax=True,\n",
    "                               \n",
    "                               data_aug_meta_prefix='lnk2data', lbl2data_aug_meta_prefix=None, \n",
    "                               data_pred_meta_prefix=None, lbl2data_pred_meta_prefix=None,\n",
    "                               \n",
    "                               calib_margin=0.3, calib_num_negatives=10, calib_tau=0.1, calib_apply_softmax=True, \n",
    "                               calib_loss_weight=0.1, use_calib_loss=False,\n",
    "\n",
    "                               use_query_loss=True,\n",
    "\n",
    "                               meta_loss_weight=0.0, \n",
    "                               \n",
    "                               fusion_loss_weight=0.0, use_fusion_loss=False,\n",
    "                               \n",
    "                               use_encoder_parallel=False)\n",
    "model.init_retrieval_head()\n",
    "model.init_meta_encoder()\n",
    "model.init_cross_head()"
   ]
  },
  {
   "cell_type": "code",
   "execution_count": null,
   "id": "c556d806-36a4-4206-a02b-42c7dcb7bcce",
   "metadata": {},
   "outputs": [],
   "source": [
    "model = model.to('cuda')"
   ]
  },
  {
   "cell_type": "code",
   "execution_count": null,
   "id": "562a3a6b-0642-4782-8a62-d0b9b7c16029",
   "metadata": {},
   "outputs": [],
   "source": [
    "b = prepare_batch(model, batch, m_args=[\n",
    "    'plnk2data_idx', 'plnk2data_data2ptr', 'lnk2data_idx', 'lnk2data_input_ids', 'lnk2data_attention_mask', \n",
    "    'lnk2data_data2ptr',\n",
    "])"
   ]
  },
  {
   "cell_type": "code",
   "execution_count": null,
   "id": "bcc2b382-2069-4eab-aee7-e0e8bc99d432",
   "metadata": {},
   "outputs": [
    {
     "data": {
      "text/plain": [
       "dict_keys(['plbl2data_idx', 'plbl2data_data2ptr', 'lbl2data_idx', 'lbl2data_identifier', 'lbl2data_input_text', 'lbl2data_input_ids', 'lbl2data_attention_mask', 'lbl2data_data2ptr', 'plnk2data_idx', 'plnk2data_data2ptr', 'lnk2data_idx', 'lnk2data_identifier', 'lnk2data_input_text', 'lnk2data_input_ids', 'lnk2data_attention_mask', 'lnk2data_data2ptr', 'lnk2lbl2data_idx', 'lnk2lbl2data_identifier', 'lnk2lbl2data_input_text', 'lnk2lbl2data_input_ids', 'lnk2lbl2data_attention_mask', 'lnk2lbl2data_data2ptr', 'lnk2lbl2data_lbl2data2ptr', 'data_identifier', 'data_input_text', 'data_input_ids', 'data_attention_mask', 'data_idx'])"
      ]
     },
     "execution_count": null,
     "metadata": {},
     "output_type": "execute_result"
    }
   ],
   "source": [
    "batch.keys()"
   ]
  },
  {
   "cell_type": "code",
   "execution_count": null,
   "id": "dfccdb49-128e-4411-baf4-6bb7c68b3e02",
   "metadata": {},
   "outputs": [],
   "source": [
    "o = model(**b.to(model.device))"
   ]
  },
  {
   "cell_type": "code",
   "execution_count": null,
   "id": "4bbccc22-4e4d-4121-b270-8bb2db7935bc",
   "metadata": {},
   "outputs": [
    {
     "data": {
      "text/plain": [
       "tensor(0.0175, device='cuda:0', grad_fn=<AddBackward0>)"
      ]
     },
     "execution_count": null,
     "metadata": {},
     "output_type": "execute_result"
    }
   ],
   "source": [
    "o.loss"
   ]
  },
  {
   "cell_type": "code",
   "execution_count": null,
   "id": "2a1731c4-8f56-4f53-9016-2120ab89994d",
   "metadata": {},
   "outputs": [],
   "source": []
  },
  {
   "cell_type": "code",
   "execution_count": null,
   "id": "0eac5cad-8914-46c1-876d-01b9d38a57f5",
   "metadata": {},
   "outputs": [],
   "source": [
    "def func():\n",
    "    import pdb; pdb.set_trace()\n",
    "    return model(**b.to(model.device))"
   ]
  },
  {
   "cell_type": "code",
   "execution_count": null,
   "id": "96c296fc-c2d7-4696-bf9c-8ecd83742d16",
   "metadata": {},
   "outputs": [
    {
     "name": "stdout",
     "output_type": "stream",
     "text": [
      "> /tmp/ipykernel_7033/1795951242.py(3)func()\n",
      "      1 def func():\n",
      "      2     import pdb; pdb.set_trace()\n",
      "----> 3     return model(**b.to(model.device))\n",
      "\n"
     ]
    },
    {
     "name": "stdin",
     "output_type": "stream",
     "text": [
      "ipdb>  b model.forward\n"
     ]
    },
    {
     "name": "stdout",
     "output_type": "stream",
     "text": [
      "Breakpoint 6 at /tmp/ipykernel_7033/2804362729.py:140\n"
     ]
    },
    {
     "name": "stdin",
     "output_type": "stream",
     "text": [
      "ipdb>  b model.encoder.forward\n"
     ]
    },
    {
     "name": "stdout",
     "output_type": "stream",
     "text": [
      "Breakpoint 7 at /tmp/ipykernel_7033/1294998010.py:60\n"
     ]
    },
    {
     "name": "stdin",
     "output_type": "stream",
     "text": [
      "ipdb>  c\n"
     ]
    },
    {
     "name": "stdout",
     "output_type": "stream",
     "text": [
      "> /tmp/ipykernel_7033/2804362729.py(155)forward()\n",
      "    153         **kwargs\n",
      "    154     ):  \n",
      "--> 155         return_dict = return_dict if return_dict is not None else self.config.use_return_dict\n",
      "    156 \n",
      "    157         if self.use_encoder_parallel:\n",
      "\n"
     ]
    },
    {
     "name": "stdin",
     "output_type": "stream",
     "text": [
      "ipdb>  c\n"
     ]
    },
    {
     "name": "stdout",
     "output_type": "stream",
     "text": [
      "> /tmp/ipykernel_7033/2804362729.py(157)forward()\n",
      "    155         return_dict = return_dict if return_dict is not None else self.config.use_return_dict\n",
      "    156 \n",
      "--> 157         if self.use_encoder_parallel:\n",
      "    158             encoder = XCDataParallel(module=self.encoder)\n",
      "    159         else: encoder = self.encoder\n",
      "\n"
     ]
    },
    {
     "name": "stdin",
     "output_type": "stream",
     "text": [
      "ipdb>  n\n"
     ]
    },
    {
     "name": "stdout",
     "output_type": "stream",
     "text": [
      "> /tmp/ipykernel_7033/2804362729.py(159)forward()\n",
      "    157         if self.use_encoder_parallel:\n",
      "    158             encoder = XCDataParallel(module=self.encoder)\n",
      "--> 159         else: encoder = self.encoder\n",
      "    160 \n",
      "    161         data_meta_kwargs = Parameters.from_feat_meta_aug_prefix('data', self.data_aug_meta_prefix, **kwargs)\n",
      "\n"
     ]
    },
    {
     "name": "stdin",
     "output_type": "stream",
     "text": [
      "ipdb>  \n"
     ]
    },
    {
     "name": "stdout",
     "output_type": "stream",
     "text": [
      "> /tmp/ipykernel_7033/2804362729.py(161)forward()\n",
      "    159         else: encoder = self.encoder\n",
      "    160 \n",
      "--> 161         data_meta_kwargs = Parameters.from_feat_meta_aug_prefix('data', self.data_aug_meta_prefix, **kwargs)\n",
      "    162         data_o = encoder(data_input_ids=data_input_ids, data_attention_mask=data_attention_mask, \n",
      "    163                          data_aug_meta_prefix=self.data_aug_meta_prefix, **data_meta_kwargs)\n",
      "\n"
     ]
    },
    {
     "name": "stdin",
     "output_type": "stream",
     "text": [
      "ipdb>  \n"
     ]
    },
    {
     "name": "stdout",
     "output_type": "stream",
     "text": [
      "> /tmp/ipykernel_7033/2804362729.py(162)forward()\n",
      "    160 \n",
      "    161         data_meta_kwargs = Parameters.from_feat_meta_aug_prefix('data', self.data_aug_meta_prefix, **kwargs)\n",
      "--> 162         data_o = encoder(data_input_ids=data_input_ids, data_attention_mask=data_attention_mask, \n",
      "    163                          data_aug_meta_prefix=self.data_aug_meta_prefix, **data_meta_kwargs)\n",
      "    164 \n",
      "\n"
     ]
    },
    {
     "name": "stdin",
     "output_type": "stream",
     "text": [
      "ipdb>  c\n"
     ]
    },
    {
     "name": "stdout",
     "output_type": "stream",
     "text": [
      "> /tmp/ipykernel_7033/1294998010.py(69)forward()\n",
      "     67         **kwargs\n",
      "     68     ):  \n",
      "---> 69         data_repr = self.dr_encode(data_input_ids, data_attention_mask)\n",
      "     70 \n",
      "     71         data_fused_repr = meta_repr = None\n",
      "\n"
     ]
    },
    {
     "name": "stdin",
     "output_type": "stream",
     "text": [
      "ipdb>  n\n"
     ]
    },
    {
     "name": "stdout",
     "output_type": "stream",
     "text": [
      "> /tmp/ipykernel_7033/1294998010.py(71)forward()\n",
      "     69         data_repr = self.dr_encode(data_input_ids, data_attention_mask)\n",
      "     70 \n",
      "---> 71         data_fused_repr = meta_repr = None\n",
      "     72         if data_aug_meta_prefix is not None:\n",
      "     73             meta_kwargs = Parameters.from_meta_aug_prefix(data_aug_meta_prefix, **kwargs)\n",
      "\n"
     ]
    },
    {
     "name": "stdin",
     "output_type": "stream",
     "text": [
      "ipdb>  n\n"
     ]
    },
    {
     "name": "stdout",
     "output_type": "stream",
     "text": [
      "> /tmp/ipykernel_7033/1294998010.py(72)forward()\n",
      "     70 \n",
      "     71         data_fused_repr = meta_repr = None\n",
      "---> 72         if data_aug_meta_prefix is not None:\n",
      "     73             meta_kwargs = Parameters.from_meta_aug_prefix(data_aug_meta_prefix, **kwargs)\n",
      "     74             if len(meta_kwargs):\n",
      "\n"
     ]
    },
    {
     "name": "stdin",
     "output_type": "stream",
     "text": [
      "ipdb>  \n"
     ]
    },
    {
     "name": "stdout",
     "output_type": "stream",
     "text": [
      "> /tmp/ipykernel_7033/1294998010.py(73)forward()\n",
      "     71         data_fused_repr = meta_repr = None\n",
      "     72         if data_aug_meta_prefix is not None:\n",
      "---> 73             meta_kwargs = Parameters.from_meta_aug_prefix(data_aug_meta_prefix, **kwargs)\n",
      "     74             if len(meta_kwargs):\n",
      "     75                 data_fused_repr, meta_repr = self.fuse_meta_into_embeddings(data_repr, meta_kwargs)\n",
      "\n"
     ]
    },
    {
     "name": "stdin",
     "output_type": "stream",
     "text": [
      "ipdb>  \n"
     ]
    },
    {
     "name": "stdout",
     "output_type": "stream",
     "text": [
      "> /tmp/ipykernel_7033/1294998010.py(74)forward()\n",
      "     72         if data_aug_meta_prefix is not None:\n",
      "     73             meta_kwargs = Parameters.from_meta_aug_prefix(data_aug_meta_prefix, **kwargs)\n",
      "---> 74             if len(meta_kwargs):\n",
      "     75                 data_fused_repr, meta_repr = self.fuse_meta_into_embeddings(data_repr, meta_kwargs)\n",
      "     76                 data_fused_repr = self.dr(data_fused_repr)\n",
      "\n"
     ]
    },
    {
     "name": "stdin",
     "output_type": "stream",
     "text": [
      "ipdb>  \n"
     ]
    },
    {
     "name": "stdout",
     "output_type": "stream",
     "text": [
      "> /tmp/ipykernel_7033/1294998010.py(75)forward()\n",
      "     73             meta_kwargs = Parameters.from_meta_aug_prefix(data_aug_meta_prefix, **kwargs)\n",
      "     74             if len(meta_kwargs):\n",
      "---> 75                 data_fused_repr, meta_repr = self.fuse_meta_into_embeddings(data_repr, meta_kwargs)\n",
      "     76                 data_fused_repr = self.dr(data_fused_repr)\n",
      "     77 \n",
      "\n"
     ]
    },
    {
     "name": "stdin",
     "output_type": "stream",
     "text": [
      "ipdb>  \n"
     ]
    },
    {
     "name": "stdout",
     "output_type": "stream",
     "text": [
      "> /tmp/ipykernel_7033/1294998010.py(76)forward()\n",
      "     74             if len(meta_kwargs):\n",
      "     75                 data_fused_repr, meta_repr = self.fuse_meta_into_embeddings(data_repr, meta_kwargs)\n",
      "---> 76                 data_fused_repr = self.dr(data_fused_repr)\n",
      "     77 \n",
      "     78         data_repr = F.normalize(data_repr, dim=1)\n",
      "\n"
     ]
    },
    {
     "name": "stdin",
     "output_type": "stream",
     "text": [
      "ipdb>  \n"
     ]
    },
    {
     "name": "stdout",
     "output_type": "stream",
     "text": [
      "> /tmp/ipykernel_7033/1294998010.py(78)forward()\n",
      "     76                 data_fused_repr = self.dr(data_fused_repr)\n",
      "     77 \n",
      "---> 78         data_repr = F.normalize(data_repr, dim=1)\n",
      "     79 \n",
      "     80         return EncoderOutput(\n",
      "\n"
     ]
    },
    {
     "name": "stdin",
     "output_type": "stream",
     "text": [
      "ipdb>  \n"
     ]
    },
    {
     "name": "stdout",
     "output_type": "stream",
     "text": [
      "> /tmp/ipykernel_7033/1294998010.py(80)forward()\n",
      "     78         data_repr = F.normalize(data_repr, dim=1)\n",
      "     79 \n",
      "---> 80         return EncoderOutput(\n",
      "     81             rep=data_repr,\n",
      "     82             fused_rep=data_fused_repr,\n",
      "\n"
     ]
    },
    {
     "name": "stdin",
     "output_type": "stream",
     "text": [
      "ipdb>  \n"
     ]
    },
    {
     "name": "stdout",
     "output_type": "stream",
     "text": [
      "> /tmp/ipykernel_7033/1294998010.py(81)forward()\n",
      "     79 \n",
      "     80         return EncoderOutput(\n",
      "---> 81             rep=data_repr,\n",
      "     82             fused_rep=data_fused_repr,\n",
      "     83             meta_repr=meta_repr,\n",
      "\n"
     ]
    },
    {
     "name": "stdin",
     "output_type": "stream",
     "text": [
      "ipdb>  c\n"
     ]
    },
    {
     "name": "stdout",
     "output_type": "stream",
     "text": [
      "> /tmp/ipykernel_7033/1294998010.py(69)forward()\n",
      "     67         **kwargs\n",
      "     68     ):  \n",
      "---> 69         data_repr = self.dr_encode(data_input_ids, data_attention_mask)\n",
      "     70 \n",
      "     71         data_fused_repr = meta_repr = None\n",
      "\n"
     ]
    },
    {
     "name": "stdin",
     "output_type": "stream",
     "text": [
      "ipdb>  n\n"
     ]
    },
    {
     "name": "stdout",
     "output_type": "stream",
     "text": [
      "> /tmp/ipykernel_7033/1294998010.py(71)forward()\n",
      "     69         data_repr = self.dr_encode(data_input_ids, data_attention_mask)\n",
      "     70 \n",
      "---> 71         data_fused_repr = meta_repr = None\n",
      "     72         if data_aug_meta_prefix is not None:\n",
      "     73             meta_kwargs = Parameters.from_meta_aug_prefix(data_aug_meta_prefix, **kwargs)\n",
      "\n"
     ]
    },
    {
     "name": "stdin",
     "output_type": "stream",
     "text": [
      "ipdb>  r\n"
     ]
    },
    {
     "name": "stdout",
     "output_type": "stream",
     "text": [
      "--Return--\n",
      "EncoderOutput...eta_repr=None)\n",
      "> /tmp/ipykernel_7033/1294998010.py(80)forward()\n",
      "     78         data_repr = F.normalize(data_repr, dim=1)\n",
      "     79 \n",
      "---> 80         return EncoderOutput(\n",
      "     81             rep=data_repr,\n",
      "     82             fused_rep=data_fused_repr,\n",
      "\n"
     ]
    },
    {
     "name": "stdin",
     "output_type": "stream",
     "text": [
      "ipdb>  n\n"
     ]
    },
    {
     "name": "stdout",
     "output_type": "stream",
     "text": [
      "> /tmp/ipykernel_7033/2804362729.py(172)forward()\n",
      "    170                                  data_aug_meta_prefix=self.lbl2data_aug_meta_prefix, **lbl2data_meta_kwargs)\n",
      "    171 \n",
      "--> 172             loss = self.compute_loss(data_o.fused_rep, lbl2data_o.rep,lbl2data_data2ptr,lbl2data_idx,\n",
      "    173                                      plbl2data_data2ptr,plbl2data_idx)\n",
      "    174 \n",
      "\n"
     ]
    },
    {
     "name": "stdin",
     "output_type": "stream",
     "text": [
      "ipdb>  data_o.fused_rep.norm(dim=1)\n"
     ]
    },
    {
     "name": "stdout",
     "output_type": "stream",
     "text": [
      "tensor([1.0000, 1.0000, 1.0000, 1.0000, 1.0000], device='cuda:0',\n",
      "       grad_fn=<LinalgVectorNormBackward0>)\n"
     ]
    },
    {
     "name": "stdin",
     "output_type": "stream",
     "text": [
      "ipdb>  lbl2data_o.rep.norm(dim=1)\n"
     ]
    },
    {
     "name": "stdout",
     "output_type": "stream",
     "text": [
      "tensor([1., 1., 1., 1., 1.], device='cuda:0',\n",
      "       grad_fn=<LinalgVectorNormBackward0>)\n"
     ]
    },
    {
     "name": "stdin",
     "output_type": "stream",
     "text": [
      "ipdb>  lbl2data_o.rep.dtype\n"
     ]
    },
    {
     "name": "stdout",
     "output_type": "stream",
     "text": [
      "torch.float32\n"
     ]
    },
    {
     "name": "stdin",
     "output_type": "stream",
     "text": [
      "ipdb>  lbl2data_o.rep.norm(dim=1)\n"
     ]
    },
    {
     "name": "stdout",
     "output_type": "stream",
     "text": [
      "tensor([1., 1., 1., 1., 1.], device='cuda:0',\n",
      "       grad_fn=<LinalgVectorNormBackward0>)\n"
     ]
    },
    {
     "name": "stdin",
     "output_type": "stream",
     "text": [
      "ipdb>  data_o.fused_rep.norm(dim=1)\n"
     ]
    },
    {
     "name": "stdout",
     "output_type": "stream",
     "text": [
      "tensor([1.0000, 1.0000, 1.0000, 1.0000, 1.0000], device='cuda:0',\n",
      "       grad_fn=<LinalgVectorNormBackward0>)\n"
     ]
    },
    {
     "name": "stdin",
     "output_type": "stream",
     "text": [
      "ipdb>  data_o.fused_rep.dtype\n"
     ]
    },
    {
     "name": "stdout",
     "output_type": "stream",
     "text": [
      "torch.float32\n"
     ]
    },
    {
     "name": "stdin",
     "output_type": "stream",
     "text": [
      "ipdb>  c\n"
     ]
    },
    {
     "name": "stdout",
     "output_type": "stream",
     "text": [
      "> /tmp/ipykernel_7033/2804362729.py(179)forward()\n",
      "    177                                           plbl2data_data2ptr,plbl2data_idx)\n",
      "    178 \n",
      "--> 179             if self.use_calib_loss:\n",
      "    180                 loss += self.calibration_loss(data_o.fused_rep, data_o.rep, lbl2data_o.rep,lbl2data_data2ptr,lbl2data_idx,\n",
      "    181                                               plbl2data_data2ptr,plbl2data_idx)\n",
      "\n"
     ]
    },
    {
     "name": "stdin",
     "output_type": "stream",
     "text": [
      "ipdb>  c\n"
     ]
    },
    {
     "name": "stdout",
     "output_type": "stream",
     "text": [
      "    [... skipped 1 hidden frame]\n",
      "\n",
      "    [... skipped 1 hidden frame]\n",
      "\n",
      "    [... skipped 1 hidden frame]\n",
      "\n",
      "    [... skipped 1 hidden frame]\n",
      "\n"
     ]
    }
   ],
   "source": [
    "o = func()"
   ]
  },
  {
   "cell_type": "code",
   "execution_count": null,
   "id": "99629b55-e260-4e65-bc07-9bafd5969fab",
   "metadata": {},
   "outputs": [],
   "source": []
  },
  {
   "cell_type": "code",
   "execution_count": null,
   "id": "24916904-5a6f-4d17-8869-e336693a7173",
   "metadata": {},
   "outputs": [],
   "source": [
    "sd1 = model.encoder.dr_distilbert.state_dict()\n",
    "sd2 = model.encoder.meta_distilbert.state_dict()"
   ]
  },
  {
   "cell_type": "code",
   "execution_count": null,
   "id": "7a61db03-8188-4a2c-9cc3-5f081d881c80",
   "metadata": {},
   "outputs": [],
   "source": []
  },
  {
   "cell_type": "markdown",
   "id": "2a81620f-c008-47b6-a865-6365051421fb",
   "metadata": {
    "jp-MarkdownHeadingCollapsed": true
   },
   "source": [
    "## `OAK004`"
   ]
  },
  {
   "cell_type": "code",
   "execution_count": null,
   "id": "714db4bd-c1f2-4872-86c8-80c37d5aadcc",
   "metadata": {},
   "outputs": [],
   "source": [
    "#| export\n",
    "class Encoder004(DistilBertPreTrainedModel):\n",
    "    \n",
    "    def __init__(\n",
    "        self, \n",
    "        config:PretrainedConfig, \n",
    "    ):\n",
    "        super().__init__(config)\n",
    "        self.distilbert = DistilBertModel(config)\n",
    "        self.dr_head = RepresentationHead(config)\n",
    "        self.cross_head = CrossAttention003(config)\n",
    "        self.post_init()\n",
    "    \n",
    "    def encode(self, input_ids:torch.Tensor, attention_mask:torch.Tensor, **kwargs):\n",
    "        o = self.distilbert(\n",
    "            input_ids=input_ids,\n",
    "            attention_mask=attention_mask,\n",
    "            **kwargs\n",
    "        )\n",
    "        return Pooling.mean_pooling(o[0], attention_mask)\n",
    "\n",
    "    def dr(self, embed:torch.Tensor):\n",
    "        return F.normalize(self.dr_head(embed), dim=1)\n",
    "\n",
    "    def fuse_meta_into_embeddings(self, embed:torch.Tensor, meta_kwargs:Dict):\n",
    "        meta_repr, bsz = {}, embed.size(0)\n",
    "        \n",
    "        for m_key, m_args in meta_kwargs.items():\n",
    "            n_meta, valid_meta_idx = m_args['data2ptr'].max(), torch.where(m_args['data2ptr'] > 0)[0]\n",
    "            assert torch.all(m_args['data2ptr'][valid_meta_idx] == n_meta), f'All datapoints should have same number of metadata.'\n",
    "            \n",
    "            m_embed = m_args['meta_repr']\n",
    "            meta_repr[m_key] = m_embed\n",
    "                    \n",
    "            m_embed = m_embed.view(len(valid_meta_idx), -1, self.config.dim)  \n",
    "            fused_embed = self.cross_head(embed[valid_meta_idx], m_embed)\n",
    "            embed[valid_meta_idx] = embed[valid_meta_idx] + fused_embed\n",
    "               \n",
    "        return embed, meta_repr\n",
    "        \n",
    "    def forward(\n",
    "        self, \n",
    "        data_input_ids: torch.Tensor, \n",
    "        data_attention_mask: torch.Tensor,\n",
    "        data_aug_meta_prefix: Optional[str]=None,\n",
    "        data_type:Optional[str]=None,\n",
    "        data_unnormalized:Optional[bool]=False,\n",
    "        **kwargs\n",
    "    ):  \n",
    "        data_repr = self.encode(data_input_ids, data_attention_mask)\n",
    "        \n",
    "        data_fused_repr = meta_repr = None\n",
    "        if data_aug_meta_prefix is not None:\n",
    "            meta_kwargs = Parameters.from_meta_aug_prefix(data_aug_meta_prefix, **kwargs)\n",
    "            if len(meta_kwargs):\n",
    "                data_fused_repr, meta_repr = self.fuse_meta_into_embeddings(data_repr, meta_kwargs)\n",
    "                data_fused_repr = self.dr(data_fused_repr)\n",
    "\n",
    "        data_repr = F.normalize(data_repr, dim=1)\n",
    "                \n",
    "        return EncoderOutput(\n",
    "            rep=data_repr,\n",
    "            fused_rep=data_fused_repr,\n",
    "            meta_repr=meta_repr,\n",
    "        )\n",
    "        "
   ]
  },
  {
   "cell_type": "code",
   "execution_count": null,
   "id": "f9ee7907-cb01-40f0-9a25-83a74d00c159",
   "metadata": {},
   "outputs": [],
   "source": [
    "#| export\n",
    "class OAK004(OAK000, DistilBertPreTrainedModel):\n",
    "    use_generation,use_representation = False,True\n",
    "    _tied_weights_keys = [\"encoder.distilbert\"]\n",
    "\n",
    "    @delegates(OAK000.__init__)\n",
    "    def __init__(self, config, num_metadata:int, **kwargs):\n",
    "        super().__init__(config, **kwargs)\n",
    "        self.encoder = Encoder004(config)\n",
    "        self.meta_embeddings = nn.Embedding(num_metadata, config.dim, sparse=True)\n",
    "        self.post_init(); self.remap_post_init();\n",
    "\n",
    "    def init_retrieval_head(self):\n",
    "        self.encoder.dr_head.post_init()\n",
    "\n",
    "    def init_meta_embeddings(self):\n",
    "        torch.nn.init.zeros_(self.meta_embeddings.weight)\n",
    "\n",
    "    def freeze_meta_embeddings(self):\n",
    "        self.meta_embeddings.requires_grad_(False)\n",
    "\n",
    "    def unfreeze_meta_embeddings(self):\n",
    "        self.meta_embeddings.requires_grad_(True)\n",
    "\n",
    "    def set_meta_embeddings(self, embed:torch.Tensor):\n",
    "        with torch.no_grad():\n",
    "            self.meta_embeddings.weight.copy_(embed)\n",
    "\n",
    "    def _get_encoder_meta_kwargs(self, feat:str, prefix:str, **kwargs):\n",
    "        meta_kwargs = Parameters.from_feat_meta_aug_prefix(feat, prefix, **kwargs)\n",
    "        if f'{prefix}_idx' in meta_kwargs:\n",
    "            m_idx = meta_kwargs[f'{prefix}_idx']\n",
    "            if len(m_idx): meta_kwargs[f'{prefix}_meta_repr'] = self.meta_embeddings(m_idx)\n",
    "        return meta_kwargs\n",
    "\n",
    "    def remap_post_init(self):\n",
    "        self.distilbert = self.encoder.distilbert\n",
    "\n",
    "    def forward(\n",
    "        self,\n",
    "        data_input_ids:Optional[torch.Tensor]=None,\n",
    "        data_attention_mask:Optional[torch.Tensor]=None,\n",
    "        lbl2data_data2ptr:Optional[torch.Tensor]=None,\n",
    "        lbl2data_idx:Optional[torch.Tensor]=None,\n",
    "        lbl2data_input_ids:Optional[torch.Tensor]=None,\n",
    "        lbl2data_attention_mask:Optional[torch.Tensor]=None,\n",
    "        plbl2data_data2ptr:Optional[torch.Tensor]=None,\n",
    "        plbl2data_idx:Optional[torch.Tensor]=None,\n",
    "        output_attentions: Optional[bool] = None,\n",
    "        output_hidden_states: Optional[bool] = None,\n",
    "        return_dict: Optional[bool] = None,\n",
    "        **kwargs\n",
    "    ):  \n",
    "        return_dict = return_dict if return_dict is not None else self.config.use_return_dict\n",
    "        \n",
    "        if self.use_encoder_parallel: \n",
    "            encoder = XCDataParallel(module=self.encoder)\n",
    "        else: encoder = self.encoder\n",
    "        \n",
    "        data_meta_kwargs = self._get_encoder_meta_kwargs('data', self.data_aug_meta_prefix, **kwargs)\n",
    "        data_o = encoder(data_input_ids=data_input_ids, data_attention_mask=data_attention_mask, \n",
    "                         data_aug_meta_prefix=self.data_aug_meta_prefix, **data_meta_kwargs)\n",
    "        \n",
    "        \n",
    "        loss = None; lbl2data_o = EncoderOutput()\n",
    "        if lbl2data_input_ids is not None:\n",
    "            lbl2data_meta_kwargs = self._get_encoder_meta_kwargs('lbl2data', self.lbl2data_aug_meta_prefix, **kwargs)\n",
    "            lbl2data_o = encoder(data_input_ids=lbl2data_input_ids, data_attention_mask=lbl2data_attention_mask, \n",
    "                                 data_aug_meta_prefix=self.lbl2data_aug_meta_prefix, **lbl2data_meta_kwargs)\n",
    "            \n",
    "            loss = self.compute_loss(data_o.fused_rep, lbl2data_o.rep,lbl2data_data2ptr,lbl2data_idx,\n",
    "                                     plbl2data_data2ptr,plbl2data_idx)\n",
    "\n",
    "            if self.use_query_loss:\n",
    "                loss += self.compute_loss(data_o.rep, lbl2data_o.rep,lbl2data_data2ptr,lbl2data_idx,\n",
    "                                          plbl2data_data2ptr,plbl2data_idx)\n",
    "\n",
    "            if self.use_calib_loss:\n",
    "                loss += self.calibration_loss(data_o.fused_rep, data_o.rep, lbl2data_o.rep,lbl2data_data2ptr,lbl2data_idx,\n",
    "                                              plbl2data_data2ptr,plbl2data_idx)\n",
    "            \n",
    "        if not return_dict:\n",
    "            o = (data_o.logits,data_o.rep,data_o.fused_rep,lbl2data_o.logits,lbl2data_o.rep,lbl2data_o.fused_rep)\n",
    "            return ((loss,) + o) if loss is not None else o\n",
    "        \n",
    "        \n",
    "        return XCModelOutput(\n",
    "            loss=loss,\n",
    "            \n",
    "            data_repr=data_o.rep,\n",
    "            data_fused_repr=data_o.fused_rep,\n",
    "            \n",
    "            lbl2data_repr=lbl2data_o.rep,\n",
    "            lbl2data_fused_repr=lbl2data_o.fused_rep,\n",
    "        )\n",
    "        \n",
    "        "
   ]
  },
  {
   "cell_type": "markdown",
   "id": "9783b3c4-ac12-44e2-bd6a-16f98e1b0edb",
   "metadata": {
    "jp-MarkdownHeadingCollapsed": true
   },
   "source": [
    "### Example"
   ]
  },
  {
   "cell_type": "code",
   "execution_count": null,
   "id": "aa4cb46e-9b86-4126-bd9b-1ab3acc223f7",
   "metadata": {},
   "outputs": [
    {
     "name": "stderr",
     "output_type": "stream",
     "text": [
      "Some weights of OAK004 were not initialized from the model checkpoint at sentence-transformers/msmarco-distilbert-base-v4 and are newly initialized: ['encoder.cross_head.k.bias', 'encoder.cross_head.k.weight', 'encoder.cross_head.o.bias', 'encoder.cross_head.o.weight', 'encoder.cross_head.q.bias', 'encoder.cross_head.q.weight', 'encoder.cross_head.v.bias', 'encoder.cross_head.v.weight', 'encoder.dr_head.layer_norm.bias', 'encoder.dr_head.layer_norm.weight', 'encoder.dr_head.projector.bias', 'encoder.dr_head.projector.weight', 'encoder.dr_head.transform.bias', 'encoder.dr_head.transform.weight', 'meta_embeddings.weight']\n",
      "You should probably TRAIN this model on a down-stream task to be able to use it for predictions and inference.\n"
     ]
    }
   ],
   "source": [
    "model = OAK004.from_pretrained('sentence-transformers/msmarco-distilbert-base-v4', batch_size=100, num_batch_labels=5000, \n",
    "                               margin=0.3, num_negatives=10, tau=0.1, apply_softmax=True,\n",
    "                               \n",
    "                               data_aug_meta_prefix='lnk2data', lbl2data_aug_meta_prefix=None, \n",
    "                               data_pred_meta_prefix=None, lbl2data_pred_meta_prefix=None,\n",
    "                               \n",
    "                               calib_margin=0.3, calib_num_negatives=10, calib_tau=0.1, calib_apply_softmax=True, \n",
    "                               calib_loss_weight=0.1, use_calib_loss=False,\n",
    "\n",
    "                               num_metadata=block.train.dset.meta['lnk_meta'].n_meta,\n",
    "\n",
    "                               use_query_loss=True,\n",
    "                               \n",
    "                               use_encoder_parallel=False)\n",
    "\n",
    "model.init_retrieval_head()\n",
    "model.init_cross_head()\n",
    "\n",
    "model.set_meta_embeddings(torch.ones(block.train.dset.meta['lnk_meta'].n_meta, model.config.dim))"
   ]
  },
  {
   "cell_type": "code",
   "execution_count": null,
   "id": "a9170676-bffb-4e33-ae56-7bcd0717008e",
   "metadata": {},
   "outputs": [],
   "source": [
    "model = model.to('cuda')"
   ]
  },
  {
   "cell_type": "code",
   "execution_count": null,
   "id": "37d499a4-d469-4729-8871-74f9b634c325",
   "metadata": {},
   "outputs": [],
   "source": [
    "b = prepare_batch(model, batch, m_args=[\n",
    "    'plnk2data_idx', 'plnk2data_data2ptr', 'lnk2data_idx', 'lnk2data_data2ptr',\n",
    "])"
   ]
  },
  {
   "cell_type": "code",
   "execution_count": null,
   "id": "9dbf1224-eb38-4642-8d2b-cc4a2bc382bb",
   "metadata": {},
   "outputs": [
    {
     "data": {
      "text/plain": [
       "dict_keys(['plbl2data_idx', 'plbl2data_data2ptr', 'lbl2data_idx', 'lbl2data_identifier', 'lbl2data_input_text', 'lbl2data_input_ids', 'lbl2data_attention_mask', 'lbl2data_data2ptr', 'plnk2data_idx', 'plnk2data_data2ptr', 'lnk2data_idx', 'lnk2data_identifier', 'lnk2data_input_text', 'lnk2data_input_ids', 'lnk2data_attention_mask', 'lnk2data_data2ptr', 'data_identifier', 'data_input_text', 'data_input_ids', 'data_attention_mask', 'data_idx', 'lnk2lbl2data_idx', 'lnk2lbl2data_identifier', 'lnk2lbl2data_input_text', 'lnk2lbl2data_input_ids', 'lnk2lbl2data_attention_mask', 'lnk2lbl2data_data2ptr', 'lnk2lbl2data_lbl2data2ptr'])"
      ]
     },
     "execution_count": null,
     "metadata": {},
     "output_type": "execute_result"
    }
   ],
   "source": [
    "batch.keys()"
   ]
  },
  {
   "cell_type": "code",
   "execution_count": null,
   "id": "3a6b5a6e-e9c3-4582-aa95-3ffbf798e83b",
   "metadata": {},
   "outputs": [],
   "source": []
  },
  {
   "cell_type": "code",
   "execution_count": null,
   "id": "0a7822aa-b7f7-4cb9-921e-02ff75a9aabc",
   "metadata": {},
   "outputs": [],
   "source": [
    "o = model(**b.to(model.device))"
   ]
  },
  {
   "cell_type": "code",
   "execution_count": null,
   "id": "ea18196c-0e8e-4486-8455-60036215d335",
   "metadata": {},
   "outputs": [],
   "source": [
    "o.loss"
   ]
  },
  {
   "cell_type": "code",
   "execution_count": null,
   "id": "8684774b-ff2c-42cc-926d-a37ecdea9072",
   "metadata": {},
   "outputs": [],
   "source": []
  },
  {
   "cell_type": "code",
   "execution_count": null,
   "id": "5fce11fd-11f2-4406-a63d-0042a724ae30",
   "metadata": {},
   "outputs": [],
   "source": [
    "def func():\n",
    "    import pdb; pdb.set_trace()\n",
    "    return model(**b.to(model.device))"
   ]
  },
  {
   "cell_type": "code",
   "execution_count": null,
   "id": "1eba38fd-7d4a-4780-bc33-3e634c459f5e",
   "metadata": {},
   "outputs": [
    {
     "name": "stdout",
     "output_type": "stream",
     "text": [
      "> /tmp/ipykernel_843/1795951242.py(3)func()\n",
      "      1 def func():\n",
      "      2     import pdb; pdb.set_trace()\n",
      "----> 3     return model(**b.to(model.device))\n",
      "\n"
     ]
    },
    {
     "name": "stdin",
     "output_type": "stream",
     "text": [
      "ipdb>  b model.forward\n"
     ]
    },
    {
     "name": "stdout",
     "output_type": "stream",
     "text": [
      "Breakpoint 1 at /tmp/ipykernel_843/2142014626.py:39\n"
     ]
    },
    {
     "name": "stdin",
     "output_type": "stream",
     "text": [
      "ipdb>  b model.encoder.forward\n"
     ]
    },
    {
     "name": "stdout",
     "output_type": "stream",
     "text": [
      "Breakpoint 2 at /tmp/ipykernel_843/2257606702.py:41\n"
     ]
    },
    {
     "name": "stdin",
     "output_type": "stream",
     "text": [
      "ipdb>  c\n"
     ]
    },
    {
     "name": "stdout",
     "output_type": "stream",
     "text": [
      "> /tmp/ipykernel_843/2142014626.py(54)forward()\n",
      "     52         **kwargs\n",
      "     53     ):  \n",
      "---> 54         return_dict = return_dict if return_dict is not None else self.config.use_return_dict\n",
      "     55 \n",
      "     56         if self.use_encoder_parallel:\n",
      "\n"
     ]
    },
    {
     "name": "stdin",
     "output_type": "stream",
     "text": [
      "ipdb>  n\n"
     ]
    },
    {
     "name": "stdout",
     "output_type": "stream",
     "text": [
      "> /tmp/ipykernel_843/2142014626.py(56)forward()\n",
      "     54         return_dict = return_dict if return_dict is not None else self.config.use_return_dict\n",
      "     55 \n",
      "---> 56         if self.use_encoder_parallel:\n",
      "     57             encoder = XCDataParallel(module=self.encoder)\n",
      "     58         else: encoder = self.encoder\n",
      "\n"
     ]
    },
    {
     "name": "stdin",
     "output_type": "stream",
     "text": [
      "ipdb>  \n"
     ]
    },
    {
     "name": "stdout",
     "output_type": "stream",
     "text": [
      "> /tmp/ipykernel_843/2142014626.py(58)forward()\n",
      "     56         if self.use_encoder_parallel:\n",
      "     57             encoder = XCDataParallel(module=self.encoder)\n",
      "---> 58         else: encoder = self.encoder\n",
      "     59 \n",
      "     60         data_meta_kwargs = self._get_encoder_meta_kwargs('data', self.data_aug_meta_prefix, **kwargs)\n",
      "\n"
     ]
    },
    {
     "name": "stdin",
     "output_type": "stream",
     "text": [
      "ipdb>  \n"
     ]
    },
    {
     "name": "stdout",
     "output_type": "stream",
     "text": [
      "> /tmp/ipykernel_843/2142014626.py(60)forward()\n",
      "     58         else: encoder = self.encoder\n",
      "     59 \n",
      "---> 60         data_meta_kwargs = self._get_encoder_meta_kwargs('data', self.data_aug_meta_prefix, **kwargs)\n",
      "     61         data_o = encoder(data_input_ids=data_input_ids, data_attention_mask=data_attention_mask, \n",
      "     62                          data_aug_meta_prefix=self.data_aug_meta_prefix, **data_meta_kwargs)\n",
      "\n"
     ]
    },
    {
     "name": "stdin",
     "output_type": "stream",
     "text": [
      "ipdb>  \n"
     ]
    },
    {
     "name": "stdout",
     "output_type": "stream",
     "text": [
      "> /tmp/ipykernel_843/2142014626.py(61)forward()\n",
      "     59 \n",
      "     60         data_meta_kwargs = self._get_encoder_meta_kwargs('data', self.data_aug_meta_prefix, **kwargs)\n",
      "---> 61         data_o = encoder(data_input_ids=data_input_ids, data_attention_mask=data_attention_mask, \n",
      "     62                          data_aug_meta_prefix=self.data_aug_meta_prefix, **data_meta_kwargs)\n",
      "     63 \n",
      "\n"
     ]
    },
    {
     "name": "stdin",
     "output_type": "stream",
     "text": [
      "ipdb>  data_meta_kwargs.keys()\n"
     ]
    },
    {
     "name": "stdout",
     "output_type": "stream",
     "text": [
      "dict_keys(['lnk2data_idx', 'lnk2data_data2ptr', 'lnk2data_meta_repr'])\n"
     ]
    },
    {
     "name": "stdin",
     "output_type": "stream",
     "text": [
      "ipdb>  c\n"
     ]
    },
    {
     "name": "stdout",
     "output_type": "stream",
     "text": [
      "> /tmp/ipykernel_843/2257606702.py(50)forward()\n",
      "     48         **kwargs\n",
      "     49     ):  \n",
      "---> 50         data_repr = self.encode(data_input_ids, data_attention_mask)\n",
      "     51 \n",
      "     52         data_fused_repr = meta_repr = None\n",
      "\n"
     ]
    },
    {
     "name": "stdin",
     "output_type": "stream",
     "text": [
      "ipdb>  n\n"
     ]
    },
    {
     "name": "stdout",
     "output_type": "stream",
     "text": [
      "> /tmp/ipykernel_843/2257606702.py(52)forward()\n",
      "     50         data_repr = self.encode(data_input_ids, data_attention_mask)\n",
      "     51 \n",
      "---> 52         data_fused_repr = meta_repr = None\n",
      "     53         if data_aug_meta_prefix is not None:\n",
      "     54             meta_kwargs = Parameters.from_meta_aug_prefix(data_aug_meta_prefix, **kwargs)\n",
      "\n"
     ]
    },
    {
     "name": "stdin",
     "output_type": "stream",
     "text": [
      "ipdb>  data_repr.shape\n"
     ]
    },
    {
     "name": "stdout",
     "output_type": "stream",
     "text": [
      "torch.Size([5, 768])\n"
     ]
    },
    {
     "name": "stdin",
     "output_type": "stream",
     "text": [
      "ipdb>  n\n"
     ]
    },
    {
     "name": "stdout",
     "output_type": "stream",
     "text": [
      "> /tmp/ipykernel_843/2257606702.py(53)forward()\n",
      "     51 \n",
      "     52         data_fused_repr = meta_repr = None\n",
      "---> 53         if data_aug_meta_prefix is not None:\n",
      "     54             meta_kwargs = Parameters.from_meta_aug_prefix(data_aug_meta_prefix, **kwargs)\n",
      "     55             if len(meta_kwargs):\n",
      "\n"
     ]
    },
    {
     "name": "stdin",
     "output_type": "stream",
     "text": [
      "ipdb>  \n"
     ]
    },
    {
     "name": "stdout",
     "output_type": "stream",
     "text": [
      "> /tmp/ipykernel_843/2257606702.py(54)forward()\n",
      "     52         data_fused_repr = meta_repr = None\n",
      "     53         if data_aug_meta_prefix is not None:\n",
      "---> 54             meta_kwargs = Parameters.from_meta_aug_prefix(data_aug_meta_prefix, **kwargs)\n",
      "     55             if len(meta_kwargs):\n",
      "     56                 data_fused_repr, meta_repr = self.fuse_meta_into_embeddings(data_repr, meta_kwargs)\n",
      "\n"
     ]
    },
    {
     "name": "stdin",
     "output_type": "stream",
     "text": [
      "ipdb>  \n"
     ]
    },
    {
     "name": "stdout",
     "output_type": "stream",
     "text": [
      "> /tmp/ipykernel_843/2257606702.py(55)forward()\n",
      "     53         if data_aug_meta_prefix is not None:\n",
      "     54             meta_kwargs = Parameters.from_meta_aug_prefix(data_aug_meta_prefix, **kwargs)\n",
      "---> 55             if len(meta_kwargs):\n",
      "     56                 data_fused_repr, meta_repr = self.fuse_meta_into_embeddings(data_repr, meta_kwargs)\n",
      "     57                 data_fused_repr = self.dr(data_fused_repr)\n",
      "\n"
     ]
    },
    {
     "name": "stdin",
     "output_type": "stream",
     "text": [
      "ipdb>  \n"
     ]
    },
    {
     "name": "stdout",
     "output_type": "stream",
     "text": [
      "> /tmp/ipykernel_843/2257606702.py(56)forward()\n",
      "     54             meta_kwargs = Parameters.from_meta_aug_prefix(data_aug_meta_prefix, **kwargs)\n",
      "     55             if len(meta_kwargs):\n",
      "---> 56                 data_fused_repr, meta_repr = self.fuse_meta_into_embeddings(data_repr, meta_kwargs)\n",
      "     57                 data_fused_repr = self.dr(data_fused_repr)\n",
      "     58 \n",
      "\n"
     ]
    },
    {
     "name": "stdin",
     "output_type": "stream",
     "text": [
      "ipdb>  s\n"
     ]
    },
    {
     "name": "stdout",
     "output_type": "stream",
     "text": [
      "--Call--\n",
      "> /tmp/ipykernel_843/2257606702.py(25)fuse_meta_into_embeddings()\n",
      "     23         return F.normalize(self.dr_head(embed), dim=1)\n",
      "     24 \n",
      "---> 25     def fuse_meta_into_embeddings(self, embed:torch.Tensor, meta_kwargs:Dict):\n",
      "     26         meta_repr, bsz = {}, embed.size(0)\n",
      "     27 \n",
      "\n"
     ]
    },
    {
     "name": "stdin",
     "output_type": "stream",
     "text": [
      "ipdb>  n\n"
     ]
    },
    {
     "name": "stdout",
     "output_type": "stream",
     "text": [
      "> /tmp/ipykernel_843/2257606702.py(26)fuse_meta_into_embeddings()\n",
      "     24 \n",
      "     25     def fuse_meta_into_embeddings(self, embed:torch.Tensor, meta_kwargs:Dict):\n",
      "---> 26         meta_repr, bsz = {}, embed.size(0)\n",
      "     27 \n",
      "     28         for m_key, m_args in meta_kwargs.items():\n",
      "\n"
     ]
    },
    {
     "name": "stdin",
     "output_type": "stream",
     "text": [
      "ipdb>  \n"
     ]
    },
    {
     "name": "stdout",
     "output_type": "stream",
     "text": [
      "> /tmp/ipykernel_843/2257606702.py(28)fuse_meta_into_embeddings()\n",
      "     26         meta_repr, bsz = {}, embed.size(0)\n",
      "     27 \n",
      "---> 28         for m_key, m_args in meta_kwargs.items():\n",
      "     29             n_meta = m_args['data2ptr'].max()\n",
      "     30             assert torch.all(m_args['data2ptr'] == n_meta), f'All datapoints should have same number of metadata.'\n",
      "\n"
     ]
    },
    {
     "name": "stdin",
     "output_type": "stream",
     "text": [
      "ipdb>  \n"
     ]
    },
    {
     "name": "stdout",
     "output_type": "stream",
     "text": [
      "> /tmp/ipykernel_843/2257606702.py(29)fuse_meta_into_embeddings()\n",
      "     27 \n",
      "     28         for m_key, m_args in meta_kwargs.items():\n",
      "---> 29             n_meta = m_args['data2ptr'].max()\n",
      "     30             assert torch.all(m_args['data2ptr'] == n_meta), f'All datapoints should have same number of metadata.'\n",
      "     31 \n",
      "\n"
     ]
    },
    {
     "name": "stdin",
     "output_type": "stream",
     "text": [
      "ipdb>  \n"
     ]
    },
    {
     "name": "stdout",
     "output_type": "stream",
     "text": [
      "> /tmp/ipykernel_843/2257606702.py(30)fuse_meta_into_embeddings()\n",
      "     28         for m_key, m_args in meta_kwargs.items():\n",
      "     29             n_meta = m_args['data2ptr'].max()\n",
      "---> 30             assert torch.all(m_args['data2ptr'] == n_meta), f'All datapoints should have same number of metadata.'\n",
      "     31 \n",
      "     32             m_embed = m_args['meta_repr']\n",
      "\n"
     ]
    },
    {
     "name": "stdin",
     "output_type": "stream",
     "text": [
      "ipdb>  n_meta\n"
     ]
    },
    {
     "name": "stdout",
     "output_type": "stream",
     "text": [
      "tensor(3, device='cuda:0')\n"
     ]
    },
    {
     "name": "stdin",
     "output_type": "stream",
     "text": [
      "ipdb>  n\n"
     ]
    },
    {
     "name": "stdout",
     "output_type": "stream",
     "text": [
      "> /tmp/ipykernel_843/2257606702.py(32)fuse_meta_into_embeddings()\n",
      "     30             assert torch.all(m_args['data2ptr'] == n_meta), f'All datapoints should have same number of metadata.'\n",
      "     31 \n",
      "---> 32             m_embed = m_args['meta_repr']\n",
      "     33             meta_repr[m_key] = m_embed\n",
      "     34 \n",
      "\n"
     ]
    },
    {
     "name": "stdin",
     "output_type": "stream",
     "text": [
      "ipdb>  \n"
     ]
    },
    {
     "name": "stdout",
     "output_type": "stream",
     "text": [
      "> /tmp/ipykernel_843/2257606702.py(33)fuse_meta_into_embeddings()\n",
      "     31 \n",
      "     32             m_embed = m_args['meta_repr']\n",
      "---> 33             meta_repr[m_key] = m_embed\n",
      "     34 \n",
      "     35             m_embed = m_embed.view(bsz, -1, self.config.dim)\n",
      "\n"
     ]
    },
    {
     "name": "stdin",
     "output_type": "stream",
     "text": [
      "ipdb>  m_embed.shape\n"
     ]
    },
    {
     "name": "stdout",
     "output_type": "stream",
     "text": [
      "torch.Size([15, 768])\n"
     ]
    },
    {
     "name": "stdin",
     "output_type": "stream",
     "text": [
      "ipdb>  n\n"
     ]
    },
    {
     "name": "stdout",
     "output_type": "stream",
     "text": [
      "> /tmp/ipykernel_843/2257606702.py(35)fuse_meta_into_embeddings()\n",
      "     33             meta_repr[m_key] = m_embed\n",
      "     34 \n",
      "---> 35             m_embed = m_embed.view(bsz, -1, self.config.dim)\n",
      "     36             fused_embed = self.cross_head(embed, m_embed)\n",
      "     37             embed = embed + fused_embed\n",
      "\n"
     ]
    },
    {
     "name": "stdin",
     "output_type": "stream",
     "text": [
      "ipdb>  \n"
     ]
    },
    {
     "name": "stdout",
     "output_type": "stream",
     "text": [
      "> /tmp/ipykernel_843/2257606702.py(36)fuse_meta_into_embeddings()\n",
      "     34 \n",
      "     35             m_embed = m_embed.view(bsz, -1, self.config.dim)\n",
      "---> 36             fused_embed = self.cross_head(embed, m_embed)\n",
      "     37             embed = embed + fused_embed\n",
      "     38 \n",
      "\n"
     ]
    },
    {
     "name": "stdin",
     "output_type": "stream",
     "text": [
      "ipdb>  m_embed.shape\n"
     ]
    },
    {
     "name": "stdout",
     "output_type": "stream",
     "text": [
      "torch.Size([5, 3, 768])\n"
     ]
    },
    {
     "name": "stdin",
     "output_type": "stream",
     "text": [
      "ipdb>  n\n"
     ]
    },
    {
     "name": "stdout",
     "output_type": "stream",
     "text": [
      "> /tmp/ipykernel_843/2257606702.py(37)fuse_meta_into_embeddings()\n",
      "     35             m_embed = m_embed.view(bsz, -1, self.config.dim)\n",
      "     36             fused_embed = self.cross_head(embed, m_embed)\n",
      "---> 37             embed = embed + fused_embed\n",
      "     38 \n",
      "     39         return embed, meta_repr\n",
      "\n"
     ]
    },
    {
     "name": "stdin",
     "output_type": "stream",
     "text": [
      "ipdb>  embed.shape\n"
     ]
    },
    {
     "name": "stdout",
     "output_type": "stream",
     "text": [
      "torch.Size([5, 768])\n"
     ]
    },
    {
     "name": "stdin",
     "output_type": "stream",
     "text": [
      "ipdb>  m_embed.shape\n"
     ]
    },
    {
     "name": "stdout",
     "output_type": "stream",
     "text": [
      "torch.Size([5, 3, 768])\n"
     ]
    },
    {
     "name": "stdin",
     "output_type": "stream",
     "text": [
      "ipdb>  n\n"
     ]
    },
    {
     "name": "stdout",
     "output_type": "stream",
     "text": [
      "> /tmp/ipykernel_843/2257606702.py(28)fuse_meta_into_embeddings()\n",
      "     26         meta_repr, bsz = {}, embed.size(0)\n",
      "     27 \n",
      "---> 28         for m_key, m_args in meta_kwargs.items():\n",
      "     29             n_meta = m_args['data2ptr'].max()\n",
      "     30             assert torch.all(m_args['data2ptr'] == n_meta), f'All datapoints should have same number of metadata.'\n",
      "\n"
     ]
    },
    {
     "name": "stdin",
     "output_type": "stream",
     "text": [
      "ipdb>  \n"
     ]
    },
    {
     "name": "stdout",
     "output_type": "stream",
     "text": [
      "> /tmp/ipykernel_843/2257606702.py(39)fuse_meta_into_embeddings()\n",
      "     37             embed = embed + fused_embed\n",
      "     38 \n",
      "---> 39         return embed, meta_repr\n",
      "     40 \n",
      "2    41     def forward(\n",
      "\n"
     ]
    },
    {
     "name": "stdin",
     "output_type": "stream",
     "text": [
      "ipdb>  \n"
     ]
    },
    {
     "name": "stdout",
     "output_type": "stream",
     "text": [
      "--Return--\n",
      "(tensor([[ 0.4...AddBackward0>), {'lnk2data': tensor([[1., ...ingBackward0>)})\n",
      "> /tmp/ipykernel_843/2257606702.py(39)fuse_meta_into_embeddings()\n",
      "     37             embed = embed + fused_embed\n",
      "     38 \n",
      "---> 39         return embed, meta_repr\n",
      "     40 \n",
      "2    41     def forward(\n",
      "\n"
     ]
    },
    {
     "name": "stdin",
     "output_type": "stream",
     "text": [
      "ipdb>  \n"
     ]
    },
    {
     "name": "stdout",
     "output_type": "stream",
     "text": [
      "> /tmp/ipykernel_843/2257606702.py(57)forward()\n",
      "     55             if len(meta_kwargs):\n",
      "     56                 data_fused_repr, meta_repr = self.fuse_meta_into_embeddings(data_repr, meta_kwargs)\n",
      "---> 57                 data_fused_repr = self.dr(data_fused_repr)\n",
      "     58 \n",
      "     59         data_repr = F.normalize(data_repr, dim=1)\n",
      "\n"
     ]
    },
    {
     "name": "stdin",
     "output_type": "stream",
     "text": [
      "ipdb>  \n"
     ]
    },
    {
     "name": "stdout",
     "output_type": "stream",
     "text": [
      "> /tmp/ipykernel_843/2257606702.py(59)forward()\n",
      "     57                 data_fused_repr = self.dr(data_fused_repr)\n",
      "     58 \n",
      "---> 59         data_repr = F.normalize(data_repr, dim=1)\n",
      "     60 \n",
      "     61         return EncoderOutput(\n",
      "\n"
     ]
    },
    {
     "name": "stdin",
     "output_type": "stream",
     "text": [
      "ipdb>  \n"
     ]
    },
    {
     "name": "stdout",
     "output_type": "stream",
     "text": [
      "> /tmp/ipykernel_843/2257606702.py(61)forward()\n",
      "     59         data_repr = F.normalize(data_repr, dim=1)\n",
      "     60 \n",
      "---> 61         return EncoderOutput(\n",
      "     62             rep=data_repr,\n",
      "     63             fused_rep=data_fused_repr,\n",
      "\n"
     ]
    },
    {
     "name": "stdin",
     "output_type": "stream",
     "text": [
      "ipdb>  c\n"
     ]
    },
    {
     "name": "stdout",
     "output_type": "stream",
     "text": [
      "> /tmp/ipykernel_843/2257606702.py(50)forward()\n",
      "     48         **kwargs\n",
      "     49     ):  \n",
      "---> 50         data_repr = self.encode(data_input_ids, data_attention_mask)\n",
      "     51 \n",
      "     52         data_fused_repr = meta_repr = None\n",
      "\n"
     ]
    },
    {
     "name": "stdin",
     "output_type": "stream",
     "text": [
      "ipdb>  c\n"
     ]
    },
    {
     "name": "stderr",
     "output_type": "stream",
     "text": [
      "/scratch/scai/phd/aiz218323/Projects/xcai/xcai/losses.py:22: UserWarning: Sparse CSR tensor support is in beta state. If you miss a functionality in the sparse tensor support, please submit a feature request to https://github.com/pytorch/pytorch/issues. (Triggered internally at ../aten/src/ATen/SparseCsrTensorImpl.cpp:53.)\n",
      "  return torch.sparse_csr_tensor(data_ptr, data_idx, scores, device=data_ptr.device)\n"
     ]
    },
    {
     "name": "stdout",
     "output_type": "stream",
     "text": [
      "    [... skipped 1 hidden frame]\n",
      "\n",
      "    [... skipped 1 hidden frame]\n",
      "\n",
      "    [... skipped 1 hidden frame]\n",
      "\n",
      "    [... skipped 1 hidden frame]\n",
      "\n"
     ]
    }
   ],
   "source": [
    "o = func()"
   ]
  },
  {
   "cell_type": "markdown",
   "id": "57fc4ba2-6501-48d6-a967-050b616bb12b",
   "metadata": {},
   "source": [
    "## `OAK005`"
   ]
  },
  {
   "cell_type": "code",
   "execution_count": 96,
   "id": "f6e974de-b0ea-48f7-ae5a-683bdb77da8a",
   "metadata": {},
   "outputs": [],
   "source": [
    "#| export\n",
    "class Encoder005(Encoder003):\n",
    "    \n",
    "    def __init__(\n",
    "        self, \n",
    "        config:PretrainedConfig, \n",
    "    ):\n",
    "        super().__init__(config)\n",
    "        self.alpha = nn.Parameter(torch.ones(1))\n",
    "\n",
    "    def fuse_meta_into_embeddings(self, embed:torch.Tensor, meta_kwargs:Dict):\n",
    "        meta_repr, bsz = {}, embed.size(0)\n",
    "        \n",
    "        for m_key, m_args in meta_kwargs.items():\n",
    "            n_meta = m_args['data2ptr'].max()\n",
    "            assert torch.all(m_args['data2ptr'] == n_meta), f'All datapoints should have same number of metadata.'\n",
    "            \n",
    "            m_input_ids, m_attention_mask = m_args['input_ids'], m_args['attention_mask']\n",
    "            m_embed = self.meta_encode(input_ids=m_input_ids, attention_mask=m_attention_mask)\n",
    "            m_embed = m_embed + m_args['meta_repr'] * self.alpha\n",
    "            \n",
    "            meta_repr[m_key] = m_embed\n",
    "                    \n",
    "            m_embed = m_embed.view(bsz, -1, self.config.dim)  \n",
    "            fused_embed = self.cross_head(embed, m_embed)\n",
    "            embed = embed + fused_embed\n",
    "               \n",
    "        return embed, meta_repr\n",
    "        "
   ]
  },
  {
   "cell_type": "code",
   "execution_count": 97,
   "id": "5ac14434-f100-4ebc-9bb7-cf6cac08c8a7",
   "metadata": {},
   "outputs": [],
   "source": [
    "#| export\n",
    "class OAK005(OAK000, DistilBertPreTrainedModel):\n",
    "    use_generation,use_representation = False,True\n",
    "    _tied_weights_keys = [\"encoder.dr_distilbert\"]\n",
    "    _keys_to_ignore_on_load_missing = [\"encoder.meta_distilbert\"]\n",
    "\n",
    "    @delegates(OAK000.__init__)\n",
    "    def __init__(self, config, num_metadata:int, num_metadata_clusters:int, do_meta_embed_sparse:Optional[bool]=True, **kwargs):\n",
    "        super().__init__(config, **kwargs)\n",
    "        self.encoder = Encoder005(config)\n",
    "        \n",
    "        self.meta_embeddings = nn.Embedding(num_metadata_clusters, config.dim, sparse=do_meta_embed_sparse)\n",
    "        self.register_buffer(\"metadata_cluster_mapping\", torch.arange(num_metadata)%num_metadata_clusters, persistent=True)\n",
    "        \n",
    "        self.post_init(); self.remap_post_init();\n",
    "\n",
    "    def init_meta_embeddings(self):\n",
    "        torch.nn.init.zeros_(self.meta_embeddings.weight)\n",
    "\n",
    "    def set_meta_embeddings(self, embed:torch.Tensor):\n",
    "        with torch.no_grad():\n",
    "            self.meta_embeddings.weight.copy_(embed)\n",
    "\n",
    "    def set_metadata_cluster_mapping(self, metadata_cluster_mapping:torch.Tensor):\n",
    "        if metadata_cluster_mapping.shape[0] != self.metadata_cluster_mapping.shape[0]:\n",
    "            raise ValueError(f'Shape mismatch, `metadata_cluster_mapping` should have {self.metadata_cluster_mapping.shape[0]} elements.')\n",
    "        with torch.no_grad():\n",
    "            self.metadata_cluster_mapping.copy_(metadata_cluster_mapping)\n",
    "\n",
    "    def init_retrieval_head(self):\n",
    "        self.encoder.dr_head.post_init()\n",
    "\n",
    "    def init_meta_encoder(self):\n",
    "        self.encoder.init_meta_encoder()\n",
    "\n",
    "    def remap_post_init(self):\n",
    "        self.distilbert = self.encoder.dr_distilbert\n",
    "\n",
    "    def _get_encoder_meta_kwargs(self, feat:str, prefix:str, **kwargs):\n",
    "        meta_kwargs = Parameters.from_feat_meta_aug_prefix(feat, prefix, **kwargs)\n",
    "        if f'{prefix}_idx' in meta_kwargs:\n",
    "            m_idx = meta_kwargs[f'{prefix}_idx']\n",
    "            if len(m_idx): meta_kwargs[f'{prefix}_meta_repr'] = self.meta_embeddings(self.metadata_cluster_mapping[m_idx])\n",
    "        return meta_kwargs\n",
    "\n",
    "    def forward(\n",
    "        self,\n",
    "        data_input_ids:Optional[torch.Tensor]=None,\n",
    "        data_attention_mask:Optional[torch.Tensor]=None,\n",
    "        lbl2data_data2ptr:Optional[torch.Tensor]=None,\n",
    "        lbl2data_idx:Optional[torch.Tensor]=None,\n",
    "        lbl2data_input_ids:Optional[torch.Tensor]=None,\n",
    "        lbl2data_attention_mask:Optional[torch.Tensor]=None,\n",
    "        plbl2data_data2ptr:Optional[torch.Tensor]=None,\n",
    "        plbl2data_idx:Optional[torch.Tensor]=None,\n",
    "        output_attentions: Optional[bool] = None,\n",
    "        output_hidden_states: Optional[bool] = None,\n",
    "        return_dict: Optional[bool] = None,\n",
    "        **kwargs\n",
    "    ):  \n",
    "        return_dict = return_dict if return_dict is not None else self.config.use_return_dict\n",
    "        \n",
    "        if self.use_encoder_parallel: \n",
    "            encoder = XCDataParallel(module=self.encoder)\n",
    "        else: encoder = self.encoder\n",
    "        \n",
    "        data_meta_kwargs = self._get_encoder_meta_kwargs('data', self.data_aug_meta_prefix, **kwargs)\n",
    "        data_o = encoder(data_input_ids=data_input_ids, data_attention_mask=data_attention_mask, \n",
    "                         data_aug_meta_prefix=self.data_aug_meta_prefix, **data_meta_kwargs)\n",
    "        \n",
    "        \n",
    "        loss = None; lbl2data_o = EncoderOutput()\n",
    "        if lbl2data_input_ids is not None:\n",
    "            lbl2data_meta_kwargs = self._get_encoder_meta_kwargs('lbl2data', self.lbl2data_aug_meta_prefix, **kwargs)\n",
    "            lbl2data_o = encoder(data_input_ids=lbl2data_input_ids, data_attention_mask=lbl2data_attention_mask, \n",
    "                                 data_aug_meta_prefix=self.lbl2data_aug_meta_prefix, **lbl2data_meta_kwargs)\n",
    "            \n",
    "            loss = self.compute_loss(data_o.fused_rep, lbl2data_o.rep,lbl2data_data2ptr,lbl2data_idx,\n",
    "                                     plbl2data_data2ptr,plbl2data_idx)\n",
    "\n",
    "            if self.use_query_loss:\n",
    "                loss += self.compute_loss(data_o.rep, lbl2data_o.rep,lbl2data_data2ptr,lbl2data_idx,\n",
    "                                          plbl2data_data2ptr,plbl2data_idx)\n",
    "\n",
    "            if self.use_calib_loss:\n",
    "                loss += self.calibration_loss(data_o.fused_rep, data_o.rep, lbl2data_o.rep,lbl2data_data2ptr,lbl2data_idx,\n",
    "                                              plbl2data_data2ptr,plbl2data_idx)\n",
    "                \n",
    "        if not return_dict:\n",
    "            o = (data_o.logits,data_o.rep,data_o.fused_rep,lbl2data_o.logits,lbl2data_o.rep,lbl2data_o.fused_rep)\n",
    "            return ((loss,) + o) if loss is not None else o\n",
    "        \n",
    "        \n",
    "        return XCModelOutput(\n",
    "            loss=loss,\n",
    "            \n",
    "            data_repr=data_o.rep,\n",
    "            data_fused_repr=data_o.fused_rep,\n",
    "            \n",
    "            lbl2data_repr=lbl2data_o.rep,\n",
    "            lbl2data_fused_repr=lbl2data_o.fused_rep,\n",
    "        )\n",
    "        "
   ]
  },
  {
   "cell_type": "markdown",
   "id": "842a286b-9f77-449d-b7da-d5312a7a3701",
   "metadata": {},
   "source": [
    "### Example"
   ]
  },
  {
   "cell_type": "code",
   "execution_count": 98,
   "id": "140ecaf9-c8df-4bf7-a9dc-478ac82b498d",
   "metadata": {},
   "outputs": [],
   "source": [
    "from xcai.core import prepare_batch"
   ]
  },
  {
   "cell_type": "code",
   "execution_count": null,
   "id": "a4705290-9348-4a48-8015-fa5a73656e3b",
   "metadata": {},
   "outputs": [],
   "source": []
  },
  {
   "cell_type": "code",
   "execution_count": 99,
   "id": "84a46c6d-b301-49d7-89c8-c34f8920fbe3",
   "metadata": {},
   "outputs": [],
   "source": [
    "meta_name = 'lnk'"
   ]
  },
  {
   "cell_type": "code",
   "execution_count": 100,
   "id": "e08584cc-4415-4985-8907-cb3c47e6de8f",
   "metadata": {},
   "outputs": [],
   "source": [
    "n_clusters = block.train.dset.meta[f'{meta_name}_meta'].n_meta // 3\n",
    "meta_cluster_mapping = torch.arange(block.train.dset.meta[f'{meta_name}_meta'].n_meta) % n_clusters"
   ]
  },
  {
   "cell_type": "code",
   "execution_count": 101,
   "id": "738494c3-2844-4de0-a9bf-2aeee975f4d3",
   "metadata": {},
   "outputs": [
    {
     "name": "stderr",
     "output_type": "stream",
     "text": [
      "Some weights of OAK005 were not initialized from the model checkpoint at sentence-transformers/msmarco-distilbert-base-v4 and are newly initialized: ['encoder.alpha', 'encoder.cross_head.k.bias', 'encoder.cross_head.k.weight', 'encoder.cross_head.o.bias', 'encoder.cross_head.o.weight', 'encoder.cross_head.q.bias', 'encoder.cross_head.q.weight', 'encoder.cross_head.v.bias', 'encoder.cross_head.v.weight', 'encoder.dr_head.layer_norm.bias', 'encoder.dr_head.layer_norm.weight', 'encoder.dr_head.projector.bias', 'encoder.dr_head.projector.weight', 'encoder.dr_head.transform.bias', 'encoder.dr_head.transform.weight', 'meta_embeddings.weight', 'metadata_cluster_mapping']\n",
      "You should probably TRAIN this model on a down-stream task to be able to use it for predictions and inference.\n"
     ]
    }
   ],
   "source": [
    "model = OAK005.from_pretrained('sentence-transformers/msmarco-distilbert-base-v4', batch_size=100, num_batch_labels=5000, \n",
    "                               margin=0.3, num_negatives=10, tau=0.1, apply_softmax=True,\n",
    "                               \n",
    "                               data_aug_meta_prefix=f'{meta_name}2data', lbl2data_aug_meta_prefix=None, \n",
    "                               data_pred_meta_prefix=None, lbl2data_pred_meta_prefix=None,\n",
    "\n",
    "                               num_metadata=block.train.dset.meta[f'{meta_name}_meta'].n_meta, num_metadata_clusters=n_clusters,\n",
    "                               \n",
    "                               calib_margin=0.3, calib_num_negatives=10, calib_tau=0.1, calib_apply_softmax=True, \n",
    "                               calib_loss_weight=0.1, use_calib_loss=True,\n",
    "\n",
    "                               use_query_loss=True,\n",
    "                               \n",
    "                               use_encoder_parallel=False, do_meta_embed_sparse=False)\n",
    "model.init_retrieval_head()\n",
    "model.init_meta_encoder()\n",
    "model.init_cross_head()"
   ]
  },
  {
   "cell_type": "code",
   "execution_count": 102,
   "id": "1e4f12c1-ef8a-4be2-a587-4deee02bb2e5",
   "metadata": {},
   "outputs": [],
   "source": [
    "model.init_meta_embeddings()\n",
    "model.set_metadata_cluster_mapping(meta_cluster_mapping)"
   ]
  },
  {
   "cell_type": "code",
   "execution_count": null,
   "id": "4b0dfaca-a019-43ce-9366-3809c36394ff",
   "metadata": {},
   "outputs": [],
   "source": []
  },
  {
   "cell_type": "code",
   "execution_count": null,
   "id": "095e6af2-6fb0-4756-bcf5-9ab06b7c6672",
   "metadata": {},
   "outputs": [],
   "source": [
    "model = model.to('cuda')"
   ]
  },
  {
   "cell_type": "code",
   "execution_count": 103,
   "id": "5b51c664-90e7-4826-b229-ac2b29dab399",
   "metadata": {},
   "outputs": [],
   "source": [
    "b = prepare_batch(model, batch, m_args=[\n",
    "    f'p{meta_name}2data_idx', f'p{meta_name}2data_data2ptr', f'{meta_name}2data_idx', f'{meta_name}2data_input_ids', \n",
    "    f'{meta_name}2data_attention_mask', f'{meta_name}2data_data2ptr',\n",
    "])"
   ]
  },
  {
   "cell_type": "code",
   "execution_count": 104,
   "id": "88080641-4147-4a84-bebe-bf53c8a3ee87",
   "metadata": {},
   "outputs": [
    {
     "data": {
      "text/plain": [
       "dict_keys(['data_idx', 'data_identifier', 'data_input_text', 'data_input_ids', 'data_attention_mask', 'plbl2data_idx', 'plbl2data_data2ptr', 'lbl2data_idx', 'lbl2data_data2ptr', 'lbl2data_identifier', 'lbl2data_input_text', 'lbl2data_input_ids', 'lbl2data_attention_mask', 'plnk2data_idx', 'plnk2data_data2ptr', 'lnk2data_idx', 'lnk2data_data2ptr', 'lnk2data_identifier', 'lnk2data_input_text', 'lnk2data_input_ids', 'lnk2data_attention_mask', 'plnk2lbl_idx', 'plnk2lbl_lbl2ptr', 'lnk2lbl_idx', 'lnk2lbl_lbl2ptr', 'lnk2lbl_identifier', 'lnk2lbl_input_text', 'lnk2lbl_input_ids', 'lnk2lbl_attention_mask', 'lnk2lbl_data2ptr', 'plnk2lbl_data2ptr'])"
      ]
     },
     "execution_count": 104,
     "metadata": {},
     "output_type": "execute_result"
    }
   ],
   "source": [
    "batch.keys()"
   ]
  },
  {
   "cell_type": "code",
   "execution_count": null,
   "id": "14189cc1-54e2-42ce-8e9a-f7e968083943",
   "metadata": {},
   "outputs": [],
   "source": []
  },
  {
   "cell_type": "code",
   "execution_count": 106,
   "id": "242d3522-0ff8-4bad-bde2-a5fa013d98b7",
   "metadata": {
    "scrolled": true
   },
   "outputs": [
    {
     "name": "stdout",
     "output_type": "stream",
     "text": [
      "> \u001b[0;32m/tmp/ipykernel_15122/1326464437.py\u001b[0m(61)\u001b[0;36mforward\u001b[0;34m()\u001b[0m\n",
      "\u001b[0;32m     59 \u001b[0;31m        \u001b[0;34m**\u001b[0m\u001b[0mkwargs\u001b[0m\u001b[0;34m\u001b[0m\u001b[0;34m\u001b[0m\u001b[0m\n",
      "\u001b[0m\u001b[0;32m     60 \u001b[0;31m    ):  \n",
      "\u001b[0m\u001b[0;32m---> 61 \u001b[0;31m        \u001b[0mreturn_dict\u001b[0m \u001b[0;34m=\u001b[0m \u001b[0mreturn_dict\u001b[0m \u001b[0;32mif\u001b[0m \u001b[0mreturn_dict\u001b[0m \u001b[0;32mis\u001b[0m \u001b[0;32mnot\u001b[0m \u001b[0;32mNone\u001b[0m \u001b[0;32melse\u001b[0m \u001b[0mself\u001b[0m\u001b[0;34m.\u001b[0m\u001b[0mconfig\u001b[0m\u001b[0;34m.\u001b[0m\u001b[0muse_return_dict\u001b[0m\u001b[0;34m\u001b[0m\u001b[0;34m\u001b[0m\u001b[0m\n",
      "\u001b[0m\u001b[0;32m     62 \u001b[0;31m\u001b[0;34m\u001b[0m\u001b[0m\n",
      "\u001b[0m\u001b[0;32m     63 \u001b[0;31m        \u001b[0;32mif\u001b[0m \u001b[0mself\u001b[0m\u001b[0;34m.\u001b[0m\u001b[0muse_encoder_parallel\u001b[0m\u001b[0;34m:\u001b[0m\u001b[0;34m\u001b[0m\u001b[0;34m\u001b[0m\u001b[0m\n",
      "\u001b[0m\n"
     ]
    },
    {
     "name": "stdin",
     "output_type": "stream",
     "text": [
      "ipdb>  n\n"
     ]
    },
    {
     "name": "stdout",
     "output_type": "stream",
     "text": [
      "> \u001b[0;32m/tmp/ipykernel_15122/1326464437.py\u001b[0m(63)\u001b[0;36mforward\u001b[0;34m()\u001b[0m\n",
      "\u001b[0;32m     61 \u001b[0;31m        \u001b[0mreturn_dict\u001b[0m \u001b[0;34m=\u001b[0m \u001b[0mreturn_dict\u001b[0m \u001b[0;32mif\u001b[0m \u001b[0mreturn_dict\u001b[0m \u001b[0;32mis\u001b[0m \u001b[0;32mnot\u001b[0m \u001b[0;32mNone\u001b[0m \u001b[0;32melse\u001b[0m \u001b[0mself\u001b[0m\u001b[0;34m.\u001b[0m\u001b[0mconfig\u001b[0m\u001b[0;34m.\u001b[0m\u001b[0muse_return_dict\u001b[0m\u001b[0;34m\u001b[0m\u001b[0;34m\u001b[0m\u001b[0m\n",
      "\u001b[0m\u001b[0;32m     62 \u001b[0;31m\u001b[0;34m\u001b[0m\u001b[0m\n",
      "\u001b[0m\u001b[0;32m---> 63 \u001b[0;31m        \u001b[0;32mif\u001b[0m \u001b[0mself\u001b[0m\u001b[0;34m.\u001b[0m\u001b[0muse_encoder_parallel\u001b[0m\u001b[0;34m:\u001b[0m\u001b[0;34m\u001b[0m\u001b[0;34m\u001b[0m\u001b[0m\n",
      "\u001b[0m\u001b[0;32m     64 \u001b[0;31m            \u001b[0mencoder\u001b[0m \u001b[0;34m=\u001b[0m \u001b[0mXCDataParallel\u001b[0m\u001b[0;34m(\u001b[0m\u001b[0mmodule\u001b[0m\u001b[0;34m=\u001b[0m\u001b[0mself\u001b[0m\u001b[0;34m.\u001b[0m\u001b[0mencoder\u001b[0m\u001b[0;34m)\u001b[0m\u001b[0;34m\u001b[0m\u001b[0;34m\u001b[0m\u001b[0m\n",
      "\u001b[0m\u001b[0;32m     65 \u001b[0;31m        \u001b[0;32melse\u001b[0m\u001b[0;34m:\u001b[0m \u001b[0mencoder\u001b[0m \u001b[0;34m=\u001b[0m \u001b[0mself\u001b[0m\u001b[0;34m.\u001b[0m\u001b[0mencoder\u001b[0m\u001b[0;34m\u001b[0m\u001b[0;34m\u001b[0m\u001b[0m\n",
      "\u001b[0m\n"
     ]
    },
    {
     "name": "stdin",
     "output_type": "stream",
     "text": [
      "ipdb>  n\n"
     ]
    },
    {
     "name": "stdout",
     "output_type": "stream",
     "text": [
      "> \u001b[0;32m/tmp/ipykernel_15122/1326464437.py\u001b[0m(65)\u001b[0;36mforward\u001b[0;34m()\u001b[0m\n",
      "\u001b[0;32m     63 \u001b[0;31m        \u001b[0;32mif\u001b[0m \u001b[0mself\u001b[0m\u001b[0;34m.\u001b[0m\u001b[0muse_encoder_parallel\u001b[0m\u001b[0;34m:\u001b[0m\u001b[0;34m\u001b[0m\u001b[0;34m\u001b[0m\u001b[0m\n",
      "\u001b[0m\u001b[0;32m     64 \u001b[0;31m            \u001b[0mencoder\u001b[0m \u001b[0;34m=\u001b[0m \u001b[0mXCDataParallel\u001b[0m\u001b[0;34m(\u001b[0m\u001b[0mmodule\u001b[0m\u001b[0;34m=\u001b[0m\u001b[0mself\u001b[0m\u001b[0;34m.\u001b[0m\u001b[0mencoder\u001b[0m\u001b[0;34m)\u001b[0m\u001b[0;34m\u001b[0m\u001b[0;34m\u001b[0m\u001b[0m\n",
      "\u001b[0m\u001b[0;32m---> 65 \u001b[0;31m        \u001b[0;32melse\u001b[0m\u001b[0;34m:\u001b[0m \u001b[0mencoder\u001b[0m \u001b[0;34m=\u001b[0m \u001b[0mself\u001b[0m\u001b[0;34m.\u001b[0m\u001b[0mencoder\u001b[0m\u001b[0;34m\u001b[0m\u001b[0;34m\u001b[0m\u001b[0m\n",
      "\u001b[0m\u001b[0;32m     66 \u001b[0;31m\u001b[0;34m\u001b[0m\u001b[0m\n",
      "\u001b[0m\u001b[0;32m     67 \u001b[0;31m        \u001b[0mdata_meta_kwargs\u001b[0m \u001b[0;34m=\u001b[0m \u001b[0mself\u001b[0m\u001b[0;34m.\u001b[0m\u001b[0m_get_encoder_meta_kwargs\u001b[0m\u001b[0;34m(\u001b[0m\u001b[0;34m'data'\u001b[0m\u001b[0;34m,\u001b[0m \u001b[0mself\u001b[0m\u001b[0;34m.\u001b[0m\u001b[0mdata_aug_meta_prefix\u001b[0m\u001b[0;34m,\u001b[0m \u001b[0;34m**\u001b[0m\u001b[0mkwargs\u001b[0m\u001b[0;34m)\u001b[0m\u001b[0;34m\u001b[0m\u001b[0;34m\u001b[0m\u001b[0m\n",
      "\u001b[0m\n"
     ]
    },
    {
     "name": "stdin",
     "output_type": "stream",
     "text": [
      "ipdb>  n\n"
     ]
    },
    {
     "name": "stdout",
     "output_type": "stream",
     "text": [
      "> \u001b[0;32m/tmp/ipykernel_15122/1326464437.py\u001b[0m(67)\u001b[0;36mforward\u001b[0;34m()\u001b[0m\n",
      "\u001b[0;32m     65 \u001b[0;31m        \u001b[0;32melse\u001b[0m\u001b[0;34m:\u001b[0m \u001b[0mencoder\u001b[0m \u001b[0;34m=\u001b[0m \u001b[0mself\u001b[0m\u001b[0;34m.\u001b[0m\u001b[0mencoder\u001b[0m\u001b[0;34m\u001b[0m\u001b[0;34m\u001b[0m\u001b[0m\n",
      "\u001b[0m\u001b[0;32m     66 \u001b[0;31m\u001b[0;34m\u001b[0m\u001b[0m\n",
      "\u001b[0m\u001b[0;32m---> 67 \u001b[0;31m        \u001b[0mdata_meta_kwargs\u001b[0m \u001b[0;34m=\u001b[0m \u001b[0mself\u001b[0m\u001b[0;34m.\u001b[0m\u001b[0m_get_encoder_meta_kwargs\u001b[0m\u001b[0;34m(\u001b[0m\u001b[0;34m'data'\u001b[0m\u001b[0;34m,\u001b[0m \u001b[0mself\u001b[0m\u001b[0;34m.\u001b[0m\u001b[0mdata_aug_meta_prefix\u001b[0m\u001b[0;34m,\u001b[0m \u001b[0;34m**\u001b[0m\u001b[0mkwargs\u001b[0m\u001b[0;34m)\u001b[0m\u001b[0;34m\u001b[0m\u001b[0;34m\u001b[0m\u001b[0m\n",
      "\u001b[0m\u001b[0;32m     68 \u001b[0;31m        data_o = encoder(data_input_ids=data_input_ids, data_attention_mask=data_attention_mask, \n",
      "\u001b[0m\u001b[0;32m     69 \u001b[0;31m                         data_aug_meta_prefix=self.data_aug_meta_prefix, **data_meta_kwargs)\n",
      "\u001b[0m\n"
     ]
    },
    {
     "name": "stdin",
     "output_type": "stream",
     "text": [
      "ipdb>  \n"
     ]
    },
    {
     "name": "stdout",
     "output_type": "stream",
     "text": [
      "> \u001b[0;32m/tmp/ipykernel_15122/1326464437.py\u001b[0m(68)\u001b[0;36mforward\u001b[0;34m()\u001b[0m\n",
      "\u001b[0;32m     66 \u001b[0;31m\u001b[0;34m\u001b[0m\u001b[0m\n",
      "\u001b[0m\u001b[0;32m     67 \u001b[0;31m        \u001b[0mdata_meta_kwargs\u001b[0m \u001b[0;34m=\u001b[0m \u001b[0mself\u001b[0m\u001b[0;34m.\u001b[0m\u001b[0m_get_encoder_meta_kwargs\u001b[0m\u001b[0;34m(\u001b[0m\u001b[0;34m'data'\u001b[0m\u001b[0;34m,\u001b[0m \u001b[0mself\u001b[0m\u001b[0;34m.\u001b[0m\u001b[0mdata_aug_meta_prefix\u001b[0m\u001b[0;34m,\u001b[0m \u001b[0;34m**\u001b[0m\u001b[0mkwargs\u001b[0m\u001b[0;34m)\u001b[0m\u001b[0;34m\u001b[0m\u001b[0;34m\u001b[0m\u001b[0m\n",
      "\u001b[0m\u001b[0;32m---> 68 \u001b[0;31m        data_o = encoder(data_input_ids=data_input_ids, data_attention_mask=data_attention_mask, \n",
      "\u001b[0m\u001b[0;32m     69 \u001b[0;31m                         data_aug_meta_prefix=self.data_aug_meta_prefix, **data_meta_kwargs)\n",
      "\u001b[0m\u001b[0;32m     70 \u001b[0;31m\u001b[0;34m\u001b[0m\u001b[0m\n",
      "\u001b[0m\n"
     ]
    },
    {
     "name": "stdin",
     "output_type": "stream",
     "text": [
      "ipdb>  \n"
     ]
    },
    {
     "name": "stdout",
     "output_type": "stream",
     "text": [
      "> \u001b[0;32m/tmp/ipykernel_15122/1326464437.py\u001b[0m(69)\u001b[0;36mforward\u001b[0;34m()\u001b[0m\n",
      "\u001b[0;32m     67 \u001b[0;31m        \u001b[0mdata_meta_kwargs\u001b[0m \u001b[0;34m=\u001b[0m \u001b[0mself\u001b[0m\u001b[0;34m.\u001b[0m\u001b[0m_get_encoder_meta_kwargs\u001b[0m\u001b[0;34m(\u001b[0m\u001b[0;34m'data'\u001b[0m\u001b[0;34m,\u001b[0m \u001b[0mself\u001b[0m\u001b[0;34m.\u001b[0m\u001b[0mdata_aug_meta_prefix\u001b[0m\u001b[0;34m,\u001b[0m \u001b[0;34m**\u001b[0m\u001b[0mkwargs\u001b[0m\u001b[0;34m)\u001b[0m\u001b[0;34m\u001b[0m\u001b[0;34m\u001b[0m\u001b[0m\n",
      "\u001b[0m\u001b[0;32m     68 \u001b[0;31m        data_o = encoder(data_input_ids=data_input_ids, data_attention_mask=data_attention_mask, \n",
      "\u001b[0m\u001b[0;32m---> 69 \u001b[0;31m                         data_aug_meta_prefix=self.data_aug_meta_prefix, **data_meta_kwargs)\n",
      "\u001b[0m\u001b[0;32m     70 \u001b[0;31m\u001b[0;34m\u001b[0m\u001b[0m\n",
      "\u001b[0m\u001b[0;32m     71 \u001b[0;31m\u001b[0;34m\u001b[0m\u001b[0m\n",
      "\u001b[0m\n"
     ]
    },
    {
     "name": "stdin",
     "output_type": "stream",
     "text": [
      "ipdb>  c\n"
     ]
    },
    {
     "name": "stdout",
     "output_type": "stream",
     "text": [
      "> \u001b[0;32m/tmp/ipykernel_15122/1379713280.py\u001b[0m(70)\u001b[0;36mforward\u001b[0;34m()\u001b[0m\n",
      "\u001b[0;32m     68 \u001b[0;31m        \u001b[0;34m**\u001b[0m\u001b[0mkwargs\u001b[0m\u001b[0;34m\u001b[0m\u001b[0;34m\u001b[0m\u001b[0m\n",
      "\u001b[0m\u001b[0;32m     69 \u001b[0;31m    ):  \n",
      "\u001b[0m\u001b[0;32m---> 70 \u001b[0;31m        \u001b[0mdata_repr\u001b[0m \u001b[0;34m=\u001b[0m \u001b[0mself\u001b[0m\u001b[0;34m.\u001b[0m\u001b[0mdr_encode\u001b[0m\u001b[0;34m(\u001b[0m\u001b[0mdata_input_ids\u001b[0m\u001b[0;34m,\u001b[0m \u001b[0mdata_attention_mask\u001b[0m\u001b[0;34m)\u001b[0m\u001b[0;34m\u001b[0m\u001b[0;34m\u001b[0m\u001b[0m\n",
      "\u001b[0m\u001b[0;32m     71 \u001b[0;31m\u001b[0;34m\u001b[0m\u001b[0m\n",
      "\u001b[0m\u001b[0;32m     72 \u001b[0;31m        \u001b[0mdata_fused_repr\u001b[0m \u001b[0;34m=\u001b[0m \u001b[0mmeta_repr\u001b[0m \u001b[0;34m=\u001b[0m \u001b[0;32mNone\u001b[0m\u001b[0;34m\u001b[0m\u001b[0;34m\u001b[0m\u001b[0m\n",
      "\u001b[0m\n"
     ]
    },
    {
     "name": "stdin",
     "output_type": "stream",
     "text": [
      "ipdb>  n\n"
     ]
    },
    {
     "name": "stdout",
     "output_type": "stream",
     "text": [
      "> \u001b[0;32m/tmp/ipykernel_15122/1379713280.py\u001b[0m(72)\u001b[0;36mforward\u001b[0;34m()\u001b[0m\n",
      "\u001b[0;32m     70 \u001b[0;31m        \u001b[0mdata_repr\u001b[0m \u001b[0;34m=\u001b[0m \u001b[0mself\u001b[0m\u001b[0;34m.\u001b[0m\u001b[0mdr_encode\u001b[0m\u001b[0;34m(\u001b[0m\u001b[0mdata_input_ids\u001b[0m\u001b[0;34m,\u001b[0m \u001b[0mdata_attention_mask\u001b[0m\u001b[0;34m)\u001b[0m\u001b[0;34m\u001b[0m\u001b[0;34m\u001b[0m\u001b[0m\n",
      "\u001b[0m\u001b[0;32m     71 \u001b[0;31m\u001b[0;34m\u001b[0m\u001b[0m\n",
      "\u001b[0m\u001b[0;32m---> 72 \u001b[0;31m        \u001b[0mdata_fused_repr\u001b[0m \u001b[0;34m=\u001b[0m \u001b[0mmeta_repr\u001b[0m \u001b[0;34m=\u001b[0m \u001b[0;32mNone\u001b[0m\u001b[0;34m\u001b[0m\u001b[0;34m\u001b[0m\u001b[0m\n",
      "\u001b[0m\u001b[0;32m     73 \u001b[0;31m        \u001b[0;32mif\u001b[0m \u001b[0mdata_aug_meta_prefix\u001b[0m \u001b[0;32mis\u001b[0m \u001b[0;32mnot\u001b[0m \u001b[0;32mNone\u001b[0m\u001b[0;34m:\u001b[0m\u001b[0;34m\u001b[0m\u001b[0;34m\u001b[0m\u001b[0m\n",
      "\u001b[0m\u001b[0;32m     74 \u001b[0;31m            \u001b[0mmeta_kwargs\u001b[0m \u001b[0;34m=\u001b[0m \u001b[0mParameters\u001b[0m\u001b[0;34m.\u001b[0m\u001b[0mfrom_meta_aug_prefix\u001b[0m\u001b[0;34m(\u001b[0m\u001b[0mdata_aug_meta_prefix\u001b[0m\u001b[0;34m,\u001b[0m \u001b[0;34m**\u001b[0m\u001b[0mkwargs\u001b[0m\u001b[0;34m)\u001b[0m\u001b[0;34m\u001b[0m\u001b[0;34m\u001b[0m\u001b[0m\n",
      "\u001b[0m\n"
     ]
    },
    {
     "name": "stdin",
     "output_type": "stream",
     "text": [
      "ipdb>  \n"
     ]
    },
    {
     "name": "stdout",
     "output_type": "stream",
     "text": [
      "> \u001b[0;32m/tmp/ipykernel_15122/1379713280.py\u001b[0m(73)\u001b[0;36mforward\u001b[0;34m()\u001b[0m\n",
      "\u001b[0;32m     71 \u001b[0;31m\u001b[0;34m\u001b[0m\u001b[0m\n",
      "\u001b[0m\u001b[0;32m     72 \u001b[0;31m        \u001b[0mdata_fused_repr\u001b[0m \u001b[0;34m=\u001b[0m \u001b[0mmeta_repr\u001b[0m \u001b[0;34m=\u001b[0m \u001b[0;32mNone\u001b[0m\u001b[0;34m\u001b[0m\u001b[0;34m\u001b[0m\u001b[0m\n",
      "\u001b[0m\u001b[0;32m---> 73 \u001b[0;31m        \u001b[0;32mif\u001b[0m \u001b[0mdata_aug_meta_prefix\u001b[0m \u001b[0;32mis\u001b[0m \u001b[0;32mnot\u001b[0m \u001b[0;32mNone\u001b[0m\u001b[0;34m:\u001b[0m\u001b[0;34m\u001b[0m\u001b[0;34m\u001b[0m\u001b[0m\n",
      "\u001b[0m\u001b[0;32m     74 \u001b[0;31m            \u001b[0mmeta_kwargs\u001b[0m \u001b[0;34m=\u001b[0m \u001b[0mParameters\u001b[0m\u001b[0;34m.\u001b[0m\u001b[0mfrom_meta_aug_prefix\u001b[0m\u001b[0;34m(\u001b[0m\u001b[0mdata_aug_meta_prefix\u001b[0m\u001b[0;34m,\u001b[0m \u001b[0;34m**\u001b[0m\u001b[0mkwargs\u001b[0m\u001b[0;34m)\u001b[0m\u001b[0;34m\u001b[0m\u001b[0;34m\u001b[0m\u001b[0m\n",
      "\u001b[0m\u001b[0;32m     75 \u001b[0;31m            \u001b[0;32mif\u001b[0m \u001b[0mlen\u001b[0m\u001b[0;34m(\u001b[0m\u001b[0mmeta_kwargs\u001b[0m\u001b[0;34m)\u001b[0m\u001b[0;34m:\u001b[0m\u001b[0;34m\u001b[0m\u001b[0;34m\u001b[0m\u001b[0m\n",
      "\u001b[0m\n"
     ]
    },
    {
     "name": "stdin",
     "output_type": "stream",
     "text": [
      "ipdb>  \n"
     ]
    },
    {
     "name": "stdout",
     "output_type": "stream",
     "text": [
      "> \u001b[0;32m/tmp/ipykernel_15122/1379713280.py\u001b[0m(74)\u001b[0;36mforward\u001b[0;34m()\u001b[0m\n",
      "\u001b[0;32m     72 \u001b[0;31m        \u001b[0mdata_fused_repr\u001b[0m \u001b[0;34m=\u001b[0m \u001b[0mmeta_repr\u001b[0m \u001b[0;34m=\u001b[0m \u001b[0;32mNone\u001b[0m\u001b[0;34m\u001b[0m\u001b[0;34m\u001b[0m\u001b[0m\n",
      "\u001b[0m\u001b[0;32m     73 \u001b[0;31m        \u001b[0;32mif\u001b[0m \u001b[0mdata_aug_meta_prefix\u001b[0m \u001b[0;32mis\u001b[0m \u001b[0;32mnot\u001b[0m \u001b[0;32mNone\u001b[0m\u001b[0;34m:\u001b[0m\u001b[0;34m\u001b[0m\u001b[0;34m\u001b[0m\u001b[0m\n",
      "\u001b[0m\u001b[0;32m---> 74 \u001b[0;31m            \u001b[0mmeta_kwargs\u001b[0m \u001b[0;34m=\u001b[0m \u001b[0mParameters\u001b[0m\u001b[0;34m.\u001b[0m\u001b[0mfrom_meta_aug_prefix\u001b[0m\u001b[0;34m(\u001b[0m\u001b[0mdata_aug_meta_prefix\u001b[0m\u001b[0;34m,\u001b[0m \u001b[0;34m**\u001b[0m\u001b[0mkwargs\u001b[0m\u001b[0;34m)\u001b[0m\u001b[0;34m\u001b[0m\u001b[0;34m\u001b[0m\u001b[0m\n",
      "\u001b[0m\u001b[0;32m     75 \u001b[0;31m            \u001b[0;32mif\u001b[0m \u001b[0mlen\u001b[0m\u001b[0;34m(\u001b[0m\u001b[0mmeta_kwargs\u001b[0m\u001b[0;34m)\u001b[0m\u001b[0;34m:\u001b[0m\u001b[0;34m\u001b[0m\u001b[0;34m\u001b[0m\u001b[0m\n",
      "\u001b[0m\u001b[0;32m     76 \u001b[0;31m                \u001b[0mdata_fused_repr\u001b[0m\u001b[0;34m,\u001b[0m \u001b[0mmeta_repr\u001b[0m \u001b[0;34m=\u001b[0m \u001b[0mself\u001b[0m\u001b[0;34m.\u001b[0m\u001b[0mfuse_meta_into_embeddings\u001b[0m\u001b[0;34m(\u001b[0m\u001b[0mdata_repr\u001b[0m\u001b[0;34m,\u001b[0m \u001b[0mmeta_kwargs\u001b[0m\u001b[0;34m)\u001b[0m\u001b[0;34m\u001b[0m\u001b[0;34m\u001b[0m\u001b[0m\n",
      "\u001b[0m\n"
     ]
    },
    {
     "name": "stdin",
     "output_type": "stream",
     "text": [
      "ipdb>  \n"
     ]
    },
    {
     "name": "stdout",
     "output_type": "stream",
     "text": [
      "> \u001b[0;32m/tmp/ipykernel_15122/1379713280.py\u001b[0m(75)\u001b[0;36mforward\u001b[0;34m()\u001b[0m\n",
      "\u001b[0;32m     73 \u001b[0;31m        \u001b[0;32mif\u001b[0m \u001b[0mdata_aug_meta_prefix\u001b[0m \u001b[0;32mis\u001b[0m \u001b[0;32mnot\u001b[0m \u001b[0;32mNone\u001b[0m\u001b[0;34m:\u001b[0m\u001b[0;34m\u001b[0m\u001b[0;34m\u001b[0m\u001b[0m\n",
      "\u001b[0m\u001b[0;32m     74 \u001b[0;31m            \u001b[0mmeta_kwargs\u001b[0m \u001b[0;34m=\u001b[0m \u001b[0mParameters\u001b[0m\u001b[0;34m.\u001b[0m\u001b[0mfrom_meta_aug_prefix\u001b[0m\u001b[0;34m(\u001b[0m\u001b[0mdata_aug_meta_prefix\u001b[0m\u001b[0;34m,\u001b[0m \u001b[0;34m**\u001b[0m\u001b[0mkwargs\u001b[0m\u001b[0;34m)\u001b[0m\u001b[0;34m\u001b[0m\u001b[0;34m\u001b[0m\u001b[0m\n",
      "\u001b[0m\u001b[0;32m---> 75 \u001b[0;31m            \u001b[0;32mif\u001b[0m \u001b[0mlen\u001b[0m\u001b[0;34m(\u001b[0m\u001b[0mmeta_kwargs\u001b[0m\u001b[0;34m)\u001b[0m\u001b[0;34m:\u001b[0m\u001b[0;34m\u001b[0m\u001b[0;34m\u001b[0m\u001b[0m\n",
      "\u001b[0m\u001b[0;32m     76 \u001b[0;31m                \u001b[0mdata_fused_repr\u001b[0m\u001b[0;34m,\u001b[0m \u001b[0mmeta_repr\u001b[0m \u001b[0;34m=\u001b[0m \u001b[0mself\u001b[0m\u001b[0;34m.\u001b[0m\u001b[0mfuse_meta_into_embeddings\u001b[0m\u001b[0;34m(\u001b[0m\u001b[0mdata_repr\u001b[0m\u001b[0;34m,\u001b[0m \u001b[0mmeta_kwargs\u001b[0m\u001b[0;34m)\u001b[0m\u001b[0;34m\u001b[0m\u001b[0;34m\u001b[0m\u001b[0m\n",
      "\u001b[0m\u001b[0;32m     77 \u001b[0;31m                \u001b[0mdata_fused_repr\u001b[0m \u001b[0;34m=\u001b[0m \u001b[0mself\u001b[0m\u001b[0;34m.\u001b[0m\u001b[0mdr\u001b[0m\u001b[0;34m(\u001b[0m\u001b[0mdata_fused_repr\u001b[0m\u001b[0;34m)\u001b[0m\u001b[0;34m\u001b[0m\u001b[0;34m\u001b[0m\u001b[0m\n",
      "\u001b[0m\n"
     ]
    },
    {
     "name": "stdin",
     "output_type": "stream",
     "text": [
      "ipdb>  \n"
     ]
    },
    {
     "name": "stdout",
     "output_type": "stream",
     "text": [
      "> \u001b[0;32m/tmp/ipykernel_15122/1379713280.py\u001b[0m(76)\u001b[0;36mforward\u001b[0;34m()\u001b[0m\n",
      "\u001b[0;32m     74 \u001b[0;31m            \u001b[0mmeta_kwargs\u001b[0m \u001b[0;34m=\u001b[0m \u001b[0mParameters\u001b[0m\u001b[0;34m.\u001b[0m\u001b[0mfrom_meta_aug_prefix\u001b[0m\u001b[0;34m(\u001b[0m\u001b[0mdata_aug_meta_prefix\u001b[0m\u001b[0;34m,\u001b[0m \u001b[0;34m**\u001b[0m\u001b[0mkwargs\u001b[0m\u001b[0;34m)\u001b[0m\u001b[0;34m\u001b[0m\u001b[0;34m\u001b[0m\u001b[0m\n",
      "\u001b[0m\u001b[0;32m     75 \u001b[0;31m            \u001b[0;32mif\u001b[0m \u001b[0mlen\u001b[0m\u001b[0;34m(\u001b[0m\u001b[0mmeta_kwargs\u001b[0m\u001b[0;34m)\u001b[0m\u001b[0;34m:\u001b[0m\u001b[0;34m\u001b[0m\u001b[0;34m\u001b[0m\u001b[0m\n",
      "\u001b[0m\u001b[0;32m---> 76 \u001b[0;31m                \u001b[0mdata_fused_repr\u001b[0m\u001b[0;34m,\u001b[0m \u001b[0mmeta_repr\u001b[0m \u001b[0;34m=\u001b[0m \u001b[0mself\u001b[0m\u001b[0;34m.\u001b[0m\u001b[0mfuse_meta_into_embeddings\u001b[0m\u001b[0;34m(\u001b[0m\u001b[0mdata_repr\u001b[0m\u001b[0;34m,\u001b[0m \u001b[0mmeta_kwargs\u001b[0m\u001b[0;34m)\u001b[0m\u001b[0;34m\u001b[0m\u001b[0;34m\u001b[0m\u001b[0m\n",
      "\u001b[0m\u001b[0;32m     77 \u001b[0;31m                \u001b[0mdata_fused_repr\u001b[0m \u001b[0;34m=\u001b[0m \u001b[0mself\u001b[0m\u001b[0;34m.\u001b[0m\u001b[0mdr\u001b[0m\u001b[0;34m(\u001b[0m\u001b[0mdata_fused_repr\u001b[0m\u001b[0;34m)\u001b[0m\u001b[0;34m\u001b[0m\u001b[0;34m\u001b[0m\u001b[0m\n",
      "\u001b[0m\u001b[0;32m     78 \u001b[0;31m\u001b[0;34m\u001b[0m\u001b[0m\n",
      "\u001b[0m\n"
     ]
    },
    {
     "name": "stdin",
     "output_type": "stream",
     "text": [
      "ipdb>  b self.fuse_meta_into_embeddings\n"
     ]
    },
    {
     "name": "stdout",
     "output_type": "stream",
     "text": [
      "Breakpoint 4 at /tmp/ipykernel_15122/3934909451.py:11\n"
     ]
    },
    {
     "name": "stdin",
     "output_type": "stream",
     "text": [
      "ipdb>  n\n"
     ]
    },
    {
     "name": "stdout",
     "output_type": "stream",
     "text": [
      "> \u001b[0;32m/tmp/ipykernel_15122/3934909451.py\u001b[0m(12)\u001b[0;36mfuse_meta_into_embeddings\u001b[0;34m()\u001b[0m\n",
      "\u001b[0;32m     10 \u001b[0;31m\u001b[0;34m\u001b[0m\u001b[0m\n",
      "\u001b[0m\u001b[1;31m4\u001b[0;32m    11 \u001b[0;31m    \u001b[0;32mdef\u001b[0m \u001b[0mfuse_meta_into_embeddings\u001b[0m\u001b[0;34m(\u001b[0m\u001b[0mself\u001b[0m\u001b[0;34m,\u001b[0m \u001b[0membed\u001b[0m\u001b[0;34m:\u001b[0m\u001b[0mtorch\u001b[0m\u001b[0;34m.\u001b[0m\u001b[0mTensor\u001b[0m\u001b[0;34m,\u001b[0m \u001b[0mmeta_kwargs\u001b[0m\u001b[0;34m:\u001b[0m\u001b[0mDict\u001b[0m\u001b[0;34m)\u001b[0m\u001b[0;34m:\u001b[0m\u001b[0;34m\u001b[0m\u001b[0;34m\u001b[0m\u001b[0m\n",
      "\u001b[0m\u001b[0;32m---> 12 \u001b[0;31m        \u001b[0mmeta_repr\u001b[0m\u001b[0;34m,\u001b[0m \u001b[0mbsz\u001b[0m \u001b[0;34m=\u001b[0m \u001b[0;34m{\u001b[0m\u001b[0;34m}\u001b[0m\u001b[0;34m,\u001b[0m \u001b[0membed\u001b[0m\u001b[0;34m.\u001b[0m\u001b[0msize\u001b[0m\u001b[0;34m(\u001b[0m\u001b[0;36m0\u001b[0m\u001b[0;34m)\u001b[0m\u001b[0;34m\u001b[0m\u001b[0;34m\u001b[0m\u001b[0m\n",
      "\u001b[0m\u001b[0;32m     13 \u001b[0;31m\u001b[0;34m\u001b[0m\u001b[0m\n",
      "\u001b[0m\u001b[0;32m     14 \u001b[0;31m        \u001b[0;32mfor\u001b[0m \u001b[0mm_key\u001b[0m\u001b[0;34m,\u001b[0m \u001b[0mm_args\u001b[0m \u001b[0;32min\u001b[0m \u001b[0mmeta_kwargs\u001b[0m\u001b[0;34m.\u001b[0m\u001b[0mitems\u001b[0m\u001b[0;34m(\u001b[0m\u001b[0;34m)\u001b[0m\u001b[0;34m:\u001b[0m\u001b[0;34m\u001b[0m\u001b[0;34m\u001b[0m\u001b[0m\n",
      "\u001b[0m\n"
     ]
    },
    {
     "name": "stdin",
     "output_type": "stream",
     "text": [
      "ipdb>  n\n"
     ]
    },
    {
     "name": "stdout",
     "output_type": "stream",
     "text": [
      "> \u001b[0;32m/tmp/ipykernel_15122/3934909451.py\u001b[0m(14)\u001b[0;36mfuse_meta_into_embeddings\u001b[0;34m()\u001b[0m\n",
      "\u001b[0;32m     12 \u001b[0;31m        \u001b[0mmeta_repr\u001b[0m\u001b[0;34m,\u001b[0m \u001b[0mbsz\u001b[0m \u001b[0;34m=\u001b[0m \u001b[0;34m{\u001b[0m\u001b[0;34m}\u001b[0m\u001b[0;34m,\u001b[0m \u001b[0membed\u001b[0m\u001b[0;34m.\u001b[0m\u001b[0msize\u001b[0m\u001b[0;34m(\u001b[0m\u001b[0;36m0\u001b[0m\u001b[0;34m)\u001b[0m\u001b[0;34m\u001b[0m\u001b[0;34m\u001b[0m\u001b[0m\n",
      "\u001b[0m\u001b[0;32m     13 \u001b[0;31m\u001b[0;34m\u001b[0m\u001b[0m\n",
      "\u001b[0m\u001b[0;32m---> 14 \u001b[0;31m        \u001b[0;32mfor\u001b[0m \u001b[0mm_key\u001b[0m\u001b[0;34m,\u001b[0m \u001b[0mm_args\u001b[0m \u001b[0;32min\u001b[0m \u001b[0mmeta_kwargs\u001b[0m\u001b[0;34m.\u001b[0m\u001b[0mitems\u001b[0m\u001b[0;34m(\u001b[0m\u001b[0;34m)\u001b[0m\u001b[0;34m:\u001b[0m\u001b[0;34m\u001b[0m\u001b[0;34m\u001b[0m\u001b[0m\n",
      "\u001b[0m\u001b[0;32m     15 \u001b[0;31m            \u001b[0mn_meta\u001b[0m \u001b[0;34m=\u001b[0m \u001b[0mm_args\u001b[0m\u001b[0;34m[\u001b[0m\u001b[0;34m'data2ptr'\u001b[0m\u001b[0;34m]\u001b[0m\u001b[0;34m.\u001b[0m\u001b[0mmax\u001b[0m\u001b[0;34m(\u001b[0m\u001b[0;34m)\u001b[0m\u001b[0;34m\u001b[0m\u001b[0;34m\u001b[0m\u001b[0m\n",
      "\u001b[0m\u001b[0;32m     16 \u001b[0;31m            \u001b[0;32massert\u001b[0m \u001b[0mtorch\u001b[0m\u001b[0;34m.\u001b[0m\u001b[0mall\u001b[0m\u001b[0;34m(\u001b[0m\u001b[0mm_args\u001b[0m\u001b[0;34m[\u001b[0m\u001b[0;34m'data2ptr'\u001b[0m\u001b[0;34m]\u001b[0m \u001b[0;34m==\u001b[0m \u001b[0mn_meta\u001b[0m\u001b[0;34m)\u001b[0m\u001b[0;34m,\u001b[0m \u001b[0;34mf'All datapoints should have same number of metadata.'\u001b[0m\u001b[0;34m\u001b[0m\u001b[0;34m\u001b[0m\u001b[0m\n",
      "\u001b[0m\n"
     ]
    },
    {
     "name": "stdin",
     "output_type": "stream",
     "text": [
      "ipdb>  \n"
     ]
    },
    {
     "name": "stdout",
     "output_type": "stream",
     "text": [
      "> \u001b[0;32m/tmp/ipykernel_15122/3934909451.py\u001b[0m(15)\u001b[0;36mfuse_meta_into_embeddings\u001b[0;34m()\u001b[0m\n",
      "\u001b[0;32m     13 \u001b[0;31m\u001b[0;34m\u001b[0m\u001b[0m\n",
      "\u001b[0m\u001b[0;32m     14 \u001b[0;31m        \u001b[0;32mfor\u001b[0m \u001b[0mm_key\u001b[0m\u001b[0;34m,\u001b[0m \u001b[0mm_args\u001b[0m \u001b[0;32min\u001b[0m \u001b[0mmeta_kwargs\u001b[0m\u001b[0;34m.\u001b[0m\u001b[0mitems\u001b[0m\u001b[0;34m(\u001b[0m\u001b[0;34m)\u001b[0m\u001b[0;34m:\u001b[0m\u001b[0;34m\u001b[0m\u001b[0;34m\u001b[0m\u001b[0m\n",
      "\u001b[0m\u001b[0;32m---> 15 \u001b[0;31m            \u001b[0mn_meta\u001b[0m \u001b[0;34m=\u001b[0m \u001b[0mm_args\u001b[0m\u001b[0;34m[\u001b[0m\u001b[0;34m'data2ptr'\u001b[0m\u001b[0;34m]\u001b[0m\u001b[0;34m.\u001b[0m\u001b[0mmax\u001b[0m\u001b[0;34m(\u001b[0m\u001b[0;34m)\u001b[0m\u001b[0;34m\u001b[0m\u001b[0;34m\u001b[0m\u001b[0m\n",
      "\u001b[0m\u001b[0;32m     16 \u001b[0;31m            \u001b[0;32massert\u001b[0m \u001b[0mtorch\u001b[0m\u001b[0;34m.\u001b[0m\u001b[0mall\u001b[0m\u001b[0;34m(\u001b[0m\u001b[0mm_args\u001b[0m\u001b[0;34m[\u001b[0m\u001b[0;34m'data2ptr'\u001b[0m\u001b[0;34m]\u001b[0m \u001b[0;34m==\u001b[0m \u001b[0mn_meta\u001b[0m\u001b[0;34m)\u001b[0m\u001b[0;34m,\u001b[0m \u001b[0;34mf'All datapoints should have same number of metadata.'\u001b[0m\u001b[0;34m\u001b[0m\u001b[0;34m\u001b[0m\u001b[0m\n",
      "\u001b[0m\u001b[0;32m     17 \u001b[0;31m\u001b[0;34m\u001b[0m\u001b[0m\n",
      "\u001b[0m\n"
     ]
    },
    {
     "name": "stdin",
     "output_type": "stream",
     "text": [
      "ipdb>  \n"
     ]
    },
    {
     "name": "stdout",
     "output_type": "stream",
     "text": [
      "> \u001b[0;32m/tmp/ipykernel_15122/3934909451.py\u001b[0m(16)\u001b[0;36mfuse_meta_into_embeddings\u001b[0;34m()\u001b[0m\n",
      "\u001b[0;32m     14 \u001b[0;31m        \u001b[0;32mfor\u001b[0m \u001b[0mm_key\u001b[0m\u001b[0;34m,\u001b[0m \u001b[0mm_args\u001b[0m \u001b[0;32min\u001b[0m \u001b[0mmeta_kwargs\u001b[0m\u001b[0;34m.\u001b[0m\u001b[0mitems\u001b[0m\u001b[0;34m(\u001b[0m\u001b[0;34m)\u001b[0m\u001b[0;34m:\u001b[0m\u001b[0;34m\u001b[0m\u001b[0;34m\u001b[0m\u001b[0m\n",
      "\u001b[0m\u001b[0;32m     15 \u001b[0;31m            \u001b[0mn_meta\u001b[0m \u001b[0;34m=\u001b[0m \u001b[0mm_args\u001b[0m\u001b[0;34m[\u001b[0m\u001b[0;34m'data2ptr'\u001b[0m\u001b[0;34m]\u001b[0m\u001b[0;34m.\u001b[0m\u001b[0mmax\u001b[0m\u001b[0;34m(\u001b[0m\u001b[0;34m)\u001b[0m\u001b[0;34m\u001b[0m\u001b[0;34m\u001b[0m\u001b[0m\n",
      "\u001b[0m\u001b[0;32m---> 16 \u001b[0;31m            \u001b[0;32massert\u001b[0m \u001b[0mtorch\u001b[0m\u001b[0;34m.\u001b[0m\u001b[0mall\u001b[0m\u001b[0;34m(\u001b[0m\u001b[0mm_args\u001b[0m\u001b[0;34m[\u001b[0m\u001b[0;34m'data2ptr'\u001b[0m\u001b[0;34m]\u001b[0m \u001b[0;34m==\u001b[0m \u001b[0mn_meta\u001b[0m\u001b[0;34m)\u001b[0m\u001b[0;34m,\u001b[0m \u001b[0;34mf'All datapoints should have same number of metadata.'\u001b[0m\u001b[0;34m\u001b[0m\u001b[0;34m\u001b[0m\u001b[0m\n",
      "\u001b[0m\u001b[0;32m     17 \u001b[0;31m\u001b[0;34m\u001b[0m\u001b[0m\n",
      "\u001b[0m\u001b[0;32m     18 \u001b[0;31m            \u001b[0mm_input_ids\u001b[0m\u001b[0;34m,\u001b[0m \u001b[0mm_attention_mask\u001b[0m \u001b[0;34m=\u001b[0m \u001b[0mm_args\u001b[0m\u001b[0;34m[\u001b[0m\u001b[0;34m'input_ids'\u001b[0m\u001b[0;34m]\u001b[0m\u001b[0;34m,\u001b[0m \u001b[0mm_args\u001b[0m\u001b[0;34m[\u001b[0m\u001b[0;34m'attention_mask'\u001b[0m\u001b[0;34m]\u001b[0m\u001b[0;34m\u001b[0m\u001b[0;34m\u001b[0m\u001b[0m\n",
      "\u001b[0m\n"
     ]
    },
    {
     "name": "stdin",
     "output_type": "stream",
     "text": [
      "ipdb>  \n"
     ]
    },
    {
     "name": "stdout",
     "output_type": "stream",
     "text": [
      "> \u001b[0;32m/tmp/ipykernel_15122/3934909451.py\u001b[0m(18)\u001b[0;36mfuse_meta_into_embeddings\u001b[0;34m()\u001b[0m\n",
      "\u001b[0;32m     16 \u001b[0;31m            \u001b[0;32massert\u001b[0m \u001b[0mtorch\u001b[0m\u001b[0;34m.\u001b[0m\u001b[0mall\u001b[0m\u001b[0;34m(\u001b[0m\u001b[0mm_args\u001b[0m\u001b[0;34m[\u001b[0m\u001b[0;34m'data2ptr'\u001b[0m\u001b[0;34m]\u001b[0m \u001b[0;34m==\u001b[0m \u001b[0mn_meta\u001b[0m\u001b[0;34m)\u001b[0m\u001b[0;34m,\u001b[0m \u001b[0;34mf'All datapoints should have same number of metadata.'\u001b[0m\u001b[0;34m\u001b[0m\u001b[0;34m\u001b[0m\u001b[0m\n",
      "\u001b[0m\u001b[0;32m     17 \u001b[0;31m\u001b[0;34m\u001b[0m\u001b[0m\n",
      "\u001b[0m\u001b[0;32m---> 18 \u001b[0;31m            \u001b[0mm_input_ids\u001b[0m\u001b[0;34m,\u001b[0m \u001b[0mm_attention_mask\u001b[0m \u001b[0;34m=\u001b[0m \u001b[0mm_args\u001b[0m\u001b[0;34m[\u001b[0m\u001b[0;34m'input_ids'\u001b[0m\u001b[0;34m]\u001b[0m\u001b[0;34m,\u001b[0m \u001b[0mm_args\u001b[0m\u001b[0;34m[\u001b[0m\u001b[0;34m'attention_mask'\u001b[0m\u001b[0;34m]\u001b[0m\u001b[0;34m\u001b[0m\u001b[0;34m\u001b[0m\u001b[0m\n",
      "\u001b[0m\u001b[0;32m     19 \u001b[0;31m            \u001b[0mm_embed\u001b[0m \u001b[0;34m=\u001b[0m \u001b[0mself\u001b[0m\u001b[0;34m.\u001b[0m\u001b[0mmeta_encode\u001b[0m\u001b[0;34m(\u001b[0m\u001b[0minput_ids\u001b[0m\u001b[0;34m=\u001b[0m\u001b[0mm_input_ids\u001b[0m\u001b[0;34m,\u001b[0m \u001b[0mattention_mask\u001b[0m\u001b[0;34m=\u001b[0m\u001b[0mm_attention_mask\u001b[0m\u001b[0;34m)\u001b[0m\u001b[0;34m\u001b[0m\u001b[0;34m\u001b[0m\u001b[0m\n",
      "\u001b[0m\u001b[0;32m     20 \u001b[0;31m            \u001b[0mm_embed\u001b[0m \u001b[0;34m=\u001b[0m \u001b[0mm_embed\u001b[0m \u001b[0;34m+\u001b[0m \u001b[0mm_args\u001b[0m\u001b[0;34m[\u001b[0m\u001b[0;34m'meta_repr'\u001b[0m\u001b[0;34m]\u001b[0m \u001b[0;34m*\u001b[0m \u001b[0mself\u001b[0m\u001b[0;34m.\u001b[0m\u001b[0malpha\u001b[0m\u001b[0;34m\u001b[0m\u001b[0;34m\u001b[0m\u001b[0m\n",
      "\u001b[0m\n"
     ]
    },
    {
     "name": "stdin",
     "output_type": "stream",
     "text": [
      "ipdb>  \n"
     ]
    },
    {
     "name": "stdout",
     "output_type": "stream",
     "text": [
      "> \u001b[0;32m/tmp/ipykernel_15122/3934909451.py\u001b[0m(19)\u001b[0;36mfuse_meta_into_embeddings\u001b[0;34m()\u001b[0m\n",
      "\u001b[0;32m     17 \u001b[0;31m\u001b[0;34m\u001b[0m\u001b[0m\n",
      "\u001b[0m\u001b[0;32m     18 \u001b[0;31m            \u001b[0mm_input_ids\u001b[0m\u001b[0;34m,\u001b[0m \u001b[0mm_attention_mask\u001b[0m \u001b[0;34m=\u001b[0m \u001b[0mm_args\u001b[0m\u001b[0;34m[\u001b[0m\u001b[0;34m'input_ids'\u001b[0m\u001b[0;34m]\u001b[0m\u001b[0;34m,\u001b[0m \u001b[0mm_args\u001b[0m\u001b[0;34m[\u001b[0m\u001b[0;34m'attention_mask'\u001b[0m\u001b[0;34m]\u001b[0m\u001b[0;34m\u001b[0m\u001b[0;34m\u001b[0m\u001b[0m\n",
      "\u001b[0m\u001b[0;32m---> 19 \u001b[0;31m            \u001b[0mm_embed\u001b[0m \u001b[0;34m=\u001b[0m \u001b[0mself\u001b[0m\u001b[0;34m.\u001b[0m\u001b[0mmeta_encode\u001b[0m\u001b[0;34m(\u001b[0m\u001b[0minput_ids\u001b[0m\u001b[0;34m=\u001b[0m\u001b[0mm_input_ids\u001b[0m\u001b[0;34m,\u001b[0m \u001b[0mattention_mask\u001b[0m\u001b[0;34m=\u001b[0m\u001b[0mm_attention_mask\u001b[0m\u001b[0;34m)\u001b[0m\u001b[0;34m\u001b[0m\u001b[0;34m\u001b[0m\u001b[0m\n",
      "\u001b[0m\u001b[0;32m     20 \u001b[0;31m            \u001b[0mm_embed\u001b[0m \u001b[0;34m=\u001b[0m \u001b[0mm_embed\u001b[0m \u001b[0;34m+\u001b[0m \u001b[0mm_args\u001b[0m\u001b[0;34m[\u001b[0m\u001b[0;34m'meta_repr'\u001b[0m\u001b[0;34m]\u001b[0m \u001b[0;34m*\u001b[0m \u001b[0mself\u001b[0m\u001b[0;34m.\u001b[0m\u001b[0malpha\u001b[0m\u001b[0;34m\u001b[0m\u001b[0;34m\u001b[0m\u001b[0m\n",
      "\u001b[0m\u001b[0;32m     21 \u001b[0;31m\u001b[0;34m\u001b[0m\u001b[0m\n",
      "\u001b[0m\n"
     ]
    },
    {
     "name": "stdin",
     "output_type": "stream",
     "text": [
      "ipdb>  \n"
     ]
    },
    {
     "name": "stdout",
     "output_type": "stream",
     "text": [
      "> \u001b[0;32m/tmp/ipykernel_15122/3934909451.py\u001b[0m(20)\u001b[0;36mfuse_meta_into_embeddings\u001b[0;34m()\u001b[0m\n",
      "\u001b[0;32m     18 \u001b[0;31m            \u001b[0mm_input_ids\u001b[0m\u001b[0;34m,\u001b[0m \u001b[0mm_attention_mask\u001b[0m \u001b[0;34m=\u001b[0m \u001b[0mm_args\u001b[0m\u001b[0;34m[\u001b[0m\u001b[0;34m'input_ids'\u001b[0m\u001b[0;34m]\u001b[0m\u001b[0;34m,\u001b[0m \u001b[0mm_args\u001b[0m\u001b[0;34m[\u001b[0m\u001b[0;34m'attention_mask'\u001b[0m\u001b[0;34m]\u001b[0m\u001b[0;34m\u001b[0m\u001b[0;34m\u001b[0m\u001b[0m\n",
      "\u001b[0m\u001b[0;32m     19 \u001b[0;31m            \u001b[0mm_embed\u001b[0m \u001b[0;34m=\u001b[0m \u001b[0mself\u001b[0m\u001b[0;34m.\u001b[0m\u001b[0mmeta_encode\u001b[0m\u001b[0;34m(\u001b[0m\u001b[0minput_ids\u001b[0m\u001b[0;34m=\u001b[0m\u001b[0mm_input_ids\u001b[0m\u001b[0;34m,\u001b[0m \u001b[0mattention_mask\u001b[0m\u001b[0;34m=\u001b[0m\u001b[0mm_attention_mask\u001b[0m\u001b[0;34m)\u001b[0m\u001b[0;34m\u001b[0m\u001b[0;34m\u001b[0m\u001b[0m\n",
      "\u001b[0m\u001b[0;32m---> 20 \u001b[0;31m            \u001b[0mm_embed\u001b[0m \u001b[0;34m=\u001b[0m \u001b[0mm_embed\u001b[0m \u001b[0;34m+\u001b[0m \u001b[0mm_args\u001b[0m\u001b[0;34m[\u001b[0m\u001b[0;34m'meta_repr'\u001b[0m\u001b[0;34m]\u001b[0m \u001b[0;34m*\u001b[0m \u001b[0mself\u001b[0m\u001b[0;34m.\u001b[0m\u001b[0malpha\u001b[0m\u001b[0;34m\u001b[0m\u001b[0;34m\u001b[0m\u001b[0m\n",
      "\u001b[0m\u001b[0;32m     21 \u001b[0;31m\u001b[0;34m\u001b[0m\u001b[0m\n",
      "\u001b[0m\u001b[0;32m     22 \u001b[0;31m            \u001b[0mmeta_repr\u001b[0m\u001b[0;34m[\u001b[0m\u001b[0mm_key\u001b[0m\u001b[0;34m]\u001b[0m \u001b[0;34m=\u001b[0m \u001b[0mm_embed\u001b[0m\u001b[0;34m\u001b[0m\u001b[0;34m\u001b[0m\u001b[0m\n",
      "\u001b[0m\n"
     ]
    },
    {
     "name": "stdin",
     "output_type": "stream",
     "text": [
      "ipdb>  \n"
     ]
    },
    {
     "name": "stdout",
     "output_type": "stream",
     "text": [
      "> \u001b[0;32m/tmp/ipykernel_15122/3934909451.py\u001b[0m(22)\u001b[0;36mfuse_meta_into_embeddings\u001b[0;34m()\u001b[0m\n",
      "\u001b[0;32m     20 \u001b[0;31m            \u001b[0mm_embed\u001b[0m \u001b[0;34m=\u001b[0m \u001b[0mm_embed\u001b[0m \u001b[0;34m+\u001b[0m \u001b[0mm_args\u001b[0m\u001b[0;34m[\u001b[0m\u001b[0;34m'meta_repr'\u001b[0m\u001b[0;34m]\u001b[0m \u001b[0;34m*\u001b[0m \u001b[0mself\u001b[0m\u001b[0;34m.\u001b[0m\u001b[0malpha\u001b[0m\u001b[0;34m\u001b[0m\u001b[0;34m\u001b[0m\u001b[0m\n",
      "\u001b[0m\u001b[0;32m     21 \u001b[0;31m\u001b[0;34m\u001b[0m\u001b[0m\n",
      "\u001b[0m\u001b[0;32m---> 22 \u001b[0;31m            \u001b[0mmeta_repr\u001b[0m\u001b[0;34m[\u001b[0m\u001b[0mm_key\u001b[0m\u001b[0;34m]\u001b[0m \u001b[0;34m=\u001b[0m \u001b[0mm_embed\u001b[0m\u001b[0;34m\u001b[0m\u001b[0;34m\u001b[0m\u001b[0m\n",
      "\u001b[0m\u001b[0;32m     23 \u001b[0;31m\u001b[0;34m\u001b[0m\u001b[0m\n",
      "\u001b[0m\u001b[0;32m     24 \u001b[0;31m            \u001b[0mm_embed\u001b[0m \u001b[0;34m=\u001b[0m \u001b[0mm_embed\u001b[0m\u001b[0;34m.\u001b[0m\u001b[0mview\u001b[0m\u001b[0;34m(\u001b[0m\u001b[0mbsz\u001b[0m\u001b[0;34m,\u001b[0m \u001b[0;34m-\u001b[0m\u001b[0;36m1\u001b[0m\u001b[0;34m,\u001b[0m \u001b[0mself\u001b[0m\u001b[0;34m.\u001b[0m\u001b[0mconfig\u001b[0m\u001b[0;34m.\u001b[0m\u001b[0mdim\u001b[0m\u001b[0;34m)\u001b[0m\u001b[0;34m\u001b[0m\u001b[0;34m\u001b[0m\u001b[0m\n",
      "\u001b[0m\n"
     ]
    },
    {
     "name": "stdin",
     "output_type": "stream",
     "text": [
      "ipdb>  \n"
     ]
    },
    {
     "name": "stdout",
     "output_type": "stream",
     "text": [
      "> \u001b[0;32m/tmp/ipykernel_15122/3934909451.py\u001b[0m(24)\u001b[0;36mfuse_meta_into_embeddings\u001b[0;34m()\u001b[0m\n",
      "\u001b[0;32m     22 \u001b[0;31m            \u001b[0mmeta_repr\u001b[0m\u001b[0;34m[\u001b[0m\u001b[0mm_key\u001b[0m\u001b[0;34m]\u001b[0m \u001b[0;34m=\u001b[0m \u001b[0mm_embed\u001b[0m\u001b[0;34m\u001b[0m\u001b[0;34m\u001b[0m\u001b[0m\n",
      "\u001b[0m\u001b[0;32m     23 \u001b[0;31m\u001b[0;34m\u001b[0m\u001b[0m\n",
      "\u001b[0m\u001b[0;32m---> 24 \u001b[0;31m            \u001b[0mm_embed\u001b[0m \u001b[0;34m=\u001b[0m \u001b[0mm_embed\u001b[0m\u001b[0;34m.\u001b[0m\u001b[0mview\u001b[0m\u001b[0;34m(\u001b[0m\u001b[0mbsz\u001b[0m\u001b[0;34m,\u001b[0m \u001b[0;34m-\u001b[0m\u001b[0;36m1\u001b[0m\u001b[0;34m,\u001b[0m \u001b[0mself\u001b[0m\u001b[0;34m.\u001b[0m\u001b[0mconfig\u001b[0m\u001b[0;34m.\u001b[0m\u001b[0mdim\u001b[0m\u001b[0;34m)\u001b[0m\u001b[0;34m\u001b[0m\u001b[0;34m\u001b[0m\u001b[0m\n",
      "\u001b[0m\u001b[0;32m     25 \u001b[0;31m            \u001b[0mfused_embed\u001b[0m \u001b[0;34m=\u001b[0m \u001b[0mself\u001b[0m\u001b[0;34m.\u001b[0m\u001b[0mcross_head\u001b[0m\u001b[0;34m(\u001b[0m\u001b[0membed\u001b[0m\u001b[0;34m,\u001b[0m \u001b[0mm_embed\u001b[0m\u001b[0;34m)\u001b[0m\u001b[0;34m\u001b[0m\u001b[0;34m\u001b[0m\u001b[0m\n",
      "\u001b[0m\u001b[0;32m     26 \u001b[0;31m            \u001b[0membed\u001b[0m \u001b[0;34m=\u001b[0m \u001b[0membed\u001b[0m \u001b[0;34m+\u001b[0m \u001b[0mfused_embed\u001b[0m\u001b[0;34m\u001b[0m\u001b[0;34m\u001b[0m\u001b[0m\n",
      "\u001b[0m\n"
     ]
    },
    {
     "name": "stdin",
     "output_type": "stream",
     "text": [
      "ipdb>  \n"
     ]
    },
    {
     "name": "stdout",
     "output_type": "stream",
     "text": [
      "> \u001b[0;32m/tmp/ipykernel_15122/3934909451.py\u001b[0m(25)\u001b[0;36mfuse_meta_into_embeddings\u001b[0;34m()\u001b[0m\n",
      "\u001b[0;32m     23 \u001b[0;31m\u001b[0;34m\u001b[0m\u001b[0m\n",
      "\u001b[0m\u001b[0;32m     24 \u001b[0;31m            \u001b[0mm_embed\u001b[0m \u001b[0;34m=\u001b[0m \u001b[0mm_embed\u001b[0m\u001b[0;34m.\u001b[0m\u001b[0mview\u001b[0m\u001b[0;34m(\u001b[0m\u001b[0mbsz\u001b[0m\u001b[0;34m,\u001b[0m \u001b[0;34m-\u001b[0m\u001b[0;36m1\u001b[0m\u001b[0;34m,\u001b[0m \u001b[0mself\u001b[0m\u001b[0;34m.\u001b[0m\u001b[0mconfig\u001b[0m\u001b[0;34m.\u001b[0m\u001b[0mdim\u001b[0m\u001b[0;34m)\u001b[0m\u001b[0;34m\u001b[0m\u001b[0;34m\u001b[0m\u001b[0m\n",
      "\u001b[0m\u001b[0;32m---> 25 \u001b[0;31m            \u001b[0mfused_embed\u001b[0m \u001b[0;34m=\u001b[0m \u001b[0mself\u001b[0m\u001b[0;34m.\u001b[0m\u001b[0mcross_head\u001b[0m\u001b[0;34m(\u001b[0m\u001b[0membed\u001b[0m\u001b[0;34m,\u001b[0m \u001b[0mm_embed\u001b[0m\u001b[0;34m)\u001b[0m\u001b[0;34m\u001b[0m\u001b[0;34m\u001b[0m\u001b[0m\n",
      "\u001b[0m\u001b[0;32m     26 \u001b[0;31m            \u001b[0membed\u001b[0m \u001b[0;34m=\u001b[0m \u001b[0membed\u001b[0m \u001b[0;34m+\u001b[0m \u001b[0mfused_embed\u001b[0m\u001b[0;34m\u001b[0m\u001b[0;34m\u001b[0m\u001b[0m\n",
      "\u001b[0m\u001b[0;32m     27 \u001b[0;31m\u001b[0;34m\u001b[0m\u001b[0m\n",
      "\u001b[0m\n"
     ]
    },
    {
     "name": "stdin",
     "output_type": "stream",
     "text": [
      "ipdb>  c\n"
     ]
    },
    {
     "name": "stdout",
     "output_type": "stream",
     "text": [
      "> \u001b[0;32m/tmp/ipykernel_15122/1379713280.py\u001b[0m(70)\u001b[0;36mforward\u001b[0;34m()\u001b[0m\n",
      "\u001b[0;32m     68 \u001b[0;31m        \u001b[0;34m**\u001b[0m\u001b[0mkwargs\u001b[0m\u001b[0;34m\u001b[0m\u001b[0;34m\u001b[0m\u001b[0m\n",
      "\u001b[0m\u001b[0;32m     69 \u001b[0;31m    ):  \n",
      "\u001b[0m\u001b[0;32m---> 70 \u001b[0;31m        \u001b[0mdata_repr\u001b[0m \u001b[0;34m=\u001b[0m \u001b[0mself\u001b[0m\u001b[0;34m.\u001b[0m\u001b[0mdr_encode\u001b[0m\u001b[0;34m(\u001b[0m\u001b[0mdata_input_ids\u001b[0m\u001b[0;34m,\u001b[0m \u001b[0mdata_attention_mask\u001b[0m\u001b[0;34m)\u001b[0m\u001b[0;34m\u001b[0m\u001b[0;34m\u001b[0m\u001b[0m\n",
      "\u001b[0m\u001b[0;32m     71 \u001b[0;31m\u001b[0;34m\u001b[0m\u001b[0m\n",
      "\u001b[0m\u001b[0;32m     72 \u001b[0;31m        \u001b[0mdata_fused_repr\u001b[0m \u001b[0;34m=\u001b[0m \u001b[0mmeta_repr\u001b[0m \u001b[0;34m=\u001b[0m \u001b[0;32mNone\u001b[0m\u001b[0;34m\u001b[0m\u001b[0;34m\u001b[0m\u001b[0m\n",
      "\u001b[0m\n"
     ]
    },
    {
     "name": "stdin",
     "output_type": "stream",
     "text": [
      "ipdb>  n\n"
     ]
    },
    {
     "name": "stdout",
     "output_type": "stream",
     "text": [
      "> \u001b[0;32m/tmp/ipykernel_15122/1379713280.py\u001b[0m(72)\u001b[0;36mforward\u001b[0;34m()\u001b[0m\n",
      "\u001b[0;32m     70 \u001b[0;31m        \u001b[0mdata_repr\u001b[0m \u001b[0;34m=\u001b[0m \u001b[0mself\u001b[0m\u001b[0;34m.\u001b[0m\u001b[0mdr_encode\u001b[0m\u001b[0;34m(\u001b[0m\u001b[0mdata_input_ids\u001b[0m\u001b[0;34m,\u001b[0m \u001b[0mdata_attention_mask\u001b[0m\u001b[0;34m)\u001b[0m\u001b[0;34m\u001b[0m\u001b[0;34m\u001b[0m\u001b[0m\n",
      "\u001b[0m\u001b[0;32m     71 \u001b[0;31m\u001b[0;34m\u001b[0m\u001b[0m\n",
      "\u001b[0m\u001b[0;32m---> 72 \u001b[0;31m        \u001b[0mdata_fused_repr\u001b[0m \u001b[0;34m=\u001b[0m \u001b[0mmeta_repr\u001b[0m \u001b[0;34m=\u001b[0m \u001b[0;32mNone\u001b[0m\u001b[0;34m\u001b[0m\u001b[0;34m\u001b[0m\u001b[0m\n",
      "\u001b[0m\u001b[0;32m     73 \u001b[0;31m        \u001b[0;32mif\u001b[0m \u001b[0mdata_aug_meta_prefix\u001b[0m \u001b[0;32mis\u001b[0m \u001b[0;32mnot\u001b[0m \u001b[0;32mNone\u001b[0m\u001b[0;34m:\u001b[0m\u001b[0;34m\u001b[0m\u001b[0;34m\u001b[0m\u001b[0m\n",
      "\u001b[0m\u001b[0;32m     74 \u001b[0;31m            \u001b[0mmeta_kwargs\u001b[0m \u001b[0;34m=\u001b[0m \u001b[0mParameters\u001b[0m\u001b[0;34m.\u001b[0m\u001b[0mfrom_meta_aug_prefix\u001b[0m\u001b[0;34m(\u001b[0m\u001b[0mdata_aug_meta_prefix\u001b[0m\u001b[0;34m,\u001b[0m \u001b[0;34m**\u001b[0m\u001b[0mkwargs\u001b[0m\u001b[0;34m)\u001b[0m\u001b[0;34m\u001b[0m\u001b[0;34m\u001b[0m\u001b[0m\n",
      "\u001b[0m\n"
     ]
    },
    {
     "name": "stdin",
     "output_type": "stream",
     "text": [
      "ipdb>  \n"
     ]
    },
    {
     "name": "stdout",
     "output_type": "stream",
     "text": [
      "> \u001b[0;32m/tmp/ipykernel_15122/1379713280.py\u001b[0m(73)\u001b[0;36mforward\u001b[0;34m()\u001b[0m\n",
      "\u001b[0;32m     71 \u001b[0;31m\u001b[0;34m\u001b[0m\u001b[0m\n",
      "\u001b[0m\u001b[0;32m     72 \u001b[0;31m        \u001b[0mdata_fused_repr\u001b[0m \u001b[0;34m=\u001b[0m \u001b[0mmeta_repr\u001b[0m \u001b[0;34m=\u001b[0m \u001b[0;32mNone\u001b[0m\u001b[0;34m\u001b[0m\u001b[0;34m\u001b[0m\u001b[0m\n",
      "\u001b[0m\u001b[0;32m---> 73 \u001b[0;31m        \u001b[0;32mif\u001b[0m \u001b[0mdata_aug_meta_prefix\u001b[0m \u001b[0;32mis\u001b[0m \u001b[0;32mnot\u001b[0m \u001b[0;32mNone\u001b[0m\u001b[0;34m:\u001b[0m\u001b[0;34m\u001b[0m\u001b[0;34m\u001b[0m\u001b[0m\n",
      "\u001b[0m\u001b[0;32m     74 \u001b[0;31m            \u001b[0mmeta_kwargs\u001b[0m \u001b[0;34m=\u001b[0m \u001b[0mParameters\u001b[0m\u001b[0;34m.\u001b[0m\u001b[0mfrom_meta_aug_prefix\u001b[0m\u001b[0;34m(\u001b[0m\u001b[0mdata_aug_meta_prefix\u001b[0m\u001b[0;34m,\u001b[0m \u001b[0;34m**\u001b[0m\u001b[0mkwargs\u001b[0m\u001b[0;34m)\u001b[0m\u001b[0;34m\u001b[0m\u001b[0;34m\u001b[0m\u001b[0m\n",
      "\u001b[0m\u001b[0;32m     75 \u001b[0;31m            \u001b[0;32mif\u001b[0m \u001b[0mlen\u001b[0m\u001b[0;34m(\u001b[0m\u001b[0mmeta_kwargs\u001b[0m\u001b[0;34m)\u001b[0m\u001b[0;34m:\u001b[0m\u001b[0;34m\u001b[0m\u001b[0;34m\u001b[0m\u001b[0m\n",
      "\u001b[0m\n"
     ]
    },
    {
     "name": "stdin",
     "output_type": "stream",
     "text": [
      "ipdb>  \n"
     ]
    },
    {
     "name": "stdout",
     "output_type": "stream",
     "text": [
      "> \u001b[0;32m/tmp/ipykernel_15122/1379713280.py\u001b[0m(79)\u001b[0;36mforward\u001b[0;34m()\u001b[0m\n",
      "\u001b[0;32m     77 \u001b[0;31m                \u001b[0mdata_fused_repr\u001b[0m \u001b[0;34m=\u001b[0m \u001b[0mself\u001b[0m\u001b[0;34m.\u001b[0m\u001b[0mdr\u001b[0m\u001b[0;34m(\u001b[0m\u001b[0mdata_fused_repr\u001b[0m\u001b[0;34m)\u001b[0m\u001b[0;34m\u001b[0m\u001b[0;34m\u001b[0m\u001b[0m\n",
      "\u001b[0m\u001b[0;32m     78 \u001b[0;31m\u001b[0;34m\u001b[0m\u001b[0m\n",
      "\u001b[0m\u001b[0;32m---> 79 \u001b[0;31m        \u001b[0mdata_repr\u001b[0m \u001b[0;34m=\u001b[0m \u001b[0mF\u001b[0m\u001b[0;34m.\u001b[0m\u001b[0mnormalize\u001b[0m\u001b[0;34m(\u001b[0m\u001b[0mdata_repr\u001b[0m\u001b[0;34m,\u001b[0m \u001b[0mdim\u001b[0m\u001b[0;34m=\u001b[0m\u001b[0;36m1\u001b[0m\u001b[0;34m)\u001b[0m\u001b[0;34m\u001b[0m\u001b[0;34m\u001b[0m\u001b[0m\n",
      "\u001b[0m\u001b[0;32m     80 \u001b[0;31m\u001b[0;34m\u001b[0m\u001b[0m\n",
      "\u001b[0m\u001b[0;32m     81 \u001b[0;31m        return EncoderOutput(\n",
      "\u001b[0m\n"
     ]
    },
    {
     "name": "stdin",
     "output_type": "stream",
     "text": [
      "ipdb>  \n"
     ]
    },
    {
     "name": "stdout",
     "output_type": "stream",
     "text": [
      "> \u001b[0;32m/tmp/ipykernel_15122/1379713280.py\u001b[0m(81)\u001b[0;36mforward\u001b[0;34m()\u001b[0m\n",
      "\u001b[0;32m     79 \u001b[0;31m        \u001b[0mdata_repr\u001b[0m \u001b[0;34m=\u001b[0m \u001b[0mF\u001b[0m\u001b[0;34m.\u001b[0m\u001b[0mnormalize\u001b[0m\u001b[0;34m(\u001b[0m\u001b[0mdata_repr\u001b[0m\u001b[0;34m,\u001b[0m \u001b[0mdim\u001b[0m\u001b[0;34m=\u001b[0m\u001b[0;36m1\u001b[0m\u001b[0;34m)\u001b[0m\u001b[0;34m\u001b[0m\u001b[0;34m\u001b[0m\u001b[0m\n",
      "\u001b[0m\u001b[0;32m     80 \u001b[0;31m\u001b[0;34m\u001b[0m\u001b[0m\n",
      "\u001b[0m\u001b[0;32m---> 81 \u001b[0;31m        return EncoderOutput(\n",
      "\u001b[0m\u001b[0;32m     82 \u001b[0;31m            \u001b[0mrep\u001b[0m\u001b[0;34m=\u001b[0m\u001b[0mdata_repr\u001b[0m\u001b[0;34m,\u001b[0m\u001b[0;34m\u001b[0m\u001b[0;34m\u001b[0m\u001b[0m\n",
      "\u001b[0m\u001b[0;32m     83 \u001b[0;31m            \u001b[0mfused_rep\u001b[0m\u001b[0;34m=\u001b[0m\u001b[0mdata_fused_repr\u001b[0m\u001b[0;34m,\u001b[0m\u001b[0;34m\u001b[0m\u001b[0;34m\u001b[0m\u001b[0m\n",
      "\u001b[0m\n"
     ]
    },
    {
     "name": "stdin",
     "output_type": "stream",
     "text": [
      "ipdb>  \n"
     ]
    },
    {
     "name": "stdout",
     "output_type": "stream",
     "text": [
      "> \u001b[0;32m/tmp/ipykernel_15122/1379713280.py\u001b[0m(82)\u001b[0;36mforward\u001b[0;34m()\u001b[0m\n",
      "\u001b[0;32m     80 \u001b[0;31m\u001b[0;34m\u001b[0m\u001b[0m\n",
      "\u001b[0m\u001b[0;32m     81 \u001b[0;31m        return EncoderOutput(\n",
      "\u001b[0m\u001b[0;32m---> 82 \u001b[0;31m            \u001b[0mrep\u001b[0m\u001b[0;34m=\u001b[0m\u001b[0mdata_repr\u001b[0m\u001b[0;34m,\u001b[0m\u001b[0;34m\u001b[0m\u001b[0;34m\u001b[0m\u001b[0m\n",
      "\u001b[0m\u001b[0;32m     83 \u001b[0;31m            \u001b[0mfused_rep\u001b[0m\u001b[0;34m=\u001b[0m\u001b[0mdata_fused_repr\u001b[0m\u001b[0;34m,\u001b[0m\u001b[0;34m\u001b[0m\u001b[0;34m\u001b[0m\u001b[0m\n",
      "\u001b[0m\u001b[0;32m     84 \u001b[0;31m            \u001b[0mmeta_repr\u001b[0m\u001b[0;34m=\u001b[0m\u001b[0mmeta_repr\u001b[0m\u001b[0;34m,\u001b[0m\u001b[0;34m\u001b[0m\u001b[0;34m\u001b[0m\u001b[0m\n",
      "\u001b[0m\n"
     ]
    },
    {
     "name": "stdin",
     "output_type": "stream",
     "text": [
      "ipdb>  \n"
     ]
    },
    {
     "name": "stdout",
     "output_type": "stream",
     "text": [
      "> \u001b[0;32m/tmp/ipykernel_15122/1379713280.py\u001b[0m(83)\u001b[0;36mforward\u001b[0;34m()\u001b[0m\n",
      "\u001b[0;32m     81 \u001b[0;31m        return EncoderOutput(\n",
      "\u001b[0m\u001b[0;32m     82 \u001b[0;31m            \u001b[0mrep\u001b[0m\u001b[0;34m=\u001b[0m\u001b[0mdata_repr\u001b[0m\u001b[0;34m,\u001b[0m\u001b[0;34m\u001b[0m\u001b[0;34m\u001b[0m\u001b[0m\n",
      "\u001b[0m\u001b[0;32m---> 83 \u001b[0;31m            \u001b[0mfused_rep\u001b[0m\u001b[0;34m=\u001b[0m\u001b[0mdata_fused_repr\u001b[0m\u001b[0;34m,\u001b[0m\u001b[0;34m\u001b[0m\u001b[0;34m\u001b[0m\u001b[0m\n",
      "\u001b[0m\u001b[0;32m     84 \u001b[0;31m            \u001b[0mmeta_repr\u001b[0m\u001b[0;34m=\u001b[0m\u001b[0mmeta_repr\u001b[0m\u001b[0;34m,\u001b[0m\u001b[0;34m\u001b[0m\u001b[0;34m\u001b[0m\u001b[0m\n",
      "\u001b[0m\u001b[0;32m     85 \u001b[0;31m        )\n",
      "\u001b[0m\n"
     ]
    },
    {
     "name": "stdin",
     "output_type": "stream",
     "text": [
      "ipdb>  \n"
     ]
    },
    {
     "name": "stdout",
     "output_type": "stream",
     "text": [
      "> \u001b[0;32m/tmp/ipykernel_15122/1379713280.py\u001b[0m(84)\u001b[0;36mforward\u001b[0;34m()\u001b[0m\n",
      "\u001b[0;32m     82 \u001b[0;31m            \u001b[0mrep\u001b[0m\u001b[0;34m=\u001b[0m\u001b[0mdata_repr\u001b[0m\u001b[0;34m,\u001b[0m\u001b[0;34m\u001b[0m\u001b[0;34m\u001b[0m\u001b[0m\n",
      "\u001b[0m\u001b[0;32m     83 \u001b[0;31m            \u001b[0mfused_rep\u001b[0m\u001b[0;34m=\u001b[0m\u001b[0mdata_fused_repr\u001b[0m\u001b[0;34m,\u001b[0m\u001b[0;34m\u001b[0m\u001b[0;34m\u001b[0m\u001b[0m\n",
      "\u001b[0m\u001b[0;32m---> 84 \u001b[0;31m            \u001b[0mmeta_repr\u001b[0m\u001b[0;34m=\u001b[0m\u001b[0mmeta_repr\u001b[0m\u001b[0;34m,\u001b[0m\u001b[0;34m\u001b[0m\u001b[0;34m\u001b[0m\u001b[0m\n",
      "\u001b[0m\u001b[0;32m     85 \u001b[0;31m        )\n",
      "\u001b[0m\u001b[0;32m     86 \u001b[0;31m\u001b[0;34m\u001b[0m\u001b[0m\n",
      "\u001b[0m\n"
     ]
    },
    {
     "name": "stdin",
     "output_type": "stream",
     "text": [
      "ipdb>  \n"
     ]
    },
    {
     "name": "stdout",
     "output_type": "stream",
     "text": [
      "> \u001b[0;32m/tmp/ipykernel_15122/1379713280.py\u001b[0m(81)\u001b[0;36mforward\u001b[0;34m()\u001b[0m\n",
      "\u001b[0;32m     79 \u001b[0;31m        \u001b[0mdata_repr\u001b[0m \u001b[0;34m=\u001b[0m \u001b[0mF\u001b[0m\u001b[0;34m.\u001b[0m\u001b[0mnormalize\u001b[0m\u001b[0;34m(\u001b[0m\u001b[0mdata_repr\u001b[0m\u001b[0;34m,\u001b[0m \u001b[0mdim\u001b[0m\u001b[0;34m=\u001b[0m\u001b[0;36m1\u001b[0m\u001b[0;34m)\u001b[0m\u001b[0;34m\u001b[0m\u001b[0;34m\u001b[0m\u001b[0m\n",
      "\u001b[0m\u001b[0;32m     80 \u001b[0;31m\u001b[0;34m\u001b[0m\u001b[0m\n",
      "\u001b[0m\u001b[0;32m---> 81 \u001b[0;31m        return EncoderOutput(\n",
      "\u001b[0m\u001b[0;32m     82 \u001b[0;31m            \u001b[0mrep\u001b[0m\u001b[0;34m=\u001b[0m\u001b[0mdata_repr\u001b[0m\u001b[0;34m,\u001b[0m\u001b[0;34m\u001b[0m\u001b[0;34m\u001b[0m\u001b[0m\n",
      "\u001b[0m\u001b[0;32m     83 \u001b[0;31m            \u001b[0mfused_rep\u001b[0m\u001b[0;34m=\u001b[0m\u001b[0mdata_fused_repr\u001b[0m\u001b[0;34m,\u001b[0m\u001b[0;34m\u001b[0m\u001b[0;34m\u001b[0m\u001b[0m\n",
      "\u001b[0m\n"
     ]
    },
    {
     "name": "stdin",
     "output_type": "stream",
     "text": [
      "ipdb>  \n"
     ]
    },
    {
     "name": "stdout",
     "output_type": "stream",
     "text": [
      "--Return--\n",
      "EncoderOutput...eta_repr=None)\n",
      "> \u001b[0;32m/tmp/ipykernel_15122/1379713280.py\u001b[0m(81)\u001b[0;36mforward\u001b[0;34m()\u001b[0m\n",
      "\u001b[0;32m     79 \u001b[0;31m        \u001b[0mdata_repr\u001b[0m \u001b[0;34m=\u001b[0m \u001b[0mF\u001b[0m\u001b[0;34m.\u001b[0m\u001b[0mnormalize\u001b[0m\u001b[0;34m(\u001b[0m\u001b[0mdata_repr\u001b[0m\u001b[0;34m,\u001b[0m \u001b[0mdim\u001b[0m\u001b[0;34m=\u001b[0m\u001b[0;36m1\u001b[0m\u001b[0;34m)\u001b[0m\u001b[0;34m\u001b[0m\u001b[0;34m\u001b[0m\u001b[0m\n",
      "\u001b[0m\u001b[0;32m     80 \u001b[0;31m\u001b[0;34m\u001b[0m\u001b[0m\n",
      "\u001b[0m\u001b[0;32m---> 81 \u001b[0;31m        return EncoderOutput(\n",
      "\u001b[0m\u001b[0;32m     82 \u001b[0;31m            \u001b[0mrep\u001b[0m\u001b[0;34m=\u001b[0m\u001b[0mdata_repr\u001b[0m\u001b[0;34m,\u001b[0m\u001b[0;34m\u001b[0m\u001b[0;34m\u001b[0m\u001b[0m\n",
      "\u001b[0m\u001b[0;32m     83 \u001b[0;31m            \u001b[0mfused_rep\u001b[0m\u001b[0;34m=\u001b[0m\u001b[0mdata_fused_repr\u001b[0m\u001b[0;34m,\u001b[0m\u001b[0;34m\u001b[0m\u001b[0;34m\u001b[0m\u001b[0m\n",
      "\u001b[0m\n"
     ]
    },
    {
     "name": "stdin",
     "output_type": "stream",
     "text": [
      "ipdb>  \n"
     ]
    },
    {
     "name": "stdout",
     "output_type": "stream",
     "text": [
      "> \u001b[0;32m/tmp/ipykernel_15122/1326464437.py\u001b[0m(78)\u001b[0;36mforward\u001b[0;34m()\u001b[0m\n",
      "\u001b[0;32m     76 \u001b[0;31m                                 data_aug_meta_prefix=self.lbl2data_aug_meta_prefix, **lbl2data_meta_kwargs)\n",
      "\u001b[0m\u001b[0;32m     77 \u001b[0;31m\u001b[0;34m\u001b[0m\u001b[0m\n",
      "\u001b[0m\u001b[0;32m---> 78 \u001b[0;31m            loss = self.compute_loss(data_o.fused_rep, lbl2data_o.rep,lbl2data_data2ptr,lbl2data_idx,\n",
      "\u001b[0m\u001b[0;32m     79 \u001b[0;31m                                     plbl2data_data2ptr,plbl2data_idx)\n",
      "\u001b[0m\u001b[0;32m     80 \u001b[0;31m\u001b[0;34m\u001b[0m\u001b[0m\n",
      "\u001b[0m\n"
     ]
    },
    {
     "name": "stdin",
     "output_type": "stream",
     "text": [
      "ipdb>  c\n"
     ]
    }
   ],
   "source": [
    "o = model(**b.to(model.device))"
   ]
  },
  {
   "cell_type": "code",
   "execution_count": 108,
   "id": "d676df72-bf17-45bc-95c2-18e1c31da177",
   "metadata": {},
   "outputs": [
    {
     "data": {
      "text/plain": [
       "tensor(0.0167, grad_fn=<AddBackward0>)"
      ]
     },
     "execution_count": 108,
     "metadata": {},
     "output_type": "execute_result"
    }
   ],
   "source": [
    "o.loss"
   ]
  },
  {
   "cell_type": "code",
   "execution_count": null,
   "id": "4f434d54-1827-45d3-94af-eef6f768dd98",
   "metadata": {},
   "outputs": [],
   "source": []
  },
  {
   "cell_type": "code",
   "execution_count": 84,
   "id": "7884228e-e64c-4e8a-897d-a75a08290701",
   "metadata": {},
   "outputs": [],
   "source": [
    "def func():\n",
    "    import pdb; pdb.set_trace()\n",
    "    return model(**b.to(model.device))\n",
    "    "
   ]
  },
  {
   "cell_type": "code",
   "execution_count": 85,
   "id": "c12e3002-4e82-4bbf-83b2-ef2048683d73",
   "metadata": {
    "scrolled": true
   },
   "outputs": [
    {
     "name": "stdout",
     "output_type": "stream",
     "text": [
      "> \u001b[0;32m/tmp/ipykernel_15122/3657616883.py\u001b[0m(3)\u001b[0;36mfunc\u001b[0;34m()\u001b[0m\n",
      "\u001b[0;32m      1 \u001b[0;31m\u001b[0;32mdef\u001b[0m \u001b[0mfunc\u001b[0m\u001b[0;34m(\u001b[0m\u001b[0;34m)\u001b[0m\u001b[0;34m:\u001b[0m\u001b[0;34m\u001b[0m\u001b[0;34m\u001b[0m\u001b[0m\n",
      "\u001b[0m\u001b[0;32m      2 \u001b[0;31m    \u001b[0;32mimport\u001b[0m \u001b[0mpdb\u001b[0m\u001b[0;34m;\u001b[0m \u001b[0mpdb\u001b[0m\u001b[0;34m.\u001b[0m\u001b[0mset_trace\u001b[0m\u001b[0;34m(\u001b[0m\u001b[0;34m)\u001b[0m\u001b[0;34m\u001b[0m\u001b[0;34m\u001b[0m\u001b[0m\n",
      "\u001b[0m\u001b[0;32m----> 3 \u001b[0;31m    \u001b[0;32mreturn\u001b[0m \u001b[0mmodel\u001b[0m\u001b[0;34m(\u001b[0m\u001b[0;34m**\u001b[0m\u001b[0mb\u001b[0m\u001b[0;34m.\u001b[0m\u001b[0mto\u001b[0m\u001b[0;34m(\u001b[0m\u001b[0mmodel\u001b[0m\u001b[0;34m.\u001b[0m\u001b[0mdevice\u001b[0m\u001b[0;34m)\u001b[0m\u001b[0;34m)\u001b[0m\u001b[0;34m\u001b[0m\u001b[0;34m\u001b[0m\u001b[0m\n",
      "\u001b[0m\u001b[0;32m      4 \u001b[0;31m\u001b[0;34m\u001b[0m\u001b[0m\n",
      "\u001b[0m\n"
     ]
    },
    {
     "name": "stdin",
     "output_type": "stream",
     "text": [
      "ipdb>  b model.forward\n"
     ]
    },
    {
     "name": "stdout",
     "output_type": "stream",
     "text": [
      "Breakpoint 1 at /tmp/ipykernel_15122/1326464437.py:46\n"
     ]
    },
    {
     "name": "stdin",
     "output_type": "stream",
     "text": [
      "ipdb>  b model.encoder.forward\n"
     ]
    },
    {
     "name": "stdout",
     "output_type": "stream",
     "text": [
      "Breakpoint 2 at /tmp/ipykernel_15122/1379713280.py:61\n"
     ]
    },
    {
     "name": "stdin",
     "output_type": "stream",
     "text": [
      "ipdb>  c\n"
     ]
    },
    {
     "name": "stdout",
     "output_type": "stream",
     "text": [
      "> \u001b[0;32m/tmp/ipykernel_15122/1326464437.py\u001b[0m(61)\u001b[0;36mforward\u001b[0;34m()\u001b[0m\n",
      "\u001b[0;32m     59 \u001b[0;31m        \u001b[0;34m**\u001b[0m\u001b[0mkwargs\u001b[0m\u001b[0;34m\u001b[0m\u001b[0;34m\u001b[0m\u001b[0m\n",
      "\u001b[0m\u001b[0;32m     60 \u001b[0;31m    ):  \n",
      "\u001b[0m\u001b[0;32m---> 61 \u001b[0;31m        \u001b[0mreturn_dict\u001b[0m \u001b[0;34m=\u001b[0m \u001b[0mreturn_dict\u001b[0m \u001b[0;32mif\u001b[0m \u001b[0mreturn_dict\u001b[0m \u001b[0;32mis\u001b[0m \u001b[0;32mnot\u001b[0m \u001b[0;32mNone\u001b[0m \u001b[0;32melse\u001b[0m \u001b[0mself\u001b[0m\u001b[0;34m.\u001b[0m\u001b[0mconfig\u001b[0m\u001b[0;34m.\u001b[0m\u001b[0muse_return_dict\u001b[0m\u001b[0;34m\u001b[0m\u001b[0;34m\u001b[0m\u001b[0m\n",
      "\u001b[0m\u001b[0;32m     62 \u001b[0;31m\u001b[0;34m\u001b[0m\u001b[0m\n",
      "\u001b[0m\u001b[0;32m     63 \u001b[0;31m        \u001b[0;32mif\u001b[0m \u001b[0mself\u001b[0m\u001b[0;34m.\u001b[0m\u001b[0muse_encoder_parallel\u001b[0m\u001b[0;34m:\u001b[0m\u001b[0;34m\u001b[0m\u001b[0;34m\u001b[0m\u001b[0m\n",
      "\u001b[0m\n"
     ]
    },
    {
     "name": "stdin",
     "output_type": "stream",
     "text": [
      "ipdb>  n\n"
     ]
    },
    {
     "name": "stdout",
     "output_type": "stream",
     "text": [
      "> \u001b[0;32m/tmp/ipykernel_15122/1326464437.py\u001b[0m(63)\u001b[0;36mforward\u001b[0;34m()\u001b[0m\n",
      "\u001b[0;32m     61 \u001b[0;31m        \u001b[0mreturn_dict\u001b[0m \u001b[0;34m=\u001b[0m \u001b[0mreturn_dict\u001b[0m \u001b[0;32mif\u001b[0m \u001b[0mreturn_dict\u001b[0m \u001b[0;32mis\u001b[0m \u001b[0;32mnot\u001b[0m \u001b[0;32mNone\u001b[0m \u001b[0;32melse\u001b[0m \u001b[0mself\u001b[0m\u001b[0;34m.\u001b[0m\u001b[0mconfig\u001b[0m\u001b[0;34m.\u001b[0m\u001b[0muse_return_dict\u001b[0m\u001b[0;34m\u001b[0m\u001b[0;34m\u001b[0m\u001b[0m\n",
      "\u001b[0m\u001b[0;32m     62 \u001b[0;31m\u001b[0;34m\u001b[0m\u001b[0m\n",
      "\u001b[0m\u001b[0;32m---> 63 \u001b[0;31m        \u001b[0;32mif\u001b[0m \u001b[0mself\u001b[0m\u001b[0;34m.\u001b[0m\u001b[0muse_encoder_parallel\u001b[0m\u001b[0;34m:\u001b[0m\u001b[0;34m\u001b[0m\u001b[0;34m\u001b[0m\u001b[0m\n",
      "\u001b[0m\u001b[0;32m     64 \u001b[0;31m            \u001b[0mencoder\u001b[0m \u001b[0;34m=\u001b[0m \u001b[0mXCDataParallel\u001b[0m\u001b[0;34m(\u001b[0m\u001b[0mmodule\u001b[0m\u001b[0;34m=\u001b[0m\u001b[0mself\u001b[0m\u001b[0;34m.\u001b[0m\u001b[0mencoder\u001b[0m\u001b[0;34m)\u001b[0m\u001b[0;34m\u001b[0m\u001b[0;34m\u001b[0m\u001b[0m\n",
      "\u001b[0m\u001b[0;32m     65 \u001b[0;31m        \u001b[0;32melse\u001b[0m\u001b[0;34m:\u001b[0m \u001b[0mencoder\u001b[0m \u001b[0;34m=\u001b[0m \u001b[0mself\u001b[0m\u001b[0;34m.\u001b[0m\u001b[0mencoder\u001b[0m\u001b[0;34m\u001b[0m\u001b[0;34m\u001b[0m\u001b[0m\n",
      "\u001b[0m\n"
     ]
    },
    {
     "name": "stdin",
     "output_type": "stream",
     "text": [
      "ipdb>  \n"
     ]
    },
    {
     "name": "stdout",
     "output_type": "stream",
     "text": [
      "> \u001b[0;32m/tmp/ipykernel_15122/1326464437.py\u001b[0m(65)\u001b[0;36mforward\u001b[0;34m()\u001b[0m\n",
      "\u001b[0;32m     63 \u001b[0;31m        \u001b[0;32mif\u001b[0m \u001b[0mself\u001b[0m\u001b[0;34m.\u001b[0m\u001b[0muse_encoder_parallel\u001b[0m\u001b[0;34m:\u001b[0m\u001b[0;34m\u001b[0m\u001b[0;34m\u001b[0m\u001b[0m\n",
      "\u001b[0m\u001b[0;32m     64 \u001b[0;31m            \u001b[0mencoder\u001b[0m \u001b[0;34m=\u001b[0m \u001b[0mXCDataParallel\u001b[0m\u001b[0;34m(\u001b[0m\u001b[0mmodule\u001b[0m\u001b[0;34m=\u001b[0m\u001b[0mself\u001b[0m\u001b[0;34m.\u001b[0m\u001b[0mencoder\u001b[0m\u001b[0;34m)\u001b[0m\u001b[0;34m\u001b[0m\u001b[0;34m\u001b[0m\u001b[0m\n",
      "\u001b[0m\u001b[0;32m---> 65 \u001b[0;31m        \u001b[0;32melse\u001b[0m\u001b[0;34m:\u001b[0m \u001b[0mencoder\u001b[0m \u001b[0;34m=\u001b[0m \u001b[0mself\u001b[0m\u001b[0;34m.\u001b[0m\u001b[0mencoder\u001b[0m\u001b[0;34m\u001b[0m\u001b[0;34m\u001b[0m\u001b[0m\n",
      "\u001b[0m\u001b[0;32m     66 \u001b[0;31m\u001b[0;34m\u001b[0m\u001b[0m\n",
      "\u001b[0m\u001b[0;32m     67 \u001b[0;31m        \u001b[0mdata_meta_kwargs\u001b[0m \u001b[0;34m=\u001b[0m \u001b[0mself\u001b[0m\u001b[0;34m.\u001b[0m\u001b[0m_get_encoder_meta_kwargs\u001b[0m\u001b[0;34m(\u001b[0m\u001b[0;34m'data'\u001b[0m\u001b[0;34m,\u001b[0m \u001b[0mself\u001b[0m\u001b[0;34m.\u001b[0m\u001b[0mdata_aug_meta_prefix\u001b[0m\u001b[0;34m,\u001b[0m \u001b[0;34m**\u001b[0m\u001b[0mkwargs\u001b[0m\u001b[0;34m)\u001b[0m\u001b[0;34m\u001b[0m\u001b[0;34m\u001b[0m\u001b[0m\n",
      "\u001b[0m\n"
     ]
    },
    {
     "name": "stdin",
     "output_type": "stream",
     "text": [
      "ipdb>  \n"
     ]
    },
    {
     "name": "stdout",
     "output_type": "stream",
     "text": [
      "> \u001b[0;32m/tmp/ipykernel_15122/1326464437.py\u001b[0m(67)\u001b[0;36mforward\u001b[0;34m()\u001b[0m\n",
      "\u001b[0;32m     65 \u001b[0;31m        \u001b[0;32melse\u001b[0m\u001b[0;34m:\u001b[0m \u001b[0mencoder\u001b[0m \u001b[0;34m=\u001b[0m \u001b[0mself\u001b[0m\u001b[0;34m.\u001b[0m\u001b[0mencoder\u001b[0m\u001b[0;34m\u001b[0m\u001b[0;34m\u001b[0m\u001b[0m\n",
      "\u001b[0m\u001b[0;32m     66 \u001b[0;31m\u001b[0;34m\u001b[0m\u001b[0m\n",
      "\u001b[0m\u001b[0;32m---> 67 \u001b[0;31m        \u001b[0mdata_meta_kwargs\u001b[0m \u001b[0;34m=\u001b[0m \u001b[0mself\u001b[0m\u001b[0;34m.\u001b[0m\u001b[0m_get_encoder_meta_kwargs\u001b[0m\u001b[0;34m(\u001b[0m\u001b[0;34m'data'\u001b[0m\u001b[0;34m,\u001b[0m \u001b[0mself\u001b[0m\u001b[0;34m.\u001b[0m\u001b[0mdata_aug_meta_prefix\u001b[0m\u001b[0;34m,\u001b[0m \u001b[0;34m**\u001b[0m\u001b[0mkwargs\u001b[0m\u001b[0;34m)\u001b[0m\u001b[0;34m\u001b[0m\u001b[0;34m\u001b[0m\u001b[0m\n",
      "\u001b[0m\u001b[0;32m     68 \u001b[0;31m        data_o = encoder(data_input_ids=data_input_ids, data_attention_mask=data_attention_mask, \n",
      "\u001b[0m\u001b[0;32m     69 \u001b[0;31m                         data_aug_meta_prefix=self.data_aug_meta_prefix, **data_meta_kwargs)\n",
      "\u001b[0m\n"
     ]
    },
    {
     "name": "stdin",
     "output_type": "stream",
     "text": [
      "ipdb>  \n"
     ]
    },
    {
     "name": "stdout",
     "output_type": "stream",
     "text": [
      "> \u001b[0;32m/tmp/ipykernel_15122/1326464437.py\u001b[0m(68)\u001b[0;36mforward\u001b[0;34m()\u001b[0m\n",
      "\u001b[0;32m     66 \u001b[0;31m\u001b[0;34m\u001b[0m\u001b[0m\n",
      "\u001b[0m\u001b[0;32m     67 \u001b[0;31m        \u001b[0mdata_meta_kwargs\u001b[0m \u001b[0;34m=\u001b[0m \u001b[0mself\u001b[0m\u001b[0;34m.\u001b[0m\u001b[0m_get_encoder_meta_kwargs\u001b[0m\u001b[0;34m(\u001b[0m\u001b[0;34m'data'\u001b[0m\u001b[0;34m,\u001b[0m \u001b[0mself\u001b[0m\u001b[0;34m.\u001b[0m\u001b[0mdata_aug_meta_prefix\u001b[0m\u001b[0;34m,\u001b[0m \u001b[0;34m**\u001b[0m\u001b[0mkwargs\u001b[0m\u001b[0;34m)\u001b[0m\u001b[0;34m\u001b[0m\u001b[0;34m\u001b[0m\u001b[0m\n",
      "\u001b[0m\u001b[0;32m---> 68 \u001b[0;31m        data_o = encoder(data_input_ids=data_input_ids, data_attention_mask=data_attention_mask, \n",
      "\u001b[0m\u001b[0;32m     69 \u001b[0;31m                         data_aug_meta_prefix=self.data_aug_meta_prefix, **data_meta_kwargs)\n",
      "\u001b[0m\u001b[0;32m     70 \u001b[0;31m\u001b[0;34m\u001b[0m\u001b[0m\n",
      "\u001b[0m\n"
     ]
    },
    {
     "name": "stdin",
     "output_type": "stream",
     "text": [
      "ipdb>  \n"
     ]
    },
    {
     "name": "stdout",
     "output_type": "stream",
     "text": [
      "> \u001b[0;32m/tmp/ipykernel_15122/1326464437.py\u001b[0m(69)\u001b[0;36mforward\u001b[0;34m()\u001b[0m\n",
      "\u001b[0;32m     67 \u001b[0;31m        \u001b[0mdata_meta_kwargs\u001b[0m \u001b[0;34m=\u001b[0m \u001b[0mself\u001b[0m\u001b[0;34m.\u001b[0m\u001b[0m_get_encoder_meta_kwargs\u001b[0m\u001b[0;34m(\u001b[0m\u001b[0;34m'data'\u001b[0m\u001b[0;34m,\u001b[0m \u001b[0mself\u001b[0m\u001b[0;34m.\u001b[0m\u001b[0mdata_aug_meta_prefix\u001b[0m\u001b[0;34m,\u001b[0m \u001b[0;34m**\u001b[0m\u001b[0mkwargs\u001b[0m\u001b[0;34m)\u001b[0m\u001b[0;34m\u001b[0m\u001b[0;34m\u001b[0m\u001b[0m\n",
      "\u001b[0m\u001b[0;32m     68 \u001b[0;31m        data_o = encoder(data_input_ids=data_input_ids, data_attention_mask=data_attention_mask, \n",
      "\u001b[0m\u001b[0;32m---> 69 \u001b[0;31m                         data_aug_meta_prefix=self.data_aug_meta_prefix, **data_meta_kwargs)\n",
      "\u001b[0m\u001b[0;32m     70 \u001b[0;31m\u001b[0;34m\u001b[0m\u001b[0m\n",
      "\u001b[0m\u001b[0;32m     71 \u001b[0;31m\u001b[0;34m\u001b[0m\u001b[0m\n",
      "\u001b[0m\n"
     ]
    },
    {
     "name": "stdin",
     "output_type": "stream",
     "text": [
      "ipdb>  \n"
     ]
    },
    {
     "name": "stdout",
     "output_type": "stream",
     "text": [
      "> \u001b[0;32m/tmp/ipykernel_15122/1326464437.py\u001b[0m(68)\u001b[0;36mforward\u001b[0;34m()\u001b[0m\n",
      "\u001b[0;32m     66 \u001b[0;31m\u001b[0;34m\u001b[0m\u001b[0m\n",
      "\u001b[0m\u001b[0;32m     67 \u001b[0;31m        \u001b[0mdata_meta_kwargs\u001b[0m \u001b[0;34m=\u001b[0m \u001b[0mself\u001b[0m\u001b[0;34m.\u001b[0m\u001b[0m_get_encoder_meta_kwargs\u001b[0m\u001b[0;34m(\u001b[0m\u001b[0;34m'data'\u001b[0m\u001b[0;34m,\u001b[0m \u001b[0mself\u001b[0m\u001b[0;34m.\u001b[0m\u001b[0mdata_aug_meta_prefix\u001b[0m\u001b[0;34m,\u001b[0m \u001b[0;34m**\u001b[0m\u001b[0mkwargs\u001b[0m\u001b[0;34m)\u001b[0m\u001b[0;34m\u001b[0m\u001b[0;34m\u001b[0m\u001b[0m\n",
      "\u001b[0m\u001b[0;32m---> 68 \u001b[0;31m        data_o = encoder(data_input_ids=data_input_ids, data_attention_mask=data_attention_mask, \n",
      "\u001b[0m\u001b[0;32m     69 \u001b[0;31m                         data_aug_meta_prefix=self.data_aug_meta_prefix, **data_meta_kwargs)\n",
      "\u001b[0m\u001b[0;32m     70 \u001b[0;31m\u001b[0;34m\u001b[0m\u001b[0m\n",
      "\u001b[0m\n"
     ]
    },
    {
     "name": "stdin",
     "output_type": "stream",
     "text": [
      "ipdb>  \n"
     ]
    },
    {
     "name": "stdout",
     "output_type": "stream",
     "text": [
      "> \u001b[0;32m/tmp/ipykernel_15122/1326464437.py\u001b[0m(69)\u001b[0;36mforward\u001b[0;34m()\u001b[0m\n",
      "\u001b[0;32m     67 \u001b[0;31m        \u001b[0mdata_meta_kwargs\u001b[0m \u001b[0;34m=\u001b[0m \u001b[0mself\u001b[0m\u001b[0;34m.\u001b[0m\u001b[0m_get_encoder_meta_kwargs\u001b[0m\u001b[0;34m(\u001b[0m\u001b[0;34m'data'\u001b[0m\u001b[0;34m,\u001b[0m \u001b[0mself\u001b[0m\u001b[0;34m.\u001b[0m\u001b[0mdata_aug_meta_prefix\u001b[0m\u001b[0;34m,\u001b[0m \u001b[0;34m**\u001b[0m\u001b[0mkwargs\u001b[0m\u001b[0;34m)\u001b[0m\u001b[0;34m\u001b[0m\u001b[0;34m\u001b[0m\u001b[0m\n",
      "\u001b[0m\u001b[0;32m     68 \u001b[0;31m        data_o = encoder(data_input_ids=data_input_ids, data_attention_mask=data_attention_mask, \n",
      "\u001b[0m\u001b[0;32m---> 69 \u001b[0;31m                         data_aug_meta_prefix=self.data_aug_meta_prefix, **data_meta_kwargs)\n",
      "\u001b[0m\u001b[0;32m     70 \u001b[0;31m\u001b[0;34m\u001b[0m\u001b[0m\n",
      "\u001b[0m\u001b[0;32m     71 \u001b[0;31m\u001b[0;34m\u001b[0m\u001b[0m\n",
      "\u001b[0m\n"
     ]
    },
    {
     "name": "stdin",
     "output_type": "stream",
     "text": [
      "ipdb>  \n"
     ]
    },
    {
     "name": "stdout",
     "output_type": "stream",
     "text": [
      "> \u001b[0;32m/tmp/ipykernel_15122/1326464437.py\u001b[0m(68)\u001b[0;36mforward\u001b[0;34m()\u001b[0m\n",
      "\u001b[0;32m     66 \u001b[0;31m\u001b[0;34m\u001b[0m\u001b[0m\n",
      "\u001b[0m\u001b[0;32m     67 \u001b[0;31m        \u001b[0mdata_meta_kwargs\u001b[0m \u001b[0;34m=\u001b[0m \u001b[0mself\u001b[0m\u001b[0;34m.\u001b[0m\u001b[0m_get_encoder_meta_kwargs\u001b[0m\u001b[0;34m(\u001b[0m\u001b[0;34m'data'\u001b[0m\u001b[0;34m,\u001b[0m \u001b[0mself\u001b[0m\u001b[0;34m.\u001b[0m\u001b[0mdata_aug_meta_prefix\u001b[0m\u001b[0;34m,\u001b[0m \u001b[0;34m**\u001b[0m\u001b[0mkwargs\u001b[0m\u001b[0;34m)\u001b[0m\u001b[0;34m\u001b[0m\u001b[0;34m\u001b[0m\u001b[0m\n",
      "\u001b[0m\u001b[0;32m---> 68 \u001b[0;31m        data_o = encoder(data_input_ids=data_input_ids, data_attention_mask=data_attention_mask, \n",
      "\u001b[0m\u001b[0;32m     69 \u001b[0;31m                         data_aug_meta_prefix=self.data_aug_meta_prefix, **data_meta_kwargs)\n",
      "\u001b[0m\u001b[0;32m     70 \u001b[0;31m\u001b[0;34m\u001b[0m\u001b[0m\n",
      "\u001b[0m\n"
     ]
    },
    {
     "name": "stdin",
     "output_type": "stream",
     "text": [
      "ipdb>  \n"
     ]
    },
    {
     "name": "stdout",
     "output_type": "stream",
     "text": [
      "> \u001b[0;32m/tmp/ipykernel_15122/1379713280.py\u001b[0m(70)\u001b[0;36mforward\u001b[0;34m()\u001b[0m\n",
      "\u001b[0;32m     68 \u001b[0;31m        \u001b[0;34m**\u001b[0m\u001b[0mkwargs\u001b[0m\u001b[0;34m\u001b[0m\u001b[0;34m\u001b[0m\u001b[0m\n",
      "\u001b[0m\u001b[0;32m     69 \u001b[0;31m    ):  \n",
      "\u001b[0m\u001b[0;32m---> 70 \u001b[0;31m        \u001b[0mdata_repr\u001b[0m \u001b[0;34m=\u001b[0m \u001b[0mself\u001b[0m\u001b[0;34m.\u001b[0m\u001b[0mdr_encode\u001b[0m\u001b[0;34m(\u001b[0m\u001b[0mdata_input_ids\u001b[0m\u001b[0;34m,\u001b[0m \u001b[0mdata_attention_mask\u001b[0m\u001b[0;34m)\u001b[0m\u001b[0;34m\u001b[0m\u001b[0;34m\u001b[0m\u001b[0m\n",
      "\u001b[0m\u001b[0;32m     71 \u001b[0;31m\u001b[0;34m\u001b[0m\u001b[0m\n",
      "\u001b[0m\u001b[0;32m     72 \u001b[0;31m        \u001b[0mdata_fused_repr\u001b[0m \u001b[0;34m=\u001b[0m \u001b[0mmeta_repr\u001b[0m \u001b[0;34m=\u001b[0m \u001b[0;32mNone\u001b[0m\u001b[0;34m\u001b[0m\u001b[0;34m\u001b[0m\u001b[0m\n",
      "\u001b[0m\n"
     ]
    },
    {
     "name": "stdin",
     "output_type": "stream",
     "text": [
      "ipdb>  data_input_ids.shape\n"
     ]
    },
    {
     "name": "stdout",
     "output_type": "stream",
     "text": [
      "torch.Size([5, 32])\n"
     ]
    },
    {
     "name": "stdin",
     "output_type": "stream",
     "text": [
      "ipdb>  data_attention_mask.shape\n"
     ]
    },
    {
     "name": "stdout",
     "output_type": "stream",
     "text": [
      "torch.Size([5, 32])\n"
     ]
    },
    {
     "name": "stdin",
     "output_type": "stream",
     "text": [
      "ipdb>  n\n"
     ]
    },
    {
     "name": "stdout",
     "output_type": "stream",
     "text": [
      "> \u001b[0;32m/tmp/ipykernel_15122/1379713280.py\u001b[0m(72)\u001b[0;36mforward\u001b[0;34m()\u001b[0m\n",
      "\u001b[0;32m     70 \u001b[0;31m        \u001b[0mdata_repr\u001b[0m \u001b[0;34m=\u001b[0m \u001b[0mself\u001b[0m\u001b[0;34m.\u001b[0m\u001b[0mdr_encode\u001b[0m\u001b[0;34m(\u001b[0m\u001b[0mdata_input_ids\u001b[0m\u001b[0;34m,\u001b[0m \u001b[0mdata_attention_mask\u001b[0m\u001b[0;34m)\u001b[0m\u001b[0;34m\u001b[0m\u001b[0;34m\u001b[0m\u001b[0m\n",
      "\u001b[0m\u001b[0;32m     71 \u001b[0;31m\u001b[0;34m\u001b[0m\u001b[0m\n",
      "\u001b[0m\u001b[0;32m---> 72 \u001b[0;31m        \u001b[0mdata_fused_repr\u001b[0m \u001b[0;34m=\u001b[0m \u001b[0mmeta_repr\u001b[0m \u001b[0;34m=\u001b[0m \u001b[0;32mNone\u001b[0m\u001b[0;34m\u001b[0m\u001b[0;34m\u001b[0m\u001b[0m\n",
      "\u001b[0m\u001b[0;32m     73 \u001b[0;31m        \u001b[0;32mif\u001b[0m \u001b[0mdata_aug_meta_prefix\u001b[0m \u001b[0;32mis\u001b[0m \u001b[0;32mnot\u001b[0m \u001b[0;32mNone\u001b[0m\u001b[0;34m:\u001b[0m\u001b[0;34m\u001b[0m\u001b[0;34m\u001b[0m\u001b[0m\n",
      "\u001b[0m\u001b[0;32m     74 \u001b[0;31m            \u001b[0mmeta_kwargs\u001b[0m \u001b[0;34m=\u001b[0m \u001b[0mParameters\u001b[0m\u001b[0;34m.\u001b[0m\u001b[0mfrom_meta_aug_prefix\u001b[0m\u001b[0;34m(\u001b[0m\u001b[0mdata_aug_meta_prefix\u001b[0m\u001b[0;34m,\u001b[0m \u001b[0;34m**\u001b[0m\u001b[0mkwargs\u001b[0m\u001b[0;34m)\u001b[0m\u001b[0;34m\u001b[0m\u001b[0;34m\u001b[0m\u001b[0m\n",
      "\u001b[0m\n"
     ]
    },
    {
     "name": "stdin",
     "output_type": "stream",
     "text": [
      "ipdb>  data_repr.shape\n"
     ]
    },
    {
     "name": "stdout",
     "output_type": "stream",
     "text": [
      "torch.Size([5, 768])\n"
     ]
    },
    {
     "name": "stdin",
     "output_type": "stream",
     "text": [
      "ipdb>  n\n"
     ]
    },
    {
     "name": "stdout",
     "output_type": "stream",
     "text": [
      "> \u001b[0;32m/tmp/ipykernel_15122/1379713280.py\u001b[0m(73)\u001b[0;36mforward\u001b[0;34m()\u001b[0m\n",
      "\u001b[0;32m     71 \u001b[0;31m\u001b[0;34m\u001b[0m\u001b[0m\n",
      "\u001b[0m\u001b[0;32m     72 \u001b[0;31m        \u001b[0mdata_fused_repr\u001b[0m \u001b[0;34m=\u001b[0m \u001b[0mmeta_repr\u001b[0m \u001b[0;34m=\u001b[0m \u001b[0;32mNone\u001b[0m\u001b[0;34m\u001b[0m\u001b[0;34m\u001b[0m\u001b[0m\n",
      "\u001b[0m\u001b[0;32m---> 73 \u001b[0;31m        \u001b[0;32mif\u001b[0m \u001b[0mdata_aug_meta_prefix\u001b[0m \u001b[0;32mis\u001b[0m \u001b[0;32mnot\u001b[0m \u001b[0;32mNone\u001b[0m\u001b[0;34m:\u001b[0m\u001b[0;34m\u001b[0m\u001b[0;34m\u001b[0m\u001b[0m\n",
      "\u001b[0m\u001b[0;32m     74 \u001b[0;31m            \u001b[0mmeta_kwargs\u001b[0m \u001b[0;34m=\u001b[0m \u001b[0mParameters\u001b[0m\u001b[0;34m.\u001b[0m\u001b[0mfrom_meta_aug_prefix\u001b[0m\u001b[0;34m(\u001b[0m\u001b[0mdata_aug_meta_prefix\u001b[0m\u001b[0;34m,\u001b[0m \u001b[0;34m**\u001b[0m\u001b[0mkwargs\u001b[0m\u001b[0;34m)\u001b[0m\u001b[0;34m\u001b[0m\u001b[0;34m\u001b[0m\u001b[0m\n",
      "\u001b[0m\u001b[0;32m     75 \u001b[0;31m            \u001b[0;32mif\u001b[0m \u001b[0mlen\u001b[0m\u001b[0;34m(\u001b[0m\u001b[0mmeta_kwargs\u001b[0m\u001b[0;34m)\u001b[0m\u001b[0;34m:\u001b[0m\u001b[0;34m\u001b[0m\u001b[0;34m\u001b[0m\u001b[0m\n",
      "\u001b[0m\n"
     ]
    },
    {
     "name": "stdin",
     "output_type": "stream",
     "text": [
      "ipdb>  \n"
     ]
    },
    {
     "name": "stdout",
     "output_type": "stream",
     "text": [
      "> \u001b[0;32m/tmp/ipykernel_15122/1379713280.py\u001b[0m(74)\u001b[0;36mforward\u001b[0;34m()\u001b[0m\n",
      "\u001b[0;32m     72 \u001b[0;31m        \u001b[0mdata_fused_repr\u001b[0m \u001b[0;34m=\u001b[0m \u001b[0mmeta_repr\u001b[0m \u001b[0;34m=\u001b[0m \u001b[0;32mNone\u001b[0m\u001b[0;34m\u001b[0m\u001b[0;34m\u001b[0m\u001b[0m\n",
      "\u001b[0m\u001b[0;32m     73 \u001b[0;31m        \u001b[0;32mif\u001b[0m \u001b[0mdata_aug_meta_prefix\u001b[0m \u001b[0;32mis\u001b[0m \u001b[0;32mnot\u001b[0m \u001b[0;32mNone\u001b[0m\u001b[0;34m:\u001b[0m\u001b[0;34m\u001b[0m\u001b[0;34m\u001b[0m\u001b[0m\n",
      "\u001b[0m\u001b[0;32m---> 74 \u001b[0;31m            \u001b[0mmeta_kwargs\u001b[0m \u001b[0;34m=\u001b[0m \u001b[0mParameters\u001b[0m\u001b[0;34m.\u001b[0m\u001b[0mfrom_meta_aug_prefix\u001b[0m\u001b[0;34m(\u001b[0m\u001b[0mdata_aug_meta_prefix\u001b[0m\u001b[0;34m,\u001b[0m \u001b[0;34m**\u001b[0m\u001b[0mkwargs\u001b[0m\u001b[0;34m)\u001b[0m\u001b[0;34m\u001b[0m\u001b[0;34m\u001b[0m\u001b[0m\n",
      "\u001b[0m\u001b[0;32m     75 \u001b[0;31m            \u001b[0;32mif\u001b[0m \u001b[0mlen\u001b[0m\u001b[0;34m(\u001b[0m\u001b[0mmeta_kwargs\u001b[0m\u001b[0;34m)\u001b[0m\u001b[0;34m:\u001b[0m\u001b[0;34m\u001b[0m\u001b[0;34m\u001b[0m\u001b[0m\n",
      "\u001b[0m\u001b[0;32m     76 \u001b[0;31m                \u001b[0mdata_fused_repr\u001b[0m\u001b[0;34m,\u001b[0m \u001b[0mmeta_repr\u001b[0m \u001b[0;34m=\u001b[0m \u001b[0mself\u001b[0m\u001b[0;34m.\u001b[0m\u001b[0mfuse_meta_into_embeddings\u001b[0m\u001b[0;34m(\u001b[0m\u001b[0mdata_repr\u001b[0m\u001b[0;34m,\u001b[0m \u001b[0mmeta_kwargs\u001b[0m\u001b[0;34m)\u001b[0m\u001b[0;34m\u001b[0m\u001b[0;34m\u001b[0m\u001b[0m\n",
      "\u001b[0m\n"
     ]
    },
    {
     "name": "stdin",
     "output_type": "stream",
     "text": [
      "ipdb>  \n"
     ]
    },
    {
     "name": "stdout",
     "output_type": "stream",
     "text": [
      "> \u001b[0;32m/tmp/ipykernel_15122/1379713280.py\u001b[0m(75)\u001b[0;36mforward\u001b[0;34m()\u001b[0m\n",
      "\u001b[0;32m     73 \u001b[0;31m        \u001b[0;32mif\u001b[0m \u001b[0mdata_aug_meta_prefix\u001b[0m \u001b[0;32mis\u001b[0m \u001b[0;32mnot\u001b[0m \u001b[0;32mNone\u001b[0m\u001b[0;34m:\u001b[0m\u001b[0;34m\u001b[0m\u001b[0;34m\u001b[0m\u001b[0m\n",
      "\u001b[0m\u001b[0;32m     74 \u001b[0;31m            \u001b[0mmeta_kwargs\u001b[0m \u001b[0;34m=\u001b[0m \u001b[0mParameters\u001b[0m\u001b[0;34m.\u001b[0m\u001b[0mfrom_meta_aug_prefix\u001b[0m\u001b[0;34m(\u001b[0m\u001b[0mdata_aug_meta_prefix\u001b[0m\u001b[0;34m,\u001b[0m \u001b[0;34m**\u001b[0m\u001b[0mkwargs\u001b[0m\u001b[0;34m)\u001b[0m\u001b[0;34m\u001b[0m\u001b[0;34m\u001b[0m\u001b[0m\n",
      "\u001b[0m\u001b[0;32m---> 75 \u001b[0;31m            \u001b[0;32mif\u001b[0m \u001b[0mlen\u001b[0m\u001b[0;34m(\u001b[0m\u001b[0mmeta_kwargs\u001b[0m\u001b[0;34m)\u001b[0m\u001b[0;34m:\u001b[0m\u001b[0;34m\u001b[0m\u001b[0;34m\u001b[0m\u001b[0m\n",
      "\u001b[0m\u001b[0;32m     76 \u001b[0;31m                \u001b[0mdata_fused_repr\u001b[0m\u001b[0;34m,\u001b[0m \u001b[0mmeta_repr\u001b[0m \u001b[0;34m=\u001b[0m \u001b[0mself\u001b[0m\u001b[0;34m.\u001b[0m\u001b[0mfuse_meta_into_embeddings\u001b[0m\u001b[0;34m(\u001b[0m\u001b[0mdata_repr\u001b[0m\u001b[0;34m,\u001b[0m \u001b[0mmeta_kwargs\u001b[0m\u001b[0;34m)\u001b[0m\u001b[0;34m\u001b[0m\u001b[0;34m\u001b[0m\u001b[0m\n",
      "\u001b[0m\u001b[0;32m     77 \u001b[0;31m                \u001b[0mdata_fused_repr\u001b[0m \u001b[0;34m=\u001b[0m \u001b[0mself\u001b[0m\u001b[0;34m.\u001b[0m\u001b[0mdr\u001b[0m\u001b[0;34m(\u001b[0m\u001b[0mdata_fused_repr\u001b[0m\u001b[0;34m)\u001b[0m\u001b[0;34m\u001b[0m\u001b[0;34m\u001b[0m\u001b[0m\n",
      "\u001b[0m\n"
     ]
    },
    {
     "name": "stdin",
     "output_type": "stream",
     "text": [
      "ipdb>  meta_kwargs.keys()\n"
     ]
    },
    {
     "name": "stdout",
     "output_type": "stream",
     "text": [
      "dict_keys(['lnk2data'])\n"
     ]
    },
    {
     "name": "stdin",
     "output_type": "stream",
     "text": [
      "ipdb>  n\n"
     ]
    },
    {
     "name": "stdout",
     "output_type": "stream",
     "text": [
      "> \u001b[0;32m/tmp/ipykernel_15122/1379713280.py\u001b[0m(76)\u001b[0;36mforward\u001b[0;34m()\u001b[0m\n",
      "\u001b[0;32m     74 \u001b[0;31m            \u001b[0mmeta_kwargs\u001b[0m \u001b[0;34m=\u001b[0m \u001b[0mParameters\u001b[0m\u001b[0;34m.\u001b[0m\u001b[0mfrom_meta_aug_prefix\u001b[0m\u001b[0;34m(\u001b[0m\u001b[0mdata_aug_meta_prefix\u001b[0m\u001b[0;34m,\u001b[0m \u001b[0;34m**\u001b[0m\u001b[0mkwargs\u001b[0m\u001b[0;34m)\u001b[0m\u001b[0;34m\u001b[0m\u001b[0;34m\u001b[0m\u001b[0m\n",
      "\u001b[0m\u001b[0;32m     75 \u001b[0;31m            \u001b[0;32mif\u001b[0m \u001b[0mlen\u001b[0m\u001b[0;34m(\u001b[0m\u001b[0mmeta_kwargs\u001b[0m\u001b[0;34m)\u001b[0m\u001b[0;34m:\u001b[0m\u001b[0;34m\u001b[0m\u001b[0;34m\u001b[0m\u001b[0m\n",
      "\u001b[0m\u001b[0;32m---> 76 \u001b[0;31m                \u001b[0mdata_fused_repr\u001b[0m\u001b[0;34m,\u001b[0m \u001b[0mmeta_repr\u001b[0m \u001b[0;34m=\u001b[0m \u001b[0mself\u001b[0m\u001b[0;34m.\u001b[0m\u001b[0mfuse_meta_into_embeddings\u001b[0m\u001b[0;34m(\u001b[0m\u001b[0mdata_repr\u001b[0m\u001b[0;34m,\u001b[0m \u001b[0mmeta_kwargs\u001b[0m\u001b[0;34m)\u001b[0m\u001b[0;34m\u001b[0m\u001b[0;34m\u001b[0m\u001b[0m\n",
      "\u001b[0m\u001b[0;32m     77 \u001b[0;31m                \u001b[0mdata_fused_repr\u001b[0m \u001b[0;34m=\u001b[0m \u001b[0mself\u001b[0m\u001b[0;34m.\u001b[0m\u001b[0mdr\u001b[0m\u001b[0;34m(\u001b[0m\u001b[0mdata_fused_repr\u001b[0m\u001b[0;34m)\u001b[0m\u001b[0;34m\u001b[0m\u001b[0;34m\u001b[0m\u001b[0m\n",
      "\u001b[0m\u001b[0;32m     78 \u001b[0;31m\u001b[0;34m\u001b[0m\u001b[0m\n",
      "\u001b[0m\n"
     ]
    },
    {
     "name": "stdin",
     "output_type": "stream",
     "text": [
      "ipdb>  meta_kwargs['lnk2data'].keys()\n"
     ]
    },
    {
     "name": "stdout",
     "output_type": "stream",
     "text": [
      "dict_keys(['attention_mask', 'input_ids', 'idx', 'data2ptr', 'meta_repr'])\n"
     ]
    },
    {
     "name": "stdin",
     "output_type": "stream",
     "text": [
      "ipdb>  meta_kwargs['lnk2data']['meta_repr'].shape\n"
     ]
    },
    {
     "name": "stdout",
     "output_type": "stream",
     "text": [
      "torch.Size([15, 768])\n"
     ]
    },
    {
     "name": "stdin",
     "output_type": "stream",
     "text": [
      "ipdb>  b self.fuse_meta_into_embeddings\n"
     ]
    },
    {
     "name": "stdout",
     "output_type": "stream",
     "text": [
      "Breakpoint 3 at /tmp/ipykernel_15122/374209400.py:10\n"
     ]
    },
    {
     "name": "stdin",
     "output_type": "stream",
     "text": [
      "ipdb>  c\n"
     ]
    },
    {
     "name": "stdout",
     "output_type": "stream",
     "text": [
      "> \u001b[0;32m/tmp/ipykernel_15122/374209400.py\u001b[0m(11)\u001b[0;36mfuse_meta_into_embeddings\u001b[0;34m()\u001b[0m\n",
      "\u001b[0;32m      9 \u001b[0;31m\u001b[0;34m\u001b[0m\u001b[0m\n",
      "\u001b[0m\u001b[1;31m3\u001b[0;32m    10 \u001b[0;31m    \u001b[0;32mdef\u001b[0m \u001b[0mfuse_meta_into_embeddings\u001b[0m\u001b[0;34m(\u001b[0m\u001b[0mself\u001b[0m\u001b[0;34m,\u001b[0m \u001b[0membed\u001b[0m\u001b[0;34m:\u001b[0m\u001b[0mtorch\u001b[0m\u001b[0;34m.\u001b[0m\u001b[0mTensor\u001b[0m\u001b[0;34m,\u001b[0m \u001b[0mmeta_kwargs\u001b[0m\u001b[0;34m:\u001b[0m\u001b[0mDict\u001b[0m\u001b[0;34m)\u001b[0m\u001b[0;34m:\u001b[0m\u001b[0;34m\u001b[0m\u001b[0;34m\u001b[0m\u001b[0m\n",
      "\u001b[0m\u001b[0;32m---> 11 \u001b[0;31m        \u001b[0mmeta_repr\u001b[0m\u001b[0;34m,\u001b[0m \u001b[0mbsz\u001b[0m \u001b[0;34m=\u001b[0m \u001b[0;34m{\u001b[0m\u001b[0;34m}\u001b[0m\u001b[0;34m,\u001b[0m \u001b[0membed\u001b[0m\u001b[0;34m.\u001b[0m\u001b[0msize\u001b[0m\u001b[0;34m(\u001b[0m\u001b[0;36m0\u001b[0m\u001b[0;34m)\u001b[0m\u001b[0;34m\u001b[0m\u001b[0;34m\u001b[0m\u001b[0m\n",
      "\u001b[0m\u001b[0;32m     12 \u001b[0;31m\u001b[0;34m\u001b[0m\u001b[0m\n",
      "\u001b[0m\u001b[0;32m     13 \u001b[0;31m        \u001b[0;32mfor\u001b[0m \u001b[0mm_key\u001b[0m\u001b[0;34m,\u001b[0m \u001b[0mm_args\u001b[0m \u001b[0;32min\u001b[0m \u001b[0mmeta_kwargs\u001b[0m\u001b[0;34m.\u001b[0m\u001b[0mitems\u001b[0m\u001b[0;34m(\u001b[0m\u001b[0;34m)\u001b[0m\u001b[0;34m:\u001b[0m\u001b[0;34m\u001b[0m\u001b[0;34m\u001b[0m\u001b[0m\n",
      "\u001b[0m\n"
     ]
    },
    {
     "name": "stdin",
     "output_type": "stream",
     "text": [
      "ipdb>  n\n"
     ]
    },
    {
     "name": "stdout",
     "output_type": "stream",
     "text": [
      "> \u001b[0;32m/tmp/ipykernel_15122/374209400.py\u001b[0m(13)\u001b[0;36mfuse_meta_into_embeddings\u001b[0;34m()\u001b[0m\n",
      "\u001b[0;32m     11 \u001b[0;31m        \u001b[0mmeta_repr\u001b[0m\u001b[0;34m,\u001b[0m \u001b[0mbsz\u001b[0m \u001b[0;34m=\u001b[0m \u001b[0;34m{\u001b[0m\u001b[0;34m}\u001b[0m\u001b[0;34m,\u001b[0m \u001b[0membed\u001b[0m\u001b[0;34m.\u001b[0m\u001b[0msize\u001b[0m\u001b[0;34m(\u001b[0m\u001b[0;36m0\u001b[0m\u001b[0;34m)\u001b[0m\u001b[0;34m\u001b[0m\u001b[0;34m\u001b[0m\u001b[0m\n",
      "\u001b[0m\u001b[0;32m     12 \u001b[0;31m\u001b[0;34m\u001b[0m\u001b[0m\n",
      "\u001b[0m\u001b[0;32m---> 13 \u001b[0;31m        \u001b[0;32mfor\u001b[0m \u001b[0mm_key\u001b[0m\u001b[0;34m,\u001b[0m \u001b[0mm_args\u001b[0m \u001b[0;32min\u001b[0m \u001b[0mmeta_kwargs\u001b[0m\u001b[0;34m.\u001b[0m\u001b[0mitems\u001b[0m\u001b[0;34m(\u001b[0m\u001b[0;34m)\u001b[0m\u001b[0;34m:\u001b[0m\u001b[0;34m\u001b[0m\u001b[0;34m\u001b[0m\u001b[0m\n",
      "\u001b[0m\u001b[0;32m     14 \u001b[0;31m            \u001b[0mn_meta\u001b[0m \u001b[0;34m=\u001b[0m \u001b[0mm_args\u001b[0m\u001b[0;34m[\u001b[0m\u001b[0;34m'data2ptr'\u001b[0m\u001b[0;34m]\u001b[0m\u001b[0;34m.\u001b[0m\u001b[0mmax\u001b[0m\u001b[0;34m(\u001b[0m\u001b[0;34m)\u001b[0m\u001b[0;34m\u001b[0m\u001b[0;34m\u001b[0m\u001b[0m\n",
      "\u001b[0m\u001b[0;32m     15 \u001b[0;31m            \u001b[0;32massert\u001b[0m \u001b[0mtorch\u001b[0m\u001b[0;34m.\u001b[0m\u001b[0mall\u001b[0m\u001b[0;34m(\u001b[0m\u001b[0mm_args\u001b[0m\u001b[0;34m[\u001b[0m\u001b[0;34m'data2ptr'\u001b[0m\u001b[0;34m]\u001b[0m \u001b[0;34m==\u001b[0m \u001b[0mn_meta\u001b[0m\u001b[0;34m)\u001b[0m\u001b[0;34m,\u001b[0m \u001b[0;34mf'All datapoints should have same number of metadata.'\u001b[0m\u001b[0;34m\u001b[0m\u001b[0;34m\u001b[0m\u001b[0m\n",
      "\u001b[0m\n"
     ]
    },
    {
     "name": "stdin",
     "output_type": "stream",
     "text": [
      "ipdb>  embed.shape\n"
     ]
    },
    {
     "name": "stdout",
     "output_type": "stream",
     "text": [
      "torch.Size([5, 768])\n"
     ]
    },
    {
     "name": "stdin",
     "output_type": "stream",
     "text": [
      "ipdb>  n\n"
     ]
    },
    {
     "name": "stdout",
     "output_type": "stream",
     "text": [
      "> \u001b[0;32m/tmp/ipykernel_15122/374209400.py\u001b[0m(14)\u001b[0;36mfuse_meta_into_embeddings\u001b[0;34m()\u001b[0m\n",
      "\u001b[0;32m     12 \u001b[0;31m\u001b[0;34m\u001b[0m\u001b[0m\n",
      "\u001b[0m\u001b[0;32m     13 \u001b[0;31m        \u001b[0;32mfor\u001b[0m \u001b[0mm_key\u001b[0m\u001b[0;34m,\u001b[0m \u001b[0mm_args\u001b[0m \u001b[0;32min\u001b[0m \u001b[0mmeta_kwargs\u001b[0m\u001b[0;34m.\u001b[0m\u001b[0mitems\u001b[0m\u001b[0;34m(\u001b[0m\u001b[0;34m)\u001b[0m\u001b[0;34m:\u001b[0m\u001b[0;34m\u001b[0m\u001b[0;34m\u001b[0m\u001b[0m\n",
      "\u001b[0m\u001b[0;32m---> 14 \u001b[0;31m            \u001b[0mn_meta\u001b[0m \u001b[0;34m=\u001b[0m \u001b[0mm_args\u001b[0m\u001b[0;34m[\u001b[0m\u001b[0;34m'data2ptr'\u001b[0m\u001b[0;34m]\u001b[0m\u001b[0;34m.\u001b[0m\u001b[0mmax\u001b[0m\u001b[0;34m(\u001b[0m\u001b[0;34m)\u001b[0m\u001b[0;34m\u001b[0m\u001b[0;34m\u001b[0m\u001b[0m\n",
      "\u001b[0m\u001b[0;32m     15 \u001b[0;31m            \u001b[0;32massert\u001b[0m \u001b[0mtorch\u001b[0m\u001b[0;34m.\u001b[0m\u001b[0mall\u001b[0m\u001b[0;34m(\u001b[0m\u001b[0mm_args\u001b[0m\u001b[0;34m[\u001b[0m\u001b[0;34m'data2ptr'\u001b[0m\u001b[0;34m]\u001b[0m \u001b[0;34m==\u001b[0m \u001b[0mn_meta\u001b[0m\u001b[0;34m)\u001b[0m\u001b[0;34m,\u001b[0m \u001b[0;34mf'All datapoints should have same number of metadata.'\u001b[0m\u001b[0;34m\u001b[0m\u001b[0;34m\u001b[0m\u001b[0m\n",
      "\u001b[0m\u001b[0;32m     16 \u001b[0;31m\u001b[0;34m\u001b[0m\u001b[0m\n",
      "\u001b[0m\n"
     ]
    },
    {
     "name": "stdin",
     "output_type": "stream",
     "text": [
      "ipdb>  m_key\n"
     ]
    },
    {
     "name": "stdout",
     "output_type": "stream",
     "text": [
      "'lnk2data'\n"
     ]
    },
    {
     "name": "stdin",
     "output_type": "stream",
     "text": [
      "ipdb>  n\n"
     ]
    },
    {
     "name": "stdout",
     "output_type": "stream",
     "text": [
      "> \u001b[0;32m/tmp/ipykernel_15122/374209400.py\u001b[0m(15)\u001b[0;36mfuse_meta_into_embeddings\u001b[0;34m()\u001b[0m\n",
      "\u001b[0;32m     13 \u001b[0;31m        \u001b[0;32mfor\u001b[0m \u001b[0mm_key\u001b[0m\u001b[0;34m,\u001b[0m \u001b[0mm_args\u001b[0m \u001b[0;32min\u001b[0m \u001b[0mmeta_kwargs\u001b[0m\u001b[0;34m.\u001b[0m\u001b[0mitems\u001b[0m\u001b[0;34m(\u001b[0m\u001b[0;34m)\u001b[0m\u001b[0;34m:\u001b[0m\u001b[0;34m\u001b[0m\u001b[0;34m\u001b[0m\u001b[0m\n",
      "\u001b[0m\u001b[0;32m     14 \u001b[0;31m            \u001b[0mn_meta\u001b[0m \u001b[0;34m=\u001b[0m \u001b[0mm_args\u001b[0m\u001b[0;34m[\u001b[0m\u001b[0;34m'data2ptr'\u001b[0m\u001b[0;34m]\u001b[0m\u001b[0;34m.\u001b[0m\u001b[0mmax\u001b[0m\u001b[0;34m(\u001b[0m\u001b[0;34m)\u001b[0m\u001b[0;34m\u001b[0m\u001b[0;34m\u001b[0m\u001b[0m\n",
      "\u001b[0m\u001b[0;32m---> 15 \u001b[0;31m            \u001b[0;32massert\u001b[0m \u001b[0mtorch\u001b[0m\u001b[0;34m.\u001b[0m\u001b[0mall\u001b[0m\u001b[0;34m(\u001b[0m\u001b[0mm_args\u001b[0m\u001b[0;34m[\u001b[0m\u001b[0;34m'data2ptr'\u001b[0m\u001b[0;34m]\u001b[0m \u001b[0;34m==\u001b[0m \u001b[0mn_meta\u001b[0m\u001b[0;34m)\u001b[0m\u001b[0;34m,\u001b[0m \u001b[0;34mf'All datapoints should have same number of metadata.'\u001b[0m\u001b[0;34m\u001b[0m\u001b[0;34m\u001b[0m\u001b[0m\n",
      "\u001b[0m\u001b[0;32m     16 \u001b[0;31m\u001b[0;34m\u001b[0m\u001b[0m\n",
      "\u001b[0m\u001b[0;32m     17 \u001b[0;31m            \u001b[0mm_input_ids\u001b[0m\u001b[0;34m,\u001b[0m \u001b[0mm_attention_mask\u001b[0m \u001b[0;34m=\u001b[0m \u001b[0mm_args\u001b[0m\u001b[0;34m[\u001b[0m\u001b[0;34m'input_ids'\u001b[0m\u001b[0;34m]\u001b[0m\u001b[0;34m,\u001b[0m \u001b[0mm_args\u001b[0m\u001b[0;34m[\u001b[0m\u001b[0;34m'attention_mask'\u001b[0m\u001b[0;34m]\u001b[0m\u001b[0;34m\u001b[0m\u001b[0;34m\u001b[0m\u001b[0m\n",
      "\u001b[0m\n"
     ]
    },
    {
     "name": "stdin",
     "output_type": "stream",
     "text": [
      "ipdb>  n_meta\n"
     ]
    },
    {
     "name": "stdout",
     "output_type": "stream",
     "text": [
      "tensor(3)\n"
     ]
    },
    {
     "name": "stdin",
     "output_type": "stream",
     "text": [
      "ipdb>  n\n"
     ]
    },
    {
     "name": "stdout",
     "output_type": "stream",
     "text": [
      "> \u001b[0;32m/tmp/ipykernel_15122/374209400.py\u001b[0m(17)\u001b[0;36mfuse_meta_into_embeddings\u001b[0;34m()\u001b[0m\n",
      "\u001b[0;32m     15 \u001b[0;31m            \u001b[0;32massert\u001b[0m \u001b[0mtorch\u001b[0m\u001b[0;34m.\u001b[0m\u001b[0mall\u001b[0m\u001b[0;34m(\u001b[0m\u001b[0mm_args\u001b[0m\u001b[0;34m[\u001b[0m\u001b[0;34m'data2ptr'\u001b[0m\u001b[0;34m]\u001b[0m \u001b[0;34m==\u001b[0m \u001b[0mn_meta\u001b[0m\u001b[0;34m)\u001b[0m\u001b[0;34m,\u001b[0m \u001b[0;34mf'All datapoints should have same number of metadata.'\u001b[0m\u001b[0;34m\u001b[0m\u001b[0;34m\u001b[0m\u001b[0m\n",
      "\u001b[0m\u001b[0;32m     16 \u001b[0;31m\u001b[0;34m\u001b[0m\u001b[0m\n",
      "\u001b[0m\u001b[0;32m---> 17 \u001b[0;31m            \u001b[0mm_input_ids\u001b[0m\u001b[0;34m,\u001b[0m \u001b[0mm_attention_mask\u001b[0m \u001b[0;34m=\u001b[0m \u001b[0mm_args\u001b[0m\u001b[0;34m[\u001b[0m\u001b[0;34m'input_ids'\u001b[0m\u001b[0;34m]\u001b[0m\u001b[0;34m,\u001b[0m \u001b[0mm_args\u001b[0m\u001b[0;34m[\u001b[0m\u001b[0;34m'attention_mask'\u001b[0m\u001b[0;34m]\u001b[0m\u001b[0;34m\u001b[0m\u001b[0;34m\u001b[0m\u001b[0m\n",
      "\u001b[0m\u001b[0;32m     18 \u001b[0;31m            \u001b[0mm_embed\u001b[0m \u001b[0;34m=\u001b[0m \u001b[0mself\u001b[0m\u001b[0;34m.\u001b[0m\u001b[0mmeta_encode\u001b[0m\u001b[0;34m(\u001b[0m\u001b[0minput_ids\u001b[0m\u001b[0;34m=\u001b[0m\u001b[0mm_input_ids\u001b[0m\u001b[0;34m,\u001b[0m \u001b[0mattention_mask\u001b[0m\u001b[0;34m=\u001b[0m\u001b[0mm_attention_mask\u001b[0m\u001b[0;34m)\u001b[0m\u001b[0;34m\u001b[0m\u001b[0;34m\u001b[0m\u001b[0m\n",
      "\u001b[0m\u001b[0;32m     19 \u001b[0;31m            \u001b[0mm_embed\u001b[0m \u001b[0;34m=\u001b[0m \u001b[0mm_embed\u001b[0m \u001b[0;34m+\u001b[0m \u001b[0mm_args\u001b[0m\u001b[0;34m[\u001b[0m\u001b[0;34m'meta_repr'\u001b[0m\u001b[0;34m]\u001b[0m\u001b[0;34m\u001b[0m\u001b[0;34m\u001b[0m\u001b[0m\n",
      "\u001b[0m\n"
     ]
    },
    {
     "name": "stdin",
     "output_type": "stream",
     "text": [
      "ipdb>  \n"
     ]
    },
    {
     "name": "stdout",
     "output_type": "stream",
     "text": [
      "> \u001b[0;32m/tmp/ipykernel_15122/374209400.py\u001b[0m(18)\u001b[0;36mfuse_meta_into_embeddings\u001b[0;34m()\u001b[0m\n",
      "\u001b[0;32m     16 \u001b[0;31m\u001b[0;34m\u001b[0m\u001b[0m\n",
      "\u001b[0m\u001b[0;32m     17 \u001b[0;31m            \u001b[0mm_input_ids\u001b[0m\u001b[0;34m,\u001b[0m \u001b[0mm_attention_mask\u001b[0m \u001b[0;34m=\u001b[0m \u001b[0mm_args\u001b[0m\u001b[0;34m[\u001b[0m\u001b[0;34m'input_ids'\u001b[0m\u001b[0;34m]\u001b[0m\u001b[0;34m,\u001b[0m \u001b[0mm_args\u001b[0m\u001b[0;34m[\u001b[0m\u001b[0;34m'attention_mask'\u001b[0m\u001b[0;34m]\u001b[0m\u001b[0;34m\u001b[0m\u001b[0;34m\u001b[0m\u001b[0m\n",
      "\u001b[0m\u001b[0;32m---> 18 \u001b[0;31m            \u001b[0mm_embed\u001b[0m \u001b[0;34m=\u001b[0m \u001b[0mself\u001b[0m\u001b[0;34m.\u001b[0m\u001b[0mmeta_encode\u001b[0m\u001b[0;34m(\u001b[0m\u001b[0minput_ids\u001b[0m\u001b[0;34m=\u001b[0m\u001b[0mm_input_ids\u001b[0m\u001b[0;34m,\u001b[0m \u001b[0mattention_mask\u001b[0m\u001b[0;34m=\u001b[0m\u001b[0mm_attention_mask\u001b[0m\u001b[0;34m)\u001b[0m\u001b[0;34m\u001b[0m\u001b[0;34m\u001b[0m\u001b[0m\n",
      "\u001b[0m\u001b[0;32m     19 \u001b[0;31m            \u001b[0mm_embed\u001b[0m \u001b[0;34m=\u001b[0m \u001b[0mm_embed\u001b[0m \u001b[0;34m+\u001b[0m \u001b[0mm_args\u001b[0m\u001b[0;34m[\u001b[0m\u001b[0;34m'meta_repr'\u001b[0m\u001b[0;34m]\u001b[0m\u001b[0;34m\u001b[0m\u001b[0;34m\u001b[0m\u001b[0m\n",
      "\u001b[0m\u001b[0;32m     20 \u001b[0;31m\u001b[0;34m\u001b[0m\u001b[0m\n",
      "\u001b[0m\n"
     ]
    },
    {
     "name": "stdin",
     "output_type": "stream",
     "text": [
      "ipdb>  \n"
     ]
    },
    {
     "name": "stdout",
     "output_type": "stream",
     "text": [
      "> \u001b[0;32m/tmp/ipykernel_15122/374209400.py\u001b[0m(19)\u001b[0;36mfuse_meta_into_embeddings\u001b[0;34m()\u001b[0m\n",
      "\u001b[0;32m     17 \u001b[0;31m            \u001b[0mm_input_ids\u001b[0m\u001b[0;34m,\u001b[0m \u001b[0mm_attention_mask\u001b[0m \u001b[0;34m=\u001b[0m \u001b[0mm_args\u001b[0m\u001b[0;34m[\u001b[0m\u001b[0;34m'input_ids'\u001b[0m\u001b[0;34m]\u001b[0m\u001b[0;34m,\u001b[0m \u001b[0mm_args\u001b[0m\u001b[0;34m[\u001b[0m\u001b[0;34m'attention_mask'\u001b[0m\u001b[0;34m]\u001b[0m\u001b[0;34m\u001b[0m\u001b[0;34m\u001b[0m\u001b[0m\n",
      "\u001b[0m\u001b[0;32m     18 \u001b[0;31m            \u001b[0mm_embed\u001b[0m \u001b[0;34m=\u001b[0m \u001b[0mself\u001b[0m\u001b[0;34m.\u001b[0m\u001b[0mmeta_encode\u001b[0m\u001b[0;34m(\u001b[0m\u001b[0minput_ids\u001b[0m\u001b[0;34m=\u001b[0m\u001b[0mm_input_ids\u001b[0m\u001b[0;34m,\u001b[0m \u001b[0mattention_mask\u001b[0m\u001b[0;34m=\u001b[0m\u001b[0mm_attention_mask\u001b[0m\u001b[0;34m)\u001b[0m\u001b[0;34m\u001b[0m\u001b[0;34m\u001b[0m\u001b[0m\n",
      "\u001b[0m\u001b[0;32m---> 19 \u001b[0;31m            \u001b[0mm_embed\u001b[0m \u001b[0;34m=\u001b[0m \u001b[0mm_embed\u001b[0m \u001b[0;34m+\u001b[0m \u001b[0mm_args\u001b[0m\u001b[0;34m[\u001b[0m\u001b[0;34m'meta_repr'\u001b[0m\u001b[0;34m]\u001b[0m\u001b[0;34m\u001b[0m\u001b[0;34m\u001b[0m\u001b[0m\n",
      "\u001b[0m\u001b[0;32m     20 \u001b[0;31m\u001b[0;34m\u001b[0m\u001b[0m\n",
      "\u001b[0m\u001b[0;32m     21 \u001b[0;31m            \u001b[0mmeta_repr\u001b[0m\u001b[0;34m[\u001b[0m\u001b[0mm_key\u001b[0m\u001b[0;34m]\u001b[0m \u001b[0;34m=\u001b[0m \u001b[0mm_embed\u001b[0m\u001b[0;34m\u001b[0m\u001b[0;34m\u001b[0m\u001b[0m\n",
      "\u001b[0m\n"
     ]
    },
    {
     "name": "stdin",
     "output_type": "stream",
     "text": [
      "ipdb>  m_embed.shape\n"
     ]
    },
    {
     "name": "stdout",
     "output_type": "stream",
     "text": [
      "torch.Size([15, 768])\n"
     ]
    },
    {
     "name": "stdin",
     "output_type": "stream",
     "text": [
      "ipdb>  n\n"
     ]
    },
    {
     "name": "stdout",
     "output_type": "stream",
     "text": [
      "> \u001b[0;32m/tmp/ipykernel_15122/374209400.py\u001b[0m(21)\u001b[0;36mfuse_meta_into_embeddings\u001b[0;34m()\u001b[0m\n",
      "\u001b[0;32m     19 \u001b[0;31m            \u001b[0mm_embed\u001b[0m \u001b[0;34m=\u001b[0m \u001b[0mm_embed\u001b[0m \u001b[0;34m+\u001b[0m \u001b[0mm_args\u001b[0m\u001b[0;34m[\u001b[0m\u001b[0;34m'meta_repr'\u001b[0m\u001b[0;34m]\u001b[0m\u001b[0;34m\u001b[0m\u001b[0;34m\u001b[0m\u001b[0m\n",
      "\u001b[0m\u001b[0;32m     20 \u001b[0;31m\u001b[0;34m\u001b[0m\u001b[0m\n",
      "\u001b[0m\u001b[0;32m---> 21 \u001b[0;31m            \u001b[0mmeta_repr\u001b[0m\u001b[0;34m[\u001b[0m\u001b[0mm_key\u001b[0m\u001b[0;34m]\u001b[0m \u001b[0;34m=\u001b[0m \u001b[0mm_embed\u001b[0m\u001b[0;34m\u001b[0m\u001b[0;34m\u001b[0m\u001b[0m\n",
      "\u001b[0m\u001b[0;32m     22 \u001b[0;31m\u001b[0;34m\u001b[0m\u001b[0m\n",
      "\u001b[0m\u001b[0;32m     23 \u001b[0;31m            \u001b[0mm_embed\u001b[0m \u001b[0;34m=\u001b[0m \u001b[0mm_embed\u001b[0m\u001b[0;34m.\u001b[0m\u001b[0mview\u001b[0m\u001b[0;34m(\u001b[0m\u001b[0mbsz\u001b[0m\u001b[0;34m,\u001b[0m \u001b[0;34m-\u001b[0m\u001b[0;36m1\u001b[0m\u001b[0;34m,\u001b[0m \u001b[0mself\u001b[0m\u001b[0;34m.\u001b[0m\u001b[0mconfig\u001b[0m\u001b[0;34m.\u001b[0m\u001b[0mdim\u001b[0m\u001b[0;34m)\u001b[0m\u001b[0;34m\u001b[0m\u001b[0;34m\u001b[0m\u001b[0m\n",
      "\u001b[0m\n"
     ]
    },
    {
     "name": "stdin",
     "output_type": "stream",
     "text": [
      "ipdb>  \n"
     ]
    },
    {
     "name": "stdout",
     "output_type": "stream",
     "text": [
      "> \u001b[0;32m/tmp/ipykernel_15122/374209400.py\u001b[0m(23)\u001b[0;36mfuse_meta_into_embeddings\u001b[0;34m()\u001b[0m\n",
      "\u001b[0;32m     21 \u001b[0;31m            \u001b[0mmeta_repr\u001b[0m\u001b[0;34m[\u001b[0m\u001b[0mm_key\u001b[0m\u001b[0;34m]\u001b[0m \u001b[0;34m=\u001b[0m \u001b[0mm_embed\u001b[0m\u001b[0;34m\u001b[0m\u001b[0;34m\u001b[0m\u001b[0m\n",
      "\u001b[0m\u001b[0;32m     22 \u001b[0;31m\u001b[0;34m\u001b[0m\u001b[0m\n",
      "\u001b[0m\u001b[0;32m---> 23 \u001b[0;31m            \u001b[0mm_embed\u001b[0m \u001b[0;34m=\u001b[0m \u001b[0mm_embed\u001b[0m\u001b[0;34m.\u001b[0m\u001b[0mview\u001b[0m\u001b[0;34m(\u001b[0m\u001b[0mbsz\u001b[0m\u001b[0;34m,\u001b[0m \u001b[0;34m-\u001b[0m\u001b[0;36m1\u001b[0m\u001b[0;34m,\u001b[0m \u001b[0mself\u001b[0m\u001b[0;34m.\u001b[0m\u001b[0mconfig\u001b[0m\u001b[0;34m.\u001b[0m\u001b[0mdim\u001b[0m\u001b[0;34m)\u001b[0m\u001b[0;34m\u001b[0m\u001b[0;34m\u001b[0m\u001b[0m\n",
      "\u001b[0m\u001b[0;32m     24 \u001b[0;31m            \u001b[0mfused_embed\u001b[0m \u001b[0;34m=\u001b[0m \u001b[0mself\u001b[0m\u001b[0;34m.\u001b[0m\u001b[0mcross_head\u001b[0m\u001b[0;34m(\u001b[0m\u001b[0membed\u001b[0m\u001b[0;34m,\u001b[0m \u001b[0mm_embed\u001b[0m\u001b[0;34m)\u001b[0m\u001b[0;34m\u001b[0m\u001b[0;34m\u001b[0m\u001b[0m\n",
      "\u001b[0m\u001b[0;32m     25 \u001b[0;31m            \u001b[0membed\u001b[0m \u001b[0;34m=\u001b[0m \u001b[0membed\u001b[0m \u001b[0;34m+\u001b[0m \u001b[0mfused_embed\u001b[0m\u001b[0;34m\u001b[0m\u001b[0;34m\u001b[0m\u001b[0m\n",
      "\u001b[0m\n"
     ]
    },
    {
     "name": "stdin",
     "output_type": "stream",
     "text": [
      "ipdb>  \n"
     ]
    },
    {
     "name": "stdout",
     "output_type": "stream",
     "text": [
      "> \u001b[0;32m/tmp/ipykernel_15122/374209400.py\u001b[0m(24)\u001b[0;36mfuse_meta_into_embeddings\u001b[0;34m()\u001b[0m\n",
      "\u001b[0;32m     22 \u001b[0;31m\u001b[0;34m\u001b[0m\u001b[0m\n",
      "\u001b[0m\u001b[0;32m     23 \u001b[0;31m            \u001b[0mm_embed\u001b[0m \u001b[0;34m=\u001b[0m \u001b[0mm_embed\u001b[0m\u001b[0;34m.\u001b[0m\u001b[0mview\u001b[0m\u001b[0;34m(\u001b[0m\u001b[0mbsz\u001b[0m\u001b[0;34m,\u001b[0m \u001b[0;34m-\u001b[0m\u001b[0;36m1\u001b[0m\u001b[0;34m,\u001b[0m \u001b[0mself\u001b[0m\u001b[0;34m.\u001b[0m\u001b[0mconfig\u001b[0m\u001b[0;34m.\u001b[0m\u001b[0mdim\u001b[0m\u001b[0;34m)\u001b[0m\u001b[0;34m\u001b[0m\u001b[0;34m\u001b[0m\u001b[0m\n",
      "\u001b[0m\u001b[0;32m---> 24 \u001b[0;31m            \u001b[0mfused_embed\u001b[0m \u001b[0;34m=\u001b[0m \u001b[0mself\u001b[0m\u001b[0;34m.\u001b[0m\u001b[0mcross_head\u001b[0m\u001b[0;34m(\u001b[0m\u001b[0membed\u001b[0m\u001b[0;34m,\u001b[0m \u001b[0mm_embed\u001b[0m\u001b[0;34m)\u001b[0m\u001b[0;34m\u001b[0m\u001b[0;34m\u001b[0m\u001b[0m\n",
      "\u001b[0m\u001b[0;32m     25 \u001b[0;31m            \u001b[0membed\u001b[0m \u001b[0;34m=\u001b[0m \u001b[0membed\u001b[0m \u001b[0;34m+\u001b[0m \u001b[0mfused_embed\u001b[0m\u001b[0;34m\u001b[0m\u001b[0;34m\u001b[0m\u001b[0m\n",
      "\u001b[0m\u001b[0;32m     26 \u001b[0;31m\u001b[0;34m\u001b[0m\u001b[0m\n",
      "\u001b[0m\n"
     ]
    },
    {
     "name": "stdin",
     "output_type": "stream",
     "text": [
      "ipdb>  \n"
     ]
    },
    {
     "name": "stdout",
     "output_type": "stream",
     "text": [
      "> \u001b[0;32m/tmp/ipykernel_15122/374209400.py\u001b[0m(25)\u001b[0;36mfuse_meta_into_embeddings\u001b[0;34m()\u001b[0m\n",
      "\u001b[0;32m     23 \u001b[0;31m            \u001b[0mm_embed\u001b[0m \u001b[0;34m=\u001b[0m \u001b[0mm_embed\u001b[0m\u001b[0;34m.\u001b[0m\u001b[0mview\u001b[0m\u001b[0;34m(\u001b[0m\u001b[0mbsz\u001b[0m\u001b[0;34m,\u001b[0m \u001b[0;34m-\u001b[0m\u001b[0;36m1\u001b[0m\u001b[0;34m,\u001b[0m \u001b[0mself\u001b[0m\u001b[0;34m.\u001b[0m\u001b[0mconfig\u001b[0m\u001b[0;34m.\u001b[0m\u001b[0mdim\u001b[0m\u001b[0;34m)\u001b[0m\u001b[0;34m\u001b[0m\u001b[0;34m\u001b[0m\u001b[0m\n",
      "\u001b[0m\u001b[0;32m     24 \u001b[0;31m            \u001b[0mfused_embed\u001b[0m \u001b[0;34m=\u001b[0m \u001b[0mself\u001b[0m\u001b[0;34m.\u001b[0m\u001b[0mcross_head\u001b[0m\u001b[0;34m(\u001b[0m\u001b[0membed\u001b[0m\u001b[0;34m,\u001b[0m \u001b[0mm_embed\u001b[0m\u001b[0;34m)\u001b[0m\u001b[0;34m\u001b[0m\u001b[0;34m\u001b[0m\u001b[0m\n",
      "\u001b[0m\u001b[0;32m---> 25 \u001b[0;31m            \u001b[0membed\u001b[0m \u001b[0;34m=\u001b[0m \u001b[0membed\u001b[0m \u001b[0;34m+\u001b[0m \u001b[0mfused_embed\u001b[0m\u001b[0;34m\u001b[0m\u001b[0;34m\u001b[0m\u001b[0m\n",
      "\u001b[0m\u001b[0;32m     26 \u001b[0;31m\u001b[0;34m\u001b[0m\u001b[0m\n",
      "\u001b[0m\u001b[0;32m     27 \u001b[0;31m        \u001b[0;32mreturn\u001b[0m \u001b[0membed\u001b[0m\u001b[0;34m,\u001b[0m \u001b[0mmeta_repr\u001b[0m\u001b[0;34m\u001b[0m\u001b[0;34m\u001b[0m\u001b[0m\n",
      "\u001b[0m\n"
     ]
    },
    {
     "name": "stdin",
     "output_type": "stream",
     "text": [
      "ipdb>  \n"
     ]
    },
    {
     "name": "stdout",
     "output_type": "stream",
     "text": [
      "> \u001b[0;32m/tmp/ipykernel_15122/374209400.py\u001b[0m(13)\u001b[0;36mfuse_meta_into_embeddings\u001b[0;34m()\u001b[0m\n",
      "\u001b[0;32m     11 \u001b[0;31m        \u001b[0mmeta_repr\u001b[0m\u001b[0;34m,\u001b[0m \u001b[0mbsz\u001b[0m \u001b[0;34m=\u001b[0m \u001b[0;34m{\u001b[0m\u001b[0;34m}\u001b[0m\u001b[0;34m,\u001b[0m \u001b[0membed\u001b[0m\u001b[0;34m.\u001b[0m\u001b[0msize\u001b[0m\u001b[0;34m(\u001b[0m\u001b[0;36m0\u001b[0m\u001b[0;34m)\u001b[0m\u001b[0;34m\u001b[0m\u001b[0;34m\u001b[0m\u001b[0m\n",
      "\u001b[0m\u001b[0;32m     12 \u001b[0;31m\u001b[0;34m\u001b[0m\u001b[0m\n",
      "\u001b[0m\u001b[0;32m---> 13 \u001b[0;31m        \u001b[0;32mfor\u001b[0m \u001b[0mm_key\u001b[0m\u001b[0;34m,\u001b[0m \u001b[0mm_args\u001b[0m \u001b[0;32min\u001b[0m \u001b[0mmeta_kwargs\u001b[0m\u001b[0;34m.\u001b[0m\u001b[0mitems\u001b[0m\u001b[0;34m(\u001b[0m\u001b[0;34m)\u001b[0m\u001b[0;34m:\u001b[0m\u001b[0;34m\u001b[0m\u001b[0;34m\u001b[0m\u001b[0m\n",
      "\u001b[0m\u001b[0;32m     14 \u001b[0;31m            \u001b[0mn_meta\u001b[0m \u001b[0;34m=\u001b[0m \u001b[0mm_args\u001b[0m\u001b[0;34m[\u001b[0m\u001b[0;34m'data2ptr'\u001b[0m\u001b[0;34m]\u001b[0m\u001b[0;34m.\u001b[0m\u001b[0mmax\u001b[0m\u001b[0;34m(\u001b[0m\u001b[0;34m)\u001b[0m\u001b[0;34m\u001b[0m\u001b[0;34m\u001b[0m\u001b[0m\n",
      "\u001b[0m\u001b[0;32m     15 \u001b[0;31m            \u001b[0;32massert\u001b[0m \u001b[0mtorch\u001b[0m\u001b[0;34m.\u001b[0m\u001b[0mall\u001b[0m\u001b[0;34m(\u001b[0m\u001b[0mm_args\u001b[0m\u001b[0;34m[\u001b[0m\u001b[0;34m'data2ptr'\u001b[0m\u001b[0;34m]\u001b[0m \u001b[0;34m==\u001b[0m \u001b[0mn_meta\u001b[0m\u001b[0;34m)\u001b[0m\u001b[0;34m,\u001b[0m \u001b[0;34mf'All datapoints should have same number of metadata.'\u001b[0m\u001b[0;34m\u001b[0m\u001b[0;34m\u001b[0m\u001b[0m\n",
      "\u001b[0m\n"
     ]
    },
    {
     "name": "stdin",
     "output_type": "stream",
     "text": [
      "ipdb>  embed.shape\n"
     ]
    },
    {
     "name": "stdout",
     "output_type": "stream",
     "text": [
      "torch.Size([5, 768])\n"
     ]
    },
    {
     "name": "stdin",
     "output_type": "stream",
     "text": [
      "ipdb>  n\n"
     ]
    },
    {
     "name": "stdout",
     "output_type": "stream",
     "text": [
      "> \u001b[0;32m/tmp/ipykernel_15122/374209400.py\u001b[0m(27)\u001b[0;36mfuse_meta_into_embeddings\u001b[0;34m()\u001b[0m\n",
      "\u001b[0;32m     24 \u001b[0;31m            \u001b[0mfused_embed\u001b[0m \u001b[0;34m=\u001b[0m \u001b[0mself\u001b[0m\u001b[0;34m.\u001b[0m\u001b[0mcross_head\u001b[0m\u001b[0;34m(\u001b[0m\u001b[0membed\u001b[0m\u001b[0;34m,\u001b[0m \u001b[0mm_embed\u001b[0m\u001b[0;34m)\u001b[0m\u001b[0;34m\u001b[0m\u001b[0;34m\u001b[0m\u001b[0m\n",
      "\u001b[0m\u001b[0;32m     25 \u001b[0;31m            \u001b[0membed\u001b[0m \u001b[0;34m=\u001b[0m \u001b[0membed\u001b[0m \u001b[0;34m+\u001b[0m \u001b[0mfused_embed\u001b[0m\u001b[0;34m\u001b[0m\u001b[0;34m\u001b[0m\u001b[0m\n",
      "\u001b[0m\u001b[0;32m     26 \u001b[0;31m\u001b[0;34m\u001b[0m\u001b[0m\n",
      "\u001b[0m\u001b[0;32m---> 27 \u001b[0;31m        \u001b[0;32mreturn\u001b[0m \u001b[0membed\u001b[0m\u001b[0;34m,\u001b[0m \u001b[0mmeta_repr\u001b[0m\u001b[0;34m\u001b[0m\u001b[0;34m\u001b[0m\u001b[0m\n",
      "\u001b[0m\u001b[0;32m     28 \u001b[0;31m\u001b[0;34m\u001b[0m\u001b[0m\n",
      "\u001b[0m\n"
     ]
    },
    {
     "name": "stdin",
     "output_type": "stream",
     "text": [
      "ipdb>  \n"
     ]
    },
    {
     "name": "stdout",
     "output_type": "stream",
     "text": [
      "--Return--\n",
      "(tensor([[-0.9...AddBackward0>), {'lnk2data': tensor([[-0.2...AddBackward0>)})\n",
      "> \u001b[0;32m/tmp/ipykernel_15122/374209400.py\u001b[0m(27)\u001b[0;36mfuse_meta_into_embeddings\u001b[0;34m()\u001b[0m\n",
      "\u001b[0;32m     24 \u001b[0;31m            \u001b[0mfused_embed\u001b[0m \u001b[0;34m=\u001b[0m \u001b[0mself\u001b[0m\u001b[0;34m.\u001b[0m\u001b[0mcross_head\u001b[0m\u001b[0;34m(\u001b[0m\u001b[0membed\u001b[0m\u001b[0;34m,\u001b[0m \u001b[0mm_embed\u001b[0m\u001b[0;34m)\u001b[0m\u001b[0;34m\u001b[0m\u001b[0;34m\u001b[0m\u001b[0m\n",
      "\u001b[0m\u001b[0;32m     25 \u001b[0;31m            \u001b[0membed\u001b[0m \u001b[0;34m=\u001b[0m \u001b[0membed\u001b[0m \u001b[0;34m+\u001b[0m \u001b[0mfused_embed\u001b[0m\u001b[0;34m\u001b[0m\u001b[0;34m\u001b[0m\u001b[0m\n",
      "\u001b[0m\u001b[0;32m     26 \u001b[0;31m\u001b[0;34m\u001b[0m\u001b[0m\n",
      "\u001b[0m\u001b[0;32m---> 27 \u001b[0;31m        \u001b[0;32mreturn\u001b[0m \u001b[0membed\u001b[0m\u001b[0;34m,\u001b[0m \u001b[0mmeta_repr\u001b[0m\u001b[0;34m\u001b[0m\u001b[0;34m\u001b[0m\u001b[0m\n",
      "\u001b[0m\u001b[0;32m     28 \u001b[0;31m\u001b[0;34m\u001b[0m\u001b[0m\n",
      "\u001b[0m\n"
     ]
    },
    {
     "name": "stdin",
     "output_type": "stream",
     "text": [
      "ipdb>  \n"
     ]
    },
    {
     "name": "stdout",
     "output_type": "stream",
     "text": [
      "> \u001b[0;32m/tmp/ipykernel_15122/1379713280.py\u001b[0m(77)\u001b[0;36mforward\u001b[0;34m()\u001b[0m\n",
      "\u001b[0;32m     75 \u001b[0;31m            \u001b[0;32mif\u001b[0m \u001b[0mlen\u001b[0m\u001b[0;34m(\u001b[0m\u001b[0mmeta_kwargs\u001b[0m\u001b[0;34m)\u001b[0m\u001b[0;34m:\u001b[0m\u001b[0;34m\u001b[0m\u001b[0;34m\u001b[0m\u001b[0m\n",
      "\u001b[0m\u001b[0;32m     76 \u001b[0;31m                \u001b[0mdata_fused_repr\u001b[0m\u001b[0;34m,\u001b[0m \u001b[0mmeta_repr\u001b[0m \u001b[0;34m=\u001b[0m \u001b[0mself\u001b[0m\u001b[0;34m.\u001b[0m\u001b[0mfuse_meta_into_embeddings\u001b[0m\u001b[0;34m(\u001b[0m\u001b[0mdata_repr\u001b[0m\u001b[0;34m,\u001b[0m \u001b[0mmeta_kwargs\u001b[0m\u001b[0;34m)\u001b[0m\u001b[0;34m\u001b[0m\u001b[0;34m\u001b[0m\u001b[0m\n",
      "\u001b[0m\u001b[0;32m---> 77 \u001b[0;31m                \u001b[0mdata_fused_repr\u001b[0m \u001b[0;34m=\u001b[0m \u001b[0mself\u001b[0m\u001b[0;34m.\u001b[0m\u001b[0mdr\u001b[0m\u001b[0;34m(\u001b[0m\u001b[0mdata_fused_repr\u001b[0m\u001b[0;34m)\u001b[0m\u001b[0;34m\u001b[0m\u001b[0;34m\u001b[0m\u001b[0m\n",
      "\u001b[0m\u001b[0;32m     78 \u001b[0;31m\u001b[0;34m\u001b[0m\u001b[0m\n",
      "\u001b[0m\u001b[0;32m     79 \u001b[0;31m        \u001b[0mdata_repr\u001b[0m \u001b[0;34m=\u001b[0m \u001b[0mF\u001b[0m\u001b[0;34m.\u001b[0m\u001b[0mnormalize\u001b[0m\u001b[0;34m(\u001b[0m\u001b[0mdata_repr\u001b[0m\u001b[0;34m,\u001b[0m \u001b[0mdim\u001b[0m\u001b[0;34m=\u001b[0m\u001b[0;36m1\u001b[0m\u001b[0;34m)\u001b[0m\u001b[0;34m\u001b[0m\u001b[0;34m\u001b[0m\u001b[0m\n",
      "\u001b[0m\n"
     ]
    },
    {
     "name": "stdin",
     "output_type": "stream",
     "text": [
      "ipdb>  n\n"
     ]
    },
    {
     "name": "stdout",
     "output_type": "stream",
     "text": [
      "> \u001b[0;32m/tmp/ipykernel_15122/1379713280.py\u001b[0m(79)\u001b[0;36mforward\u001b[0;34m()\u001b[0m\n",
      "\u001b[0;32m     77 \u001b[0;31m                \u001b[0mdata_fused_repr\u001b[0m \u001b[0;34m=\u001b[0m \u001b[0mself\u001b[0m\u001b[0;34m.\u001b[0m\u001b[0mdr\u001b[0m\u001b[0;34m(\u001b[0m\u001b[0mdata_fused_repr\u001b[0m\u001b[0;34m)\u001b[0m\u001b[0;34m\u001b[0m\u001b[0;34m\u001b[0m\u001b[0m\n",
      "\u001b[0m\u001b[0;32m     78 \u001b[0;31m\u001b[0;34m\u001b[0m\u001b[0m\n",
      "\u001b[0m\u001b[0;32m---> 79 \u001b[0;31m        \u001b[0mdata_repr\u001b[0m \u001b[0;34m=\u001b[0m \u001b[0mF\u001b[0m\u001b[0;34m.\u001b[0m\u001b[0mnormalize\u001b[0m\u001b[0;34m(\u001b[0m\u001b[0mdata_repr\u001b[0m\u001b[0;34m,\u001b[0m \u001b[0mdim\u001b[0m\u001b[0;34m=\u001b[0m\u001b[0;36m1\u001b[0m\u001b[0;34m)\u001b[0m\u001b[0;34m\u001b[0m\u001b[0;34m\u001b[0m\u001b[0m\n",
      "\u001b[0m\u001b[0;32m     80 \u001b[0;31m\u001b[0;34m\u001b[0m\u001b[0m\n",
      "\u001b[0m\u001b[0;32m     81 \u001b[0;31m        return EncoderOutput(\n",
      "\u001b[0m\n"
     ]
    },
    {
     "name": "stdin",
     "output_type": "stream",
     "text": [
      "ipdb>  \n"
     ]
    },
    {
     "name": "stdout",
     "output_type": "stream",
     "text": [
      "> \u001b[0;32m/tmp/ipykernel_15122/1379713280.py\u001b[0m(81)\u001b[0;36mforward\u001b[0;34m()\u001b[0m\n",
      "\u001b[0;32m     79 \u001b[0;31m        \u001b[0mdata_repr\u001b[0m \u001b[0;34m=\u001b[0m \u001b[0mF\u001b[0m\u001b[0;34m.\u001b[0m\u001b[0mnormalize\u001b[0m\u001b[0;34m(\u001b[0m\u001b[0mdata_repr\u001b[0m\u001b[0;34m,\u001b[0m \u001b[0mdim\u001b[0m\u001b[0;34m=\u001b[0m\u001b[0;36m1\u001b[0m\u001b[0;34m)\u001b[0m\u001b[0;34m\u001b[0m\u001b[0;34m\u001b[0m\u001b[0m\n",
      "\u001b[0m\u001b[0;32m     80 \u001b[0;31m\u001b[0;34m\u001b[0m\u001b[0m\n",
      "\u001b[0m\u001b[0;32m---> 81 \u001b[0;31m        return EncoderOutput(\n",
      "\u001b[0m\u001b[0;32m     82 \u001b[0;31m            \u001b[0mrep\u001b[0m\u001b[0;34m=\u001b[0m\u001b[0mdata_repr\u001b[0m\u001b[0;34m,\u001b[0m\u001b[0;34m\u001b[0m\u001b[0;34m\u001b[0m\u001b[0m\n",
      "\u001b[0m\u001b[0;32m     83 \u001b[0;31m            \u001b[0mfused_rep\u001b[0m\u001b[0;34m=\u001b[0m\u001b[0mdata_fused_repr\u001b[0m\u001b[0;34m,\u001b[0m\u001b[0;34m\u001b[0m\u001b[0;34m\u001b[0m\u001b[0m\n",
      "\u001b[0m\n"
     ]
    },
    {
     "name": "stdin",
     "output_type": "stream",
     "text": [
      "ipdb>  \n"
     ]
    },
    {
     "name": "stdout",
     "output_type": "stream",
     "text": [
      "> \u001b[0;32m/tmp/ipykernel_15122/1379713280.py\u001b[0m(82)\u001b[0;36mforward\u001b[0;34m()\u001b[0m\n",
      "\u001b[0;32m     80 \u001b[0;31m\u001b[0;34m\u001b[0m\u001b[0m\n",
      "\u001b[0m\u001b[0;32m     81 \u001b[0;31m        return EncoderOutput(\n",
      "\u001b[0m\u001b[0;32m---> 82 \u001b[0;31m            \u001b[0mrep\u001b[0m\u001b[0;34m=\u001b[0m\u001b[0mdata_repr\u001b[0m\u001b[0;34m,\u001b[0m\u001b[0;34m\u001b[0m\u001b[0;34m\u001b[0m\u001b[0m\n",
      "\u001b[0m\u001b[0;32m     83 \u001b[0;31m            \u001b[0mfused_rep\u001b[0m\u001b[0;34m=\u001b[0m\u001b[0mdata_fused_repr\u001b[0m\u001b[0;34m,\u001b[0m\u001b[0;34m\u001b[0m\u001b[0;34m\u001b[0m\u001b[0m\n",
      "\u001b[0m\u001b[0;32m     84 \u001b[0;31m            \u001b[0mmeta_repr\u001b[0m\u001b[0;34m=\u001b[0m\u001b[0mmeta_repr\u001b[0m\u001b[0;34m,\u001b[0m\u001b[0;34m\u001b[0m\u001b[0;34m\u001b[0m\u001b[0m\n",
      "\u001b[0m\n"
     ]
    },
    {
     "name": "stdin",
     "output_type": "stream",
     "text": [
      "ipdb>  \n"
     ]
    },
    {
     "name": "stdout",
     "output_type": "stream",
     "text": [
      "> \u001b[0;32m/tmp/ipykernel_15122/1379713280.py\u001b[0m(83)\u001b[0;36mforward\u001b[0;34m()\u001b[0m\n",
      "\u001b[0;32m     81 \u001b[0;31m        return EncoderOutput(\n",
      "\u001b[0m\u001b[0;32m     82 \u001b[0;31m            \u001b[0mrep\u001b[0m\u001b[0;34m=\u001b[0m\u001b[0mdata_repr\u001b[0m\u001b[0;34m,\u001b[0m\u001b[0;34m\u001b[0m\u001b[0;34m\u001b[0m\u001b[0m\n",
      "\u001b[0m\u001b[0;32m---> 83 \u001b[0;31m            \u001b[0mfused_rep\u001b[0m\u001b[0;34m=\u001b[0m\u001b[0mdata_fused_repr\u001b[0m\u001b[0;34m,\u001b[0m\u001b[0;34m\u001b[0m\u001b[0;34m\u001b[0m\u001b[0m\n",
      "\u001b[0m\u001b[0;32m     84 \u001b[0;31m            \u001b[0mmeta_repr\u001b[0m\u001b[0;34m=\u001b[0m\u001b[0mmeta_repr\u001b[0m\u001b[0;34m,\u001b[0m\u001b[0;34m\u001b[0m\u001b[0;34m\u001b[0m\u001b[0m\n",
      "\u001b[0m\u001b[0;32m     85 \u001b[0;31m        )\n",
      "\u001b[0m\n"
     ]
    },
    {
     "name": "stdin",
     "output_type": "stream",
     "text": [
      "ipdb>  \n"
     ]
    },
    {
     "name": "stdout",
     "output_type": "stream",
     "text": [
      "> \u001b[0;32m/tmp/ipykernel_15122/1379713280.py\u001b[0m(84)\u001b[0;36mforward\u001b[0;34m()\u001b[0m\n",
      "\u001b[0;32m     82 \u001b[0;31m            \u001b[0mrep\u001b[0m\u001b[0;34m=\u001b[0m\u001b[0mdata_repr\u001b[0m\u001b[0;34m,\u001b[0m\u001b[0;34m\u001b[0m\u001b[0;34m\u001b[0m\u001b[0m\n",
      "\u001b[0m\u001b[0;32m     83 \u001b[0;31m            \u001b[0mfused_rep\u001b[0m\u001b[0;34m=\u001b[0m\u001b[0mdata_fused_repr\u001b[0m\u001b[0;34m,\u001b[0m\u001b[0;34m\u001b[0m\u001b[0;34m\u001b[0m\u001b[0m\n",
      "\u001b[0m\u001b[0;32m---> 84 \u001b[0;31m            \u001b[0mmeta_repr\u001b[0m\u001b[0;34m=\u001b[0m\u001b[0mmeta_repr\u001b[0m\u001b[0;34m,\u001b[0m\u001b[0;34m\u001b[0m\u001b[0;34m\u001b[0m\u001b[0m\n",
      "\u001b[0m\u001b[0;32m     85 \u001b[0;31m        )\n",
      "\u001b[0m\u001b[0;32m     86 \u001b[0;31m\u001b[0;34m\u001b[0m\u001b[0m\n",
      "\u001b[0m\n"
     ]
    },
    {
     "name": "stdin",
     "output_type": "stream",
     "text": [
      "ipdb>  \n"
     ]
    },
    {
     "name": "stdout",
     "output_type": "stream",
     "text": [
      "> \u001b[0;32m/tmp/ipykernel_15122/1379713280.py\u001b[0m(81)\u001b[0;36mforward\u001b[0;34m()\u001b[0m\n",
      "\u001b[0;32m     79 \u001b[0;31m        \u001b[0mdata_repr\u001b[0m \u001b[0;34m=\u001b[0m \u001b[0mF\u001b[0m\u001b[0;34m.\u001b[0m\u001b[0mnormalize\u001b[0m\u001b[0;34m(\u001b[0m\u001b[0mdata_repr\u001b[0m\u001b[0;34m,\u001b[0m \u001b[0mdim\u001b[0m\u001b[0;34m=\u001b[0m\u001b[0;36m1\u001b[0m\u001b[0;34m)\u001b[0m\u001b[0;34m\u001b[0m\u001b[0;34m\u001b[0m\u001b[0m\n",
      "\u001b[0m\u001b[0;32m     80 \u001b[0;31m\u001b[0;34m\u001b[0m\u001b[0m\n",
      "\u001b[0m\u001b[0;32m---> 81 \u001b[0;31m        return EncoderOutput(\n",
      "\u001b[0m\u001b[0;32m     82 \u001b[0;31m            \u001b[0mrep\u001b[0m\u001b[0;34m=\u001b[0m\u001b[0mdata_repr\u001b[0m\u001b[0;34m,\u001b[0m\u001b[0;34m\u001b[0m\u001b[0;34m\u001b[0m\u001b[0m\n",
      "\u001b[0m\u001b[0;32m     83 \u001b[0;31m            \u001b[0mfused_rep\u001b[0m\u001b[0;34m=\u001b[0m\u001b[0mdata_fused_repr\u001b[0m\u001b[0;34m,\u001b[0m\u001b[0;34m\u001b[0m\u001b[0;34m\u001b[0m\u001b[0m\n",
      "\u001b[0m\n"
     ]
    },
    {
     "name": "stdin",
     "output_type": "stream",
     "text": [
      "ipdb>  \n"
     ]
    },
    {
     "name": "stdout",
     "output_type": "stream",
     "text": [
      "--Return--\n",
      "EncoderOutput...dBackward0>)})\n",
      "> \u001b[0;32m/tmp/ipykernel_15122/1379713280.py\u001b[0m(81)\u001b[0;36mforward\u001b[0;34m()\u001b[0m\n",
      "\u001b[0;32m     79 \u001b[0;31m        \u001b[0mdata_repr\u001b[0m \u001b[0;34m=\u001b[0m \u001b[0mF\u001b[0m\u001b[0;34m.\u001b[0m\u001b[0mnormalize\u001b[0m\u001b[0;34m(\u001b[0m\u001b[0mdata_repr\u001b[0m\u001b[0;34m,\u001b[0m \u001b[0mdim\u001b[0m\u001b[0;34m=\u001b[0m\u001b[0;36m1\u001b[0m\u001b[0;34m)\u001b[0m\u001b[0;34m\u001b[0m\u001b[0;34m\u001b[0m\u001b[0m\n",
      "\u001b[0m\u001b[0;32m     80 \u001b[0;31m\u001b[0;34m\u001b[0m\u001b[0m\n",
      "\u001b[0m\u001b[0;32m---> 81 \u001b[0;31m        return EncoderOutput(\n",
      "\u001b[0m\u001b[0;32m     82 \u001b[0;31m            \u001b[0mrep\u001b[0m\u001b[0;34m=\u001b[0m\u001b[0mdata_repr\u001b[0m\u001b[0;34m,\u001b[0m\u001b[0;34m\u001b[0m\u001b[0;34m\u001b[0m\u001b[0m\n",
      "\u001b[0m\u001b[0;32m     83 \u001b[0;31m            \u001b[0mfused_rep\u001b[0m\u001b[0;34m=\u001b[0m\u001b[0mdata_fused_repr\u001b[0m\u001b[0;34m,\u001b[0m\u001b[0;34m\u001b[0m\u001b[0;34m\u001b[0m\u001b[0m\n",
      "\u001b[0m\n"
     ]
    },
    {
     "name": "stdin",
     "output_type": "stream",
     "text": [
      "ipdb>  \n"
     ]
    },
    {
     "name": "stdout",
     "output_type": "stream",
     "text": [
      "> \u001b[0;32m/tmp/ipykernel_15122/1326464437.py\u001b[0m(72)\u001b[0;36mforward\u001b[0;34m()\u001b[0m\n",
      "\u001b[0;32m     70 \u001b[0;31m\u001b[0;34m\u001b[0m\u001b[0m\n",
      "\u001b[0m\u001b[0;32m     71 \u001b[0;31m\u001b[0;34m\u001b[0m\u001b[0m\n",
      "\u001b[0m\u001b[0;32m---> 72 \u001b[0;31m        \u001b[0mloss\u001b[0m \u001b[0;34m=\u001b[0m \u001b[0;32mNone\u001b[0m\u001b[0;34m;\u001b[0m \u001b[0mlbl2data_o\u001b[0m \u001b[0;34m=\u001b[0m \u001b[0mEncoderOutput\u001b[0m\u001b[0;34m(\u001b[0m\u001b[0;34m)\u001b[0m\u001b[0;34m\u001b[0m\u001b[0;34m\u001b[0m\u001b[0m\n",
      "\u001b[0m\u001b[0;32m     73 \u001b[0;31m        \u001b[0;32mif\u001b[0m \u001b[0mlbl2data_input_ids\u001b[0m \u001b[0;32mis\u001b[0m \u001b[0;32mnot\u001b[0m \u001b[0;32mNone\u001b[0m\u001b[0;34m:\u001b[0m\u001b[0;34m\u001b[0m\u001b[0;34m\u001b[0m\u001b[0m\n",
      "\u001b[0m\u001b[0;32m     74 \u001b[0;31m            \u001b[0mlbl2data_meta_kwargs\u001b[0m \u001b[0;34m=\u001b[0m \u001b[0mself\u001b[0m\u001b[0;34m.\u001b[0m\u001b[0m_get_encoder_meta_kwargs\u001b[0m\u001b[0;34m(\u001b[0m\u001b[0;34m'lbl2data'\u001b[0m\u001b[0;34m,\u001b[0m \u001b[0mself\u001b[0m\u001b[0;34m.\u001b[0m\u001b[0mlbl2data_aug_meta_prefix\u001b[0m\u001b[0;34m,\u001b[0m \u001b[0;34m**\u001b[0m\u001b[0mkwargs\u001b[0m\u001b[0;34m)\u001b[0m\u001b[0;34m\u001b[0m\u001b[0;34m\u001b[0m\u001b[0m\n",
      "\u001b[0m\n"
     ]
    },
    {
     "name": "stdin",
     "output_type": "stream",
     "text": [
      "ipdb>  \n"
     ]
    },
    {
     "name": "stdout",
     "output_type": "stream",
     "text": [
      "> \u001b[0;32m/tmp/ipykernel_15122/1326464437.py\u001b[0m(73)\u001b[0;36mforward\u001b[0;34m()\u001b[0m\n",
      "\u001b[0;32m     71 \u001b[0;31m\u001b[0;34m\u001b[0m\u001b[0m\n",
      "\u001b[0m\u001b[0;32m     72 \u001b[0;31m        \u001b[0mloss\u001b[0m \u001b[0;34m=\u001b[0m \u001b[0;32mNone\u001b[0m\u001b[0;34m;\u001b[0m \u001b[0mlbl2data_o\u001b[0m \u001b[0;34m=\u001b[0m \u001b[0mEncoderOutput\u001b[0m\u001b[0;34m(\u001b[0m\u001b[0;34m)\u001b[0m\u001b[0;34m\u001b[0m\u001b[0;34m\u001b[0m\u001b[0m\n",
      "\u001b[0m\u001b[0;32m---> 73 \u001b[0;31m        \u001b[0;32mif\u001b[0m \u001b[0mlbl2data_input_ids\u001b[0m \u001b[0;32mis\u001b[0m \u001b[0;32mnot\u001b[0m \u001b[0;32mNone\u001b[0m\u001b[0;34m:\u001b[0m\u001b[0;34m\u001b[0m\u001b[0;34m\u001b[0m\u001b[0m\n",
      "\u001b[0m\u001b[0;32m     74 \u001b[0;31m            \u001b[0mlbl2data_meta_kwargs\u001b[0m \u001b[0;34m=\u001b[0m \u001b[0mself\u001b[0m\u001b[0;34m.\u001b[0m\u001b[0m_get_encoder_meta_kwargs\u001b[0m\u001b[0;34m(\u001b[0m\u001b[0;34m'lbl2data'\u001b[0m\u001b[0;34m,\u001b[0m \u001b[0mself\u001b[0m\u001b[0;34m.\u001b[0m\u001b[0mlbl2data_aug_meta_prefix\u001b[0m\u001b[0;34m,\u001b[0m \u001b[0;34m**\u001b[0m\u001b[0mkwargs\u001b[0m\u001b[0;34m)\u001b[0m\u001b[0;34m\u001b[0m\u001b[0;34m\u001b[0m\u001b[0m\n",
      "\u001b[0m\u001b[0;32m     75 \u001b[0;31m            lbl2data_o = encoder(data_input_ids=lbl2data_input_ids, data_attention_mask=lbl2data_attention_mask, \n",
      "\u001b[0m\n"
     ]
    },
    {
     "name": "stdin",
     "output_type": "stream",
     "text": [
      "ipdb>  \n"
     ]
    },
    {
     "name": "stdout",
     "output_type": "stream",
     "text": [
      "> \u001b[0;32m/tmp/ipykernel_15122/1326464437.py\u001b[0m(74)\u001b[0;36mforward\u001b[0;34m()\u001b[0m\n",
      "\u001b[0;32m     72 \u001b[0;31m        \u001b[0mloss\u001b[0m \u001b[0;34m=\u001b[0m \u001b[0;32mNone\u001b[0m\u001b[0;34m;\u001b[0m \u001b[0mlbl2data_o\u001b[0m \u001b[0;34m=\u001b[0m \u001b[0mEncoderOutput\u001b[0m\u001b[0;34m(\u001b[0m\u001b[0;34m)\u001b[0m\u001b[0;34m\u001b[0m\u001b[0;34m\u001b[0m\u001b[0m\n",
      "\u001b[0m\u001b[0;32m     73 \u001b[0;31m        \u001b[0;32mif\u001b[0m \u001b[0mlbl2data_input_ids\u001b[0m \u001b[0;32mis\u001b[0m \u001b[0;32mnot\u001b[0m \u001b[0;32mNone\u001b[0m\u001b[0;34m:\u001b[0m\u001b[0;34m\u001b[0m\u001b[0;34m\u001b[0m\u001b[0m\n",
      "\u001b[0m\u001b[0;32m---> 74 \u001b[0;31m            \u001b[0mlbl2data_meta_kwargs\u001b[0m \u001b[0;34m=\u001b[0m \u001b[0mself\u001b[0m\u001b[0;34m.\u001b[0m\u001b[0m_get_encoder_meta_kwargs\u001b[0m\u001b[0;34m(\u001b[0m\u001b[0;34m'lbl2data'\u001b[0m\u001b[0;34m,\u001b[0m \u001b[0mself\u001b[0m\u001b[0;34m.\u001b[0m\u001b[0mlbl2data_aug_meta_prefix\u001b[0m\u001b[0;34m,\u001b[0m \u001b[0;34m**\u001b[0m\u001b[0mkwargs\u001b[0m\u001b[0;34m)\u001b[0m\u001b[0;34m\u001b[0m\u001b[0;34m\u001b[0m\u001b[0m\n",
      "\u001b[0m\u001b[0;32m     75 \u001b[0;31m            lbl2data_o = encoder(data_input_ids=lbl2data_input_ids, data_attention_mask=lbl2data_attention_mask, \n",
      "\u001b[0m\u001b[0;32m     76 \u001b[0;31m                                 data_aug_meta_prefix=self.lbl2data_aug_meta_prefix, **lbl2data_meta_kwargs)\n",
      "\u001b[0m\n"
     ]
    },
    {
     "name": "stdin",
     "output_type": "stream",
     "text": [
      "ipdb>  \n"
     ]
    },
    {
     "name": "stdout",
     "output_type": "stream",
     "text": [
      "> \u001b[0;32m/tmp/ipykernel_15122/1326464437.py\u001b[0m(75)\u001b[0;36mforward\u001b[0;34m()\u001b[0m\n",
      "\u001b[0;32m     73 \u001b[0;31m        \u001b[0;32mif\u001b[0m \u001b[0mlbl2data_input_ids\u001b[0m \u001b[0;32mis\u001b[0m \u001b[0;32mnot\u001b[0m \u001b[0;32mNone\u001b[0m\u001b[0;34m:\u001b[0m\u001b[0;34m\u001b[0m\u001b[0;34m\u001b[0m\u001b[0m\n",
      "\u001b[0m\u001b[0;32m     74 \u001b[0;31m            \u001b[0mlbl2data_meta_kwargs\u001b[0m \u001b[0;34m=\u001b[0m \u001b[0mself\u001b[0m\u001b[0;34m.\u001b[0m\u001b[0m_get_encoder_meta_kwargs\u001b[0m\u001b[0;34m(\u001b[0m\u001b[0;34m'lbl2data'\u001b[0m\u001b[0;34m,\u001b[0m \u001b[0mself\u001b[0m\u001b[0;34m.\u001b[0m\u001b[0mlbl2data_aug_meta_prefix\u001b[0m\u001b[0;34m,\u001b[0m \u001b[0;34m**\u001b[0m\u001b[0mkwargs\u001b[0m\u001b[0;34m)\u001b[0m\u001b[0;34m\u001b[0m\u001b[0;34m\u001b[0m\u001b[0m\n",
      "\u001b[0m\u001b[0;32m---> 75 \u001b[0;31m            lbl2data_o = encoder(data_input_ids=lbl2data_input_ids, data_attention_mask=lbl2data_attention_mask, \n",
      "\u001b[0m\u001b[0;32m     76 \u001b[0;31m                                 data_aug_meta_prefix=self.lbl2data_aug_meta_prefix, **lbl2data_meta_kwargs)\n",
      "\u001b[0m\u001b[0;32m     77 \u001b[0;31m\u001b[0;34m\u001b[0m\u001b[0m\n",
      "\u001b[0m\n"
     ]
    },
    {
     "name": "stdin",
     "output_type": "stream",
     "text": [
      "ipdb>  lbl2data_meta_kwargs\n"
     ]
    },
    {
     "name": "stdout",
     "output_type": "stream",
     "text": [
      "{}\n"
     ]
    },
    {
     "name": "stdin",
     "output_type": "stream",
     "text": [
      "ipdb>  n\n"
     ]
    },
    {
     "name": "stdout",
     "output_type": "stream",
     "text": [
      "> \u001b[0;32m/tmp/ipykernel_15122/1326464437.py\u001b[0m(76)\u001b[0;36mforward\u001b[0;34m()\u001b[0m\n",
      "\u001b[0;32m     74 \u001b[0;31m            \u001b[0mlbl2data_meta_kwargs\u001b[0m \u001b[0;34m=\u001b[0m \u001b[0mself\u001b[0m\u001b[0;34m.\u001b[0m\u001b[0m_get_encoder_meta_kwargs\u001b[0m\u001b[0;34m(\u001b[0m\u001b[0;34m'lbl2data'\u001b[0m\u001b[0;34m,\u001b[0m \u001b[0mself\u001b[0m\u001b[0;34m.\u001b[0m\u001b[0mlbl2data_aug_meta_prefix\u001b[0m\u001b[0;34m,\u001b[0m \u001b[0;34m**\u001b[0m\u001b[0mkwargs\u001b[0m\u001b[0;34m)\u001b[0m\u001b[0;34m\u001b[0m\u001b[0;34m\u001b[0m\u001b[0m\n",
      "\u001b[0m\u001b[0;32m     75 \u001b[0;31m            lbl2data_o = encoder(data_input_ids=lbl2data_input_ids, data_attention_mask=lbl2data_attention_mask, \n",
      "\u001b[0m\u001b[0;32m---> 76 \u001b[0;31m                                 data_aug_meta_prefix=self.lbl2data_aug_meta_prefix, **lbl2data_meta_kwargs)\n",
      "\u001b[0m\u001b[0;32m     77 \u001b[0;31m\u001b[0;34m\u001b[0m\u001b[0m\n",
      "\u001b[0m\u001b[0;32m     78 \u001b[0;31m            loss = self.compute_loss(data_o.fused_rep, lbl2data_o.rep,lbl2data_data2ptr,lbl2data_idx,\n",
      "\u001b[0m\n"
     ]
    },
    {
     "name": "stdin",
     "output_type": "stream",
     "text": [
      "ipdb>  \n"
     ]
    },
    {
     "name": "stdout",
     "output_type": "stream",
     "text": [
      "> \u001b[0;32m/tmp/ipykernel_15122/1326464437.py\u001b[0m(75)\u001b[0;36mforward\u001b[0;34m()\u001b[0m\n",
      "\u001b[0;32m     73 \u001b[0;31m        \u001b[0;32mif\u001b[0m \u001b[0mlbl2data_input_ids\u001b[0m \u001b[0;32mis\u001b[0m \u001b[0;32mnot\u001b[0m \u001b[0;32mNone\u001b[0m\u001b[0;34m:\u001b[0m\u001b[0;34m\u001b[0m\u001b[0;34m\u001b[0m\u001b[0m\n",
      "\u001b[0m\u001b[0;32m     74 \u001b[0;31m            \u001b[0mlbl2data_meta_kwargs\u001b[0m \u001b[0;34m=\u001b[0m \u001b[0mself\u001b[0m\u001b[0;34m.\u001b[0m\u001b[0m_get_encoder_meta_kwargs\u001b[0m\u001b[0;34m(\u001b[0m\u001b[0;34m'lbl2data'\u001b[0m\u001b[0;34m,\u001b[0m \u001b[0mself\u001b[0m\u001b[0;34m.\u001b[0m\u001b[0mlbl2data_aug_meta_prefix\u001b[0m\u001b[0;34m,\u001b[0m \u001b[0;34m**\u001b[0m\u001b[0mkwargs\u001b[0m\u001b[0;34m)\u001b[0m\u001b[0;34m\u001b[0m\u001b[0;34m\u001b[0m\u001b[0m\n",
      "\u001b[0m\u001b[0;32m---> 75 \u001b[0;31m            lbl2data_o = encoder(data_input_ids=lbl2data_input_ids, data_attention_mask=lbl2data_attention_mask, \n",
      "\u001b[0m\u001b[0;32m     76 \u001b[0;31m                                 data_aug_meta_prefix=self.lbl2data_aug_meta_prefix, **lbl2data_meta_kwargs)\n",
      "\u001b[0m\u001b[0;32m     77 \u001b[0;31m\u001b[0;34m\u001b[0m\u001b[0m\n",
      "\u001b[0m\n"
     ]
    },
    {
     "name": "stdin",
     "output_type": "stream",
     "text": [
      "ipdb>  \n"
     ]
    },
    {
     "name": "stdout",
     "output_type": "stream",
     "text": [
      "> \u001b[0;32m/tmp/ipykernel_15122/1326464437.py\u001b[0m(76)\u001b[0;36mforward\u001b[0;34m()\u001b[0m\n",
      "\u001b[0;32m     74 \u001b[0;31m            \u001b[0mlbl2data_meta_kwargs\u001b[0m \u001b[0;34m=\u001b[0m \u001b[0mself\u001b[0m\u001b[0;34m.\u001b[0m\u001b[0m_get_encoder_meta_kwargs\u001b[0m\u001b[0;34m(\u001b[0m\u001b[0;34m'lbl2data'\u001b[0m\u001b[0;34m,\u001b[0m \u001b[0mself\u001b[0m\u001b[0;34m.\u001b[0m\u001b[0mlbl2data_aug_meta_prefix\u001b[0m\u001b[0;34m,\u001b[0m \u001b[0;34m**\u001b[0m\u001b[0mkwargs\u001b[0m\u001b[0;34m)\u001b[0m\u001b[0;34m\u001b[0m\u001b[0;34m\u001b[0m\u001b[0m\n",
      "\u001b[0m\u001b[0;32m     75 \u001b[0;31m            lbl2data_o = encoder(data_input_ids=lbl2data_input_ids, data_attention_mask=lbl2data_attention_mask, \n",
      "\u001b[0m\u001b[0;32m---> 76 \u001b[0;31m                                 data_aug_meta_prefix=self.lbl2data_aug_meta_prefix, **lbl2data_meta_kwargs)\n",
      "\u001b[0m\u001b[0;32m     77 \u001b[0;31m\u001b[0;34m\u001b[0m\u001b[0m\n",
      "\u001b[0m\u001b[0;32m     78 \u001b[0;31m            loss = self.compute_loss(data_o.fused_rep, lbl2data_o.rep,lbl2data_data2ptr,lbl2data_idx,\n",
      "\u001b[0m\n"
     ]
    },
    {
     "name": "stdin",
     "output_type": "stream",
     "text": [
      "ipdb>  \n"
     ]
    },
    {
     "name": "stdout",
     "output_type": "stream",
     "text": [
      "> \u001b[0;32m/tmp/ipykernel_15122/1326464437.py\u001b[0m(75)\u001b[0;36mforward\u001b[0;34m()\u001b[0m\n",
      "\u001b[0;32m     73 \u001b[0;31m        \u001b[0;32mif\u001b[0m \u001b[0mlbl2data_input_ids\u001b[0m \u001b[0;32mis\u001b[0m \u001b[0;32mnot\u001b[0m \u001b[0;32mNone\u001b[0m\u001b[0;34m:\u001b[0m\u001b[0;34m\u001b[0m\u001b[0;34m\u001b[0m\u001b[0m\n",
      "\u001b[0m\u001b[0;32m     74 \u001b[0;31m            \u001b[0mlbl2data_meta_kwargs\u001b[0m \u001b[0;34m=\u001b[0m \u001b[0mself\u001b[0m\u001b[0;34m.\u001b[0m\u001b[0m_get_encoder_meta_kwargs\u001b[0m\u001b[0;34m(\u001b[0m\u001b[0;34m'lbl2data'\u001b[0m\u001b[0;34m,\u001b[0m \u001b[0mself\u001b[0m\u001b[0;34m.\u001b[0m\u001b[0mlbl2data_aug_meta_prefix\u001b[0m\u001b[0;34m,\u001b[0m \u001b[0;34m**\u001b[0m\u001b[0mkwargs\u001b[0m\u001b[0;34m)\u001b[0m\u001b[0;34m\u001b[0m\u001b[0;34m\u001b[0m\u001b[0m\n",
      "\u001b[0m\u001b[0;32m---> 75 \u001b[0;31m            lbl2data_o = encoder(data_input_ids=lbl2data_input_ids, data_attention_mask=lbl2data_attention_mask, \n",
      "\u001b[0m\u001b[0;32m     76 \u001b[0;31m                                 data_aug_meta_prefix=self.lbl2data_aug_meta_prefix, **lbl2data_meta_kwargs)\n",
      "\u001b[0m\u001b[0;32m     77 \u001b[0;31m\u001b[0;34m\u001b[0m\u001b[0m\n",
      "\u001b[0m\n"
     ]
    },
    {
     "name": "stdin",
     "output_type": "stream",
     "text": [
      "ipdb>  \n"
     ]
    },
    {
     "name": "stdout",
     "output_type": "stream",
     "text": [
      "> \u001b[0;32m/tmp/ipykernel_15122/1379713280.py\u001b[0m(70)\u001b[0;36mforward\u001b[0;34m()\u001b[0m\n",
      "\u001b[0;32m     68 \u001b[0;31m        \u001b[0;34m**\u001b[0m\u001b[0mkwargs\u001b[0m\u001b[0;34m\u001b[0m\u001b[0;34m\u001b[0m\u001b[0m\n",
      "\u001b[0m\u001b[0;32m     69 \u001b[0;31m    ):  \n",
      "\u001b[0m\u001b[0;32m---> 70 \u001b[0;31m        \u001b[0mdata_repr\u001b[0m \u001b[0;34m=\u001b[0m \u001b[0mself\u001b[0m\u001b[0;34m.\u001b[0m\u001b[0mdr_encode\u001b[0m\u001b[0;34m(\u001b[0m\u001b[0mdata_input_ids\u001b[0m\u001b[0;34m,\u001b[0m \u001b[0mdata_attention_mask\u001b[0m\u001b[0;34m)\u001b[0m\u001b[0;34m\u001b[0m\u001b[0;34m\u001b[0m\u001b[0m\n",
      "\u001b[0m\u001b[0;32m     71 \u001b[0;31m\u001b[0;34m\u001b[0m\u001b[0m\n",
      "\u001b[0m\u001b[0;32m     72 \u001b[0;31m        \u001b[0mdata_fused_repr\u001b[0m \u001b[0;34m=\u001b[0m \u001b[0mmeta_repr\u001b[0m \u001b[0;34m=\u001b[0m \u001b[0;32mNone\u001b[0m\u001b[0;34m\u001b[0m\u001b[0;34m\u001b[0m\u001b[0m\n",
      "\u001b[0m\n"
     ]
    },
    {
     "name": "stdin",
     "output_type": "stream",
     "text": [
      "ipdb>  \n"
     ]
    },
    {
     "name": "stdout",
     "output_type": "stream",
     "text": [
      "> \u001b[0;32m/tmp/ipykernel_15122/1379713280.py\u001b[0m(72)\u001b[0;36mforward\u001b[0;34m()\u001b[0m\n",
      "\u001b[0;32m     70 \u001b[0;31m        \u001b[0mdata_repr\u001b[0m \u001b[0;34m=\u001b[0m \u001b[0mself\u001b[0m\u001b[0;34m.\u001b[0m\u001b[0mdr_encode\u001b[0m\u001b[0;34m(\u001b[0m\u001b[0mdata_input_ids\u001b[0m\u001b[0;34m,\u001b[0m \u001b[0mdata_attention_mask\u001b[0m\u001b[0;34m)\u001b[0m\u001b[0;34m\u001b[0m\u001b[0;34m\u001b[0m\u001b[0m\n",
      "\u001b[0m\u001b[0;32m     71 \u001b[0;31m\u001b[0;34m\u001b[0m\u001b[0m\n",
      "\u001b[0m\u001b[0;32m---> 72 \u001b[0;31m        \u001b[0mdata_fused_repr\u001b[0m \u001b[0;34m=\u001b[0m \u001b[0mmeta_repr\u001b[0m \u001b[0;34m=\u001b[0m \u001b[0;32mNone\u001b[0m\u001b[0;34m\u001b[0m\u001b[0;34m\u001b[0m\u001b[0m\n",
      "\u001b[0m\u001b[0;32m     73 \u001b[0;31m        \u001b[0;32mif\u001b[0m \u001b[0mdata_aug_meta_prefix\u001b[0m \u001b[0;32mis\u001b[0m \u001b[0;32mnot\u001b[0m \u001b[0;32mNone\u001b[0m\u001b[0;34m:\u001b[0m\u001b[0;34m\u001b[0m\u001b[0;34m\u001b[0m\u001b[0m\n",
      "\u001b[0m\u001b[0;32m     74 \u001b[0;31m            \u001b[0mmeta_kwargs\u001b[0m \u001b[0;34m=\u001b[0m \u001b[0mParameters\u001b[0m\u001b[0;34m.\u001b[0m\u001b[0mfrom_meta_aug_prefix\u001b[0m\u001b[0;34m(\u001b[0m\u001b[0mdata_aug_meta_prefix\u001b[0m\u001b[0;34m,\u001b[0m \u001b[0;34m**\u001b[0m\u001b[0mkwargs\u001b[0m\u001b[0;34m)\u001b[0m\u001b[0;34m\u001b[0m\u001b[0;34m\u001b[0m\u001b[0m\n",
      "\u001b[0m\n"
     ]
    },
    {
     "name": "stdin",
     "output_type": "stream",
     "text": [
      "ipdb>  \n"
     ]
    },
    {
     "name": "stdout",
     "output_type": "stream",
     "text": [
      "> \u001b[0;32m/tmp/ipykernel_15122/1379713280.py\u001b[0m(73)\u001b[0;36mforward\u001b[0;34m()\u001b[0m\n",
      "\u001b[0;32m     71 \u001b[0;31m\u001b[0;34m\u001b[0m\u001b[0m\n",
      "\u001b[0m\u001b[0;32m     72 \u001b[0;31m        \u001b[0mdata_fused_repr\u001b[0m \u001b[0;34m=\u001b[0m \u001b[0mmeta_repr\u001b[0m \u001b[0;34m=\u001b[0m \u001b[0;32mNone\u001b[0m\u001b[0;34m\u001b[0m\u001b[0;34m\u001b[0m\u001b[0m\n",
      "\u001b[0m\u001b[0;32m---> 73 \u001b[0;31m        \u001b[0;32mif\u001b[0m \u001b[0mdata_aug_meta_prefix\u001b[0m \u001b[0;32mis\u001b[0m \u001b[0;32mnot\u001b[0m \u001b[0;32mNone\u001b[0m\u001b[0;34m:\u001b[0m\u001b[0;34m\u001b[0m\u001b[0;34m\u001b[0m\u001b[0m\n",
      "\u001b[0m\u001b[0;32m     74 \u001b[0;31m            \u001b[0mmeta_kwargs\u001b[0m \u001b[0;34m=\u001b[0m \u001b[0mParameters\u001b[0m\u001b[0;34m.\u001b[0m\u001b[0mfrom_meta_aug_prefix\u001b[0m\u001b[0;34m(\u001b[0m\u001b[0mdata_aug_meta_prefix\u001b[0m\u001b[0;34m,\u001b[0m \u001b[0;34m**\u001b[0m\u001b[0mkwargs\u001b[0m\u001b[0;34m)\u001b[0m\u001b[0;34m\u001b[0m\u001b[0;34m\u001b[0m\u001b[0m\n",
      "\u001b[0m\u001b[0;32m     75 \u001b[0;31m            \u001b[0;32mif\u001b[0m \u001b[0mlen\u001b[0m\u001b[0;34m(\u001b[0m\u001b[0mmeta_kwargs\u001b[0m\u001b[0;34m)\u001b[0m\u001b[0;34m:\u001b[0m\u001b[0;34m\u001b[0m\u001b[0;34m\u001b[0m\u001b[0m\n",
      "\u001b[0m\n"
     ]
    },
    {
     "name": "stdin",
     "output_type": "stream",
     "text": [
      "ipdb>  \n"
     ]
    },
    {
     "name": "stdout",
     "output_type": "stream",
     "text": [
      "> \u001b[0;32m/tmp/ipykernel_15122/1379713280.py\u001b[0m(79)\u001b[0;36mforward\u001b[0;34m()\u001b[0m\n",
      "\u001b[0;32m     77 \u001b[0;31m                \u001b[0mdata_fused_repr\u001b[0m \u001b[0;34m=\u001b[0m \u001b[0mself\u001b[0m\u001b[0;34m.\u001b[0m\u001b[0mdr\u001b[0m\u001b[0;34m(\u001b[0m\u001b[0mdata_fused_repr\u001b[0m\u001b[0;34m)\u001b[0m\u001b[0;34m\u001b[0m\u001b[0;34m\u001b[0m\u001b[0m\n",
      "\u001b[0m\u001b[0;32m     78 \u001b[0;31m\u001b[0;34m\u001b[0m\u001b[0m\n",
      "\u001b[0m\u001b[0;32m---> 79 \u001b[0;31m        \u001b[0mdata_repr\u001b[0m \u001b[0;34m=\u001b[0m \u001b[0mF\u001b[0m\u001b[0;34m.\u001b[0m\u001b[0mnormalize\u001b[0m\u001b[0;34m(\u001b[0m\u001b[0mdata_repr\u001b[0m\u001b[0;34m,\u001b[0m \u001b[0mdim\u001b[0m\u001b[0;34m=\u001b[0m\u001b[0;36m1\u001b[0m\u001b[0;34m)\u001b[0m\u001b[0;34m\u001b[0m\u001b[0;34m\u001b[0m\u001b[0m\n",
      "\u001b[0m\u001b[0;32m     80 \u001b[0;31m\u001b[0;34m\u001b[0m\u001b[0m\n",
      "\u001b[0m\u001b[0;32m     81 \u001b[0;31m        return EncoderOutput(\n",
      "\u001b[0m\n"
     ]
    },
    {
     "name": "stdin",
     "output_type": "stream",
     "text": [
      "ipdb>  \n"
     ]
    },
    {
     "name": "stdout",
     "output_type": "stream",
     "text": [
      "> \u001b[0;32m/tmp/ipykernel_15122/1379713280.py\u001b[0m(81)\u001b[0;36mforward\u001b[0;34m()\u001b[0m\n",
      "\u001b[0;32m     79 \u001b[0;31m        \u001b[0mdata_repr\u001b[0m \u001b[0;34m=\u001b[0m \u001b[0mF\u001b[0m\u001b[0;34m.\u001b[0m\u001b[0mnormalize\u001b[0m\u001b[0;34m(\u001b[0m\u001b[0mdata_repr\u001b[0m\u001b[0;34m,\u001b[0m \u001b[0mdim\u001b[0m\u001b[0;34m=\u001b[0m\u001b[0;36m1\u001b[0m\u001b[0;34m)\u001b[0m\u001b[0;34m\u001b[0m\u001b[0;34m\u001b[0m\u001b[0m\n",
      "\u001b[0m\u001b[0;32m     80 \u001b[0;31m\u001b[0;34m\u001b[0m\u001b[0m\n",
      "\u001b[0m\u001b[0;32m---> 81 \u001b[0;31m        return EncoderOutput(\n",
      "\u001b[0m\u001b[0;32m     82 \u001b[0;31m            \u001b[0mrep\u001b[0m\u001b[0;34m=\u001b[0m\u001b[0mdata_repr\u001b[0m\u001b[0;34m,\u001b[0m\u001b[0;34m\u001b[0m\u001b[0;34m\u001b[0m\u001b[0m\n",
      "\u001b[0m\u001b[0;32m     83 \u001b[0;31m            \u001b[0mfused_rep\u001b[0m\u001b[0;34m=\u001b[0m\u001b[0mdata_fused_repr\u001b[0m\u001b[0;34m,\u001b[0m\u001b[0;34m\u001b[0m\u001b[0;34m\u001b[0m\u001b[0m\n",
      "\u001b[0m\n"
     ]
    },
    {
     "name": "stdin",
     "output_type": "stream",
     "text": [
      "ipdb>  \n"
     ]
    },
    {
     "name": "stdout",
     "output_type": "stream",
     "text": [
      "> \u001b[0;32m/tmp/ipykernel_15122/1379713280.py\u001b[0m(82)\u001b[0;36mforward\u001b[0;34m()\u001b[0m\n",
      "\u001b[0;32m     80 \u001b[0;31m\u001b[0;34m\u001b[0m\u001b[0m\n",
      "\u001b[0m\u001b[0;32m     81 \u001b[0;31m        return EncoderOutput(\n",
      "\u001b[0m\u001b[0;32m---> 82 \u001b[0;31m            \u001b[0mrep\u001b[0m\u001b[0;34m=\u001b[0m\u001b[0mdata_repr\u001b[0m\u001b[0;34m,\u001b[0m\u001b[0;34m\u001b[0m\u001b[0;34m\u001b[0m\u001b[0m\n",
      "\u001b[0m\u001b[0;32m     83 \u001b[0;31m            \u001b[0mfused_rep\u001b[0m\u001b[0;34m=\u001b[0m\u001b[0mdata_fused_repr\u001b[0m\u001b[0;34m,\u001b[0m\u001b[0;34m\u001b[0m\u001b[0;34m\u001b[0m\u001b[0m\n",
      "\u001b[0m\u001b[0;32m     84 \u001b[0;31m            \u001b[0mmeta_repr\u001b[0m\u001b[0;34m=\u001b[0m\u001b[0mmeta_repr\u001b[0m\u001b[0;34m,\u001b[0m\u001b[0;34m\u001b[0m\u001b[0;34m\u001b[0m\u001b[0m\n",
      "\u001b[0m\n"
     ]
    },
    {
     "name": "stdin",
     "output_type": "stream",
     "text": [
      "ipdb>  \n"
     ]
    },
    {
     "name": "stdout",
     "output_type": "stream",
     "text": [
      "> \u001b[0;32m/tmp/ipykernel_15122/1379713280.py\u001b[0m(83)\u001b[0;36mforward\u001b[0;34m()\u001b[0m\n",
      "\u001b[0;32m     81 \u001b[0;31m        return EncoderOutput(\n",
      "\u001b[0m\u001b[0;32m     82 \u001b[0;31m            \u001b[0mrep\u001b[0m\u001b[0;34m=\u001b[0m\u001b[0mdata_repr\u001b[0m\u001b[0;34m,\u001b[0m\u001b[0;34m\u001b[0m\u001b[0;34m\u001b[0m\u001b[0m\n",
      "\u001b[0m\u001b[0;32m---> 83 \u001b[0;31m            \u001b[0mfused_rep\u001b[0m\u001b[0;34m=\u001b[0m\u001b[0mdata_fused_repr\u001b[0m\u001b[0;34m,\u001b[0m\u001b[0;34m\u001b[0m\u001b[0;34m\u001b[0m\u001b[0m\n",
      "\u001b[0m\u001b[0;32m     84 \u001b[0;31m            \u001b[0mmeta_repr\u001b[0m\u001b[0;34m=\u001b[0m\u001b[0mmeta_repr\u001b[0m\u001b[0;34m,\u001b[0m\u001b[0;34m\u001b[0m\u001b[0;34m\u001b[0m\u001b[0m\n",
      "\u001b[0m\u001b[0;32m     85 \u001b[0;31m        )\n",
      "\u001b[0m\n"
     ]
    },
    {
     "name": "stdin",
     "output_type": "stream",
     "text": [
      "ipdb>  \n"
     ]
    },
    {
     "name": "stdout",
     "output_type": "stream",
     "text": [
      "> \u001b[0;32m/tmp/ipykernel_15122/1379713280.py\u001b[0m(84)\u001b[0;36mforward\u001b[0;34m()\u001b[0m\n",
      "\u001b[0;32m     82 \u001b[0;31m            \u001b[0mrep\u001b[0m\u001b[0;34m=\u001b[0m\u001b[0mdata_repr\u001b[0m\u001b[0;34m,\u001b[0m\u001b[0;34m\u001b[0m\u001b[0;34m\u001b[0m\u001b[0m\n",
      "\u001b[0m\u001b[0;32m     83 \u001b[0;31m            \u001b[0mfused_rep\u001b[0m\u001b[0;34m=\u001b[0m\u001b[0mdata_fused_repr\u001b[0m\u001b[0;34m,\u001b[0m\u001b[0;34m\u001b[0m\u001b[0;34m\u001b[0m\u001b[0m\n",
      "\u001b[0m\u001b[0;32m---> 84 \u001b[0;31m            \u001b[0mmeta_repr\u001b[0m\u001b[0;34m=\u001b[0m\u001b[0mmeta_repr\u001b[0m\u001b[0;34m,\u001b[0m\u001b[0;34m\u001b[0m\u001b[0;34m\u001b[0m\u001b[0m\n",
      "\u001b[0m\u001b[0;32m     85 \u001b[0;31m        )\n",
      "\u001b[0m\u001b[0;32m     86 \u001b[0;31m\u001b[0;34m\u001b[0m\u001b[0m\n",
      "\u001b[0m\n"
     ]
    },
    {
     "name": "stdin",
     "output_type": "stream",
     "text": [
      "ipdb>  \n"
     ]
    },
    {
     "name": "stdout",
     "output_type": "stream",
     "text": [
      "> \u001b[0;32m/tmp/ipykernel_15122/1379713280.py\u001b[0m(81)\u001b[0;36mforward\u001b[0;34m()\u001b[0m\n",
      "\u001b[0;32m     79 \u001b[0;31m        \u001b[0mdata_repr\u001b[0m \u001b[0;34m=\u001b[0m \u001b[0mF\u001b[0m\u001b[0;34m.\u001b[0m\u001b[0mnormalize\u001b[0m\u001b[0;34m(\u001b[0m\u001b[0mdata_repr\u001b[0m\u001b[0;34m,\u001b[0m \u001b[0mdim\u001b[0m\u001b[0;34m=\u001b[0m\u001b[0;36m1\u001b[0m\u001b[0;34m)\u001b[0m\u001b[0;34m\u001b[0m\u001b[0;34m\u001b[0m\u001b[0m\n",
      "\u001b[0m\u001b[0;32m     80 \u001b[0;31m\u001b[0;34m\u001b[0m\u001b[0m\n",
      "\u001b[0m\u001b[0;32m---> 81 \u001b[0;31m        return EncoderOutput(\n",
      "\u001b[0m\u001b[0;32m     82 \u001b[0;31m            \u001b[0mrep\u001b[0m\u001b[0;34m=\u001b[0m\u001b[0mdata_repr\u001b[0m\u001b[0;34m,\u001b[0m\u001b[0;34m\u001b[0m\u001b[0;34m\u001b[0m\u001b[0m\n",
      "\u001b[0m\u001b[0;32m     83 \u001b[0;31m            \u001b[0mfused_rep\u001b[0m\u001b[0;34m=\u001b[0m\u001b[0mdata_fused_repr\u001b[0m\u001b[0;34m,\u001b[0m\u001b[0;34m\u001b[0m\u001b[0;34m\u001b[0m\u001b[0m\n",
      "\u001b[0m\n"
     ]
    },
    {
     "name": "stdin",
     "output_type": "stream",
     "text": [
      "ipdb>  \n"
     ]
    },
    {
     "name": "stdout",
     "output_type": "stream",
     "text": [
      "--Return--\n",
      "EncoderOutput...eta_repr=None)\n",
      "> \u001b[0;32m/tmp/ipykernel_15122/1379713280.py\u001b[0m(81)\u001b[0;36mforward\u001b[0;34m()\u001b[0m\n",
      "\u001b[0;32m     79 \u001b[0;31m        \u001b[0mdata_repr\u001b[0m \u001b[0;34m=\u001b[0m \u001b[0mF\u001b[0m\u001b[0;34m.\u001b[0m\u001b[0mnormalize\u001b[0m\u001b[0;34m(\u001b[0m\u001b[0mdata_repr\u001b[0m\u001b[0;34m,\u001b[0m \u001b[0mdim\u001b[0m\u001b[0;34m=\u001b[0m\u001b[0;36m1\u001b[0m\u001b[0;34m)\u001b[0m\u001b[0;34m\u001b[0m\u001b[0;34m\u001b[0m\u001b[0m\n",
      "\u001b[0m\u001b[0;32m     80 \u001b[0;31m\u001b[0;34m\u001b[0m\u001b[0m\n",
      "\u001b[0m\u001b[0;32m---> 81 \u001b[0;31m        return EncoderOutput(\n",
      "\u001b[0m\u001b[0;32m     82 \u001b[0;31m            \u001b[0mrep\u001b[0m\u001b[0;34m=\u001b[0m\u001b[0mdata_repr\u001b[0m\u001b[0;34m,\u001b[0m\u001b[0;34m\u001b[0m\u001b[0;34m\u001b[0m\u001b[0m\n",
      "\u001b[0m\u001b[0;32m     83 \u001b[0;31m            \u001b[0mfused_rep\u001b[0m\u001b[0;34m=\u001b[0m\u001b[0mdata_fused_repr\u001b[0m\u001b[0;34m,\u001b[0m\u001b[0;34m\u001b[0m\u001b[0;34m\u001b[0m\u001b[0m\n",
      "\u001b[0m\n"
     ]
    },
    {
     "name": "stdin",
     "output_type": "stream",
     "text": [
      "ipdb>  \n"
     ]
    },
    {
     "name": "stdout",
     "output_type": "stream",
     "text": [
      "> \u001b[0;32m/tmp/ipykernel_15122/1326464437.py\u001b[0m(78)\u001b[0;36mforward\u001b[0;34m()\u001b[0m\n",
      "\u001b[0;32m     76 \u001b[0;31m                                 data_aug_meta_prefix=self.lbl2data_aug_meta_prefix, **lbl2data_meta_kwargs)\n",
      "\u001b[0m\u001b[0;32m     77 \u001b[0;31m\u001b[0;34m\u001b[0m\u001b[0m\n",
      "\u001b[0m\u001b[0;32m---> 78 \u001b[0;31m            loss = self.compute_loss(data_o.fused_rep, lbl2data_o.rep,lbl2data_data2ptr,lbl2data_idx,\n",
      "\u001b[0m\u001b[0;32m     79 \u001b[0;31m                                     plbl2data_data2ptr,plbl2data_idx)\n",
      "\u001b[0m\u001b[0;32m     80 \u001b[0;31m\u001b[0;34m\u001b[0m\u001b[0m\n",
      "\u001b[0m\n"
     ]
    },
    {
     "name": "stdin",
     "output_type": "stream",
     "text": [
      "ipdb>  \n"
     ]
    },
    {
     "name": "stdout",
     "output_type": "stream",
     "text": [
      "> \u001b[0;32m/tmp/ipykernel_15122/1326464437.py\u001b[0m(79)\u001b[0;36mforward\u001b[0;34m()\u001b[0m\n",
      "\u001b[0;32m     77 \u001b[0;31m\u001b[0;34m\u001b[0m\u001b[0m\n",
      "\u001b[0m\u001b[0;32m     78 \u001b[0;31m            loss = self.compute_loss(data_o.fused_rep, lbl2data_o.rep,lbl2data_data2ptr,lbl2data_idx,\n",
      "\u001b[0m\u001b[0;32m---> 79 \u001b[0;31m                                     plbl2data_data2ptr,plbl2data_idx)\n",
      "\u001b[0m\u001b[0;32m     80 \u001b[0;31m\u001b[0;34m\u001b[0m\u001b[0m\n",
      "\u001b[0m\u001b[0;32m     81 \u001b[0;31m            \u001b[0;32mif\u001b[0m \u001b[0mself\u001b[0m\u001b[0;34m.\u001b[0m\u001b[0muse_query_loss\u001b[0m\u001b[0;34m:\u001b[0m\u001b[0;34m\u001b[0m\u001b[0;34m\u001b[0m\u001b[0m\n",
      "\u001b[0m\n"
     ]
    },
    {
     "name": "stdin",
     "output_type": "stream",
     "text": [
      "ipdb>  \n"
     ]
    },
    {
     "name": "stdout",
     "output_type": "stream",
     "text": [
      "> \u001b[0;32m/tmp/ipykernel_15122/1326464437.py\u001b[0m(78)\u001b[0;36mforward\u001b[0;34m()\u001b[0m\n",
      "\u001b[0;32m     76 \u001b[0;31m                                 data_aug_meta_prefix=self.lbl2data_aug_meta_prefix, **lbl2data_meta_kwargs)\n",
      "\u001b[0m\u001b[0;32m     77 \u001b[0;31m\u001b[0;34m\u001b[0m\u001b[0m\n",
      "\u001b[0m\u001b[0;32m---> 78 \u001b[0;31m            loss = self.compute_loss(data_o.fused_rep, lbl2data_o.rep,lbl2data_data2ptr,lbl2data_idx,\n",
      "\u001b[0m\u001b[0;32m     79 \u001b[0;31m                                     plbl2data_data2ptr,plbl2data_idx)\n",
      "\u001b[0m\u001b[0;32m     80 \u001b[0;31m\u001b[0;34m\u001b[0m\u001b[0m\n",
      "\u001b[0m\n"
     ]
    },
    {
     "name": "stdin",
     "output_type": "stream",
     "text": [
      "ipdb>  \n"
     ]
    },
    {
     "name": "stdout",
     "output_type": "stream",
     "text": [
      "> \u001b[0;32m/tmp/ipykernel_15122/1326464437.py\u001b[0m(81)\u001b[0;36mforward\u001b[0;34m()\u001b[0m\n",
      "\u001b[0;32m     79 \u001b[0;31m                                     plbl2data_data2ptr,plbl2data_idx)\n",
      "\u001b[0m\u001b[0;32m     80 \u001b[0;31m\u001b[0;34m\u001b[0m\u001b[0m\n",
      "\u001b[0m\u001b[0;32m---> 81 \u001b[0;31m            \u001b[0;32mif\u001b[0m \u001b[0mself\u001b[0m\u001b[0;34m.\u001b[0m\u001b[0muse_query_loss\u001b[0m\u001b[0;34m:\u001b[0m\u001b[0;34m\u001b[0m\u001b[0;34m\u001b[0m\u001b[0m\n",
      "\u001b[0m\u001b[0;32m     82 \u001b[0;31m                loss += self.compute_loss(data_o.rep, lbl2data_o.rep,lbl2data_data2ptr,lbl2data_idx,\n",
      "\u001b[0m\u001b[0;32m     83 \u001b[0;31m                                          plbl2data_data2ptr,plbl2data_idx)\n",
      "\u001b[0m\n"
     ]
    },
    {
     "name": "stdin",
     "output_type": "stream",
     "text": [
      "ipdb>  \n"
     ]
    },
    {
     "name": "stdout",
     "output_type": "stream",
     "text": [
      "> \u001b[0;32m/tmp/ipykernel_15122/1326464437.py\u001b[0m(82)\u001b[0;36mforward\u001b[0;34m()\u001b[0m\n",
      "\u001b[0;32m     80 \u001b[0;31m\u001b[0;34m\u001b[0m\u001b[0m\n",
      "\u001b[0m\u001b[0;32m     81 \u001b[0;31m            \u001b[0;32mif\u001b[0m \u001b[0mself\u001b[0m\u001b[0;34m.\u001b[0m\u001b[0muse_query_loss\u001b[0m\u001b[0;34m:\u001b[0m\u001b[0;34m\u001b[0m\u001b[0;34m\u001b[0m\u001b[0m\n",
      "\u001b[0m\u001b[0;32m---> 82 \u001b[0;31m                loss += self.compute_loss(data_o.rep, lbl2data_o.rep,lbl2data_data2ptr,lbl2data_idx,\n",
      "\u001b[0m\u001b[0;32m     83 \u001b[0;31m                                          plbl2data_data2ptr,plbl2data_idx)\n",
      "\u001b[0m\u001b[0;32m     84 \u001b[0;31m\u001b[0;34m\u001b[0m\u001b[0m\n",
      "\u001b[0m\n"
     ]
    },
    {
     "name": "stdin",
     "output_type": "stream",
     "text": [
      "ipdb>  \n"
     ]
    },
    {
     "name": "stdout",
     "output_type": "stream",
     "text": [
      "> \u001b[0;32m/tmp/ipykernel_15122/1326464437.py\u001b[0m(83)\u001b[0;36mforward\u001b[0;34m()\u001b[0m\n",
      "\u001b[0;32m     81 \u001b[0;31m            \u001b[0;32mif\u001b[0m \u001b[0mself\u001b[0m\u001b[0;34m.\u001b[0m\u001b[0muse_query_loss\u001b[0m\u001b[0;34m:\u001b[0m\u001b[0;34m\u001b[0m\u001b[0;34m\u001b[0m\u001b[0m\n",
      "\u001b[0m\u001b[0;32m     82 \u001b[0;31m                loss += self.compute_loss(data_o.rep, lbl2data_o.rep,lbl2data_data2ptr,lbl2data_idx,\n",
      "\u001b[0m\u001b[0;32m---> 83 \u001b[0;31m                                          plbl2data_data2ptr,plbl2data_idx)\n",
      "\u001b[0m\u001b[0;32m     84 \u001b[0;31m\u001b[0;34m\u001b[0m\u001b[0m\n",
      "\u001b[0m\u001b[0;32m     85 \u001b[0;31m            \u001b[0;32mif\u001b[0m \u001b[0mself\u001b[0m\u001b[0;34m.\u001b[0m\u001b[0muse_calib_loss\u001b[0m\u001b[0;34m:\u001b[0m\u001b[0;34m\u001b[0m\u001b[0;34m\u001b[0m\u001b[0m\n",
      "\u001b[0m\n"
     ]
    },
    {
     "name": "stdin",
     "output_type": "stream",
     "text": [
      "ipdb>  \n"
     ]
    },
    {
     "name": "stdout",
     "output_type": "stream",
     "text": [
      "> \u001b[0;32m/tmp/ipykernel_15122/1326464437.py\u001b[0m(82)\u001b[0;36mforward\u001b[0;34m()\u001b[0m\n",
      "\u001b[0;32m     80 \u001b[0;31m\u001b[0;34m\u001b[0m\u001b[0m\n",
      "\u001b[0m\u001b[0;32m     81 \u001b[0;31m            \u001b[0;32mif\u001b[0m \u001b[0mself\u001b[0m\u001b[0;34m.\u001b[0m\u001b[0muse_query_loss\u001b[0m\u001b[0;34m:\u001b[0m\u001b[0;34m\u001b[0m\u001b[0;34m\u001b[0m\u001b[0m\n",
      "\u001b[0m\u001b[0;32m---> 82 \u001b[0;31m                loss += self.compute_loss(data_o.rep, lbl2data_o.rep,lbl2data_data2ptr,lbl2data_idx,\n",
      "\u001b[0m\u001b[0;32m     83 \u001b[0;31m                                          plbl2data_data2ptr,plbl2data_idx)\n",
      "\u001b[0m\u001b[0;32m     84 \u001b[0;31m\u001b[0;34m\u001b[0m\u001b[0m\n",
      "\u001b[0m\n"
     ]
    },
    {
     "name": "stdin",
     "output_type": "stream",
     "text": [
      "ipdb>  \n"
     ]
    },
    {
     "name": "stdout",
     "output_type": "stream",
     "text": [
      "> \u001b[0;32m/tmp/ipykernel_15122/1326464437.py\u001b[0m(85)\u001b[0;36mforward\u001b[0;34m()\u001b[0m\n",
      "\u001b[0;32m     83 \u001b[0;31m                                          plbl2data_data2ptr,plbl2data_idx)\n",
      "\u001b[0m\u001b[0;32m     84 \u001b[0;31m\u001b[0;34m\u001b[0m\u001b[0m\n",
      "\u001b[0m\u001b[0;32m---> 85 \u001b[0;31m            \u001b[0;32mif\u001b[0m \u001b[0mself\u001b[0m\u001b[0;34m.\u001b[0m\u001b[0muse_calib_loss\u001b[0m\u001b[0;34m:\u001b[0m\u001b[0;34m\u001b[0m\u001b[0;34m\u001b[0m\u001b[0m\n",
      "\u001b[0m\u001b[0;32m     86 \u001b[0;31m                loss += self.calibration_loss(data_o.fused_rep, data_o.rep, lbl2data_o.rep,lbl2data_data2ptr,lbl2data_idx,\n",
      "\u001b[0m\u001b[0;32m     87 \u001b[0;31m                                              plbl2data_data2ptr,plbl2data_idx)\n",
      "\u001b[0m\n"
     ]
    },
    {
     "name": "stdin",
     "output_type": "stream",
     "text": [
      "ipdb>  \n"
     ]
    },
    {
     "name": "stdout",
     "output_type": "stream",
     "text": [
      "> \u001b[0;32m/tmp/ipykernel_15122/1326464437.py\u001b[0m(86)\u001b[0;36mforward\u001b[0;34m()\u001b[0m\n",
      "\u001b[0;32m     84 \u001b[0;31m\u001b[0;34m\u001b[0m\u001b[0m\n",
      "\u001b[0m\u001b[0;32m     85 \u001b[0;31m            \u001b[0;32mif\u001b[0m \u001b[0mself\u001b[0m\u001b[0;34m.\u001b[0m\u001b[0muse_calib_loss\u001b[0m\u001b[0;34m:\u001b[0m\u001b[0;34m\u001b[0m\u001b[0;34m\u001b[0m\u001b[0m\n",
      "\u001b[0m\u001b[0;32m---> 86 \u001b[0;31m                loss += self.calibration_loss(data_o.fused_rep, data_o.rep, lbl2data_o.rep,lbl2data_data2ptr,lbl2data_idx,\n",
      "\u001b[0m\u001b[0;32m     87 \u001b[0;31m                                              plbl2data_data2ptr,plbl2data_idx)\n",
      "\u001b[0m\u001b[0;32m     88 \u001b[0;31m\u001b[0;34m\u001b[0m\u001b[0m\n",
      "\u001b[0m\n"
     ]
    },
    {
     "name": "stdin",
     "output_type": "stream",
     "text": [
      "ipdb>  \n"
     ]
    },
    {
     "name": "stdout",
     "output_type": "stream",
     "text": [
      "> \u001b[0;32m/tmp/ipykernel_15122/1326464437.py\u001b[0m(87)\u001b[0;36mforward\u001b[0;34m()\u001b[0m\n",
      "\u001b[0;32m     85 \u001b[0;31m            \u001b[0;32mif\u001b[0m \u001b[0mself\u001b[0m\u001b[0;34m.\u001b[0m\u001b[0muse_calib_loss\u001b[0m\u001b[0;34m:\u001b[0m\u001b[0;34m\u001b[0m\u001b[0;34m\u001b[0m\u001b[0m\n",
      "\u001b[0m\u001b[0;32m     86 \u001b[0;31m                loss += self.calibration_loss(data_o.fused_rep, data_o.rep, lbl2data_o.rep,lbl2data_data2ptr,lbl2data_idx,\n",
      "\u001b[0m\u001b[0;32m---> 87 \u001b[0;31m                                              plbl2data_data2ptr,plbl2data_idx)\n",
      "\u001b[0m\u001b[0;32m     88 \u001b[0;31m\u001b[0;34m\u001b[0m\u001b[0m\n",
      "\u001b[0m\u001b[0;32m     89 \u001b[0;31m        \u001b[0;32mif\u001b[0m \u001b[0;32mnot\u001b[0m \u001b[0mreturn_dict\u001b[0m\u001b[0;34m:\u001b[0m\u001b[0;34m\u001b[0m\u001b[0;34m\u001b[0m\u001b[0m\n",
      "\u001b[0m\n"
     ]
    },
    {
     "name": "stdin",
     "output_type": "stream",
     "text": [
      "ipdb>  \n"
     ]
    },
    {
     "name": "stdout",
     "output_type": "stream",
     "text": [
      "> \u001b[0;32m/tmp/ipykernel_15122/1326464437.py\u001b[0m(86)\u001b[0;36mforward\u001b[0;34m()\u001b[0m\n",
      "\u001b[0;32m     84 \u001b[0;31m\u001b[0;34m\u001b[0m\u001b[0m\n",
      "\u001b[0m\u001b[0;32m     85 \u001b[0;31m            \u001b[0;32mif\u001b[0m \u001b[0mself\u001b[0m\u001b[0;34m.\u001b[0m\u001b[0muse_calib_loss\u001b[0m\u001b[0;34m:\u001b[0m\u001b[0;34m\u001b[0m\u001b[0;34m\u001b[0m\u001b[0m\n",
      "\u001b[0m\u001b[0;32m---> 86 \u001b[0;31m                loss += self.calibration_loss(data_o.fused_rep, data_o.rep, lbl2data_o.rep,lbl2data_data2ptr,lbl2data_idx,\n",
      "\u001b[0m\u001b[0;32m     87 \u001b[0;31m                                              plbl2data_data2ptr,plbl2data_idx)\n",
      "\u001b[0m\u001b[0;32m     88 \u001b[0;31m\u001b[0;34m\u001b[0m\u001b[0m\n",
      "\u001b[0m\n"
     ]
    },
    {
     "name": "stdin",
     "output_type": "stream",
     "text": [
      "ipdb>  \n"
     ]
    },
    {
     "name": "stdout",
     "output_type": "stream",
     "text": [
      "> \u001b[0;32m/tmp/ipykernel_15122/1326464437.py\u001b[0m(89)\u001b[0;36mforward\u001b[0;34m()\u001b[0m\n",
      "\u001b[0;32m     87 \u001b[0;31m                                              plbl2data_data2ptr,plbl2data_idx)\n",
      "\u001b[0m\u001b[0;32m     88 \u001b[0;31m\u001b[0;34m\u001b[0m\u001b[0m\n",
      "\u001b[0m\u001b[0;32m---> 89 \u001b[0;31m        \u001b[0;32mif\u001b[0m \u001b[0;32mnot\u001b[0m \u001b[0mreturn_dict\u001b[0m\u001b[0;34m:\u001b[0m\u001b[0;34m\u001b[0m\u001b[0;34m\u001b[0m\u001b[0m\n",
      "\u001b[0m\u001b[0;32m     90 \u001b[0;31m            \u001b[0mo\u001b[0m \u001b[0;34m=\u001b[0m \u001b[0;34m(\u001b[0m\u001b[0mdata_o\u001b[0m\u001b[0;34m.\u001b[0m\u001b[0mlogits\u001b[0m\u001b[0;34m,\u001b[0m\u001b[0mdata_o\u001b[0m\u001b[0;34m.\u001b[0m\u001b[0mrep\u001b[0m\u001b[0;34m,\u001b[0m\u001b[0mdata_o\u001b[0m\u001b[0;34m.\u001b[0m\u001b[0mfused_rep\u001b[0m\u001b[0;34m,\u001b[0m\u001b[0mlbl2data_o\u001b[0m\u001b[0;34m.\u001b[0m\u001b[0mlogits\u001b[0m\u001b[0;34m,\u001b[0m\u001b[0mlbl2data_o\u001b[0m\u001b[0;34m.\u001b[0m\u001b[0mrep\u001b[0m\u001b[0;34m,\u001b[0m\u001b[0mlbl2data_o\u001b[0m\u001b[0;34m.\u001b[0m\u001b[0mfused_rep\u001b[0m\u001b[0;34m)\u001b[0m\u001b[0;34m\u001b[0m\u001b[0;34m\u001b[0m\u001b[0m\n",
      "\u001b[0m\u001b[0;32m     91 \u001b[0;31m            \u001b[0;32mreturn\u001b[0m \u001b[0;34m(\u001b[0m\u001b[0;34m(\u001b[0m\u001b[0mloss\u001b[0m\u001b[0;34m,\u001b[0m\u001b[0;34m)\u001b[0m \u001b[0;34m+\u001b[0m \u001b[0mo\u001b[0m\u001b[0;34m)\u001b[0m \u001b[0;32mif\u001b[0m \u001b[0mloss\u001b[0m \u001b[0;32mis\u001b[0m \u001b[0;32mnot\u001b[0m \u001b[0;32mNone\u001b[0m \u001b[0;32melse\u001b[0m \u001b[0mo\u001b[0m\u001b[0;34m\u001b[0m\u001b[0;34m\u001b[0m\u001b[0m\n",
      "\u001b[0m\n"
     ]
    },
    {
     "name": "stdin",
     "output_type": "stream",
     "text": [
      "ipdb>  \n"
     ]
    },
    {
     "name": "stdout",
     "output_type": "stream",
     "text": [
      "> \u001b[0;32m/tmp/ipykernel_15122/1326464437.py\u001b[0m(94)\u001b[0;36mforward\u001b[0;34m()\u001b[0m\n",
      "\u001b[0;32m     92 \u001b[0;31m\u001b[0;34m\u001b[0m\u001b[0m\n",
      "\u001b[0m\u001b[0;32m     93 \u001b[0;31m\u001b[0;34m\u001b[0m\u001b[0m\n",
      "\u001b[0m\u001b[0;32m---> 94 \u001b[0;31m        return XCModelOutput(\n",
      "\u001b[0m\u001b[0;32m     95 \u001b[0;31m            \u001b[0mloss\u001b[0m\u001b[0;34m=\u001b[0m\u001b[0mloss\u001b[0m\u001b[0;34m,\u001b[0m\u001b[0;34m\u001b[0m\u001b[0;34m\u001b[0m\u001b[0m\n",
      "\u001b[0m\u001b[0;32m     96 \u001b[0;31m\u001b[0;34m\u001b[0m\u001b[0m\n",
      "\u001b[0m\n"
     ]
    },
    {
     "name": "stdin",
     "output_type": "stream",
     "text": [
      "ipdb>  \n"
     ]
    },
    {
     "name": "stdout",
     "output_type": "stream",
     "text": [
      "> \u001b[0;32m/tmp/ipykernel_15122/1326464437.py\u001b[0m(95)\u001b[0;36mforward\u001b[0;34m()\u001b[0m\n",
      "\u001b[0;32m     93 \u001b[0;31m\u001b[0;34m\u001b[0m\u001b[0m\n",
      "\u001b[0m\u001b[0;32m     94 \u001b[0;31m        return XCModelOutput(\n",
      "\u001b[0m\u001b[0;32m---> 95 \u001b[0;31m            \u001b[0mloss\u001b[0m\u001b[0;34m=\u001b[0m\u001b[0mloss\u001b[0m\u001b[0;34m,\u001b[0m\u001b[0;34m\u001b[0m\u001b[0;34m\u001b[0m\u001b[0m\n",
      "\u001b[0m\u001b[0;32m     96 \u001b[0;31m\u001b[0;34m\u001b[0m\u001b[0m\n",
      "\u001b[0m\u001b[0;32m     97 \u001b[0;31m            \u001b[0mdata_repr\u001b[0m\u001b[0;34m=\u001b[0m\u001b[0mdata_o\u001b[0m\u001b[0;34m.\u001b[0m\u001b[0mrep\u001b[0m\u001b[0;34m,\u001b[0m\u001b[0;34m\u001b[0m\u001b[0;34m\u001b[0m\u001b[0m\n",
      "\u001b[0m\n"
     ]
    },
    {
     "name": "stdin",
     "output_type": "stream",
     "text": [
      "ipdb>  \n"
     ]
    },
    {
     "name": "stdout",
     "output_type": "stream",
     "text": [
      "> \u001b[0;32m/tmp/ipykernel_15122/1326464437.py\u001b[0m(97)\u001b[0;36mforward\u001b[0;34m()\u001b[0m\n",
      "\u001b[0;32m     95 \u001b[0;31m            \u001b[0mloss\u001b[0m\u001b[0;34m=\u001b[0m\u001b[0mloss\u001b[0m\u001b[0;34m,\u001b[0m\u001b[0;34m\u001b[0m\u001b[0;34m\u001b[0m\u001b[0m\n",
      "\u001b[0m\u001b[0;32m     96 \u001b[0;31m\u001b[0;34m\u001b[0m\u001b[0m\n",
      "\u001b[0m\u001b[0;32m---> 97 \u001b[0;31m            \u001b[0mdata_repr\u001b[0m\u001b[0;34m=\u001b[0m\u001b[0mdata_o\u001b[0m\u001b[0;34m.\u001b[0m\u001b[0mrep\u001b[0m\u001b[0;34m,\u001b[0m\u001b[0;34m\u001b[0m\u001b[0;34m\u001b[0m\u001b[0m\n",
      "\u001b[0m\u001b[0;32m     98 \u001b[0;31m            \u001b[0mdata_fused_repr\u001b[0m\u001b[0;34m=\u001b[0m\u001b[0mdata_o\u001b[0m\u001b[0;34m.\u001b[0m\u001b[0mfused_rep\u001b[0m\u001b[0;34m,\u001b[0m\u001b[0;34m\u001b[0m\u001b[0;34m\u001b[0m\u001b[0m\n",
      "\u001b[0m\u001b[0;32m     99 \u001b[0;31m\u001b[0;34m\u001b[0m\u001b[0m\n",
      "\u001b[0m\n"
     ]
    },
    {
     "name": "stdin",
     "output_type": "stream",
     "text": [
      "ipdb>  \n"
     ]
    },
    {
     "name": "stdout",
     "output_type": "stream",
     "text": [
      "> \u001b[0;32m/tmp/ipykernel_15122/1326464437.py\u001b[0m(98)\u001b[0;36mforward\u001b[0;34m()\u001b[0m\n",
      "\u001b[0;32m     96 \u001b[0;31m\u001b[0;34m\u001b[0m\u001b[0m\n",
      "\u001b[0m\u001b[0;32m     97 \u001b[0;31m            \u001b[0mdata_repr\u001b[0m\u001b[0;34m=\u001b[0m\u001b[0mdata_o\u001b[0m\u001b[0;34m.\u001b[0m\u001b[0mrep\u001b[0m\u001b[0;34m,\u001b[0m\u001b[0;34m\u001b[0m\u001b[0;34m\u001b[0m\u001b[0m\n",
      "\u001b[0m\u001b[0;32m---> 98 \u001b[0;31m            \u001b[0mdata_fused_repr\u001b[0m\u001b[0;34m=\u001b[0m\u001b[0mdata_o\u001b[0m\u001b[0;34m.\u001b[0m\u001b[0mfused_rep\u001b[0m\u001b[0;34m,\u001b[0m\u001b[0;34m\u001b[0m\u001b[0;34m\u001b[0m\u001b[0m\n",
      "\u001b[0m\u001b[0;32m     99 \u001b[0;31m\u001b[0;34m\u001b[0m\u001b[0m\n",
      "\u001b[0m\u001b[0;32m    100 \u001b[0;31m            \u001b[0mlbl2data_repr\u001b[0m\u001b[0;34m=\u001b[0m\u001b[0mlbl2data_o\u001b[0m\u001b[0;34m.\u001b[0m\u001b[0mrep\u001b[0m\u001b[0;34m,\u001b[0m\u001b[0;34m\u001b[0m\u001b[0;34m\u001b[0m\u001b[0m\n",
      "\u001b[0m\n"
     ]
    },
    {
     "name": "stdin",
     "output_type": "stream",
     "text": [
      "ipdb>  \n"
     ]
    },
    {
     "name": "stdout",
     "output_type": "stream",
     "text": [
      "> \u001b[0;32m/tmp/ipykernel_15122/1326464437.py\u001b[0m(100)\u001b[0;36mforward\u001b[0;34m()\u001b[0m\n",
      "\u001b[0;32m     98 \u001b[0;31m            \u001b[0mdata_fused_repr\u001b[0m\u001b[0;34m=\u001b[0m\u001b[0mdata_o\u001b[0m\u001b[0;34m.\u001b[0m\u001b[0mfused_rep\u001b[0m\u001b[0;34m,\u001b[0m\u001b[0;34m\u001b[0m\u001b[0;34m\u001b[0m\u001b[0m\n",
      "\u001b[0m\u001b[0;32m     99 \u001b[0;31m\u001b[0;34m\u001b[0m\u001b[0m\n",
      "\u001b[0m\u001b[0;32m--> 100 \u001b[0;31m            \u001b[0mlbl2data_repr\u001b[0m\u001b[0;34m=\u001b[0m\u001b[0mlbl2data_o\u001b[0m\u001b[0;34m.\u001b[0m\u001b[0mrep\u001b[0m\u001b[0;34m,\u001b[0m\u001b[0;34m\u001b[0m\u001b[0;34m\u001b[0m\u001b[0m\n",
      "\u001b[0m\u001b[0;32m    101 \u001b[0;31m            \u001b[0mlbl2data_fused_repr\u001b[0m\u001b[0;34m=\u001b[0m\u001b[0mlbl2data_o\u001b[0m\u001b[0;34m.\u001b[0m\u001b[0mfused_rep\u001b[0m\u001b[0;34m,\u001b[0m\u001b[0;34m\u001b[0m\u001b[0;34m\u001b[0m\u001b[0m\n",
      "\u001b[0m\u001b[0;32m    102 \u001b[0;31m        )\n",
      "\u001b[0m\n"
     ]
    },
    {
     "name": "stdin",
     "output_type": "stream",
     "text": [
      "ipdb>  \n"
     ]
    },
    {
     "name": "stdout",
     "output_type": "stream",
     "text": [
      "> \u001b[0;32m/tmp/ipykernel_15122/1326464437.py\u001b[0m(101)\u001b[0;36mforward\u001b[0;34m()\u001b[0m\n",
      "\u001b[0;32m     99 \u001b[0;31m\u001b[0;34m\u001b[0m\u001b[0m\n",
      "\u001b[0m\u001b[0;32m    100 \u001b[0;31m            \u001b[0mlbl2data_repr\u001b[0m\u001b[0;34m=\u001b[0m\u001b[0mlbl2data_o\u001b[0m\u001b[0;34m.\u001b[0m\u001b[0mrep\u001b[0m\u001b[0;34m,\u001b[0m\u001b[0;34m\u001b[0m\u001b[0;34m\u001b[0m\u001b[0m\n",
      "\u001b[0m\u001b[0;32m--> 101 \u001b[0;31m            \u001b[0mlbl2data_fused_repr\u001b[0m\u001b[0;34m=\u001b[0m\u001b[0mlbl2data_o\u001b[0m\u001b[0;34m.\u001b[0m\u001b[0mfused_rep\u001b[0m\u001b[0;34m,\u001b[0m\u001b[0;34m\u001b[0m\u001b[0;34m\u001b[0m\u001b[0m\n",
      "\u001b[0m\u001b[0;32m    102 \u001b[0;31m        )\n",
      "\u001b[0m\u001b[0;32m    103 \u001b[0;31m\u001b[0;34m\u001b[0m\u001b[0m\n",
      "\u001b[0m\n"
     ]
    },
    {
     "name": "stdin",
     "output_type": "stream",
     "text": [
      "ipdb>  \n"
     ]
    },
    {
     "name": "stdout",
     "output_type": "stream",
     "text": [
      "> \u001b[0;32m/tmp/ipykernel_15122/1326464437.py\u001b[0m(94)\u001b[0;36mforward\u001b[0;34m()\u001b[0m\n",
      "\u001b[0;32m     92 \u001b[0;31m\u001b[0;34m\u001b[0m\u001b[0m\n",
      "\u001b[0m\u001b[0;32m     93 \u001b[0;31m\u001b[0;34m\u001b[0m\u001b[0m\n",
      "\u001b[0m\u001b[0;32m---> 94 \u001b[0;31m        return XCModelOutput(\n",
      "\u001b[0m\u001b[0;32m     95 \u001b[0;31m            \u001b[0mloss\u001b[0m\u001b[0;34m=\u001b[0m\u001b[0mloss\u001b[0m\u001b[0;34m,\u001b[0m\u001b[0;34m\u001b[0m\u001b[0;34m\u001b[0m\u001b[0m\n",
      "\u001b[0m\u001b[0;32m     96 \u001b[0;31m\u001b[0;34m\u001b[0m\u001b[0m\n",
      "\u001b[0m\n"
     ]
    },
    {
     "name": "stdin",
     "output_type": "stream",
     "text": [
      "ipdb>  c\n"
     ]
    },
    {
     "name": "stdout",
     "output_type": "stream",
     "text": [
      "\u001b[0;31m    [... skipped 1 hidden frame]\u001b[0m\n",
      "\n",
      "\u001b[0;31m    [... skipped 1 hidden frame]\u001b[0m\n",
      "\n",
      "\u001b[0;31m    [... skipped 1 hidden frame]\u001b[0m\n",
      "\n",
      "\u001b[0;31m    [... skipped 1 hidden frame]\u001b[0m\n",
      "\n"
     ]
    }
   ],
   "source": [
    "o = func()"
   ]
  },
  {
   "cell_type": "code",
   "execution_count": null,
   "id": "4fd1dfae-fd8a-4d1a-a07a-ff4d4b2e6e7c",
   "metadata": {},
   "outputs": [],
   "source": []
  },
  {
   "cell_type": "code",
   "execution_count": 83,
   "id": "e99a4b7b-2ecd-47ba-96ec-53f929db7af7",
   "metadata": {
    "scrolled": true
   },
   "outputs": [],
   "source": [
    "o = model(**b.to(model.device))"
   ]
  },
  {
   "cell_type": "code",
   "execution_count": 86,
   "id": "25bc5781-47eb-42ca-b61f-4ddc3938a92e",
   "metadata": {},
   "outputs": [
    {
     "data": {
      "text/plain": [
       "tensor(0.0167, grad_fn=<AddBackward0>)"
      ]
     },
     "execution_count": 86,
     "metadata": {},
     "output_type": "execute_result"
    }
   ],
   "source": [
    "o.loss"
   ]
  },
  {
   "cell_type": "code",
   "execution_count": null,
   "id": "50b33b16-661b-4001-ab50-29ff167376e6",
   "metadata": {},
   "outputs": [],
   "source": []
  },
  {
   "cell_type": "markdown",
   "id": "d118c2d7-50e5-4183-b2b1-2c2704c17e1a",
   "metadata": {
    "jp-MarkdownHeadingCollapsed": true
   },
   "source": [
    "## `OAK006`"
   ]
  },
  {
   "cell_type": "code",
   "execution_count": null,
   "id": "69d92f7b-4aa4-48d7-82ca-e6a79c33ad6e",
   "metadata": {},
   "outputs": [],
   "source": [
    "#| export\n",
    "class Encoder006(Encoder003):\n",
    "    \n",
    "    def __init__(\n",
    "        self, \n",
    "        config:PretrainedConfig,\n",
    "    ):\n",
    "        super().__init__(config)\n",
    "\n",
    "    def dr_encode(self, input_ids:torch.Tensor, attention_mask:torch.Tensor, **kwargs):\n",
    "        o = self.dr_distilbert(\n",
    "            input_ids=input_ids,\n",
    "            attention_mask=attention_mask,\n",
    "            **kwargs\n",
    "        )\n",
    "        return F.normalize(Pooling.mean_pooling(o[0], attention_mask), dim=1)\n",
    "\n",
    "    def meta_encode(self, input_ids:torch.Tensor, attention_mask:torch.Tensor, **kwargs):\n",
    "        o = self.meta_distilbert(\n",
    "            input_ids=input_ids,\n",
    "            attention_mask=attention_mask,\n",
    "            **kwargs\n",
    "        )\n",
    "        return F.normalize(Pooling.mean_pooling(o[0], attention_mask), dim=1)\n",
    "\n",
    "    def fuse_meta_into_embeddings(self, embed:torch.Tensor, meta_kwargs:Dict):\n",
    "        meta_repr, bsz = {}, embed.size(0)\n",
    "        \n",
    "        for m_key, m_args in meta_kwargs.items():\n",
    "            n_meta = m_args['data2ptr'].max()\n",
    "            assert torch.all(m_args['data2ptr'] == n_meta), f'All datapoints should have same number of metadata.'\n",
    "            \n",
    "            m_input_ids, m_attention_mask = m_args['input_ids'], m_args['attention_mask']\n",
    "            m_embed = self.meta_encode(input_ids=m_input_ids, attention_mask=m_attention_mask)\n",
    "\n",
    "            m_alpha = F.sigmoid(m_args['alpha']).unsqueeze(1)\n",
    "            m_embed = m_alpha * m_embed + (1 - m_alpha) * F.normalize(m_args['meta_repr'], dim=1)\n",
    "            \n",
    "            meta_repr[m_key] = m_embed\n",
    "                    \n",
    "            m_embed = m_embed.view(bsz, -1, self.config.dim)  \n",
    "            fused_embed = self.cross_head(embed, m_embed)\n",
    "            embed = embed + fused_embed\n",
    "               \n",
    "        return embed, meta_repr\n",
    "\n",
    "    def params_from_meta_aug_prefix(self, prefix:str, **kwargs):\n",
    "        inputs = {}\n",
    "        args = [arg for arg in kwargs if prefix is not None and re.match(f'^{prefix}.*_(input_ids|attention_mask|data2ptr|meta_repr|idx|alpha)$', arg)]\n",
    "        for arg in args:\n",
    "            meta,param = arg.split('_', maxsplit=1)\n",
    "            inputs.setdefault(meta, {})[param] = kwargs[arg]\n",
    "        return inputs\n",
    "\n",
    "    def forward(\n",
    "        self, \n",
    "        data_input_ids: torch.Tensor, \n",
    "        data_attention_mask: torch.Tensor,\n",
    "        data_aug_meta_prefix: Optional[str]=None,\n",
    "        data_type:Optional[str]=None,\n",
    "        data_unnormalized:Optional[bool]=False,\n",
    "        **kwargs\n",
    "    ):  \n",
    "        data_repr = self.dr_encode(data_input_ids, data_attention_mask)\n",
    "        \n",
    "        data_fused_repr = meta_repr = None\n",
    "        if data_aug_meta_prefix is not None:\n",
    "            meta_kwargs = self.params_from_meta_aug_prefix(data_aug_meta_prefix, **kwargs)\n",
    "            if len(meta_kwargs):\n",
    "                data_fused_repr, meta_repr = self.fuse_meta_into_embeddings(data_repr, meta_kwargs)\n",
    "                data_fused_repr = self.dr(data_fused_repr)\n",
    "                \n",
    "        return EncoderOutput(\n",
    "            rep=data_repr,\n",
    "            fused_rep=data_fused_repr,\n",
    "            meta_repr=meta_repr,\n",
    "        )\n",
    "        "
   ]
  },
  {
   "cell_type": "code",
   "execution_count": null,
   "id": "ee9cc006-4e03-4ebd-912e-d3627f4a5fc3",
   "metadata": {},
   "outputs": [],
   "source": [
    "#| export\n",
    "class OAK006(OAK005, DistilBertPreTrainedModel):\n",
    "    \n",
    "    @delegates(OAK005.__init__)\n",
    "    def __init__(self, config, num_metadata_clusters:int, **kwargs):\n",
    "        super().__init__(config, num_metadata_clusters=num_metadata_clusters, **kwargs)\n",
    "        self.encoder = Encoder006(config)\n",
    "        \n",
    "        self.alpha = nn.Parameter(torch.rand(num_metadata_clusters))\n",
    "        self.post_init(); self.remap_post_init();\n",
    "\n",
    "    def _get_encoder_meta_kwargs(self, feat:str, prefix:str, **kwargs):\n",
    "        meta_kwargs = Parameters.from_feat_meta_aug_prefix(feat, prefix, **kwargs)\n",
    "        if f'{prefix}_idx' in meta_kwargs:\n",
    "            m_idx = meta_kwargs[f'{prefix}_idx']\n",
    "            if len(m_idx): \n",
    "                meta_kwargs[f'{prefix}_meta_repr'] = self.meta_embeddings(self.metadata_cluster_mapping[m_idx])\n",
    "                meta_kwargs[f'{prefix}_alpha'] = self.alpha[self.metadata_cluster_mapping[m_idx]]\n",
    "        return meta_kwargs\n"
   ]
  },
  {
   "cell_type": "markdown",
   "id": "eea404e0-d4ce-46a4-9b87-9c47b84c8206",
   "metadata": {},
   "source": [
    "### Example"
   ]
  },
  {
   "cell_type": "code",
   "execution_count": null,
   "id": "7ab0ccf4-0068-4429-aec4-8542bd6b43c2",
   "metadata": {},
   "outputs": [],
   "source": [
    "n_clusters = block.train.dset.meta['lnk_meta'].n_meta // 3\n",
    "meta_cluster_mapping = torch.arange(block.train.dset.meta['lnk_meta'].n_meta) % n_clusters"
   ]
  },
  {
   "cell_type": "code",
   "execution_count": null,
   "id": "a8ad8cd2-7c92-46ed-a077-8c00dee0edd2",
   "metadata": {},
   "outputs": [
    {
     "name": "stderr",
     "output_type": "stream",
     "text": [
      "Some weights of OAK006 were not initialized from the model checkpoint at sentence-transformers/msmarco-distilbert-base-v4 and are newly initialized: ['alpha', 'encoder.cross_head.k.bias', 'encoder.cross_head.k.weight', 'encoder.cross_head.o.bias', 'encoder.cross_head.o.weight', 'encoder.cross_head.q.bias', 'encoder.cross_head.q.weight', 'encoder.cross_head.v.bias', 'encoder.cross_head.v.weight', 'encoder.dr_head.layer_norm.bias', 'encoder.dr_head.layer_norm.weight', 'encoder.dr_head.projector.bias', 'encoder.dr_head.projector.weight', 'encoder.dr_head.transform.bias', 'encoder.dr_head.transform.weight', 'meta_embeddings.weight', 'metadata_cluster_mapping']\n",
      "You should probably TRAIN this model on a down-stream task to be able to use it for predictions and inference.\n"
     ]
    }
   ],
   "source": [
    "model = OAK006.from_pretrained('sentence-transformers/msmarco-distilbert-base-v4', batch_size=100, num_batch_labels=5000, \n",
    "                               margin=0.3, num_negatives=10, tau=0.1, apply_softmax=True,\n",
    "                               \n",
    "                               data_aug_meta_prefix='lnk2data', lbl2data_aug_meta_prefix=None, \n",
    "                               data_pred_meta_prefix=None, lbl2data_pred_meta_prefix=None,\n",
    "\n",
    "                               num_metadata=block.train.dset.meta['lnk_meta'].n_meta, num_metadata_clusters=n_clusters,\n",
    "                               \n",
    "                               calib_margin=0.05, calib_num_negatives=10, calib_tau=0.1, calib_apply_softmax=False, \n",
    "                               calib_loss_weight=0.1, use_calib_loss=True,\n",
    "\n",
    "                               use_query_loss=True,\n",
    "                               \n",
    "                               use_encoder_parallel=False)\n",
    "model.init_retrieval_head()\n",
    "model.init_meta_encoder()\n",
    "model.init_cross_head()"
   ]
  },
  {
   "cell_type": "code",
   "execution_count": null,
   "id": "36a7a36a-1a2a-4019-bbd8-594da191bed2",
   "metadata": {},
   "outputs": [],
   "source": [
    "model.init_meta_embeddings()\n",
    "model.set_metadata_cluster_mapping(meta_cluster_mapping)"
   ]
  },
  {
   "cell_type": "code",
   "execution_count": null,
   "id": "9c7d4130-84b7-47b3-a0c7-8344282da71e",
   "metadata": {},
   "outputs": [],
   "source": [
    "model = model.to('cuda')"
   ]
  },
  {
   "cell_type": "code",
   "execution_count": null,
   "id": "e93e13fe-10ce-4c24-8368-1a8daf118f69",
   "metadata": {},
   "outputs": [],
   "source": []
  },
  {
   "cell_type": "code",
   "execution_count": null,
   "id": "0c498b6e-00e8-4dc0-bd95-c7901f01c5e8",
   "metadata": {},
   "outputs": [],
   "source": [
    "b = prepare_batch(model, batch, m_args=[\n",
    "    'plnk2data_idx', 'plnk2data_data2ptr', 'lnk2data_idx', 'lnk2data_input_ids', 'lnk2data_attention_mask', \n",
    "    'lnk2data_data2ptr',\n",
    "])"
   ]
  },
  {
   "cell_type": "code",
   "execution_count": null,
   "id": "6699d27f-83d0-48a8-9923-393a61d03b19",
   "metadata": {},
   "outputs": [
    {
     "data": {
      "text/plain": [
       "dict_keys(['plbl2data_idx', 'plbl2data_data2ptr', 'lbl2data_idx', 'lbl2data_identifier', 'lbl2data_input_text', 'lbl2data_input_ids', 'lbl2data_attention_mask', 'lbl2data_data2ptr', 'plnk2data_idx', 'plnk2data_data2ptr', 'lnk2data_idx', 'lnk2data_identifier', 'lnk2data_input_text', 'lnk2data_input_ids', 'lnk2data_attention_mask', 'lnk2data_data2ptr', 'data_identifier', 'data_input_text', 'data_input_ids', 'data_attention_mask', 'data_idx', 'lnk2lbl2data_idx', 'lnk2lbl2data_identifier', 'lnk2lbl2data_input_text', 'lnk2lbl2data_input_ids', 'lnk2lbl2data_attention_mask', 'lnk2lbl2data_data2ptr', 'lnk2lbl2data_lbl2data2ptr'])"
      ]
     },
     "execution_count": null,
     "metadata": {},
     "output_type": "execute_result"
    }
   ],
   "source": [
    "batch.keys()"
   ]
  },
  {
   "cell_type": "code",
   "execution_count": null,
   "id": "b2417490-3bd9-48b7-b626-a0d8aab933ec",
   "metadata": {},
   "outputs": [],
   "source": [
    "o = model(**b.to(model.device))"
   ]
  },
  {
   "cell_type": "code",
   "execution_count": null,
   "id": "a8b8e362-8346-4ef6-a987-a19d6449c135",
   "metadata": {},
   "outputs": [
    {
     "data": {
      "text/plain": [
       "tensor(0.0615, grad_fn=<AddBackward0>)"
      ]
     },
     "execution_count": null,
     "metadata": {},
     "output_type": "execute_result"
    }
   ],
   "source": [
    "o.loss"
   ]
  },
  {
   "cell_type": "code",
   "execution_count": null,
   "id": "f3dcf313-049a-4f19-9edd-0cc8b42cd371",
   "metadata": {},
   "outputs": [],
   "source": []
  },
  {
   "cell_type": "code",
   "execution_count": null,
   "id": "14a50284-0104-4a88-b8cd-970b7c1e62c2",
   "metadata": {},
   "outputs": [],
   "source": [
    "def func():\n",
    "    import pdb; pdb.set_trace()\n",
    "    return model(**b.to(model.device))"
   ]
  },
  {
   "cell_type": "code",
   "execution_count": null,
   "id": "2fcc81b4-a1d6-47e0-8060-f1f8485e3792",
   "metadata": {
    "scrolled": true
   },
   "outputs": [
    {
     "name": "stdout",
     "output_type": "stream",
     "text": [
      "> /tmp/ipykernel_6442/1795951242.py(3)func()\n",
      "      1 def func():\n",
      "      2     import pdb; pdb.set_trace()\n",
      "----> 3     return model(**b.to(model.device))\n",
      "\n"
     ]
    },
    {
     "name": "stdin",
     "output_type": "stream",
     "text": [
      "ipdb>  b model.forward\n"
     ]
    },
    {
     "name": "stdout",
     "output_type": "stream",
     "text": [
      "Breakpoint 1 at /tmp/ipykernel_6442/3737515001.py:46\n"
     ]
    },
    {
     "name": "stdin",
     "output_type": "stream",
     "text": [
      "ipdb>  b model.encoder.forward\n"
     ]
    },
    {
     "name": "stdout",
     "output_type": "stream",
     "text": [
      "Breakpoint 2 at /tmp/ipykernel_6442/3083163642.py:55\n"
     ]
    },
    {
     "name": "stdin",
     "output_type": "stream",
     "text": [
      "ipdb>  c\n"
     ]
    },
    {
     "name": "stdout",
     "output_type": "stream",
     "text": [
      "> /tmp/ipykernel_6442/3737515001.py(61)forward()\n",
      "     59         **kwargs\n",
      "     60     ):  \n",
      "---> 61         return_dict = return_dict if return_dict is not None else self.config.use_return_dict\n",
      "     62 \n",
      "     63         if self.use_encoder_parallel:\n",
      "\n"
     ]
    },
    {
     "name": "stdin",
     "output_type": "stream",
     "text": [
      "ipdb>  n\n"
     ]
    },
    {
     "name": "stdout",
     "output_type": "stream",
     "text": [
      "> /tmp/ipykernel_6442/3737515001.py(63)forward()\n",
      "     61         return_dict = return_dict if return_dict is not None else self.config.use_return_dict\n",
      "     62 \n",
      "---> 63         if self.use_encoder_parallel:\n",
      "     64             encoder = XCDataParallel(module=self.encoder)\n",
      "     65         else: encoder = self.encoder\n",
      "\n"
     ]
    },
    {
     "name": "stdin",
     "output_type": "stream",
     "text": [
      "ipdb>  \n"
     ]
    },
    {
     "name": "stdout",
     "output_type": "stream",
     "text": [
      "> /tmp/ipykernel_6442/3737515001.py(65)forward()\n",
      "     63         if self.use_encoder_parallel:\n",
      "     64             encoder = XCDataParallel(module=self.encoder)\n",
      "---> 65         else: encoder = self.encoder\n",
      "     66 \n",
      "     67         data_meta_kwargs = self._get_encoder_meta_kwargs('data', self.data_aug_meta_prefix, **kwargs)\n",
      "\n"
     ]
    },
    {
     "name": "stdin",
     "output_type": "stream",
     "text": [
      "ipdb>  \n"
     ]
    },
    {
     "name": "stdout",
     "output_type": "stream",
     "text": [
      "> /tmp/ipykernel_6442/3737515001.py(67)forward()\n",
      "     65         else: encoder = self.encoder\n",
      "     66 \n",
      "---> 67         data_meta_kwargs = self._get_encoder_meta_kwargs('data', self.data_aug_meta_prefix, **kwargs)\n",
      "     68         data_o = encoder(data_input_ids=data_input_ids, data_attention_mask=data_attention_mask, \n",
      "     69                          data_aug_meta_prefix=self.data_aug_meta_prefix, **data_meta_kwargs)\n",
      "\n"
     ]
    },
    {
     "name": "stdin",
     "output_type": "stream",
     "text": [
      "ipdb>  \n"
     ]
    },
    {
     "name": "stdout",
     "output_type": "stream",
     "text": [
      "> /tmp/ipykernel_6442/3737515001.py(68)forward()\n",
      "     66 \n",
      "     67         data_meta_kwargs = self._get_encoder_meta_kwargs('data', self.data_aug_meta_prefix, **kwargs)\n",
      "---> 68         data_o = encoder(data_input_ids=data_input_ids, data_attention_mask=data_attention_mask, \n",
      "     69                          data_aug_meta_prefix=self.data_aug_meta_prefix, **data_meta_kwargs)\n",
      "     70 \n",
      "\n"
     ]
    },
    {
     "name": "stdin",
     "output_type": "stream",
     "text": [
      "ipdb>  data_meta_kwargs.keys()\n"
     ]
    },
    {
     "name": "stdout",
     "output_type": "stream",
     "text": [
      "dict_keys(['lnk2data_attention_mask', 'lnk2data_input_ids', 'lnk2data_idx', 'lnk2data_data2ptr', 'lnk2data_meta_repr', 'lnk2data_alpha'])\n"
     ]
    },
    {
     "name": "stdin",
     "output_type": "stream",
     "text": [
      "ipdb>  self.alpha.shape\n"
     ]
    },
    {
     "name": "stdout",
     "output_type": "stream",
     "text": [
      "torch.Size([218695])\n"
     ]
    },
    {
     "name": "stdin",
     "output_type": "stream",
     "text": [
      "ipdb>  n\n"
     ]
    },
    {
     "name": "stdout",
     "output_type": "stream",
     "text": [
      "> /tmp/ipykernel_6442/3737515001.py(69)forward()\n",
      "     67         data_meta_kwargs = self._get_encoder_meta_kwargs('data', self.data_aug_meta_prefix, **kwargs)\n",
      "     68         data_o = encoder(data_input_ids=data_input_ids, data_attention_mask=data_attention_mask, \n",
      "---> 69                          data_aug_meta_prefix=self.data_aug_meta_prefix, **data_meta_kwargs)\n",
      "     70 \n",
      "     71 \n",
      "\n"
     ]
    },
    {
     "name": "stdin",
     "output_type": "stream",
     "text": [
      "ipdb>  \n"
     ]
    },
    {
     "name": "stdout",
     "output_type": "stream",
     "text": [
      "> /tmp/ipykernel_6442/3737515001.py(68)forward()\n",
      "     66 \n",
      "     67         data_meta_kwargs = self._get_encoder_meta_kwargs('data', self.data_aug_meta_prefix, **kwargs)\n",
      "---> 68         data_o = encoder(data_input_ids=data_input_ids, data_attention_mask=data_attention_mask, \n",
      "     69                          data_aug_meta_prefix=self.data_aug_meta_prefix, **data_meta_kwargs)\n",
      "     70 \n",
      "\n"
     ]
    },
    {
     "name": "stdin",
     "output_type": "stream",
     "text": [
      "ipdb>  \n"
     ]
    },
    {
     "name": "stdout",
     "output_type": "stream",
     "text": [
      "> /tmp/ipykernel_6442/3737515001.py(69)forward()\n",
      "     67         data_meta_kwargs = self._get_encoder_meta_kwargs('data', self.data_aug_meta_prefix, **kwargs)\n",
      "     68         data_o = encoder(data_input_ids=data_input_ids, data_attention_mask=data_attention_mask, \n",
      "---> 69                          data_aug_meta_prefix=self.data_aug_meta_prefix, **data_meta_kwargs)\n",
      "     70 \n",
      "     71 \n",
      "\n"
     ]
    },
    {
     "name": "stdin",
     "output_type": "stream",
     "text": [
      "ipdb>  \n"
     ]
    },
    {
     "name": "stdout",
     "output_type": "stream",
     "text": [
      "> /tmp/ipykernel_6442/3737515001.py(68)forward()\n",
      "     66 \n",
      "     67         data_meta_kwargs = self._get_encoder_meta_kwargs('data', self.data_aug_meta_prefix, **kwargs)\n",
      "---> 68         data_o = encoder(data_input_ids=data_input_ids, data_attention_mask=data_attention_mask, \n",
      "     69                          data_aug_meta_prefix=self.data_aug_meta_prefix, **data_meta_kwargs)\n",
      "     70 \n",
      "\n"
     ]
    },
    {
     "name": "stdin",
     "output_type": "stream",
     "text": [
      "ipdb>  \n"
     ]
    },
    {
     "name": "stdout",
     "output_type": "stream",
     "text": [
      "> /tmp/ipykernel_6442/3083163642.py(64)forward()\n",
      "     62         **kwargs\n",
      "     63     ):  \n",
      "---> 64         data_repr = self.dr_encode(data_input_ids, data_attention_mask)\n",
      "     65 \n",
      "     66         data_fused_repr = meta_repr = None\n",
      "\n"
     ]
    },
    {
     "name": "stdin",
     "output_type": "stream",
     "text": [
      "ipdb>  n\n"
     ]
    },
    {
     "name": "stdout",
     "output_type": "stream",
     "text": [
      "> /tmp/ipykernel_6442/3083163642.py(66)forward()\n",
      "     64         data_repr = self.dr_encode(data_input_ids, data_attention_mask)\n",
      "     65 \n",
      "---> 66         data_fused_repr = meta_repr = None\n",
      "     67         if data_aug_meta_prefix is not None:\n",
      "     68             meta_kwargs = self.params_from_meta_aug_prefix(data_aug_meta_prefix, **kwargs)\n",
      "\n"
     ]
    },
    {
     "name": "stdin",
     "output_type": "stream",
     "text": [
      "ipdb>  data_repr.norm(dim=1)\n"
     ]
    },
    {
     "name": "stdout",
     "output_type": "stream",
     "text": [
      "tensor([1.0000, 1.0000, 1.0000, 1.0000, 1.0000],\n",
      "       grad_fn=<LinalgVectorNormBackward0>)\n"
     ]
    },
    {
     "name": "stdin",
     "output_type": "stream",
     "text": [
      "ipdb>  n\n"
     ]
    },
    {
     "name": "stdout",
     "output_type": "stream",
     "text": [
      "> /tmp/ipykernel_6442/3083163642.py(67)forward()\n",
      "     65 \n",
      "     66         data_fused_repr = meta_repr = None\n",
      "---> 67         if data_aug_meta_prefix is not None:\n",
      "     68             meta_kwargs = self.params_from_meta_aug_prefix(data_aug_meta_prefix, **kwargs)\n",
      "     69             if len(meta_kwargs):\n",
      "\n"
     ]
    },
    {
     "name": "stdin",
     "output_type": "stream",
     "text": [
      "ipdb>  \n"
     ]
    },
    {
     "name": "stdout",
     "output_type": "stream",
     "text": [
      "> /tmp/ipykernel_6442/3083163642.py(68)forward()\n",
      "     66         data_fused_repr = meta_repr = None\n",
      "     67         if data_aug_meta_prefix is not None:\n",
      "---> 68             meta_kwargs = self.params_from_meta_aug_prefix(data_aug_meta_prefix, **kwargs)\n",
      "     69             if len(meta_kwargs):\n",
      "     70                 data_fused_repr, meta_repr = self.fuse_meta_into_embeddings(data_repr, meta_kwargs)\n",
      "\n"
     ]
    },
    {
     "name": "stdin",
     "output_type": "stream",
     "text": [
      "ipdb>  \n"
     ]
    },
    {
     "name": "stdout",
     "output_type": "stream",
     "text": [
      "> /tmp/ipykernel_6442/3083163642.py(69)forward()\n",
      "     67         if data_aug_meta_prefix is not None:\n",
      "     68             meta_kwargs = self.params_from_meta_aug_prefix(data_aug_meta_prefix, **kwargs)\n",
      "---> 69             if len(meta_kwargs):\n",
      "     70                 data_fused_repr, meta_repr = self.fuse_meta_into_embeddings(data_repr, meta_kwargs)\n",
      "     71                 data_fused_repr = self.dr(data_fused_repr)\n",
      "\n"
     ]
    },
    {
     "name": "stdin",
     "output_type": "stream",
     "text": [
      "ipdb>  meta_kwargs.keys()\n"
     ]
    },
    {
     "name": "stdout",
     "output_type": "stream",
     "text": [
      "dict_keys(['lnk2data'])\n"
     ]
    },
    {
     "name": "stdin",
     "output_type": "stream",
     "text": [
      "ipdb>  n\n"
     ]
    },
    {
     "name": "stdout",
     "output_type": "stream",
     "text": [
      "> /tmp/ipykernel_6442/3083163642.py(70)forward()\n",
      "     68             meta_kwargs = self.params_from_meta_aug_prefix(data_aug_meta_prefix, **kwargs)\n",
      "     69             if len(meta_kwargs):\n",
      "---> 70                 data_fused_repr, meta_repr = self.fuse_meta_into_embeddings(data_repr, meta_kwargs)\n",
      "     71                 data_fused_repr = self.dr(data_fused_repr)\n",
      "     72 \n",
      "\n"
     ]
    },
    {
     "name": "stdin",
     "output_type": "stream",
     "text": [
      "ipdb>  s\n"
     ]
    },
    {
     "name": "stdout",
     "output_type": "stream",
     "text": [
      "--Call--\n",
      "> /tmp/ipykernel_6442/3083163642.py(26)fuse_meta_into_embeddings()\n",
      "     24         return F.normalize(Pooling.mean_pooling(o[0], attention_mask), dim=1)\n",
      "     25 \n",
      "---> 26     def fuse_meta_into_embeddings(self, embed:torch.Tensor, meta_kwargs:Dict):\n",
      "     27         meta_repr, bsz = {}, embed.size(0)\n",
      "     28 \n",
      "\n"
     ]
    },
    {
     "name": "stdin",
     "output_type": "stream",
     "text": [
      "ipdb>  n\n"
     ]
    },
    {
     "name": "stdout",
     "output_type": "stream",
     "text": [
      "> /tmp/ipykernel_6442/3083163642.py(27)fuse_meta_into_embeddings()\n",
      "     25 \n",
      "     26     def fuse_meta_into_embeddings(self, embed:torch.Tensor, meta_kwargs:Dict):\n",
      "---> 27         meta_repr, bsz = {}, embed.size(0)\n",
      "     28 \n",
      "     29         for m_key, m_args in meta_kwargs.items():\n",
      "\n"
     ]
    },
    {
     "name": "stdin",
     "output_type": "stream",
     "text": [
      "ipdb>  \n"
     ]
    },
    {
     "name": "stdout",
     "output_type": "stream",
     "text": [
      "> /tmp/ipykernel_6442/3083163642.py(29)fuse_meta_into_embeddings()\n",
      "     27         meta_repr, bsz = {}, embed.size(0)\n",
      "     28 \n",
      "---> 29         for m_key, m_args in meta_kwargs.items():\n",
      "     30             n_meta = m_args['data2ptr'].max()\n",
      "     31             assert torch.all(m_args['data2ptr'] == n_meta), f'All datapoints should have same number of metadata.'\n",
      "\n"
     ]
    },
    {
     "name": "stdin",
     "output_type": "stream",
     "text": [
      "ipdb>  \n"
     ]
    },
    {
     "name": "stdout",
     "output_type": "stream",
     "text": [
      "> /tmp/ipykernel_6442/3083163642.py(30)fuse_meta_into_embeddings()\n",
      "     28 \n",
      "     29         for m_key, m_args in meta_kwargs.items():\n",
      "---> 30             n_meta = m_args['data2ptr'].max()\n",
      "     31             assert torch.all(m_args['data2ptr'] == n_meta), f'All datapoints should have same number of metadata.'\n",
      "     32 \n",
      "\n"
     ]
    },
    {
     "name": "stdin",
     "output_type": "stream",
     "text": [
      "ipdb>  \n"
     ]
    },
    {
     "name": "stdout",
     "output_type": "stream",
     "text": [
      "> /tmp/ipykernel_6442/3083163642.py(31)fuse_meta_into_embeddings()\n",
      "     29         for m_key, m_args in meta_kwargs.items():\n",
      "     30             n_meta = m_args['data2ptr'].max()\n",
      "---> 31             assert torch.all(m_args['data2ptr'] == n_meta), f'All datapoints should have same number of metadata.'\n",
      "     32 \n",
      "     33             m_input_ids, m_attention_mask = m_args['input_ids'], m_args['attention_mask']\n",
      "\n"
     ]
    },
    {
     "name": "stdin",
     "output_type": "stream",
     "text": [
      "ipdb>  \n"
     ]
    },
    {
     "name": "stdout",
     "output_type": "stream",
     "text": [
      "> /tmp/ipykernel_6442/3083163642.py(33)fuse_meta_into_embeddings()\n",
      "     31             assert torch.all(m_args['data2ptr'] == n_meta), f'All datapoints should have same number of metadata.'\n",
      "     32 \n",
      "---> 33             m_input_ids, m_attention_mask = m_args['input_ids'], m_args['attention_mask']\n",
      "     34             m_embed = self.meta_encode(input_ids=m_input_ids, attention_mask=m_attention_mask)\n",
      "     35 \n",
      "\n"
     ]
    },
    {
     "name": "stdin",
     "output_type": "stream",
     "text": [
      "ipdb>  \n"
     ]
    },
    {
     "name": "stdout",
     "output_type": "stream",
     "text": [
      "> /tmp/ipykernel_6442/3083163642.py(34)fuse_meta_into_embeddings()\n",
      "     32 \n",
      "     33             m_input_ids, m_attention_mask = m_args['input_ids'], m_args['attention_mask']\n",
      "---> 34             m_embed = self.meta_encode(input_ids=m_input_ids, attention_mask=m_attention_mask)\n",
      "     35 \n",
      "     36             m_alpha = F.sigmoid(m_args['alpha']).unsqueeze(1)\n",
      "\n"
     ]
    },
    {
     "name": "stdin",
     "output_type": "stream",
     "text": [
      "ipdb>  \n"
     ]
    },
    {
     "name": "stdout",
     "output_type": "stream",
     "text": [
      "> /tmp/ipykernel_6442/3083163642.py(36)fuse_meta_into_embeddings()\n",
      "     34             m_embed = self.meta_encode(input_ids=m_input_ids, attention_mask=m_attention_mask)\n",
      "     35 \n",
      "---> 36             m_alpha = F.sigmoid(m_args['alpha']).unsqueeze(1)\n",
      "     37             m_embed = m_alpha * m_embed + (1 - m_alpha) * F.normalize(m_args['meta_repr'], dim=1)\n",
      "     38 \n",
      "\n"
     ]
    },
    {
     "name": "stdin",
     "output_type": "stream",
     "text": [
      "ipdb>  m_embed.norm(dim=1)\n"
     ]
    },
    {
     "name": "stdout",
     "output_type": "stream",
     "text": [
      "tensor([1.0000, 1.0000, 1.0000, 1.0000, 1.0000, 1.0000, 1.0000, 1.0000, 1.0000,\n",
      "        1.0000, 1.0000, 1.0000, 1.0000, 1.0000, 1.0000],\n",
      "       grad_fn=<LinalgVectorNormBackward0>)\n"
     ]
    },
    {
     "name": "stdin",
     "output_type": "stream",
     "text": [
      "ipdb>  m_embed.shape\n"
     ]
    },
    {
     "name": "stdout",
     "output_type": "stream",
     "text": [
      "torch.Size([15, 768])\n"
     ]
    },
    {
     "name": "stdin",
     "output_type": "stream",
     "text": [
      "ipdb>  m_args['alpha']\n"
     ]
    },
    {
     "name": "stdout",
     "output_type": "stream",
     "text": [
      "tensor([0.6730, 0.7557, 0.7357, 0.4133, 0.9625, 0.7035, 0.9866, 0.1353, 0.7073,\n",
      "        0.7709, 0.3240, 0.9944, 0.4719, 0.6533, 0.1304],\n",
      "       grad_fn=<IndexBackward0>)\n"
     ]
    },
    {
     "name": "stdin",
     "output_type": "stream",
     "text": [
      "ipdb>  n\n"
     ]
    },
    {
     "name": "stdout",
     "output_type": "stream",
     "text": [
      "> /tmp/ipykernel_6442/3083163642.py(37)fuse_meta_into_embeddings()\n",
      "     35 \n",
      "     36             m_alpha = F.sigmoid(m_args['alpha']).unsqueeze(1)\n",
      "---> 37             m_embed = m_alpha * m_embed + (1 - m_alpha) * F.normalize(m_args['meta_repr'], dim=1)\n",
      "     38 \n",
      "     39             meta_repr[m_key] = m_embed\n",
      "\n"
     ]
    },
    {
     "name": "stdin",
     "output_type": "stream",
     "text": [
      "ipdb>  m_alpha.shape\n"
     ]
    },
    {
     "name": "stdout",
     "output_type": "stream",
     "text": [
      "torch.Size([15, 1])\n"
     ]
    },
    {
     "name": "stdin",
     "output_type": "stream",
     "text": [
      "ipdb>  m_embed.shape\n"
     ]
    },
    {
     "name": "stdout",
     "output_type": "stream",
     "text": [
      "torch.Size([15, 768])\n"
     ]
    },
    {
     "name": "stdin",
     "output_type": "stream",
     "text": [
      "ipdb>  m_embed\n"
     ]
    },
    {
     "name": "stdout",
     "output_type": "stream",
     "text": [
      "tensor([[ 0.0315,  0.1107, -0.0196,  ..., -0.0062,  0.0025,  0.0325],\n",
      "        [-0.0350,  0.0437, -0.0851,  ...,  0.0075,  0.0263, -0.0171],\n",
      "        [-0.0178,  0.0711, -0.0700,  ...,  0.0660,  0.0611,  0.0241],\n",
      "        ...,\n",
      "        [ 0.0054,  0.0062,  0.0217,  ..., -0.0415,  0.0254, -0.0445],\n",
      "        [-0.0017, -0.0252, -0.0213,  ...,  0.0156, -0.0147, -0.0399],\n",
      "        [-0.0581, -0.0226, -0.0050,  ...,  0.0149,  0.0453, -0.0547]],\n",
      "       grad_fn=<DivBackward0>)\n"
     ]
    },
    {
     "name": "stdin",
     "output_type": "stream",
     "text": [
      "ipdb>  m_alpha * m_embed\n"
     ]
    },
    {
     "name": "stdout",
     "output_type": "stream",
     "text": [
      "tensor([[ 0.0209,  0.0733, -0.0130,  ..., -0.0041,  0.0016,  0.0215],\n",
      "        [-0.0238,  0.0297, -0.0579,  ...,  0.0051,  0.0179, -0.0116],\n",
      "        [-0.0120,  0.0481, -0.0474,  ...,  0.0446,  0.0413,  0.0163],\n",
      "        ...,\n",
      "        [ 0.0033,  0.0038,  0.0134,  ..., -0.0255,  0.0156, -0.0274],\n",
      "        [-0.0011, -0.0166, -0.0140,  ...,  0.0103, -0.0097, -0.0263],\n",
      "        [-0.0310, -0.0120, -0.0026,  ...,  0.0079,  0.0241, -0.0291]],\n",
      "       grad_fn=<MulBackward0>)\n"
     ]
    },
    {
     "name": "stdin",
     "output_type": "stream",
     "text": [
      "ipdb>  m_embed[0] * m_alpha[0]\n"
     ]
    },
    {
     "name": "stdout",
     "output_type": "stream",
     "text": [
      "tensor([ 2.0858e-02,  7.3272e-02, -1.2969e-02,  9.0335e-03, -1.8998e-03,\n",
      "         1.3676e-02,  1.0693e-02,  2.4822e-02, -2.4273e-02,  1.3627e-02,\n",
      "         1.6462e-02, -1.0414e-02,  2.5757e-02,  5.3670e-03, -1.3406e-02,\n",
      "         2.2081e-02,  1.7104e-02,  5.8230e-03,  2.6549e-03, -1.8256e-02,\n",
      "        -2.5436e-02,  2.6339e-02,  1.2694e-03,  1.3380e-02, -7.7870e-03,\n",
      "         8.4381e-03,  4.5814e-02, -7.3728e-03,  3.2947e-04, -3.0776e-02,\n",
      "         4.4523e-02,  2.2318e-02,  1.6200e-02,  2.0518e-02, -1.6694e-02,\n",
      "         2.1503e-02,  1.9884e-02, -2.8900e-02, -1.8003e-02, -1.3380e-02,\n",
      "        -4.6685e-03, -1.6721e-02,  1.8952e-02, -2.1304e-02, -2.0984e-03,\n",
      "         1.4539e-02,  3.0005e-02, -2.3299e-02, -2.2655e-02,  3.3433e-02,\n",
      "        -1.1487e-02, -9.4277e-03, -8.3740e-03, -2.3791e-02, -3.9788e-02,\n",
      "         1.1913e-02, -3.2841e-02,  1.3988e-02, -2.1339e-02,  2.7591e-02,\n",
      "         1.0017e-02,  2.6924e-02,  2.4008e-02, -1.6604e-02,  2.1425e-03,\n",
      "        -4.2652e-02,  8.8554e-03,  2.0540e-02,  2.0794e-02,  5.5687e-03,\n",
      "         3.0795e-03,  4.2274e-03,  1.8539e-02, -4.9289e-03, -6.7702e-03,\n",
      "        -7.6318e-02, -8.0102e-03,  1.7611e-02, -3.3839e-02,  5.0160e-03,\n",
      "        -6.4508e-03, -3.8642e-03,  4.8604e-02, -7.8979e-04,  5.2825e-03,\n",
      "         4.8127e-03, -1.1947e-02, -1.9659e-02, -7.2070e-03,  8.7559e-04,\n",
      "         1.9867e-02,  1.1247e-02,  3.0850e-02,  1.0089e-02, -4.3468e-03,\n",
      "         2.0913e-03, -7.7002e-03, -5.8949e-04, -2.7609e-02,  2.2236e-02,\n",
      "        -3.4084e-02,  6.7658e-02, -2.0459e-02,  4.9434e-04,  1.1865e-03,\n",
      "         6.0769e-03,  1.7771e-02,  1.5122e-02, -4.0197e-02, -1.7378e-02,\n",
      "         1.3148e-02, -1.7322e-02, -1.1232e-03,  1.2894e-02,  5.2145e-03,\n",
      "         4.4873e-03,  2.0622e-02,  1.2792e-02,  5.3458e-02,  8.8376e-03,\n",
      "        -2.7173e-02,  5.8580e-03,  2.8946e-02, -7.5947e-03,  1.8745e-02,\n",
      "         4.6078e-02,  4.8525e-03, -3.9803e-03,  1.3801e-02,  1.4715e-02,\n",
      "        -1.0060e-02, -7.8514e-03,  8.0096e-03, -2.6208e-02,  1.5387e-03,\n",
      "         8.3536e-03, -2.1002e-02,  1.5449e-02, -1.4858e-02, -1.9046e-02,\n",
      "        -1.7036e-02, -1.0082e-02, -9.5845e-04,  2.6281e-02,  4.9311e-03,\n",
      "         3.4556e-03,  4.7726e-02, -8.7020e-03, -3.1435e-02, -1.8068e-02,\n",
      "        -3.8350e-02, -4.4689e-03, -2.7365e-02, -2.0055e-02,  1.7760e-02,\n",
      "         6.8494e-03, -2.2527e-02, -2.7872e-02, -1.2352e-02,  2.4420e-02,\n",
      "        -1.5888e-03, -7.9167e-03, -3.9584e-02,  1.1317e-02, -2.4510e-02,\n",
      "         1.4135e-02, -1.8477e-02,  4.3482e-02,  6.4533e-03,  2.1194e-02,\n",
      "        -3.9294e-02, -3.3030e-02, -3.0382e-02, -2.8664e-02, -4.6692e-02,\n",
      "         1.9465e-02,  4.4685e-02,  1.0534e-02, -1.6027e-03,  3.9794e-02,\n",
      "        -5.6650e-02, -2.6299e-02,  1.9125e-02, -6.0551e-03, -2.0392e-03,\n",
      "         6.2742e-03, -1.8609e-02, -3.4337e-02,  4.9133e-02,  2.3199e-03,\n",
      "         3.6615e-02,  5.0688e-03,  4.2888e-03, -6.5219e-03,  9.4244e-03,\n",
      "         9.2887e-03, -4.2737e-02, -1.7396e-02, -4.8498e-03, -4.7228e-02,\n",
      "        -5.9194e-02,  2.7942e-02, -1.2500e-03,  5.9086e-02,  5.5070e-03,\n",
      "        -2.3911e-02, -1.3017e-03,  2.9176e-02,  1.6426e-02, -1.4186e-02,\n",
      "        -4.2140e-02,  1.9101e-02, -1.4102e-02, -5.7570e-03, -9.1757e-04,\n",
      "        -9.3826e-03,  2.8241e-02, -1.4174e-02, -1.2001e-03,  2.9752e-03,\n",
      "         2.2430e-02, -2.2262e-02,  5.7671e-03,  5.1767e-02, -1.5958e-02,\n",
      "        -8.8983e-03,  3.1571e-03,  1.5579e-03,  1.3396e-02, -3.9596e-02,\n",
      "         4.5257e-03, -1.4658e-03,  3.9740e-02,  9.2568e-03,  3.3404e-02,\n",
      "         3.5419e-02, -3.7989e-02, -5.0918e-03, -2.0273e-02, -2.1996e-04,\n",
      "         1.8256e-02, -5.5220e-03, -5.9396e-03,  9.8037e-03, -3.4338e-02,\n",
      "         1.8469e-02, -6.7823e-03, -4.8267e-03,  1.4146e-02,  4.6043e-03,\n",
      "        -1.8634e-02, -4.0244e-02, -2.6288e-02, -3.7791e-02, -1.6398e-02,\n",
      "        -2.5805e-02,  1.5034e-02, -2.7438e-02, -4.8250e-02, -1.0462e-02,\n",
      "         5.4567e-03, -1.7464e-03,  4.8945e-02,  4.1448e-02,  2.4137e-02,\n",
      "        -3.5322e-03,  2.0253e-02, -1.8434e-02,  2.7363e-02,  7.3999e-03,\n",
      "        -1.0566e-02, -4.3210e-02,  1.9016e-02, -2.2910e-02,  3.3524e-02,\n",
      "        -9.4554e-03,  1.0868e-02, -1.4904e-02,  1.3102e-02, -1.7519e-02,\n",
      "        -5.0284e-02, -3.7311e-02, -1.0306e-02, -1.7441e-02, -1.5349e-02,\n",
      "        -1.5921e-02,  2.2131e-02, -3.5450e-02,  1.1274e-02,  1.7298e-02,\n",
      "        -1.6053e-03,  1.6826e-02,  3.9914e-03, -1.8433e-02, -4.4744e-03,\n",
      "        -8.6928e-03, -1.6944e-02, -1.2285e-02, -5.1855e-03,  1.0374e-02,\n",
      "        -5.1452e-02, -2.5265e-02, -1.9211e-02,  6.1323e-02, -5.2841e-02,\n",
      "         1.8226e-02,  7.1715e-03,  9.9676e-03, -1.0421e-01, -6.3259e-03,\n",
      "        -1.2780e-02, -1.8341e-02, -1.3287e-02, -1.0613e-02,  1.4316e-03,\n",
      "         1.5120e-02,  7.3793e-03,  2.6338e-02, -5.9179e-03,  1.2368e-03,\n",
      "         4.4155e-02, -9.0322e-03,  1.3713e-02,  1.4598e-02, -2.3713e-02,\n",
      "        -1.2199e-02, -1.2716e-02, -3.1783e-02,  1.6244e-02, -2.8355e-02,\n",
      "         1.6094e-02,  2.1600e-02,  9.6187e-03, -2.3642e-02, -2.1308e-02,\n",
      "         3.9669e-02,  3.5109e-04,  1.0261e-02, -1.4865e-02,  2.6241e-02,\n",
      "        -5.5328e-02,  8.8992e-03, -3.1944e-02,  2.2172e-02,  2.3844e-02,\n",
      "        -2.2593e-02, -3.5890e-02,  4.5287e-04,  3.0057e-02,  3.4314e-02,\n",
      "        -1.2043e-02, -1.8780e-03, -1.3272e-02, -3.4312e-02,  1.0741e-02,\n",
      "         2.8751e-02, -1.3580e-02,  1.6176e-03,  2.9444e-02, -1.7230e-02,\n",
      "        -3.1511e-02,  2.4621e-02, -2.1938e-04, -6.4841e-03,  9.1737e-04,\n",
      "         1.7705e-02,  1.4834e-03,  9.2338e-03, -8.5878e-04, -3.0865e-04,\n",
      "         1.8289e-02, -1.2014e-02,  2.8732e-02,  1.6714e-02, -5.0691e-02,\n",
      "         1.1020e-02,  5.3713e-03,  1.9222e-02, -2.6154e-03,  3.0627e-02,\n",
      "         1.6911e-02, -2.7187e-02, -5.6913e-03, -1.2701e-02,  2.7586e-02,\n",
      "        -1.6862e-02,  1.6244e-02, -2.6903e-03,  5.1401e-02,  3.0948e-02,\n",
      "        -2.0352e-02,  4.2496e-02,  8.7149e-03,  9.8125e-03,  8.6066e-03,\n",
      "         1.8891e-03,  4.7270e-03,  4.0830e-03,  2.7469e-02,  3.2886e-02,\n",
      "         1.4024e-03,  3.0138e-02, -2.9087e-02, -2.2052e-02, -1.3452e-02,\n",
      "        -1.9350e-02, -2.3894e-02,  2.7115e-02,  1.3983e-02,  1.8279e-02,\n",
      "        -7.1866e-03, -4.0123e-02,  1.6950e-03,  3.1036e-02, -7.0717e-03,\n",
      "         2.3439e-02, -6.5909e-03, -6.9454e-03,  5.7988e-02,  1.2360e-02,\n",
      "        -4.9945e-03, -3.1098e-02, -1.9560e-03,  8.9579e-03,  3.0813e-02,\n",
      "         2.6032e-02, -2.2583e-02,  1.4681e-02,  2.3347e-02,  1.3750e-02,\n",
      "         2.6799e-03, -2.3892e-02,  2.8721e-04, -1.3708e-02,  2.3151e-02,\n",
      "         5.1182e-03,  1.7046e-02, -2.1552e-02, -7.0891e-03,  2.0275e-02,\n",
      "         1.0250e-02,  4.1170e-03,  4.2295e-03,  7.5234e-03, -1.6989e-02,\n",
      "         3.1941e-02,  2.4426e-02, -2.0539e-03, -2.2363e-02, -2.2366e-02,\n",
      "         2.4920e-02,  1.4736e-03,  1.1255e-02,  6.8882e-03,  3.5679e-03,\n",
      "         2.1285e-02,  1.9158e-02, -8.2749e-03, -3.4872e-02,  2.8240e-03,\n",
      "         1.9508e-02,  3.1214e-03, -3.3494e-02, -3.8089e-02,  2.0181e-02,\n",
      "         5.6029e-02, -1.0414e-02,  5.3622e-02,  2.1626e-05, -1.8416e-02,\n",
      "        -3.0025e-03, -1.0385e-03, -5.8757e-03, -2.5902e-02, -1.0526e-03,\n",
      "         1.4386e-02, -1.6172e-02, -3.5926e-03,  1.2605e-02, -1.6572e-02,\n",
      "        -8.8004e-03,  9.4154e-03,  2.4541e-02,  8.8025e-03, -1.7660e-02,\n",
      "        -9.0498e-03,  3.7155e-03,  1.8395e-02, -4.1820e-02, -3.0893e-02,\n",
      "         1.5227e-02, -2.7981e-02,  5.8651e-03,  1.6295e-02, -1.4544e-02,\n",
      "        -2.1892e-02,  1.6906e-02, -7.9593e-03, -2.7293e-02, -1.6939e-02,\n",
      "        -1.0674e-03, -2.1302e-02, -2.7582e-02, -1.5274e-02,  4.5708e-04,\n",
      "         2.4915e-03,  1.4025e-02, -1.8952e-02,  1.1440e-03,  2.2156e-02,\n",
      "        -8.7107e-03, -4.6982e-03, -1.0960e-02,  5.6979e-05, -1.8229e-02,\n",
      "        -1.3520e-02, -5.1392e-03, -3.8669e-03, -2.0314e-02, -1.4299e-02,\n",
      "        -2.5741e-02,  2.1783e-02,  1.2899e-04, -2.6722e-02, -4.2734e-02,\n",
      "         5.9260e-03, -2.3445e-02,  1.9576e-02,  6.0166e-03, -1.2822e-02,\n",
      "        -5.7431e-03,  4.0627e-02, -2.2169e-02,  4.0881e-02, -5.2647e-03,\n",
      "        -4.5927e-02, -1.6818e-02, -3.4948e-03,  5.2394e-02,  3.1686e-02,\n",
      "         1.4744e-02, -2.1293e-02,  2.1971e-02,  2.3591e-03,  1.1633e-02,\n",
      "        -1.5436e-02, -1.0642e-02,  3.4087e-02, -5.2754e-02,  3.6150e-02,\n",
      "         3.3680e-02,  5.4202e-02,  9.8207e-02, -1.1351e-02, -4.8496e-02,\n",
      "         1.7993e-02,  2.0138e-03, -2.7591e-02, -3.2028e-02,  4.9142e-03,\n",
      "         5.6690e-02,  3.6147e-02, -2.6392e-02,  1.8692e-02,  2.1560e-02,\n",
      "        -1.4727e-04,  7.6305e-05,  3.9183e-03, -2.0450e-03,  2.4895e-02,\n",
      "         3.8104e-02, -3.7042e-03, -9.8936e-03,  1.7226e-02, -7.9636e-03,\n",
      "        -1.9789e-02,  2.4957e-02,  2.3080e-02,  4.7125e-02,  1.1247e-02,\n",
      "        -3.9792e-03,  3.2970e-02,  2.1212e-03,  5.3462e-03, -1.1462e-02,\n",
      "         2.0781e-02,  4.6304e-02, -1.7707e-02, -2.5981e-02,  3.9037e-03,\n",
      "         2.3132e-02, -1.2112e-02,  2.2895e-03,  2.2528e-02, -4.5043e-02,\n",
      "         1.0113e-02,  1.5106e-02,  1.3650e-02, -1.9068e-04,  4.2444e-02,\n",
      "        -2.8987e-04,  8.1701e-03,  2.2023e-03,  6.2822e-03, -2.7271e-02,\n",
      "        -3.6799e-02, -2.2521e-02,  1.8904e-02, -5.3258e-03, -5.7762e-03,\n",
      "         3.4907e-03,  1.6477e-02, -9.5302e-03, -6.9160e-02,  7.7159e-03,\n",
      "        -7.7403e-03, -6.2570e-02, -5.2589e-02, -9.8115e-03, -3.6211e-02,\n",
      "         3.2333e-02, -3.7349e-02, -8.9018e-03, -3.8594e-02, -7.4598e-04,\n",
      "         3.9638e-02, -1.9924e-02,  2.4132e-02, -1.4104e-02, -8.9631e-03,\n",
      "         1.6669e-02,  9.8455e-03,  7.4999e-03, -2.3695e-02,  9.6730e-03,\n",
      "         3.0528e-02, -2.7720e-02, -2.3908e-02,  1.2649e-02, -3.3999e-02,\n",
      "         1.0556e-02,  2.6691e-02, -2.5956e-02, -1.1988e-02, -2.4054e-02,\n",
      "        -1.4468e-02, -2.2250e-03, -3.0700e-02,  2.7269e-03, -7.0247e-03,\n",
      "        -3.4990e-02,  1.6314e-03, -1.1110e-02,  2.4085e-02, -1.2121e-02,\n",
      "        -5.3157e-03, -4.2666e-03,  9.5452e-03, -1.9475e-02, -1.1266e-02,\n",
      "         1.9907e-02,  4.7289e-02, -1.8621e-03,  4.7717e-03, -3.0465e-02,\n",
      "         7.5044e-02, -1.8110e-02, -5.0955e-03, -3.8066e-02,  6.7355e-03,\n",
      "         1.5581e-02,  9.1982e-03,  3.9093e-03,  4.3499e-02, -2.4235e-03,\n",
      "         2.7272e-02, -1.2306e-02, -4.5381e-03, -2.6683e-02, -2.1575e-02,\n",
      "         9.5886e-03, -2.2871e-03,  2.4974e-03, -1.3159e-02, -6.1656e-03,\n",
      "         2.1797e-02,  1.5291e-02, -4.1501e-02,  2.4598e-02, -2.3276e-02,\n",
      "         5.0461e-02,  1.8475e-02, -1.0486e-02, -5.1255e-03,  2.2143e-03,\n",
      "         9.4723e-03,  3.0058e-02, -2.4287e-02, -2.3783e-02, -1.8277e-02,\n",
      "         6.5599e-02, -1.9809e-02, -1.8952e-02,  2.0118e-02,  3.0038e-02,\n",
      "        -6.8792e-03,  7.3608e-03, -8.2856e-02,  1.6834e-03,  1.2657e-02,\n",
      "         1.1727e-02, -9.2145e-03, -2.0649e-02, -5.6683e-03,  3.3109e-03,\n",
      "         2.0121e-03,  2.9041e-02, -1.7441e-02, -4.5062e-02, -2.8537e-02,\n",
      "         1.7542e-02, -1.2490e-03, -2.7957e-02, -1.4834e-02,  2.0682e-02,\n",
      "        -5.1029e-02, -1.7108e-02, -3.0771e-03,  1.0610e-02, -4.0000e-02,\n",
      "        -2.3834e-02, -5.7324e-03,  1.1550e-02,  1.8771e-02,  2.1710e-02,\n",
      "        -2.7054e-02,  1.8054e-02,  1.2511e-02,  3.4233e-02, -1.1219e-02,\n",
      "         1.1542e-02,  3.0082e-02,  2.3646e-02, -3.0657e-02,  4.0837e-03,\n",
      "         7.3789e-03,  3.2435e-02, -2.2418e-02,  1.7741e-02,  9.6962e-03,\n",
      "        -6.4130e-03, -2.7718e-02,  5.8133e-02, -6.6095e-03,  2.0964e-02,\n",
      "         2.8590e-02, -1.1681e-02,  3.0025e-02,  2.3037e-02,  3.6126e-03,\n",
      "        -7.6089e-03, -1.1644e-02,  2.7793e-02, -4.1642e-03,  1.2986e-02,\n",
      "        -4.1062e-03,  1.6364e-03,  2.1526e-02], grad_fn=<MulBackward0>)\n"
     ]
    },
    {
     "name": "stdin",
     "output_type": "stream",
     "text": [
      "ipdb>  m_embed[1] * m_alpha[1]\n"
     ]
    },
    {
     "name": "stdout",
     "output_type": "stream",
     "text": [
      "tensor([-2.3788e-02,  2.9714e-02, -5.7876e-02, -2.1765e-04,  1.2507e-02,\n",
      "        -2.3835e-02,  5.5061e-02,  1.3210e-02, -3.4549e-02,  3.4790e-02,\n",
      "         2.9185e-02,  5.8161e-03,  5.2941e-03, -3.6154e-03, -3.2608e-02,\n",
      "         1.5085e-02,  1.7241e-02, -1.1665e-02, -1.4718e-02,  2.2050e-04,\n",
      "        -2.7501e-02,  2.3613e-02, -1.1609e-03,  2.3307e-02,  1.5139e-02,\n",
      "         2.2802e-02, -7.8086e-03, -9.5263e-03, -2.3886e-02, -1.3995e-03,\n",
      "         6.6057e-03, -1.3894e-03,  1.8815e-02,  1.5496e-02,  6.6989e-03,\n",
      "         1.6695e-02,  2.1264e-02,  6.0278e-03, -9.8589e-03,  7.6538e-03,\n",
      "        -1.5353e-02, -1.4067e-02,  1.4137e-02, -1.4810e-02, -8.5191e-03,\n",
      "        -2.1247e-02,  1.0426e-02, -1.4058e-02, -1.0089e-02, -1.4398e-03,\n",
      "         1.1911e-02, -6.1911e-03,  1.8214e-02,  2.3857e-02, -3.6973e-02,\n",
      "        -5.8674e-02, -2.8984e-02, -3.8586e-02,  2.2215e-02,  1.9510e-02,\n",
      "        -3.8010e-03, -6.5723e-03, -2.0161e-02,  1.9062e-02, -3.2118e-02,\n",
      "         4.1047e-03, -2.4865e-02,  6.7011e-02,  2.4215e-02, -3.9134e-03,\n",
      "         2.6432e-02, -1.9058e-02,  3.5321e-02, -1.8187e-02,  1.9380e-02,\n",
      "        -6.0848e-02,  2.4704e-03, -1.3515e-02, -2.1423e-02, -2.0778e-02,\n",
      "         1.5826e-02, -2.2356e-02,  2.4669e-02, -3.8142e-02,  3.2202e-02,\n",
      "         2.3489e-03,  3.6382e-03, -3.3186e-02, -2.0920e-03, -1.4911e-02,\n",
      "         5.4760e-02,  2.7313e-02, -1.6814e-02,  1.8595e-02,  7.2789e-03,\n",
      "        -4.7672e-03, -7.0587e-03,  4.6551e-02,  2.9486e-03, -1.3689e-02,\n",
      "         1.1907e-02,  3.3617e-02,  9.1514e-03,  2.3502e-02, -9.0452e-03,\n",
      "        -6.0502e-03,  5.6840e-02, -1.0851e-03,  1.6687e-02, -2.1962e-03,\n",
      "         3.6714e-02, -6.9257e-05, -1.3032e-04, -9.9345e-04, -5.6763e-03,\n",
      "         9.4131e-03, -8.4604e-03,  2.4280e-02,  1.1366e-02, -1.6033e-04,\n",
      "        -9.5084e-03, -3.3159e-03,  5.9611e-02, -1.7779e-02,  1.6609e-02,\n",
      "        -7.3993e-03, -2.9843e-02,  1.0479e-02,  7.9435e-03,  2.7883e-02,\n",
      "         1.9110e-02,  3.4691e-02, -5.1553e-03, -2.0973e-02, -5.4623e-02,\n",
      "         2.4436e-02, -2.8847e-03,  1.3115e-02, -1.4212e-02, -8.7129e-03,\n",
      "         3.8892e-03,  1.0323e-02, -2.0474e-02,  1.4624e-02, -2.9713e-02,\n",
      "         6.6917e-03,  2.1806e-02,  2.0422e-02, -2.3250e-02,  8.0365e-03,\n",
      "        -3.2090e-03, -6.9777e-03, -4.7178e-03, -1.3564e-02, -9.3812e-03,\n",
      "         4.9731e-03,  1.3993e-02,  8.6308e-03, -1.1985e-02,  7.8317e-03,\n",
      "        -2.3059e-02, -1.7594e-02, -3.1941e-02,  4.4645e-03, -6.7873e-03,\n",
      "        -2.5843e-02, -5.8493e-02,  7.8047e-03,  6.1795e-03, -2.5902e-02,\n",
      "        -5.5067e-02, -4.2630e-03, -3.8488e-02, -7.9828e-03, -2.0803e-02,\n",
      "         1.5075e-02,  7.1949e-03,  9.0411e-03,  9.8101e-03,  2.1623e-02,\n",
      "        -4.9941e-02, -2.3049e-03, -1.8206e-03,  2.8703e-02,  1.0011e-02,\n",
      "         2.9582e-02, -6.2244e-04, -1.5711e-02,  2.6169e-02,  4.3234e-02,\n",
      "         3.2075e-03, -9.9264e-03,  4.3134e-02, -1.5717e-02, -1.5758e-02,\n",
      "        -3.6318e-03, -3.2054e-02, -1.6960e-02, -3.5095e-02,  4.9686e-03,\n",
      "        -4.1310e-02, -1.2066e-03, -1.0941e-02,  3.1491e-02,  1.9557e-03,\n",
      "        -3.5124e-03, -3.4704e-02,  2.2720e-02,  2.4047e-02,  2.4300e-02,\n",
      "        -4.4859e-02, -7.0413e-03, -3.3677e-02, -1.0566e-02,  2.8854e-02,\n",
      "        -3.3632e-02,  1.3703e-02, -4.0306e-02, -4.6250e-02, -1.2774e-02,\n",
      "        -3.6568e-02, -1.0593e-02, -2.4767e-02,  3.0520e-02, -7.4138e-03,\n",
      "        -6.6507e-03, -1.9813e-02, -2.6490e-02,  1.9882e-02, -7.6751e-04,\n",
      "        -2.9050e-02, -3.2862e-03,  6.4297e-03,  1.0136e-02,  5.1315e-02,\n",
      "        -3.9450e-02, -2.4348e-02, -1.2092e-02, -1.4866e-02, -2.3692e-03,\n",
      "         3.3735e-02, -3.8189e-02,  9.4304e-03, -2.1820e-02,  2.1447e-02,\n",
      "         2.4323e-02, -5.2019e-03, -2.2709e-02,  9.2066e-03, -2.7771e-02,\n",
      "         2.2230e-02, -1.2606e-02, -2.4676e-02, -2.9159e-02,  7.4205e-04,\n",
      "        -4.6048e-02, -1.0986e-02, -1.0390e-02,  8.0193e-03,  2.7910e-02,\n",
      "        -1.8678e-02, -3.9239e-02,  4.5025e-02,  2.9782e-02,  4.9668e-02,\n",
      "         6.6902e-02,  2.5312e-02,  7.9429e-03, -2.9815e-03,  6.6087e-03,\n",
      "        -2.4856e-02, -8.1742e-03, -1.2304e-02,  1.5726e-04, -2.5001e-03,\n",
      "        -2.4290e-04, -1.1007e-02, -1.9200e-02,  4.3823e-02,  3.3021e-02,\n",
      "        -6.0188e-02, -1.9533e-02, -1.4916e-02, -2.6477e-02,  3.4867e-02,\n",
      "         6.9240e-03,  3.4543e-03, -1.2276e-02,  1.6458e-02, -3.0998e-03,\n",
      "         3.9795e-02, -1.7025e-03,  2.5282e-02,  2.5694e-02, -6.8503e-03,\n",
      "        -3.5660e-02, -1.7829e-02, -1.6396e-02,  1.1671e-02,  3.8346e-02,\n",
      "        -4.2902e-02, -4.5711e-02, -1.7617e-02,  5.4469e-02, -4.9304e-02,\n",
      "        -9.2129e-03, -2.3136e-02,  2.6359e-02, -6.9439e-02,  2.8290e-02,\n",
      "         3.1059e-03, -2.9571e-02, -7.1418e-03, -1.2320e-02,  2.1758e-02,\n",
      "         7.8086e-03, -6.3134e-03,  3.9011e-02,  2.9880e-02, -4.2346e-02,\n",
      "        -9.7148e-03,  3.3449e-02, -1.3476e-02,  3.7151e-02,  1.7178e-02,\n",
      "        -1.8767e-02, -2.2891e-02, -1.0987e-02,  2.2534e-02, -1.9229e-02,\n",
      "         6.9392e-03, -2.2710e-03,  1.6530e-02, -3.1011e-02,  2.2716e-02,\n",
      "         1.9441e-02,  2.6774e-02,  5.5529e-03, -2.4958e-02, -4.1985e-02,\n",
      "        -7.1337e-04,  1.5913e-02, -1.0824e-02, -3.5446e-02,  1.0033e-02,\n",
      "         1.4720e-02, -5.5094e-02, -1.9280e-02, -2.1130e-02,  4.4089e-02,\n",
      "         2.7135e-03,  2.6158e-03,  4.6328e-03, -6.3307e-03,  7.3009e-03,\n",
      "         1.1504e-02, -1.8336e-03,  1.8242e-02,  3.3636e-02, -3.7662e-02,\n",
      "        -5.5310e-02,  1.5604e-02,  2.1494e-02, -3.3783e-02, -3.2469e-02,\n",
      "         3.8117e-02,  8.7605e-03,  1.3806e-02,  2.6389e-02, -1.5153e-02,\n",
      "         1.9899e-03, -1.8137e-02,  8.5954e-03,  9.8315e-03, -5.6599e-02,\n",
      "        -2.6457e-02,  1.6413e-03,  8.9950e-03, -3.9884e-02, -2.4248e-03,\n",
      "        -2.6136e-03, -2.0575e-02,  6.4611e-03, -5.1187e-03,  1.7437e-04,\n",
      "        -4.0483e-02,  2.3978e-02,  2.9240e-02,  4.8498e-02,  2.9586e-02,\n",
      "         2.5772e-02,  5.2608e-02,  2.4293e-02, -5.8860e-03, -3.7545e-02,\n",
      "         3.6848e-02, -2.0303e-02, -3.9652e-02,  2.7115e-02,  4.2936e-02,\n",
      "        -3.8213e-02, -1.3119e-02, -3.9391e-02,  1.1238e-02,  1.3403e-03,\n",
      "        -4.1809e-02, -3.8311e-02,  3.6668e-02, -1.1888e-02,  4.4826e-02,\n",
      "         1.2629e-02,  3.4950e-03,  4.3469e-02,  2.1532e-02, -3.1997e-02,\n",
      "         8.4069e-03,  8.7830e-03,  3.9506e-02, -7.2722e-03,  1.6085e-03,\n",
      "         1.9868e-02, -4.5065e-02, -2.3667e-02,  1.1499e-02,  2.9721e-03,\n",
      "        -2.3880e-02, -2.8988e-03, -2.6623e-02, -8.7051e-03,  3.7329e-02,\n",
      "        -2.7758e-02,  9.6425e-03, -2.2192e-02, -4.4098e-03,  2.0567e-02,\n",
      "         5.5403e-03,  5.1810e-03, -2.5777e-02, -1.9802e-03, -2.4722e-02,\n",
      "        -1.4813e-02,  5.5648e-03,  1.6194e-02, -4.8241e-02,  1.0432e-02,\n",
      "        -1.7973e-02, -1.6180e-02,  2.3870e-02, -1.5732e-02, -3.0684e-03,\n",
      "        -6.2870e-03, -1.3386e-02,  1.5856e-02,  3.8998e-03,  4.6447e-02,\n",
      "        -1.1185e-02,  3.3420e-02, -5.0613e-03, -1.6417e-02,  1.0129e-02,\n",
      "        -1.2071e-02,  2.9957e-02, -2.5593e-02, -1.2900e-02, -1.9101e-02,\n",
      "        -3.0014e-02, -1.2444e-03,  1.1980e-02, -9.0742e-03,  2.6019e-02,\n",
      "         1.3022e-02,  3.9881e-03, -1.9158e-02,  2.0792e-02, -1.5425e-02,\n",
      "         1.7817e-02,  3.3169e-03, -5.1398e-02, -3.1780e-02, -6.3314e-02,\n",
      "        -2.9668e-02, -2.3684e-03,  3.0897e-02,  2.6006e-02,  2.7602e-02,\n",
      "        -5.2184e-03, -2.7149e-02, -7.8795e-03,  1.7003e-02,  5.3028e-03,\n",
      "        -1.6309e-02, -4.0997e-03,  5.2821e-02, -5.5540e-05,  1.2158e-02,\n",
      "        -3.0732e-02, -2.2228e-02, -8.4917e-03,  1.9362e-02,  2.6874e-02,\n",
      "        -1.3821e-02,  4.5942e-02, -3.6239e-02, -1.6782e-02,  1.2845e-02,\n",
      "         2.8417e-02,  2.9800e-02,  2.4277e-02, -1.3294e-02,  2.2570e-02,\n",
      "         3.7946e-02, -2.3456e-02, -3.0700e-02, -2.3575e-03,  8.6390e-03,\n",
      "        -2.5562e-02, -9.6180e-03,  1.5045e-03,  6.1412e-03, -4.5618e-03,\n",
      "        -3.8742e-04, -2.3660e-03,  2.4454e-04,  2.7634e-02,  8.3715e-03,\n",
      "        -2.0009e-02,  2.7955e-02,  1.6510e-02, -4.8825e-02,  1.3640e-02,\n",
      "        -1.5074e-02,  3.2629e-02,  7.4522e-03,  5.2863e-02, -3.9429e-03,\n",
      "         1.5820e-02, -1.8522e-02,  1.9624e-02, -2.1236e-02,  1.2871e-02,\n",
      "        -2.2559e-02, -2.4459e-02,  4.4625e-02,  1.6612e-02,  5.1802e-02,\n",
      "         1.3011e-02,  4.7831e-02,  5.5381e-02, -1.5396e-02,  2.7612e-02,\n",
      "        -3.9468e-03,  4.3267e-03,  3.6795e-02,  3.7764e-02, -2.9518e-02,\n",
      "         3.7880e-02, -3.5533e-02, -1.7477e-02, -8.9693e-03,  3.5666e-02,\n",
      "        -2.2903e-02, -3.2504e-02,  2.7290e-02, -1.3955e-03,  1.9595e-02,\n",
      "         2.4621e-02, -2.5057e-02,  3.7659e-03,  6.6549e-03,  1.8948e-02,\n",
      "        -6.5905e-04, -7.7413e-03,  3.8449e-02,  6.4343e-03, -3.1268e-02,\n",
      "        -4.5828e-03,  9.6696e-04,  1.2337e-03, -1.6107e-02, -4.2028e-03,\n",
      "        -1.2374e-02,  1.1663e-03,  3.1591e-02, -9.5349e-03, -2.9040e-03,\n",
      "        -4.7250e-02, -4.6987e-03, -6.2225e-02, -3.9231e-03, -1.2217e-02,\n",
      "        -2.0744e-02, -1.0390e-02,  2.9430e-02, -2.3059e-04, -5.8127e-02,\n",
      "        -2.7474e-02, -1.0169e-02,  1.4371e-03,  1.7726e-02, -1.9167e-02,\n",
      "        -1.0967e-02,  1.8077e-02,  7.6041e-03,  5.3219e-02, -3.9118e-02,\n",
      "        -8.4795e-03, -1.6823e-02, -1.3417e-02, -2.1661e-03,  3.3296e-02,\n",
      "         3.6181e-02,  2.2920e-02, -3.5706e-02, -3.8348e-03, -1.7757e-02,\n",
      "         3.9676e-02,  2.5182e-03,  2.1748e-03, -2.6607e-02,  6.6418e-03,\n",
      "         1.9694e-02, -3.2505e-02, -2.6385e-02, -1.5331e-02,  1.2281e-02,\n",
      "        -1.8680e-02, -1.5369e-02, -4.9000e-02, -2.0863e-02,  2.9818e-02,\n",
      "         3.9403e-02, -4.7581e-03, -1.7939e-02,  4.2050e-02,  2.0412e-02,\n",
      "         3.6911e-02,  2.3741e-02, -1.2967e-02,  5.7195e-03,  4.3677e-03,\n",
      "        -4.7464e-03,  8.4831e-03,  7.8936e-03,  3.9667e-02,  3.0355e-02,\n",
      "         2.8917e-02,  6.5015e-03,  1.3190e-02,  1.8283e-02,  2.3279e-02,\n",
      "         2.5697e-03,  4.0873e-04,  7.4997e-04,  1.2359e-02,  2.3943e-02,\n",
      "         2.5381e-02,  2.0340e-02,  7.2493e-03, -2.6059e-02,  6.3007e-03,\n",
      "         2.3471e-02, -3.0962e-03,  4.8449e-02, -2.9029e-02, -1.3546e-02,\n",
      "         5.2817e-02,  1.0213e-02,  3.8561e-04,  4.7883e-02,  1.1359e-02,\n",
      "        -2.1449e-02, -5.1568e-03,  1.1676e-02, -1.2565e-02, -1.2809e-02,\n",
      "         4.9967e-02,  1.1112e-02, -1.1608e-02, -7.9069e-03, -7.2246e-03,\n",
      "        -8.6698e-04, -5.9191e-02,  1.5044e-02,  1.0638e-02, -4.6104e-04,\n",
      "         1.5198e-02,  2.3992e-02,  4.2983e-03,  2.3270e-02, -5.7209e-02,\n",
      "         2.4943e-02, -1.4260e-02, -9.7230e-03,  2.0556e-02, -4.3269e-03,\n",
      "        -4.2231e-02,  1.1233e-02, -2.4309e-02,  3.8883e-03, -1.1181e-02,\n",
      "         5.2785e-02, -7.2809e-03,  5.2849e-03,  2.1368e-02, -1.3827e-02,\n",
      "         2.1612e-02,  7.7317e-03, -5.7035e-02,  2.0457e-02,  1.2563e-02,\n",
      "        -2.0835e-02, -4.6510e-03,  1.7140e-02,  1.5781e-02,  5.5380e-03,\n",
      "         6.8925e-03,  1.2042e-02,  7.1104e-03, -2.6015e-02,  3.4090e-03,\n",
      "         3.4950e-02,  1.3371e-02,  1.2387e-02,  6.5269e-03,  2.5652e-02,\n",
      "        -2.2550e-02, -4.3641e-02,  1.2966e-02, -2.3300e-02, -1.8036e-02,\n",
      "        -2.6176e-03,  1.1118e-02, -1.1878e-02,  3.9317e-02,  3.8704e-02,\n",
      "         1.4197e-02,  9.6831e-03, -4.0145e-02,  2.7655e-02,  1.0032e-02,\n",
      "         2.2821e-02,  3.8523e-02,  1.1075e-03, -3.0008e-02,  3.9241e-03,\n",
      "         5.7488e-03,  1.1746e-04, -2.1935e-03,  3.1228e-02, -3.7524e-03,\n",
      "        -2.5268e-02,  3.3011e-03, -1.1169e-02, -1.3541e-02, -2.6333e-02,\n",
      "         2.7076e-02, -6.7888e-02,  4.5393e-03,  1.9606e-02, -1.6352e-02,\n",
      "         5.2519e-03, -1.7529e-02, -1.4332e-02, -3.0623e-02, -2.6764e-02,\n",
      "         5.1304e-03,  1.7863e-02, -1.1602e-02], grad_fn=<MulBackward0>)\n"
     ]
    },
    {
     "name": "stdin",
     "output_type": "stream",
     "text": [
      "ipdb>  l\n"
     ]
    },
    {
     "name": "stdout",
     "output_type": "stream",
     "text": [
      "     32 \n",
      "     33             m_input_ids, m_attention_mask = m_args['input_ids'], m_args['attention_mask']\n",
      "     34             m_embed = self.meta_encode(input_ids=m_input_ids, attention_mask=m_attention_mask)\n",
      "     35 \n",
      "     36             m_alpha = F.sigmoid(m_args['alpha']).unsqueeze(1)\n",
      "---> 37             m_embed = m_alpha * m_embed + (1 - m_alpha) * F.normalize(m_args['meta_repr'], dim=1)\n",
      "     38 \n",
      "     39             meta_repr[m_key] = m_embed\n",
      "     40 \n",
      "     41             m_embed = m_embed.view(bsz, -1, self.config.dim)\n",
      "     42             fused_embed = self.cross_head(embed, m_embed)\n",
      "\n"
     ]
    },
    {
     "name": "stdin",
     "output_type": "stream",
     "text": [
      "ipdb>  m_args['meta_repr'].norm(dim=1)\n"
     ]
    },
    {
     "name": "stdout",
     "output_type": "stream",
     "text": [
      "tensor([0., 0., 0., 0., 0., 0., 0., 0., 0., 0., 0., 0., 0., 0., 0.],\n",
      "       grad_fn=<LinalgVectorNormBackward0>)\n"
     ]
    },
    {
     "name": "stdin",
     "output_type": "stream",
     "text": [
      "ipdb>  (1 - m_alpha)\n"
     ]
    },
    {
     "name": "stdout",
     "output_type": "stream",
     "text": [
      "tensor([[0.3378],\n",
      "        [0.3196],\n",
      "        [0.3240],\n",
      "        [0.3981],\n",
      "        [0.2764],\n",
      "        [0.3310],\n",
      "        [0.2716],\n",
      "        [0.4662],\n",
      "        [0.3302],\n",
      "        [0.3163],\n",
      "        [0.4197],\n",
      "        [0.2700],\n",
      "        [0.3842],\n",
      "        [0.3422],\n",
      "        [0.4674]], grad_fn=<RsubBackward1>)\n"
     ]
    },
    {
     "name": "stdin",
     "output_type": "stream",
     "text": [
      "ipdb>  n\n"
     ]
    },
    {
     "name": "stdout",
     "output_type": "stream",
     "text": [
      "> /tmp/ipykernel_6442/3083163642.py(39)fuse_meta_into_embeddings()\n",
      "     37             m_embed = m_alpha * m_embed + (1 - m_alpha) * F.normalize(m_args['meta_repr'], dim=1)\n",
      "     38 \n",
      "---> 39             meta_repr[m_key] = m_embed\n",
      "     40 \n",
      "     41             m_embed = m_embed.view(bsz, -1, self.config.dim)\n",
      "\n"
     ]
    },
    {
     "name": "stdin",
     "output_type": "stream",
     "text": [
      "ipdb>  \n"
     ]
    },
    {
     "name": "stdout",
     "output_type": "stream",
     "text": [
      "> /tmp/ipykernel_6442/3083163642.py(41)fuse_meta_into_embeddings()\n",
      "     39             meta_repr[m_key] = m_embed\n",
      "     40 \n",
      "---> 41             m_embed = m_embed.view(bsz, -1, self.config.dim)\n",
      "     42             fused_embed = self.cross_head(embed, m_embed)\n",
      "     43             embed = embed + fused_embed\n",
      "\n"
     ]
    },
    {
     "name": "stdin",
     "output_type": "stream",
     "text": [
      "ipdb>  \n"
     ]
    },
    {
     "name": "stdout",
     "output_type": "stream",
     "text": [
      "> /tmp/ipykernel_6442/3083163642.py(42)fuse_meta_into_embeddings()\n",
      "     40 \n",
      "     41             m_embed = m_embed.view(bsz, -1, self.config.dim)\n",
      "---> 42             fused_embed = self.cross_head(embed, m_embed)\n",
      "     43             embed = embed + fused_embed\n",
      "     44 \n",
      "\n"
     ]
    },
    {
     "name": "stdin",
     "output_type": "stream",
     "text": [
      "ipdb>  \n"
     ]
    },
    {
     "name": "stdout",
     "output_type": "stream",
     "text": [
      "> /tmp/ipykernel_6442/3083163642.py(43)fuse_meta_into_embeddings()\n",
      "     41             m_embed = m_embed.view(bsz, -1, self.config.dim)\n",
      "     42             fused_embed = self.cross_head(embed, m_embed)\n",
      "---> 43             embed = embed + fused_embed\n",
      "     44 \n",
      "     45         return embed, meta_repr\n",
      "\n"
     ]
    },
    {
     "name": "stdin",
     "output_type": "stream",
     "text": [
      "ipdb>  fused_embed.shape\n"
     ]
    },
    {
     "name": "stdout",
     "output_type": "stream",
     "text": [
      "torch.Size([5, 768])\n"
     ]
    },
    {
     "name": "stdin",
     "output_type": "stream",
     "text": [
      "ipdb>  fused_embed.norm(dim=1)\n"
     ]
    },
    {
     "name": "stdout",
     "output_type": "stream",
     "text": [
      "tensor([0.5004, 0.4864, 0.4790, 0.4631, 0.4581],\n",
      "       grad_fn=<LinalgVectorNormBackward0>)\n"
     ]
    },
    {
     "name": "stdin",
     "output_type": "stream",
     "text": [
      "ipdb>  n\n"
     ]
    },
    {
     "name": "stdout",
     "output_type": "stream",
     "text": [
      "> /tmp/ipykernel_6442/3083163642.py(29)fuse_meta_into_embeddings()\n",
      "     27         meta_repr, bsz = {}, embed.size(0)\n",
      "     28 \n",
      "---> 29         for m_key, m_args in meta_kwargs.items():\n",
      "     30             n_meta = m_args['data2ptr'].max()\n",
      "     31             assert torch.all(m_args['data2ptr'] == n_meta), f'All datapoints should have same number of metadata.'\n",
      "\n"
     ]
    },
    {
     "name": "stdin",
     "output_type": "stream",
     "text": [
      "ipdb>  embed.norm(dim=1)\n"
     ]
    },
    {
     "name": "stdout",
     "output_type": "stream",
     "text": [
      "tensor([1.2409, 1.3489, 1.1833, 1.3607, 1.1987],\n",
      "       grad_fn=<LinalgVectorNormBackward0>)\n"
     ]
    },
    {
     "name": "stdin",
     "output_type": "stream",
     "text": [
      "ipdb>  n\n"
     ]
    },
    {
     "name": "stdout",
     "output_type": "stream",
     "text": [
      "> /tmp/ipykernel_6442/3083163642.py(45)fuse_meta_into_embeddings()\n",
      "     43             embed = embed + fused_embed\n",
      "     44 \n",
      "---> 45         return embed, meta_repr\n",
      "     46 \n",
      "     47     def params_from_meta_aug_prefix(self, prefix:str, **kwargs):\n",
      "\n"
     ]
    },
    {
     "name": "stdin",
     "output_type": "stream",
     "text": [
      "ipdb>  \n"
     ]
    },
    {
     "name": "stdout",
     "output_type": "stream",
     "text": [
      "--Return--\n",
      "(tensor([[-4.4...AddBackward0>), {'lnk2data': tensor([[ 0.0...AddBackward0>)})\n",
      "> /tmp/ipykernel_6442/3083163642.py(45)fuse_meta_into_embeddings()\n",
      "     43             embed = embed + fused_embed\n",
      "     44 \n",
      "---> 45         return embed, meta_repr\n",
      "     46 \n",
      "     47     def params_from_meta_aug_prefix(self, prefix:str, **kwargs):\n",
      "\n"
     ]
    },
    {
     "name": "stdin",
     "output_type": "stream",
     "text": [
      "ipdb>  \n"
     ]
    },
    {
     "name": "stdout",
     "output_type": "stream",
     "text": [
      "> /tmp/ipykernel_6442/3083163642.py(71)forward()\n",
      "     69             if len(meta_kwargs):\n",
      "     70                 data_fused_repr, meta_repr = self.fuse_meta_into_embeddings(data_repr, meta_kwargs)\n",
      "---> 71                 data_fused_repr = self.dr(data_fused_repr)\n",
      "     72 \n",
      "     73         return EncoderOutput(\n",
      "\n"
     ]
    },
    {
     "name": "stdin",
     "output_type": "stream",
     "text": [
      "ipdb>  n\n"
     ]
    },
    {
     "name": "stdout",
     "output_type": "stream",
     "text": [
      "> /tmp/ipykernel_6442/3083163642.py(73)forward()\n",
      "     71                 data_fused_repr = self.dr(data_fused_repr)\n",
      "     72 \n",
      "---> 73         return EncoderOutput(\n",
      "     74             rep=data_repr,\n",
      "     75             fused_rep=data_fused_repr,\n",
      "\n"
     ]
    },
    {
     "name": "stdin",
     "output_type": "stream",
     "text": [
      "ipdb>  data_fused_repr.norm(dim=1)\n"
     ]
    },
    {
     "name": "stdout",
     "output_type": "stream",
     "text": [
      "tensor([1.0000, 1.0000, 1.0000, 1.0000, 1.0000],\n",
      "       grad_fn=<LinalgVectorNormBackward0>)\n"
     ]
    },
    {
     "name": "stdin",
     "output_type": "stream",
     "text": [
      "ipdb>  n\n"
     ]
    },
    {
     "name": "stdout",
     "output_type": "stream",
     "text": [
      "> /tmp/ipykernel_6442/3083163642.py(74)forward()\n",
      "     72 \n",
      "     73         return EncoderOutput(\n",
      "---> 74             rep=data_repr,\n",
      "     75             fused_rep=data_fused_repr,\n",
      "     76             meta_repr=meta_repr,\n",
      "\n"
     ]
    },
    {
     "name": "stdin",
     "output_type": "stream",
     "text": [
      "ipdb>  c\n"
     ]
    },
    {
     "name": "stdout",
     "output_type": "stream",
     "text": [
      "> /tmp/ipykernel_6442/3083163642.py(64)forward()\n",
      "     62         **kwargs\n",
      "     63     ):  \n",
      "---> 64         data_repr = self.dr_encode(data_input_ids, data_attention_mask)\n",
      "     65 \n",
      "     66         data_fused_repr = meta_repr = None\n",
      "\n"
     ]
    },
    {
     "name": "stdin",
     "output_type": "stream",
     "text": [
      "ipdb>  n\n"
     ]
    },
    {
     "name": "stdout",
     "output_type": "stream",
     "text": [
      "> /tmp/ipykernel_6442/3083163642.py(66)forward()\n",
      "     64         data_repr = self.dr_encode(data_input_ids, data_attention_mask)\n",
      "     65 \n",
      "---> 66         data_fused_repr = meta_repr = None\n",
      "     67         if data_aug_meta_prefix is not None:\n",
      "     68             meta_kwargs = self.params_from_meta_aug_prefix(data_aug_meta_prefix, **kwargs)\n",
      "\n"
     ]
    },
    {
     "name": "stdin",
     "output_type": "stream",
     "text": [
      "ipdb>  c\n"
     ]
    },
    {
     "name": "stdout",
     "output_type": "stream",
     "text": [
      "    [... skipped 1 hidden frame]\n",
      "\n",
      "    [... skipped 1 hidden frame]\n",
      "\n",
      "    [... skipped 1 hidden frame]\n",
      "\n",
      "    [... skipped 1 hidden frame]\n",
      "\n"
     ]
    }
   ],
   "source": [
    "o = func()"
   ]
  },
  {
   "cell_type": "code",
   "execution_count": null,
   "id": "205f72d1-798d-46fe-b43d-81b435404dc0",
   "metadata": {
    "scrolled": true
   },
   "outputs": [
    {
     "name": "stdout",
     "output_type": "stream",
     "text": [
      "> /tmp/ipykernel_38498/1476390753.py(61)forward()\n",
      "     59         **kwargs\n",
      "     60     ):  \n",
      "---> 61         return_dict = return_dict if return_dict is not None else self.config.use_return_dict\n",
      "     62 \n",
      "     63         if self.use_encoder_parallel:\n",
      "\n"
     ]
    },
    {
     "name": "stdin",
     "output_type": "stream",
     "text": [
      "ipdb>  c\n"
     ]
    },
    {
     "name": "stdout",
     "output_type": "stream",
     "text": [
      "> /tmp/ipykernel_38498/1294998010.py(69)forward()\n",
      "     67         **kwargs\n",
      "     68     ):  \n",
      "---> 69         data_repr = self.dr_encode(data_input_ids, data_attention_mask)\n",
      "     70 \n",
      "     71         data_fused_repr = meta_repr = None\n",
      "\n"
     ]
    },
    {
     "name": "stdin",
     "output_type": "stream",
     "text": [
      "ipdb>  n\n"
     ]
    },
    {
     "name": "stdout",
     "output_type": "stream",
     "text": [
      "> /tmp/ipykernel_38498/1294998010.py(71)forward()\n",
      "     69         data_repr = self.dr_encode(data_input_ids, data_attention_mask)\n",
      "     70 \n",
      "---> 71         data_fused_repr = meta_repr = None\n",
      "     72         if data_aug_meta_prefix is not None:\n",
      "     73             meta_kwargs = Parameters.from_meta_aug_prefix(data_aug_meta_prefix, **kwargs)\n",
      "\n"
     ]
    },
    {
     "name": "stdin",
     "output_type": "stream",
     "text": [
      "ipdb>  \n"
     ]
    },
    {
     "name": "stdout",
     "output_type": "stream",
     "text": [
      "> /tmp/ipykernel_38498/1294998010.py(72)forward()\n",
      "     70 \n",
      "     71         data_fused_repr = meta_repr = None\n",
      "---> 72         if data_aug_meta_prefix is not None:\n",
      "     73             meta_kwargs = Parameters.from_meta_aug_prefix(data_aug_meta_prefix, **kwargs)\n",
      "     74             if len(meta_kwargs):\n",
      "\n"
     ]
    },
    {
     "name": "stdin",
     "output_type": "stream",
     "text": [
      "ipdb>  \n"
     ]
    },
    {
     "name": "stdout",
     "output_type": "stream",
     "text": [
      "> /tmp/ipykernel_38498/1294998010.py(73)forward()\n",
      "     71         data_fused_repr = meta_repr = None\n",
      "     72         if data_aug_meta_prefix is not None:\n",
      "---> 73             meta_kwargs = Parameters.from_meta_aug_prefix(data_aug_meta_prefix, **kwargs)\n",
      "     74             if len(meta_kwargs):\n",
      "     75                 data_fused_repr, meta_repr = self.fuse_meta_into_embeddings(data_repr, meta_kwargs)\n",
      "\n"
     ]
    },
    {
     "name": "stdin",
     "output_type": "stream",
     "text": [
      "ipdb>  \n"
     ]
    },
    {
     "name": "stdout",
     "output_type": "stream",
     "text": [
      "> /tmp/ipykernel_38498/1294998010.py(74)forward()\n",
      "     72         if data_aug_meta_prefix is not None:\n",
      "     73             meta_kwargs = Parameters.from_meta_aug_prefix(data_aug_meta_prefix, **kwargs)\n",
      "---> 74             if len(meta_kwargs):\n",
      "     75                 data_fused_repr, meta_repr = self.fuse_meta_into_embeddings(data_repr, meta_kwargs)\n",
      "     76                 data_fused_repr = self.dr(data_fused_repr)\n",
      "\n"
     ]
    },
    {
     "name": "stdin",
     "output_type": "stream",
     "text": [
      "ipdb>  len(meta_kwargs)\n"
     ]
    },
    {
     "name": "stdout",
     "output_type": "stream",
     "text": [
      "1\n"
     ]
    },
    {
     "name": "stdin",
     "output_type": "stream",
     "text": [
      "ipdb>  n\n"
     ]
    },
    {
     "name": "stdout",
     "output_type": "stream",
     "text": [
      "> /tmp/ipykernel_38498/1294998010.py(75)forward()\n",
      "     73             meta_kwargs = Parameters.from_meta_aug_prefix(data_aug_meta_prefix, **kwargs)\n",
      "     74             if len(meta_kwargs):\n",
      "---> 75                 data_fused_repr, meta_repr = self.fuse_meta_into_embeddings(data_repr, meta_kwargs)\n",
      "     76                 data_fused_repr = self.dr(data_fused_repr)\n",
      "     77 \n",
      "\n"
     ]
    },
    {
     "name": "stdin",
     "output_type": "stream",
     "text": [
      "ipdb>  s\n"
     ]
    },
    {
     "name": "stdout",
     "output_type": "stream",
     "text": [
      "--Call--\n",
      "> /tmp/ipykernel_38498/1294998010.py(43)fuse_meta_into_embeddings()\n",
      "     41                 sd_meta[k].copy_(sd_dr[k])\n",
      "     42 \n",
      "---> 43     def fuse_meta_into_embeddings(self, embed:torch.Tensor, meta_kwargs:Dict):\n",
      "     44         meta_repr, bsz = {}, embed.size(0)\n",
      "     45 \n",
      "\n"
     ]
    },
    {
     "name": "stdin",
     "output_type": "stream",
     "text": [
      "ipdb>  n\n"
     ]
    },
    {
     "name": "stdout",
     "output_type": "stream",
     "text": [
      "> /tmp/ipykernel_38498/1294998010.py(44)fuse_meta_into_embeddings()\n",
      "     42 \n",
      "     43     def fuse_meta_into_embeddings(self, embed:torch.Tensor, meta_kwargs:Dict):\n",
      "---> 44         meta_repr, bsz = {}, embed.size(0)\n",
      "     45 \n",
      "     46         for m_key, m_args in meta_kwargs.items():\n",
      "\n"
     ]
    },
    {
     "name": "stdin",
     "output_type": "stream",
     "text": [
      "ipdb>  n\n"
     ]
    },
    {
     "name": "stdout",
     "output_type": "stream",
     "text": [
      "> /tmp/ipykernel_38498/1294998010.py(46)fuse_meta_into_embeddings()\n",
      "     44         meta_repr, bsz = {}, embed.size(0)\n",
      "     45 \n",
      "---> 46         for m_key, m_args in meta_kwargs.items():\n",
      "     47             n_meta = m_args['data2ptr'].max()\n",
      "     48             assert torch.all(m_args['data2ptr'] == n_meta), f'All datapoints should have same number of metadata.'\n",
      "\n"
     ]
    },
    {
     "name": "stdin",
     "output_type": "stream",
     "text": [
      "ipdb>  n\n"
     ]
    },
    {
     "name": "stdout",
     "output_type": "stream",
     "text": [
      "> /tmp/ipykernel_38498/1294998010.py(47)fuse_meta_into_embeddings()\n",
      "     45 \n",
      "     46         for m_key, m_args in meta_kwargs.items():\n",
      "---> 47             n_meta = m_args['data2ptr'].max()\n",
      "     48             assert torch.all(m_args['data2ptr'] == n_meta), f'All datapoints should have same number of metadata.'\n",
      "     49 \n",
      "\n"
     ]
    },
    {
     "name": "stdin",
     "output_type": "stream",
     "text": [
      "ipdb>  m_key\n"
     ]
    },
    {
     "name": "stdout",
     "output_type": "stream",
     "text": [
      "'lnk2data'\n"
     ]
    },
    {
     "name": "stdin",
     "output_type": "stream",
     "text": [
      "ipdb>  n\n"
     ]
    },
    {
     "name": "stdout",
     "output_type": "stream",
     "text": [
      "> /tmp/ipykernel_38498/1294998010.py(48)fuse_meta_into_embeddings()\n",
      "     46         for m_key, m_args in meta_kwargs.items():\n",
      "     47             n_meta = m_args['data2ptr'].max()\n",
      "---> 48             assert torch.all(m_args['data2ptr'] == n_meta), f'All datapoints should have same number of metadata.'\n",
      "     49 \n",
      "     50             m_input_ids, m_attention_mask = m_args['input_ids'], m_args['attention_mask']\n",
      "\n"
     ]
    },
    {
     "name": "stdin",
     "output_type": "stream",
     "text": [
      "ipdb>  \n"
     ]
    },
    {
     "name": "stdout",
     "output_type": "stream",
     "text": [
      "> /tmp/ipykernel_38498/1294998010.py(50)fuse_meta_into_embeddings()\n",
      "     48             assert torch.all(m_args['data2ptr'] == n_meta), f'All datapoints should have same number of metadata.'\n",
      "     49 \n",
      "---> 50             m_input_ids, m_attention_mask = m_args['input_ids'], m_args['attention_mask']\n",
      "     51             m_embed = self.meta_encode(input_ids=m_input_ids, attention_mask=m_attention_mask)\n",
      "     52             meta_repr[m_key] = m_embed\n",
      "\n"
     ]
    },
    {
     "name": "stdin",
     "output_type": "stream",
     "text": [
      "ipdb>  \n"
     ]
    },
    {
     "name": "stdout",
     "output_type": "stream",
     "text": [
      "> /tmp/ipykernel_38498/1294998010.py(51)fuse_meta_into_embeddings()\n",
      "     49 \n",
      "     50             m_input_ids, m_attention_mask = m_args['input_ids'], m_args['attention_mask']\n",
      "---> 51             m_embed = self.meta_encode(input_ids=m_input_ids, attention_mask=m_attention_mask)\n",
      "     52             meta_repr[m_key] = m_embed\n",
      "     53 \n",
      "\n"
     ]
    },
    {
     "name": "stdin",
     "output_type": "stream",
     "text": [
      "ipdb>  m_input_ids.shape\n"
     ]
    },
    {
     "name": "stdout",
     "output_type": "stream",
     "text": [
      "torch.Size([15, 14])\n"
     ]
    },
    {
     "name": "stdin",
     "output_type": "stream",
     "text": [
      "ipdb>  m_attention_mask.shape\n"
     ]
    },
    {
     "name": "stdout",
     "output_type": "stream",
     "text": [
      "torch.Size([15, 14])\n"
     ]
    },
    {
     "name": "stdin",
     "output_type": "stream",
     "text": [
      "ipdb>  q\n"
     ]
    }
   ],
   "source": [
    "o = model(**b.to(model.device))"
   ]
  },
  {
   "cell_type": "code",
   "execution_count": null,
   "id": "a03d6688-ece4-4b2f-a9f4-85b3dfb13be1",
   "metadata": {},
   "outputs": [
    {
     "data": {
      "text/plain": [
       "tensor(0.0615, grad_fn=<AddBackward0>)"
      ]
     },
     "execution_count": null,
     "metadata": {},
     "output_type": "execute_result"
    }
   ],
   "source": [
    "o.loss"
   ]
  },
  {
   "cell_type": "markdown",
   "id": "2a97c822-b55c-4a87-8e83-5e4c8c8b8429",
   "metadata": {
    "jp-MarkdownHeadingCollapsed": true
   },
   "source": [
    "## `OAK007`"
   ]
  },
  {
   "cell_type": "code",
   "execution_count": null,
   "id": "3b6ca515-e5ad-44d2-93f9-ad9f53eaf1c7",
   "metadata": {},
   "outputs": [],
   "source": [
    "#| export\n",
    "class OAK007(OAK003, DistilBertPreTrainedModel):\n",
    "    \n",
    "    @delegates(OAK003.__init__)\n",
    "    def __init__(\n",
    "        self, \n",
    "        config,\n",
    "        n_labels:int,\n",
    "        n_clusters:int,\n",
    "        **kwargs\n",
    "    ):\n",
    "        super().__init__(config, **kwargs)\n",
    "        self.label_embeddings = nn.Embedding(n_clusters, config.dim)\n",
    "        self.register_buffer(\"label_cluster_mapping\", torch.arange(n_labels)%n_clusters, persistent=True)\n",
    "        self.post_init(); self.remap_post_init();\n",
    "\n",
    "    def init_label_embeddings(self):\n",
    "        torch.nn.init.zeros_(self.label_embeddings.weight)\n",
    "\n",
    "    def set_label_embeddings(self, embed:torch.Tensor):\n",
    "        with torch.no_grad():\n",
    "            self.label_embeddings.weight.copy_(embed)\n",
    "\n",
    "    def set_label_cluster_mapping(self, label_cluster_mapping:torch.Tensor):\n",
    "        if self.label_cluster_mapping.shape[0] != label_cluster_mapping.shape[0]:\n",
    "            raise ValueError(f'Shape mismatch, `label_cluster_mapping` should have {self.label_cluster_mapping.shape[0]} elements.')\n",
    "        with torch.no_grad():\n",
    "            self.label_cluster_mapping.copy_(label_cluster_mapping)\n",
    "\n",
    "    def get_label_representation(\n",
    "        self,\n",
    "        data_idx:Optional[torch.Tensor]=None,\n",
    "        data_input_ids:Optional[torch.Tensor]=None,\n",
    "        data_attention_mask:Optional[torch.Tensor]=None,\n",
    "        **kwargs\n",
    "    ):\n",
    "        if self.use_encoder_parallel: \n",
    "            encoder = XCDataParallel(module=self.encoder)\n",
    "        else: encoder = self.encoder\n",
    "        data_o = encoder(data_input_ids=data_input_ids, data_attention_mask=data_attention_mask)\n",
    "        data_o.rep = F.normalize(data_o.rep + self.label_embeddings(self.label_cluster_mapping[data_idx]), dim=1)\n",
    "        return XCModelOutput(\n",
    "            data_repr=data_o.rep,\n",
    "            data_fused_repr=data_o.fused_rep,\n",
    "        )\n",
    "\n",
    "    def forward(\n",
    "        self,\n",
    "        data_idx:Optional[torch.Tensor]=None,\n",
    "        data_input_ids:Optional[torch.Tensor]=None,\n",
    "        data_attention_mask:Optional[torch.Tensor]=None,\n",
    "        lbl2data_data2ptr:Optional[torch.Tensor]=None,\n",
    "        lbl2data_idx:Optional[torch.Tensor]=None,\n",
    "        lbl2data_input_ids:Optional[torch.Tensor]=None,\n",
    "        lbl2data_attention_mask:Optional[torch.Tensor]=None,\n",
    "        plbl2data_data2ptr:Optional[torch.Tensor]=None,\n",
    "        plbl2data_idx:Optional[torch.Tensor]=None,\n",
    "        output_attentions: Optional[bool] = None,\n",
    "        output_hidden_states: Optional[bool] = None,\n",
    "        return_dict: Optional[bool] = None,\n",
    "        **kwargs\n",
    "    ):  \n",
    "        return_dict = return_dict if return_dict is not None else self.config.use_return_dict\n",
    "        \n",
    "        if self.use_encoder_parallel: \n",
    "            encoder = XCDataParallel(module=self.encoder)\n",
    "        else: encoder = self.encoder\n",
    "        \n",
    "        data_meta_kwargs = Parameters.from_feat_meta_aug_prefix('data', self.data_aug_meta_prefix, **kwargs)\n",
    "        data_o = encoder(data_input_ids=data_input_ids, data_attention_mask=data_attention_mask, \n",
    "                         data_aug_meta_prefix=self.data_aug_meta_prefix, **data_meta_kwargs)\n",
    "\n",
    "        loss = None; lbl2data_o = EncoderOutput()\n",
    "        if lbl2data_input_ids is not None:\n",
    "            lbl2data_meta_kwargs = Parameters.from_feat_meta_aug_prefix('lbl2data', self.lbl2data_aug_meta_prefix, **kwargs)\n",
    "            lbl2data_o = encoder(data_input_ids=lbl2data_input_ids, data_attention_mask=lbl2data_attention_mask, \n",
    "                                 data_aug_meta_prefix=self.lbl2data_aug_meta_prefix, **lbl2data_meta_kwargs)\n",
    "            lbl2data_o.rep = F.normalize(lbl2data_o.rep + self.label_embeddings(self.label_cluster_mapping[lbl2data_idx]), dim=1)\n",
    "            \n",
    "            loss = self.compute_loss(data_o.fused_rep, lbl2data_o.rep,lbl2data_data2ptr,lbl2data_idx,\n",
    "                                     plbl2data_data2ptr,plbl2data_idx)\n",
    "\n",
    "            if self.use_query_loss:\n",
    "                loss += self.compute_loss(data_o.rep, lbl2data_o.rep,lbl2data_data2ptr,lbl2data_idx,\n",
    "                                          plbl2data_data2ptr,plbl2data_idx)\n",
    "\n",
    "            if self.use_calib_loss:\n",
    "                loss += self.calibration_loss(data_o.fused_rep, data_o.rep, lbl2data_o.rep,lbl2data_data2ptr,lbl2data_idx,\n",
    "                                              plbl2data_data2ptr,plbl2data_idx)\n",
    "                \n",
    "        if not return_dict:\n",
    "            o = (data_o.logits,data_o.rep,data_o.fused_rep,lbl2data_o.logits,lbl2data_o.rep,lbl2data_o.fused_rep)\n",
    "            return ((loss,) + o) if loss is not None else o\n",
    "\n",
    "        return XCModelOutput(\n",
    "            loss=loss,\n",
    "            \n",
    "            data_repr=data_o.rep,\n",
    "            data_fused_repr=data_o.fused_rep,\n",
    "            \n",
    "            lbl2data_repr=lbl2data_o.rep,\n",
    "            lbl2data_fused_repr=lbl2data_o.fused_rep,\n",
    "        )\n",
    "        "
   ]
  },
  {
   "cell_type": "markdown",
   "id": "e9b4dcd9-8903-4b6c-91f1-77565eb47f35",
   "metadata": {},
   "source": [
    "### Example"
   ]
  },
  {
   "cell_type": "code",
   "execution_count": null,
   "id": "5ead5ba1-b83d-4ddf-abe2-1a1bdc7e6a99",
   "metadata": {},
   "outputs": [
    {
     "name": "stderr",
     "output_type": "stream",
     "text": [
      "Some weights of OAK007 were not initialized from the model checkpoint at sentence-transformers/msmarco-distilbert-base-v4 and are newly initialized: ['encoder.cross_head.k.bias', 'encoder.cross_head.k.weight', 'encoder.cross_head.o.bias', 'encoder.cross_head.o.weight', 'encoder.cross_head.q.bias', 'encoder.cross_head.q.weight', 'encoder.cross_head.v.bias', 'encoder.cross_head.v.weight', 'encoder.dr_head.layer_norm.bias', 'encoder.dr_head.layer_norm.weight', 'encoder.dr_head.projector.bias', 'encoder.dr_head.projector.weight', 'encoder.dr_head.transform.bias', 'encoder.dr_head.transform.weight', 'label_cluster_mapping', 'label_embeddings.weight']\n",
      "You should probably TRAIN this model on a down-stream task to be able to use it for predictions and inference.\n"
     ]
    }
   ],
   "source": [
    "model = OAK007.from_pretrained('sentence-transformers/msmarco-distilbert-base-v4', batch_size=1000, num_batch_labels=5000, \n",
    "                               margin=0.3, num_negatives=10, tau=0.1, apply_softmax=True,\n",
    "                               \n",
    "                               data_aug_meta_prefix='lnk2data', lbl2data_aug_meta_prefix=None, \n",
    "                               data_pred_meta_prefix=None, lbl2data_pred_meta_prefix=None,\n",
    "                               \n",
    "                               calib_margin=0.3, calib_num_negatives=10, calib_tau=0.1, calib_apply_softmax=True, \n",
    "                               calib_loss_weight=0.1, use_calib_loss=False,\n",
    "\n",
    "                               n_labels=block.n_lbl, n_clusters=block.n_lbl//3,hk\n",
    "\n",
    "                               use_query_loss=True,\n",
    "                               \n",
    "                               use_encoder_parallel=False)\n",
    "model.init_retrieval_head()\n",
    "model.init_meta_encoder()\n",
    "model.init_cross_head()\n",
    "\n",
    "model.init_label_embeddings()\n",
    "#model.set_label_cluster_mapping(lbl_remap)"
   ]
  },
  {
   "cell_type": "code",
   "execution_count": null,
   "id": "aa21c34e-7f86-47cf-af60-fd27ca2b766f",
   "metadata": {},
   "outputs": [],
   "source": [
    "model = model.to('cuda')"
   ]
  },
  {
   "cell_type": "code",
   "execution_count": null,
   "id": "1f52cd3f-5fa1-4871-8a8d-1285bfe791b8",
   "metadata": {},
   "outputs": [],
   "source": [
    "b = prepare_batch(model, batch, m_args=[\n",
    "    'plnk2data_idx', 'plnk2data_data2ptr', 'lnk2data_idx', 'lnk2data_input_ids', 'lnk2data_attention_mask', \n",
    "    'lnk2data_data2ptr',\n",
    "])"
   ]
  },
  {
   "cell_type": "code",
   "execution_count": null,
   "id": "c00921c6-9d3f-42ae-be11-387862eacda0",
   "metadata": {},
   "outputs": [
    {
     "name": "stderr",
     "output_type": "stream",
     "text": [
      "/scratch/scai/phd/aiz218323/Projects/xcai/xcai/losses.py:22: UserWarning: Sparse CSR tensor support is in beta state. If you miss a functionality in the sparse tensor support, please submit a feature request to https://github.com/pytorch/pytorch/issues. (Triggered internally at ../aten/src/ATen/SparseCsrTensorImpl.cpp:53.)\n",
      "  return torch.sparse_csr_tensor(data_ptr, data_idx, scores, device=data_ptr.device)\n"
     ]
    }
   ],
   "source": [
    "o = model(**b.to(model.device))"
   ]
  },
  {
   "cell_type": "code",
   "execution_count": null,
   "id": "b9f2e2e0-7e90-4577-a070-b64bcb80c3cc",
   "metadata": {},
   "outputs": [
    {
     "data": {
      "text/plain": [
       "tensor(0.0610, device='cuda:0', grad_fn=<AddBackward0>)"
      ]
     },
     "execution_count": null,
     "metadata": {},
     "output_type": "execute_result"
    }
   ],
   "source": [
    "o.loss"
   ]
  },
  {
   "cell_type": "code",
   "execution_count": null,
   "id": "7eead91f-d39f-4dd8-b312-cfe059012aba",
   "metadata": {},
   "outputs": [],
   "source": []
  }
 ],
 "metadata": {
  "kernelspec": {
   "display_name": "Python 3 (ipykernel)",
   "language": "python",
   "name": "python3"
  },
  "language_info": {
   "codemirror_mode": {
    "name": "ipython",
    "version": 3
   },
   "file_extension": ".py",
   "mimetype": "text/x-python",
   "name": "python",
   "nbconvert_exporter": "python",
   "pygments_lexer": "ipython3",
   "version": "3.10.16"
  }
 },
 "nbformat": 4,
 "nbformat_minor": 5
}
