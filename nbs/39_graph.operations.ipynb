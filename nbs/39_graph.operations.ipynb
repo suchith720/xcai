{
 "cells": [
  {
   "cell_type": "markdown",
   "id": "f2026221-1f2a-4a6d-adfd-bc68cf63b98e",
   "metadata": {},
   "source": [
    "# Random walk"
   ]
  },
  {
   "cell_type": "code",
   "execution_count": 2,
   "id": "981286d7-7895-44b9-8413-6646c6054e9d",
   "metadata": {},
   "outputs": [],
   "source": [
    "#| default_exp graph.operations"
   ]
  },
  {
   "cell_type": "code",
   "execution_count": 76,
   "id": "cbbd7441-df23-4498-9b52-48e35308c8c9",
   "metadata": {},
   "outputs": [],
   "source": [
    "#| export\n",
    "import scipy.sparse as sp, numpy as np\n",
    "\n",
    "from typing import Optional, List\n",
    "from tqdm.auto import tqdm\n",
    "from functools import partial\n",
    "from xclib.utils.sparse import retain_topk"
   ]
  },
  {
   "cell_type": "code",
   "execution_count": 77,
   "id": "9fcc5ac6-e231-4489-92ae-1f3cbb58b23d",
   "metadata": {},
   "outputs": [],
   "source": [
    "#| export\n",
    "class Graph:\n",
    "\n",
    "    @staticmethod\n",
    "    def batched_random_walk(\n",
    "        data_lbl_indptr:List,\n",
    "        data_lbl_indices:List,\n",
    "        lbl_data_indptr:List,\n",
    "        lbl_data_indices:List,\n",
    "        data_start:int, \n",
    "        data_end:int,\n",
    "        n_lbl:int,\n",
    "        walk_to:Optional[int]=100, \n",
    "        prob_reset:Optional[float]=0.8, \n",
    "        n_hops:Optional[int]=1,\n",
    "    ):\n",
    "        n_data = data_end - data_start\n",
    "        \n",
    "        nbr_indices = np.zeros((n_data, walk_to), dtype=np.int32)\n",
    "        nbr_data = np.zeros((n_data, walk_to), dtype=np.float32)\n",
    "        for i in range(n_data):\n",
    "            data_i = i + data_start\n",
    "            for j in range(walk_to):\n",
    "                p,q = data_lbl_indptr[data_i], data_lbl_indptr[data_i+1]\n",
    "                if p == q: continue\n",
    "                lbl_i = np.random.choice(data_lbl_indices[p:q])\n",
    "                \n",
    "                p,q = lbl_data_indptr[lbl_i], lbl_data_indptr[lbl_i+1]\n",
    "                if p == q: continue\n",
    "                data_i = np.random.choice(lbl_data_indices[p:q])\n",
    "        \n",
    "                nbr_indices[i, j] = data_i if n_hops == 2 else lbl_i\n",
    "                nbr_data[i, j] = 1.0\n",
    "                if np.random.random() < prob_reset: data_i = i + data_start\n",
    "                \n",
    "        nbr_indptr = np.arange(0, walk_to*(n_data+1), walk_to)\n",
    "        \n",
    "        matrix = sp.csr_matrix((nbr_data.flatten(), nbr_indices.flatten(), nbr_indptr), shape=(n_data, n_lbl), dtype=np.float32)\n",
    "        matrix.eliminate_zeros()\n",
    "        matrix.sum_duplicates()\n",
    "        matrix.sort_indices()\n",
    "    \n",
    "        return matrix\n",
    "\n",
    "    @staticmethod\n",
    "    def random_walk(\n",
    "        data_lbl:sp.csr_matrix, \n",
    "        walk_to:Optional[int]=100, \n",
    "        batch_size:Optional[int]=1024, \n",
    "        prob_reset:Optional[float]=0.8, \n",
    "        n_hops:Optional[int]=1,\n",
    "    ):\n",
    "        lbl_data = data_lbl.transpose()\n",
    "        lbl_data = lbl_data.tocsr()\n",
    "    \n",
    "        data_lbl_indptr, data_lbl_indices = data_lbl.indptr, data_lbl.indices\n",
    "        lbl_data_indptr, lbl_data_indices = lbl_data.indptr, lbl_data.indices\n",
    "    \n",
    "        n_lbl = data_lbl.shape[0] if n_hops == 2 else data_lbl.shape[1]\n",
    "    \n",
    "        walk_func = partial(Graph.batched_random_walk, data_lbl_indptr=data_lbl_indptr, data_lbl_indices=data_lbl_indices, \n",
    "                            lbl_data_indptr=lbl_data_indptr, lbl_data_indices=lbl_data_indices, walk_to=walk_to, prob_reset=prob_reset, \n",
    "                            n_hops=n_hops, n_lbl=n_lbl)\n",
    "        \n",
    "        return sp.vstack([walk_func(data_start=i, data_end=min(i+batch_size, data_lbl.shape[0])) for i in tqdm(range(0, data_lbl.shape[0], batch_size))])\n",
    "\n",
    "    @staticmethod\n",
    "    def one_hop_matrix(data_lbl:sp.csr_matrix, batch_size:int=1024, topk:Optional[int]=None):\n",
    "        data_lbl_t = data_lbl.transpose().tocsr()\n",
    "        lbl_lbl = sp.vstack([data_lbl_t[i:i+batch_size]@data_lbl for i in tqdm(range(0, data_lbl_t.shape[0], batch_size))])\n",
    "        data_lbl = sp.vstack([data_lbl[i:i+batch_size]@lbl_lbl for i in tqdm(range(0, data_lbl.shape[0], batch_size))])\n",
    "        lbl_lbl.sort_indices()\n",
    "        data_lbl.sort_indices()\n",
    "        if topk is not None:\n",
    "            data_lbl, lbl_lbl = retain_topk(data_lbl, k=topk), retain_topk(lbl_lbl, k=topk)\n",
    "        return data_lbl, lbl_lbl\n",
    "\n",
    "    @staticmethod\n",
    "    def threshold_on_degree(data_lbl:sp.csr_matrix, thresh:int=10):\n",
    "        data_lbl = data_lbl.copy()\n",
    "        idx = np.where(data_lbl.getnnz(axis=1) > thresh)[0]\n",
    "        for i in idx:\n",
    "            p,q = data_lbl.indptr[i],data_lbl.indptr[i+1]\n",
    "            data_lbl.data[p:q] = 0\n",
    "        data_lbl.eliminate_zeros()\n",
    "        return data_lbl\n",
    "\n",
    "    @staticmethod\n",
    "    def normalize(mat):\n",
    "        col_nnz = np.sqrt(1/(mat.sum(axis=0) + 1e-6))\n",
    "        row_nnz = np.sqrt(1/(mat.sum(axis=1)+ 1e-6))\n",
    "        mat = r_diags.multiply(row_nnz).multiply(col_nnz)\n",
    "        mat.tocsr(); mat.eliminate_zeros()\n",
    "        return mat\n",
    "        "
   ]
  },
  {
   "cell_type": "code",
   "execution_count": 98,
   "id": "e9be3ed7-c4a2-4af7-ab35-f6b0534f0e1f",
   "metadata": {},
   "outputs": [],
   "source": [
    "#| export\n",
    "def perform_random_walk(\n",
    "    data_lbl:sp.csr_matrix, \n",
    "    batch_size:Optional[int]=1024, \n",
    "    walk_to:Optional[int]=100, \n",
    "    prob_reset:Optional[float]=0.8, \n",
    "    n_hops:Optional[int]=2,\n",
    "    thresh:Optional[int]=10,\n",
    "):\n",
    "    data_lbl = Graph.threshold_on_degree(data_lbl, thresh=thresh)\n",
    "    data_lbl = Graph.random_walk(data_lbl, walk_to=walk_to, batch_size=batch_size, prob_reset=prob_reset, n_hops=n_hops)\n",
    "    data_lbl = data_lbl / (data_lbl.sum(axis=1) + 1e-9)\n",
    "    data_lbl = data_lbl.tocsr()\n",
    "    return data_lbl\n",
    "    "
   ]
  },
  {
   "cell_type": "markdown",
   "id": "95e88808-7737-498a-9bfc-a5fdde18a029",
   "metadata": {},
   "source": [
    "## `Example`"
   ]
  },
  {
   "cell_type": "code",
   "execution_count": null,
   "id": "bd3cb696-929f-4d19-a0ef-0e78e87cbcfa",
   "metadata": {},
   "outputs": [],
   "source": [
    "from xcai.basics import *"
   ]
  },
  {
   "cell_type": "code",
   "execution_count": null,
   "id": "74a301de-65e8-4768-b4f0-81cdda5c94ab",
   "metadata": {},
   "outputs": [],
   "source": [
    "pickle_dir = '/home/scai/phd/aiz218323/scratch/datasets/processed'\n",
    "use_sxc_sampler = True\n",
    "\n",
    "data_dir = '/home/scai/phd/aiz218323/scratch/datasets/benchmarks/'\n",
    "config_file = 'wikiseealsotitles'\n",
    "config_key = 'data_meta'\n",
    "\n",
    "pkl_file = f'{pickle_dir}/cachew/wikiseealsotitles_data-meta_distilbert-base-uncased'\n",
    "pkl_file = f'{pkl_file}_sxc' if use_sxc_sampler else f'{pkl_file}_xcs'\n",
    "pkl_file = f'{pkl_file}.joblib'"
   ]
  },
  {
   "cell_type": "code",
   "execution_count": null,
   "id": "672d0180-38d3-4c8a-ab41-173425a4f50f",
   "metadata": {},
   "outputs": [],
   "source": [
    "block = build_block(pkl_file, config_file, use_sxc_sampler, config_key, data_dir=data_dir)"
   ]
  },
  {
   "cell_type": "code",
   "execution_count": null,
   "id": "ec6d06b8-bf8a-4b60-9b51-04607712489b",
   "metadata": {},
   "outputs": [],
   "source": []
  },
  {
   "cell_type": "code",
   "execution_count": 101,
   "id": "aeae3c19-523a-4416-83b0-fd18e5be0016",
   "metadata": {},
   "outputs": [],
   "source": [
    "batch_size = 1024\n",
    "walk_to = 100\n",
    "prob_reset = 0.8\n",
    "n_hops = 1\n",
    "thresh = 10"
   ]
  },
  {
   "cell_type": "code",
   "execution_count": 102,
   "id": "9fb4953c-69a7-4302-b33b-ad33676a6f37",
   "metadata": {},
   "outputs": [],
   "source": [
    "data_lbl = block.train.dset.data.data_lbl"
   ]
  },
  {
   "cell_type": "code",
   "execution_count": 103,
   "id": "846f5314-bc32-456d-829a-94b2505a8c2e",
   "metadata": {},
   "outputs": [
    {
     "data": {
      "application/vnd.jupyter.widget-view+json": {
       "model_id": "ffe3fb58c17d43babc237904ed5eb12d",
       "version_major": 2,
       "version_minor": 0
      },
      "text/plain": [
       "  0%|          | 0/677 [00:00<?, ?it/s]"
      ]
     },
     "metadata": {},
     "output_type": "display_data"
    }
   ],
   "source": [
    "matrix = perform_random_walk(data_lbl, batch_size=batch_size, walk_to=walk_to, prob_reset=prob_reset, n_hops=n_hops, thresh=thresh)"
   ]
  },
  {
   "cell_type": "code",
   "execution_count": 104,
   "id": "9444fdf4-4999-4c85-b747-ba3c8033502b",
   "metadata": {},
   "outputs": [
    {
     "data": {
      "text/plain": [
       "<Compressed Sparse Row sparse matrix of dtype 'float32'\n",
       "\twith 3830241 stored elements and shape (693082, 312330)>"
      ]
     },
     "execution_count": 104,
     "metadata": {},
     "output_type": "execute_result"
    }
   ],
   "source": [
    "matrix"
   ]
  },
  {
   "cell_type": "code",
   "execution_count": null,
   "id": "22d04e5a-2e90-4622-b396-58c4cbd2aaec",
   "metadata": {},
   "outputs": [],
   "source": []
  },
  {
   "cell_type": "code",
   "execution_count": null,
   "id": "2e85ac0f-9fc1-4bca-8835-185fe474770a",
   "metadata": {},
   "outputs": [],
   "source": []
  }
 ],
 "metadata": {
  "kernelspec": {
   "display_name": "Python 3 (ipykernel)",
   "language": "python",
   "name": "python3"
  },
  "language_info": {
   "codemirror_mode": {
    "name": "ipython",
    "version": 3
   },
   "file_extension": ".py",
   "mimetype": "text/x-python",
   "name": "python",
   "nbconvert_exporter": "python",
   "pygments_lexer": "ipython3",
   "version": "3.10.16"
  }
 },
 "nbformat": 4,
 "nbformat_minor": 5
}
