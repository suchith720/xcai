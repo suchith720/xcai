{
 "cells": [
  {
   "cell_type": "markdown",
   "id": "f2026221-1f2a-4a6d-adfd-bc68cf63b98e",
   "metadata": {},
   "source": [
    "# Random walk"
   ]
  },
  {
   "cell_type": "code",
   "execution_count": null,
   "id": "981286d7-7895-44b9-8413-6646c6054e9d",
   "metadata": {},
   "outputs": [],
   "source": [
    "#| default_exp graph.random_walk"
   ]
  },
  {
   "cell_type": "code",
   "execution_count": null,
   "id": "cbbd7441-df23-4498-9b52-48e35308c8c9",
   "metadata": {},
   "outputs": [],
   "source": [
    "#| export\n",
    "import scipy.sparse as sp, numpy as np\n",
    "\n",
    "from sklearn.preprocessing import normalize\n",
    "from xclib.utils import sparse as xs\n",
    "from numba import njit, prange\n",
    "from xclib.utils import graph\n",
    "from tqdm.auto import tqdm\n"
   ]
  },
  {
   "cell_type": "code",
   "execution_count": null,
   "id": "b5509468-d39a-43b4-aebe-69d444033e53",
   "metadata": {},
   "outputs": [],
   "source": [
    "#| export\n",
    "def normalize_graph(mat):\n",
    "    col_nnz = np.sqrt(1/(np.ravel(mat.sum(axis=0))+1e-6))\n",
    "    row_nnz = np.sqrt(1/(np.ravel(mat.sum(axis=1))+1e-6))\n",
    "    c_diags = sp.diags(col_nnz)\n",
    "    r_diags = sp.diags(row_nnz)\n",
    "    mat = r_diags.dot(mat).dot(c_diags)\n",
    "    mat.eliminate_zeros()\n",
    "    return mat\n",
    "    "
   ]
  },
  {
   "cell_type": "code",
   "execution_count": null,
   "id": "ec54c447-4768-408c-91dd-8f1abee7c99f",
   "metadata": {},
   "outputs": [],
   "source": [
    "#| export\n",
    "def clean_graphs(min_freq=2, max_freq=100, *graphs):\n",
    "    smats = sp.vstack([graph.data for graph in graphs], \"csr\")\n",
    "    node_freq = np.ravel(smats.getnnz(axis=0))\n",
    "    num_nodes = node_freq.size\n",
    "    keep_nodes = np.ones(num_nodes)\n",
    "    keep_nodes[node_freq > max_freq] = 0\n",
    "    keep_nodes[node_freq <= min_freq] = 0\n",
    "    diag = sp.diags(keep_nodes, shape=(num_nodes, num_nodes))\n",
    "    for i in range(len(graphs)):\n",
    "        graphs[i].data = graphs[i].data.dot(diag)\n",
    "        graphs[i].data.eliminate_zeros()\n",
    "    return graphs\n",
    "    "
   ]
  },
  {
   "cell_type": "code",
   "execution_count": null,
   "id": "45b31c63-c389-4379-a598-b6f828c41458",
   "metadata": {},
   "outputs": [],
   "source": [
    "#| export\n",
    "def Prune(G, R, C, batch_size=1024, normalize=True):\n",
    "    R = normalize(R)\n",
    "    C = normalize(C)\n",
    "    rows, cols = G.nonzero()\n",
    "    _nnz = G.nnz\n",
    "    data = np.zeros(_nnz)\n",
    "    for start in tqdm(np.arange(0, _nnz, batch_size), desc=\"Pruning\"):\n",
    "        end = min(start + batch_size, _nnz)\n",
    "        _R = R[rows[start:end]]\n",
    "        _C = C[cols[start:end]]\n",
    "        data[start:end] = np.ravel(np.sum(_R*_C, axis=1))\n",
    "    data[data < 0] = 0\n",
    "    OG = sp.csr_matrix((data, (rows, cols)), shape=G.shape)\n",
    "    OG.eliminate_zeros()\n",
    "    csr_stats(OG, \"GRAPH\")\n",
    "    if normalize:\n",
    "        OG = normalize_graph(OG)\n",
    "    return OG\n",
    "    "
   ]
  },
  {
   "cell_type": "code",
   "execution_count": null,
   "id": "5afbd159-6ea3-44aa-8e23-53cb0719b1fd",
   "metadata": {},
   "outputs": [],
   "source": [
    "#| export\n",
    "def print_stats(mat, k=10):\n",
    "    _mat = mat.copy()\n",
    "    _mat.__dict__['data'][:] = 1\n",
    "    freqs = _mat.sum(axis=1)\n",
    "    print(np.max(freqs), np.min(freqs), np.std(freqs))\n",
    "    "
   ]
  },
  {
   "cell_type": "markdown",
   "id": "95e88808-7737-498a-9bfc-a5fdde18a029",
   "metadata": {},
   "source": [
    "## `Random walk`"
   ]
  },
  {
   "cell_type": "code",
   "execution_count": null,
   "id": "cadc116f-cafa-41f1-885d-1b1835844501",
   "metadata": {},
   "outputs": [],
   "source": [
    "#| export\n",
    "@njit(parallel=True, nogil=True)\n",
    "def _random_walk(data_lbl_indices:np.ndarray, data_lbl_indptr:np.ndarray, lbl_data_indices:np.ndarray, lbl_data_indptr:np.ndarray, \n",
    "                 walk_to:int, p_reset:float, hops_per_step:int, start:int, end:int):\n",
    "    n_data = end - start\n",
    "    nbr_idx = np.zeros((n_data, walk_to), dtype=np.int32)\n",
    "    nbr_data = np.zeros((n_data, walk_to), dtype=np.float32)\n",
    "    \n",
    "    for idx in range(0, n_data):\n",
    "        for walk in np.arange(0, walk_to):\n",
    "            p = np.random.random()\n",
    "            if walk == 0 or p < p_reset: data_i = idx + start\n",
    "        \n",
    "            data_start, data_end = data_lbl_indptr[data_i], data_lbl_indptr[data_i+1]\n",
    "            if data_start - data_end == 0: continue\n",
    "                \n",
    "            lbl_i = np.random.choice(data_lbl_indices[data_start: data_end])\n",
    "            \n",
    "            lbl_start, lbl_end = lbl_data_indptr[lbl_i], lbl_data_indptr[lbl_i+1]\n",
    "            data_i = np.random.choice(lbl_data_indices[lbl_start: lbl_end])\n",
    "            \n",
    "            nbr_idx[idx, walk] = data_i if hops_per_step == 2 else lbl_i\n",
    "            nbr_data[idx, walk] = 1\n",
    "            \n",
    "    return nbr_idx.flatten(), nbr_data.flatten()\n"
   ]
  },
  {
   "cell_type": "code",
   "execution_count": null,
   "id": "1e6f4ffb-cbd4-423c-9eaa-f45c28ac8461",
   "metadata": {},
   "outputs": [],
   "source": [
    "#| export\n",
    "class PrunedWalk(graph.RandomWalk):\n",
    "    \n",
    "    def __init__(self, data_lbl):\n",
    "        self.data_lbl = data_lbl.tocsr()\n",
    "        self.data_lbl.sort_indices()\n",
    "        self.data_lbl.eliminate_zeros()\n",
    "\n",
    "    def simulate(self, walk_to=100, p_reset=0.2, k=None, hops_per_step=2, b_size=1000):\n",
    "        assert hops_per_step == 1 or hops_per_step == 2, f\"Invalid hops per step: {hops_per_step}\"\n",
    "        \n",
    "        data_lbl_indices = self.data_lbl.indices\n",
    "        data_lbl_indptr = self.data_lbl.indptr\n",
    "        \n",
    "        lbl_data = self.data_lbl.transpose().tocsr()\n",
    "        lbl_data.sort_indices()\n",
    "        lbl_data.eliminate_zeros()\n",
    "        lbl_data_indices = lbl_data.indices\n",
    "        lbl_data_indptr = lbl_data.indptr\n",
    "\n",
    "        n_data = self.data_lbl.shape[0]\n",
    "        n_lbl = self.data_lbl.shape[hops_per_step % 2]\n",
    "        \n",
    "        walks = list()\n",
    "        for idx in tqdm(range(0, n_data, b_size)):\n",
    "            start, end = idx, min(idx+b_size, n_data)\n",
    "            cols, data = _random_walk(data_lbl_indices, data_lbl_indptr, lbl_data_indices, lbl_data_indptr, \n",
    "                                      walk_to, p_reset, hops_per_step, start=start, end=end)\n",
    "            \n",
    "            rows = np.arange(end-start).reshape(-1, 1)\n",
    "            rows = np.repeat(rows, walk_to, axis=1).flatten()\n",
    "            \n",
    "            walk = sp.coo_matrix((data, (rows, cols)), dtype=np.float32, shape=(end-start, n_lbl))\n",
    "            walk.sum_duplicates()\n",
    "            walk = walk.tocsr()\n",
    "            walk.sort_indices()\n",
    "            \n",
    "            if k is not None: walk = xs.retain_topk(walk, k=k).tocsr()\n",
    "                \n",
    "            walks.append(walk)\n",
    "            del rows, cols\n",
    "            \n",
    "        return sp.vstack(walks, \"csr\")\n"
   ]
  },
  {
   "cell_type": "code",
   "execution_count": null,
   "id": "a3ceca71-341d-490d-8e2f-b7c04cc6adf5",
   "metadata": {},
   "outputs": [],
   "source": [
    "#| export\n",
    "def remove_cols(matrix, idx):\n",
    "    num_cols = matrix.shape[1]\n",
    "    col_mask = np.ones(num_cols, dtype=np.int32)\n",
    "    col_mask[idx] = 0\n",
    "    mask = sp.diags(col_mask, shape=(num_cols, num_cols))\n",
    "    return matrix.dot(mask).tocsr()\n"
   ]
  },
  {
   "cell_type": "code",
   "execution_count": null,
   "id": "df3cba2f-586c-47fa-b6e9-39368ce5d7cc",
   "metadata": {},
   "outputs": [],
   "source": [
    "#| export\n",
    "def remove_rows(matrix, idx):\n",
    "    num_rows = matrix.shape[0]\n",
    "    row_mask = np.ones(num_rows, dtype=np.int32)\n",
    "    row_mask[idx] = 0\n",
    "    mask = sp.diags(row_mask, shape=(num_rows, num_rows))\n",
    "    return mask.dot(matrix).tocsr()\n",
    "    "
   ]
  },
  {
   "cell_type": "code",
   "execution_count": null,
   "id": "0f586e16-d5bc-46c6-97aa-20c8c0cb29f4",
   "metadata": {},
   "outputs": [],
   "source": []
  },
  {
   "cell_type": "code",
   "execution_count": null,
   "id": "a4ec6a6e-aa98-46a9-882e-6bb657f22138",
   "metadata": {},
   "outputs": [],
   "source": [
    "#| export\n",
    "def random_walk(matrix, row_head_thresh=500, col_head_thresh=500, walk_length=400, p_reset=0.8, topk=10, batch_size=1023):\n",
    "    matrix = matrix.tocsr()\n",
    "    \n",
    "    idxs = np.where(matrix.getnnz(axis=1) > row_head_thresh)[0]\n",
    "    pruned_matrix = remove_rows(matrix, idxs) if len(idxs) > 0 else matrix\n",
    "        \n",
    "    idxs = np.where(matrix.getnnz(axis=0) > col_head_thresh)[0]\n",
    "    if len(idxs) > 0: pruned_matrix = remove_cols(pruned_matrix, idxs)\n",
    "    \n",
    "    return PrunedWalk(pruned_matrix).simulate(walk_length, p_reset, topk, 2, batch_size)\n",
    "    "
   ]
  },
  {
   "cell_type": "code",
   "execution_count": null,
   "id": "893f0b12-54e2-41b0-88c8-ac002195c022",
   "metadata": {},
   "outputs": [],
   "source": []
  },
  {
   "cell_type": "code",
   "execution_count": null,
   "id": "aeae3c19-523a-4416-83b0-fd18e5be0016",
   "metadata": {},
   "outputs": [],
   "source": [
    "from scipy.sparse.csgraph import connected_components"
   ]
  },
  {
   "cell_type": "code",
   "execution_count": null,
   "id": "c671c8ed-7918-427a-971f-83bba0e84133",
   "metadata": {},
   "outputs": [],
   "source": [
    "data_dir = '/home/scai/phd/aiz218323/scratch/outputs/mogicX/01-msmarco-llama-entity-linker-002/predictions/'\n",
    "matrix = sp.load_npz(f'{data_dir}/test_predictions_full.npz')"
   ]
  },
  {
   "cell_type": "code",
   "execution_count": null,
   "id": "fbcc986b-1063-4156-b23a-4ef92fa3a4ef",
   "metadata": {},
   "outputs": [],
   "source": []
  },
  {
   "cell_type": "code",
   "execution_count": null,
   "id": "5a78bd41-7cc1-43ce-b395-663bec7e1795",
   "metadata": {},
   "outputs": [],
   "source": [
    "matrix = sp.csr_matrix([[1, 1, 1, 0, 0, 0, 0, 0], \n",
    "                        [1, 1, 0, 0, 0, 0, 0, 0], \n",
    "                        [1, 0, 1, 0, 0, 0, 0, 0], \n",
    "                        [0, 0, 0, 1, 1, 0, 0, 0], \n",
    "                        [0, 0, 0, 1, 1, 0, 1, 0], \n",
    "                        [0, 0, 0, 0, 0, 1, 0, 1], \n",
    "                        [0, 0, 0, 0, 1, 0, 1, 1], \n",
    "                        [0, 0, 0, 0, 0, 1, 1, 1]])"
   ]
  },
  {
   "cell_type": "code",
   "execution_count": null,
   "id": "0418f9a0-3466-4563-997e-75cba92ffd9f",
   "metadata": {},
   "outputs": [],
   "source": []
  },
  {
   "cell_type": "code",
   "execution_count": null,
   "id": "88ebd197-cec3-420c-92a2-6abcf94b3ac4",
   "metadata": {},
   "outputs": [
    {
     "data": {
      "application/vnd.jupyter.widget-view+json": {
       "model_id": "49c48475a3324012965c2fe5ed2048b1",
       "version_major": 2,
       "version_minor": 0
      },
      "text/plain": [
       "  0%|          | 0/1 [00:00<?, ?it/s]"
      ]
     },
     "metadata": {},
     "output_type": "display_data"
    }
   ],
   "source": [
    "rnd_mat = random_walk(matrix, row_head_thresh=2, col_head_thresh=2)"
   ]
  },
  {
   "cell_type": "code",
   "execution_count": null,
   "id": "54d2d888-163f-4d06-80a9-f996bf833535",
   "metadata": {},
   "outputs": [],
   "source": []
  },
  {
   "cell_type": "code",
   "execution_count": null,
   "id": "37ffa012-f8b1-49ec-9cb9-4a947bf4b834",
   "metadata": {},
   "outputs": [
    {
     "data": {
      "text/plain": [
       "array([0, 0, 0, 1, 1, 1, 1, 1], dtype=int32)"
      ]
     },
     "execution_count": null,
     "metadata": {},
     "output_type": "execute_result"
    }
   ],
   "source": [
    "n_components, labels = connected_components(matrix, directed=False, return_labels=True); labels"
   ]
  },
  {
   "cell_type": "code",
   "execution_count": null,
   "id": "515d9320-70d3-49a5-9743-9e2f7cd8a503",
   "metadata": {},
   "outputs": [],
   "source": []
  },
  {
   "cell_type": "code",
   "execution_count": null,
   "id": "02beb5a6-dbb1-4f77-bb9a-fb657d8fab4c",
   "metadata": {},
   "outputs": [
    {
     "data": {
      "text/plain": [
       "array([0, 0, 0, 1, 1, 1, 1, 1], dtype=int32)"
      ]
     },
     "execution_count": null,
     "metadata": {},
     "output_type": "execute_result"
    }
   ],
   "source": [
    "n_components, labels = connected_components(rnd_mat, directed=False, return_labels=True); labels"
   ]
  },
  {
   "cell_type": "code",
   "execution_count": null,
   "id": "7c7f9603-784b-4500-bd0d-73fb4875fd28",
   "metadata": {},
   "outputs": [],
   "source": []
  },
  {
   "cell_type": "code",
   "execution_count": null,
   "id": "bb6e903a-48cc-47ad-b718-a29a09ea894a",
   "metadata": {},
   "outputs": [
    {
     "data": {
      "text/plain": [
       "array([0, 1, 2, 3, 4, 5, 6, 7], dtype=int32)"
      ]
     },
     "execution_count": null,
     "metadata": {},
     "output_type": "execute_result"
    }
   ],
   "source": [
    "thresh_mat = rnd_mat.multiply(rnd_mat > 150).todense()\n",
    "n_components, labels = connected_components(thresh_mat, directed=False, return_labels=True); labels"
   ]
  },
  {
   "cell_type": "code",
   "execution_count": null,
   "id": "b3898926-1ff6-4009-9afb-c5241d7372b2",
   "metadata": {},
   "outputs": [],
   "source": []
  },
  {
   "cell_type": "code",
   "execution_count": null,
   "id": "25d77b8f-6dfe-4806-8978-75369d9d1772",
   "metadata": {},
   "outputs": [
    {
     "data": {
      "text/plain": [
       "matrix([[  0.,   0.,   0.,   0.,   0.,   0.,   0.,   0.],\n",
       "        [  0., 400.,   0.,   0.,   0.,   0.,   0.,   0.],\n",
       "        [  0.,   0., 400.,   0.,   0.,   0.,   0.,   0.],\n",
       "        [  0.,   0.,   0., 400.,   0.,   0.,   0.,   0.],\n",
       "        [  0.,   0.,   0.,   0.,   0.,   0.,   0.,   0.],\n",
       "        [  0.,   0.,   0.,   0.,   0., 400.,   0.,   0.],\n",
       "        [  0.,   0.,   0.,   0.,   0.,   0.,   0.,   0.],\n",
       "        [  0.,   0.,   0.,   0.,   0.,   0.,   0.,   0.]], dtype=float32)"
      ]
     },
     "execution_count": null,
     "metadata": {},
     "output_type": "execute_result"
    }
   ],
   "source": [
    "rnd_mat.todense()"
   ]
  },
  {
   "cell_type": "code",
   "execution_count": null,
   "id": "9444fdf4-4999-4c85-b747-ba3c8033502b",
   "metadata": {},
   "outputs": [],
   "source": []
  }
 ],
 "metadata": {
  "kernelspec": {
   "display_name": "python3",
   "language": "python",
   "name": "python3"
  }
 },
 "nbformat": 4,
 "nbformat_minor": 5
}
