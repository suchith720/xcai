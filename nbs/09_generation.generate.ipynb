{
 "cells": [
  {
   "cell_type": "code",
   "execution_count": 1,
   "id": "faa3319d-0ed2-4620-881b-815e24d2acfd",
   "metadata": {},
   "outputs": [],
   "source": [
    "#| default_exp generation.generate"
   ]
  },
  {
   "cell_type": "code",
   "execution_count": 2,
   "id": "4a749a72-0d6a-4775-b43b-9bcfe479c433",
   "metadata": {},
   "outputs": [],
   "source": [
    "#| hide\n",
    "%load_ext autoreload\n",
    "%autoreload 2"
   ]
  },
  {
   "cell_type": "code",
   "execution_count": 3,
   "id": "9e8c3605-6356-42af-bc53-ba6ae80df222",
   "metadata": {},
   "outputs": [],
   "source": [
    "#| hide\n",
    "from nbdev.showdoc import *\n",
    "import nbdev; nbdev.nbdev_export()"
   ]
  },
  {
   "cell_type": "code",
   "execution_count": 4,
   "id": "edf9a3eb-4d6c-45f5-a9ef-7792b867ba6b",
   "metadata": {},
   "outputs": [],
   "source": [
    "#| export\n",
    "import torch, math\n",
    "import torch.multiprocessing as mp\n",
    "from multiprocessing import Pool\n",
    "import torch.nn.functional as F\n",
    "from itertools import chain\n",
    "from tqdm.auto import tqdm\n",
    "from typing import Optional, Sequence, Any, Dict, List\n",
    "from dataclasses import dataclass\n",
    "\n",
    "from fastcore.utils import *\n",
    "from fastcore.meta import *\n",
    "from fastcore.parallel import *\n",
    "\n",
    "from xcai.core import *\n",
    "from xcai.transform import *\n",
    "from xcai.generation.trie import *"
   ]
  },
  {
   "cell_type": "code",
   "execution_count": null,
   "id": "f5280f07",
   "metadata": {},
   "outputs": [],
   "source": [
    "import os, torch, numpy as np\n",
    "from typing import Dict, Optional, List, Any\n",
    "from tqdm.auto import tqdm\n",
    "from scipy import stats\n",
    "import scipy.sparse as sp\n",
    "import torch.nn.functional as F\n",
    "from itertools import chain\n",
    "\n",
    "from fastcore.meta import *\n",
    "\n",
    "from xcai.core import *\n",
    "from xcai.data import XCDataBlock"
   ]
  },
  {
   "cell_type": "markdown",
   "id": "7dba7615-60f1-4de9-99c8-d41e9c8616c0",
   "metadata": {},
   "source": [
    "## Setup"
   ]
  },
  {
   "cell_type": "code",
   "execution_count": 5,
   "id": "5ebc5232-b266-4e29-bf8c-ab49625bd3a8",
   "metadata": {},
   "outputs": [],
   "source": [
    "import numpy as np\n",
    "from xcai.block import *\n",
    "from xcai.models.MMM00X import DBT007\n",
    "from xcai.metrics import *"
   ]
  },
  {
   "cell_type": "code",
   "execution_count": 205,
   "id": "110eab55-9fa2-4e5c-9b9a-46383e7f2182",
   "metadata": {},
   "outputs": [
    {
     "name": "stderr",
     "output_type": "stream",
     "text": [
      "/opt/conda/envs/ptca/lib/python3.9/site-packages/huggingface_hub/file_download.py:1132: FutureWarning: `resume_download` is deprecated and will be removed in version 1.0.0. Downloads always resume when possible. If you want to force a new download, use `force_download=True`.\n",
      "  warnings.warn(\n",
      "/opt/conda/envs/ptca/lib/python3.9/site-packages/scipy/sparse/_index.py:146: SparseEfficiencyWarning: Changing the sparsity structure of a csr_matrix is expensive. lil_matrix is more efficient.\n",
      "  self._set_arrayXarray(i, j, x)\n"
     ]
    }
   ],
   "source": [
    "block = XCBlock.from_cfg('/home/aiscuser/scratch/datasets', 'data', tokenizer='distilbert-base-uncased')\n",
    "b, n_lbl = block.train.one_batch(), block.n_lbl"
   ]
  },
  {
   "cell_type": "code",
   "execution_count": 202,
   "id": "48add0d6-cb8c-4640-b20f-219e4f049022",
   "metadata": {},
   "outputs": [
    {
     "name": "stderr",
     "output_type": "stream",
     "text": [
      "Some weights of DBT007 were not initialized from the model checkpoint at /home/aiscuser/scratch/Projects/XC-NLG/models/distilbert-base-uncased_RB33-NAR-1+8-2_(mapped)LF-WikiSeeAlsoTitles-320K/checkpoint-168000 and are newly initialized: ['loss_fn.o']\n",
      "You should probably TRAIN this model on a down-stream task to be able to use it for predictions and inference.\n"
     ]
    }
   ],
   "source": [
    "mname = f'/home/aiscuser/scratch/Projects/XC-NLG/models/distilbert-base-uncased_RB33-NAR-1+8-2_(mapped)LF-WikiSeeAlsoTitles-320K/checkpoint-168000'\n",
    "m = DBT007.from_pretrained(mname, tn_targ=10_000, ig_tok=0)"
   ]
  },
  {
   "cell_type": "code",
   "execution_count": 8,
   "id": "d1c58c02-d0b0-4148-90c6-d5baac3428fe",
   "metadata": {},
   "outputs": [],
   "source": [
    "o = m(**b)"
   ]
  },
  {
   "cell_type": "code",
   "execution_count": 9,
   "id": "61703fd8-3556-4c51-8fd1-470f74432ed5",
   "metadata": {},
   "outputs": [
    {
     "data": {
      "text/plain": [
       "(torch.Size([10, 11, 30522]), 312330)"
      ]
     },
     "execution_count": 9,
     "metadata": {},
     "output_type": "execute_result"
    }
   ],
   "source": [
    "o.logits.shape, len(block.lbl_info['input_ids'])"
   ]
  },
  {
   "cell_type": "code",
   "execution_count": 10,
   "id": "0ff642e5-c1b4-484b-a3e9-2c6e8caebf92",
   "metadata": {},
   "outputs": [
    {
     "data": {
      "application/vnd.jupyter.widget-view+json": {
       "model_id": "b0ecfbe5dfec451d9bd1a364712a9c9d",
       "version_major": 2,
       "version_minor": 0
      },
      "text/plain": [
       "  0%|          | 0/312330 [00:00<?, ?it/s]"
      ]
     },
     "metadata": {},
     "output_type": "display_data"
    }
   ],
   "source": [
    "toks = block.lbl_info['input_ids']\n",
    "info = [[i] for i in range(len(toks))]\n",
    "t = Trie.from_list(toks, info, max_info=20)"
   ]
  },
  {
   "cell_type": "markdown",
   "id": "d8bbe353-1d4b-43a5-8f9b-bcb88f5459c6",
   "metadata": {},
   "source": [
    "## Trie Pointer"
   ]
  },
  {
   "cell_type": "code",
   "execution_count": 11,
   "id": "79b173dc-e2be-492b-9f26-b22e6eca2bde",
   "metadata": {},
   "outputs": [],
   "source": [
    "#| export\n",
    "class TriePtr:\n",
    "\n",
    "    def __init__(self, trie, max_info:Optional[int]=None):\n",
    "        store_attr('trie,max_info')\n",
    "        self.ptr, self.hyp = trie.root, [trie.root.tok]\n",
    "\n",
    "    @property\n",
    "    def tokens(self):\n",
    "        return list(self.ptr.nxt_toks.keys())\n",
    "\n",
    "    def next(self, val:int):\n",
    "        if val not in self.tokens: raise ValueError(f'`{val}` not a valid next token.')\n",
    "        self.ptr = self.ptr.nxt_toks[val]\n",
    "        self.hyp.append(val)\n",
    "        return self\n",
    "\n",
    "    def suffixes(self):\n",
    "        o = []\n",
    "        Trie._search(self.ptr, self.hyp, o, self.max_info)\n",
    "        return sorted(o, key=lambda x: x.cnt, reverse=True)\n",
    "\n",
    "    @property\n",
    "    def is_end(self):\n",
    "        return self.ptr.is_end\n",
    "\n",
    "    @property\n",
    "    def value(self):\n",
    "        info = list(self.ptr.info) if self.max_info is None else list(self.ptr.info)[:self.max_info]\n",
    "        return TrieOutput(self.hyp, self.ptr.cnt, info)\n",
    "\n",
    "    def copy(self):\n",
    "        t = TriePtr(self.trie, self.max_info)\n",
    "        t.ptr,t.hyp = self.ptr,self.hyp.copy()\n",
    "        return t\n",
    "        "
   ]
  },
  {
   "cell_type": "markdown",
   "id": "133c7130-0157-4581-9319-57878aa324a6",
   "metadata": {},
   "source": [
    "### Example 1"
   ]
  },
  {
   "cell_type": "code",
   "execution_count": null,
   "id": "7398f89c-3fe3-49e9-aeca-b267bcf3b846",
   "metadata": {},
   "outputs": [],
   "source": [
    "tp = TriePtr(t)"
   ]
  },
  {
   "cell_type": "code",
   "execution_count": null,
   "id": "5a6e1947-1682-425d-8916-18515f1b62a7",
   "metadata": {},
   "outputs": [
    {
     "data": {
      "text/plain": [
       "[]"
      ]
     },
     "execution_count": null,
     "metadata": {},
     "output_type": "execute_result"
    }
   ],
   "source": [
    "tp.tokens"
   ]
  },
  {
   "cell_type": "code",
   "execution_count": null,
   "id": "99a93bc7-601d-4934-88c3-9bee9b1b977f",
   "metadata": {},
   "outputs": [
    {
     "data": {
      "text/plain": [
       "True"
      ]
     },
     "execution_count": null,
     "metadata": {},
     "output_type": "execute_result"
    }
   ],
   "source": [
    "tp.is_end"
   ]
  },
  {
   "cell_type": "code",
   "execution_count": null,
   "id": "fe8f7da3-2870-4a86-be22-8f3d40605598",
   "metadata": {},
   "outputs": [],
   "source": [
    "tp.next(102)"
   ]
  },
  {
   "cell_type": "code",
   "execution_count": null,
   "id": "e7fe2261-4b76-474e-a902-da94dab2ea19",
   "metadata": {},
   "outputs": [
    {
     "data": {
      "text/plain": [
       "[TrieOutput(s=[101, 200, 100, 222, 102], cnt=1, info=None)]"
      ]
     },
     "execution_count": null,
     "metadata": {},
     "output_type": "execute_result"
    }
   ],
   "source": [
    "tp.suffixes()"
   ]
  },
  {
   "cell_type": "code",
   "execution_count": null,
   "id": "f8cd7dde-2dcf-4f39-b8b1-c91501f93b90",
   "metadata": {},
   "outputs": [
    {
     "data": {
      "text/plain": [
       "TrieOutput(s=[101, 200, 100, 222, 102], cnt=1, info=None)"
      ]
     },
     "execution_count": null,
     "metadata": {},
     "output_type": "execute_result"
    }
   ],
   "source": [
    "tp.value"
   ]
  },
  {
   "cell_type": "markdown",
   "id": "1c133622-f26b-455e-b866-dd54cd582d2f",
   "metadata": {},
   "source": [
    "### Example 2"
   ]
  },
  {
   "cell_type": "code",
   "execution_count": null,
   "id": "178aaf98-d3ef-4282-a0cf-550f3af7b2a6",
   "metadata": {},
   "outputs": [],
   "source": [
    "tp = TriePtr(t)\n",
    "l = [tp.copy(), tp.copy()]"
   ]
  },
  {
   "cell_type": "code",
   "execution_count": null,
   "id": "fa84d96f-804e-4306-a05b-472cce0e27c7",
   "metadata": {},
   "outputs": [],
   "source": [
    "l[0].next(100)"
   ]
  },
  {
   "cell_type": "code",
   "execution_count": null,
   "id": "d36dbb60-d75e-41c2-baec-c0ea1bf99b70",
   "metadata": {},
   "outputs": [
    {
     "data": {
      "text/plain": [
       "([102], [100, 200, 300])"
      ]
     },
     "execution_count": null,
     "metadata": {},
     "output_type": "execute_result"
    }
   ],
   "source": [
    "l[0].tokens, l[1].tokens"
   ]
  },
  {
   "cell_type": "code",
   "execution_count": null,
   "id": "488e3228-bf03-45c6-a9b9-4bee895ec30b",
   "metadata": {},
   "outputs": [
    {
     "data": {
      "text/plain": [
       "([101, 100], [101])"
      ]
     },
     "execution_count": null,
     "metadata": {},
     "output_type": "execute_result"
    }
   ],
   "source": [
    "l[0].hyp, l[1].hyp"
   ]
  },
  {
   "cell_type": "markdown",
   "id": "0c840673-98c0-4ff3-a1d0-c48c4c3749c8",
   "metadata": {},
   "source": [
    "## Hypothesis"
   ]
  },
  {
   "cell_type": "code",
   "execution_count": 12,
   "id": "efb6cf6c-99ad-4bef-bfac-898326ff2a8f",
   "metadata": {},
   "outputs": [],
   "source": [
    "#| export\n",
    "class Hypothesis:\n",
    "\n",
    "    def __init__(self, n_bm:int, len_penalty:Optional[float]=1.0):\n",
    "        store_attr('n_bm,len_penalty')\n",
    "        self.worst_sc, self.beams = 1e9, []\n",
    "\n",
    "    def __len__(self):\n",
    "        return len(self.beams)\n",
    "\n",
    "    def add(self, hyp, sum_logits:float, gen_len:Optional[int]=None):\n",
    "        if gen_len is not None: sc = sum_logits/gen_len**self.len_penalty\n",
    "        else: sc = sum_logits/len(hyp.s)**self.len_penalty\n",
    "\n",
    "        if len(self) < self.n_bm or sc > self.worst_sc:\n",
    "            self.beams.append((sc, hyp))\n",
    "            if len(self) > self.n_bm:\n",
    "                nxt_sc = sorted([(s,i) for i,(s,_) in enumerate(self.beams)])\n",
    "                del self.beams[nxt_sc[0][1]]\n",
    "                self.worst_sc = nxt_sc[1][0]\n",
    "            else: self.worst_sc = min(sc, self.worst_sc)\n",
    "\n",
    "    def is_done(self, best_sc:float, cur_len:int):\n",
    "        if len(self) < self.n_bm: return False\n",
    "        high_sc = best_sc/cur_len**self.len_penalty\n",
    "        return self.worst_sc >= high_sc\n",
    "        "
   ]
  },
  {
   "cell_type": "markdown",
   "id": "e299bd13-a2ae-4598-a239-c355bd8cd839",
   "metadata": {},
   "source": [
    "### Example"
   ]
  },
  {
   "cell_type": "code",
   "execution_count": null,
   "id": "496764c2-df2f-499f-a2ea-29b575677607",
   "metadata": {},
   "outputs": [],
   "source": [
    "hyp = Hypothesis(5, 0.5)"
   ]
  },
  {
   "cell_type": "code",
   "execution_count": null,
   "id": "8c50bd90-0323-452c-9239-56529c284c3d",
   "metadata": {},
   "outputs": [
    {
     "data": {
      "text/plain": [
       "2"
      ]
     },
     "execution_count": null,
     "metadata": {},
     "output_type": "execute_result"
    }
   ],
   "source": [
    "len(hyp)"
   ]
  },
  {
   "cell_type": "code",
   "execution_count": null,
   "id": "4d91d668-ce3c-411a-9574-363016ac78c0",
   "metadata": {},
   "outputs": [],
   "source": [
    "hyp.add(TrieOutput([1, 3, 6, 11, 12, 14], 2, [2, 5]), sum_logits=-1.2)"
   ]
  },
  {
   "cell_type": "code",
   "execution_count": null,
   "id": "86f0f668-9571-4fe1-ba0b-f9c3e72857bf",
   "metadata": {},
   "outputs": [
    {
     "data": {
      "text/plain": [
       "[(-0.75, TrieOutput(s=[1, 2, 3, 4], cnt=2, info=[0, 1, 2])),\n",
       " (-0.6, TrieOutput(s=[1, 3, 6, 11], cnt=2, info=[2, 5])),\n",
       " (-0.6, TrieOutput(s=[1, 3, 6, 11], cnt=2, info=[2, 5])),\n",
       " (-0.5366563145999494, TrieOutput(s=[1, 3, 6, 11, 12], cnt=2, info=[2, 5])),\n",
       " (-0.48989794855663565,\n",
       "  TrieOutput(s=[1, 3, 6, 11, 12, 14], cnt=2, info=[2, 5]))]"
      ]
     },
     "execution_count": null,
     "metadata": {},
     "output_type": "execute_result"
    }
   ],
   "source": [
    "hyp.beams"
   ]
  },
  {
   "cell_type": "markdown",
   "id": "039739cc-950c-411c-9b42-03af0e659380",
   "metadata": {},
   "source": [
    "## Trie Beam"
   ]
  },
  {
   "cell_type": "code",
   "execution_count": 183,
   "id": "1847e3c3",
   "metadata": {},
   "outputs": [],
   "source": [
    "#| export\n",
    "def pad_tensor(tensor, fill_value):\n",
    "    max_len = max(len(t) for t in tensor)\n",
    "    padded_tensor = torch.full((len(tensor), max_len), fill_value, dtype=tensor[0].dtype)\n",
    "    mask = torch.zeros((len(tensor), max_len), dtype=torch.bool)\n",
    "    for i, t in enumerate(tensor): padded_tensor[i, :len(t)], mask[i, :len(t)] = t, 1\n",
    "    return padded_tensor, mask\n"
   ]
  },
  {
   "cell_type": "code",
   "execution_count": 228,
   "id": "c9c8822c-3ec9-4c65-b4af-6f241596e59b",
   "metadata": {},
   "outputs": [],
   "source": [
    "#| export\n",
    "class TrieBeam:\n",
    "\n",
    "    def __init__(self, trie:Trie, eos_tok:int, n_bm:Optional[int]=5, len_penalty:Optional[float]=1.0, \n",
    "                 max_info:Optional[int]=None, **kwargs):\n",
    "        store_attr('trie,eos_tok,n_bm,len_penalty,max_info')\n",
    "        self.tfm = XCPadOutputTfm(**kwargs)\n",
    "\n",
    "    def valid(self, pointers:List, scores:torch.FloatTensor):\n",
    "        all_tok, all_sc, all_idx = [], [], []\n",
    "        for ptr,sc in zip(pointers, scores):\n",
    "            batch_tok = [torch.tensor([], dtype=torch.long)]\n",
    "            batch_sc = [torch.tensor([], dtype=scores.dtype)]\n",
    "            batch_idx = [torch.tensor([], dtype=torch.long)] \n",
    "            for i,(p,s) in enumerate(zip(ptr,sc)):\n",
    "                toks = torch.tensor(p.tokens)\n",
    "                batch_tok.append(toks)\n",
    "                batch_sc.append(s[toks])\n",
    "                batch_idx.append(torch.full((len(toks),), i))\n",
    "            all_tok.append(torch.concat(batch_tok))\n",
    "            all_sc.append(torch.concat(batch_sc))\n",
    "            all_idx.append(torch.concat(batch_idx))\n",
    "        all_tok, mask = pad_tensor(all_tok, -100)\n",
    "        all_sc, _ = pad_tensor(all_sc, -float('Inf'))\n",
    "        all_idx,_ = pad_tensor(all_idx, -100)\n",
    "        return all_tok, all_sc, all_idx, mask\n",
    "\n",
    "    def topk(self, tok:torch.Tensor, sc:torch.Tensor, idx:torch.Tensor, mask:torch.Tensor):\n",
    "        top_sc, top_i = (\n",
    "            torch.topk(sc, 2*self.n_bm, dim=1) \n",
    "            if sc.shape[1] > 2*self.n_bm else torch.sort(sc, dim=1, descending=True)\n",
    "        )\n",
    "        top_idx, top_tok, mask = idx.gather(1,top_i), tok.gather(1,top_i), mask.gather(1, top_i)\n",
    "        return top_tok, top_sc, top_idx, mask\n",
    "\n",
    "    def next(self, pointers:List, tokens:torch.Tensor, scores:torch.Tensor, indices:torch.Tensor, masks:torch.Tensor):\n",
    "        all_ptr, all_sc = [], []\n",
    "        for hyp,ptr,tok,sc,idx,mask in zip(self.hyp, pointers, tokens, scores, indices, masks):\n",
    "            batch_tok, batch_sc, batch_idx = [], [], []\n",
    "            for t,s,i,m in zip(tok,sc,idx,mask):\n",
    "                t,s,i,m = t.item(),s.item(),i.item(),m.item()\n",
    "                if t == self.eos_tok and m: hyp.add(ptr[i].copy().next(t).value, s)\n",
    "                elif m: batch_tok.append(t); batch_sc.append(s); batch_idx.append(i)\n",
    "            all_sc.append(torch.tensor(batch_sc)[:self.n_bm])\n",
    "            batch_ptr = [ptr[i].copy().next(t) for t,i in zip(batch_tok[:self.n_bm], batch_idx[:self.n_bm])]\n",
    "            all_ptr.append(batch_ptr)\n",
    "        all_sc, _ = pad_tensor(all_sc, -float('Inf'))\n",
    "        return all_ptr, all_sc\n",
    "\n",
    "    def finalize(self, pointers:List, scores:torch.Tensor):\n",
    "        outputs = []\n",
    "        for i,(hyp,ptr,sc) in enumerate(zip(self.hyp,pointers,scores)):\n",
    "            if len(hyp) < self.n_bm:\n",
    "                for p,s in zip(ptr, sc):\n",
    "                    for o in p.suffixes(): hyp.add(o, s)\n",
    "            if len(hyp) < self.n_bm: raise ValueError(f'`len(hyp)`({len(hyp)}) < `n_bm`({self.n_bm})')\n",
    "            seq_sc, seq_ids, info, n_info = list(map(list, zip(*[(s,h.s,h.info,len(h.info)) for s,h in hyp.beams])))\n",
    "            outputs.append({\n",
    "                'seq2data_data2ptr':[self.n_bm],\n",
    "                'seq2data_score':seq_sc, \n",
    "                'seq2data_output_ids':seq_ids, \n",
    "                'info2seq2data_idx':list(chain(*info)),\n",
    "                'info2seq2data_seq2ptr':n_info,\n",
    "                'info2seq2data_data2ptr':[sum(n_info)],\n",
    "            })\n",
    "        return outputs\n",
    "    \n",
    "    def proc(self, logits:torch.FloatTensor, n_bm:Optional[int]=None, len_penalty:Optional[float]=None, \n",
    "             max_info:Optional[int]=None):\n",
    "        store_attr('n_bm,len_penalty,max_info', is_none=False)\n",
    "        bsz,seq_len,cur_len = logits.shape[0],logits.shape[1],1\n",
    "        \n",
    "        self.hyp = [Hypothesis(self.n_bm, self.len_penalty) for _ in range(bsz)]\n",
    "        sc, ptr = torch.zeros((bsz,1,1)), [[TriePtr(self.trie,self.max_info)] for _ in range(bsz)]\n",
    "        \n",
    "        while True:\n",
    "            sc = logits[:, cur_len:cur_len+1] + sc\n",
    "            v_tok, v_sc, v_idx, mask = self.valid(ptr, sc)\n",
    "            top_tok, top_sc, top_idx, mask = self.topk(v_tok, v_sc, v_idx, mask)\n",
    "            ptr, sc = self.next(ptr, top_tok, top_sc, top_idx, mask)\n",
    "            sc = sc.unsqueeze(2)\n",
    "            cur_len += 1\n",
    "            \n",
    "            if (cur_len == seq_len \n",
    "                or torch.all(torch.tensor([len(p) for p in ptr]) == 0) \n",
    "                or torch.all(torch.tensor([hyp.is_done(s.max().item(), cur_len) for hyp,s in zip(self.hyp,sc)]))):\n",
    "                break\n",
    "                \n",
    "        outputs = self.finalize(ptr, sc.squeeze(2))\n",
    "        outputs = self.tfm({k:list(chain(*[o[k] for o in outputs])) for k in outputs[0]})\n",
    "        return outputs\n",
    "    "
   ]
  },
  {
   "cell_type": "markdown",
   "id": "0d4ea52e-2fca-454c-b140-d6715c462031",
   "metadata": {},
   "source": [
    "### Example"
   ]
  },
  {
   "cell_type": "code",
   "execution_count": 90,
   "id": "fae682a0",
   "metadata": {},
   "outputs": [],
   "source": [
    "PARAM = {\n",
    "    'pad_tok': 0,\n",
    "    'pad_side': 'right',\n",
    "    'drop': True,\n",
    "    'ret_t': True,\n",
    "    'in_place': True,\n",
    "    'collapse': True,\n",
    "    'device': 'cpu',\n",
    "    'n_bm': 10,\n",
    "    'len_penalty': 1.2,\n",
    "}"
   ]
  },
  {
   "cell_type": "code",
   "execution_count": 180,
   "id": "921d6977",
   "metadata": {},
   "outputs": [],
   "source": [
    "logits = F.log_softmax(o.logits, dim=2).cpu().detach()"
   ]
  },
  {
   "cell_type": "code",
   "execution_count": 177,
   "id": "cd63ef30",
   "metadata": {},
   "outputs": [],
   "source": [
    "attention_mask = b['data_attention_mask'].bool().cpu().detach()\n",
    "mask = torch.logical_not(attention_mask.unsqueeze(2).expand(logits.size()))\n",
    "logits[mask] = 0"
   ]
  },
  {
   "cell_type": "code",
   "execution_count": 157,
   "id": "0c6986b6",
   "metadata": {},
   "outputs": [],
   "source": [
    "tb = TrieBeam(t, 102, n_bm=5, len_penalty=1.0)"
   ]
  },
  {
   "cell_type": "code",
   "execution_count": 181,
   "id": "10f9e874-3ffe-4898-afd0-7f2d2f3fd1f2",
   "metadata": {},
   "outputs": [
    {
     "name": "stdout",
     "output_type": "stream",
     "text": [
      "CPU times: user 1min 17s, sys: 276 ms, total: 1min 17s\n",
      "Wall time: 904 ms\n"
     ]
    }
   ],
   "source": [
    "%%time\n",
    "r = tb.proc(logits)"
   ]
  },
  {
   "cell_type": "code",
   "execution_count": null,
   "id": "e538494c",
   "metadata": {},
   "outputs": [],
   "source": [
    "%debug"
   ]
  },
  {
   "cell_type": "code",
   "execution_count": 71,
   "id": "761aad8a-3231-45f6-8486-0719f74d18fb",
   "metadata": {
    "scrolled": true
   },
   "outputs": [
    {
     "data": {
      "text/plain": [
       "{'info2seq2data_idx': tensor([117331, 130922, 130925, 130923, 130924,    372,  15979, 112620, 233843,\n",
       "        213298, 229942, 253767,  85690, 256334, 268492, 255377, 210582, 268034,\n",
       "        291174, 281488, 129448,  80862, 268164, 114470, 289712,   3646, 112036,\n",
       "         10865, 105174, 100471, 229942,  93578,  58547,  58548,  61310,  71006,\n",
       "        290881, 179869,  70274,   1651,  69818,  90164, 260660, 195205, 265863,\n",
       "        268665, 218792,   8984, 287489, 275267]), 'info2seq2data_seq2ptr': tensor([1, 1, 1, 1, 1, 1, 1, 1, 1, 1, 1, 1, 1, 1, 1, 1, 1, 1, 1, 1, 1, 1, 1, 1,\n",
       "        1, 1, 1, 1, 1, 1, 1, 1, 1, 1, 1, 1, 1, 1, 1, 1, 1, 1, 1, 1, 1, 1, 1, 1,\n",
       "        1, 1]), 'info2seq2data_data2ptr': tensor([5, 5, 5, 5, 5, 5, 5, 5, 5, 5]), 'seq2data_data2ptr': tensor([5, 5, 5, 5, 5, 5, 5, 5, 5, 5]), 'seq2data_score': tensor([    inf,     inf,     inf,     inf,     inf, -1.8678, -2.0272, -2.0925,\n",
       "        -2.0996,     inf, -1.7307, -2.9457, -1.3470,     inf,     inf, -0.5059,\n",
       "        -1.3359, -0.4886, -1.5993, -1.6736, -1.0874,     inf,     inf,     inf,\n",
       "            inf, -1.9274, -3.1630, -3.1860, -3.0568,     inf, -1.3660, -1.4795,\n",
       "        -1.6574, -1.7115, -1.6887,     inf,     inf,     inf,     inf,     inf,\n",
       "            inf,     inf,     inf,     inf,     inf, -2.5392, -2.5701,     inf,\n",
       "            inf,     inf]), 'seq2data_output_ids': tensor([[  101,  2862,  1997,  5169,  3137,  8483,   102,     0,     0,     0],\n",
       "        [  101,  2862,  1997,  3137, 11373,  1997,  7756,   102,     0,     0],\n",
       "        [  101,  2862,  1997,  3137, 11373,  1997, 10622,   102,     0,     0],\n",
       "        [  101,  2862,  1997,  3137, 11373,  1997,  6646,   102,     0,     0],\n",
       "        [  101,  2862,  1997,  3137, 11373,  1997,  2899,   102,     0,     0],\n",
       "        [  101,  4254,  2724,   102,     0,     0,     0,     0,     0,     0],\n",
       "        [  101, 17700, 23718,   102,     0,     0,     0,     0,     0,     0],\n",
       "        [  101,  2300,  2006,  7733,   102,     0,     0,     0,     0,     0],\n",
       "        [  101,  4785,  2006,  7733,   102,     0,     0,     0,     0,     0],\n",
       "        [  101,  2300,  2006, 12350, 11358,  1997,  1996,  5943,  2291,   102],\n",
       "        [  101,  2862,   102,     0,     0,     0,     0,     0,     0,     0],\n",
       "        [  101,  4347,   102,     0,     0,     0,     0,     0,     0,     0],\n",
       "        [  101,  2862,  1997,  5687,  4166,  4781,   102,     0,     0,     0],\n",
       "        [  101,  2862,  1997,  2193,  1011,  2028,  4978,  1999,  3304,   102],\n",
       "        [  101,  2862,  1997,  2193,  1011,  2028,  4978,  1999,  3577,   102],\n",
       "        [  101, 11769,  2012,  1996, 15600,   102,     0,     0,     0,     0],\n",
       "        [  101, 11769,  2012,  1996,  3783,   102,     0,     0,     0,     0],\n",
       "        [  101, 11769,  2012,  1996,  2263,  2621,  3783,   102,     0,     0],\n",
       "        [  101, 11769,  2012,  1996,  2262,  2621,  3783,   102,     0,     0],\n",
       "        [  101, 11769,  2012,  1996,  2230,  3467,  3783,   102,     0,     0],\n",
       "        [  101,  7574, 16498,   102,     0,     0,     0,     0,     0,     0],\n",
       "        [  101,  7574,  1999,  4701,   102,     0,     0,     0,     0,     0],\n",
       "        [  101,  7574,  1999,  5984,  7043,   102,     0,     0,     0,     0],\n",
       "        [  101,  2591,  2944,  1997, 11980,   102,     0,     0,     0,     0],\n",
       "        [  101,  7574,  1999,  2047,  3414,   102,     0,     0,     0,     0],\n",
       "        [  101,  2142,  2163,   102,     0,     0,     0,     0,     0,     0],\n",
       "        [  101,  2142,  2163,  1997,  2637,   102,     0,     0,     0,     0],\n",
       "        [  101,  2142,  2163,  1997,  2885,   102,     0,     0,     0,     0],\n",
       "        [  101,  2220,  2142,  2163, 17524,  7824,   102,     0,     0,     0],\n",
       "        [  101,  2142,  2163,  1997,  1996, 10163,  2937,  3470,   102,     0],\n",
       "        [  101,  2862,   102,     0,     0,     0,     0,     0,     0,     0],\n",
       "        [  101,  7346,   102,     0,     0,     0,     0,     0,     0,     0],\n",
       "        [  101,  4404,   102,     0,     0,     0,     0,     0,     0,     0],\n",
       "        [  101,  8839,   102,     0,     0,     0,     0,     0,     0,     0],\n",
       "        [  101,  2120,  4236,  1997,  3181,  3182,   102,     0,     0,     0],\n",
       "        [  101,  2862,  1997,  2111,  2013,  5900,   102,     0,     0,     0],\n",
       "        [  101,  2862,  1997,  2111,  2013,  6751,   102,     0,     0,     0],\n",
       "        [  101,  2862,  1997,  2111,  2013,  5858,  2103,   102,     0,     0],\n",
       "        [  101,  2862,  1997,  3101,  1997,  3932, 15991,   102,     0,     0],\n",
       "        [  101,  2862,  1997,  2111,  2013,  5899,  1010,  3146,   102,     0],\n",
       "        [  101,  2394, 20278,  2375,   102,     0,     0,     0,     0,     0],\n",
       "        [  101,  2866,  2194,  2375,   102,     0,     0,     0,     0,     0],\n",
       "        [  101,  2866,  3200,  5579,   102,     0,     0,     0,     0,     0],\n",
       "        [  101,  2866, 16021,  4747,  8159,  5666,  2375,   102,     0,     0],\n",
       "        [  101, 11671,  2375,  1006, 21825,  2015,  1007,  2552,   102,     0],\n",
       "        [  101, 13433,   102,     0,     0,     0,     0,     0,     0,     0],\n",
       "        [  101, 11498, 14321,  2618,   102,     0,     0,     0,     0,     0],\n",
       "        [  101,  9706, 10085,  2854, 21890,   102,     0,     0,     0,     0],\n",
       "        [  101, 11498,  1011,  9670,  5579,   102,     0,     0,     0,     0],\n",
       "        [  101,  9706, 10085, 11467, 11265, 27500,   102,     0,     0,     0]]), 'info2seq2data_score': tensor([    inf,     inf,     inf,     inf,     inf, -1.8678, -2.0272, -2.0925,\n",
       "        -2.0996,     inf, -1.7307, -2.9457, -1.3470,     inf,     inf, -0.5059,\n",
       "        -1.3359, -0.4886, -1.5993, -1.6736, -1.0874,     inf,     inf,     inf,\n",
       "            inf, -1.9274, -3.1630, -3.1860, -3.0568,     inf, -1.3660, -1.4795,\n",
       "        -1.6574, -1.7115, -1.6887,     inf,     inf,     inf,     inf,     inf,\n",
       "            inf,     inf,     inf,     inf,     inf, -2.5392, -2.5701,     inf,\n",
       "            inf,     inf])}"
      ]
     },
     "execution_count": 71,
     "metadata": {},
     "output_type": "execute_result"
    }
   ],
   "source": [
    "r"
   ]
  },
  {
   "cell_type": "markdown",
   "id": "8703eb59-7481-4e7b-8792-580b32f42a22",
   "metadata": {},
   "source": [
    "## TrieBeamSearch"
   ]
  },
  {
   "cell_type": "code",
   "execution_count": 229,
   "id": "f231b300-667e-45a4-91f7-0f21cacaeb1a",
   "metadata": {},
   "outputs": [],
   "source": [
    "#| export\n",
    "class TrieBeamSearch:\n",
    "\n",
    "    @delegates(XCPadOutputTfm.__init__)\n",
    "    def __init__(self, trie:Trie, eos_tok:int, n_bm:Optional[int]=5, len_penalty:Optional[float]=1.0, \n",
    "                 max_info:Optional[int]=None, **kwargs):\n",
    "        store_attr('trie,eos_tok,n_bm,len_penalty,max_info')\n",
    "        self.tb = TrieBeam(trie, eos_tok, n_bm=n_bm, len_penalty=len_penalty, max_info=max_info)\n",
    "        \n",
    "    def proc(self, model, inputs:Dict, n_bm:int=None, len_penalty:Optional[float]=None, \n",
    "             max_info:Optional[int]=None):\n",
    "        store_attr('n_bm,len_penalty,max_info', is_none=False)\n",
    "        \n",
    "        logits = F.log_softmax(model(**inputs).logits, dim=2).cpu().detach()\n",
    "        attention_mask = inputs['data_attention_mask'].bool().cpu().detach()\n",
    "        mask = torch.logical_not(attention_mask.unsqueeze(2).expand(logits.size()))\n",
    "        logits[mask] = 0\n",
    "        \n",
    "        outputs = self.tb.proc(logits, n_bm=self.n_bm, len_penalty=self.len_penalty, max_info=self.max_info)\n",
    "        outputs['info2seq2data_score'] = torch.repeat_interleave(outputs['seq2data_score'], outputs['info2seq2data_seq2ptr'], dim=0)\n",
    "        return outputs\n",
    "        "
   ]
  },
  {
   "cell_type": "markdown",
   "id": "f54e692f-850e-42de-b609-c2881526d3d6",
   "metadata": {},
   "source": [
    "### Example 1"
   ]
  },
  {
   "cell_type": "code",
   "execution_count": 185,
   "id": "0716ee7c",
   "metadata": {},
   "outputs": [],
   "source": [
    "PARAM = {\n",
    "    'pad_tok': 0,\n",
    "    'pad_side': 'right',\n",
    "    'drop': True,\n",
    "    'ret_t': True,\n",
    "    'in_place': True,\n",
    "    'collapse': True,\n",
    "    'device': 'cpu',\n",
    "    'n_bm': 10,\n",
    "    'len_penalty': 1.2,\n",
    "}"
   ]
  },
  {
   "cell_type": "code",
   "execution_count": 230,
   "id": "cce6c3e0-f136-4f73-a1b7-ebe9fcc268ea",
   "metadata": {},
   "outputs": [],
   "source": [
    "#| hide\n",
    "tbs = TrieBeamSearch(t, 102, n_bm=20, max_bm=20, len_penalty=1, max_info=1)"
   ]
  },
  {
   "cell_type": "code",
   "execution_count": 189,
   "id": "0be3a691-d166-48e5-a7f0-d6e4006ea66e",
   "metadata": {},
   "outputs": [],
   "source": [
    "#| hide\n",
    "bsz = 64\n",
    "b = block.train.one_batch(bsz)\n",
    "b = prepare_batch(m, b, m_args=['lbl2data_idx'])"
   ]
  },
  {
   "cell_type": "code",
   "execution_count": 190,
   "id": "9ad43881-27e0-4d0e-b4d5-36a12ad7f1b9",
   "metadata": {},
   "outputs": [
    {
     "data": {
      "text/plain": [
       "dict_keys(['lbl2data_idx', 'lbl2data_input_ids', 'lbl2data_attention_mask', 'lbl2data_data2ptr', 'data_input_ids', 'data_attention_mask'])"
      ]
     },
     "execution_count": 190,
     "metadata": {},
     "output_type": "execute_result"
    }
   ],
   "source": [
    "b.keys()"
   ]
  },
  {
   "cell_type": "code",
   "execution_count": 191,
   "id": "74385099-4553-4577-8ffd-673283e0c66c",
   "metadata": {},
   "outputs": [],
   "source": [
    "m, b = m.to('cuda'), b.to('cuda')"
   ]
  },
  {
   "cell_type": "code",
   "execution_count": 193,
   "id": "1c6c077f-fee2-465a-8588-1fc3de89efd4",
   "metadata": {},
   "outputs": [
    {
     "name": "stdout",
     "output_type": "stream",
     "text": [
      "CPU times: user 5min, sys: 2.74 s, total: 5min 3s\n",
      "Wall time: 4.79 s\n"
     ]
    }
   ],
   "source": [
    "%%time\n",
    "r = tbs.proc(m, b)"
   ]
  },
  {
   "cell_type": "code",
   "execution_count": null,
   "id": "fe72bd4c",
   "metadata": {},
   "outputs": [],
   "source": [
    "%prun tbs.proc(m, b)"
   ]
  },
  {
   "cell_type": "code",
   "execution_count": 194,
   "id": "6fb25504-e00c-43de-b797-2e3a31488b07",
   "metadata": {},
   "outputs": [
    {
     "data": {
      "text/plain": [
       "{'info2seq2data_idx': tensor([ 13080,  56531,  53600,  ...,  42710, 181002, 186359]), 'info2seq2data_seq2ptr': tensor([1, 1, 1,  ..., 1, 1, 1]), 'info2seq2data_data2ptr': tensor([20, 20, 20, 20, 20, 20, 20, 20, 20, 20, 20, 20, 20, 20, 20, 20, 20, 20,\n",
       "        20, 20, 20, 20, 20, 20, 20, 20, 20, 20, 20, 20, 20, 20, 20, 20, 20, 20,\n",
       "        20, 20, 20, 20, 20, 20, 20, 20, 20, 20, 20, 20, 20, 20, 20, 20, 20, 20,\n",
       "        20, 20, 20, 20, 20, 20, 20, 20, 20, 20]), 'seq2data_data2ptr': tensor([20, 20, 20, 20, 20, 20, 20, 20, 20, 20, 20, 20, 20, 20, 20, 20, 20, 20,\n",
       "        20, 20, 20, 20, 20, 20, 20, 20, 20, 20, 20, 20, 20, 20, 20, 20, 20, 20,\n",
       "        20, 20, 20, 20, 20, 20, 20, 20, 20, 20, 20, 20, 20, 20, 20, 20, 20, 20,\n",
       "        20, 20, 20, 20, 20, 20, 20, 20, 20, 20]), 'seq2data_score': tensor([-0.9979, -0.9979, -0.9979,  ..., -0.5846, -0.7420, -2.3247]), 'seq2data_output_ids': tensor([[ 101, 2862, 1997,  ...,    0,    0,    0],\n",
       "        [ 101, 2862, 1997,  ...,    0,    0,    0],\n",
       "        [ 101, 2862, 1997,  ...,    0,    0,    0],\n",
       "        ...,\n",
       "        [ 101, 2862, 1997,  ...,    0,    0,    0],\n",
       "        [ 101, 2862, 1997,  ...,    0,    0,    0],\n",
       "        [ 101, 2862, 1997,  ...,    0,    0,    0]]), 'info2seq2data_score': tensor([-0.9979, -0.9979, -0.9979,  ..., -0.5846, -0.7420, -2.3247])}"
      ]
     },
     "execution_count": 194,
     "metadata": {},
     "output_type": "execute_result"
    }
   ],
   "source": [
    "r"
   ]
  },
  {
   "cell_type": "code",
   "execution_count": 195,
   "id": "27dd5b0d-2ccb-48a1-b82e-7b8cf4d61810",
   "metadata": {},
   "outputs": [
    {
     "name": "stdout",
     "output_type": "stream",
     "text": [
      "info2seq2data_idx torch.Size([1280])\n",
      "info2seq2data_seq2ptr torch.Size([1280])\n",
      "info2seq2data_data2ptr torch.Size([64])\n",
      "seq2data_data2ptr torch.Size([64])\n",
      "seq2data_score torch.Size([1280])\n",
      "seq2data_output_ids torch.Size([1280, 18])\n",
      "info2seq2data_score torch.Size([1280])\n"
     ]
    }
   ],
   "source": [
    "#| hide\n",
    "for k,v in r.items(): print(k, v.shape)"
   ]
  },
  {
   "cell_type": "code",
   "execution_count": 196,
   "id": "d488a4f1-1b41-4472-9513-5cbf3bf94943",
   "metadata": {},
   "outputs": [],
   "source": [
    "#| hide\n",
    "output = {}\n",
    "output['targ_idx'] = b['lbl2data_idx'].cpu()\n",
    "output['targ_ptr'] = b['lbl2data_data2ptr'].cpu()\n",
    "\n",
    "output['pred_idx'] = r['info2seq2data_idx'].cpu()\n",
    "output['pred_score'] = r['info2seq2data_score'].cpu()\n",
    "output['pred_ptr'] = r['info2seq2data_data2ptr'].cpu()\n"
   ]
  },
  {
   "cell_type": "code",
   "execution_count": 197,
   "id": "d7a78727-9da9-487e-a356-a9150903b2cf",
   "metadata": {},
   "outputs": [],
   "source": [
    "#| hide\n",
    "metric = PrecRecl(n_lbl, prop=block.train.dset.data.data_lbl, pk=5, rk=5, rep_pk=[1, 3, 5], rep_rk=[5])"
   ]
  },
  {
   "cell_type": "code",
   "execution_count": 198,
   "id": "2ec4827b-865e-4c60-b1a7-97c20db01d8f",
   "metadata": {},
   "outputs": [
    {
     "data": {
      "text/plain": [
       "{'P@1': 0.4375,\n",
       " 'P@3': 0.2552083333333333,\n",
       " 'P@5': 0.18750000000000003,\n",
       " 'N@1': 0.4375,\n",
       " 'N@3': 0.42743546,\n",
       " 'N@5': 0.4478654,\n",
       " 'PSP@1': 0.40621228431290085,\n",
       " 'PSP@3': 0.42684336299334974,\n",
       " 'PSP@5': 0.4485064426200951,\n",
       " 'PSN@1': 0.4062123,\n",
       " 'PSN@3': 0.412833,\n",
       " 'PSN@5': 0.43182746,\n",
       " 'R@5': 0.4727149714052288}"
      ]
     },
     "execution_count": 198,
     "metadata": {},
     "output_type": "execute_result"
    }
   ],
   "source": [
    "#| hide\n",
    "metric(**output)"
   ]
  },
  {
   "cell_type": "markdown",
   "id": "b16be828-f065-403b-b0e6-1c7a0992f99d",
   "metadata": {},
   "source": [
    "### Example 2"
   ]
  },
  {
   "cell_type": "code",
   "execution_count": 242,
   "id": "da4becac-0e02-4326-966e-83c4910403c7",
   "metadata": {},
   "outputs": [],
   "source": [
    "#| hide\n",
    "tbs = TrieBeamSearch(t, 102, n_bm=5, len_penalty=1.5)\n",
    "\n",
    "test_dset = block.test.sample(n=200, seed=50)\n",
    "metric = PrecRecl(block.n_lbl, test_dset.data_lbl_filterer, prop=block.train.dset.data.data_lbl, pk=5, rk=5, \n",
    "                  rep_pk=[1, 3, 5], rep_rk=[5])\n"
   ]
  },
  {
   "cell_type": "code",
   "execution_count": 232,
   "id": "a834ba59-1342-4f7d-80d2-3f0a792fc4b6",
   "metadata": {},
   "outputs": [],
   "source": [
    "#| hide\n",
    "def get_xo(inp, targ):\n",
    "    return {\n",
    "        'targ_idx':inp['lbl2data_idx'],\n",
    "        'targ_ptr':inp['lbl2data_data2ptr'],\n",
    "        'pred_idx':targ['info2seq2data_idx'],\n",
    "        'pred_score':targ['info2seq2data_score'],\n",
    "        'pred_ptr':targ['info2seq2data_data2ptr'],\n",
    "    }\n",
    "    "
   ]
  },
  {
   "cell_type": "code",
   "execution_count": 243,
   "id": "db846309-cfca-4faf-bfd7-bca3611a37b1",
   "metadata": {},
   "outputs": [],
   "source": [
    "m = m.to('cuda')"
   ]
  },
  {
   "cell_type": "code",
   "execution_count": 244,
   "id": "05cc6421-6c9e-4907-b215-4af775901940",
   "metadata": {},
   "outputs": [
    {
     "data": {
      "application/vnd.jupyter.widget-view+json": {
       "model_id": "c2c5a6a358c34a3ca4b7c87d0643a194",
       "version_major": 2,
       "version_minor": 0
      },
      "text/plain": [
       "  0%|          | 0/20 [00:00<?, ?it/s]"
      ]
     },
     "metadata": {},
     "output_type": "display_data"
    }
   ],
   "source": [
    "metric.reset()\n",
    "\n",
    "for b in tqdm(test_dset.dl, total=len(test_dset.dl)):\n",
    "    b = prepare_batch(m, b, m_args=['lbl2data_idx']).to('cuda')\n",
    "    r = tbs.proc(m, b)\n",
    "    o = get_xo(b.to('cpu'), r)\n",
    "    metric.accumulate(**o)\n",
    "    "
   ]
  },
  {
   "cell_type": "code",
   "execution_count": 246,
   "id": "eac9b726-5289-4386-86af-2e3721d23c8b",
   "metadata": {},
   "outputs": [
    {
     "data": {
      "text/plain": [
       "{'P@1': 0.165,\n",
       " 'P@3': 0.10666666666666665,\n",
       " 'P@5': 0.07899999999999996,\n",
       " 'N@1': 0.165,\n",
       " 'N@3': 0.16029894,\n",
       " 'N@5': 0.16409001,\n",
       " 'PSP@1': 0.10177405823432056,\n",
       " 'PSP@3': 0.10478122301584751,\n",
       " 'PSP@5': 0.11126934422627434,\n",
       " 'PSN@1': 0.10177407,\n",
       " 'PSN@3': 0.10880884,\n",
       " 'PSN@5': 0.11646156,\n",
       " 'R@5': 0.16957666519304446}"
      ]
     },
     "execution_count": 246,
     "metadata": {},
     "output_type": "execute_result"
    }
   ],
   "source": [
    "#| hide\n",
    "metric.value"
   ]
  },
  {
   "cell_type": "markdown",
   "id": "2ac4b6dc",
   "metadata": {},
   "source": [
    "## TrieBeamSearch"
   ]
  },
  {
   "cell_type": "code",
   "execution_count": 135,
   "id": "20e9c002",
   "metadata": {},
   "outputs": [],
   "source": [
    "class TrieBeamSearch:\n",
    "    def __init__(self, max_height=32, sos_id=101, eos_id=102, pad_token=0, n_bm=10, len_penalty=0.0):\n",
    "        store_attr('max_height,sos_id,eos_id,pad_token,n_bm,len_penalty')\n",
    "        self.trie, self.hash = {}, None\n",
    "    \n",
    "    def build(self, X, y):\n",
    "        assert(len(X) == len(y))\n",
    "        self.hash = y\n",
    "        trie_dict = {}\n",
    "        for seq_id, seq in enumerate(tqdm(X)):\n",
    "            next_dict = trie_dict\n",
    "            for token in seq[:self.max_height]:\n",
    "                next_dict[token] = next_dict.get(\n",
    "                    token, {\"next\": {}, \"occurs\":0, \"lbls\": [],\n",
    "                            \"point_to\": token, \"is_leaf\": False}\n",
    "                )\n",
    "                next_dict[token][\"lbls\"].append(seq_id)\n",
    "                next_dict[token][\"occurs\"] += 1\n",
    "                if token == self.eos_id:\n",
    "                    next_dict[token][\"is_leaf\"] = True\n",
    "                    break\n",
    "                next_dict = next_dict[token][\"next\"]\n",
    "        self.trie = trie_dict\n",
    "    \n",
    "    def decode_text(self, X):\n",
    "        next_level = {'next':self.trie, 'lbls': [-1]}\n",
    "        for token in X:\n",
    "            items = next_level['next'].get(token, None)\n",
    "            if items is None:\n",
    "                return next_level[\"lbls\"]\n",
    "            if items[\"is_leaf\"]:\n",
    "                return items[\"lbls\"]\n",
    "            next_level = items\n",
    "        return items[\"lbls\"]\n",
    "    \n",
    "    def _padded_np(self, lol, fill_value, max_seq):\n",
    "        tokens = np.full((len(lol), max_seq), fill_value, dtype=type(lol[0][0]))\n",
    "        masks = np.zeros((len(lol), max_seq), dtype=np.int32)\n",
    "        for i in np.arange(len(lol)):\n",
    "            tokens[i, :len(lol[i])] = lol[i]\n",
    "            masks[i, :len(lol[i])] = 1\n",
    "        return tokens, masks\n",
    "    \n",
    "    def row_topk(self, score, k=10, return_scores=False, sort=False):\n",
    "        index = np.argpartition(score, -k, axis=0)[-k:]\n",
    "        if sort:\n",
    "            _score = score[index]\n",
    "            _index = np.argsort(_score, axis=0)\n",
    "            index = index[_index]\n",
    "        if return_scores:\n",
    "            score = score[index]\n",
    "            return index, score\n",
    "        return index\n",
    "    \n",
    "    def batch_topk(self, score, k=10, return_scores=False, sort=False):\n",
    "        index = np.argpartition(score, -k, axis=1)[:, -k:]\n",
    "        if sort:\n",
    "            _score = np.take_along_axis(score, index, axis=1)\n",
    "            _index = np.argsort(_score, axis=1)\n",
    "            index = np.take_along_axis(index, _index, axis=1)\n",
    "        if return_scores:\n",
    "            score = np.take_along_axis(score, index, axis=1)\n",
    "            return index, score\n",
    "        return index\n",
    "    \n",
    "    def _snl_one(self, tries, old_scores, curr_score, len_score, top_k_index):\n",
    "        _tries, _score, _l_scr = [], [], []\n",
    "        for col in top_k_index:\n",
    "            items = list(tries[col]['next'].items())\n",
    "            if len(items) == 0:\n",
    "                key, value = [self.pad_token], [{\"next\":{}, \"lbls\": tries[col][\"lbls\"]}]\n",
    "                l_items = [len_score[col]]\n",
    "            else:\n",
    "                key, value = list(zip(*items))\n",
    "                l_items = np.full((len(key),), len_score[col] + 1)\n",
    "            _tries.extend(value)\n",
    "            _score.extend(curr_score[list(key)] + old_scores[col])\n",
    "            _l_scr.extend(l_items)\n",
    "        return _tries, _score, _l_scr\n",
    "    \n",
    "    def _agl_one(self, lol, sorted_index, sorted_scores):\n",
    "        lol_lbs, lbl_scr = [], []\n",
    "        for col, item in enumerate(sorted_index):\n",
    "            _items = np.concatenate(\n",
    "                        list(map(lambda x: self.hash[x], lol[item][\"lbls\"]))\n",
    "                    )\n",
    "            lol_lbs.extend(_items)\n",
    "            lbl_scr.extend(np.full((_items.size,), sorted_scores[col], dtype=np.float32))\n",
    "        return lol_lbs, lbl_scr\n",
    "\n",
    "    def snl(self, tries, old_scores, curr_score, len_score, top_k_index):\n",
    "        _tries, _score, _l_scr, _max_seq = [], [], [], -1\n",
    "        for i in np.arange(top_k_index.shape[0]):\n",
    "            __tries, __score, __l_scr = self._snl_one(\n",
    "                tries[i], old_scores[i], curr_score[i], len_score[i], top_k_index[i])\n",
    "            _max_seq = max(_max_seq, len(__tries))\n",
    "            _tries.append(__tries)\n",
    "            _score.append(__score)\n",
    "            _l_scr.append(__l_scr)\n",
    "        _score, _ = self._padded_np(_score, -np.inf, _max_seq)\n",
    "        _l_scr, _ = self._padded_np(_l_scr, 0.001, _max_seq)\n",
    "        return _tries, _score, _l_scr\n",
    "    \n",
    "    def agl(self, lol_trie, sorted_index, sorted_scores):\n",
    "        lol_lbs, lbl_scr = [], []\n",
    "        for rid in np.arange(sorted_index.shape[0]):\n",
    "            _lol_lbs, _lbl_scr = self._agl_one(lol_trie[rid], sorted_index[rid], sorted_scores[rid])\n",
    "            lol_lbs.append(_lol_lbs)\n",
    "            lbl_scr.append(_lbl_scr)\n",
    "        return lol_lbs, lbl_scr\n",
    "    \n",
    "    def decode_batch(self, preds, beam=10, l_penalty=0, start_seq=1):\n",
    "        _token = np.full((len(preds), 1), self.sos_id)\n",
    "        _tries = [[self.trie[self.sos_id]] for _ in range(len(preds))]\n",
    "        _score = np.zeros((len(preds), 1), dtype=np.float32)\n",
    "        _index = np.zeros((len(preds), 1), dtype=np.int32)\n",
    "        _l_scr = np.ones((len(preds), 1), dtype=np.int32)\n",
    "        for i in np.arange(start_seq, self.max_height):\n",
    "            _tries, _score, _l_scr = self.snl(_tries, _score, preds[:, i], _l_scr, _index)\n",
    "            _score = np.multiply(_score, np.power(_l_scr,-l_penalty))\n",
    "            _index = self.batch_topk(_score, beam, i+1==self.max_height, i+1==self.max_height)\n",
    "        return self.agl(_tries, _index[0], _index[1])\n",
    "\n",
    "    def proc(self, model, inputs:Dict, n_bm:int=None, max_bm:Optional[int]=None, len_penalty:Optional[float]=None, \n",
    "             max_info:Optional[int]=None):\n",
    "        store_attr('n_bm,len_penalty', is_none=False)\n",
    "        logits = F.log_softmax(model(**inputs).logits, dim=2).cpu().detach().numpy()\n",
    "        logits = np.concatenate([logits, np.zeros((logits.shape[0], max(0, self.max_height-logits.shape[1]), logits.shape[2]))], axis=1)\n",
    "        idx, scores = self.decode_batch(logits, beam=self.n_bm, l_penalty=self.len_penalty)\n",
    "        outputs = {\n",
    "            'info2seq2data_idx': torch.tensor(list(chain(*idx))),\n",
    "            'info2seq2data_score': torch.tensor(list(chain(*scores))),\n",
    "            'info2seq2data_data2ptr': torch.tensor([len(o) for o in idx]),\n",
    "        }\n",
    "        return outputs\n",
    "        \n",
    "        \n",
    "    def decode_one(self, pred, beam, l_penalty, start_seq=1):\n",
    "        _token = [self.sos_id]\n",
    "        _tries = [self.trie[self.sos_id]]\n",
    "        _score = np.zeros((1,), dtype=np.float32)\n",
    "        _index = np.zeros((1,), dtype=np.int32)\n",
    "        _l_scr = np.ones((1, ), dtype=np.int32)\n",
    "        for i in np.arange(start_seq, self.max_height):\n",
    "            _tries, _score, _l_scr = self._snl_one(_tries, _score, pred[i], _l_scr, _index)\n",
    "            _score = np.multiply(_score, np.power(_l_scr,-l_penalty))\n",
    "            _index = self.row_topk(_score, beam, i+1==self.max_height, i+1==self.max_height)\n",
    "        return self._agl_one(_tries, _index[0], _index[1])\n",
    "    \n",
    "    def decode_serial(self, preds, beam=10, l_penalty=0):\n",
    "        labels = []\n",
    "        scores = []\n",
    "        for pred in preds:\n",
    "            _labels, _scores = self.decode_one(pred, beam, l_penalty)\n",
    "            labels.append(_labels)\n",
    "            scores.append(_scores)\n",
    "        return labels, scores\n",
    "    \n",
    "    @classmethod\n",
    "    @delegates(__init__)\n",
    "    def from_list(cls, toks:List, info:List, **kwargs):\n",
    "        self = cls(**kwargs)\n",
    "        self.build(toks, info)\n",
    "        return self\n",
    "    "
   ]
  },
  {
   "cell_type": "markdown",
   "id": "7222875a",
   "metadata": {},
   "source": [
    "### Example"
   ]
  },
  {
   "cell_type": "code",
   "execution_count": 130,
   "id": "391a1d1b",
   "metadata": {},
   "outputs": [],
   "source": [
    "tbs = TrieBeamSearch(max_height=32, sos_id=101, eos_id=102, pad_token=0, n_bm=20, len_penalty=0.0)"
   ]
  },
  {
   "cell_type": "code",
   "execution_count": 131,
   "id": "58416c47",
   "metadata": {},
   "outputs": [
    {
     "data": {
      "application/vnd.jupyter.widget-view+json": {
       "model_id": "77cbd375cf49428f8b790a0d6b22d7ec",
       "version_major": 2,
       "version_minor": 0
      },
      "text/plain": [
       "  0%|          | 0/312330 [00:00<?, ?it/s]"
      ]
     },
     "metadata": {},
     "output_type": "display_data"
    }
   ],
   "source": [
    "toks = block.lbl_info['input_ids']\n",
    "info = [[i] for i in range(len(toks))]\n",
    "tbs.build(toks, info)"
   ]
  },
  {
   "cell_type": "code",
   "execution_count": 134,
   "id": "1a473047",
   "metadata": {
    "scrolled": true
   },
   "outputs": [
    {
     "name": "stdout",
     "output_type": "stream",
     "text": [
      "> \u001b[0;32m/tmp/ipykernel_1270042/750450751.py\u001b[0m(116)\u001b[0;36mdecode_batch\u001b[0;34m()\u001b[0m\n",
      "\u001b[0;32m    114 \u001b[0;31m        \u001b[0;32mimport\u001b[0m \u001b[0mpdb\u001b[0m\u001b[0;34m;\u001b[0m \u001b[0mpdb\u001b[0m\u001b[0;34m.\u001b[0m\u001b[0mset_trace\u001b[0m\u001b[0;34m(\u001b[0m\u001b[0;34m)\u001b[0m\u001b[0;34m\u001b[0m\u001b[0;34m\u001b[0m\u001b[0m\n",
      "\u001b[0m\u001b[0;32m    115 \u001b[0;31m        \u001b[0;31m#debug\u001b[0m\u001b[0;34m\u001b[0m\u001b[0;34m\u001b[0m\u001b[0m\n",
      "\u001b[0m\u001b[0;32m--> 116 \u001b[0;31m        \u001b[0m_token\u001b[0m \u001b[0;34m=\u001b[0m \u001b[0mnp\u001b[0m\u001b[0;34m.\u001b[0m\u001b[0mfull\u001b[0m\u001b[0;34m(\u001b[0m\u001b[0;34m(\u001b[0m\u001b[0mlen\u001b[0m\u001b[0;34m(\u001b[0m\u001b[0mpreds\u001b[0m\u001b[0;34m)\u001b[0m\u001b[0;34m,\u001b[0m \u001b[0;36m1\u001b[0m\u001b[0;34m)\u001b[0m\u001b[0;34m,\u001b[0m \u001b[0mself\u001b[0m\u001b[0;34m.\u001b[0m\u001b[0msos_id\u001b[0m\u001b[0;34m)\u001b[0m\u001b[0;34m\u001b[0m\u001b[0;34m\u001b[0m\u001b[0m\n",
      "\u001b[0m\u001b[0;32m    117 \u001b[0;31m        \u001b[0m_tries\u001b[0m \u001b[0;34m=\u001b[0m \u001b[0;34m[\u001b[0m\u001b[0;34m[\u001b[0m\u001b[0mself\u001b[0m\u001b[0;34m.\u001b[0m\u001b[0mtrie\u001b[0m\u001b[0;34m[\u001b[0m\u001b[0mself\u001b[0m\u001b[0;34m.\u001b[0m\u001b[0msos_id\u001b[0m\u001b[0;34m]\u001b[0m\u001b[0;34m]\u001b[0m \u001b[0;32mfor\u001b[0m \u001b[0m_\u001b[0m \u001b[0;32min\u001b[0m \u001b[0mrange\u001b[0m\u001b[0;34m(\u001b[0m\u001b[0mlen\u001b[0m\u001b[0;34m(\u001b[0m\u001b[0mpreds\u001b[0m\u001b[0;34m)\u001b[0m\u001b[0;34m)\u001b[0m\u001b[0;34m]\u001b[0m\u001b[0;34m\u001b[0m\u001b[0;34m\u001b[0m\u001b[0m\n",
      "\u001b[0m\u001b[0;32m    118 \u001b[0;31m        \u001b[0m_score\u001b[0m \u001b[0;34m=\u001b[0m \u001b[0mnp\u001b[0m\u001b[0;34m.\u001b[0m\u001b[0mzeros\u001b[0m\u001b[0;34m(\u001b[0m\u001b[0;34m(\u001b[0m\u001b[0mlen\u001b[0m\u001b[0;34m(\u001b[0m\u001b[0mpreds\u001b[0m\u001b[0;34m)\u001b[0m\u001b[0;34m,\u001b[0m \u001b[0;36m1\u001b[0m\u001b[0;34m)\u001b[0m\u001b[0;34m,\u001b[0m \u001b[0mdtype\u001b[0m\u001b[0;34m=\u001b[0m\u001b[0mnp\u001b[0m\u001b[0;34m.\u001b[0m\u001b[0mfloat32\u001b[0m\u001b[0;34m)\u001b[0m\u001b[0;34m\u001b[0m\u001b[0;34m\u001b[0m\u001b[0m\n",
      "\u001b[0m\n",
      "ipdb> n\n",
      "> \u001b[0;32m/tmp/ipykernel_1270042/750450751.py\u001b[0m(117)\u001b[0;36mdecode_batch\u001b[0;34m()\u001b[0m\n",
      "\u001b[0;32m    115 \u001b[0;31m        \u001b[0;31m#debug\u001b[0m\u001b[0;34m\u001b[0m\u001b[0;34m\u001b[0m\u001b[0m\n",
      "\u001b[0m\u001b[0;32m    116 \u001b[0;31m        \u001b[0m_token\u001b[0m \u001b[0;34m=\u001b[0m \u001b[0mnp\u001b[0m\u001b[0;34m.\u001b[0m\u001b[0mfull\u001b[0m\u001b[0;34m(\u001b[0m\u001b[0;34m(\u001b[0m\u001b[0mlen\u001b[0m\u001b[0;34m(\u001b[0m\u001b[0mpreds\u001b[0m\u001b[0;34m)\u001b[0m\u001b[0;34m,\u001b[0m \u001b[0;36m1\u001b[0m\u001b[0;34m)\u001b[0m\u001b[0;34m,\u001b[0m \u001b[0mself\u001b[0m\u001b[0;34m.\u001b[0m\u001b[0msos_id\u001b[0m\u001b[0;34m)\u001b[0m\u001b[0;34m\u001b[0m\u001b[0;34m\u001b[0m\u001b[0m\n",
      "\u001b[0m\u001b[0;32m--> 117 \u001b[0;31m        \u001b[0m_tries\u001b[0m \u001b[0;34m=\u001b[0m \u001b[0;34m[\u001b[0m\u001b[0;34m[\u001b[0m\u001b[0mself\u001b[0m\u001b[0;34m.\u001b[0m\u001b[0mtrie\u001b[0m\u001b[0;34m[\u001b[0m\u001b[0mself\u001b[0m\u001b[0;34m.\u001b[0m\u001b[0msos_id\u001b[0m\u001b[0;34m]\u001b[0m\u001b[0;34m]\u001b[0m \u001b[0;32mfor\u001b[0m \u001b[0m_\u001b[0m \u001b[0;32min\u001b[0m \u001b[0mrange\u001b[0m\u001b[0;34m(\u001b[0m\u001b[0mlen\u001b[0m\u001b[0;34m(\u001b[0m\u001b[0mpreds\u001b[0m\u001b[0;34m)\u001b[0m\u001b[0;34m)\u001b[0m\u001b[0;34m]\u001b[0m\u001b[0;34m\u001b[0m\u001b[0;34m\u001b[0m\u001b[0m\n",
      "\u001b[0m\u001b[0;32m    118 \u001b[0;31m        \u001b[0m_score\u001b[0m \u001b[0;34m=\u001b[0m \u001b[0mnp\u001b[0m\u001b[0;34m.\u001b[0m\u001b[0mzeros\u001b[0m\u001b[0;34m(\u001b[0m\u001b[0;34m(\u001b[0m\u001b[0mlen\u001b[0m\u001b[0;34m(\u001b[0m\u001b[0mpreds\u001b[0m\u001b[0;34m)\u001b[0m\u001b[0;34m,\u001b[0m \u001b[0;36m1\u001b[0m\u001b[0;34m)\u001b[0m\u001b[0;34m,\u001b[0m \u001b[0mdtype\u001b[0m\u001b[0;34m=\u001b[0m\u001b[0mnp\u001b[0m\u001b[0;34m.\u001b[0m\u001b[0mfloat32\u001b[0m\u001b[0;34m)\u001b[0m\u001b[0;34m\u001b[0m\u001b[0;34m\u001b[0m\u001b[0m\n",
      "\u001b[0m\u001b[0;32m    119 \u001b[0;31m        \u001b[0m_index\u001b[0m \u001b[0;34m=\u001b[0m \u001b[0mnp\u001b[0m\u001b[0;34m.\u001b[0m\u001b[0mzeros\u001b[0m\u001b[0;34m(\u001b[0m\u001b[0;34m(\u001b[0m\u001b[0mlen\u001b[0m\u001b[0;34m(\u001b[0m\u001b[0mpreds\u001b[0m\u001b[0;34m)\u001b[0m\u001b[0;34m,\u001b[0m \u001b[0;36m1\u001b[0m\u001b[0;34m)\u001b[0m\u001b[0;34m,\u001b[0m \u001b[0mdtype\u001b[0m\u001b[0;34m=\u001b[0m\u001b[0mnp\u001b[0m\u001b[0;34m.\u001b[0m\u001b[0mint32\u001b[0m\u001b[0;34m)\u001b[0m\u001b[0;34m\u001b[0m\u001b[0;34m\u001b[0m\u001b[0m\n",
      "\u001b[0m\n",
      "ipdb> \n",
      "> \u001b[0;32m/tmp/ipykernel_1270042/750450751.py\u001b[0m(118)\u001b[0;36mdecode_batch\u001b[0;34m()\u001b[0m\n",
      "\u001b[0;32m    116 \u001b[0;31m        \u001b[0m_token\u001b[0m \u001b[0;34m=\u001b[0m \u001b[0mnp\u001b[0m\u001b[0;34m.\u001b[0m\u001b[0mfull\u001b[0m\u001b[0;34m(\u001b[0m\u001b[0;34m(\u001b[0m\u001b[0mlen\u001b[0m\u001b[0;34m(\u001b[0m\u001b[0mpreds\u001b[0m\u001b[0;34m)\u001b[0m\u001b[0;34m,\u001b[0m \u001b[0;36m1\u001b[0m\u001b[0;34m)\u001b[0m\u001b[0;34m,\u001b[0m \u001b[0mself\u001b[0m\u001b[0;34m.\u001b[0m\u001b[0msos_id\u001b[0m\u001b[0;34m)\u001b[0m\u001b[0;34m\u001b[0m\u001b[0;34m\u001b[0m\u001b[0m\n",
      "\u001b[0m\u001b[0;32m    117 \u001b[0;31m        \u001b[0m_tries\u001b[0m \u001b[0;34m=\u001b[0m \u001b[0;34m[\u001b[0m\u001b[0;34m[\u001b[0m\u001b[0mself\u001b[0m\u001b[0;34m.\u001b[0m\u001b[0mtrie\u001b[0m\u001b[0;34m[\u001b[0m\u001b[0mself\u001b[0m\u001b[0;34m.\u001b[0m\u001b[0msos_id\u001b[0m\u001b[0;34m]\u001b[0m\u001b[0;34m]\u001b[0m \u001b[0;32mfor\u001b[0m \u001b[0m_\u001b[0m \u001b[0;32min\u001b[0m \u001b[0mrange\u001b[0m\u001b[0;34m(\u001b[0m\u001b[0mlen\u001b[0m\u001b[0;34m(\u001b[0m\u001b[0mpreds\u001b[0m\u001b[0;34m)\u001b[0m\u001b[0;34m)\u001b[0m\u001b[0;34m]\u001b[0m\u001b[0;34m\u001b[0m\u001b[0;34m\u001b[0m\u001b[0m\n",
      "\u001b[0m\u001b[0;32m--> 118 \u001b[0;31m        \u001b[0m_score\u001b[0m \u001b[0;34m=\u001b[0m \u001b[0mnp\u001b[0m\u001b[0;34m.\u001b[0m\u001b[0mzeros\u001b[0m\u001b[0;34m(\u001b[0m\u001b[0;34m(\u001b[0m\u001b[0mlen\u001b[0m\u001b[0;34m(\u001b[0m\u001b[0mpreds\u001b[0m\u001b[0;34m)\u001b[0m\u001b[0;34m,\u001b[0m \u001b[0;36m1\u001b[0m\u001b[0;34m)\u001b[0m\u001b[0;34m,\u001b[0m \u001b[0mdtype\u001b[0m\u001b[0;34m=\u001b[0m\u001b[0mnp\u001b[0m\u001b[0;34m.\u001b[0m\u001b[0mfloat32\u001b[0m\u001b[0;34m)\u001b[0m\u001b[0;34m\u001b[0m\u001b[0;34m\u001b[0m\u001b[0m\n",
      "\u001b[0m\u001b[0;32m    119 \u001b[0;31m        \u001b[0m_index\u001b[0m \u001b[0;34m=\u001b[0m \u001b[0mnp\u001b[0m\u001b[0;34m.\u001b[0m\u001b[0mzeros\u001b[0m\u001b[0;34m(\u001b[0m\u001b[0;34m(\u001b[0m\u001b[0mlen\u001b[0m\u001b[0;34m(\u001b[0m\u001b[0mpreds\u001b[0m\u001b[0;34m)\u001b[0m\u001b[0;34m,\u001b[0m \u001b[0;36m1\u001b[0m\u001b[0;34m)\u001b[0m\u001b[0;34m,\u001b[0m \u001b[0mdtype\u001b[0m\u001b[0;34m=\u001b[0m\u001b[0mnp\u001b[0m\u001b[0;34m.\u001b[0m\u001b[0mint32\u001b[0m\u001b[0;34m)\u001b[0m\u001b[0;34m\u001b[0m\u001b[0;34m\u001b[0m\u001b[0m\n",
      "\u001b[0m\u001b[0;32m    120 \u001b[0;31m        \u001b[0m_l_scr\u001b[0m \u001b[0;34m=\u001b[0m \u001b[0mnp\u001b[0m\u001b[0;34m.\u001b[0m\u001b[0mones\u001b[0m\u001b[0;34m(\u001b[0m\u001b[0;34m(\u001b[0m\u001b[0mlen\u001b[0m\u001b[0;34m(\u001b[0m\u001b[0mpreds\u001b[0m\u001b[0;34m)\u001b[0m\u001b[0;34m,\u001b[0m \u001b[0;36m1\u001b[0m\u001b[0;34m)\u001b[0m\u001b[0;34m,\u001b[0m \u001b[0mdtype\u001b[0m\u001b[0;34m=\u001b[0m\u001b[0mnp\u001b[0m\u001b[0;34m.\u001b[0m\u001b[0mint32\u001b[0m\u001b[0;34m)\u001b[0m\u001b[0;34m\u001b[0m\u001b[0;34m\u001b[0m\u001b[0m\n",
      "\u001b[0m\n",
      "ipdb> \n",
      "ipdb> \n",
      "> \u001b[0;32m/tmp/ipykernel_1270042/750450751.py\u001b[0m(119)\u001b[0;36mdecode_batch\u001b[0;34m()\u001b[0m\n",
      "\u001b[0;32m    117 \u001b[0;31m        \u001b[0m_tries\u001b[0m \u001b[0;34m=\u001b[0m \u001b[0;34m[\u001b[0m\u001b[0;34m[\u001b[0m\u001b[0mself\u001b[0m\u001b[0;34m.\u001b[0m\u001b[0mtrie\u001b[0m\u001b[0;34m[\u001b[0m\u001b[0mself\u001b[0m\u001b[0;34m.\u001b[0m\u001b[0msos_id\u001b[0m\u001b[0;34m]\u001b[0m\u001b[0;34m]\u001b[0m \u001b[0;32mfor\u001b[0m \u001b[0m_\u001b[0m \u001b[0;32min\u001b[0m \u001b[0mrange\u001b[0m\u001b[0;34m(\u001b[0m\u001b[0mlen\u001b[0m\u001b[0;34m(\u001b[0m\u001b[0mpreds\u001b[0m\u001b[0;34m)\u001b[0m\u001b[0;34m)\u001b[0m\u001b[0;34m]\u001b[0m\u001b[0;34m\u001b[0m\u001b[0;34m\u001b[0m\u001b[0m\n",
      "\u001b[0m\u001b[0;32m    118 \u001b[0;31m        \u001b[0m_score\u001b[0m \u001b[0;34m=\u001b[0m \u001b[0mnp\u001b[0m\u001b[0;34m.\u001b[0m\u001b[0mzeros\u001b[0m\u001b[0;34m(\u001b[0m\u001b[0;34m(\u001b[0m\u001b[0mlen\u001b[0m\u001b[0;34m(\u001b[0m\u001b[0mpreds\u001b[0m\u001b[0;34m)\u001b[0m\u001b[0;34m,\u001b[0m \u001b[0;36m1\u001b[0m\u001b[0;34m)\u001b[0m\u001b[0;34m,\u001b[0m \u001b[0mdtype\u001b[0m\u001b[0;34m=\u001b[0m\u001b[0mnp\u001b[0m\u001b[0;34m.\u001b[0m\u001b[0mfloat32\u001b[0m\u001b[0;34m)\u001b[0m\u001b[0;34m\u001b[0m\u001b[0;34m\u001b[0m\u001b[0m\n",
      "\u001b[0m\u001b[0;32m--> 119 \u001b[0;31m        \u001b[0m_index\u001b[0m \u001b[0;34m=\u001b[0m \u001b[0mnp\u001b[0m\u001b[0;34m.\u001b[0m\u001b[0mzeros\u001b[0m\u001b[0;34m(\u001b[0m\u001b[0;34m(\u001b[0m\u001b[0mlen\u001b[0m\u001b[0;34m(\u001b[0m\u001b[0mpreds\u001b[0m\u001b[0;34m)\u001b[0m\u001b[0;34m,\u001b[0m \u001b[0;36m1\u001b[0m\u001b[0;34m)\u001b[0m\u001b[0;34m,\u001b[0m \u001b[0mdtype\u001b[0m\u001b[0;34m=\u001b[0m\u001b[0mnp\u001b[0m\u001b[0;34m.\u001b[0m\u001b[0mint32\u001b[0m\u001b[0;34m)\u001b[0m\u001b[0;34m\u001b[0m\u001b[0;34m\u001b[0m\u001b[0m\n",
      "\u001b[0m\u001b[0;32m    120 \u001b[0;31m        \u001b[0m_l_scr\u001b[0m \u001b[0;34m=\u001b[0m \u001b[0mnp\u001b[0m\u001b[0;34m.\u001b[0m\u001b[0mones\u001b[0m\u001b[0;34m(\u001b[0m\u001b[0;34m(\u001b[0m\u001b[0mlen\u001b[0m\u001b[0;34m(\u001b[0m\u001b[0mpreds\u001b[0m\u001b[0;34m)\u001b[0m\u001b[0;34m,\u001b[0m \u001b[0;36m1\u001b[0m\u001b[0;34m)\u001b[0m\u001b[0;34m,\u001b[0m \u001b[0mdtype\u001b[0m\u001b[0;34m=\u001b[0m\u001b[0mnp\u001b[0m\u001b[0;34m.\u001b[0m\u001b[0mint32\u001b[0m\u001b[0;34m)\u001b[0m\u001b[0;34m\u001b[0m\u001b[0;34m\u001b[0m\u001b[0m\n",
      "\u001b[0m\u001b[0;32m    121 \u001b[0;31m        \u001b[0;32mfor\u001b[0m \u001b[0mi\u001b[0m \u001b[0;32min\u001b[0m \u001b[0mnp\u001b[0m\u001b[0;34m.\u001b[0m\u001b[0marange\u001b[0m\u001b[0;34m(\u001b[0m\u001b[0mstart_seq\u001b[0m\u001b[0;34m,\u001b[0m \u001b[0mself\u001b[0m\u001b[0;34m.\u001b[0m\u001b[0mmax_height\u001b[0m\u001b[0;34m)\u001b[0m\u001b[0;34m:\u001b[0m\u001b[0;34m\u001b[0m\u001b[0;34m\u001b[0m\u001b[0m\n",
      "\u001b[0m\n",
      "> \u001b[0;32m/tmp/ipykernel_1270042/750450751.py\u001b[0m(120)\u001b[0;36mdecode_batch\u001b[0;34m()\u001b[0m\n",
      "\u001b[0;32m    118 \u001b[0;31m        \u001b[0m_score\u001b[0m \u001b[0;34m=\u001b[0m \u001b[0mnp\u001b[0m\u001b[0;34m.\u001b[0m\u001b[0mzeros\u001b[0m\u001b[0;34m(\u001b[0m\u001b[0;34m(\u001b[0m\u001b[0mlen\u001b[0m\u001b[0;34m(\u001b[0m\u001b[0mpreds\u001b[0m\u001b[0;34m)\u001b[0m\u001b[0;34m,\u001b[0m \u001b[0;36m1\u001b[0m\u001b[0;34m)\u001b[0m\u001b[0;34m,\u001b[0m \u001b[0mdtype\u001b[0m\u001b[0;34m=\u001b[0m\u001b[0mnp\u001b[0m\u001b[0;34m.\u001b[0m\u001b[0mfloat32\u001b[0m\u001b[0;34m)\u001b[0m\u001b[0;34m\u001b[0m\u001b[0;34m\u001b[0m\u001b[0m\n",
      "\u001b[0m\u001b[0;32m    119 \u001b[0;31m        \u001b[0m_index\u001b[0m \u001b[0;34m=\u001b[0m \u001b[0mnp\u001b[0m\u001b[0;34m.\u001b[0m\u001b[0mzeros\u001b[0m\u001b[0;34m(\u001b[0m\u001b[0;34m(\u001b[0m\u001b[0mlen\u001b[0m\u001b[0;34m(\u001b[0m\u001b[0mpreds\u001b[0m\u001b[0;34m)\u001b[0m\u001b[0;34m,\u001b[0m \u001b[0;36m1\u001b[0m\u001b[0;34m)\u001b[0m\u001b[0;34m,\u001b[0m \u001b[0mdtype\u001b[0m\u001b[0;34m=\u001b[0m\u001b[0mnp\u001b[0m\u001b[0;34m.\u001b[0m\u001b[0mint32\u001b[0m\u001b[0;34m)\u001b[0m\u001b[0;34m\u001b[0m\u001b[0;34m\u001b[0m\u001b[0m\n",
      "\u001b[0m\u001b[0;32m--> 120 \u001b[0;31m        \u001b[0m_l_scr\u001b[0m \u001b[0;34m=\u001b[0m \u001b[0mnp\u001b[0m\u001b[0;34m.\u001b[0m\u001b[0mones\u001b[0m\u001b[0;34m(\u001b[0m\u001b[0;34m(\u001b[0m\u001b[0mlen\u001b[0m\u001b[0;34m(\u001b[0m\u001b[0mpreds\u001b[0m\u001b[0;34m)\u001b[0m\u001b[0;34m,\u001b[0m \u001b[0;36m1\u001b[0m\u001b[0;34m)\u001b[0m\u001b[0;34m,\u001b[0m \u001b[0mdtype\u001b[0m\u001b[0;34m=\u001b[0m\u001b[0mnp\u001b[0m\u001b[0;34m.\u001b[0m\u001b[0mint32\u001b[0m\u001b[0;34m)\u001b[0m\u001b[0;34m\u001b[0m\u001b[0;34m\u001b[0m\u001b[0m\n",
      "\u001b[0m\u001b[0;32m    121 \u001b[0;31m        \u001b[0;32mfor\u001b[0m \u001b[0mi\u001b[0m \u001b[0;32min\u001b[0m \u001b[0mnp\u001b[0m\u001b[0;34m.\u001b[0m\u001b[0marange\u001b[0m\u001b[0;34m(\u001b[0m\u001b[0mstart_seq\u001b[0m\u001b[0;34m,\u001b[0m \u001b[0mself\u001b[0m\u001b[0;34m.\u001b[0m\u001b[0mmax_height\u001b[0m\u001b[0;34m)\u001b[0m\u001b[0;34m:\u001b[0m\u001b[0;34m\u001b[0m\u001b[0;34m\u001b[0m\u001b[0m\n",
      "\u001b[0m\u001b[0;32m    122 \u001b[0;31m            \u001b[0m_tries\u001b[0m\u001b[0;34m,\u001b[0m \u001b[0m_score\u001b[0m\u001b[0;34m,\u001b[0m \u001b[0m_l_scr\u001b[0m \u001b[0;34m=\u001b[0m \u001b[0mself\u001b[0m\u001b[0;34m.\u001b[0m\u001b[0msnl\u001b[0m\u001b[0;34m(\u001b[0m\u001b[0m_tries\u001b[0m\u001b[0;34m,\u001b[0m \u001b[0m_score\u001b[0m\u001b[0;34m,\u001b[0m \u001b[0mpreds\u001b[0m\u001b[0;34m[\u001b[0m\u001b[0;34m:\u001b[0m\u001b[0;34m,\u001b[0m \u001b[0mi\u001b[0m\u001b[0;34m]\u001b[0m\u001b[0;34m,\u001b[0m \u001b[0m_l_scr\u001b[0m\u001b[0;34m,\u001b[0m \u001b[0m_index\u001b[0m\u001b[0;34m)\u001b[0m\u001b[0;34m\u001b[0m\u001b[0;34m\u001b[0m\u001b[0m\n",
      "\u001b[0m\n",
      "ipdb> \n",
      "> \u001b[0;32m/tmp/ipykernel_1270042/750450751.py\u001b[0m(121)\u001b[0;36mdecode_batch\u001b[0;34m()\u001b[0m\n",
      "\u001b[0;32m    119 \u001b[0;31m        \u001b[0m_index\u001b[0m \u001b[0;34m=\u001b[0m \u001b[0mnp\u001b[0m\u001b[0;34m.\u001b[0m\u001b[0mzeros\u001b[0m\u001b[0;34m(\u001b[0m\u001b[0;34m(\u001b[0m\u001b[0mlen\u001b[0m\u001b[0;34m(\u001b[0m\u001b[0mpreds\u001b[0m\u001b[0;34m)\u001b[0m\u001b[0;34m,\u001b[0m \u001b[0;36m1\u001b[0m\u001b[0;34m)\u001b[0m\u001b[0;34m,\u001b[0m \u001b[0mdtype\u001b[0m\u001b[0;34m=\u001b[0m\u001b[0mnp\u001b[0m\u001b[0;34m.\u001b[0m\u001b[0mint32\u001b[0m\u001b[0;34m)\u001b[0m\u001b[0;34m\u001b[0m\u001b[0;34m\u001b[0m\u001b[0m\n",
      "\u001b[0m\u001b[0;32m    120 \u001b[0;31m        \u001b[0m_l_scr\u001b[0m \u001b[0;34m=\u001b[0m \u001b[0mnp\u001b[0m\u001b[0;34m.\u001b[0m\u001b[0mones\u001b[0m\u001b[0;34m(\u001b[0m\u001b[0;34m(\u001b[0m\u001b[0mlen\u001b[0m\u001b[0;34m(\u001b[0m\u001b[0mpreds\u001b[0m\u001b[0;34m)\u001b[0m\u001b[0;34m,\u001b[0m \u001b[0;36m1\u001b[0m\u001b[0;34m)\u001b[0m\u001b[0;34m,\u001b[0m \u001b[0mdtype\u001b[0m\u001b[0;34m=\u001b[0m\u001b[0mnp\u001b[0m\u001b[0;34m.\u001b[0m\u001b[0mint32\u001b[0m\u001b[0;34m)\u001b[0m\u001b[0;34m\u001b[0m\u001b[0;34m\u001b[0m\u001b[0m\n",
      "\u001b[0m\u001b[0;32m--> 121 \u001b[0;31m        \u001b[0;32mfor\u001b[0m \u001b[0mi\u001b[0m \u001b[0;32min\u001b[0m \u001b[0mnp\u001b[0m\u001b[0;34m.\u001b[0m\u001b[0marange\u001b[0m\u001b[0;34m(\u001b[0m\u001b[0mstart_seq\u001b[0m\u001b[0;34m,\u001b[0m \u001b[0mself\u001b[0m\u001b[0;34m.\u001b[0m\u001b[0mmax_height\u001b[0m\u001b[0;34m)\u001b[0m\u001b[0;34m:\u001b[0m\u001b[0;34m\u001b[0m\u001b[0;34m\u001b[0m\u001b[0m\n",
      "\u001b[0m\u001b[0;32m    122 \u001b[0;31m            \u001b[0m_tries\u001b[0m\u001b[0;34m,\u001b[0m \u001b[0m_score\u001b[0m\u001b[0;34m,\u001b[0m \u001b[0m_l_scr\u001b[0m \u001b[0;34m=\u001b[0m \u001b[0mself\u001b[0m\u001b[0;34m.\u001b[0m\u001b[0msnl\u001b[0m\u001b[0;34m(\u001b[0m\u001b[0m_tries\u001b[0m\u001b[0;34m,\u001b[0m \u001b[0m_score\u001b[0m\u001b[0;34m,\u001b[0m \u001b[0mpreds\u001b[0m\u001b[0;34m[\u001b[0m\u001b[0;34m:\u001b[0m\u001b[0;34m,\u001b[0m \u001b[0mi\u001b[0m\u001b[0;34m]\u001b[0m\u001b[0;34m,\u001b[0m \u001b[0m_l_scr\u001b[0m\u001b[0;34m,\u001b[0m \u001b[0m_index\u001b[0m\u001b[0;34m)\u001b[0m\u001b[0;34m\u001b[0m\u001b[0;34m\u001b[0m\u001b[0m\n",
      "\u001b[0m\u001b[0;32m    123 \u001b[0;31m            \u001b[0m_score\u001b[0m \u001b[0;34m=\u001b[0m \u001b[0mnp\u001b[0m\u001b[0;34m.\u001b[0m\u001b[0mmultiply\u001b[0m\u001b[0;34m(\u001b[0m\u001b[0m_score\u001b[0m\u001b[0;34m,\u001b[0m \u001b[0mnp\u001b[0m\u001b[0;34m.\u001b[0m\u001b[0mpower\u001b[0m\u001b[0;34m(\u001b[0m\u001b[0m_l_scr\u001b[0m\u001b[0;34m,\u001b[0m\u001b[0;34m-\u001b[0m\u001b[0ml_penalty\u001b[0m\u001b[0;34m)\u001b[0m\u001b[0;34m)\u001b[0m\u001b[0;34m\u001b[0m\u001b[0;34m\u001b[0m\u001b[0m\n",
      "\u001b[0m\n"
     ]
    },
    {
     "name": "stdout",
     "output_type": "stream",
     "text": [
      "ipdb> \n",
      "> \u001b[0;32m/tmp/ipykernel_1270042/750450751.py\u001b[0m(122)\u001b[0;36mdecode_batch\u001b[0;34m()\u001b[0m\n",
      "\u001b[0;32m    120 \u001b[0;31m        \u001b[0m_l_scr\u001b[0m \u001b[0;34m=\u001b[0m \u001b[0mnp\u001b[0m\u001b[0;34m.\u001b[0m\u001b[0mones\u001b[0m\u001b[0;34m(\u001b[0m\u001b[0;34m(\u001b[0m\u001b[0mlen\u001b[0m\u001b[0;34m(\u001b[0m\u001b[0mpreds\u001b[0m\u001b[0;34m)\u001b[0m\u001b[0;34m,\u001b[0m \u001b[0;36m1\u001b[0m\u001b[0;34m)\u001b[0m\u001b[0;34m,\u001b[0m \u001b[0mdtype\u001b[0m\u001b[0;34m=\u001b[0m\u001b[0mnp\u001b[0m\u001b[0;34m.\u001b[0m\u001b[0mint32\u001b[0m\u001b[0;34m)\u001b[0m\u001b[0;34m\u001b[0m\u001b[0;34m\u001b[0m\u001b[0m\n",
      "\u001b[0m\u001b[0;32m    121 \u001b[0;31m        \u001b[0;32mfor\u001b[0m \u001b[0mi\u001b[0m \u001b[0;32min\u001b[0m \u001b[0mnp\u001b[0m\u001b[0;34m.\u001b[0m\u001b[0marange\u001b[0m\u001b[0;34m(\u001b[0m\u001b[0mstart_seq\u001b[0m\u001b[0;34m,\u001b[0m \u001b[0mself\u001b[0m\u001b[0;34m.\u001b[0m\u001b[0mmax_height\u001b[0m\u001b[0;34m)\u001b[0m\u001b[0;34m:\u001b[0m\u001b[0;34m\u001b[0m\u001b[0;34m\u001b[0m\u001b[0m\n",
      "\u001b[0m\u001b[0;32m--> 122 \u001b[0;31m            \u001b[0m_tries\u001b[0m\u001b[0;34m,\u001b[0m \u001b[0m_score\u001b[0m\u001b[0;34m,\u001b[0m \u001b[0m_l_scr\u001b[0m \u001b[0;34m=\u001b[0m \u001b[0mself\u001b[0m\u001b[0;34m.\u001b[0m\u001b[0msnl\u001b[0m\u001b[0;34m(\u001b[0m\u001b[0m_tries\u001b[0m\u001b[0;34m,\u001b[0m \u001b[0m_score\u001b[0m\u001b[0;34m,\u001b[0m \u001b[0mpreds\u001b[0m\u001b[0;34m[\u001b[0m\u001b[0;34m:\u001b[0m\u001b[0;34m,\u001b[0m \u001b[0mi\u001b[0m\u001b[0;34m]\u001b[0m\u001b[0;34m,\u001b[0m \u001b[0m_l_scr\u001b[0m\u001b[0;34m,\u001b[0m \u001b[0m_index\u001b[0m\u001b[0;34m)\u001b[0m\u001b[0;34m\u001b[0m\u001b[0;34m\u001b[0m\u001b[0m\n",
      "\u001b[0m\u001b[0;32m    123 \u001b[0;31m            \u001b[0m_score\u001b[0m \u001b[0;34m=\u001b[0m \u001b[0mnp\u001b[0m\u001b[0;34m.\u001b[0m\u001b[0mmultiply\u001b[0m\u001b[0;34m(\u001b[0m\u001b[0m_score\u001b[0m\u001b[0;34m,\u001b[0m \u001b[0mnp\u001b[0m\u001b[0;34m.\u001b[0m\u001b[0mpower\u001b[0m\u001b[0;34m(\u001b[0m\u001b[0m_l_scr\u001b[0m\u001b[0;34m,\u001b[0m\u001b[0;34m-\u001b[0m\u001b[0ml_penalty\u001b[0m\u001b[0;34m)\u001b[0m\u001b[0;34m)\u001b[0m\u001b[0;34m\u001b[0m\u001b[0;34m\u001b[0m\u001b[0m\n",
      "\u001b[0m\u001b[0;32m    124 \u001b[0;31m            \u001b[0m_index\u001b[0m \u001b[0;34m=\u001b[0m \u001b[0mself\u001b[0m\u001b[0;34m.\u001b[0m\u001b[0mbatch_topk\u001b[0m\u001b[0;34m(\u001b[0m\u001b[0m_score\u001b[0m\u001b[0;34m,\u001b[0m \u001b[0mbeam\u001b[0m\u001b[0;34m,\u001b[0m \u001b[0mi\u001b[0m\u001b[0;34m+\u001b[0m\u001b[0;36m1\u001b[0m\u001b[0;34m==\u001b[0m\u001b[0mself\u001b[0m\u001b[0;34m.\u001b[0m\u001b[0mmax_height\u001b[0m\u001b[0;34m,\u001b[0m \u001b[0mi\u001b[0m\u001b[0;34m+\u001b[0m\u001b[0;36m1\u001b[0m\u001b[0;34m==\u001b[0m\u001b[0mself\u001b[0m\u001b[0;34m.\u001b[0m\u001b[0mmax_height\u001b[0m\u001b[0;34m)\u001b[0m\u001b[0;34m\u001b[0m\u001b[0;34m\u001b[0m\u001b[0m\n",
      "\u001b[0m\n",
      "ipdb> \n",
      "> \u001b[0;32m/tmp/ipykernel_1270042/750450751.py\u001b[0m(123)\u001b[0;36mdecode_batch\u001b[0;34m()\u001b[0m\n",
      "\u001b[0;32m    121 \u001b[0;31m        \u001b[0;32mfor\u001b[0m \u001b[0mi\u001b[0m \u001b[0;32min\u001b[0m \u001b[0mnp\u001b[0m\u001b[0;34m.\u001b[0m\u001b[0marange\u001b[0m\u001b[0;34m(\u001b[0m\u001b[0mstart_seq\u001b[0m\u001b[0;34m,\u001b[0m \u001b[0mself\u001b[0m\u001b[0;34m.\u001b[0m\u001b[0mmax_height\u001b[0m\u001b[0;34m)\u001b[0m\u001b[0;34m:\u001b[0m\u001b[0;34m\u001b[0m\u001b[0;34m\u001b[0m\u001b[0m\n",
      "\u001b[0m\u001b[0;32m    122 \u001b[0;31m            \u001b[0m_tries\u001b[0m\u001b[0;34m,\u001b[0m \u001b[0m_score\u001b[0m\u001b[0;34m,\u001b[0m \u001b[0m_l_scr\u001b[0m \u001b[0;34m=\u001b[0m \u001b[0mself\u001b[0m\u001b[0;34m.\u001b[0m\u001b[0msnl\u001b[0m\u001b[0;34m(\u001b[0m\u001b[0m_tries\u001b[0m\u001b[0;34m,\u001b[0m \u001b[0m_score\u001b[0m\u001b[0;34m,\u001b[0m \u001b[0mpreds\u001b[0m\u001b[0;34m[\u001b[0m\u001b[0;34m:\u001b[0m\u001b[0;34m,\u001b[0m \u001b[0mi\u001b[0m\u001b[0;34m]\u001b[0m\u001b[0;34m,\u001b[0m \u001b[0m_l_scr\u001b[0m\u001b[0;34m,\u001b[0m \u001b[0m_index\u001b[0m\u001b[0;34m)\u001b[0m\u001b[0;34m\u001b[0m\u001b[0;34m\u001b[0m\u001b[0m\n",
      "\u001b[0m\u001b[0;32m--> 123 \u001b[0;31m            \u001b[0m_score\u001b[0m \u001b[0;34m=\u001b[0m \u001b[0mnp\u001b[0m\u001b[0;34m.\u001b[0m\u001b[0mmultiply\u001b[0m\u001b[0;34m(\u001b[0m\u001b[0m_score\u001b[0m\u001b[0;34m,\u001b[0m \u001b[0mnp\u001b[0m\u001b[0;34m.\u001b[0m\u001b[0mpower\u001b[0m\u001b[0;34m(\u001b[0m\u001b[0m_l_scr\u001b[0m\u001b[0;34m,\u001b[0m\u001b[0;34m-\u001b[0m\u001b[0ml_penalty\u001b[0m\u001b[0;34m)\u001b[0m\u001b[0;34m)\u001b[0m\u001b[0;34m\u001b[0m\u001b[0;34m\u001b[0m\u001b[0m\n",
      "\u001b[0m\u001b[0;32m    124 \u001b[0;31m            \u001b[0m_index\u001b[0m \u001b[0;34m=\u001b[0m \u001b[0mself\u001b[0m\u001b[0;34m.\u001b[0m\u001b[0mbatch_topk\u001b[0m\u001b[0;34m(\u001b[0m\u001b[0m_score\u001b[0m\u001b[0;34m,\u001b[0m \u001b[0mbeam\u001b[0m\u001b[0;34m,\u001b[0m \u001b[0mi\u001b[0m\u001b[0;34m+\u001b[0m\u001b[0;36m1\u001b[0m\u001b[0;34m==\u001b[0m\u001b[0mself\u001b[0m\u001b[0;34m.\u001b[0m\u001b[0mmax_height\u001b[0m\u001b[0;34m,\u001b[0m \u001b[0mi\u001b[0m\u001b[0;34m+\u001b[0m\u001b[0;36m1\u001b[0m\u001b[0;34m==\u001b[0m\u001b[0mself\u001b[0m\u001b[0;34m.\u001b[0m\u001b[0mmax_height\u001b[0m\u001b[0;34m)\u001b[0m\u001b[0;34m\u001b[0m\u001b[0;34m\u001b[0m\u001b[0m\n",
      "\u001b[0m\u001b[0;32m    125 \u001b[0;31m        \u001b[0;32mreturn\u001b[0m \u001b[0mself\u001b[0m\u001b[0;34m.\u001b[0m\u001b[0magl\u001b[0m\u001b[0;34m(\u001b[0m\u001b[0m_tries\u001b[0m\u001b[0;34m,\u001b[0m \u001b[0m_index\u001b[0m\u001b[0;34m[\u001b[0m\u001b[0;36m0\u001b[0m\u001b[0;34m]\u001b[0m\u001b[0;34m,\u001b[0m \u001b[0m_index\u001b[0m\u001b[0;34m[\u001b[0m\u001b[0;36m1\u001b[0m\u001b[0;34m]\u001b[0m\u001b[0;34m)\u001b[0m\u001b[0;34m\u001b[0m\u001b[0;34m\u001b[0m\u001b[0m\n",
      "\u001b[0m\n",
      "ipdb> len(_tries)\n",
      "64\n",
      "ipdb> len(_tries[0])\n",
      "15746\n",
      "ipdb> len(_tries[1])\n",
      "15746\n",
      "ipdb> n\n",
      "> \u001b[0;32m/tmp/ipykernel_1270042/750450751.py\u001b[0m(124)\u001b[0;36mdecode_batch\u001b[0;34m()\u001b[0m\n",
      "\u001b[0;32m    122 \u001b[0;31m            \u001b[0m_tries\u001b[0m\u001b[0;34m,\u001b[0m \u001b[0m_score\u001b[0m\u001b[0;34m,\u001b[0m \u001b[0m_l_scr\u001b[0m \u001b[0;34m=\u001b[0m \u001b[0mself\u001b[0m\u001b[0;34m.\u001b[0m\u001b[0msnl\u001b[0m\u001b[0;34m(\u001b[0m\u001b[0m_tries\u001b[0m\u001b[0;34m,\u001b[0m \u001b[0m_score\u001b[0m\u001b[0;34m,\u001b[0m \u001b[0mpreds\u001b[0m\u001b[0;34m[\u001b[0m\u001b[0;34m:\u001b[0m\u001b[0;34m,\u001b[0m \u001b[0mi\u001b[0m\u001b[0;34m]\u001b[0m\u001b[0;34m,\u001b[0m \u001b[0m_l_scr\u001b[0m\u001b[0;34m,\u001b[0m \u001b[0m_index\u001b[0m\u001b[0;34m)\u001b[0m\u001b[0;34m\u001b[0m\u001b[0;34m\u001b[0m\u001b[0m\n",
      "\u001b[0m\u001b[0;32m    123 \u001b[0;31m            \u001b[0m_score\u001b[0m \u001b[0;34m=\u001b[0m \u001b[0mnp\u001b[0m\u001b[0;34m.\u001b[0m\u001b[0mmultiply\u001b[0m\u001b[0;34m(\u001b[0m\u001b[0m_score\u001b[0m\u001b[0;34m,\u001b[0m \u001b[0mnp\u001b[0m\u001b[0;34m.\u001b[0m\u001b[0mpower\u001b[0m\u001b[0;34m(\u001b[0m\u001b[0m_l_scr\u001b[0m\u001b[0;34m,\u001b[0m\u001b[0;34m-\u001b[0m\u001b[0ml_penalty\u001b[0m\u001b[0;34m)\u001b[0m\u001b[0;34m)\u001b[0m\u001b[0;34m\u001b[0m\u001b[0;34m\u001b[0m\u001b[0m\n",
      "\u001b[0m\u001b[0;32m--> 124 \u001b[0;31m            \u001b[0m_index\u001b[0m \u001b[0;34m=\u001b[0m \u001b[0mself\u001b[0m\u001b[0;34m.\u001b[0m\u001b[0mbatch_topk\u001b[0m\u001b[0;34m(\u001b[0m\u001b[0m_score\u001b[0m\u001b[0;34m,\u001b[0m \u001b[0mbeam\u001b[0m\u001b[0;34m,\u001b[0m \u001b[0mi\u001b[0m\u001b[0;34m+\u001b[0m\u001b[0;36m1\u001b[0m\u001b[0;34m==\u001b[0m\u001b[0mself\u001b[0m\u001b[0;34m.\u001b[0m\u001b[0mmax_height\u001b[0m\u001b[0;34m,\u001b[0m \u001b[0mi\u001b[0m\u001b[0;34m+\u001b[0m\u001b[0;36m1\u001b[0m\u001b[0;34m==\u001b[0m\u001b[0mself\u001b[0m\u001b[0;34m.\u001b[0m\u001b[0mmax_height\u001b[0m\u001b[0;34m)\u001b[0m\u001b[0;34m\u001b[0m\u001b[0;34m\u001b[0m\u001b[0m\n",
      "\u001b[0m\u001b[0;32m    125 \u001b[0;31m        \u001b[0;32mreturn\u001b[0m \u001b[0mself\u001b[0m\u001b[0;34m.\u001b[0m\u001b[0magl\u001b[0m\u001b[0;34m(\u001b[0m\u001b[0m_tries\u001b[0m\u001b[0;34m,\u001b[0m \u001b[0m_index\u001b[0m\u001b[0;34m[\u001b[0m\u001b[0;36m0\u001b[0m\u001b[0;34m]\u001b[0m\u001b[0;34m,\u001b[0m \u001b[0m_index\u001b[0m\u001b[0;34m[\u001b[0m\u001b[0;36m1\u001b[0m\u001b[0;34m]\u001b[0m\u001b[0;34m)\u001b[0m\u001b[0;34m\u001b[0m\u001b[0;34m\u001b[0m\u001b[0m\n",
      "\u001b[0m\u001b[0;32m    126 \u001b[0;31m\u001b[0;34m\u001b[0m\u001b[0m\n",
      "\u001b[0m\n",
      "ipdb> s\n",
      "--Call--\n",
      "> \u001b[0;32m/tmp/ipykernel_1270042/750450751.py\u001b[0m(55)\u001b[0;36mbatch_topk\u001b[0;34m()\u001b[0m\n",
      "\u001b[0;32m     53 \u001b[0;31m        \u001b[0;32mreturn\u001b[0m \u001b[0mindex\u001b[0m\u001b[0;34m\u001b[0m\u001b[0;34m\u001b[0m\u001b[0m\n",
      "\u001b[0m\u001b[0;32m     54 \u001b[0;31m\u001b[0;34m\u001b[0m\u001b[0m\n",
      "\u001b[0m\u001b[0;32m---> 55 \u001b[0;31m    \u001b[0;32mdef\u001b[0m \u001b[0mbatch_topk\u001b[0m\u001b[0;34m(\u001b[0m\u001b[0mself\u001b[0m\u001b[0;34m,\u001b[0m \u001b[0mscore\u001b[0m\u001b[0;34m,\u001b[0m \u001b[0mk\u001b[0m\u001b[0;34m=\u001b[0m\u001b[0;36m10\u001b[0m\u001b[0;34m,\u001b[0m \u001b[0mreturn_scores\u001b[0m\u001b[0;34m=\u001b[0m\u001b[0;32mFalse\u001b[0m\u001b[0;34m,\u001b[0m \u001b[0msort\u001b[0m\u001b[0;34m=\u001b[0m\u001b[0;32mFalse\u001b[0m\u001b[0;34m)\u001b[0m\u001b[0;34m:\u001b[0m\u001b[0;34m\u001b[0m\u001b[0;34m\u001b[0m\u001b[0m\n",
      "\u001b[0m\u001b[0;32m     56 \u001b[0;31m        \u001b[0mindex\u001b[0m \u001b[0;34m=\u001b[0m \u001b[0mnp\u001b[0m\u001b[0;34m.\u001b[0m\u001b[0margpartition\u001b[0m\u001b[0;34m(\u001b[0m\u001b[0mscore\u001b[0m\u001b[0;34m,\u001b[0m \u001b[0;34m-\u001b[0m\u001b[0mk\u001b[0m\u001b[0;34m,\u001b[0m \u001b[0maxis\u001b[0m\u001b[0;34m=\u001b[0m\u001b[0;36m1\u001b[0m\u001b[0;34m)\u001b[0m\u001b[0;34m[\u001b[0m\u001b[0;34m:\u001b[0m\u001b[0;34m,\u001b[0m \u001b[0;34m-\u001b[0m\u001b[0mk\u001b[0m\u001b[0;34m:\u001b[0m\u001b[0;34m]\u001b[0m\u001b[0;34m\u001b[0m\u001b[0;34m\u001b[0m\u001b[0m\n",
      "\u001b[0m\u001b[0;32m     57 \u001b[0;31m        \u001b[0;32mif\u001b[0m \u001b[0msort\u001b[0m\u001b[0;34m:\u001b[0m\u001b[0;34m\u001b[0m\u001b[0;34m\u001b[0m\u001b[0m\n",
      "\u001b[0m\n",
      "ipdb> score.shape\n",
      "(64, 15746)\n",
      "ipdb> n\n",
      "> \u001b[0;32m/tmp/ipykernel_1270042/750450751.py\u001b[0m(56)\u001b[0;36mbatch_topk\u001b[0;34m()\u001b[0m\n",
      "\u001b[0;32m     54 \u001b[0;31m\u001b[0;34m\u001b[0m\u001b[0m\n",
      "\u001b[0m\u001b[0;32m     55 \u001b[0;31m    \u001b[0;32mdef\u001b[0m \u001b[0mbatch_topk\u001b[0m\u001b[0;34m(\u001b[0m\u001b[0mself\u001b[0m\u001b[0;34m,\u001b[0m \u001b[0mscore\u001b[0m\u001b[0;34m,\u001b[0m \u001b[0mk\u001b[0m\u001b[0;34m=\u001b[0m\u001b[0;36m10\u001b[0m\u001b[0;34m,\u001b[0m \u001b[0mreturn_scores\u001b[0m\u001b[0;34m=\u001b[0m\u001b[0;32mFalse\u001b[0m\u001b[0;34m,\u001b[0m \u001b[0msort\u001b[0m\u001b[0;34m=\u001b[0m\u001b[0;32mFalse\u001b[0m\u001b[0;34m)\u001b[0m\u001b[0;34m:\u001b[0m\u001b[0;34m\u001b[0m\u001b[0;34m\u001b[0m\u001b[0m\n",
      "\u001b[0m\u001b[0;32m---> 56 \u001b[0;31m        \u001b[0mindex\u001b[0m \u001b[0;34m=\u001b[0m \u001b[0mnp\u001b[0m\u001b[0;34m.\u001b[0m\u001b[0margpartition\u001b[0m\u001b[0;34m(\u001b[0m\u001b[0mscore\u001b[0m\u001b[0;34m,\u001b[0m \u001b[0;34m-\u001b[0m\u001b[0mk\u001b[0m\u001b[0;34m,\u001b[0m \u001b[0maxis\u001b[0m\u001b[0;34m=\u001b[0m\u001b[0;36m1\u001b[0m\u001b[0;34m)\u001b[0m\u001b[0;34m[\u001b[0m\u001b[0;34m:\u001b[0m\u001b[0;34m,\u001b[0m \u001b[0;34m-\u001b[0m\u001b[0mk\u001b[0m\u001b[0;34m:\u001b[0m\u001b[0;34m]\u001b[0m\u001b[0;34m\u001b[0m\u001b[0;34m\u001b[0m\u001b[0m\n",
      "\u001b[0m\u001b[0;32m     57 \u001b[0;31m        \u001b[0;32mif\u001b[0m \u001b[0msort\u001b[0m\u001b[0;34m:\u001b[0m\u001b[0;34m\u001b[0m\u001b[0;34m\u001b[0m\u001b[0m\n",
      "\u001b[0m\u001b[0;32m     58 \u001b[0;31m            \u001b[0m_score\u001b[0m \u001b[0;34m=\u001b[0m \u001b[0mnp\u001b[0m\u001b[0;34m.\u001b[0m\u001b[0mtake_along_axis\u001b[0m\u001b[0;34m(\u001b[0m\u001b[0mscore\u001b[0m\u001b[0;34m,\u001b[0m \u001b[0mindex\u001b[0m\u001b[0;34m,\u001b[0m \u001b[0maxis\u001b[0m\u001b[0;34m=\u001b[0m\u001b[0;36m1\u001b[0m\u001b[0;34m)\u001b[0m\u001b[0;34m\u001b[0m\u001b[0;34m\u001b[0m\u001b[0m\n",
      "\u001b[0m\n",
      "ipdb> n\n",
      "> \u001b[0;32m/tmp/ipykernel_1270042/750450751.py\u001b[0m(57)\u001b[0;36mbatch_topk\u001b[0;34m()\u001b[0m\n",
      "\u001b[0;32m     55 \u001b[0;31m    \u001b[0;32mdef\u001b[0m \u001b[0mbatch_topk\u001b[0m\u001b[0;34m(\u001b[0m\u001b[0mself\u001b[0m\u001b[0;34m,\u001b[0m \u001b[0mscore\u001b[0m\u001b[0;34m,\u001b[0m \u001b[0mk\u001b[0m\u001b[0;34m=\u001b[0m\u001b[0;36m10\u001b[0m\u001b[0;34m,\u001b[0m \u001b[0mreturn_scores\u001b[0m\u001b[0;34m=\u001b[0m\u001b[0;32mFalse\u001b[0m\u001b[0;34m,\u001b[0m \u001b[0msort\u001b[0m\u001b[0;34m=\u001b[0m\u001b[0;32mFalse\u001b[0m\u001b[0;34m)\u001b[0m\u001b[0;34m:\u001b[0m\u001b[0;34m\u001b[0m\u001b[0;34m\u001b[0m\u001b[0m\n",
      "\u001b[0m\u001b[0;32m     56 \u001b[0;31m        \u001b[0mindex\u001b[0m \u001b[0;34m=\u001b[0m \u001b[0mnp\u001b[0m\u001b[0;34m.\u001b[0m\u001b[0margpartition\u001b[0m\u001b[0;34m(\u001b[0m\u001b[0mscore\u001b[0m\u001b[0;34m,\u001b[0m \u001b[0;34m-\u001b[0m\u001b[0mk\u001b[0m\u001b[0;34m,\u001b[0m \u001b[0maxis\u001b[0m\u001b[0;34m=\u001b[0m\u001b[0;36m1\u001b[0m\u001b[0;34m)\u001b[0m\u001b[0;34m[\u001b[0m\u001b[0;34m:\u001b[0m\u001b[0;34m,\u001b[0m \u001b[0;34m-\u001b[0m\u001b[0mk\u001b[0m\u001b[0;34m:\u001b[0m\u001b[0;34m]\u001b[0m\u001b[0;34m\u001b[0m\u001b[0;34m\u001b[0m\u001b[0m\n",
      "\u001b[0m\u001b[0;32m---> 57 \u001b[0;31m        \u001b[0;32mif\u001b[0m \u001b[0msort\u001b[0m\u001b[0;34m:\u001b[0m\u001b[0;34m\u001b[0m\u001b[0;34m\u001b[0m\u001b[0m\n",
      "\u001b[0m\u001b[0;32m     58 \u001b[0;31m            \u001b[0m_score\u001b[0m \u001b[0;34m=\u001b[0m \u001b[0mnp\u001b[0m\u001b[0;34m.\u001b[0m\u001b[0mtake_along_axis\u001b[0m\u001b[0;34m(\u001b[0m\u001b[0mscore\u001b[0m\u001b[0;34m,\u001b[0m \u001b[0mindex\u001b[0m\u001b[0;34m,\u001b[0m \u001b[0maxis\u001b[0m\u001b[0;34m=\u001b[0m\u001b[0;36m1\u001b[0m\u001b[0;34m)\u001b[0m\u001b[0;34m\u001b[0m\u001b[0;34m\u001b[0m\u001b[0m\n",
      "\u001b[0m\u001b[0;32m     59 \u001b[0;31m            \u001b[0m_index\u001b[0m \u001b[0;34m=\u001b[0m \u001b[0mnp\u001b[0m\u001b[0;34m.\u001b[0m\u001b[0margsort\u001b[0m\u001b[0;34m(\u001b[0m\u001b[0m_score\u001b[0m\u001b[0;34m,\u001b[0m \u001b[0maxis\u001b[0m\u001b[0;34m=\u001b[0m\u001b[0;36m1\u001b[0m\u001b[0;34m)\u001b[0m\u001b[0;34m\u001b[0m\u001b[0;34m\u001b[0m\u001b[0m\n",
      "\u001b[0m\n"
     ]
    },
    {
     "name": "stdout",
     "output_type": "stream",
     "text": [
      "ipdb> index\n",
      "array([[   68,  3721,  1496, ...,     7, 10100,  1249],\n",
      "       [  935,  9782,   910, ...,  6760,  7161,  7872],\n",
      "       [ 1603,  2005,  1138, ...,  5188,     7,  1688],\n",
      "       ...,\n",
      "       [ 2005,  1750,  6483, ..., 13943,     7,  1741],\n",
      "       [ 9655,  6609,   552, ...,  6838,  1534,  2455],\n",
      "       [  294,  7320,  7344, ...,  7578,     7,  1741]])\n",
      "ipdb> n\n",
      "> \u001b[0;32m/tmp/ipykernel_1270042/750450751.py\u001b[0m(61)\u001b[0;36mbatch_topk\u001b[0;34m()\u001b[0m\n",
      "\u001b[0;32m     59 \u001b[0;31m            \u001b[0m_index\u001b[0m \u001b[0;34m=\u001b[0m \u001b[0mnp\u001b[0m\u001b[0;34m.\u001b[0m\u001b[0margsort\u001b[0m\u001b[0;34m(\u001b[0m\u001b[0m_score\u001b[0m\u001b[0;34m,\u001b[0m \u001b[0maxis\u001b[0m\u001b[0;34m=\u001b[0m\u001b[0;36m1\u001b[0m\u001b[0;34m)\u001b[0m\u001b[0;34m\u001b[0m\u001b[0;34m\u001b[0m\u001b[0m\n",
      "\u001b[0m\u001b[0;32m     60 \u001b[0;31m            \u001b[0mindex\u001b[0m \u001b[0;34m=\u001b[0m \u001b[0mnp\u001b[0m\u001b[0;34m.\u001b[0m\u001b[0mtake_along_axis\u001b[0m\u001b[0;34m(\u001b[0m\u001b[0mindex\u001b[0m\u001b[0;34m,\u001b[0m \u001b[0m_index\u001b[0m\u001b[0;34m,\u001b[0m \u001b[0maxis\u001b[0m\u001b[0;34m=\u001b[0m\u001b[0;36m1\u001b[0m\u001b[0;34m)\u001b[0m\u001b[0;34m\u001b[0m\u001b[0;34m\u001b[0m\u001b[0m\n",
      "\u001b[0m\u001b[0;32m---> 61 \u001b[0;31m        \u001b[0;32mif\u001b[0m \u001b[0mreturn_scores\u001b[0m\u001b[0;34m:\u001b[0m\u001b[0;34m\u001b[0m\u001b[0;34m\u001b[0m\u001b[0m\n",
      "\u001b[0m\u001b[0;32m     62 \u001b[0;31m            \u001b[0mscore\u001b[0m \u001b[0;34m=\u001b[0m \u001b[0mnp\u001b[0m\u001b[0;34m.\u001b[0m\u001b[0mtake_along_axis\u001b[0m\u001b[0;34m(\u001b[0m\u001b[0mscore\u001b[0m\u001b[0;34m,\u001b[0m \u001b[0mindex\u001b[0m\u001b[0;34m,\u001b[0m \u001b[0maxis\u001b[0m\u001b[0;34m=\u001b[0m\u001b[0;36m1\u001b[0m\u001b[0;34m)\u001b[0m\u001b[0;34m\u001b[0m\u001b[0;34m\u001b[0m\u001b[0m\n",
      "\u001b[0m\u001b[0;32m     63 \u001b[0;31m            \u001b[0;32mreturn\u001b[0m \u001b[0mindex\u001b[0m\u001b[0;34m,\u001b[0m \u001b[0mscore\u001b[0m\u001b[0;34m\u001b[0m\u001b[0;34m\u001b[0m\u001b[0m\n",
      "\u001b[0m\n",
      "ipdb> n\n",
      "> \u001b[0;32m/tmp/ipykernel_1270042/750450751.py\u001b[0m(64)\u001b[0;36mbatch_topk\u001b[0;34m()\u001b[0m\n",
      "\u001b[0;32m     62 \u001b[0;31m            \u001b[0mscore\u001b[0m \u001b[0;34m=\u001b[0m \u001b[0mnp\u001b[0m\u001b[0;34m.\u001b[0m\u001b[0mtake_along_axis\u001b[0m\u001b[0;34m(\u001b[0m\u001b[0mscore\u001b[0m\u001b[0;34m,\u001b[0m \u001b[0mindex\u001b[0m\u001b[0;34m,\u001b[0m \u001b[0maxis\u001b[0m\u001b[0;34m=\u001b[0m\u001b[0;36m1\u001b[0m\u001b[0;34m)\u001b[0m\u001b[0;34m\u001b[0m\u001b[0;34m\u001b[0m\u001b[0m\n",
      "\u001b[0m\u001b[0;32m     63 \u001b[0;31m            \u001b[0;32mreturn\u001b[0m \u001b[0mindex\u001b[0m\u001b[0;34m,\u001b[0m \u001b[0mscore\u001b[0m\u001b[0;34m\u001b[0m\u001b[0;34m\u001b[0m\u001b[0m\n",
      "\u001b[0m\u001b[0;32m---> 64 \u001b[0;31m        \u001b[0;32mreturn\u001b[0m \u001b[0mindex\u001b[0m\u001b[0;34m\u001b[0m\u001b[0;34m\u001b[0m\u001b[0m\n",
      "\u001b[0m\u001b[0;32m     65 \u001b[0;31m\u001b[0;34m\u001b[0m\u001b[0m\n",
      "\u001b[0m\u001b[0;32m     66 \u001b[0;31m    \u001b[0;32mdef\u001b[0m \u001b[0m_snl_one\u001b[0m\u001b[0;34m(\u001b[0m\u001b[0mself\u001b[0m\u001b[0;34m,\u001b[0m \u001b[0mtries\u001b[0m\u001b[0;34m,\u001b[0m \u001b[0mold_scores\u001b[0m\u001b[0;34m,\u001b[0m \u001b[0mcurr_score\u001b[0m\u001b[0;34m,\u001b[0m \u001b[0mlen_score\u001b[0m\u001b[0;34m,\u001b[0m \u001b[0mtop_k_index\u001b[0m\u001b[0;34m)\u001b[0m\u001b[0;34m:\u001b[0m\u001b[0;34m\u001b[0m\u001b[0;34m\u001b[0m\u001b[0m\n",
      "\u001b[0m\n",
      "ipdb> n\n",
      "--Return--\n",
      "array([[   68...   7,  1741]])\n",
      "> \u001b[0;32m/tmp/ipykernel_1270042/750450751.py\u001b[0m(64)\u001b[0;36mbatch_topk\u001b[0;34m()\u001b[0m\n",
      "\u001b[0;32m     62 \u001b[0;31m            \u001b[0mscore\u001b[0m \u001b[0;34m=\u001b[0m \u001b[0mnp\u001b[0m\u001b[0;34m.\u001b[0m\u001b[0mtake_along_axis\u001b[0m\u001b[0;34m(\u001b[0m\u001b[0mscore\u001b[0m\u001b[0;34m,\u001b[0m \u001b[0mindex\u001b[0m\u001b[0;34m,\u001b[0m \u001b[0maxis\u001b[0m\u001b[0;34m=\u001b[0m\u001b[0;36m1\u001b[0m\u001b[0;34m)\u001b[0m\u001b[0;34m\u001b[0m\u001b[0;34m\u001b[0m\u001b[0m\n",
      "\u001b[0m\u001b[0;32m     63 \u001b[0;31m            \u001b[0;32mreturn\u001b[0m \u001b[0mindex\u001b[0m\u001b[0;34m,\u001b[0m \u001b[0mscore\u001b[0m\u001b[0;34m\u001b[0m\u001b[0;34m\u001b[0m\u001b[0m\n",
      "\u001b[0m\u001b[0;32m---> 64 \u001b[0;31m        \u001b[0;32mreturn\u001b[0m \u001b[0mindex\u001b[0m\u001b[0;34m\u001b[0m\u001b[0;34m\u001b[0m\u001b[0m\n",
      "\u001b[0m\u001b[0;32m     65 \u001b[0;31m\u001b[0;34m\u001b[0m\u001b[0m\n",
      "\u001b[0m\u001b[0;32m     66 \u001b[0;31m    \u001b[0;32mdef\u001b[0m \u001b[0m_snl_one\u001b[0m\u001b[0;34m(\u001b[0m\u001b[0mself\u001b[0m\u001b[0;34m,\u001b[0m \u001b[0mtries\u001b[0m\u001b[0;34m,\u001b[0m \u001b[0mold_scores\u001b[0m\u001b[0;34m,\u001b[0m \u001b[0mcurr_score\u001b[0m\u001b[0;34m,\u001b[0m \u001b[0mlen_score\u001b[0m\u001b[0;34m,\u001b[0m \u001b[0mtop_k_index\u001b[0m\u001b[0;34m)\u001b[0m\u001b[0;34m:\u001b[0m\u001b[0;34m\u001b[0m\u001b[0;34m\u001b[0m\u001b[0m\n",
      "\u001b[0m\n",
      "ipdb> q\n"
     ]
    },
    {
     "ename": "BdbQuit",
     "evalue": "",
     "output_type": "error",
     "traceback": [
      "\u001b[0;31m---------------------------------------------------------------------------\u001b[0m",
      "\u001b[0;31mBdbQuit\u001b[0m                                   Traceback (most recent call last)",
      "\u001b[0;32m<timed exec>\u001b[0m in \u001b[0;36m<module>\u001b[0;34m\u001b[0m\n",
      "\u001b[0;32m/tmp/ipykernel_1270042/750450751.py\u001b[0m in \u001b[0;36mproc\u001b[0;34m(self, model, inputs, n_bm, max_bm, len_penalty, max_info)\u001b[0m\n\u001b[1;32m    130\u001b[0m         \u001b[0mlogits\u001b[0m \u001b[0;34m=\u001b[0m \u001b[0mF\u001b[0m\u001b[0;34m.\u001b[0m\u001b[0mlog_softmax\u001b[0m\u001b[0;34m(\u001b[0m\u001b[0mmodel\u001b[0m\u001b[0;34m(\u001b[0m\u001b[0;34m**\u001b[0m\u001b[0minputs\u001b[0m\u001b[0;34m)\u001b[0m\u001b[0;34m.\u001b[0m\u001b[0mlogits\u001b[0m\u001b[0;34m,\u001b[0m \u001b[0mdim\u001b[0m\u001b[0;34m=\u001b[0m\u001b[0;36m2\u001b[0m\u001b[0;34m)\u001b[0m\u001b[0;34m.\u001b[0m\u001b[0mcpu\u001b[0m\u001b[0;34m(\u001b[0m\u001b[0;34m)\u001b[0m\u001b[0;34m.\u001b[0m\u001b[0mdetach\u001b[0m\u001b[0;34m(\u001b[0m\u001b[0;34m)\u001b[0m\u001b[0;34m.\u001b[0m\u001b[0mnumpy\u001b[0m\u001b[0;34m(\u001b[0m\u001b[0;34m)\u001b[0m\u001b[0;34m\u001b[0m\u001b[0;34m\u001b[0m\u001b[0m\n\u001b[1;32m    131\u001b[0m         \u001b[0mlogits\u001b[0m \u001b[0;34m=\u001b[0m \u001b[0mnp\u001b[0m\u001b[0;34m.\u001b[0m\u001b[0mconcatenate\u001b[0m\u001b[0;34m(\u001b[0m\u001b[0;34m[\u001b[0m\u001b[0mlogits\u001b[0m\u001b[0;34m,\u001b[0m \u001b[0mnp\u001b[0m\u001b[0;34m.\u001b[0m\u001b[0mzeros\u001b[0m\u001b[0;34m(\u001b[0m\u001b[0;34m(\u001b[0m\u001b[0mlogits\u001b[0m\u001b[0;34m.\u001b[0m\u001b[0mshape\u001b[0m\u001b[0;34m[\u001b[0m\u001b[0;36m0\u001b[0m\u001b[0;34m]\u001b[0m\u001b[0;34m,\u001b[0m \u001b[0mmax\u001b[0m\u001b[0;34m(\u001b[0m\u001b[0;36m0\u001b[0m\u001b[0;34m,\u001b[0m \u001b[0mself\u001b[0m\u001b[0;34m.\u001b[0m\u001b[0mmax_height\u001b[0m\u001b[0;34m-\u001b[0m\u001b[0mlogits\u001b[0m\u001b[0;34m.\u001b[0m\u001b[0mshape\u001b[0m\u001b[0;34m[\u001b[0m\u001b[0;36m1\u001b[0m\u001b[0;34m]\u001b[0m\u001b[0;34m)\u001b[0m\u001b[0;34m,\u001b[0m \u001b[0mlogits\u001b[0m\u001b[0;34m.\u001b[0m\u001b[0mshape\u001b[0m\u001b[0;34m[\u001b[0m\u001b[0;36m2\u001b[0m\u001b[0;34m]\u001b[0m\u001b[0;34m)\u001b[0m\u001b[0;34m)\u001b[0m\u001b[0;34m]\u001b[0m\u001b[0;34m,\u001b[0m \u001b[0maxis\u001b[0m\u001b[0;34m=\u001b[0m\u001b[0;36m1\u001b[0m\u001b[0;34m)\u001b[0m\u001b[0;34m\u001b[0m\u001b[0;34m\u001b[0m\u001b[0m\n\u001b[0;32m--> 132\u001b[0;31m         \u001b[0midx\u001b[0m\u001b[0;34m,\u001b[0m \u001b[0mscores\u001b[0m \u001b[0;34m=\u001b[0m \u001b[0mself\u001b[0m\u001b[0;34m.\u001b[0m\u001b[0mdecode_batch\u001b[0m\u001b[0;34m(\u001b[0m\u001b[0mlogits\u001b[0m\u001b[0;34m,\u001b[0m \u001b[0mbeam\u001b[0m\u001b[0;34m=\u001b[0m\u001b[0mself\u001b[0m\u001b[0;34m.\u001b[0m\u001b[0mn_bm\u001b[0m\u001b[0;34m,\u001b[0m \u001b[0ml_penalty\u001b[0m\u001b[0;34m=\u001b[0m\u001b[0mself\u001b[0m\u001b[0;34m.\u001b[0m\u001b[0mlen_penalty\u001b[0m\u001b[0;34m)\u001b[0m\u001b[0;34m\u001b[0m\u001b[0;34m\u001b[0m\u001b[0m\n\u001b[0m\u001b[1;32m    133\u001b[0m         outputs = {\n\u001b[1;32m    134\u001b[0m             \u001b[0;34m'info2seq2data_idx'\u001b[0m\u001b[0;34m:\u001b[0m \u001b[0mtorch\u001b[0m\u001b[0;34m.\u001b[0m\u001b[0mtensor\u001b[0m\u001b[0;34m(\u001b[0m\u001b[0mlist\u001b[0m\u001b[0;34m(\u001b[0m\u001b[0mchain\u001b[0m\u001b[0;34m(\u001b[0m\u001b[0;34m*\u001b[0m\u001b[0midx\u001b[0m\u001b[0;34m)\u001b[0m\u001b[0;34m)\u001b[0m\u001b[0;34m)\u001b[0m\u001b[0;34m,\u001b[0m\u001b[0;34m\u001b[0m\u001b[0;34m\u001b[0m\u001b[0m\n",
      "\u001b[0;32m/tmp/ipykernel_1270042/750450751.py\u001b[0m in \u001b[0;36mdecode_batch\u001b[0;34m(self, preds, beam, l_penalty, start_seq)\u001b[0m\n\u001b[1;32m    122\u001b[0m             \u001b[0m_tries\u001b[0m\u001b[0;34m,\u001b[0m \u001b[0m_score\u001b[0m\u001b[0;34m,\u001b[0m \u001b[0m_l_scr\u001b[0m \u001b[0;34m=\u001b[0m \u001b[0mself\u001b[0m\u001b[0;34m.\u001b[0m\u001b[0msnl\u001b[0m\u001b[0;34m(\u001b[0m\u001b[0m_tries\u001b[0m\u001b[0;34m,\u001b[0m \u001b[0m_score\u001b[0m\u001b[0;34m,\u001b[0m \u001b[0mpreds\u001b[0m\u001b[0;34m[\u001b[0m\u001b[0;34m:\u001b[0m\u001b[0;34m,\u001b[0m \u001b[0mi\u001b[0m\u001b[0;34m]\u001b[0m\u001b[0;34m,\u001b[0m \u001b[0m_l_scr\u001b[0m\u001b[0;34m,\u001b[0m \u001b[0m_index\u001b[0m\u001b[0;34m)\u001b[0m\u001b[0;34m\u001b[0m\u001b[0;34m\u001b[0m\u001b[0m\n\u001b[1;32m    123\u001b[0m             \u001b[0m_score\u001b[0m \u001b[0;34m=\u001b[0m \u001b[0mnp\u001b[0m\u001b[0;34m.\u001b[0m\u001b[0mmultiply\u001b[0m\u001b[0;34m(\u001b[0m\u001b[0m_score\u001b[0m\u001b[0;34m,\u001b[0m \u001b[0mnp\u001b[0m\u001b[0;34m.\u001b[0m\u001b[0mpower\u001b[0m\u001b[0;34m(\u001b[0m\u001b[0m_l_scr\u001b[0m\u001b[0;34m,\u001b[0m\u001b[0;34m-\u001b[0m\u001b[0ml_penalty\u001b[0m\u001b[0;34m)\u001b[0m\u001b[0;34m)\u001b[0m\u001b[0;34m\u001b[0m\u001b[0;34m\u001b[0m\u001b[0m\n\u001b[0;32m--> 124\u001b[0;31m             \u001b[0m_index\u001b[0m \u001b[0;34m=\u001b[0m \u001b[0mself\u001b[0m\u001b[0;34m.\u001b[0m\u001b[0mbatch_topk\u001b[0m\u001b[0;34m(\u001b[0m\u001b[0m_score\u001b[0m\u001b[0;34m,\u001b[0m \u001b[0mbeam\u001b[0m\u001b[0;34m,\u001b[0m \u001b[0mi\u001b[0m\u001b[0;34m+\u001b[0m\u001b[0;36m1\u001b[0m\u001b[0;34m==\u001b[0m\u001b[0mself\u001b[0m\u001b[0;34m.\u001b[0m\u001b[0mmax_height\u001b[0m\u001b[0;34m,\u001b[0m \u001b[0mi\u001b[0m\u001b[0;34m+\u001b[0m\u001b[0;36m1\u001b[0m\u001b[0;34m==\u001b[0m\u001b[0mself\u001b[0m\u001b[0;34m.\u001b[0m\u001b[0mmax_height\u001b[0m\u001b[0;34m)\u001b[0m\u001b[0;34m\u001b[0m\u001b[0;34m\u001b[0m\u001b[0m\n\u001b[0m\u001b[1;32m    125\u001b[0m         \u001b[0;32mreturn\u001b[0m \u001b[0mself\u001b[0m\u001b[0;34m.\u001b[0m\u001b[0magl\u001b[0m\u001b[0;34m(\u001b[0m\u001b[0m_tries\u001b[0m\u001b[0;34m,\u001b[0m \u001b[0m_index\u001b[0m\u001b[0;34m[\u001b[0m\u001b[0;36m0\u001b[0m\u001b[0;34m]\u001b[0m\u001b[0;34m,\u001b[0m \u001b[0m_index\u001b[0m\u001b[0;34m[\u001b[0m\u001b[0;36m1\u001b[0m\u001b[0;34m]\u001b[0m\u001b[0;34m)\u001b[0m\u001b[0;34m\u001b[0m\u001b[0;34m\u001b[0m\u001b[0m\n\u001b[1;32m    126\u001b[0m \u001b[0;34m\u001b[0m\u001b[0m\n",
      "\u001b[0;32m/tmp/ipykernel_1270042/750450751.py\u001b[0m in \u001b[0;36mbatch_topk\u001b[0;34m(self, score, k, return_scores, sort)\u001b[0m\n\u001b[1;32m     62\u001b[0m             \u001b[0mscore\u001b[0m \u001b[0;34m=\u001b[0m \u001b[0mnp\u001b[0m\u001b[0;34m.\u001b[0m\u001b[0mtake_along_axis\u001b[0m\u001b[0;34m(\u001b[0m\u001b[0mscore\u001b[0m\u001b[0;34m,\u001b[0m \u001b[0mindex\u001b[0m\u001b[0;34m,\u001b[0m \u001b[0maxis\u001b[0m\u001b[0;34m=\u001b[0m\u001b[0;36m1\u001b[0m\u001b[0;34m)\u001b[0m\u001b[0;34m\u001b[0m\u001b[0;34m\u001b[0m\u001b[0m\n\u001b[1;32m     63\u001b[0m             \u001b[0;32mreturn\u001b[0m \u001b[0mindex\u001b[0m\u001b[0;34m,\u001b[0m \u001b[0mscore\u001b[0m\u001b[0;34m\u001b[0m\u001b[0;34m\u001b[0m\u001b[0m\n\u001b[0;32m---> 64\u001b[0;31m         \u001b[0;32mreturn\u001b[0m \u001b[0mindex\u001b[0m\u001b[0;34m\u001b[0m\u001b[0;34m\u001b[0m\u001b[0m\n\u001b[0m\u001b[1;32m     65\u001b[0m \u001b[0;34m\u001b[0m\u001b[0m\n\u001b[1;32m     66\u001b[0m     \u001b[0;32mdef\u001b[0m \u001b[0m_snl_one\u001b[0m\u001b[0;34m(\u001b[0m\u001b[0mself\u001b[0m\u001b[0;34m,\u001b[0m \u001b[0mtries\u001b[0m\u001b[0;34m,\u001b[0m \u001b[0mold_scores\u001b[0m\u001b[0;34m,\u001b[0m \u001b[0mcurr_score\u001b[0m\u001b[0;34m,\u001b[0m \u001b[0mlen_score\u001b[0m\u001b[0;34m,\u001b[0m \u001b[0mtop_k_index\u001b[0m\u001b[0;34m)\u001b[0m\u001b[0;34m:\u001b[0m\u001b[0;34m\u001b[0m\u001b[0;34m\u001b[0m\u001b[0m\n",
      "\u001b[0;32m/opt/conda/envs/ptca/lib/python3.9/bdb.py\u001b[0m in \u001b[0;36mtrace_dispatch\u001b[0;34m(self, frame, event, arg)\u001b[0m\n\u001b[1;32m     90\u001b[0m             \u001b[0;32mreturn\u001b[0m \u001b[0mself\u001b[0m\u001b[0;34m.\u001b[0m\u001b[0mdispatch_call\u001b[0m\u001b[0;34m(\u001b[0m\u001b[0mframe\u001b[0m\u001b[0;34m,\u001b[0m \u001b[0marg\u001b[0m\u001b[0;34m)\u001b[0m\u001b[0;34m\u001b[0m\u001b[0;34m\u001b[0m\u001b[0m\n\u001b[1;32m     91\u001b[0m         \u001b[0;32mif\u001b[0m \u001b[0mevent\u001b[0m \u001b[0;34m==\u001b[0m \u001b[0;34m'return'\u001b[0m\u001b[0;34m:\u001b[0m\u001b[0;34m\u001b[0m\u001b[0;34m\u001b[0m\u001b[0m\n\u001b[0;32m---> 92\u001b[0;31m             \u001b[0;32mreturn\u001b[0m \u001b[0mself\u001b[0m\u001b[0;34m.\u001b[0m\u001b[0mdispatch_return\u001b[0m\u001b[0;34m(\u001b[0m\u001b[0mframe\u001b[0m\u001b[0;34m,\u001b[0m \u001b[0marg\u001b[0m\u001b[0;34m)\u001b[0m\u001b[0;34m\u001b[0m\u001b[0;34m\u001b[0m\u001b[0m\n\u001b[0m\u001b[1;32m     93\u001b[0m         \u001b[0;32mif\u001b[0m \u001b[0mevent\u001b[0m \u001b[0;34m==\u001b[0m \u001b[0;34m'exception'\u001b[0m\u001b[0;34m:\u001b[0m\u001b[0;34m\u001b[0m\u001b[0;34m\u001b[0m\u001b[0m\n\u001b[1;32m     94\u001b[0m             \u001b[0;32mreturn\u001b[0m \u001b[0mself\u001b[0m\u001b[0;34m.\u001b[0m\u001b[0mdispatch_exception\u001b[0m\u001b[0;34m(\u001b[0m\u001b[0mframe\u001b[0m\u001b[0;34m,\u001b[0m \u001b[0marg\u001b[0m\u001b[0;34m)\u001b[0m\u001b[0;34m\u001b[0m\u001b[0;34m\u001b[0m\u001b[0m\n",
      "\u001b[0;32m/opt/conda/envs/ptca/lib/python3.9/bdb.py\u001b[0m in \u001b[0;36mdispatch_return\u001b[0;34m(self, frame, arg)\u001b[0m\n\u001b[1;32m    152\u001b[0m             \u001b[0;32mfinally\u001b[0m\u001b[0;34m:\u001b[0m\u001b[0;34m\u001b[0m\u001b[0;34m\u001b[0m\u001b[0m\n\u001b[1;32m    153\u001b[0m                 \u001b[0mself\u001b[0m\u001b[0;34m.\u001b[0m\u001b[0mframe_returning\u001b[0m \u001b[0;34m=\u001b[0m \u001b[0;32mNone\u001b[0m\u001b[0;34m\u001b[0m\u001b[0;34m\u001b[0m\u001b[0m\n\u001b[0;32m--> 154\u001b[0;31m             \u001b[0;32mif\u001b[0m \u001b[0mself\u001b[0m\u001b[0;34m.\u001b[0m\u001b[0mquitting\u001b[0m\u001b[0;34m:\u001b[0m \u001b[0;32mraise\u001b[0m \u001b[0mBdbQuit\u001b[0m\u001b[0;34m\u001b[0m\u001b[0;34m\u001b[0m\u001b[0m\n\u001b[0m\u001b[1;32m    155\u001b[0m             \u001b[0;31m# The user issued a 'next' or 'until' command.\u001b[0m\u001b[0;34m\u001b[0m\u001b[0;34m\u001b[0m\u001b[0m\n\u001b[1;32m    156\u001b[0m             \u001b[0;32mif\u001b[0m \u001b[0mself\u001b[0m\u001b[0;34m.\u001b[0m\u001b[0mstopframe\u001b[0m \u001b[0;32mis\u001b[0m \u001b[0mframe\u001b[0m \u001b[0;32mand\u001b[0m \u001b[0mself\u001b[0m\u001b[0;34m.\u001b[0m\u001b[0mstoplineno\u001b[0m \u001b[0;34m!=\u001b[0m \u001b[0;34m-\u001b[0m\u001b[0;36m1\u001b[0m\u001b[0;34m:\u001b[0m\u001b[0;34m\u001b[0m\u001b[0;34m\u001b[0m\u001b[0m\n",
      "\u001b[0;31mBdbQuit\u001b[0m: "
     ]
    }
   ],
   "source": [
    "%%time\n",
    "r = tbs.proc(m, b)"
   ]
  },
  {
   "cell_type": "code",
   "execution_count": null,
   "id": "a1012a69",
   "metadata": {},
   "outputs": [],
   "source": []
  },
  {
   "cell_type": "markdown",
   "id": "efd043e2",
   "metadata": {},
   "source": [
    "## XCTrieBeamSearch"
   ]
  },
  {
   "cell_type": "code",
   "execution_count": 17,
   "id": "91cdd2dc",
   "metadata": {},
   "outputs": [],
   "source": [
    "class XCTrieBeamSearch:\n",
    "    \n",
    "    @classmethod\n",
    "    @delegates(TrieBeamSearch.from_list)\n",
    "    def from_block(cls, block:XCDataBlock, meta:Optional[List]=None, **kwargs):\n",
    "        toks = block.lbl_info['input_ids']\n",
    "        info = [[i] for i in range(len(toks))]\n",
    "        \n",
    "        if meta is not None:\n",
    "            meta_dset = block.train.dset.meta\n",
    "            for o in meta:\n",
    "                if f'{o}_meta' not in meta_dset: raise ValueError(f'`{o}_meta` does not exist.')\n",
    "                meta_toks = meta_dset[f'{o}_meta'].meta_info['input_ids']\n",
    "                lbl_meta = meta_dset[f'{o}_meta'].lbl_meta.T.tocsr()\n",
    "                meta_info = [o.indices.tolist() for o in lbl_meta]\n",
    "                if len(meta_toks) != len(meta_info): raise ValueError(f'`meta_toks` and `meta_info` should have equal length.')\n",
    "                toks.extend(meta_toks); info.extend(meta_info)\n",
    "                \n",
    "        return TrieBeamSearch.from_list(toks, info, **kwargs)\n",
    "                        "
   ]
  },
  {
   "cell_type": "markdown",
   "id": "2c89c85e",
   "metadata": {},
   "source": [
    "### Example"
   ]
  },
  {
   "cell_type": "code",
   "execution_count": 34,
   "id": "96216b5f",
   "metadata": {},
   "outputs": [
    {
     "data": {
      "application/vnd.jupyter.widget-view+json": {
       "model_id": "254ebe3458174ed99a1add5d991deb2a",
       "version_major": 2,
       "version_minor": 0
      },
      "text/plain": [
       "  0%|          | 0/312330 [00:00<?, ?it/s]"
      ]
     },
     "metadata": {},
     "output_type": "display_data"
    }
   ],
   "source": [
    "tbs = XCTrieBeamSearch.from_block(block, max_height=32, sos_id=101, eos_id=102, pad_token=0, n_bm=5, len_penalty=0.0)"
   ]
  },
  {
   "cell_type": "code",
   "execution_count": 41,
   "id": "87f1051a",
   "metadata": {},
   "outputs": [],
   "source": [
    "o = tbs.proc(model, b, n_bm=10)"
   ]
  }
 ],
 "metadata": {
  "kernelspec": {
   "display_name": "Python 3 (ipykernel)",
   "language": "python",
   "name": "python3"
  },
  "language_info": {
   "codemirror_mode": {
    "name": "ipython",
    "version": 3
   },
   "file_extension": ".py",
   "mimetype": "text/x-python",
   "name": "python",
   "nbconvert_exporter": "python",
   "pygments_lexer": "ipython3",
   "version": "3.10.16"
  }
 },
 "nbformat": 4,
 "nbformat_minor": 5
}
