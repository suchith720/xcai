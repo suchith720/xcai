{
 "cells": [
  {
   "cell_type": "code",
   "execution_count": null,
   "id": "c69a0844-2b13-4635-9779-a845c0d7d2a0",
   "metadata": {},
   "outputs": [],
   "source": [
    "#| default_exp block"
   ]
  },
  {
   "cell_type": "code",
   "execution_count": null,
   "id": "39c081f3-41c1-47c3-bd5b-1700702e2915",
   "metadata": {},
   "outputs": [],
   "source": [
    "#| hide\n",
    "%load_ext autoreload\n",
    "%autoreload 2"
   ]
  },
  {
   "cell_type": "code",
   "execution_count": null,
   "id": "b9d554e9-dba8-4bbf-b953-6a18af6a0358",
   "metadata": {},
   "outputs": [],
   "source": [
    "#| export\n",
    "import numpy as np, re, inspect\n",
    "from typing import Optional, Dict\n",
    "from transformers import AutoTokenizer, BatchEncoding\n",
    "\n",
    "from fastcore.meta import *\n",
    "\n",
    "from xcai.data import *\n",
    "from xcai.transform import *"
   ]
  },
  {
   "cell_type": "code",
   "execution_count": null,
   "id": "eb711674-8630-4418-954c-29a4b83e4949",
   "metadata": {},
   "outputs": [],
   "source": [
    "#| hide\n",
    "from nbdev.showdoc import *\n",
    "import nbdev; nbdev.nbdev_export()"
   ]
  },
  {
   "cell_type": "markdown",
   "id": "9f56bb61-7ecc-4929-8b02-6b433564266d",
   "metadata": {},
   "source": [
    "## Config"
   ]
  },
  {
   "cell_type": "code",
   "execution_count": null,
   "id": "09be3dc1-ccee-4fd1-b04c-f7ab0edf25b4",
   "metadata": {},
   "outputs": [],
   "source": [
    "#| export\n",
    "PARAM = {\n",
    "    'cols': ['identifier', 'input_text'],\n",
    "    'use_tokz': True,\n",
    "    'tokz': 'bert-base-cased',\n",
    "    'fld': 'input_text',\n",
    "    'max_len': 32,\n",
    "    'pad_side': 'right',\n",
    "    'inp': 'data',\n",
    "    'targ': 'lbl2data',\n",
    "    'ptr': 'lbl2data_data2ptr',\n",
    "    'drop': True,\n",
    "    'ret_t': True,\n",
    "    'in_place': True,\n",
    "    'collapse': True,\n",
    "    'device': 'cpu',\n",
    "    'tfm': 'xc',\n",
    "}"
   ]
  },
  {
   "cell_type": "code",
   "execution_count": null,
   "id": "84a113e1-7d7d-4684-ae8f-1d581f802e54",
   "metadata": {},
   "outputs": [],
   "source": [
    "#| export\n",
    "TRAIN_CFG = {\n",
    "    'path': {\n",
    "        'train': {\n",
    "            'data_lbl': '/home/scai/phd/aiz218323/Projects/XC_NLG/data/(mapped)LF-WikiSeeAlsoTitles-320K/trn_X_Y.txt',\n",
    "            'data_info': '/home/scai/phd/aiz218323/Projects/XC_NLG/data/(mapped)LF-WikiSeeAlsoTitles-320K/raw_data/train.raw.txt',\n",
    "            'lbl_info': '/home/scai/phd/aiz218323/Projects/XC_NLG/data/(mapped)LF-WikiSeeAlsoTitles-320K/raw_data/label.raw.txt',\n",
    "            'data_lbl_filterer': '/home/scai/phd/aiz218323/Projects/XC_NLG/data/(mapped)LF-WikiSeeAlsoTitles-320K/filter_labels_train.txt',\n",
    "        },\n",
    "    },\n",
    "    'parameters': PARAM,\n",
    "}"
   ]
  },
  {
   "cell_type": "code",
   "execution_count": null,
   "id": "bf1e7beb-1cfb-44f1-a293-d7a615412fc7",
   "metadata": {},
   "outputs": [],
   "source": [
    "#| export\n",
    "DATA_CFG = {\n",
    "    'path': {\n",
    "        'train': {\n",
    "            'data_lbl': '/home/scai/phd/aiz218323/Projects/XC_NLG/data/(mapped)LF-WikiSeeAlsoTitles-320K/trn_X_Y.txt',\n",
    "            'data_info': '/home/scai/phd/aiz218323/Projects/XC_NLG/data/(mapped)LF-WikiSeeAlsoTitles-320K/raw_data/train.raw.txt',\n",
    "            'lbl_info': '/home/scai/phd/aiz218323/Projects/XC_NLG/data/(mapped)LF-WikiSeeAlsoTitles-320K/raw_data/label.raw.txt',\n",
    "            'data_lbl_filterer': '/home/scai/phd/aiz218323/Projects/XC_NLG/data/(mapped)LF-WikiSeeAlsoTitles-320K/filter_labels_train.txt',\n",
    "        },\n",
    "        'test': {\n",
    "            'data_lbl': '/home/scai/phd/aiz218323/Projects/XC_NLG/data/(mapped)LF-WikiSeeAlsoTitles-320K/tst_X_Y.txt',\n",
    "            'data_info': '/home/scai/phd/aiz218323/Projects/XC_NLG/data/(mapped)LF-WikiSeeAlsoTitles-320K/raw_data/test.raw.txt',\n",
    "            'lbl_info': '/home/scai/phd/aiz218323/Projects/XC_NLG/data/(mapped)LF-WikiSeeAlsoTitles-320K/raw_data/label.raw.txt',\n",
    "            'data_lbl_filterer': '/home/scai/phd/aiz218323/Projects/XC_NLG/data/(mapped)LF-WikiSeeAlsoTitles-320K/filter_labels_test.txt',\n",
    "        },\n",
    "    },\n",
    "    'parameters': PARAM,\n",
    "}"
   ]
  },
  {
   "cell_type": "code",
   "execution_count": null,
   "id": "575b2fb2-7330-4574-9b42-b541bf767be3",
   "metadata": {},
   "outputs": [],
   "source": [
    "#| export\n",
    "TRAIN_META_CFG = {\n",
    "    'path': {\n",
    "        'train': {\n",
    "            'data_lbl': '/home/scai/phd/aiz218323/Projects/XC_NLG/data/(mapped)LF-WikiSeeAlsoTitles-320K/trn_X_Y.txt',\n",
    "            'data_info': '/home/scai/phd/aiz218323/Projects/XC_NLG/data/(mapped)LF-WikiSeeAlsoTitles-320K/raw_data/train.raw.txt',\n",
    "            'lbl_info': '/home/scai/phd/aiz218323/Projects/XC_NLG/data/(mapped)LF-WikiSeeAlsoTitles-320K/raw_data/label.raw.txt',\n",
    "            'data_lbl_filterer': '/home/scai/phd/aiz218323/Projects/XC_NLG/data/(mapped)LF-WikiSeeAlsoTitles-320K/filter_labels_train.txt',\n",
    "            'hlk_meta': {\n",
    "                'prefix': 'hlk',\n",
    "                'data_meta': '/home/scai/phd/aiz218323/Projects/XC_NLG/data/(mapped)LF-WikiSeeAlsoTitles-320K/hyper_link_trn_X_Y.txt',\n",
    "                'lbl_meta': '/home/scai/phd/aiz218323/Projects/XC_NLG/data/(mapped)LF-WikiSeeAlsoTitles-320K/hyper_link_lbl_X_Y.txt',\n",
    "                'meta_info': '/home/scai/phd/aiz218323/Projects/XC_NLG/data/(mapped)LF-WikiSeeAlsoTitles-320K/raw_data/hyper_link.raw.txt'\n",
    "            },\n",
    "        },\n",
    "    },\n",
    "    'parameters': PARAM,\n",
    "}"
   ]
  },
  {
   "cell_type": "code",
   "execution_count": null,
   "id": "31dcfb00-185c-4514-ad38-8d23b18ec90a",
   "metadata": {},
   "outputs": [],
   "source": [
    "#| export\n",
    "DATA_META_CFG = {\n",
    "    'path': {\n",
    "        'train': {\n",
    "            'data_lbl': '/home/scai/phd/aiz218323/Projects/XC_NLG/data/(mapped)LF-WikiSeeAlsoTitles-320K/trn_X_Y.txt',\n",
    "            'data_info': '/home/scai/phd/aiz218323/Projects/XC_NLG/data/(mapped)LF-WikiSeeAlsoTitles-320K/raw_data/train.raw.txt',\n",
    "            'lbl_info': '/home/scai/phd/aiz218323/Projects/XC_NLG/data/(mapped)LF-WikiSeeAlsoTitles-320K/raw_data/label.raw.txt',\n",
    "            'data_lbl_filterer': '/home/scai/phd/aiz218323/Projects/XC_NLG/data/(mapped)LF-WikiSeeAlsoTitles-320K/filter_labels_train.txt',\n",
    "            'hlk_meta': {\n",
    "                'prefix': 'hlk',\n",
    "                'data_meta': '/home/scai/phd/aiz218323/Projects/XC_NLG/data/(mapped)LF-WikiSeeAlsoTitles-320K/hyper_link_trn_X_Y.txt',\n",
    "                'lbl_meta': '/home/scai/phd/aiz218323/Projects/XC_NLG/data/(mapped)LF-WikiSeeAlsoTitles-320K/hyper_link_lbl_X_Y.txt',\n",
    "                'meta_info': '/home/scai/phd/aiz218323/Projects/XC_NLG/data/(mapped)LF-WikiSeeAlsoTitles-320K/raw_data/hyper_link.raw.txt'\n",
    "            },\n",
    "        },\n",
    "        'test': {\n",
    "            'data_lbl': '/home/scai/phd/aiz218323/Projects/XC_NLG/data/(mapped)LF-WikiSeeAlsoTitles-320K/tst_X_Y.txt',\n",
    "            'data_info': '/home/scai/phd/aiz218323/Projects/XC_NLG/data/(mapped)LF-WikiSeeAlsoTitles-320K/raw_data/test.raw.txt',\n",
    "            'lbl_info': '/home/scai/phd/aiz218323/Projects/XC_NLG/data/(mapped)LF-WikiSeeAlsoTitles-320K/raw_data/label.raw.txt',\n",
    "            'data_lbl_filterer': '/home/scai/phd/aiz218323/Projects/XC_NLG/data/(mapped)LF-WikiSeeAlsoTitles-320K/filter_labels_test.txt',\n",
    "            'hlk_meta': {\n",
    "                'prefix': 'hlk',\n",
    "                'data_meta': '/home/scai/phd/aiz218323/Projects/XC_NLG/data/(mapped)LF-WikiSeeAlsoTitles-320K/hyper_link_tst_X_Y.txt',\n",
    "                'lbl_meta': '/home/scai/phd/aiz218323/Projects/XC_NLG/data/(mapped)LF-WikiSeeAlsoTitles-320K/hyper_link_lbl_X_Y.txt',\n",
    "                'meta_info': '/home/scai/phd/aiz218323/Projects/XC_NLG/data/(mapped)LF-WikiSeeAlsoTitles-320K/raw_data/hyper_link.raw.txt',\n",
    "            },\n",
    "        },\n",
    "    },\n",
    "    'parameters': PARAM,\n",
    "}"
   ]
  },
  {
   "cell_type": "markdown",
   "id": "9553a52c-9902-4851-a5f2-55ff48bb034c",
   "metadata": {},
   "source": [
    "## Block"
   ]
  },
  {
   "cell_type": "code",
   "execution_count": null,
   "id": "2e417ff9-7a58-4d0f-a598-bdf71be62a97",
   "metadata": {},
   "outputs": [],
   "source": [
    "#| export\n",
    "CFGS = {'train':TRAIN_CFG, 'data':DATA_CFG, 'train_meta':TRAIN_META_CFG, 'data_meta':DATA_META_CFG, }\n",
    "TFMS = {'xc': [XCPadFeatTfm, AlignInputIdsTfm], 'ng': [XCPadFeatTfm, AlignInputIdsTfm, NGSampleFeatTfm, NGMapper],}"
   ]
  },
  {
   "cell_type": "code",
   "execution_count": null,
   "id": "c2004d38-8780-4df8-8a5d-b322af6de57f",
   "metadata": {},
   "outputs": [],
   "source": [
    "#| export\n",
    "class XCBlock:\n",
    "\n",
    "    @delegates(XCDataBlock.from_cfg)\n",
    "    @classmethod\n",
    "    def from_cfg(cls, cfg:str, bsz:Optional[int]=10, **kwargs):\n",
    "        if cfg in CFGS: cfg = CFGS[cfg]\n",
    "        else: raise ValueError(f\"Invalid `cfg` value {cfg}, it should be one of ['train', 'data', 'train_meta', 'data_meta']\")\n",
    "        for k in cfg['parameters']: \n",
    "            if k in kwargs and kwargs[k] is not None: cfg['parameters'][k]=kwargs.pop(k)\n",
    "        tokz = AutoTokenizer.from_pretrained(cfg['parameters']['tokz'])\n",
    "        cfg['parameters']['sep_tok'], cfg['parameters']['pad_tok'], cfg['parameters']['batch_size'] = tokz.sep_token_id, tokz.pad_token_id, bsz\n",
    "        collator = XCCollator(TfmPipeline([o(**cfg['parameters']) for o in TFMS[cfg['parameters']['tfm']]]))\n",
    "        return XCDataBlock.from_cfg(cfg, collate_fn=collator, **kwargs)\n"
   ]
  },
  {
   "cell_type": "markdown",
   "id": "a60d8da4-33ad-4849-8431-512e767831ea",
   "metadata": {},
   "source": [
    "### Example"
   ]
  },
  {
   "cell_type": "code",
   "execution_count": null,
   "id": "eba992d8-16bd-4deb-a538-2606d945efab",
   "metadata": {},
   "outputs": [],
   "source": [
    "block = XCBlock.from_cfg('train', tfm='ng', tokz='bert-base-uncased')"
   ]
  },
  {
   "cell_type": "code",
   "execution_count": null,
   "id": "6a5c2f98-7df3-412f-83a2-f3e1ceacb552",
   "metadata": {},
   "outputs": [],
   "source": [
    "b = block.train.one_batch()"
   ]
  },
  {
   "cell_type": "code",
   "execution_count": null,
   "id": "8c81d3ea-c544-41d6-93c6-cc4853aad968",
   "metadata": {},
   "outputs": [
    {
     "data": {
      "text/plain": [
       "dict_keys(['lbl2data_idx', 'lbl2data_identifier', 'lbl2data_input_text', 'lbl2data_input_ids', 'lbl2data_token_type_ids', 'lbl2data_attention_mask', 'lbl2data_data2ptr', 'data_identifier', 'data_input_text', 'data_input_ids', 'data_token_type_ids', 'data_attention_mask', 'lbl2data_idx_smp', 'lbl2data_identifier_smp', 'lbl2data_input_text_smp', 'lbl2data_input_ids_smp', 'lbl2data_token_type_ids_smp', 'lbl2data_attention_mask_smp', 'lbl2data_data2ptr_smp'])"
      ]
     },
     "execution_count": null,
     "metadata": {},
     "output_type": "execute_result"
    }
   ],
   "source": [
    "b.keys()"
   ]
  },
  {
   "cell_type": "code",
   "execution_count": null,
   "id": "1e96e289-a9fc-48fc-931c-2ba5cfc34f1d",
   "metadata": {},
   "outputs": [
    {
     "name": "stdout",
     "output_type": "stream",
     "text": [
      "lbl2data_idx : torch.Size([21])\n",
      "lbl2data_identifier : 21\n",
      "lbl2data_input_text : 21\n",
      "lbl2data_input_ids : torch.Size([10, 14])\n",
      "lbl2data_token_type_ids : torch.Size([10, 14])\n",
      "lbl2data_attention_mask : torch.Size([10, 14])\n",
      "lbl2data_data2ptr : torch.Size([10])\n",
      "data_identifier : 10\n",
      "data_input_text : 10\n",
      "data_input_ids : torch.Size([10, 14])\n",
      "data_token_type_ids : torch.Size([10, 14])\n",
      "data_attention_mask : torch.Size([10, 14])\n",
      "lbl2data_idx_smp : torch.Size([10])\n",
      "lbl2data_identifier_smp : 10\n",
      "lbl2data_input_text_smp : 10\n",
      "lbl2data_input_ids_smp : torch.Size([10, 14])\n",
      "lbl2data_token_type_ids_smp : torch.Size([10, 14])\n",
      "lbl2data_attention_mask_smp : torch.Size([10, 14])\n",
      "lbl2data_data2ptr_smp : torch.Size([10])\n"
     ]
    }
   ],
   "source": [
    "import torch\n",
    "for k,v in b.items():\n",
    "    if isinstance(v, torch.Tensor): print(k,':', v.shape)\n",
    "    else: print(k,':',len(v))"
   ]
  },
  {
   "cell_type": "code",
   "execution_count": null,
   "id": "5e3cba51-0bcb-48a0-b19e-afd2853c5a17",
   "metadata": {},
   "outputs": [],
   "source": [
    "b = block.train.dset.one_batch()"
   ]
  },
  {
   "cell_type": "code",
   "execution_count": null,
   "id": "faf26a3c-fc35-4296-ad26-eb0de6f26351",
   "metadata": {},
   "outputs": [
    {
     "data": {
      "text/plain": [
       "[{'data_identifier': 'Ferron_Formation',\n",
       "  'data_input_text': 'Ferron Formation',\n",
       "  'data_input_ids': [101, 10768, 18933, 2078, 4195, 102],\n",
       "  'data_token_type_ids': [0, 0, 0, 0, 0, 0],\n",
       "  'data_attention_mask': [1, 1, 1, 1, 1, 1],\n",
       "  'lbl2data_idx': [246699, 246701],\n",
       "  'lbl2data_identifier': ['List_of_fossiliferous_stratigraphic_units_in_Utah',\n",
       "   'Paleontology_in_Utah'],\n",
       "  'lbl2data_input_text': ['List of fossiliferous stratigraphic units in Utah',\n",
       "   'Paleontology in Utah'],\n",
       "  'lbl2data_input_ids': [[101,\n",
       "    2862,\n",
       "    1997,\n",
       "    10725,\n",
       "    23930,\n",
       "    2358,\n",
       "    8609,\n",
       "    8004,\n",
       "    20721,\n",
       "    3197,\n",
       "    1999,\n",
       "    6646,\n",
       "    102],\n",
       "   [101, 5122, 12162, 6779, 1999, 6646, 102]],\n",
       "  'lbl2data_token_type_ids': [[0, 0, 0, 0, 0, 0, 0, 0, 0, 0, 0, 0, 0],\n",
       "   [0, 0, 0, 0, 0, 0, 0]],\n",
       "  'lbl2data_attention_mask': [[1, 1, 1, 1, 1, 1, 1, 1, 1, 1, 1, 1, 1],\n",
       "   [1, 1, 1, 1, 1, 1, 1]]},\n",
       " {'data_identifier': 'Jet_(lignite)',\n",
       "  'data_input_text': 'Jet (lignite)',\n",
       "  'data_input_ids': [101, 6892, 1006, 5622, 29076, 2618, 1007, 102],\n",
       "  'data_token_type_ids': [0, 0, 0, 0, 0, 0, 0, 0],\n",
       "  'data_attention_mask': [1, 1, 1, 1, 1, 1, 1, 1],\n",
       "  'lbl2data_idx': [126131],\n",
       "  'lbl2data_identifier': ['Petrified_wood'],\n",
       "  'lbl2data_input_text': ['Petrified wood'],\n",
       "  'lbl2data_input_ids': [[101, 9004, 22618, 3536, 102]],\n",
       "  'lbl2data_token_type_ids': [[0, 0, 0, 0, 0]],\n",
       "  'lbl2data_attention_mask': [[1, 1, 1, 1, 1]]},\n",
       " {'data_identifier': 'VA-55_(U.S._Navy)',\n",
       "  'data_input_text': 'VA-55 (U.S. Navy)',\n",
       "  'data_input_ids': [101,\n",
       "   12436,\n",
       "   1011,\n",
       "   4583,\n",
       "   1006,\n",
       "   1057,\n",
       "   1012,\n",
       "   1055,\n",
       "   1012,\n",
       "   3212,\n",
       "   1007,\n",
       "   102],\n",
       "  'data_token_type_ids': [0, 0, 0, 0, 0, 0, 0, 0, 0, 0, 0, 0],\n",
       "  'data_attention_mask': [1, 1, 1, 1, 1, 1, 1, 1, 1, 1, 1, 1],\n",
       "  'lbl2data_idx': [66851, 71563, 116191],\n",
       "  'lbl2data_identifier': ['Attack_aircraft',\n",
       "   'History_of_the_United_States_Navy',\n",
       "   'List_of_inactive_United_States_Navy_aircraft_squadrons'],\n",
       "  'lbl2data_input_text': ['Attack aircraft',\n",
       "   'History of the United States Navy',\n",
       "   'List of inactive United States Navy aircraft squadrons'],\n",
       "  'lbl2data_input_ids': [[101, 2886, 2948, 102],\n",
       "   [101, 2381, 1997, 1996, 2142, 2163, 3212, 102],\n",
       "   [101, 2862, 1997, 16389, 2142, 2163, 3212, 2948, 11435, 102]],\n",
       "  'lbl2data_token_type_ids': [[0, 0, 0, 0],\n",
       "   [0, 0, 0, 0, 0, 0, 0, 0],\n",
       "   [0, 0, 0, 0, 0, 0, 0, 0, 0, 0]],\n",
       "  'lbl2data_attention_mask': [[1, 1, 1, 1],\n",
       "   [1, 1, 1, 1, 1, 1, 1, 1],\n",
       "   [1, 1, 1, 1, 1, 1, 1, 1, 1, 1]]},\n",
       " {'data_identifier': 'Urville-Nacqueville',\n",
       "  'data_input_text': 'Urville-Nacqueville',\n",
       "  'data_input_ids': [101, 24471, 3077, 1011, 6583, 2278, 4226, 3077, 102],\n",
       "  'data_token_type_ids': [0, 0, 0, 0, 0, 0, 0, 0, 0],\n",
       "  'data_attention_mask': [1, 1, 1, 1, 1, 1, 1, 1, 1],\n",
       "  'lbl2data_idx': [57374],\n",
       "  'lbl2data_identifier': ['Communes_of_the_Manche_department'],\n",
       "  'lbl2data_input_text': ['Communes of the Manche department'],\n",
       "  'lbl2data_input_ids': [[101, 16569, 1997, 1996, 2158, 5403, 2533, 102]],\n",
       "  'lbl2data_token_type_ids': [[0, 0, 0, 0, 0, 0, 0, 0]],\n",
       "  'lbl2data_attention_mask': [[1, 1, 1, 1, 1, 1, 1, 1]]},\n",
       " {'data_identifier': 'Pico-Union,_Los_Angeles',\n",
       "  'data_input_text': 'Pico-Union, Los Angeles',\n",
       "  'data_input_ids': [101, 27263, 2080, 1011, 2586, 1010, 3050, 3349, 102],\n",
       "  'data_token_type_ids': [0, 0, 0, 0, 0, 0, 0, 0, 0],\n",
       "  'data_attention_mask': [1, 1, 1, 1, 1, 1, 1, 1, 1],\n",
       "  'lbl2data_idx': [116772],\n",
       "  'lbl2data_identifier': ['List_of_districts_and_neighborhoods_of_Los_Angeles'],\n",
       "  'lbl2data_input_text': ['List of districts and neighborhoods of Los Angeles'],\n",
       "  'lbl2data_input_ids': [[101,\n",
       "    2862,\n",
       "    1997,\n",
       "    4733,\n",
       "    1998,\n",
       "    11681,\n",
       "    1997,\n",
       "    3050,\n",
       "    3349,\n",
       "    102]],\n",
       "  'lbl2data_token_type_ids': [[0, 0, 0, 0, 0, 0, 0, 0, 0, 0]],\n",
       "  'lbl2data_attention_mask': [[1, 1, 1, 1, 1, 1, 1, 1, 1, 1]]},\n",
       " {'data_identifier': 'Lake_Thisted',\n",
       "  'data_input_text': 'Lake Thisted',\n",
       "  'data_input_ids': [101, 2697, 2023, 3064, 102],\n",
       "  'data_token_type_ids': [0, 0, 0, 0, 0],\n",
       "  'data_attention_mask': [1, 1, 1, 1, 1],\n",
       "  'lbl2data_idx': [167255],\n",
       "  'lbl2data_identifier': ['List_of_lakes_in_South_Dakota'],\n",
       "  'lbl2data_input_text': ['List of lakes in South Dakota'],\n",
       "  'lbl2data_input_ids': [[101, 2862, 1997, 6597, 1999, 2148, 7734, 102]],\n",
       "  'lbl2data_token_type_ids': [[0, 0, 0, 0, 0, 0, 0, 0]],\n",
       "  'lbl2data_attention_mask': [[1, 1, 1, 1, 1, 1, 1, 1]]},\n",
       " {'data_identifier': 'King_Worldwide',\n",
       "  'data_input_text': 'King Worldwide',\n",
       "  'data_input_ids': [101, 2332, 4969, 102],\n",
       "  'data_token_type_ids': [0, 0, 0, 0],\n",
       "  'data_attention_mask': [1, 1, 1, 1],\n",
       "  'lbl2data_idx': [3484],\n",
       "  'lbl2data_identifier': ['List_of_record_labels'],\n",
       "  'lbl2data_input_text': ['List of record labels'],\n",
       "  'lbl2data_input_ids': [[101, 2862, 1997, 2501, 10873, 102]],\n",
       "  'lbl2data_token_type_ids': [[0, 0, 0, 0, 0, 0]],\n",
       "  'lbl2data_attention_mask': [[1, 1, 1, 1, 1, 1]]},\n",
       " {'data_identifier': 'Burdekin_River',\n",
       "  'data_input_text': 'Burdekin River',\n",
       "  'data_input_ids': [101, 20934, 25547, 4939, 2314, 102],\n",
       "  'data_token_type_ids': [0, 0, 0, 0, 0, 0],\n",
       "  'data_attention_mask': [1, 1, 1, 1, 1, 1],\n",
       "  'lbl2data_idx': [46151],\n",
       "  'lbl2data_identifier': ['List_of_rivers_of_Queensland'],\n",
       "  'lbl2data_input_text': ['List of rivers of Queensland'],\n",
       "  'lbl2data_input_ids': [[101, 2862, 1997, 5485, 1997, 5322, 102]],\n",
       "  'lbl2data_token_type_ids': [[0, 0, 0, 0, 0, 0, 0]],\n",
       "  'lbl2data_attention_mask': [[1, 1, 1, 1, 1, 1, 1]]},\n",
       " {'data_identifier': 'Mulga_Downs_Station',\n",
       "  'data_input_text': 'Mulga Downs Station',\n",
       "  'data_input_ids': [101, 14163, 27887, 12482, 2276, 102],\n",
       "  'data_token_type_ids': [0, 0, 0, 0, 0, 0],\n",
       "  'data_attention_mask': [1, 1, 1, 1, 1, 1],\n",
       "  'lbl2data_idx': [127981],\n",
       "  'lbl2data_identifier': ['List_of_ranches_and_stations'],\n",
       "  'lbl2data_input_text': ['List of ranches and stations'],\n",
       "  'lbl2data_input_ids': [[101, 2862, 1997, 8086, 2229, 1998, 3703, 102]],\n",
       "  'lbl2data_token_type_ids': [[0, 0, 0, 0, 0, 0, 0, 0]],\n",
       "  'lbl2data_attention_mask': [[1, 1, 1, 1, 1, 1, 1, 1]]},\n",
       " {'data_identifier': 'MartÃ\\xadn_de_AlarcÃ³n',\n",
       "  'data_input_text': 'MartÃ\\xadn de AlarcÃ³n',\n",
       "  'data_input_ids': [101, 18950, 2078, 2139, 21862, 18992, 18107, 2078, 102],\n",
       "  'data_token_type_ids': [0, 0, 0, 0, 0, 0, 0, 0, 0],\n",
       "  'data_attention_mask': [1, 1, 1, 1, 1, 1, 1, 1, 1],\n",
       "  'lbl2data_idx': [234336],\n",
       "  'lbl2data_identifier': ['Acequia_Madre_de_Valero'],\n",
       "  'lbl2data_input_text': ['Acequia Madre de Valero'],\n",
       "  'lbl2data_input_ids': [[101,\n",
       "    9078,\n",
       "    15549,\n",
       "    2050,\n",
       "    5506,\n",
       "    2890,\n",
       "    2139,\n",
       "    10380,\n",
       "    3217,\n",
       "    102]],\n",
       "  'lbl2data_token_type_ids': [[0, 0, 0, 0, 0, 0, 0, 0, 0, 0]],\n",
       "  'lbl2data_attention_mask': [[1, 1, 1, 1, 1, 1, 1, 1, 1, 1]]}]"
      ]
     },
     "execution_count": null,
     "metadata": {},
     "output_type": "execute_result"
    }
   ],
   "source": [
    "b"
   ]
  },
  {
   "cell_type": "markdown",
   "id": "f15344bf-7916-4f9a-a5a4-2394e6b35464",
   "metadata": {},
   "source": [
    "## Batch"
   ]
  },
  {
   "cell_type": "code",
   "execution_count": null,
   "id": "3f02e650-a81e-47e1-86b5-ffb8866346cf",
   "metadata": {},
   "outputs": [],
   "source": [
    "#| export\n",
    "def prepare_batch(m, b, m_args=None):\n",
    "    m_kwargs = inspect.signature(m.forward).parameters\n",
    "    return BatchEncoding({k:v for k,v in b.items() if k in m_kwargs or (m_args is not None and k in m_args)})"
   ]
  },
  {
   "cell_type": "code",
   "execution_count": null,
   "id": "40f97697-e113-4e76-b2ca-f642370c4af1",
   "metadata": {},
   "outputs": [],
   "source": []
  }
 ],
 "metadata": {
  "kernelspec": {
   "display_name": "python3",
   "language": "python",
   "name": "python3"
  }
 },
 "nbformat": 4,
 "nbformat_minor": 5
}
