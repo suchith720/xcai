{
 "cells": [
  {
   "cell_type": "code",
   "execution_count": null,
   "id": "d5f8c456-5339-43aa-baed-b9eb2114b14d",
   "metadata": {},
   "outputs": [],
   "source": [
    "#| default_exp models.BT000X"
   ]
  },
  {
   "cell_type": "code",
   "execution_count": null,
   "id": "43f76551-93c3-40cf-915f-5a4d3c04cd9b",
   "metadata": {},
   "outputs": [],
   "source": [
    "#| hide\n",
    "%load_ext autoreload\n",
    "%autoreload 2"
   ]
  },
  {
   "cell_type": "code",
   "execution_count": null,
   "id": "311dc422-47c6-4c49-a719-e83d23acf0c5",
   "metadata": {},
   "outputs": [],
   "source": [
    "#| export\n",
    "import torch, re, inspect\n",
    "from dataclasses import dataclass\n",
    "from typing import Optional, List, Tuple, Mapping, Any\n",
    "from transformers import BertLMHeadModel, BatchEncoding\n",
    "from transformers.utils.generic import ModelOutput\n",
    "from fastcore.meta import *\n",
    "\n",
    "from xcai.test_utils import *\n",
    "from xcai.losses import *"
   ]
  },
  {
   "cell_type": "code",
   "execution_count": null,
   "id": "0ae88304-b2a5-4988-b6e8-d30a2bd79f48",
   "metadata": {},
   "outputs": [],
   "source": [
    "#| hide\n",
    "from nbdev.showdoc import *\n",
    "import nbdev; nbdev.nbdev_export()"
   ]
  },
  {
   "cell_type": "markdown",
   "id": "7ff3b726-0f16-46f1-ae48-b34febc784b0",
   "metadata": {},
   "source": [
    "## Setup"
   ]
  },
  {
   "cell_type": "code",
   "execution_count": null,
   "id": "8f118491-1eb9-4e38-a63f-395612689d32",
   "metadata": {},
   "outputs": [
    {
     "name": "stderr",
     "output_type": "stream",
     "text": [
      "/scratch/scai/phd/aiz218323/anaconda3/envs/xc_nlg/lib/python3.9/site-packages/scipy/sparse/_index.py:145: SparseEfficiencyWarning: Changing the sparsity structure of a csr_matrix is expensive. lil_matrix is more efficient.\n",
      "  self._set_arrayXarray(i, j, x)\n"
     ]
    }
   ],
   "source": [
    "block = Test.from_cfg('train')"
   ]
  },
  {
   "cell_type": "code",
   "execution_count": null,
   "id": "c734cfb6-162b-42b7-8ddb-f5a85bc3ef60",
   "metadata": {},
   "outputs": [],
   "source": [
    "bsz = 20\n",
    "batch = block.train.one_batch(bsz)"
   ]
  },
  {
   "cell_type": "code",
   "execution_count": null,
   "id": "67c547f9-abcc-4e8a-b52c-69fbc1d7f89c",
   "metadata": {},
   "outputs": [
    {
     "data": {
      "text/plain": [
       "{'lbl2data_idx': tensor([ 93458, 194001,   2544,  67030, 207194,  65848, 138083, 190705, 212057,\n",
       "        212058, 106148,  57415,   5098,  35257, 108559, 230538, 260048,   3056,\n",
       "        110493, 199088, 139747,  26243, 174656,   2980,  26704,  61452, 270585,\n",
       "         27086,  45172,  81895,  20557,  56645,  78517,  87964, 193369, 208162]), 'lbl2data_identifier': ['List_of_scientific_misconduct_incidents', \"List_of_Russian_Nature_Reserves_(class_1a_'zapovedniks')\", 'Tourism_in_Japan', 'List_of_Special_Places_of_Scenic_Beauty,_Special_Historic_Sites_and_Special_Natural_Monuments', 'Public_Order_Act', 'The_House_That_Shadows_Built', 'University_of_Toronto', 'Knowledge_Forum', 'Knowledge_building', 'OISE', 'Skardu', 'Communes_of_the_Morbihan_department', 'File_system', 'WinFS', 'Science_and_technology_in_Flanders', 'Agoria', 'IWT', 'Honorific_nicknames_in_popular_music', 'Music_of_Serbia', 'Serbian_hip_hop', 'Chief_Cashier_of_the_Bank_of_England', 'List_of_Major_League_Baseball_players_named_in_the_Mitchell_Report', 'Australia_at_the_2000_Summer_Olympics', 'Algaculture', 'List_of_cities_and_towns_in_South_Australia', 'Riverland_Biosphere_Reserve', 'Danggali,_South_Australia', 'List_of_sandwiches', 'List_of_peanut_dishes', 'Smooth_number', 'List_of_Mexican_dishes', 'food', 'ChapulÃ\\x83Â\\xadn_de_la_milpa', 'Entomophagy', 'List_of_Spanish_words_of_Nahuatl_origin', 'CHARGE_syndrome'], 'lbl2data_input_text': ['List of scientific misconduct incidents', \"List of Russian Nature Reserves (class 1a 'zapovedniks')\", 'Tourism in Japan', 'List of Special Places of Scenic Beauty, Special Historic Sites and Special Natural Monuments', 'Public Order Act', 'The House That Shadows Built', 'University of Toronto', 'Knowledge Forum', 'Knowledge building', 'OISE', 'Skardu', 'Communes of the Morbihan department', 'File system', 'WinFS', 'Science and technology in Flanders', 'Agoria', 'IWT', 'Honorific nicknames in popular music', 'Music of Serbia', 'Serbian hip hop', 'Chief Cashier of the Bank of England', 'List of Major League Baseball players named in the Mitchell Report', 'Australia at the 2000 Summer Olympics', 'Algaculture', 'List of cities and towns in South Australia', 'Riverland Biosphere Reserve', 'Danggali, South Australia', 'List of sandwiches', 'List of peanut dishes', 'Smooth number', 'List of Mexican dishes', 'food', 'ChapulÃ\\x83Â\\xadn de la milpa', 'Entomophagy', 'List of Spanish words of Nahuatl origin', 'CHARGE syndrome'], 'lbl2data_input_ids': tensor([[  101,  5619,  1104,  3812, 26879, 10563,   102,     0,     0,     0,\n",
       "             0,     0,     0,     0,     0,     0,     0,     0,     0,     0],\n",
       "        [  101,  5619,  1104,  1938,  7009, 24635,   102,     0,     0,     0,\n",
       "             0,     0,     0,     0,     0,     0,     0,     0,     0,     0],\n",
       "        [  101, 12067,  1107,  1999,   102,     0,     0,     0,     0,     0,\n",
       "             0,     0,     0,     0,     0,     0,     0,     0,     0,     0],\n",
       "        [  101,  5619,  1104,  3139,  5068,  1104, 27314, 10764,   117,  3139,\n",
       "          3700, 27010,  1105,  3139,  6240,   102,     0,     0,     0,     0],\n",
       "        [  101,  2710,  2864,  2173,   102,     0,     0,     0,     0,     0,\n",
       "             0,     0,     0,     0,     0,     0,     0,     0,     0,     0],\n",
       "        [  101,  1109,  1585,  1337, 15714, 10521,   102,     0,     0,     0,\n",
       "             0,     0,     0,     0,     0,     0,     0,     0,     0,     0],\n",
       "        [  101,  1239,  1104,  3506,   102,     0,     0,     0,     0,     0,\n",
       "             0,     0,     0,     0,     0,     0,     0,     0,     0,     0],\n",
       "        [  101, 14966,  8576,   102,     0,     0,     0,     0,     0,     0,\n",
       "             0,     0,     0,     0,     0,     0,     0,     0,     0,     0],\n",
       "        [  101, 14966,  1459,   102,     0,     0,     0,     0,     0,     0,\n",
       "             0,     0,     0,     0,     0,     0,     0,     0,     0,     0],\n",
       "        [  101,   152,  6258,  2036,   102,     0,     0,     0,     0,     0,\n",
       "             0,     0,     0,     0,     0,     0,     0,     0,     0,     0],\n",
       "        [  101,   156,  6610,  7641,   102,     0,     0,     0,     0,     0,\n",
       "             0,     0,     0,     0,     0,     0,     0,     0,     0,     0],\n",
       "        [  101,  3291,  6262, 10038,  1116,  1104,  1103, 12556, 26281, 21656,\n",
       "          1389,   102,     0,     0,     0,     0,     0,     0,     0,     0],\n",
       "        [  101, 25647,  1449,   102,     0,     0,     0,     0,     0,     0,\n",
       "             0,     0,     0,     0,     0,     0,     0,     0,     0,     0],\n",
       "        [  101, 16387, 17691,   102,     0,     0,     0,     0,     0,     0,\n",
       "             0,     0,     0,     0,     0,     0,     0,     0,     0,     0],\n",
       "        [  101,  2444,  1105,  2815,  1107,   102,     0,     0,     0,     0,\n",
       "             0,     0,     0,     0,     0,     0,     0,     0,     0,     0],\n",
       "        [  101,   138, 18791,  1465,   102,     0,     0,     0,     0,     0,\n",
       "             0,     0,     0,     0,     0,     0,     0,     0,     0,     0],\n",
       "        [  101,   146,  2924,  1942,   102,     0,     0,     0,     0,     0,\n",
       "             0,     0,     0,     0,     0,     0,     0,     0,     0,     0],\n",
       "        [  101,  7337, 19814,  8002,  1116,  1107,   102,     0,     0,     0,\n",
       "             0,     0,     0,     0,     0,     0,     0,     0,     0,     0],\n",
       "        [  101,  1953,  1104,  6689,   102,     0,     0,     0,     0,     0,\n",
       "             0,     0,     0,     0,     0,     0,     0,     0,     0,     0],\n",
       "        [  101,  5881,  5110,  6974,   102,     0,     0,     0,     0,     0,\n",
       "             0,     0,     0,     0,     0,     0,     0,     0,     0,     0],\n",
       "        [  101,  2534, 10511,  2852,  1104,  1103,   102,     0,     0,     0,\n",
       "             0,     0,     0,     0,     0,     0,     0,     0,     0,     0],\n",
       "        [  101,  5619,  1104,   102,     0,     0,     0,     0,     0,     0,\n",
       "             0,     0,     0,     0,     0,     0,     0,     0,     0,     0],\n",
       "        [  101,  1754,  1120,  1103,   102,     0,     0,     0,     0,     0,\n",
       "             0,     0,     0,     0,     0,     0,     0,     0,     0,     0],\n",
       "        [  101,  2586,  2571, 19695,   102,     0,     0,     0,     0,     0,\n",
       "             0,     0,     0,     0,     0,     0,     0,     0,     0,     0],\n",
       "        [  101,  5619,  1104,  3038,  1105,  4281,  1107,   102,     0,     0,\n",
       "             0,     0,     0,     0,     0,     0,     0,     0,     0,     0],\n",
       "        [  101,  1595,  1931,   139, 10714, 13591,  5081,   102,     0,     0,\n",
       "             0,     0,     0,     0,     0,     0,     0,     0,     0,     0],\n",
       "        [  101,  4317,  9705, 10584,   117,  1375,  1754,   102,     0,     0,\n",
       "             0,     0,     0,     0,     0,     0,     0,     0,     0,     0],\n",
       "        [  101,  5619,  1104, 25326,   102,     0,     0,     0,     0,     0,\n",
       "             0,     0,     0,     0,     0,     0,     0,     0,     0,     0],\n",
       "        [  101,  5619,  1104,   185, 23629, 10514,   102,     0,     0,     0,\n",
       "             0,     0,     0,     0,     0,     0,     0,     0,     0,     0],\n",
       "        [  101,   156,  3702,   102,     0,     0,     0,     0,     0,     0,\n",
       "             0,     0,     0,     0,     0,     0,     0,     0,     0,     0],\n",
       "        [  101,  5619,  1104,  4112,   102,     0,     0,     0,     0,     0,\n",
       "             0,     0,     0,     0,     0,     0,     0,     0,     0,     0],\n",
       "        [  101,  2094,   102,     0,     0,     0,     0,     0,     0,     0,\n",
       "             0,     0,     0,     0,     0,     0,     0,     0,     0,     0],\n",
       "        [  101,   100,  1260,  2495,   102,     0,     0,     0,     0,     0,\n",
       "             0,     0,     0,     0,     0,     0,     0,     0,     0,     0],\n",
       "        [  101, 13832, 18778,  4184,   102,     0,     0,     0,     0,     0,\n",
       "             0,     0,     0,     0,     0,     0,     0,     0,     0,     0],\n",
       "        [  101,  5619,  1104,  2124,   102,     0,     0,     0,     0,     0,\n",
       "             0,     0,     0,     0,     0,     0,     0,     0,     0,     0],\n",
       "        [  101, 24890, 12426, 16523,  9318,   102,     0,     0,     0,     0,\n",
       "             0,     0,     0,     0,     0,     0,     0,     0,     0,     0]]), 'lbl2data_token_type_ids': tensor([[0, 0, 0, 0, 0, 0, 0, 0, 0, 0, 0, 0, 0, 0, 0, 0, 0, 0, 0, 0],\n",
       "        [0, 0, 0, 0, 0, 0, 0, 0, 0, 0, 0, 0, 0, 0, 0, 0, 0, 0, 0, 0],\n",
       "        [0, 0, 0, 0, 0, 0, 0, 0, 0, 0, 0, 0, 0, 0, 0, 0, 0, 0, 0, 0],\n",
       "        [0, 0, 0, 0, 0, 0, 0, 0, 0, 0, 0, 0, 0, 0, 0, 0, 0, 0, 0, 0],\n",
       "        [0, 0, 0, 0, 0, 0, 0, 0, 0, 0, 0, 0, 0, 0, 0, 0, 0, 0, 0, 0],\n",
       "        [0, 0, 0, 0, 0, 0, 0, 0, 0, 0, 0, 0, 0, 0, 0, 0, 0, 0, 0, 0],\n",
       "        [0, 0, 0, 0, 0, 0, 0, 0, 0, 0, 0, 0, 0, 0, 0, 0, 0, 0, 0, 0],\n",
       "        [0, 0, 0, 0, 0, 0, 0, 0, 0, 0, 0, 0, 0, 0, 0, 0, 0, 0, 0, 0],\n",
       "        [0, 0, 0, 0, 0, 0, 0, 0, 0, 0, 0, 0, 0, 0, 0, 0, 0, 0, 0, 0],\n",
       "        [0, 0, 0, 0, 0, 0, 0, 0, 0, 0, 0, 0, 0, 0, 0, 0, 0, 0, 0, 0],\n",
       "        [0, 0, 0, 0, 0, 0, 0, 0, 0, 0, 0, 0, 0, 0, 0, 0, 0, 0, 0, 0],\n",
       "        [0, 0, 0, 0, 0, 0, 0, 0, 0, 0, 0, 0, 0, 0, 0, 0, 0, 0, 0, 0],\n",
       "        [0, 0, 0, 0, 0, 0, 0, 0, 0, 0, 0, 0, 0, 0, 0, 0, 0, 0, 0, 0],\n",
       "        [0, 0, 0, 0, 0, 0, 0, 0, 0, 0, 0, 0, 0, 0, 0, 0, 0, 0, 0, 0],\n",
       "        [0, 0, 0, 0, 0, 0, 0, 0, 0, 0, 0, 0, 0, 0, 0, 0, 0, 0, 0, 0],\n",
       "        [0, 0, 0, 0, 0, 0, 0, 0, 0, 0, 0, 0, 0, 0, 0, 0, 0, 0, 0, 0],\n",
       "        [0, 0, 0, 0, 0, 0, 0, 0, 0, 0, 0, 0, 0, 0, 0, 0, 0, 0, 0, 0],\n",
       "        [0, 0, 0, 0, 0, 0, 0, 0, 0, 0, 0, 0, 0, 0, 0, 0, 0, 0, 0, 0],\n",
       "        [0, 0, 0, 0, 0, 0, 0, 0, 0, 0, 0, 0, 0, 0, 0, 0, 0, 0, 0, 0],\n",
       "        [0, 0, 0, 0, 0, 0, 0, 0, 0, 0, 0, 0, 0, 0, 0, 0, 0, 0, 0, 0],\n",
       "        [0, 0, 0, 0, 0, 0, 0, 0, 0, 0, 0, 0, 0, 0, 0, 0, 0, 0, 0, 0],\n",
       "        [0, 0, 0, 0, 0, 0, 0, 0, 0, 0, 0, 0, 0, 0, 0, 0, 0, 0, 0, 0],\n",
       "        [0, 0, 0, 0, 0, 0, 0, 0, 0, 0, 0, 0, 0, 0, 0, 0, 0, 0, 0, 0],\n",
       "        [0, 0, 0, 0, 0, 0, 0, 0, 0, 0, 0, 0, 0, 0, 0, 0, 0, 0, 0, 0],\n",
       "        [0, 0, 0, 0, 0, 0, 0, 0, 0, 0, 0, 0, 0, 0, 0, 0, 0, 0, 0, 0],\n",
       "        [0, 0, 0, 0, 0, 0, 0, 0, 0, 0, 0, 0, 0, 0, 0, 0, 0, 0, 0, 0],\n",
       "        [0, 0, 0, 0, 0, 0, 0, 0, 0, 0, 0, 0, 0, 0, 0, 0, 0, 0, 0, 0],\n",
       "        [0, 0, 0, 0, 0, 0, 0, 0, 0, 0, 0, 0, 0, 0, 0, 0, 0, 0, 0, 0],\n",
       "        [0, 0, 0, 0, 0, 0, 0, 0, 0, 0, 0, 0, 0, 0, 0, 0, 0, 0, 0, 0],\n",
       "        [0, 0, 0, 0, 0, 0, 0, 0, 0, 0, 0, 0, 0, 0, 0, 0, 0, 0, 0, 0],\n",
       "        [0, 0, 0, 0, 0, 0, 0, 0, 0, 0, 0, 0, 0, 0, 0, 0, 0, 0, 0, 0],\n",
       "        [0, 0, 0, 0, 0, 0, 0, 0, 0, 0, 0, 0, 0, 0, 0, 0, 0, 0, 0, 0],\n",
       "        [0, 0, 0, 0, 0, 0, 0, 0, 0, 0, 0, 0, 0, 0, 0, 0, 0, 0, 0, 0],\n",
       "        [0, 0, 0, 0, 0, 0, 0, 0, 0, 0, 0, 0, 0, 0, 0, 0, 0, 0, 0, 0],\n",
       "        [0, 0, 0, 0, 0, 0, 0, 0, 0, 0, 0, 0, 0, 0, 0, 0, 0, 0, 0, 0],\n",
       "        [0, 0, 0, 0, 0, 0, 0, 0, 0, 0, 0, 0, 0, 0, 0, 0, 0, 0, 0, 0]]), 'lbl2data_attention_mask': tensor([[1, 1, 1, 1, 1, 1, 1, 0, 0, 0, 0, 0, 0, 0, 0, 0, 0, 0, 0, 0],\n",
       "        [1, 1, 1, 1, 1, 1, 1, 0, 0, 0, 0, 0, 0, 0, 0, 0, 0, 0, 0, 0],\n",
       "        [1, 1, 1, 1, 1, 0, 0, 0, 0, 0, 0, 0, 0, 0, 0, 0, 0, 0, 0, 0],\n",
       "        [1, 1, 1, 1, 1, 1, 1, 1, 1, 1, 1, 1, 1, 1, 1, 1, 0, 0, 0, 0],\n",
       "        [1, 1, 1, 1, 1, 0, 0, 0, 0, 0, 0, 0, 0, 0, 0, 0, 0, 0, 0, 0],\n",
       "        [1, 1, 1, 1, 1, 1, 1, 0, 0, 0, 0, 0, 0, 0, 0, 0, 0, 0, 0, 0],\n",
       "        [1, 1, 1, 1, 1, 0, 0, 0, 0, 0, 0, 0, 0, 0, 0, 0, 0, 0, 0, 0],\n",
       "        [1, 1, 1, 1, 0, 0, 0, 0, 0, 0, 0, 0, 0, 0, 0, 0, 0, 0, 0, 0],\n",
       "        [1, 1, 1, 1, 0, 0, 0, 0, 0, 0, 0, 0, 0, 0, 0, 0, 0, 0, 0, 0],\n",
       "        [1, 1, 1, 1, 1, 0, 0, 0, 0, 0, 0, 0, 0, 0, 0, 0, 0, 0, 0, 0],\n",
       "        [1, 1, 1, 1, 1, 0, 0, 0, 0, 0, 0, 0, 0, 0, 0, 0, 0, 0, 0, 0],\n",
       "        [1, 1, 1, 1, 1, 1, 1, 1, 1, 1, 1, 1, 0, 0, 0, 0, 0, 0, 0, 0],\n",
       "        [1, 1, 1, 1, 0, 0, 0, 0, 0, 0, 0, 0, 0, 0, 0, 0, 0, 0, 0, 0],\n",
       "        [1, 1, 1, 1, 0, 0, 0, 0, 0, 0, 0, 0, 0, 0, 0, 0, 0, 0, 0, 0],\n",
       "        [1, 1, 1, 1, 1, 1, 0, 0, 0, 0, 0, 0, 0, 0, 0, 0, 0, 0, 0, 0],\n",
       "        [1, 1, 1, 1, 1, 0, 0, 0, 0, 0, 0, 0, 0, 0, 0, 0, 0, 0, 0, 0],\n",
       "        [1, 1, 1, 1, 1, 0, 0, 0, 0, 0, 0, 0, 0, 0, 0, 0, 0, 0, 0, 0],\n",
       "        [1, 1, 1, 1, 1, 1, 1, 0, 0, 0, 0, 0, 0, 0, 0, 0, 0, 0, 0, 0],\n",
       "        [1, 1, 1, 1, 1, 0, 0, 0, 0, 0, 0, 0, 0, 0, 0, 0, 0, 0, 0, 0],\n",
       "        [1, 1, 1, 1, 1, 0, 0, 0, 0, 0, 0, 0, 0, 0, 0, 0, 0, 0, 0, 0],\n",
       "        [1, 1, 1, 1, 1, 1, 1, 0, 0, 0, 0, 0, 0, 0, 0, 0, 0, 0, 0, 0],\n",
       "        [1, 1, 1, 1, 0, 0, 0, 0, 0, 0, 0, 0, 0, 0, 0, 0, 0, 0, 0, 0],\n",
       "        [1, 1, 1, 1, 1, 0, 0, 0, 0, 0, 0, 0, 0, 0, 0, 0, 0, 0, 0, 0],\n",
       "        [1, 1, 1, 1, 1, 0, 0, 0, 0, 0, 0, 0, 0, 0, 0, 0, 0, 0, 0, 0],\n",
       "        [1, 1, 1, 1, 1, 1, 1, 1, 0, 0, 0, 0, 0, 0, 0, 0, 0, 0, 0, 0],\n",
       "        [1, 1, 1, 1, 1, 1, 1, 1, 0, 0, 0, 0, 0, 0, 0, 0, 0, 0, 0, 0],\n",
       "        [1, 1, 1, 1, 1, 1, 1, 1, 0, 0, 0, 0, 0, 0, 0, 0, 0, 0, 0, 0],\n",
       "        [1, 1, 1, 1, 1, 0, 0, 0, 0, 0, 0, 0, 0, 0, 0, 0, 0, 0, 0, 0],\n",
       "        [1, 1, 1, 1, 1, 1, 1, 0, 0, 0, 0, 0, 0, 0, 0, 0, 0, 0, 0, 0],\n",
       "        [1, 1, 1, 1, 0, 0, 0, 0, 0, 0, 0, 0, 0, 0, 0, 0, 0, 0, 0, 0],\n",
       "        [1, 1, 1, 1, 1, 0, 0, 0, 0, 0, 0, 0, 0, 0, 0, 0, 0, 0, 0, 0],\n",
       "        [1, 1, 1, 0, 0, 0, 0, 0, 0, 0, 0, 0, 0, 0, 0, 0, 0, 0, 0, 0],\n",
       "        [1, 1, 1, 1, 1, 0, 0, 0, 0, 0, 0, 0, 0, 0, 0, 0, 0, 0, 0, 0],\n",
       "        [1, 1, 1, 1, 1, 0, 0, 0, 0, 0, 0, 0, 0, 0, 0, 0, 0, 0, 0, 0],\n",
       "        [1, 1, 1, 1, 1, 0, 0, 0, 0, 0, 0, 0, 0, 0, 0, 0, 0, 0, 0, 0],\n",
       "        [1, 1, 1, 1, 1, 1, 0, 0, 0, 0, 0, 0, 0, 0, 0, 0, 0, 0, 0, 0]]), 'lbl2data_data2ptr': tensor([1, 1, 2, 1, 1, 4, 1, 1, 2, 3, 3, 1, 1, 1, 1, 3, 2, 1, 5, 1]), 'data_identifier': ['Elias_Alsabti', 'East_Ural_Nature_Reserve', 'IchijÅ\\x8ddani_Asakura_Family_Historic_Ruins', 'Public_Order_Act_(Northern_Ireland)_1951', 'The_Call_of_the_North_(1914_film)', 'Marlene_Scardamalia', 'Shigar_Valley', 'Saint-Malo-de-Beignon', 'Program_Files', 'Waterfront_Researchpark', 'Gru_(rapper)', 'Edward_Payne_(banker)', 'Stephen_Randolph', 'Majella_Brown', 'Tetraselmis_suecica', 'Danggali,_South_Australia', 'Peanut_butter,_banana_and_bacon_sandwich', 'Rough_number', 'Chapulines', 'Abruzzoâ\\x80\\x93Erickson_syndrome'], 'data_input_text': ['Elias Alsabti', 'East Ural Nature Reserve', 'IchijÅ\\x8ddani Asakura Family Historic Ruins', 'Public Order Act (Northern Ireland) 1951', 'The Call of the North (1914 film)', 'Marlene Scardamalia', 'Shigar Valley', 'Saint-Malo-de-Beignon', 'Program Files', 'Waterfront Researchpark', 'Gru (rapper)', 'Edward Payne (banker)', 'Stephen Randolph', 'Majella Brown', 'Tetraselmis suecica', 'Danggali, South Australia', 'Peanut butter, banana and bacon sandwich', 'Rough number', 'Chapulines', 'Abruzzoâ\\x80\\x93Erickson syndrome'], 'data_input_ids': tensor([[  101, 16325,  2586,  3202, 21238,  1182,   102,     0,     0,     0,\n",
       "             0,     0,     0,     0,     0,     0],\n",
       "        [  101,  1689,   158,  4412,  7009,  5081,   102,     0,     0,     0,\n",
       "             0,     0,     0,     0,     0,     0],\n",
       "        [  101,   146,  4313,  3361, 28183,  6778,  1182,  1249,  3715,  4084,\n",
       "          3921,  3700,   155, 14846,  1116,   102],\n",
       "        [  101,  2710,  2864,  2173,   113,  2579,  2270,   114,  3280,   102,\n",
       "             0,     0,     0,     0,     0,     0],\n",
       "        [  101,  1109,  7268,  1104,  1103,  1456,   113,  3710,  1273,   114,\n",
       "           102,     0,     0,     0,     0,     0],\n",
       "        [  101,  9751, 11936, 20452,  2881,  7363,  4567,   102,     0,     0,\n",
       "             0,     0,     0,     0,     0,     0],\n",
       "        [  101, 14104,  5526,  2634,   102,     0,     0,     0,     0,     0,\n",
       "             0,     0,     0,     0,     0,     0],\n",
       "        [  101,  2216,   118, 18880,  1186,   118,  1260,   118,  4108, 11368,\n",
       "          1320,   102,     0,     0,     0,     0],\n",
       "        [  101,  4659, 21231,   102,     0,     0,     0,     0,     0,     0,\n",
       "             0,     0,     0,     0,     0,     0],\n",
       "        [  101,  4434, 11949,  2713, 14967,   102,     0,     0,     0,     0,\n",
       "             0,     0,     0,     0,     0,     0],\n",
       "        [  101,   144,  5082,   113, 11333,   114,   102,     0,     0,     0,\n",
       "             0,     0,     0,     0,     0,     0],\n",
       "        [  101,  2594, 13802,   113, 15304,   114,   102,     0,     0,     0,\n",
       "             0,     0,     0,     0,     0,     0],\n",
       "        [  101,  3620, 13290,   102,     0,     0,     0,     0,     0,     0,\n",
       "             0,     0,     0,     0,     0,     0],\n",
       "        [  101, 18285,  7772,  2671,   102,     0,     0,     0,     0,     0,\n",
       "             0,     0,     0,     0,     0,     0],\n",
       "        [  101, 12008, 25352,  1883, 15394, 25762,  6617,  2599,   102,     0,\n",
       "             0,     0,     0,     0,     0,     0],\n",
       "        [  101,  4317,  9705, 10584,   117,  1375,  1754,   102,     0,     0,\n",
       "             0,     0,     0,     0,     0,     0],\n",
       "        [  101,   153, 23629, 13742,   117, 21806,  1105, 20503, 14327,   102,\n",
       "             0,     0,     0,     0,     0,     0],\n",
       "        [  101, 19479,  1295,   102,     0,     0,     0,     0,     0,     0,\n",
       "             0,     0,     0,     0,     0,     0],\n",
       "        [  101, 24705, 16091, 10443,   102,     0,     0,     0,     0,     0,\n",
       "             0,     0,     0,     0,     0,     0],\n",
       "        [  101,   138,  1830,  5082, 12550, 28198,  2036, 23587,  1320,  9318,\n",
       "           102,     0,     0,     0,     0,     0]]), 'data_token_type_ids': tensor([[0, 0, 0, 0, 0, 0, 0, 0, 0, 0, 0, 0, 0, 0, 0, 0],\n",
       "        [0, 0, 0, 0, 0, 0, 0, 0, 0, 0, 0, 0, 0, 0, 0, 0],\n",
       "        [0, 0, 0, 0, 0, 0, 0, 0, 0, 0, 0, 0, 0, 0, 0, 0],\n",
       "        [0, 0, 0, 0, 0, 0, 0, 0, 0, 0, 0, 0, 0, 0, 0, 0],\n",
       "        [0, 0, 0, 0, 0, 0, 0, 0, 0, 0, 0, 0, 0, 0, 0, 0],\n",
       "        [0, 0, 0, 0, 0, 0, 0, 0, 0, 0, 0, 0, 0, 0, 0, 0],\n",
       "        [0, 0, 0, 0, 0, 0, 0, 0, 0, 0, 0, 0, 0, 0, 0, 0],\n",
       "        [0, 0, 0, 0, 0, 0, 0, 0, 0, 0, 0, 0, 0, 0, 0, 0],\n",
       "        [0, 0, 0, 0, 0, 0, 0, 0, 0, 0, 0, 0, 0, 0, 0, 0],\n",
       "        [0, 0, 0, 0, 0, 0, 0, 0, 0, 0, 0, 0, 0, 0, 0, 0],\n",
       "        [0, 0, 0, 0, 0, 0, 0, 0, 0, 0, 0, 0, 0, 0, 0, 0],\n",
       "        [0, 0, 0, 0, 0, 0, 0, 0, 0, 0, 0, 0, 0, 0, 0, 0],\n",
       "        [0, 0, 0, 0, 0, 0, 0, 0, 0, 0, 0, 0, 0, 0, 0, 0],\n",
       "        [0, 0, 0, 0, 0, 0, 0, 0, 0, 0, 0, 0, 0, 0, 0, 0],\n",
       "        [0, 0, 0, 0, 0, 0, 0, 0, 0, 0, 0, 0, 0, 0, 0, 0],\n",
       "        [0, 0, 0, 0, 0, 0, 0, 0, 0, 0, 0, 0, 0, 0, 0, 0],\n",
       "        [0, 0, 0, 0, 0, 0, 0, 0, 0, 0, 0, 0, 0, 0, 0, 0],\n",
       "        [0, 0, 0, 0, 0, 0, 0, 0, 0, 0, 0, 0, 0, 0, 0, 0],\n",
       "        [0, 0, 0, 0, 0, 0, 0, 0, 0, 0, 0, 0, 0, 0, 0, 0],\n",
       "        [0, 0, 0, 0, 0, 0, 0, 0, 0, 0, 0, 0, 0, 0, 0, 0]]), 'data_attention_mask': tensor([[1, 1, 1, 1, 1, 1, 1, 0, 0, 0, 0, 0, 0, 0, 0, 0],\n",
       "        [1, 1, 1, 1, 1, 1, 1, 0, 0, 0, 0, 0, 0, 0, 0, 0],\n",
       "        [1, 1, 1, 1, 1, 1, 1, 1, 1, 1, 1, 1, 1, 1, 1, 1],\n",
       "        [1, 1, 1, 1, 1, 1, 1, 1, 1, 1, 0, 0, 0, 0, 0, 0],\n",
       "        [1, 1, 1, 1, 1, 1, 1, 1, 1, 1, 1, 0, 0, 0, 0, 0],\n",
       "        [1, 1, 1, 1, 1, 1, 1, 1, 0, 0, 0, 0, 0, 0, 0, 0],\n",
       "        [1, 1, 1, 1, 1, 0, 0, 0, 0, 0, 0, 0, 0, 0, 0, 0],\n",
       "        [1, 1, 1, 1, 1, 1, 1, 1, 1, 1, 1, 1, 0, 0, 0, 0],\n",
       "        [1, 1, 1, 1, 0, 0, 0, 0, 0, 0, 0, 0, 0, 0, 0, 0],\n",
       "        [1, 1, 1, 1, 1, 1, 0, 0, 0, 0, 0, 0, 0, 0, 0, 0],\n",
       "        [1, 1, 1, 1, 1, 1, 1, 0, 0, 0, 0, 0, 0, 0, 0, 0],\n",
       "        [1, 1, 1, 1, 1, 1, 1, 0, 0, 0, 0, 0, 0, 0, 0, 0],\n",
       "        [1, 1, 1, 1, 0, 0, 0, 0, 0, 0, 0, 0, 0, 0, 0, 0],\n",
       "        [1, 1, 1, 1, 1, 0, 0, 0, 0, 0, 0, 0, 0, 0, 0, 0],\n",
       "        [1, 1, 1, 1, 1, 1, 1, 1, 1, 0, 0, 0, 0, 0, 0, 0],\n",
       "        [1, 1, 1, 1, 1, 1, 1, 1, 0, 0, 0, 0, 0, 0, 0, 0],\n",
       "        [1, 1, 1, 1, 1, 1, 1, 1, 1, 1, 0, 0, 0, 0, 0, 0],\n",
       "        [1, 1, 1, 1, 0, 0, 0, 0, 0, 0, 0, 0, 0, 0, 0, 0],\n",
       "        [1, 1, 1, 1, 1, 0, 0, 0, 0, 0, 0, 0, 0, 0, 0, 0],\n",
       "        [1, 1, 1, 1, 1, 1, 1, 1, 1, 1, 1, 0, 0, 0, 0, 0]])}"
      ]
     },
     "execution_count": null,
     "metadata": {},
     "output_type": "execute_result"
    }
   ],
   "source": [
    "batch"
   ]
  },
  {
   "cell_type": "code",
   "execution_count": null,
   "id": "d8142ce8-4ddd-4ab7-b791-7343d1ae64f0",
   "metadata": {},
   "outputs": [
    {
     "data": {
      "text/plain": [
       "dict_keys(['lbl2data_idx', 'lbl2data_identifier', 'lbl2data_input_text', 'lbl2data_input_ids', 'lbl2data_token_type_ids', 'lbl2data_attention_mask', 'lbl2data_data2ptr', 'data_identifier', 'data_input_text', 'data_input_ids', 'data_token_type_ids', 'data_attention_mask'])"
      ]
     },
     "execution_count": null,
     "metadata": {},
     "output_type": "execute_result"
    }
   ],
   "source": [
    "batch.keys()"
   ]
  },
  {
   "cell_type": "markdown",
   "id": "f2ace8df-a4bb-4f06-9f12-eb703f3cab3b",
   "metadata": {},
   "source": [
    "## Output"
   ]
  },
  {
   "cell_type": "code",
   "execution_count": null,
   "id": "b7d52e6c-596d-4b1e-9ffc-497fd58fc838",
   "metadata": {},
   "outputs": [],
   "source": [
    "#| export\n",
    "@dataclass\n",
    "class XCModelOutput(ModelOutput):\n",
    "    loss: Optional[torch.FloatTensor] = None\n",
    "    logits: torch.FloatTensor = None\n",
    "    hidden_states: Optional[Tuple[torch.FloatTensor, ...]] = None\n",
    "    attentions: Optional[Tuple[torch.FloatTensor, ...]] = None\n",
    "    cross_attentions: Optional[Tuple[torch.FloatTensor, ...]] = None\n",
    "    "
   ]
  },
  {
   "cell_type": "markdown",
   "id": "69d0dbd5-94f0-4da3-bff8-224f68db6330",
   "metadata": {},
   "source": [
    "## XCModel"
   ]
  },
  {
   "cell_type": "code",
   "execution_count": null,
   "id": "04965f07-b85e-4146-9bb7-b2f7e19d5652",
   "metadata": {},
   "outputs": [],
   "source": [
    "class XCModel(BertLMHeadModel):\n",
    "\n",
    "    def __init__(self, *args, **kwargs):\n",
    "        super().__init__(config, *args, **kwargs)\n",
    "        "
   ]
  },
  {
   "cell_type": "markdown",
   "id": "7ccf63b9-b42e-48ef-afc0-5f7e4e56d8bb",
   "metadata": {},
   "source": [
    "## BT0001"
   ]
  },
  {
   "cell_type": "code",
   "execution_count": null,
   "id": "3ae5948a-5fec-4663-b4a4-2d75387023dc",
   "metadata": {},
   "outputs": [],
   "source": [
    "#| export\n",
    "class BT0001(BertLMHeadModel):\n",
    "\n",
    "    def __init__(self, cfg):\n",
    "        super().__init__(cfg)\n",
    "\n",
    "    def forward(\n",
    "        self,\n",
    "        data_input_ids:Optional[torch.Tensor]=None,\n",
    "        data_attention_mask:Optional[torch.Tensor]=None,\n",
    "        data_token_type_ids:Optional[torch.Tensor]=None,\n",
    "        lbl2data_data2ptr:Optional[torch.Tensor]=None,\n",
    "        lbl2data_input_ids:Optional[torch.Tensor]=None,\n",
    "        lbl2data_attention_mask:Optional[torch.Tensor]=None,\n",
    "        lbl2data_token_type_ids:Optional[torch.Tensor]=None,\n",
    "        output_attentions: Optional[bool] = None,\n",
    "        output_hidden_states: Optional[bool] = None,\n",
    "        return_dict: Optional[bool] = None,\n",
    "        **kwargs\n",
    "    ):\n",
    "        return_dict = return_dict if return_dict is not None else self.config.use_return_dict\n",
    "        \n",
    "        data_o = self.bert(\n",
    "            data_input_ids,\n",
    "            data_attention_mask,\n",
    "            data_token_type_ids,\n",
    "            output_attentions=output_attentions,\n",
    "            output_hidden_states=output_hidden_states,\n",
    "            return_dict=return_dict,\n",
    "        )\n",
    "        \n",
    "        data_embeds = data_o[0]\n",
    "        data_logits = self.cls(data_embeds)\n",
    "\n",
    "        data_embed = data_embeds.mean(dim=1)\n",
    "        \n",
    "        if lbl2data_input_ids is not None and lbl2data_data2ptr is not None:\n",
    "            lbl2data_o = self.bert(\n",
    "                lbl2data_input_ids,\n",
    "                lbl2data_attention_mask,\n",
    "                lbl2data_token_type_ids,\n",
    "                output_attentions=output_attentions,\n",
    "                output_hidden_states=output_hidden_states,\n",
    "                return_dict=return_dict\n",
    "            )\n",
    "            \n",
    "            lbl2data_embeds = lbl2data_o[0]\n",
    "            lbl2data_embed = lbl2data_embeds.mean(dim=1)\n",
    "            \n",
    "            return data_logits, lbl2data_input_ids, lbl2data_data2ptr, data_embed, lbl2data_embed\n",
    "\n",
    "        return data_logits, lbl2data_input_ids, lbl2data_data2ptr\n",
    "        "
   ]
  },
  {
   "cell_type": "code",
   "execution_count": null,
   "id": "c7b57869-5bf0-4b58-b782-57c436150913",
   "metadata": {},
   "outputs": [
    {
     "name": "stderr",
     "output_type": "stream",
     "text": [
      "If you want to use `BertLMHeadModel` as a standalone, add `is_decoder=True.`\n"
     ]
    }
   ],
   "source": [
    "m = BT0001.from_pretrained('bert-base-uncased')"
   ]
  },
  {
   "cell_type": "code",
   "execution_count": null,
   "id": "aa43542a-c62b-4189-b4b4-3522983a43bd",
   "metadata": {},
   "outputs": [],
   "source": [
    "out = m(**batch)"
   ]
  },
  {
   "cell_type": "code",
   "execution_count": null,
   "id": "7083cc97-7978-4450-b9c2-e9dc868d99e2",
   "metadata": {},
   "outputs": [
    {
     "name": "stdout",
     "output_type": "stream",
     "text": [
      "torch.Size([10, 16, 30522])\n",
      "torch.Size([28, 10])\n",
      "torch.Size([10])\n",
      "torch.Size([10, 768])\n",
      "torch.Size([28, 768])\n"
     ]
    }
   ],
   "source": [
    "for o in out: print(o.shape)"
   ]
  },
  {
   "cell_type": "markdown",
   "id": "327f2018-78bd-4216-b25d-210994859696",
   "metadata": {},
   "source": [
    "## BT0002"
   ]
  },
  {
   "cell_type": "code",
   "execution_count": null,
   "id": "1a2252a1-c6b2-4a21-a6d7-83f6b295c7b5",
   "metadata": {},
   "outputs": [],
   "source": [
    "#| export\n",
    "class BT0002(BertLMHeadModel):\n",
    "\n",
    "    def __init__(self,\n",
    "                 config,\n",
    "                 tn_targ:Optional[int]=None, \n",
    "                 ig_tok:Optional[int]=0,\n",
    "                 *args, **kwargs):\n",
    "        super().__init__(config, *args, **kwargs)\n",
    "        self.loss_fn = MultiCrossEntropy(tn_targ=tn_targ, ig_tok=ig_tok, reduce='mean')\n",
    "\n",
    "    def forward(\n",
    "        self,\n",
    "        data_input_ids:Optional[torch.Tensor]=None,\n",
    "        data_attention_mask:Optional[torch.Tensor]=None,\n",
    "        data_token_type_ids:Optional[torch.Tensor]=None,\n",
    "        lbl2data_data2ptr:Optional[torch.Tensor]=None,\n",
    "        lbl2data_input_ids:Optional[torch.Tensor]=None,\n",
    "        lbl2data_attention_mask:Optional[torch.Tensor]=None,\n",
    "        lbl2data_token_type_ids:Optional[torch.Tensor]=None,\n",
    "        output_attentions: Optional[bool] = None,\n",
    "        output_hidden_states: Optional[bool] = None,\n",
    "        return_dict: Optional[bool] = None,\n",
    "        **kwargs\n",
    "    ):\n",
    "        return_dict = return_dict if return_dict is not None else self.config.use_return_dict\n",
    "        \n",
    "        data_o = self.bert(\n",
    "            data_input_ids,\n",
    "            data_attention_mask,\n",
    "            data_token_type_ids,\n",
    "            output_attentions=output_attentions,\n",
    "            output_hidden_states=output_hidden_states,\n",
    "            return_dict=return_dict,\n",
    "        )\n",
    "        \n",
    "        data_embeds = data_o[0]\n",
    "        data_logits = self.cls(data_embeds)\n",
    "        \n",
    "        loss = None\n",
    "        if (lbl2data_input_ids is not None \n",
    "            or lbl2data_data2ptr is not None):\n",
    "            loss = self.loss_fn(data_logits, lbl2data_input_ids, lbl2data_data2ptr)\n",
    "\n",
    "        if not return_dict:\n",
    "            o = (data_logits,) + data_o[2:]\n",
    "            return ((loss,) + o) if loss is not None else o\n",
    "\n",
    "        return XCModelOutput(\n",
    "            loss=loss,\n",
    "            logits=data_logits,\n",
    "            hidden_states=data_o.hidden_states,\n",
    "            attentions=data_o.attentions,\n",
    "            cross_attentions=data_o.cross_attentions,\n",
    "        )\n",
    "        "
   ]
  },
  {
   "cell_type": "code",
   "execution_count": null,
   "id": "59b3c66a-017e-429b-931f-221329b04e10",
   "metadata": {},
   "outputs": [
    {
     "name": "stderr",
     "output_type": "stream",
     "text": [
      "If you want to use `BertLMHeadModel` as a standalone, add `is_decoder=True.`\n",
      "Some weights of BT0002 were not initialized from the model checkpoint at bert-base-uncased and are newly initialized: ['loss_fn.o']\n",
      "You should probably TRAIN this model on a down-stream task to be able to use it for predictions and inference.\n"
     ]
    }
   ],
   "source": [
    "m = BT0002.from_pretrained('bert-base-uncased', tn_targ=10_000, ig_tok=0)"
   ]
  },
  {
   "cell_type": "code",
   "execution_count": null,
   "id": "9565efc8-ca0a-4ab5-ac81-815b4941d6c3",
   "metadata": {},
   "outputs": [],
   "source": [
    "b = prepare_batch(m, batch)"
   ]
  },
  {
   "cell_type": "code",
   "execution_count": null,
   "id": "f9cc2bb0-c675-460c-8ff6-abe4e26dbee8",
   "metadata": {},
   "outputs": [],
   "source": [
    "m, b = m.to('cuda'), b.to('cuda')"
   ]
  },
  {
   "cell_type": "code",
   "execution_count": null,
   "id": "70274c98-da35-4b9d-8f12-405117ecca41",
   "metadata": {},
   "outputs": [],
   "source": [
    "o = m(**b)"
   ]
  },
  {
   "cell_type": "code",
   "execution_count": null,
   "id": "be50b8fa-3ece-4f98-9556-c8b4c98c1c29",
   "metadata": {},
   "outputs": [
    {
     "data": {
      "text/plain": [
       "tensor(15.8339, device='cuda:0', grad_fn=<SumBackward0>)"
      ]
     },
     "execution_count": null,
     "metadata": {},
     "output_type": "execute_result"
    }
   ],
   "source": [
    "o.loss"
   ]
  },
  {
   "cell_type": "code",
   "execution_count": null,
   "id": "306bdf91-a10d-4cc9-80d1-a8c745ff3d97",
   "metadata": {},
   "outputs": [],
   "source": []
  }
 ],
 "metadata": {
  "kernelspec": {
   "display_name": "python3",
   "language": "python",
   "name": "python3"
  }
 },
 "nbformat": 4,
 "nbformat_minor": 5
}
