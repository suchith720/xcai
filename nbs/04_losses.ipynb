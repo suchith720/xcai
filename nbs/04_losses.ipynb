{
 "cells": [
  {
   "cell_type": "markdown",
   "id": "8c57c5ab-ae84-44fb-9670-83bc3992948d",
   "metadata": {},
   "source": [
    "# Losses"
   ]
  },
  {
   "cell_type": "code",
   "execution_count": null,
   "id": "960f1223-5f09-451b-ad24-487123d97b0d",
   "metadata": {},
   "outputs": [],
   "source": [
    "#| default_exp losses"
   ]
  },
  {
   "cell_type": "code",
   "execution_count": null,
   "id": "196b5aa3-325a-440d-9a03-db8eed2bb236",
   "metadata": {},
   "outputs": [
    {
     "name": "stdout",
     "output_type": "stream",
     "text": [
      "The autoreload extension is already loaded. To reload it, use:\n",
      "  %reload_ext autoreload\n"
     ]
    }
   ],
   "source": [
    "#| hide\n",
    "%load_ext autoreload\n",
    "%autoreload 2"
   ]
  },
  {
   "cell_type": "code",
   "execution_count": null,
   "id": "ef0b49ad-f819-4fb2-a8f0-c47a613be6fe",
   "metadata": {},
   "outputs": [],
   "source": [
    "#| export\n",
    "import functools, torch, torch.nn as nn, torch.nn.functional as F\n",
    "from typing import MutableSequence, Union\n",
    "import torch.autograd.profiler as profiler\n",
    "\n",
    "from fastcore.utils import *\n",
    "from fastcore.meta import *\n",
    "\n",
    "from xcai.torch_core import *"
   ]
  },
  {
   "cell_type": "code",
   "execution_count": null,
   "id": "77292218-e5bc-482f-b53e-8df0ff819ff2",
   "metadata": {},
   "outputs": [],
   "source": [
    "#| hide\n",
    "from nbdev.showdoc import *\n",
    "import nbdev; nbdev.nbdev_export()"
   ]
  },
  {
   "cell_type": "markdown",
   "id": "b27c3e88-0c88-41f8-a15a-c2b7f6dcf432",
   "metadata": {},
   "source": [
    "## Setup"
   ]
  },
  {
   "cell_type": "code",
   "execution_count": null,
   "id": "0fd7b96e-bd79-4abd-ae1b-d5ce33699ee9",
   "metadata": {},
   "outputs": [],
   "source": [
    "from xcai.block import *\n",
    "from xcai.models.MMM00X import *"
   ]
  },
  {
   "cell_type": "code",
   "execution_count": null,
   "id": "f0913313-aa02-45d9-aaf2-fc4372582d74",
   "metadata": {},
   "outputs": [],
   "source": [
    "block = XCBlock.from_cfg('train', tfm='ng', tokz='bert-base-uncased')"
   ]
  },
  {
   "cell_type": "code",
   "execution_count": null,
   "id": "e1a5239a-93f4-441a-bf98-6e324bbbec20",
   "metadata": {},
   "outputs": [
    {
     "name": "stderr",
     "output_type": "stream",
     "text": [
      "If you want to use `BertLMHeadModel` as a standalone, add `is_decoder=True.`\n"
     ]
    }
   ],
   "source": [
    "m = BT0001.from_pretrained('bert-base-uncased')"
   ]
  },
  {
   "cell_type": "code",
   "execution_count": null,
   "id": "1e545ab5-2711-42d3-9932-fb046e29abaf",
   "metadata": {},
   "outputs": [],
   "source": [
    "bsz = 64\n",
    "batch = block.train.one_batch(bsz)\n",
    "b = prepare_batch(m,batch, m_args=['lbl2data_idx_smp'])\n",
    "# m,b = m.to('cuda'),b.to('cuda')\n",
    "data_logits, lbl2data_input_ids, lbl2data_data2ptr, lbl2data_idx, data_repr, lbl2data_repr, kwargs = m(**b)"
   ]
  },
  {
   "cell_type": "code",
   "execution_count": null,
   "id": "1a106c1e-e88e-4591-886a-d4f1e599946d",
   "metadata": {},
   "outputs": [
    {
     "data": {
      "text/plain": [
       "(torch.Size([64, 13, 30522]),\n",
       " torch.Size([64, 13, 30522]),\n",
       " torch.Size([64]),\n",
       " torch.Size([141]),\n",
       " torch.Size([64, 768]),\n",
       " torch.Size([64, 768]))"
      ]
     },
     "execution_count": null,
     "metadata": {},
     "output_type": "execute_result"
    }
   ],
   "source": [
    "data_logits.shape, data_logits.shape, lbl2data_data2ptr.shape, lbl2data_idx.shape, data_repr.shape, lbl2data_repr.shape"
   ]
  },
  {
   "cell_type": "markdown",
   "id": "c0ae671d-9334-490c-99eb-9465cac495bd",
   "metadata": {},
   "source": [
    "## BaseLoss"
   ]
  },
  {
   "cell_type": "code",
   "execution_count": null,
   "id": "1077406a-74a1-4a6a-86d8-a21cb5fb4e5f",
   "metadata": {},
   "outputs": [],
   "source": [
    "#| export\n",
    "class BaseLoss(nn.Module):\n",
    "\n",
    "    def __init__(self, \n",
    "                 reduce:Optional[str]=None, \n",
    "                 **kwargs):\n",
    "        super().__init__()\n",
    "        self.reduce = reduce\n",
    "\n",
    "    @property\n",
    "    def reduction(self) -> str: return self.reduce\n",
    "    \n",
    "    @reduction.setter\n",
    "    def reduction(self, v:str):\n",
    "        \"Sets the reduction style (typically 'mean', 'sum', or 'none')\" \n",
    "        self.reduce = v\n",
    "        "
   ]
  },
  {
   "cell_type": "markdown",
   "id": "1055118a-0228-406e-8d8b-40003b7c6ccc",
   "metadata": {},
   "source": [
    "## MultiCrossEntropy"
   ]
  },
  {
   "cell_type": "code",
   "execution_count": null,
   "id": "42018177-6229-4765-b147-8642f6b0427c",
   "metadata": {},
   "outputs": [],
   "source": [
    "#| export\n",
    "class MultiCrossEntropy(BaseLoss):\n",
    "\n",
    "    def __init__(self,\n",
    "                 tn_targ:Optional[int]=None, \n",
    "                 ig_tok:Optional[int]=0,\n",
    "                 **kwargs):\n",
    "        super().__init__(**kwargs)\n",
    "        self.tn_targ, self.ig_tok = tn_targ, ig_tok\n",
    "        self.o = torch.ones(tn_targ, dtype=torch.int64) if tn_targ is not None else None\n",
    "        self._parameters = {'o': self.o}\n",
    "        "
   ]
  },
  {
   "cell_type": "code",
   "execution_count": null,
   "id": "ac4845e7-e46e-450f-9672-6362ed67cb79",
   "metadata": {},
   "outputs": [],
   "source": [
    "bsz = 512\n",
    "batch = block.train.one_batch(bsz)\n",
    "b = prepare_batch(m,batch)\n",
    "m,b = m.to('cuda'),b.to('cuda')\n",
    "data_logits, lbl2data_input_ids, lbl2data_data2ptr, data_repr, lbl2data_repr = m(**b)"
   ]
  },
  {
   "cell_type": "code",
   "execution_count": null,
   "id": "70cf88cc-f6dc-4ff7-aebf-59cdb52ae538",
   "metadata": {},
   "outputs": [],
   "source": [
    "mce_fn = MultiCrossEntropy(10_000, reduce='mean').to('cuda')"
   ]
  },
  {
   "cell_type": "code",
   "execution_count": null,
   "id": "76cde5e9-8fed-4875-9621-d6885b08da13",
   "metadata": {},
   "outputs": [],
   "source": [
    "#| export\n",
    "@patch\n",
    "def __call__(cls:MultiCrossEntropy,\n",
    "             inp:torch.FloatTensor,\n",
    "             targ:torch.LongTensor,\n",
    "             n_inp2targ:torch.LongTensor, \n",
    "             **kwargs):\n",
    "    tn_targ, targ_len = targ.shape\n",
    "    bsz, inp_len, mn_targ = inp.shape[0], inp.shape[1], n_inp2targ.max()\n",
    "    seq_len = min(targ_len, inp_len)\n",
    "    inp, targ = -F.log_softmax(inp, dim=2)[:, :seq_len].transpose(1,2), targ[:, :seq_len]\n",
    "    \n",
    "    inp2targ_ptr = n_inp2targ.cumsum(dim=0)-1\n",
    "    xn_inp2targ = mn_targ-n_inp2targ+1\n",
    "    r_targ = (\n",
    "        torch.ones(tn_targ, dtype=torch.int64, device=inp.device).scatter(0, inp2targ_ptr, xn_inp2targ)\n",
    "        if cls.tn_targ is None or tn_targ > cls.tn_targ else\n",
    "        cls.o[:tn_targ].scatter(0, inp2targ_ptr, xn_inp2targ)\n",
    "    )\n",
    "    xtarg = targ.repeat_interleave(r_targ, dim=0)\n",
    "\n",
    "    s = inp.gather(1, xtarg.view(bsz, -1, seq_len)).view(-1, seq_len)\n",
    "    s /= r_targ.repeat_interleave(r_targ, dim=0).view(-1, 1)\n",
    "    idx = torch.where(xtarg != cls.ig_tok)\n",
    "    loss = s[idx[0], idx[1]]\n",
    "    \n",
    "    if cls.reduction == 'mean': return (loss/len(torch.where(targ != cls.ig_tok)[0])).sum()\n",
    "    elif cls.reduction == 'sum': return loss.sum()\n",
    "    else: raise ValueError(f'`reduction` cannot be `{cls.reduction}`')\n"
   ]
  },
  {
   "cell_type": "code",
   "execution_count": null,
   "id": "0d8215de-ee9e-4a77-9701-b196881af0d8",
   "metadata": {},
   "outputs": [
    {
     "name": "stderr",
     "output_type": "stream",
     "text": [
      "STAGE:2024-04-14 01:41:23 9626:9626 ActivityProfilerController.cpp:314] Completed Stage: Warm Up\n",
      "STAGE:2024-04-14 01:41:24 9626:9626 ActivityProfilerController.cpp:320] Completed Stage: Collection\n",
      "STAGE:2024-04-14 01:41:24 9626:9626 ActivityProfilerController.cpp:324] Completed Stage: Post Processing\n"
     ]
    }
   ],
   "source": [
    "with profiler.profile(with_stack=True, profile_memory=True) as prof:\n",
    "    loss = mce_fn(data_logits, lbl2data_input_ids, lbl2data_data2ptr)"
   ]
  },
  {
   "cell_type": "code",
   "execution_count": null,
   "id": "6295ca2e-5548-4fc6-b700-a51f062b3dd8",
   "metadata": {},
   "outputs": [
    {
     "name": "stdout",
     "output_type": "stream",
     "text": [
      "-------------------------------------------------------  ------------  ------------  ------------  ------------  ------------  ------------  ------------  ------------  ------------  ------------  \n",
      "                                                   Name    Self CPU %      Self CPU   CPU total %     CPU total  CPU time avg       CPU Mem  Self CPU Mem      CUDA Mem  Self CUDA Mem    # of Calls  \n",
      "-------------------------------------------------------  ------------  ------------  ------------  ------------  ------------  ------------  ------------  ------------  ------------  ------------  \n",
      "                                              aten::max         4.32%     561.000us        27.11%       3.523ms       3.523ms           0 b           0 b         512 b           0 b             1  \n",
      "                                            aten::empty         0.27%      35.000us         0.27%      35.000us      35.000us           0 b           0 b         512 b         512 b             1  \n",
      "                                       aten::as_strided        22.21%       2.887ms        22.21%       2.887ms       2.887ms           0 b           0 b           0 b           0 b             1  \n",
      "                                       cudaLaunchKernel         0.31%      40.000us         0.31%      40.000us      40.000us           0 b           0 b           0 b           0 b             1  \n",
      "                                      aten::log_softmax         0.06%       8.000us         0.54%      70.000us      70.000us           0 b           0 b       1.05 Gb           0 b             1  \n",
      "                                     aten::_log_softmax         0.40%      52.000us         0.48%      62.000us      62.000us           0 b           0 b       1.05 Gb       1.05 Gb             1  \n",
      "                                       cudaLaunchKernel         0.08%      10.000us         0.08%      10.000us      10.000us           0 b           0 b           0 b           0 b             1  \n",
      "                                            aten::slice         0.13%      17.000us         0.14%      18.000us      18.000us           0 b           0 b           0 b           0 b             1  \n",
      "                                       aten::as_strided         0.01%       1.000us         0.01%       1.000us       1.000us           0 b           0 b           0 b           0 b             1  \n",
      "                                        aten::transpose         0.08%      10.000us         0.09%      12.000us      12.000us           0 b           0 b           0 b           0 b             1  \n",
      "                                       aten::as_strided         0.02%       2.000us         0.02%       2.000us       2.000us           0 b           0 b           0 b           0 b             1  \n",
      "                                              aten::neg         0.22%      28.000us         0.29%      38.000us      38.000us           0 b           0 b       1.05 Gb       1.05 Gb             1  \n",
      "                                       cudaLaunchKernel         0.08%      10.000us         0.08%      10.000us      10.000us           0 b           0 b           0 b           0 b             1  \n",
      "                                            aten::slice         0.04%       5.000us         0.04%       5.000us       5.000us           0 b           0 b           0 b           0 b             1  \n",
      "                                       aten::as_strided         0.00%       0.000us         0.00%       0.000us       0.000us           0 b           0 b           0 b           0 b             1  \n",
      "                                            aten::slice         0.02%       3.000us         0.02%       3.000us       3.000us           0 b           0 b           0 b           0 b             1  \n",
      "                                       aten::as_strided         0.00%       0.000us         0.00%       0.000us       0.000us           0 b           0 b           0 b           0 b             1  \n",
      "                                           aten::cumsum         0.37%      48.000us         0.54%      70.000us      70.000us           0 b           0 b       4.00 Kb       4.00 Kb             1  \n",
      "                                               aten::to         0.01%       1.000us         0.01%       1.000us       1.000us           0 b           0 b           0 b           0 b             1  \n",
      "                                       cudaLaunchKernel         0.07%       9.000us         0.07%       9.000us       9.000us           0 b           0 b           0 b           0 b             1  \n",
      "                                    cudaPeekAtLastError         0.00%       0.000us         0.00%       0.000us       0.000us           0 b           0 b           0 b           0 b             1  \n",
      "                                    cudaPeekAtLastError         0.00%       0.000us         0.00%       0.000us       0.000us           0 b           0 b           0 b           0 b             1  \n",
      "cudaOccupancyMaxActiveBlocksPerMultiprocessorWithFla...         0.03%       4.000us         0.03%       4.000us       4.000us           0 b           0 b           0 b           0 b             1  \n",
      "                                 cudaDeviceGetAttribute         0.02%       2.000us         0.02%       2.000us       2.000us           0 b           0 b           0 b           0 b             1  \n",
      "                                       cudaLaunchKernel         0.05%       6.000us         0.05%       6.000us       6.000us           0 b           0 b           0 b           0 b             1  \n",
      "                                    cudaPeekAtLastError         0.00%       0.000us         0.00%       0.000us       0.000us           0 b           0 b           0 b           0 b             1  \n",
      "                                    cudaPeekAtLastError         0.00%       0.000us         0.00%       0.000us       0.000us           0 b           0 b           0 b           0 b             1  \n",
      "                                               [memory]         0.00%       0.000us         0.00%       0.000us       0.000us           8 b           8 b           0 b           0 b             1  \n",
      "                                              aten::sub         0.19%      25.000us         0.25%      33.000us      33.000us           0 b           0 b       4.00 Kb       4.00 Kb             1  \n",
      "                                       cudaLaunchKernel         0.06%       8.000us         0.06%       8.000us       8.000us           0 b           0 b           0 b           0 b             1  \n",
      "                                               [memory]         0.00%       0.000us         0.00%       0.000us       0.000us          -8 b          -8 b           0 b           0 b             1  \n",
      "                                               [memory]         0.00%       0.000us         0.00%       0.000us       0.000us           0 b           0 b      -4.00 Kb      -4.00 Kb             1  \n",
      "                                              aten::sub         0.12%      16.000us         0.18%      23.000us      23.000us           0 b           0 b       4.00 Kb       4.00 Kb             1  \n",
      "                                       cudaLaunchKernel         0.05%       7.000us         0.05%       7.000us       7.000us           0 b           0 b           0 b           0 b             1  \n",
      "                                               [memory]         0.00%       0.000us         0.00%       0.000us       0.000us           8 b           8 b           0 b           0 b             1  \n",
      "                                              aten::add         0.12%      15.000us         0.15%      19.000us      19.000us           0 b           0 b       4.00 Kb       4.00 Kb             1  \n",
      "                                       cudaLaunchKernel         0.03%       4.000us         0.03%       4.000us       4.000us           0 b           0 b           0 b           0 b             1  \n",
      "                                               [memory]         0.00%       0.000us         0.00%       0.000us       0.000us          -8 b          -8 b           0 b           0 b             1  \n",
      "                                               [memory]         0.00%       0.000us         0.00%       0.000us       0.000us           0 b           0 b      -4.00 Kb      -4.00 Kb             1  \n",
      "                                            aten::slice         0.03%       4.000us         0.04%       5.000us       5.000us           0 b           0 b           0 b           0 b             1  \n",
      "                                       aten::as_strided         0.01%       1.000us         0.01%       1.000us       1.000us           0 b           0 b           0 b           0 b             1  \n",
      "                                          aten::scatter         0.27%      35.000us         0.67%      87.000us      87.000us           0 b           0 b       8.50 Kb       8.50 Kb             1  \n",
      "                                            aten::copy_         0.11%      14.000us         0.33%      43.000us      43.000us           0 b           0 b           0 b           0 b             1  \n",
      "                                        cudaMemcpyAsync         0.22%      29.000us         0.22%      29.000us      29.000us           0 b           0 b           0 b           0 b             1  \n",
      "                                       aten::as_strided         0.01%       1.000us         0.01%       1.000us       1.000us           0 b           0 b           0 b           0 b             1  \n",
      "                                       aten::as_strided         0.00%       0.000us         0.00%       0.000us       0.000us           0 b           0 b           0 b           0 b             1  \n",
      "                                       cudaLaunchKernel         0.06%       8.000us         0.06%       8.000us       8.000us           0 b           0 b           0 b           0 b             1  \n",
      "                                aten::repeat_interleave         0.10%      13.000us        63.42%       8.243ms       8.243ms           0 b           0 b       1.68 Mb     -72.00 Kb             1  \n",
      "                                aten::repeat_interleave         0.38%      49.000us        62.95%       8.182ms       8.182ms           0 b           0 b      72.00 Kb     -10.50 Kb             1  \n",
      "                                           aten::cumsum         0.28%      37.000us         0.38%      50.000us      50.000us           0 b           0 b       8.50 Kb       8.50 Kb             1  \n",
      "                                               aten::to         0.00%       0.000us         0.00%       0.000us       0.000us           0 b           0 b           0 b           0 b             1  \n",
      "                                       cudaLaunchKernel         0.05%       6.000us         0.05%       6.000us       6.000us           0 b           0 b           0 b           0 b             1  \n",
      "                                    cudaPeekAtLastError         0.00%       0.000us         0.00%       0.000us       0.000us           0 b           0 b           0 b           0 b             1  \n",
      "                                    cudaPeekAtLastError         0.00%       0.000us         0.00%       0.000us       0.000us           0 b           0 b           0 b           0 b             1  \n",
      "cudaOccupancyMaxActiveBlocksPerMultiprocessorWithFla...         0.01%       1.000us         0.01%       1.000us       1.000us           0 b           0 b           0 b           0 b             1  \n",
      "                                 cudaDeviceGetAttribute         0.01%       1.000us         0.01%       1.000us       1.000us           0 b           0 b           0 b           0 b             1  \n",
      "                                       cudaLaunchKernel         0.04%       5.000us         0.04%       5.000us       5.000us           0 b           0 b           0 b           0 b             1  \n",
      "                                    cudaPeekAtLastError         0.00%       0.000us         0.00%       0.000us       0.000us           0 b           0 b           0 b           0 b             1  \n",
      "                                    cudaPeekAtLastError         0.00%       0.000us         0.00%       0.000us       0.000us           0 b           0 b           0 b           0 b             1  \n",
      "                                           aten::select         0.07%       9.000us         0.07%       9.000us       9.000us           0 b           0 b           0 b           0 b             1  \n",
      "                                       aten::as_strided         0.00%       0.000us         0.00%       0.000us       0.000us           0 b           0 b           0 b           0 b             1  \n",
      "                                             aten::item         0.02%       3.000us        61.26%       7.962ms       7.962ms           0 b           0 b           0 b           0 b             1  \n",
      "                              aten::_local_scalar_dense         0.05%       7.000us        61.24%       7.959ms       7.959ms           0 b           0 b           0 b           0 b             1  \n",
      "                                        cudaMemcpyAsync        61.11%       7.943ms        61.11%       7.943ms       7.943ms           0 b           0 b           0 b           0 b             1  \n",
      "                                  cudaStreamSynchronize         0.07%       9.000us         0.07%       9.000us       9.000us           0 b           0 b           0 b           0 b             1  \n",
      "                                               aten::ge         0.21%      27.000us         0.27%      35.000us      35.000us           0 b           0 b       1.50 Kb       1.50 Kb             1  \n",
      "                                       cudaLaunchKernel         0.06%       8.000us         0.06%       8.000us       8.000us           0 b           0 b           0 b           0 b             1  \n",
      "                                              aten::all         0.21%      27.000us         0.28%      36.000us      36.000us           0 b           0 b         512 b         512 b             1  \n",
      "                                       aten::as_strided         0.00%       0.000us         0.00%       0.000us       0.000us           0 b           0 b           0 b           0 b             1  \n",
      "                                       cudaLaunchKernel         0.07%       9.000us         0.07%       9.000us       9.000us           0 b           0 b           0 b           0 b             1  \n",
      "                                             aten::item         0.02%       2.000us         0.19%      25.000us      25.000us           0 b           0 b           0 b           0 b             1  \n",
      "                              aten::_local_scalar_dense         0.05%       6.000us         0.18%      23.000us      23.000us           0 b           0 b           0 b           0 b             1  \n",
      "                                        cudaMemcpyAsync         0.12%      15.000us         0.12%      15.000us      15.000us           0 b           0 b           0 b           0 b             1  \n",
      "                                  cudaStreamSynchronize         0.02%       2.000us         0.02%       2.000us       2.000us           0 b           0 b           0 b           0 b             1  \n",
      "                                            aten::empty         0.06%       8.000us         0.06%       8.000us       8.000us           0 b           0 b      72.00 Kb      72.00 Kb             1  \n",
      "                                       cudaLaunchKernel         0.06%       8.000us         0.06%       8.000us       8.000us           0 b           0 b           0 b           0 b             1  \n",
      "                                     aten::index_select         0.19%      25.000us         0.37%      48.000us      48.000us           0 b           0 b       1.68 Mb           0 b             1  \n",
      "                                            aten::empty         0.04%       5.000us         0.04%       5.000us       5.000us           0 b           0 b           0 b           0 b             1  \n",
      "                                          aten::resize_         0.08%      10.000us         0.08%      10.000us      10.000us           0 b           0 b       1.68 Mb       1.68 Mb             1  \n",
      "                                       cudaLaunchKernel         0.06%       8.000us         0.06%       8.000us       8.000us           0 b           0 b           0 b           0 b             1  \n",
      "                                             aten::view         0.05%       7.000us         0.05%       7.000us       7.000us           0 b           0 b           0 b           0 b             1  \n",
      "                                           aten::gather         0.28%      36.000us         0.35%      46.000us      46.000us           0 b           0 b     648.00 Kb     648.00 Kb             1  \n",
      "                                       aten::as_strided         0.01%       1.000us         0.01%       1.000us       1.000us           0 b           0 b           0 b           0 b             1  \n",
      "                                       aten::as_strided         0.01%       1.000us         0.01%       1.000us       1.000us           0 b           0 b           0 b           0 b             1  \n",
      "                                       cudaLaunchKernel         0.06%       8.000us         0.06%       8.000us       8.000us           0 b           0 b           0 b           0 b             1  \n",
      "                                             aten::view         0.03%       4.000us         0.03%       4.000us       4.000us           0 b           0 b           0 b           0 b             1  \n",
      "                                aten::repeat_interleave         0.05%       7.000us         1.85%     241.000us     241.000us           0 b           0 b      72.00 Kb     -72.00 Kb             1  \n",
      "                                aten::repeat_interleave         0.24%      31.000us         1.55%     201.000us     201.000us           0 b           0 b      72.00 Kb     -10.50 Kb             1  \n",
      "                                           aten::cumsum         0.29%      38.000us         0.44%      57.000us      57.000us           0 b           0 b       8.50 Kb       8.50 Kb             1  \n",
      "                                               aten::to         0.00%       0.000us         0.00%       0.000us       0.000us           0 b           0 b           0 b           0 b             1  \n",
      "                                       cudaLaunchKernel         0.05%       7.000us         0.05%       7.000us       7.000us           0 b           0 b           0 b           0 b             1  \n",
      "                                    cudaPeekAtLastError         0.00%       0.000us         0.00%       0.000us       0.000us           0 b           0 b           0 b           0 b             1  \n",
      "                                    cudaPeekAtLastError         0.00%       0.000us         0.00%       0.000us       0.000us           0 b           0 b           0 b           0 b             1  \n",
      "cudaOccupancyMaxActiveBlocksPerMultiprocessorWithFla...         0.01%       1.000us         0.01%       1.000us       1.000us           0 b           0 b           0 b           0 b             1  \n",
      "                                 cudaDeviceGetAttribute         0.00%       0.000us         0.00%       0.000us       0.000us           0 b           0 b           0 b           0 b             1  \n",
      "                                       cudaLaunchKernel         0.08%      11.000us         0.08%      11.000us      11.000us           0 b           0 b           0 b           0 b             1  \n",
      "                                    cudaPeekAtLastError         0.00%       0.000us         0.00%       0.000us       0.000us           0 b           0 b           0 b           0 b             1  \n",
      "                                    cudaPeekAtLastError         0.00%       0.000us         0.00%       0.000us       0.000us           0 b           0 b           0 b           0 b             1  \n",
      "                                           aten::select         0.03%       4.000us         0.04%       5.000us       5.000us           0 b           0 b           0 b           0 b             1  \n",
      "                                       aten::as_strided         0.01%       1.000us         0.01%       1.000us       1.000us           0 b           0 b           0 b           0 b             1  \n",
      "-------------------------------------------------------  ------------  ------------  ------------  ------------  ------------  ------------  ------------  ------------  ------------  ------------  \n",
      "Self CPU time total: 12.997ms\n",
      "\n"
     ]
    }
   ],
   "source": [
    "print(prof)"
   ]
  },
  {
   "cell_type": "code",
   "execution_count": null,
   "id": "6e8ebba6-362a-41f6-a2f4-57815e1196f0",
   "metadata": {},
   "outputs": [],
   "source": [
    "@patch\n",
    "def __call__(cls:MultiCrossEntropy, \n",
    "             inp:torch.FloatTensor, \n",
    "             targ:torch.LongTensor, \n",
    "             n_inp2targ:torch.LongTensor, \n",
    "             **kwargs):\n",
    "    inp_len, targ_len = inp.shape[1], targ.shape[1]\n",
    "    seq_len = min(inp_len, targ_len)\n",
    "    inp, targ = -F.log_softmax(inp, dim=2)[:, :seq_len], targ[:, :seq_len].unsqueeze(2)\n",
    "    inp = inp.repeat_interleave(n_inp2targ, dim=0)\n",
    "    s = inp.gather(2, targ)\n",
    "    idx = torch.where(targ != cls.ig_tok)\n",
    "    loss = s[idx[0], idx[1]]\n",
    "    if cls.reduction == 'mean': return loss.mean()\n",
    "    elif cls.reduction == 'sum': return loss.sum()\n",
    "    else: raise ValueError(f'`reduction` cannot be `{cls.reduction}`')\n",
    "        "
   ]
  },
  {
   "cell_type": "code",
   "execution_count": null,
   "id": "06414870-be2c-4125-8f48-42ed3e2bd669",
   "metadata": {},
   "outputs": [
    {
     "name": "stderr",
     "output_type": "stream",
     "text": [
      "STAGE:2024-04-14 01:41:33 9626:9626 ActivityProfilerController.cpp:314] Completed Stage: Warm Up\n",
      "STAGE:2024-04-14 01:41:33 9626:9626 ActivityProfilerController.cpp:320] Completed Stage: Collection\n",
      "STAGE:2024-04-14 01:41:33 9626:9626 ActivityProfilerController.cpp:324] Completed Stage: Post Processing\n"
     ]
    },
    {
     "ename": "OutOfMemoryError",
     "evalue": "CUDA out of memory. Tried to allocate 2.19 GiB. GPU 0 has a total capacity of 31.74 GiB of which 580.88 MiB is free. Process 37907 has 1.90 GiB memory in use. Process 37366 has 4.15 GiB memory in use. Including non-PyTorch memory, this process has 25.12 GiB memory in use. Of the allocated memory 24.63 GiB is allocated by PyTorch, and 114.20 MiB is reserved by PyTorch but unallocated. If reserved but unallocated memory is large try setting PYTORCH_CUDA_ALLOC_CONF=expandable_segments:True to avoid fragmentation.  See documentation for Memory Management  (https://pytorch.org/docs/stable/notes/cuda.html#environment-variables)",
     "output_type": "error",
     "traceback": [
      "\u001b[0;31m---------------------------------------------------------------------------\u001b[0m",
      "\u001b[0;31mOutOfMemoryError\u001b[0m                          Traceback (most recent call last)",
      "Cell \u001b[0;32mIn[35], line 2\u001b[0m\n\u001b[1;32m      1\u001b[0m \u001b[38;5;28;01mwith\u001b[39;00m profiler\u001b[38;5;241m.\u001b[39mprofile(with_stack\u001b[38;5;241m=\u001b[39m\u001b[38;5;28;01mTrue\u001b[39;00m, profile_memory\u001b[38;5;241m=\u001b[39m\u001b[38;5;28;01mTrue\u001b[39;00m) \u001b[38;5;28;01mas\u001b[39;00m prof:\n\u001b[0;32m----> 2\u001b[0m     loss \u001b[38;5;241m=\u001b[39m \u001b[43mmce_fn\u001b[49m\u001b[43m(\u001b[49m\u001b[43mdata_logits\u001b[49m\u001b[43m,\u001b[49m\u001b[43m \u001b[49m\u001b[43mlbl2data_input_ids\u001b[49m\u001b[43m,\u001b[49m\u001b[43m \u001b[49m\u001b[43mlbl2data_data2ptr\u001b[49m\u001b[43m)\u001b[49m\n",
      "Cell \u001b[0;32mIn[34], line 9\u001b[0m, in \u001b[0;36m__call__\u001b[0;34m(cls, inp, targ, n_inp2targ)\u001b[0m\n\u001b[1;32m      7\u001b[0m seq_len \u001b[38;5;241m=\u001b[39m \u001b[38;5;28mmin\u001b[39m(inp_len, targ_len)\n\u001b[1;32m      8\u001b[0m inp, targ \u001b[38;5;241m=\u001b[39m \u001b[38;5;241m-\u001b[39mF\u001b[38;5;241m.\u001b[39mlog_softmax(inp, dim\u001b[38;5;241m=\u001b[39m\u001b[38;5;241m2\u001b[39m)[:, :seq_len], targ[:, :seq_len]\u001b[38;5;241m.\u001b[39munsqueeze(\u001b[38;5;241m2\u001b[39m)\n\u001b[0;32m----> 9\u001b[0m inp \u001b[38;5;241m=\u001b[39m \u001b[43minp\u001b[49m\u001b[38;5;241;43m.\u001b[39;49m\u001b[43mrepeat_interleave\u001b[49m\u001b[43m(\u001b[49m\u001b[43mn_inp2targ\u001b[49m\u001b[43m,\u001b[49m\u001b[43m \u001b[49m\u001b[43mdim\u001b[49m\u001b[38;5;241;43m=\u001b[39;49m\u001b[38;5;241;43m0\u001b[39;49m\u001b[43m)\u001b[49m\n\u001b[1;32m     10\u001b[0m s \u001b[38;5;241m=\u001b[39m inp\u001b[38;5;241m.\u001b[39mgather(\u001b[38;5;241m2\u001b[39m, targ)\n\u001b[1;32m     11\u001b[0m idx \u001b[38;5;241m=\u001b[39m torch\u001b[38;5;241m.\u001b[39mwhere(targ \u001b[38;5;241m!=\u001b[39m \u001b[38;5;28mcls\u001b[39m\u001b[38;5;241m.\u001b[39mig_tok)\n",
      "\u001b[0;31mOutOfMemoryError\u001b[0m: CUDA out of memory. Tried to allocate 2.19 GiB. GPU 0 has a total capacity of 31.74 GiB of which 580.88 MiB is free. Process 37907 has 1.90 GiB memory in use. Process 37366 has 4.15 GiB memory in use. Including non-PyTorch memory, this process has 25.12 GiB memory in use. Of the allocated memory 24.63 GiB is allocated by PyTorch, and 114.20 MiB is reserved by PyTorch but unallocated. If reserved but unallocated memory is large try setting PYTORCH_CUDA_ALLOC_CONF=expandable_segments:True to avoid fragmentation.  See documentation for Memory Management  (https://pytorch.org/docs/stable/notes/cuda.html#environment-variables)"
     ]
    }
   ],
   "source": [
    "with profiler.profile(with_stack=True, profile_memory=True) as prof:\n",
    "    loss = mce_fn(data_logits, lbl2data_input_ids, lbl2data_data2ptr)"
   ]
  },
  {
   "cell_type": "code",
   "execution_count": null,
   "id": "3e8f63ad-654c-4b34-a572-528374d57a73",
   "metadata": {},
   "outputs": [
    {
     "name": "stdout",
     "output_type": "stream",
     "text": [
      "-------------------------------------------------------  ------------  ------------  ------------  ------------  ------------  ------------  ------------  ------------  ------------  ------------  \n",
      "                                                   Name    Self CPU %      Self CPU   CPU total %     CPU total  CPU time avg       CPU Mem  Self CPU Mem      CUDA Mem  Self CUDA Mem    # of Calls  \n",
      "-------------------------------------------------------  ------------  ------------  ------------  ------------  ------------  ------------  ------------  ------------  ------------  ------------  \n",
      "                                      aten::log_softmax         0.08%       8.000us         5.52%     526.000us     526.000us           0 b           0 b     454.00 Mb           0 b             1  \n",
      "                                     aten::_log_softmax         5.14%     490.000us         5.43%     518.000us     518.000us           0 b           0 b     454.00 Mb     454.00 Mb             1  \n",
      "                                       cudaLaunchKernel         0.29%      28.000us         0.29%      28.000us      28.000us           0 b           0 b           0 b           0 b             1  \n",
      "                                            aten::slice         0.16%      15.000us         0.19%      18.000us      18.000us           0 b           0 b           0 b           0 b             1  \n",
      "                                       aten::as_strided         0.03%       3.000us         0.03%       3.000us       3.000us           0 b           0 b           0 b           0 b             1  \n",
      "                                              aten::neg         0.29%      28.000us         0.40%      38.000us      38.000us           0 b           0 b     454.00 Mb     454.00 Mb             1  \n",
      "                                       cudaLaunchKernel         0.10%      10.000us         0.10%      10.000us      10.000us           0 b           0 b           0 b           0 b             1  \n",
      "                                            aten::slice         0.04%       4.000us         0.04%       4.000us       4.000us           0 b           0 b           0 b           0 b             1  \n",
      "                                       aten::as_strided         0.00%       0.000us         0.00%       0.000us       0.000us           0 b           0 b           0 b           0 b             1  \n",
      "                                            aten::slice         0.03%       3.000us         0.04%       4.000us       4.000us           0 b           0 b           0 b           0 b             1  \n",
      "                                       aten::as_strided         0.01%       1.000us         0.01%       1.000us       1.000us           0 b           0 b           0 b           0 b             1  \n",
      "                                        aten::unsqueeze         0.05%       5.000us         0.06%       6.000us       6.000us           0 b           0 b           0 b           0 b             1  \n",
      "                                       aten::as_strided         0.01%       1.000us         0.01%       1.000us       1.000us           0 b           0 b           0 b           0 b             1  \n",
      "                                aten::repeat_interleave         0.19%      18.000us        51.19%       4.882ms       4.882ms           0 b           0 b    1000.00 Mb           0 b             1  \n",
      "                                aten::repeat_interleave         0.42%      40.000us        33.30%       3.176ms       3.176ms           0 b           0 b       4.50 Kb      -3.00 Kb             1  \n",
      "                                           aten::cumsum         0.44%      42.000us         0.63%      60.000us      60.000us           0 b           0 b       2.00 Kb       2.00 Kb             1  \n",
      "                                               aten::to         0.01%       1.000us         0.01%       1.000us       1.000us           0 b           0 b           0 b           0 b             1  \n",
      "                                       cudaLaunchKernel         0.08%       8.000us         0.08%       8.000us       8.000us           0 b           0 b           0 b           0 b             1  \n",
      "                                    cudaPeekAtLastError         0.00%       0.000us         0.00%       0.000us       0.000us           0 b           0 b           0 b           0 b             1  \n",
      "                                    cudaPeekAtLastError         0.00%       0.000us         0.00%       0.000us       0.000us           0 b           0 b           0 b           0 b             1  \n",
      "cudaOccupancyMaxActiveBlocksPerMultiprocessorWithFla...         0.02%       2.000us         0.02%       2.000us       2.000us           0 b           0 b           0 b           0 b             1  \n",
      "                                 cudaDeviceGetAttribute         0.01%       1.000us         0.01%       1.000us       1.000us           0 b           0 b           0 b           0 b             1  \n",
      "                                       cudaLaunchKernel         0.06%       6.000us         0.06%       6.000us       6.000us           0 b           0 b           0 b           0 b             1  \n",
      "                                    cudaPeekAtLastError         0.00%       0.000us         0.00%       0.000us       0.000us           0 b           0 b           0 b           0 b             1  \n",
      "                                    cudaPeekAtLastError         0.00%       0.000us         0.00%       0.000us       0.000us           0 b           0 b           0 b           0 b             1  \n",
      "                                           aten::select         0.06%       6.000us         0.06%       6.000us       6.000us           0 b           0 b           0 b           0 b             1  \n",
      "                                       aten::as_strided         0.00%       0.000us         0.00%       0.000us       0.000us           0 b           0 b           0 b           0 b             1  \n",
      "                                             aten::item         0.03%       3.000us        31.09%       2.965ms       2.965ms           0 b           0 b           0 b           0 b             1  \n",
      "                              aten::_local_scalar_dense         0.07%       7.000us        31.06%       2.962ms       2.962ms           0 b           0 b           0 b           0 b             1  \n",
      "                                        cudaMemcpyAsync        30.92%       2.949ms        30.92%       2.949ms       2.949ms           0 b           0 b           0 b           0 b             1  \n",
      "                                  cudaStreamSynchronize         0.06%       6.000us         0.06%       6.000us       6.000us           0 b           0 b           0 b           0 b             1  \n",
      "                                               aten::ge         0.33%      31.000us         0.40%      38.000us      38.000us           0 b           0 b         512 b         512 b             1  \n",
      "                                       cudaLaunchKernel         0.07%       7.000us         0.07%       7.000us       7.000us           0 b           0 b           0 b           0 b             1  \n",
      "                                              aten::all         0.25%      24.000us         0.33%      31.000us      31.000us           0 b           0 b         512 b         512 b             1  \n",
      "                                       aten::as_strided         0.01%       1.000us         0.01%       1.000us       1.000us           0 b           0 b           0 b           0 b             1  \n",
      "                                       cudaLaunchKernel         0.06%       6.000us         0.06%       6.000us       6.000us           0 b           0 b           0 b           0 b             1  \n",
      "                                             aten::item         0.01%       1.000us         0.22%      21.000us      21.000us           0 b           0 b           0 b           0 b             1  \n",
      "                              aten::_local_scalar_dense         0.05%       5.000us         0.21%      20.000us      20.000us           0 b           0 b           0 b           0 b             1  \n",
      "                                        cudaMemcpyAsync         0.14%      13.000us         0.14%      13.000us      13.000us           0 b           0 b           0 b           0 b             1  \n",
      "                                  cudaStreamSynchronize         0.02%       2.000us         0.02%       2.000us       2.000us           0 b           0 b           0 b           0 b             1  \n",
      "                                            aten::empty         0.10%      10.000us         0.10%      10.000us      10.000us           0 b           0 b       4.50 Kb       4.50 Kb             1  \n",
      "                                       cudaLaunchKernel         0.05%       5.000us         0.05%       5.000us       5.000us           0 b           0 b           0 b           0 b             1  \n",
      "                                     aten::index_select         0.41%      39.000us        17.70%       1.688ms       1.688ms           0 b           0 b    1000.00 Mb           0 b             1  \n",
      "                                            aten::empty         0.04%       4.000us         0.04%       4.000us       4.000us           0 b           0 b           0 b           0 b             1  \n",
      "                                          aten::resize_         0.30%      29.000us        17.12%       1.633ms       1.633ms           0 b           0 b    1000.00 Mb    1000.00 Mb             1  \n",
      "                                  cudaStreamIsCapturing         0.02%       2.000us         0.02%       2.000us       2.000us           0 b           0 b           0 b           0 b             1  \n",
      "                                             cudaMalloc        16.80%       1.602ms        16.80%       1.602ms       1.602ms           0 b           0 b           0 b           0 b             1  \n",
      "                                       cudaLaunchKernel         0.13%      12.000us         0.13%      12.000us      12.000us           0 b           0 b           0 b           0 b             1  \n",
      "                                               [memory]         0.00%       0.000us         0.00%       0.000us       0.000us           0 b           0 b    -454.00 Mb    -454.00 Mb             1  \n",
      "                                           aten::gather         0.45%      43.000us         0.55%      52.000us      52.000us           0 b           0 b      35.50 Kb      35.50 Kb             1  \n",
      "                                       aten::as_strided         0.01%       1.000us         0.01%       1.000us       1.000us           0 b           0 b           0 b           0 b             1  \n",
      "                                       aten::as_strided         0.00%       0.000us         0.00%       0.000us       0.000us           0 b           0 b           0 b           0 b             1  \n",
      "                                       cudaLaunchKernel         0.08%       8.000us         0.08%       8.000us       8.000us           0 b           0 b           0 b           0 b             1  \n",
      "                                               aten::ne         0.29%      28.000us         0.44%      42.000us      42.000us           0 b           0 b       9.00 Kb       9.00 Kb             1  \n",
      "                                       cudaLaunchKernel         0.15%      14.000us         0.15%      14.000us      14.000us           0 b           0 b           0 b           0 b             1  \n",
      "                                            aten::where         0.03%       3.000us        40.58%       3.870ms       3.870ms           0 b           0 b      82.50 Kb           0 b             1  \n",
      "                                    aten::nonzero_numpy         0.06%       6.000us        40.55%       3.867ms       3.867ms           0 b           0 b      82.50 Kb           0 b             1  \n",
      "                                          aten::nonzero         0.74%      71.000us        40.30%       3.843ms       3.843ms           0 b           0 b      82.50 Kb           0 b             1  \n",
      "                                 cudaDeviceGetAttribute         0.01%       1.000us         0.01%       1.000us       1.000us           0 b           0 b           0 b           0 b             1  \n",
      "cudaOccupancyMaxActiveBlocksPerMultiprocessorWithFla...         0.01%       1.000us         0.01%       1.000us       1.000us           0 b           0 b           0 b           0 b             1  \n",
      "                                 cudaDeviceGetAttribute         0.00%       0.000us         0.00%       0.000us       0.000us           0 b           0 b           0 b           0 b             1  \n",
      "cudaOccupancyMaxActiveBlocksPerMultiprocessorWithFla...         0.00%       0.000us         0.00%       0.000us       0.000us           0 b           0 b           0 b           0 b             1  \n",
      "                                       cudaLaunchKernel         0.06%       6.000us         0.06%       6.000us       6.000us           0 b           0 b           0 b           0 b             1  \n",
      "                                    cudaPeekAtLastError         0.00%       0.000us         0.00%       0.000us       0.000us           0 b           0 b           0 b           0 b             1  \n",
      "                                    cudaPeekAtLastError         0.00%       0.000us         0.00%       0.000us       0.000us           0 b           0 b           0 b           0 b             1  \n",
      "                                       cudaLaunchKernel         0.04%       4.000us         0.04%       4.000us       4.000us           0 b           0 b           0 b           0 b             1  \n",
      "                                    cudaPeekAtLastError         0.00%       0.000us         0.00%       0.000us       0.000us           0 b           0 b           0 b           0 b             1  \n",
      "                                    cudaPeekAtLastError         0.00%       0.000us         0.00%       0.000us       0.000us           0 b           0 b           0 b           0 b             1  \n",
      "                                        cudaMemcpyAsync        39.02%       3.721ms        39.02%       3.721ms       3.721ms           0 b           0 b           0 b           0 b             1  \n",
      "                                  cudaStreamSynchronize         0.03%       3.000us         0.03%       3.000us       3.000us           0 b           0 b           0 b           0 b             1  \n",
      "                                          aten::resize_         0.07%       7.000us         0.07%       7.000us       7.000us           0 b           0 b      82.50 Kb      82.50 Kb             1  \n",
      "                                       cudaLaunchKernel         0.05%       5.000us         0.05%       5.000us       5.000us           0 b           0 b           0 b           0 b             1  \n",
      "                                    cudaPeekAtLastError         0.00%       0.000us         0.00%       0.000us       0.000us           0 b           0 b           0 b           0 b             1  \n",
      "                                    cudaPeekAtLastError         0.00%       0.000us         0.00%       0.000us       0.000us           0 b           0 b           0 b           0 b             1  \n",
      "                                 cudaDeviceGetAttribute         0.00%       0.000us         0.00%       0.000us       0.000us           0 b           0 b           0 b           0 b             1  \n",
      "                                       cudaLaunchKernel         0.04%       4.000us         0.04%       4.000us       4.000us           0 b           0 b           0 b           0 b             1  \n",
      "                                    cudaPeekAtLastError         0.00%       0.000us         0.00%       0.000us       0.000us           0 b           0 b           0 b           0 b             1  \n",
      "                                    cudaPeekAtLastError         0.00%       0.000us         0.00%       0.000us       0.000us           0 b           0 b           0 b           0 b             1  \n",
      "                                       cudaLaunchKernel         0.04%       4.000us         0.04%       4.000us       4.000us           0 b           0 b           0 b           0 b             1  \n",
      "                                                aten::t         0.03%       3.000us         0.08%       8.000us       8.000us           0 b           0 b           0 b           0 b             1  \n",
      "                                        aten::transpose         0.04%       4.000us         0.05%       5.000us       5.000us           0 b           0 b           0 b           0 b             1  \n",
      "                                       aten::as_strided         0.01%       1.000us         0.01%       1.000us       1.000us           0 b           0 b           0 b           0 b             1  \n",
      "                                             aten::set_         0.08%       8.000us         0.08%       8.000us       8.000us           0 b           0 b           0 b           0 b             1  \n",
      "                                           aten::unbind         0.12%      11.000us         0.19%      18.000us      18.000us           0 b           0 b           0 b           0 b             1  \n",
      "                                           aten::select         0.04%       4.000us         0.04%       4.000us       4.000us           0 b           0 b           0 b           0 b             1  \n",
      "                                       aten::as_strided         0.00%       0.000us         0.00%       0.000us       0.000us           0 b           0 b           0 b           0 b             1  \n",
      "                                           aten::select         0.02%       2.000us         0.02%       2.000us       2.000us           0 b           0 b           0 b           0 b             1  \n",
      "                                       aten::as_strided         0.00%       0.000us         0.00%       0.000us       0.000us           0 b           0 b           0 b           0 b             1  \n",
      "                                           aten::select         0.01%       1.000us         0.01%       1.000us       1.000us           0 b           0 b           0 b           0 b             1  \n",
      "                                       aten::as_strided         0.00%       0.000us         0.00%       0.000us       0.000us           0 b           0 b           0 b           0 b             1  \n",
      "                                               [memory]         0.00%       0.000us         0.00%       0.000us       0.000us           0 b           0 b      -9.00 Kb      -9.00 Kb             1  \n",
      "                                            aten::index         0.45%      43.000us         0.59%      56.000us      56.000us           0 b           0 b      14.00 Kb      14.00 Kb             1  \n",
      "                                       aten::as_strided         0.00%       0.000us         0.00%       0.000us       0.000us           0 b           0 b           0 b           0 b             1  \n",
      "                                          aten::reshape         0.03%       3.000us         0.05%       5.000us       5.000us           0 b           0 b           0 b           0 b             1  \n",
      "                                             aten::view         0.02%       2.000us         0.02%       2.000us       2.000us           0 b           0 b           0 b           0 b             1  \n",
      "                                          aten::reshape         0.01%       1.000us         0.01%       1.000us       1.000us           0 b           0 b           0 b           0 b             1  \n",
      "                                             aten::view         0.00%       0.000us         0.00%       0.000us       0.000us           0 b           0 b           0 b           0 b             1  \n",
      "                                       cudaLaunchKernel         0.07%       7.000us         0.07%       7.000us       7.000us           0 b           0 b           0 b           0 b             1  \n",
      "                                             aten::mean         0.33%      31.000us         0.41%      39.000us      39.000us           0 b           0 b         512 b         512 b             1  \n",
      "                                       aten::as_strided         0.01%       1.000us         0.01%       1.000us       1.000us           0 b           0 b           0 b           0 b             1  \n",
      "-------------------------------------------------------  ------------  ------------  ------------  ------------  ------------  ------------  ------------  ------------  ------------  ------------  \n",
      "Self CPU time total: 9.537ms\n",
      "\n"
     ]
    }
   ],
   "source": [
    "print(prof)"
   ]
  },
  {
   "cell_type": "code",
   "execution_count": null,
   "id": "26f5f819-25fa-4a7f-b9e7-9fa0c612799a",
   "metadata": {},
   "outputs": [],
   "source": [
    "@patch\n",
    "def __call__(cls:MultiCrossEntropy, \n",
    "             inp:torch.FloatTensor, \n",
    "             targ:torch.LongTensor, \n",
    "             n_inp2targ:torch.LongTensor, \n",
    "             **kwargs):\n",
    "    inp_len, targ_len = inp.shape[1], targ.shape[1]\n",
    "    seq_len = min(inp_len, targ_len)\n",
    "    inp, targ = -F.log_softmax(inp, dim=2)[:, :seq_len], targ[:, :seq_len]\n",
    "    num, s = 0, []\n",
    "    for i,n in zip(inp, n_inp2targ):\n",
    "        for _ in range(n):\n",
    "            s.append(i.gather(1, targ[num].view(-1, 1)).view(1, -1))\n",
    "            num += 1\n",
    "    s = torch.vstack(s)\n",
    "    idx = torch.where(targ != cls.ig_tok)\n",
    "    loss = s[idx[0], idx[1]]\n",
    "    if cls.reduction == 'mean': return loss.mean()\n",
    "    elif cls.reduction == 'sum': return loss.sum()\n",
    "    else: raise ValueError(f'`reduction` cannot be `{cls.reduction}`')\n",
    "    "
   ]
  },
  {
   "cell_type": "code",
   "execution_count": null,
   "id": "c9bc27d2-0e2f-4d50-b1e7-27ae4ea336fc",
   "metadata": {},
   "outputs": [
    {
     "name": "stderr",
     "output_type": "stream",
     "text": [
      "STAGE:2024-04-14 01:43:47 11200:11200 ActivityProfilerController.cpp:314] Completed Stage: Warm Up\n",
      "STAGE:2024-04-14 01:43:48 11200:11200 ActivityProfilerController.cpp:320] Completed Stage: Collection\n",
      "STAGE:2024-04-14 01:43:48 11200:11200 ActivityProfilerController.cpp:324] Completed Stage: Post Processing\n"
     ]
    }
   ],
   "source": [
    "with profiler.profile(with_stack=True, profile_memory=True) as prof:\n",
    "    loss = mce_fn(data_logits, lbl2data_input_ids, lbl2data_data2ptr)"
   ]
  },
  {
   "cell_type": "code",
   "execution_count": null,
   "id": "a5f9a620-a70e-472e-8449-e179d43eeaf5",
   "metadata": {},
   "outputs": [
    {
     "name": "stdout",
     "output_type": "stream",
     "text": [
      "-------------------------------------------------------  ------------  ------------  ------------  ------------  ------------  ------------  ------------  ------------  ------------  ------------  \n",
      "                                                   Name    Self CPU %      Self CPU   CPU total %     CPU total  CPU time avg       CPU Mem  Self CPU Mem      CUDA Mem  Self CUDA Mem    # of Calls  \n",
      "-------------------------------------------------------  ------------  ------------  ------------  ------------  ------------  ------------  ------------  ------------  ------------  ------------  \n",
      "                                      aten::log_softmax         0.04%      20.000us         2.59%       1.400ms       1.400ms           0 b           0 b    1014.00 Mb           0 b             1  \n",
      "                                     aten::_log_softmax         2.47%       1.334ms         2.56%       1.380ms       1.380ms           0 b           0 b    1014.00 Mb    1014.00 Mb             1  \n",
      "                                       cudaLaunchKernel         0.09%      46.000us         0.09%      46.000us      46.000us           0 b           0 b           0 b           0 b             1  \n",
      "                                            aten::slice         0.04%      21.000us         0.05%      25.000us      25.000us           0 b           0 b           0 b           0 b             1  \n",
      "                                       aten::as_strided         0.01%       4.000us         0.01%       4.000us       4.000us           0 b           0 b           0 b           0 b             1  \n",
      "                                              aten::neg         0.09%      51.000us         0.12%      65.000us      65.000us           0 b           0 b    1014.00 Mb    1014.00 Mb             1  \n",
      "                                       cudaLaunchKernel         0.03%      14.000us         0.03%      14.000us      14.000us           0 b           0 b           0 b           0 b             1  \n",
      "                                            aten::slice         0.01%       4.000us         0.01%       5.000us       5.000us           0 b           0 b           0 b           0 b             1  \n",
      "                                       aten::as_strided         0.00%       1.000us         0.00%       1.000us       1.000us           0 b           0 b           0 b           0 b             1  \n",
      "                                            aten::slice         0.01%       3.000us         0.01%       5.000us       5.000us           0 b           0 b           0 b           0 b             1  \n",
      "                                       aten::as_strided         0.00%       2.000us         0.00%       2.000us       2.000us           0 b           0 b           0 b           0 b             1  \n",
      "                                           aten::unbind         1.89%       1.019ms         2.90%       1.567ms       1.567ms           0 b           0 b           0 b           0 b             1  \n",
      "                                           aten::select         0.01%       8.000us         0.01%       8.000us       8.000us           0 b           0 b           0 b           0 b             1  \n",
      "                                       aten::as_strided         0.00%       0.000us         0.00%       0.000us       0.000us           0 b           0 b           0 b           0 b             1  \n",
      "                                           aten::select         0.00%       1.000us         0.00%       1.000us       1.000us           0 b           0 b           0 b           0 b             1  \n",
      "                                       aten::as_strided         0.00%       0.000us         0.00%       0.000us       0.000us           0 b           0 b           0 b           0 b             1  \n",
      "                                           aten::select         0.00%       1.000us         0.00%       1.000us       1.000us           0 b           0 b           0 b           0 b             1  \n",
      "                                       aten::as_strided         0.00%       0.000us         0.00%       0.000us       0.000us           0 b           0 b           0 b           0 b             1  \n",
      "                                           aten::select         0.00%       1.000us         0.00%       1.000us       1.000us           0 b           0 b           0 b           0 b             1  \n",
      "                                       aten::as_strided         0.00%       0.000us         0.00%       0.000us       0.000us           0 b           0 b           0 b           0 b             1  \n",
      "                                           aten::select         0.00%       1.000us         0.00%       1.000us       1.000us           0 b           0 b           0 b           0 b             1  \n",
      "                                       aten::as_strided         0.00%       0.000us         0.00%       0.000us       0.000us           0 b           0 b           0 b           0 b             1  \n",
      "                                           aten::select         0.00%       1.000us         0.00%       1.000us       1.000us           0 b           0 b           0 b           0 b             1  \n",
      "                                       aten::as_strided         0.00%       0.000us         0.00%       0.000us       0.000us           0 b           0 b           0 b           0 b             1  \n",
      "                                           aten::select         0.00%       1.000us         0.00%       1.000us       1.000us           0 b           0 b           0 b           0 b             1  \n",
      "                                       aten::as_strided         0.00%       0.000us         0.00%       0.000us       0.000us           0 b           0 b           0 b           0 b             1  \n",
      "                                           aten::select         0.00%       1.000us         0.00%       1.000us       1.000us           0 b           0 b           0 b           0 b             1  \n",
      "                                       aten::as_strided         0.00%       0.000us         0.00%       0.000us       0.000us           0 b           0 b           0 b           0 b             1  \n",
      "                                           aten::select         0.00%       1.000us         0.00%       1.000us       1.000us           0 b           0 b           0 b           0 b             1  \n",
      "                                       aten::as_strided         0.00%       0.000us         0.00%       0.000us       0.000us           0 b           0 b           0 b           0 b             1  \n",
      "                                           aten::select         0.00%       1.000us         0.00%       1.000us       1.000us           0 b           0 b           0 b           0 b             1  \n",
      "                                       aten::as_strided         0.00%       0.000us         0.00%       0.000us       0.000us           0 b           0 b           0 b           0 b             1  \n",
      "                                           aten::select         0.00%       1.000us         0.00%       1.000us       1.000us           0 b           0 b           0 b           0 b             1  \n",
      "                                       aten::as_strided         0.00%       0.000us         0.00%       0.000us       0.000us           0 b           0 b           0 b           0 b             1  \n",
      "                                           aten::select         0.00%       1.000us         0.00%       1.000us       1.000us           0 b           0 b           0 b           0 b             1  \n",
      "                                       aten::as_strided         0.00%       0.000us         0.00%       0.000us       0.000us           0 b           0 b           0 b           0 b             1  \n",
      "                                           aten::select         0.00%       1.000us         0.00%       1.000us       1.000us           0 b           0 b           0 b           0 b             1  \n",
      "                                       aten::as_strided         0.00%       0.000us         0.00%       0.000us       0.000us           0 b           0 b           0 b           0 b             1  \n",
      "                                           aten::select         0.00%       2.000us         0.00%       2.000us       2.000us           0 b           0 b           0 b           0 b             1  \n",
      "                                       aten::as_strided         0.00%       0.000us         0.00%       0.000us       0.000us           0 b           0 b           0 b           0 b             1  \n",
      "                                           aten::select         0.00%       1.000us         0.00%       1.000us       1.000us           0 b           0 b           0 b           0 b             1  \n",
      "                                       aten::as_strided         0.00%       0.000us         0.00%       0.000us       0.000us           0 b           0 b           0 b           0 b             1  \n",
      "                                           aten::select         0.00%       1.000us         0.00%       1.000us       1.000us           0 b           0 b           0 b           0 b             1  \n",
      "                                       aten::as_strided         0.00%       0.000us         0.00%       0.000us       0.000us           0 b           0 b           0 b           0 b             1  \n",
      "                                           aten::select         0.00%       2.000us         0.00%       2.000us       2.000us           0 b           0 b           0 b           0 b             1  \n",
      "                                       aten::as_strided         0.00%       0.000us         0.00%       0.000us       0.000us           0 b           0 b           0 b           0 b             1  \n",
      "                                           aten::select         0.00%       1.000us         0.00%       1.000us       1.000us           0 b           0 b           0 b           0 b             1  \n",
      "                                       aten::as_strided         0.00%       0.000us         0.00%       0.000us       0.000us           0 b           0 b           0 b           0 b             1  \n",
      "                                           aten::select         0.00%       1.000us         0.00%       1.000us       1.000us           0 b           0 b           0 b           0 b             1  \n",
      "                                       aten::as_strided         0.00%       0.000us         0.00%       0.000us       0.000us           0 b           0 b           0 b           0 b             1  \n",
      "                                           aten::select         0.00%       1.000us         0.00%       1.000us       1.000us           0 b           0 b           0 b           0 b             1  \n",
      "                                       aten::as_strided         0.00%       0.000us         0.00%       0.000us       0.000us           0 b           0 b           0 b           0 b             1  \n",
      "                                           aten::select         0.00%       1.000us         0.00%       1.000us       1.000us           0 b           0 b           0 b           0 b             1  \n",
      "                                       aten::as_strided         0.00%       0.000us         0.00%       0.000us       0.000us           0 b           0 b           0 b           0 b             1  \n",
      "                                           aten::select         0.00%       1.000us         0.00%       1.000us       1.000us           0 b           0 b           0 b           0 b             1  \n",
      "                                       aten::as_strided         0.00%       0.000us         0.00%       0.000us       0.000us           0 b           0 b           0 b           0 b             1  \n",
      "                                           aten::select         0.00%       1.000us         0.00%       1.000us       1.000us           0 b           0 b           0 b           0 b             1  \n",
      "                                       aten::as_strided         0.00%       0.000us         0.00%       0.000us       0.000us           0 b           0 b           0 b           0 b             1  \n",
      "                                           aten::select         0.00%       1.000us         0.00%       1.000us       1.000us           0 b           0 b           0 b           0 b             1  \n",
      "                                       aten::as_strided         0.00%       0.000us         0.00%       0.000us       0.000us           0 b           0 b           0 b           0 b             1  \n",
      "                                           aten::select         0.00%       1.000us         0.00%       1.000us       1.000us           0 b           0 b           0 b           0 b             1  \n",
      "                                       aten::as_strided         0.00%       0.000us         0.00%       0.000us       0.000us           0 b           0 b           0 b           0 b             1  \n",
      "                                           aten::select         0.00%       1.000us         0.00%       1.000us       1.000us           0 b           0 b           0 b           0 b             1  \n",
      "                                       aten::as_strided         0.00%       0.000us         0.00%       0.000us       0.000us           0 b           0 b           0 b           0 b             1  \n",
      "                                           aten::select         0.00%       1.000us         0.00%       1.000us       1.000us           0 b           0 b           0 b           0 b             1  \n",
      "                                       aten::as_strided         0.00%       0.000us         0.00%       0.000us       0.000us           0 b           0 b           0 b           0 b             1  \n",
      "                                           aten::select         0.00%       1.000us         0.00%       1.000us       1.000us           0 b           0 b           0 b           0 b             1  \n",
      "                                       aten::as_strided         0.00%       0.000us         0.00%       0.000us       0.000us           0 b           0 b           0 b           0 b             1  \n",
      "                                           aten::select         0.00%       1.000us         0.00%       1.000us       1.000us           0 b           0 b           0 b           0 b             1  \n",
      "                                       aten::as_strided         0.00%       0.000us         0.00%       0.000us       0.000us           0 b           0 b           0 b           0 b             1  \n",
      "                                           aten::select         0.00%       1.000us         0.00%       1.000us       1.000us           0 b           0 b           0 b           0 b             1  \n",
      "                                       aten::as_strided         0.00%       0.000us         0.00%       0.000us       0.000us           0 b           0 b           0 b           0 b             1  \n",
      "                                           aten::select         0.00%       1.000us         0.00%       1.000us       1.000us           0 b           0 b           0 b           0 b             1  \n",
      "                                       aten::as_strided         0.00%       0.000us         0.00%       0.000us       0.000us           0 b           0 b           0 b           0 b             1  \n",
      "                                           aten::select         0.00%       1.000us         0.00%       1.000us       1.000us           0 b           0 b           0 b           0 b             1  \n",
      "                                       aten::as_strided         0.00%       0.000us         0.00%       0.000us       0.000us           0 b           0 b           0 b           0 b             1  \n",
      "                                           aten::select         0.00%       2.000us         0.00%       2.000us       2.000us           0 b           0 b           0 b           0 b             1  \n",
      "                                       aten::as_strided         0.00%       0.000us         0.00%       0.000us       0.000us           0 b           0 b           0 b           0 b             1  \n",
      "                                           aten::select         0.00%       1.000us         0.00%       1.000us       1.000us           0 b           0 b           0 b           0 b             1  \n",
      "                                       aten::as_strided         0.00%       0.000us         0.00%       0.000us       0.000us           0 b           0 b           0 b           0 b             1  \n",
      "                                           aten::select         0.00%       1.000us         0.00%       1.000us       1.000us           0 b           0 b           0 b           0 b             1  \n",
      "                                       aten::as_strided         0.00%       0.000us         0.00%       0.000us       0.000us           0 b           0 b           0 b           0 b             1  \n",
      "                                           aten::select         0.00%       1.000us         0.00%       1.000us       1.000us           0 b           0 b           0 b           0 b             1  \n",
      "                                       aten::as_strided         0.00%       0.000us         0.00%       0.000us       0.000us           0 b           0 b           0 b           0 b             1  \n",
      "                                           aten::select         0.00%       1.000us         0.00%       1.000us       1.000us           0 b           0 b           0 b           0 b             1  \n",
      "                                       aten::as_strided         0.00%       0.000us         0.00%       0.000us       0.000us           0 b           0 b           0 b           0 b             1  \n",
      "                                           aten::select         0.00%       1.000us         0.00%       1.000us       1.000us           0 b           0 b           0 b           0 b             1  \n",
      "                                       aten::as_strided         0.00%       0.000us         0.00%       0.000us       0.000us           0 b           0 b           0 b           0 b             1  \n",
      "                                           aten::select         0.00%       1.000us         0.00%       1.000us       1.000us           0 b           0 b           0 b           0 b             1  \n",
      "                                       aten::as_strided         0.00%       0.000us         0.00%       0.000us       0.000us           0 b           0 b           0 b           0 b             1  \n",
      "                                           aten::select         0.00%       1.000us         0.00%       1.000us       1.000us           0 b           0 b           0 b           0 b             1  \n",
      "                                       aten::as_strided         0.00%       0.000us         0.00%       0.000us       0.000us           0 b           0 b           0 b           0 b             1  \n",
      "                                           aten::select         0.00%       1.000us         0.00%       1.000us       1.000us           0 b           0 b           0 b           0 b             1  \n",
      "                                       aten::as_strided         0.00%       0.000us         0.00%       0.000us       0.000us           0 b           0 b           0 b           0 b             1  \n",
      "                                           aten::select         0.00%       2.000us         0.00%       2.000us       2.000us           0 b           0 b           0 b           0 b             1  \n",
      "                                       aten::as_strided         0.00%       0.000us         0.00%       0.000us       0.000us           0 b           0 b           0 b           0 b             1  \n",
      "                                           aten::select         0.00%       1.000us         0.00%       1.000us       1.000us           0 b           0 b           0 b           0 b             1  \n",
      "                                       aten::as_strided         0.00%       0.000us         0.00%       0.000us       0.000us           0 b           0 b           0 b           0 b             1  \n",
      "                                           aten::select         0.00%       1.000us         0.00%       1.000us       1.000us           0 b           0 b           0 b           0 b             1  \n",
      "                                       aten::as_strided         0.00%       0.000us         0.00%       0.000us       0.000us           0 b           0 b           0 b           0 b             1  \n",
      "-------------------------------------------------------  ------------  ------------  ------------  ------------  ------------  ------------  ------------  ------------  ------------  ------------  \n",
      "Self CPU time total: 54.001ms\n",
      "\n"
     ]
    }
   ],
   "source": [
    "print(prof)"
   ]
  },
  {
   "cell_type": "markdown",
   "id": "88a40e0b-6b16-420d-b59b-ef38d591f331",
   "metadata": {},
   "source": [
    "## MultiTriplet"
   ]
  },
  {
   "cell_type": "code",
   "execution_count": null,
   "id": "6078f2cb-f54a-41b3-8180-f3ce94f92602",
   "metadata": {},
   "outputs": [],
   "source": [
    "#| export\n",
    "class MultiTriplet(BaseLoss):\n",
    "\n",
    "    def __init__(self,\n",
    "                 bsz:Optional[int]=None, \n",
    "                 tn_targ:Optional[int]=None,\n",
    "                 margin:Optional[float]=0.8,\n",
    "                 **kwargs):\n",
    "        super().__init__(**kwargs)\n",
    "        self.bsz, self.tn_targ, self.margin = bsz, tn_targ, margin\n",
    "        self.u = torch.arange(bsz, dtype=torch.int64) if bsz is not None else None\n",
    "        self.v = torch.ones(tn_targ, dtype=torch.int64) if tn_targ is not None else None\n",
    "        self._parameters = {'u':self.u, 'v':self.v}\n",
    "        "
   ]
  },
  {
   "cell_type": "code",
   "execution_count": null,
   "id": "3e0c7bd7-76b5-4c8b-9454-c866eb50f8f3",
   "metadata": {},
   "outputs": [],
   "source": [
    "bsz = 10\n",
    "batch = block.train.one_batch(bsz)\n",
    "data_logits, lbl2data_input_ids, lbl2data_data2ptr, data_repr, lbl2data_repr = m(**batch)"
   ]
  },
  {
   "cell_type": "code",
   "execution_count": null,
   "id": "47e84212-8ab0-45cf-9879-0e4fb826be66",
   "metadata": {},
   "outputs": [],
   "source": [
    "mtl_fn = MultiTriplet(bsz, 10_000, 0.8, reduce='mean').to('cuda')"
   ]
  },
  {
   "cell_type": "code",
   "execution_count": null,
   "id": "46e34cec-1523-4de0-953f-d1f6828f1709",
   "metadata": {},
   "outputs": [],
   "source": [
    "#| export\n",
    "@patch\n",
    "def __call__(cls:MultiTriplet, \n",
    "             inp:torch.FloatTensor, \n",
    "             targ:torch.LongTensor, \n",
    "             n_inp2targ:torch.LongTensor,\n",
    "             margin:Optional[float]=None, \n",
    "             **kwargs):\n",
    "    cls.margin = cls.margin if margin is None else margin\n",
    "    bsz, tn_targ, mn_targ = inp.shape[0], targ.shape[0], n_inp2targ.max()\n",
    "    u = torch.arange(bsz, dtype=torch.int64, device=inp.device) if cls.u is None or cls.bsz < bsz else cls.u[:bsz]\n",
    "    v = (\n",
    "        torch.ones(tn_targ, dtype=torch.int64, device=targ.device)\n",
    "        if cls.tn_targ is None or tn_targ > cls.tn_targ else cls.v[:tn_targ]\n",
    "    )\n",
    "    targ2inp_ptr = u.repeat_interleave(n_inp2targ)\n",
    "    s = targ@inp.T\n",
    "    ps = s.gather(1, targ2inp_ptr.view(-1,1))\n",
    "    \n",
    "    inp2targ_ptr = n_inp2targ.cumsum(dim=0)-1\n",
    "    xn_inp2targ = mn_targ-n_inp2targ+1\n",
    "    \n",
    "    r_targ = v.scatter(0, inp2targ_ptr, xn_inp2targ)\n",
    "    \n",
    "    targ2inp_ptrx = targ2inp_ptr.repeat_interleave(r_targ)\n",
    "    mask, maskx = F.one_hot(targ2inp_ptr), F.one_hot(targ2inp_ptrx)\n",
    "    fmask = CUDALongTensor.matmul(maskx,mask.T)\n",
    "    psx = ps.repeat_interleave(r_targ).view(bsz, -1, 1)\n",
    "    s = s.T.view(bsz, 1, -1)\n",
    "    fs = (s - psx + cls.margin).view(-1, tn_targ)\n",
    "    fs /= r_targ.repeat_interleave(r_targ).view(-1, 1)\n",
    "    \n",
    "    idx = torch.where(fmask == 0)\n",
    "    loss = fs[idx[0], idx[1]]\n",
    "    loss, n = torch.where(loss > 0, loss, 0), (n_inp2targ.sum())**2 - (n_inp2targ**2).sum()\n",
    "    if cls.reduction == 'mean': return (loss/n).sum()\n",
    "    elif cls.reduction == 'sum': return loss.sum()\n",
    "    else: raise ValueError(f'`reduction` cannot be `{cls.reduction}`')\n",
    "        "
   ]
  },
  {
   "cell_type": "code",
   "execution_count": null,
   "id": "7f0380db-6899-4f26-a250-4439bfe4790f",
   "metadata": {},
   "outputs": [
    {
     "name": "stderr",
     "output_type": "stream",
     "text": [
      "STAGE:2024-04-19 01:54:04 13866:13866 ActivityProfilerController.cpp:314] Completed Stage: Warm Up\n"
     ]
    },
    {
     "name": "stdout",
     "output_type": "stream",
     "text": [
      "tensor(1.4957, device='cuda:0', grad_fn=<SumBackward0>)\n"
     ]
    },
    {
     "name": "stderr",
     "output_type": "stream",
     "text": [
      "STAGE:2024-04-19 01:54:05 13866:13866 ActivityProfilerController.cpp:320] Completed Stage: Collection\n",
      "STAGE:2024-04-19 01:54:05 13866:13866 ActivityProfilerController.cpp:324] Completed Stage: Post Processing\n"
     ]
    }
   ],
   "source": [
    "with profiler.profile(with_stack=True, profile_memory=True) as prof:\n",
    "    loss = mtl_fn(data_repr, lbl2data_repr, lbl2data_data2ptr)\n",
    "    print(loss)"
   ]
  },
  {
   "cell_type": "code",
   "execution_count": null,
   "id": "26a0cb4b-9c45-4b4e-a360-2aea0305bc45",
   "metadata": {},
   "outputs": [
    {
     "name": "stdout",
     "output_type": "stream",
     "text": [
      "-------------------------------------------------------  ------------  ------------  ------------  ------------  ------------  ------------  ------------  ------------  ------------  ------------  \n",
      "                                                   Name    Self CPU %      Self CPU   CPU total %     CPU total  CPU time avg       CPU Mem  Self CPU Mem      CUDA Mem  Self CUDA Mem    # of Calls  \n",
      "-------------------------------------------------------  ------------  ------------  ------------  ------------  ------------  ------------  ------------  ------------  ------------  ------------  \n",
      "                                              aten::max         0.95%     519.000us         1.11%     610.000us     610.000us           0 b           0 b         512 b           0 b             1  \n",
      "                                            aten::empty         0.08%      43.000us         0.08%      43.000us      43.000us           0 b           0 b         512 b         512 b             1  \n",
      "                                       aten::as_strided         0.01%       5.000us         0.01%       5.000us       5.000us           0 b           0 b           0 b           0 b             1  \n",
      "                                       cudaLaunchKernel         0.08%      43.000us         0.08%      43.000us      43.000us           0 b           0 b           0 b           0 b             1  \n",
      "                                            aten::slice         0.03%      17.000us         0.03%      19.000us      19.000us           0 b           0 b           0 b           0 b             1  \n",
      "                                       aten::as_strided         0.00%       2.000us         0.00%       2.000us       2.000us           0 b           0 b           0 b           0 b             1  \n",
      "                                            aten::slice         0.01%       4.000us         0.01%       5.000us       5.000us           0 b           0 b           0 b           0 b             1  \n",
      "                                       aten::as_strided         0.00%       1.000us         0.00%       1.000us       1.000us           0 b           0 b           0 b           0 b             1  \n",
      "                                aten::repeat_interleave         0.04%      21.000us         0.80%     440.000us     440.000us           0 b           0 b       8.50 Kb      -8.50 Kb             1  \n",
      "                                          aten::flatten         0.00%       0.000us         0.00%       0.000us       0.000us           0 b           0 b           0 b           0 b             1  \n",
      "                                aten::repeat_interleave         0.11%      61.000us         0.65%     358.000us     358.000us           0 b           0 b       8.50 Kb      -5.00 Kb             1  \n",
      "                                           aten::cumsum         0.11%      60.000us         0.16%      86.000us      86.000us           0 b           0 b       4.00 Kb       4.00 Kb             1  \n",
      "                                               aten::to         0.00%       1.000us         0.00%       1.000us       1.000us           0 b           0 b           0 b           0 b             1  \n",
      "                                       cudaLaunchKernel         0.02%      13.000us         0.02%      13.000us      13.000us           0 b           0 b           0 b           0 b             1  \n",
      "                                    cudaPeekAtLastError         0.00%       0.000us         0.00%       0.000us       0.000us           0 b           0 b           0 b           0 b             1  \n",
      "                                    cudaPeekAtLastError         0.00%       0.000us         0.00%       0.000us       0.000us           0 b           0 b           0 b           0 b             1  \n",
      "cudaOccupancyMaxActiveBlocksPerMultiprocessorWithFla...         0.01%       3.000us         0.01%       3.000us       3.000us           0 b           0 b           0 b           0 b             1  \n",
      "                                 cudaDeviceGetAttribute         0.00%       2.000us         0.00%       2.000us       2.000us           0 b           0 b           0 b           0 b             1  \n",
      "                                       cudaLaunchKernel         0.01%       7.000us         0.01%       7.000us       7.000us           0 b           0 b           0 b           0 b             1  \n",
      "                                    cudaPeekAtLastError         0.00%       0.000us         0.00%       0.000us       0.000us           0 b           0 b           0 b           0 b             1  \n",
      "                                    cudaPeekAtLastError         0.00%       0.000us         0.00%       0.000us       0.000us           0 b           0 b           0 b           0 b             1  \n",
      "                                           aten::select         0.02%      10.000us         0.02%      11.000us      11.000us           0 b           0 b           0 b           0 b             1  \n",
      "                                       aten::as_strided         0.00%       1.000us         0.00%       1.000us       1.000us           0 b           0 b           0 b           0 b             1  \n",
      "                                             aten::item         0.01%       4.000us         0.11%      61.000us      61.000us           0 b           0 b           0 b           0 b             1  \n",
      "                              aten::_local_scalar_dense         0.01%       8.000us         0.10%      57.000us      57.000us           0 b           0 b           0 b           0 b             1  \n",
      "                                        cudaMemcpyAsync         0.07%      41.000us         0.07%      41.000us      41.000us           0 b           0 b           0 b           0 b             1  \n",
      "                                  cudaStreamSynchronize         0.01%       8.000us         0.01%       8.000us       8.000us           0 b           0 b           0 b           0 b             1  \n",
      "                                               aten::ge         0.07%      41.000us         0.09%      52.000us      52.000us           0 b           0 b         512 b         512 b             1  \n",
      "                                       cudaLaunchKernel         0.02%      11.000us         0.02%      11.000us      11.000us           0 b           0 b           0 b           0 b             1  \n",
      "                                              aten::all         0.06%      31.000us         0.08%      42.000us      42.000us           0 b           0 b         512 b         512 b             1  \n",
      "                                       aten::as_strided         0.00%       1.000us         0.00%       1.000us       1.000us           0 b           0 b           0 b           0 b             1  \n",
      "                                       cudaLaunchKernel         0.02%      10.000us         0.02%      10.000us      10.000us           0 b           0 b           0 b           0 b             1  \n",
      "                                             aten::item         0.01%       3.000us         0.05%      28.000us      28.000us           0 b           0 b           0 b           0 b             1  \n",
      "                              aten::_local_scalar_dense         0.01%       6.000us         0.05%      25.000us      25.000us           0 b           0 b           0 b           0 b             1  \n",
      "                                        cudaMemcpyAsync         0.03%      17.000us         0.03%      17.000us      17.000us           0 b           0 b           0 b           0 b             1  \n",
      "                                  cudaStreamSynchronize         0.00%       2.000us         0.00%       2.000us       2.000us           0 b           0 b           0 b           0 b             1  \n",
      "                                            aten::empty         0.02%       9.000us         0.02%       9.000us       9.000us           0 b           0 b       8.50 Kb       8.50 Kb             1  \n",
      "                                       cudaLaunchKernel         0.01%       8.000us         0.01%       8.000us       8.000us           0 b           0 b           0 b           0 b             1  \n",
      "                                     aten::index_select         0.06%      35.000us         0.11%      61.000us      61.000us           0 b           0 b       8.50 Kb           0 b             1  \n",
      "                                            aten::empty         0.01%       6.000us         0.01%       6.000us       6.000us           0 b           0 b           0 b           0 b             1  \n",
      "                                          aten::resize_         0.02%      10.000us         0.02%      10.000us      10.000us           0 b           0 b       8.50 Kb       8.50 Kb             1  \n",
      "                                       cudaLaunchKernel         0.02%      10.000us         0.02%      10.000us      10.000us           0 b           0 b           0 b           0 b             1  \n",
      "                                          aten::numpy_T         0.01%       4.000us         0.05%      28.000us      28.000us           0 b           0 b           0 b           0 b             1  \n",
      "                                          aten::permute         0.04%      22.000us         0.04%      24.000us      24.000us           0 b           0 b           0 b           0 b             1  \n",
      "                                       aten::as_strided         0.00%       2.000us         0.00%       2.000us       2.000us           0 b           0 b           0 b           0 b             1  \n",
      "                                           aten::matmul         0.01%       7.000us         0.21%     116.000us     116.000us           0 b           0 b       2.12 Mb           0 b             1  \n",
      "                                               aten::mm         0.16%      86.000us         0.20%     109.000us     109.000us           0 b           0 b       2.12 Mb       2.12 Mb             1  \n",
      "                                        cudaMemsetAsync         0.02%      11.000us         0.02%      11.000us      11.000us           0 b           0 b           0 b           0 b             1  \n",
      "          cudaOccupancyMaxActiveBlocksPerMultiprocessor         0.01%       3.000us         0.01%       3.000us       3.000us           0 b           0 b           0 b           0 b             1  \n",
      "                                       cudaLaunchKernel         0.02%       9.000us         0.02%       9.000us       9.000us           0 b           0 b           0 b           0 b             1  \n",
      "                                             aten::view         0.01%       6.000us         0.01%       6.000us       6.000us           0 b           0 b           0 b           0 b             1  \n",
      "                                           aten::gather         0.08%      43.000us         0.10%      56.000us      56.000us           0 b           0 b       4.50 Kb       4.50 Kb             1  \n",
      "                                       aten::as_strided         0.00%       1.000us         0.00%       1.000us       1.000us           0 b           0 b           0 b           0 b             1  \n",
      "                                       aten::as_strided         0.00%       1.000us         0.00%       1.000us       1.000us           0 b           0 b           0 b           0 b             1  \n",
      "                                       cudaLaunchKernel         0.02%      11.000us         0.02%      11.000us      11.000us           0 b           0 b           0 b           0 b             1  \n",
      "                                           aten::cumsum         0.08%      43.000us         0.11%      58.000us      58.000us           0 b           0 b       4.00 Kb       4.00 Kb             1  \n",
      "                                               aten::to         0.00%       0.000us         0.00%       0.000us       0.000us           0 b           0 b           0 b           0 b             1  \n",
      "                                       cudaLaunchKernel         0.01%       8.000us         0.01%       8.000us       8.000us           0 b           0 b           0 b           0 b             1  \n",
      "                                    cudaPeekAtLastError         0.00%       0.000us         0.00%       0.000us       0.000us           0 b           0 b           0 b           0 b             1  \n",
      "                                    cudaPeekAtLastError         0.00%       0.000us         0.00%       0.000us       0.000us           0 b           0 b           0 b           0 b             1  \n",
      "cudaOccupancyMaxActiveBlocksPerMultiprocessorWithFla...         0.00%       1.000us         0.00%       1.000us       1.000us           0 b           0 b           0 b           0 b             1  \n",
      "                                 cudaDeviceGetAttribute         0.00%       0.000us         0.00%       0.000us       0.000us           0 b           0 b           0 b           0 b             1  \n",
      "                                       cudaLaunchKernel         0.01%       6.000us         0.01%       6.000us       6.000us           0 b           0 b           0 b           0 b             1  \n",
      "                                    cudaPeekAtLastError         0.00%       0.000us         0.00%       0.000us       0.000us           0 b           0 b           0 b           0 b             1  \n",
      "                                    cudaPeekAtLastError         0.00%       0.000us         0.00%       0.000us       0.000us           0 b           0 b           0 b           0 b             1  \n",
      "                                               [memory]         0.00%       0.000us         0.00%       0.000us       0.000us           8 b           8 b           0 b           0 b             1  \n",
      "                                              aten::sub         0.05%      26.000us         0.06%      35.000us      35.000us           0 b           0 b       4.00 Kb       4.00 Kb             1  \n",
      "                                       cudaLaunchKernel         0.02%       9.000us         0.02%       9.000us       9.000us           0 b           0 b           0 b           0 b             1  \n",
      "                                               [memory]         0.00%       0.000us         0.00%       0.000us       0.000us          -8 b          -8 b           0 b           0 b             1  \n",
      "                                               [memory]         0.00%       0.000us         0.00%       0.000us       0.000us           0 b           0 b      -4.00 Kb      -4.00 Kb             1  \n",
      "                                              aten::sub         0.03%      19.000us         0.05%      27.000us      27.000us           0 b           0 b       4.00 Kb       4.00 Kb             1  \n",
      "                                       cudaLaunchKernel         0.01%       8.000us         0.01%       8.000us       8.000us           0 b           0 b           0 b           0 b             1  \n",
      "                                               [memory]         0.00%       0.000us         0.00%       0.000us       0.000us           8 b           8 b           0 b           0 b             1  \n",
      "                                              aten::add         0.03%      19.000us         0.05%      26.000us      26.000us           0 b           0 b       4.00 Kb       4.00 Kb             1  \n",
      "                                       cudaLaunchKernel         0.01%       7.000us         0.01%       7.000us       7.000us           0 b           0 b           0 b           0 b             1  \n",
      "                                               [memory]         0.00%       0.000us         0.00%       0.000us       0.000us          -8 b          -8 b           0 b           0 b             1  \n",
      "                                               [memory]         0.00%       0.000us         0.00%       0.000us       0.000us           0 b           0 b      -4.00 Kb      -4.00 Kb             1  \n",
      "                                          aten::scatter         0.08%      42.000us         0.18%      99.000us      99.000us           0 b           0 b       8.50 Kb       8.50 Kb             1  \n",
      "                                            aten::copy_         0.03%      14.000us         0.09%      48.000us      48.000us           0 b           0 b           0 b           0 b             1  \n",
      "                                        cudaMemcpyAsync         0.06%      34.000us         0.06%      34.000us      34.000us           0 b           0 b           0 b           0 b             1  \n",
      "                                       aten::as_strided         0.00%       1.000us         0.00%       1.000us       1.000us           0 b           0 b           0 b           0 b             1  \n",
      "                                       aten::as_strided         0.00%       0.000us         0.00%       0.000us       0.000us           0 b           0 b           0 b           0 b             1  \n",
      "                                       cudaLaunchKernel         0.01%       8.000us         0.01%       8.000us       8.000us           0 b           0 b           0 b           0 b             1  \n",
      "                                aten::repeat_interleave         0.02%      13.000us         0.55%     302.000us     302.000us           0 b           0 b     184.00 Kb           0 b             1  \n",
      "                                          aten::flatten         0.00%       0.000us         0.00%       0.000us       0.000us           0 b           0 b           0 b           0 b             1  \n",
      "                                aten::repeat_interleave         0.08%      44.000us         0.44%     244.000us     244.000us           0 b           0 b      92.00 Kb     -10.50 Kb             1  \n",
      "                                           aten::cumsum         0.07%      40.000us         0.09%      52.000us      52.000us           0 b           0 b       8.50 Kb       8.50 Kb             1  \n",
      "                                               aten::to         0.00%       0.000us         0.00%       0.000us       0.000us           0 b           0 b           0 b           0 b             1  \n",
      "                                       cudaLaunchKernel         0.01%       6.000us         0.01%       6.000us       6.000us           0 b           0 b           0 b           0 b             1  \n",
      "                                    cudaPeekAtLastError         0.00%       0.000us         0.00%       0.000us       0.000us           0 b           0 b           0 b           0 b             1  \n",
      "                                    cudaPeekAtLastError         0.00%       0.000us         0.00%       0.000us       0.000us           0 b           0 b           0 b           0 b             1  \n",
      "cudaOccupancyMaxActiveBlocksPerMultiprocessorWithFla...         0.00%       1.000us         0.00%       1.000us       1.000us           0 b           0 b           0 b           0 b             1  \n",
      "                                 cudaDeviceGetAttribute         0.00%       0.000us         0.00%       0.000us       0.000us           0 b           0 b           0 b           0 b             1  \n",
      "                                       cudaLaunchKernel         0.01%       5.000us         0.01%       5.000us       5.000us           0 b           0 b           0 b           0 b             1  \n",
      "                                    cudaPeekAtLastError         0.00%       0.000us         0.00%       0.000us       0.000us           0 b           0 b           0 b           0 b             1  \n",
      "                                    cudaPeekAtLastError         0.00%       0.000us         0.00%       0.000us       0.000us           0 b           0 b           0 b           0 b             1  \n",
      "                                           aten::select         0.01%       6.000us         0.01%       7.000us       7.000us           0 b           0 b           0 b           0 b             1  \n",
      "                                       aten::as_strided         0.00%       1.000us         0.00%       1.000us       1.000us           0 b           0 b           0 b           0 b             1  \n",
      "                                             aten::item         0.01%       3.000us         0.06%      34.000us      34.000us           0 b           0 b           0 b           0 b             1  \n",
      "                              aten::_local_scalar_dense         0.01%       7.000us         0.06%      31.000us      31.000us           0 b           0 b           0 b           0 b             1  \n",
      "-------------------------------------------------------  ------------  ------------  ------------  ------------  ------------  ------------  ------------  ------------  ------------  ------------  \n",
      "Self CPU time total: 54.897ms\n",
      "\n"
     ]
    }
   ],
   "source": [
    "print(prof)"
   ]
  },
  {
   "cell_type": "code",
   "execution_count": null,
   "id": "963b3dc7-b9b4-48ab-a4c9-06aabab60374",
   "metadata": {},
   "outputs": [],
   "source": [
    "@patch\n",
    "def __call__(cls:MultiTriplet, \n",
    "             inp:torch.FloatTensor, \n",
    "             targ:torch.LongTensor, \n",
    "             n_inp2targ:torch.LongTensor, \n",
    "             margin:Optional[float]=None, \n",
    "             **kwargs):\n",
    "    cls.margin = cls.margin if margin is None else margin\n",
    "    score = inp@targ.T\n",
    "    ptr, fs = 0, []\n",
    "    for i, n in enumerate(n_inp2targ):\n",
    "        ps = score[i, ptr:ptr+n].view(-1, 1)\n",
    "        s = (score[i] - ps + cls.margin).roll(-ptr, 1)\n",
    "        fs.append(s[:, n:].flatten())\n",
    "        ptr += n.item()\n",
    "    loss = torch.hstack(fs)\n",
    "    loss = torch.where(loss > 0, loss, 0)\n",
    "    if cls.reduction == 'mean': return loss.mean()\n",
    "    elif cls.reduction == 'sum': return loss.sum()\n",
    "    else: raise ValueError(f'`reduction` cannot be `{cls.reduction}`')\n",
    "             "
   ]
  },
  {
   "cell_type": "code",
   "execution_count": null,
   "id": "bf0eb396-8946-413f-a3b6-1733699a80a9",
   "metadata": {},
   "outputs": [
    {
     "name": "stderr",
     "output_type": "stream",
     "text": [
      "STAGE:2024-04-19 01:54:10 13866:13866 ActivityProfilerController.cpp:314] Completed Stage: Warm Up\n",
      "STAGE:2024-04-19 01:54:10 13866:13866 ActivityProfilerController.cpp:320] Completed Stage: Collection\n",
      "STAGE:2024-04-19 01:54:10 13866:13866 ActivityProfilerController.cpp:324] Completed Stage: Post Processing\n"
     ]
    },
    {
     "name": "stdout",
     "output_type": "stream",
     "text": [
      "tensor(1.4957, device='cuda:0', grad_fn=<MeanBackward0>)\n"
     ]
    }
   ],
   "source": [
    "with profiler.profile(with_stack=True, profile_memory=True) as prof:\n",
    "    loss = mtl_fn(data_repr, lbl2data_repr, lbl2data_data2ptr)\n",
    "    print(loss)"
   ]
  },
  {
   "cell_type": "code",
   "execution_count": null,
   "id": "adb317c3-2329-4d40-9e52-72e6c856e623",
   "metadata": {},
   "outputs": [
    {
     "name": "stdout",
     "output_type": "stream",
     "text": [
      "-------------------------------------------------  ------------  ------------  ------------  ------------  ------------  ------------  ------------  ------------  ------------  ------------  \n",
      "                                             Name    Self CPU %      Self CPU   CPU total %     CPU total  CPU time avg       CPU Mem  Self CPU Mem      CUDA Mem  Self CUDA Mem    # of Calls  \n",
      "-------------------------------------------------  ------------  ------------  ------------  ------------  ------------  ------------  ------------  ------------  ------------  ------------  \n",
      "                                    aten::numpy_T         0.00%       5.000us         0.03%      53.000us      53.000us           0 b           0 b           0 b           0 b             1  \n",
      "                                    aten::permute         0.03%      38.000us         0.03%      48.000us      48.000us           0 b           0 b           0 b           0 b             1  \n",
      "                                 aten::as_strided         0.01%      10.000us         0.01%      10.000us      10.000us           0 b           0 b           0 b           0 b             1  \n",
      "                                     aten::matmul         0.01%      11.000us         0.52%     782.000us     782.000us           0 b           0 b       2.12 Mb           0 b             1  \n",
      "                                         aten::mm         0.44%     671.000us         0.51%     771.000us     771.000us           0 b           0 b       2.12 Mb       2.12 Mb             1  \n",
      "    cudaOccupancyMaxActiveBlocksPerMultiprocessor         0.02%      23.000us         0.02%      23.000us      23.000us           0 b           0 b           0 b           0 b             1  \n",
      "                                  cudaMemsetAsync         0.01%      22.000us         0.01%      22.000us      22.000us           0 b           0 b           0 b           0 b             1  \n",
      "                                 cudaLaunchKernel         0.04%      55.000us         0.04%      55.000us      55.000us           0 b           0 b           0 b           0 b             1  \n",
      "                                     aten::unbind         0.76%       1.154ms         1.59%       2.415ms       2.415ms           0 b           0 b           0 b           0 b             1  \n",
      "                                     aten::select         0.01%      14.000us         0.01%      16.000us      16.000us           0 b           0 b           0 b           0 b             1  \n",
      "                                 aten::as_strided         0.00%       2.000us         0.00%       2.000us       2.000us           0 b           0 b           0 b           0 b             1  \n",
      "                                     aten::select         0.00%       3.000us         0.00%       3.000us       3.000us           0 b           0 b           0 b           0 b             1  \n",
      "                                 aten::as_strided         0.00%       0.000us         0.00%       0.000us       0.000us           0 b           0 b           0 b           0 b             1  \n",
      "                                     aten::select         0.00%       3.000us         0.00%       3.000us       3.000us           0 b           0 b           0 b           0 b             1  \n",
      "                                 aten::as_strided         0.00%       0.000us         0.00%       0.000us       0.000us           0 b           0 b           0 b           0 b             1  \n",
      "                                     aten::select         0.00%       3.000us         0.00%       3.000us       3.000us           0 b           0 b           0 b           0 b             1  \n",
      "                                 aten::as_strided         0.00%       0.000us         0.00%       0.000us       0.000us           0 b           0 b           0 b           0 b             1  \n",
      "                                     aten::select         0.00%       3.000us         0.00%       3.000us       3.000us           0 b           0 b           0 b           0 b             1  \n",
      "                                 aten::as_strided         0.00%       0.000us         0.00%       0.000us       0.000us           0 b           0 b           0 b           0 b             1  \n",
      "                                     aten::select         0.00%       3.000us         0.00%       3.000us       3.000us           0 b           0 b           0 b           0 b             1  \n",
      "                                 aten::as_strided         0.00%       0.000us         0.00%       0.000us       0.000us           0 b           0 b           0 b           0 b             1  \n",
      "                                     aten::select         0.00%       3.000us         0.00%       3.000us       3.000us           0 b           0 b           0 b           0 b             1  \n",
      "                                 aten::as_strided         0.00%       0.000us         0.00%       0.000us       0.000us           0 b           0 b           0 b           0 b             1  \n",
      "                                     aten::select         0.00%       3.000us         0.00%       3.000us       3.000us           0 b           0 b           0 b           0 b             1  \n",
      "                                 aten::as_strided         0.00%       0.000us         0.00%       0.000us       0.000us           0 b           0 b           0 b           0 b             1  \n",
      "                                     aten::select         0.00%       3.000us         0.00%       3.000us       3.000us           0 b           0 b           0 b           0 b             1  \n",
      "                                 aten::as_strided         0.00%       0.000us         0.00%       0.000us       0.000us           0 b           0 b           0 b           0 b             1  \n",
      "                                     aten::select         0.00%       3.000us         0.00%       3.000us       3.000us           0 b           0 b           0 b           0 b             1  \n",
      "                                 aten::as_strided         0.00%       0.000us         0.00%       0.000us       0.000us           0 b           0 b           0 b           0 b             1  \n",
      "                                     aten::select         0.00%       3.000us         0.00%       3.000us       3.000us           0 b           0 b           0 b           0 b             1  \n",
      "                                 aten::as_strided         0.00%       0.000us         0.00%       0.000us       0.000us           0 b           0 b           0 b           0 b             1  \n",
      "                                     aten::select         0.00%       3.000us         0.00%       3.000us       3.000us           0 b           0 b           0 b           0 b             1  \n",
      "                                 aten::as_strided         0.00%       0.000us         0.00%       0.000us       0.000us           0 b           0 b           0 b           0 b             1  \n",
      "                                     aten::select         0.00%       2.000us         0.00%       3.000us       3.000us           0 b           0 b           0 b           0 b             1  \n",
      "                                 aten::as_strided         0.00%       1.000us         0.00%       1.000us       1.000us           0 b           0 b           0 b           0 b             1  \n",
      "                                     aten::select         0.00%       3.000us         0.00%       3.000us       3.000us           0 b           0 b           0 b           0 b             1  \n",
      "                                 aten::as_strided         0.00%       0.000us         0.00%       0.000us       0.000us           0 b           0 b           0 b           0 b             1  \n",
      "                                     aten::select         0.00%       3.000us         0.00%       3.000us       3.000us           0 b           0 b           0 b           0 b             1  \n",
      "                                 aten::as_strided         0.00%       0.000us         0.00%       0.000us       0.000us           0 b           0 b           0 b           0 b             1  \n",
      "                                     aten::select         0.00%       3.000us         0.00%       3.000us       3.000us           0 b           0 b           0 b           0 b             1  \n",
      "                                 aten::as_strided         0.00%       0.000us         0.00%       0.000us       0.000us           0 b           0 b           0 b           0 b             1  \n",
      "                                     aten::select         0.00%       3.000us         0.00%       3.000us       3.000us           0 b           0 b           0 b           0 b             1  \n",
      "                                 aten::as_strided         0.00%       0.000us         0.00%       0.000us       0.000us           0 b           0 b           0 b           0 b             1  \n",
      "                                     aten::select         0.00%       3.000us         0.00%       3.000us       3.000us           0 b           0 b           0 b           0 b             1  \n",
      "                                 aten::as_strided         0.00%       0.000us         0.00%       0.000us       0.000us           0 b           0 b           0 b           0 b             1  \n",
      "                                     aten::select         0.00%       3.000us         0.00%       3.000us       3.000us           0 b           0 b           0 b           0 b             1  \n",
      "                                 aten::as_strided         0.00%       0.000us         0.00%       0.000us       0.000us           0 b           0 b           0 b           0 b             1  \n",
      "                                     aten::select         0.00%       3.000us         0.00%       3.000us       3.000us           0 b           0 b           0 b           0 b             1  \n",
      "                                 aten::as_strided         0.00%       0.000us         0.00%       0.000us       0.000us           0 b           0 b           0 b           0 b             1  \n",
      "                                     aten::select         0.00%       3.000us         0.00%       3.000us       3.000us           0 b           0 b           0 b           0 b             1  \n",
      "                                 aten::as_strided         0.00%       0.000us         0.00%       0.000us       0.000us           0 b           0 b           0 b           0 b             1  \n",
      "                                     aten::select         0.00%       3.000us         0.00%       3.000us       3.000us           0 b           0 b           0 b           0 b             1  \n",
      "                                 aten::as_strided         0.00%       0.000us         0.00%       0.000us       0.000us           0 b           0 b           0 b           0 b             1  \n",
      "                                     aten::select         0.00%       3.000us         0.00%       3.000us       3.000us           0 b           0 b           0 b           0 b             1  \n",
      "                                 aten::as_strided         0.00%       0.000us         0.00%       0.000us       0.000us           0 b           0 b           0 b           0 b             1  \n",
      "                                     aten::select         0.00%       3.000us         0.00%       3.000us       3.000us           0 b           0 b           0 b           0 b             1  \n",
      "                                 aten::as_strided         0.00%       0.000us         0.00%       0.000us       0.000us           0 b           0 b           0 b           0 b             1  \n",
      "                                     aten::select         0.00%       3.000us         0.00%       3.000us       3.000us           0 b           0 b           0 b           0 b             1  \n",
      "                                 aten::as_strided         0.00%       0.000us         0.00%       0.000us       0.000us           0 b           0 b           0 b           0 b             1  \n",
      "                                     aten::select         0.00%       3.000us         0.00%       3.000us       3.000us           0 b           0 b           0 b           0 b             1  \n",
      "                                 aten::as_strided         0.00%       0.000us         0.00%       0.000us       0.000us           0 b           0 b           0 b           0 b             1  \n",
      "                                     aten::select         0.00%       3.000us         0.00%       3.000us       3.000us           0 b           0 b           0 b           0 b             1  \n",
      "                                 aten::as_strided         0.00%       0.000us         0.00%       0.000us       0.000us           0 b           0 b           0 b           0 b             1  \n",
      "                                     aten::select         0.00%       3.000us         0.00%       3.000us       3.000us           0 b           0 b           0 b           0 b             1  \n",
      "                                 aten::as_strided         0.00%       0.000us         0.00%       0.000us       0.000us           0 b           0 b           0 b           0 b             1  \n",
      "                                     aten::select         0.00%       3.000us         0.00%       3.000us       3.000us           0 b           0 b           0 b           0 b             1  \n",
      "                                 aten::as_strided         0.00%       0.000us         0.00%       0.000us       0.000us           0 b           0 b           0 b           0 b             1  \n",
      "                                     aten::select         0.00%       3.000us         0.00%       3.000us       3.000us           0 b           0 b           0 b           0 b             1  \n",
      "                                 aten::as_strided         0.00%       0.000us         0.00%       0.000us       0.000us           0 b           0 b           0 b           0 b             1  \n",
      "                                     aten::select         0.00%       3.000us         0.00%       3.000us       3.000us           0 b           0 b           0 b           0 b             1  \n",
      "                                 aten::as_strided         0.00%       0.000us         0.00%       0.000us       0.000us           0 b           0 b           0 b           0 b             1  \n",
      "                                     aten::select         0.00%       3.000us         0.00%       3.000us       3.000us           0 b           0 b           0 b           0 b             1  \n",
      "                                 aten::as_strided         0.00%       0.000us         0.00%       0.000us       0.000us           0 b           0 b           0 b           0 b             1  \n",
      "                                     aten::select         0.00%       3.000us         0.00%       3.000us       3.000us           0 b           0 b           0 b           0 b             1  \n",
      "                                 aten::as_strided         0.00%       0.000us         0.00%       0.000us       0.000us           0 b           0 b           0 b           0 b             1  \n",
      "                                     aten::select         0.00%       3.000us         0.00%       3.000us       3.000us           0 b           0 b           0 b           0 b             1  \n",
      "                                 aten::as_strided         0.00%       0.000us         0.00%       0.000us       0.000us           0 b           0 b           0 b           0 b             1  \n",
      "                                     aten::select         0.00%       3.000us         0.00%       3.000us       3.000us           0 b           0 b           0 b           0 b             1  \n",
      "                                 aten::as_strided         0.00%       0.000us         0.00%       0.000us       0.000us           0 b           0 b           0 b           0 b             1  \n",
      "                                     aten::select         0.00%       3.000us         0.00%       3.000us       3.000us           0 b           0 b           0 b           0 b             1  \n",
      "                                 aten::as_strided         0.00%       0.000us         0.00%       0.000us       0.000us           0 b           0 b           0 b           0 b             1  \n",
      "                                     aten::select         0.00%       3.000us         0.00%       3.000us       3.000us           0 b           0 b           0 b           0 b             1  \n",
      "                                 aten::as_strided         0.00%       0.000us         0.00%       0.000us       0.000us           0 b           0 b           0 b           0 b             1  \n",
      "                                     aten::select         0.00%       3.000us         0.00%       3.000us       3.000us           0 b           0 b           0 b           0 b             1  \n",
      "                                 aten::as_strided         0.00%       0.000us         0.00%       0.000us       0.000us           0 b           0 b           0 b           0 b             1  \n",
      "                                     aten::select         0.00%       3.000us         0.00%       3.000us       3.000us           0 b           0 b           0 b           0 b             1  \n",
      "                                 aten::as_strided         0.00%       0.000us         0.00%       0.000us       0.000us           0 b           0 b           0 b           0 b             1  \n",
      "                                     aten::select         0.00%       3.000us         0.00%       3.000us       3.000us           0 b           0 b           0 b           0 b             1  \n",
      "                                 aten::as_strided         0.00%       0.000us         0.00%       0.000us       0.000us           0 b           0 b           0 b           0 b             1  \n",
      "                                     aten::select         0.00%       3.000us         0.00%       3.000us       3.000us           0 b           0 b           0 b           0 b             1  \n",
      "                                 aten::as_strided         0.00%       0.000us         0.00%       0.000us       0.000us           0 b           0 b           0 b           0 b             1  \n",
      "                                     aten::select         0.00%       3.000us         0.00%       3.000us       3.000us           0 b           0 b           0 b           0 b             1  \n",
      "                                 aten::as_strided         0.00%       0.000us         0.00%       0.000us       0.000us           0 b           0 b           0 b           0 b             1  \n",
      "                                     aten::select         0.00%       3.000us         0.00%       3.000us       3.000us           0 b           0 b           0 b           0 b             1  \n",
      "                                 aten::as_strided         0.00%       0.000us         0.00%       0.000us       0.000us           0 b           0 b           0 b           0 b             1  \n",
      "                                     aten::select         0.00%       3.000us         0.00%       3.000us       3.000us           0 b           0 b           0 b           0 b             1  \n",
      "                                 aten::as_strided         0.00%       0.000us         0.00%       0.000us       0.000us           0 b           0 b           0 b           0 b             1  \n",
      "                                     aten::select         0.00%       2.000us         0.00%       3.000us       3.000us           0 b           0 b           0 b           0 b             1  \n",
      "                                 aten::as_strided         0.00%       1.000us         0.00%       1.000us       1.000us           0 b           0 b           0 b           0 b             1  \n",
      "                                     aten::select         0.00%       3.000us         0.00%       3.000us       3.000us           0 b           0 b           0 b           0 b             1  \n",
      "-------------------------------------------------  ------------  ------------  ------------  ------------  ------------  ------------  ------------  ------------  ------------  ------------  \n",
      "Self CPU time total: 151.557ms\n",
      "\n"
     ]
    }
   ],
   "source": [
    "print(prof)"
   ]
  },
  {
   "cell_type": "markdown",
   "id": "5571a263-2ce5-4602-8f1b-ecfc74984351",
   "metadata": {},
   "source": [
    "## Triplet"
   ]
  },
  {
   "cell_type": "code",
   "execution_count": null,
   "id": "95e37b4d-6951-4062-a2df-9c60bffa6977",
   "metadata": {},
   "outputs": [],
   "source": [
    "#| export\n",
    "class Triplet(BaseLoss):\n",
    "\n",
    "    def __init__(self, \n",
    "                 margin:Optional[float]=0.8, \n",
    "                 **kwargs):\n",
    "        super().__init__(**kwargs)\n",
    "        self.margin = margin\n"
   ]
  },
  {
   "cell_type": "code",
   "execution_count": null,
   "id": "2def2671-e34f-4b67-9b7c-4ecfee1e5d45",
   "metadata": {},
   "outputs": [],
   "source": [
    "#| export\n",
    "@patch\n",
    "def __call__(cls:Triplet, \n",
    "             inp:torch.FloatTensor, \n",
    "             targ:torch.LongTensor, \n",
    "             n_inp2targ:torch.LongTensor,\n",
    "             inp2targ_idx:torch.LongTensor,\n",
    "             inp2targ_idx_smp:torch.LongTensor,\n",
    "             margin:Optional[float]=None, \n",
    "             **kwargs):\n",
    "    cls.margin = cls.margin if margin is None else margin\n",
    "    _, idx = torch.unique(torch.cat([inp2targ_idx_smp, inp2targ_idx]), return_inverse=True)\n",
    "    inp2targ_idx, inp2targ_val = idx[len(inp2targ_idx_smp):], torch.ones_like(inp2targ_idx)\n",
    "    inp2targ_ptr = torch.cat([torch.zeros(1, device=n_inp2targ.device, dtype=n_inp2targ.dtype), n_inp2targ.cumsum(0)])\n",
    "    ne = 1 - torch.sparse_csr_tensor(inp2targ_ptr, inp2targ_idx, inp2targ_val, device=n_inp2targ.device).to_dense()[:, idx[:len(inp2targ_idx_smp)]]\n",
    "    sc = inp@targ.T\n",
    "    loss = torch.clamp((sc - sc.diagonal().unsqueeze(1) + cls.margin) * ne, 0)\n",
    "    if cls.reduction == 'mean': return loss.sum()/ne.sum()\n",
    "    elif cls.reduction == 'sum': return loss.sum()\n",
    "    else: raise ValueError(f'`reduction` cannot be `{cls.reduction}`')\n",
    "        "
   ]
  },
  {
   "cell_type": "code",
   "execution_count": null,
   "id": "65d786c1-ead1-44dc-9855-7a6216a97eae",
   "metadata": {},
   "outputs": [],
   "source": [
    "tl_fn = Triplet(0.8, reduce='mean')"
   ]
  },
  {
   "cell_type": "code",
   "execution_count": null,
   "id": "cef4239d-b547-46ae-821b-db5919bb46cf",
   "metadata": {},
   "outputs": [],
   "source": [
    "loss = tl_fn(data_repr, lbl2data_repr, lbl2data_data2ptr, lbl2data_idx, kwargs['lbl2data_idx_smp'])"
   ]
  },
  {
   "cell_type": "code",
   "execution_count": null,
   "id": "54c03a8f-4cf3-44de-ab78-e0a4881f273d",
   "metadata": {},
   "outputs": [
    {
     "data": {
      "text/plain": [
       "tensor(0.6015, grad_fn=<DivBackward0>)"
      ]
     },
     "execution_count": null,
     "metadata": {},
     "output_type": "execute_result"
    }
   ],
   "source": [
    "loss"
   ]
  },
  {
   "cell_type": "markdown",
   "id": "761c41de-b88c-4f6e-986d-988001e2e312",
   "metadata": {},
   "source": [
    "## SoupCon"
   ]
  },
  {
   "cell_type": "code",
   "execution_count": null,
   "id": "f8647bfa-4493-462d-a9cf-13f9fb643554",
   "metadata": {},
   "outputs": [],
   "source": [
    "#| export\n",
    "class SoupCon(BaseLoss):\n",
    "\n",
    "    @delegates(BaseLoss.__init__)\n",
    "    def __init__(self,\n",
    "                 bsz:Optional[int]=None, \n",
    "                 **kwargs):\n",
    "        super().__init__(**kwargs)\n",
    "        self.bsz = bsz\n",
    "        self.t = torch.arange(bsz, dtype=torch.int64) if bsz is not None else None\n",
    "        self._parameters = {'t':self.t}\n",
    "        "
   ]
  },
  {
   "cell_type": "code",
   "execution_count": null,
   "id": "55345837-6b36-4c71-962e-2944b5c25899",
   "metadata": {},
   "outputs": [],
   "source": [
    "bsz = 10\n",
    "batch = block.train.one_batch(bsz)\n",
    "data_logits, data_logits, lbl2data_data2ptr, data_repr, lbl2data_repr = m(**batch)"
   ]
  },
  {
   "cell_type": "code",
   "execution_count": null,
   "id": "a7de068d-48d9-4279-8401-4a3e61c04410",
   "metadata": {},
   "outputs": [],
   "source": [
    "scn_fn = SoupCon(bsz, reduce='mean').to('cuda')"
   ]
  },
  {
   "cell_type": "code",
   "execution_count": null,
   "id": "9fc706ba-3c2c-4b91-8ac7-38937b43c604",
   "metadata": {},
   "outputs": [],
   "source": [
    "#| export\n",
    "@patch\n",
    "def __call__(cls:SoupCon,\n",
    "             inp:torch.FloatTensor,\n",
    "             targ:torch.LongTensor,\n",
    "             n_inp2targ:torch.LongTensor, \n",
    "             **kwargs):\n",
    "    bsz = inp.shape[0]\n",
    "    t = torch.arange(bsz, dtype=torch.int64, device=inp.device) if cls.t is None or cls.bsz < bsz else cls.t[:bsz]\n",
    "    targ2inp_ptr = t.repeat_interleave(n_inp2targ)\n",
    "    s = -F.log_softmax(targ@inp.T, dim=0)\n",
    "    ps = s.gather(1, targ2inp_ptr.unsqueeze(1)).squeeze(1)\n",
    "    if cls.reduce == 'mean':\n",
    "        ps /= n_inp2targ.repeat_interleave(n_inp2targ)\n",
    "        ps /= bsz\n",
    "        return ps.sum()\n",
    "    elif cls.reduce == 'sum': return ps.sum()\n",
    "    else: raise ValueError(f'`reduction` cannot be `{cls.reduction}`')\n",
    "        "
   ]
  },
  {
   "cell_type": "code",
   "execution_count": null,
   "id": "a286e0ea-d88e-4334-8200-82da4586f581",
   "metadata": {},
   "outputs": [
    {
     "name": "stdout",
     "output_type": "stream",
     "text": [
      "tensor(13.0039, device='cuda:0', grad_fn=<SumBackward0>)\n"
     ]
    },
    {
     "name": "stderr",
     "output_type": "stream",
     "text": [
      "STAGE:2024-04-14 01:53:44 12684:12684 ActivityProfilerController.cpp:314] Completed Stage: Warm Up\n",
      "STAGE:2024-04-14 01:53:44 12684:12684 ActivityProfilerController.cpp:320] Completed Stage: Collection\n",
      "STAGE:2024-04-14 01:53:44 12684:12684 ActivityProfilerController.cpp:324] Completed Stage: Post Processing\n"
     ]
    }
   ],
   "source": [
    "with profiler.profile(with_stack=True, profile_memory=True) as prof:\n",
    "    loss = scn_fn(data_repr, lbl2data_repr, lbl2data_data2ptr)\n",
    "    print(loss)"
   ]
  },
  {
   "cell_type": "code",
   "execution_count": null,
   "id": "d901b35b-a7ba-466d-bd67-46f161c71e46",
   "metadata": {},
   "outputs": [
    {
     "name": "stdout",
     "output_type": "stream",
     "text": [
      "-------------------------------------------------------  ------------  ------------  ------------  ------------  ------------  ------------  ------------  ------------  ------------  ------------  \n",
      "                                                   Name    Self CPU %      Self CPU   CPU total %     CPU total  CPU time avg       CPU Mem  Self CPU Mem      CUDA Mem  Self CUDA Mem    # of Calls  \n",
      "-------------------------------------------------------  ------------  ------------  ------------  ------------  ------------  ------------  ------------  ------------  ------------  ------------  \n",
      "                                            aten::slice         0.90%      22.000us         1.18%      29.000us      29.000us           0 b           0 b           0 b           0 b             1  \n",
      "                                       aten::as_strided         0.29%       7.000us         0.29%       7.000us       7.000us           0 b           0 b           0 b           0 b             1  \n",
      "                                aten::repeat_interleave         0.73%      18.000us        17.10%     419.000us     419.000us           0 b           0 b       8.50 Kb      -8.50 Kb             1  \n",
      "                                          aten::flatten         0.00%       0.000us         0.00%       0.000us       0.000us           0 b           0 b           0 b           0 b             1  \n",
      "                                aten::repeat_interleave         1.84%      45.000us        14.44%     354.000us     354.000us           0 b           0 b       8.50 Kb      -5.00 Kb             1  \n",
      "                                           aten::cumsum         2.90%      71.000us         4.90%     120.000us     120.000us           0 b           0 b       4.00 Kb       4.00 Kb             1  \n",
      "                                               aten::to         0.04%       1.000us         0.04%       1.000us       1.000us           0 b           0 b           0 b           0 b             1  \n",
      "                                       cudaLaunchKernel         1.47%      36.000us         1.47%      36.000us      36.000us           0 b           0 b           0 b           0 b             1  \n",
      "                                    cudaPeekAtLastError         0.00%       0.000us         0.00%       0.000us       0.000us           0 b           0 b           0 b           0 b             1  \n",
      "                                    cudaPeekAtLastError         0.00%       0.000us         0.00%       0.000us       0.000us           0 b           0 b           0 b           0 b             1  \n",
      "cudaOccupancyMaxActiveBlocksPerMultiprocessorWithFla...         0.12%       3.000us         0.12%       3.000us       3.000us           0 b           0 b           0 b           0 b             1  \n",
      "                                 cudaDeviceGetAttribute         0.08%       2.000us         0.08%       2.000us       2.000us           0 b           0 b           0 b           0 b             1  \n",
      "                                       cudaLaunchKernel         0.29%       7.000us         0.29%       7.000us       7.000us           0 b           0 b           0 b           0 b             1  \n",
      "                                    cudaPeekAtLastError         0.00%       0.000us         0.00%       0.000us       0.000us           0 b           0 b           0 b           0 b             1  \n",
      "                                    cudaPeekAtLastError         0.00%       0.000us         0.00%       0.000us       0.000us           0 b           0 b           0 b           0 b             1  \n",
      "                                           aten::select         0.41%      10.000us         0.45%      11.000us      11.000us           0 b           0 b           0 b           0 b             1  \n",
      "                                       aten::as_strided         0.04%       1.000us         0.04%       1.000us       1.000us           0 b           0 b           0 b           0 b             1  \n",
      "                                             aten::item         0.12%       3.000us         2.28%      56.000us      56.000us           0 b           0 b           0 b           0 b             1  \n",
      "                              aten::_local_scalar_dense         0.33%       8.000us         2.16%      53.000us      53.000us           0 b           0 b           0 b           0 b             1  \n",
      "                                        cudaMemcpyAsync         1.59%      39.000us         1.59%      39.000us      39.000us           0 b           0 b           0 b           0 b             1  \n",
      "                                  cudaStreamSynchronize         0.24%       6.000us         0.24%       6.000us       6.000us           0 b           0 b           0 b           0 b             1  \n",
      "                                               aten::ge         1.67%      41.000us         1.96%      48.000us      48.000us           0 b           0 b         512 b         512 b             1  \n",
      "                                       cudaLaunchKernel         0.29%       7.000us         0.29%       7.000us       7.000us           0 b           0 b           0 b           0 b             1  \n",
      "                                              aten::all         1.18%      29.000us         1.47%      36.000us      36.000us           0 b           0 b         512 b         512 b             1  \n",
      "                                       aten::as_strided         0.00%       0.000us         0.00%       0.000us       0.000us           0 b           0 b           0 b           0 b             1  \n",
      "                                       cudaLaunchKernel         0.29%       7.000us         0.29%       7.000us       7.000us           0 b           0 b           0 b           0 b             1  \n",
      "                                             aten::item         0.04%       1.000us         0.94%      23.000us      23.000us           0 b           0 b           0 b           0 b             1  \n",
      "                              aten::_local_scalar_dense         0.24%       6.000us         0.90%      22.000us      22.000us           0 b           0 b           0 b           0 b             1  \n",
      "                                        cudaMemcpyAsync         0.57%      14.000us         0.57%      14.000us      14.000us           0 b           0 b           0 b           0 b             1  \n",
      "                                  cudaStreamSynchronize         0.08%       2.000us         0.08%       2.000us       2.000us           0 b           0 b           0 b           0 b             1  \n",
      "                                            aten::empty         0.37%       9.000us         0.37%       9.000us       9.000us           0 b           0 b       8.50 Kb       8.50 Kb             1  \n",
      "                                       cudaLaunchKernel         0.24%       6.000us         0.24%       6.000us       6.000us           0 b           0 b           0 b           0 b             1  \n",
      "                                     aten::index_select         1.14%      28.000us         1.92%      47.000us      47.000us           0 b           0 b       8.50 Kb           0 b             1  \n",
      "                                            aten::empty         0.16%       4.000us         0.16%       4.000us       4.000us           0 b           0 b           0 b           0 b             1  \n",
      "                                          aten::resize_         0.33%       8.000us         0.33%       8.000us       8.000us           0 b           0 b       8.50 Kb       8.50 Kb             1  \n",
      "                                       cudaLaunchKernel         0.29%       7.000us         0.29%       7.000us       7.000us           0 b           0 b           0 b           0 b             1  \n",
      "                                          aten::numpy_T         0.12%       3.000us         0.86%      21.000us      21.000us           0 b           0 b           0 b           0 b             1  \n",
      "                                          aten::permute         0.65%      16.000us         0.73%      18.000us      18.000us           0 b           0 b           0 b           0 b             1  \n",
      "                                       aten::as_strided         0.08%       2.000us         0.08%       2.000us       2.000us           0 b           0 b           0 b           0 b             1  \n",
      "                                           aten::matmul         0.24%       6.000us         3.92%      96.000us      96.000us           0 b           0 b       2.21 Mb           0 b             1  \n",
      "                                               aten::mm         2.82%      69.000us         3.67%      90.000us      90.000us           0 b           0 b       2.21 Mb       2.21 Mb             1  \n",
      "                                        cudaMemsetAsync         0.45%      11.000us         0.45%      11.000us      11.000us           0 b           0 b           0 b           0 b             1  \n",
      "          cudaOccupancyMaxActiveBlocksPerMultiprocessor         0.08%       2.000us         0.08%       2.000us       2.000us           0 b           0 b           0 b           0 b             1  \n",
      "                                       cudaLaunchKernel         0.33%       8.000us         0.33%       8.000us       8.000us           0 b           0 b           0 b           0 b             1  \n",
      "                                      aten::log_softmax         0.24%       6.000us         2.00%      49.000us      49.000us           0 b           0 b       2.12 Mb           0 b             1  \n",
      "                                     aten::_log_softmax         1.35%      33.000us         1.75%      43.000us      43.000us           0 b           0 b       2.12 Mb       2.12 Mb             1  \n",
      "cudaOccupancyMaxActiveBlocksPerMultiprocessorWithFla...         0.08%       2.000us         0.08%       2.000us       2.000us           0 b           0 b           0 b           0 b             1  \n",
      "                                       cudaLaunchKernel         0.33%       8.000us         0.33%       8.000us       8.000us           0 b           0 b           0 b           0 b             1  \n",
      "                                               [memory]         0.00%       0.000us         0.00%       0.000us       0.000us           0 b           0 b      -2.21 Mb      -2.21 Mb             1  \n",
      "                                              aten::neg         0.90%      22.000us         1.22%      30.000us      30.000us           0 b           0 b       2.21 Mb       2.21 Mb             1  \n",
      "                                       cudaLaunchKernel         0.33%       8.000us         0.33%       8.000us       8.000us           0 b           0 b           0 b           0 b             1  \n",
      "                                        aten::unsqueeze         0.29%       7.000us         0.33%       8.000us       8.000us           0 b           0 b           0 b           0 b             1  \n",
      "                                       aten::as_strided         0.04%       1.000us         0.04%       1.000us       1.000us           0 b           0 b           0 b           0 b             1  \n",
      "                                           aten::gather         1.35%      33.000us         1.67%      41.000us      41.000us           0 b           0 b       4.50 Kb       4.50 Kb             1  \n",
      "                                       aten::as_strided         0.00%       0.000us         0.00%       0.000us       0.000us           0 b           0 b           0 b           0 b             1  \n",
      "                                       aten::as_strided         0.04%       1.000us         0.04%       1.000us       1.000us           0 b           0 b           0 b           0 b             1  \n",
      "                                       cudaLaunchKernel         0.29%       7.000us         0.29%       7.000us       7.000us           0 b           0 b           0 b           0 b             1  \n",
      "                                          aten::squeeze         0.37%       9.000us         0.37%       9.000us       9.000us           0 b           0 b           0 b           0 b             1  \n",
      "                                       aten::as_strided         0.00%       0.000us         0.00%       0.000us       0.000us           0 b           0 b           0 b           0 b             1  \n",
      "                                aten::repeat_interleave         0.65%      16.000us        31.33%     768.000us     768.000us           0 b           0 b       8.50 Kb      -8.50 Kb             1  \n",
      "                                          aten::flatten         0.00%       0.000us         0.00%       0.000us       0.000us           0 b           0 b           0 b           0 b             1  \n",
      "                                aten::repeat_interleave         1.47%      36.000us        28.68%     703.000us     703.000us           0 b           0 b       8.50 Kb      -5.00 Kb             1  \n",
      "                                           aten::cumsum         1.43%      35.000us         2.00%      49.000us      49.000us           0 b           0 b       4.00 Kb       4.00 Kb             1  \n",
      "                                               aten::to         0.00%       0.000us         0.00%       0.000us       0.000us           0 b           0 b           0 b           0 b             1  \n",
      "                                       cudaLaunchKernel         0.24%       6.000us         0.24%       6.000us       6.000us           0 b           0 b           0 b           0 b             1  \n",
      "                                    cudaPeekAtLastError         0.00%       0.000us         0.00%       0.000us       0.000us           0 b           0 b           0 b           0 b             1  \n",
      "                                    cudaPeekAtLastError         0.00%       0.000us         0.00%       0.000us       0.000us           0 b           0 b           0 b           0 b             1  \n",
      "cudaOccupancyMaxActiveBlocksPerMultiprocessorWithFla...         0.04%       1.000us         0.04%       1.000us       1.000us           0 b           0 b           0 b           0 b             1  \n",
      "                                 cudaDeviceGetAttribute         0.04%       1.000us         0.04%       1.000us       1.000us           0 b           0 b           0 b           0 b             1  \n",
      "                                       cudaLaunchKernel         0.24%       6.000us         0.24%       6.000us       6.000us           0 b           0 b           0 b           0 b             1  \n",
      "                                    cudaPeekAtLastError         0.00%       0.000us         0.00%       0.000us       0.000us           0 b           0 b           0 b           0 b             1  \n",
      "                                    cudaPeekAtLastError         0.00%       0.000us         0.00%       0.000us       0.000us           0 b           0 b           0 b           0 b             1  \n",
      "                                           aten::select         0.16%       4.000us         0.20%       5.000us       5.000us           0 b           0 b           0 b           0 b             1  \n",
      "                                       aten::as_strided         0.04%       1.000us         0.04%       1.000us       1.000us           0 b           0 b           0 b           0 b             1  \n",
      "                                             aten::item         0.08%       2.000us        21.09%     517.000us     517.000us           0 b           0 b           0 b           0 b             1  \n",
      "                              aten::_local_scalar_dense         0.20%       5.000us        21.01%     515.000us     515.000us           0 b           0 b           0 b           0 b             1  \n",
      "                                        cudaMemcpyAsync        20.64%     506.000us        20.64%     506.000us     506.000us           0 b           0 b           0 b           0 b             1  \n",
      "                                  cudaStreamSynchronize         0.16%       4.000us         0.16%       4.000us       4.000us           0 b           0 b           0 b           0 b             1  \n",
      "                                               aten::ge         0.94%      23.000us         1.22%      30.000us      30.000us           0 b           0 b         512 b         512 b             1  \n",
      "                                       cudaLaunchKernel         0.29%       7.000us         0.29%       7.000us       7.000us           0 b           0 b           0 b           0 b             1  \n",
      "                                              aten::all         0.98%      24.000us         1.22%      30.000us      30.000us           0 b           0 b         512 b         512 b             1  \n",
      "                                       aten::as_strided         0.00%       0.000us         0.00%       0.000us       0.000us           0 b           0 b           0 b           0 b             1  \n",
      "                                       cudaLaunchKernel         0.24%       6.000us         0.24%       6.000us       6.000us           0 b           0 b           0 b           0 b             1  \n",
      "                                             aten::item         0.08%       2.000us         0.94%      23.000us      23.000us           0 b           0 b           0 b           0 b             1  \n",
      "                              aten::_local_scalar_dense         0.16%       4.000us         0.86%      21.000us      21.000us           0 b           0 b           0 b           0 b             1  \n",
      "                                        cudaMemcpyAsync         0.61%      15.000us         0.61%      15.000us      15.000us           0 b           0 b           0 b           0 b             1  \n",
      "                                  cudaStreamSynchronize         0.08%       2.000us         0.08%       2.000us       2.000us           0 b           0 b           0 b           0 b             1  \n",
      "                                            aten::empty         0.29%       7.000us         0.29%       7.000us       7.000us           0 b           0 b       8.50 Kb       8.50 Kb             1  \n",
      "                                       cudaLaunchKernel         0.24%       6.000us         0.24%       6.000us       6.000us           0 b           0 b           0 b           0 b             1  \n",
      "                                     aten::index_select         0.78%      19.000us         2.00%      49.000us      49.000us           0 b           0 b       8.50 Kb           0 b             1  \n",
      "                                            aten::empty         0.16%       4.000us         0.16%       4.000us       4.000us           0 b           0 b           0 b           0 b             1  \n",
      "                                          aten::resize_         0.78%      19.000us         0.78%      19.000us      19.000us           0 b           0 b       8.50 Kb       8.50 Kb             1  \n",
      "                                       cudaLaunchKernel         0.29%       7.000us         0.29%       7.000us       7.000us           0 b           0 b           0 b           0 b             1  \n",
      "                                             aten::div_         2.53%      62.000us         2.77%      68.000us      68.000us           0 b           0 b           0 b           0 b             1  \n",
      "                                       cudaLaunchKernel         0.24%       6.000us         0.24%       6.000us       6.000us           0 b           0 b           0 b           0 b             1  \n",
      "                                               [memory]         0.00%       0.000us         0.00%       0.000us       0.000us           8 b           8 b           0 b           0 b             1  \n",
      "                                             aten::div_         0.86%      21.000us         1.10%      27.000us      27.000us           0 b           0 b           0 b           0 b             1  \n",
      "                                       cudaLaunchKernel         0.24%       6.000us         0.24%       6.000us       6.000us           0 b           0 b           0 b           0 b             1  \n",
      "                                              aten::sum         1.35%      33.000us         1.67%      41.000us      41.000us           0 b           0 b         512 b         512 b             1  \n",
      "                                       aten::as_strided         0.04%       1.000us         0.04%       1.000us       1.000us           0 b           0 b           0 b           0 b             1  \n",
      "-------------------------------------------------------  ------------  ------------  ------------  ------------  ------------  ------------  ------------  ------------  ------------  ------------  \n",
      "Self CPU time total: 2.451ms\n",
      "\n"
     ]
    }
   ],
   "source": [
    "print(prof)"
   ]
  },
  {
   "cell_type": "code",
   "execution_count": null,
   "id": "2f364910-e0ab-44ea-b1f2-e55e7332d4ac",
   "metadata": {},
   "outputs": [],
   "source": [
    "@patch\n",
    "def __call__(cls:SoupCon, \n",
    "             inp:torch.FloatTensor, \n",
    "             targ:torch.LongTensor, \n",
    "             n_inp2targ:torch.LongTensor, \n",
    "             **kwargs):\n",
    "    bsz = inp.shape[0]\n",
    "    s = -F.log_softmax(inp@targ.T, dim=1)\n",
    "    ptr, loss = 0, []\n",
    "    for i,n in zip(s, n_inp2targ):\n",
    "        ps = i[ptr:ptr+n]\n",
    "        ptr += n\n",
    "        if cls.reduce == 'mean': ps = ps/n\n",
    "        loss.append(ps)\n",
    "    loss = torch.hstack(loss)\n",
    "    if cls.reduce == 'mean': return (loss/bsz).sum()\n",
    "    elif cls.reduce == 'sum': return loss.sum()\n",
    "    else: raise ValueError(f'`reduction` cannot be `{cls.reduction}`')\n",
    "        "
   ]
  },
  {
   "cell_type": "code",
   "execution_count": null,
   "id": "3580b6cf-0270-40e6-bbb2-d6a52bd65691",
   "metadata": {},
   "outputs": [
    {
     "name": "stderr",
     "output_type": "stream",
     "text": [
      "STAGE:2024-04-14 01:54:12 12684:12684 ActivityProfilerController.cpp:314] Completed Stage: Warm Up\n",
      "STAGE:2024-04-14 01:54:12 12684:12684 ActivityProfilerController.cpp:320] Completed Stage: Collection\n",
      "STAGE:2024-04-14 01:54:12 12684:12684 ActivityProfilerController.cpp:324] Completed Stage: Post Processing\n"
     ]
    },
    {
     "name": "stdout",
     "output_type": "stream",
     "text": [
      "tensor(13.0039, device='cuda:0', grad_fn=<SumBackward0>)\n"
     ]
    }
   ],
   "source": [
    "with profiler.profile(with_stack=True, profile_memory=True) as prof:\n",
    "    loss = scn_fn(data_repr, lbl2data_repr, lbl2data_data2ptr)\n",
    "    print(loss)"
   ]
  },
  {
   "cell_type": "code",
   "execution_count": null,
   "id": "c3e13a4b-6055-48be-9da7-48f79171d2a7",
   "metadata": {},
   "outputs": [
    {
     "name": "stdout",
     "output_type": "stream",
     "text": [
      "-----------------------------  ------------  ------------  ------------  ------------  ------------  ------------  ------------  ------------  ------------  ------------  \n",
      "                         Name    Self CPU %      Self CPU   CPU total %     CPU total  CPU time avg       CPU Mem  Self CPU Mem      CUDA Mem  Self CUDA Mem    # of Calls  \n",
      "-----------------------------  ------------  ------------  ------------  ------------  ------------  ------------  ------------  ------------  ------------  ------------  \n",
      "                aten::numpy_T         0.02%      10.000us         0.11%      59.000us      59.000us           0 b           0 b           0 b           0 b             1  \n",
      "                aten::permute         0.07%      40.000us         0.09%      49.000us      49.000us           0 b           0 b           0 b           0 b             1  \n",
      "             aten::as_strided         0.02%       9.000us         0.02%       9.000us       9.000us           0 b           0 b           0 b           0 b             1  \n",
      "                 aten::matmul         0.03%      14.000us         1.52%     843.000us     843.000us           0 b           0 b       2.12 Mb           0 b             1  \n",
      "                     aten::mm         1.33%     738.000us         1.49%     829.000us     829.000us           0 b           0 b       2.12 Mb       2.12 Mb             1  \n",
      "              cudaMemsetAsync         0.09%      52.000us         0.09%      52.000us      52.000us           0 b           0 b           0 b           0 b             1  \n",
      "             cudaLaunchKernel         0.07%      39.000us         0.07%      39.000us      39.000us           0 b           0 b           0 b           0 b             1  \n",
      "            aten::log_softmax         0.02%      11.000us         0.12%      65.000us      65.000us           0 b           0 b       2.12 Mb           0 b             1  \n",
      "           aten::_log_softmax         0.07%      41.000us         0.10%      54.000us      54.000us           0 b           0 b       2.12 Mb       2.12 Mb             1  \n",
      "             cudaLaunchKernel         0.02%      13.000us         0.02%      13.000us      13.000us           0 b           0 b           0 b           0 b             1  \n",
      "                     [memory]         0.00%       0.000us         0.00%       0.000us       0.000us           0 b           0 b      -2.12 Mb      -2.12 Mb             1  \n",
      "                    aten::neg         0.06%      34.000us         0.08%      42.000us      42.000us           0 b           0 b       2.12 Mb       2.12 Mb             1  \n",
      "             cudaLaunchKernel         0.01%       8.000us         0.01%       8.000us       8.000us           0 b           0 b           0 b           0 b             1  \n",
      "                 aten::unbind         1.95%       1.081ms         3.04%       1.688ms       1.688ms           0 b           0 b           0 b           0 b             1  \n",
      "                 aten::select         0.02%      13.000us         0.03%      15.000us      15.000us           0 b           0 b           0 b           0 b             1  \n",
      "             aten::as_strided         0.00%       2.000us         0.00%       2.000us       2.000us           0 b           0 b           0 b           0 b             1  \n",
      "                 aten::select         0.00%       1.000us         0.00%       1.000us       1.000us           0 b           0 b           0 b           0 b             1  \n",
      "             aten::as_strided         0.00%       0.000us         0.00%       0.000us       0.000us           0 b           0 b           0 b           0 b             1  \n",
      "                 aten::select         0.00%       2.000us         0.00%       2.000us       2.000us           0 b           0 b           0 b           0 b             1  \n",
      "             aten::as_strided         0.00%       0.000us         0.00%       0.000us       0.000us           0 b           0 b           0 b           0 b             1  \n",
      "                 aten::select         0.00%       1.000us         0.00%       1.000us       1.000us           0 b           0 b           0 b           0 b             1  \n",
      "             aten::as_strided         0.00%       0.000us         0.00%       0.000us       0.000us           0 b           0 b           0 b           0 b             1  \n",
      "                 aten::select         0.00%       1.000us         0.00%       1.000us       1.000us           0 b           0 b           0 b           0 b             1  \n",
      "             aten::as_strided         0.00%       0.000us         0.00%       0.000us       0.000us           0 b           0 b           0 b           0 b             1  \n",
      "                 aten::select         0.00%       1.000us         0.00%       1.000us       1.000us           0 b           0 b           0 b           0 b             1  \n",
      "             aten::as_strided         0.00%       0.000us         0.00%       0.000us       0.000us           0 b           0 b           0 b           0 b             1  \n",
      "                 aten::select         0.00%       1.000us         0.00%       1.000us       1.000us           0 b           0 b           0 b           0 b             1  \n",
      "             aten::as_strided         0.00%       0.000us         0.00%       0.000us       0.000us           0 b           0 b           0 b           0 b             1  \n",
      "                 aten::select         0.00%       1.000us         0.00%       1.000us       1.000us           0 b           0 b           0 b           0 b             1  \n",
      "             aten::as_strided         0.00%       0.000us         0.00%       0.000us       0.000us           0 b           0 b           0 b           0 b             1  \n",
      "                 aten::select         0.00%       1.000us         0.00%       1.000us       1.000us           0 b           0 b           0 b           0 b             1  \n",
      "             aten::as_strided         0.00%       0.000us         0.00%       0.000us       0.000us           0 b           0 b           0 b           0 b             1  \n",
      "                 aten::select         0.00%       1.000us         0.00%       1.000us       1.000us           0 b           0 b           0 b           0 b             1  \n",
      "             aten::as_strided         0.00%       0.000us         0.00%       0.000us       0.000us           0 b           0 b           0 b           0 b             1  \n",
      "                 aten::select         0.00%       2.000us         0.00%       2.000us       2.000us           0 b           0 b           0 b           0 b             1  \n",
      "             aten::as_strided         0.00%       0.000us         0.00%       0.000us       0.000us           0 b           0 b           0 b           0 b             1  \n",
      "                 aten::select         0.00%       1.000us         0.00%       1.000us       1.000us           0 b           0 b           0 b           0 b             1  \n",
      "             aten::as_strided         0.00%       0.000us         0.00%       0.000us       0.000us           0 b           0 b           0 b           0 b             1  \n",
      "                 aten::select         0.00%       1.000us         0.00%       1.000us       1.000us           0 b           0 b           0 b           0 b             1  \n",
      "             aten::as_strided         0.00%       0.000us         0.00%       0.000us       0.000us           0 b           0 b           0 b           0 b             1  \n",
      "                 aten::select         0.00%       1.000us         0.00%       1.000us       1.000us           0 b           0 b           0 b           0 b             1  \n",
      "             aten::as_strided         0.00%       0.000us         0.00%       0.000us       0.000us           0 b           0 b           0 b           0 b             1  \n",
      "                 aten::select         0.00%       1.000us         0.00%       1.000us       1.000us           0 b           0 b           0 b           0 b             1  \n",
      "             aten::as_strided         0.00%       0.000us         0.00%       0.000us       0.000us           0 b           0 b           0 b           0 b             1  \n",
      "                 aten::select         0.00%       1.000us         0.00%       1.000us       1.000us           0 b           0 b           0 b           0 b             1  \n",
      "             aten::as_strided         0.00%       0.000us         0.00%       0.000us       0.000us           0 b           0 b           0 b           0 b             1  \n",
      "                 aten::select         0.00%       1.000us         0.00%       1.000us       1.000us           0 b           0 b           0 b           0 b             1  \n",
      "             aten::as_strided         0.00%       0.000us         0.00%       0.000us       0.000us           0 b           0 b           0 b           0 b             1  \n",
      "                 aten::select         0.00%       1.000us         0.00%       1.000us       1.000us           0 b           0 b           0 b           0 b             1  \n",
      "             aten::as_strided         0.00%       0.000us         0.00%       0.000us       0.000us           0 b           0 b           0 b           0 b             1  \n",
      "                 aten::select         0.00%       1.000us         0.00%       1.000us       1.000us           0 b           0 b           0 b           0 b             1  \n",
      "             aten::as_strided         0.00%       0.000us         0.00%       0.000us       0.000us           0 b           0 b           0 b           0 b             1  \n",
      "                 aten::select         0.00%       2.000us         0.00%       2.000us       2.000us           0 b           0 b           0 b           0 b             1  \n",
      "             aten::as_strided         0.00%       0.000us         0.00%       0.000us       0.000us           0 b           0 b           0 b           0 b             1  \n",
      "                 aten::select         0.00%       2.000us         0.00%       2.000us       2.000us           0 b           0 b           0 b           0 b             1  \n",
      "             aten::as_strided         0.00%       0.000us         0.00%       0.000us       0.000us           0 b           0 b           0 b           0 b             1  \n",
      "                 aten::select         0.00%       2.000us         0.00%       2.000us       2.000us           0 b           0 b           0 b           0 b             1  \n",
      "             aten::as_strided         0.00%       0.000us         0.00%       0.000us       0.000us           0 b           0 b           0 b           0 b             1  \n",
      "                 aten::select         0.00%       2.000us         0.00%       2.000us       2.000us           0 b           0 b           0 b           0 b             1  \n",
      "             aten::as_strided         0.00%       0.000us         0.00%       0.000us       0.000us           0 b           0 b           0 b           0 b             1  \n",
      "                 aten::select         0.00%       1.000us         0.00%       1.000us       1.000us           0 b           0 b           0 b           0 b             1  \n",
      "             aten::as_strided         0.00%       0.000us         0.00%       0.000us       0.000us           0 b           0 b           0 b           0 b             1  \n",
      "                 aten::select         0.00%       1.000us         0.00%       1.000us       1.000us           0 b           0 b           0 b           0 b             1  \n",
      "             aten::as_strided         0.00%       0.000us         0.00%       0.000us       0.000us           0 b           0 b           0 b           0 b             1  \n",
      "                 aten::select         0.00%       1.000us         0.00%       2.000us       2.000us           0 b           0 b           0 b           0 b             1  \n",
      "             aten::as_strided         0.00%       1.000us         0.00%       1.000us       1.000us           0 b           0 b           0 b           0 b             1  \n",
      "                 aten::select         0.00%       1.000us         0.00%       1.000us       1.000us           0 b           0 b           0 b           0 b             1  \n",
      "             aten::as_strided         0.00%       0.000us         0.00%       0.000us       0.000us           0 b           0 b           0 b           0 b             1  \n",
      "                 aten::select         0.00%       1.000us         0.00%       1.000us       1.000us           0 b           0 b           0 b           0 b             1  \n",
      "             aten::as_strided         0.00%       0.000us         0.00%       0.000us       0.000us           0 b           0 b           0 b           0 b             1  \n",
      "                 aten::select         0.00%       1.000us         0.00%       1.000us       1.000us           0 b           0 b           0 b           0 b             1  \n",
      "             aten::as_strided         0.00%       0.000us         0.00%       0.000us       0.000us           0 b           0 b           0 b           0 b             1  \n",
      "                 aten::select         0.00%       1.000us         0.00%       1.000us       1.000us           0 b           0 b           0 b           0 b             1  \n",
      "             aten::as_strided         0.00%       0.000us         0.00%       0.000us       0.000us           0 b           0 b           0 b           0 b             1  \n",
      "                 aten::select         0.00%       2.000us         0.00%       2.000us       2.000us           0 b           0 b           0 b           0 b             1  \n",
      "             aten::as_strided         0.00%       0.000us         0.00%       0.000us       0.000us           0 b           0 b           0 b           0 b             1  \n",
      "                 aten::select         0.00%       1.000us         0.00%       1.000us       1.000us           0 b           0 b           0 b           0 b             1  \n",
      "             aten::as_strided         0.00%       0.000us         0.00%       0.000us       0.000us           0 b           0 b           0 b           0 b             1  \n",
      "                 aten::select         0.00%       1.000us         0.00%       1.000us       1.000us           0 b           0 b           0 b           0 b             1  \n",
      "             aten::as_strided         0.00%       0.000us         0.00%       0.000us       0.000us           0 b           0 b           0 b           0 b             1  \n",
      "                 aten::select         0.00%       2.000us         0.00%       2.000us       2.000us           0 b           0 b           0 b           0 b             1  \n",
      "             aten::as_strided         0.00%       0.000us         0.00%       0.000us       0.000us           0 b           0 b           0 b           0 b             1  \n",
      "                 aten::select         0.00%       1.000us         0.00%       1.000us       1.000us           0 b           0 b           0 b           0 b             1  \n",
      "             aten::as_strided         0.00%       0.000us         0.00%       0.000us       0.000us           0 b           0 b           0 b           0 b             1  \n",
      "                 aten::select         0.00%       1.000us         0.00%       1.000us       1.000us           0 b           0 b           0 b           0 b             1  \n",
      "             aten::as_strided         0.00%       0.000us         0.00%       0.000us       0.000us           0 b           0 b           0 b           0 b             1  \n",
      "                 aten::select         0.00%       1.000us         0.00%       1.000us       1.000us           0 b           0 b           0 b           0 b             1  \n",
      "             aten::as_strided         0.00%       0.000us         0.00%       0.000us       0.000us           0 b           0 b           0 b           0 b             1  \n",
      "                 aten::select         0.00%       1.000us         0.00%       1.000us       1.000us           0 b           0 b           0 b           0 b             1  \n",
      "             aten::as_strided         0.00%       0.000us         0.00%       0.000us       0.000us           0 b           0 b           0 b           0 b             1  \n",
      "                 aten::select         0.00%       1.000us         0.00%       1.000us       1.000us           0 b           0 b           0 b           0 b             1  \n",
      "             aten::as_strided         0.00%       0.000us         0.00%       0.000us       0.000us           0 b           0 b           0 b           0 b             1  \n",
      "                 aten::select         0.00%       1.000us         0.00%       1.000us       1.000us           0 b           0 b           0 b           0 b             1  \n",
      "             aten::as_strided         0.00%       0.000us         0.00%       0.000us       0.000us           0 b           0 b           0 b           0 b             1  \n",
      "                 aten::select         0.00%       1.000us         0.00%       1.000us       1.000us           0 b           0 b           0 b           0 b             1  \n",
      "             aten::as_strided         0.00%       0.000us         0.00%       0.000us       0.000us           0 b           0 b           0 b           0 b             1  \n",
      "                 aten::select         0.00%       1.000us         0.00%       1.000us       1.000us           0 b           0 b           0 b           0 b             1  \n",
      "             aten::as_strided         0.00%       0.000us         0.00%       0.000us       0.000us           0 b           0 b           0 b           0 b             1  \n",
      "                 aten::select         0.00%       1.000us         0.00%       1.000us       1.000us           0 b           0 b           0 b           0 b             1  \n",
      "             aten::as_strided         0.00%       0.000us         0.00%       0.000us       0.000us           0 b           0 b           0 b           0 b             1  \n",
      "-----------------------------  ------------  ------------  ------------  ------------  ------------  ------------  ------------  ------------  ------------  ------------  \n",
      "Self CPU time total: 55.565ms\n",
      "\n"
     ]
    }
   ],
   "source": [
    "print(prof)"
   ]
  },
  {
   "cell_type": "code",
   "execution_count": null,
   "id": "fbcc8eb6-030f-4ace-9340-245fc2203bee",
   "metadata": {},
   "outputs": [],
   "source": []
  }
 ],
 "metadata": {
  "kernelspec": {
   "display_name": "python3",
   "language": "python",
   "name": "python3"
  }
 },
 "nbformat": 4,
 "nbformat_minor": 5
}
