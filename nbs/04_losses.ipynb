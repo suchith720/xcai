{
 "cells": [
  {
   "cell_type": "markdown",
   "id": "8c57c5ab-ae84-44fb-9670-83bc3992948d",
   "metadata": {},
   "source": [
    "# Losses"
   ]
  },
  {
   "cell_type": "code",
   "execution_count": 1,
   "id": "960f1223-5f09-451b-ad24-487123d97b0d",
   "metadata": {},
   "outputs": [],
   "source": [
    "#| default_exp losses"
   ]
  },
  {
   "cell_type": "code",
   "execution_count": 2,
   "id": "196b5aa3-325a-440d-9a03-db8eed2bb236",
   "metadata": {},
   "outputs": [],
   "source": [
    "#| hide\n",
    "%load_ext autoreload\n",
    "%autoreload 2"
   ]
  },
  {
   "cell_type": "code",
   "execution_count": 3,
   "id": "ef0b49ad-f819-4fb2-a8f0-c47a613be6fe",
   "metadata": {},
   "outputs": [],
   "source": [
    "#| export\n",
    "import functools, torch, torch.nn as nn, torch.nn.functional as F, pickle\n",
    "from typing import MutableSequence, Union\n",
    "\n",
    "from fastcore.utils import *\n",
    "from fastcore.meta import *\n",
    "\n",
    "from xcai.torch_core import *\n",
    "from xcai.core import *"
   ]
  },
  {
   "cell_type": "code",
   "execution_count": 4,
   "id": "77292218-e5bc-482f-b53e-8df0ff819ff2",
   "metadata": {},
   "outputs": [],
   "source": [
    "#| hide\n",
    "from nbdev.showdoc import *\n",
    "import nbdev; nbdev.nbdev_export()"
   ]
  },
  {
   "cell_type": "markdown",
   "id": "b27c3e88-0c88-41f8-a15a-c2b7f6dcf432",
   "metadata": {
    "jp-MarkdownHeadingCollapsed": true
   },
   "source": [
    "## Setup"
   ]
  },
  {
   "cell_type": "code",
   "execution_count": 5,
   "id": "0fd7b96e-bd79-4abd-ae1b-d5ce33699ee9",
   "metadata": {},
   "outputs": [],
   "source": [
    "import pickle, torch.autograd.profiler as profiler\n",
    "from xcai.block import *\n",
    "from xcai.models.MMM0XX import *\n",
    "from xcai.main import *"
   ]
  },
  {
   "cell_type": "code",
   "execution_count": 6,
   "id": "da2fd26f",
   "metadata": {},
   "outputs": [],
   "source": [
    "data_dir = '/home/scai/phd/aiz218323/scratch/datasets/benchmarks/'\n",
    "config_file = 'wikiseealsotitles'\n",
    "config_key = 'data_meta'\n",
    "\n",
    "mname = 'sentence-transformers/msmarco-distilbert-base-v4'\n",
    "\n",
    "pkl_dir = '/scratch/scai/phd/aiz218323/datasets/processed/'\n",
    "pkl_file = f'{pkl_dir}/mogicX/wikiseealsotitles_data-meta_distilbert-base-uncased_sxc.joblib'"
   ]
  },
  {
   "cell_type": "code",
   "execution_count": 8,
   "id": "f0913313-aa02-45d9-aaf2-fc4372582d74",
   "metadata": {
    "scrolled": true
   },
   "outputs": [
    {
     "name": "stderr",
     "output_type": "stream",
     "text": [
      "/home/scai/phd/aiz218323/.local/lib/python3.10/site-packages/xclib-0.97-py3.10-linux-x86_64.egg/xclib/data/data_utils.py:263: UserWarning: Header mis-match from inferred shape!\n",
      "  warnings.warn(\"Header mis-match from inferred shape!\")\n"
     ]
    }
   ],
   "source": [
    "block = build_block(pkl_file, config_file, True, config_key, data_dir=data_dir, n_sdata_meta_samples=3, do_build=True)\n",
    "batch = block.train.one_batch(100)"
   ]
  },
  {
   "cell_type": "code",
   "execution_count": 17,
   "id": "5dcb9d5c-84cd-4caa-adc2-c445d093e07d",
   "metadata": {},
   "outputs": [
    {
     "data": {
      "text/plain": [
       "dict_keys(['data_idx', 'data_identifier', 'data_input_text', 'data_input_ids', 'data_attention_mask', 'plbl2data_idx', 'plbl2data_data2ptr', 'lbl2data_idx', 'lbl2data_data2ptr', 'lbl2data_identifier', 'lbl2data_input_text', 'lbl2data_input_ids', 'lbl2data_attention_mask', 'pcat2data_idx', 'pcat2data_data2ptr', 'cat2data_idx', 'cat2data_data2ptr', 'cat2data_identifier', 'cat2data_input_text', 'cat2data_input_ids', 'cat2data_attention_mask', 'pcat2lbl_idx', 'pcat2lbl_lbl2ptr', 'cat2lbl_idx', 'cat2lbl_lbl2ptr', 'cat2lbl_identifier', 'cat2lbl_input_text', 'cat2lbl_input_ids', 'cat2lbl_attention_mask', 'cat2lbl_data2ptr', 'pcat2lbl_data2ptr'])"
      ]
     },
     "execution_count": 17,
     "metadata": {},
     "output_type": "execute_result"
    }
   ],
   "source": [
    "batch.keys()"
   ]
  },
  {
   "cell_type": "code",
   "execution_count": null,
   "id": "4bfdde59",
   "metadata": {},
   "outputs": [],
   "source": []
  },
  {
   "cell_type": "markdown",
   "id": "8cc9688e-98de-45bd-b8ce-e4c0fa6efc15",
   "metadata": {},
   "source": [
    "## Helper"
   ]
  },
  {
   "cell_type": "code",
   "execution_count": 10,
   "id": "5044e384-e939-43b6-b26b-89a3ff53c7dc",
   "metadata": {},
   "outputs": [],
   "source": [
    "#|export\n",
    "def get_sparse_matrix(data_idx:torch.Tensor, n_data:torch.Tensor, scores:Optional[torch.Tensor]=None):\n",
    "    data_ptr = torch.cat([torch.zeros(1, device=n_data.device, dtype=n_data.dtype), n_data.cumsum(0)])\n",
    "    if scores is None: scores = torch.ones_like(data_idx)\n",
    "    if data_idx.shape != scores.shape: raise ValueError(f'`data_idx` and `scores` should have same shape.')\n",
    "    return torch.sparse_csr_tensor(data_ptr, data_idx, scores, device=data_ptr.device)\n",
    "    "
   ]
  },
  {
   "cell_type": "markdown",
   "id": "c0ae671d-9334-490c-99eb-9465cac495bd",
   "metadata": {},
   "source": [
    "## BaseLoss"
   ]
  },
  {
   "cell_type": "code",
   "execution_count": 11,
   "id": "1077406a-74a1-4a6a-86d8-a21cb5fb4e5f",
   "metadata": {},
   "outputs": [],
   "source": [
    "#| export\n",
    "class BaseLoss(nn.Module):\n",
    "\n",
    "    def __init__(self, \n",
    "                 reduce:Optional[str]=None, \n",
    "                 **kwargs):\n",
    "        super().__init__()\n",
    "        self.reduce = reduce\n",
    "\n",
    "    @property\n",
    "    def reduction(self) -> str: return self.reduce\n",
    "    \n",
    "    @reduction.setter\n",
    "    def reduction(self, v:str):\n",
    "        \"Sets the reduction style (typically 'mean', 'sum', or 'none')\" \n",
    "        self.reduce = v\n",
    "        "
   ]
  },
  {
   "cell_type": "markdown",
   "id": "1055118a-0228-406e-8d8b-40003b7c6ccc",
   "metadata": {
    "jp-MarkdownHeadingCollapsed": true
   },
   "source": [
    "## MultiCrossEntropy"
   ]
  },
  {
   "cell_type": "code",
   "execution_count": null,
   "id": "42018177-6229-4765-b147-8642f6b0427c",
   "metadata": {},
   "outputs": [],
   "source": [
    "#| export\n",
    "class MultiCrossEntropy(BaseLoss):\n",
    "\n",
    "    def __init__(self,\n",
    "                 tn_targ:Optional[int]=None, \n",
    "                 ig_tok:Optional[int]=0,\n",
    "                 vocab_weights:Optional[torch.Tensor]=None,\n",
    "                 **kwargs):\n",
    "        super().__init__(**kwargs)\n",
    "        store_attr('tn_targ,ig_tok,vocab_weights')\n",
    "        self.o = torch.ones(tn_targ, dtype=torch.int64) if tn_targ is not None else None\n",
    "        "
   ]
  },
  {
   "cell_type": "code",
   "execution_count": null,
   "id": "70cf88cc-f6dc-4ff7-aebf-59cdb52ae538",
   "metadata": {},
   "outputs": [],
   "source": [
    "vocab_weights = torch.rand(m.config.vocab_size)\n",
    "mce_fn = MultiCrossEntropy(1000, vocab_weights=vocab_weights, reduce='mean')"
   ]
  },
  {
   "cell_type": "code",
   "execution_count": null,
   "id": "76cde5e9-8fed-4875-9621-d6885b08da13",
   "metadata": {},
   "outputs": [],
   "source": [
    "#| export\n",
    "@patch\n",
    "def forward(cls:MultiCrossEntropy,\n",
    "            inp:torch.FloatTensor,\n",
    "            targ:torch.LongTensor,\n",
    "            n_inp2targ:Optional[torch.LongTensor]=None,\n",
    "            tn_targ:Optional[int]=None, \n",
    "            ig_tok:Optional[int]=None,\n",
    "            vocab_weights:Optional[torch.Tensor]=None,\n",
    "            **kwargs):\n",
    "    store_attr('tn_targ,ig_tok,vocab_weights', is_none=False)\n",
    "    \n",
    "    cls.o = cls.o.to(inp.device) if cls.o is not None else None\n",
    "    cls.vocab_weights = cls.vocab_weights.to(inp.device) if cls.vocab_weights is not None else None\n",
    "    \n",
    "    tn_targ, targ_len = targ.shape\n",
    "    bsz, inp_len, vocab_sz = inp.shape\n",
    "    \n",
    "    if cls.vocab_weights is not None and cls.vocab_weights.shape[0] != vocab_sz: \n",
    "        raise ValueError(f\"`vocab_weights` should have {vocab_sz} elements.\")\n",
    "    \n",
    "    seq_len = min(targ_len, inp_len)\n",
    "    inp, targ = -F.log_softmax(inp, dim=2)[:, :seq_len].transpose(1,2), targ[:, :seq_len]\n",
    "    if cls.vocab_weights is not None: inp *= cls.vocab_weights.unsqueeze(1)\n",
    "    \n",
    "    if n_inp2targ is not None:\n",
    "        mn_targ = n_inp2targ.max()\n",
    "    \n",
    "        inp2targ_ptr = n_inp2targ.cumsum(dim=0)-1\n",
    "        xn_inp2targ = mn_targ-n_inp2targ+1\n",
    "        r_targ = (\n",
    "            torch.ones(tn_targ, dtype=torch.int64, device=inp.device).scatter(0, inp2targ_ptr, xn_inp2targ)\n",
    "            if cls.tn_targ is None or tn_targ > cls.tn_targ else\n",
    "            cls.o[:tn_targ].scatter(0, inp2targ_ptr, xn_inp2targ)\n",
    "        )\n",
    "        xtarg = targ.repeat_interleave(r_targ, dim=0)\n",
    "        s = inp.gather(1, xtarg.view(bsz, -1, seq_len)).view(-1, seq_len)\n",
    "        s /= r_targ.repeat_interleave(r_targ, dim=0).view(-1, 1)\n",
    "    else:\n",
    "        if bsz != tn_targ: raise ValueError(\"`inp` and `targ` should have same number of elements as `n_inp2targ` is empty.\")\n",
    "        s = inp.gather(1, targ.view(bsz, -1, seq_len)).view(-1, seq_len); xtarg = targ\n",
    "    \n",
    "    idx = torch.where(xtarg != cls.ig_tok)\n",
    "    loss = s[idx[0], idx[1]]\n",
    "    \n",
    "    if cls.reduction == 'mean': return (loss/len(torch.where(targ != cls.ig_tok)[0])).sum()\n",
    "    elif cls.reduction == 'sum': return loss.sum()\n",
    "    else: raise ValueError(f'`reduction` cannot be `{cls.reduction}`')\n"
   ]
  },
  {
   "cell_type": "code",
   "execution_count": null,
   "id": "f720e550",
   "metadata": {},
   "outputs": [
    {
     "data": {
      "text/plain": [
       "tensor(7.8086, device='cuda:0', grad_fn=<SumBackward0>)"
      ]
     },
     "execution_count": null,
     "metadata": {},
     "output_type": "execute_result"
    }
   ],
   "source": [
    "loss = mce_fn(data_logits, lbl2data_input_ids, lbl2data_data2ptr); loss"
   ]
  },
  {
   "cell_type": "code",
   "execution_count": null,
   "id": "9cf9cac6",
   "metadata": {},
   "outputs": [
    {
     "data": {
      "text/plain": [
       "tensor(9.0191, device='cuda:0', grad_fn=<SumBackward0>)"
      ]
     },
     "execution_count": null,
     "metadata": {},
     "output_type": "execute_result"
    }
   ],
   "source": [
    "loss = mce_fn(lbl2data_logits, data_input_ids); loss"
   ]
  },
  {
   "cell_type": "code",
   "execution_count": null,
   "id": "0d8215de-ee9e-4a77-9701-b196881af0d8",
   "metadata": {},
   "outputs": [
    {
     "name": "stdout",
     "output_type": "stream",
     "text": [
      "tensor(16.0431, device='cuda:0', grad_fn=<SumBackward0>)\n"
     ]
    },
    {
     "name": "stderr",
     "output_type": "stream",
     "text": [
      "STAGE:2024-04-26 08:09:57 4294:4294 ActivityProfilerController.cpp:314] Completed Stage: Warm Up\n",
      "STAGE:2024-04-26 08:09:57 4294:4294 ActivityProfilerController.cpp:320] Completed Stage: Collection\n",
      "STAGE:2024-04-26 08:09:57 4294:4294 ActivityProfilerController.cpp:324] Completed Stage: Post Processing\n"
     ]
    }
   ],
   "source": [
    "with profiler.profile(with_stack=True, profile_memory=True) as prof:\n",
    "    loss = mce_fn(data_logits, lbl2data_input_ids, lbl2data_data2ptr)\n",
    "    print(loss)"
   ]
  },
  {
   "cell_type": "code",
   "execution_count": null,
   "id": "6295ca2e-5548-4fc6-b700-a51f062b3dd8",
   "metadata": {},
   "outputs": [
    {
     "name": "stdout",
     "output_type": "stream",
     "text": [
      "-------------------------------------------------------  ------------  ------------  ------------  ------------  ------------  ------------  ------------  ------------  ------------  ------------  \n",
      "                                                   Name    Self CPU %      Self CPU   CPU total %     CPU total  CPU time avg       CPU Mem  Self CPU Mem      CUDA Mem  Self CUDA Mem    # of Calls  \n",
      "-------------------------------------------------------  ------------  ------------  ------------  ------------  ------------  ------------  ------------  ------------  ------------  ------------  \n",
      "                                              aten::max        15.76%     398.000us        17.19%     434.000us     434.000us           0 b           0 b         512 b           0 b             1  \n",
      "                                            aten::empty         0.67%      17.000us         0.67%      17.000us      17.000us           0 b           0 b         512 b         512 b             1  \n",
      "                                       aten::as_strided         0.08%       2.000us         0.08%       2.000us       2.000us           0 b           0 b           0 b           0 b             1  \n",
      "                                       cudaLaunchKernel         0.67%      17.000us         0.67%      17.000us      17.000us           0 b           0 b           0 b           0 b             1  \n",
      "                                      aten::log_softmax         0.16%       4.000us         1.43%      36.000us      36.000us           0 b           0 b     112.00 Mb           0 b             1  \n",
      "                                     aten::_log_softmax         0.99%      25.000us         1.27%      32.000us      32.000us           0 b           0 b     112.00 Mb     112.00 Mb             1  \n",
      "                                       cudaLaunchKernel         0.28%       7.000us         0.28%       7.000us       7.000us           0 b           0 b           0 b           0 b             1  \n",
      "                                            aten::slice         0.36%       9.000us         0.40%      10.000us      10.000us           0 b           0 b           0 b           0 b             1  \n",
      "                                       aten::as_strided         0.04%       1.000us         0.04%       1.000us       1.000us           0 b           0 b           0 b           0 b             1  \n",
      "                                        aten::transpose         0.24%       6.000us         0.28%       7.000us       7.000us           0 b           0 b           0 b           0 b             1  \n",
      "                                       aten::as_strided         0.04%       1.000us         0.04%       1.000us       1.000us           0 b           0 b           0 b           0 b             1  \n",
      "                                              aten::neg         0.79%      20.000us         1.11%      28.000us      28.000us           0 b           0 b     112.00 Mb     112.00 Mb             1  \n",
      "                                       cudaLaunchKernel         0.32%       8.000us         0.32%       8.000us       8.000us           0 b           0 b           0 b           0 b             1  \n",
      "                                            aten::slice         0.16%       4.000us         0.16%       4.000us       4.000us           0 b           0 b           0 b           0 b             1  \n",
      "                                       aten::as_strided         0.00%       0.000us         0.00%       0.000us       0.000us           0 b           0 b           0 b           0 b             1  \n",
      "                                            aten::slice         0.12%       3.000us         0.12%       3.000us       3.000us           0 b           0 b           0 b           0 b             1  \n",
      "                                       aten::as_strided         0.00%       0.000us         0.00%       0.000us       0.000us           0 b           0 b           0 b           0 b             1  \n",
      "                                           aten::cumsum         1.39%      35.000us         1.82%      46.000us      46.000us           0 b           0 b         512 b         512 b             1  \n",
      "                                               aten::to         0.00%       0.000us         0.00%       0.000us       0.000us           0 b           0 b           0 b           0 b             1  \n",
      "                                       cudaLaunchKernel         0.24%       6.000us         0.24%       6.000us       6.000us           0 b           0 b           0 b           0 b             1  \n",
      "                                    cudaPeekAtLastError         0.00%       0.000us         0.00%       0.000us       0.000us           0 b           0 b           0 b           0 b             1  \n",
      "                                    cudaPeekAtLastError         0.00%       0.000us         0.00%       0.000us       0.000us           0 b           0 b           0 b           0 b             1  \n",
      "cudaOccupancyMaxActiveBlocksPerMultiprocessorWithFla...         0.04%       1.000us         0.04%       1.000us       1.000us           0 b           0 b           0 b           0 b             1  \n",
      "                                 cudaDeviceGetAttribute         0.04%       1.000us         0.04%       1.000us       1.000us           0 b           0 b           0 b           0 b             1  \n",
      "                                       cudaLaunchKernel         0.12%       3.000us         0.12%       3.000us       3.000us           0 b           0 b           0 b           0 b             1  \n",
      "                                    cudaPeekAtLastError         0.00%       0.000us         0.00%       0.000us       0.000us           0 b           0 b           0 b           0 b             1  \n",
      "                                    cudaPeekAtLastError         0.00%       0.000us         0.00%       0.000us       0.000us           0 b           0 b           0 b           0 b             1  \n",
      "                                               [memory]         0.00%       0.000us         0.00%       0.000us       0.000us           8 b           8 b           0 b           0 b             1  \n",
      "                                              aten::sub         0.71%      18.000us         0.91%      23.000us      23.000us           0 b           0 b         512 b         512 b             1  \n",
      "                                       cudaLaunchKernel         0.20%       5.000us         0.20%       5.000us       5.000us           0 b           0 b           0 b           0 b             1  \n",
      "                                               [memory]         0.00%       0.000us         0.00%       0.000us       0.000us          -8 b          -8 b           0 b           0 b             1  \n",
      "                                               [memory]         0.00%       0.000us         0.00%       0.000us       0.000us           0 b           0 b        -512 b        -512 b             1  \n",
      "                                              aten::sub         0.55%      14.000us         0.75%      19.000us      19.000us           0 b           0 b         512 b         512 b             1  \n",
      "                                       cudaLaunchKernel         0.20%       5.000us         0.20%       5.000us       5.000us           0 b           0 b           0 b           0 b             1  \n",
      "                                               [memory]         0.00%       0.000us         0.00%       0.000us       0.000us           8 b           8 b           0 b           0 b             1  \n",
      "                                              aten::add         0.51%      13.000us         0.67%      17.000us      17.000us           0 b           0 b         512 b         512 b             1  \n",
      "                                       cudaLaunchKernel         0.16%       4.000us         0.16%       4.000us       4.000us           0 b           0 b           0 b           0 b             1  \n",
      "                                               [memory]         0.00%       0.000us         0.00%       0.000us       0.000us          -8 b          -8 b           0 b           0 b             1  \n",
      "                                               [memory]         0.00%       0.000us         0.00%       0.000us       0.000us           0 b           0 b        -512 b        -512 b             1  \n",
      "                                            aten::slice         0.12%       3.000us         0.16%       4.000us       4.000us           0 b           0 b           0 b           0 b             1  \n",
      "                                       aten::as_strided         0.04%       1.000us         0.04%       1.000us       1.000us           0 b           0 b           0 b           0 b             1  \n",
      "                                          aten::scatter         1.03%      26.000us         2.14%      54.000us      54.000us           0 b           0 b       1.00 Kb       1.00 Kb             1  \n",
      "                                            aten::copy_         0.36%       9.000us         0.91%      23.000us      23.000us           0 b           0 b           0 b           0 b             1  \n",
      "                                        cudaMemcpyAsync         0.55%      14.000us         0.55%      14.000us      14.000us           0 b           0 b           0 b           0 b             1  \n",
      "                                       aten::as_strided         0.00%       0.000us         0.00%       0.000us       0.000us           0 b           0 b           0 b           0 b             1  \n",
      "                                       aten::as_strided         0.00%       0.000us         0.00%       0.000us       0.000us           0 b           0 b           0 b           0 b             1  \n",
      "                                       cudaLaunchKernel         0.20%       5.000us         0.20%       5.000us       5.000us           0 b           0 b           0 b           0 b             1  \n",
      "                                aten::repeat_interleave         0.32%       8.000us        19.84%     501.000us     501.000us           0 b           0 b      60.00 Kb      -4.00 Kb             1  \n",
      "                                aten::repeat_interleave         1.15%      29.000us        18.22%     460.000us     460.000us           0 b           0 b       4.00 Kb      -2.00 Kb             1  \n",
      "                                           aten::cumsum         1.23%      31.000us         1.58%      40.000us      40.000us           0 b           0 b       1.00 Kb       1.00 Kb             1  \n",
      "                                               aten::to         0.00%       0.000us         0.00%       0.000us       0.000us           0 b           0 b           0 b           0 b             1  \n",
      "                                       cudaLaunchKernel         0.20%       5.000us         0.20%       5.000us       5.000us           0 b           0 b           0 b           0 b             1  \n",
      "                                    cudaPeekAtLastError         0.00%       0.000us         0.00%       0.000us       0.000us           0 b           0 b           0 b           0 b             1  \n",
      "                                    cudaPeekAtLastError         0.00%       0.000us         0.00%       0.000us       0.000us           0 b           0 b           0 b           0 b             1  \n",
      "cudaOccupancyMaxActiveBlocksPerMultiprocessorWithFla...         0.04%       1.000us         0.04%       1.000us       1.000us           0 b           0 b           0 b           0 b             1  \n",
      "                                 cudaDeviceGetAttribute         0.00%       0.000us         0.00%       0.000us       0.000us           0 b           0 b           0 b           0 b             1  \n",
      "                                       cudaLaunchKernel         0.12%       3.000us         0.12%       3.000us       3.000us           0 b           0 b           0 b           0 b             1  \n",
      "                                    cudaPeekAtLastError         0.00%       0.000us         0.00%       0.000us       0.000us           0 b           0 b           0 b           0 b             1  \n",
      "                                    cudaPeekAtLastError         0.00%       0.000us         0.00%       0.000us       0.000us           0 b           0 b           0 b           0 b             1  \n",
      "                                           aten::select         0.16%       4.000us         0.16%       4.000us       4.000us           0 b           0 b           0 b           0 b             1  \n",
      "                                       aten::as_strided         0.00%       0.000us         0.00%       0.000us       0.000us           0 b           0 b           0 b           0 b             1  \n",
      "                                             aten::item         0.08%       2.000us        12.16%     307.000us     307.000us           0 b           0 b           0 b           0 b             1  \n",
      "                              aten::_local_scalar_dense         0.16%       4.000us        12.08%     305.000us     305.000us           0 b           0 b           0 b           0 b             1  \n",
      "                                        cudaMemcpyAsync        11.76%     297.000us        11.76%     297.000us     297.000us           0 b           0 b           0 b           0 b             1  \n",
      "                                  cudaStreamSynchronize         0.16%       4.000us         0.16%       4.000us       4.000us           0 b           0 b           0 b           0 b             1  \n",
      "                                               aten::ge         0.71%      18.000us         0.91%      23.000us      23.000us           0 b           0 b         512 b         512 b             1  \n",
      "                                       cudaLaunchKernel         0.20%       5.000us         0.20%       5.000us       5.000us           0 b           0 b           0 b           0 b             1  \n",
      "                                              aten::all         0.79%      20.000us         0.99%      25.000us      25.000us           0 b           0 b         512 b         512 b             1  \n",
      "                                       aten::as_strided         0.00%       0.000us         0.00%       0.000us       0.000us           0 b           0 b           0 b           0 b             1  \n",
      "                                       cudaLaunchKernel         0.20%       5.000us         0.20%       5.000us       5.000us           0 b           0 b           0 b           0 b             1  \n",
      "                                             aten::item         0.04%       1.000us         0.79%      20.000us      20.000us           0 b           0 b           0 b           0 b             1  \n",
      "                              aten::_local_scalar_dense         0.20%       5.000us         0.75%      19.000us      19.000us           0 b           0 b           0 b           0 b             1  \n",
      "                                        cudaMemcpyAsync         0.48%      12.000us         0.48%      12.000us      12.000us           0 b           0 b           0 b           0 b             1  \n",
      "                                  cudaStreamSynchronize         0.08%       2.000us         0.08%       2.000us       2.000us           0 b           0 b           0 b           0 b             1  \n",
      "                                            aten::empty         0.28%       7.000us         0.28%       7.000us       7.000us           0 b           0 b       4.00 Kb       4.00 Kb             1  \n",
      "                                       cudaLaunchKernel         0.20%       5.000us         0.20%       5.000us       5.000us           0 b           0 b           0 b           0 b             1  \n",
      "                                     aten::index_select         0.67%      17.000us         1.31%      33.000us      33.000us           0 b           0 b      60.00 Kb           0 b             1  \n",
      "                                            aten::empty         0.16%       4.000us         0.16%       4.000us       4.000us           0 b           0 b           0 b           0 b             1  \n",
      "                                          aten::resize_         0.24%       6.000us         0.24%       6.000us       6.000us           0 b           0 b      60.00 Kb      60.00 Kb             1  \n",
      "                                       cudaLaunchKernel         0.24%       6.000us         0.24%       6.000us       6.000us           0 b           0 b           0 b           0 b             1  \n",
      "                                             aten::view         0.12%       3.000us         0.12%       3.000us       3.000us           0 b           0 b           0 b           0 b             1  \n",
      "                                           aten::gather         1.07%      27.000us         1.35%      34.000us      34.000us           0 b           0 b      30.00 Kb      30.00 Kb             1  \n",
      "                                       aten::as_strided         0.04%       1.000us         0.04%       1.000us       1.000us           0 b           0 b           0 b           0 b             1  \n",
      "                                       aten::as_strided         0.00%       0.000us         0.00%       0.000us       0.000us           0 b           0 b           0 b           0 b             1  \n",
      "                                       cudaLaunchKernel         0.24%       6.000us         0.24%       6.000us       6.000us           0 b           0 b           0 b           0 b             1  \n",
      "                                             aten::view         0.16%       4.000us         0.16%       4.000us       4.000us           0 b           0 b           0 b           0 b             1  \n",
      "                                aten::repeat_interleave         0.24%       6.000us         8.04%     203.000us     203.000us           0 b           0 b       4.00 Kb      -4.00 Kb             1  \n",
      "                                aten::repeat_interleave         0.99%      25.000us         6.61%     167.000us     167.000us           0 b           0 b       4.00 Kb      -2.00 Kb             1  \n",
      "                                           aten::cumsum         1.23%      31.000us         1.58%      40.000us      40.000us           0 b           0 b       1.00 Kb       1.00 Kb             1  \n",
      "                                               aten::to         0.00%       0.000us         0.00%       0.000us       0.000us           0 b           0 b           0 b           0 b             1  \n",
      "                                       cudaLaunchKernel         0.20%       5.000us         0.20%       5.000us       5.000us           0 b           0 b           0 b           0 b             1  \n",
      "                                    cudaPeekAtLastError         0.00%       0.000us         0.00%       0.000us       0.000us           0 b           0 b           0 b           0 b             1  \n",
      "                                    cudaPeekAtLastError         0.00%       0.000us         0.00%       0.000us       0.000us           0 b           0 b           0 b           0 b             1  \n",
      "cudaOccupancyMaxActiveBlocksPerMultiprocessorWithFla...         0.04%       1.000us         0.04%       1.000us       1.000us           0 b           0 b           0 b           0 b             1  \n",
      "                                 cudaDeviceGetAttribute         0.00%       0.000us         0.00%       0.000us       0.000us           0 b           0 b           0 b           0 b             1  \n",
      "                                       cudaLaunchKernel         0.12%       3.000us         0.12%       3.000us       3.000us           0 b           0 b           0 b           0 b             1  \n",
      "                                    cudaPeekAtLastError         0.00%       0.000us         0.00%       0.000us       0.000us           0 b           0 b           0 b           0 b             1  \n",
      "                                    cudaPeekAtLastError         0.00%       0.000us         0.00%       0.000us       0.000us           0 b           0 b           0 b           0 b             1  \n",
      "                                           aten::select         0.16%       4.000us         0.16%       4.000us       4.000us           0 b           0 b           0 b           0 b             1  \n",
      "                                       aten::as_strided         0.00%       0.000us         0.00%       0.000us       0.000us           0 b           0 b           0 b           0 b             1  \n",
      "-------------------------------------------------------  ------------  ------------  ------------  ------------  ------------  ------------  ------------  ------------  ------------  ------------  \n",
      "Self CPU time total: 2.525ms\n",
      "\n"
     ]
    }
   ],
   "source": [
    "print(prof)"
   ]
  },
  {
   "cell_type": "code",
   "execution_count": null,
   "id": "6e8ebba6-362a-41f6-a2f4-57815e1196f0",
   "metadata": {},
   "outputs": [],
   "source": [
    "@patch\n",
    "def forward(cls:MultiCrossEntropy, \n",
    "            inp:torch.FloatTensor, \n",
    "            targ:torch.LongTensor, \n",
    "            n_inp2targ:torch.LongTensor, \n",
    "            **kwargs):\n",
    "    inp_len, targ_len = inp.shape[1], targ.shape[1]\n",
    "    seq_len = min(inp_len, targ_len)\n",
    "    \n",
    "    inp, targ = -F.log_softmax(inp, dim=2)[:, :seq_len], targ[:, :seq_len].unsqueeze(2)\n",
    "    if cls.vocab_weights is not None: inp *= cls.vocab_weights\n",
    "    inp = inp.repeat_interleave(n_inp2targ, dim=0)\n",
    "    \n",
    "    s = inp.gather(2, targ)\n",
    "    idx = torch.where(targ != cls.ig_tok)\n",
    "    loss = s[idx[0], idx[1]]\n",
    "    \n",
    "    if cls.reduction == 'mean': return loss.mean()\n",
    "    elif cls.reduction == 'sum': return loss.sum()\n",
    "    else: raise ValueError(f'`reduction` cannot be `{cls.reduction}`')\n",
    "        "
   ]
  },
  {
   "cell_type": "code",
   "execution_count": null,
   "id": "2f8fd86d",
   "metadata": {},
   "outputs": [
    {
     "data": {
      "text/plain": [
       "tensor(7.8086, device='cuda:0', grad_fn=<MeanBackward0>)"
      ]
     },
     "execution_count": null,
     "metadata": {},
     "output_type": "execute_result"
    }
   ],
   "source": [
    "loss = mce_fn(data_logits, lbl2data_input_ids, lbl2data_data2ptr); loss"
   ]
  },
  {
   "cell_type": "code",
   "execution_count": null,
   "id": "4ec6e3d4",
   "metadata": {},
   "outputs": [
    {
     "data": {
      "text/plain": [
       "tensor(9.0191, device='cuda:0', grad_fn=<MeanBackward0>)"
      ]
     },
     "execution_count": null,
     "metadata": {},
     "output_type": "execute_result"
    }
   ],
   "source": [
    "loss = mce_fn(lbl2data_logits, data_input_ids, torch.ones(len(data_input_ids), dtype=data_input_ids.dtype, device=data_input_ids.device)); loss"
   ]
  },
  {
   "cell_type": "code",
   "execution_count": null,
   "id": "b5d70479",
   "metadata": {},
   "outputs": [],
   "source": []
  },
  {
   "cell_type": "code",
   "execution_count": null,
   "id": "06414870-be2c-4125-8f48-42ed3e2bd669",
   "metadata": {},
   "outputs": [
    {
     "name": "stderr",
     "output_type": "stream",
     "text": [
      "STAGE:2024-05-05 16:20:26 189949:189949 ActivityProfilerController.cpp:311] Completed Stage: Warm Up\n"
     ]
    },
    {
     "name": "stdout",
     "output_type": "stream",
     "text": [
      "tensor(14.2102, grad_fn=<MeanBackward0>)\n"
     ]
    },
    {
     "name": "stderr",
     "output_type": "stream",
     "text": [
      "STAGE:2024-05-05 16:20:28 189949:189949 ActivityProfilerController.cpp:317] Completed Stage: Collection\n",
      "STAGE:2024-05-05 16:20:28 189949:189949 ActivityProfilerController.cpp:321] Completed Stage: Post Processing\n"
     ]
    }
   ],
   "source": [
    "with profiler.profile(with_stack=True, profile_memory=True) as prof:\n",
    "    loss = mce_fn(data_logits, lbl2data_input_ids, lbl2data_data2ptr)\n",
    "    print(loss)"
   ]
  },
  {
   "cell_type": "code",
   "execution_count": null,
   "id": "3e8f63ad-654c-4b34-a572-528374d57a73",
   "metadata": {},
   "outputs": [
    {
     "name": "stdout",
     "output_type": "stream",
     "text": [
      "-------------------------------------------------------  ------------  ------------  ------------  ------------  ------------  ------------  ------------  ------------  ------------  ------------  \n",
      "                                                   Name    Self CPU %      Self CPU   CPU total %     CPU total  CPU time avg       CPU Mem  Self CPU Mem      CUDA Mem  Self CUDA Mem    # of Calls  \n",
      "-------------------------------------------------------  ------------  ------------  ------------  ------------  ------------  ------------  ------------  ------------  ------------  ------------  \n",
      "                                      aten::log_softmax         0.18%       5.000us        15.61%     441.000us     441.000us           0 b           0 b     112.00 Mb           0 b             1  \n",
      "                                     aten::_log_softmax        14.86%     420.000us        15.43%     436.000us     436.000us           0 b           0 b     112.00 Mb     112.00 Mb             1  \n",
      "                                       cudaLaunchKernel         0.57%      16.000us         0.57%      16.000us      16.000us           0 b           0 b           0 b           0 b             1  \n",
      "                                            aten::slice         0.35%      10.000us         0.42%      12.000us      12.000us           0 b           0 b           0 b           0 b             1  \n",
      "                                       aten::as_strided         0.07%       2.000us         0.07%       2.000us       2.000us           0 b           0 b           0 b           0 b             1  \n",
      "                                              aten::neg         0.74%      21.000us         1.10%      31.000us      31.000us           0 b           0 b     112.00 Mb     112.00 Mb             1  \n",
      "                                       cudaLaunchKernel         0.35%      10.000us         0.35%      10.000us      10.000us           0 b           0 b           0 b           0 b             1  \n",
      "                                            aten::slice         0.14%       4.000us         0.18%       5.000us       5.000us           0 b           0 b           0 b           0 b             1  \n",
      "                                       aten::as_strided         0.04%       1.000us         0.04%       1.000us       1.000us           0 b           0 b           0 b           0 b             1  \n",
      "                                            aten::slice         0.14%       4.000us         0.14%       4.000us       4.000us           0 b           0 b           0 b           0 b             1  \n",
      "                                       aten::as_strided         0.00%       0.000us         0.00%       0.000us       0.000us           0 b           0 b           0 b           0 b             1  \n",
      "                                        aten::unsqueeze         0.18%       5.000us         0.18%       5.000us       5.000us           0 b           0 b           0 b           0 b             1  \n",
      "                                       aten::as_strided         0.00%       0.000us         0.00%       0.000us       0.000us           0 b           0 b           0 b           0 b             1  \n",
      "                                aten::repeat_interleave         0.25%       7.000us        21.94%     620.000us     620.000us           0 b           0 b     220.06 Mb           0 b             1  \n",
      "                                aten::repeat_interleave         1.24%      35.000us        20.21%     571.000us     571.000us           0 b           0 b       1.00 Kb      -1.50 Kb             1  \n",
      "                                           aten::cumsum         1.27%      36.000us         1.77%      50.000us      50.000us           0 b           0 b         512 b         512 b             1  \n",
      "                                               aten::to         0.00%       0.000us         0.00%       0.000us       0.000us           0 b           0 b           0 b           0 b             1  \n",
      "                                       cudaLaunchKernel         0.25%       7.000us         0.25%       7.000us       7.000us           0 b           0 b           0 b           0 b             1  \n",
      "                                    cudaPeekAtLastError         0.00%       0.000us         0.00%       0.000us       0.000us           0 b           0 b           0 b           0 b             1  \n",
      "                                    cudaPeekAtLastError         0.00%       0.000us         0.00%       0.000us       0.000us           0 b           0 b           0 b           0 b             1  \n",
      "cudaOccupancyMaxActiveBlocksPerMultiprocessorWithFla...         0.07%       2.000us         0.07%       2.000us       2.000us           0 b           0 b           0 b           0 b             1  \n",
      "                                 cudaDeviceGetAttribute         0.04%       1.000us         0.04%       1.000us       1.000us           0 b           0 b           0 b           0 b             1  \n",
      "                                       cudaLaunchKernel         0.14%       4.000us         0.14%       4.000us       4.000us           0 b           0 b           0 b           0 b             1  \n",
      "                                    cudaPeekAtLastError         0.00%       0.000us         0.00%       0.000us       0.000us           0 b           0 b           0 b           0 b             1  \n",
      "                                    cudaPeekAtLastError         0.00%       0.000us         0.00%       0.000us       0.000us           0 b           0 b           0 b           0 b             1  \n",
      "                                           aten::select         0.18%       5.000us         0.18%       5.000us       5.000us           0 b           0 b           0 b           0 b             1  \n",
      "                                       aten::as_strided         0.00%       0.000us         0.00%       0.000us       0.000us           0 b           0 b           0 b           0 b             1  \n",
      "                                             aten::item         0.07%       2.000us        13.73%     388.000us     388.000us           0 b           0 b           0 b           0 b             1  \n",
      "                              aten::_local_scalar_dense         0.21%       6.000us        13.66%     386.000us     386.000us           0 b           0 b           0 b           0 b             1  \n",
      "                                        cudaMemcpyAsync        13.31%     376.000us        13.31%     376.000us     376.000us           0 b           0 b           0 b           0 b             1  \n",
      "                                  cudaStreamSynchronize         0.14%       4.000us         0.14%       4.000us       4.000us           0 b           0 b           0 b           0 b             1  \n",
      "                                               aten::ge         0.88%      25.000us         1.10%      31.000us      31.000us           0 b           0 b         512 b         512 b             1  \n",
      "                                       cudaLaunchKernel         0.21%       6.000us         0.21%       6.000us       6.000us           0 b           0 b           0 b           0 b             1  \n",
      "                                              aten::all         0.81%      23.000us         1.03%      29.000us      29.000us           0 b           0 b         512 b         512 b             1  \n",
      "                                       aten::as_strided         0.00%       0.000us         0.00%       0.000us       0.000us           0 b           0 b           0 b           0 b             1  \n",
      "                                       cudaLaunchKernel         0.21%       6.000us         0.21%       6.000us       6.000us           0 b           0 b           0 b           0 b             1  \n",
      "                                             aten::item         0.04%       1.000us         0.74%      21.000us      21.000us           0 b           0 b           0 b           0 b             1  \n",
      "                              aten::_local_scalar_dense         0.18%       5.000us         0.71%      20.000us      20.000us           0 b           0 b           0 b           0 b             1  \n",
      "                                        cudaMemcpyAsync         0.46%      13.000us         0.46%      13.000us      13.000us           0 b           0 b           0 b           0 b             1  \n",
      "                                  cudaStreamSynchronize         0.07%       2.000us         0.07%       2.000us       2.000us           0 b           0 b           0 b           0 b             1  \n",
      "                                            aten::empty         0.21%       6.000us         0.21%       6.000us       6.000us           0 b           0 b       1.00 Kb       1.00 Kb             1  \n",
      "                                       cudaLaunchKernel         0.21%       6.000us         0.21%       6.000us       6.000us           0 b           0 b           0 b           0 b             1  \n",
      "                                     aten::index_select         0.88%      25.000us         1.49%      42.000us      42.000us           0 b           0 b     220.06 Mb           0 b             1  \n",
      "                                            aten::empty         0.14%       4.000us         0.14%       4.000us       4.000us           0 b           0 b           0 b           0 b             1  \n",
      "                                          aten::resize_         0.25%       7.000us         0.25%       7.000us       7.000us           0 b           0 b     220.06 Mb     220.06 Mb             1  \n",
      "                                       cudaLaunchKernel         0.21%       6.000us         0.21%       6.000us       6.000us           0 b           0 b           0 b           0 b             1  \n",
      "                                               [memory]         0.00%       0.000us         0.00%       0.000us       0.000us           0 b           0 b    -112.00 Mb    -112.00 Mb             1  \n",
      "                                           aten::gather         0.99%      28.000us         1.24%      35.000us      35.000us           0 b           0 b       7.50 Kb       7.50 Kb             1  \n",
      "                                       aten::as_strided         0.04%       1.000us         0.04%       1.000us       1.000us           0 b           0 b           0 b           0 b             1  \n",
      "                                       aten::as_strided         0.00%       0.000us         0.00%       0.000us       0.000us           0 b           0 b           0 b           0 b             1  \n",
      "                                       cudaLaunchKernel         0.21%       6.000us         0.21%       6.000us       6.000us           0 b           0 b           0 b           0 b             1  \n",
      "                                               aten::ne         0.71%      20.000us         0.92%      26.000us      26.000us           0 b           0 b       2.00 Kb       2.00 Kb             1  \n",
      "                                       cudaLaunchKernel         0.21%       6.000us         0.21%       6.000us       6.000us           0 b           0 b           0 b           0 b             1  \n",
      "                                            aten::where         0.07%       2.000us        30.15%     852.000us     852.000us           0 b           0 b      17.50 Kb           0 b             1  \n",
      "                                    aten::nonzero_numpy         0.18%       5.000us        30.08%     850.000us     850.000us           0 b           0 b      17.50 Kb           0 b             1  \n",
      "                                          aten::nonzero         1.70%      48.000us        29.37%     830.000us     830.000us           0 b           0 b      17.50 Kb           0 b             1  \n",
      "                                       cudaLaunchKernel         0.18%       5.000us         0.18%       5.000us       5.000us           0 b           0 b           0 b           0 b             1  \n",
      "                                    cudaPeekAtLastError         0.00%       0.000us         0.00%       0.000us       0.000us           0 b           0 b           0 b           0 b             1  \n",
      "                                    cudaPeekAtLastError         0.00%       0.000us         0.00%       0.000us       0.000us           0 b           0 b           0 b           0 b             1  \n",
      "                                        cudaMemcpyAsync        26.36%     745.000us        26.36%     745.000us     745.000us           0 b           0 b           0 b           0 b             1  \n",
      "                                  cudaStreamSynchronize         0.07%       2.000us         0.07%       2.000us       2.000us           0 b           0 b           0 b           0 b             1  \n",
      "                                          aten::resize_         0.21%       6.000us         0.21%       6.000us       6.000us           0 b           0 b      17.50 Kb      17.50 Kb             1  \n",
      "                                       cudaLaunchKernel         0.18%       5.000us         0.18%       5.000us       5.000us           0 b           0 b           0 b           0 b             1  \n",
      "                                    cudaPeekAtLastError         0.00%       0.000us         0.00%       0.000us       0.000us           0 b           0 b           0 b           0 b             1  \n",
      "                                    cudaPeekAtLastError         0.00%       0.000us         0.00%       0.000us       0.000us           0 b           0 b           0 b           0 b             1  \n",
      "                                 cudaDeviceGetAttribute         0.00%       0.000us         0.00%       0.000us       0.000us           0 b           0 b           0 b           0 b             1  \n",
      "                                       cudaLaunchKernel         0.14%       4.000us         0.14%       4.000us       4.000us           0 b           0 b           0 b           0 b             1  \n",
      "                                    cudaPeekAtLastError         0.00%       0.000us         0.00%       0.000us       0.000us           0 b           0 b           0 b           0 b             1  \n",
      "                                    cudaPeekAtLastError         0.00%       0.000us         0.00%       0.000us       0.000us           0 b           0 b           0 b           0 b             1  \n",
      "                                       cudaLaunchKernel         0.14%       4.000us         0.14%       4.000us       4.000us           0 b           0 b           0 b           0 b             1  \n",
      "                                                aten::t         0.07%       2.000us         0.21%       6.000us       6.000us           0 b           0 b           0 b           0 b             1  \n",
      "                                        aten::transpose         0.11%       3.000us         0.14%       4.000us       4.000us           0 b           0 b           0 b           0 b             1  \n",
      "                                       aten::as_strided         0.04%       1.000us         0.04%       1.000us       1.000us           0 b           0 b           0 b           0 b             1  \n",
      "                                             aten::set_         0.18%       5.000us         0.18%       5.000us       5.000us           0 b           0 b           0 b           0 b             1  \n",
      "                                           aten::unbind         0.32%       9.000us         0.53%      15.000us      15.000us           0 b           0 b           0 b           0 b             1  \n",
      "                                           aten::select         0.14%       4.000us         0.14%       4.000us       4.000us           0 b           0 b           0 b           0 b             1  \n",
      "                                       aten::as_strided         0.00%       0.000us         0.00%       0.000us       0.000us           0 b           0 b           0 b           0 b             1  \n",
      "                                           aten::select         0.04%       1.000us         0.04%       1.000us       1.000us           0 b           0 b           0 b           0 b             1  \n",
      "                                       aten::as_strided         0.00%       0.000us         0.00%       0.000us       0.000us           0 b           0 b           0 b           0 b             1  \n",
      "                                           aten::select         0.04%       1.000us         0.04%       1.000us       1.000us           0 b           0 b           0 b           0 b             1  \n",
      "                                       aten::as_strided         0.00%       0.000us         0.00%       0.000us       0.000us           0 b           0 b           0 b           0 b             1  \n",
      "                                               [memory]         0.00%       0.000us         0.00%       0.000us       0.000us           0 b           0 b      -2.00 Kb      -2.00 Kb             1  \n",
      "                                            aten::index         1.20%      34.000us         1.56%      44.000us      44.000us           0 b           0 b       3.00 Kb       3.00 Kb             1  \n",
      "                                       aten::as_strided         0.00%       0.000us         0.00%       0.000us       0.000us           0 b           0 b           0 b           0 b             1  \n",
      "                                          aten::reshape         0.07%       2.000us         0.11%       3.000us       3.000us           0 b           0 b           0 b           0 b             1  \n",
      "                                             aten::view         0.04%       1.000us         0.04%       1.000us       1.000us           0 b           0 b           0 b           0 b             1  \n",
      "                                          aten::reshape         0.04%       1.000us         0.04%       1.000us       1.000us           0 b           0 b           0 b           0 b             1  \n",
      "                                             aten::view         0.00%       0.000us         0.00%       0.000us       0.000us           0 b           0 b           0 b           0 b             1  \n",
      "                                       cudaLaunchKernel         0.21%       6.000us         0.21%       6.000us       6.000us           0 b           0 b           0 b           0 b             1  \n",
      "                                             aten::mean         1.03%      29.000us         1.24%      35.000us      35.000us           0 b           0 b         512 b         512 b             1  \n",
      "                                       aten::as_strided         0.00%       0.000us         0.00%       0.000us       0.000us           0 b           0 b           0 b           0 b             1  \n",
      "                                       cudaLaunchKernel         0.21%       6.000us         0.21%       6.000us       6.000us           0 b           0 b           0 b           0 b             1  \n",
      "                                               [memory]         0.00%       0.000us         0.00%       0.000us       0.000us           0 b           0 b      -7.50 Kb      -7.50 Kb             1  \n",
      "                                               [memory]         0.00%       0.000us         0.00%       0.000us       0.000us           0 b           0 b      -3.00 Kb      -3.00 Kb             1  \n",
      "                                               [memory]         0.00%       0.000us         0.00%       0.000us       0.000us           0 b           0 b     -17.50 Kb     -17.50 Kb             1  \n",
      "                                               [memory]         0.00%       0.000us         0.00%       0.000us       0.000us           0 b           0 b    -220.06 Mb    -220.06 Mb             1  \n",
      "                                               [memory]         0.00%       0.000us         0.00%       0.000us       0.000us           0 b           0 b      -1.00 Kb      -1.00 Kb             1  \n",
      "                                               [memory]         0.00%       0.000us         0.00%       0.000us       0.000us           0 b           0 b    -112.00 Mb    -112.00 Mb             1  \n",
      "                                               [memory]         0.00%       0.000us         0.00%       0.000us       0.000us           0 b           0 b        -512 b        -512 b             1  \n",
      "                                          aten::reshape         0.07%       2.000us         0.25%       7.000us       7.000us           0 b           0 b           0 b           0 b             1  \n",
      "-------------------------------------------------------  ------------  ------------  ------------  ------------  ------------  ------------  ------------  ------------  ------------  ------------  \n",
      "Self CPU time total: 2.826ms\n",
      "\n"
     ]
    }
   ],
   "source": [
    "print(prof)"
   ]
  },
  {
   "cell_type": "code",
   "execution_count": null,
   "id": "26f5f819-25fa-4a7f-b9e7-9fa0c612799a",
   "metadata": {},
   "outputs": [],
   "source": [
    "@patch\n",
    "def forward(cls:MultiCrossEntropy, \n",
    "            inp:torch.FloatTensor, \n",
    "            targ:torch.LongTensor, \n",
    "            n_inp2targ:torch.LongTensor, \n",
    "            **kwargs):\n",
    "    inp_len, targ_len = inp.shape[1], targ.shape[1]\n",
    "    seq_len = min(inp_len, targ_len)\n",
    "    inp, targ = -F.log_softmax(inp, dim=2)[:, :seq_len], targ[:, :seq_len]\n",
    "    num, s = 0, []\n",
    "    for i,n in zip(inp, n_inp2targ):\n",
    "        for _ in range(n):\n",
    "            s.append(i.gather(1, targ[num].view(-1, 1)).view(1, -1))\n",
    "            num += 1\n",
    "    s = torch.vstack(s)\n",
    "    idx = torch.where(targ != cls.ig_tok)\n",
    "    loss = s[idx[0], idx[1]]\n",
    "    if cls.reduction == 'mean': return loss.mean()\n",
    "    elif cls.reduction == 'sum': return loss.sum()\n",
    "    else: raise ValueError(f'`reduction` cannot be `{cls.reduction}`')\n",
    "    "
   ]
  },
  {
   "cell_type": "code",
   "execution_count": null,
   "id": "c9bc27d2-0e2f-4d50-b1e7-27ae4ea336fc",
   "metadata": {},
   "outputs": [],
   "source": [
    "with profiler.profile(with_stack=True, profile_memory=True) as prof:\n",
    "    loss = mce_fn(data_logits, lbl2data_input_ids, lbl2data_data2ptr)\n",
    "    print(loss)"
   ]
  },
  {
   "cell_type": "code",
   "execution_count": null,
   "id": "a5f9a620-a70e-472e-8449-e179d43eeaf5",
   "metadata": {},
   "outputs": [
    {
     "name": "stdout",
     "output_type": "stream",
     "text": [
      "<unfinished torch.autograd.profile>\n"
     ]
    }
   ],
   "source": [
    "print(prof)"
   ]
  },
  {
   "cell_type": "markdown",
   "id": "c51f4ca4-2a97-4b16-a916-dbdf3a909645",
   "metadata": {
    "jp-MarkdownHeadingCollapsed": true
   },
   "source": [
    "## Calibration"
   ]
  },
  {
   "cell_type": "code",
   "execution_count": null,
   "id": "d7cea461-c814-4802-a9bd-08cde36b4d9c",
   "metadata": {},
   "outputs": [],
   "source": [
    "#| export\n",
    "class Calibration(BaseLoss):\n",
    "\n",
    "    def __init__(self,\n",
    "                 margin:Optional[float]=0.3,\n",
    "                 tau:Optional[float]=0.1,\n",
    "                 n_negatives:Optional[int]=10,\n",
    "                 apply_softmax:Optional[bool]=True,\n",
    "                 **kwargs):\n",
    "        super().__init__(**kwargs)\n",
    "        store_attr('margin,tau,n_negatives,apply_softmax')\n",
    "        "
   ]
  },
  {
   "cell_type": "code",
   "execution_count": null,
   "id": "baf0ba6a-91ae-4c80-8a68-b8beb038b6aa",
   "metadata": {},
   "outputs": [],
   "source": [
    "#| export\n",
    "@patch\n",
    "def forward(cls:Calibration,\n",
    "            einp:torch.FloatTensor,\n",
    "            inp:torch.FloatTensor, \n",
    "            targ:torch.LongTensor, \n",
    "            n_inp2targ:torch.LongTensor,\n",
    "            inp2targ_idx:torch.LongTensor,\n",
    "            n_pinp2targ:torch.LongTensor,\n",
    "            pinp2targ_idx:torch.LongTensor,\n",
    "            margin:Optional[float]=None,\n",
    "            tau:Optional[float]=None,\n",
    "            n_negatives:Optional[int]=None,\n",
    "            apply_softmax:Optional[bool]=None,\n",
    "            **kwargs):\n",
    "    store_attr('margin', is_none=False)\n",
    "    \n",
    "    esc,sc = einp@targ.T,inp@targ.T\n",
    "    \n",
    "    _, idx = torch.unique(torch.cat([inp2targ_idx, pinp2targ_idx]), return_inverse=True)\n",
    "    pos = get_sparse_matrix(idx[len(inp2targ_idx):], n_pinp2targ).to_dense()[:, idx[:len(inp2targ_idx)]]\n",
    "\n",
    "    mul = 2*pos - 1\n",
    "    loss = F.relu((sc-esc)*mul + cls.margin)\n",
    "\n",
    "    if cls.n_negatives is not None:\n",
    "        loss, idx = torch.topk(loss, min(cls.n_negatives, loss.shape[1]), dim=1, largest=True)\n",
    "        esc,sc,mul = esc.gather(1, idx), sc.gather(1, idx), mul.gather(1, idx)\n",
    "    \n",
    "    if cls.apply_softmax:\n",
    "        m = loss != 0\n",
    "        s = torch.where(mul == 1, sc, esc)\n",
    "        p = s/cls.tau * m\n",
    "        p = torch.softmax(p, dim=1)\n",
    "        loss = loss*p\n",
    "    \n",
    "    if cls.reduction == 'mean': return loss.mean()\n",
    "    elif cls.reduction == 'sum': return loss.sum()\n",
    "    else: raise ValueError(f'`reduction` cannot be `{cls.reduction}`')\n",
    "        "
   ]
  },
  {
   "cell_type": "markdown",
   "id": "a6ddd19d-46ce-4ee4-b380-98113e3adf51",
   "metadata": {},
   "source": [
    "### Example"
   ]
  },
  {
   "cell_type": "code",
   "execution_count": null,
   "id": "e1b29d07-2775-4052-8d0b-09f9c20eaf98",
   "metadata": {},
   "outputs": [],
   "source": [
    "loss_fn = Calibration(0.3, reduce='mean')"
   ]
  },
  {
   "cell_type": "code",
   "execution_count": null,
   "id": "d6117673-c2b9-45db-acfd-c502164f0ee8",
   "metadata": {},
   "outputs": [
    {
     "data": {
      "text/plain": [
       "tensor(0.8689, grad_fn=<MeanBackward0>)"
      ]
     },
     "execution_count": null,
     "metadata": {},
     "output_type": "execute_result"
    }
   ],
   "source": [
    "loss = loss_fn(data_repr+torch.randn(data_repr.shape), data_repr, lbl2data_repr, lbl2data_data2ptr, lbl2data_idx, \n",
    "               kwargs['plbl2data_data2ptr'], kwargs['plbl2data_idx']); loss"
   ]
  },
  {
   "cell_type": "markdown",
   "id": "88a40e0b-6b16-420d-b59b-ef38d591f331",
   "metadata": {},
   "source": [
    "## `Old` MultiTriplet"
   ]
  },
  {
   "cell_type": "code",
   "execution_count": 36,
   "id": "6078f2cb-f54a-41b3-8180-f3ce94f92602",
   "metadata": {},
   "outputs": [],
   "source": [
    "#| export\n",
    "class MultiTriplet(BaseLoss):\n",
    "\n",
    "    def __init__(self,\n",
    "                 bsz:Optional[int]=None, \n",
    "                 tn_targ:Optional[int]=None,\n",
    "                 margin:Optional[float]=0.8,\n",
    "                 tau:Optional[float]=0.1,\n",
    "                 apply_softmax:Optional[bool]=False,\n",
    "                 n_negatives:Optional[int]=5,\n",
    "                 **kwargs):\n",
    "        super().__init__(**kwargs)\n",
    "        store_attr('bsz,tn_targ,margin,tau,apply_softmax,n_negatives')\n",
    "        self.u = torch.arange(bsz, dtype=torch.int64) if bsz is not None else None\n",
    "        self.v = torch.ones(tn_targ, dtype=torch.int64) if tn_targ is not None else None\n",
    "        "
   ]
  },
  {
   "cell_type": "code",
   "execution_count": null,
   "id": "47e84212-8ab0-45cf-9879-0e4fb826be66",
   "metadata": {},
   "outputs": [],
   "source": [
    "mtl_fn = MultiTriplet(bsz, 10_000, 0.8, tau=0.1, n_negatives=5, apply_softmax=True, reduce='mean')"
   ]
  },
  {
   "cell_type": "code",
   "execution_count": 37,
   "id": "5214f7ad",
   "metadata": {},
   "outputs": [],
   "source": [
    "#| export\n",
    "@patch\n",
    "def forward(cls:MultiTriplet, \n",
    "            inp:torch.FloatTensor, \n",
    "            targ:torch.LongTensor, \n",
    "            n_inp2targ:torch.LongTensor,\n",
    "            inp2targ_idx:torch.LongTensor,\n",
    "            n_pinp2targ:torch.LongTensor,\n",
    "            pinp2targ_idx:torch.LongTensor,\n",
    "            margin:Optional[float]=None,\n",
    "            tau:Optional[float]=None,\n",
    "            apply_softmax:Optional[bool]=None,\n",
    "            n_negatives:Optional[int]=None,\n",
    "            **kwargs):\n",
    "    store_attr('margin,tau,apply_softmax,n_negatives', is_none=False)\n",
    "    \n",
    "    cls.u = cls.u.to(inp.device) if cls.u is not None else None\n",
    "    cls.v = cls.v.to(inp.device) if cls.v is not None else None\n",
    "    \n",
    "    bsz, tn_targ, mn_targ = inp.shape[0], targ.shape[0], n_inp2targ.max()\n",
    "    u = torch.arange(bsz, dtype=torch.int64, device=inp.device) if cls.u is None or cls.bsz < bsz else cls.u[:bsz]\n",
    "    v = (\n",
    "        torch.ones(tn_targ, dtype=torch.int64, device=targ.device)\n",
    "        if cls.tn_targ is None or tn_targ > cls.tn_targ else cls.v[:tn_targ]\n",
    "    )\n",
    "    \n",
    "    targ2inp_ptr = u.repeat_interleave(n_inp2targ)\n",
    "    sc = targ@inp.T\n",
    "    ps = sc.gather(1, targ2inp_ptr.view(-1,1))\n",
    "    \n",
    "    _, idx = torch.unique(torch.cat([inp2targ_idx, pinp2targ_idx]), return_inverse=True)\n",
    "    ne = 1 - get_sparse_matrix(idx[len(inp2targ_idx):], n_pinp2targ).to_dense()[:, idx[:len(inp2targ_idx)]]\n",
    "    ne = ne.unsqueeze(1)\n",
    "    \n",
    "    inp2targ_ptr = n_inp2targ.cumsum(dim=0)-1\n",
    "    xn_inp2targ = mn_targ-n_inp2targ+1\n",
    "    r_targ = v.scatter(0, inp2targ_ptr, xn_inp2targ)\n",
    "\n",
    "    psx = ps.repeat_interleave(r_targ).view(bsz, -1, 1)\n",
    "    sc = sc.T.view(bsz, 1, -1)\n",
    "    loss = F.relu((sc - psx + cls.margin)*ne)\n",
    "    \n",
    "    if cls.n_negatives is not None:\n",
    "        loss, idx = torch.topk(loss, min(cls.n_negatives, loss.shape[2]-n_inp2targ.max()), dim=2, largest=True)\n",
    "        sc, ne = sc.expand(-1, mn_targ, -1).gather(2, idx), ne.expand(-1, mn_targ, -1).gather(2, idx)\n",
    "    else: ne = ne.expand(-1, mn_targ, -1)\n",
    "    \n",
    "    if cls.apply_softmax:\n",
    "        m = loss != 0\n",
    "        p = sc/cls.tau * m\n",
    "        p[ne == 0] = torch.finfo(p.dtype).min\n",
    "        p = torch.softmax(p, dim=2)\n",
    "        loss = loss*p\n",
    "        \n",
    "    loss /= (ne.sum(dim=2, keepdim=True) + 1e-9)\n",
    "    \n",
    "    xr_targ = r_targ.repeat_interleave(r_targ).view(bsz, -1, 1)\n",
    "    loss /= xr_targ\n",
    "    \n",
    "    if cls.reduction == 'mean': return loss.sum()/n_inp2targ.sum()\n",
    "    elif cls.reduction == 'sum': return loss.sum()\n",
    "    else: raise ValueError(f'`reduction` cannot be `{cls.reduction}`')\n",
    "        "
   ]
  },
  {
   "cell_type": "code",
   "execution_count": null,
   "id": "482caf8c-68b8-4a4f-856d-90d46bc0cb2b",
   "metadata": {},
   "outputs": [
    {
     "name": "stderr",
     "output_type": "stream",
     "text": [
      "/tmp/ipykernel_11515/2333834419.py:6: UserWarning: Sparse CSR tensor support is in beta state. If you miss a functionality in the sparse tensor support, please submit a feature request to https://github.com/pytorch/pytorch/issues. (Triggered internally at ../aten/src/ATen/SparseCsrTensorImpl.cpp:53.)\n",
      "  return torch.sparse_csr_tensor(data_ptr, data_idx, scores, device=data_ptr.device)\n"
     ]
    },
    {
     "data": {
      "text/plain": [
       "tensor(1.2115, device='cuda:0', grad_fn=<DivBackward0>)"
      ]
     },
     "execution_count": null,
     "metadata": {},
     "output_type": "execute_result"
    }
   ],
   "source": [
    "loss = mtl_fn(data_repr, lbl2data_repr, lbl2data_data2ptr, lbl2data_idx, kwargs['plbl2data_data2ptr'],\n",
    "              kwargs['plbl2data_idx'], n_negatives=5); loss"
   ]
  },
  {
   "cell_type": "code",
   "execution_count": null,
   "id": "896f3778",
   "metadata": {},
   "outputs": [],
   "source": []
  },
  {
   "cell_type": "code",
   "execution_count": null,
   "id": "7f0380db-6899-4f26-a250-4439bfe4790f",
   "metadata": {},
   "outputs": [],
   "source": [
    "with profiler.profile(with_stack=True, profile_memory=True) as prof:\n",
    "    loss = mtl_fn(data_repr, lbl2data_repr, lbl2data_data2ptr, lbl2data_idx)\n",
    "    print(loss)"
   ]
  },
  {
   "cell_type": "code",
   "execution_count": null,
   "id": "26a0cb4b-9c45-4b4e-a360-2aea0305bc45",
   "metadata": {
    "scrolled": true
   },
   "outputs": [
    {
     "name": "stdout",
     "output_type": "stream",
     "text": [
      "-------------------------------------------------------  ------------  ------------  ------------  ------------  ------------  ------------  ------------  ------------  ------------  ------------  \n",
      "                                                   Name    Self CPU %      Self CPU   CPU total %     CPU total  CPU time avg       CPU Mem  Self CPU Mem      CUDA Mem  Self CUDA Mem    # of Calls  \n",
      "-------------------------------------------------------  ------------  ------------  ------------  ------------  ------------  ------------  ------------  ------------  ------------  ------------  \n",
      "                                              aten::max         0.95%     519.000us         1.11%     610.000us     610.000us           0 b           0 b         512 b           0 b             1  \n",
      "                                            aten::empty         0.08%      43.000us         0.08%      43.000us      43.000us           0 b           0 b         512 b         512 b             1  \n",
      "                                       aten::as_strided         0.01%       5.000us         0.01%       5.000us       5.000us           0 b           0 b           0 b           0 b             1  \n",
      "                                       cudaLaunchKernel         0.08%      43.000us         0.08%      43.000us      43.000us           0 b           0 b           0 b           0 b             1  \n",
      "                                            aten::slice         0.03%      17.000us         0.03%      19.000us      19.000us           0 b           0 b           0 b           0 b             1  \n",
      "                                       aten::as_strided         0.00%       2.000us         0.00%       2.000us       2.000us           0 b           0 b           0 b           0 b             1  \n",
      "                                            aten::slice         0.01%       4.000us         0.01%       5.000us       5.000us           0 b           0 b           0 b           0 b             1  \n",
      "                                       aten::as_strided         0.00%       1.000us         0.00%       1.000us       1.000us           0 b           0 b           0 b           0 b             1  \n",
      "                                aten::repeat_interleave         0.04%      21.000us         0.80%     440.000us     440.000us           0 b           0 b       8.50 Kb      -8.50 Kb             1  \n",
      "                                          aten::flatten         0.00%       0.000us         0.00%       0.000us       0.000us           0 b           0 b           0 b           0 b             1  \n",
      "                                aten::repeat_interleave         0.11%      61.000us         0.65%     358.000us     358.000us           0 b           0 b       8.50 Kb      -5.00 Kb             1  \n",
      "                                           aten::cumsum         0.11%      60.000us         0.16%      86.000us      86.000us           0 b           0 b       4.00 Kb       4.00 Kb             1  \n",
      "                                               aten::to         0.00%       1.000us         0.00%       1.000us       1.000us           0 b           0 b           0 b           0 b             1  \n",
      "                                       cudaLaunchKernel         0.02%      13.000us         0.02%      13.000us      13.000us           0 b           0 b           0 b           0 b             1  \n",
      "                                    cudaPeekAtLastError         0.00%       0.000us         0.00%       0.000us       0.000us           0 b           0 b           0 b           0 b             1  \n",
      "                                    cudaPeekAtLastError         0.00%       0.000us         0.00%       0.000us       0.000us           0 b           0 b           0 b           0 b             1  \n",
      "cudaOccupancyMaxActiveBlocksPerMultiprocessorWithFla...         0.01%       3.000us         0.01%       3.000us       3.000us           0 b           0 b           0 b           0 b             1  \n",
      "                                 cudaDeviceGetAttribute         0.00%       2.000us         0.00%       2.000us       2.000us           0 b           0 b           0 b           0 b             1  \n",
      "                                       cudaLaunchKernel         0.01%       7.000us         0.01%       7.000us       7.000us           0 b           0 b           0 b           0 b             1  \n",
      "                                    cudaPeekAtLastError         0.00%       0.000us         0.00%       0.000us       0.000us           0 b           0 b           0 b           0 b             1  \n",
      "                                    cudaPeekAtLastError         0.00%       0.000us         0.00%       0.000us       0.000us           0 b           0 b           0 b           0 b             1  \n",
      "                                           aten::select         0.02%      10.000us         0.02%      11.000us      11.000us           0 b           0 b           0 b           0 b             1  \n",
      "                                       aten::as_strided         0.00%       1.000us         0.00%       1.000us       1.000us           0 b           0 b           0 b           0 b             1  \n",
      "                                             aten::item         0.01%       4.000us         0.11%      61.000us      61.000us           0 b           0 b           0 b           0 b             1  \n",
      "                              aten::_local_scalar_dense         0.01%       8.000us         0.10%      57.000us      57.000us           0 b           0 b           0 b           0 b             1  \n",
      "                                        cudaMemcpyAsync         0.07%      41.000us         0.07%      41.000us      41.000us           0 b           0 b           0 b           0 b             1  \n",
      "                                  cudaStreamSynchronize         0.01%       8.000us         0.01%       8.000us       8.000us           0 b           0 b           0 b           0 b             1  \n",
      "                                               aten::ge         0.07%      41.000us         0.09%      52.000us      52.000us           0 b           0 b         512 b         512 b             1  \n",
      "                                       cudaLaunchKernel         0.02%      11.000us         0.02%      11.000us      11.000us           0 b           0 b           0 b           0 b             1  \n",
      "                                              aten::all         0.06%      31.000us         0.08%      42.000us      42.000us           0 b           0 b         512 b         512 b             1  \n",
      "                                       aten::as_strided         0.00%       1.000us         0.00%       1.000us       1.000us           0 b           0 b           0 b           0 b             1  \n",
      "                                       cudaLaunchKernel         0.02%      10.000us         0.02%      10.000us      10.000us           0 b           0 b           0 b           0 b             1  \n",
      "                                             aten::item         0.01%       3.000us         0.05%      28.000us      28.000us           0 b           0 b           0 b           0 b             1  \n",
      "                              aten::_local_scalar_dense         0.01%       6.000us         0.05%      25.000us      25.000us           0 b           0 b           0 b           0 b             1  \n",
      "                                        cudaMemcpyAsync         0.03%      17.000us         0.03%      17.000us      17.000us           0 b           0 b           0 b           0 b             1  \n",
      "                                  cudaStreamSynchronize         0.00%       2.000us         0.00%       2.000us       2.000us           0 b           0 b           0 b           0 b             1  \n",
      "                                            aten::empty         0.02%       9.000us         0.02%       9.000us       9.000us           0 b           0 b       8.50 Kb       8.50 Kb             1  \n",
      "                                       cudaLaunchKernel         0.01%       8.000us         0.01%       8.000us       8.000us           0 b           0 b           0 b           0 b             1  \n",
      "                                     aten::index_select         0.06%      35.000us         0.11%      61.000us      61.000us           0 b           0 b       8.50 Kb           0 b             1  \n",
      "                                            aten::empty         0.01%       6.000us         0.01%       6.000us       6.000us           0 b           0 b           0 b           0 b             1  \n",
      "                                          aten::resize_         0.02%      10.000us         0.02%      10.000us      10.000us           0 b           0 b       8.50 Kb       8.50 Kb             1  \n",
      "                                       cudaLaunchKernel         0.02%      10.000us         0.02%      10.000us      10.000us           0 b           0 b           0 b           0 b             1  \n",
      "                                          aten::numpy_T         0.01%       4.000us         0.05%      28.000us      28.000us           0 b           0 b           0 b           0 b             1  \n",
      "                                          aten::permute         0.04%      22.000us         0.04%      24.000us      24.000us           0 b           0 b           0 b           0 b             1  \n",
      "                                       aten::as_strided         0.00%       2.000us         0.00%       2.000us       2.000us           0 b           0 b           0 b           0 b             1  \n",
      "                                           aten::matmul         0.01%       7.000us         0.21%     116.000us     116.000us           0 b           0 b       2.12 Mb           0 b             1  \n",
      "                                               aten::mm         0.16%      86.000us         0.20%     109.000us     109.000us           0 b           0 b       2.12 Mb       2.12 Mb             1  \n",
      "                                        cudaMemsetAsync         0.02%      11.000us         0.02%      11.000us      11.000us           0 b           0 b           0 b           0 b             1  \n",
      "          cudaOccupancyMaxActiveBlocksPerMultiprocessor         0.01%       3.000us         0.01%       3.000us       3.000us           0 b           0 b           0 b           0 b             1  \n",
      "                                       cudaLaunchKernel         0.02%       9.000us         0.02%       9.000us       9.000us           0 b           0 b           0 b           0 b             1  \n",
      "                                             aten::view         0.01%       6.000us         0.01%       6.000us       6.000us           0 b           0 b           0 b           0 b             1  \n",
      "                                           aten::gather         0.08%      43.000us         0.10%      56.000us      56.000us           0 b           0 b       4.50 Kb       4.50 Kb             1  \n",
      "                                       aten::as_strided         0.00%       1.000us         0.00%       1.000us       1.000us           0 b           0 b           0 b           0 b             1  \n",
      "                                       aten::as_strided         0.00%       1.000us         0.00%       1.000us       1.000us           0 b           0 b           0 b           0 b             1  \n",
      "                                       cudaLaunchKernel         0.02%      11.000us         0.02%      11.000us      11.000us           0 b           0 b           0 b           0 b             1  \n",
      "                                           aten::cumsum         0.08%      43.000us         0.11%      58.000us      58.000us           0 b           0 b       4.00 Kb       4.00 Kb             1  \n",
      "                                               aten::to         0.00%       0.000us         0.00%       0.000us       0.000us           0 b           0 b           0 b           0 b             1  \n",
      "                                       cudaLaunchKernel         0.01%       8.000us         0.01%       8.000us       8.000us           0 b           0 b           0 b           0 b             1  \n",
      "                                    cudaPeekAtLastError         0.00%       0.000us         0.00%       0.000us       0.000us           0 b           0 b           0 b           0 b             1  \n",
      "                                    cudaPeekAtLastError         0.00%       0.000us         0.00%       0.000us       0.000us           0 b           0 b           0 b           0 b             1  \n",
      "cudaOccupancyMaxActiveBlocksPerMultiprocessorWithFla...         0.00%       1.000us         0.00%       1.000us       1.000us           0 b           0 b           0 b           0 b             1  \n",
      "                                 cudaDeviceGetAttribute         0.00%       0.000us         0.00%       0.000us       0.000us           0 b           0 b           0 b           0 b             1  \n",
      "                                       cudaLaunchKernel         0.01%       6.000us         0.01%       6.000us       6.000us           0 b           0 b           0 b           0 b             1  \n",
      "                                    cudaPeekAtLastError         0.00%       0.000us         0.00%       0.000us       0.000us           0 b           0 b           0 b           0 b             1  \n",
      "                                    cudaPeekAtLastError         0.00%       0.000us         0.00%       0.000us       0.000us           0 b           0 b           0 b           0 b             1  \n",
      "                                               [memory]         0.00%       0.000us         0.00%       0.000us       0.000us           8 b           8 b           0 b           0 b             1  \n",
      "                                              aten::sub         0.05%      26.000us         0.06%      35.000us      35.000us           0 b           0 b       4.00 Kb       4.00 Kb             1  \n",
      "                                       cudaLaunchKernel         0.02%       9.000us         0.02%       9.000us       9.000us           0 b           0 b           0 b           0 b             1  \n",
      "                                               [memory]         0.00%       0.000us         0.00%       0.000us       0.000us          -8 b          -8 b           0 b           0 b             1  \n",
      "                                               [memory]         0.00%       0.000us         0.00%       0.000us       0.000us           0 b           0 b      -4.00 Kb      -4.00 Kb             1  \n",
      "                                              aten::sub         0.03%      19.000us         0.05%      27.000us      27.000us           0 b           0 b       4.00 Kb       4.00 Kb             1  \n",
      "                                       cudaLaunchKernel         0.01%       8.000us         0.01%       8.000us       8.000us           0 b           0 b           0 b           0 b             1  \n",
      "                                               [memory]         0.00%       0.000us         0.00%       0.000us       0.000us           8 b           8 b           0 b           0 b             1  \n",
      "                                              aten::add         0.03%      19.000us         0.05%      26.000us      26.000us           0 b           0 b       4.00 Kb       4.00 Kb             1  \n",
      "                                       cudaLaunchKernel         0.01%       7.000us         0.01%       7.000us       7.000us           0 b           0 b           0 b           0 b             1  \n",
      "                                               [memory]         0.00%       0.000us         0.00%       0.000us       0.000us          -8 b          -8 b           0 b           0 b             1  \n",
      "                                               [memory]         0.00%       0.000us         0.00%       0.000us       0.000us           0 b           0 b      -4.00 Kb      -4.00 Kb             1  \n",
      "                                          aten::scatter         0.08%      42.000us         0.18%      99.000us      99.000us           0 b           0 b       8.50 Kb       8.50 Kb             1  \n",
      "                                            aten::copy_         0.03%      14.000us         0.09%      48.000us      48.000us           0 b           0 b           0 b           0 b             1  \n",
      "                                        cudaMemcpyAsync         0.06%      34.000us         0.06%      34.000us      34.000us           0 b           0 b           0 b           0 b             1  \n",
      "                                       aten::as_strided         0.00%       1.000us         0.00%       1.000us       1.000us           0 b           0 b           0 b           0 b             1  \n",
      "                                       aten::as_strided         0.00%       0.000us         0.00%       0.000us       0.000us           0 b           0 b           0 b           0 b             1  \n",
      "                                       cudaLaunchKernel         0.01%       8.000us         0.01%       8.000us       8.000us           0 b           0 b           0 b           0 b             1  \n",
      "                                aten::repeat_interleave         0.02%      13.000us         0.55%     302.000us     302.000us           0 b           0 b     184.00 Kb           0 b             1  \n",
      "                                          aten::flatten         0.00%       0.000us         0.00%       0.000us       0.000us           0 b           0 b           0 b           0 b             1  \n",
      "                                aten::repeat_interleave         0.08%      44.000us         0.44%     244.000us     244.000us           0 b           0 b      92.00 Kb     -10.50 Kb             1  \n",
      "                                           aten::cumsum         0.07%      40.000us         0.09%      52.000us      52.000us           0 b           0 b       8.50 Kb       8.50 Kb             1  \n",
      "                                               aten::to         0.00%       0.000us         0.00%       0.000us       0.000us           0 b           0 b           0 b           0 b             1  \n",
      "                                       cudaLaunchKernel         0.01%       6.000us         0.01%       6.000us       6.000us           0 b           0 b           0 b           0 b             1  \n",
      "                                    cudaPeekAtLastError         0.00%       0.000us         0.00%       0.000us       0.000us           0 b           0 b           0 b           0 b             1  \n",
      "                                    cudaPeekAtLastError         0.00%       0.000us         0.00%       0.000us       0.000us           0 b           0 b           0 b           0 b             1  \n",
      "cudaOccupancyMaxActiveBlocksPerMultiprocessorWithFla...         0.00%       1.000us         0.00%       1.000us       1.000us           0 b           0 b           0 b           0 b             1  \n",
      "                                 cudaDeviceGetAttribute         0.00%       0.000us         0.00%       0.000us       0.000us           0 b           0 b           0 b           0 b             1  \n",
      "                                       cudaLaunchKernel         0.01%       5.000us         0.01%       5.000us       5.000us           0 b           0 b           0 b           0 b             1  \n",
      "                                    cudaPeekAtLastError         0.00%       0.000us         0.00%       0.000us       0.000us           0 b           0 b           0 b           0 b             1  \n",
      "                                    cudaPeekAtLastError         0.00%       0.000us         0.00%       0.000us       0.000us           0 b           0 b           0 b           0 b             1  \n",
      "                                           aten::select         0.01%       6.000us         0.01%       7.000us       7.000us           0 b           0 b           0 b           0 b             1  \n",
      "                                       aten::as_strided         0.00%       1.000us         0.00%       1.000us       1.000us           0 b           0 b           0 b           0 b             1  \n",
      "                                             aten::item         0.01%       3.000us         0.06%      34.000us      34.000us           0 b           0 b           0 b           0 b             1  \n",
      "                              aten::_local_scalar_dense         0.01%       7.000us         0.06%      31.000us      31.000us           0 b           0 b           0 b           0 b             1  \n",
      "-------------------------------------------------------  ------------  ------------  ------------  ------------  ------------  ------------  ------------  ------------  ------------  ------------  \n",
      "Self CPU time total: 54.897ms\n",
      "\n"
     ]
    }
   ],
   "source": [
    "print(prof)"
   ]
  },
  {
   "cell_type": "markdown",
   "id": "67466ab3",
   "metadata": {},
   "source": [
    "This the below function is not upto date, it has errors in it."
   ]
  },
  {
   "cell_type": "code",
   "execution_count": null,
   "id": "e95f12be",
   "metadata": {},
   "outputs": [],
   "source": [
    "@patch\n",
    "def forward(cls:MultiTriplet, \n",
    "            inp:torch.FloatTensor, \n",
    "            targ:torch.LongTensor, \n",
    "            n_inp2targ:torch.LongTensor,\n",
    "            inp2targ_idx:torch.LongTensor,\n",
    "            margin:Optional[float]=None,\n",
    "            tau:Optional[float]=None,\n",
    "            apply_softmax:Optional[bool]=None,\n",
    "            n_negatives:Optional[int]=None,\n",
    "            **kwargs):\n",
    "    store_attr('margin,tau,apply_softmax,n_negatives', is_none=False)\n",
    "    bsz, tn_targ, mn_targ = inp.shape[0], targ.shape[0], n_inp2targ.max()\n",
    "    u = torch.arange(bsz, dtype=torch.int64, device=inp.device) if cls.u is None or cls.bsz < bsz else cls.u[:bsz]\n",
    "    v = (\n",
    "        torch.ones(tn_targ, dtype=torch.int64, device=targ.device)\n",
    "        if cls.tn_targ is None or tn_targ > cls.tn_targ else cls.v[:tn_targ]\n",
    "    )\n",
    "    \n",
    "    targ2inp_ptr = u.repeat_interleave(n_inp2targ)\n",
    "    sc = targ@inp.T\n",
    "    ps = sc.gather(1, targ2inp_ptr.view(-1,1))\n",
    "    \n",
    "    _, idx = torch.unique(inp2targ_idx, return_inverse=True)\n",
    "    ne = 1 - get_sparse_matrix(idx, n_inp2targ).to_dense()[:, idx]\n",
    "    ne = ne.unsqueeze(1)\n",
    "    \n",
    "    inp2targ_ptr = n_inp2targ.cumsum(dim=0)-1\n",
    "    xn_inp2targ = mn_targ-n_inp2targ+1\n",
    "    r_targ = v.scatter(0, inp2targ_ptr, xn_inp2targ)\n",
    "\n",
    "    psx = ps.repeat_interleave(r_targ).view(bsz, -1, 1)\n",
    "    sc = sc.T.view(bsz, 1, -1)\n",
    "    loss = torch.clamp((sc - psx + cls.margin)*ne, 0)\n",
    "    \n",
    "    if cls.n_negatives is not None:\n",
    "        loss, idx = torch.topk(loss, min(cls.n_negatives, loss.shape[2]-n_inp2targ.max()), dim=2, largest=True)\n",
    "        sc, ne = sc.expand(-1, mn_targ, -1).gather(2, idx), ne.expand(-1, mn_targ, -1).gather(2, idx)\n",
    "    else: ne = ne.expand(-1, mn_targ, -1)\n",
    "    \n",
    "    if cls.apply_softmax:\n",
    "        m = loss != 0\n",
    "        p = sc/cls.tau * m\n",
    "        p[ne == 0] = -1e9\n",
    "        p = torch.softmax(p, dim=2)\n",
    "        loss = loss*p\n",
    "        \n",
    "    loss /= (ne.sum(dim=2, keepdim=True) + 1e-9)\n",
    "    \n",
    "    xr_targ = r_targ.repeat_interleave(r_targ).view(bsz, -1, 1)\n",
    "    loss /= xr_targ\n",
    "    \n",
    "    if cls.reduction == 'mean': return loss.sum()/n_inp2targ.sum()\n",
    "    elif cls.reduction == 'sum': return loss.sum()\n",
    "    else: raise ValueError(f'`reduction` cannot be `{cls.reduction}`')\n",
    "        "
   ]
  },
  {
   "cell_type": "code",
   "execution_count": null,
   "id": "963b3dc7-b9b4-48ab-a4c9-06aabab60374",
   "metadata": {},
   "outputs": [],
   "source": [
    "@patch\n",
    "def forward(cls:MultiTriplet, \n",
    "            inp:torch.FloatTensor, \n",
    "            targ:torch.LongTensor, \n",
    "            n_inp2targ:torch.LongTensor, \n",
    "            inp2targ_idx:torch.LongTensor,\n",
    "            margin:Optional[float]=None,\n",
    "            tau:Optional[float]=0.1,\n",
    "            apply_softmax=False,\n",
    "            **kwargs):\n",
    "    store_attr('margin,tau,apply_softmax', is_none=False)\n",
    "    score = inp@targ.T\n",
    "    ptr, loss, num_ne = 0, [], 0\n",
    "    \n",
    "    _, idx = torch.unique(inp2targ_idx, return_inverse=True)\n",
    "    ne = 1 - get_sparse_matrix(idx, n_inp2targ).to_dense()[:, idx]\n",
    "    \n",
    "    for i, n in enumerate(n_inp2targ):\n",
    "        ps = score[i, ptr:ptr+n].view(-1, 1)\n",
    "        fs = torch.clamp((score[i] - ps + cls.margin)*ne[i], 0)\n",
    "        if cls.apply_softmax: \n",
    "            m = fs != 0\n",
    "            p = torch.softmax(score[i]/self.tau * m, dim=1)\n",
    "            fs = fs*p\n",
    "        loss.append(fs)\n",
    "        ptr += n.item()\n",
    "        num_ne += n*ne[i].sum()\n",
    "    loss = torch.vstack(loss)\n",
    "    if cls.reduction == 'mean': return loss.sum()/num_ne\n",
    "    elif cls.reduction == 'sum': return loss.sum()\n",
    "    else: raise ValueError(f'`reduction` cannot be `{cls.reduction}`')\n",
    "             "
   ]
  },
  {
   "cell_type": "code",
   "execution_count": null,
   "id": "c4174e38-ffac-4e67-8899-4303fc2c35cb",
   "metadata": {},
   "outputs": [
    {
     "data": {
      "text/plain": [
       "tensor(0.7512, device='cuda:0', grad_fn=<DivBackward0>)"
      ]
     },
     "execution_count": null,
     "metadata": {},
     "output_type": "execute_result"
    }
   ],
   "source": [
    "loss = mtl_fn(data_repr, lbl2data_repr, lbl2data_data2ptr, lbl2data_idx); loss"
   ]
  },
  {
   "cell_type": "code",
   "execution_count": null,
   "id": "bf0eb396-8946-413f-a3b6-1733699a80a9",
   "metadata": {},
   "outputs": [
    {
     "name": "stderr",
     "output_type": "stream",
     "text": [
      "STAGE:2024-04-19 01:54:10 13866:13866 ActivityProfilerController.cpp:314] Completed Stage: Warm Up\n",
      "STAGE:2024-04-19 01:54:10 13866:13866 ActivityProfilerController.cpp:320] Completed Stage: Collection\n",
      "STAGE:2024-04-19 01:54:10 13866:13866 ActivityProfilerController.cpp:324] Completed Stage: Post Processing\n"
     ]
    },
    {
     "name": "stdout",
     "output_type": "stream",
     "text": [
      "tensor(1.4957, device='cuda:0', grad_fn=<MeanBackward0>)\n"
     ]
    }
   ],
   "source": [
    "with profiler.profile(with_stack=True, profile_memory=True) as prof:\n",
    "    loss = mtl_fn(data_repr, lbl2data_repr, lbl2data_data2ptr)\n",
    "    print(loss)"
   ]
  },
  {
   "cell_type": "code",
   "execution_count": null,
   "id": "adb317c3-2329-4d40-9e52-72e6c856e623",
   "metadata": {
    "scrolled": true
   },
   "outputs": [
    {
     "name": "stdout",
     "output_type": "stream",
     "text": [
      "-------------------------------------------------  ------------  ------------  ------------  ------------  ------------  ------------  ------------  ------------  ------------  ------------  \n",
      "                                             Name    Self CPU %      Self CPU   CPU total %     CPU total  CPU time avg       CPU Mem  Self CPU Mem      CUDA Mem  Self CUDA Mem    # of Calls  \n",
      "-------------------------------------------------  ------------  ------------  ------------  ------------  ------------  ------------  ------------  ------------  ------------  ------------  \n",
      "                                    aten::numpy_T         0.00%       5.000us         0.03%      53.000us      53.000us           0 b           0 b           0 b           0 b             1  \n",
      "                                    aten::permute         0.03%      38.000us         0.03%      48.000us      48.000us           0 b           0 b           0 b           0 b             1  \n",
      "                                 aten::as_strided         0.01%      10.000us         0.01%      10.000us      10.000us           0 b           0 b           0 b           0 b             1  \n",
      "                                     aten::matmul         0.01%      11.000us         0.52%     782.000us     782.000us           0 b           0 b       2.12 Mb           0 b             1  \n",
      "                                         aten::mm         0.44%     671.000us         0.51%     771.000us     771.000us           0 b           0 b       2.12 Mb       2.12 Mb             1  \n",
      "    cudaOccupancyMaxActiveBlocksPerMultiprocessor         0.02%      23.000us         0.02%      23.000us      23.000us           0 b           0 b           0 b           0 b             1  \n",
      "                                  cudaMemsetAsync         0.01%      22.000us         0.01%      22.000us      22.000us           0 b           0 b           0 b           0 b             1  \n",
      "                                 cudaLaunchKernel         0.04%      55.000us         0.04%      55.000us      55.000us           0 b           0 b           0 b           0 b             1  \n",
      "                                     aten::unbind         0.76%       1.154ms         1.59%       2.415ms       2.415ms           0 b           0 b           0 b           0 b             1  \n",
      "                                     aten::select         0.01%      14.000us         0.01%      16.000us      16.000us           0 b           0 b           0 b           0 b             1  \n",
      "                                 aten::as_strided         0.00%       2.000us         0.00%       2.000us       2.000us           0 b           0 b           0 b           0 b             1  \n",
      "                                     aten::select         0.00%       3.000us         0.00%       3.000us       3.000us           0 b           0 b           0 b           0 b             1  \n",
      "                                 aten::as_strided         0.00%       0.000us         0.00%       0.000us       0.000us           0 b           0 b           0 b           0 b             1  \n",
      "                                     aten::select         0.00%       3.000us         0.00%       3.000us       3.000us           0 b           0 b           0 b           0 b             1  \n",
      "                                 aten::as_strided         0.00%       0.000us         0.00%       0.000us       0.000us           0 b           0 b           0 b           0 b             1  \n",
      "                                     aten::select         0.00%       3.000us         0.00%       3.000us       3.000us           0 b           0 b           0 b           0 b             1  \n",
      "                                 aten::as_strided         0.00%       0.000us         0.00%       0.000us       0.000us           0 b           0 b           0 b           0 b             1  \n",
      "                                     aten::select         0.00%       3.000us         0.00%       3.000us       3.000us           0 b           0 b           0 b           0 b             1  \n",
      "                                 aten::as_strided         0.00%       0.000us         0.00%       0.000us       0.000us           0 b           0 b           0 b           0 b             1  \n",
      "                                     aten::select         0.00%       3.000us         0.00%       3.000us       3.000us           0 b           0 b           0 b           0 b             1  \n",
      "                                 aten::as_strided         0.00%       0.000us         0.00%       0.000us       0.000us           0 b           0 b           0 b           0 b             1  \n",
      "                                     aten::select         0.00%       3.000us         0.00%       3.000us       3.000us           0 b           0 b           0 b           0 b             1  \n",
      "                                 aten::as_strided         0.00%       0.000us         0.00%       0.000us       0.000us           0 b           0 b           0 b           0 b             1  \n",
      "                                     aten::select         0.00%       3.000us         0.00%       3.000us       3.000us           0 b           0 b           0 b           0 b             1  \n",
      "                                 aten::as_strided         0.00%       0.000us         0.00%       0.000us       0.000us           0 b           0 b           0 b           0 b             1  \n",
      "                                     aten::select         0.00%       3.000us         0.00%       3.000us       3.000us           0 b           0 b           0 b           0 b             1  \n",
      "                                 aten::as_strided         0.00%       0.000us         0.00%       0.000us       0.000us           0 b           0 b           0 b           0 b             1  \n",
      "                                     aten::select         0.00%       3.000us         0.00%       3.000us       3.000us           0 b           0 b           0 b           0 b             1  \n",
      "                                 aten::as_strided         0.00%       0.000us         0.00%       0.000us       0.000us           0 b           0 b           0 b           0 b             1  \n",
      "                                     aten::select         0.00%       3.000us         0.00%       3.000us       3.000us           0 b           0 b           0 b           0 b             1  \n",
      "                                 aten::as_strided         0.00%       0.000us         0.00%       0.000us       0.000us           0 b           0 b           0 b           0 b             1  \n",
      "                                     aten::select         0.00%       3.000us         0.00%       3.000us       3.000us           0 b           0 b           0 b           0 b             1  \n",
      "                                 aten::as_strided         0.00%       0.000us         0.00%       0.000us       0.000us           0 b           0 b           0 b           0 b             1  \n",
      "                                     aten::select         0.00%       2.000us         0.00%       3.000us       3.000us           0 b           0 b           0 b           0 b             1  \n",
      "                                 aten::as_strided         0.00%       1.000us         0.00%       1.000us       1.000us           0 b           0 b           0 b           0 b             1  \n",
      "                                     aten::select         0.00%       3.000us         0.00%       3.000us       3.000us           0 b           0 b           0 b           0 b             1  \n",
      "                                 aten::as_strided         0.00%       0.000us         0.00%       0.000us       0.000us           0 b           0 b           0 b           0 b             1  \n",
      "                                     aten::select         0.00%       3.000us         0.00%       3.000us       3.000us           0 b           0 b           0 b           0 b             1  \n",
      "                                 aten::as_strided         0.00%       0.000us         0.00%       0.000us       0.000us           0 b           0 b           0 b           0 b             1  \n",
      "                                     aten::select         0.00%       3.000us         0.00%       3.000us       3.000us           0 b           0 b           0 b           0 b             1  \n",
      "                                 aten::as_strided         0.00%       0.000us         0.00%       0.000us       0.000us           0 b           0 b           0 b           0 b             1  \n",
      "                                     aten::select         0.00%       3.000us         0.00%       3.000us       3.000us           0 b           0 b           0 b           0 b             1  \n",
      "                                 aten::as_strided         0.00%       0.000us         0.00%       0.000us       0.000us           0 b           0 b           0 b           0 b             1  \n",
      "                                     aten::select         0.00%       3.000us         0.00%       3.000us       3.000us           0 b           0 b           0 b           0 b             1  \n",
      "                                 aten::as_strided         0.00%       0.000us         0.00%       0.000us       0.000us           0 b           0 b           0 b           0 b             1  \n",
      "                                     aten::select         0.00%       3.000us         0.00%       3.000us       3.000us           0 b           0 b           0 b           0 b             1  \n",
      "                                 aten::as_strided         0.00%       0.000us         0.00%       0.000us       0.000us           0 b           0 b           0 b           0 b             1  \n",
      "                                     aten::select         0.00%       3.000us         0.00%       3.000us       3.000us           0 b           0 b           0 b           0 b             1  \n",
      "                                 aten::as_strided         0.00%       0.000us         0.00%       0.000us       0.000us           0 b           0 b           0 b           0 b             1  \n",
      "                                     aten::select         0.00%       3.000us         0.00%       3.000us       3.000us           0 b           0 b           0 b           0 b             1  \n",
      "                                 aten::as_strided         0.00%       0.000us         0.00%       0.000us       0.000us           0 b           0 b           0 b           0 b             1  \n",
      "                                     aten::select         0.00%       3.000us         0.00%       3.000us       3.000us           0 b           0 b           0 b           0 b             1  \n",
      "                                 aten::as_strided         0.00%       0.000us         0.00%       0.000us       0.000us           0 b           0 b           0 b           0 b             1  \n",
      "                                     aten::select         0.00%       3.000us         0.00%       3.000us       3.000us           0 b           0 b           0 b           0 b             1  \n",
      "                                 aten::as_strided         0.00%       0.000us         0.00%       0.000us       0.000us           0 b           0 b           0 b           0 b             1  \n",
      "                                     aten::select         0.00%       3.000us         0.00%       3.000us       3.000us           0 b           0 b           0 b           0 b             1  \n",
      "                                 aten::as_strided         0.00%       0.000us         0.00%       0.000us       0.000us           0 b           0 b           0 b           0 b             1  \n",
      "                                     aten::select         0.00%       3.000us         0.00%       3.000us       3.000us           0 b           0 b           0 b           0 b             1  \n",
      "                                 aten::as_strided         0.00%       0.000us         0.00%       0.000us       0.000us           0 b           0 b           0 b           0 b             1  \n",
      "                                     aten::select         0.00%       3.000us         0.00%       3.000us       3.000us           0 b           0 b           0 b           0 b             1  \n",
      "                                 aten::as_strided         0.00%       0.000us         0.00%       0.000us       0.000us           0 b           0 b           0 b           0 b             1  \n",
      "                                     aten::select         0.00%       3.000us         0.00%       3.000us       3.000us           0 b           0 b           0 b           0 b             1  \n",
      "                                 aten::as_strided         0.00%       0.000us         0.00%       0.000us       0.000us           0 b           0 b           0 b           0 b             1  \n",
      "                                     aten::select         0.00%       3.000us         0.00%       3.000us       3.000us           0 b           0 b           0 b           0 b             1  \n",
      "                                 aten::as_strided         0.00%       0.000us         0.00%       0.000us       0.000us           0 b           0 b           0 b           0 b             1  \n",
      "                                     aten::select         0.00%       3.000us         0.00%       3.000us       3.000us           0 b           0 b           0 b           0 b             1  \n",
      "                                 aten::as_strided         0.00%       0.000us         0.00%       0.000us       0.000us           0 b           0 b           0 b           0 b             1  \n",
      "                                     aten::select         0.00%       3.000us         0.00%       3.000us       3.000us           0 b           0 b           0 b           0 b             1  \n",
      "                                 aten::as_strided         0.00%       0.000us         0.00%       0.000us       0.000us           0 b           0 b           0 b           0 b             1  \n",
      "                                     aten::select         0.00%       3.000us         0.00%       3.000us       3.000us           0 b           0 b           0 b           0 b             1  \n",
      "                                 aten::as_strided         0.00%       0.000us         0.00%       0.000us       0.000us           0 b           0 b           0 b           0 b             1  \n",
      "                                     aten::select         0.00%       3.000us         0.00%       3.000us       3.000us           0 b           0 b           0 b           0 b             1  \n",
      "                                 aten::as_strided         0.00%       0.000us         0.00%       0.000us       0.000us           0 b           0 b           0 b           0 b             1  \n",
      "                                     aten::select         0.00%       3.000us         0.00%       3.000us       3.000us           0 b           0 b           0 b           0 b             1  \n",
      "                                 aten::as_strided         0.00%       0.000us         0.00%       0.000us       0.000us           0 b           0 b           0 b           0 b             1  \n",
      "                                     aten::select         0.00%       3.000us         0.00%       3.000us       3.000us           0 b           0 b           0 b           0 b             1  \n",
      "                                 aten::as_strided         0.00%       0.000us         0.00%       0.000us       0.000us           0 b           0 b           0 b           0 b             1  \n",
      "                                     aten::select         0.00%       3.000us         0.00%       3.000us       3.000us           0 b           0 b           0 b           0 b             1  \n",
      "                                 aten::as_strided         0.00%       0.000us         0.00%       0.000us       0.000us           0 b           0 b           0 b           0 b             1  \n",
      "                                     aten::select         0.00%       3.000us         0.00%       3.000us       3.000us           0 b           0 b           0 b           0 b             1  \n",
      "                                 aten::as_strided         0.00%       0.000us         0.00%       0.000us       0.000us           0 b           0 b           0 b           0 b             1  \n",
      "                                     aten::select         0.00%       3.000us         0.00%       3.000us       3.000us           0 b           0 b           0 b           0 b             1  \n",
      "                                 aten::as_strided         0.00%       0.000us         0.00%       0.000us       0.000us           0 b           0 b           0 b           0 b             1  \n",
      "                                     aten::select         0.00%       3.000us         0.00%       3.000us       3.000us           0 b           0 b           0 b           0 b             1  \n",
      "                                 aten::as_strided         0.00%       0.000us         0.00%       0.000us       0.000us           0 b           0 b           0 b           0 b             1  \n",
      "                                     aten::select         0.00%       3.000us         0.00%       3.000us       3.000us           0 b           0 b           0 b           0 b             1  \n",
      "                                 aten::as_strided         0.00%       0.000us         0.00%       0.000us       0.000us           0 b           0 b           0 b           0 b             1  \n",
      "                                     aten::select         0.00%       3.000us         0.00%       3.000us       3.000us           0 b           0 b           0 b           0 b             1  \n",
      "                                 aten::as_strided         0.00%       0.000us         0.00%       0.000us       0.000us           0 b           0 b           0 b           0 b             1  \n",
      "                                     aten::select         0.00%       3.000us         0.00%       3.000us       3.000us           0 b           0 b           0 b           0 b             1  \n",
      "                                 aten::as_strided         0.00%       0.000us         0.00%       0.000us       0.000us           0 b           0 b           0 b           0 b             1  \n",
      "                                     aten::select         0.00%       3.000us         0.00%       3.000us       3.000us           0 b           0 b           0 b           0 b             1  \n",
      "                                 aten::as_strided         0.00%       0.000us         0.00%       0.000us       0.000us           0 b           0 b           0 b           0 b             1  \n",
      "                                     aten::select         0.00%       3.000us         0.00%       3.000us       3.000us           0 b           0 b           0 b           0 b             1  \n",
      "                                 aten::as_strided         0.00%       0.000us         0.00%       0.000us       0.000us           0 b           0 b           0 b           0 b             1  \n",
      "                                     aten::select         0.00%       3.000us         0.00%       3.000us       3.000us           0 b           0 b           0 b           0 b             1  \n",
      "                                 aten::as_strided         0.00%       0.000us         0.00%       0.000us       0.000us           0 b           0 b           0 b           0 b             1  \n",
      "                                     aten::select         0.00%       2.000us         0.00%       3.000us       3.000us           0 b           0 b           0 b           0 b             1  \n",
      "                                 aten::as_strided         0.00%       1.000us         0.00%       1.000us       1.000us           0 b           0 b           0 b           0 b             1  \n",
      "                                     aten::select         0.00%       3.000us         0.00%       3.000us       3.000us           0 b           0 b           0 b           0 b             1  \n",
      "-------------------------------------------------  ------------  ------------  ------------  ------------  ------------  ------------  ------------  ------------  ------------  ------------  \n",
      "Self CPU time total: 151.557ms\n",
      "\n"
     ]
    }
   ],
   "source": [
    "print(prof)"
   ]
  },
  {
   "cell_type": "markdown",
   "id": "bde17821-0ea7-4685-b3cc-b704253b0f12",
   "metadata": {},
   "source": [
    "## `New` MultiTriplet"
   ]
  },
  {
   "cell_type": "code",
   "execution_count": 12,
   "id": "b2395fa4-7125-4457-b1ef-520957c17156",
   "metadata": {},
   "outputs": [],
   "source": [
    "#| export\n",
    "class BaseMultiTriplet(BaseLoss):\n",
    "\n",
    "    def __init__(\n",
    "        self,\n",
    "        margin:Optional[float]=0.8,\n",
    "        tau:Optional[float]=0.1,\n",
    "        apply_softmax:Optional[bool]=False,\n",
    "        n_negatives:Optional[int]=5,\n",
    "        **kwargs\n",
    "    ):\n",
    "        super().__init__(**kwargs)\n",
    "        store_attr('margin,tau,apply_softmax,n_negatives')\n",
    "\n",
    "    def align_indices(self, indices:torch.Tensor, group_lengths:torch.Tensor):\n",
    "        n, num_groups, max_len = len(indices), len(group_lengths), group_lengths.max()\n",
    "        group_ids = torch.repeat_interleave(torch.arange(num_groups, device=indices.device), group_lengths)\n",
    "    \n",
    "        row_indices = torch.arange(n, device=indices.device)\n",
    "    \n",
    "        group_start = torch.cat([torch.zeros(1, dtype=group_lengths.dtype, device=group_lengths.device), group_lengths.cumsum(0)[:-1]], dim=0)\n",
    "    \n",
    "        within_idx = row_indices - group_start[group_ids]\n",
    "    \n",
    "        output = torch.zeros((num_groups, max_len), dtype=indices.dtype, device=indices.device)\n",
    "        mask = torch.zeros((num_groups, max_len), device=indices.device)\n",
    "        output[group_ids, within_idx] = indices\n",
    "        mask[group_ids, within_idx] = 1.0\n",
    "    \n",
    "        return output, mask\n",
    "\n",
    "    def remove_redundant_indices(self, inp2targ_idx:torch.Tensor, n_inp2targ:torch.Tensor, pinp2targ_idx:torch.Tensor, n_pinp2targ:torch.Tensor):\n",
    "        mask = torch.isin(pinp2targ_idx, inp2targ_idx)\n",
    "        new_pinp2targ_idx = pinp2targ_idx[mask]\n",
    "    \n",
    "        num_groups = len(n_pinp2targ)\n",
    "        group_ids = torch.repeat_interleave(torch.arange(num_groups, device=n_pinp2targ.device), n_pinp2targ)\n",
    "        new_n_pinp2targ = torch.bincount(group_ids[mask], minlength=num_groups)\n",
    "    \n",
    "        return new_pinp2targ_idx, new_n_pinp2targ\n",
    "\n",
    "    def reset_indices(self, inp2targ_idx:torch.Tensor, n_inp2targ:torch.Tensor, pinp2targ_idx:torch.Tensor, n_pinp2targ:torch.Tensor):\n",
    "        _, reset_indices, counts = torch.unique(torch.cat([inp2targ_idx, pinp2targ_idx]), return_inverse=True, return_counts=True)\n",
    "    \n",
    "        _, idx_sorted = torch.sort(reset_indices, stable=True)\n",
    "        cum_sum = torch.cat((torch.zeros((1,), dtype=counts.dtype, device=counts.device), counts.cumsum(0)[:-1]))\n",
    "        indices = idx_sorted[cum_sum]\n",
    "    \n",
    "        inp2targ_idx = reset_indices[:len(inp2targ_idx)]\n",
    "        pinp2targ_idx = reset_indices[len(inp2targ_idx):]\n",
    "    \n",
    "        return inp2targ_idx, pinp2targ_idx, indices\n",
    "\n",
    "    def compute_scores(self, inp, targ, indices=None):\n",
    "        if indices is not None: targ = targ[indices]\n",
    "        return inp@targ.T\n",
    "\n",
    "    def forward(\n",
    "        self, \n",
    "        \n",
    "        n_inp2targ:torch.LongTensor,\n",
    "        inp2targ_idx:torch.LongTensor,\n",
    "        n_pinp2targ:torch.LongTensor,\n",
    "        pinp2targ_idx:torch.LongTensor,\n",
    "\n",
    "        inp:Optional[torch.FloatTensor]=None, \n",
    "        targ:Optional[torch.FloatTensor]=None,\n",
    "        scores:Optional[torch.FloatTensor]=None,\n",
    "        \n",
    "        margin:Optional[float]=None,\n",
    "        tau:Optional[float]=None,\n",
    "        apply_softmax:Optional[bool]=None,\n",
    "        n_negatives:Optional[int]=None,\n",
    "        **kwargs\n",
    "    ):\n",
    "        store_attr('margin,tau,apply_softmax,n_negatives', is_none=False)\n",
    "\n",
    "        pinp2targ_idx, n_pinp2targ = self.remove_redundant_indices(inp2targ_idx, n_inp2targ, pinp2targ_idx, n_pinp2targ)\n",
    "        inp2targ_idx, pinp2targ_idx, indices = self.reset_indices(inp2targ_idx, n_inp2targ, pinp2targ_idx, n_pinp2targ)\n",
    "\n",
    "        scores = self.compute_scores(inp, targ, indices=indices) if scores is None else scores[:, indices]\n",
    "\n",
    "        pos_indices, pos_mask = self.align_indices(inp2targ_idx, n_inp2targ)\n",
    "        pos_scores = scores.gather(1, pos_indices)\n",
    "\n",
    "        pos_incidence = torch.zeros_like(scores)\n",
    "        ppos_indices, _ = self.align_indices(inp2targ_idx, n_inp2targ)\n",
    "        pos_incidence = pos_incidence.scatter(1, ppos_indices, 1)\n",
    "        neg_incidence = 1 - pos_incidence\n",
    "\n",
    "        loss = scores.unsqueeze(1) - pos_scores.unsqueeze(2) + self.margin\n",
    "        loss = F.relu(loss * neg_incidence.unsqueeze(1))\n",
    "\n",
    "        scores = scores.unsqueeze(1).expand_as(loss)\n",
    "        neg_incidence = neg_incidence.unsqueeze(1).expand_as(loss)\n",
    "\n",
    "        if self.n_negatives is not None:\n",
    "            loss, idx = torch.topk(loss, min(self.n_negatives, loss.shape[2]), dim=2, largest=True)\n",
    "            scores, neg_incidence = scores.gather(2, idx), neg_incidence.gather(2, idx)\n",
    "\n",
    "        if self.apply_softmax:\n",
    "            mask = loss != 0\n",
    "            penalty = scores / self.tau * mask\n",
    "            penalty[neg_incidence == 0] = torch.finfo(penalty.dtype).min\n",
    "            penalty = torch.softmax(penalty, dim=2)\n",
    "            loss = loss * penalty\n",
    "        \n",
    "        loss /= (neg_incidence.sum(dim=2, keepdim=True) + 1e-9)\n",
    "        loss = loss[pos_mask.bool()].sum(dim=1)\n",
    "\n",
    "        if self.reduction == 'mean': return loss.mean()\n",
    "        elif self.reduction == 'sum': return loss.sum()\n",
    "        else: raise ValueError(f'`reduction` cannot be `{self.reduction}`')\n",
    "    "
   ]
  },
  {
   "cell_type": "code",
   "execution_count": 35,
   "id": "40cb6f17-7362-46ae-b1ff-e671d6843e2b",
   "metadata": {},
   "outputs": [],
   "source": [
    "class MultiTriplet(BaseMultiTriplet):\n",
    "\n",
    "    def forward(\n",
    "        self, \n",
    "        inp:torch.FloatTensor, \n",
    "        targ:torch.FloatTensor, \n",
    "        n_inp2targ:torch.LongTensor,\n",
    "        inp2targ_idx:torch.LongTensor,\n",
    "        n_pinp2targ:torch.LongTensor,\n",
    "        pinp2targ_idx:torch.LongTensor,\n",
    "        margin:Optional[float]=None,\n",
    "        tau:Optional[float]=None,\n",
    "        apply_softmax:Optional[bool]=None,\n",
    "        n_negatives:Optional[int]=None,\n",
    "        **kwargs\n",
    "    ):\n",
    "        return super().forward(n_inp2targ, inp2targ_idx, n_pinp2targ, pinp2targ_idx, inp=inp, targ=targ, margin=margin, tau=tau, \n",
    "                               apply_softmax=apply_softmax, n_negatives=n_negatives, **kwargs)\n",
    "        "
   ]
  },
  {
   "cell_type": "code",
   "execution_count": 14,
   "id": "6c3ec201-3e6a-468a-a727-3da4614cdb2c",
   "metadata": {},
   "outputs": [],
   "source": [
    "#| export\n",
    "class MultiTripletFromScores(BaseMultiTriplet):\n",
    "\n",
    "    def forward(\n",
    "        self, \n",
    "        scores:torch.FloatTensor,  \n",
    "        n_inp2targ:torch.LongTensor,\n",
    "        inp2targ_idx:torch.LongTensor,\n",
    "        n_pinp2targ:torch.LongTensor,\n",
    "        pinp2targ_idx:torch.LongTensor,\n",
    "        margin:Optional[float]=None,\n",
    "        tau:Optional[float]=None,\n",
    "        apply_softmax:Optional[bool]=None,\n",
    "        n_negatives:Optional[int]=None,\n",
    "        **kwargs\n",
    "    ):\n",
    "        return super().forward(n_inp2targ, inp2targ_idx, n_pinp2targ, pinp2targ_idx, scores=scores, margin=margin, tau=tau, \n",
    "                               apply_softmax=apply_softmax, n_negatives=n_negatives, **kwargs)\n",
    "        "
   ]
  },
  {
   "cell_type": "markdown",
   "id": "7add6a0b-9f2b-40f0-b885-654f543a22b3",
   "metadata": {},
   "source": [
    "### Example"
   ]
  },
  {
   "cell_type": "code",
   "execution_count": 20,
   "id": "319cd7ec-cb13-4854-bc02-22581e8edc16",
   "metadata": {},
   "outputs": [],
   "source": [
    "from xcai.models.PPP0XX import DBT009"
   ]
  },
  {
   "cell_type": "code",
   "execution_count": 21,
   "id": "e9d4ada6-c6f7-4b41-b752-b176a88ee840",
   "metadata": {},
   "outputs": [],
   "source": [
    "margin, tau = 0.3, 0.1\n",
    "apply_softmax = True\n",
    "n_negatives = 10"
   ]
  },
  {
   "cell_type": "code",
   "execution_count": 29,
   "id": "8644d87f-9414-40d3-a4e6-de0ac0865408",
   "metadata": {},
   "outputs": [
    {
     "name": "stderr",
     "output_type": "stream",
     "text": [
      "Some weights of DBT009 were not initialized from the model checkpoint at distilbert-base-uncased and are newly initialized: ['encoder.dr_layer_norm.bias', 'encoder.dr_layer_norm.weight', 'encoder.dr_projector.bias', 'encoder.dr_projector.weight', 'encoder.dr_transform.bias', 'encoder.dr_transform.weight']\n",
      "You should probably TRAIN this model on a down-stream task to be able to use it for predictions and inference.\n"
     ]
    }
   ],
   "source": [
    "model = DBT009.from_pretrained('distilbert-base-uncased', use_encoder_parallel=False)\n",
    "output = model(**batch.to(model.device))"
   ]
  },
  {
   "cell_type": "code",
   "execution_count": 30,
   "id": "e63bd004-f7f7-4b99-9933-3399974dd220",
   "metadata": {},
   "outputs": [],
   "source": [
    "inp, targ = output.data_repr, output.lbl2data_repr\n",
    "\n",
    "inp2targ_idx, n_inp2targ = batch['lbl2data_idx'], batch['lbl2data_data2ptr']\n",
    "pinp2targ_idx, n_pinp2targ = batch['plbl2data_idx'], batch['plbl2data_data2ptr']"
   ]
  },
  {
   "cell_type": "code",
   "execution_count": 31,
   "id": "8bd6fe6a-7665-4c3d-9091-fc09e8ad7841",
   "metadata": {},
   "outputs": [],
   "source": [
    "loss_fn = MultiTriplet(margin, tau, apply_softmax, n_negatives, reduce='mean')"
   ]
  },
  {
   "cell_type": "code",
   "execution_count": 32,
   "id": "bca6ddf0-7940-45dc-8ce0-be5a25b1d326",
   "metadata": {},
   "outputs": [],
   "source": [
    "loss = loss_fn(inp, targ, n_inp2targ, inp2targ_idx, n_pinp2targ, pinp2targ_idx)"
   ]
  },
  {
   "cell_type": "code",
   "execution_count": 33,
   "id": "e7f743bd-7f89-4f13-9779-43e9dd454459",
   "metadata": {},
   "outputs": [
    {
     "data": {
      "text/plain": [
       "tensor(0.0249, grad_fn=<MeanBackward0>)"
      ]
     },
     "execution_count": 33,
     "metadata": {},
     "output_type": "execute_result"
    }
   ],
   "source": [
    "loss"
   ]
  },
  {
   "cell_type": "markdown",
   "id": "c6c76feb-310a-4741-8215-12dcf506816c",
   "metadata": {},
   "source": [
    "## `MultiTripletFromScores2`"
   ]
  },
  {
   "cell_type": "code",
   "execution_count": 15,
   "id": "ee61c9be-54e3-4e79-907b-843732d168b7",
   "metadata": {},
   "outputs": [],
   "source": [
    "#| export\n",
    "class MultiTripletFromScores2(BaseMultiTriplet):\n",
    "\n",
    "    @staticmethod\n",
    "    def get_row_mask(a_dataptr: torch.Tensor, a_indices: torch.Tensor, b_dataptr: torch.Tensor, b_indices: torch.Tensor):\n",
    "        R = a_dataptr.size(0)\n",
    "        device = a_indices.device\n",
    "    \n",
    "        # 1) Build row‐ids for each flat entry\n",
    "        rows = torch.arange(R, device=device)\n",
    "        a_rows = rows.repeat_interleave(a_dataptr)\n",
    "        b_rows = rows.repeat_interleave(b_dataptr)\n",
    "    \n",
    "        # 2) Choose an offset > max column index so keys don't collide\n",
    "        max_col = max(int(a_indices.max()), int(b_indices.max()))\n",
    "        offset = max_col + 1\n",
    "    \n",
    "        # 3) Encode each (row, col) as a single integer key\n",
    "        a_keys = a_rows * offset + a_indices\n",
    "        b_keys = b_rows * offset + b_indices\n",
    "    \n",
    "        # 4) One‐shot membership test\n",
    "        mask = torch.isin(a_keys, b_keys)\n",
    "        return mask\n",
    "    \n",
    "    def forward(\n",
    "        self, \n",
    "        scores:torch.FloatTensor,  \n",
    "        inp2targ_idx:torch.LongTensor,\n",
    "        n_pinp2targ:torch.LongTensor,\n",
    "        pinp2targ_idx:torch.LongTensor,\n",
    "        margin:Optional[float]=None,\n",
    "        tau:Optional[float]=None,\n",
    "        apply_softmax:Optional[bool]=None,\n",
    "        n_negatives:Optional[int]=None,\n",
    "        **kwargs\n",
    "    ):\n",
    "        store_attr('margin,tau,apply_softmax,n_negatives', is_none=False)\n",
    "        \n",
    "        assert scores.dim() == 2\n",
    "        assert inp2targ_idx.dim() == 2\n",
    "        \n",
    "        mask = self.get_row_mask(inp2targ_idx.new_full((inp2targ_idx.size(0),), inp2targ_idx.size(1)), inp2targ_idx.flatten(), \n",
    "                                 n_pinp2targ, pinp2targ_idx)\n",
    "        mask = mask.view(inp2targ_idx.shape)\n",
    "\n",
    "        pos_scores = scores[mask]\n",
    "        pos_n_inp2targ = mask.sum(dim=1)\n",
    "\n",
    "        pos_scores, pos_mask = self.align_indices(pos_scores, pos_n_inp2targ)\n",
    "        neg_incidence = ~mask\n",
    "\n",
    "        loss = scores.unsqueeze(1) - pos_scores.unsqueeze(2) + self.margin\n",
    "        loss = F.relu(neg_incidence.unsqueeze(1) * loss)\n",
    "        \n",
    "        scores = scores.unsqueeze(1).expand_as(loss)\n",
    "        neg_incidence = neg_incidence.unsqueeze(1).expand_as(loss)\n",
    "\n",
    "        if self.n_negatives is not None:\n",
    "            loss, idx = torch.topk(loss, min(self.n_negatives, loss.shape[2]), dim=2, largest=True)\n",
    "            scores, neg_incidence = scores.gather(2, idx), neg_incidence.gather(2, idx)\n",
    "\n",
    "        if self.apply_softmax:\n",
    "            mask = loss != 0\n",
    "            penalty = scores / self.tau * mask\n",
    "            penalty[neg_incidence == 0] = torch.finfo(penalty.dtype).min\n",
    "            penalty = torch.softmax(penalty, dim=2)\n",
    "            loss = loss*penalty\n",
    "        \n",
    "        loss /= (neg_incidence.sum(dim=2, keepdim=True) + 1e-9)\n",
    "        loss = loss[pos_mask.bool()].sum(dim=1)\n",
    "\n",
    "        if self.reduction == 'mean': return loss.mean()\n",
    "        elif self.reduction == 'sum': return loss.sum()\n",
    "        else: raise ValueError(f'`reduction` cannot be `{self.reduction}`')\n",
    "        "
   ]
  },
  {
   "cell_type": "markdown",
   "id": "6bbd3fa5-699f-4b4a-9a34-87e0b9006cdf",
   "metadata": {
    "jp-MarkdownHeadingCollapsed": true
   },
   "source": [
    "## Cosine"
   ]
  },
  {
   "cell_type": "code",
   "execution_count": null,
   "id": "a5831026-d246-4f8c-87ef-45bf5622afad",
   "metadata": {},
   "outputs": [],
   "source": [
    "#| export\n",
    "class Cosine(BaseLoss):\n",
    "\n",
    "    def __init__(self, \n",
    "                 **kwargs):\n",
    "        super().__init__(**kwargs)\n",
    "        "
   ]
  },
  {
   "cell_type": "code",
   "execution_count": null,
   "id": "10c7b7b0-53c8-4998-8270-16a9a58f1bba",
   "metadata": {},
   "outputs": [],
   "source": [
    "#| export\n",
    "@patch\n",
    "def forward(cls:Cosine, \n",
    "            inp:torch.FloatTensor,\n",
    "            inp_mask:torch.FloatTensor,\n",
    "            targ:torch.LongTensor,\n",
    "            targ_mask:torch.LongTensor,\n",
    "            **kwargs):\n",
    "    seq_len = min(inp.shape[1], targ.shape[1])\n",
    "    \n",
    "    inp_mask = inp_mask.unsqueeze(2).expand(inp.size()).float()\n",
    "    targ_mask = targ_mask.unsqueeze(2).expand(targ.size()).float()\n",
    "\n",
    "    inp, targ = F.normalize(inp, dim=-1),F.normalize(targ, dim=-1)\n",
    "    \n",
    "    inp,targ = inp*inp_mask,targ*targ_mask\n",
    "    inp,targ = inp[:,:seq_len],targ[:,:seq_len]\n",
    "\n",
    "    loss = 1.0 - torch.sum(inp*targ, dim=-1)\n",
    "    \n",
    "    if cls.reduction == 'mean': return loss.mean()\n",
    "    elif cls.reduction == 'sum': return loss.sum()\n",
    "    else: raise ValueError(f'`reduction` cannot be `{cls.reduction}`')\n",
    "        "
   ]
  },
  {
   "cell_type": "markdown",
   "id": "1fe38938-8eac-4ddf-b587-a253f58c0412",
   "metadata": {},
   "source": [
    "### Example"
   ]
  },
  {
   "cell_type": "code",
   "execution_count": null,
   "id": "5145e634-5bae-49f3-9484-d60c99230b4a",
   "metadata": {},
   "outputs": [],
   "source": [
    "loss_fn = Cosine(reduce='mean')"
   ]
  },
  {
   "cell_type": "code",
   "execution_count": null,
   "id": "dcf96c24-5c33-417c-865b-d8b0176fe050",
   "metadata": {},
   "outputs": [],
   "source": [
    "loss = loss_fn(data_embed, data_attention_mask, lbl2data_embed, lbl2data_attention_mask)"
   ]
  },
  {
   "cell_type": "code",
   "execution_count": null,
   "id": "dfe9de77-3c65-4b5b-bf49-8df320093d32",
   "metadata": {},
   "outputs": [
    {
     "data": {
      "text/plain": [
       "tensor(0.6899, device='cuda:0', grad_fn=<MeanBackward0>)"
      ]
     },
     "execution_count": null,
     "metadata": {},
     "output_type": "execute_result"
    }
   ],
   "source": [
    "loss"
   ]
  },
  {
   "cell_type": "markdown",
   "id": "a7da7ea2-7932-439e-892d-b1344ce020ed",
   "metadata": {
    "jp-MarkdownHeadingCollapsed": true
   },
   "source": [
    "## Entropy"
   ]
  },
  {
   "cell_type": "code",
   "execution_count": null,
   "id": "acd1905f-2845-4d29-9504-71670be2640c",
   "metadata": {},
   "outputs": [],
   "source": [
    "#| export\n",
    "class Entropy(BaseLoss):\n",
    "\n",
    "    def __init__(self, \n",
    "                 margin:Optional[float]=0.8,\n",
    "                 tau:Optional[float]=0.1,\n",
    "                 apply_softmax:Optional[bool]=True,\n",
    "                 n_negatives:Optional[int]=5,\n",
    "                 **kwargs):\n",
    "        super().__init__(**kwargs)\n",
    "        store_attr('margin,tau,apply_softmax,n_negatives')\n",
    "        "
   ]
  },
  {
   "cell_type": "code",
   "execution_count": null,
   "id": "92c9f51d-c3d1-4723-8745-a398802c92e8",
   "metadata": {},
   "outputs": [],
   "source": [
    "#| export\n",
    "@patch\n",
    "def forward(cls:Entropy, \n",
    "            inp:torch.FloatTensor,\n",
    "            targ:torch.LongTensor,\n",
    "            inp2targ_idx:torch.LongTensor,\n",
    "            n_pinp2targ:torch.LongTensor,\n",
    "            pinp2targ_idx:torch.LongTensor,\n",
    "            margin:Optional[float]=None,\n",
    "            tau:Optional[float]=None,\n",
    "            apply_softmax:Optional[bool]=None,\n",
    "            n_negatives:Optional[int]=None,\n",
    "            **kwargs):\n",
    "    store_attr('margin,tau,apply_softmax,n_negatives', is_none=False)\n",
    "    _, idx = torch.unique(torch.cat([inp2targ_idx, pinp2targ_idx]), return_inverse=True)\n",
    "    ne = 1 - get_sparse_matrix(idx[len(inp2targ_idx):], n_pinp2targ).to_dense()[:, idx[:len(inp2targ_idx)]]\n",
    "    \n",
    "    sc = targ.exp()@inp.T\n",
    "    \n",
    "    sc_p =  sc.diagonal().unsqueeze(1)\n",
    "    _, ne_idx = torch.topk(torch.where(ne == 0, torch.finfo(sc.dtype).min, sc), min(cls.n_negatives, sc.shape[0]-1), dim=1, largest=True)\n",
    "    sc_n = sc.gather(1, ne_idx)\n",
    "    \n",
    "    loss = torch.relu(sc_n - sc_p + cls.margin)\n",
    "    \n",
    "    if cls.apply_softmax:\n",
    "        m = loss != 0\n",
    "        p = torch.softmax(sc_n/cls.tau * m, dim=1)\n",
    "        loss = loss*p\n",
    "    \n",
    "    if cls.reduction == 'mean': return loss.mean()\n",
    "    elif cls.reduction == 'sum': return loss.sum()\n",
    "    else: raise ValueError(f'`reduction` cannot be `{cls.reduction}`')\n",
    "        "
   ]
  },
  {
   "cell_type": "markdown",
   "id": "dd10d6b4-7dba-4fe1-ad29-2f73c14beb0d",
   "metadata": {},
   "source": [
    "### Example"
   ]
  },
  {
   "cell_type": "code",
   "execution_count": null,
   "id": "5b34794c-43c6-4ba2-8890-bc36402ebee3",
   "metadata": {},
   "outputs": [],
   "source": [
    "el_fn = Entropy(margin=1e-2, tau=0.1, apply_softmax=True, n_negatives=5, reduce='mean')"
   ]
  },
  {
   "cell_type": "code",
   "execution_count": null,
   "id": "38ae0252-4190-4df4-8c21-4536cf189cde",
   "metadata": {},
   "outputs": [
    {
     "data": {
      "text/plain": [
       "tensor(0.0019, grad_fn=<MeanBackward0>)"
      ]
     },
     "execution_count": null,
     "metadata": {},
     "output_type": "execute_result"
    }
   ],
   "source": [
    "loss = el_fn( F.log_softmax(data_repr, dim=-1), F.log_softmax(lbl2data_repr, dim=-1), lbl2data_idx, \n",
    "             kwargs['plbl2data_data2ptr'], kwargs['plbl2data_idx']); loss"
   ]
  },
  {
   "cell_type": "code",
   "execution_count": null,
   "id": "6e29dab5-783c-4c54-a812-ee10fd32ac31",
   "metadata": {},
   "outputs": [
    {
     "data": {
      "text/plain": [
       "tensor(0.0019, grad_fn=<MeanBackward0>)"
      ]
     },
     "execution_count": null,
     "metadata": {},
     "output_type": "execute_result"
    }
   ],
   "source": [
    "loss"
   ]
  },
  {
   "cell_type": "markdown",
   "id": "5571a263-2ce5-4602-8f1b-ecfc74984351",
   "metadata": {
    "jp-MarkdownHeadingCollapsed": true
   },
   "source": [
    "## Triplet"
   ]
  },
  {
   "cell_type": "code",
   "execution_count": null,
   "id": "95e37b4d-6951-4062-a2df-9c60bffa6977",
   "metadata": {},
   "outputs": [],
   "source": [
    "#| export\n",
    "class Triplet(BaseLoss):\n",
    "\n",
    "    def __init__(self, \n",
    "                 margin:Optional[float]=0.8,\n",
    "                 tau:Optional[float]=0.1,\n",
    "                 apply_softmax:Optional[bool]=True,\n",
    "                 n_negatives:Optional[int]=5,\n",
    "                 **kwargs):\n",
    "        super().__init__(**kwargs)\n",
    "        store_attr('margin,tau,apply_softmax,n_negatives')\n"
   ]
  },
  {
   "cell_type": "code",
   "execution_count": null,
   "id": "17c2713c",
   "metadata": {},
   "outputs": [],
   "source": [
    "#| export\n",
    "@patch\n",
    "def forward(cls:Triplet, \n",
    "            inp:torch.FloatTensor, \n",
    "            targ:torch.LongTensor, \n",
    "            inp2targ_idx:torch.LongTensor,\n",
    "            n_pinp2targ:torch.LongTensor,\n",
    "            pinp2targ_idx:torch.LongTensor,\n",
    "            margin:Optional[float]=None,\n",
    "            tau:Optional[float]=None,\n",
    "            apply_softmax:Optional[bool]=None,\n",
    "            n_negatives:Optional[int]=None,\n",
    "            **kwargs):\n",
    "    store_attr('margin,tau,apply_softmax,n_negatives', is_none=False)\n",
    "    _, idx = torch.unique(torch.cat([inp2targ_idx, pinp2targ_idx]), return_inverse=True)\n",
    "    ne = 1 - get_sparse_matrix(idx[len(inp2targ_idx):], n_pinp2targ).to_dense()[:, idx[:len(inp2targ_idx)]]\n",
    "    \n",
    "    sc = inp@targ.T\n",
    "    sc_p =  sc.diagonal().unsqueeze(1)\n",
    "    _, ne_idx = torch.topk(torch.where(ne == 0, -10, sc), min(cls.n_negatives, sc.shape[0]-1), dim=1, largest=True)\n",
    "    sc_n = sc.gather(1, ne_idx)\n",
    "    \n",
    "    loss = torch.relu(sc_n - sc_p + cls.margin)\n",
    "    \n",
    "    if cls.apply_softmax:\n",
    "        m = loss != 0\n",
    "        p = torch.softmax(sc_n/cls.tau * m, dim=1)\n",
    "        loss = loss*p\n",
    "    \n",
    "    if cls.reduction == 'mean': return loss.mean()\n",
    "    elif cls.reduction == 'sum': return loss.sum()\n",
    "    else: raise ValueError(f'`reduction` cannot be `{cls.reduction}`')\n",
    "        "
   ]
  },
  {
   "cell_type": "code",
   "execution_count": null,
   "id": "2def2671-e34f-4b67-9b7c-4ecfee1e5d45",
   "metadata": {},
   "outputs": [],
   "source": [
    "@patch\n",
    "def forward(cls:Triplet, \n",
    "            inp:torch.FloatTensor, \n",
    "            targ:torch.LongTensor, \n",
    "            inp2targ_idx:torch.LongTensor,\n",
    "            n_pinp2targ:torch.LongTensor,\n",
    "            pinp2targ_idx:torch.LongTensor,\n",
    "            margin:Optional[float]=None,\n",
    "            tau:Optional[float]=None,\n",
    "            apply_softmax:Optional[bool]=None,\n",
    "            n_negatives:Optional[int]=None,\n",
    "            **kwargs):\n",
    "    store_attr('margin,tau,apply_softmax,n_negatives', is_none=False)\n",
    "    _, idx = torch.unique(torch.cat([inp2targ_idx, pinp2targ_idx]), return_inverse=True)\n",
    "    ne = 1 - get_sparse_matrix(idx[len(inp2targ_idx):], n_pinp2targ).to_dense()[:, idx[:len(inp2targ_idx)]]\n",
    "    \n",
    "    sc = inp@targ.T\n",
    "    loss = torch.relu((sc - sc.diagonal().unsqueeze(1) + cls.margin) * ne)\n",
    "    \n",
    "    if cls.n_negatives is not None:\n",
    "        loss, idx = torch.topk(loss, min(cls.n_negatives, loss.shape[0]-1), dim=1, largest=True)\n",
    "        sc, ne = sc.gather(1, idx), ne.gather(1, idx)\n",
    "        \n",
    "    if cls.apply_softmax:\n",
    "        m = loss != 0\n",
    "        p = sc/cls.tau * m\n",
    "        p[ne == 0] = torch.finfo(p.dtype).min\n",
    "        p = torch.softmax(p, dim=1)\n",
    "        loss = loss*p\n",
    "        \n",
    "    loss /= (ne.sum(dim=1, keepdim=True) + 1e-9)\n",
    "    \n",
    "    if cls.reduction == 'mean': return loss.sum(dim=1).mean()\n",
    "    elif cls.reduction == 'sum': return loss.sum()\n",
    "    else: raise ValueError(f'`reduction` cannot be `{cls.reduction}`')\n",
    "        "
   ]
  },
  {
   "cell_type": "code",
   "execution_count": null,
   "id": "65d786c1-ead1-44dc-9855-7a6216a97eae",
   "metadata": {},
   "outputs": [],
   "source": [
    "tl_fn = Triplet(0.8, tau=0.1, apply_softmax=True, n_negatives=5, reduce='mean')"
   ]
  },
  {
   "cell_type": "code",
   "execution_count": null,
   "id": "cef4239d-b547-46ae-821b-db5919bb46cf",
   "metadata": {},
   "outputs": [
    {
     "data": {
      "text/plain": [
       "tensor(0.9848, grad_fn=<MeanBackward0>)"
      ]
     },
     "execution_count": null,
     "metadata": {},
     "output_type": "execute_result"
    }
   ],
   "source": [
    "loss = tl_fn(data_repr, lbl2data_repr, lbl2data_idx, kwargs['plbl2data_data2ptr'], kwargs['plbl2data_idx']); loss"
   ]
  },
  {
   "cell_type": "markdown",
   "id": "761c41de-b88c-4f6e-986d-988001e2e312",
   "metadata": {
    "jp-MarkdownHeadingCollapsed": true
   },
   "source": [
    "## SoupCon"
   ]
  },
  {
   "cell_type": "code",
   "execution_count": null,
   "id": "f8647bfa-4493-462d-a9cf-13f9fb643554",
   "metadata": {},
   "outputs": [],
   "source": [
    "#| export\n",
    "class SoupCon(BaseLoss):\n",
    "\n",
    "    @delegates(BaseLoss.__init__)\n",
    "    def __init__(self,\n",
    "                 tau:Optional[float]=1.0, \n",
    "                 **kwargs):\n",
    "        super().__init__(**kwargs)\n",
    "        self.tau = nn.Parameter(torch.tensor(tau, dtype=torch.float32))\n",
    "        "
   ]
  },
  {
   "cell_type": "code",
   "execution_count": null,
   "id": "a7de068d-48d9-4279-8401-4a3e61c04410",
   "metadata": {},
   "outputs": [],
   "source": [
    "scn_fn = SoupCon(reduce='mean')"
   ]
  },
  {
   "cell_type": "code",
   "execution_count": null,
   "id": "9fc706ba-3c2c-4b91-8ac7-38937b43c604",
   "metadata": {},
   "outputs": [],
   "source": [
    "#| export\n",
    "@patch\n",
    "def forward(cls:SoupCon,\n",
    "            inp:torch.FloatTensor,\n",
    "            targ:torch.LongTensor,\n",
    "            n_inp2targ:torch.LongTensor,\n",
    "            inp2targ_idx:torch.LongTensor,\n",
    "            **kwargs):\n",
    "    _, idx, cnt = torch.unique(inp2targ_idx, return_inverse=True, return_counts=True)\n",
    "    _, idx_sorted = torch.sort(idx)\n",
    "    targ_idx = idx_sorted[torch.cat([torch.zeros(1, dtype=inp2targ_idx.dtype, device=inp2targ_idx.device), cnt.cumsum(0)[:-1]])]\n",
    "\n",
    "    pe = get_sparse_matrix(idx, n_inp2targ).to_dense()\n",
    "    sc = -F.log_softmax(inp@targ[targ_idx].T/cls.tau, dim=1)\n",
    "    \n",
    "    loss = sc*pe\n",
    "    loss /= pe.sum(dim=1, keepdim=True)\n",
    "    \n",
    "    if cls.reduce == 'mean': return loss.sum(dim=1).mean()\n",
    "    elif cls.reduce == 'sum': return loss.sum()\n",
    "    else: raise ValueError(f'`reduction` cannot be `{cls.reduction}`')\n",
    "        "
   ]
  },
  {
   "cell_type": "code",
   "execution_count": null,
   "id": "e3083fa7-a979-429b-9946-c2c55a0674c0",
   "metadata": {},
   "outputs": [
    {
     "data": {
      "text/plain": [
       "tensor(6.8475, grad_fn=<MeanBackward0>)"
      ]
     },
     "execution_count": null,
     "metadata": {},
     "output_type": "execute_result"
    }
   ],
   "source": [
    "loss = scn_fn(data_repr, lbl2data_repr, lbl2data_data2ptr, lbl2data_idx); loss"
   ]
  },
  {
   "cell_type": "code",
   "execution_count": null,
   "id": "a286e0ea-d88e-4334-8200-82da4586f581",
   "metadata": {},
   "outputs": [
    {
     "name": "stdout",
     "output_type": "stream",
     "text": [
      "tensor(13.0039, device='cuda:0', grad_fn=<SumBackward0>)\n"
     ]
    },
    {
     "name": "stderr",
     "output_type": "stream",
     "text": [
      "STAGE:2024-04-14 01:53:44 12684:12684 ActivityProfilerController.cpp:314] Completed Stage: Warm Up\n",
      "STAGE:2024-04-14 01:53:44 12684:12684 ActivityProfilerController.cpp:320] Completed Stage: Collection\n",
      "STAGE:2024-04-14 01:53:44 12684:12684 ActivityProfilerController.cpp:324] Completed Stage: Post Processing\n"
     ]
    }
   ],
   "source": [
    "with profiler.profile(with_stack=True, profile_memory=True) as prof:\n",
    "    loss = scn_fn(data_repr, lbl2data_repr, lbl2data_data2ptr)\n",
    "    print(loss)"
   ]
  },
  {
   "cell_type": "code",
   "execution_count": null,
   "id": "d901b35b-a7ba-466d-bd67-46f161c71e46",
   "metadata": {},
   "outputs": [
    {
     "name": "stdout",
     "output_type": "stream",
     "text": [
      "-------------------------------------------------------  ------------  ------------  ------------  ------------  ------------  ------------  ------------  ------------  ------------  ------------  \n",
      "                                                   Name    Self CPU %      Self CPU   CPU total %     CPU total  CPU time avg       CPU Mem  Self CPU Mem      CUDA Mem  Self CUDA Mem    # of Calls  \n",
      "-------------------------------------------------------  ------------  ------------  ------------  ------------  ------------  ------------  ------------  ------------  ------------  ------------  \n",
      "                                            aten::slice         0.90%      22.000us         1.18%      29.000us      29.000us           0 b           0 b           0 b           0 b             1  \n",
      "                                       aten::as_strided         0.29%       7.000us         0.29%       7.000us       7.000us           0 b           0 b           0 b           0 b             1  \n",
      "                                aten::repeat_interleave         0.73%      18.000us        17.10%     419.000us     419.000us           0 b           0 b       8.50 Kb      -8.50 Kb             1  \n",
      "                                          aten::flatten         0.00%       0.000us         0.00%       0.000us       0.000us           0 b           0 b           0 b           0 b             1  \n",
      "                                aten::repeat_interleave         1.84%      45.000us        14.44%     354.000us     354.000us           0 b           0 b       8.50 Kb      -5.00 Kb             1  \n",
      "                                           aten::cumsum         2.90%      71.000us         4.90%     120.000us     120.000us           0 b           0 b       4.00 Kb       4.00 Kb             1  \n",
      "                                               aten::to         0.04%       1.000us         0.04%       1.000us       1.000us           0 b           0 b           0 b           0 b             1  \n",
      "                                       cudaLaunchKernel         1.47%      36.000us         1.47%      36.000us      36.000us           0 b           0 b           0 b           0 b             1  \n",
      "                                    cudaPeekAtLastError         0.00%       0.000us         0.00%       0.000us       0.000us           0 b           0 b           0 b           0 b             1  \n",
      "                                    cudaPeekAtLastError         0.00%       0.000us         0.00%       0.000us       0.000us           0 b           0 b           0 b           0 b             1  \n",
      "cudaOccupancyMaxActiveBlocksPerMultiprocessorWithFla...         0.12%       3.000us         0.12%       3.000us       3.000us           0 b           0 b           0 b           0 b             1  \n",
      "                                 cudaDeviceGetAttribute         0.08%       2.000us         0.08%       2.000us       2.000us           0 b           0 b           0 b           0 b             1  \n",
      "                                       cudaLaunchKernel         0.29%       7.000us         0.29%       7.000us       7.000us           0 b           0 b           0 b           0 b             1  \n",
      "                                    cudaPeekAtLastError         0.00%       0.000us         0.00%       0.000us       0.000us           0 b           0 b           0 b           0 b             1  \n",
      "                                    cudaPeekAtLastError         0.00%       0.000us         0.00%       0.000us       0.000us           0 b           0 b           0 b           0 b             1  \n",
      "                                           aten::select         0.41%      10.000us         0.45%      11.000us      11.000us           0 b           0 b           0 b           0 b             1  \n",
      "                                       aten::as_strided         0.04%       1.000us         0.04%       1.000us       1.000us           0 b           0 b           0 b           0 b             1  \n",
      "                                             aten::item         0.12%       3.000us         2.28%      56.000us      56.000us           0 b           0 b           0 b           0 b             1  \n",
      "                              aten::_local_scalar_dense         0.33%       8.000us         2.16%      53.000us      53.000us           0 b           0 b           0 b           0 b             1  \n",
      "                                        cudaMemcpyAsync         1.59%      39.000us         1.59%      39.000us      39.000us           0 b           0 b           0 b           0 b             1  \n",
      "                                  cudaStreamSynchronize         0.24%       6.000us         0.24%       6.000us       6.000us           0 b           0 b           0 b           0 b             1  \n",
      "                                               aten::ge         1.67%      41.000us         1.96%      48.000us      48.000us           0 b           0 b         512 b         512 b             1  \n",
      "                                       cudaLaunchKernel         0.29%       7.000us         0.29%       7.000us       7.000us           0 b           0 b           0 b           0 b             1  \n",
      "                                              aten::all         1.18%      29.000us         1.47%      36.000us      36.000us           0 b           0 b         512 b         512 b             1  \n",
      "                                       aten::as_strided         0.00%       0.000us         0.00%       0.000us       0.000us           0 b           0 b           0 b           0 b             1  \n",
      "                                       cudaLaunchKernel         0.29%       7.000us         0.29%       7.000us       7.000us           0 b           0 b           0 b           0 b             1  \n",
      "                                             aten::item         0.04%       1.000us         0.94%      23.000us      23.000us           0 b           0 b           0 b           0 b             1  \n",
      "                              aten::_local_scalar_dense         0.24%       6.000us         0.90%      22.000us      22.000us           0 b           0 b           0 b           0 b             1  \n",
      "                                        cudaMemcpyAsync         0.57%      14.000us         0.57%      14.000us      14.000us           0 b           0 b           0 b           0 b             1  \n",
      "                                  cudaStreamSynchronize         0.08%       2.000us         0.08%       2.000us       2.000us           0 b           0 b           0 b           0 b             1  \n",
      "                                            aten::empty         0.37%       9.000us         0.37%       9.000us       9.000us           0 b           0 b       8.50 Kb       8.50 Kb             1  \n",
      "                                       cudaLaunchKernel         0.24%       6.000us         0.24%       6.000us       6.000us           0 b           0 b           0 b           0 b             1  \n",
      "                                     aten::index_select         1.14%      28.000us         1.92%      47.000us      47.000us           0 b           0 b       8.50 Kb           0 b             1  \n",
      "                                            aten::empty         0.16%       4.000us         0.16%       4.000us       4.000us           0 b           0 b           0 b           0 b             1  \n",
      "                                          aten::resize_         0.33%       8.000us         0.33%       8.000us       8.000us           0 b           0 b       8.50 Kb       8.50 Kb             1  \n",
      "                                       cudaLaunchKernel         0.29%       7.000us         0.29%       7.000us       7.000us           0 b           0 b           0 b           0 b             1  \n",
      "                                          aten::numpy_T         0.12%       3.000us         0.86%      21.000us      21.000us           0 b           0 b           0 b           0 b             1  \n",
      "                                          aten::permute         0.65%      16.000us         0.73%      18.000us      18.000us           0 b           0 b           0 b           0 b             1  \n",
      "                                       aten::as_strided         0.08%       2.000us         0.08%       2.000us       2.000us           0 b           0 b           0 b           0 b             1  \n",
      "                                           aten::matmul         0.24%       6.000us         3.92%      96.000us      96.000us           0 b           0 b       2.21 Mb           0 b             1  \n",
      "                                               aten::mm         2.82%      69.000us         3.67%      90.000us      90.000us           0 b           0 b       2.21 Mb       2.21 Mb             1  \n",
      "                                        cudaMemsetAsync         0.45%      11.000us         0.45%      11.000us      11.000us           0 b           0 b           0 b           0 b             1  \n",
      "          cudaOccupancyMaxActiveBlocksPerMultiprocessor         0.08%       2.000us         0.08%       2.000us       2.000us           0 b           0 b           0 b           0 b             1  \n",
      "                                       cudaLaunchKernel         0.33%       8.000us         0.33%       8.000us       8.000us           0 b           0 b           0 b           0 b             1  \n",
      "                                      aten::log_softmax         0.24%       6.000us         2.00%      49.000us      49.000us           0 b           0 b       2.12 Mb           0 b             1  \n",
      "                                     aten::_log_softmax         1.35%      33.000us         1.75%      43.000us      43.000us           0 b           0 b       2.12 Mb       2.12 Mb             1  \n",
      "cudaOccupancyMaxActiveBlocksPerMultiprocessorWithFla...         0.08%       2.000us         0.08%       2.000us       2.000us           0 b           0 b           0 b           0 b             1  \n",
      "                                       cudaLaunchKernel         0.33%       8.000us         0.33%       8.000us       8.000us           0 b           0 b           0 b           0 b             1  \n",
      "                                               [memory]         0.00%       0.000us         0.00%       0.000us       0.000us           0 b           0 b      -2.21 Mb      -2.21 Mb             1  \n",
      "                                              aten::neg         0.90%      22.000us         1.22%      30.000us      30.000us           0 b           0 b       2.21 Mb       2.21 Mb             1  \n",
      "                                       cudaLaunchKernel         0.33%       8.000us         0.33%       8.000us       8.000us           0 b           0 b           0 b           0 b             1  \n",
      "                                        aten::unsqueeze         0.29%       7.000us         0.33%       8.000us       8.000us           0 b           0 b           0 b           0 b             1  \n",
      "                                       aten::as_strided         0.04%       1.000us         0.04%       1.000us       1.000us           0 b           0 b           0 b           0 b             1  \n",
      "                                           aten::gather         1.35%      33.000us         1.67%      41.000us      41.000us           0 b           0 b       4.50 Kb       4.50 Kb             1  \n",
      "                                       aten::as_strided         0.00%       0.000us         0.00%       0.000us       0.000us           0 b           0 b           0 b           0 b             1  \n",
      "                                       aten::as_strided         0.04%       1.000us         0.04%       1.000us       1.000us           0 b           0 b           0 b           0 b             1  \n",
      "                                       cudaLaunchKernel         0.29%       7.000us         0.29%       7.000us       7.000us           0 b           0 b           0 b           0 b             1  \n",
      "                                          aten::squeeze         0.37%       9.000us         0.37%       9.000us       9.000us           0 b           0 b           0 b           0 b             1  \n",
      "                                       aten::as_strided         0.00%       0.000us         0.00%       0.000us       0.000us           0 b           0 b           0 b           0 b             1  \n",
      "                                aten::repeat_interleave         0.65%      16.000us        31.33%     768.000us     768.000us           0 b           0 b       8.50 Kb      -8.50 Kb             1  \n",
      "                                          aten::flatten         0.00%       0.000us         0.00%       0.000us       0.000us           0 b           0 b           0 b           0 b             1  \n",
      "                                aten::repeat_interleave         1.47%      36.000us        28.68%     703.000us     703.000us           0 b           0 b       8.50 Kb      -5.00 Kb             1  \n",
      "                                           aten::cumsum         1.43%      35.000us         2.00%      49.000us      49.000us           0 b           0 b       4.00 Kb       4.00 Kb             1  \n",
      "                                               aten::to         0.00%       0.000us         0.00%       0.000us       0.000us           0 b           0 b           0 b           0 b             1  \n",
      "                                       cudaLaunchKernel         0.24%       6.000us         0.24%       6.000us       6.000us           0 b           0 b           0 b           0 b             1  \n",
      "                                    cudaPeekAtLastError         0.00%       0.000us         0.00%       0.000us       0.000us           0 b           0 b           0 b           0 b             1  \n",
      "                                    cudaPeekAtLastError         0.00%       0.000us         0.00%       0.000us       0.000us           0 b           0 b           0 b           0 b             1  \n",
      "cudaOccupancyMaxActiveBlocksPerMultiprocessorWithFla...         0.04%       1.000us         0.04%       1.000us       1.000us           0 b           0 b           0 b           0 b             1  \n",
      "                                 cudaDeviceGetAttribute         0.04%       1.000us         0.04%       1.000us       1.000us           0 b           0 b           0 b           0 b             1  \n",
      "                                       cudaLaunchKernel         0.24%       6.000us         0.24%       6.000us       6.000us           0 b           0 b           0 b           0 b             1  \n",
      "                                    cudaPeekAtLastError         0.00%       0.000us         0.00%       0.000us       0.000us           0 b           0 b           0 b           0 b             1  \n",
      "                                    cudaPeekAtLastError         0.00%       0.000us         0.00%       0.000us       0.000us           0 b           0 b           0 b           0 b             1  \n",
      "                                           aten::select         0.16%       4.000us         0.20%       5.000us       5.000us           0 b           0 b           0 b           0 b             1  \n",
      "                                       aten::as_strided         0.04%       1.000us         0.04%       1.000us       1.000us           0 b           0 b           0 b           0 b             1  \n",
      "                                             aten::item         0.08%       2.000us        21.09%     517.000us     517.000us           0 b           0 b           0 b           0 b             1  \n",
      "                              aten::_local_scalar_dense         0.20%       5.000us        21.01%     515.000us     515.000us           0 b           0 b           0 b           0 b             1  \n",
      "                                        cudaMemcpyAsync        20.64%     506.000us        20.64%     506.000us     506.000us           0 b           0 b           0 b           0 b             1  \n",
      "                                  cudaStreamSynchronize         0.16%       4.000us         0.16%       4.000us       4.000us           0 b           0 b           0 b           0 b             1  \n",
      "                                               aten::ge         0.94%      23.000us         1.22%      30.000us      30.000us           0 b           0 b         512 b         512 b             1  \n",
      "                                       cudaLaunchKernel         0.29%       7.000us         0.29%       7.000us       7.000us           0 b           0 b           0 b           0 b             1  \n",
      "                                              aten::all         0.98%      24.000us         1.22%      30.000us      30.000us           0 b           0 b         512 b         512 b             1  \n",
      "                                       aten::as_strided         0.00%       0.000us         0.00%       0.000us       0.000us           0 b           0 b           0 b           0 b             1  \n",
      "                                       cudaLaunchKernel         0.24%       6.000us         0.24%       6.000us       6.000us           0 b           0 b           0 b           0 b             1  \n",
      "                                             aten::item         0.08%       2.000us         0.94%      23.000us      23.000us           0 b           0 b           0 b           0 b             1  \n",
      "                              aten::_local_scalar_dense         0.16%       4.000us         0.86%      21.000us      21.000us           0 b           0 b           0 b           0 b             1  \n",
      "                                        cudaMemcpyAsync         0.61%      15.000us         0.61%      15.000us      15.000us           0 b           0 b           0 b           0 b             1  \n",
      "                                  cudaStreamSynchronize         0.08%       2.000us         0.08%       2.000us       2.000us           0 b           0 b           0 b           0 b             1  \n",
      "                                            aten::empty         0.29%       7.000us         0.29%       7.000us       7.000us           0 b           0 b       8.50 Kb       8.50 Kb             1  \n",
      "                                       cudaLaunchKernel         0.24%       6.000us         0.24%       6.000us       6.000us           0 b           0 b           0 b           0 b             1  \n",
      "                                     aten::index_select         0.78%      19.000us         2.00%      49.000us      49.000us           0 b           0 b       8.50 Kb           0 b             1  \n",
      "                                            aten::empty         0.16%       4.000us         0.16%       4.000us       4.000us           0 b           0 b           0 b           0 b             1  \n",
      "                                          aten::resize_         0.78%      19.000us         0.78%      19.000us      19.000us           0 b           0 b       8.50 Kb       8.50 Kb             1  \n",
      "                                       cudaLaunchKernel         0.29%       7.000us         0.29%       7.000us       7.000us           0 b           0 b           0 b           0 b             1  \n",
      "                                             aten::div_         2.53%      62.000us         2.77%      68.000us      68.000us           0 b           0 b           0 b           0 b             1  \n",
      "                                       cudaLaunchKernel         0.24%       6.000us         0.24%       6.000us       6.000us           0 b           0 b           0 b           0 b             1  \n",
      "                                               [memory]         0.00%       0.000us         0.00%       0.000us       0.000us           8 b           8 b           0 b           0 b             1  \n",
      "                                             aten::div_         0.86%      21.000us         1.10%      27.000us      27.000us           0 b           0 b           0 b           0 b             1  \n",
      "                                       cudaLaunchKernel         0.24%       6.000us         0.24%       6.000us       6.000us           0 b           0 b           0 b           0 b             1  \n",
      "                                              aten::sum         1.35%      33.000us         1.67%      41.000us      41.000us           0 b           0 b         512 b         512 b             1  \n",
      "                                       aten::as_strided         0.04%       1.000us         0.04%       1.000us       1.000us           0 b           0 b           0 b           0 b             1  \n",
      "-------------------------------------------------------  ------------  ------------  ------------  ------------  ------------  ------------  ------------  ------------  ------------  ------------  \n",
      "Self CPU time total: 2.451ms\n",
      "\n"
     ]
    }
   ],
   "source": [
    "print(prof)"
   ]
  },
  {
   "cell_type": "markdown",
   "id": "c325f31d",
   "metadata": {},
   "source": [
    "This is also not update to date with the above implementation"
   ]
  },
  {
   "cell_type": "code",
   "execution_count": null,
   "id": "2f364910-e0ab-44ea-b1f2-e55e7332d4ac",
   "metadata": {},
   "outputs": [],
   "source": [
    "@patch\n",
    "def __call__(cls:SoupCon, \n",
    "             inp:torch.FloatTensor, \n",
    "             targ:torch.LongTensor, \n",
    "             n_inp2targ:torch.LongTensor,\n",
    "             inp2targ_idx:torch.LongTensor,\n",
    "             **kwargs):\n",
    "    _, idx, cnt = torch.unique(inp2targ_idx, return_inverse=True, return_counts=True)\n",
    "    _, idx_sorted = torch.sort(idx)\n",
    "    targ_idx = idx_sorted[torch.cat([torch.zeros(1, dtype=inp2targ_idx.dtype, device=inp2targ_idx.device), cnt.cumsum(0)[:-1]])]\n",
    "    \n",
    "    pe = get_sparse_matrix(idx, n_inp2targ).to_dense()\n",
    "    \n",
    "    s = -F.log_softmax(inp@targ[targ_idx].T, dim=1)\n",
    "    loss = []\n",
    "    for i,p in zip(s, pe):\n",
    "        ps = i*p\n",
    "        loss.append(ps)\n",
    "    loss = torch.hstack(loss)\n",
    "    if cls.reduce == 'mean': return loss.sum()/pe.sum()\n",
    "    elif cls.reduce == 'sum': return loss.sum()\n",
    "    else: raise ValueError(f'`reduction` cannot be `{cls.reduction}`')\n",
    "        "
   ]
  },
  {
   "cell_type": "code",
   "execution_count": null,
   "id": "41b45c6c-7919-4648-833d-c8b75c12170c",
   "metadata": {},
   "outputs": [
    {
     "data": {
      "text/plain": [
       "tensor(10.6172, device='cuda:0', grad_fn=<DivBackward0>)"
      ]
     },
     "execution_count": null,
     "metadata": {},
     "output_type": "execute_result"
    }
   ],
   "source": [
    "loss = scn_fn(data_repr, lbl2data_repr, lbl2data_data2ptr, lbl2data_idx); loss"
   ]
  },
  {
   "cell_type": "code",
   "execution_count": null,
   "id": "3580b6cf-0270-40e6-bbb2-d6a52bd65691",
   "metadata": {},
   "outputs": [
    {
     "name": "stderr",
     "output_type": "stream",
     "text": [
      "STAGE:2024-04-14 01:54:12 12684:12684 ActivityProfilerController.cpp:314] Completed Stage: Warm Up\n",
      "STAGE:2024-04-14 01:54:12 12684:12684 ActivityProfilerController.cpp:320] Completed Stage: Collection\n",
      "STAGE:2024-04-14 01:54:12 12684:12684 ActivityProfilerController.cpp:324] Completed Stage: Post Processing\n"
     ]
    },
    {
     "name": "stdout",
     "output_type": "stream",
     "text": [
      "tensor(13.0039, device='cuda:0', grad_fn=<SumBackward0>)\n"
     ]
    }
   ],
   "source": [
    "with profiler.profile(with_stack=True, profile_memory=True) as prof:\n",
    "    loss = scn_fn(data_repr, lbl2data_repr, lbl2data_data2ptr)\n",
    "    print(loss)"
   ]
  },
  {
   "cell_type": "code",
   "execution_count": null,
   "id": "c3e13a4b-6055-48be-9da7-48f79171d2a7",
   "metadata": {},
   "outputs": [
    {
     "name": "stdout",
     "output_type": "stream",
     "text": [
      "-----------------------------  ------------  ------------  ------------  ------------  ------------  ------------  ------------  ------------  ------------  ------------  \n",
      "                         Name    Self CPU %      Self CPU   CPU total %     CPU total  CPU time avg       CPU Mem  Self CPU Mem      CUDA Mem  Self CUDA Mem    # of Calls  \n",
      "-----------------------------  ------------  ------------  ------------  ------------  ------------  ------------  ------------  ------------  ------------  ------------  \n",
      "                aten::numpy_T         0.02%      10.000us         0.11%      59.000us      59.000us           0 b           0 b           0 b           0 b             1  \n",
      "                aten::permute         0.07%      40.000us         0.09%      49.000us      49.000us           0 b           0 b           0 b           0 b             1  \n",
      "             aten::as_strided         0.02%       9.000us         0.02%       9.000us       9.000us           0 b           0 b           0 b           0 b             1  \n",
      "                 aten::matmul         0.03%      14.000us         1.52%     843.000us     843.000us           0 b           0 b       2.12 Mb           0 b             1  \n",
      "                     aten::mm         1.33%     738.000us         1.49%     829.000us     829.000us           0 b           0 b       2.12 Mb       2.12 Mb             1  \n",
      "              cudaMemsetAsync         0.09%      52.000us         0.09%      52.000us      52.000us           0 b           0 b           0 b           0 b             1  \n",
      "             cudaLaunchKernel         0.07%      39.000us         0.07%      39.000us      39.000us           0 b           0 b           0 b           0 b             1  \n",
      "            aten::log_softmax         0.02%      11.000us         0.12%      65.000us      65.000us           0 b           0 b       2.12 Mb           0 b             1  \n",
      "           aten::_log_softmax         0.07%      41.000us         0.10%      54.000us      54.000us           0 b           0 b       2.12 Mb       2.12 Mb             1  \n",
      "             cudaLaunchKernel         0.02%      13.000us         0.02%      13.000us      13.000us           0 b           0 b           0 b           0 b             1  \n",
      "                     [memory]         0.00%       0.000us         0.00%       0.000us       0.000us           0 b           0 b      -2.12 Mb      -2.12 Mb             1  \n",
      "                    aten::neg         0.06%      34.000us         0.08%      42.000us      42.000us           0 b           0 b       2.12 Mb       2.12 Mb             1  \n",
      "             cudaLaunchKernel         0.01%       8.000us         0.01%       8.000us       8.000us           0 b           0 b           0 b           0 b             1  \n",
      "                 aten::unbind         1.95%       1.081ms         3.04%       1.688ms       1.688ms           0 b           0 b           0 b           0 b             1  \n",
      "                 aten::select         0.02%      13.000us         0.03%      15.000us      15.000us           0 b           0 b           0 b           0 b             1  \n",
      "             aten::as_strided         0.00%       2.000us         0.00%       2.000us       2.000us           0 b           0 b           0 b           0 b             1  \n",
      "                 aten::select         0.00%       1.000us         0.00%       1.000us       1.000us           0 b           0 b           0 b           0 b             1  \n",
      "             aten::as_strided         0.00%       0.000us         0.00%       0.000us       0.000us           0 b           0 b           0 b           0 b             1  \n",
      "                 aten::select         0.00%       2.000us         0.00%       2.000us       2.000us           0 b           0 b           0 b           0 b             1  \n",
      "             aten::as_strided         0.00%       0.000us         0.00%       0.000us       0.000us           0 b           0 b           0 b           0 b             1  \n",
      "                 aten::select         0.00%       1.000us         0.00%       1.000us       1.000us           0 b           0 b           0 b           0 b             1  \n",
      "             aten::as_strided         0.00%       0.000us         0.00%       0.000us       0.000us           0 b           0 b           0 b           0 b             1  \n",
      "                 aten::select         0.00%       1.000us         0.00%       1.000us       1.000us           0 b           0 b           0 b           0 b             1  \n",
      "             aten::as_strided         0.00%       0.000us         0.00%       0.000us       0.000us           0 b           0 b           0 b           0 b             1  \n",
      "                 aten::select         0.00%       1.000us         0.00%       1.000us       1.000us           0 b           0 b           0 b           0 b             1  \n",
      "             aten::as_strided         0.00%       0.000us         0.00%       0.000us       0.000us           0 b           0 b           0 b           0 b             1  \n",
      "                 aten::select         0.00%       1.000us         0.00%       1.000us       1.000us           0 b           0 b           0 b           0 b             1  \n",
      "             aten::as_strided         0.00%       0.000us         0.00%       0.000us       0.000us           0 b           0 b           0 b           0 b             1  \n",
      "                 aten::select         0.00%       1.000us         0.00%       1.000us       1.000us           0 b           0 b           0 b           0 b             1  \n",
      "             aten::as_strided         0.00%       0.000us         0.00%       0.000us       0.000us           0 b           0 b           0 b           0 b             1  \n",
      "                 aten::select         0.00%       1.000us         0.00%       1.000us       1.000us           0 b           0 b           0 b           0 b             1  \n",
      "             aten::as_strided         0.00%       0.000us         0.00%       0.000us       0.000us           0 b           0 b           0 b           0 b             1  \n",
      "                 aten::select         0.00%       1.000us         0.00%       1.000us       1.000us           0 b           0 b           0 b           0 b             1  \n",
      "             aten::as_strided         0.00%       0.000us         0.00%       0.000us       0.000us           0 b           0 b           0 b           0 b             1  \n",
      "                 aten::select         0.00%       2.000us         0.00%       2.000us       2.000us           0 b           0 b           0 b           0 b             1  \n",
      "             aten::as_strided         0.00%       0.000us         0.00%       0.000us       0.000us           0 b           0 b           0 b           0 b             1  \n",
      "                 aten::select         0.00%       1.000us         0.00%       1.000us       1.000us           0 b           0 b           0 b           0 b             1  \n",
      "             aten::as_strided         0.00%       0.000us         0.00%       0.000us       0.000us           0 b           0 b           0 b           0 b             1  \n",
      "                 aten::select         0.00%       1.000us         0.00%       1.000us       1.000us           0 b           0 b           0 b           0 b             1  \n",
      "             aten::as_strided         0.00%       0.000us         0.00%       0.000us       0.000us           0 b           0 b           0 b           0 b             1  \n",
      "                 aten::select         0.00%       1.000us         0.00%       1.000us       1.000us           0 b           0 b           0 b           0 b             1  \n",
      "             aten::as_strided         0.00%       0.000us         0.00%       0.000us       0.000us           0 b           0 b           0 b           0 b             1  \n",
      "                 aten::select         0.00%       1.000us         0.00%       1.000us       1.000us           0 b           0 b           0 b           0 b             1  \n",
      "             aten::as_strided         0.00%       0.000us         0.00%       0.000us       0.000us           0 b           0 b           0 b           0 b             1  \n",
      "                 aten::select         0.00%       1.000us         0.00%       1.000us       1.000us           0 b           0 b           0 b           0 b             1  \n",
      "             aten::as_strided         0.00%       0.000us         0.00%       0.000us       0.000us           0 b           0 b           0 b           0 b             1  \n",
      "                 aten::select         0.00%       1.000us         0.00%       1.000us       1.000us           0 b           0 b           0 b           0 b             1  \n",
      "             aten::as_strided         0.00%       0.000us         0.00%       0.000us       0.000us           0 b           0 b           0 b           0 b             1  \n",
      "                 aten::select         0.00%       1.000us         0.00%       1.000us       1.000us           0 b           0 b           0 b           0 b             1  \n",
      "             aten::as_strided         0.00%       0.000us         0.00%       0.000us       0.000us           0 b           0 b           0 b           0 b             1  \n",
      "                 aten::select         0.00%       1.000us         0.00%       1.000us       1.000us           0 b           0 b           0 b           0 b             1  \n",
      "             aten::as_strided         0.00%       0.000us         0.00%       0.000us       0.000us           0 b           0 b           0 b           0 b             1  \n",
      "                 aten::select         0.00%       2.000us         0.00%       2.000us       2.000us           0 b           0 b           0 b           0 b             1  \n",
      "             aten::as_strided         0.00%       0.000us         0.00%       0.000us       0.000us           0 b           0 b           0 b           0 b             1  \n",
      "                 aten::select         0.00%       2.000us         0.00%       2.000us       2.000us           0 b           0 b           0 b           0 b             1  \n",
      "             aten::as_strided         0.00%       0.000us         0.00%       0.000us       0.000us           0 b           0 b           0 b           0 b             1  \n",
      "                 aten::select         0.00%       2.000us         0.00%       2.000us       2.000us           0 b           0 b           0 b           0 b             1  \n",
      "             aten::as_strided         0.00%       0.000us         0.00%       0.000us       0.000us           0 b           0 b           0 b           0 b             1  \n",
      "                 aten::select         0.00%       2.000us         0.00%       2.000us       2.000us           0 b           0 b           0 b           0 b             1  \n",
      "             aten::as_strided         0.00%       0.000us         0.00%       0.000us       0.000us           0 b           0 b           0 b           0 b             1  \n",
      "                 aten::select         0.00%       1.000us         0.00%       1.000us       1.000us           0 b           0 b           0 b           0 b             1  \n",
      "             aten::as_strided         0.00%       0.000us         0.00%       0.000us       0.000us           0 b           0 b           0 b           0 b             1  \n",
      "                 aten::select         0.00%       1.000us         0.00%       1.000us       1.000us           0 b           0 b           0 b           0 b             1  \n",
      "             aten::as_strided         0.00%       0.000us         0.00%       0.000us       0.000us           0 b           0 b           0 b           0 b             1  \n",
      "                 aten::select         0.00%       1.000us         0.00%       2.000us       2.000us           0 b           0 b           0 b           0 b             1  \n",
      "             aten::as_strided         0.00%       1.000us         0.00%       1.000us       1.000us           0 b           0 b           0 b           0 b             1  \n",
      "                 aten::select         0.00%       1.000us         0.00%       1.000us       1.000us           0 b           0 b           0 b           0 b             1  \n",
      "             aten::as_strided         0.00%       0.000us         0.00%       0.000us       0.000us           0 b           0 b           0 b           0 b             1  \n",
      "                 aten::select         0.00%       1.000us         0.00%       1.000us       1.000us           0 b           0 b           0 b           0 b             1  \n",
      "             aten::as_strided         0.00%       0.000us         0.00%       0.000us       0.000us           0 b           0 b           0 b           0 b             1  \n",
      "                 aten::select         0.00%       1.000us         0.00%       1.000us       1.000us           0 b           0 b           0 b           0 b             1  \n",
      "             aten::as_strided         0.00%       0.000us         0.00%       0.000us       0.000us           0 b           0 b           0 b           0 b             1  \n",
      "                 aten::select         0.00%       1.000us         0.00%       1.000us       1.000us           0 b           0 b           0 b           0 b             1  \n",
      "             aten::as_strided         0.00%       0.000us         0.00%       0.000us       0.000us           0 b           0 b           0 b           0 b             1  \n",
      "                 aten::select         0.00%       2.000us         0.00%       2.000us       2.000us           0 b           0 b           0 b           0 b             1  \n",
      "             aten::as_strided         0.00%       0.000us         0.00%       0.000us       0.000us           0 b           0 b           0 b           0 b             1  \n",
      "                 aten::select         0.00%       1.000us         0.00%       1.000us       1.000us           0 b           0 b           0 b           0 b             1  \n",
      "             aten::as_strided         0.00%       0.000us         0.00%       0.000us       0.000us           0 b           0 b           0 b           0 b             1  \n",
      "                 aten::select         0.00%       1.000us         0.00%       1.000us       1.000us           0 b           0 b           0 b           0 b             1  \n",
      "             aten::as_strided         0.00%       0.000us         0.00%       0.000us       0.000us           0 b           0 b           0 b           0 b             1  \n",
      "                 aten::select         0.00%       2.000us         0.00%       2.000us       2.000us           0 b           0 b           0 b           0 b             1  \n",
      "             aten::as_strided         0.00%       0.000us         0.00%       0.000us       0.000us           0 b           0 b           0 b           0 b             1  \n",
      "                 aten::select         0.00%       1.000us         0.00%       1.000us       1.000us           0 b           0 b           0 b           0 b             1  \n",
      "             aten::as_strided         0.00%       0.000us         0.00%       0.000us       0.000us           0 b           0 b           0 b           0 b             1  \n",
      "                 aten::select         0.00%       1.000us         0.00%       1.000us       1.000us           0 b           0 b           0 b           0 b             1  \n",
      "             aten::as_strided         0.00%       0.000us         0.00%       0.000us       0.000us           0 b           0 b           0 b           0 b             1  \n",
      "                 aten::select         0.00%       1.000us         0.00%       1.000us       1.000us           0 b           0 b           0 b           0 b             1  \n",
      "             aten::as_strided         0.00%       0.000us         0.00%       0.000us       0.000us           0 b           0 b           0 b           0 b             1  \n",
      "                 aten::select         0.00%       1.000us         0.00%       1.000us       1.000us           0 b           0 b           0 b           0 b             1  \n",
      "             aten::as_strided         0.00%       0.000us         0.00%       0.000us       0.000us           0 b           0 b           0 b           0 b             1  \n",
      "                 aten::select         0.00%       1.000us         0.00%       1.000us       1.000us           0 b           0 b           0 b           0 b             1  \n",
      "             aten::as_strided         0.00%       0.000us         0.00%       0.000us       0.000us           0 b           0 b           0 b           0 b             1  \n",
      "                 aten::select         0.00%       1.000us         0.00%       1.000us       1.000us           0 b           0 b           0 b           0 b             1  \n",
      "             aten::as_strided         0.00%       0.000us         0.00%       0.000us       0.000us           0 b           0 b           0 b           0 b             1  \n",
      "                 aten::select         0.00%       1.000us         0.00%       1.000us       1.000us           0 b           0 b           0 b           0 b             1  \n",
      "             aten::as_strided         0.00%       0.000us         0.00%       0.000us       0.000us           0 b           0 b           0 b           0 b             1  \n",
      "                 aten::select         0.00%       1.000us         0.00%       1.000us       1.000us           0 b           0 b           0 b           0 b             1  \n",
      "             aten::as_strided         0.00%       0.000us         0.00%       0.000us       0.000us           0 b           0 b           0 b           0 b             1  \n",
      "                 aten::select         0.00%       1.000us         0.00%       1.000us       1.000us           0 b           0 b           0 b           0 b             1  \n",
      "             aten::as_strided         0.00%       0.000us         0.00%       0.000us       0.000us           0 b           0 b           0 b           0 b             1  \n",
      "-----------------------------  ------------  ------------  ------------  ------------  ------------  ------------  ------------  ------------  ------------  ------------  \n",
      "Self CPU time total: 55.565ms\n",
      "\n"
     ]
    }
   ],
   "source": [
    "print(prof)"
   ]
  },
  {
   "cell_type": "code",
   "execution_count": null,
   "id": "fbcc8eb6-030f-4ace-9340-245fc2203bee",
   "metadata": {},
   "outputs": [],
   "source": []
  }
 ],
 "metadata": {
  "kernelspec": {
   "display_name": "Python 3 (ipykernel)",
   "language": "python",
   "name": "python3"
  },
  "language_info": {
   "codemirror_mode": {
    "name": "ipython",
    "version": 3
   },
   "file_extension": ".py",
   "mimetype": "text/x-python",
   "name": "python",
   "nbconvert_exporter": "python",
   "pygments_lexer": "ipython3",
   "version": "3.10.16"
  }
 },
 "nbformat": 4,
 "nbformat_minor": 5
}
